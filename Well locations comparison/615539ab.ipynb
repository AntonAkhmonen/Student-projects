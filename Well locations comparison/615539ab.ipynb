{
 "cells": [
  {
   "cell_type": "markdown",
   "metadata": {},
   "source": [
    "# Выбор локации для скважины"
   ]
  },
  {
   "cell_type": "markdown",
   "metadata": {},
   "source": [
    "Допустим, вы работаете в добывающей компании «ГлавРосГосНефть». Нужно решить, где бурить новую скважину.\n",
    "\n",
    "Вам предоставлены пробы нефти в трёх регионах: в каждом 10 000 месторождений, где измерили качество нефти и объём её запасов. Постройте модель машинного обучения, которая поможет определить регион, где добыча принесёт наибольшую прибыль. Проанализируйте возможную прибыль и риски техникой *Bootstrap.*\n",
    "\n",
    "Шаги для выбора локации:\n",
    "\n",
    "- В избранном регионе ищут месторождения, для каждого определяют значения признаков;\n",
    "- Строят модель и оценивают объём запасов;\n",
    "- Выбирают месторождения с самым высокими оценками значений. Количество месторождений зависит от бюджета компании и стоимости разработки одной скважины;\n",
    "- Прибыль равна суммарной прибыли отобранных месторождений."
   ]
  },
  {
   "cell_type": "markdown",
   "metadata": {},
   "source": [
    "## Загрузка и подготовка данных"
   ]
  },
  {
   "cell_type": "code",
   "execution_count": 3,
   "metadata": {},
   "outputs": [],
   "source": [
    "import pandas as pd\n",
    "from sklearn.model_selection import train_test_split\n",
    "from sklearn.linear_model import LinearRegression\n",
    "from sklearn.metrics import mean_squared_error\n",
    "from scipy import stats as st\n",
    "import numpy as np\n",
    "from numpy.random import RandomState"
   ]
  },
  {
   "cell_type": "markdown",
   "metadata": {},
   "source": [
    "Загрузка библиотек"
   ]
  },
  {
   "cell_type": "code",
   "execution_count": 4,
   "metadata": {},
   "outputs": [
    {
     "data": {
      "text/html": [
       "<div>\n",
       "<style scoped>\n",
       "    .dataframe tbody tr th:only-of-type {\n",
       "        vertical-align: middle;\n",
       "    }\n",
       "\n",
       "    .dataframe tbody tr th {\n",
       "        vertical-align: top;\n",
       "    }\n",
       "\n",
       "    .dataframe thead th {\n",
       "        text-align: right;\n",
       "    }\n",
       "</style>\n",
       "<table border=\"1\" class=\"dataframe\">\n",
       "  <thead>\n",
       "    <tr style=\"text-align: right;\">\n",
       "      <th></th>\n",
       "      <th>id</th>\n",
       "      <th>f0</th>\n",
       "      <th>f1</th>\n",
       "      <th>f2</th>\n",
       "      <th>product</th>\n",
       "    </tr>\n",
       "  </thead>\n",
       "  <tbody>\n",
       "    <tr>\n",
       "      <th>0</th>\n",
       "      <td>txEyH</td>\n",
       "      <td>0.705745</td>\n",
       "      <td>-0.497823</td>\n",
       "      <td>1.221170</td>\n",
       "      <td>105.280062</td>\n",
       "    </tr>\n",
       "    <tr>\n",
       "      <th>1</th>\n",
       "      <td>2acmU</td>\n",
       "      <td>1.334711</td>\n",
       "      <td>-0.340164</td>\n",
       "      <td>4.365080</td>\n",
       "      <td>73.037750</td>\n",
       "    </tr>\n",
       "    <tr>\n",
       "      <th>2</th>\n",
       "      <td>409Wp</td>\n",
       "      <td>1.022732</td>\n",
       "      <td>0.151990</td>\n",
       "      <td>1.419926</td>\n",
       "      <td>85.265647</td>\n",
       "    </tr>\n",
       "    <tr>\n",
       "      <th>3</th>\n",
       "      <td>iJLyR</td>\n",
       "      <td>-0.032172</td>\n",
       "      <td>0.139033</td>\n",
       "      <td>2.978566</td>\n",
       "      <td>168.620776</td>\n",
       "    </tr>\n",
       "    <tr>\n",
       "      <th>4</th>\n",
       "      <td>Xdl7t</td>\n",
       "      <td>1.988431</td>\n",
       "      <td>0.155413</td>\n",
       "      <td>4.751769</td>\n",
       "      <td>154.036647</td>\n",
       "    </tr>\n",
       "  </tbody>\n",
       "</table>\n",
       "</div>"
      ],
      "text/plain": [
       "      id        f0        f1        f2     product\n",
       "0  txEyH  0.705745 -0.497823  1.221170  105.280062\n",
       "1  2acmU  1.334711 -0.340164  4.365080   73.037750\n",
       "2  409Wp  1.022732  0.151990  1.419926   85.265647\n",
       "3  iJLyR -0.032172  0.139033  2.978566  168.620776\n",
       "4  Xdl7t  1.988431  0.155413  4.751769  154.036647"
      ]
     },
     "execution_count": 4,
     "metadata": {},
     "output_type": "execute_result"
    }
   ],
   "source": [
    "df0 = pd.read_csv('/datasets/geo_data_0.csv')\n",
    "df0.head()"
   ]
  },
  {
   "cell_type": "markdown",
   "metadata": {},
   "source": [
    "Загрузка и ознакомление с данными по первому региону. Параметры соответствуют указанным в условии задачи"
   ]
  },
  {
   "cell_type": "code",
   "execution_count": 5,
   "metadata": {},
   "outputs": [
    {
     "name": "stdout",
     "output_type": "stream",
     "text": [
      "<class 'pandas.core.frame.DataFrame'>\n",
      "RangeIndex: 100000 entries, 0 to 99999\n",
      "Data columns (total 5 columns):\n",
      " #   Column   Non-Null Count   Dtype  \n",
      "---  ------   --------------   -----  \n",
      " 0   id       100000 non-null  object \n",
      " 1   f0       100000 non-null  float64\n",
      " 2   f1       100000 non-null  float64\n",
      " 3   f2       100000 non-null  float64\n",
      " 4   product  100000 non-null  float64\n",
      "dtypes: float64(4), object(1)\n",
      "memory usage: 3.8+ MB\n"
     ]
    }
   ],
   "source": [
    "df0.info()"
   ]
  },
  {
   "cell_type": "markdown",
   "metadata": {},
   "source": [
    "Пропуски отсутствуют, формат соответствует назначению данных"
   ]
  },
  {
   "cell_type": "code",
   "execution_count": 6,
   "metadata": {},
   "outputs": [
    {
     "data": {
      "text/html": [
       "<div>\n",
       "<style scoped>\n",
       "    .dataframe tbody tr th:only-of-type {\n",
       "        vertical-align: middle;\n",
       "    }\n",
       "\n",
       "    .dataframe tbody tr th {\n",
       "        vertical-align: top;\n",
       "    }\n",
       "\n",
       "    .dataframe thead th {\n",
       "        text-align: right;\n",
       "    }\n",
       "</style>\n",
       "<table border=\"1\" class=\"dataframe\">\n",
       "  <thead>\n",
       "    <tr style=\"text-align: right;\">\n",
       "      <th></th>\n",
       "      <th>id</th>\n",
       "      <th>f0</th>\n",
       "      <th>f1</th>\n",
       "      <th>f2</th>\n",
       "      <th>product</th>\n",
       "    </tr>\n",
       "  </thead>\n",
       "  <tbody>\n",
       "    <tr>\n",
       "      <th>0</th>\n",
       "      <td>kBEdx</td>\n",
       "      <td>-15.001348</td>\n",
       "      <td>-8.276000</td>\n",
       "      <td>-0.005876</td>\n",
       "      <td>3.179103</td>\n",
       "    </tr>\n",
       "    <tr>\n",
       "      <th>1</th>\n",
       "      <td>62mP7</td>\n",
       "      <td>14.272088</td>\n",
       "      <td>-3.475083</td>\n",
       "      <td>0.999183</td>\n",
       "      <td>26.953261</td>\n",
       "    </tr>\n",
       "    <tr>\n",
       "      <th>2</th>\n",
       "      <td>vyE1P</td>\n",
       "      <td>6.263187</td>\n",
       "      <td>-5.948386</td>\n",
       "      <td>5.001160</td>\n",
       "      <td>134.766305</td>\n",
       "    </tr>\n",
       "    <tr>\n",
       "      <th>3</th>\n",
       "      <td>KcrkZ</td>\n",
       "      <td>-13.081196</td>\n",
       "      <td>-11.506057</td>\n",
       "      <td>4.999415</td>\n",
       "      <td>137.945408</td>\n",
       "    </tr>\n",
       "    <tr>\n",
       "      <th>4</th>\n",
       "      <td>AHL4O</td>\n",
       "      <td>12.702195</td>\n",
       "      <td>-8.147433</td>\n",
       "      <td>5.004363</td>\n",
       "      <td>134.766305</td>\n",
       "    </tr>\n",
       "  </tbody>\n",
       "</table>\n",
       "</div>"
      ],
      "text/plain": [
       "      id         f0         f1        f2     product\n",
       "0  kBEdx -15.001348  -8.276000 -0.005876    3.179103\n",
       "1  62mP7  14.272088  -3.475083  0.999183   26.953261\n",
       "2  vyE1P   6.263187  -5.948386  5.001160  134.766305\n",
       "3  KcrkZ -13.081196 -11.506057  4.999415  137.945408\n",
       "4  AHL4O  12.702195  -8.147433  5.004363  134.766305"
      ]
     },
     "execution_count": 6,
     "metadata": {},
     "output_type": "execute_result"
    }
   ],
   "source": [
    "df1 = pd.read_csv('/datasets/geo_data_1.csv')\n",
    "df1.head()"
   ]
  },
  {
   "cell_type": "markdown",
   "metadata": {},
   "source": [
    "Загрузка и ознакомление с данными по второму региону. Параметры соответствуют указанным в условии задачи"
   ]
  },
  {
   "cell_type": "code",
   "execution_count": 7,
   "metadata": {},
   "outputs": [
    {
     "name": "stdout",
     "output_type": "stream",
     "text": [
      "<class 'pandas.core.frame.DataFrame'>\n",
      "RangeIndex: 100000 entries, 0 to 99999\n",
      "Data columns (total 5 columns):\n",
      " #   Column   Non-Null Count   Dtype  \n",
      "---  ------   --------------   -----  \n",
      " 0   id       100000 non-null  object \n",
      " 1   f0       100000 non-null  float64\n",
      " 2   f1       100000 non-null  float64\n",
      " 3   f2       100000 non-null  float64\n",
      " 4   product  100000 non-null  float64\n",
      "dtypes: float64(4), object(1)\n",
      "memory usage: 3.8+ MB\n"
     ]
    }
   ],
   "source": [
    "df1.info()"
   ]
  },
  {
   "cell_type": "markdown",
   "metadata": {},
   "source": [
    "Пропуски отсутствуют, формат соответствует назначению данных"
   ]
  },
  {
   "cell_type": "code",
   "execution_count": 8,
   "metadata": {},
   "outputs": [
    {
     "data": {
      "text/html": [
       "<div>\n",
       "<style scoped>\n",
       "    .dataframe tbody tr th:only-of-type {\n",
       "        vertical-align: middle;\n",
       "    }\n",
       "\n",
       "    .dataframe tbody tr th {\n",
       "        vertical-align: top;\n",
       "    }\n",
       "\n",
       "    .dataframe thead th {\n",
       "        text-align: right;\n",
       "    }\n",
       "</style>\n",
       "<table border=\"1\" class=\"dataframe\">\n",
       "  <thead>\n",
       "    <tr style=\"text-align: right;\">\n",
       "      <th></th>\n",
       "      <th>id</th>\n",
       "      <th>f0</th>\n",
       "      <th>f1</th>\n",
       "      <th>f2</th>\n",
       "      <th>product</th>\n",
       "    </tr>\n",
       "  </thead>\n",
       "  <tbody>\n",
       "    <tr>\n",
       "      <th>0</th>\n",
       "      <td>fwXo0</td>\n",
       "      <td>-1.146987</td>\n",
       "      <td>0.963328</td>\n",
       "      <td>-0.828965</td>\n",
       "      <td>27.758673</td>\n",
       "    </tr>\n",
       "    <tr>\n",
       "      <th>1</th>\n",
       "      <td>WJtFt</td>\n",
       "      <td>0.262778</td>\n",
       "      <td>0.269839</td>\n",
       "      <td>-2.530187</td>\n",
       "      <td>56.069697</td>\n",
       "    </tr>\n",
       "    <tr>\n",
       "      <th>2</th>\n",
       "      <td>ovLUW</td>\n",
       "      <td>0.194587</td>\n",
       "      <td>0.289035</td>\n",
       "      <td>-5.586433</td>\n",
       "      <td>62.871910</td>\n",
       "    </tr>\n",
       "    <tr>\n",
       "      <th>3</th>\n",
       "      <td>q6cA6</td>\n",
       "      <td>2.236060</td>\n",
       "      <td>-0.553760</td>\n",
       "      <td>0.930038</td>\n",
       "      <td>114.572842</td>\n",
       "    </tr>\n",
       "    <tr>\n",
       "      <th>4</th>\n",
       "      <td>WPMUX</td>\n",
       "      <td>-0.515993</td>\n",
       "      <td>1.716266</td>\n",
       "      <td>5.899011</td>\n",
       "      <td>149.600746</td>\n",
       "    </tr>\n",
       "  </tbody>\n",
       "</table>\n",
       "</div>"
      ],
      "text/plain": [
       "      id        f0        f1        f2     product\n",
       "0  fwXo0 -1.146987  0.963328 -0.828965   27.758673\n",
       "1  WJtFt  0.262778  0.269839 -2.530187   56.069697\n",
       "2  ovLUW  0.194587  0.289035 -5.586433   62.871910\n",
       "3  q6cA6  2.236060 -0.553760  0.930038  114.572842\n",
       "4  WPMUX -0.515993  1.716266  5.899011  149.600746"
      ]
     },
     "execution_count": 8,
     "metadata": {},
     "output_type": "execute_result"
    }
   ],
   "source": [
    "df2 = pd.read_csv('/datasets/geo_data_2.csv')\n",
    "df2.head()"
   ]
  },
  {
   "cell_type": "markdown",
   "metadata": {},
   "source": [
    "Загрузка и ознакомление с данными по третьему региону. Параметры соответствуют указанным в условии задачи"
   ]
  },
  {
   "cell_type": "code",
   "execution_count": 9,
   "metadata": {},
   "outputs": [
    {
     "name": "stdout",
     "output_type": "stream",
     "text": [
      "<class 'pandas.core.frame.DataFrame'>\n",
      "RangeIndex: 100000 entries, 0 to 99999\n",
      "Data columns (total 5 columns):\n",
      " #   Column   Non-Null Count   Dtype  \n",
      "---  ------   --------------   -----  \n",
      " 0   id       100000 non-null  object \n",
      " 1   f0       100000 non-null  float64\n",
      " 2   f1       100000 non-null  float64\n",
      " 3   f2       100000 non-null  float64\n",
      " 4   product  100000 non-null  float64\n",
      "dtypes: float64(4), object(1)\n",
      "memory usage: 3.8+ MB\n"
     ]
    }
   ],
   "source": [
    "df2.info()"
   ]
  },
  {
   "cell_type": "markdown",
   "metadata": {},
   "source": [
    "Пропуски отсутствуют, формат соответствует назначению данных"
   ]
  },
  {
   "cell_type": "markdown",
   "metadata": {},
   "source": [
    "## Обучение и проверка модели"
   ]
  },
  {
   "cell_type": "markdown",
   "metadata": {},
   "source": [
    "### Первый регион"
   ]
  },
  {
   "cell_type": "code",
   "execution_count": 10,
   "metadata": {},
   "outputs": [
    {
     "data": {
      "text/html": [
       "<div>\n",
       "<style scoped>\n",
       "    .dataframe tbody tr th:only-of-type {\n",
       "        vertical-align: middle;\n",
       "    }\n",
       "\n",
       "    .dataframe tbody tr th {\n",
       "        vertical-align: top;\n",
       "    }\n",
       "\n",
       "    .dataframe thead th {\n",
       "        text-align: right;\n",
       "    }\n",
       "</style>\n",
       "<table border=\"1\" class=\"dataframe\">\n",
       "  <thead>\n",
       "    <tr style=\"text-align: right;\">\n",
       "      <th></th>\n",
       "      <th>f0</th>\n",
       "      <th>f1</th>\n",
       "      <th>f2</th>\n",
       "    </tr>\n",
       "  </thead>\n",
       "  <tbody>\n",
       "    <tr>\n",
       "      <th>0</th>\n",
       "      <td>0.705745</td>\n",
       "      <td>-0.497823</td>\n",
       "      <td>1.221170</td>\n",
       "    </tr>\n",
       "    <tr>\n",
       "      <th>1</th>\n",
       "      <td>1.334711</td>\n",
       "      <td>-0.340164</td>\n",
       "      <td>4.365080</td>\n",
       "    </tr>\n",
       "    <tr>\n",
       "      <th>2</th>\n",
       "      <td>1.022732</td>\n",
       "      <td>0.151990</td>\n",
       "      <td>1.419926</td>\n",
       "    </tr>\n",
       "    <tr>\n",
       "      <th>3</th>\n",
       "      <td>-0.032172</td>\n",
       "      <td>0.139033</td>\n",
       "      <td>2.978566</td>\n",
       "    </tr>\n",
       "    <tr>\n",
       "      <th>4</th>\n",
       "      <td>1.988431</td>\n",
       "      <td>0.155413</td>\n",
       "      <td>4.751769</td>\n",
       "    </tr>\n",
       "  </tbody>\n",
       "</table>\n",
       "</div>"
      ],
      "text/plain": [
       "         f0        f1        f2\n",
       "0  0.705745 -0.497823  1.221170\n",
       "1  1.334711 -0.340164  4.365080\n",
       "2  1.022732  0.151990  1.419926\n",
       "3 -0.032172  0.139033  2.978566\n",
       "4  1.988431  0.155413  4.751769"
      ]
     },
     "execution_count": 10,
     "metadata": {},
     "output_type": "execute_result"
    }
   ],
   "source": [
    "features0 = df0.drop(['id', 'product'], axis=1)\n",
    "features0.head()"
   ]
  },
  {
   "cell_type": "markdown",
   "metadata": {},
   "source": [
    "Выделены признаки. Product является целевым признаком, а id неинформативным, то есть не влияющим на целевой. Соответственно, они удалены"
   ]
  },
  {
   "cell_type": "code",
   "execution_count": 11,
   "metadata": {},
   "outputs": [
    {
     "data": {
      "text/plain": [
       "0    105.280062\n",
       "1     73.037750\n",
       "2     85.265647\n",
       "3    168.620776\n",
       "4    154.036647\n",
       "Name: product, dtype: float64"
      ]
     },
     "execution_count": 11,
     "metadata": {},
     "output_type": "execute_result"
    }
   ],
   "source": [
    "target0 = df0['product']\n",
    "target0.head()"
   ]
  },
  {
   "cell_type": "markdown",
   "metadata": {},
   "source": [
    "Выделен целевой признак"
   ]
  },
  {
   "cell_type": "code",
   "execution_count": 12,
   "metadata": {},
   "outputs": [
    {
     "data": {
      "text/plain": [
       "(75000, 3)"
      ]
     },
     "execution_count": 12,
     "metadata": {},
     "output_type": "execute_result"
    }
   ],
   "source": [
    "features0_train, features0_valid, target0_train, target0_valid = train_test_split(features0, target0, test_size=0.25, random_state=12345)\n",
    "features0_train.shape"
   ]
  },
  {
   "cell_type": "markdown",
   "metadata": {},
   "source": [
    "Выборка разделена на тестовую и валидационную в рекомендованном соотношении 3:1"
   ]
  },
  {
   "cell_type": "code",
   "execution_count": 13,
   "metadata": {},
   "outputs": [
    {
     "name": "stdout",
     "output_type": "stream",
     "text": [
      "Средний запас предсказанного сырья: 92.59256778438035\n",
      "RMSE предсказания: 37.5794217150813\n"
     ]
    }
   ],
   "source": [
    "model = LinearRegression()\n",
    "model.fit(features0_train, target0_train)\n",
    "predictions0_valid = model.predict(features0_valid)\n",
    "mean0 = predictions0_valid.mean()\n",
    "print('Средний запас предсказанного сырья:', mean0)\n",
    "RMSE0 = mean_squared_error (target0_valid, predictions0_valid) ** 0.5\n",
    "print('RMSE предсказания:', RMSE0)"
   ]
  },
  {
   "cell_type": "markdown",
   "metadata": {},
   "source": [
    "В соответствии с условиями задачи обучена модель линейной регрессии. Рассчитан средний запас и стандартное отклонение для первого региона "
   ]
  },
  {
   "cell_type": "markdown",
   "metadata": {},
   "source": [
    "### Второй регион\n",
    "Порядок действий аналогичен первому, поэтому я не комментирую отдельно каждый шаг"
   ]
  },
  {
   "cell_type": "code",
   "execution_count": 14,
   "metadata": {},
   "outputs": [
    {
     "name": "stdout",
     "output_type": "stream",
     "text": [
      "Средний запас предсказанного сырья: 68.728546895446\n",
      "RMSE предсказания: 0.893099286775617\n"
     ]
    }
   ],
   "source": [
    "features1 = df1.drop(['id', 'product'], axis=1)\n",
    "target1 = df1['product']\n",
    "features1_train, features1_valid, target1_train, target1_valid = train_test_split(features1, target1, test_size=0.25, random_state=12345)\n",
    "model = LinearRegression()\n",
    "model.fit(features1_train, target1_train)\n",
    "predictions1_valid = model.predict(features1_valid)\n",
    "mean1 = predictions1_valid.mean()\n",
    "print('Средний запас предсказанного сырья:', mean1)\n",
    "RMSE1 = mean_squared_error (target1_valid, predictions1_valid) ** 0.5\n",
    "print('RMSE предсказания:', RMSE1)"
   ]
  },
  {
   "cell_type": "markdown",
   "metadata": {},
   "source": [
    "Обучена модель линейной регрессии, рассчитан средний запас и стандартное отклонение для второго региона. По сравнению с первым регионом средний запас сырья ниже примерно на четверть. Но при этом стандартная ошибка меньше почти в 50 раз."
   ]
  },
  {
   "cell_type": "markdown",
   "metadata": {},
   "source": [
    "### Третий регион\n",
    "Порядок действий аналогичен предыдущим"
   ]
  },
  {
   "cell_type": "code",
   "execution_count": 15,
   "metadata": {},
   "outputs": [
    {
     "name": "stdout",
     "output_type": "stream",
     "text": [
      "Средний запас предсказанного сырья: 94.96504596800489\n",
      "RMSE предсказания: 40.02970873393434\n"
     ]
    }
   ],
   "source": [
    "features2 = df2.drop(['id', 'product'], axis=1)\n",
    "target2 = df2['product']\n",
    "features2_train, features2_valid, target2_train, target2_valid = train_test_split(features2, target2, test_size=0.25, random_state=12345)\n",
    "model = LinearRegression()\n",
    "model.fit(features2_train, target2_train)\n",
    "predictions2_valid = model.predict(features2_valid)\n",
    "mean2 = predictions2_valid.mean()\n",
    "print('Средний запас предсказанного сырья:', mean2)\n",
    "RMSE2 = mean_squared_error (target2_valid, predictions2_valid) ** 0.5\n",
    "print('RMSE предсказания:', RMSE2)"
   ]
  },
  {
   "cell_type": "markdown",
   "metadata": {},
   "source": [
    "Обучена модель линейной регрессии, рассчитан средний запас и стандартное отклонение для третьего региона. Результаты близки к показателям первого. Обобщая можно отметить что первый и третий регион схожи между собой по ключевым показателям, а второй меньше по среднему ожидаемому показателю запасов, но характеризуется значительно более высокой  точностью предсказаний"
   ]
  },
  {
   "cell_type": "markdown",
   "metadata": {},
   "source": [
    "## Подготовка к расчёту прибыли"
   ]
  },
  {
   "cell_type": "code",
   "execution_count": 16,
   "metadata": {},
   "outputs": [
    {
     "name": "stdout",
     "output_type": "stream",
     "text": [
      "Минимальный объем запасов в регионе для достижения точки безубыточности составляет: 22222.222222222223\n",
      "Средний объем запасов в скважине для достижения точки безубыточности составляет: 111.11111111111111\n"
     ]
    }
   ],
   "source": [
    "outlay = 10000000000\n",
    "margin = 450000\n",
    "m_wells = 500\n",
    "n_wells = 200\n",
    "min_region = outlay / margin\n",
    "mean_well = min_region / n_wells\n",
    "print('Минимальный объем запасов в регионе для достижения точки безубыточности составляет:', min_region)\n",
    "print('Средний объем запасов в скважине для достижения точки безубыточности составляет:', mean_well)"
   ]
  },
  {
   "cell_type": "markdown",
   "metadata": {},
   "source": [
    "Добавлены следующие переменные. По условиям задачи: outlay - расходы на добычу в регионе, margin - переменный доход от тысячи баррелей, m_wells - количество скважин для исследования, n_wells - количество выбранных лучших скважин. Рассчитываемые переменные: min_region - минимальный объем сырья для достижения точки безубыточности, mean_well - средний запас в скважине с учетом их количества. Можно отметить что необходимый для достижения безубыточности средний объем запасов в 111 тысяч баррелей превышает средние предсказанные значения, которые составляют 92, 68 и 94 тб соответственно. Следовательно, разработка большей части скважин является убыточной"
   ]
  },
  {
   "cell_type": "markdown",
   "metadata": {},
   "source": [
    "## Расчёт прибыли и рисков "
   ]
  },
  {
   "cell_type": "markdown",
   "metadata": {},
   "source": [
    "### Базовый расчет прибыли"
   ]
  },
  {
   "cell_type": "code",
   "execution_count": 17,
   "metadata": {},
   "outputs": [],
   "source": [
    "def simple_profit(product):\n",
    "    profit = product * margin - outlay \n",
    "    return profit"
   ]
  },
  {
   "cell_type": "markdown",
   "metadata": {},
   "source": [
    " Функция для расчета прибыли по скважинам"
   ]
  },
  {
   "cell_type": "code",
   "execution_count": 18,
   "metadata": {},
   "outputs": [
    {
     "data": {
      "text/plain": [
       "3.99604887746513"
      ]
     },
     "metadata": {},
     "output_type": "display_data"
    }
   ],
   "source": [
    "predictions0_sorted = pd.Series(predictions0_valid)\n",
    "predictions0_sorted = predictions0_sorted.sort_values(ascending=False)\n",
    "predictions0_selected = predictions0_sorted[:n_wells]\n",
    "result0 = simple_profit(predictions0_selected.sum())/1000000000\n",
    "display(result0)"
   ]
  },
  {
   "cell_type": "markdown",
   "metadata": {},
   "source": [
    "В данной ячейке рассчитана прибыль (в миллиардах рублей) от добычи нефти по 200 лучшим скважинам в первом регионе"
   ]
  },
  {
   "cell_type": "code",
   "execution_count": 19,
   "metadata": {},
   "outputs": [
    {
     "data": {
      "text/plain": [
       "2.4857120519735414"
      ]
     },
     "metadata": {},
     "output_type": "display_data"
    }
   ],
   "source": [
    "predictions1_sorted = pd.Series(predictions1_valid)\n",
    "predictions1_sorted = predictions1_sorted.sort_values(ascending=False)\n",
    "predictions1_selected = predictions1_sorted[:n_wells]\n",
    "result1 = simple_profit(predictions1_selected.sum())/1000000000\n",
    "display(result1)"
   ]
  },
  {
   "cell_type": "markdown",
   "metadata": {},
   "source": [
    "Расчитана прибыль в миллиардах рублей от добычи нефти по 200 лучшим скважинам во втором регионе"
   ]
  },
  {
   "cell_type": "code",
   "execution_count": 20,
   "metadata": {},
   "outputs": [
    {
     "data": {
      "text/plain": [
       "3.3217543962432554"
      ]
     },
     "metadata": {},
     "output_type": "display_data"
    }
   ],
   "source": [
    "predictions2_sorted = pd.Series(predictions2_valid)\n",
    "predictions2_sorted = predictions2_sorted.sort_values(ascending=False)\n",
    "predictions2_selected = predictions2_sorted[:n_wells]\n",
    "result2 = simple_profit(predictions2_selected.sum())/1000000000\n",
    "display(result2)"
   ]
  },
  {
   "cell_type": "markdown",
   "metadata": {},
   "source": [
    "Расчитана прибыль в миллиардах рублей от добычи нефти по 200 лучшим скважинам в третьем регионе. Можно отметить что наиболее перспективным является первый регион, далее идет третий и замыкает тройку второй регион"
   ]
  },
  {
   "cell_type": "markdown",
   "metadata": {},
   "source": [
    "### Оценка рисков"
   ]
  },
  {
   "cell_type": "code",
   "execution_count": 21,
   "metadata": {},
   "outputs": [],
   "source": [
    "def boot_profit(target, predictions):\n",
    "    profit = 0\n",
    "    pred_sorted = predictions.sort_values(ascending=False).head(n_wells)\n",
    "    selected = target[pred_sorted.index][:n_wells]\n",
    "    for well in selected:\n",
    "        profit += (well-mean_well)*margin\n",
    "    return profit\n",
    "\n",
    "def bootstrap (target, predictions):\n",
    "    state = np.random.RandomState(12345)\n",
    "    values = []\n",
    "    for i in range(1000):\n",
    "        target_subsample = target.sample(n=m_wells, random_state=state, replace=True)\n",
    "        probs_subsample = (pd.Series(predictions, index=target.index))[target_subsample.index]\n",
    "        values.append(boot_profit(target_subsample, probs_subsample))\n",
    "    values = pd.Series(values)\n",
    "    lower = values.quantile(0.025)/1000000\n",
    "    upper = values.quantile(0.975)/1000000\n",
    "    mean = values.mean()/1000000\n",
    "    risk = (values<0).mean()\n",
    "    print(f'Средняя выручка: {mean:.2f} миллионов рублей')\n",
    "    print(f'95% доверительный интервал от {lower:.2f} миллионов рублей до {upper:.2f} миллионов рублей')\n",
    "    print(f'Риск убытка: {risk:.2f}')       "
   ]
  },
  {
   "cell_type": "code",
   "execution_count": 22,
   "metadata": {},
   "outputs": [
    {
     "name": "stdout",
     "output_type": "stream",
     "text": [
      "Средняя выручка: 425.94 миллионов рублей\n",
      "95% доверительный интервал от -102.09 миллионов рублей до 947.98 миллионов рублей\n",
      "Риск убытка: 0.06\n"
     ]
    }
   ],
   "source": [
    "bootstrap(target0_valid, predictions0_valid)"
   ]
  },
  {
   "cell_type": "markdown",
   "metadata": {},
   "source": [
    "Рассчитаны показатели для первого региона"
   ]
  },
  {
   "cell_type": "code",
   "execution_count": 23,
   "metadata": {},
   "outputs": [
    {
     "name": "stdout",
     "output_type": "stream",
     "text": [
      "Средняя выручка: 515.22 миллионов рублей\n",
      "95% доверительный интервал от 68.87 миллионов рублей до 931.55 миллионов рублей\n",
      "Риск убытка: 0.01\n"
     ]
    }
   ],
   "source": [
    "bootstrap(target1_valid, predictions1_valid)"
   ]
  },
  {
   "cell_type": "markdown",
   "metadata": {},
   "source": [
    "Рассчитаны показатели для второго региона"
   ]
  },
  {
   "cell_type": "code",
   "execution_count": 24,
   "metadata": {},
   "outputs": [
    {
     "name": "stdout",
     "output_type": "stream",
     "text": [
      "Средняя выручка: 435.01 миллионов рублей\n",
      "95% доверительный интервал от -128.88 миллионов рублей до 969.71 миллионов рублей\n",
      "Риск убытка: 0.06\n"
     ]
    }
   ],
   "source": [
    "bootstrap(target2_valid, predictions2_valid)"
   ]
  },
  {
   "cell_type": "markdown",
   "metadata": {},
   "source": [
    "Рассчитаны показатели для третьего региона. Условию задачи о вероятности убытков менее 2,5% соответствует только второй регион. Это косвенно подтверждается RMSE, который для второго региона примерно в 50 раз меньше чем для первого и третьего. Соответственно, только он и может быть рекомендован к разработке"
   ]
  }
 ],
 "metadata": {
  "ExecuteTimeLog": [
   {
    "duration": 1257,
    "start_time": "2022-07-07T06:20:30.128Z"
   },
   {
    "duration": 4,
    "start_time": "2022-07-07T06:20:52.953Z"
   },
   {
    "duration": 368,
    "start_time": "2022-07-07T06:29:17.771Z"
   },
   {
    "duration": 20,
    "start_time": "2022-07-07T06:31:36.311Z"
   },
   {
    "duration": 51,
    "start_time": "2022-07-07T06:42:24.575Z"
   },
   {
    "duration": 200,
    "start_time": "2022-07-07T06:43:40.356Z"
   },
   {
    "duration": 15,
    "start_time": "2022-07-07T06:45:06.156Z"
   },
   {
    "duration": 220,
    "start_time": "2022-07-07T06:47:03.226Z"
   },
   {
    "duration": 64,
    "start_time": "2022-07-07T06:47:37.167Z"
   },
   {
    "duration": 15,
    "start_time": "2022-07-07T06:48:00.195Z"
   },
   {
    "duration": 47,
    "start_time": "2022-07-07T06:48:14.982Z"
   },
   {
    "duration": 3,
    "start_time": "2022-07-07T06:48:45.571Z"
   },
   {
    "duration": 127,
    "start_time": "2022-07-07T06:48:45.579Z"
   },
   {
    "duration": 12,
    "start_time": "2022-07-07T06:48:45.708Z"
   },
   {
    "duration": 126,
    "start_time": "2022-07-07T06:48:45.722Z"
   },
   {
    "duration": 24,
    "start_time": "2022-07-07T06:48:45.849Z"
   },
   {
    "duration": 53,
    "start_time": "2022-07-07T06:48:45.876Z"
   },
   {
    "duration": 0,
    "start_time": "2022-07-07T06:48:45.931Z"
   },
   {
    "duration": 0,
    "start_time": "2022-07-07T06:48:45.932Z"
   },
   {
    "duration": 4,
    "start_time": "2022-07-07T06:49:03.286Z"
   },
   {
    "duration": 132,
    "start_time": "2022-07-07T06:49:03.292Z"
   },
   {
    "duration": 15,
    "start_time": "2022-07-07T06:49:03.426Z"
   },
   {
    "duration": 134,
    "start_time": "2022-07-07T06:49:03.443Z"
   },
   {
    "duration": 14,
    "start_time": "2022-07-07T06:49:03.579Z"
   },
   {
    "duration": 146,
    "start_time": "2022-07-07T06:49:03.594Z"
   },
   {
    "duration": 24,
    "start_time": "2022-07-07T06:49:03.742Z"
   },
   {
    "duration": 5,
    "start_time": "2022-07-07T07:20:54.324Z"
   },
   {
    "duration": 28,
    "start_time": "2022-07-07T07:21:09.149Z"
   },
   {
    "duration": 10,
    "start_time": "2022-07-07T07:23:02.190Z"
   },
   {
    "duration": 3,
    "start_time": "2022-07-07T07:31:43.387Z"
   },
   {
    "duration": 5,
    "start_time": "2022-07-07T07:32:06.340Z"
   },
   {
    "duration": 53,
    "start_time": "2022-07-07T07:35:17.967Z"
   },
   {
    "duration": 11,
    "start_time": "2022-07-07T07:57:26.154Z"
   },
   {
    "duration": 3,
    "start_time": "2022-07-07T07:57:30.690Z"
   },
   {
    "duration": 138,
    "start_time": "2022-07-07T07:57:30.717Z"
   },
   {
    "duration": 28,
    "start_time": "2022-07-07T07:57:30.857Z"
   },
   {
    "duration": 141,
    "start_time": "2022-07-07T07:57:30.887Z"
   },
   {
    "duration": 16,
    "start_time": "2022-07-07T07:57:31.030Z"
   },
   {
    "duration": 142,
    "start_time": "2022-07-07T07:57:31.048Z"
   },
   {
    "duration": 14,
    "start_time": "2022-07-07T07:57:31.192Z"
   },
   {
    "duration": 24,
    "start_time": "2022-07-07T07:57:31.207Z"
   },
   {
    "duration": 24,
    "start_time": "2022-07-07T07:57:31.233Z"
   },
   {
    "duration": 36,
    "start_time": "2022-07-07T07:57:31.259Z"
   },
   {
    "duration": 15,
    "start_time": "2022-07-07T07:58:07.255Z"
   },
   {
    "duration": 19,
    "start_time": "2022-07-07T07:58:39.255Z"
   },
   {
    "duration": 14,
    "start_time": "2022-07-07T07:58:56.603Z"
   },
   {
    "duration": 14,
    "start_time": "2022-07-07T07:59:10.585Z"
   },
   {
    "duration": 47,
    "start_time": "2022-07-08T07:14:50.788Z"
   },
   {
    "duration": 1109,
    "start_time": "2022-07-08T07:14:55.286Z"
   },
   {
    "duration": 405,
    "start_time": "2022-07-08T07:14:56.398Z"
   },
   {
    "duration": 14,
    "start_time": "2022-07-08T07:14:56.805Z"
   },
   {
    "duration": 193,
    "start_time": "2022-07-08T07:14:56.821Z"
   },
   {
    "duration": 16,
    "start_time": "2022-07-08T07:14:57.016Z"
   },
   {
    "duration": 187,
    "start_time": "2022-07-08T07:14:57.034Z"
   },
   {
    "duration": 14,
    "start_time": "2022-07-08T07:14:57.223Z"
   },
   {
    "duration": 14,
    "start_time": "2022-07-08T07:14:57.239Z"
   },
   {
    "duration": 8,
    "start_time": "2022-07-08T07:14:57.254Z"
   },
   {
    "duration": 88,
    "start_time": "2022-07-08T07:14:57.264Z"
   },
   {
    "duration": 0,
    "start_time": "2022-07-08T07:14:57.353Z"
   },
   {
    "duration": 14,
    "start_time": "2022-07-08T07:15:24.074Z"
   },
   {
    "duration": 14,
    "start_time": "2022-07-08T07:15:26.996Z"
   },
   {
    "duration": 3,
    "start_time": "2022-07-08T07:15:32.619Z"
   },
   {
    "duration": 135,
    "start_time": "2022-07-08T07:15:32.644Z"
   },
   {
    "duration": 15,
    "start_time": "2022-07-08T07:15:32.782Z"
   },
   {
    "duration": 136,
    "start_time": "2022-07-08T07:15:32.799Z"
   },
   {
    "duration": 22,
    "start_time": "2022-07-08T07:15:32.936Z"
   },
   {
    "duration": 144,
    "start_time": "2022-07-08T07:15:32.961Z"
   },
   {
    "duration": 18,
    "start_time": "2022-07-08T07:15:33.107Z"
   },
   {
    "duration": 27,
    "start_time": "2022-07-08T07:15:33.127Z"
   },
   {
    "duration": 12,
    "start_time": "2022-07-08T07:15:33.156Z"
   },
   {
    "duration": 14,
    "start_time": "2022-07-08T07:15:33.170Z"
   },
   {
    "duration": 13,
    "start_time": "2022-07-08T07:15:33.186Z"
   },
   {
    "duration": 18,
    "start_time": "2022-07-08T07:19:50.983Z"
   },
   {
    "duration": 13,
    "start_time": "2022-07-08T07:20:11.056Z"
   },
   {
    "duration": 4,
    "start_time": "2022-07-08T07:20:19.307Z"
   },
   {
    "duration": 133,
    "start_time": "2022-07-08T07:20:19.329Z"
   },
   {
    "duration": 14,
    "start_time": "2022-07-08T07:20:19.464Z"
   },
   {
    "duration": 147,
    "start_time": "2022-07-08T07:20:19.480Z"
   },
   {
    "duration": 25,
    "start_time": "2022-07-08T07:20:19.629Z"
   },
   {
    "duration": 126,
    "start_time": "2022-07-08T07:20:19.656Z"
   },
   {
    "duration": 14,
    "start_time": "2022-07-08T07:20:19.783Z"
   },
   {
    "duration": 11,
    "start_time": "2022-07-08T07:20:19.799Z"
   },
   {
    "duration": 35,
    "start_time": "2022-07-08T07:20:19.811Z"
   },
   {
    "duration": 15,
    "start_time": "2022-07-08T07:20:19.848Z"
   },
   {
    "duration": 18,
    "start_time": "2022-07-08T07:20:19.865Z"
   },
   {
    "duration": 9,
    "start_time": "2022-07-08T07:29:40.994Z"
   },
   {
    "duration": 3,
    "start_time": "2022-07-08T07:29:45.043Z"
   },
   {
    "duration": 132,
    "start_time": "2022-07-08T07:29:45.066Z"
   },
   {
    "duration": 13,
    "start_time": "2022-07-08T07:29:45.200Z"
   },
   {
    "duration": 142,
    "start_time": "2022-07-08T07:29:45.215Z"
   },
   {
    "duration": 15,
    "start_time": "2022-07-08T07:29:45.358Z"
   },
   {
    "duration": 142,
    "start_time": "2022-07-08T07:29:45.375Z"
   },
   {
    "duration": 30,
    "start_time": "2022-07-08T07:29:45.518Z"
   },
   {
    "duration": 10,
    "start_time": "2022-07-08T07:29:45.550Z"
   },
   {
    "duration": 7,
    "start_time": "2022-07-08T07:29:45.562Z"
   },
   {
    "duration": 21,
    "start_time": "2022-07-08T07:29:45.570Z"
   },
   {
    "duration": 55,
    "start_time": "2022-07-08T07:29:45.593Z"
   },
   {
    "duration": 12,
    "start_time": "2022-07-08T07:30:29.424Z"
   },
   {
    "duration": 3,
    "start_time": "2022-07-08T07:30:32.925Z"
   },
   {
    "duration": 127,
    "start_time": "2022-07-08T07:30:32.945Z"
   },
   {
    "duration": 13,
    "start_time": "2022-07-08T07:30:33.074Z"
   },
   {
    "duration": 128,
    "start_time": "2022-07-08T07:30:33.089Z"
   },
   {
    "duration": 13,
    "start_time": "2022-07-08T07:30:33.219Z"
   },
   {
    "duration": 126,
    "start_time": "2022-07-08T07:30:33.246Z"
   },
   {
    "duration": 13,
    "start_time": "2022-07-08T07:30:33.373Z"
   },
   {
    "duration": 10,
    "start_time": "2022-07-08T07:30:33.388Z"
   },
   {
    "duration": 8,
    "start_time": "2022-07-08T07:30:33.399Z"
   },
   {
    "duration": 45,
    "start_time": "2022-07-08T07:30:33.408Z"
   },
   {
    "duration": 19,
    "start_time": "2022-07-08T07:30:33.454Z"
   },
   {
    "duration": 75,
    "start_time": "2022-07-08T07:36:04.970Z"
   },
   {
    "duration": 12,
    "start_time": "2022-07-08T07:36:14.072Z"
   },
   {
    "duration": 20,
    "start_time": "2022-07-08T07:40:44.009Z"
   },
   {
    "duration": 48,
    "start_time": "2022-07-08T07:44:07.299Z"
   },
   {
    "duration": 4,
    "start_time": "2022-07-08T07:45:51.283Z"
   },
   {
    "duration": 128,
    "start_time": "2022-07-08T07:45:51.299Z"
   },
   {
    "duration": 21,
    "start_time": "2022-07-08T07:45:51.429Z"
   },
   {
    "duration": 139,
    "start_time": "2022-07-08T07:45:51.451Z"
   },
   {
    "duration": 14,
    "start_time": "2022-07-08T07:45:51.592Z"
   },
   {
    "duration": 139,
    "start_time": "2022-07-08T07:45:51.609Z"
   },
   {
    "duration": 16,
    "start_time": "2022-07-08T07:45:51.750Z"
   },
   {
    "duration": 11,
    "start_time": "2022-07-08T07:45:51.769Z"
   },
   {
    "duration": 11,
    "start_time": "2022-07-08T07:45:51.782Z"
   },
   {
    "duration": 19,
    "start_time": "2022-07-08T07:45:51.794Z"
   },
   {
    "duration": 131,
    "start_time": "2022-07-08T07:45:51.815Z"
   },
   {
    "duration": 16,
    "start_time": "2022-07-08T07:47:46.117Z"
   },
   {
    "duration": 16,
    "start_time": "2022-07-08T07:48:00.858Z"
   },
   {
    "duration": 18,
    "start_time": "2022-07-08T08:03:20.541Z"
   },
   {
    "duration": 9,
    "start_time": "2022-07-08T08:03:49.779Z"
   },
   {
    "duration": 16,
    "start_time": "2022-07-08T08:04:40.614Z"
   },
   {
    "duration": 40,
    "start_time": "2022-07-08T08:06:18.386Z"
   },
   {
    "duration": 26,
    "start_time": "2022-07-08T08:07:01.662Z"
   },
   {
    "duration": 72,
    "start_time": "2022-07-08T08:14:51.574Z"
   },
   {
    "duration": 3,
    "start_time": "2022-07-08T08:15:05.473Z"
   },
   {
    "duration": 146,
    "start_time": "2022-07-08T08:15:05.491Z"
   },
   {
    "duration": 19,
    "start_time": "2022-07-08T08:15:05.639Z"
   },
   {
    "duration": 132,
    "start_time": "2022-07-08T08:15:05.660Z"
   },
   {
    "duration": 16,
    "start_time": "2022-07-08T08:15:05.793Z"
   },
   {
    "duration": 139,
    "start_time": "2022-07-08T08:15:05.811Z"
   },
   {
    "duration": 13,
    "start_time": "2022-07-08T08:15:05.952Z"
   },
   {
    "duration": 15,
    "start_time": "2022-07-08T08:15:05.966Z"
   },
   {
    "duration": 14,
    "start_time": "2022-07-08T08:15:05.982Z"
   },
   {
    "duration": 20,
    "start_time": "2022-07-08T08:15:05.998Z"
   },
   {
    "duration": 34,
    "start_time": "2022-07-08T08:15:06.019Z"
   },
   {
    "duration": 194,
    "start_time": "2022-07-08T08:15:06.055Z"
   },
   {
    "duration": 108,
    "start_time": "2022-07-08T08:15:06.345Z"
   },
   {
    "duration": 78,
    "start_time": "2022-07-08T08:18:18.970Z"
   },
   {
    "duration": 16,
    "start_time": "2022-07-08T08:18:36.515Z"
   },
   {
    "duration": 3,
    "start_time": "2022-07-08T10:16:27.319Z"
   },
   {
    "duration": 157,
    "start_time": "2022-07-08T10:16:27.324Z"
   },
   {
    "duration": 17,
    "start_time": "2022-07-08T10:16:27.483Z"
   },
   {
    "duration": 153,
    "start_time": "2022-07-08T10:16:27.502Z"
   },
   {
    "duration": 14,
    "start_time": "2022-07-08T10:16:27.657Z"
   },
   {
    "duration": 144,
    "start_time": "2022-07-08T10:16:27.672Z"
   },
   {
    "duration": 35,
    "start_time": "2022-07-08T10:16:27.818Z"
   },
   {
    "duration": 13,
    "start_time": "2022-07-08T10:16:27.856Z"
   },
   {
    "duration": 7,
    "start_time": "2022-07-08T10:16:27.871Z"
   },
   {
    "duration": 16,
    "start_time": "2022-07-08T10:16:27.880Z"
   },
   {
    "duration": 52,
    "start_time": "2022-07-08T10:16:27.898Z"
   },
   {
    "duration": 116,
    "start_time": "2022-07-08T10:16:27.952Z"
   },
   {
    "duration": 188,
    "start_time": "2022-07-08T10:16:28.071Z"
   },
   {
    "duration": 5,
    "start_time": "2022-07-08T10:16:28.261Z"
   },
   {
    "duration": 4,
    "start_time": "2022-07-08T10:23:43.519Z"
   },
   {
    "duration": 5,
    "start_time": "2022-07-08T10:24:47.662Z"
   },
   {
    "duration": 5,
    "start_time": "2022-07-08T10:25:44.354Z"
   },
   {
    "duration": 4,
    "start_time": "2022-07-08T10:25:50.794Z"
   },
   {
    "duration": 4,
    "start_time": "2022-07-08T10:26:01.087Z"
   },
   {
    "duration": 4,
    "start_time": "2022-07-08T10:26:41.986Z"
   },
   {
    "duration": 5,
    "start_time": "2022-07-08T10:31:45.896Z"
   },
   {
    "duration": 77,
    "start_time": "2022-07-08T11:23:58.037Z"
   },
   {
    "duration": 51,
    "start_time": "2022-07-08T11:24:52.058Z"
   },
   {
    "duration": 3,
    "start_time": "2022-07-08T11:33:16.987Z"
   },
   {
    "duration": 3,
    "start_time": "2022-07-08T11:33:20.223Z"
   },
   {
    "duration": 2,
    "start_time": "2022-07-08T12:09:45.790Z"
   },
   {
    "duration": 3,
    "start_time": "2022-07-08T12:10:23.899Z"
   },
   {
    "duration": 26,
    "start_time": "2022-07-08T12:11:14.039Z"
   },
   {
    "duration": 32,
    "start_time": "2022-07-08T12:11:30.458Z"
   },
   {
    "duration": 4,
    "start_time": "2022-07-08T12:11:37.576Z"
   },
   {
    "duration": 138,
    "start_time": "2022-07-08T12:11:37.596Z"
   },
   {
    "duration": 17,
    "start_time": "2022-07-08T12:11:37.736Z"
   },
   {
    "duration": 140,
    "start_time": "2022-07-08T12:11:37.754Z"
   },
   {
    "duration": 14,
    "start_time": "2022-07-08T12:11:37.896Z"
   },
   {
    "duration": 148,
    "start_time": "2022-07-08T12:11:37.913Z"
   },
   {
    "duration": 14,
    "start_time": "2022-07-08T12:11:38.063Z"
   },
   {
    "duration": 10,
    "start_time": "2022-07-08T12:11:38.079Z"
   },
   {
    "duration": 9,
    "start_time": "2022-07-08T12:11:38.091Z"
   },
   {
    "duration": 18,
    "start_time": "2022-07-08T12:11:38.102Z"
   },
   {
    "duration": 38,
    "start_time": "2022-07-08T12:11:38.122Z"
   },
   {
    "duration": 196,
    "start_time": "2022-07-08T12:11:38.162Z"
   },
   {
    "duration": 193,
    "start_time": "2022-07-08T12:11:38.360Z"
   },
   {
    "duration": 97,
    "start_time": "2022-07-08T12:11:38.556Z"
   },
   {
    "duration": 96,
    "start_time": "2022-07-08T12:11:38.656Z"
   },
   {
    "duration": 40,
    "start_time": "2022-07-08T12:11:38.754Z"
   },
   {
    "duration": 28,
    "start_time": "2022-07-08T12:12:08.296Z"
   },
   {
    "duration": 3,
    "start_time": "2022-07-08T12:12:13.209Z"
   },
   {
    "duration": 128,
    "start_time": "2022-07-08T12:12:13.229Z"
   },
   {
    "duration": 15,
    "start_time": "2022-07-08T12:12:13.359Z"
   },
   {
    "duration": 144,
    "start_time": "2022-07-08T12:12:13.376Z"
   },
   {
    "duration": 25,
    "start_time": "2022-07-08T12:12:13.522Z"
   },
   {
    "duration": 135,
    "start_time": "2022-07-08T12:12:13.549Z"
   },
   {
    "duration": 15,
    "start_time": "2022-07-08T12:12:13.686Z"
   },
   {
    "duration": 10,
    "start_time": "2022-07-08T12:12:13.702Z"
   },
   {
    "duration": 33,
    "start_time": "2022-07-08T12:12:13.714Z"
   },
   {
    "duration": 12,
    "start_time": "2022-07-08T12:12:13.749Z"
   },
   {
    "duration": 82,
    "start_time": "2022-07-08T12:12:13.763Z"
   },
   {
    "duration": 123,
    "start_time": "2022-07-08T12:12:13.847Z"
   },
   {
    "duration": 192,
    "start_time": "2022-07-08T12:12:13.973Z"
   },
   {
    "duration": 179,
    "start_time": "2022-07-08T12:12:14.167Z"
   },
   {
    "duration": 13,
    "start_time": "2022-07-08T12:12:14.349Z"
   },
   {
    "duration": 62,
    "start_time": "2022-07-08T12:12:14.364Z"
   },
   {
    "duration": 24,
    "start_time": "2022-07-08T12:12:24.383Z"
   },
   {
    "duration": 3,
    "start_time": "2022-07-08T12:14:10.944Z"
   },
   {
    "duration": 31,
    "start_time": "2022-07-08T12:14:11.883Z"
   },
   {
    "duration": 4,
    "start_time": "2022-07-08T12:14:20.038Z"
   },
   {
    "duration": 137,
    "start_time": "2022-07-08T12:14:20.051Z"
   },
   {
    "duration": 14,
    "start_time": "2022-07-08T12:14:20.190Z"
   },
   {
    "duration": 140,
    "start_time": "2022-07-08T12:14:20.206Z"
   },
   {
    "duration": 15,
    "start_time": "2022-07-08T12:14:20.348Z"
   },
   {
    "duration": 142,
    "start_time": "2022-07-08T12:14:20.365Z"
   },
   {
    "duration": 14,
    "start_time": "2022-07-08T12:14:20.508Z"
   },
   {
    "duration": 25,
    "start_time": "2022-07-08T12:14:20.524Z"
   },
   {
    "duration": 9,
    "start_time": "2022-07-08T12:14:20.551Z"
   },
   {
    "duration": 18,
    "start_time": "2022-07-08T12:14:20.562Z"
   },
   {
    "duration": 65,
    "start_time": "2022-07-08T12:14:20.582Z"
   },
   {
    "duration": 117,
    "start_time": "2022-07-08T12:14:20.651Z"
   },
   {
    "duration": 186,
    "start_time": "2022-07-08T12:14:20.770Z"
   },
   {
    "duration": 92,
    "start_time": "2022-07-08T12:14:20.958Z"
   },
   {
    "duration": 93,
    "start_time": "2022-07-08T12:14:21.054Z"
   },
   {
    "duration": 35,
    "start_time": "2022-07-08T12:14:21.149Z"
   },
   {
    "duration": 34,
    "start_time": "2022-07-08T12:14:32.036Z"
   },
   {
    "duration": 3,
    "start_time": "2022-07-08T13:28:45.871Z"
   },
   {
    "duration": 3,
    "start_time": "2022-07-08T13:29:00.128Z"
   },
   {
    "duration": 135,
    "start_time": "2022-07-08T13:29:00.146Z"
   },
   {
    "duration": 15,
    "start_time": "2022-07-08T13:29:00.283Z"
   },
   {
    "duration": 147,
    "start_time": "2022-07-08T13:29:00.300Z"
   },
   {
    "duration": 19,
    "start_time": "2022-07-08T13:29:00.449Z"
   },
   {
    "duration": 146,
    "start_time": "2022-07-08T13:29:00.471Z"
   },
   {
    "duration": 14,
    "start_time": "2022-07-08T13:29:00.619Z"
   },
   {
    "duration": 24,
    "start_time": "2022-07-08T13:29:00.634Z"
   },
   {
    "duration": 16,
    "start_time": "2022-07-08T13:29:00.660Z"
   },
   {
    "duration": 24,
    "start_time": "2022-07-08T13:29:00.678Z"
   },
   {
    "duration": 49,
    "start_time": "2022-07-08T13:29:00.704Z"
   },
   {
    "duration": 114,
    "start_time": "2022-07-08T13:29:00.758Z"
   },
   {
    "duration": 196,
    "start_time": "2022-07-08T13:29:00.874Z"
   },
   {
    "duration": 79,
    "start_time": "2022-07-08T13:29:01.073Z"
   },
   {
    "duration": 92,
    "start_time": "2022-07-08T13:29:01.155Z"
   },
   {
    "duration": 8,
    "start_time": "2022-07-08T13:47:49.893Z"
   },
   {
    "duration": 3,
    "start_time": "2022-07-08T13:47:55.159Z"
   },
   {
    "duration": 133,
    "start_time": "2022-07-08T13:47:55.178Z"
   },
   {
    "duration": 14,
    "start_time": "2022-07-08T13:47:55.313Z"
   },
   {
    "duration": 144,
    "start_time": "2022-07-08T13:47:55.329Z"
   },
   {
    "duration": 15,
    "start_time": "2022-07-08T13:47:55.475Z"
   },
   {
    "duration": 124,
    "start_time": "2022-07-08T13:47:55.492Z"
   },
   {
    "duration": 13,
    "start_time": "2022-07-08T13:47:55.617Z"
   },
   {
    "duration": 16,
    "start_time": "2022-07-08T13:47:55.646Z"
   },
   {
    "duration": 11,
    "start_time": "2022-07-08T13:47:55.663Z"
   },
   {
    "duration": 16,
    "start_time": "2022-07-08T13:47:55.676Z"
   },
   {
    "duration": 66,
    "start_time": "2022-07-08T13:47:55.694Z"
   },
   {
    "duration": 112,
    "start_time": "2022-07-08T13:47:55.762Z"
   },
   {
    "duration": 128,
    "start_time": "2022-07-08T13:47:55.947Z"
   },
   {
    "duration": 6,
    "start_time": "2022-07-08T13:47:56.147Z"
   },
   {
    "duration": 99,
    "start_time": "2022-07-08T13:47:56.156Z"
   },
   {
    "duration": 9,
    "start_time": "2022-07-08T13:47:56.256Z"
   },
   {
    "duration": 4,
    "start_time": "2022-07-08T13:48:18.840Z"
   },
   {
    "duration": 3,
    "start_time": "2022-07-08T14:44:22.125Z"
   },
   {
    "duration": 3,
    "start_time": "2022-07-08T15:07:44.695Z"
   },
   {
    "duration": 3,
    "start_time": "2022-07-08T15:08:00.848Z"
   },
   {
    "duration": 5,
    "start_time": "2022-07-08T15:16:26.056Z"
   },
   {
    "duration": 6,
    "start_time": "2022-07-08T15:16:48.879Z"
   },
   {
    "duration": 6,
    "start_time": "2022-07-08T15:17:31.042Z"
   },
   {
    "duration": 11,
    "start_time": "2022-07-08T15:18:48.090Z"
   },
   {
    "duration": 3,
    "start_time": "2022-07-08T15:19:34.293Z"
   },
   {
    "duration": 136,
    "start_time": "2022-07-08T15:19:34.298Z"
   },
   {
    "duration": 17,
    "start_time": "2022-07-08T15:19:34.436Z"
   },
   {
    "duration": 131,
    "start_time": "2022-07-08T15:19:34.454Z"
   },
   {
    "duration": 15,
    "start_time": "2022-07-08T15:19:34.587Z"
   },
   {
    "duration": 143,
    "start_time": "2022-07-08T15:19:34.603Z"
   },
   {
    "duration": 23,
    "start_time": "2022-07-08T15:19:34.748Z"
   },
   {
    "duration": 12,
    "start_time": "2022-07-08T15:19:34.773Z"
   },
   {
    "duration": 7,
    "start_time": "2022-07-08T15:19:34.787Z"
   },
   {
    "duration": 14,
    "start_time": "2022-07-08T15:19:34.795Z"
   },
   {
    "duration": 42,
    "start_time": "2022-07-08T15:19:34.811Z"
   },
   {
    "duration": 201,
    "start_time": "2022-07-08T15:19:34.855Z"
   },
   {
    "duration": 203,
    "start_time": "2022-07-08T15:19:35.058Z"
   },
   {
    "duration": 86,
    "start_time": "2022-07-08T15:19:35.265Z"
   },
   {
    "duration": 95,
    "start_time": "2022-07-08T15:19:35.354Z"
   },
   {
    "duration": 20,
    "start_time": "2022-07-08T15:19:35.451Z"
   },
   {
    "duration": 11,
    "start_time": "2022-07-08T15:19:35.473Z"
   },
   {
    "duration": 8,
    "start_time": "2022-07-08T15:21:09.773Z"
   },
   {
    "duration": 8,
    "start_time": "2022-07-08T15:25:40.291Z"
   },
   {
    "duration": 8,
    "start_time": "2022-07-08T15:25:58.072Z"
   },
   {
    "duration": 11,
    "start_time": "2022-07-08T15:27:03.899Z"
   },
   {
    "duration": 13,
    "start_time": "2022-07-08T15:29:14.623Z"
   },
   {
    "duration": 13,
    "start_time": "2022-07-08T15:30:29.813Z"
   },
   {
    "duration": 14,
    "start_time": "2022-07-08T15:30:40.902Z"
   },
   {
    "duration": 13,
    "start_time": "2022-07-08T15:32:14.425Z"
   },
   {
    "duration": 8,
    "start_time": "2022-07-08T15:34:02.160Z"
   },
   {
    "duration": 50,
    "start_time": "2022-07-11T06:59:22.405Z"
   },
   {
    "duration": 1056,
    "start_time": "2022-07-11T06:59:25.463Z"
   },
   {
    "duration": 542,
    "start_time": "2022-07-11T06:59:26.521Z"
   },
   {
    "duration": 15,
    "start_time": "2022-07-11T06:59:27.064Z"
   },
   {
    "duration": 584,
    "start_time": "2022-07-11T06:59:27.081Z"
   },
   {
    "duration": 13,
    "start_time": "2022-07-11T06:59:27.667Z"
   },
   {
    "duration": 563,
    "start_time": "2022-07-11T06:59:27.682Z"
   },
   {
    "duration": 13,
    "start_time": "2022-07-11T06:59:28.247Z"
   },
   {
    "duration": 9,
    "start_time": "2022-07-11T06:59:28.262Z"
   },
   {
    "duration": 7,
    "start_time": "2022-07-11T06:59:28.273Z"
   },
   {
    "duration": 29,
    "start_time": "2022-07-11T06:59:28.283Z"
   },
   {
    "duration": 88,
    "start_time": "2022-07-11T06:59:28.313Z"
   },
   {
    "duration": 119,
    "start_time": "2022-07-11T06:59:28.403Z"
   },
   {
    "duration": 187,
    "start_time": "2022-07-11T06:59:28.524Z"
   },
   {
    "duration": 87,
    "start_time": "2022-07-11T06:59:28.713Z"
   },
   {
    "duration": 111,
    "start_time": "2022-07-11T06:59:28.802Z"
   },
   {
    "duration": 41,
    "start_time": "2022-07-11T06:59:28.916Z"
   },
   {
    "duration": 13,
    "start_time": "2022-07-11T06:59:28.959Z"
   },
   {
    "duration": 2,
    "start_time": "2022-07-11T07:03:21.689Z"
   },
   {
    "duration": 3,
    "start_time": "2022-07-11T07:05:59.470Z"
   },
   {
    "duration": 154,
    "start_time": "2022-07-11T07:05:59.486Z"
   },
   {
    "duration": 15,
    "start_time": "2022-07-11T07:05:59.642Z"
   },
   {
    "duration": 126,
    "start_time": "2022-07-11T07:05:59.659Z"
   },
   {
    "duration": 24,
    "start_time": "2022-07-11T07:05:59.787Z"
   },
   {
    "duration": 137,
    "start_time": "2022-07-11T07:05:59.814Z"
   },
   {
    "duration": 14,
    "start_time": "2022-07-11T07:05:59.953Z"
   },
   {
    "duration": 10,
    "start_time": "2022-07-11T07:05:59.968Z"
   },
   {
    "duration": 22,
    "start_time": "2022-07-11T07:05:59.979Z"
   },
   {
    "duration": 17,
    "start_time": "2022-07-11T07:06:00.002Z"
   },
   {
    "duration": 18,
    "start_time": "2022-07-11T07:06:00.020Z"
   },
   {
    "duration": 116,
    "start_time": "2022-07-11T07:06:00.099Z"
   },
   {
    "duration": 192,
    "start_time": "2022-07-11T07:06:00.216Z"
   },
   {
    "duration": 88,
    "start_time": "2022-07-11T07:06:00.413Z"
   },
   {
    "duration": 95,
    "start_time": "2022-07-11T07:06:00.505Z"
   },
   {
    "duration": 83,
    "start_time": "2022-07-11T07:06:00.601Z"
   },
   {
    "duration": 0,
    "start_time": "2022-07-11T07:06:00.686Z"
   },
   {
    "duration": 4,
    "start_time": "2022-07-11T07:06:23.602Z"
   },
   {
    "duration": 143,
    "start_time": "2022-07-11T07:06:23.618Z"
   },
   {
    "duration": 14,
    "start_time": "2022-07-11T07:06:23.763Z"
   },
   {
    "duration": 132,
    "start_time": "2022-07-11T07:06:23.779Z"
   },
   {
    "duration": 14,
    "start_time": "2022-07-11T07:06:23.913Z"
   },
   {
    "duration": 135,
    "start_time": "2022-07-11T07:06:23.930Z"
   },
   {
    "duration": 14,
    "start_time": "2022-07-11T07:06:24.067Z"
   },
   {
    "duration": 11,
    "start_time": "2022-07-11T07:06:24.098Z"
   },
   {
    "duration": 7,
    "start_time": "2022-07-11T07:06:24.112Z"
   },
   {
    "duration": 17,
    "start_time": "2022-07-11T07:06:24.121Z"
   },
   {
    "duration": 65,
    "start_time": "2022-07-11T07:06:24.140Z"
   },
   {
    "duration": 111,
    "start_time": "2022-07-11T07:06:24.209Z"
   },
   {
    "duration": 193,
    "start_time": "2022-07-11T07:06:24.322Z"
   },
   {
    "duration": 84,
    "start_time": "2022-07-11T07:06:24.518Z"
   },
   {
    "duration": 99,
    "start_time": "2022-07-11T07:06:24.605Z"
   },
   {
    "duration": 11,
    "start_time": "2022-07-11T07:06:24.706Z"
   },
   {
    "duration": 10,
    "start_time": "2022-07-11T07:06:24.720Z"
   },
   {
    "duration": 4,
    "start_time": "2022-07-11T07:06:55.273Z"
   },
   {
    "duration": 140,
    "start_time": "2022-07-11T07:06:55.284Z"
   },
   {
    "duration": 13,
    "start_time": "2022-07-11T07:06:55.426Z"
   },
   {
    "duration": 130,
    "start_time": "2022-07-11T07:06:55.441Z"
   },
   {
    "duration": 27,
    "start_time": "2022-07-11T07:06:55.573Z"
   },
   {
    "duration": 142,
    "start_time": "2022-07-11T07:06:55.602Z"
   },
   {
    "duration": 18,
    "start_time": "2022-07-11T07:06:55.746Z"
   },
   {
    "duration": 11,
    "start_time": "2022-07-11T07:06:55.766Z"
   },
   {
    "duration": 5,
    "start_time": "2022-07-11T07:06:55.799Z"
   },
   {
    "duration": 16,
    "start_time": "2022-07-11T07:06:55.806Z"
   },
   {
    "duration": 77,
    "start_time": "2022-07-11T07:06:55.824Z"
   },
   {
    "duration": 117,
    "start_time": "2022-07-11T07:06:55.903Z"
   },
   {
    "duration": 130,
    "start_time": "2022-07-11T07:06:56.097Z"
   },
   {
    "duration": 5,
    "start_time": "2022-07-11T07:06:56.300Z"
   },
   {
    "duration": 97,
    "start_time": "2022-07-11T07:06:56.307Z"
   },
   {
    "duration": 14,
    "start_time": "2022-07-11T07:06:56.406Z"
   },
   {
    "duration": 10,
    "start_time": "2022-07-11T07:06:56.422Z"
   },
   {
    "duration": 8,
    "start_time": "2022-07-11T07:08:40.263Z"
   },
   {
    "duration": 65,
    "start_time": "2022-07-11T11:20:51.352Z"
   },
   {
    "duration": 4,
    "start_time": "2022-07-11T11:21:25.503Z"
   },
   {
    "duration": 182,
    "start_time": "2022-07-11T11:21:25.514Z"
   },
   {
    "duration": 20,
    "start_time": "2022-07-11T11:21:25.698Z"
   },
   {
    "duration": 161,
    "start_time": "2022-07-11T11:21:25.720Z"
   },
   {
    "duration": 24,
    "start_time": "2022-07-11T11:21:25.883Z"
   },
   {
    "duration": 144,
    "start_time": "2022-07-11T11:21:25.909Z"
   },
   {
    "duration": 15,
    "start_time": "2022-07-11T11:21:26.054Z"
   },
   {
    "duration": 29,
    "start_time": "2022-07-11T11:21:26.071Z"
   },
   {
    "duration": 7,
    "start_time": "2022-07-11T11:21:26.102Z"
   },
   {
    "duration": 18,
    "start_time": "2022-07-11T11:21:26.111Z"
   },
   {
    "duration": 70,
    "start_time": "2022-07-11T11:21:26.130Z"
   },
   {
    "duration": 209,
    "start_time": "2022-07-11T11:21:26.201Z"
   },
   {
    "duration": 118,
    "start_time": "2022-07-11T11:21:26.412Z"
   },
   {
    "duration": 5,
    "start_time": "2022-07-11T11:21:26.599Z"
   },
   {
    "duration": 96,
    "start_time": "2022-07-11T11:21:26.607Z"
   },
   {
    "duration": 61,
    "start_time": "2022-07-11T11:21:26.705Z"
   },
   {
    "duration": 26,
    "start_time": "2022-07-11T11:21:26.768Z"
   },
   {
    "duration": 16,
    "start_time": "2022-07-11T11:21:26.796Z"
   },
   {
    "duration": 48,
    "start_time": "2022-07-11T11:21:26.814Z"
   },
   {
    "duration": 45,
    "start_time": "2022-07-12T12:49:01.865Z"
   },
   {
    "duration": 1122,
    "start_time": "2022-07-12T12:49:07.073Z"
   },
   {
    "duration": 339,
    "start_time": "2022-07-12T12:49:08.197Z"
   },
   {
    "duration": 13,
    "start_time": "2022-07-12T12:49:08.538Z"
   },
   {
    "duration": 179,
    "start_time": "2022-07-12T12:49:08.553Z"
   },
   {
    "duration": 16,
    "start_time": "2022-07-12T12:49:08.734Z"
   },
   {
    "duration": 196,
    "start_time": "2022-07-12T12:49:08.752Z"
   },
   {
    "duration": 13,
    "start_time": "2022-07-12T12:49:08.949Z"
   },
   {
    "duration": 8,
    "start_time": "2022-07-12T12:49:08.964Z"
   },
   {
    "duration": 8,
    "start_time": "2022-07-12T12:49:08.974Z"
   },
   {
    "duration": 15,
    "start_time": "2022-07-12T12:49:09.001Z"
   },
   {
    "duration": 86,
    "start_time": "2022-07-12T12:49:09.018Z"
   },
   {
    "duration": 120,
    "start_time": "2022-07-12T12:49:09.105Z"
   },
   {
    "duration": 197,
    "start_time": "2022-07-12T12:49:09.228Z"
   },
   {
    "duration": 148,
    "start_time": "2022-07-12T12:49:09.500Z"
   },
   {
    "duration": 0,
    "start_time": "2022-07-12T12:49:09.649Z"
   },
   {
    "duration": 0,
    "start_time": "2022-07-12T12:49:09.651Z"
   },
   {
    "duration": 0,
    "start_time": "2022-07-12T12:49:09.652Z"
   },
   {
    "duration": 0,
    "start_time": "2022-07-12T12:49:09.653Z"
   },
   {
    "duration": 13,
    "start_time": "2022-07-12T12:49:18.105Z"
   },
   {
    "duration": 2,
    "start_time": "2022-07-12T12:49:24.986Z"
   },
   {
    "duration": 8,
    "start_time": "2022-07-12T12:49:28.704Z"
   },
   {
    "duration": 8,
    "start_time": "2022-07-12T12:49:31.348Z"
   },
   {
    "duration": 9,
    "start_time": "2022-07-12T12:49:34.181Z"
   },
   {
    "duration": 4,
    "start_time": "2022-07-12T16:11:04.587Z"
   },
   {
    "duration": 13,
    "start_time": "2022-07-12T16:13:15.286Z"
   },
   {
    "duration": 3,
    "start_time": "2022-07-12T16:13:22.162Z"
   },
   {
    "duration": 129,
    "start_time": "2022-07-12T16:13:22.178Z"
   },
   {
    "duration": 13,
    "start_time": "2022-07-12T16:13:22.309Z"
   },
   {
    "duration": 122,
    "start_time": "2022-07-12T16:13:22.323Z"
   },
   {
    "duration": 13,
    "start_time": "2022-07-12T16:13:22.446Z"
   },
   {
    "duration": 131,
    "start_time": "2022-07-12T16:13:22.461Z"
   },
   {
    "duration": 18,
    "start_time": "2022-07-12T16:13:22.593Z"
   },
   {
    "duration": 9,
    "start_time": "2022-07-12T16:13:22.613Z"
   },
   {
    "duration": 9,
    "start_time": "2022-07-12T16:13:22.624Z"
   },
   {
    "duration": 16,
    "start_time": "2022-07-12T16:13:22.635Z"
   },
   {
    "duration": 53,
    "start_time": "2022-07-12T16:13:22.653Z"
   },
   {
    "duration": 113,
    "start_time": "2022-07-12T16:13:22.708Z"
   },
   {
    "duration": 196,
    "start_time": "2022-07-12T16:13:22.822Z"
   },
   {
    "duration": 85,
    "start_time": "2022-07-12T16:13:23.021Z"
   },
   {
    "duration": 95,
    "start_time": "2022-07-12T16:13:23.112Z"
   },
   {
    "duration": 16,
    "start_time": "2022-07-12T16:13:23.209Z"
   },
   {
    "duration": 10,
    "start_time": "2022-07-12T16:13:23.227Z"
   },
   {
    "duration": 11,
    "start_time": "2022-07-12T16:13:23.239Z"
   },
   {
    "duration": 7,
    "start_time": "2022-07-12T16:13:23.252Z"
   },
   {
    "duration": 13,
    "start_time": "2022-07-12T16:13:23.260Z"
   },
   {
    "duration": 8,
    "start_time": "2022-07-12T16:13:34.076Z"
   },
   {
    "duration": 8,
    "start_time": "2022-07-12T16:13:40.823Z"
   },
   {
    "duration": 5,
    "start_time": "2022-07-12T16:24:39.528Z"
   },
   {
    "duration": 3,
    "start_time": "2022-07-12T16:26:18.542Z"
   },
   {
    "duration": 117,
    "start_time": "2022-07-12T16:26:18.555Z"
   },
   {
    "duration": 12,
    "start_time": "2022-07-12T16:26:18.674Z"
   },
   {
    "duration": 113,
    "start_time": "2022-07-12T16:26:18.688Z"
   },
   {
    "duration": 13,
    "start_time": "2022-07-12T16:26:18.803Z"
   },
   {
    "duration": 125,
    "start_time": "2022-07-12T16:26:18.818Z"
   },
   {
    "duration": 14,
    "start_time": "2022-07-12T16:26:18.945Z"
   },
   {
    "duration": 9,
    "start_time": "2022-07-12T16:26:18.961Z"
   },
   {
    "duration": 7,
    "start_time": "2022-07-12T16:26:18.972Z"
   },
   {
    "duration": 28,
    "start_time": "2022-07-12T16:26:18.980Z"
   },
   {
    "duration": 14,
    "start_time": "2022-07-12T16:26:19.010Z"
   },
   {
    "duration": 179,
    "start_time": "2022-07-12T16:26:19.028Z"
   },
   {
    "duration": 198,
    "start_time": "2022-07-12T16:26:19.208Z"
   },
   {
    "duration": 97,
    "start_time": "2022-07-12T16:26:19.408Z"
   },
   {
    "duration": 91,
    "start_time": "2022-07-12T16:26:19.511Z"
   },
   {
    "duration": 17,
    "start_time": "2022-07-12T16:26:19.603Z"
   },
   {
    "duration": 7,
    "start_time": "2022-07-12T16:26:19.621Z"
   },
   {
    "duration": 7,
    "start_time": "2022-07-12T16:26:19.630Z"
   },
   {
    "duration": 6,
    "start_time": "2022-07-12T16:26:19.638Z"
   },
   {
    "duration": 6,
    "start_time": "2022-07-12T16:35:00.744Z"
   },
   {
    "duration": 3,
    "start_time": "2022-07-12T16:36:43.502Z"
   },
   {
    "duration": 120,
    "start_time": "2022-07-12T16:36:43.518Z"
   },
   {
    "duration": 13,
    "start_time": "2022-07-12T16:36:43.640Z"
   },
   {
    "duration": 116,
    "start_time": "2022-07-12T16:36:43.654Z"
   },
   {
    "duration": 11,
    "start_time": "2022-07-12T16:36:43.772Z"
   },
   {
    "duration": 131,
    "start_time": "2022-07-12T16:36:43.785Z"
   },
   {
    "duration": 16,
    "start_time": "2022-07-12T16:36:43.919Z"
   },
   {
    "duration": 17,
    "start_time": "2022-07-12T16:36:43.937Z"
   },
   {
    "duration": 16,
    "start_time": "2022-07-12T16:36:43.956Z"
   },
   {
    "duration": 28,
    "start_time": "2022-07-12T16:36:43.974Z"
   },
   {
    "duration": 21,
    "start_time": "2022-07-12T16:36:44.003Z"
   },
   {
    "duration": 120,
    "start_time": "2022-07-12T16:36:44.101Z"
   },
   {
    "duration": 187,
    "start_time": "2022-07-12T16:36:44.224Z"
   },
   {
    "duration": 89,
    "start_time": "2022-07-12T16:36:44.413Z"
   },
   {
    "duration": 116,
    "start_time": "2022-07-12T16:36:44.505Z"
   },
   {
    "duration": 31,
    "start_time": "2022-07-12T16:36:44.623Z"
   },
   {
    "duration": 24,
    "start_time": "2022-07-12T16:36:44.655Z"
   },
   {
    "duration": 15,
    "start_time": "2022-07-12T16:36:44.680Z"
   },
   {
    "duration": 6,
    "start_time": "2022-07-12T16:36:44.696Z"
   },
   {
    "duration": 60,
    "start_time": "2022-07-12T16:50:26.953Z"
   },
   {
    "duration": 16,
    "start_time": "2022-07-12T16:50:36.519Z"
   },
   {
    "duration": 3,
    "start_time": "2022-07-12T16:50:44.303Z"
   },
   {
    "duration": 117,
    "start_time": "2022-07-12T16:50:44.320Z"
   },
   {
    "duration": 13,
    "start_time": "2022-07-12T16:50:44.440Z"
   },
   {
    "duration": 117,
    "start_time": "2022-07-12T16:50:44.454Z"
   },
   {
    "duration": 14,
    "start_time": "2022-07-12T16:50:44.572Z"
   },
   {
    "duration": 126,
    "start_time": "2022-07-12T16:50:44.589Z"
   },
   {
    "duration": 13,
    "start_time": "2022-07-12T16:50:44.717Z"
   },
   {
    "duration": 10,
    "start_time": "2022-07-12T16:50:44.732Z"
   },
   {
    "duration": 7,
    "start_time": "2022-07-12T16:50:44.744Z"
   },
   {
    "duration": 22,
    "start_time": "2022-07-12T16:50:44.753Z"
   },
   {
    "duration": 33,
    "start_time": "2022-07-12T16:50:44.777Z"
   },
   {
    "duration": 201,
    "start_time": "2022-07-12T16:50:44.813Z"
   },
   {
    "duration": 206,
    "start_time": "2022-07-12T16:50:45.018Z"
   },
   {
    "duration": 184,
    "start_time": "2022-07-12T16:50:45.226Z"
   },
   {
    "duration": 32,
    "start_time": "2022-07-12T16:50:45.413Z"
   },
   {
    "duration": 15,
    "start_time": "2022-07-12T16:50:45.447Z"
   },
   {
    "duration": 8,
    "start_time": "2022-07-12T16:50:45.464Z"
   },
   {
    "duration": 27,
    "start_time": "2022-07-12T16:50:45.473Z"
   },
   {
    "duration": 18,
    "start_time": "2022-07-12T16:50:45.502Z"
   },
   {
    "duration": 89,
    "start_time": "2022-07-12T16:50:45.522Z"
   },
   {
    "duration": 8,
    "start_time": "2022-07-12T16:51:41.092Z"
   },
   {
    "duration": 3,
    "start_time": "2022-07-12T16:51:43.590Z"
   },
   {
    "duration": 124,
    "start_time": "2022-07-12T16:51:43.618Z"
   },
   {
    "duration": 19,
    "start_time": "2022-07-12T16:51:43.744Z"
   },
   {
    "duration": 138,
    "start_time": "2022-07-12T16:51:43.765Z"
   },
   {
    "duration": 19,
    "start_time": "2022-07-12T16:51:43.905Z"
   },
   {
    "duration": 153,
    "start_time": "2022-07-12T16:51:43.927Z"
   },
   {
    "duration": 21,
    "start_time": "2022-07-12T16:51:44.082Z"
   },
   {
    "duration": 40,
    "start_time": "2022-07-12T16:51:44.105Z"
   },
   {
    "duration": 16,
    "start_time": "2022-07-12T16:51:44.147Z"
   },
   {
    "duration": 22,
    "start_time": "2022-07-12T16:51:44.165Z"
   },
   {
    "duration": 26,
    "start_time": "2022-07-12T16:51:44.188Z"
   },
   {
    "duration": 219,
    "start_time": "2022-07-12T16:51:44.216Z"
   },
   {
    "duration": 175,
    "start_time": "2022-07-12T16:51:44.439Z"
   },
   {
    "duration": 85,
    "start_time": "2022-07-12T16:51:44.619Z"
   },
   {
    "duration": 103,
    "start_time": "2022-07-12T16:51:44.710Z"
   },
   {
    "duration": 25,
    "start_time": "2022-07-12T16:51:44.815Z"
   },
   {
    "duration": 17,
    "start_time": "2022-07-12T16:51:44.842Z"
   },
   {
    "duration": 23,
    "start_time": "2022-07-12T16:51:44.861Z"
   },
   {
    "duration": 10,
    "start_time": "2022-07-12T16:51:44.886Z"
   },
   {
    "duration": 1185,
    "start_time": "2022-07-12T16:51:44.897Z"
   },
   {
    "duration": 5,
    "start_time": "2022-07-12T16:55:55.026Z"
   },
   {
    "duration": 3,
    "start_time": "2022-07-12T16:55:58.196Z"
   },
   {
    "duration": 128,
    "start_time": "2022-07-12T16:55:58.203Z"
   },
   {
    "duration": 12,
    "start_time": "2022-07-12T16:55:58.333Z"
   },
   {
    "duration": 121,
    "start_time": "2022-07-12T16:55:58.347Z"
   },
   {
    "duration": 13,
    "start_time": "2022-07-12T16:55:58.469Z"
   },
   {
    "duration": 126,
    "start_time": "2022-07-12T16:55:58.485Z"
   },
   {
    "duration": 15,
    "start_time": "2022-07-12T16:55:58.612Z"
   },
   {
    "duration": 26,
    "start_time": "2022-07-12T16:55:58.628Z"
   },
   {
    "duration": 12,
    "start_time": "2022-07-12T16:55:58.655Z"
   },
   {
    "duration": 14,
    "start_time": "2022-07-12T16:55:58.669Z"
   },
   {
    "duration": 30,
    "start_time": "2022-07-12T16:55:58.684Z"
   },
   {
    "duration": 116,
    "start_time": "2022-07-12T16:55:58.802Z"
   },
   {
    "duration": 190,
    "start_time": "2022-07-12T16:55:58.920Z"
   },
   {
    "duration": 5,
    "start_time": "2022-07-12T16:55:59.112Z"
   },
   {
    "duration": 102,
    "start_time": "2022-07-12T16:55:59.205Z"
   },
   {
    "duration": 15,
    "start_time": "2022-07-12T16:55:59.309Z"
   },
   {
    "duration": 9,
    "start_time": "2022-07-12T16:55:59.326Z"
   },
   {
    "duration": 10,
    "start_time": "2022-07-12T16:55:59.336Z"
   },
   {
    "duration": 5,
    "start_time": "2022-07-12T16:55:59.347Z"
   },
   {
    "duration": 1112,
    "start_time": "2022-07-12T16:55:59.354Z"
   },
   {
    "duration": 1176,
    "start_time": "2022-07-12T16:58:23.486Z"
   },
   {
    "duration": 3,
    "start_time": "2022-07-12T16:58:54.867Z"
   },
   {
    "duration": 136,
    "start_time": "2022-07-12T16:58:54.886Z"
   },
   {
    "duration": 13,
    "start_time": "2022-07-12T16:58:55.024Z"
   },
   {
    "duration": 145,
    "start_time": "2022-07-12T16:58:55.039Z"
   },
   {
    "duration": 26,
    "start_time": "2022-07-12T16:58:55.186Z"
   },
   {
    "duration": 171,
    "start_time": "2022-07-12T16:58:55.214Z"
   },
   {
    "duration": 32,
    "start_time": "2022-07-12T16:58:55.387Z"
   },
   {
    "duration": 16,
    "start_time": "2022-07-12T16:58:55.422Z"
   },
   {
    "duration": 9,
    "start_time": "2022-07-12T16:58:55.440Z"
   },
   {
    "duration": 15,
    "start_time": "2022-07-12T16:58:55.451Z"
   },
   {
    "duration": 42,
    "start_time": "2022-07-12T16:58:55.468Z"
   },
   {
    "duration": 114,
    "start_time": "2022-07-12T16:58:55.513Z"
   },
   {
    "duration": 220,
    "start_time": "2022-07-12T16:58:55.628Z"
   },
   {
    "duration": 58,
    "start_time": "2022-07-12T16:58:55.850Z"
   },
   {
    "duration": 93,
    "start_time": "2022-07-12T16:58:55.911Z"
   },
   {
    "duration": 25,
    "start_time": "2022-07-12T16:58:56.006Z"
   },
   {
    "duration": 9,
    "start_time": "2022-07-12T16:58:56.033Z"
   },
   {
    "duration": 10,
    "start_time": "2022-07-12T16:58:56.043Z"
   },
   {
    "duration": 9,
    "start_time": "2022-07-12T16:58:56.055Z"
   },
   {
    "duration": 1215,
    "start_time": "2022-07-12T16:58:56.066Z"
   },
   {
    "duration": 49,
    "start_time": "2022-07-12T16:58:57.283Z"
   },
   {
    "duration": 0,
    "start_time": "2022-07-12T16:58:57.334Z"
   },
   {
    "duration": 8,
    "start_time": "2022-07-12T16:59:10.105Z"
   },
   {
    "duration": 132,
    "start_time": "2022-07-12T16:59:10.117Z"
   },
   {
    "duration": 12,
    "start_time": "2022-07-12T16:59:10.251Z"
   },
   {
    "duration": 123,
    "start_time": "2022-07-12T16:59:10.265Z"
   },
   {
    "duration": 21,
    "start_time": "2022-07-12T16:59:10.389Z"
   },
   {
    "duration": 122,
    "start_time": "2022-07-12T16:59:10.413Z"
   },
   {
    "duration": 12,
    "start_time": "2022-07-12T16:59:10.537Z"
   },
   {
    "duration": 10,
    "start_time": "2022-07-12T16:59:10.551Z"
   },
   {
    "duration": 10,
    "start_time": "2022-07-12T16:59:10.562Z"
   },
   {
    "duration": 35,
    "start_time": "2022-07-12T16:59:10.573Z"
   },
   {
    "duration": 18,
    "start_time": "2022-07-12T16:59:10.611Z"
   },
   {
    "duration": 180,
    "start_time": "2022-07-12T16:59:10.630Z"
   },
   {
    "duration": 192,
    "start_time": "2022-07-12T16:59:10.812Z"
   },
   {
    "duration": 115,
    "start_time": "2022-07-12T16:59:11.005Z"
   },
   {
    "duration": 8,
    "start_time": "2022-07-12T16:59:11.123Z"
   },
   {
    "duration": 16,
    "start_time": "2022-07-12T16:59:11.133Z"
   },
   {
    "duration": 8,
    "start_time": "2022-07-12T16:59:11.150Z"
   },
   {
    "duration": 7,
    "start_time": "2022-07-12T16:59:11.159Z"
   },
   {
    "duration": 5,
    "start_time": "2022-07-12T16:59:11.168Z"
   },
   {
    "duration": 1158,
    "start_time": "2022-07-12T16:59:11.174Z"
   },
   {
    "duration": 1196,
    "start_time": "2022-07-12T16:59:12.333Z"
   },
   {
    "duration": 1187,
    "start_time": "2022-07-12T16:59:39.208Z"
   },
   {
    "duration": 3,
    "start_time": "2022-07-12T17:00:13.859Z"
   },
   {
    "duration": 143,
    "start_time": "2022-07-12T17:00:13.874Z"
   },
   {
    "duration": 13,
    "start_time": "2022-07-12T17:00:14.018Z"
   },
   {
    "duration": 137,
    "start_time": "2022-07-12T17:00:14.033Z"
   },
   {
    "duration": 13,
    "start_time": "2022-07-12T17:00:14.172Z"
   },
   {
    "duration": 128,
    "start_time": "2022-07-12T17:00:14.187Z"
   },
   {
    "duration": 14,
    "start_time": "2022-07-12T17:00:14.316Z"
   },
   {
    "duration": 12,
    "start_time": "2022-07-12T17:00:14.331Z"
   },
   {
    "duration": 19,
    "start_time": "2022-07-12T17:00:14.344Z"
   },
   {
    "duration": 25,
    "start_time": "2022-07-12T17:00:14.365Z"
   },
   {
    "duration": 22,
    "start_time": "2022-07-12T17:00:14.391Z"
   },
   {
    "duration": 194,
    "start_time": "2022-07-12T17:00:14.415Z"
   },
   {
    "duration": 203,
    "start_time": "2022-07-12T17:00:14.610Z"
   },
   {
    "duration": 87,
    "start_time": "2022-07-12T17:00:14.815Z"
   },
   {
    "duration": 97,
    "start_time": "2022-07-12T17:00:14.905Z"
   },
   {
    "duration": 30,
    "start_time": "2022-07-12T17:00:15.004Z"
   },
   {
    "duration": 12,
    "start_time": "2022-07-12T17:00:15.036Z"
   },
   {
    "duration": 10,
    "start_time": "2022-07-12T17:00:15.050Z"
   },
   {
    "duration": 26,
    "start_time": "2022-07-12T17:00:15.062Z"
   },
   {
    "duration": 1225,
    "start_time": "2022-07-12T17:00:15.090Z"
   },
   {
    "duration": 1108,
    "start_time": "2022-07-12T17:00:16.317Z"
   },
   {
    "duration": 1183,
    "start_time": "2022-07-12T17:00:17.426Z"
   },
   {
    "duration": 3,
    "start_time": "2022-07-12T17:04:26.370Z"
   },
   {
    "duration": 130,
    "start_time": "2022-07-12T17:04:26.386Z"
   },
   {
    "duration": 13,
    "start_time": "2022-07-12T17:04:26.518Z"
   },
   {
    "duration": 117,
    "start_time": "2022-07-12T17:04:26.533Z"
   },
   {
    "duration": 12,
    "start_time": "2022-07-12T17:04:26.652Z"
   },
   {
    "duration": 129,
    "start_time": "2022-07-12T17:04:26.666Z"
   },
   {
    "duration": 20,
    "start_time": "2022-07-12T17:04:26.796Z"
   },
   {
    "duration": 9,
    "start_time": "2022-07-12T17:04:26.818Z"
   },
   {
    "duration": 7,
    "start_time": "2022-07-12T17:04:26.829Z"
   },
   {
    "duration": 19,
    "start_time": "2022-07-12T17:04:26.837Z"
   },
   {
    "duration": 55,
    "start_time": "2022-07-12T17:04:26.857Z"
   },
   {
    "duration": 111,
    "start_time": "2022-07-12T17:04:26.913Z"
   },
   {
    "duration": 187,
    "start_time": "2022-07-12T17:04:27.025Z"
   },
   {
    "duration": 198,
    "start_time": "2022-07-12T17:04:27.214Z"
   },
   {
    "duration": 15,
    "start_time": "2022-07-12T17:04:27.417Z"
   },
   {
    "duration": 16,
    "start_time": "2022-07-12T17:04:27.433Z"
   },
   {
    "duration": 7,
    "start_time": "2022-07-12T17:04:27.451Z"
   },
   {
    "duration": 7,
    "start_time": "2022-07-12T17:04:27.459Z"
   },
   {
    "duration": 5,
    "start_time": "2022-07-12T17:04:27.468Z"
   },
   {
    "duration": 1185,
    "start_time": "2022-07-12T17:04:27.475Z"
   },
   {
    "duration": 1154,
    "start_time": "2022-07-12T17:04:28.662Z"
   },
   {
    "duration": 1153,
    "start_time": "2022-07-12T17:04:29.819Z"
   },
   {
    "duration": 3,
    "start_time": "2022-07-12T17:04:37.353Z"
   },
   {
    "duration": 138,
    "start_time": "2022-07-12T17:04:37.368Z"
   },
   {
    "duration": 19,
    "start_time": "2022-07-12T17:04:37.508Z"
   },
   {
    "duration": 120,
    "start_time": "2022-07-12T17:04:37.529Z"
   },
   {
    "duration": 13,
    "start_time": "2022-07-12T17:04:37.650Z"
   },
   {
    "duration": 134,
    "start_time": "2022-07-12T17:04:37.666Z"
   },
   {
    "duration": 20,
    "start_time": "2022-07-12T17:04:37.802Z"
   },
   {
    "duration": 14,
    "start_time": "2022-07-12T17:04:37.824Z"
   },
   {
    "duration": 8,
    "start_time": "2022-07-12T17:04:37.839Z"
   },
   {
    "duration": 14,
    "start_time": "2022-07-12T17:04:37.849Z"
   },
   {
    "duration": 52,
    "start_time": "2022-07-12T17:04:37.865Z"
   },
   {
    "duration": 197,
    "start_time": "2022-07-12T17:04:37.918Z"
   },
   {
    "duration": 183,
    "start_time": "2022-07-12T17:04:38.125Z"
   },
   {
    "duration": 6,
    "start_time": "2022-07-12T17:04:38.310Z"
   },
   {
    "duration": 106,
    "start_time": "2022-07-12T17:04:38.322Z"
   },
   {
    "duration": 18,
    "start_time": "2022-07-12T17:04:38.429Z"
   },
   {
    "duration": 13,
    "start_time": "2022-07-12T17:04:38.449Z"
   },
   {
    "duration": 7,
    "start_time": "2022-07-12T17:04:38.464Z"
   },
   {
    "duration": 16,
    "start_time": "2022-07-12T17:04:38.472Z"
   },
   {
    "duration": 1194,
    "start_time": "2022-07-12T17:04:38.489Z"
   },
   {
    "duration": 1174,
    "start_time": "2022-07-12T17:04:39.685Z"
   },
   {
    "duration": 1156,
    "start_time": "2022-07-12T17:04:40.861Z"
   },
   {
    "duration": 3,
    "start_time": "2022-07-12T17:06:45.050Z"
   },
   {
    "duration": 135,
    "start_time": "2022-07-12T17:06:45.064Z"
   },
   {
    "duration": 18,
    "start_time": "2022-07-12T17:06:45.204Z"
   },
   {
    "duration": 125,
    "start_time": "2022-07-12T17:06:45.223Z"
   },
   {
    "duration": 12,
    "start_time": "2022-07-12T17:06:45.350Z"
   },
   {
    "duration": 146,
    "start_time": "2022-07-12T17:06:45.365Z"
   },
   {
    "duration": 17,
    "start_time": "2022-07-12T17:06:45.516Z"
   },
   {
    "duration": 17,
    "start_time": "2022-07-12T17:06:45.535Z"
   },
   {
    "duration": 13,
    "start_time": "2022-07-12T17:06:45.554Z"
   },
   {
    "duration": 18,
    "start_time": "2022-07-12T17:06:45.569Z"
   },
   {
    "duration": 40,
    "start_time": "2022-07-12T17:06:45.589Z"
   },
   {
    "duration": 207,
    "start_time": "2022-07-12T17:06:45.630Z"
   },
   {
    "duration": 117,
    "start_time": "2022-07-12T17:06:45.902Z"
   },
   {
    "duration": 183,
    "start_time": "2022-07-12T17:06:46.021Z"
   },
   {
    "duration": 17,
    "start_time": "2022-07-12T17:06:46.207Z"
   },
   {
    "duration": 9,
    "start_time": "2022-07-12T17:06:46.226Z"
   },
   {
    "duration": 11,
    "start_time": "2022-07-12T17:06:46.237Z"
   },
   {
    "duration": 13,
    "start_time": "2022-07-12T17:06:46.250Z"
   },
   {
    "duration": 6,
    "start_time": "2022-07-12T17:06:46.266Z"
   },
   {
    "duration": 1171,
    "start_time": "2022-07-12T17:06:46.273Z"
   },
   {
    "duration": 1181,
    "start_time": "2022-07-12T17:06:47.446Z"
   },
   {
    "duration": 1218,
    "start_time": "2022-07-12T17:06:48.628Z"
   },
   {
    "duration": 133,
    "start_time": "2022-07-13T06:31:33.720Z"
   },
   {
    "duration": 73,
    "start_time": "2022-07-13T06:33:48.976Z"
   },
   {
    "duration": 1155,
    "start_time": "2022-07-13T06:37:29.589Z"
   },
   {
    "duration": 552,
    "start_time": "2022-07-13T06:37:30.746Z"
   },
   {
    "duration": 18,
    "start_time": "2022-07-13T06:37:31.300Z"
   },
   {
    "duration": 646,
    "start_time": "2022-07-13T06:37:31.321Z"
   },
   {
    "duration": 13,
    "start_time": "2022-07-13T06:37:31.969Z"
   },
   {
    "duration": 597,
    "start_time": "2022-07-13T06:37:31.984Z"
   },
   {
    "duration": 13,
    "start_time": "2022-07-13T06:37:32.582Z"
   },
   {
    "duration": 29,
    "start_time": "2022-07-13T06:37:32.596Z"
   },
   {
    "duration": 14,
    "start_time": "2022-07-13T06:37:32.626Z"
   },
   {
    "duration": 19,
    "start_time": "2022-07-13T06:37:32.642Z"
   },
   {
    "duration": 17,
    "start_time": "2022-07-13T06:37:32.662Z"
   },
   {
    "duration": 142,
    "start_time": "2022-07-13T06:37:32.704Z"
   },
   {
    "duration": 168,
    "start_time": "2022-07-13T06:37:32.848Z"
   },
   {
    "duration": 190,
    "start_time": "2022-07-13T06:37:33.020Z"
   },
   {
    "duration": 12,
    "start_time": "2022-07-13T06:37:33.212Z"
   },
   {
    "duration": 20,
    "start_time": "2022-07-13T06:37:33.226Z"
   },
   {
    "duration": 10,
    "start_time": "2022-07-13T06:37:33.248Z"
   },
   {
    "duration": 11,
    "start_time": "2022-07-13T06:37:33.259Z"
   },
   {
    "duration": 13,
    "start_time": "2022-07-13T06:37:33.271Z"
   },
   {
    "duration": 1198,
    "start_time": "2022-07-13T06:37:33.285Z"
   },
   {
    "duration": 1138,
    "start_time": "2022-07-13T06:37:34.485Z"
   },
   {
    "duration": 1225,
    "start_time": "2022-07-13T06:37:35.625Z"
   }
  ],
  "kernelspec": {
   "display_name": "Python 3 (ipykernel)",
   "language": "python",
   "name": "python3"
  },
  "language_info": {
   "codemirror_mode": {
    "name": "ipython",
    "version": 3
   },
   "file_extension": ".py",
   "mimetype": "text/x-python",
   "name": "python",
   "nbconvert_exporter": "python",
   "pygments_lexer": "ipython3",
   "version": "3.9.5"
  },
  "toc": {
   "base_numbering": 1,
   "nav_menu": {},
   "number_sections": true,
   "sideBar": true,
   "skip_h1_title": true,
   "title_cell": "Table of Contents",
   "title_sidebar": "Contents",
   "toc_cell": false,
   "toc_position": {},
   "toc_section_display": true,
   "toc_window_display": false
  }
 },
 "nbformat": 4,
 "nbformat_minor": 2
}
