{
 "cells": [
  {
   "cell_type": "markdown",
   "metadata": {},
   "source": [
    "По условиям задачи необходимо проанализировать работу интернет-магазина \"Стримчик\", который занимается продажей компьютерных \n",
    "игр. На основании исторических данных нужно определить факторы, определяющие успешность игры. Полученные данные будут\n",
    "использоваться при разработке новых игровых продуктов. Поставленные задачи будет выполняться в стандартной последовательности:\n",
    "- предварительная обработка данных\n",
    "- расчеты и ответы на поставленные вопросы"
   ]
  },
  {
   "cell_type": "code",
   "execution_count": 2,
   "metadata": {},
   "outputs": [],
   "source": [
    "import pandas as pd\n",
    "import numpy as np\n",
    "import matplotlib.pyplot as plt\n",
    "from scipy import stats as st\n",
    "import seaborn as sns"
   ]
  },
  {
   "cell_type": "markdown",
   "metadata": {},
   "source": [
    "Загрузка библиотек"
   ]
  },
  {
   "cell_type": "code",
   "execution_count": 3,
   "metadata": {},
   "outputs": [
    {
     "name": "stdout",
     "output_type": "stream",
     "text": [
      "<class 'pandas.core.frame.DataFrame'>\n",
      "RangeIndex: 16715 entries, 0 to 16714\n",
      "Data columns (total 11 columns):\n",
      " #   Column           Non-Null Count  Dtype  \n",
      "---  ------           --------------  -----  \n",
      " 0   Name             16713 non-null  object \n",
      " 1   Platform         16715 non-null  object \n",
      " 2   Year_of_Release  16446 non-null  float64\n",
      " 3   Genre            16713 non-null  object \n",
      " 4   NA_sales         16715 non-null  float64\n",
      " 5   EU_sales         16715 non-null  float64\n",
      " 6   JP_sales         16715 non-null  float64\n",
      " 7   Other_sales      16715 non-null  float64\n",
      " 8   Critic_Score     8137 non-null   float64\n",
      " 9   User_Score       10014 non-null  object \n",
      " 10  Rating           9949 non-null   object \n",
      "dtypes: float64(6), object(5)\n",
      "memory usage: 1.4+ MB\n"
     ]
    }
   ],
   "source": [
    "data = pd.read_csv('/datasets/games.csv')\n",
    "data.head(10)\n",
    "data.info()"
   ]
  },
  {
   "cell_type": "markdown",
   "metadata": {},
   "source": [
    "Загрузка и первичное ознакомление с файлом. Общее количество записей порядка 16 тысяч. Данные требуют предварительной обработки перед анализом"
   ]
  },
  {
   "cell_type": "code",
   "execution_count": 4,
   "metadata": {},
   "outputs": [
    {
     "name": "stdout",
     "output_type": "stream",
     "text": [
      "0\n"
     ]
    }
   ],
   "source": [
    "print(data.duplicated().sum())"
   ]
  },
  {
   "cell_type": "markdown",
   "metadata": {},
   "source": [
    "Задвоения строк не обнаружены"
   ]
  },
  {
   "cell_type": "code",
   "execution_count": 5,
   "metadata": {},
   "outputs": [
    {
     "data": {
      "text/html": [
       "<div>\n",
       "<style scoped>\n",
       "    .dataframe tbody tr th:only-of-type {\n",
       "        vertical-align: middle;\n",
       "    }\n",
       "\n",
       "    .dataframe tbody tr th {\n",
       "        vertical-align: top;\n",
       "    }\n",
       "\n",
       "    .dataframe thead th {\n",
       "        text-align: right;\n",
       "    }\n",
       "</style>\n",
       "<table border=\"1\" class=\"dataframe\">\n",
       "  <thead>\n",
       "    <tr style=\"text-align: right;\">\n",
       "      <th></th>\n",
       "      <th>name</th>\n",
       "      <th>platform</th>\n",
       "      <th>year_of_release</th>\n",
       "      <th>genre</th>\n",
       "      <th>na_sales</th>\n",
       "      <th>eu_sales</th>\n",
       "      <th>jp_sales</th>\n",
       "      <th>other_sales</th>\n",
       "      <th>critic_score</th>\n",
       "      <th>user_score</th>\n",
       "      <th>rating</th>\n",
       "    </tr>\n",
       "  </thead>\n",
       "  <tbody>\n",
       "    <tr>\n",
       "      <th>0</th>\n",
       "      <td>Wii Sports</td>\n",
       "      <td>Wii</td>\n",
       "      <td>2006.0</td>\n",
       "      <td>Sports</td>\n",
       "      <td>41.36</td>\n",
       "      <td>28.96</td>\n",
       "      <td>3.77</td>\n",
       "      <td>8.45</td>\n",
       "      <td>76.0</td>\n",
       "      <td>8</td>\n",
       "      <td>E</td>\n",
       "    </tr>\n",
       "    <tr>\n",
       "      <th>1</th>\n",
       "      <td>Super Mario Bros.</td>\n",
       "      <td>NES</td>\n",
       "      <td>1985.0</td>\n",
       "      <td>Platform</td>\n",
       "      <td>29.08</td>\n",
       "      <td>3.58</td>\n",
       "      <td>6.81</td>\n",
       "      <td>0.77</td>\n",
       "      <td>NaN</td>\n",
       "      <td>NaN</td>\n",
       "      <td>NaN</td>\n",
       "    </tr>\n",
       "    <tr>\n",
       "      <th>2</th>\n",
       "      <td>Mario Kart Wii</td>\n",
       "      <td>Wii</td>\n",
       "      <td>2008.0</td>\n",
       "      <td>Racing</td>\n",
       "      <td>15.68</td>\n",
       "      <td>12.76</td>\n",
       "      <td>3.79</td>\n",
       "      <td>3.29</td>\n",
       "      <td>82.0</td>\n",
       "      <td>8.3</td>\n",
       "      <td>E</td>\n",
       "    </tr>\n",
       "    <tr>\n",
       "      <th>3</th>\n",
       "      <td>Wii Sports Resort</td>\n",
       "      <td>Wii</td>\n",
       "      <td>2009.0</td>\n",
       "      <td>Sports</td>\n",
       "      <td>15.61</td>\n",
       "      <td>10.93</td>\n",
       "      <td>3.28</td>\n",
       "      <td>2.95</td>\n",
       "      <td>80.0</td>\n",
       "      <td>8</td>\n",
       "      <td>E</td>\n",
       "    </tr>\n",
       "    <tr>\n",
       "      <th>4</th>\n",
       "      <td>Pokemon Red/Pokemon Blue</td>\n",
       "      <td>GB</td>\n",
       "      <td>1996.0</td>\n",
       "      <td>Role-Playing</td>\n",
       "      <td>11.27</td>\n",
       "      <td>8.89</td>\n",
       "      <td>10.22</td>\n",
       "      <td>1.00</td>\n",
       "      <td>NaN</td>\n",
       "      <td>NaN</td>\n",
       "      <td>NaN</td>\n",
       "    </tr>\n",
       "  </tbody>\n",
       "</table>\n",
       "</div>"
      ],
      "text/plain": [
       "                       name platform  year_of_release         genre  na_sales  \\\n",
       "0                Wii Sports      Wii           2006.0        Sports     41.36   \n",
       "1         Super Mario Bros.      NES           1985.0      Platform     29.08   \n",
       "2            Mario Kart Wii      Wii           2008.0        Racing     15.68   \n",
       "3         Wii Sports Resort      Wii           2009.0        Sports     15.61   \n",
       "4  Pokemon Red/Pokemon Blue       GB           1996.0  Role-Playing     11.27   \n",
       "\n",
       "   eu_sales  jp_sales  other_sales  critic_score user_score rating  \n",
       "0     28.96      3.77         8.45          76.0          8      E  \n",
       "1      3.58      6.81         0.77           NaN        NaN    NaN  \n",
       "2     12.76      3.79         3.29          82.0        8.3      E  \n",
       "3     10.93      3.28         2.95          80.0          8      E  \n",
       "4      8.89     10.22         1.00           NaN        NaN    NaN  "
      ]
     },
     "execution_count": 5,
     "metadata": {},
     "output_type": "execute_result"
    }
   ],
   "source": [
    "data.columns = data.columns.str.lower()\n",
    "data.head()"
   ]
  },
  {
   "cell_type": "markdown",
   "metadata": {},
   "source": [
    "Названия столбцов переведены в нижний регистр "
   ]
  },
  {
   "cell_type": "code",
   "execution_count": 6,
   "metadata": {},
   "outputs": [
    {
     "data": {
      "text/html": [
       "<div>\n",
       "<style scoped>\n",
       "    .dataframe tbody tr th:only-of-type {\n",
       "        vertical-align: middle;\n",
       "    }\n",
       "\n",
       "    .dataframe tbody tr th {\n",
       "        vertical-align: top;\n",
       "    }\n",
       "\n",
       "    .dataframe thead th {\n",
       "        text-align: right;\n",
       "    }\n",
       "</style>\n",
       "<table border=\"1\" class=\"dataframe\">\n",
       "  <thead>\n",
       "    <tr style=\"text-align: right;\">\n",
       "      <th></th>\n",
       "      <th>name</th>\n",
       "      <th>platform</th>\n",
       "      <th>year_of_release</th>\n",
       "      <th>genre</th>\n",
       "      <th>na_sales</th>\n",
       "      <th>eu_sales</th>\n",
       "      <th>jp_sales</th>\n",
       "      <th>other_sales</th>\n",
       "      <th>critic_score</th>\n",
       "      <th>user_score</th>\n",
       "      <th>rating</th>\n",
       "    </tr>\n",
       "  </thead>\n",
       "  <tbody>\n",
       "    <tr>\n",
       "      <th>0</th>\n",
       "      <td>Wii Sports</td>\n",
       "      <td>Wii</td>\n",
       "      <td>2006</td>\n",
       "      <td>Sports</td>\n",
       "      <td>41.36</td>\n",
       "      <td>28.96</td>\n",
       "      <td>3.77</td>\n",
       "      <td>8.45</td>\n",
       "      <td>76.0</td>\n",
       "      <td>8</td>\n",
       "      <td>E</td>\n",
       "    </tr>\n",
       "    <tr>\n",
       "      <th>1</th>\n",
       "      <td>Super Mario Bros.</td>\n",
       "      <td>NES</td>\n",
       "      <td>1985</td>\n",
       "      <td>Platform</td>\n",
       "      <td>29.08</td>\n",
       "      <td>3.58</td>\n",
       "      <td>6.81</td>\n",
       "      <td>0.77</td>\n",
       "      <td>NaN</td>\n",
       "      <td>NaN</td>\n",
       "      <td>NaN</td>\n",
       "    </tr>\n",
       "    <tr>\n",
       "      <th>2</th>\n",
       "      <td>Mario Kart Wii</td>\n",
       "      <td>Wii</td>\n",
       "      <td>2008</td>\n",
       "      <td>Racing</td>\n",
       "      <td>15.68</td>\n",
       "      <td>12.76</td>\n",
       "      <td>3.79</td>\n",
       "      <td>3.29</td>\n",
       "      <td>82.0</td>\n",
       "      <td>8.3</td>\n",
       "      <td>E</td>\n",
       "    </tr>\n",
       "    <tr>\n",
       "      <th>3</th>\n",
       "      <td>Wii Sports Resort</td>\n",
       "      <td>Wii</td>\n",
       "      <td>2009</td>\n",
       "      <td>Sports</td>\n",
       "      <td>15.61</td>\n",
       "      <td>10.93</td>\n",
       "      <td>3.28</td>\n",
       "      <td>2.95</td>\n",
       "      <td>80.0</td>\n",
       "      <td>8</td>\n",
       "      <td>E</td>\n",
       "    </tr>\n",
       "    <tr>\n",
       "      <th>4</th>\n",
       "      <td>Pokemon Red/Pokemon Blue</td>\n",
       "      <td>GB</td>\n",
       "      <td>1996</td>\n",
       "      <td>Role-Playing</td>\n",
       "      <td>11.27</td>\n",
       "      <td>8.89</td>\n",
       "      <td>10.22</td>\n",
       "      <td>1.00</td>\n",
       "      <td>NaN</td>\n",
       "      <td>NaN</td>\n",
       "      <td>NaN</td>\n",
       "    </tr>\n",
       "  </tbody>\n",
       "</table>\n",
       "</div>"
      ],
      "text/plain": [
       "                       name platform  year_of_release         genre  na_sales  \\\n",
       "0                Wii Sports      Wii             2006        Sports     41.36   \n",
       "1         Super Mario Bros.      NES             1985      Platform     29.08   \n",
       "2            Mario Kart Wii      Wii             2008        Racing     15.68   \n",
       "3         Wii Sports Resort      Wii             2009        Sports     15.61   \n",
       "4  Pokemon Red/Pokemon Blue       GB             1996  Role-Playing     11.27   \n",
       "\n",
       "   eu_sales  jp_sales  other_sales  critic_score user_score rating  \n",
       "0     28.96      3.77         8.45          76.0          8      E  \n",
       "1      3.58      6.81         0.77           NaN        NaN    NaN  \n",
       "2     12.76      3.79         3.29          82.0        8.3      E  \n",
       "3     10.93      3.28         2.95          80.0          8      E  \n",
       "4      8.89     10.22         1.00           NaN        NaN    NaN  "
      ]
     },
     "execution_count": 6,
     "metadata": {},
     "output_type": "execute_result"
    }
   ],
   "source": [
    "data['year_of_release'] = data['year_of_release'].fillna(data['year_of_release'].mean())\n",
    "data['year_of_release'] = data['year_of_release'].astype('int')\n",
    "data.head()"
   ]
  },
  {
   "cell_type": "markdown",
   "metadata": {},
   "source": [
    "Отсутствие данных о годе выпуска игры является, скорее всего, следствием человеческого фактора. Год выпуска неизвестен менее \n",
    "чем для 2% выборки и, соответственно, не может существенным образом повлиять нa результаты анализа. В связи с эти пропуски \n",
    "заменены на средние значения. Для удобства восприятия и экономии ресурсов формат изменен с float64 на integer. В колонках critic_score, user_score, rating доля пропущенных значений велика. Она не может быть заменена средним так как это может привести к искажению данных. Поэтому пропущенные значения ничем не заменяются. Наиболее вероятной причиной пропусков является отсутствие соответствующих данных."
   ]
  },
  {
   "cell_type": "code",
   "execution_count": 7,
   "metadata": {},
   "outputs": [
    {
     "data": {
      "text/plain": [
       "2424"
      ]
     },
     "execution_count": 7,
     "metadata": {},
     "output_type": "execute_result"
    }
   ],
   "source": [
    "data.loc[data.loc[:, 'user_score']=='tbd']['user_score'].count()"
   ]
  },
  {
   "cell_type": "markdown",
   "metadata": {},
   "source": [
    "В колонке user_score присутствует значение tbd. Скорее всего оно расшифровывается как to be determined и в практическом смысле означает отсутствие данных. Значение tbd можно заменить на Nan"
   ]
  },
  {
   "cell_type": "code",
   "execution_count": 8,
   "metadata": {},
   "outputs": [
    {
     "name": "stdout",
     "output_type": "stream",
     "text": [
      "<class 'pandas.core.frame.DataFrame'>\n",
      "RangeIndex: 16715 entries, 0 to 16714\n",
      "Data columns (total 11 columns):\n",
      " #   Column           Non-Null Count  Dtype  \n",
      "---  ------           --------------  -----  \n",
      " 0   name             16713 non-null  object \n",
      " 1   platform         16715 non-null  object \n",
      " 2   year_of_release  16715 non-null  int64  \n",
      " 3   genre            16713 non-null  object \n",
      " 4   na_sales         16715 non-null  float64\n",
      " 5   eu_sales         16715 non-null  float64\n",
      " 6   jp_sales         16715 non-null  float64\n",
      " 7   other_sales      16715 non-null  float64\n",
      " 8   critic_score     8137 non-null   float64\n",
      " 9   user_score       7590 non-null   float64\n",
      " 10  rating           9949 non-null   object \n",
      "dtypes: float64(6), int64(1), object(4)\n",
      "memory usage: 1.4+ MB\n"
     ]
    }
   ],
   "source": [
    "data['user_score'] = data['user_score'].replace('tbd', np.nan)\n",
    "data.loc[data.loc[:, 'user_score']=='tbd']['user_score'].count()\n",
    "data['user_score'] = data['user_score'].astype(float)\n",
    "data.info()"
   ]
  },
  {
   "cell_type": "markdown",
   "metadata": {},
   "source": [
    "tbd заменен на Nan. Тип данных в колонке заменен на более подходящий float"
   ]
  },
  {
   "cell_type": "code",
   "execution_count": 9,
   "metadata": {},
   "outputs": [
    {
     "data": {
      "text/html": [
       "<div>\n",
       "<style scoped>\n",
       "    .dataframe tbody tr th:only-of-type {\n",
       "        vertical-align: middle;\n",
       "    }\n",
       "\n",
       "    .dataframe tbody tr th {\n",
       "        vertical-align: top;\n",
       "    }\n",
       "\n",
       "    .dataframe thead th {\n",
       "        text-align: right;\n",
       "    }\n",
       "</style>\n",
       "<table border=\"1\" class=\"dataframe\">\n",
       "  <thead>\n",
       "    <tr style=\"text-align: right;\">\n",
       "      <th></th>\n",
       "      <th>name</th>\n",
       "      <th>platform</th>\n",
       "      <th>year_of_release</th>\n",
       "      <th>genre</th>\n",
       "      <th>na_sales</th>\n",
       "      <th>eu_sales</th>\n",
       "      <th>jp_sales</th>\n",
       "      <th>other_sales</th>\n",
       "      <th>critic_score</th>\n",
       "      <th>user_score</th>\n",
       "      <th>rating</th>\n",
       "      <th>total_sales</th>\n",
       "    </tr>\n",
       "  </thead>\n",
       "  <tbody>\n",
       "    <tr>\n",
       "      <th>0</th>\n",
       "      <td>Wii Sports</td>\n",
       "      <td>Wii</td>\n",
       "      <td>2006</td>\n",
       "      <td>Sports</td>\n",
       "      <td>41.36</td>\n",
       "      <td>28.96</td>\n",
       "      <td>3.77</td>\n",
       "      <td>8.45</td>\n",
       "      <td>76.0</td>\n",
       "      <td>8.0</td>\n",
       "      <td>E</td>\n",
       "      <td>82.54</td>\n",
       "    </tr>\n",
       "    <tr>\n",
       "      <th>1</th>\n",
       "      <td>Super Mario Bros.</td>\n",
       "      <td>NES</td>\n",
       "      <td>1985</td>\n",
       "      <td>Platform</td>\n",
       "      <td>29.08</td>\n",
       "      <td>3.58</td>\n",
       "      <td>6.81</td>\n",
       "      <td>0.77</td>\n",
       "      <td>NaN</td>\n",
       "      <td>NaN</td>\n",
       "      <td>NaN</td>\n",
       "      <td>40.24</td>\n",
       "    </tr>\n",
       "    <tr>\n",
       "      <th>2</th>\n",
       "      <td>Mario Kart Wii</td>\n",
       "      <td>Wii</td>\n",
       "      <td>2008</td>\n",
       "      <td>Racing</td>\n",
       "      <td>15.68</td>\n",
       "      <td>12.76</td>\n",
       "      <td>3.79</td>\n",
       "      <td>3.29</td>\n",
       "      <td>82.0</td>\n",
       "      <td>8.3</td>\n",
       "      <td>E</td>\n",
       "      <td>35.52</td>\n",
       "    </tr>\n",
       "    <tr>\n",
       "      <th>3</th>\n",
       "      <td>Wii Sports Resort</td>\n",
       "      <td>Wii</td>\n",
       "      <td>2009</td>\n",
       "      <td>Sports</td>\n",
       "      <td>15.61</td>\n",
       "      <td>10.93</td>\n",
       "      <td>3.28</td>\n",
       "      <td>2.95</td>\n",
       "      <td>80.0</td>\n",
       "      <td>8.0</td>\n",
       "      <td>E</td>\n",
       "      <td>32.77</td>\n",
       "    </tr>\n",
       "    <tr>\n",
       "      <th>4</th>\n",
       "      <td>Pokemon Red/Pokemon Blue</td>\n",
       "      <td>GB</td>\n",
       "      <td>1996</td>\n",
       "      <td>Role-Playing</td>\n",
       "      <td>11.27</td>\n",
       "      <td>8.89</td>\n",
       "      <td>10.22</td>\n",
       "      <td>1.00</td>\n",
       "      <td>NaN</td>\n",
       "      <td>NaN</td>\n",
       "      <td>NaN</td>\n",
       "      <td>31.38</td>\n",
       "    </tr>\n",
       "    <tr>\n",
       "      <th>5</th>\n",
       "      <td>Tetris</td>\n",
       "      <td>GB</td>\n",
       "      <td>1989</td>\n",
       "      <td>Puzzle</td>\n",
       "      <td>23.20</td>\n",
       "      <td>2.26</td>\n",
       "      <td>4.22</td>\n",
       "      <td>0.58</td>\n",
       "      <td>NaN</td>\n",
       "      <td>NaN</td>\n",
       "      <td>NaN</td>\n",
       "      <td>30.26</td>\n",
       "    </tr>\n",
       "    <tr>\n",
       "      <th>6</th>\n",
       "      <td>New Super Mario Bros.</td>\n",
       "      <td>DS</td>\n",
       "      <td>2006</td>\n",
       "      <td>Platform</td>\n",
       "      <td>11.28</td>\n",
       "      <td>9.14</td>\n",
       "      <td>6.50</td>\n",
       "      <td>2.88</td>\n",
       "      <td>89.0</td>\n",
       "      <td>8.5</td>\n",
       "      <td>E</td>\n",
       "      <td>29.80</td>\n",
       "    </tr>\n",
       "    <tr>\n",
       "      <th>7</th>\n",
       "      <td>Wii Play</td>\n",
       "      <td>Wii</td>\n",
       "      <td>2006</td>\n",
       "      <td>Misc</td>\n",
       "      <td>13.96</td>\n",
       "      <td>9.18</td>\n",
       "      <td>2.93</td>\n",
       "      <td>2.84</td>\n",
       "      <td>58.0</td>\n",
       "      <td>6.6</td>\n",
       "      <td>E</td>\n",
       "      <td>28.91</td>\n",
       "    </tr>\n",
       "    <tr>\n",
       "      <th>8</th>\n",
       "      <td>New Super Mario Bros. Wii</td>\n",
       "      <td>Wii</td>\n",
       "      <td>2009</td>\n",
       "      <td>Platform</td>\n",
       "      <td>14.44</td>\n",
       "      <td>6.94</td>\n",
       "      <td>4.70</td>\n",
       "      <td>2.24</td>\n",
       "      <td>87.0</td>\n",
       "      <td>8.4</td>\n",
       "      <td>E</td>\n",
       "      <td>28.32</td>\n",
       "    </tr>\n",
       "    <tr>\n",
       "      <th>9</th>\n",
       "      <td>Duck Hunt</td>\n",
       "      <td>NES</td>\n",
       "      <td>1984</td>\n",
       "      <td>Shooter</td>\n",
       "      <td>26.93</td>\n",
       "      <td>0.63</td>\n",
       "      <td>0.28</td>\n",
       "      <td>0.47</td>\n",
       "      <td>NaN</td>\n",
       "      <td>NaN</td>\n",
       "      <td>NaN</td>\n",
       "      <td>28.31</td>\n",
       "    </tr>\n",
       "    <tr>\n",
       "      <th>10</th>\n",
       "      <td>Nintendogs</td>\n",
       "      <td>DS</td>\n",
       "      <td>2005</td>\n",
       "      <td>Simulation</td>\n",
       "      <td>9.05</td>\n",
       "      <td>10.95</td>\n",
       "      <td>1.93</td>\n",
       "      <td>2.74</td>\n",
       "      <td>NaN</td>\n",
       "      <td>NaN</td>\n",
       "      <td>NaN</td>\n",
       "      <td>24.67</td>\n",
       "    </tr>\n",
       "    <tr>\n",
       "      <th>11</th>\n",
       "      <td>Mario Kart DS</td>\n",
       "      <td>DS</td>\n",
       "      <td>2005</td>\n",
       "      <td>Racing</td>\n",
       "      <td>9.71</td>\n",
       "      <td>7.47</td>\n",
       "      <td>4.13</td>\n",
       "      <td>1.90</td>\n",
       "      <td>91.0</td>\n",
       "      <td>8.6</td>\n",
       "      <td>E</td>\n",
       "      <td>23.21</td>\n",
       "    </tr>\n",
       "    <tr>\n",
       "      <th>12</th>\n",
       "      <td>Pokemon Gold/Pokemon Silver</td>\n",
       "      <td>GB</td>\n",
       "      <td>1999</td>\n",
       "      <td>Role-Playing</td>\n",
       "      <td>9.00</td>\n",
       "      <td>6.18</td>\n",
       "      <td>7.20</td>\n",
       "      <td>0.71</td>\n",
       "      <td>NaN</td>\n",
       "      <td>NaN</td>\n",
       "      <td>NaN</td>\n",
       "      <td>23.09</td>\n",
       "    </tr>\n",
       "    <tr>\n",
       "      <th>13</th>\n",
       "      <td>Wii Fit</td>\n",
       "      <td>Wii</td>\n",
       "      <td>2007</td>\n",
       "      <td>Sports</td>\n",
       "      <td>8.92</td>\n",
       "      <td>8.03</td>\n",
       "      <td>3.60</td>\n",
       "      <td>2.15</td>\n",
       "      <td>80.0</td>\n",
       "      <td>7.7</td>\n",
       "      <td>E</td>\n",
       "      <td>22.70</td>\n",
       "    </tr>\n",
       "    <tr>\n",
       "      <th>14</th>\n",
       "      <td>Kinect Adventures!</td>\n",
       "      <td>X360</td>\n",
       "      <td>2010</td>\n",
       "      <td>Misc</td>\n",
       "      <td>15.00</td>\n",
       "      <td>4.89</td>\n",
       "      <td>0.24</td>\n",
       "      <td>1.69</td>\n",
       "      <td>61.0</td>\n",
       "      <td>6.3</td>\n",
       "      <td>E</td>\n",
       "      <td>21.82</td>\n",
       "    </tr>\n",
       "    <tr>\n",
       "      <th>15</th>\n",
       "      <td>Wii Fit Plus</td>\n",
       "      <td>Wii</td>\n",
       "      <td>2009</td>\n",
       "      <td>Sports</td>\n",
       "      <td>9.01</td>\n",
       "      <td>8.49</td>\n",
       "      <td>2.53</td>\n",
       "      <td>1.77</td>\n",
       "      <td>80.0</td>\n",
       "      <td>7.4</td>\n",
       "      <td>E</td>\n",
       "      <td>21.80</td>\n",
       "    </tr>\n",
       "    <tr>\n",
       "      <th>16</th>\n",
       "      <td>Grand Theft Auto V</td>\n",
       "      <td>PS3</td>\n",
       "      <td>2013</td>\n",
       "      <td>Action</td>\n",
       "      <td>7.02</td>\n",
       "      <td>9.09</td>\n",
       "      <td>0.98</td>\n",
       "      <td>3.96</td>\n",
       "      <td>97.0</td>\n",
       "      <td>8.2</td>\n",
       "      <td>M</td>\n",
       "      <td>21.05</td>\n",
       "    </tr>\n",
       "    <tr>\n",
       "      <th>17</th>\n",
       "      <td>Grand Theft Auto: San Andreas</td>\n",
       "      <td>PS2</td>\n",
       "      <td>2004</td>\n",
       "      <td>Action</td>\n",
       "      <td>9.43</td>\n",
       "      <td>0.40</td>\n",
       "      <td>0.41</td>\n",
       "      <td>10.57</td>\n",
       "      <td>95.0</td>\n",
       "      <td>9.0</td>\n",
       "      <td>M</td>\n",
       "      <td>20.81</td>\n",
       "    </tr>\n",
       "    <tr>\n",
       "      <th>18</th>\n",
       "      <td>Super Mario World</td>\n",
       "      <td>SNES</td>\n",
       "      <td>1990</td>\n",
       "      <td>Platform</td>\n",
       "      <td>12.78</td>\n",
       "      <td>3.75</td>\n",
       "      <td>3.54</td>\n",
       "      <td>0.55</td>\n",
       "      <td>NaN</td>\n",
       "      <td>NaN</td>\n",
       "      <td>NaN</td>\n",
       "      <td>20.62</td>\n",
       "    </tr>\n",
       "    <tr>\n",
       "      <th>19</th>\n",
       "      <td>Brain Age: Train Your Brain in Minutes a Day</td>\n",
       "      <td>DS</td>\n",
       "      <td>2005</td>\n",
       "      <td>Misc</td>\n",
       "      <td>4.74</td>\n",
       "      <td>9.20</td>\n",
       "      <td>4.16</td>\n",
       "      <td>2.04</td>\n",
       "      <td>77.0</td>\n",
       "      <td>7.9</td>\n",
       "      <td>E</td>\n",
       "      <td>20.14</td>\n",
       "    </tr>\n",
       "    <tr>\n",
       "      <th>20</th>\n",
       "      <td>Pokemon Diamond/Pokemon Pearl</td>\n",
       "      <td>DS</td>\n",
       "      <td>2006</td>\n",
       "      <td>Role-Playing</td>\n",
       "      <td>6.38</td>\n",
       "      <td>4.46</td>\n",
       "      <td>6.04</td>\n",
       "      <td>1.36</td>\n",
       "      <td>NaN</td>\n",
       "      <td>NaN</td>\n",
       "      <td>NaN</td>\n",
       "      <td>18.24</td>\n",
       "    </tr>\n",
       "    <tr>\n",
       "      <th>21</th>\n",
       "      <td>Super Mario Land</td>\n",
       "      <td>GB</td>\n",
       "      <td>1989</td>\n",
       "      <td>Platform</td>\n",
       "      <td>10.83</td>\n",
       "      <td>2.71</td>\n",
       "      <td>4.18</td>\n",
       "      <td>0.42</td>\n",
       "      <td>NaN</td>\n",
       "      <td>NaN</td>\n",
       "      <td>NaN</td>\n",
       "      <td>18.14</td>\n",
       "    </tr>\n",
       "    <tr>\n",
       "      <th>22</th>\n",
       "      <td>Super Mario Bros. 3</td>\n",
       "      <td>NES</td>\n",
       "      <td>1988</td>\n",
       "      <td>Platform</td>\n",
       "      <td>9.54</td>\n",
       "      <td>3.44</td>\n",
       "      <td>3.84</td>\n",
       "      <td>0.46</td>\n",
       "      <td>NaN</td>\n",
       "      <td>NaN</td>\n",
       "      <td>NaN</td>\n",
       "      <td>17.28</td>\n",
       "    </tr>\n",
       "    <tr>\n",
       "      <th>23</th>\n",
       "      <td>Grand Theft Auto V</td>\n",
       "      <td>X360</td>\n",
       "      <td>2013</td>\n",
       "      <td>Action</td>\n",
       "      <td>9.66</td>\n",
       "      <td>5.14</td>\n",
       "      <td>0.06</td>\n",
       "      <td>1.41</td>\n",
       "      <td>97.0</td>\n",
       "      <td>8.1</td>\n",
       "      <td>M</td>\n",
       "      <td>16.27</td>\n",
       "    </tr>\n",
       "    <tr>\n",
       "      <th>24</th>\n",
       "      <td>Grand Theft Auto: Vice City</td>\n",
       "      <td>PS2</td>\n",
       "      <td>2002</td>\n",
       "      <td>Action</td>\n",
       "      <td>8.41</td>\n",
       "      <td>5.49</td>\n",
       "      <td>0.47</td>\n",
       "      <td>1.78</td>\n",
       "      <td>95.0</td>\n",
       "      <td>8.7</td>\n",
       "      <td>M</td>\n",
       "      <td>16.15</td>\n",
       "    </tr>\n",
       "    <tr>\n",
       "      <th>25</th>\n",
       "      <td>Pokemon Ruby/Pokemon Sapphire</td>\n",
       "      <td>GBA</td>\n",
       "      <td>2002</td>\n",
       "      <td>Role-Playing</td>\n",
       "      <td>6.06</td>\n",
       "      <td>3.90</td>\n",
       "      <td>5.38</td>\n",
       "      <td>0.50</td>\n",
       "      <td>NaN</td>\n",
       "      <td>NaN</td>\n",
       "      <td>NaN</td>\n",
       "      <td>15.84</td>\n",
       "    </tr>\n",
       "    <tr>\n",
       "      <th>26</th>\n",
       "      <td>Brain Age 2: More Training in Minutes a Day</td>\n",
       "      <td>DS</td>\n",
       "      <td>2005</td>\n",
       "      <td>Puzzle</td>\n",
       "      <td>3.43</td>\n",
       "      <td>5.35</td>\n",
       "      <td>5.32</td>\n",
       "      <td>1.18</td>\n",
       "      <td>77.0</td>\n",
       "      <td>7.1</td>\n",
       "      <td>E</td>\n",
       "      <td>15.28</td>\n",
       "    </tr>\n",
       "    <tr>\n",
       "      <th>27</th>\n",
       "      <td>Pokemon Black/Pokemon White</td>\n",
       "      <td>DS</td>\n",
       "      <td>2010</td>\n",
       "      <td>Role-Playing</td>\n",
       "      <td>5.51</td>\n",
       "      <td>3.17</td>\n",
       "      <td>5.65</td>\n",
       "      <td>0.80</td>\n",
       "      <td>NaN</td>\n",
       "      <td>NaN</td>\n",
       "      <td>NaN</td>\n",
       "      <td>15.13</td>\n",
       "    </tr>\n",
       "    <tr>\n",
       "      <th>28</th>\n",
       "      <td>Gran Turismo 3: A-Spec</td>\n",
       "      <td>PS2</td>\n",
       "      <td>2001</td>\n",
       "      <td>Racing</td>\n",
       "      <td>6.85</td>\n",
       "      <td>5.09</td>\n",
       "      <td>1.87</td>\n",
       "      <td>1.16</td>\n",
       "      <td>95.0</td>\n",
       "      <td>8.4</td>\n",
       "      <td>E</td>\n",
       "      <td>14.97</td>\n",
       "    </tr>\n",
       "    <tr>\n",
       "      <th>29</th>\n",
       "      <td>Call of Duty: Modern Warfare 3</td>\n",
       "      <td>X360</td>\n",
       "      <td>2011</td>\n",
       "      <td>Shooter</td>\n",
       "      <td>9.04</td>\n",
       "      <td>4.24</td>\n",
       "      <td>0.13</td>\n",
       "      <td>1.32</td>\n",
       "      <td>88.0</td>\n",
       "      <td>3.4</td>\n",
       "      <td>M</td>\n",
       "      <td>14.73</td>\n",
       "    </tr>\n",
       "    <tr>\n",
       "      <th>30</th>\n",
       "      <td>Pokémon Yellow: Special Pikachu Edition</td>\n",
       "      <td>GB</td>\n",
       "      <td>1998</td>\n",
       "      <td>Role-Playing</td>\n",
       "      <td>5.89</td>\n",
       "      <td>5.04</td>\n",
       "      <td>3.12</td>\n",
       "      <td>0.59</td>\n",
       "      <td>NaN</td>\n",
       "      <td>NaN</td>\n",
       "      <td>NaN</td>\n",
       "      <td>14.64</td>\n",
       "    </tr>\n",
       "    <tr>\n",
       "      <th>31</th>\n",
       "      <td>Call of Duty: Black Ops 3</td>\n",
       "      <td>PS4</td>\n",
       "      <td>2015</td>\n",
       "      <td>Shooter</td>\n",
       "      <td>6.03</td>\n",
       "      <td>5.86</td>\n",
       "      <td>0.36</td>\n",
       "      <td>2.38</td>\n",
       "      <td>NaN</td>\n",
       "      <td>NaN</td>\n",
       "      <td>NaN</td>\n",
       "      <td>14.63</td>\n",
       "    </tr>\n",
       "    <tr>\n",
       "      <th>32</th>\n",
       "      <td>Call of Duty: Black Ops</td>\n",
       "      <td>X360</td>\n",
       "      <td>2010</td>\n",
       "      <td>Shooter</td>\n",
       "      <td>9.70</td>\n",
       "      <td>3.68</td>\n",
       "      <td>0.11</td>\n",
       "      <td>1.13</td>\n",
       "      <td>87.0</td>\n",
       "      <td>6.3</td>\n",
       "      <td>M</td>\n",
       "      <td>14.62</td>\n",
       "    </tr>\n",
       "    <tr>\n",
       "      <th>33</th>\n",
       "      <td>Pokemon X/Pokemon Y</td>\n",
       "      <td>3DS</td>\n",
       "      <td>2013</td>\n",
       "      <td>Role-Playing</td>\n",
       "      <td>5.28</td>\n",
       "      <td>4.19</td>\n",
       "      <td>4.35</td>\n",
       "      <td>0.78</td>\n",
       "      <td>NaN</td>\n",
       "      <td>NaN</td>\n",
       "      <td>NaN</td>\n",
       "      <td>14.60</td>\n",
       "    </tr>\n",
       "    <tr>\n",
       "      <th>34</th>\n",
       "      <td>Call of Duty: Black Ops II</td>\n",
       "      <td>PS3</td>\n",
       "      <td>2012</td>\n",
       "      <td>Shooter</td>\n",
       "      <td>4.99</td>\n",
       "      <td>5.73</td>\n",
       "      <td>0.65</td>\n",
       "      <td>2.42</td>\n",
       "      <td>83.0</td>\n",
       "      <td>5.3</td>\n",
       "      <td>M</td>\n",
       "      <td>13.79</td>\n",
       "    </tr>\n",
       "    <tr>\n",
       "      <th>35</th>\n",
       "      <td>Call of Duty: Black Ops II</td>\n",
       "      <td>X360</td>\n",
       "      <td>2012</td>\n",
       "      <td>Shooter</td>\n",
       "      <td>8.25</td>\n",
       "      <td>4.24</td>\n",
       "      <td>0.07</td>\n",
       "      <td>1.12</td>\n",
       "      <td>83.0</td>\n",
       "      <td>4.8</td>\n",
       "      <td>M</td>\n",
       "      <td>13.68</td>\n",
       "    </tr>\n",
       "    <tr>\n",
       "      <th>36</th>\n",
       "      <td>Call of Duty: Modern Warfare 2</td>\n",
       "      <td>X360</td>\n",
       "      <td>2009</td>\n",
       "      <td>Shooter</td>\n",
       "      <td>8.52</td>\n",
       "      <td>3.59</td>\n",
       "      <td>0.08</td>\n",
       "      <td>1.28</td>\n",
       "      <td>94.0</td>\n",
       "      <td>6.3</td>\n",
       "      <td>M</td>\n",
       "      <td>13.47</td>\n",
       "    </tr>\n",
       "    <tr>\n",
       "      <th>37</th>\n",
       "      <td>Call of Duty: Modern Warfare 3</td>\n",
       "      <td>PS3</td>\n",
       "      <td>2011</td>\n",
       "      <td>Shooter</td>\n",
       "      <td>5.54</td>\n",
       "      <td>5.73</td>\n",
       "      <td>0.49</td>\n",
       "      <td>1.57</td>\n",
       "      <td>88.0</td>\n",
       "      <td>3.2</td>\n",
       "      <td>M</td>\n",
       "      <td>13.33</td>\n",
       "    </tr>\n",
       "    <tr>\n",
       "      <th>38</th>\n",
       "      <td>Grand Theft Auto III</td>\n",
       "      <td>PS2</td>\n",
       "      <td>2001</td>\n",
       "      <td>Action</td>\n",
       "      <td>6.99</td>\n",
       "      <td>4.51</td>\n",
       "      <td>0.30</td>\n",
       "      <td>1.30</td>\n",
       "      <td>97.0</td>\n",
       "      <td>8.5</td>\n",
       "      <td>M</td>\n",
       "      <td>13.10</td>\n",
       "    </tr>\n",
       "    <tr>\n",
       "      <th>39</th>\n",
       "      <td>Super Smash Bros. Brawl</td>\n",
       "      <td>Wii</td>\n",
       "      <td>2008</td>\n",
       "      <td>Fighting</td>\n",
       "      <td>6.62</td>\n",
       "      <td>2.55</td>\n",
       "      <td>2.66</td>\n",
       "      <td>1.01</td>\n",
       "      <td>93.0</td>\n",
       "      <td>8.9</td>\n",
       "      <td>T</td>\n",
       "      <td>12.84</td>\n",
       "    </tr>\n",
       "    <tr>\n",
       "      <th>40</th>\n",
       "      <td>Mario Kart 7</td>\n",
       "      <td>3DS</td>\n",
       "      <td>2011</td>\n",
       "      <td>Racing</td>\n",
       "      <td>5.03</td>\n",
       "      <td>4.02</td>\n",
       "      <td>2.69</td>\n",
       "      <td>0.91</td>\n",
       "      <td>85.0</td>\n",
       "      <td>8.2</td>\n",
       "      <td>E</td>\n",
       "      <td>12.65</td>\n",
       "    </tr>\n",
       "    <tr>\n",
       "      <th>41</th>\n",
       "      <td>Call of Duty: Black Ops</td>\n",
       "      <td>PS3</td>\n",
       "      <td>2010</td>\n",
       "      <td>Shooter</td>\n",
       "      <td>5.99</td>\n",
       "      <td>4.37</td>\n",
       "      <td>0.48</td>\n",
       "      <td>1.79</td>\n",
       "      <td>88.0</td>\n",
       "      <td>6.4</td>\n",
       "      <td>M</td>\n",
       "      <td>12.63</td>\n",
       "    </tr>\n",
       "    <tr>\n",
       "      <th>42</th>\n",
       "      <td>Grand Theft Auto V</td>\n",
       "      <td>PS4</td>\n",
       "      <td>2014</td>\n",
       "      <td>Action</td>\n",
       "      <td>3.96</td>\n",
       "      <td>6.31</td>\n",
       "      <td>0.38</td>\n",
       "      <td>1.97</td>\n",
       "      <td>97.0</td>\n",
       "      <td>8.3</td>\n",
       "      <td>M</td>\n",
       "      <td>12.62</td>\n",
       "    </tr>\n",
       "    <tr>\n",
       "      <th>43</th>\n",
       "      <td>Animal Crossing: Wild World</td>\n",
       "      <td>DS</td>\n",
       "      <td>2005</td>\n",
       "      <td>Simulation</td>\n",
       "      <td>2.50</td>\n",
       "      <td>3.45</td>\n",
       "      <td>5.33</td>\n",
       "      <td>0.86</td>\n",
       "      <td>86.0</td>\n",
       "      <td>8.7</td>\n",
       "      <td>E</td>\n",
       "      <td>12.14</td>\n",
       "    </tr>\n",
       "    <tr>\n",
       "      <th>44</th>\n",
       "      <td>Halo 3</td>\n",
       "      <td>X360</td>\n",
       "      <td>2007</td>\n",
       "      <td>Shooter</td>\n",
       "      <td>7.97</td>\n",
       "      <td>2.81</td>\n",
       "      <td>0.13</td>\n",
       "      <td>1.21</td>\n",
       "      <td>94.0</td>\n",
       "      <td>7.8</td>\n",
       "      <td>M</td>\n",
       "      <td>12.12</td>\n",
       "    </tr>\n",
       "    <tr>\n",
       "      <th>45</th>\n",
       "      <td>Super Mario 64</td>\n",
       "      <td>N64</td>\n",
       "      <td>1996</td>\n",
       "      <td>Platform</td>\n",
       "      <td>6.91</td>\n",
       "      <td>2.85</td>\n",
       "      <td>1.91</td>\n",
       "      <td>0.23</td>\n",
       "      <td>NaN</td>\n",
       "      <td>NaN</td>\n",
       "      <td>NaN</td>\n",
       "      <td>11.90</td>\n",
       "    </tr>\n",
       "    <tr>\n",
       "      <th>46</th>\n",
       "      <td>Pokemon HeartGold/Pokemon SoulSilver</td>\n",
       "      <td>DS</td>\n",
       "      <td>2009</td>\n",
       "      <td>Action</td>\n",
       "      <td>4.34</td>\n",
       "      <td>2.71</td>\n",
       "      <td>3.96</td>\n",
       "      <td>0.76</td>\n",
       "      <td>NaN</td>\n",
       "      <td>NaN</td>\n",
       "      <td>NaN</td>\n",
       "      <td>11.77</td>\n",
       "    </tr>\n",
       "    <tr>\n",
       "      <th>47</th>\n",
       "      <td>Pokemon Omega Ruby/Pokemon Alpha Sapphire</td>\n",
       "      <td>3DS</td>\n",
       "      <td>2014</td>\n",
       "      <td>Role-Playing</td>\n",
       "      <td>4.35</td>\n",
       "      <td>3.49</td>\n",
       "      <td>3.10</td>\n",
       "      <td>0.74</td>\n",
       "      <td>NaN</td>\n",
       "      <td>NaN</td>\n",
       "      <td>NaN</td>\n",
       "      <td>11.68</td>\n",
       "    </tr>\n",
       "    <tr>\n",
       "      <th>48</th>\n",
       "      <td>Gran Turismo 4</td>\n",
       "      <td>PS2</td>\n",
       "      <td>2004</td>\n",
       "      <td>Racing</td>\n",
       "      <td>3.01</td>\n",
       "      <td>0.01</td>\n",
       "      <td>1.10</td>\n",
       "      <td>7.53</td>\n",
       "      <td>89.0</td>\n",
       "      <td>8.5</td>\n",
       "      <td>E</td>\n",
       "      <td>11.65</td>\n",
       "    </tr>\n",
       "    <tr>\n",
       "      <th>49</th>\n",
       "      <td>Super Mario Galaxy</td>\n",
       "      <td>Wii</td>\n",
       "      <td>2007</td>\n",
       "      <td>Platform</td>\n",
       "      <td>6.06</td>\n",
       "      <td>3.35</td>\n",
       "      <td>1.20</td>\n",
       "      <td>0.74</td>\n",
       "      <td>97.0</td>\n",
       "      <td>8.9</td>\n",
       "      <td>E</td>\n",
       "      <td>11.35</td>\n",
       "    </tr>\n",
       "  </tbody>\n",
       "</table>\n",
       "</div>"
      ],
      "text/plain": [
       "                                            name platform  year_of_release  \\\n",
       "0                                     Wii Sports      Wii             2006   \n",
       "1                              Super Mario Bros.      NES             1985   \n",
       "2                                 Mario Kart Wii      Wii             2008   \n",
       "3                              Wii Sports Resort      Wii             2009   \n",
       "4                       Pokemon Red/Pokemon Blue       GB             1996   \n",
       "5                                         Tetris       GB             1989   \n",
       "6                          New Super Mario Bros.       DS             2006   \n",
       "7                                       Wii Play      Wii             2006   \n",
       "8                      New Super Mario Bros. Wii      Wii             2009   \n",
       "9                                      Duck Hunt      NES             1984   \n",
       "10                                    Nintendogs       DS             2005   \n",
       "11                                 Mario Kart DS       DS             2005   \n",
       "12                   Pokemon Gold/Pokemon Silver       GB             1999   \n",
       "13                                       Wii Fit      Wii             2007   \n",
       "14                            Kinect Adventures!     X360             2010   \n",
       "15                                  Wii Fit Plus      Wii             2009   \n",
       "16                            Grand Theft Auto V      PS3             2013   \n",
       "17                 Grand Theft Auto: San Andreas      PS2             2004   \n",
       "18                             Super Mario World     SNES             1990   \n",
       "19  Brain Age: Train Your Brain in Minutes a Day       DS             2005   \n",
       "20                 Pokemon Diamond/Pokemon Pearl       DS             2006   \n",
       "21                              Super Mario Land       GB             1989   \n",
       "22                           Super Mario Bros. 3      NES             1988   \n",
       "23                            Grand Theft Auto V     X360             2013   \n",
       "24                   Grand Theft Auto: Vice City      PS2             2002   \n",
       "25                 Pokemon Ruby/Pokemon Sapphire      GBA             2002   \n",
       "26   Brain Age 2: More Training in Minutes a Day       DS             2005   \n",
       "27                   Pokemon Black/Pokemon White       DS             2010   \n",
       "28                        Gran Turismo 3: A-Spec      PS2             2001   \n",
       "29                Call of Duty: Modern Warfare 3     X360             2011   \n",
       "30       Pokémon Yellow: Special Pikachu Edition       GB             1998   \n",
       "31                     Call of Duty: Black Ops 3      PS4             2015   \n",
       "32                       Call of Duty: Black Ops     X360             2010   \n",
       "33                           Pokemon X/Pokemon Y      3DS             2013   \n",
       "34                    Call of Duty: Black Ops II      PS3             2012   \n",
       "35                    Call of Duty: Black Ops II     X360             2012   \n",
       "36                Call of Duty: Modern Warfare 2     X360             2009   \n",
       "37                Call of Duty: Modern Warfare 3      PS3             2011   \n",
       "38                          Grand Theft Auto III      PS2             2001   \n",
       "39                       Super Smash Bros. Brawl      Wii             2008   \n",
       "40                                  Mario Kart 7      3DS             2011   \n",
       "41                       Call of Duty: Black Ops      PS3             2010   \n",
       "42                            Grand Theft Auto V      PS4             2014   \n",
       "43                   Animal Crossing: Wild World       DS             2005   \n",
       "44                                        Halo 3     X360             2007   \n",
       "45                                Super Mario 64      N64             1996   \n",
       "46          Pokemon HeartGold/Pokemon SoulSilver       DS             2009   \n",
       "47     Pokemon Omega Ruby/Pokemon Alpha Sapphire      3DS             2014   \n",
       "48                                Gran Turismo 4      PS2             2004   \n",
       "49                            Super Mario Galaxy      Wii             2007   \n",
       "\n",
       "           genre  na_sales  eu_sales  jp_sales  other_sales  critic_score  \\\n",
       "0         Sports     41.36     28.96      3.77         8.45          76.0   \n",
       "1       Platform     29.08      3.58      6.81         0.77           NaN   \n",
       "2         Racing     15.68     12.76      3.79         3.29          82.0   \n",
       "3         Sports     15.61     10.93      3.28         2.95          80.0   \n",
       "4   Role-Playing     11.27      8.89     10.22         1.00           NaN   \n",
       "5         Puzzle     23.20      2.26      4.22         0.58           NaN   \n",
       "6       Platform     11.28      9.14      6.50         2.88          89.0   \n",
       "7           Misc     13.96      9.18      2.93         2.84          58.0   \n",
       "8       Platform     14.44      6.94      4.70         2.24          87.0   \n",
       "9        Shooter     26.93      0.63      0.28         0.47           NaN   \n",
       "10    Simulation      9.05     10.95      1.93         2.74           NaN   \n",
       "11        Racing      9.71      7.47      4.13         1.90          91.0   \n",
       "12  Role-Playing      9.00      6.18      7.20         0.71           NaN   \n",
       "13        Sports      8.92      8.03      3.60         2.15          80.0   \n",
       "14          Misc     15.00      4.89      0.24         1.69          61.0   \n",
       "15        Sports      9.01      8.49      2.53         1.77          80.0   \n",
       "16        Action      7.02      9.09      0.98         3.96          97.0   \n",
       "17        Action      9.43      0.40      0.41        10.57          95.0   \n",
       "18      Platform     12.78      3.75      3.54         0.55           NaN   \n",
       "19          Misc      4.74      9.20      4.16         2.04          77.0   \n",
       "20  Role-Playing      6.38      4.46      6.04         1.36           NaN   \n",
       "21      Platform     10.83      2.71      4.18         0.42           NaN   \n",
       "22      Platform      9.54      3.44      3.84         0.46           NaN   \n",
       "23        Action      9.66      5.14      0.06         1.41          97.0   \n",
       "24        Action      8.41      5.49      0.47         1.78          95.0   \n",
       "25  Role-Playing      6.06      3.90      5.38         0.50           NaN   \n",
       "26        Puzzle      3.43      5.35      5.32         1.18          77.0   \n",
       "27  Role-Playing      5.51      3.17      5.65         0.80           NaN   \n",
       "28        Racing      6.85      5.09      1.87         1.16          95.0   \n",
       "29       Shooter      9.04      4.24      0.13         1.32          88.0   \n",
       "30  Role-Playing      5.89      5.04      3.12         0.59           NaN   \n",
       "31       Shooter      6.03      5.86      0.36         2.38           NaN   \n",
       "32       Shooter      9.70      3.68      0.11         1.13          87.0   \n",
       "33  Role-Playing      5.28      4.19      4.35         0.78           NaN   \n",
       "34       Shooter      4.99      5.73      0.65         2.42          83.0   \n",
       "35       Shooter      8.25      4.24      0.07         1.12          83.0   \n",
       "36       Shooter      8.52      3.59      0.08         1.28          94.0   \n",
       "37       Shooter      5.54      5.73      0.49         1.57          88.0   \n",
       "38        Action      6.99      4.51      0.30         1.30          97.0   \n",
       "39      Fighting      6.62      2.55      2.66         1.01          93.0   \n",
       "40        Racing      5.03      4.02      2.69         0.91          85.0   \n",
       "41       Shooter      5.99      4.37      0.48         1.79          88.0   \n",
       "42        Action      3.96      6.31      0.38         1.97          97.0   \n",
       "43    Simulation      2.50      3.45      5.33         0.86          86.0   \n",
       "44       Shooter      7.97      2.81      0.13         1.21          94.0   \n",
       "45      Platform      6.91      2.85      1.91         0.23           NaN   \n",
       "46        Action      4.34      2.71      3.96         0.76           NaN   \n",
       "47  Role-Playing      4.35      3.49      3.10         0.74           NaN   \n",
       "48        Racing      3.01      0.01      1.10         7.53          89.0   \n",
       "49      Platform      6.06      3.35      1.20         0.74          97.0   \n",
       "\n",
       "    user_score rating  total_sales  \n",
       "0          8.0      E        82.54  \n",
       "1          NaN    NaN        40.24  \n",
       "2          8.3      E        35.52  \n",
       "3          8.0      E        32.77  \n",
       "4          NaN    NaN        31.38  \n",
       "5          NaN    NaN        30.26  \n",
       "6          8.5      E        29.80  \n",
       "7          6.6      E        28.91  \n",
       "8          8.4      E        28.32  \n",
       "9          NaN    NaN        28.31  \n",
       "10         NaN    NaN        24.67  \n",
       "11         8.6      E        23.21  \n",
       "12         NaN    NaN        23.09  \n",
       "13         7.7      E        22.70  \n",
       "14         6.3      E        21.82  \n",
       "15         7.4      E        21.80  \n",
       "16         8.2      M        21.05  \n",
       "17         9.0      M        20.81  \n",
       "18         NaN    NaN        20.62  \n",
       "19         7.9      E        20.14  \n",
       "20         NaN    NaN        18.24  \n",
       "21         NaN    NaN        18.14  \n",
       "22         NaN    NaN        17.28  \n",
       "23         8.1      M        16.27  \n",
       "24         8.7      M        16.15  \n",
       "25         NaN    NaN        15.84  \n",
       "26         7.1      E        15.28  \n",
       "27         NaN    NaN        15.13  \n",
       "28         8.4      E        14.97  \n",
       "29         3.4      M        14.73  \n",
       "30         NaN    NaN        14.64  \n",
       "31         NaN    NaN        14.63  \n",
       "32         6.3      M        14.62  \n",
       "33         NaN    NaN        14.60  \n",
       "34         5.3      M        13.79  \n",
       "35         4.8      M        13.68  \n",
       "36         6.3      M        13.47  \n",
       "37         3.2      M        13.33  \n",
       "38         8.5      M        13.10  \n",
       "39         8.9      T        12.84  \n",
       "40         8.2      E        12.65  \n",
       "41         6.4      M        12.63  \n",
       "42         8.3      M        12.62  \n",
       "43         8.7      E        12.14  \n",
       "44         7.8      M        12.12  \n",
       "45         NaN    NaN        11.90  \n",
       "46         NaN    NaN        11.77  \n",
       "47         NaN    NaN        11.68  \n",
       "48         8.5      E        11.65  \n",
       "49         8.9      E        11.35  "
      ]
     },
     "execution_count": 9,
     "metadata": {},
     "output_type": "execute_result"
    }
   ],
   "source": [
    "data['total_sales'] = data[['na_sales','eu_sales','jp_sales', 'other_sales']].sum(axis = 1)\n",
    "data.head(50)"
   ]
  },
  {
   "cell_type": "markdown",
   "metadata": {},
   "source": [
    "Добавлены данные с общими продажами"
   ]
  },
  {
   "cell_type": "code",
   "execution_count": 10,
   "metadata": {},
   "outputs": [
    {
     "data": {
      "text/html": [
       "<div>\n",
       "<style scoped>\n",
       "    .dataframe tbody tr th:only-of-type {\n",
       "        vertical-align: middle;\n",
       "    }\n",
       "\n",
       "    .dataframe tbody tr th {\n",
       "        vertical-align: top;\n",
       "    }\n",
       "\n",
       "    .dataframe thead th {\n",
       "        text-align: right;\n",
       "    }\n",
       "</style>\n",
       "<table border=\"1\" class=\"dataframe\">\n",
       "  <thead>\n",
       "    <tr style=\"text-align: right;\">\n",
       "      <th></th>\n",
       "      <th>name</th>\n",
       "    </tr>\n",
       "    <tr>\n",
       "      <th>year_of_release</th>\n",
       "      <th></th>\n",
       "    </tr>\n",
       "  </thead>\n",
       "  <tbody>\n",
       "    <tr>\n",
       "      <th>1980</th>\n",
       "      <td>9</td>\n",
       "    </tr>\n",
       "    <tr>\n",
       "      <th>1981</th>\n",
       "      <td>46</td>\n",
       "    </tr>\n",
       "    <tr>\n",
       "      <th>1982</th>\n",
       "      <td>36</td>\n",
       "    </tr>\n",
       "    <tr>\n",
       "      <th>1983</th>\n",
       "      <td>17</td>\n",
       "    </tr>\n",
       "    <tr>\n",
       "      <th>1984</th>\n",
       "      <td>14</td>\n",
       "    </tr>\n",
       "    <tr>\n",
       "      <th>1985</th>\n",
       "      <td>14</td>\n",
       "    </tr>\n",
       "    <tr>\n",
       "      <th>1986</th>\n",
       "      <td>21</td>\n",
       "    </tr>\n",
       "    <tr>\n",
       "      <th>1987</th>\n",
       "      <td>16</td>\n",
       "    </tr>\n",
       "    <tr>\n",
       "      <th>1988</th>\n",
       "      <td>15</td>\n",
       "    </tr>\n",
       "    <tr>\n",
       "      <th>1989</th>\n",
       "      <td>17</td>\n",
       "    </tr>\n",
       "    <tr>\n",
       "      <th>1990</th>\n",
       "      <td>16</td>\n",
       "    </tr>\n",
       "    <tr>\n",
       "      <th>1991</th>\n",
       "      <td>41</td>\n",
       "    </tr>\n",
       "    <tr>\n",
       "      <th>1992</th>\n",
       "      <td>43</td>\n",
       "    </tr>\n",
       "    <tr>\n",
       "      <th>1993</th>\n",
       "      <td>60</td>\n",
       "    </tr>\n",
       "    <tr>\n",
       "      <th>1994</th>\n",
       "      <td>121</td>\n",
       "    </tr>\n",
       "    <tr>\n",
       "      <th>1995</th>\n",
       "      <td>219</td>\n",
       "    </tr>\n",
       "    <tr>\n",
       "      <th>1996</th>\n",
       "      <td>263</td>\n",
       "    </tr>\n",
       "    <tr>\n",
       "      <th>1997</th>\n",
       "      <td>289</td>\n",
       "    </tr>\n",
       "    <tr>\n",
       "      <th>1998</th>\n",
       "      <td>379</td>\n",
       "    </tr>\n",
       "    <tr>\n",
       "      <th>1999</th>\n",
       "      <td>338</td>\n",
       "    </tr>\n",
       "    <tr>\n",
       "      <th>2000</th>\n",
       "      <td>350</td>\n",
       "    </tr>\n",
       "    <tr>\n",
       "      <th>2001</th>\n",
       "      <td>482</td>\n",
       "    </tr>\n",
       "    <tr>\n",
       "      <th>2002</th>\n",
       "      <td>829</td>\n",
       "    </tr>\n",
       "    <tr>\n",
       "      <th>2003</th>\n",
       "      <td>775</td>\n",
       "    </tr>\n",
       "    <tr>\n",
       "      <th>2004</th>\n",
       "      <td>762</td>\n",
       "    </tr>\n",
       "    <tr>\n",
       "      <th>2005</th>\n",
       "      <td>939</td>\n",
       "    </tr>\n",
       "    <tr>\n",
       "      <th>2006</th>\n",
       "      <td>1275</td>\n",
       "    </tr>\n",
       "    <tr>\n",
       "      <th>2007</th>\n",
       "      <td>1197</td>\n",
       "    </tr>\n",
       "    <tr>\n",
       "      <th>2008</th>\n",
       "      <td>1427</td>\n",
       "    </tr>\n",
       "    <tr>\n",
       "      <th>2009</th>\n",
       "      <td>1426</td>\n",
       "    </tr>\n",
       "    <tr>\n",
       "      <th>2010</th>\n",
       "      <td>1255</td>\n",
       "    </tr>\n",
       "    <tr>\n",
       "      <th>2011</th>\n",
       "      <td>1136</td>\n",
       "    </tr>\n",
       "    <tr>\n",
       "      <th>2012</th>\n",
       "      <td>653</td>\n",
       "    </tr>\n",
       "    <tr>\n",
       "      <th>2013</th>\n",
       "      <td>544</td>\n",
       "    </tr>\n",
       "    <tr>\n",
       "      <th>2014</th>\n",
       "      <td>581</td>\n",
       "    </tr>\n",
       "    <tr>\n",
       "      <th>2015</th>\n",
       "      <td>606</td>\n",
       "    </tr>\n",
       "    <tr>\n",
       "      <th>2016</th>\n",
       "      <td>502</td>\n",
       "    </tr>\n",
       "  </tbody>\n",
       "</table>\n",
       "</div>"
      ],
      "text/plain": [
       "                 name\n",
       "year_of_release      \n",
       "1980                9\n",
       "1981               46\n",
       "1982               36\n",
       "1983               17\n",
       "1984               14\n",
       "1985               14\n",
       "1986               21\n",
       "1987               16\n",
       "1988               15\n",
       "1989               17\n",
       "1990               16\n",
       "1991               41\n",
       "1992               43\n",
       "1993               60\n",
       "1994              121\n",
       "1995              219\n",
       "1996              263\n",
       "1997              289\n",
       "1998              379\n",
       "1999              338\n",
       "2000              350\n",
       "2001              482\n",
       "2002              829\n",
       "2003              775\n",
       "2004              762\n",
       "2005              939\n",
       "2006             1275\n",
       "2007             1197\n",
       "2008             1427\n",
       "2009             1426\n",
       "2010             1255\n",
       "2011             1136\n",
       "2012              653\n",
       "2013              544\n",
       "2014              581\n",
       "2015              606\n",
       "2016              502"
      ]
     },
     "metadata": {},
     "output_type": "display_data"
    }
   ],
   "source": [
    "data_by_year = data.pivot_table(index='year_of_release', values='name', aggfunc='count')\n",
    "display(data_by_year)"
   ]
  },
  {
   "cell_type": "markdown",
   "metadata": {},
   "source": [
    "В соответствии с условиями задачи рассчитано количество выпущенных игр в разрезе  по годам"
   ]
  },
  {
   "cell_type": "code",
   "execution_count": 11,
   "metadata": {},
   "outputs": [
    {
     "data": {
      "image/png": "[encoded data removed]",
      "text/plain": [
       "<Figure size 432x288 with 1 Axes>"
      ]
     },
     "metadata": {
      "needs_background": "light"
     },
     "output_type": "display_data"
    }
   ],
   "source": [
    "data_by_year = data_by_year.reset_index()\n",
    "data_by_year.head()\n",
    "data_by_year.plot(x='year_of_release', y='name');"
   ]
  },
  {
   "cell_type": "markdown",
   "metadata": {},
   "source": [
    "Представление результатов в графическом виде. В 1980-1990 годы выпускалось минимальное количество игр"
   ]
  },
  {
   "cell_type": "code",
   "execution_count": 12,
   "metadata": {},
   "outputs": [
    {
     "data": {
      "text/html": [
       "<div>\n",
       "<style scoped>\n",
       "    .dataframe tbody tr th:only-of-type {\n",
       "        vertical-align: middle;\n",
       "    }\n",
       "\n",
       "    .dataframe tbody tr th {\n",
       "        vertical-align: top;\n",
       "    }\n",
       "\n",
       "    .dataframe thead th {\n",
       "        text-align: right;\n",
       "    }\n",
       "</style>\n",
       "<table border=\"1\" class=\"dataframe\">\n",
       "  <thead>\n",
       "    <tr style=\"text-align: right;\">\n",
       "      <th></th>\n",
       "      <th>total_sales</th>\n",
       "    </tr>\n",
       "    <tr>\n",
       "      <th>platform</th>\n",
       "      <th></th>\n",
       "    </tr>\n",
       "  </thead>\n",
       "  <tbody>\n",
       "    <tr>\n",
       "      <th>PS2</th>\n",
       "      <td>1255.77</td>\n",
       "    </tr>\n",
       "    <tr>\n",
       "      <th>X360</th>\n",
       "      <td>971.42</td>\n",
       "    </tr>\n",
       "    <tr>\n",
       "      <th>PS3</th>\n",
       "      <td>939.65</td>\n",
       "    </tr>\n",
       "    <tr>\n",
       "      <th>Wii</th>\n",
       "      <td>907.51</td>\n",
       "    </tr>\n",
       "    <tr>\n",
       "      <th>DS</th>\n",
       "      <td>806.12</td>\n",
       "    </tr>\n",
       "    <tr>\n",
       "      <th>PS</th>\n",
       "      <td>730.86</td>\n",
       "    </tr>\n",
       "    <tr>\n",
       "      <th>GBA</th>\n",
       "      <td>317.85</td>\n",
       "    </tr>\n",
       "    <tr>\n",
       "      <th>PS4</th>\n",
       "      <td>314.14</td>\n",
       "    </tr>\n",
       "    <tr>\n",
       "      <th>PSP</th>\n",
       "      <td>294.05</td>\n",
       "    </tr>\n",
       "    <tr>\n",
       "      <th>PC</th>\n",
       "      <td>259.52</td>\n",
       "    </tr>\n",
       "    <tr>\n",
       "      <th>3DS</th>\n",
       "      <td>259.00</td>\n",
       "    </tr>\n",
       "    <tr>\n",
       "      <th>XB</th>\n",
       "      <td>257.74</td>\n",
       "    </tr>\n",
       "    <tr>\n",
       "      <th>GB</th>\n",
       "      <td>255.46</td>\n",
       "    </tr>\n",
       "    <tr>\n",
       "      <th>NES</th>\n",
       "      <td>251.05</td>\n",
       "    </tr>\n",
       "    <tr>\n",
       "      <th>N64</th>\n",
       "      <td>218.68</td>\n",
       "    </tr>\n",
       "    <tr>\n",
       "      <th>SNES</th>\n",
       "      <td>200.04</td>\n",
       "    </tr>\n",
       "    <tr>\n",
       "      <th>GC</th>\n",
       "      <td>198.93</td>\n",
       "    </tr>\n",
       "    <tr>\n",
       "      <th>XOne</th>\n",
       "      <td>159.32</td>\n",
       "    </tr>\n",
       "    <tr>\n",
       "      <th>2600</th>\n",
       "      <td>96.98</td>\n",
       "    </tr>\n",
       "    <tr>\n",
       "      <th>WiiU</th>\n",
       "      <td>82.19</td>\n",
       "    </tr>\n",
       "    <tr>\n",
       "      <th>PSV</th>\n",
       "      <td>54.07</td>\n",
       "    </tr>\n",
       "    <tr>\n",
       "      <th>SAT</th>\n",
       "      <td>33.59</td>\n",
       "    </tr>\n",
       "    <tr>\n",
       "      <th>GEN</th>\n",
       "      <td>30.77</td>\n",
       "    </tr>\n",
       "    <tr>\n",
       "      <th>DC</th>\n",
       "      <td>15.95</td>\n",
       "    </tr>\n",
       "    <tr>\n",
       "      <th>SCD</th>\n",
       "      <td>1.86</td>\n",
       "    </tr>\n",
       "    <tr>\n",
       "      <th>NG</th>\n",
       "      <td>1.44</td>\n",
       "    </tr>\n",
       "    <tr>\n",
       "      <th>WS</th>\n",
       "      <td>1.42</td>\n",
       "    </tr>\n",
       "    <tr>\n",
       "      <th>TG16</th>\n",
       "      <td>0.16</td>\n",
       "    </tr>\n",
       "    <tr>\n",
       "      <th>3DO</th>\n",
       "      <td>0.10</td>\n",
       "    </tr>\n",
       "    <tr>\n",
       "      <th>GG</th>\n",
       "      <td>0.04</td>\n",
       "    </tr>\n",
       "    <tr>\n",
       "      <th>PCFX</th>\n",
       "      <td>0.03</td>\n",
       "    </tr>\n",
       "  </tbody>\n",
       "</table>\n",
       "</div>"
      ],
      "text/plain": [
       "          total_sales\n",
       "platform             \n",
       "PS2           1255.77\n",
       "X360           971.42\n",
       "PS3            939.65\n",
       "Wii            907.51\n",
       "DS             806.12\n",
       "PS             730.86\n",
       "GBA            317.85\n",
       "PS4            314.14\n",
       "PSP            294.05\n",
       "PC             259.52\n",
       "3DS            259.00\n",
       "XB             257.74\n",
       "GB             255.46\n",
       "NES            251.05\n",
       "N64            218.68\n",
       "SNES           200.04\n",
       "GC             198.93\n",
       "XOne           159.32\n",
       "2600            96.98\n",
       "WiiU            82.19\n",
       "PSV             54.07\n",
       "SAT             33.59\n",
       "GEN             30.77\n",
       "DC              15.95\n",
       "SCD              1.86\n",
       "NG               1.44\n",
       "WS               1.42\n",
       "TG16             0.16\n",
       "3DO              0.10\n",
       "GG               0.04\n",
       "PCFX             0.03"
      ]
     },
     "metadata": {},
     "output_type": "display_data"
    }
   ],
   "source": [
    "data_by_platform = data.pivot_table(index='platform', values='total_sales', aggfunc='sum').sort_values(by='total_sales', ascending=False)\n",
    "display(data_by_platform)"
   ]
  },
  {
   "cell_type": "markdown",
   "metadata": {},
   "source": [
    "Продажи в разрезе по платформам"
   ]
  },
  {
   "cell_type": "code",
   "execution_count": 13,
   "metadata": {},
   "outputs": [
    {
     "data": {
      "text/plain": [
       "0     PS2\n",
       "1    X360\n",
       "2     PS3\n",
       "3     Wii\n",
       "4      DS\n",
       "5      PS\n",
       "Name: platform, dtype: object"
      ]
     },
     "metadata": {},
     "output_type": "display_data"
    }
   ],
   "source": [
    "data_by_platform = data_by_platform.reset_index()\n",
    "best_platforms = data_by_platform['platform'].head(6)\n",
    "display(best_platforms)"
   ]
  },
  {
   "cell_type": "markdown",
   "metadata": {},
   "source": [
    "Наиболее популярными платформами в рассматриваемый период являлись PS2, X360, PS3, Wii,  DS, PS "
   ]
  },
  {
   "cell_type": "code",
   "execution_count": 14,
   "metadata": {},
   "outputs": [
    {
     "data": {
      "text/plain": [
       "<AxesSubplot:ylabel='Frequency'>"
      ]
     },
     "execution_count": 14,
     "metadata": {},
     "output_type": "execute_result"
    },
    {
     "data": {
      "image/png": "[encoded data removed]",
      "text/plain": [
       "<Figure size 432x288 with 1 Axes>"
      ]
     },
     "metadata": {
      "needs_background": "light"
     },
     "output_type": "display_data"
    }
   ],
   "source": [
    "data_ps2 = data[data['platform'] == 'PS2'] \n",
    "data_ps2_by_year = data_ps2.pivot_table(index='year_of_release', values='name', aggfunc='count')\n",
    "data_x360 = data[data['platform'] == 'X360'] \n",
    "data_x360_by_year = data_x360.pivot_table(index='year_of_release', values='name', aggfunc='count')\n",
    "data_ps3 = data[data['platform'] == 'PS3'] \n",
    "data_ps3_by_year = data_ps3.pivot_table(index='year_of_release', values='name', aggfunc='count')\n",
    "data_wii = data[data['platform'] == 'Wii'] \n",
    "data_wii_by_year = data_wii.pivot_table(index='year_of_release', values='name', aggfunc='count')\n",
    "data_ds = data[data['platform'] == 'DS'] \n",
    "data_ds_by_year = data_ds.pivot_table(index='year_of_release', values='name', aggfunc='count')\n",
    "data_ps = data[data['platform'] == 'PS'] \n",
    "data_ps_by_year = data_ps.pivot_table(index='year_of_release', values='name', aggfunc='count')\n",
    "ax = data_ps2.plot(kind='hist', y='year_of_release', histtype='step', bins=30)\n",
    "data_x360.plot(kind='hist', y='year_of_release', histtype='step', bins=30, ax=ax, legend=True)\n",
    "data_ps3.plot(kind='hist', y='year_of_release', histtype='step', bins=30, ax=ax, legend=True)\n",
    "data_wii.plot(kind='hist', y='year_of_release', histtype='step', bins=30, ax=ax, legend=True)\n",
    "data_ds.plot(kind='hist', y='year_of_release', histtype='step', bins=30, ax=ax, legend=True)\n",
    "data_ps.plot(kind='hist', y='year_of_release', histtype='step', bins=30, ax=ax, legend=True)\n"
   ]
  },
  {
   "cell_type": "markdown",
   "metadata": {},
   "source": [
    "Характерный срок жизни платформы находится в пределах 10 лет. Для дальнейших расчетов будут использоваться данные за 2015-2016 годы"
   ]
  },
  {
   "cell_type": "code",
   "execution_count": 15,
   "metadata": {},
   "outputs": [
    {
     "data": {
      "text/html": [
       "<div>\n",
       "<style scoped>\n",
       "    .dataframe tbody tr th:only-of-type {\n",
       "        vertical-align: middle;\n",
       "    }\n",
       "\n",
       "    .dataframe tbody tr th {\n",
       "        vertical-align: top;\n",
       "    }\n",
       "\n",
       "    .dataframe thead th {\n",
       "        text-align: right;\n",
       "    }\n",
       "</style>\n",
       "<table border=\"1\" class=\"dataframe\">\n",
       "  <thead>\n",
       "    <tr style=\"text-align: right;\">\n",
       "      <th></th>\n",
       "      <th>total_sales</th>\n",
       "    </tr>\n",
       "    <tr>\n",
       "      <th>platform</th>\n",
       "      <th></th>\n",
       "    </tr>\n",
       "  </thead>\n",
       "  <tbody>\n",
       "    <tr>\n",
       "      <th>PS4</th>\n",
       "      <td>188.15</td>\n",
       "    </tr>\n",
       "    <tr>\n",
       "      <th>XOne</th>\n",
       "      <td>86.29</td>\n",
       "    </tr>\n",
       "    <tr>\n",
       "      <th>3DS</th>\n",
       "      <td>42.92</td>\n",
       "    </tr>\n",
       "    <tr>\n",
       "      <th>WiiU</th>\n",
       "      <td>20.95</td>\n",
       "    </tr>\n",
       "    <tr>\n",
       "      <th>PS3</th>\n",
       "      <td>20.42</td>\n",
       "    </tr>\n",
       "    <tr>\n",
       "      <th>PC</th>\n",
       "      <td>13.77</td>\n",
       "    </tr>\n",
       "    <tr>\n",
       "      <th>X360</th>\n",
       "      <td>13.48</td>\n",
       "    </tr>\n",
       "    <tr>\n",
       "      <th>PSV</th>\n",
       "      <td>10.50</td>\n",
       "    </tr>\n",
       "    <tr>\n",
       "      <th>Wii</th>\n",
       "      <td>1.32</td>\n",
       "    </tr>\n",
       "    <tr>\n",
       "      <th>PSP</th>\n",
       "      <td>0.12</td>\n",
       "    </tr>\n",
       "  </tbody>\n",
       "</table>\n",
       "</div>"
      ],
      "text/plain": [
       "          total_sales\n",
       "platform             \n",
       "PS4            188.15\n",
       "XOne            86.29\n",
       "3DS             42.92\n",
       "WiiU            20.95\n",
       "PS3             20.42\n",
       "PC              13.77\n",
       "X360            13.48\n",
       "PSV             10.50\n",
       "Wii              1.32\n",
       "PSP              0.12"
      ]
     },
     "metadata": {},
     "output_type": "display_data"
    }
   ],
   "source": [
    "data_relevant = data[data['year_of_release'] > 2014] \n",
    "data_relevant_by_platform = data_relevant.pivot_table(index='platform', values='total_sales', aggfunc='sum').sort_values(by='total_sales', ascending=False)\n",
    "display(data_relevant_by_platform)"
   ]
  },
  {
   "cell_type": "markdown",
   "metadata": {},
   "source": [
    "Лидеры продаж за выбранный период это платформы PS4, XOne, 3DS, WiiU и PS3"
   ]
  },
  {
   "cell_type": "code",
   "execution_count": 37,
   "metadata": {},
   "outputs": [
    {
     "data": {
      "image/png": "[encoded data removed]",
      "text/plain": [
       "<Figure size 432x288 with 1 Axes>"
      ]
     },
     "metadata": {
      "needs_background": "light"
     },
     "output_type": "display_data"
    }
   ],
   "source": [
    "sns.boxplot(x=data['platform'], y=data['total_sales'])\n",
    "plt.show()"
   ]
  },
  {
   "cell_type": "markdown",
   "metadata": {},
   "source": [
    "Анализ распределения подтверждает общее правили: есть ограниченное число игр-блокбастеров с продажами, существенно превышающими средние"
   ]
  },
  {
   "cell_type": "code",
   "execution_count": 33,
   "metadata": {},
   "outputs": [
    {
     "data": {
      "text/html": [
       "<div>\n",
       "<style scoped>\n",
       "    .dataframe tbody tr th:only-of-type {\n",
       "        vertical-align: middle;\n",
       "    }\n",
       "\n",
       "    .dataframe tbody tr th {\n",
       "        vertical-align: top;\n",
       "    }\n",
       "\n",
       "    .dataframe thead th {\n",
       "        text-align: right;\n",
       "    }\n",
       "</style>\n",
       "<table border=\"1\" class=\"dataframe\">\n",
       "  <thead>\n",
       "    <tr style=\"text-align: right;\">\n",
       "      <th></th>\n",
       "      <th>year_of_release</th>\n",
       "      <th>na_sales</th>\n",
       "      <th>eu_sales</th>\n",
       "      <th>jp_sales</th>\n",
       "      <th>other_sales</th>\n",
       "      <th>critic_score</th>\n",
       "      <th>user_score</th>\n",
       "      <th>total_sales</th>\n",
       "    </tr>\n",
       "  </thead>\n",
       "  <tbody>\n",
       "    <tr>\n",
       "      <th>year_of_release</th>\n",
       "      <td>1.000000</td>\n",
       "      <td>-0.164633</td>\n",
       "      <td>-0.125109</td>\n",
       "      <td>-0.079977</td>\n",
       "      <td>-0.155549</td>\n",
       "      <td>-0.018455</td>\n",
       "      <td>0.016125</td>\n",
       "      <td>-0.152557</td>\n",
       "    </tr>\n",
       "    <tr>\n",
       "      <th>na_sales</th>\n",
       "      <td>-0.164633</td>\n",
       "      <td>1.000000</td>\n",
       "      <td>0.747461</td>\n",
       "      <td>0.446473</td>\n",
       "      <td>0.936805</td>\n",
       "      <td>0.406409</td>\n",
       "      <td>-0.026921</td>\n",
       "      <td>0.917233</td>\n",
       "    </tr>\n",
       "    <tr>\n",
       "      <th>eu_sales</th>\n",
       "      <td>-0.125109</td>\n",
       "      <td>0.747461</td>\n",
       "      <td>1.000000</td>\n",
       "      <td>0.417355</td>\n",
       "      <td>0.932506</td>\n",
       "      <td>0.310625</td>\n",
       "      <td>-0.086974</td>\n",
       "      <td>0.948745</td>\n",
       "    </tr>\n",
       "    <tr>\n",
       "      <th>jp_sales</th>\n",
       "      <td>-0.079977</td>\n",
       "      <td>0.446473</td>\n",
       "      <td>0.417355</td>\n",
       "      <td>1.000000</td>\n",
       "      <td>0.462652</td>\n",
       "      <td>0.366784</td>\n",
       "      <td>0.185471</td>\n",
       "      <td>0.496600</td>\n",
       "    </tr>\n",
       "    <tr>\n",
       "      <th>other_sales</th>\n",
       "      <td>-0.155549</td>\n",
       "      <td>0.936805</td>\n",
       "      <td>0.932506</td>\n",
       "      <td>0.462652</td>\n",
       "      <td>1.000000</td>\n",
       "      <td>0.394959</td>\n",
       "      <td>-0.065671</td>\n",
       "      <td>0.997817</td>\n",
       "    </tr>\n",
       "    <tr>\n",
       "      <th>critic_score</th>\n",
       "      <td>-0.018455</td>\n",
       "      <td>0.406409</td>\n",
       "      <td>0.310625</td>\n",
       "      <td>0.366784</td>\n",
       "      <td>0.394959</td>\n",
       "      <td>1.000000</td>\n",
       "      <td>0.533330</td>\n",
       "      <td>0.392849</td>\n",
       "    </tr>\n",
       "    <tr>\n",
       "      <th>user_score</th>\n",
       "      <td>0.016125</td>\n",
       "      <td>-0.026921</td>\n",
       "      <td>-0.086974</td>\n",
       "      <td>0.185471</td>\n",
       "      <td>-0.065671</td>\n",
       "      <td>0.533330</td>\n",
       "      <td>1.000000</td>\n",
       "      <td>-0.059738</td>\n",
       "    </tr>\n",
       "    <tr>\n",
       "      <th>total_sales</th>\n",
       "      <td>-0.152557</td>\n",
       "      <td>0.917233</td>\n",
       "      <td>0.948745</td>\n",
       "      <td>0.496600</td>\n",
       "      <td>0.997817</td>\n",
       "      <td>0.392849</td>\n",
       "      <td>-0.059738</td>\n",
       "      <td>1.000000</td>\n",
       "    </tr>\n",
       "  </tbody>\n",
       "</table>\n",
       "</div>"
      ],
      "text/plain": [
       "                 year_of_release  na_sales  eu_sales  jp_sales  other_sales  \\\n",
       "year_of_release         1.000000 -0.164633 -0.125109 -0.079977    -0.155549   \n",
       "na_sales               -0.164633  1.000000  0.747461  0.446473     0.936805   \n",
       "eu_sales               -0.125109  0.747461  1.000000  0.417355     0.932506   \n",
       "jp_sales               -0.079977  0.446473  0.417355  1.000000     0.462652   \n",
       "other_sales            -0.155549  0.936805  0.932506  0.462652     1.000000   \n",
       "critic_score           -0.018455  0.406409  0.310625  0.366784     0.394959   \n",
       "user_score              0.016125 -0.026921 -0.086974  0.185471    -0.065671   \n",
       "total_sales            -0.152557  0.917233  0.948745  0.496600     0.997817   \n",
       "\n",
       "                 critic_score  user_score  total_sales  \n",
       "year_of_release     -0.018455    0.016125    -0.152557  \n",
       "na_sales             0.406409   -0.026921     0.917233  \n",
       "eu_sales             0.310625   -0.086974     0.948745  \n",
       "jp_sales             0.366784    0.185471     0.496600  \n",
       "other_sales          0.394959   -0.065671     0.997817  \n",
       "critic_score         1.000000    0.533330     0.392849  \n",
       "user_score           0.533330    1.000000    -0.059738  \n",
       "total_sales          0.392849   -0.059738     1.000000  "
      ]
     },
     "execution_count": 33,
     "metadata": {},
     "output_type": "execute_result"
    }
   ],
   "source": [
    "data_relevant[data_relevant['platform'] == 'PS4'].corr()"
   ]
  },
  {
   "cell_type": "markdown",
   "metadata": {},
   "source": [
    "Зависимость продаж игр на платформе PS4 от отзывов критиков ограниченная, коэффициент корреляции 0.39 Зависимость продаж от отзывов пользователей отсутствует, коэффициент корреляции -0.06"
   ]
  },
  {
   "cell_type": "code",
   "execution_count": null,
   "metadata": {},
   "outputs": [],
   "source": [
    "data_relevant[data_relevant['platform'] == 'PS4'].plot(x='critic_score', y='total_sales', kind='scatter', figsize=(6,4));\n",
    "data_relevant[data_relevant['platform'] == 'PS4'].plot(x='user_score', y='total_sales', kind='scatter', figsize=(6,4));"
   ]
  },
  {
   "cell_type": "markdown",
   "metadata": {},
   "source": [
    "Графическое представление зависимости"
   ]
  },
  {
   "cell_type": "code",
   "execution_count": null,
   "metadata": {},
   "outputs": [],
   "source": [
    "data_relevant[data_relevant['platform'] == 'XOne'].corr()"
   ]
  },
  {
   "cell_type": "markdown",
   "metadata": {},
   "source": [
    "По платформе XOne корреляция 0.42 и -0.04 соответственно"
   ]
  },
  {
   "cell_type": "code",
   "execution_count": null,
   "metadata": {},
   "outputs": [],
   "source": [
    "data_relevant[data_relevant['platform'] == '3DS'].corr()"
   ]
  },
  {
   "cell_type": "markdown",
   "metadata": {},
   "source": [
    "По платформе 3DS корреляция 0.18 и 0.20 соответственно"
   ]
  },
  {
   "cell_type": "code",
   "execution_count": null,
   "metadata": {},
   "outputs": [],
   "source": [
    "data_relevant[data_relevant['platform'] == 'WiiU'].corr()"
   ]
  },
  {
   "cell_type": "markdown",
   "metadata": {},
   "source": [
    "По платформе WiiU корреляция 0,33 и 0,36 соответственно"
   ]
  },
  {
   "cell_type": "code",
   "execution_count": null,
   "metadata": {},
   "outputs": [],
   "source": [
    "data_relevant[data_relevant['platform'] == 'PS3'].corr()"
   ]
  },
  {
   "cell_type": "markdown",
   "metadata": {},
   "source": [
    "По платформе PS4 корреляция c оценками пользователей -0.17 соответственно. Оценки критиков отсутствуют, соответственно, корреляцию рассчитать невозможно. Анализируя наиболее популярные платформы можно отметить общий тренд: ограниченная корреляция с мнением критиков и практически отсутствующая с мнением пользователей"
   ]
  },
  {
   "cell_type": "code",
   "execution_count": null,
   "metadata": {},
   "outputs": [],
   "source": [
    "data_platforms_best = data_relevant.pivot_table(index='genre', values='total_sales', aggfunc='median').sort_values(by='total_sales', ascending=False)\n",
    "display(data_platforms_best)"
   ]
  },
  {
   "cell_type": "markdown",
   "metadata": {},
   "source": [
    "В качестве критерия успешности жанра выбрана медиана продаж. Это позволит исключить влияние отдельных сверхуспешных игр. Исходя\n",
    "из данного критерия наиболее успешными жанрами являются Shooter, Fighting, Sports, Role-Playing и Action"
   ]
  },
  {
   "cell_type": "code",
   "execution_count": null,
   "metadata": {},
   "outputs": [],
   "source": [
    "data_relevant['rating'] = data_relevant['rating'].fillna(0)\n",
    "data_relevant.tail()"
   ]
  },
  {
   "cell_type": "code",
   "execution_count": null,
   "metadata": {},
   "outputs": [],
   "source": [
    "data_relevant.info()\n",
    "data_relevant['rating'].value_counts()"
   ]
  },
  {
   "cell_type": "markdown",
   "metadata": {},
   "source": [
    "Отсутствующие значения NaN в колонке rating заменены на 0 чтобы все игры попали в дальнейшие расчеты"
   ]
  },
  {
   "cell_type": "code",
   "execution_count": null,
   "metadata": {},
   "outputs": [],
   "source": [
    "top_na = data_relevant.pivot_table(index='platform', values='na_sales', aggfunc='sum').sort_values(by='na_sales', ascending=False)\n",
    "top_na['share'] = top_na['na_sales'] / top_na['na_sales'].sum()\n",
    "top_na.head()"
   ]
  },
  {
   "cell_type": "markdown",
   "metadata": {},
   "source": [
    "В Северной Америке наиболее популярными платформами являются PS4 и XOne c долями рынка 42% и 33% соответственно. Существенно менее популярным являются платформы 3DS, WiiU, X360 с долями в пределах в 5-7%"
   ]
  },
  {
   "cell_type": "code",
   "execution_count": null,
   "metadata": {},
   "outputs": [],
   "source": [
    "top_eu = data_relevant.pivot_table(index='platform', values='eu_sales', aggfunc='sum').sort_values(by='eu_sales', ascending=False)\n",
    "top_eu['share'] = top_eu['eu_sales'] / top_eu['eu_sales'].sum()\n",
    "top_eu.head()"
   ]
  },
  {
   "cell_type": "markdown",
   "metadata": {},
   "source": [
    "В Европейском Союзе наиболее популярной является платформа PS4, занимающая 57% рынка. Далее опять идет XOne с долей в 20%. Замыкают пятерку лидеров PC, WiiU, PS3 с долями в пределах 4-7%"
   ]
  },
  {
   "cell_type": "code",
   "execution_count": null,
   "metadata": {},
   "outputs": [],
   "source": [
    "top_jp = data_relevant.pivot_table(index='platform', values='jp_sales', aggfunc='sum').sort_values(by='jp_sales', ascending=False)\n",
    "top_jp['share'] = top_jp['jp_sales'] / top_jp['jp_sales'].sum()\n",
    "top_jp.head()"
   ]
  },
  {
   "cell_type": "markdown",
   "metadata": {},
   "source": [
    "В Японии наиболее популярными платформами являются PS4 и 3DS с долями в 34% b 24%. За ними следуют WiiU, PSV, PS3 c долями в 19%, 13% и 9% соответственно. \n",
    "Сравнивая популярность различных платформ можно выделить явного лидера во всех регионах присутствия платформу PS4. XOne занимает второе место в Северной Америке и Европе. Также среди лидеров можно отметить платформы 3DS, WiiU, PS3"
   ]
  },
  {
   "cell_type": "code",
   "execution_count": null,
   "metadata": {},
   "outputs": [],
   "source": [
    "top_na_genre = data_relevant.pivot_table(index='genre', values='na_sales', aggfunc='sum').sort_values(by='na_sales', ascending=False)\n",
    "top_na_genre['share'] = top_na_genre['na_sales'] / top_na_genre['na_sales'].sum()\n",
    "top_na_genre.head()"
   ]
  },
  {
   "cell_type": "markdown",
   "metadata": {},
   "source": [
    "Наиболее популярным жанром в Северной Америке является Shooter c долей в 32%. Далее идут Action, Sports и Role-Playing с долями \n",
    "22%, 17% и 13% соответственно"
   ]
  },
  {
   "cell_type": "code",
   "execution_count": null,
   "metadata": {},
   "outputs": [],
   "source": [
    "top_eu_genre = data_relevant.pivot_table(index='genre', values='eu_sales', aggfunc='sum').sort_values(by='eu_sales', ascending=False)\n",
    "top_eu_genre['share'] = top_eu_genre['eu_sales'] / top_eu_genre['eu_sales'].sum()\n",
    "top_eu_genre.head()"
   ]
  },
  {
   "cell_type": "markdown",
   "metadata": {},
   "source": [
    "Лидеры в Европе в целом совпадают с таковыми в Америке. Жанры Action, Sports, Shooter, Role-Playing  занимают доли в 26%, 24% и 22% и 11% соответственно. "
   ]
  },
  {
   "cell_type": "code",
   "execution_count": null,
   "metadata": {},
   "outputs": [],
   "source": [
    "top_jp_genre = data_relevant.pivot_table(index='genre', values='jp_sales', aggfunc='sum').sort_values(by='jp_sales', ascending=False)\n",
    "top_jp_genre['share'] = top_jp_genre['jp_sales'] / top_jp_genre['jp_sales'].sum()\n",
    "top_jp_genre.head()"
   ]
  },
  {
   "cell_type": "markdown",
   "metadata": {},
   "source": [
    "Предпочтения пользователей в Японии достаточно схожи с первыми двумя регионами. Лидером является Action с долей в 27 %. Далее идет Role-Playing (23%) и Shooter(16%). Менее популярными являются Simulation и Platform с долями 8% и 7% соответственно"
   ]
  },
  {
   "cell_type": "code",
   "execution_count": null,
   "metadata": {},
   "outputs": [],
   "source": [
    "na_rating = data_relevant.pivot_table(index='rating', values='na_sales', aggfunc='sum').sort_values(by='na_sales', ascending=False)\n",
    "na_rating"
   ]
  },
  {
   "cell_type": "markdown",
   "metadata": {},
   "source": [
    "В Северной Америке наиболее популярны игры с рейтингами M, E, T, E10+"
   ]
  },
  {
   "cell_type": "code",
   "execution_count": null,
   "metadata": {},
   "outputs": [],
   "source": [
    "eu_rating = data_relevant.pivot_table(index='rating', values='eu_sales', aggfunc='sum').sort_values(by='eu_sales', ascending=False)\n",
    "eu_rating"
   ]
  },
  {
   "cell_type": "markdown",
   "metadata": {},
   "source": [
    "В Европе предпочтения по рейтингам полностью совпадают с таковыми в Америке"
   ]
  },
  {
   "cell_type": "code",
   "execution_count": null,
   "metadata": {},
   "outputs": [],
   "source": [
    "jp_rating = data_relevant.pivot_table(index='rating', values='jp_sales', aggfunc='sum').sort_values(by='jp_sales', ascending=False)\n",
    "jp_rating"
   ]
  },
  {
   "cell_type": "markdown",
   "metadata": {},
   "source": [
    "В Японии список лидеров совпадает с другими регионами, только T и M поменялись местами"
   ]
  },
  {
   "cell_type": "code",
   "execution_count": null,
   "metadata": {},
   "outputs": [],
   "source": [
    "data_01 = data_relevant.pivot_table(index='genre', values='total_sales', aggfunc='sum').sort_values(by='total_sales', ascending=False)\n",
    "data_01"
   ]
  },
  {
   "cell_type": "code",
   "execution_count": null,
   "metadata": {},
   "outputs": [],
   "source": [
    "data_relevant = data_relevant.dropna(subset=['user_score'])\n",
    "data_xone = data_relevant[data_relevant['platform'] == 'XOne']\n",
    "data_pc = data_relevant[data_relevant['platform'] == 'PC']\n",
    "results = st.ttest_ind(data_xone['user_score'], data_pc['user_score'])\n",
    "results.pvalue"
   ]
  },
  {
   "cell_type": "markdown",
   "metadata": {},
   "source": [
    "Данный расчет проверяет гипотезу о равенстве средних пользовательских рейтингов платформ XOne и PC. Нулевая гипотеза предполагает равенство средних. Alpha = 0.05 t-test показывает что вероятность равенства составляет 0.055. Соответственно, \n",
    "нулевая гипотеза о равенстве средних принимается"
   ]
  },
  {
   "cell_type": "code",
   "execution_count": null,
   "metadata": {},
   "outputs": [],
   "source": [
    "data_action = data_relevant[data_relevant['genre'] == 'Action']\n",
    "data_sports = data_relevant[data_relevant['genre'] == 'Sports']\n",
    "results = st.ttest_ind(data_action['user_score'], data_sports['user_score'])\n",
    "results.pvalue"
   ]
  },
  {
   "cell_type": "markdown",
   "metadata": {},
   "source": [
    "Данный расчет проверяет гипотезу о равенстве средних пользовательских рейтингов жанров Action и Sports. Нулевая гипотеза предполагает равенство средних. Alpha = 0.05 t-test показывает что вероятность равенства составляет неотличимую от нуля величину, 10 в минус двенадцатой степени. Соответственно, нулевая гипотеза о равенстве средних отвергается и предположение о различии в рейтингах верное"
   ]
  },
  {
   "cell_type": "markdown",
   "metadata": {},
   "source": [
    "В данном проекте было проанализированы данные о продажах компьютерных игр на основе исторических данных за 37 лет. Размер выборки пользоволял использоваться стандартные методы теории вероятности. Исходя из динамики продаж был определен средний срок жизни платформы, который составляет 10 лет. Анализ проводился на основе данных за последние два года и выявил следующие закономерности:\n",
    "- неравномерное распределение популярности конкретных игр, наличие блокбастеров в каждой категории\n",
    "- доминирующее положение ограниченного количества платформ\n",
    "- слабую корреляцию популярности игры с мнением критиков и пользователей\n",
    "- существенное сходство потребительского поведения в основных регионах продаж: Северной Америке, Европе и Японии\n",
    "Данные факторы могут быть использованы при разработке новых игр"
   ]
  }
 ],
 "metadata": {
  "ExecuteTimeLog": [
   {
    "duration": 9,
    "start_time": "2022-05-12T09:46:06.967Z"
   },
   {
    "duration": 851,
    "start_time": "2022-05-12T09:49:07.385Z"
   },
   {
    "duration": 4,
    "start_time": "2022-05-12T09:49:27.013Z"
   },
   {
    "duration": 3,
    "start_time": "2022-05-12T09:49:29.730Z"
   },
   {
    "duration": 151,
    "start_time": "2022-05-12T09:49:29.769Z"
   },
   {
    "duration": 149,
    "start_time": "2022-05-12T10:07:51.017Z"
   },
   {
    "duration": 44,
    "start_time": "2022-05-12T10:37:22.060Z"
   },
   {
    "duration": 57,
    "start_time": "2022-05-12T10:39:23.296Z"
   },
   {
    "duration": 18,
    "start_time": "2022-05-12T10:47:18.371Z"
   },
   {
    "duration": 0,
    "start_time": "2022-05-12T10:55:19.159Z"
   },
   {
    "duration": 0,
    "start_time": "2022-05-12T10:55:19.160Z"
   },
   {
    "duration": 0,
    "start_time": "2022-05-12T10:55:19.162Z"
   },
   {
    "duration": 0,
    "start_time": "2022-05-12T10:55:19.163Z"
   },
   {
    "duration": 47,
    "start_time": "2022-05-12T10:55:24.890Z"
   },
   {
    "duration": 13594,
    "start_time": "2022-05-12T10:55:29.212Z"
   },
   {
    "duration": 0,
    "start_time": "2022-05-12T10:55:42.808Z"
   },
   {
    "duration": 26,
    "start_time": "2022-05-12T10:56:29.611Z"
   },
   {
    "duration": 3,
    "start_time": "2022-05-12T10:56:37.351Z"
   },
   {
    "duration": 3,
    "start_time": "2022-05-12T10:56:37.385Z"
   },
   {
    "duration": 0,
    "start_time": "2022-05-12T10:56:37.389Z"
   },
   {
    "duration": 0,
    "start_time": "2022-05-12T10:56:37.390Z"
   },
   {
    "duration": 3,
    "start_time": "2022-05-12T10:56:45.093Z"
   },
   {
    "duration": 49,
    "start_time": "2022-05-12T10:56:45.135Z"
   },
   {
    "duration": 15,
    "start_time": "2022-05-12T10:56:45.186Z"
   },
   {
    "duration": 37,
    "start_time": "2022-05-12T10:56:45.203Z"
   },
   {
    "duration": 14,
    "start_time": "2022-05-12T11:07:34.406Z"
   },
   {
    "duration": 3,
    "start_time": "2022-05-12T11:19:05.846Z"
   },
   {
    "duration": 54,
    "start_time": "2022-05-12T11:19:05.861Z"
   },
   {
    "duration": 16,
    "start_time": "2022-05-12T11:19:05.917Z"
   },
   {
    "duration": 29,
    "start_time": "2022-05-12T11:19:05.934Z"
   },
   {
    "duration": 26,
    "start_time": "2022-05-12T11:22:15.579Z"
   },
   {
    "duration": 16,
    "start_time": "2022-05-12T11:26:51.121Z"
   },
   {
    "duration": 30,
    "start_time": "2022-05-12T11:47:48.563Z"
   },
   {
    "duration": 30,
    "start_time": "2022-05-12T11:49:02.864Z"
   },
   {
    "duration": 3,
    "start_time": "2022-05-12T11:52:09.285Z"
   },
   {
    "duration": 29,
    "start_time": "2022-05-12T11:52:16.227Z"
   },
   {
    "duration": 15,
    "start_time": "2022-05-12T12:05:18.795Z"
   },
   {
    "duration": 16,
    "start_time": "2022-05-12T12:05:27.371Z"
   },
   {
    "duration": 13,
    "start_time": "2022-05-12T12:05:59.375Z"
   },
   {
    "duration": 165,
    "start_time": "2022-05-12T12:37:34.075Z"
   },
   {
    "duration": 18,
    "start_time": "2022-05-12T12:38:21.898Z"
   },
   {
    "duration": 6,
    "start_time": "2022-05-12T12:38:44.512Z"
   },
   {
    "duration": 9,
    "start_time": "2022-05-12T12:41:37.921Z"
   },
   {
    "duration": 55,
    "start_time": "2022-05-12T18:14:59.255Z"
   },
   {
    "duration": 929,
    "start_time": "2022-05-12T18:15:06.924Z"
   },
   {
    "duration": 69,
    "start_time": "2022-05-12T18:15:07.855Z"
   },
   {
    "duration": 20,
    "start_time": "2022-05-12T18:15:07.925Z"
   },
   {
    "duration": 48,
    "start_time": "2022-05-12T18:15:07.947Z"
   },
   {
    "duration": 20,
    "start_time": "2022-05-12T18:15:07.997Z"
   },
   {
    "duration": 11,
    "start_time": "2022-05-12T18:15:08.019Z"
   },
   {
    "duration": 5,
    "start_time": "2022-05-12T18:15:08.032Z"
   },
   {
    "duration": 8,
    "start_time": "2022-05-12T18:15:42.679Z"
   },
   {
    "duration": 6,
    "start_time": "2022-05-12T18:15:46.617Z"
   },
   {
    "duration": 7,
    "start_time": "2022-05-12T18:22:57.888Z"
   },
   {
    "duration": 50,
    "start_time": "2022-05-12T18:28:24.409Z"
   },
   {
    "duration": 5,
    "start_time": "2022-05-12T18:28:40.603Z"
   },
   {
    "duration": 8,
    "start_time": "2022-05-12T18:28:57.836Z"
   },
   {
    "duration": 10,
    "start_time": "2022-05-12T18:36:17.981Z"
   },
   {
    "duration": 7,
    "start_time": "2022-05-12T18:36:25.019Z"
   },
   {
    "duration": 3,
    "start_time": "2022-05-12T18:36:31.436Z"
   },
   {
    "duration": 59,
    "start_time": "2022-05-12T18:36:31.459Z"
   },
   {
    "duration": 17,
    "start_time": "2022-05-12T18:36:31.520Z"
   },
   {
    "duration": 48,
    "start_time": "2022-05-12T18:36:31.539Z"
   },
   {
    "duration": 26,
    "start_time": "2022-05-12T18:36:31.589Z"
   },
   {
    "duration": 8,
    "start_time": "2022-05-12T18:36:31.617Z"
   },
   {
    "duration": 9,
    "start_time": "2022-05-12T18:36:31.627Z"
   },
   {
    "duration": 3,
    "start_time": "2022-05-12T18:36:31.638Z"
   },
   {
    "duration": 21,
    "start_time": "2022-05-12T18:36:44.323Z"
   },
   {
    "duration": 12,
    "start_time": "2022-05-12T18:36:52.784Z"
   },
   {
    "duration": 18,
    "start_time": "2022-05-12T18:37:02.138Z"
   },
   {
    "duration": 10,
    "start_time": "2022-05-12T18:38:28.368Z"
   },
   {
    "duration": 2,
    "start_time": "2022-05-12T18:38:38.866Z"
   },
   {
    "duration": 47,
    "start_time": "2022-05-12T18:38:38.872Z"
   },
   {
    "duration": 13,
    "start_time": "2022-05-12T18:38:38.920Z"
   },
   {
    "duration": 50,
    "start_time": "2022-05-12T18:38:38.935Z"
   },
   {
    "duration": 19,
    "start_time": "2022-05-12T18:38:38.987Z"
   },
   {
    "duration": 8,
    "start_time": "2022-05-12T18:38:39.008Z"
   },
   {
    "duration": 17,
    "start_time": "2022-05-12T18:38:39.017Z"
   },
   {
    "duration": 0,
    "start_time": "2022-05-12T18:38:39.036Z"
   },
   {
    "duration": 16,
    "start_time": "2022-05-12T18:38:43.902Z"
   },
   {
    "duration": 23,
    "start_time": "2022-05-12T18:45:45.032Z"
   },
   {
    "duration": 139,
    "start_time": "2022-05-12T18:49:02.926Z"
   },
   {
    "duration": 3,
    "start_time": "2022-05-12T18:52:15.303Z"
   },
   {
    "duration": 48,
    "start_time": "2022-05-12T18:52:15.308Z"
   },
   {
    "duration": 21,
    "start_time": "2022-05-12T18:52:15.358Z"
   },
   {
    "duration": 33,
    "start_time": "2022-05-12T18:52:15.382Z"
   },
   {
    "duration": 21,
    "start_time": "2022-05-12T18:52:15.416Z"
   },
   {
    "duration": 29,
    "start_time": "2022-05-12T18:52:15.439Z"
   },
   {
    "duration": 22,
    "start_time": "2022-05-12T18:52:15.470Z"
   },
   {
    "duration": 14,
    "start_time": "2022-05-12T18:52:15.494Z"
   },
   {
    "duration": 538,
    "start_time": "2022-05-12T20:04:24.826Z"
   },
   {
    "duration": 331,
    "start_time": "2022-05-12T20:04:29.208Z"
   },
   {
    "duration": 131,
    "start_time": "2022-05-12T20:04:54.496Z"
   },
   {
    "duration": 619,
    "start_time": "2022-05-12T20:05:01.087Z"
   },
   {
    "duration": 16,
    "start_time": "2022-05-12T20:07:25.186Z"
   },
   {
    "duration": 19,
    "start_time": "2022-05-12T20:07:39.778Z"
   },
   {
    "duration": 909,
    "start_time": "2022-05-12T20:08:03.743Z"
   },
   {
    "duration": 180,
    "start_time": "2022-05-12T20:08:12.613Z"
   },
   {
    "duration": 2226,
    "start_time": "2022-05-12T20:10:08.281Z"
   },
   {
    "duration": 231,
    "start_time": "2022-05-12T20:10:22.270Z"
   },
   {
    "duration": 272,
    "start_time": "2022-05-12T20:10:35.290Z"
   },
   {
    "duration": 2427,
    "start_time": "2022-05-12T20:11:34.625Z"
   },
   {
    "duration": 184,
    "start_time": "2022-05-12T20:12:02.658Z"
   },
   {
    "duration": 20,
    "start_time": "2022-05-12T20:12:15.786Z"
   },
   {
    "duration": 18,
    "start_time": "2022-05-12T20:12:52.663Z"
   },
   {
    "duration": 212,
    "start_time": "2022-05-12T20:13:22.688Z"
   },
   {
    "duration": 167,
    "start_time": "2022-05-12T20:13:54.126Z"
   },
   {
    "duration": 3329,
    "start_time": "2022-05-12T20:15:00.459Z"
   },
   {
    "duration": 3,
    "start_time": "2022-05-12T20:15:30.680Z"
   },
   {
    "duration": 45,
    "start_time": "2022-05-12T20:15:30.716Z"
   },
   {
    "duration": 21,
    "start_time": "2022-05-12T20:15:30.763Z"
   },
   {
    "duration": 46,
    "start_time": "2022-05-12T20:15:30.786Z"
   },
   {
    "duration": 40,
    "start_time": "2022-05-12T20:15:30.834Z"
   },
   {
    "duration": 8,
    "start_time": "2022-05-12T20:15:30.876Z"
   },
   {
    "duration": 21,
    "start_time": "2022-05-12T20:15:30.886Z"
   },
   {
    "duration": 28,
    "start_time": "2022-05-12T20:15:30.909Z"
   },
   {
    "duration": 2351,
    "start_time": "2022-05-12T20:15:30.939Z"
   },
   {
    "duration": 2113,
    "start_time": "2022-05-12T20:18:25.930Z"
   },
   {
    "duration": 7,
    "start_time": "2022-05-12T20:50:15.697Z"
   },
   {
    "duration": 146,
    "start_time": "2022-05-12T20:50:41.557Z"
   },
   {
    "duration": 4,
    "start_time": "2022-05-12T20:50:58.703Z"
   },
   {
    "duration": 62,
    "start_time": "2022-05-12T20:50:58.723Z"
   },
   {
    "duration": 19,
    "start_time": "2022-05-12T20:50:58.787Z"
   },
   {
    "duration": 59,
    "start_time": "2022-05-12T20:50:58.808Z"
   },
   {
    "duration": 19,
    "start_time": "2022-05-12T20:50:58.869Z"
   },
   {
    "duration": 7,
    "start_time": "2022-05-12T20:50:58.890Z"
   },
   {
    "duration": 18,
    "start_time": "2022-05-12T20:50:58.899Z"
   },
   {
    "duration": 14,
    "start_time": "2022-05-12T20:50:58.918Z"
   },
   {
    "duration": 14,
    "start_time": "2022-05-12T20:50:58.962Z"
   },
   {
    "duration": 150,
    "start_time": "2022-05-12T20:50:58.977Z"
   },
   {
    "duration": 129,
    "start_time": "2022-05-12T20:52:21.301Z"
   },
   {
    "duration": 223,
    "start_time": "2022-05-12T20:52:39.611Z"
   },
   {
    "duration": 12,
    "start_time": "2022-05-12T20:52:46.500Z"
   },
   {
    "duration": 2,
    "start_time": "2022-05-12T20:52:51.744Z"
   },
   {
    "duration": 40,
    "start_time": "2022-05-12T20:52:51.771Z"
   },
   {
    "duration": 13,
    "start_time": "2022-05-12T20:52:51.813Z"
   },
   {
    "duration": 35,
    "start_time": "2022-05-12T20:52:51.827Z"
   },
   {
    "duration": 14,
    "start_time": "2022-05-12T20:52:51.864Z"
   },
   {
    "duration": 7,
    "start_time": "2022-05-12T20:52:51.881Z"
   },
   {
    "duration": 23,
    "start_time": "2022-05-12T20:52:51.890Z"
   },
   {
    "duration": 49,
    "start_time": "2022-05-12T20:52:51.915Z"
   },
   {
    "duration": 19,
    "start_time": "2022-05-12T20:52:51.966Z"
   },
   {
    "duration": 201,
    "start_time": "2022-05-12T20:52:51.987Z"
   },
   {
    "duration": 14,
    "start_time": "2022-05-12T21:11:45.712Z"
   },
   {
    "duration": 18,
    "start_time": "2022-05-12T21:12:07.614Z"
   },
   {
    "duration": 219,
    "start_time": "2022-05-12T21:13:14.945Z"
   },
   {
    "duration": 3,
    "start_time": "2022-05-12T21:13:28.961Z"
   },
   {
    "duration": 60,
    "start_time": "2022-05-12T21:13:28.986Z"
   },
   {
    "duration": 19,
    "start_time": "2022-05-12T21:13:29.048Z"
   },
   {
    "duration": 42,
    "start_time": "2022-05-12T21:13:29.069Z"
   },
   {
    "duration": 14,
    "start_time": "2022-05-12T21:13:29.113Z"
   },
   {
    "duration": 6,
    "start_time": "2022-05-12T21:13:29.129Z"
   },
   {
    "duration": 39,
    "start_time": "2022-05-12T21:13:29.136Z"
   },
   {
    "duration": 14,
    "start_time": "2022-05-12T21:13:29.176Z"
   },
   {
    "duration": 16,
    "start_time": "2022-05-12T21:13:29.191Z"
   },
   {
    "duration": 157,
    "start_time": "2022-05-12T21:13:29.208Z"
   },
   {
    "duration": 129,
    "start_time": "2022-05-12T21:13:29.367Z"
   },
   {
    "duration": 14,
    "start_time": "2022-05-12T21:16:26.658Z"
   },
   {
    "duration": 15,
    "start_time": "2022-05-12T21:17:00.078Z"
   },
   {
    "duration": 15,
    "start_time": "2022-05-12T21:17:20.130Z"
   },
   {
    "duration": 17,
    "start_time": "2022-05-12T21:17:26.049Z"
   },
   {
    "duration": 15,
    "start_time": "2022-05-12T21:17:31.501Z"
   },
   {
    "duration": 2024,
    "start_time": "2022-05-12T21:46:18.321Z"
   },
   {
    "duration": 10,
    "start_time": "2022-05-12T21:47:02.401Z"
   },
   {
    "duration": 3,
    "start_time": "2022-05-12T21:47:10.657Z"
   },
   {
    "duration": 49,
    "start_time": "2022-05-12T21:47:10.677Z"
   },
   {
    "duration": 14,
    "start_time": "2022-05-12T21:47:10.728Z"
   },
   {
    "duration": 28,
    "start_time": "2022-05-12T21:47:10.743Z"
   },
   {
    "duration": 20,
    "start_time": "2022-05-12T21:47:10.773Z"
   },
   {
    "duration": 7,
    "start_time": "2022-05-12T21:47:10.795Z"
   },
   {
    "duration": 20,
    "start_time": "2022-05-12T21:47:10.803Z"
   },
   {
    "duration": 14,
    "start_time": "2022-05-12T21:47:10.825Z"
   },
   {
    "duration": 32,
    "start_time": "2022-05-12T21:47:10.841Z"
   },
   {
    "duration": 150,
    "start_time": "2022-05-12T21:47:10.875Z"
   },
   {
    "duration": 16,
    "start_time": "2022-05-12T21:47:11.027Z"
   },
   {
    "duration": 24,
    "start_time": "2022-05-12T21:47:11.045Z"
   },
   {
    "duration": 7,
    "start_time": "2022-05-12T21:47:26.074Z"
   },
   {
    "duration": 136,
    "start_time": "2022-05-12T21:51:02.787Z"
   },
   {
    "duration": 119,
    "start_time": "2022-05-12T22:04:38.545Z"
   },
   {
    "duration": 226,
    "start_time": "2022-05-12T22:05:07.092Z"
   },
   {
    "duration": 3,
    "start_time": "2022-05-12T22:05:13.976Z"
   },
   {
    "duration": 47,
    "start_time": "2022-05-12T22:05:13.983Z"
   },
   {
    "duration": 12,
    "start_time": "2022-05-12T22:05:14.032Z"
   },
   {
    "duration": 26,
    "start_time": "2022-05-12T22:05:14.045Z"
   },
   {
    "duration": 14,
    "start_time": "2022-05-12T22:05:14.073Z"
   },
   {
    "duration": 6,
    "start_time": "2022-05-12T22:05:14.089Z"
   },
   {
    "duration": 16,
    "start_time": "2022-05-12T22:05:14.097Z"
   },
   {
    "duration": 14,
    "start_time": "2022-05-12T22:05:14.115Z"
   },
   {
    "duration": 44,
    "start_time": "2022-05-12T22:05:14.130Z"
   },
   {
    "duration": 143,
    "start_time": "2022-05-12T22:05:14.176Z"
   },
   {
    "duration": 15,
    "start_time": "2022-05-12T22:05:14.320Z"
   },
   {
    "duration": 6,
    "start_time": "2022-05-12T22:05:14.336Z"
   },
   {
    "duration": 134,
    "start_time": "2022-05-12T22:05:14.344Z"
   },
   {
    "duration": 176,
    "start_time": "2022-05-12T22:05:52.681Z"
   },
   {
    "duration": 126,
    "start_time": "2022-05-12T22:06:50.727Z"
   },
   {
    "duration": 3,
    "start_time": "2022-05-12T22:07:36.002Z"
   },
   {
    "duration": 60,
    "start_time": "2022-05-12T22:07:36.021Z"
   },
   {
    "duration": 19,
    "start_time": "2022-05-12T22:07:36.084Z"
   },
   {
    "duration": 43,
    "start_time": "2022-05-12T22:07:36.105Z"
   },
   {
    "duration": 20,
    "start_time": "2022-05-12T22:07:36.163Z"
   },
   {
    "duration": 8,
    "start_time": "2022-05-12T22:07:36.185Z"
   },
   {
    "duration": 24,
    "start_time": "2022-05-12T22:07:36.195Z"
   },
   {
    "duration": 45,
    "start_time": "2022-05-12T22:07:36.221Z"
   },
   {
    "duration": 14,
    "start_time": "2022-05-12T22:07:36.268Z"
   },
   {
    "duration": 144,
    "start_time": "2022-05-12T22:07:36.284Z"
   },
   {
    "duration": 15,
    "start_time": "2022-05-12T22:07:36.429Z"
   },
   {
    "duration": 19,
    "start_time": "2022-05-12T22:07:36.446Z"
   },
   {
    "duration": 123,
    "start_time": "2022-05-12T22:07:36.467Z"
   },
   {
    "duration": 128,
    "start_time": "2022-05-12T22:07:53.424Z"
   },
   {
    "duration": 3,
    "start_time": "2022-05-12T22:08:01.033Z"
   },
   {
    "duration": 64,
    "start_time": "2022-05-12T22:08:01.058Z"
   },
   {
    "duration": 13,
    "start_time": "2022-05-12T22:08:01.124Z"
   },
   {
    "duration": 48,
    "start_time": "2022-05-12T22:08:01.139Z"
   },
   {
    "duration": 38,
    "start_time": "2022-05-12T22:08:01.189Z"
   },
   {
    "duration": 9,
    "start_time": "2022-05-12T22:08:01.229Z"
   },
   {
    "duration": 30,
    "start_time": "2022-05-12T22:08:01.240Z"
   },
   {
    "duration": 31,
    "start_time": "2022-05-12T22:08:01.272Z"
   },
   {
    "duration": 21,
    "start_time": "2022-05-12T22:08:01.306Z"
   },
   {
    "duration": 176,
    "start_time": "2022-05-12T22:08:01.329Z"
   },
   {
    "duration": 15,
    "start_time": "2022-05-12T22:08:01.506Z"
   },
   {
    "duration": 6,
    "start_time": "2022-05-12T22:08:01.523Z"
   },
   {
    "duration": 141,
    "start_time": "2022-05-12T22:08:01.531Z"
   },
   {
    "duration": 46,
    "start_time": "2022-05-13T06:58:37.634Z"
   },
   {
    "duration": 774,
    "start_time": "2022-05-13T06:58:44.742Z"
   },
   {
    "duration": 47,
    "start_time": "2022-05-13T06:58:45.518Z"
   },
   {
    "duration": 14,
    "start_time": "2022-05-13T06:58:45.567Z"
   },
   {
    "duration": 35,
    "start_time": "2022-05-13T06:58:45.589Z"
   },
   {
    "duration": 14,
    "start_time": "2022-05-13T06:58:45.625Z"
   },
   {
    "duration": 6,
    "start_time": "2022-05-13T06:58:45.641Z"
   },
   {
    "duration": 47,
    "start_time": "2022-05-13T06:58:45.648Z"
   },
   {
    "duration": 16,
    "start_time": "2022-05-13T06:58:45.697Z"
   },
   {
    "duration": 14,
    "start_time": "2022-05-13T06:58:45.715Z"
   },
   {
    "duration": 574,
    "start_time": "2022-05-13T06:58:45.731Z"
   },
   {
    "duration": 16,
    "start_time": "2022-05-13T06:58:46.308Z"
   },
   {
    "duration": 6,
    "start_time": "2022-05-13T06:58:46.326Z"
   },
   {
    "duration": 17,
    "start_time": "2022-05-13T06:58:46.334Z"
   },
   {
    "duration": 68,
    "start_time": "2022-05-13T06:59:53.167Z"
   },
   {
    "duration": 3,
    "start_time": "2022-05-13T07:00:10.686Z"
   },
   {
    "duration": 54,
    "start_time": "2022-05-13T07:00:10.692Z"
   },
   {
    "duration": 14,
    "start_time": "2022-05-13T07:00:10.748Z"
   },
   {
    "duration": 34,
    "start_time": "2022-05-13T07:00:10.764Z"
   },
   {
    "duration": 19,
    "start_time": "2022-05-13T07:00:10.799Z"
   },
   {
    "duration": 7,
    "start_time": "2022-05-13T07:00:10.820Z"
   },
   {
    "duration": 18,
    "start_time": "2022-05-13T07:00:10.828Z"
   },
   {
    "duration": 41,
    "start_time": "2022-05-13T07:00:10.848Z"
   },
   {
    "duration": 14,
    "start_time": "2022-05-13T07:00:10.891Z"
   },
   {
    "duration": 164,
    "start_time": "2022-05-13T07:00:10.906Z"
   },
   {
    "duration": 27,
    "start_time": "2022-05-13T07:00:11.072Z"
   },
   {
    "duration": 0,
    "start_time": "2022-05-13T07:00:11.101Z"
   },
   {
    "duration": 0,
    "start_time": "2022-05-13T07:00:11.102Z"
   },
   {
    "duration": 14,
    "start_time": "2022-05-13T07:00:57.265Z"
   },
   {
    "duration": 3,
    "start_time": "2022-05-13T07:01:42.681Z"
   },
   {
    "duration": 44,
    "start_time": "2022-05-13T07:01:42.707Z"
   },
   {
    "duration": 14,
    "start_time": "2022-05-13T07:01:42.753Z"
   },
   {
    "duration": 34,
    "start_time": "2022-05-13T07:01:42.768Z"
   },
   {
    "duration": 26,
    "start_time": "2022-05-13T07:01:42.803Z"
   },
   {
    "duration": 8,
    "start_time": "2022-05-13T07:01:42.831Z"
   },
   {
    "duration": 33,
    "start_time": "2022-05-13T07:01:42.840Z"
   },
   {
    "duration": 17,
    "start_time": "2022-05-13T07:01:42.875Z"
   },
   {
    "duration": 14,
    "start_time": "2022-05-13T07:01:42.893Z"
   },
   {
    "duration": 152,
    "start_time": "2022-05-13T07:01:42.909Z"
   },
   {
    "duration": 14,
    "start_time": "2022-05-13T07:01:43.063Z"
   },
   {
    "duration": 10,
    "start_time": "2022-05-13T07:01:43.078Z"
   },
   {
    "duration": 29,
    "start_time": "2022-05-13T07:01:43.090Z"
   },
   {
    "duration": 17,
    "start_time": "2022-05-13T07:02:51.477Z"
   },
   {
    "duration": 17,
    "start_time": "2022-05-13T07:03:13.644Z"
   },
   {
    "duration": 16,
    "start_time": "2022-05-13T07:03:17.972Z"
   },
   {
    "duration": 6,
    "start_time": "2022-05-13T07:03:27.160Z"
   },
   {
    "duration": 13,
    "start_time": "2022-05-13T07:04:08.547Z"
   },
   {
    "duration": 117,
    "start_time": "2022-05-13T07:04:22.607Z"
   },
   {
    "duration": 6,
    "start_time": "2022-05-13T07:04:25.567Z"
   },
   {
    "duration": 3,
    "start_time": "2022-05-13T07:13:21.544Z"
   },
   {
    "duration": 53,
    "start_time": "2022-05-13T07:13:21.562Z"
   },
   {
    "duration": 13,
    "start_time": "2022-05-13T07:13:21.617Z"
   },
   {
    "duration": 29,
    "start_time": "2022-05-13T07:13:21.632Z"
   },
   {
    "duration": 31,
    "start_time": "2022-05-13T07:13:21.662Z"
   },
   {
    "duration": 7,
    "start_time": "2022-05-13T07:13:21.695Z"
   },
   {
    "duration": 29,
    "start_time": "2022-05-13T07:13:21.704Z"
   },
   {
    "duration": 19,
    "start_time": "2022-05-13T07:13:21.735Z"
   },
   {
    "duration": 15,
    "start_time": "2022-05-13T07:13:21.755Z"
   },
   {
    "duration": 155,
    "start_time": "2022-05-13T07:13:21.772Z"
   },
   {
    "duration": 15,
    "start_time": "2022-05-13T07:13:21.929Z"
   },
   {
    "duration": 6,
    "start_time": "2022-05-13T07:13:21.946Z"
   },
   {
    "duration": 113,
    "start_time": "2022-05-13T07:13:21.953Z"
   },
   {
    "duration": 123,
    "start_time": "2022-05-13T07:13:40.656Z"
   },
   {
    "duration": 3,
    "start_time": "2022-05-13T07:13:51.839Z"
   },
   {
    "duration": 45,
    "start_time": "2022-05-13T07:13:51.859Z"
   },
   {
    "duration": 14,
    "start_time": "2022-05-13T07:13:51.906Z"
   },
   {
    "duration": 29,
    "start_time": "2022-05-13T07:13:51.922Z"
   },
   {
    "duration": 18,
    "start_time": "2022-05-13T07:13:51.952Z"
   },
   {
    "duration": 6,
    "start_time": "2022-05-13T07:13:51.989Z"
   },
   {
    "duration": 21,
    "start_time": "2022-05-13T07:13:51.997Z"
   },
   {
    "duration": 22,
    "start_time": "2022-05-13T07:13:52.020Z"
   },
   {
    "duration": 20,
    "start_time": "2022-05-13T07:13:52.044Z"
   },
   {
    "duration": 158,
    "start_time": "2022-05-13T07:13:52.065Z"
   },
   {
    "duration": 15,
    "start_time": "2022-05-13T07:13:52.225Z"
   },
   {
    "duration": 5,
    "start_time": "2022-05-13T07:13:52.242Z"
   },
   {
    "duration": 109,
    "start_time": "2022-05-13T07:13:52.248Z"
   },
   {
    "duration": 346,
    "start_time": "2022-05-13T07:14:04.025Z"
   },
   {
    "duration": 134,
    "start_time": "2022-05-13T07:16:18.272Z"
   },
   {
    "duration": 117,
    "start_time": "2022-05-13T07:16:34.518Z"
   },
   {
    "duration": 122,
    "start_time": "2022-05-13T07:16:40.666Z"
   },
   {
    "duration": 114,
    "start_time": "2022-05-13T07:16:54.063Z"
   },
   {
    "duration": 18,
    "start_time": "2022-05-13T07:17:22.647Z"
   },
   {
    "duration": 17,
    "start_time": "2022-05-13T07:17:34.463Z"
   },
   {
    "duration": 25,
    "start_time": "2022-05-13T07:24:05.554Z"
   },
   {
    "duration": 26,
    "start_time": "2022-05-13T07:24:17.022Z"
   },
   {
    "duration": 30,
    "start_time": "2022-05-13T07:29:13.674Z"
   },
   {
    "duration": 30,
    "start_time": "2022-05-13T07:29:33.904Z"
   },
   {
    "duration": 32,
    "start_time": "2022-05-13T07:29:43.132Z"
   },
   {
    "duration": 37,
    "start_time": "2022-05-13T07:29:59.790Z"
   },
   {
    "duration": 23,
    "start_time": "2022-05-13T07:30:21.026Z"
   },
   {
    "duration": 28,
    "start_time": "2022-05-13T07:35:03.841Z"
   },
   {
    "duration": 32,
    "start_time": "2022-05-13T07:35:28.828Z"
   },
   {
    "duration": 39,
    "start_time": "2022-05-13T07:37:03.656Z"
   },
   {
    "duration": 45,
    "start_time": "2022-05-13T07:37:15.740Z"
   },
   {
    "duration": 43,
    "start_time": "2022-05-13T07:37:21.263Z"
   },
   {
    "duration": 40,
    "start_time": "2022-05-13T07:45:55.652Z"
   },
   {
    "duration": 171,
    "start_time": "2022-05-13T07:49:34.300Z"
   },
   {
    "duration": 167,
    "start_time": "2022-05-13T07:50:25.306Z"
   },
   {
    "duration": 168,
    "start_time": "2022-05-13T07:50:35.117Z"
   },
   {
    "duration": 199,
    "start_time": "2022-05-13T07:53:05.799Z"
   },
   {
    "duration": 215,
    "start_time": "2022-05-13T08:08:53.259Z"
   },
   {
    "duration": 216,
    "start_time": "2022-05-13T08:09:00.765Z"
   },
   {
    "duration": 277,
    "start_time": "2022-05-13T08:10:53.104Z"
   },
   {
    "duration": 180,
    "start_time": "2022-05-13T08:11:29.885Z"
   },
   {
    "duration": 184,
    "start_time": "2022-05-13T08:12:42.045Z"
   },
   {
    "duration": 177,
    "start_time": "2022-05-13T08:13:04.776Z"
   },
   {
    "duration": 243,
    "start_time": "2022-05-13T08:13:24.082Z"
   },
   {
    "duration": 5,
    "start_time": "2022-05-13T08:28:57.107Z"
   },
   {
    "duration": 3,
    "start_time": "2022-05-13T08:29:03.866Z"
   },
   {
    "duration": 47,
    "start_time": "2022-05-13T08:29:03.902Z"
   },
   {
    "duration": 15,
    "start_time": "2022-05-13T08:29:03.951Z"
   },
   {
    "duration": 32,
    "start_time": "2022-05-13T08:29:03.968Z"
   },
   {
    "duration": 15,
    "start_time": "2022-05-13T08:29:04.002Z"
   },
   {
    "duration": 7,
    "start_time": "2022-05-13T08:29:04.019Z"
   },
   {
    "duration": 22,
    "start_time": "2022-05-13T08:29:04.027Z"
   },
   {
    "duration": 40,
    "start_time": "2022-05-13T08:29:04.050Z"
   },
   {
    "duration": 17,
    "start_time": "2022-05-13T08:29:04.092Z"
   },
   {
    "duration": 156,
    "start_time": "2022-05-13T08:29:04.110Z"
   },
   {
    "duration": 21,
    "start_time": "2022-05-13T08:29:04.268Z"
   },
   {
    "duration": 1970,
    "start_time": "2022-05-13T08:29:04.290Z"
   },
   {
    "duration": 0,
    "start_time": "2022-05-13T08:29:06.262Z"
   },
   {
    "duration": 7,
    "start_time": "2022-05-13T08:29:29.005Z"
   },
   {
    "duration": 3,
    "start_time": "2022-05-13T08:29:35.114Z"
   },
   {
    "duration": 49,
    "start_time": "2022-05-13T08:29:35.134Z"
   },
   {
    "duration": 14,
    "start_time": "2022-05-13T08:29:35.185Z"
   },
   {
    "duration": 31,
    "start_time": "2022-05-13T08:29:35.201Z"
   },
   {
    "duration": 18,
    "start_time": "2022-05-13T08:29:35.233Z"
   },
   {
    "duration": 7,
    "start_time": "2022-05-13T08:29:35.253Z"
   },
   {
    "duration": 38,
    "start_time": "2022-05-13T08:29:35.262Z"
   },
   {
    "duration": 16,
    "start_time": "2022-05-13T08:29:35.302Z"
   },
   {
    "duration": 15,
    "start_time": "2022-05-13T08:29:35.320Z"
   },
   {
    "duration": 173,
    "start_time": "2022-05-13T08:29:35.336Z"
   },
   {
    "duration": 17,
    "start_time": "2022-05-13T08:29:35.510Z"
   },
   {
    "duration": 6,
    "start_time": "2022-05-13T08:29:35.528Z"
   },
   {
    "duration": 268,
    "start_time": "2022-05-13T08:29:35.535Z"
   },
   {
    "duration": 24,
    "start_time": "2022-05-13T08:39:19.572Z"
   },
   {
    "duration": 34,
    "start_time": "2022-05-13T08:39:46.856Z"
   },
   {
    "duration": 4,
    "start_time": "2022-05-13T08:39:57.905Z"
   },
   {
    "duration": 15,
    "start_time": "2022-05-13T08:41:41.511Z"
   },
   {
    "duration": 15,
    "start_time": "2022-05-13T08:41:56.065Z"
   },
   {
    "duration": 114,
    "start_time": "2022-05-13T08:45:29.766Z"
   },
   {
    "duration": 16,
    "start_time": "2022-05-13T08:48:43.010Z"
   },
   {
    "duration": 168,
    "start_time": "2022-05-13T10:39:17.568Z"
   },
   {
    "duration": 207,
    "start_time": "2022-05-13T10:40:11.738Z"
   },
   {
    "duration": 222,
    "start_time": "2022-05-13T10:40:30.483Z"
   },
   {
    "duration": 287,
    "start_time": "2022-05-13T10:41:04.121Z"
   },
   {
    "duration": 237,
    "start_time": "2022-05-13T10:43:23.115Z"
   },
   {
    "duration": 225,
    "start_time": "2022-05-13T10:43:38.489Z"
   },
   {
    "duration": 209,
    "start_time": "2022-05-13T10:43:48.829Z"
   },
   {
    "duration": 2,
    "start_time": "2022-05-13T10:52:59.125Z"
   },
   {
    "duration": 47,
    "start_time": "2022-05-13T10:52:59.129Z"
   },
   {
    "duration": 12,
    "start_time": "2022-05-13T10:52:59.178Z"
   },
   {
    "duration": 30,
    "start_time": "2022-05-13T10:52:59.192Z"
   },
   {
    "duration": 16,
    "start_time": "2022-05-13T10:52:59.224Z"
   },
   {
    "duration": 7,
    "start_time": "2022-05-13T10:52:59.242Z"
   },
   {
    "duration": 38,
    "start_time": "2022-05-13T10:52:59.250Z"
   },
   {
    "duration": 15,
    "start_time": "2022-05-13T10:52:59.290Z"
   },
   {
    "duration": 12,
    "start_time": "2022-05-13T10:52:59.307Z"
   },
   {
    "duration": 157,
    "start_time": "2022-05-13T10:52:59.322Z"
   },
   {
    "duration": 17,
    "start_time": "2022-05-13T10:52:59.481Z"
   },
   {
    "duration": 5,
    "start_time": "2022-05-13T10:52:59.499Z"
   },
   {
    "duration": 251,
    "start_time": "2022-05-13T10:52:59.506Z"
   },
   {
    "duration": 15,
    "start_time": "2022-05-13T10:52:59.759Z"
   },
   {
    "duration": 219,
    "start_time": "2022-05-13T10:52:59.775Z"
   },
   {
    "duration": 200,
    "start_time": "2022-05-13T11:04:37.169Z"
   },
   {
    "duration": 15,
    "start_time": "2022-05-13T11:07:03.388Z"
   },
   {
    "duration": 170,
    "start_time": "2022-05-13T11:12:04.556Z"
   },
   {
    "duration": 3,
    "start_time": "2022-05-13T11:13:31.902Z"
   },
   {
    "duration": 2488,
    "start_time": "2022-05-13T11:14:04.950Z"
   },
   {
    "duration": 2231,
    "start_time": "2022-05-13T11:14:31.463Z"
   },
   {
    "duration": 1877,
    "start_time": "2022-05-13T16:08:43.240Z"
   },
   {
    "duration": 1798,
    "start_time": "2022-05-13T16:08:45.342Z"
   },
   {
    "duration": 1807,
    "start_time": "2022-05-13T16:09:25.839Z"
   },
   {
    "duration": 2,
    "start_time": "2022-05-13T16:09:41.862Z"
   },
   {
    "duration": 45,
    "start_time": "2022-05-13T16:09:41.887Z"
   },
   {
    "duration": 14,
    "start_time": "2022-05-13T16:09:41.934Z"
   },
   {
    "duration": 44,
    "start_time": "2022-05-13T16:09:41.950Z"
   },
   {
    "duration": 18,
    "start_time": "2022-05-13T16:09:41.995Z"
   },
   {
    "duration": 7,
    "start_time": "2022-05-13T16:09:42.015Z"
   },
   {
    "duration": 19,
    "start_time": "2022-05-13T16:09:42.024Z"
   },
   {
    "duration": 49,
    "start_time": "2022-05-13T16:09:42.044Z"
   },
   {
    "duration": 16,
    "start_time": "2022-05-13T16:09:42.095Z"
   },
   {
    "duration": 154,
    "start_time": "2022-05-13T16:09:42.112Z"
   },
   {
    "duration": 24,
    "start_time": "2022-05-13T16:09:42.268Z"
   },
   {
    "duration": 5,
    "start_time": "2022-05-13T16:09:42.294Z"
   },
   {
    "duration": 239,
    "start_time": "2022-05-13T16:09:42.300Z"
   },
   {
    "duration": 17,
    "start_time": "2022-05-13T16:09:42.541Z"
   },
   {
    "duration": 221,
    "start_time": "2022-05-13T16:09:42.560Z"
   },
   {
    "duration": 1846,
    "start_time": "2022-05-13T16:09:42.783Z"
   },
   {
    "duration": 1945,
    "start_time": "2022-05-13T16:10:23.765Z"
   },
   {
    "duration": 1925,
    "start_time": "2022-05-13T16:10:38.081Z"
   },
   {
    "duration": 2,
    "start_time": "2022-05-13T16:11:22.632Z"
   },
   {
    "duration": 47,
    "start_time": "2022-05-13T16:11:22.655Z"
   },
   {
    "duration": 12,
    "start_time": "2022-05-13T16:11:22.704Z"
   },
   {
    "duration": 28,
    "start_time": "2022-05-13T16:11:22.718Z"
   },
   {
    "duration": 14,
    "start_time": "2022-05-13T16:11:22.748Z"
   },
   {
    "duration": 29,
    "start_time": "2022-05-13T16:11:22.764Z"
   },
   {
    "duration": 19,
    "start_time": "2022-05-13T16:11:22.794Z"
   },
   {
    "duration": 15,
    "start_time": "2022-05-13T16:11:22.815Z"
   },
   {
    "duration": 16,
    "start_time": "2022-05-13T16:11:22.831Z"
   },
   {
    "duration": 166,
    "start_time": "2022-05-13T16:11:22.848Z"
   },
   {
    "duration": 15,
    "start_time": "2022-05-13T16:11:23.016Z"
   },
   {
    "duration": 5,
    "start_time": "2022-05-13T16:11:23.033Z"
   },
   {
    "duration": 348,
    "start_time": "2022-05-13T16:11:23.040Z"
   },
   {
    "duration": 16,
    "start_time": "2022-05-13T16:11:23.389Z"
   },
   {
    "duration": 213,
    "start_time": "2022-05-13T16:11:23.407Z"
   },
   {
    "duration": 1947,
    "start_time": "2022-05-13T16:11:23.622Z"
   },
   {
    "duration": 1798,
    "start_time": "2022-05-13T16:11:38.256Z"
   },
   {
    "duration": 1811,
    "start_time": "2022-05-13T16:12:03.165Z"
   },
   {
    "duration": 14,
    "start_time": "2022-05-13T16:12:08.411Z"
   },
   {
    "duration": 5,
    "start_time": "2022-05-13T16:13:34.715Z"
   },
   {
    "duration": 2,
    "start_time": "2022-05-13T16:13:41.969Z"
   },
   {
    "duration": 51,
    "start_time": "2022-05-13T16:13:41.987Z"
   },
   {
    "duration": 14,
    "start_time": "2022-05-13T16:13:42.040Z"
   },
   {
    "duration": 40,
    "start_time": "2022-05-13T16:13:42.056Z"
   },
   {
    "duration": 24,
    "start_time": "2022-05-13T16:13:42.097Z"
   },
   {
    "duration": 7,
    "start_time": "2022-05-13T16:13:42.124Z"
   },
   {
    "duration": 23,
    "start_time": "2022-05-13T16:13:42.132Z"
   },
   {
    "duration": 38,
    "start_time": "2022-05-13T16:13:42.157Z"
   },
   {
    "duration": 22,
    "start_time": "2022-05-13T16:13:42.196Z"
   },
   {
    "duration": 165,
    "start_time": "2022-05-13T16:13:42.220Z"
   },
   {
    "duration": 16,
    "start_time": "2022-05-13T16:13:42.387Z"
   },
   {
    "duration": 5,
    "start_time": "2022-05-13T16:13:42.405Z"
   },
   {
    "duration": 283,
    "start_time": "2022-05-13T16:13:42.411Z"
   },
   {
    "duration": 16,
    "start_time": "2022-05-13T16:13:42.696Z"
   },
   {
    "duration": 241,
    "start_time": "2022-05-13T16:13:42.716Z"
   },
   {
    "duration": 6,
    "start_time": "2022-05-13T16:13:42.959Z"
   },
   {
    "duration": 16,
    "start_time": "2022-05-13T16:14:12.274Z"
   },
   {
    "duration": 16,
    "start_time": "2022-05-13T16:14:25.592Z"
   },
   {
    "duration": 13,
    "start_time": "2022-05-13T16:19:26.222Z"
   },
   {
    "duration": 2630,
    "start_time": "2022-05-13T16:29:03.839Z"
   },
   {
    "duration": 3,
    "start_time": "2022-05-13T16:29:30.114Z"
   },
   {
    "duration": 44,
    "start_time": "2022-05-13T16:29:30.138Z"
   },
   {
    "duration": 15,
    "start_time": "2022-05-13T16:29:30.184Z"
   },
   {
    "duration": 31,
    "start_time": "2022-05-13T16:29:30.200Z"
   },
   {
    "duration": 24,
    "start_time": "2022-05-13T16:29:30.232Z"
   },
   {
    "duration": 7,
    "start_time": "2022-05-13T16:29:30.258Z"
   },
   {
    "duration": 37,
    "start_time": "2022-05-13T16:29:30.267Z"
   },
   {
    "duration": 16,
    "start_time": "2022-05-13T16:29:30.306Z"
   },
   {
    "duration": 14,
    "start_time": "2022-05-13T16:29:30.324Z"
   },
   {
    "duration": 168,
    "start_time": "2022-05-13T16:29:30.339Z"
   },
   {
    "duration": 16,
    "start_time": "2022-05-13T16:29:30.509Z"
   },
   {
    "duration": 12,
    "start_time": "2022-05-13T16:29:30.526Z"
   },
   {
    "duration": 261,
    "start_time": "2022-05-13T16:29:30.540Z"
   },
   {
    "duration": 16,
    "start_time": "2022-05-13T16:29:30.803Z"
   },
   {
    "duration": 222,
    "start_time": "2022-05-13T16:29:30.821Z"
   },
   {
    "duration": 17,
    "start_time": "2022-05-13T16:29:31.044Z"
   },
   {
    "duration": 2459,
    "start_time": "2022-05-13T16:29:31.062Z"
   },
   {
    "duration": 3448,
    "start_time": "2022-05-13T16:29:52.270Z"
   },
   {
    "duration": 207,
    "start_time": "2022-05-13T16:30:34.192Z"
   },
   {
    "duration": 170,
    "start_time": "2022-05-13T16:31:10.055Z"
   },
   {
    "duration": 115,
    "start_time": "2022-05-13T16:31:24.715Z"
   },
   {
    "duration": 471,
    "start_time": "2022-05-13T16:31:48.325Z"
   },
   {
    "duration": 16,
    "start_time": "2022-05-13T16:34:01.002Z"
   },
   {
    "duration": 3,
    "start_time": "2022-05-13T16:34:09.932Z"
   },
   {
    "duration": 43,
    "start_time": "2022-05-13T16:34:09.954Z"
   },
   {
    "duration": 15,
    "start_time": "2022-05-13T16:34:09.999Z"
   },
   {
    "duration": 33,
    "start_time": "2022-05-13T16:34:10.016Z"
   },
   {
    "duration": 19,
    "start_time": "2022-05-13T16:34:10.051Z"
   },
   {
    "duration": 8,
    "start_time": "2022-05-13T16:34:10.089Z"
   },
   {
    "duration": 28,
    "start_time": "2022-05-13T16:34:10.098Z"
   },
   {
    "duration": 15,
    "start_time": "2022-05-13T16:34:10.128Z"
   },
   {
    "duration": 14,
    "start_time": "2022-05-13T16:34:10.145Z"
   },
   {
    "duration": 170,
    "start_time": "2022-05-13T16:34:10.160Z"
   },
   {
    "duration": 16,
    "start_time": "2022-05-13T16:34:10.332Z"
   },
   {
    "duration": 5,
    "start_time": "2022-05-13T16:34:10.350Z"
   },
   {
    "duration": 262,
    "start_time": "2022-05-13T16:34:10.357Z"
   },
   {
    "duration": 16,
    "start_time": "2022-05-13T16:34:10.620Z"
   },
   {
    "duration": 214,
    "start_time": "2022-05-13T16:34:10.638Z"
   },
   {
    "duration": 14,
    "start_time": "2022-05-13T16:34:10.854Z"
   },
   {
    "duration": 242,
    "start_time": "2022-05-13T16:34:10.869Z"
   },
   {
    "duration": 13,
    "start_time": "2022-05-13T16:34:23.949Z"
   },
   {
    "duration": 220,
    "start_time": "2022-05-13T17:01:33.110Z"
   },
   {
    "duration": 224,
    "start_time": "2022-05-13T17:01:40.384Z"
   },
   {
    "duration": 21,
    "start_time": "2022-05-13T17:03:13.912Z"
   },
   {
    "duration": 3,
    "start_time": "2022-05-13T17:03:30.388Z"
   },
   {
    "duration": 50,
    "start_time": "2022-05-13T17:03:30.403Z"
   },
   {
    "duration": 14,
    "start_time": "2022-05-13T17:03:30.455Z"
   },
   {
    "duration": 40,
    "start_time": "2022-05-13T17:03:30.470Z"
   },
   {
    "duration": 21,
    "start_time": "2022-05-13T17:03:30.512Z"
   },
   {
    "duration": 8,
    "start_time": "2022-05-13T17:03:30.536Z"
   },
   {
    "duration": 33,
    "start_time": "2022-05-13T17:03:30.545Z"
   },
   {
    "duration": 16,
    "start_time": "2022-05-13T17:03:30.588Z"
   },
   {
    "duration": 13,
    "start_time": "2022-05-13T17:03:30.606Z"
   },
   {
    "duration": 160,
    "start_time": "2022-05-13T17:03:30.621Z"
   },
   {
    "duration": 18,
    "start_time": "2022-05-13T17:03:30.782Z"
   },
   {
    "duration": 5,
    "start_time": "2022-05-13T17:03:30.801Z"
   },
   {
    "duration": 262,
    "start_time": "2022-05-13T17:03:30.808Z"
   },
   {
    "duration": 27,
    "start_time": "2022-05-13T17:03:31.072Z"
   },
   {
    "duration": 228,
    "start_time": "2022-05-13T17:03:31.101Z"
   },
   {
    "duration": 16,
    "start_time": "2022-05-13T17:03:31.330Z"
   },
   {
    "duration": 247,
    "start_time": "2022-05-13T17:03:31.347Z"
   },
   {
    "duration": 22,
    "start_time": "2022-05-13T17:03:31.596Z"
   },
   {
    "duration": 15,
    "start_time": "2022-05-13T17:03:52.576Z"
   },
   {
    "duration": 15,
    "start_time": "2022-05-13T17:04:02.675Z"
   },
   {
    "duration": 14,
    "start_time": "2022-05-13T17:04:12.951Z"
   },
   {
    "duration": 14,
    "start_time": "2022-05-13T17:04:23.831Z"
   },
   {
    "duration": 2,
    "start_time": "2022-05-13T17:04:39.796Z"
   },
   {
    "duration": 58,
    "start_time": "2022-05-13T17:04:39.817Z"
   },
   {
    "duration": 15,
    "start_time": "2022-05-13T17:04:39.878Z"
   },
   {
    "duration": 31,
    "start_time": "2022-05-13T17:04:39.895Z"
   },
   {
    "duration": 18,
    "start_time": "2022-05-13T17:04:39.928Z"
   },
   {
    "duration": 7,
    "start_time": "2022-05-13T17:04:39.949Z"
   },
   {
    "duration": 43,
    "start_time": "2022-05-13T17:04:39.957Z"
   },
   {
    "duration": 17,
    "start_time": "2022-05-13T17:04:40.002Z"
   },
   {
    "duration": 24,
    "start_time": "2022-05-13T17:04:40.021Z"
   },
   {
    "duration": 159,
    "start_time": "2022-05-13T17:04:40.047Z"
   },
   {
    "duration": 16,
    "start_time": "2022-05-13T17:04:40.208Z"
   },
   {
    "duration": 6,
    "start_time": "2022-05-13T17:04:40.226Z"
   },
   {
    "duration": 263,
    "start_time": "2022-05-13T17:04:40.234Z"
   },
   {
    "duration": 17,
    "start_time": "2022-05-13T17:04:40.499Z"
   },
   {
    "duration": 225,
    "start_time": "2022-05-13T17:04:40.518Z"
   },
   {
    "duration": 15,
    "start_time": "2022-05-13T17:04:40.745Z"
   },
   {
    "duration": 240,
    "start_time": "2022-05-13T17:04:40.762Z"
   },
   {
    "duration": 14,
    "start_time": "2022-05-13T17:04:41.004Z"
   },
   {
    "duration": 14,
    "start_time": "2022-05-13T17:04:41.020Z"
   },
   {
    "duration": 13,
    "start_time": "2022-05-13T17:04:41.036Z"
   },
   {
    "duration": 43,
    "start_time": "2022-05-13T17:04:41.051Z"
   },
   {
    "duration": 14,
    "start_time": "2022-05-13T17:04:41.096Z"
   },
   {
    "duration": 117,
    "start_time": "2022-05-13T17:08:50.925Z"
   },
   {
    "duration": 123,
    "start_time": "2022-05-13T17:09:29.498Z"
   },
   {
    "duration": 3,
    "start_time": "2022-05-13T17:09:39.235Z"
   },
   {
    "duration": 42,
    "start_time": "2022-05-13T17:09:39.248Z"
   },
   {
    "duration": 14,
    "start_time": "2022-05-13T17:09:39.292Z"
   },
   {
    "duration": 30,
    "start_time": "2022-05-13T17:09:39.308Z"
   },
   {
    "duration": 18,
    "start_time": "2022-05-13T17:09:39.340Z"
   },
   {
    "duration": 29,
    "start_time": "2022-05-13T17:09:39.360Z"
   },
   {
    "duration": 20,
    "start_time": "2022-05-13T17:09:39.390Z"
   },
   {
    "duration": 15,
    "start_time": "2022-05-13T17:09:39.411Z"
   },
   {
    "duration": 13,
    "start_time": "2022-05-13T17:09:39.427Z"
   },
   {
    "duration": 170,
    "start_time": "2022-05-13T17:09:39.441Z"
   },
   {
    "duration": 16,
    "start_time": "2022-05-13T17:09:39.612Z"
   },
   {
    "duration": 5,
    "start_time": "2022-05-13T17:09:39.630Z"
   },
   {
    "duration": 264,
    "start_time": "2022-05-13T17:09:39.636Z"
   },
   {
    "duration": 17,
    "start_time": "2022-05-13T17:09:39.902Z"
   },
   {
    "duration": 228,
    "start_time": "2022-05-13T17:09:39.921Z"
   },
   {
    "duration": 15,
    "start_time": "2022-05-13T17:09:40.150Z"
   },
   {
    "duration": 230,
    "start_time": "2022-05-13T17:09:40.166Z"
   },
   {
    "duration": 15,
    "start_time": "2022-05-13T17:09:40.397Z"
   },
   {
    "duration": 13,
    "start_time": "2022-05-13T17:09:40.414Z"
   },
   {
    "duration": 14,
    "start_time": "2022-05-13T17:09:40.429Z"
   },
   {
    "duration": 16,
    "start_time": "2022-05-13T17:09:40.444Z"
   },
   {
    "duration": 14,
    "start_time": "2022-05-13T17:09:40.489Z"
   },
   {
    "duration": 8,
    "start_time": "2022-05-18T10:44:38.848Z"
   },
   {
    "duration": 22,
    "start_time": "2022-05-18T10:44:52.677Z"
   },
   {
    "duration": 21,
    "start_time": "2022-05-18T10:45:13.884Z"
   },
   {
    "duration": 322,
    "start_time": "2022-05-18T10:45:47.448Z"
   },
   {
    "duration": 356,
    "start_time": "2022-05-18T10:46:34.941Z"
   },
   {
    "duration": 371,
    "start_time": "2022-05-18T10:46:52.035Z"
   },
   {
    "duration": 302,
    "start_time": "2022-05-18T10:47:15.516Z"
   },
   {
    "duration": 8,
    "start_time": "2022-05-18T11:01:58.599Z"
   },
   {
    "duration": 9,
    "start_time": "2022-05-18T11:02:05.495Z"
   },
   {
    "duration": 14,
    "start_time": "2022-05-18T11:02:24.927Z"
   },
   {
    "duration": 13,
    "start_time": "2022-05-18T11:02:30.211Z"
   },
   {
    "duration": 13,
    "start_time": "2022-05-18T11:02:45.471Z"
   },
   {
    "duration": 12,
    "start_time": "2022-05-18T11:03:00.988Z"
   },
   {
    "duration": 13,
    "start_time": "2022-05-18T11:22:00.922Z"
   },
   {
    "duration": 10,
    "start_time": "2022-05-18T11:22:55.415Z"
   },
   {
    "duration": 2,
    "start_time": "2022-05-18T11:23:07.092Z"
   },
   {
    "duration": 76,
    "start_time": "2022-05-18T11:23:07.098Z"
   },
   {
    "duration": 14,
    "start_time": "2022-05-18T11:23:07.176Z"
   },
   {
    "duration": 32,
    "start_time": "2022-05-18T11:23:07.191Z"
   },
   {
    "duration": 34,
    "start_time": "2022-05-18T11:23:07.225Z"
   },
   {
    "duration": 6,
    "start_time": "2022-05-18T11:23:07.261Z"
   },
   {
    "duration": 22,
    "start_time": "2022-05-18T11:23:07.268Z"
   },
   {
    "duration": 15,
    "start_time": "2022-05-18T11:23:07.291Z"
   },
   {
    "duration": 12,
    "start_time": "2022-05-18T11:23:07.308Z"
   },
   {
    "duration": 166,
    "start_time": "2022-05-18T11:23:07.321Z"
   },
   {
    "duration": 15,
    "start_time": "2022-05-18T11:23:07.489Z"
   },
   {
    "duration": 4,
    "start_time": "2022-05-18T11:23:07.506Z"
   },
   {
    "duration": 253,
    "start_time": "2022-05-18T11:23:07.512Z"
   },
   {
    "duration": 14,
    "start_time": "2022-05-18T11:23:07.767Z"
   },
   {
    "duration": 260,
    "start_time": "2022-05-18T11:23:07.782Z"
   },
   {
    "duration": 20,
    "start_time": "2022-05-18T11:23:08.044Z"
   },
   {
    "duration": 10,
    "start_time": "2022-05-18T11:23:08.066Z"
   },
   {
    "duration": 0,
    "start_time": "2022-05-18T11:23:08.077Z"
   },
   {
    "duration": 0,
    "start_time": "2022-05-18T11:23:08.079Z"
   },
   {
    "duration": 0,
    "start_time": "2022-05-18T11:23:08.080Z"
   },
   {
    "duration": 0,
    "start_time": "2022-05-18T11:23:08.082Z"
   },
   {
    "duration": 0,
    "start_time": "2022-05-18T11:23:08.083Z"
   },
   {
    "duration": 0,
    "start_time": "2022-05-18T11:23:08.085Z"
   },
   {
    "duration": 0,
    "start_time": "2022-05-18T11:23:08.086Z"
   },
   {
    "duration": 0,
    "start_time": "2022-05-18T11:23:08.088Z"
   },
   {
    "duration": 10,
    "start_time": "2022-05-18T11:23:14.698Z"
   },
   {
    "duration": 2,
    "start_time": "2022-05-18T11:24:09.495Z"
   },
   {
    "duration": 59,
    "start_time": "2022-05-18T11:24:09.527Z"
   },
   {
    "duration": 11,
    "start_time": "2022-05-18T11:24:09.588Z"
   },
   {
    "duration": 29,
    "start_time": "2022-05-18T11:24:09.601Z"
   },
   {
    "duration": 37,
    "start_time": "2022-05-18T11:24:09.631Z"
   },
   {
    "duration": 7,
    "start_time": "2022-05-18T11:24:09.669Z"
   },
   {
    "duration": 17,
    "start_time": "2022-05-18T11:24:09.677Z"
   },
   {
    "duration": 14,
    "start_time": "2022-05-18T11:24:09.696Z"
   },
   {
    "duration": 10,
    "start_time": "2022-05-18T11:24:09.711Z"
   },
   {
    "duration": 172,
    "start_time": "2022-05-18T11:24:09.723Z"
   },
   {
    "duration": 15,
    "start_time": "2022-05-18T11:24:09.897Z"
   },
   {
    "duration": 5,
    "start_time": "2022-05-18T11:24:09.913Z"
   },
   {
    "duration": 249,
    "start_time": "2022-05-18T11:24:09.919Z"
   },
   {
    "duration": 15,
    "start_time": "2022-05-18T11:24:10.170Z"
   },
   {
    "duration": 208,
    "start_time": "2022-05-18T11:24:10.188Z"
   },
   {
    "duration": 14,
    "start_time": "2022-05-18T11:24:10.398Z"
   },
   {
    "duration": 10,
    "start_time": "2022-05-18T11:24:10.414Z"
   },
   {
    "duration": 0,
    "start_time": "2022-05-18T11:24:10.425Z"
   },
   {
    "duration": 0,
    "start_time": "2022-05-18T11:24:10.426Z"
   },
   {
    "duration": 0,
    "start_time": "2022-05-18T11:24:10.427Z"
   },
   {
    "duration": 0,
    "start_time": "2022-05-18T11:24:10.428Z"
   },
   {
    "duration": 0,
    "start_time": "2022-05-18T11:24:10.429Z"
   },
   {
    "duration": 0,
    "start_time": "2022-05-18T11:24:10.430Z"
   },
   {
    "duration": 0,
    "start_time": "2022-05-18T11:24:10.431Z"
   },
   {
    "duration": 0,
    "start_time": "2022-05-18T11:24:10.432Z"
   },
   {
    "duration": 12,
    "start_time": "2022-05-18T11:24:35.817Z"
   },
   {
    "duration": 10,
    "start_time": "2022-05-18T11:24:38.523Z"
   },
   {
    "duration": 10,
    "start_time": "2022-05-18T11:24:51.012Z"
   },
   {
    "duration": 13,
    "start_time": "2022-05-18T11:25:25.468Z"
   },
   {
    "duration": 8,
    "start_time": "2022-05-18T11:26:23.502Z"
   },
   {
    "duration": 3,
    "start_time": "2022-05-18T11:26:32.856Z"
   },
   {
    "duration": 4,
    "start_time": "2022-05-18T11:26:44.658Z"
   },
   {
    "duration": 17,
    "start_time": "2022-05-18T11:28:41.820Z"
   },
   {
    "duration": 20,
    "start_time": "2022-05-18T11:28:56.306Z"
   },
   {
    "duration": 16,
    "start_time": "2022-05-18T11:29:10.511Z"
   },
   {
    "duration": 15,
    "start_time": "2022-05-18T11:29:48.486Z"
   },
   {
    "duration": 14,
    "start_time": "2022-05-18T11:43:15.974Z"
   },
   {
    "duration": 36,
    "start_time": "2022-05-18T11:46:30.372Z"
   },
   {
    "duration": 14,
    "start_time": "2022-05-18T11:48:14.500Z"
   },
   {
    "duration": 41,
    "start_time": "2022-05-18T12:14:45.893Z"
   },
   {
    "duration": 3,
    "start_time": "2022-05-18T13:29:33.630Z"
   },
   {
    "duration": 141,
    "start_time": "2022-05-18T13:29:33.650Z"
   },
   {
    "duration": 13,
    "start_time": "2022-05-18T13:29:33.793Z"
   },
   {
    "duration": 29,
    "start_time": "2022-05-18T13:29:33.807Z"
   },
   {
    "duration": 34,
    "start_time": "2022-05-18T13:29:33.837Z"
   },
   {
    "duration": 6,
    "start_time": "2022-05-18T13:29:33.873Z"
   },
   {
    "duration": 23,
    "start_time": "2022-05-18T13:29:33.880Z"
   },
   {
    "duration": 15,
    "start_time": "2022-05-18T13:29:33.905Z"
   },
   {
    "duration": 11,
    "start_time": "2022-05-18T13:29:33.922Z"
   },
   {
    "duration": 142,
    "start_time": "2022-05-18T13:29:33.959Z"
   },
   {
    "duration": 14,
    "start_time": "2022-05-18T13:29:34.102Z"
   },
   {
    "duration": 5,
    "start_time": "2022-05-18T13:29:34.118Z"
   },
   {
    "duration": 245,
    "start_time": "2022-05-18T13:29:34.124Z"
   },
   {
    "duration": 15,
    "start_time": "2022-05-18T13:29:34.370Z"
   },
   {
    "duration": 212,
    "start_time": "2022-05-18T13:29:34.387Z"
   },
   {
    "duration": 13,
    "start_time": "2022-05-18T13:29:34.600Z"
   },
   {
    "duration": 7,
    "start_time": "2022-05-18T13:29:34.615Z"
   },
   {
    "duration": 0,
    "start_time": "2022-05-18T13:29:34.624Z"
   },
   {
    "duration": 0,
    "start_time": "2022-05-18T13:29:34.625Z"
   },
   {
    "duration": 0,
    "start_time": "2022-05-18T13:29:34.626Z"
   },
   {
    "duration": 0,
    "start_time": "2022-05-18T13:29:34.627Z"
   },
   {
    "duration": 0,
    "start_time": "2022-05-18T13:29:34.628Z"
   },
   {
    "duration": 0,
    "start_time": "2022-05-18T13:29:34.629Z"
   },
   {
    "duration": 0,
    "start_time": "2022-05-18T13:29:34.630Z"
   },
   {
    "duration": 0,
    "start_time": "2022-05-18T13:29:34.631Z"
   },
   {
    "duration": 0,
    "start_time": "2022-05-18T13:29:34.631Z"
   },
   {
    "duration": 15,
    "start_time": "2022-05-18T13:29:56.342Z"
   },
   {
    "duration": 13,
    "start_time": "2022-05-18T13:30:16.228Z"
   },
   {
    "duration": 14,
    "start_time": "2022-05-18T13:34:13.121Z"
   },
   {
    "duration": 51,
    "start_time": "2022-05-18T13:36:37.021Z"
   },
   {
    "duration": 15,
    "start_time": "2022-05-18T13:37:38.593Z"
   },
   {
    "duration": 2,
    "start_time": "2022-05-18T13:38:14.260Z"
   },
   {
    "duration": 57,
    "start_time": "2022-05-18T13:38:14.277Z"
   },
   {
    "duration": 11,
    "start_time": "2022-05-18T13:38:14.336Z"
   },
   {
    "duration": 27,
    "start_time": "2022-05-18T13:38:14.348Z"
   },
   {
    "duration": 18,
    "start_time": "2022-05-18T13:38:14.377Z"
   },
   {
    "duration": 5,
    "start_time": "2022-05-18T13:38:14.397Z"
   },
   {
    "duration": 19,
    "start_time": "2022-05-18T13:38:14.403Z"
   },
   {
    "duration": 36,
    "start_time": "2022-05-18T13:38:14.423Z"
   },
   {
    "duration": 12,
    "start_time": "2022-05-18T13:38:14.461Z"
   },
   {
    "duration": 138,
    "start_time": "2022-05-18T13:38:14.474Z"
   },
   {
    "duration": 14,
    "start_time": "2022-05-18T13:38:14.613Z"
   },
   {
    "duration": 5,
    "start_time": "2022-05-18T13:38:14.628Z"
   },
   {
    "duration": 234,
    "start_time": "2022-05-18T13:38:14.635Z"
   },
   {
    "duration": 14,
    "start_time": "2022-05-18T13:38:14.871Z"
   },
   {
    "duration": 211,
    "start_time": "2022-05-18T13:38:14.887Z"
   },
   {
    "duration": 13,
    "start_time": "2022-05-18T13:38:15.099Z"
   },
   {
    "duration": 7,
    "start_time": "2022-05-18T13:38:15.114Z"
   },
   {
    "duration": 0,
    "start_time": "2022-05-18T13:38:15.123Z"
   },
   {
    "duration": 0,
    "start_time": "2022-05-18T13:38:15.123Z"
   },
   {
    "duration": 0,
    "start_time": "2022-05-18T13:38:15.124Z"
   },
   {
    "duration": 0,
    "start_time": "2022-05-18T13:38:15.125Z"
   },
   {
    "duration": 0,
    "start_time": "2022-05-18T13:38:15.126Z"
   },
   {
    "duration": 0,
    "start_time": "2022-05-18T13:38:15.127Z"
   },
   {
    "duration": 0,
    "start_time": "2022-05-18T13:38:15.128Z"
   },
   {
    "duration": 0,
    "start_time": "2022-05-18T13:38:15.129Z"
   },
   {
    "duration": 0,
    "start_time": "2022-05-18T13:38:15.130Z"
   },
   {
    "duration": 0,
    "start_time": "2022-05-18T13:38:15.130Z"
   },
   {
    "duration": 0,
    "start_time": "2022-05-18T13:38:15.132Z"
   },
   {
    "duration": 16,
    "start_time": "2022-05-18T13:38:52.568Z"
   },
   {
    "duration": 15,
    "start_time": "2022-05-18T13:39:08.597Z"
   },
   {
    "duration": 45,
    "start_time": "2022-05-18T13:44:08.347Z"
   },
   {
    "duration": 14,
    "start_time": "2022-05-18T13:45:29.858Z"
   },
   {
    "duration": 14,
    "start_time": "2022-05-18T13:45:38.636Z"
   },
   {
    "duration": 41,
    "start_time": "2022-05-18T13:48:56.388Z"
   },
   {
    "duration": 2,
    "start_time": "2022-05-18T13:50:48.649Z"
   },
   {
    "duration": 58,
    "start_time": "2022-05-18T13:50:48.671Z"
   },
   {
    "duration": 12,
    "start_time": "2022-05-18T13:50:48.731Z"
   },
   {
    "duration": 30,
    "start_time": "2022-05-18T13:50:48.744Z"
   },
   {
    "duration": 21,
    "start_time": "2022-05-18T13:50:48.776Z"
   },
   {
    "duration": 6,
    "start_time": "2022-05-18T13:50:48.799Z"
   },
   {
    "duration": 30,
    "start_time": "2022-05-18T13:50:48.806Z"
   },
   {
    "duration": 14,
    "start_time": "2022-05-18T13:50:48.837Z"
   },
   {
    "duration": 17,
    "start_time": "2022-05-18T13:50:48.852Z"
   },
   {
    "duration": 139,
    "start_time": "2022-05-18T13:50:48.871Z"
   },
   {
    "duration": 14,
    "start_time": "2022-05-18T13:50:49.012Z"
   },
   {
    "duration": 5,
    "start_time": "2022-05-18T13:50:49.027Z"
   },
   {
    "duration": 247,
    "start_time": "2022-05-18T13:50:49.033Z"
   },
   {
    "duration": 14,
    "start_time": "2022-05-18T13:50:49.282Z"
   },
   {
    "duration": 201,
    "start_time": "2022-05-18T13:50:49.298Z"
   },
   {
    "duration": 13,
    "start_time": "2022-05-18T13:50:49.500Z"
   },
   {
    "duration": 13,
    "start_time": "2022-05-18T13:50:49.514Z"
   },
   {
    "duration": 0,
    "start_time": "2022-05-18T13:50:49.528Z"
   },
   {
    "duration": 0,
    "start_time": "2022-05-18T13:50:49.529Z"
   },
   {
    "duration": 0,
    "start_time": "2022-05-18T13:50:49.530Z"
   },
   {
    "duration": 0,
    "start_time": "2022-05-18T13:50:49.531Z"
   },
   {
    "duration": 0,
    "start_time": "2022-05-18T13:50:49.532Z"
   },
   {
    "duration": 0,
    "start_time": "2022-05-18T13:50:49.533Z"
   },
   {
    "duration": 0,
    "start_time": "2022-05-18T13:50:49.534Z"
   },
   {
    "duration": 0,
    "start_time": "2022-05-18T13:50:49.535Z"
   },
   {
    "duration": 0,
    "start_time": "2022-05-18T13:50:49.536Z"
   },
   {
    "duration": 0,
    "start_time": "2022-05-18T13:50:49.537Z"
   },
   {
    "duration": 0,
    "start_time": "2022-05-18T13:50:49.559Z"
   },
   {
    "duration": 0,
    "start_time": "2022-05-18T13:50:49.560Z"
   },
   {
    "duration": 8,
    "start_time": "2022-05-18T13:51:17.653Z"
   },
   {
    "duration": 130,
    "start_time": "2022-05-18T13:53:08.074Z"
   },
   {
    "duration": 212,
    "start_time": "2022-05-18T13:53:53.049Z"
   },
   {
    "duration": 202,
    "start_time": "2022-05-18T13:54:06.468Z"
   },
   {
    "duration": 3,
    "start_time": "2022-05-18T13:54:11.293Z"
   },
   {
    "duration": 57,
    "start_time": "2022-05-18T13:54:11.304Z"
   },
   {
    "duration": 14,
    "start_time": "2022-05-18T13:54:11.363Z"
   },
   {
    "duration": 28,
    "start_time": "2022-05-18T13:54:11.378Z"
   },
   {
    "duration": 14,
    "start_time": "2022-05-18T13:54:11.407Z"
   },
   {
    "duration": 6,
    "start_time": "2022-05-18T13:54:11.424Z"
   },
   {
    "duration": 17,
    "start_time": "2022-05-18T13:54:11.460Z"
   },
   {
    "duration": 14,
    "start_time": "2022-05-18T13:54:11.479Z"
   },
   {
    "duration": 13,
    "start_time": "2022-05-18T13:54:11.494Z"
   },
   {
    "duration": 163,
    "start_time": "2022-05-18T13:54:11.509Z"
   },
   {
    "duration": 17,
    "start_time": "2022-05-18T13:54:11.674Z"
   },
   {
    "duration": 5,
    "start_time": "2022-05-18T13:54:11.693Z"
   },
   {
    "duration": 334,
    "start_time": "2022-05-18T13:54:11.700Z"
   },
   {
    "duration": 24,
    "start_time": "2022-05-18T13:54:12.036Z"
   },
   {
    "duration": 198,
    "start_time": "2022-05-18T13:54:12.063Z"
   },
   {
    "duration": 13,
    "start_time": "2022-05-18T13:54:12.263Z"
   },
   {
    "duration": 210,
    "start_time": "2022-05-18T13:54:12.277Z"
   },
   {
    "duration": 12,
    "start_time": "2022-05-18T13:54:12.489Z"
   },
   {
    "duration": 28,
    "start_time": "2022-05-18T13:54:12.502Z"
   },
   {
    "duration": 28,
    "start_time": "2022-05-18T13:54:12.531Z"
   },
   {
    "duration": 14,
    "start_time": "2022-05-18T13:54:12.560Z"
   },
   {
    "duration": 11,
    "start_time": "2022-05-18T13:54:12.576Z"
   },
   {
    "duration": 278,
    "start_time": "2022-05-18T13:54:12.588Z"
   },
   {
    "duration": 13,
    "start_time": "2022-05-18T13:54:12.868Z"
   },
   {
    "duration": 13,
    "start_time": "2022-05-18T13:54:12.883Z"
   },
   {
    "duration": 13,
    "start_time": "2022-05-18T13:54:12.897Z"
   },
   {
    "duration": 13,
    "start_time": "2022-05-18T13:54:12.912Z"
   },
   {
    "duration": 37,
    "start_time": "2022-05-18T13:54:12.926Z"
   },
   {
    "duration": 13,
    "start_time": "2022-05-18T13:54:12.964Z"
   },
   {
    "duration": 163,
    "start_time": "2022-05-18T14:07:48.373Z"
   },
   {
    "duration": 166,
    "start_time": "2022-05-18T14:08:09.797Z"
   },
   {
    "duration": 2,
    "start_time": "2022-05-18T14:08:13.869Z"
   },
   {
    "duration": 61,
    "start_time": "2022-05-18T14:08:13.881Z"
   },
   {
    "duration": 12,
    "start_time": "2022-05-18T14:08:13.944Z"
   },
   {
    "duration": 44,
    "start_time": "2022-05-18T14:08:13.957Z"
   },
   {
    "duration": 19,
    "start_time": "2022-05-18T14:08:14.002Z"
   },
   {
    "duration": 7,
    "start_time": "2022-05-18T14:08:14.023Z"
   },
   {
    "duration": 40,
    "start_time": "2022-05-18T14:08:14.031Z"
   },
   {
    "duration": 17,
    "start_time": "2022-05-18T14:08:14.073Z"
   },
   {
    "duration": 16,
    "start_time": "2022-05-18T14:08:14.091Z"
   },
   {
    "duration": 178,
    "start_time": "2022-05-18T14:08:14.109Z"
   },
   {
    "duration": 17,
    "start_time": "2022-05-18T14:08:14.288Z"
   },
   {
    "duration": 5,
    "start_time": "2022-05-18T14:08:14.307Z"
   },
   {
    "duration": 286,
    "start_time": "2022-05-18T14:08:14.313Z"
   },
   {
    "duration": 17,
    "start_time": "2022-05-18T14:08:14.601Z"
   },
   {
    "duration": 229,
    "start_time": "2022-05-18T14:08:14.621Z"
   },
   {
    "duration": 16,
    "start_time": "2022-05-18T14:08:14.859Z"
   },
   {
    "duration": 250,
    "start_time": "2022-05-18T14:08:14.877Z"
   },
   {
    "duration": 14,
    "start_time": "2022-05-18T14:08:15.129Z"
   },
   {
    "duration": 24,
    "start_time": "2022-05-18T14:08:15.145Z"
   },
   {
    "duration": 18,
    "start_time": "2022-05-18T14:08:15.171Z"
   },
   {
    "duration": 14,
    "start_time": "2022-05-18T14:08:15.191Z"
   },
   {
    "duration": 26,
    "start_time": "2022-05-18T14:08:15.206Z"
   },
   {
    "duration": 295,
    "start_time": "2022-05-18T14:08:15.234Z"
   },
   {
    "duration": 14,
    "start_time": "2022-05-18T14:08:15.531Z"
   },
   {
    "duration": 26,
    "start_time": "2022-05-18T14:08:15.546Z"
   },
   {
    "duration": 26,
    "start_time": "2022-05-18T14:08:15.573Z"
   },
   {
    "duration": 23,
    "start_time": "2022-05-18T14:08:15.600Z"
   },
   {
    "duration": 29,
    "start_time": "2022-05-18T14:08:15.624Z"
   },
   {
    "duration": 22,
    "start_time": "2022-05-18T14:08:15.655Z"
   },
   {
    "duration": 220,
    "start_time": "2022-05-18T14:08:34.655Z"
   },
   {
    "duration": 3,
    "start_time": "2022-05-18T14:08:53.896Z"
   },
   {
    "duration": 61,
    "start_time": "2022-05-18T14:08:53.925Z"
   },
   {
    "duration": 12,
    "start_time": "2022-05-18T14:08:53.988Z"
   },
   {
    "duration": 31,
    "start_time": "2022-05-18T14:08:54.001Z"
   },
   {
    "duration": 37,
    "start_time": "2022-05-18T14:08:54.034Z"
   },
   {
    "duration": 6,
    "start_time": "2022-05-18T14:08:54.073Z"
   },
   {
    "duration": 23,
    "start_time": "2022-05-18T14:08:54.081Z"
   },
   {
    "duration": 16,
    "start_time": "2022-05-18T14:08:54.105Z"
   },
   {
    "duration": 15,
    "start_time": "2022-05-18T14:08:54.122Z"
   },
   {
    "duration": 170,
    "start_time": "2022-05-18T14:08:54.139Z"
   },
   {
    "duration": 17,
    "start_time": "2022-05-18T14:08:54.310Z"
   },
   {
    "duration": 5,
    "start_time": "2022-05-18T14:08:54.329Z"
   },
   {
    "duration": 271,
    "start_time": "2022-05-18T14:08:54.335Z"
   },
   {
    "duration": 16,
    "start_time": "2022-05-18T14:08:54.608Z"
   },
   {
    "duration": 215,
    "start_time": "2022-05-18T14:08:54.627Z"
   },
   {
    "duration": 21,
    "start_time": "2022-05-18T14:08:54.843Z"
   },
   {
    "duration": 318,
    "start_time": "2022-05-18T14:08:54.865Z"
   },
   {
    "duration": 13,
    "start_time": "2022-05-18T14:08:55.185Z"
   },
   {
    "duration": 14,
    "start_time": "2022-05-18T14:08:55.199Z"
   },
   {
    "duration": 12,
    "start_time": "2022-05-18T14:08:55.214Z"
   },
   {
    "duration": 42,
    "start_time": "2022-05-18T14:08:55.227Z"
   },
   {
    "duration": 12,
    "start_time": "2022-05-18T14:08:55.271Z"
   },
   {
    "duration": 313,
    "start_time": "2022-05-18T14:08:55.285Z"
   },
   {
    "duration": 13,
    "start_time": "2022-05-18T14:08:55.600Z"
   },
   {
    "duration": 12,
    "start_time": "2022-05-18T14:08:55.615Z"
   },
   {
    "duration": 31,
    "start_time": "2022-05-18T14:08:55.628Z"
   },
   {
    "duration": 13,
    "start_time": "2022-05-18T14:08:55.661Z"
   },
   {
    "duration": 13,
    "start_time": "2022-05-18T14:08:55.675Z"
   },
   {
    "duration": 13,
    "start_time": "2022-05-18T14:08:55.690Z"
   },
   {
    "duration": 149,
    "start_time": "2022-05-18T14:09:10.144Z"
   },
   {
    "duration": 42,
    "start_time": "2022-05-18T14:09:21.027Z"
   },
   {
    "duration": 16,
    "start_time": "2022-05-18T14:09:31.846Z"
   },
   {
    "duration": 3,
    "start_time": "2022-05-18T14:10:04.325Z"
   },
   {
    "duration": 61,
    "start_time": "2022-05-18T14:10:04.345Z"
   },
   {
    "duration": 15,
    "start_time": "2022-05-18T14:10:04.408Z"
   },
   {
    "duration": 309,
    "start_time": "2022-05-18T14:10:04.425Z"
   },
   {
    "duration": 0,
    "start_time": "2022-05-18T14:10:04.736Z"
   },
   {
    "duration": 0,
    "start_time": "2022-05-18T14:10:04.738Z"
   },
   {
    "duration": 0,
    "start_time": "2022-05-18T14:10:04.739Z"
   },
   {
    "duration": 0,
    "start_time": "2022-05-18T14:10:04.740Z"
   },
   {
    "duration": 0,
    "start_time": "2022-05-18T14:10:04.741Z"
   },
   {
    "duration": 0,
    "start_time": "2022-05-18T14:10:04.742Z"
   },
   {
    "duration": 0,
    "start_time": "2022-05-18T14:10:04.743Z"
   },
   {
    "duration": 0,
    "start_time": "2022-05-18T14:10:04.744Z"
   },
   {
    "duration": 0,
    "start_time": "2022-05-18T14:10:04.745Z"
   },
   {
    "duration": 0,
    "start_time": "2022-05-18T14:10:04.746Z"
   },
   {
    "duration": 0,
    "start_time": "2022-05-18T14:10:04.747Z"
   },
   {
    "duration": 0,
    "start_time": "2022-05-18T14:10:04.748Z"
   },
   {
    "duration": 0,
    "start_time": "2022-05-18T14:10:04.749Z"
   },
   {
    "duration": 0,
    "start_time": "2022-05-18T14:10:04.750Z"
   },
   {
    "duration": 0,
    "start_time": "2022-05-18T14:10:04.751Z"
   },
   {
    "duration": 0,
    "start_time": "2022-05-18T14:10:04.751Z"
   },
   {
    "duration": 0,
    "start_time": "2022-05-18T14:10:04.752Z"
   },
   {
    "duration": 0,
    "start_time": "2022-05-18T14:10:04.753Z"
   },
   {
    "duration": 0,
    "start_time": "2022-05-18T14:10:04.754Z"
   },
   {
    "duration": 0,
    "start_time": "2022-05-18T14:10:04.755Z"
   },
   {
    "duration": 0,
    "start_time": "2022-05-18T14:10:04.756Z"
   },
   {
    "duration": 0,
    "start_time": "2022-05-18T14:10:04.757Z"
   },
   {
    "duration": 0,
    "start_time": "2022-05-18T14:10:04.758Z"
   },
   {
    "duration": 0,
    "start_time": "2022-05-18T14:10:04.759Z"
   },
   {
    "duration": 0,
    "start_time": "2022-05-18T14:10:04.760Z"
   },
   {
    "duration": 3,
    "start_time": "2022-05-18T14:10:20.237Z"
   },
   {
    "duration": 59,
    "start_time": "2022-05-18T14:10:20.247Z"
   },
   {
    "duration": 11,
    "start_time": "2022-05-18T14:10:20.308Z"
   },
   {
    "duration": 40,
    "start_time": "2022-05-18T14:10:20.321Z"
   },
   {
    "duration": 0,
    "start_time": "2022-05-18T14:10:20.363Z"
   },
   {
    "duration": 0,
    "start_time": "2022-05-18T14:10:20.364Z"
   },
   {
    "duration": 0,
    "start_time": "2022-05-18T14:10:20.365Z"
   },
   {
    "duration": 0,
    "start_time": "2022-05-18T14:10:20.366Z"
   },
   {
    "duration": 0,
    "start_time": "2022-05-18T14:10:20.367Z"
   },
   {
    "duration": 0,
    "start_time": "2022-05-18T14:10:20.368Z"
   },
   {
    "duration": 0,
    "start_time": "2022-05-18T14:10:20.370Z"
   },
   {
    "duration": 0,
    "start_time": "2022-05-18T14:10:20.370Z"
   },
   {
    "duration": 0,
    "start_time": "2022-05-18T14:10:20.371Z"
   },
   {
    "duration": 0,
    "start_time": "2022-05-18T14:10:20.372Z"
   },
   {
    "duration": 0,
    "start_time": "2022-05-18T14:10:20.373Z"
   },
   {
    "duration": 0,
    "start_time": "2022-05-18T14:10:20.374Z"
   },
   {
    "duration": 0,
    "start_time": "2022-05-18T14:10:20.375Z"
   },
   {
    "duration": 0,
    "start_time": "2022-05-18T14:10:20.375Z"
   },
   {
    "duration": 0,
    "start_time": "2022-05-18T14:10:20.376Z"
   },
   {
    "duration": 0,
    "start_time": "2022-05-18T14:10:20.377Z"
   },
   {
    "duration": 0,
    "start_time": "2022-05-18T14:10:20.378Z"
   },
   {
    "duration": 0,
    "start_time": "2022-05-18T14:10:20.379Z"
   },
   {
    "duration": 0,
    "start_time": "2022-05-18T14:10:20.380Z"
   },
   {
    "duration": 0,
    "start_time": "2022-05-18T14:10:20.380Z"
   },
   {
    "duration": 0,
    "start_time": "2022-05-18T14:10:20.381Z"
   },
   {
    "duration": 0,
    "start_time": "2022-05-18T14:10:20.382Z"
   },
   {
    "duration": 0,
    "start_time": "2022-05-18T14:10:20.383Z"
   },
   {
    "duration": 0,
    "start_time": "2022-05-18T14:10:20.384Z"
   },
   {
    "duration": 0,
    "start_time": "2022-05-18T14:10:20.385Z"
   },
   {
    "duration": 37,
    "start_time": "2022-05-18T14:10:43.124Z"
   },
   {
    "duration": 13,
    "start_time": "2022-05-18T14:10:49.472Z"
   },
   {
    "duration": 3,
    "start_time": "2022-05-18T14:10:52.804Z"
   },
   {
    "duration": 65,
    "start_time": "2022-05-18T14:10:52.826Z"
   },
   {
    "duration": 15,
    "start_time": "2022-05-18T14:10:52.894Z"
   },
   {
    "duration": 15,
    "start_time": "2022-05-18T14:10:52.911Z"
   },
   {
    "duration": 44,
    "start_time": "2022-05-18T14:10:52.927Z"
   },
   {
    "duration": 7,
    "start_time": "2022-05-18T14:10:52.973Z"
   },
   {
    "duration": 32,
    "start_time": "2022-05-18T14:10:52.981Z"
   },
   {
    "duration": 16,
    "start_time": "2022-05-18T14:10:53.015Z"
   },
   {
    "duration": 27,
    "start_time": "2022-05-18T14:10:53.033Z"
   },
   {
    "duration": 161,
    "start_time": "2022-05-18T14:10:53.062Z"
   },
   {
    "duration": 15,
    "start_time": "2022-05-18T14:10:53.225Z"
   },
   {
    "duration": 17,
    "start_time": "2022-05-18T14:10:53.242Z"
   },
   {
    "duration": 259,
    "start_time": "2022-05-18T14:10:53.260Z"
   },
   {
    "duration": 15,
    "start_time": "2022-05-18T14:10:53.521Z"
   },
   {
    "duration": 245,
    "start_time": "2022-05-18T14:10:53.538Z"
   },
   {
    "duration": 16,
    "start_time": "2022-05-18T14:10:53.784Z"
   },
   {
    "duration": 283,
    "start_time": "2022-05-18T14:10:53.801Z"
   },
   {
    "duration": 16,
    "start_time": "2022-05-18T14:10:54.086Z"
   },
   {
    "duration": 14,
    "start_time": "2022-05-18T14:10:54.104Z"
   },
   {
    "duration": 40,
    "start_time": "2022-05-18T14:10:54.119Z"
   },
   {
    "duration": 15,
    "start_time": "2022-05-18T14:10:54.161Z"
   },
   {
    "duration": 15,
    "start_time": "2022-05-18T14:10:54.178Z"
   },
   {
    "duration": 319,
    "start_time": "2022-05-18T14:10:54.194Z"
   },
   {
    "duration": 15,
    "start_time": "2022-05-18T14:10:54.515Z"
   },
   {
    "duration": 12,
    "start_time": "2022-05-18T14:10:54.532Z"
   },
   {
    "duration": 13,
    "start_time": "2022-05-18T14:10:54.559Z"
   },
   {
    "duration": 13,
    "start_time": "2022-05-18T14:10:54.574Z"
   },
   {
    "duration": 14,
    "start_time": "2022-05-18T14:10:54.588Z"
   },
   {
    "duration": 14,
    "start_time": "2022-05-18T14:10:54.603Z"
   },
   {
    "duration": 16,
    "start_time": "2022-05-18T14:15:08.789Z"
   },
   {
    "duration": 10,
    "start_time": "2022-05-18T14:17:09.072Z"
   },
   {
    "duration": 9,
    "start_time": "2022-05-18T14:17:14.508Z"
   },
   {
    "duration": 14,
    "start_time": "2022-05-18T14:17:52.689Z"
   },
   {
    "duration": 15,
    "start_time": "2022-05-18T14:18:05.395Z"
   },
   {
    "duration": 14,
    "start_time": "2022-05-18T14:18:19.867Z"
   },
   {
    "duration": 46,
    "start_time": "2022-05-18T14:19:57.437Z"
   },
   {
    "duration": 13,
    "start_time": "2022-05-18T14:29:57.684Z"
   },
   {
    "duration": 14,
    "start_time": "2022-05-18T14:30:28.520Z"
   },
   {
    "duration": 49,
    "start_time": "2022-05-18T14:32:04.785Z"
   },
   {
    "duration": 16,
    "start_time": "2022-05-18T14:32:59.613Z"
   },
   {
    "duration": 13,
    "start_time": "2022-05-18T14:33:38.787Z"
   },
   {
    "duration": 14,
    "start_time": "2022-05-18T14:34:13.875Z"
   },
   {
    "duration": 15,
    "start_time": "2022-05-18T14:36:10.711Z"
   },
   {
    "duration": 40,
    "start_time": "2022-05-18T14:37:34.172Z"
   },
   {
    "duration": 2,
    "start_time": "2022-05-18T14:38:44.121Z"
   },
   {
    "duration": 56,
    "start_time": "2022-05-18T14:38:44.143Z"
   },
   {
    "duration": 13,
    "start_time": "2022-05-18T14:38:44.201Z"
   },
   {
    "duration": 24,
    "start_time": "2022-05-18T14:38:44.215Z"
   },
   {
    "duration": 34,
    "start_time": "2022-05-18T14:38:44.241Z"
   },
   {
    "duration": 9,
    "start_time": "2022-05-18T14:38:44.277Z"
   },
   {
    "duration": 26,
    "start_time": "2022-05-18T14:38:44.287Z"
   },
   {
    "duration": 22,
    "start_time": "2022-05-18T14:38:44.315Z"
   },
   {
    "duration": 28,
    "start_time": "2022-05-18T14:38:44.339Z"
   },
   {
    "duration": 140,
    "start_time": "2022-05-18T14:38:44.368Z"
   },
   {
    "duration": 14,
    "start_time": "2022-05-18T14:38:44.509Z"
   },
   {
    "duration": 8,
    "start_time": "2022-05-18T14:38:44.524Z"
   },
   {
    "duration": 242,
    "start_time": "2022-05-18T14:38:44.533Z"
   },
   {
    "duration": 13,
    "start_time": "2022-05-18T14:38:44.777Z"
   },
   {
    "duration": 209,
    "start_time": "2022-05-18T14:38:44.792Z"
   },
   {
    "duration": 13,
    "start_time": "2022-05-18T14:38:45.002Z"
   },
   {
    "duration": 211,
    "start_time": "2022-05-18T14:38:45.016Z"
   },
   {
    "duration": 12,
    "start_time": "2022-05-18T14:38:45.228Z"
   },
   {
    "duration": 26,
    "start_time": "2022-05-18T14:38:45.242Z"
   },
   {
    "duration": 11,
    "start_time": "2022-05-18T14:38:45.270Z"
   },
   {
    "duration": 28,
    "start_time": "2022-05-18T14:38:45.282Z"
   },
   {
    "duration": 11,
    "start_time": "2022-05-18T14:38:45.311Z"
   },
   {
    "duration": 292,
    "start_time": "2022-05-18T14:38:45.323Z"
   },
   {
    "duration": 13,
    "start_time": "2022-05-18T14:38:45.617Z"
   },
   {
    "duration": 26,
    "start_time": "2022-05-18T14:38:45.632Z"
   },
   {
    "duration": 12,
    "start_time": "2022-05-18T14:38:45.659Z"
   },
   {
    "duration": 27,
    "start_time": "2022-05-18T14:38:45.673Z"
   },
   {
    "duration": 30,
    "start_time": "2022-05-18T14:38:45.701Z"
   },
   {
    "duration": 28,
    "start_time": "2022-05-18T14:38:45.732Z"
   },
   {
    "duration": 34,
    "start_time": "2022-05-18T14:38:45.762Z"
   },
   {
    "duration": 26,
    "start_time": "2022-05-18T14:38:45.797Z"
   },
   {
    "duration": 20,
    "start_time": "2022-05-18T14:38:45.824Z"
   },
   {
    "duration": 11,
    "start_time": "2022-05-18T14:55:00.015Z"
   },
   {
    "duration": 13,
    "start_time": "2022-05-18T14:55:10.281Z"
   },
   {
    "duration": 102,
    "start_time": "2022-05-18T14:58:08.959Z"
   },
   {
    "duration": 92,
    "start_time": "2022-05-18T15:00:45.056Z"
   },
   {
    "duration": 43,
    "start_time": "2022-05-18T15:00:50.366Z"
   },
   {
    "duration": 38,
    "start_time": "2022-05-18T15:01:42.519Z"
   },
   {
    "duration": 38,
    "start_time": "2022-05-18T15:02:51.082Z"
   },
   {
    "duration": 2,
    "start_time": "2022-05-18T15:03:17.759Z"
   },
   {
    "duration": 71,
    "start_time": "2022-05-18T15:03:17.781Z"
   },
   {
    "duration": 17,
    "start_time": "2022-05-18T15:03:17.854Z"
   },
   {
    "duration": 38,
    "start_time": "2022-05-18T15:03:17.873Z"
   },
   {
    "duration": 68,
    "start_time": "2022-05-18T15:03:17.913Z"
   },
   {
    "duration": 7,
    "start_time": "2022-05-18T15:03:17.984Z"
   },
   {
    "duration": 45,
    "start_time": "2022-05-18T15:03:17.993Z"
   },
   {
    "duration": 37,
    "start_time": "2022-05-18T15:03:18.040Z"
   },
   {
    "duration": 27,
    "start_time": "2022-05-18T15:03:18.079Z"
   },
   {
    "duration": 152,
    "start_time": "2022-05-18T15:03:18.107Z"
   },
   {
    "duration": 16,
    "start_time": "2022-05-18T15:03:18.261Z"
   },
   {
    "duration": 19,
    "start_time": "2022-05-18T15:03:18.278Z"
   },
   {
    "duration": 351,
    "start_time": "2022-05-18T15:03:18.299Z"
   },
   {
    "duration": 18,
    "start_time": "2022-05-18T15:03:18.651Z"
   },
   {
    "duration": 244,
    "start_time": "2022-05-18T15:03:18.671Z"
   },
   {
    "duration": 17,
    "start_time": "2022-05-18T15:03:18.917Z"
   },
   {
    "duration": 217,
    "start_time": "2022-05-18T15:03:18.935Z"
   },
   {
    "duration": 16,
    "start_time": "2022-05-18T15:03:19.154Z"
   },
   {
    "duration": 11,
    "start_time": "2022-05-18T15:03:19.171Z"
   },
   {
    "duration": 29,
    "start_time": "2022-05-18T15:03:19.184Z"
   },
   {
    "duration": 13,
    "start_time": "2022-05-18T15:03:19.215Z"
   },
   {
    "duration": 31,
    "start_time": "2022-05-18T15:03:19.230Z"
   },
   {
    "duration": 282,
    "start_time": "2022-05-18T15:03:19.262Z"
   },
   {
    "duration": 16,
    "start_time": "2022-05-18T15:03:19.546Z"
   },
   {
    "duration": 12,
    "start_time": "2022-05-18T15:03:19.564Z"
   },
   {
    "duration": 22,
    "start_time": "2022-05-18T15:03:19.577Z"
   },
   {
    "duration": 21,
    "start_time": "2022-05-18T15:03:19.600Z"
   },
   {
    "duration": 20,
    "start_time": "2022-05-18T15:03:19.622Z"
   },
   {
    "duration": 43,
    "start_time": "2022-05-18T15:03:19.644Z"
   },
   {
    "duration": 27,
    "start_time": "2022-05-18T15:03:19.689Z"
   },
   {
    "duration": 21,
    "start_time": "2022-05-18T15:03:19.717Z"
   },
   {
    "duration": 38,
    "start_time": "2022-05-18T15:03:19.740Z"
   },
   {
    "duration": 56,
    "start_time": "2022-05-18T15:03:19.780Z"
   },
   {
    "duration": 38,
    "start_time": "2022-05-18T15:03:19.837Z"
   },
   {
    "duration": 47,
    "start_time": "2022-05-18T15:03:38.507Z"
   },
   {
    "duration": 5,
    "start_time": "2022-05-18T15:04:17.776Z"
   },
   {
    "duration": 3,
    "start_time": "2022-05-18T15:12:58.281Z"
   },
   {
    "duration": 683,
    "start_time": "2022-05-18T15:13:09.605Z"
   },
   {
    "duration": 8,
    "start_time": "2022-05-18T15:14:06.662Z"
   },
   {
    "duration": 3,
    "start_time": "2022-05-18T15:14:17.082Z"
   },
   {
    "duration": 61,
    "start_time": "2022-05-18T15:14:17.095Z"
   },
   {
    "duration": 14,
    "start_time": "2022-05-18T15:14:17.158Z"
   },
   {
    "duration": 24,
    "start_time": "2022-05-18T15:14:17.174Z"
   },
   {
    "duration": 27,
    "start_time": "2022-05-18T15:14:17.200Z"
   },
   {
    "duration": 15,
    "start_time": "2022-05-18T15:14:17.229Z"
   },
   {
    "duration": 29,
    "start_time": "2022-05-18T15:14:17.245Z"
   },
   {
    "duration": 17,
    "start_time": "2022-05-18T15:14:17.276Z"
   },
   {
    "duration": 18,
    "start_time": "2022-05-18T15:14:17.295Z"
   },
   {
    "duration": 153,
    "start_time": "2022-05-18T15:14:17.315Z"
   },
   {
    "duration": 14,
    "start_time": "2022-05-18T15:14:17.470Z"
   },
   {
    "duration": 9,
    "start_time": "2022-05-18T15:14:17.485Z"
   },
   {
    "duration": 267,
    "start_time": "2022-05-18T15:14:17.495Z"
   },
   {
    "duration": 22,
    "start_time": "2022-05-18T15:14:17.764Z"
   },
   {
    "duration": 251,
    "start_time": "2022-05-18T15:14:17.792Z"
   },
   {
    "duration": 21,
    "start_time": "2022-05-18T15:14:18.045Z"
   },
   {
    "duration": 229,
    "start_time": "2022-05-18T15:14:18.067Z"
   },
   {
    "duration": 15,
    "start_time": "2022-05-18T15:14:18.298Z"
   },
   {
    "duration": 35,
    "start_time": "2022-05-18T15:14:18.315Z"
   },
   {
    "duration": 32,
    "start_time": "2022-05-18T15:14:18.351Z"
   },
   {
    "duration": 22,
    "start_time": "2022-05-18T15:14:18.385Z"
   },
   {
    "duration": 45,
    "start_time": "2022-05-18T15:14:18.409Z"
   },
   {
    "duration": 306,
    "start_time": "2022-05-18T15:14:18.456Z"
   },
   {
    "duration": 16,
    "start_time": "2022-05-18T15:14:18.763Z"
   },
   {
    "duration": 13,
    "start_time": "2022-05-18T15:14:18.780Z"
   },
   {
    "duration": 12,
    "start_time": "2022-05-18T15:14:18.795Z"
   },
   {
    "duration": 13,
    "start_time": "2022-05-18T15:14:18.809Z"
   },
   {
    "duration": 44,
    "start_time": "2022-05-18T15:14:18.823Z"
   },
   {
    "duration": 14,
    "start_time": "2022-05-18T15:14:18.869Z"
   },
   {
    "duration": 13,
    "start_time": "2022-05-18T15:14:18.884Z"
   },
   {
    "duration": 15,
    "start_time": "2022-05-18T15:14:18.898Z"
   },
   {
    "duration": 12,
    "start_time": "2022-05-18T15:14:18.915Z"
   },
   {
    "duration": 42,
    "start_time": "2022-05-18T15:14:18.929Z"
   },
   {
    "duration": 8,
    "start_time": "2022-05-18T15:14:18.972Z"
   },
   {
    "duration": 16,
    "start_time": "2022-05-18T15:14:41.280Z"
   },
   {
    "duration": 13,
    "start_time": "2022-05-18T15:15:26.002Z"
   },
   {
    "duration": 8,
    "start_time": "2022-05-18T15:17:00.224Z"
   },
   {
    "duration": 7,
    "start_time": "2022-05-18T15:17:02.758Z"
   },
   {
    "duration": 11,
    "start_time": "2022-05-18T15:17:29.154Z"
   },
   {
    "duration": 14,
    "start_time": "2022-05-18T15:17:58.892Z"
   },
   {
    "duration": 45,
    "start_time": "2022-05-18T15:21:15.988Z"
   },
   {
    "duration": 9,
    "start_time": "2022-05-18T15:21:33.161Z"
   },
   {
    "duration": 14,
    "start_time": "2022-05-18T15:22:05.180Z"
   },
   {
    "duration": 2,
    "start_time": "2022-05-18T15:22:17.584Z"
   },
   {
    "duration": 57,
    "start_time": "2022-05-18T15:22:17.602Z"
   },
   {
    "duration": 12,
    "start_time": "2022-05-18T15:22:17.661Z"
   },
   {
    "duration": 23,
    "start_time": "2022-05-18T15:22:17.674Z"
   },
   {
    "duration": 28,
    "start_time": "2022-05-18T15:22:17.698Z"
   },
   {
    "duration": 7,
    "start_time": "2022-05-18T15:22:17.727Z"
   },
   {
    "duration": 27,
    "start_time": "2022-05-18T15:22:17.735Z"
   },
   {
    "duration": 15,
    "start_time": "2022-05-18T15:22:17.763Z"
   },
   {
    "duration": 32,
    "start_time": "2022-05-18T15:22:17.779Z"
   },
   {
    "duration": 187,
    "start_time": "2022-05-18T15:22:17.813Z"
   },
   {
    "duration": 19,
    "start_time": "2022-05-18T15:22:18.002Z"
   },
   {
    "duration": 7,
    "start_time": "2022-05-18T15:22:18.022Z"
   },
   {
    "duration": 262,
    "start_time": "2022-05-18T15:22:18.031Z"
   },
   {
    "duration": 14,
    "start_time": "2022-05-18T15:22:18.295Z"
   },
   {
    "duration": 217,
    "start_time": "2022-05-18T15:22:18.312Z"
   },
   {
    "duration": 14,
    "start_time": "2022-05-18T15:22:18.531Z"
   },
   {
    "duration": 228,
    "start_time": "2022-05-18T15:22:18.559Z"
   },
   {
    "duration": 13,
    "start_time": "2022-05-18T15:22:18.789Z"
   },
   {
    "duration": 12,
    "start_time": "2022-05-18T15:22:18.804Z"
   },
   {
    "duration": 12,
    "start_time": "2022-05-18T15:22:18.818Z"
   },
   {
    "duration": 36,
    "start_time": "2022-05-18T15:22:18.832Z"
   },
   {
    "duration": 13,
    "start_time": "2022-05-18T15:22:18.870Z"
   },
   {
    "duration": 291,
    "start_time": "2022-05-18T15:22:18.884Z"
   },
   {
    "duration": 15,
    "start_time": "2022-05-18T15:22:19.176Z"
   },
   {
    "duration": 23,
    "start_time": "2022-05-18T15:22:19.193Z"
   },
   {
    "duration": 21,
    "start_time": "2022-05-18T15:22:19.217Z"
   },
   {
    "duration": 36,
    "start_time": "2022-05-18T15:22:19.240Z"
   },
   {
    "duration": 36,
    "start_time": "2022-05-18T15:22:19.277Z"
   },
   {
    "duration": 33,
    "start_time": "2022-05-18T15:22:19.314Z"
   },
   {
    "duration": 137,
    "start_time": "2022-05-18T15:22:19.348Z"
   },
   {
    "duration": 11,
    "start_time": "2022-05-18T15:22:19.487Z"
   },
   {
    "duration": 17,
    "start_time": "2022-05-18T15:22:19.500Z"
   },
   {
    "duration": 24,
    "start_time": "2022-05-18T15:22:19.518Z"
   },
   {
    "duration": 27,
    "start_time": "2022-05-18T15:22:19.543Z"
   },
   {
    "duration": 0,
    "start_time": "2022-05-18T15:22:19.572Z"
   },
   {
    "duration": 0,
    "start_time": "2022-05-18T15:22:19.573Z"
   },
   {
    "duration": 12,
    "start_time": "2022-05-18T15:22:48.654Z"
   },
   {
    "duration": 10,
    "start_time": "2022-05-18T15:24:19.699Z"
   },
   {
    "duration": 13,
    "start_time": "2022-05-18T15:24:30.058Z"
   },
   {
    "duration": 30,
    "start_time": "2022-05-18T15:24:37.445Z"
   },
   {
    "duration": 10,
    "start_time": "2022-05-18T15:25:07.151Z"
   },
   {
    "duration": 3,
    "start_time": "2022-05-18T15:31:52.560Z"
   },
   {
    "duration": 4,
    "start_time": "2022-05-18T15:32:04.356Z"
   },
   {
    "duration": 10,
    "start_time": "2022-05-18T15:35:31.518Z"
   },
   {
    "duration": 9,
    "start_time": "2022-05-18T15:37:03.746Z"
   },
   {
    "duration": 9,
    "start_time": "2022-05-18T15:37:41.941Z"
   },
   {
    "duration": 12,
    "start_time": "2022-05-18T15:38:35.704Z"
   },
   {
    "duration": 8,
    "start_time": "2022-05-18T15:40:06.158Z"
   },
   {
    "duration": 5,
    "start_time": "2022-05-18T15:41:42.132Z"
   },
   {
    "duration": 4,
    "start_time": "2022-05-18T15:41:50.345Z"
   },
   {
    "duration": 5,
    "start_time": "2022-05-18T15:41:53.270Z"
   },
   {
    "duration": 4,
    "start_time": "2022-05-18T15:41:57.600Z"
   },
   {
    "duration": 3,
    "start_time": "2022-05-18T15:53:58.351Z"
   },
   {
    "duration": 100,
    "start_time": "2022-05-18T15:53:58.364Z"
   },
   {
    "duration": 12,
    "start_time": "2022-05-18T15:53:58.466Z"
   },
   {
    "duration": 43,
    "start_time": "2022-05-18T15:53:58.480Z"
   },
   {
    "duration": 53,
    "start_time": "2022-05-18T15:53:58.525Z"
   },
   {
    "duration": 8,
    "start_time": "2022-05-18T15:53:58.581Z"
   },
   {
    "duration": 35,
    "start_time": "2022-05-18T15:53:58.590Z"
   },
   {
    "duration": 28,
    "start_time": "2022-05-18T15:53:58.627Z"
   },
   {
    "duration": 13,
    "start_time": "2022-05-18T15:53:58.656Z"
   },
   {
    "duration": 147,
    "start_time": "2022-05-18T15:53:58.670Z"
   },
   {
    "duration": 13,
    "start_time": "2022-05-18T15:53:58.819Z"
   },
   {
    "duration": 8,
    "start_time": "2022-05-18T15:53:58.834Z"
   },
   {
    "duration": 238,
    "start_time": "2022-05-18T15:53:58.843Z"
   },
   {
    "duration": 14,
    "start_time": "2022-05-18T15:53:59.083Z"
   },
   {
    "duration": 205,
    "start_time": "2022-05-18T15:53:59.100Z"
   },
   {
    "duration": 12,
    "start_time": "2022-05-18T15:53:59.306Z"
   },
   {
    "duration": 216,
    "start_time": "2022-05-18T15:53:59.320Z"
   },
   {
    "duration": 24,
    "start_time": "2022-05-18T15:53:59.537Z"
   },
   {
    "duration": 12,
    "start_time": "2022-05-18T15:53:59.563Z"
   },
   {
    "duration": 31,
    "start_time": "2022-05-18T15:53:59.576Z"
   },
   {
    "duration": 20,
    "start_time": "2022-05-18T15:53:59.609Z"
   },
   {
    "duration": 30,
    "start_time": "2022-05-18T15:53:59.630Z"
   },
   {
    "duration": 289,
    "start_time": "2022-05-18T15:53:59.661Z"
   },
   {
    "duration": 14,
    "start_time": "2022-05-18T15:53:59.958Z"
   },
   {
    "duration": 21,
    "start_time": "2022-05-18T15:53:59.974Z"
   },
   {
    "duration": 40,
    "start_time": "2022-05-18T15:53:59.997Z"
   },
   {
    "duration": 13,
    "start_time": "2022-05-18T15:54:00.039Z"
   },
   {
    "duration": 13,
    "start_time": "2022-05-18T15:54:00.053Z"
   },
   {
    "duration": 14,
    "start_time": "2022-05-18T15:54:00.067Z"
   },
   {
    "duration": 25,
    "start_time": "2022-05-18T15:54:00.083Z"
   },
   {
    "duration": 11,
    "start_time": "2022-05-18T15:54:00.109Z"
   },
   {
    "duration": 31,
    "start_time": "2022-05-18T15:54:00.121Z"
   },
   {
    "duration": 14,
    "start_time": "2022-05-18T15:54:00.153Z"
   },
   {
    "duration": 23,
    "start_time": "2022-05-18T15:54:00.169Z"
   },
   {
    "duration": 12,
    "start_time": "2022-05-18T15:54:00.194Z"
   },
   {
    "duration": 783,
    "start_time": "2022-05-19T12:53:27.398Z"
   },
   {
    "duration": 63,
    "start_time": "2022-05-19T12:53:28.183Z"
   },
   {
    "duration": 14,
    "start_time": "2022-05-19T12:53:28.247Z"
   },
   {
    "duration": 24,
    "start_time": "2022-05-19T12:53:28.262Z"
   },
   {
    "duration": 20,
    "start_time": "2022-05-19T12:53:28.288Z"
   },
   {
    "duration": 6,
    "start_time": "2022-05-19T12:53:28.309Z"
   },
   {
    "duration": 21,
    "start_time": "2022-05-19T12:53:28.317Z"
   },
   {
    "duration": 16,
    "start_time": "2022-05-19T12:53:28.339Z"
   },
   {
    "duration": 13,
    "start_time": "2022-05-19T12:53:28.356Z"
   },
   {
    "duration": 440,
    "start_time": "2022-05-19T12:53:28.371Z"
   },
   {
    "duration": 15,
    "start_time": "2022-05-19T12:53:28.813Z"
   },
   {
    "duration": 6,
    "start_time": "2022-05-19T12:53:28.829Z"
   },
   {
    "duration": 261,
    "start_time": "2022-05-19T12:53:28.837Z"
   },
   {
    "duration": 15,
    "start_time": "2022-05-19T12:53:29.101Z"
   },
   {
    "duration": 223,
    "start_time": "2022-05-19T12:53:29.118Z"
   },
   {
    "duration": 15,
    "start_time": "2022-05-19T12:53:29.343Z"
   },
   {
    "duration": 307,
    "start_time": "2022-05-19T12:53:29.359Z"
   },
   {
    "duration": 15,
    "start_time": "2022-05-19T12:53:29.670Z"
   },
   {
    "duration": 14,
    "start_time": "2022-05-19T12:53:29.694Z"
   },
   {
    "duration": 15,
    "start_time": "2022-05-19T12:53:29.709Z"
   },
   {
    "duration": 14,
    "start_time": "2022-05-19T12:53:29.725Z"
   },
   {
    "duration": 15,
    "start_time": "2022-05-19T12:53:29.740Z"
   },
   {
    "duration": 353,
    "start_time": "2022-05-19T12:53:29.757Z"
   },
   {
    "duration": 15,
    "start_time": "2022-05-19T12:53:30.112Z"
   },
   {
    "duration": 14,
    "start_time": "2022-05-19T12:53:30.129Z"
   },
   {
    "duration": 15,
    "start_time": "2022-05-19T12:53:30.144Z"
   },
   {
    "duration": 43,
    "start_time": "2022-05-19T12:53:30.160Z"
   },
   {
    "duration": 17,
    "start_time": "2022-05-19T12:53:30.204Z"
   },
   {
    "duration": 21,
    "start_time": "2022-05-19T12:53:30.223Z"
   },
   {
    "duration": 18,
    "start_time": "2022-05-19T12:53:30.245Z"
   },
   {
    "duration": 33,
    "start_time": "2022-05-19T12:53:30.265Z"
   },
   {
    "duration": 15,
    "start_time": "2022-05-19T12:53:30.300Z"
   },
   {
    "duration": 14,
    "start_time": "2022-05-19T12:53:30.317Z"
   },
   {
    "duration": 21,
    "start_time": "2022-05-19T12:53:30.333Z"
   },
   {
    "duration": 9,
    "start_time": "2022-05-19T12:53:30.355Z"
   },
   {
    "duration": 98,
    "start_time": "2022-05-20T11:10:38.676Z"
   },
   {
    "duration": 1231,
    "start_time": "2022-05-20T11:10:43.154Z"
   },
   {
    "duration": 192,
    "start_time": "2022-05-20T11:10:44.387Z"
   },
   {
    "duration": 14,
    "start_time": "2022-05-20T11:10:44.581Z"
   },
   {
    "duration": 21,
    "start_time": "2022-05-20T11:10:44.597Z"
   },
   {
    "duration": 18,
    "start_time": "2022-05-20T11:10:44.620Z"
   },
   {
    "duration": 8,
    "start_time": "2022-05-20T11:10:44.639Z"
   },
   {
    "duration": 42,
    "start_time": "2022-05-20T11:10:44.648Z"
   },
   {
    "duration": 18,
    "start_time": "2022-05-20T11:10:44.692Z"
   },
   {
    "duration": 14,
    "start_time": "2022-05-20T11:10:44.711Z"
   },
   {
    "duration": 598,
    "start_time": "2022-05-20T11:10:44.728Z"
   },
   {
    "duration": 18,
    "start_time": "2022-05-20T11:10:45.328Z"
   },
   {
    "duration": 6,
    "start_time": "2022-05-20T11:10:45.348Z"
   },
   {
    "duration": 277,
    "start_time": "2022-05-20T11:10:45.355Z"
   },
   {
    "duration": 15,
    "start_time": "2022-05-20T11:10:45.633Z"
   },
   {
    "duration": 298,
    "start_time": "2022-05-20T11:10:45.650Z"
   },
   {
    "duration": 14,
    "start_time": "2022-05-20T11:10:45.950Z"
   },
   {
    "duration": 246,
    "start_time": "2022-05-20T11:10:45.966Z"
   },
   {
    "duration": 16,
    "start_time": "2022-05-20T11:10:46.214Z"
   },
   {
    "duration": 15,
    "start_time": "2022-05-20T11:10:46.231Z"
   },
   {
    "duration": 40,
    "start_time": "2022-05-20T11:10:46.248Z"
   },
   {
    "duration": 15,
    "start_time": "2022-05-20T11:10:46.290Z"
   },
   {
    "duration": 13,
    "start_time": "2022-05-20T11:10:46.306Z"
   },
   {
    "duration": 334,
    "start_time": "2022-05-20T11:10:46.320Z"
   },
   {
    "duration": 17,
    "start_time": "2022-05-20T11:10:46.655Z"
   },
   {
    "duration": 24,
    "start_time": "2022-05-20T11:10:46.674Z"
   },
   {
    "duration": 23,
    "start_time": "2022-05-20T11:10:46.700Z"
   },
   {
    "duration": 15,
    "start_time": "2022-05-20T11:10:46.724Z"
   },
   {
    "duration": 42,
    "start_time": "2022-05-20T11:10:46.742Z"
   },
   {
    "duration": 20,
    "start_time": "2022-05-20T11:10:46.786Z"
   },
   {
    "duration": 25,
    "start_time": "2022-05-20T11:10:46.807Z"
   },
   {
    "duration": 31,
    "start_time": "2022-05-20T11:10:46.833Z"
   },
   {
    "duration": 29,
    "start_time": "2022-05-20T11:10:46.866Z"
   },
   {
    "duration": 36,
    "start_time": "2022-05-20T11:10:46.897Z"
   },
   {
    "duration": 17,
    "start_time": "2022-05-20T11:10:46.934Z"
   },
   {
    "duration": 31,
    "start_time": "2022-05-20T11:10:46.953Z"
   },
   {
    "duration": 22,
    "start_time": "2022-05-20T11:15:56.917Z"
   },
   {
    "duration": 325,
    "start_time": "2022-05-20T11:21:26.565Z"
   },
   {
    "duration": 3,
    "start_time": "2022-05-20T11:21:35.849Z"
   },
   {
    "duration": 62,
    "start_time": "2022-05-20T11:21:35.881Z"
   },
   {
    "duration": 14,
    "start_time": "2022-05-20T11:21:35.945Z"
   },
   {
    "duration": 15,
    "start_time": "2022-05-20T11:21:35.960Z"
   },
   {
    "duration": 21,
    "start_time": "2022-05-20T11:21:35.983Z"
   },
   {
    "duration": 8,
    "start_time": "2022-05-20T11:21:36.006Z"
   },
   {
    "duration": 25,
    "start_time": "2022-05-20T11:21:36.015Z"
   },
   {
    "duration": 18,
    "start_time": "2022-05-20T11:21:36.041Z"
   },
   {
    "duration": 37,
    "start_time": "2022-05-20T11:21:36.061Z"
   },
   {
    "duration": 166,
    "start_time": "2022-05-20T11:21:36.100Z"
   },
   {
    "duration": 25,
    "start_time": "2022-05-20T11:21:36.267Z"
   },
   {
    "duration": 6,
    "start_time": "2022-05-20T11:21:36.293Z"
   },
   {
    "duration": 275,
    "start_time": "2022-05-20T11:21:36.300Z"
   },
   {
    "duration": 0,
    "start_time": "2022-05-20T11:21:36.584Z"
   },
   {
    "duration": 0,
    "start_time": "2022-05-20T11:21:36.585Z"
   },
   {
    "duration": 0,
    "start_time": "2022-05-20T11:21:36.587Z"
   },
   {
    "duration": 0,
    "start_time": "2022-05-20T11:21:36.588Z"
   },
   {
    "duration": 0,
    "start_time": "2022-05-20T11:21:36.590Z"
   },
   {
    "duration": 0,
    "start_time": "2022-05-20T11:21:36.592Z"
   },
   {
    "duration": 0,
    "start_time": "2022-05-20T11:21:36.593Z"
   },
   {
    "duration": 0,
    "start_time": "2022-05-20T11:21:36.595Z"
   },
   {
    "duration": 0,
    "start_time": "2022-05-20T11:21:36.596Z"
   },
   {
    "duration": 0,
    "start_time": "2022-05-20T11:21:36.598Z"
   },
   {
    "duration": 0,
    "start_time": "2022-05-20T11:21:36.599Z"
   },
   {
    "duration": 0,
    "start_time": "2022-05-20T11:21:36.601Z"
   },
   {
    "duration": 0,
    "start_time": "2022-05-20T11:21:36.602Z"
   },
   {
    "duration": 0,
    "start_time": "2022-05-20T11:21:36.603Z"
   },
   {
    "duration": 0,
    "start_time": "2022-05-20T11:21:36.605Z"
   },
   {
    "duration": 0,
    "start_time": "2022-05-20T11:21:36.606Z"
   },
   {
    "duration": 0,
    "start_time": "2022-05-20T11:21:36.608Z"
   },
   {
    "duration": 0,
    "start_time": "2022-05-20T11:21:36.609Z"
   },
   {
    "duration": 0,
    "start_time": "2022-05-20T11:21:36.611Z"
   },
   {
    "duration": 0,
    "start_time": "2022-05-20T11:21:36.613Z"
   },
   {
    "duration": 0,
    "start_time": "2022-05-20T11:21:36.614Z"
   },
   {
    "duration": 0,
    "start_time": "2022-05-20T11:21:36.616Z"
   },
   {
    "duration": 254,
    "start_time": "2022-05-20T11:22:40.269Z"
   },
   {
    "duration": 256,
    "start_time": "2022-05-20T11:22:55.352Z"
   },
   {
    "duration": 19,
    "start_time": "2022-05-20T11:39:32.796Z"
   },
   {
    "duration": 3,
    "start_time": "2022-05-20T11:39:43.146Z"
   },
   {
    "duration": 65,
    "start_time": "2022-05-20T11:39:43.166Z"
   },
   {
    "duration": 13,
    "start_time": "2022-05-20T11:39:43.233Z"
   },
   {
    "duration": 14,
    "start_time": "2022-05-20T11:39:43.248Z"
   },
   {
    "duration": 34,
    "start_time": "2022-05-20T11:39:43.264Z"
   },
   {
    "duration": 7,
    "start_time": "2022-05-20T11:39:43.300Z"
   },
   {
    "duration": 19,
    "start_time": "2022-05-20T11:39:43.308Z"
   },
   {
    "duration": 16,
    "start_time": "2022-05-20T11:39:43.329Z"
   },
   {
    "duration": 46,
    "start_time": "2022-05-20T11:39:43.347Z"
   },
   {
    "duration": 162,
    "start_time": "2022-05-20T11:39:43.395Z"
   },
   {
    "duration": 27,
    "start_time": "2022-05-20T11:39:43.558Z"
   },
   {
    "duration": 7,
    "start_time": "2022-05-20T11:39:43.586Z"
   },
   {
    "duration": 259,
    "start_time": "2022-05-20T11:39:43.594Z"
   },
   {
    "duration": 17,
    "start_time": "2022-05-20T11:39:43.854Z"
   },
   {
    "duration": 183,
    "start_time": "2022-05-20T11:39:43.883Z"
   },
   {
    "duration": 22,
    "start_time": "2022-05-20T11:39:44.068Z"
   },
   {
    "duration": 400,
    "start_time": "2022-05-20T11:39:44.091Z"
   },
   {
    "duration": 15,
    "start_time": "2022-05-20T11:39:44.493Z"
   },
   {
    "duration": 25,
    "start_time": "2022-05-20T11:39:44.509Z"
   },
   {
    "duration": 15,
    "start_time": "2022-05-20T11:39:44.536Z"
   },
   {
    "duration": 38,
    "start_time": "2022-05-20T11:39:44.553Z"
   },
   {
    "duration": 16,
    "start_time": "2022-05-20T11:39:44.593Z"
   },
   {
    "duration": 345,
    "start_time": "2022-05-20T11:39:44.611Z"
   },
   {
    "duration": 29,
    "start_time": "2022-05-20T11:39:44.958Z"
   },
   {
    "duration": 16,
    "start_time": "2022-05-20T11:39:44.989Z"
   },
   {
    "duration": 35,
    "start_time": "2022-05-20T11:39:45.007Z"
   },
   {
    "duration": 24,
    "start_time": "2022-05-20T11:39:45.044Z"
   },
   {
    "duration": 22,
    "start_time": "2022-05-20T11:39:45.070Z"
   },
   {
    "duration": 15,
    "start_time": "2022-05-20T11:39:45.093Z"
   },
   {
    "duration": 12,
    "start_time": "2022-05-20T11:39:45.109Z"
   },
   {
    "duration": 13,
    "start_time": "2022-05-20T11:39:45.123Z"
   },
   {
    "duration": 11,
    "start_time": "2022-05-20T11:39:45.138Z"
   },
   {
    "duration": 43,
    "start_time": "2022-05-20T11:39:45.151Z"
   },
   {
    "duration": 13,
    "start_time": "2022-05-20T11:39:45.196Z"
   },
   {
    "duration": 8,
    "start_time": "2022-05-20T11:39:45.211Z"
   },
   {
    "duration": 787,
    "start_time": "2022-05-20T12:00:26.612Z"
   },
   {
    "duration": 181,
    "start_time": "2022-05-20T12:00:47.744Z"
   },
   {
    "duration": 4889,
    "start_time": "2022-05-20T12:02:59.335Z"
   },
   {
    "duration": 3366,
    "start_time": "2022-05-20T12:04:45.442Z"
   },
   {
    "duration": 1986,
    "start_time": "2022-05-20T12:06:25.208Z"
   },
   {
    "duration": 34,
    "start_time": "2022-05-20T12:06:56.168Z"
   },
   {
    "duration": 3,
    "start_time": "2022-05-20T12:07:59.109Z"
   },
   {
    "duration": 64,
    "start_time": "2022-05-20T12:07:59.114Z"
   },
   {
    "duration": 14,
    "start_time": "2022-05-20T12:07:59.180Z"
   },
   {
    "duration": 14,
    "start_time": "2022-05-20T12:07:59.197Z"
   },
   {
    "duration": 15,
    "start_time": "2022-05-20T12:07:59.213Z"
   },
   {
    "duration": 7,
    "start_time": "2022-05-20T12:07:59.230Z"
   },
   {
    "duration": 57,
    "start_time": "2022-05-20T12:07:59.239Z"
   },
   {
    "duration": 16,
    "start_time": "2022-05-20T12:07:59.297Z"
   },
   {
    "duration": 13,
    "start_time": "2022-05-20T12:07:59.315Z"
   },
   {
    "duration": 167,
    "start_time": "2022-05-20T12:07:59.331Z"
   },
   {
    "duration": 15,
    "start_time": "2022-05-20T12:07:59.500Z"
   },
   {
    "duration": 6,
    "start_time": "2022-05-20T12:07:59.517Z"
   },
   {
    "duration": 268,
    "start_time": "2022-05-20T12:07:59.525Z"
   },
   {
    "duration": 15,
    "start_time": "2022-05-20T12:07:59.795Z"
   },
   {
    "duration": 5101,
    "start_time": "2022-05-20T12:07:59.811Z"
   },
   {
    "duration": 50,
    "start_time": "2022-05-20T12:08:04.914Z"
   },
   {
    "duration": 0,
    "start_time": "2022-05-20T12:08:04.966Z"
   },
   {
    "duration": 0,
    "start_time": "2022-05-20T12:08:04.967Z"
   },
   {
    "duration": 0,
    "start_time": "2022-05-20T12:08:04.969Z"
   },
   {
    "duration": 0,
    "start_time": "2022-05-20T12:08:04.970Z"
   },
   {
    "duration": 0,
    "start_time": "2022-05-20T12:08:04.971Z"
   },
   {
    "duration": 0,
    "start_time": "2022-05-20T12:08:04.972Z"
   },
   {
    "duration": 0,
    "start_time": "2022-05-20T12:08:04.973Z"
   },
   {
    "duration": 0,
    "start_time": "2022-05-20T12:08:04.974Z"
   },
   {
    "duration": 0,
    "start_time": "2022-05-20T12:08:04.975Z"
   },
   {
    "duration": 0,
    "start_time": "2022-05-20T12:08:04.976Z"
   },
   {
    "duration": 0,
    "start_time": "2022-05-20T12:08:04.977Z"
   },
   {
    "duration": 0,
    "start_time": "2022-05-20T12:08:04.978Z"
   },
   {
    "duration": 0,
    "start_time": "2022-05-20T12:08:04.979Z"
   },
   {
    "duration": 0,
    "start_time": "2022-05-20T12:08:04.980Z"
   },
   {
    "duration": 0,
    "start_time": "2022-05-20T12:08:04.981Z"
   },
   {
    "duration": 0,
    "start_time": "2022-05-20T12:08:04.982Z"
   },
   {
    "duration": 0,
    "start_time": "2022-05-20T12:08:04.983Z"
   },
   {
    "duration": 0,
    "start_time": "2022-05-20T12:08:04.984Z"
   },
   {
    "duration": 0,
    "start_time": "2022-05-20T12:08:04.985Z"
   },
   {
    "duration": 0,
    "start_time": "2022-05-20T12:08:04.986Z"
   },
   {
    "duration": 0,
    "start_time": "2022-05-20T12:08:04.987Z"
   },
   {
    "duration": 2715,
    "start_time": "2022-05-20T12:09:02.212Z"
   },
   {
    "duration": 2699,
    "start_time": "2022-05-20T12:09:53.319Z"
   },
   {
    "duration": 5136,
    "start_time": "2022-05-20T12:18:15.259Z"
   },
   {
    "duration": 2782,
    "start_time": "2022-05-20T12:18:35.118Z"
   },
   {
    "duration": 9,
    "start_time": "2022-05-20T12:18:47.627Z"
   },
   {
    "duration": 2637,
    "start_time": "2022-05-20T12:18:59.836Z"
   },
   {
    "duration": 2608,
    "start_time": "2022-05-20T12:19:58.426Z"
   },
   {
    "duration": 3,
    "start_time": "2022-05-20T12:20:07.919Z"
   },
   {
    "duration": 73,
    "start_time": "2022-05-20T12:20:07.936Z"
   },
   {
    "duration": 17,
    "start_time": "2022-05-20T12:20:08.012Z"
   },
   {
    "duration": 20,
    "start_time": "2022-05-20T12:20:08.032Z"
   },
   {
    "duration": 51,
    "start_time": "2022-05-20T12:20:08.054Z"
   },
   {
    "duration": 8,
    "start_time": "2022-05-20T12:20:08.108Z"
   },
   {
    "duration": 31,
    "start_time": "2022-05-20T12:20:08.118Z"
   },
   {
    "duration": 44,
    "start_time": "2022-05-20T12:20:08.151Z"
   },
   {
    "duration": 16,
    "start_time": "2022-05-20T12:20:08.197Z"
   },
   {
    "duration": 165,
    "start_time": "2022-05-20T12:20:08.214Z"
   },
   {
    "duration": 17,
    "start_time": "2022-05-20T12:20:08.384Z"
   },
   {
    "duration": 5,
    "start_time": "2022-05-20T12:20:08.403Z"
   },
   {
    "duration": 295,
    "start_time": "2022-05-20T12:20:08.410Z"
   },
   {
    "duration": 14,
    "start_time": "2022-05-20T12:20:08.707Z"
   },
   {
    "duration": 5131,
    "start_time": "2022-05-20T12:20:08.724Z"
   },
   {
    "duration": 2837,
    "start_time": "2022-05-20T12:20:13.857Z"
   },
   {
    "duration": 2908,
    "start_time": "2022-05-20T12:20:16.696Z"
   },
   {
    "duration": 2550,
    "start_time": "2022-05-20T12:20:19.606Z"
   },
   {
    "duration": 14,
    "start_time": "2022-05-20T12:20:22.158Z"
   },
   {
    "duration": 279,
    "start_time": "2022-05-20T12:20:22.184Z"
   },
   {
    "duration": 22,
    "start_time": "2022-05-20T12:20:22.465Z"
   },
   {
    "duration": 16,
    "start_time": "2022-05-20T12:20:22.488Z"
   },
   {
    "duration": 14,
    "start_time": "2022-05-20T12:20:22.505Z"
   },
   {
    "duration": 14,
    "start_time": "2022-05-20T12:20:22.520Z"
   },
   {
    "duration": 15,
    "start_time": "2022-05-20T12:20:22.535Z"
   },
   {
    "duration": 354,
    "start_time": "2022-05-20T12:20:22.552Z"
   },
   {
    "duration": 16,
    "start_time": "2022-05-20T12:20:22.908Z"
   },
   {
    "duration": 39,
    "start_time": "2022-05-20T12:20:22.926Z"
   },
   {
    "duration": 25,
    "start_time": "2022-05-20T12:20:22.967Z"
   },
   {
    "duration": 32,
    "start_time": "2022-05-20T12:20:22.993Z"
   },
   {
    "duration": 29,
    "start_time": "2022-05-20T12:20:23.027Z"
   },
   {
    "duration": 36,
    "start_time": "2022-05-20T12:20:23.058Z"
   },
   {
    "duration": 37,
    "start_time": "2022-05-20T12:20:23.095Z"
   },
   {
    "duration": 13,
    "start_time": "2022-05-20T12:20:23.134Z"
   },
   {
    "duration": 31,
    "start_time": "2022-05-20T12:20:23.148Z"
   },
   {
    "duration": 24,
    "start_time": "2022-05-20T12:20:23.181Z"
   },
   {
    "duration": 28,
    "start_time": "2022-05-20T12:20:23.207Z"
   },
   {
    "duration": 11,
    "start_time": "2022-05-20T12:20:23.237Z"
   },
   {
    "duration": 3,
    "start_time": "2022-05-20T12:21:20.755Z"
   },
   {
    "duration": 2,
    "start_time": "2022-05-20T12:21:23.907Z"
   },
   {
    "duration": 61,
    "start_time": "2022-05-20T12:21:23.945Z"
   },
   {
    "duration": 14,
    "start_time": "2022-05-20T12:21:24.008Z"
   },
   {
    "duration": 15,
    "start_time": "2022-05-20T12:21:24.024Z"
   },
   {
    "duration": 51,
    "start_time": "2022-05-20T12:21:24.041Z"
   },
   {
    "duration": 9,
    "start_time": "2022-05-20T12:21:24.095Z"
   },
   {
    "duration": 19,
    "start_time": "2022-05-20T12:21:24.106Z"
   },
   {
    "duration": 20,
    "start_time": "2022-05-20T12:21:24.126Z"
   },
   {
    "duration": 49,
    "start_time": "2022-05-20T12:21:24.148Z"
   },
   {
    "duration": 187,
    "start_time": "2022-05-20T12:21:24.199Z"
   },
   {
    "duration": 17,
    "start_time": "2022-05-20T12:21:24.388Z"
   },
   {
    "duration": 8,
    "start_time": "2022-05-20T12:21:24.407Z"
   },
   {
    "duration": 287,
    "start_time": "2022-05-20T12:21:24.417Z"
   },
   {
    "duration": 29,
    "start_time": "2022-05-20T12:21:24.706Z"
   },
   {
    "duration": 5511,
    "start_time": "2022-05-20T12:21:24.739Z"
   },
   {
    "duration": 2769,
    "start_time": "2022-05-20T12:21:30.252Z"
   },
   {
    "duration": 2639,
    "start_time": "2022-05-20T12:21:33.022Z"
   },
   {
    "duration": 2762,
    "start_time": "2022-05-20T12:21:35.663Z"
   },
   {
    "duration": 14,
    "start_time": "2022-05-20T12:21:38.427Z"
   },
   {
    "duration": 276,
    "start_time": "2022-05-20T12:21:38.442Z"
   },
   {
    "duration": 14,
    "start_time": "2022-05-20T12:21:38.719Z"
   },
   {
    "duration": 19,
    "start_time": "2022-05-20T12:21:38.735Z"
   },
   {
    "duration": 29,
    "start_time": "2022-05-20T12:21:38.755Z"
   },
   {
    "duration": 14,
    "start_time": "2022-05-20T12:21:38.786Z"
   },
   {
    "duration": 12,
    "start_time": "2022-05-20T12:21:38.801Z"
   },
   {
    "duration": 352,
    "start_time": "2022-05-20T12:21:38.815Z"
   },
   {
    "duration": 26,
    "start_time": "2022-05-20T12:21:39.168Z"
   },
   {
    "duration": 18,
    "start_time": "2022-05-20T12:21:39.195Z"
   },
   {
    "duration": 16,
    "start_time": "2022-05-20T12:21:39.214Z"
   },
   {
    "duration": 15,
    "start_time": "2022-05-20T12:21:39.232Z"
   },
   {
    "duration": 40,
    "start_time": "2022-05-20T12:21:39.249Z"
   },
   {
    "duration": 16,
    "start_time": "2022-05-20T12:21:39.291Z"
   },
   {
    "duration": 14,
    "start_time": "2022-05-20T12:21:39.309Z"
   },
   {
    "duration": 20,
    "start_time": "2022-05-20T12:21:39.324Z"
   },
   {
    "duration": 37,
    "start_time": "2022-05-20T12:21:39.346Z"
   },
   {
    "duration": 20,
    "start_time": "2022-05-20T12:21:39.386Z"
   },
   {
    "duration": 10,
    "start_time": "2022-05-20T12:21:39.408Z"
   },
   {
    "duration": 6,
    "start_time": "2022-05-20T12:21:39.419Z"
   },
   {
    "duration": 286,
    "start_time": "2022-05-20T12:22:46.985Z"
   },
   {
    "duration": 1089,
    "start_time": "2022-05-20T12:23:08.683Z"
   },
   {
    "duration": 148,
    "start_time": "2022-05-20T12:27:31.378Z"
   },
   {
    "duration": 135,
    "start_time": "2022-05-20T12:28:20.958Z"
   },
   {
    "duration": 107,
    "start_time": "2022-05-20T12:34:42.960Z"
   },
   {
    "duration": 111,
    "start_time": "2022-05-20T12:35:21.641Z"
   },
   {
    "duration": 122,
    "start_time": "2022-05-20T12:35:54.879Z"
   },
   {
    "duration": 117,
    "start_time": "2022-05-20T12:36:31.520Z"
   },
   {
    "duration": 137,
    "start_time": "2022-05-20T12:36:42.084Z"
   },
   {
    "duration": 101,
    "start_time": "2022-05-20T12:38:58.190Z"
   },
   {
    "duration": 14,
    "start_time": "2022-05-20T12:42:42.780Z"
   },
   {
    "duration": 267,
    "start_time": "2022-05-20T12:43:52.986Z"
   },
   {
    "duration": 17,
    "start_time": "2022-05-20T12:44:09.696Z"
   },
   {
    "duration": 15,
    "start_time": "2022-05-20T12:45:23.215Z"
   },
   {
    "duration": 15,
    "start_time": "2022-05-20T12:46:47.592Z"
   },
   {
    "duration": 16,
    "start_time": "2022-05-20T12:47:36.310Z"
   },
   {
    "duration": 62,
    "start_time": "2022-05-20T12:51:45.284Z"
   },
   {
    "duration": 51,
    "start_time": "2022-05-20T12:54:54.995Z"
   },
   {
    "duration": 3,
    "start_time": "2022-05-20T12:55:41.644Z"
   },
   {
    "duration": 69,
    "start_time": "2022-05-20T12:55:41.662Z"
   },
   {
    "duration": 14,
    "start_time": "2022-05-20T12:55:41.733Z"
   },
   {
    "duration": 14,
    "start_time": "2022-05-20T12:55:41.748Z"
   },
   {
    "duration": 36,
    "start_time": "2022-05-20T12:55:41.764Z"
   },
   {
    "duration": 11,
    "start_time": "2022-05-20T12:55:41.802Z"
   },
   {
    "duration": 21,
    "start_time": "2022-05-20T12:55:41.814Z"
   },
   {
    "duration": 16,
    "start_time": "2022-05-20T12:55:41.836Z"
   },
   {
    "duration": 45,
    "start_time": "2022-05-20T12:55:41.853Z"
   },
   {
    "duration": 149,
    "start_time": "2022-05-20T12:55:41.900Z"
   },
   {
    "duration": 17,
    "start_time": "2022-05-20T12:55:42.050Z"
   },
   {
    "duration": 29,
    "start_time": "2022-05-20T12:55:42.068Z"
   },
   {
    "duration": 249,
    "start_time": "2022-05-20T12:55:42.099Z"
   },
   {
    "duration": 15,
    "start_time": "2022-05-20T12:55:42.350Z"
   },
   {
    "duration": 131,
    "start_time": "2022-05-20T12:55:42.368Z"
   },
   {
    "duration": 17,
    "start_time": "2022-05-20T12:55:42.501Z"
   },
   {
    "duration": 296,
    "start_time": "2022-05-20T12:55:42.519Z"
   },
   {
    "duration": 14,
    "start_time": "2022-05-20T12:55:42.817Z"
   },
   {
    "duration": 32,
    "start_time": "2022-05-20T12:55:42.833Z"
   },
   {
    "duration": 32,
    "start_time": "2022-05-20T12:55:42.866Z"
   },
   {
    "duration": 13,
    "start_time": "2022-05-20T12:55:42.899Z"
   },
   {
    "duration": 334,
    "start_time": "2022-05-20T12:55:42.913Z"
   },
   {
    "duration": 18,
    "start_time": "2022-05-20T12:55:43.249Z"
   },
   {
    "duration": 32,
    "start_time": "2022-05-20T12:55:43.268Z"
   },
   {
    "duration": 14,
    "start_time": "2022-05-20T12:55:43.302Z"
   },
   {
    "duration": 15,
    "start_time": "2022-05-20T12:55:43.318Z"
   },
   {
    "duration": 17,
    "start_time": "2022-05-20T12:55:43.334Z"
   },
   {
    "duration": 41,
    "start_time": "2022-05-20T12:55:43.353Z"
   },
   {
    "duration": 15,
    "start_time": "2022-05-20T12:55:43.397Z"
   },
   {
    "duration": 22,
    "start_time": "2022-05-20T12:55:43.413Z"
   },
   {
    "duration": 15,
    "start_time": "2022-05-20T12:55:43.437Z"
   },
   {
    "duration": 15,
    "start_time": "2022-05-20T12:55:43.453Z"
   },
   {
    "duration": 9,
    "start_time": "2022-05-20T12:55:43.492Z"
   },
   {
    "duration": 6,
    "start_time": "2022-05-20T12:55:43.503Z"
   },
   {
    "duration": 338,
    "start_time": "2022-05-20T15:18:18.581Z"
   },
   {
    "duration": 9,
    "start_time": "2022-05-20T15:18:32.793Z"
   },
   {
    "duration": 13,
    "start_time": "2022-05-20T15:19:08.620Z"
   },
   {
    "duration": 15,
    "start_time": "2022-05-20T15:19:26.934Z"
   },
   {
    "duration": 12,
    "start_time": "2022-05-20T15:20:45.382Z"
   },
   {
    "duration": 14,
    "start_time": "2022-05-20T15:21:04.374Z"
   },
   {
    "duration": 19,
    "start_time": "2022-05-20T15:21:12.866Z"
   },
   {
    "duration": 20,
    "start_time": "2022-05-20T15:21:18.544Z"
   },
   {
    "duration": 19,
    "start_time": "2022-05-20T15:21:21.413Z"
   },
   {
    "duration": 13,
    "start_time": "2022-05-20T15:21:35.145Z"
   },
   {
    "duration": 57,
    "start_time": "2022-05-21T06:57:51.736Z"
   },
   {
    "duration": 1724,
    "start_time": "2022-05-21T06:57:56.110Z"
   },
   {
    "duration": 120,
    "start_time": "2022-05-21T06:57:57.838Z"
   },
   {
    "duration": 17,
    "start_time": "2022-05-21T06:57:57.960Z"
   },
   {
    "duration": 21,
    "start_time": "2022-05-21T06:57:57.980Z"
   },
   {
    "duration": 36,
    "start_time": "2022-05-21T06:57:58.004Z"
   },
   {
    "duration": 11,
    "start_time": "2022-05-21T06:57:58.042Z"
   },
   {
    "duration": 27,
    "start_time": "2022-05-21T06:57:58.055Z"
   },
   {
    "duration": 18,
    "start_time": "2022-05-21T06:57:58.083Z"
   },
   {
    "duration": 40,
    "start_time": "2022-05-21T06:57:58.102Z"
   },
   {
    "duration": 177,
    "start_time": "2022-05-21T06:57:58.146Z"
   },
   {
    "duration": 27,
    "start_time": "2022-05-21T06:57:58.324Z"
   },
   {
    "duration": 7,
    "start_time": "2022-05-21T06:57:58.352Z"
   },
   {
    "duration": 284,
    "start_time": "2022-05-21T06:57:58.360Z"
   },
   {
    "duration": 16,
    "start_time": "2022-05-21T06:57:58.646Z"
   },
   {
    "duration": 185,
    "start_time": "2022-05-21T06:57:58.663Z"
   },
   {
    "duration": 15,
    "start_time": "2022-05-21T06:57:58.850Z"
   },
   {
    "duration": 292,
    "start_time": "2022-05-21T06:57:58.867Z"
   },
   {
    "duration": 14,
    "start_time": "2022-05-21T06:57:59.161Z"
   },
   {
    "duration": 16,
    "start_time": "2022-05-21T06:57:59.176Z"
   },
   {
    "duration": 42,
    "start_time": "2022-05-21T06:57:59.194Z"
   },
   {
    "duration": 17,
    "start_time": "2022-05-21T06:57:59.238Z"
   },
   {
    "duration": 16,
    "start_time": "2022-05-21T06:57:59.257Z"
   },
   {
    "duration": 19,
    "start_time": "2022-05-21T06:57:59.274Z"
   },
   {
    "duration": 41,
    "start_time": "2022-05-21T06:57:59.295Z"
   },
   {
    "duration": 14,
    "start_time": "2022-05-21T06:57:59.338Z"
   },
   {
    "duration": 20,
    "start_time": "2022-05-21T06:57:59.354Z"
   },
   {
    "duration": 25,
    "start_time": "2022-05-21T06:57:59.376Z"
   },
   {
    "duration": 33,
    "start_time": "2022-05-21T06:57:59.404Z"
   },
   {
    "duration": 13,
    "start_time": "2022-05-21T06:57:59.439Z"
   },
   {
    "duration": 14,
    "start_time": "2022-05-21T06:57:59.453Z"
   },
   {
    "duration": 16,
    "start_time": "2022-05-21T06:57:59.468Z"
   },
   {
    "duration": 17,
    "start_time": "2022-05-21T06:57:59.486Z"
   },
   {
    "duration": 29,
    "start_time": "2022-05-21T06:57:59.505Z"
   },
   {
    "duration": 22,
    "start_time": "2022-05-21T06:57:59.536Z"
   },
   {
    "duration": 6,
    "start_time": "2022-05-21T06:58:52.175Z"
   },
   {
    "duration": 7,
    "start_time": "2022-05-21T07:02:22.014Z"
   },
   {
    "duration": 7,
    "start_time": "2022-05-21T07:04:32.198Z"
   },
   {
    "duration": 3,
    "start_time": "2022-05-21T07:08:26.777Z"
   },
   {
    "duration": 53,
    "start_time": "2022-05-21T07:08:26.793Z"
   },
   {
    "duration": 13,
    "start_time": "2022-05-21T07:08:26.848Z"
   },
   {
    "duration": 714,
    "start_time": "2022-05-21T07:08:26.863Z"
   },
   {
    "duration": 0,
    "start_time": "2022-05-21T07:08:27.579Z"
   },
   {
    "duration": 0,
    "start_time": "2022-05-21T07:08:27.581Z"
   },
   {
    "duration": 0,
    "start_time": "2022-05-21T07:08:27.582Z"
   },
   {
    "duration": 0,
    "start_time": "2022-05-21T07:08:27.583Z"
   },
   {
    "duration": 0,
    "start_time": "2022-05-21T07:08:27.584Z"
   },
   {
    "duration": 0,
    "start_time": "2022-05-21T07:08:27.584Z"
   },
   {
    "duration": 0,
    "start_time": "2022-05-21T07:08:27.585Z"
   },
   {
    "duration": 0,
    "start_time": "2022-05-21T07:08:27.586Z"
   },
   {
    "duration": 0,
    "start_time": "2022-05-21T07:08:27.587Z"
   },
   {
    "duration": 0,
    "start_time": "2022-05-21T07:08:27.588Z"
   },
   {
    "duration": 0,
    "start_time": "2022-05-21T07:08:27.589Z"
   },
   {
    "duration": 0,
    "start_time": "2022-05-21T07:08:27.591Z"
   },
   {
    "duration": 0,
    "start_time": "2022-05-21T07:08:27.592Z"
   },
   {
    "duration": 0,
    "start_time": "2022-05-21T07:08:27.593Z"
   },
   {
    "duration": 0,
    "start_time": "2022-05-21T07:08:27.594Z"
   },
   {
    "duration": 0,
    "start_time": "2022-05-21T07:08:27.596Z"
   },
   {
    "duration": 0,
    "start_time": "2022-05-21T07:08:27.597Z"
   },
   {
    "duration": 0,
    "start_time": "2022-05-21T07:08:27.598Z"
   },
   {
    "duration": 0,
    "start_time": "2022-05-21T07:08:27.599Z"
   },
   {
    "duration": 0,
    "start_time": "2022-05-21T07:08:27.601Z"
   },
   {
    "duration": 0,
    "start_time": "2022-05-21T07:08:27.602Z"
   },
   {
    "duration": 0,
    "start_time": "2022-05-21T07:08:27.603Z"
   },
   {
    "duration": 0,
    "start_time": "2022-05-21T07:08:27.605Z"
   },
   {
    "duration": 0,
    "start_time": "2022-05-21T07:08:27.606Z"
   },
   {
    "duration": 0,
    "start_time": "2022-05-21T07:08:27.608Z"
   },
   {
    "duration": 0,
    "start_time": "2022-05-21T07:08:27.609Z"
   },
   {
    "duration": 0,
    "start_time": "2022-05-21T07:08:27.610Z"
   },
   {
    "duration": 0,
    "start_time": "2022-05-21T07:08:27.611Z"
   },
   {
    "duration": 0,
    "start_time": "2022-05-21T07:08:27.612Z"
   },
   {
    "duration": 0,
    "start_time": "2022-05-21T07:08:27.613Z"
   },
   {
    "duration": 0,
    "start_time": "2022-05-21T07:08:27.614Z"
   },
   {
    "duration": 19,
    "start_time": "2022-05-21T07:09:36.712Z"
   },
   {
    "duration": 16,
    "start_time": "2022-05-21T07:10:24.496Z"
   },
   {
    "duration": 376,
    "start_time": "2022-05-21T07:12:37.590Z"
   },
   {
    "duration": 6,
    "start_time": "2022-05-21T07:12:57.438Z"
   },
   {
    "duration": 567,
    "start_time": "2022-05-21T07:14:32.591Z"
   },
   {
    "duration": 4,
    "start_time": "2022-05-21T07:14:48.051Z"
   },
   {
    "duration": 70,
    "start_time": "2022-05-21T07:14:48.057Z"
   },
   {
    "duration": 21,
    "start_time": "2022-05-21T07:14:48.130Z"
   },
   {
    "duration": 26,
    "start_time": "2022-05-21T07:14:48.152Z"
   },
   {
    "duration": 25,
    "start_time": "2022-05-21T07:14:48.180Z"
   },
   {
    "duration": 19,
    "start_time": "2022-05-21T07:14:48.206Z"
   },
   {
    "duration": 44,
    "start_time": "2022-05-21T07:14:48.228Z"
   },
   {
    "duration": 17,
    "start_time": "2022-05-21T07:14:48.273Z"
   },
   {
    "duration": 13,
    "start_time": "2022-05-21T07:14:48.292Z"
   },
   {
    "duration": 172,
    "start_time": "2022-05-21T07:14:48.307Z"
   },
   {
    "duration": 28,
    "start_time": "2022-05-21T07:14:48.480Z"
   },
   {
    "duration": 38,
    "start_time": "2022-05-21T07:14:48.510Z"
   },
   {
    "duration": 327,
    "start_time": "2022-05-21T07:14:48.549Z"
   },
   {
    "duration": 19,
    "start_time": "2022-05-21T07:14:48.878Z"
   },
   {
    "duration": 164,
    "start_time": "2022-05-21T07:14:48.899Z"
   },
   {
    "duration": 19,
    "start_time": "2022-05-21T07:14:49.065Z"
   },
   {
    "duration": 322,
    "start_time": "2022-05-21T07:14:49.086Z"
   },
   {
    "duration": 36,
    "start_time": "2022-05-21T07:14:49.410Z"
   },
   {
    "duration": 35,
    "start_time": "2022-05-21T07:14:49.448Z"
   },
   {
    "duration": 17,
    "start_time": "2022-05-21T07:14:49.485Z"
   },
   {
    "duration": 16,
    "start_time": "2022-05-21T07:14:49.503Z"
   },
   {
    "duration": 42,
    "start_time": "2022-05-21T07:14:49.520Z"
   },
   {
    "duration": 17,
    "start_time": "2022-05-21T07:14:49.564Z"
   },
   {
    "duration": 6,
    "start_time": "2022-05-21T07:14:49.583Z"
   },
   {
    "duration": 19,
    "start_time": "2022-05-21T07:14:49.590Z"
   },
   {
    "duration": 18,
    "start_time": "2022-05-21T07:14:49.611Z"
   },
   {
    "duration": 40,
    "start_time": "2022-05-21T07:14:49.631Z"
   },
   {
    "duration": 15,
    "start_time": "2022-05-21T07:14:49.673Z"
   },
   {
    "duration": 18,
    "start_time": "2022-05-21T07:14:49.690Z"
   },
   {
    "duration": 23,
    "start_time": "2022-05-21T07:14:49.710Z"
   },
   {
    "duration": 29,
    "start_time": "2022-05-21T07:14:49.735Z"
   },
   {
    "duration": 18,
    "start_time": "2022-05-21T07:14:49.766Z"
   },
   {
    "duration": 20,
    "start_time": "2022-05-21T07:14:49.786Z"
   },
   {
    "duration": 32,
    "start_time": "2022-05-21T07:14:49.808Z"
   },
   {
    "duration": 18,
    "start_time": "2022-05-21T07:14:49.849Z"
   },
   {
    "duration": 17,
    "start_time": "2022-05-21T07:14:49.869Z"
   },
   {
    "duration": 22,
    "start_time": "2022-05-21T07:15:10.167Z"
   },
   {
    "duration": 21,
    "start_time": "2022-05-21T07:15:42.638Z"
   },
   {
    "duration": 3,
    "start_time": "2022-05-21T07:18:51.870Z"
   },
   {
    "duration": 64,
    "start_time": "2022-05-21T07:18:51.875Z"
   },
   {
    "duration": 22,
    "start_time": "2022-05-21T07:18:51.941Z"
   },
   {
    "duration": 18,
    "start_time": "2022-05-21T07:18:51.974Z"
   },
   {
    "duration": 44,
    "start_time": "2022-05-21T07:18:51.995Z"
   },
   {
    "duration": 11,
    "start_time": "2022-05-21T07:18:52.041Z"
   },
   {
    "duration": 47,
    "start_time": "2022-05-21T07:18:52.054Z"
   },
   {
    "duration": 33,
    "start_time": "2022-05-21T07:18:52.103Z"
   },
   {
    "duration": 42,
    "start_time": "2022-05-21T07:18:52.139Z"
   },
   {
    "duration": 198,
    "start_time": "2022-05-21T07:18:52.183Z"
   },
   {
    "duration": 23,
    "start_time": "2022-05-21T07:18:52.384Z"
   },
   {
    "duration": 16,
    "start_time": "2022-05-21T07:18:52.410Z"
   },
   {
    "duration": 417,
    "start_time": "2022-05-21T07:18:52.429Z"
   },
   {
    "duration": 23,
    "start_time": "2022-05-21T07:18:52.851Z"
   },
   {
    "duration": 199,
    "start_time": "2022-05-21T07:18:52.877Z"
   },
   {
    "duration": 18,
    "start_time": "2022-05-21T07:18:53.079Z"
   },
   {
    "duration": 368,
    "start_time": "2022-05-21T07:18:53.099Z"
   },
   {
    "duration": 16,
    "start_time": "2022-05-21T07:18:53.469Z"
   },
   {
    "duration": 20,
    "start_time": "2022-05-21T07:18:53.490Z"
   },
   {
    "duration": 36,
    "start_time": "2022-05-21T07:18:53.512Z"
   },
   {
    "duration": 37,
    "start_time": "2022-05-21T07:18:53.550Z"
   },
   {
    "duration": 17,
    "start_time": "2022-05-21T07:18:53.589Z"
   },
   {
    "duration": 23,
    "start_time": "2022-05-21T07:18:53.608Z"
   },
   {
    "duration": 47,
    "start_time": "2022-05-21T07:18:53.632Z"
   },
   {
    "duration": 18,
    "start_time": "2022-05-21T07:18:53.681Z"
   },
   {
    "duration": 18,
    "start_time": "2022-05-21T07:18:53.701Z"
   },
   {
    "duration": 48,
    "start_time": "2022-05-21T07:18:53.721Z"
   },
   {
    "duration": 38,
    "start_time": "2022-05-21T07:18:53.773Z"
   },
   {
    "duration": 41,
    "start_time": "2022-05-21T07:18:53.814Z"
   },
   {
    "duration": 20,
    "start_time": "2022-05-21T07:18:53.858Z"
   },
   {
    "duration": 17,
    "start_time": "2022-05-21T07:18:53.880Z"
   },
   {
    "duration": 30,
    "start_time": "2022-05-21T07:18:53.899Z"
   },
   {
    "duration": 36,
    "start_time": "2022-05-21T07:18:53.934Z"
   },
   {
    "duration": 22,
    "start_time": "2022-05-21T07:18:53.972Z"
   },
   {
    "duration": 12,
    "start_time": "2022-05-21T07:18:53.995Z"
   },
   {
    "duration": 8,
    "start_time": "2022-05-21T07:18:54.009Z"
   },
   {
    "duration": 20,
    "start_time": "2022-05-21T07:20:52.893Z"
   },
   {
    "duration": 17,
    "start_time": "2022-05-21T07:22:47.139Z"
   },
   {
    "duration": 4,
    "start_time": "2022-05-21T07:22:54.638Z"
   },
   {
    "duration": 58,
    "start_time": "2022-05-21T07:22:54.658Z"
   },
   {
    "duration": 26,
    "start_time": "2022-05-21T07:22:54.718Z"
   },
   {
    "duration": 27,
    "start_time": "2022-05-21T07:22:54.746Z"
   },
   {
    "duration": 16,
    "start_time": "2022-05-21T07:22:54.775Z"
   },
   {
    "duration": 6,
    "start_time": "2022-05-21T07:22:54.793Z"
   },
   {
    "duration": 45,
    "start_time": "2022-05-21T07:22:54.801Z"
   },
   {
    "duration": 18,
    "start_time": "2022-05-21T07:22:54.848Z"
   },
   {
    "duration": 15,
    "start_time": "2022-05-21T07:22:54.867Z"
   },
   {
    "duration": 194,
    "start_time": "2022-05-21T07:22:54.883Z"
   },
   {
    "duration": 16,
    "start_time": "2022-05-21T07:22:55.079Z"
   },
   {
    "duration": 6,
    "start_time": "2022-05-21T07:22:55.097Z"
   },
   {
    "duration": 414,
    "start_time": "2022-05-21T07:22:55.104Z"
   },
   {
    "duration": 27,
    "start_time": "2022-05-21T07:22:55.520Z"
   },
   {
    "duration": 166,
    "start_time": "2022-05-21T07:22:55.553Z"
   },
   {
    "duration": 24,
    "start_time": "2022-05-21T07:22:55.722Z"
   },
   {
    "duration": 340,
    "start_time": "2022-05-21T07:22:55.749Z"
   },
   {
    "duration": 15,
    "start_time": "2022-05-21T07:22:56.091Z"
   },
   {
    "duration": 19,
    "start_time": "2022-05-21T07:22:56.108Z"
   },
   {
    "duration": 40,
    "start_time": "2022-05-21T07:22:56.131Z"
   },
   {
    "duration": 16,
    "start_time": "2022-05-21T07:22:56.173Z"
   },
   {
    "duration": 14,
    "start_time": "2022-05-21T07:22:56.190Z"
   },
   {
    "duration": 13,
    "start_time": "2022-05-21T07:22:56.205Z"
   },
   {
    "duration": 43,
    "start_time": "2022-05-21T07:22:56.220Z"
   },
   {
    "duration": 17,
    "start_time": "2022-05-21T07:22:56.265Z"
   },
   {
    "duration": 14,
    "start_time": "2022-05-21T07:22:56.283Z"
   },
   {
    "duration": 17,
    "start_time": "2022-05-21T07:22:56.298Z"
   },
   {
    "duration": 22,
    "start_time": "2022-05-21T07:22:56.317Z"
   },
   {
    "duration": 18,
    "start_time": "2022-05-21T07:22:56.342Z"
   },
   {
    "duration": 21,
    "start_time": "2022-05-21T07:22:56.361Z"
   },
   {
    "duration": 16,
    "start_time": "2022-05-21T07:22:56.384Z"
   },
   {
    "duration": 24,
    "start_time": "2022-05-21T07:22:56.402Z"
   },
   {
    "duration": 31,
    "start_time": "2022-05-21T07:22:56.432Z"
   },
   {
    "duration": 14,
    "start_time": "2022-05-21T07:22:56.466Z"
   },
   {
    "duration": 10,
    "start_time": "2022-05-21T07:22:56.481Z"
   },
   {
    "duration": 7,
    "start_time": "2022-05-21T07:22:56.492Z"
   },
   {
    "duration": 18,
    "start_time": "2022-05-21T07:25:55.794Z"
   },
   {
    "duration": 3,
    "start_time": "2022-05-21T07:26:11.772Z"
   },
   {
    "duration": 62,
    "start_time": "2022-05-21T07:26:11.782Z"
   },
   {
    "duration": 14,
    "start_time": "2022-05-21T07:26:11.846Z"
   },
   {
    "duration": 26,
    "start_time": "2022-05-21T07:26:11.862Z"
   },
   {
    "duration": 39,
    "start_time": "2022-05-21T07:26:11.890Z"
   },
   {
    "duration": 14,
    "start_time": "2022-05-21T07:26:11.931Z"
   },
   {
    "duration": 31,
    "start_time": "2022-05-21T07:26:11.947Z"
   },
   {
    "duration": 20,
    "start_time": "2022-05-21T07:26:11.980Z"
   },
   {
    "duration": 34,
    "start_time": "2022-05-21T07:26:12.001Z"
   },
   {
    "duration": 153,
    "start_time": "2022-05-21T07:26:12.037Z"
   },
   {
    "duration": 15,
    "start_time": "2022-05-21T07:26:12.192Z"
   },
   {
    "duration": 31,
    "start_time": "2022-05-21T07:26:12.209Z"
   },
   {
    "duration": 300,
    "start_time": "2022-05-21T07:26:12.241Z"
   },
   {
    "duration": 20,
    "start_time": "2022-05-21T07:26:12.543Z"
   },
   {
    "duration": 150,
    "start_time": "2022-05-21T07:26:12.567Z"
   },
   {
    "duration": 24,
    "start_time": "2022-05-21T07:26:12.719Z"
   },
   {
    "duration": 327,
    "start_time": "2022-05-21T07:26:12.744Z"
   },
   {
    "duration": 18,
    "start_time": "2022-05-21T07:26:13.073Z"
   },
   {
    "duration": 20,
    "start_time": "2022-05-21T07:26:13.093Z"
   },
   {
    "duration": 24,
    "start_time": "2022-05-21T07:26:13.124Z"
   },
   {
    "duration": 20,
    "start_time": "2022-05-21T07:26:13.150Z"
   },
   {
    "duration": 17,
    "start_time": "2022-05-21T07:26:13.172Z"
   },
   {
    "duration": 15,
    "start_time": "2022-05-21T07:26:13.190Z"
   },
   {
    "duration": 33,
    "start_time": "2022-05-21T07:26:13.206Z"
   },
   {
    "duration": 24,
    "start_time": "2022-05-21T07:26:13.241Z"
   },
   {
    "duration": 16,
    "start_time": "2022-05-21T07:26:13.266Z"
   },
   {
    "duration": 18,
    "start_time": "2022-05-21T07:26:13.284Z"
   },
   {
    "duration": 38,
    "start_time": "2022-05-21T07:26:13.304Z"
   },
   {
    "duration": 20,
    "start_time": "2022-05-21T07:26:13.343Z"
   },
   {
    "duration": 15,
    "start_time": "2022-05-21T07:26:13.364Z"
   },
   {
    "duration": 13,
    "start_time": "2022-05-21T07:26:13.380Z"
   },
   {
    "duration": 42,
    "start_time": "2022-05-21T07:26:13.394Z"
   },
   {
    "duration": 15,
    "start_time": "2022-05-21T07:26:13.438Z"
   },
   {
    "duration": 16,
    "start_time": "2022-05-21T07:26:13.454Z"
   },
   {
    "duration": 12,
    "start_time": "2022-05-21T07:26:13.472Z"
   },
   {
    "duration": 9,
    "start_time": "2022-05-21T07:26:13.485Z"
   },
   {
    "duration": 12,
    "start_time": "2022-05-21T07:27:21.787Z"
   },
   {
    "duration": 26,
    "start_time": "2022-05-21T07:27:56.687Z"
   },
   {
    "duration": 25,
    "start_time": "2022-05-21T07:28:08.995Z"
   },
   {
    "duration": 60,
    "start_time": "2022-05-21T07:28:17.101Z"
   },
   {
    "duration": 48,
    "start_time": "2022-05-21T07:28:30.500Z"
   },
   {
    "duration": 3,
    "start_time": "2022-05-21T07:29:23.303Z"
   },
   {
    "duration": 68,
    "start_time": "2022-05-21T07:29:23.307Z"
   },
   {
    "duration": 14,
    "start_time": "2022-05-21T07:29:23.377Z"
   },
   {
    "duration": 14,
    "start_time": "2022-05-21T07:29:23.393Z"
   },
   {
    "duration": 31,
    "start_time": "2022-05-21T07:29:23.408Z"
   },
   {
    "duration": 8,
    "start_time": "2022-05-21T07:29:23.441Z"
   },
   {
    "duration": 21,
    "start_time": "2022-05-21T07:29:23.451Z"
   },
   {
    "duration": 17,
    "start_time": "2022-05-21T07:29:23.473Z"
   },
   {
    "duration": 49,
    "start_time": "2022-05-21T07:29:23.491Z"
   },
   {
    "duration": 159,
    "start_time": "2022-05-21T07:29:23.543Z"
   },
   {
    "duration": 26,
    "start_time": "2022-05-21T07:29:23.704Z"
   },
   {
    "duration": 10,
    "start_time": "2022-05-21T07:29:23.736Z"
   },
   {
    "duration": 313,
    "start_time": "2022-05-21T07:29:23.748Z"
   },
   {
    "duration": 17,
    "start_time": "2022-05-21T07:29:24.063Z"
   },
   {
    "duration": 156,
    "start_time": "2022-05-21T07:29:24.082Z"
   },
   {
    "duration": 17,
    "start_time": "2022-05-21T07:29:24.240Z"
   },
   {
    "duration": 337,
    "start_time": "2022-05-21T07:29:24.259Z"
   },
   {
    "duration": 15,
    "start_time": "2022-05-21T07:29:24.598Z"
   },
   {
    "duration": 24,
    "start_time": "2022-05-21T07:29:24.626Z"
   },
   {
    "duration": 21,
    "start_time": "2022-05-21T07:29:24.652Z"
   },
   {
    "duration": 22,
    "start_time": "2022-05-21T07:29:24.675Z"
   },
   {
    "duration": 20,
    "start_time": "2022-05-21T07:29:24.727Z"
   },
   {
    "duration": 41,
    "start_time": "2022-05-21T07:29:24.748Z"
   },
   {
    "duration": 42,
    "start_time": "2022-05-21T07:29:24.791Z"
   },
   {
    "duration": 16,
    "start_time": "2022-05-21T07:29:24.838Z"
   },
   {
    "duration": 24,
    "start_time": "2022-05-21T07:29:24.856Z"
   },
   {
    "duration": 16,
    "start_time": "2022-05-21T07:29:24.882Z"
   },
   {
    "duration": 43,
    "start_time": "2022-05-21T07:29:24.902Z"
   },
   {
    "duration": 20,
    "start_time": "2022-05-21T07:29:24.947Z"
   },
   {
    "duration": 20,
    "start_time": "2022-05-21T07:29:24.969Z"
   },
   {
    "duration": 19,
    "start_time": "2022-05-21T07:29:24.990Z"
   },
   {
    "duration": 40,
    "start_time": "2022-05-21T07:29:25.024Z"
   },
   {
    "duration": 21,
    "start_time": "2022-05-21T07:29:25.065Z"
   },
   {
    "duration": 15,
    "start_time": "2022-05-21T07:29:25.088Z"
   },
   {
    "duration": 14,
    "start_time": "2022-05-21T07:29:25.105Z"
   },
   {
    "duration": 28,
    "start_time": "2022-05-21T07:29:25.120Z"
   },
   {
    "duration": 10,
    "start_time": "2022-05-21T07:29:25.150Z"
   },
   {
    "duration": 17,
    "start_time": "2022-05-21T07:30:48.984Z"
   },
   {
    "duration": 18,
    "start_time": "2022-05-21T07:30:54.717Z"
   },
   {
    "duration": 15,
    "start_time": "2022-05-21T07:31:21.079Z"
   },
   {
    "duration": 5,
    "start_time": "2022-05-21T07:37:32.397Z"
   },
   {
    "duration": 2,
    "start_time": "2022-05-21T07:38:26.395Z"
   },
   {
    "duration": 70,
    "start_time": "2022-05-21T07:38:26.400Z"
   },
   {
    "duration": 15,
    "start_time": "2022-05-21T07:38:26.472Z"
   },
   {
    "duration": 46,
    "start_time": "2022-05-21T07:38:26.489Z"
   },
   {
    "duration": 21,
    "start_time": "2022-05-21T07:38:26.538Z"
   },
   {
    "duration": 7,
    "start_time": "2022-05-21T07:38:26.560Z"
   },
   {
    "duration": 21,
    "start_time": "2022-05-21T07:38:26.569Z"
   },
   {
    "duration": 6,
    "start_time": "2022-05-21T07:38:26.592Z"
   },
   {
    "duration": 42,
    "start_time": "2022-05-21T07:38:26.599Z"
   },
   {
    "duration": 14,
    "start_time": "2022-05-21T07:38:26.643Z"
   },
   {
    "duration": 186,
    "start_time": "2022-05-21T07:38:26.659Z"
   },
   {
    "duration": 17,
    "start_time": "2022-05-21T07:38:26.846Z"
   },
   {
    "duration": 5,
    "start_time": "2022-05-21T07:38:26.865Z"
   },
   {
    "duration": 407,
    "start_time": "2022-05-21T07:38:26.873Z"
   },
   {
    "duration": 16,
    "start_time": "2022-05-21T07:38:27.282Z"
   },
   {
    "duration": 134,
    "start_time": "2022-05-21T07:38:27.300Z"
   },
   {
    "duration": 16,
    "start_time": "2022-05-21T07:38:27.435Z"
   },
   {
    "duration": 280,
    "start_time": "2022-05-21T07:38:27.452Z"
   },
   {
    "duration": 15,
    "start_time": "2022-05-21T07:38:27.737Z"
   },
   {
    "duration": 22,
    "start_time": "2022-05-21T07:38:27.754Z"
   },
   {
    "duration": 13,
    "start_time": "2022-05-21T07:38:27.778Z"
   },
   {
    "duration": 14,
    "start_time": "2022-05-21T07:38:27.793Z"
   },
   {
    "duration": 17,
    "start_time": "2022-05-21T07:38:27.825Z"
   },
   {
    "duration": 15,
    "start_time": "2022-05-21T07:38:27.844Z"
   },
   {
    "duration": 19,
    "start_time": "2022-05-21T07:38:27.861Z"
   },
   {
    "duration": 12,
    "start_time": "2022-05-21T07:38:27.881Z"
   },
   {
    "duration": 49,
    "start_time": "2022-05-21T07:38:27.895Z"
   },
   {
    "duration": 21,
    "start_time": "2022-05-21T07:38:27.949Z"
   },
   {
    "duration": 24,
    "start_time": "2022-05-21T07:38:27.972Z"
   },
   {
    "duration": 36,
    "start_time": "2022-05-21T07:38:27.998Z"
   },
   {
    "duration": 35,
    "start_time": "2022-05-21T07:38:28.037Z"
   },
   {
    "duration": 17,
    "start_time": "2022-05-21T07:38:28.074Z"
   },
   {
    "duration": 21,
    "start_time": "2022-05-21T07:38:28.093Z"
   },
   {
    "duration": 23,
    "start_time": "2022-05-21T07:38:28.135Z"
   },
   {
    "duration": 23,
    "start_time": "2022-05-21T07:38:28.160Z"
   },
   {
    "duration": 15,
    "start_time": "2022-05-21T07:38:28.185Z"
   },
   {
    "duration": 16,
    "start_time": "2022-05-21T07:38:28.202Z"
   },
   {
    "duration": 11,
    "start_time": "2022-05-21T07:38:28.220Z"
   },
   {
    "duration": 20,
    "start_time": "2022-05-21T07:38:28.234Z"
   },
   {
    "duration": 14,
    "start_time": "2022-05-21T07:40:05.484Z"
   },
   {
    "duration": 5,
    "start_time": "2022-05-21T07:41:08.867Z"
   },
   {
    "duration": 5,
    "start_time": "2022-05-21T07:41:15.903Z"
   },
   {
    "duration": 65,
    "start_time": "2022-05-21T07:41:15.915Z"
   },
   {
    "duration": 25,
    "start_time": "2022-05-21T07:41:15.983Z"
   },
   {
    "duration": 30,
    "start_time": "2022-05-21T07:41:16.010Z"
   },
   {
    "duration": 21,
    "start_time": "2022-05-21T07:41:16.042Z"
   },
   {
    "duration": 8,
    "start_time": "2022-05-21T07:41:16.066Z"
   },
   {
    "duration": 23,
    "start_time": "2022-05-21T07:41:16.075Z"
   },
   {
    "duration": 30,
    "start_time": "2022-05-21T07:41:16.099Z"
   },
   {
    "duration": 28,
    "start_time": "2022-05-21T07:41:16.135Z"
   },
   {
    "duration": 16,
    "start_time": "2022-05-21T07:41:16.165Z"
   },
   {
    "duration": 180,
    "start_time": "2022-05-21T07:41:16.183Z"
   },
   {
    "duration": 17,
    "start_time": "2022-05-21T07:41:16.364Z"
   },
   {
    "duration": 7,
    "start_time": "2022-05-21T07:41:16.382Z"
   },
   {
    "duration": 307,
    "start_time": "2022-05-21T07:41:16.391Z"
   },
   {
    "duration": 32,
    "start_time": "2022-05-21T07:41:16.701Z"
   },
   {
    "duration": 115,
    "start_time": "2022-05-21T07:41:16.739Z"
   },
   {
    "duration": 16,
    "start_time": "2022-05-21T07:41:16.855Z"
   },
   {
    "duration": 381,
    "start_time": "2022-05-21T07:41:16.874Z"
   },
   {
    "duration": 15,
    "start_time": "2022-05-21T07:41:17.257Z"
   },
   {
    "duration": 20,
    "start_time": "2022-05-21T07:41:17.274Z"
   },
   {
    "duration": 34,
    "start_time": "2022-05-21T07:41:17.295Z"
   },
   {
    "duration": 24,
    "start_time": "2022-05-21T07:41:17.333Z"
   },
   {
    "duration": 15,
    "start_time": "2022-05-21T07:41:17.359Z"
   },
   {
    "duration": 17,
    "start_time": "2022-05-21T07:41:17.375Z"
   },
   {
    "duration": 39,
    "start_time": "2022-05-21T07:41:17.394Z"
   },
   {
    "duration": 15,
    "start_time": "2022-05-21T07:41:17.439Z"
   },
   {
    "duration": 15,
    "start_time": "2022-05-21T07:41:17.456Z"
   },
   {
    "duration": 18,
    "start_time": "2022-05-21T07:41:17.473Z"
   },
   {
    "duration": 49,
    "start_time": "2022-05-21T07:41:17.493Z"
   },
   {
    "duration": 19,
    "start_time": "2022-05-21T07:41:17.544Z"
   },
   {
    "duration": 27,
    "start_time": "2022-05-21T07:41:17.565Z"
   },
   {
    "duration": 42,
    "start_time": "2022-05-21T07:41:17.594Z"
   },
   {
    "duration": 21,
    "start_time": "2022-05-21T07:41:17.638Z"
   },
   {
    "duration": 21,
    "start_time": "2022-05-21T07:41:17.661Z"
   },
   {
    "duration": 19,
    "start_time": "2022-05-21T07:41:17.684Z"
   },
   {
    "duration": 31,
    "start_time": "2022-05-21T07:41:17.705Z"
   },
   {
    "duration": 19,
    "start_time": "2022-05-21T07:41:17.739Z"
   },
   {
    "duration": 11,
    "start_time": "2022-05-21T07:41:17.760Z"
   },
   {
    "duration": 12,
    "start_time": "2022-05-21T07:41:17.772Z"
   },
   {
    "duration": 4,
    "start_time": "2022-05-21T07:42:53.838Z"
   },
   {
    "duration": 3,
    "start_time": "2022-05-21T07:43:01.501Z"
   },
   {
    "duration": 62,
    "start_time": "2022-05-21T07:43:01.519Z"
   },
   {
    "duration": 19,
    "start_time": "2022-05-21T07:43:01.584Z"
   },
   {
    "duration": 37,
    "start_time": "2022-05-21T07:43:01.605Z"
   },
   {
    "duration": 27,
    "start_time": "2022-05-21T07:43:01.644Z"
   },
   {
    "duration": 6,
    "start_time": "2022-05-21T07:43:01.673Z"
   },
   {
    "duration": 23,
    "start_time": "2022-05-21T07:43:01.680Z"
   },
   {
    "duration": 5,
    "start_time": "2022-05-21T07:43:01.704Z"
   },
   {
    "duration": 51,
    "start_time": "2022-05-21T07:43:01.710Z"
   },
   {
    "duration": 22,
    "start_time": "2022-05-21T07:43:01.763Z"
   },
   {
    "duration": 201,
    "start_time": "2022-05-21T07:43:01.787Z"
   },
   {
    "duration": 20,
    "start_time": "2022-05-21T07:43:01.990Z"
   },
   {
    "duration": 21,
    "start_time": "2022-05-21T07:43:02.011Z"
   },
   {
    "duration": 308,
    "start_time": "2022-05-21T07:43:02.040Z"
   },
   {
    "duration": 16,
    "start_time": "2022-05-21T07:43:02.351Z"
   },
   {
    "duration": 120,
    "start_time": "2022-05-21T07:43:02.369Z"
   },
   {
    "duration": 15,
    "start_time": "2022-05-21T07:43:02.491Z"
   },
   {
    "duration": 327,
    "start_time": "2022-05-21T07:43:02.523Z"
   },
   {
    "duration": 25,
    "start_time": "2022-05-21T07:43:02.852Z"
   },
   {
    "duration": 26,
    "start_time": "2022-05-21T07:43:02.879Z"
   },
   {
    "duration": 28,
    "start_time": "2022-05-21T07:43:02.906Z"
   },
   {
    "duration": 18,
    "start_time": "2022-05-21T07:43:02.939Z"
   },
   {
    "duration": 16,
    "start_time": "2022-05-21T07:43:02.959Z"
   },
   {
    "duration": 19,
    "start_time": "2022-05-21T07:43:02.977Z"
   },
   {
    "duration": 35,
    "start_time": "2022-05-21T07:43:02.998Z"
   },
   {
    "duration": 25,
    "start_time": "2022-05-21T07:43:03.035Z"
   },
   {
    "duration": 18,
    "start_time": "2022-05-21T07:43:03.062Z"
   },
   {
    "duration": 18,
    "start_time": "2022-05-21T07:43:03.081Z"
   },
   {
    "duration": 22,
    "start_time": "2022-05-21T07:43:03.101Z"
   },
   {
    "duration": 33,
    "start_time": "2022-05-21T07:43:03.124Z"
   },
   {
    "duration": 17,
    "start_time": "2022-05-21T07:43:03.159Z"
   },
   {
    "duration": 16,
    "start_time": "2022-05-21T07:43:03.178Z"
   },
   {
    "duration": 42,
    "start_time": "2022-05-21T07:43:03.196Z"
   },
   {
    "duration": 17,
    "start_time": "2022-05-21T07:43:03.240Z"
   },
   {
    "duration": 16,
    "start_time": "2022-05-21T07:43:03.259Z"
   },
   {
    "duration": 14,
    "start_time": "2022-05-21T07:43:03.276Z"
   },
   {
    "duration": 19,
    "start_time": "2022-05-21T07:43:03.292Z"
   },
   {
    "duration": 14,
    "start_time": "2022-05-21T07:43:03.324Z"
   },
   {
    "duration": 23,
    "start_time": "2022-05-21T07:43:03.341Z"
   },
   {
    "duration": 59,
    "start_time": "2022-05-21T07:43:27.492Z"
   },
   {
    "duration": 4,
    "start_time": "2022-05-21T07:44:36.975Z"
   },
   {
    "duration": 16,
    "start_time": "2022-05-21T07:44:44.987Z"
   },
   {
    "duration": 37,
    "start_time": "2022-05-21T07:44:55.420Z"
   },
   {
    "duration": 35,
    "start_time": "2022-05-21T07:45:15.576Z"
   },
   {
    "duration": 17,
    "start_time": "2022-05-21T07:45:29.592Z"
   },
   {
    "duration": 25,
    "start_time": "2022-05-21T07:45:37.196Z"
   },
   {
    "duration": 40,
    "start_time": "2022-05-21T07:45:44.841Z"
   },
   {
    "duration": 17,
    "start_time": "2022-05-21T07:46:09.572Z"
   },
   {
    "duration": 18,
    "start_time": "2022-05-21T07:46:51.229Z"
   },
   {
    "duration": 3,
    "start_time": "2022-05-21T07:50:13.741Z"
   },
   {
    "duration": 71,
    "start_time": "2022-05-21T07:50:13.775Z"
   },
   {
    "duration": 22,
    "start_time": "2022-05-21T07:50:13.849Z"
   },
   {
    "duration": 18,
    "start_time": "2022-05-21T07:50:13.873Z"
   },
   {
    "duration": 50,
    "start_time": "2022-05-21T07:50:13.893Z"
   },
   {
    "duration": 20,
    "start_time": "2022-05-21T07:50:13.946Z"
   },
   {
    "duration": 37,
    "start_time": "2022-05-21T07:50:13.968Z"
   },
   {
    "duration": 61,
    "start_time": "2022-05-21T07:50:14.007Z"
   },
   {
    "duration": 16,
    "start_time": "2022-05-21T07:50:14.070Z"
   },
   {
    "duration": 200,
    "start_time": "2022-05-21T07:50:14.089Z"
   },
   {
    "duration": 19,
    "start_time": "2022-05-21T07:50:14.291Z"
   },
   {
    "duration": 28,
    "start_time": "2022-05-21T07:50:14.325Z"
   },
   {
    "duration": 414,
    "start_time": "2022-05-21T07:50:14.355Z"
   },
   {
    "duration": 18,
    "start_time": "2022-05-21T07:50:14.771Z"
   },
   {
    "duration": 148,
    "start_time": "2022-05-21T07:50:14.794Z"
   },
   {
    "duration": 15,
    "start_time": "2022-05-21T07:50:14.944Z"
   },
   {
    "duration": 298,
    "start_time": "2022-05-21T07:50:14.961Z"
   },
   {
    "duration": 17,
    "start_time": "2022-05-21T07:50:15.261Z"
   },
   {
    "duration": 18,
    "start_time": "2022-05-21T07:50:15.280Z"
   },
   {
    "duration": 67,
    "start_time": "2022-05-21T07:50:15.300Z"
   },
   {
    "duration": 21,
    "start_time": "2022-05-21T07:50:15.369Z"
   },
   {
    "duration": 16,
    "start_time": "2022-05-21T07:50:15.391Z"
   },
   {
    "duration": 32,
    "start_time": "2022-05-21T07:50:15.408Z"
   },
   {
    "duration": 33,
    "start_time": "2022-05-21T07:50:15.442Z"
   },
   {
    "duration": 18,
    "start_time": "2022-05-21T07:50:15.477Z"
   },
   {
    "duration": 19,
    "start_time": "2022-05-21T07:50:15.496Z"
   },
   {
    "duration": 23,
    "start_time": "2022-05-21T07:50:15.517Z"
   },
   {
    "duration": 30,
    "start_time": "2022-05-21T07:50:15.542Z"
   },
   {
    "duration": 17,
    "start_time": "2022-05-21T07:50:15.574Z"
   },
   {
    "duration": 20,
    "start_time": "2022-05-21T07:50:15.593Z"
   },
   {
    "duration": 19,
    "start_time": "2022-05-21T07:50:15.614Z"
   },
   {
    "duration": 43,
    "start_time": "2022-05-21T07:50:15.635Z"
   },
   {
    "duration": 17,
    "start_time": "2022-05-21T07:50:15.679Z"
   },
   {
    "duration": 16,
    "start_time": "2022-05-21T07:50:15.697Z"
   },
   {
    "duration": 29,
    "start_time": "2022-05-21T07:50:15.715Z"
   },
   {
    "duration": 26,
    "start_time": "2022-05-21T07:50:15.746Z"
   },
   {
    "duration": 16,
    "start_time": "2022-05-21T07:52:12.294Z"
   },
   {
    "duration": 28,
    "start_time": "2022-05-21T07:55:55.150Z"
   },
   {
    "duration": 4,
    "start_time": "2022-05-21T07:56:01.508Z"
   },
   {
    "duration": 125,
    "start_time": "2022-05-21T07:56:01.526Z"
   },
   {
    "duration": 27,
    "start_time": "2022-05-21T07:56:01.654Z"
   },
   {
    "duration": 37,
    "start_time": "2022-05-21T07:56:01.686Z"
   },
   {
    "duration": 85,
    "start_time": "2022-05-21T07:56:01.728Z"
   },
   {
    "duration": 31,
    "start_time": "2022-05-21T07:56:01.817Z"
   },
   {
    "duration": 49,
    "start_time": "2022-05-21T07:56:01.851Z"
   },
   {
    "duration": 55,
    "start_time": "2022-05-21T07:56:01.902Z"
   },
   {
    "duration": 38,
    "start_time": "2022-05-21T07:56:01.959Z"
   },
   {
    "duration": 247,
    "start_time": "2022-05-21T07:56:02.000Z"
   },
   {
    "duration": 24,
    "start_time": "2022-05-21T07:56:02.249Z"
   },
   {
    "duration": 16,
    "start_time": "2022-05-21T07:56:02.275Z"
   },
   {
    "duration": 447,
    "start_time": "2022-05-21T07:56:02.294Z"
   },
   {
    "duration": 23,
    "start_time": "2022-05-21T07:56:02.746Z"
   },
   {
    "duration": 215,
    "start_time": "2022-05-21T07:56:02.774Z"
   },
   {
    "duration": 26,
    "start_time": "2022-05-21T07:56:02.992Z"
   },
   {
    "duration": 392,
    "start_time": "2022-05-21T07:56:03.021Z"
   },
   {
    "duration": 30,
    "start_time": "2022-05-21T07:56:03.415Z"
   },
   {
    "duration": 72,
    "start_time": "2022-05-21T07:56:03.446Z"
   },
   {
    "duration": 38,
    "start_time": "2022-05-21T07:56:03.520Z"
   },
   {
    "duration": 37,
    "start_time": "2022-05-21T07:56:03.564Z"
   },
   {
    "duration": 21,
    "start_time": "2022-05-21T07:56:03.603Z"
   },
   {
    "duration": 65,
    "start_time": "2022-05-21T07:56:03.626Z"
   },
   {
    "duration": 21,
    "start_time": "2022-05-21T07:56:03.692Z"
   },
   {
    "duration": 25,
    "start_time": "2022-05-21T07:56:03.715Z"
   },
   {
    "duration": 57,
    "start_time": "2022-05-21T07:56:03.742Z"
   },
   {
    "duration": 15,
    "start_time": "2022-05-21T07:56:03.801Z"
   },
   {
    "duration": 54,
    "start_time": "2022-05-21T07:56:03.818Z"
   },
   {
    "duration": 29,
    "start_time": "2022-05-21T07:56:03.873Z"
   },
   {
    "duration": 17,
    "start_time": "2022-05-21T07:56:03.904Z"
   },
   {
    "duration": 30,
    "start_time": "2022-05-21T07:56:03.923Z"
   },
   {
    "duration": 34,
    "start_time": "2022-05-21T07:56:03.958Z"
   },
   {
    "duration": 21,
    "start_time": "2022-05-21T07:56:03.994Z"
   },
   {
    "duration": 36,
    "start_time": "2022-05-21T07:56:04.017Z"
   },
   {
    "duration": 29,
    "start_time": "2022-05-21T07:56:04.055Z"
   },
   {
    "duration": 9,
    "start_time": "2022-05-21T07:56:04.086Z"
   },
   {
    "duration": 20,
    "start_time": "2022-05-21T07:56:28.051Z"
   },
   {
    "duration": 32,
    "start_time": "2022-05-21T08:02:42.583Z"
   },
   {
    "duration": 18,
    "start_time": "2022-05-21T08:05:23.088Z"
   },
   {
    "duration": 19,
    "start_time": "2022-05-21T08:06:29.314Z"
   },
   {
    "duration": 17,
    "start_time": "2022-05-21T08:13:36.875Z"
   },
   {
    "duration": 17,
    "start_time": "2022-05-21T08:16:20.396Z"
   },
   {
    "duration": 16,
    "start_time": "2022-05-21T08:21:41.669Z"
   },
   {
    "duration": 16,
    "start_time": "2022-05-21T08:21:46.812Z"
   },
   {
    "duration": 20,
    "start_time": "2022-05-21T08:22:36.289Z"
   },
   {
    "duration": 13,
    "start_time": "2022-05-21T08:23:11.463Z"
   },
   {
    "duration": 59,
    "start_time": "2022-05-21T08:26:48.317Z"
   },
   {
    "duration": 1327,
    "start_time": "2022-05-22T07:00:22.428Z"
   },
   {
    "duration": 81,
    "start_time": "2022-05-22T07:00:23.757Z"
   },
   {
    "duration": 14,
    "start_time": "2022-05-22T07:00:23.840Z"
   },
   {
    "duration": 18,
    "start_time": "2022-05-22T07:00:23.856Z"
   },
   {
    "duration": 22,
    "start_time": "2022-05-22T07:00:23.877Z"
   },
   {
    "duration": 6,
    "start_time": "2022-05-22T07:00:23.901Z"
   },
   {
    "duration": 20,
    "start_time": "2022-05-22T07:00:23.908Z"
   },
   {
    "duration": 36,
    "start_time": "2022-05-22T07:00:23.951Z"
   },
   {
    "duration": 16,
    "start_time": "2022-05-22T07:00:23.989Z"
   },
   {
    "duration": 185,
    "start_time": "2022-05-22T07:00:24.006Z"
   },
   {
    "duration": 16,
    "start_time": "2022-05-22T07:00:24.193Z"
   },
   {
    "duration": 6,
    "start_time": "2022-05-22T07:00:24.211Z"
   },
   {
    "duration": 284,
    "start_time": "2022-05-22T07:00:24.218Z"
   },
   {
    "duration": 15,
    "start_time": "2022-05-22T07:00:24.505Z"
   },
   {
    "duration": 187,
    "start_time": "2022-05-22T07:00:24.522Z"
   },
   {
    "duration": 14,
    "start_time": "2022-05-22T07:00:24.710Z"
   },
   {
    "duration": 275,
    "start_time": "2022-05-22T07:00:24.725Z"
   },
   {
    "duration": 14,
    "start_time": "2022-05-22T07:00:25.002Z"
   },
   {
    "duration": 15,
    "start_time": "2022-05-22T07:00:25.018Z"
   },
   {
    "duration": 30,
    "start_time": "2022-05-22T07:00:25.034Z"
   },
   {
    "duration": 20,
    "start_time": "2022-05-22T07:00:25.065Z"
   },
   {
    "duration": 18,
    "start_time": "2022-05-22T07:00:25.087Z"
   },
   {
    "duration": 23,
    "start_time": "2022-05-22T07:00:25.106Z"
   },
   {
    "duration": 34,
    "start_time": "2022-05-22T07:00:25.131Z"
   },
   {
    "duration": 32,
    "start_time": "2022-05-22T07:00:25.168Z"
   },
   {
    "duration": 24,
    "start_time": "2022-05-22T07:00:25.202Z"
   },
   {
    "duration": 30,
    "start_time": "2022-05-22T07:00:25.228Z"
   },
   {
    "duration": 23,
    "start_time": "2022-05-22T07:00:25.260Z"
   },
   {
    "duration": 20,
    "start_time": "2022-05-22T07:00:25.285Z"
   },
   {
    "duration": 47,
    "start_time": "2022-05-22T07:00:25.307Z"
   },
   {
    "duration": 16,
    "start_time": "2022-05-22T07:00:25.357Z"
   },
   {
    "duration": 35,
    "start_time": "2022-05-22T07:00:25.376Z"
   },
   {
    "duration": 19,
    "start_time": "2022-05-22T07:00:25.413Z"
   },
   {
    "duration": 20,
    "start_time": "2022-05-22T07:00:25.434Z"
   },
   {
    "duration": 23,
    "start_time": "2022-05-22T07:00:25.456Z"
   },
   {
    "duration": 8,
    "start_time": "2022-05-22T07:00:25.481Z"
   },
   {
    "duration": 61,
    "start_time": "2022-05-23T07:03:11.708Z"
   },
   {
    "duration": 1662,
    "start_time": "2022-05-23T07:03:17.461Z"
   },
   {
    "duration": 189,
    "start_time": "2022-05-23T07:03:19.125Z"
   },
   {
    "duration": 15,
    "start_time": "2022-05-23T07:03:19.315Z"
   },
   {
    "duration": 18,
    "start_time": "2022-05-23T07:03:19.332Z"
   },
   {
    "duration": 17,
    "start_time": "2022-05-23T07:03:19.352Z"
   },
   {
    "duration": 35,
    "start_time": "2022-05-23T07:03:19.371Z"
   },
   {
    "duration": 21,
    "start_time": "2022-05-23T07:03:19.408Z"
   },
   {
    "duration": 35,
    "start_time": "2022-05-23T07:03:19.431Z"
   },
   {
    "duration": 39,
    "start_time": "2022-05-23T07:03:19.468Z"
   },
   {
    "duration": 175,
    "start_time": "2022-05-23T07:03:19.510Z"
   },
   {
    "duration": 22,
    "start_time": "2022-05-23T07:03:19.687Z"
   },
   {
    "duration": 5,
    "start_time": "2022-05-23T07:03:19.711Z"
   },
   {
    "duration": 349,
    "start_time": "2022-05-23T07:03:19.718Z"
   },
   {
    "duration": 16,
    "start_time": "2022-05-23T07:03:20.069Z"
   },
   {
    "duration": 120,
    "start_time": "2022-05-23T07:03:20.086Z"
   },
   {
    "duration": 79,
    "start_time": "2022-05-23T07:03:20.208Z"
   },
   {
    "duration": 0,
    "start_time": "2022-05-23T07:03:20.289Z"
   },
   {
    "duration": 0,
    "start_time": "2022-05-23T07:03:20.290Z"
   },
   {
    "duration": 0,
    "start_time": "2022-05-23T07:03:20.291Z"
   },
   {
    "duration": 0,
    "start_time": "2022-05-23T07:03:20.292Z"
   },
   {
    "duration": 0,
    "start_time": "2022-05-23T07:03:20.302Z"
   },
   {
    "duration": 0,
    "start_time": "2022-05-23T07:03:20.304Z"
   },
   {
    "duration": 0,
    "start_time": "2022-05-23T07:03:20.305Z"
   },
   {
    "duration": 0,
    "start_time": "2022-05-23T07:03:20.307Z"
   },
   {
    "duration": 0,
    "start_time": "2022-05-23T07:03:20.308Z"
   },
   {
    "duration": 0,
    "start_time": "2022-05-23T07:03:20.310Z"
   },
   {
    "duration": 0,
    "start_time": "2022-05-23T07:03:20.311Z"
   },
   {
    "duration": 0,
    "start_time": "2022-05-23T07:03:20.313Z"
   },
   {
    "duration": 0,
    "start_time": "2022-05-23T07:03:20.314Z"
   },
   {
    "duration": 0,
    "start_time": "2022-05-23T07:03:20.316Z"
   },
   {
    "duration": 1,
    "start_time": "2022-05-23T07:03:20.317Z"
   },
   {
    "duration": 0,
    "start_time": "2022-05-23T07:03:20.319Z"
   },
   {
    "duration": 0,
    "start_time": "2022-05-23T07:03:20.321Z"
   },
   {
    "duration": 0,
    "start_time": "2022-05-23T07:03:20.322Z"
   },
   {
    "duration": 0,
    "start_time": "2022-05-23T07:03:20.324Z"
   },
   {
    "duration": 0,
    "start_time": "2022-05-23T07:03:20.326Z"
   },
   {
    "duration": 0,
    "start_time": "2022-05-23T07:03:20.328Z"
   },
   {
    "duration": 20,
    "start_time": "2022-05-23T07:05:39.483Z"
   },
   {
    "duration": 23,
    "start_time": "2022-05-23T07:07:04.983Z"
   },
   {
    "duration": 115,
    "start_time": "2022-05-23T07:07:22.107Z"
   },
   {
    "duration": 15,
    "start_time": "2022-05-23T07:08:24.827Z"
   },
   {
    "duration": 18,
    "start_time": "2022-05-23T07:09:20.782Z"
   },
   {
    "duration": 10,
    "start_time": "2022-05-23T07:09:48.030Z"
   },
   {
    "duration": 15,
    "start_time": "2022-05-23T07:13:45.956Z"
   },
   {
    "duration": 20,
    "start_time": "2022-05-23T07:17:32.495Z"
   },
   {
    "duration": 49,
    "start_time": "2022-05-23T07:22:46.473Z"
   },
   {
    "duration": 10,
    "start_time": "2022-05-23T07:23:10.126Z"
   },
   {
    "duration": 543,
    "start_time": "2022-05-23T07:23:19.287Z"
   },
   {
    "duration": 536,
    "start_time": "2022-05-23T07:23:59.419Z"
   },
   {
    "duration": 640,
    "start_time": "2022-05-23T07:24:09.226Z"
   },
   {
    "duration": 78,
    "start_time": "2022-05-23T07:24:25.285Z"
   },
   {
    "duration": 599,
    "start_time": "2022-05-23T07:24:41.441Z"
   },
   {
    "duration": 18,
    "start_time": "2022-05-23T07:29:15.831Z"
   },
   {
    "duration": 457,
    "start_time": "2022-05-23T07:31:46.678Z"
   },
   {
    "duration": 598,
    "start_time": "2022-05-23T07:32:11.410Z"
   },
   {
    "duration": 111,
    "start_time": "2022-05-23T07:36:24.646Z"
   },
   {
    "duration": 548,
    "start_time": "2022-05-23T07:36:40.798Z"
   }
  ],
  "kernelspec": {
   "display_name": "Python 3 (ipykernel)",
   "language": "python",
   "name": "python3"
  },
  "language_info": {
   "codemirror_mode": {
    "name": "ipython",
    "version": 3
   },
   "file_extension": ".py",
   "mimetype": "text/x-python",
   "name": "python",
   "nbconvert_exporter": "python",
   "pygments_lexer": "ipython3",
   "version": "3.9.5"
  },
  "toc": {
   "base_numbering": 1,
   "nav_menu": {},
   "number_sections": true,
   "sideBar": true,
   "skip_h1_title": true,
   "title_cell": "Table of Contents",
   "title_sidebar": "Contents",
   "toc_cell": false,
   "toc_position": {},
   "toc_section_display": true,
   "toc_window_display": false
  }
 },
 "nbformat": 4,
 "nbformat_minor": 2
}
