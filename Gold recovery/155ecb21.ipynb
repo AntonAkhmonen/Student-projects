{
 "cells": [
  {
   "cell_type": "markdown",
   "metadata": {
    "toc": true
   },
   "source": [
    "<h1>Содержание<span class=\"tocSkip\"></span></h1>\n",
    "<div class=\"toc\"><ul class=\"toc-item\"><li><ul class=\"toc-item\"><li><span><a href=\"#-Комментарий-ревьюера-v2\" data-toc-modified-id=\"-Комментарий-ревьюера-v2-0.1\"><span class=\"toc-item-num\">0.1&nbsp;&nbsp;</span> Комментарий ревьюера v2</a></span></li></ul></li><li><span><a href=\"#Подготовка-данных\" data-toc-modified-id=\"Подготовка-данных-1\"><span class=\"toc-item-num\">1&nbsp;&nbsp;</span>Подготовка данных</a></span><ul class=\"toc-item\"><li><span><a href=\"#-Комментарий-ревьюера-v1\" data-toc-modified-id=\"-Комментарий-ревьюера-v1-1.1\"><span class=\"toc-item-num\">1.1&nbsp;&nbsp;</span> Комментарий ревьюера v1</a></span><ul class=\"toc-item\"><li><span><a href=\"#Комментарий-студента\" data-toc-modified-id=\"Комментарий-студента-1.1.1\"><span class=\"toc-item-num\">1.1.1&nbsp;&nbsp;</span>Комментарий студента</a></span></li></ul></li><li><span><a href=\"#-Комментарий-ревьюера-v2\" data-toc-modified-id=\"-Комментарий-ревьюера-v2-1.2\"><span class=\"toc-item-num\">1.2&nbsp;&nbsp;</span> Комментарий ревьюера v2</a></span></li></ul></li><li><span><a href=\"#Анализ-данных\" data-toc-modified-id=\"Анализ-данных-2\"><span class=\"toc-item-num\">2&nbsp;&nbsp;</span>Анализ данных</a></span><ul class=\"toc-item\"><li><span><a href=\"#-Комментарий-ревьюера-v1\" data-toc-modified-id=\"-Комментарий-ревьюера-v1-2.1\"><span class=\"toc-item-num\">2.1&nbsp;&nbsp;</span> Комментарий ревьюера v1</a></span></li><li><span><a href=\"#-Комментарий-ревьюера-v1\" data-toc-modified-id=\"-Комментарий-ревьюера-v1-2.2\"><span class=\"toc-item-num\">2.2&nbsp;&nbsp;</span> Комментарий ревьюера v1</a></span><ul class=\"toc-item\"><li><span><a href=\"#Комментарий-студента\" data-toc-modified-id=\"Комментарий-студента-2.2.1\"><span class=\"toc-item-num\">2.2.1&nbsp;&nbsp;</span>Комментарий студента</a></span></li></ul></li><li><span><a href=\"#-Комментарий-ревьюера-v1\" data-toc-modified-id=\"-Комментарий-ревьюера-v1-2.3\"><span class=\"toc-item-num\">2.3&nbsp;&nbsp;</span> Комментарий ревьюера v1</a></span><ul class=\"toc-item\"><li><span><a href=\"#Комментарий-студента\" data-toc-modified-id=\"Комментарий-студента-2.3.1\"><span class=\"toc-item-num\">2.3.1&nbsp;&nbsp;</span>Комментарий студента</a></span></li></ul></li><li><span><a href=\"#-Комментарий-ревьюера-v2\" data-toc-modified-id=\"-Комментарий-ревьюера-v2-2.4\"><span class=\"toc-item-num\">2.4&nbsp;&nbsp;</span> Комментарий ревьюера v2</a></span><ul class=\"toc-item\"><li><span><a href=\"#Комментарий-студента\" data-toc-modified-id=\"Комментарий-студента-2.4.1\"><span class=\"toc-item-num\">2.4.1&nbsp;&nbsp;</span>Комментарий студента</a></span></li></ul></li></ul></li><li><span><a href=\"#Модель\" data-toc-modified-id=\"Модель-3\"><span class=\"toc-item-num\">3&nbsp;&nbsp;</span>Модель</a></span><ul class=\"toc-item\"><li><span><a href=\"#-Комментарий-ревьюера-v1\" data-toc-modified-id=\"-Комментарий-ревьюера-v1-3.1\"><span class=\"toc-item-num\">3.1&nbsp;&nbsp;</span> Комментарий ревьюера v1</a></span></li><li><span><a href=\"#-Комментарий-ревьюера-v1\" data-toc-modified-id=\"-Комментарий-ревьюера-v1-3.2\"><span class=\"toc-item-num\">3.2&nbsp;&nbsp;</span> Комментарий ревьюера v1</a></span><ul class=\"toc-item\"><li><span><a href=\"#Комментарий-студента\" data-toc-modified-id=\"Комментарий-студента-3.2.1\"><span class=\"toc-item-num\">3.2.1&nbsp;&nbsp;</span>Комментарий студента</a></span></li></ul></li><li><span><a href=\"#-Комментарий-ревьюера-v2\" data-toc-modified-id=\"-Комментарий-ревьюера-v2-3.3\"><span class=\"toc-item-num\">3.3&nbsp;&nbsp;</span> Комментарий ревьюера v2</a></span><ul class=\"toc-item\"><li><span><a href=\"#Комментарий-студента\" data-toc-modified-id=\"Комментарий-студента-3.3.1\"><span class=\"toc-item-num\">3.3.1&nbsp;&nbsp;</span>Комментарий студента</a></span></li></ul></li><li><span><a href=\"#-Комментарий-ревьюера-v3\" data-toc-modified-id=\"-Комментарий-ревьюера-v3-3.4\"><span class=\"toc-item-num\">3.4&nbsp;&nbsp;</span> Комментарий ревьюера v3</a></span></li><li><span><a href=\"#-Комментарий-ревьюера-v1\" data-toc-modified-id=\"-Комментарий-ревьюера-v1-3.5\"><span class=\"toc-item-num\">3.5&nbsp;&nbsp;</span> Комментарий ревьюера v1</a></span><ul class=\"toc-item\"><li><span><a href=\"#Комментарий-студента\" data-toc-modified-id=\"Комментарий-студента-3.5.1\"><span class=\"toc-item-num\">3.5.1&nbsp;&nbsp;</span>Комментарий студента</a></span></li></ul></li><li><span><a href=\"#-Комментарий-ревьюера-v1\" data-toc-modified-id=\"-Комментарий-ревьюера-v1-3.6\"><span class=\"toc-item-num\">3.6&nbsp;&nbsp;</span> Комментарий ревьюера v1</a></span><ul class=\"toc-item\"><li><span><a href=\"#Комментарий-студента\" data-toc-modified-id=\"Комментарий-студента-3.6.1\"><span class=\"toc-item-num\">3.6.1&nbsp;&nbsp;</span>Комментарий студента</a></span></li></ul></li><li><span><a href=\"#-Комментарий-ревьюера-v2\" data-toc-modified-id=\"-Комментарий-ревьюера-v2-3.7\"><span class=\"toc-item-num\">3.7&nbsp;&nbsp;</span> Комментарий ревьюера v2</a></span><ul class=\"toc-item\"><li><span><a href=\"#Комментарий-студента\" data-toc-modified-id=\"Комментарий-студента-3.7.1\"><span class=\"toc-item-num\">3.7.1&nbsp;&nbsp;</span>Комментарий студента</a></span></li></ul></li><li><span><a href=\"#-Комментарий-ревьюера-v1\" data-toc-modified-id=\"-Комментарий-ревьюера-v1-3.8\"><span class=\"toc-item-num\">3.8&nbsp;&nbsp;</span> Комментарий ревьюера v1</a></span><ul class=\"toc-item\"><li><span><a href=\"#Комментарий-студента\" data-toc-modified-id=\"Комментарий-студента-3.8.1\"><span class=\"toc-item-num\">3.8.1&nbsp;&nbsp;</span>Комментарий студента</a></span></li></ul></li><li><span><a href=\"#-Комментарий-ревьюера-v2\" data-toc-modified-id=\"-Комментарий-ревьюера-v2-3.9\"><span class=\"toc-item-num\">3.9&nbsp;&nbsp;</span> Комментарий ревьюера v2</a></span><ul class=\"toc-item\"><li><span><a href=\"#Комментарий-студента\" data-toc-modified-id=\"Комментарий-студента-3.9.1\"><span class=\"toc-item-num\">3.9.1&nbsp;&nbsp;</span>Комментарий студента</a></span></li></ul></li><li><span><a href=\"#-Комментарий-ревьюера-v1\" data-toc-modified-id=\"-Комментарий-ревьюера-v1-3.10\"><span class=\"toc-item-num\">3.10&nbsp;&nbsp;</span> Комментарий ревьюера v1</a></span></li><li><span><a href=\"#-Комментарий-ревьюера-v3\" data-toc-modified-id=\"-Комментарий-ревьюера-v3-3.11\"><span class=\"toc-item-num\">3.11&nbsp;&nbsp;</span> Комментарий ревьюера v3</a></span><ul class=\"toc-item\"><li><span><a href=\"#Комментарий-студента\" data-toc-modified-id=\"Комментарий-студента-3.11.1\"><span class=\"toc-item-num\">3.11.1&nbsp;&nbsp;</span>Комментарий студента</a></span></li></ul></li><li><span><a href=\"#-Комментарий-ревьюера-v3\" data-toc-modified-id=\"-Комментарий-ревьюера-v3-3.12\"><span class=\"toc-item-num\">3.12&nbsp;&nbsp;</span> Комментарий ревьюера v3</a></span><ul class=\"toc-item\"><li><span><a href=\"#Комментарий-студента\" data-toc-modified-id=\"Комментарий-студента-3.12.1\"><span class=\"toc-item-num\">3.12.1&nbsp;&nbsp;</span>Комментарий студента</a></span></li></ul></li><li><span><a href=\"#-Комментарий-ревьюера-v4\" data-toc-modified-id=\"-Комментарий-ревьюера-v4-3.13\"><span class=\"toc-item-num\">3.13&nbsp;&nbsp;</span> Комментарий ревьюера v4</a></span></li><li><span><a href=\"#-Комментарий-ревьюера-v1\" data-toc-modified-id=\"-Комментарий-ревьюера-v1-3.14\"><span class=\"toc-item-num\">3.14&nbsp;&nbsp;</span> Комментарий ревьюера v1</a></span><ul class=\"toc-item\"><li><span><a href=\"#Комментарий-студента\" data-toc-modified-id=\"Комментарий-студента-3.14.1\"><span class=\"toc-item-num\">3.14.1&nbsp;&nbsp;</span>Комментарий студента</a></span></li></ul></li><li><span><a href=\"#-Комментарий-ревьюера-v2\" data-toc-modified-id=\"-Комментарий-ревьюера-v2-3.15\"><span class=\"toc-item-num\">3.15&nbsp;&nbsp;</span> Комментарий ревьюера v2</a></span><ul class=\"toc-item\"><li><span><a href=\"#Комментарий-студента\" data-toc-modified-id=\"Комментарий-студента-3.15.1\"><span class=\"toc-item-num\">3.15.1&nbsp;&nbsp;</span>Комментарий студента</a></span></li></ul></li><li><span><a href=\"#-Комментарий-ревьюера-v1\" data-toc-modified-id=\"-Комментарий-ревьюера-v1-3.16\"><span class=\"toc-item-num\">3.16&nbsp;&nbsp;</span> Комментарий ревьюера v1</a></span></li></ul></li><li><span><a href=\"#Чек-лист-готовности-проекта\" data-toc-modified-id=\"Чек-лист-готовности-проекта-4\"><span class=\"toc-item-num\">4&nbsp;&nbsp;</span>Чек-лист готовности проекта</a></span><ul class=\"toc-item\"><li><span><a href=\"#-Комментарий-ревьюера-v4\" data-toc-modified-id=\"-Комментарий-ревьюера-v4-4.1\"><span class=\"toc-item-num\">4.1&nbsp;&nbsp;</span> Комментарий ревьюера v4</a></span></li></ul></li></ul></div>"
   ]
  },
  {
   "cell_type": "markdown",
   "metadata": {},
   "source": [
    "# Восстановление золота из руды"
   ]
  },
  {
   "cell_type": "markdown",
   "metadata": {},
   "source": [
    "Подготовьте прототип модели машинного обучения для «Цифры». Компания разрабатывает решения для эффективной работы промышленных предприятий.\n",
    "\n",
    "Модель должна предсказать коэффициент восстановления золота из золотосодержащей руды. Используйте данные с параметрами добычи и очистки. \n",
    "\n",
    "Модель поможет оптимизировать производство, чтобы не запускать предприятие с убыточными характеристиками.\n",
    "\n",
    "Вам нужно:\n",
    "\n",
    "1. Подготовить данные;\n",
    "2. Провести исследовательский анализ данных;\n",
    "3. Построить и обучить модель.\n",
    "\n",
    "Чтобы выполнить проект, обращайтесь к библиотекам *pandas*, *matplotlib* и *sklearn.* Вам поможет их документация."
   ]
  },
  {
   "cell_type": "markdown",
   "metadata": {},
   "source": [
    "## Подготовка данных"
   ]
  },
  {
   "cell_type": "code",
   "execution_count": 589,
   "metadata": {},
   "outputs": [],
   "source": [
    "import pandas as pd\n",
    "from sklearn.model_selection import train_test_split\n",
    "from sklearn.model_selection import cross_val_score\n",
    "from sklearn.tree import DecisionTreeRegressor\n",
    "from sklearn.ensemble import RandomForestRegressor\n",
    "from sklearn.linear_model import LinearRegression\n",
    "from sklearn.metrics import mean_squared_error\n",
    "from sklearn.metrics import mean_absolute_error\n",
    "from scipy import stats as st\n",
    "import numpy as np\n",
    "from numpy.random import RandomState\n",
    "from sklearn.metrics import make_scorer\n",
    "from sklearn.dummy import DummyRegressor"
   ]
  },
  {
   "cell_type": "markdown",
   "metadata": {},
   "source": [
    "Импорт библиотек"
   ]
  },
  {
   "cell_type": "code",
   "execution_count": 590,
   "metadata": {},
   "outputs": [
    {
     "data": {
      "text/html": [
       "<div>\n",
       "<style scoped>\n",
       "    .dataframe tbody tr th:only-of-type {\n",
       "        vertical-align: middle;\n",
       "    }\n",
       "\n",
       "    .dataframe tbody tr th {\n",
       "        vertical-align: top;\n",
       "    }\n",
       "\n",
       "    .dataframe thead th {\n",
       "        text-align: right;\n",
       "    }\n",
       "</style>\n",
       "<table border=\"1\" class=\"dataframe\">\n",
       "  <thead>\n",
       "    <tr style=\"text-align: right;\">\n",
       "      <th></th>\n",
       "      <th>date</th>\n",
       "      <th>final.output.concentrate_ag</th>\n",
       "      <th>final.output.concentrate_pb</th>\n",
       "      <th>final.output.concentrate_sol</th>\n",
       "      <th>final.output.concentrate_au</th>\n",
       "      <th>final.output.recovery</th>\n",
       "      <th>final.output.tail_ag</th>\n",
       "      <th>final.output.tail_pb</th>\n",
       "      <th>final.output.tail_sol</th>\n",
       "      <th>final.output.tail_au</th>\n",
       "      <th>...</th>\n",
       "      <th>secondary_cleaner.state.floatbank4_a_air</th>\n",
       "      <th>secondary_cleaner.state.floatbank4_a_level</th>\n",
       "      <th>secondary_cleaner.state.floatbank4_b_air</th>\n",
       "      <th>secondary_cleaner.state.floatbank4_b_level</th>\n",
       "      <th>secondary_cleaner.state.floatbank5_a_air</th>\n",
       "      <th>secondary_cleaner.state.floatbank5_a_level</th>\n",
       "      <th>secondary_cleaner.state.floatbank5_b_air</th>\n",
       "      <th>secondary_cleaner.state.floatbank5_b_level</th>\n",
       "      <th>secondary_cleaner.state.floatbank6_a_air</th>\n",
       "      <th>secondary_cleaner.state.floatbank6_a_level</th>\n",
       "    </tr>\n",
       "  </thead>\n",
       "  <tbody>\n",
       "    <tr>\n",
       "      <th>0</th>\n",
       "      <td>2016-01-15 00:00:00</td>\n",
       "      <td>6.055403</td>\n",
       "      <td>9.889648</td>\n",
       "      <td>5.507324</td>\n",
       "      <td>42.192020</td>\n",
       "      <td>70.541216</td>\n",
       "      <td>10.411962</td>\n",
       "      <td>0.895447</td>\n",
       "      <td>16.904297</td>\n",
       "      <td>2.143149</td>\n",
       "      <td>...</td>\n",
       "      <td>14.016835</td>\n",
       "      <td>-502.488007</td>\n",
       "      <td>12.099931</td>\n",
       "      <td>-504.715942</td>\n",
       "      <td>9.925633</td>\n",
       "      <td>-498.310211</td>\n",
       "      <td>8.079666</td>\n",
       "      <td>-500.470978</td>\n",
       "      <td>14.151341</td>\n",
       "      <td>-605.841980</td>\n",
       "    </tr>\n",
       "    <tr>\n",
       "      <th>1</th>\n",
       "      <td>2016-01-15 01:00:00</td>\n",
       "      <td>6.029369</td>\n",
       "      <td>9.968944</td>\n",
       "      <td>5.257781</td>\n",
       "      <td>42.701629</td>\n",
       "      <td>69.266198</td>\n",
       "      <td>10.462676</td>\n",
       "      <td>0.927452</td>\n",
       "      <td>16.634514</td>\n",
       "      <td>2.224930</td>\n",
       "      <td>...</td>\n",
       "      <td>13.992281</td>\n",
       "      <td>-505.503262</td>\n",
       "      <td>11.950531</td>\n",
       "      <td>-501.331529</td>\n",
       "      <td>10.039245</td>\n",
       "      <td>-500.169983</td>\n",
       "      <td>7.984757</td>\n",
       "      <td>-500.582168</td>\n",
       "      <td>13.998353</td>\n",
       "      <td>-599.787184</td>\n",
       "    </tr>\n",
       "    <tr>\n",
       "      <th>2</th>\n",
       "      <td>2016-01-15 02:00:00</td>\n",
       "      <td>6.055926</td>\n",
       "      <td>10.213995</td>\n",
       "      <td>5.383759</td>\n",
       "      <td>42.657501</td>\n",
       "      <td>68.116445</td>\n",
       "      <td>10.507046</td>\n",
       "      <td>0.953716</td>\n",
       "      <td>16.208849</td>\n",
       "      <td>2.257889</td>\n",
       "      <td>...</td>\n",
       "      <td>14.015015</td>\n",
       "      <td>-502.520901</td>\n",
       "      <td>11.912783</td>\n",
       "      <td>-501.133383</td>\n",
       "      <td>10.070913</td>\n",
       "      <td>-500.129135</td>\n",
       "      <td>8.013877</td>\n",
       "      <td>-500.517572</td>\n",
       "      <td>14.028663</td>\n",
       "      <td>-601.427363</td>\n",
       "    </tr>\n",
       "    <tr>\n",
       "      <th>3</th>\n",
       "      <td>2016-01-15 03:00:00</td>\n",
       "      <td>6.047977</td>\n",
       "      <td>9.977019</td>\n",
       "      <td>4.858634</td>\n",
       "      <td>42.689819</td>\n",
       "      <td>68.347543</td>\n",
       "      <td>10.422762</td>\n",
       "      <td>0.883763</td>\n",
       "      <td>16.532835</td>\n",
       "      <td>2.146849</td>\n",
       "      <td>...</td>\n",
       "      <td>14.036510</td>\n",
       "      <td>-500.857308</td>\n",
       "      <td>11.999550</td>\n",
       "      <td>-501.193686</td>\n",
       "      <td>9.970366</td>\n",
       "      <td>-499.201640</td>\n",
       "      <td>7.977324</td>\n",
       "      <td>-500.255908</td>\n",
       "      <td>14.005551</td>\n",
       "      <td>-599.996129</td>\n",
       "    </tr>\n",
       "    <tr>\n",
       "      <th>4</th>\n",
       "      <td>2016-01-15 04:00:00</td>\n",
       "      <td>6.148599</td>\n",
       "      <td>10.142511</td>\n",
       "      <td>4.939416</td>\n",
       "      <td>42.774141</td>\n",
       "      <td>66.927016</td>\n",
       "      <td>10.360302</td>\n",
       "      <td>0.792826</td>\n",
       "      <td>16.525686</td>\n",
       "      <td>2.055292</td>\n",
       "      <td>...</td>\n",
       "      <td>14.027298</td>\n",
       "      <td>-499.838632</td>\n",
       "      <td>11.953070</td>\n",
       "      <td>-501.053894</td>\n",
       "      <td>9.925709</td>\n",
       "      <td>-501.686727</td>\n",
       "      <td>7.894242</td>\n",
       "      <td>-500.356035</td>\n",
       "      <td>13.996647</td>\n",
       "      <td>-601.496691</td>\n",
       "    </tr>\n",
       "  </tbody>\n",
       "</table>\n",
       "<p>5 rows × 87 columns</p>\n",
       "</div>"
      ],
      "text/plain": [
       "                  date  final.output.concentrate_ag  \\\n",
       "0  2016-01-15 00:00:00                     6.055403   \n",
       "1  2016-01-15 01:00:00                     6.029369   \n",
       "2  2016-01-15 02:00:00                     6.055926   \n",
       "3  2016-01-15 03:00:00                     6.047977   \n",
       "4  2016-01-15 04:00:00                     6.148599   \n",
       "\n",
       "   final.output.concentrate_pb  final.output.concentrate_sol  \\\n",
       "0                     9.889648                      5.507324   \n",
       "1                     9.968944                      5.257781   \n",
       "2                    10.213995                      5.383759   \n",
       "3                     9.977019                      4.858634   \n",
       "4                    10.142511                      4.939416   \n",
       "\n",
       "   final.output.concentrate_au  final.output.recovery  final.output.tail_ag  \\\n",
       "0                    42.192020              70.541216             10.411962   \n",
       "1                    42.701629              69.266198             10.462676   \n",
       "2                    42.657501              68.116445             10.507046   \n",
       "3                    42.689819              68.347543             10.422762   \n",
       "4                    42.774141              66.927016             10.360302   \n",
       "\n",
       "   final.output.tail_pb  final.output.tail_sol  final.output.tail_au  ...  \\\n",
       "0              0.895447              16.904297              2.143149  ...   \n",
       "1              0.927452              16.634514              2.224930  ...   \n",
       "2              0.953716              16.208849              2.257889  ...   \n",
       "3              0.883763              16.532835              2.146849  ...   \n",
       "4              0.792826              16.525686              2.055292  ...   \n",
       "\n",
       "   secondary_cleaner.state.floatbank4_a_air  \\\n",
       "0                                 14.016835   \n",
       "1                                 13.992281   \n",
       "2                                 14.015015   \n",
       "3                                 14.036510   \n",
       "4                                 14.027298   \n",
       "\n",
       "   secondary_cleaner.state.floatbank4_a_level  \\\n",
       "0                                 -502.488007   \n",
       "1                                 -505.503262   \n",
       "2                                 -502.520901   \n",
       "3                                 -500.857308   \n",
       "4                                 -499.838632   \n",
       "\n",
       "   secondary_cleaner.state.floatbank4_b_air  \\\n",
       "0                                 12.099931   \n",
       "1                                 11.950531   \n",
       "2                                 11.912783   \n",
       "3                                 11.999550   \n",
       "4                                 11.953070   \n",
       "\n",
       "   secondary_cleaner.state.floatbank4_b_level  \\\n",
       "0                                 -504.715942   \n",
       "1                                 -501.331529   \n",
       "2                                 -501.133383   \n",
       "3                                 -501.193686   \n",
       "4                                 -501.053894   \n",
       "\n",
       "   secondary_cleaner.state.floatbank5_a_air  \\\n",
       "0                                  9.925633   \n",
       "1                                 10.039245   \n",
       "2                                 10.070913   \n",
       "3                                  9.970366   \n",
       "4                                  9.925709   \n",
       "\n",
       "   secondary_cleaner.state.floatbank5_a_level  \\\n",
       "0                                 -498.310211   \n",
       "1                                 -500.169983   \n",
       "2                                 -500.129135   \n",
       "3                                 -499.201640   \n",
       "4                                 -501.686727   \n",
       "\n",
       "   secondary_cleaner.state.floatbank5_b_air  \\\n",
       "0                                  8.079666   \n",
       "1                                  7.984757   \n",
       "2                                  8.013877   \n",
       "3                                  7.977324   \n",
       "4                                  7.894242   \n",
       "\n",
       "   secondary_cleaner.state.floatbank5_b_level  \\\n",
       "0                                 -500.470978   \n",
       "1                                 -500.582168   \n",
       "2                                 -500.517572   \n",
       "3                                 -500.255908   \n",
       "4                                 -500.356035   \n",
       "\n",
       "   secondary_cleaner.state.floatbank6_a_air  \\\n",
       "0                                 14.151341   \n",
       "1                                 13.998353   \n",
       "2                                 14.028663   \n",
       "3                                 14.005551   \n",
       "4                                 13.996647   \n",
       "\n",
       "   secondary_cleaner.state.floatbank6_a_level  \n",
       "0                                 -605.841980  \n",
       "1                                 -599.787184  \n",
       "2                                 -601.427363  \n",
       "3                                 -599.996129  \n",
       "4                                 -601.496691  \n",
       "\n",
       "[5 rows x 87 columns]"
      ]
     },
     "execution_count": 590,
     "metadata": {},
     "output_type": "execute_result"
    }
   ],
   "source": [
    "train = pd.read_csv('/datasets/gold_recovery_train_new.csv')\n",
    "train.head()"
   ]
  },
  {
   "cell_type": "code",
   "execution_count": 591,
   "metadata": {},
   "outputs": [
    {
     "name": "stdout",
     "output_type": "stream",
     "text": [
      "<class 'pandas.core.frame.DataFrame'>\n",
      "RangeIndex: 14149 entries, 0 to 14148\n",
      "Data columns (total 87 columns):\n",
      " #   Column                                              Non-Null Count  Dtype  \n",
      "---  ------                                              --------------  -----  \n",
      " 0   date                                                14149 non-null  object \n",
      " 1   final.output.concentrate_ag                         14148 non-null  float64\n",
      " 2   final.output.concentrate_pb                         14148 non-null  float64\n",
      " 3   final.output.concentrate_sol                        13938 non-null  float64\n",
      " 4   final.output.concentrate_au                         14149 non-null  float64\n",
      " 5   final.output.recovery                               14149 non-null  float64\n",
      " 6   final.output.tail_ag                                14149 non-null  float64\n",
      " 7   final.output.tail_pb                                14049 non-null  float64\n",
      " 8   final.output.tail_sol                               14144 non-null  float64\n",
      " 9   final.output.tail_au                                14149 non-null  float64\n",
      " 10  primary_cleaner.input.sulfate                       14129 non-null  float64\n",
      " 11  primary_cleaner.input.depressant                    14117 non-null  float64\n",
      " 12  primary_cleaner.input.feed_size                     14149 non-null  float64\n",
      " 13  primary_cleaner.input.xanthate                      14049 non-null  float64\n",
      " 14  primary_cleaner.output.concentrate_ag               14149 non-null  float64\n",
      " 15  primary_cleaner.output.concentrate_pb               14063 non-null  float64\n",
      " 16  primary_cleaner.output.concentrate_sol              13863 non-null  float64\n",
      " 17  primary_cleaner.output.concentrate_au               14149 non-null  float64\n",
      " 18  primary_cleaner.output.tail_ag                      14148 non-null  float64\n",
      " 19  primary_cleaner.output.tail_pb                      14134 non-null  float64\n",
      " 20  primary_cleaner.output.tail_sol                     14103 non-null  float64\n",
      " 21  primary_cleaner.output.tail_au                      14149 non-null  float64\n",
      " 22  primary_cleaner.state.floatbank8_a_air              14145 non-null  float64\n",
      " 23  primary_cleaner.state.floatbank8_a_level            14148 non-null  float64\n",
      " 24  primary_cleaner.state.floatbank8_b_air              14145 non-null  float64\n",
      " 25  primary_cleaner.state.floatbank8_b_level            14148 non-null  float64\n",
      " 26  primary_cleaner.state.floatbank8_c_air              14147 non-null  float64\n",
      " 27  primary_cleaner.state.floatbank8_c_level            14148 non-null  float64\n",
      " 28  primary_cleaner.state.floatbank8_d_air              14146 non-null  float64\n",
      " 29  primary_cleaner.state.floatbank8_d_level            14148 non-null  float64\n",
      " 30  rougher.calculation.sulfate_to_au_concentrate       14148 non-null  float64\n",
      " 31  rougher.calculation.floatbank10_sulfate_to_au_feed  14148 non-null  float64\n",
      " 32  rougher.calculation.floatbank11_sulfate_to_au_feed  14148 non-null  float64\n",
      " 33  rougher.calculation.au_pb_ratio                     14149 non-null  float64\n",
      " 34  rougher.input.feed_ag                               14149 non-null  float64\n",
      " 35  rougher.input.feed_pb                               14049 non-null  float64\n",
      " 36  rougher.input.feed_rate                             14141 non-null  float64\n",
      " 37  rougher.input.feed_size                             14005 non-null  float64\n",
      " 38  rougher.input.feed_sol                              14071 non-null  float64\n",
      " 39  rougher.input.feed_au                               14149 non-null  float64\n",
      " 40  rougher.input.floatbank10_sulfate                   14120 non-null  float64\n",
      " 41  rougher.input.floatbank10_xanthate                  14141 non-null  float64\n",
      " 42  rougher.input.floatbank11_sulfate                   14113 non-null  float64\n",
      " 43  rougher.input.floatbank11_xanthate                  13721 non-null  float64\n",
      " 44  rougher.output.concentrate_ag                       14149 non-null  float64\n",
      " 45  rougher.output.concentrate_pb                       14149 non-null  float64\n",
      " 46  rougher.output.concentrate_sol                      14127 non-null  float64\n",
      " 47  rougher.output.concentrate_au                       14149 non-null  float64\n",
      " 48  rougher.output.recovery                             14149 non-null  float64\n",
      " 49  rougher.output.tail_ag                              14148 non-null  float64\n",
      " 50  rougher.output.tail_pb                              14149 non-null  float64\n",
      " 51  rougher.output.tail_sol                             14149 non-null  float64\n",
      " 52  rougher.output.tail_au                              14149 non-null  float64\n",
      " 53  rougher.state.floatbank10_a_air                     14148 non-null  float64\n",
      " 54  rougher.state.floatbank10_a_level                   14148 non-null  float64\n",
      " 55  rougher.state.floatbank10_b_air                     14148 non-null  float64\n",
      " 56  rougher.state.floatbank10_b_level                   14148 non-null  float64\n",
      " 57  rougher.state.floatbank10_c_air                     14148 non-null  float64\n",
      " 58  rougher.state.floatbank10_c_level                   14148 non-null  float64\n",
      " 59  rougher.state.floatbank10_d_air                     14149 non-null  float64\n",
      " 60  rougher.state.floatbank10_d_level                   14149 non-null  float64\n",
      " 61  rougher.state.floatbank10_e_air                     13713 non-null  float64\n",
      " 62  rougher.state.floatbank10_e_level                   14149 non-null  float64\n",
      " 63  rougher.state.floatbank10_f_air                     14149 non-null  float64\n",
      " 64  rougher.state.floatbank10_f_level                   14149 non-null  float64\n",
      " 65  secondary_cleaner.output.tail_ag                    14147 non-null  float64\n",
      " 66  secondary_cleaner.output.tail_pb                    14139 non-null  float64\n",
      " 67  secondary_cleaner.output.tail_sol                   12544 non-null  float64\n",
      " 68  secondary_cleaner.output.tail_au                    14149 non-null  float64\n",
      " 69  secondary_cleaner.state.floatbank2_a_air            13932 non-null  float64\n",
      " 70  secondary_cleaner.state.floatbank2_a_level          14148 non-null  float64\n",
      " 71  secondary_cleaner.state.floatbank2_b_air            14128 non-null  float64\n",
      " 72  secondary_cleaner.state.floatbank2_b_level          14148 non-null  float64\n",
      " 73  secondary_cleaner.state.floatbank3_a_air            14145 non-null  float64\n",
      " 74  secondary_cleaner.state.floatbank3_a_level          14148 non-null  float64\n",
      " 75  secondary_cleaner.state.floatbank3_b_air            14148 non-null  float64\n",
      " 76  secondary_cleaner.state.floatbank3_b_level          14148 non-null  float64\n",
      " 77  secondary_cleaner.state.floatbank4_a_air            14143 non-null  float64\n",
      " 78  secondary_cleaner.state.floatbank4_a_level          14148 non-null  float64\n",
      " 79  secondary_cleaner.state.floatbank4_b_air            14148 non-null  float64\n",
      " 80  secondary_cleaner.state.floatbank4_b_level          14148 non-null  float64\n",
      " 81  secondary_cleaner.state.floatbank5_a_air            14148 non-null  float64\n",
      " 82  secondary_cleaner.state.floatbank5_a_level          14148 non-null  float64\n",
      " 83  secondary_cleaner.state.floatbank5_b_air            14148 non-null  float64\n",
      " 84  secondary_cleaner.state.floatbank5_b_level          14148 non-null  float64\n",
      " 85  secondary_cleaner.state.floatbank6_a_air            14147 non-null  float64\n",
      " 86  secondary_cleaner.state.floatbank6_a_level          14148 non-null  float64\n",
      "dtypes: float64(86), object(1)\n",
      "memory usage: 9.4+ MB\n"
     ]
    }
   ],
   "source": [
    "train.info()"
   ]
  },
  {
   "cell_type": "markdown",
   "metadata": {},
   "source": [
    "Загрузка и первичное ознакомление с обучающей выборкой. Она состоит из 14 тысяч записей. В таблице есть несущественные пропуски данных. Формат данных подходящий за исключением колонки Date, которую имеет смысл перевести в формат даты"
   ]
  },
  {
   "cell_type": "code",
   "execution_count": 592,
   "metadata": {},
   "outputs": [],
   "source": [
    "train['date'] = pd.to_datetime(train['date'], format='%Y-%m-%d %H:%M:%S')"
   ]
  },
  {
   "cell_type": "markdown",
   "metadata": {},
   "source": [
    "Сделан перевод в формат даты"
   ]
  },
  {
   "cell_type": "code",
   "execution_count": 593,
   "metadata": {},
   "outputs": [
    {
     "data": {
      "text/html": [
       "<div>\n",
       "<style scoped>\n",
       "    .dataframe tbody tr th:only-of-type {\n",
       "        vertical-align: middle;\n",
       "    }\n",
       "\n",
       "    .dataframe tbody tr th {\n",
       "        vertical-align: top;\n",
       "    }\n",
       "\n",
       "    .dataframe thead th {\n",
       "        text-align: right;\n",
       "    }\n",
       "</style>\n",
       "<table border=\"1\" class=\"dataframe\">\n",
       "  <thead>\n",
       "    <tr style=\"text-align: right;\">\n",
       "      <th></th>\n",
       "      <th>date</th>\n",
       "      <th>primary_cleaner.input.sulfate</th>\n",
       "      <th>primary_cleaner.input.depressant</th>\n",
       "      <th>primary_cleaner.input.feed_size</th>\n",
       "      <th>primary_cleaner.input.xanthate</th>\n",
       "      <th>primary_cleaner.state.floatbank8_a_air</th>\n",
       "      <th>primary_cleaner.state.floatbank8_a_level</th>\n",
       "      <th>primary_cleaner.state.floatbank8_b_air</th>\n",
       "      <th>primary_cleaner.state.floatbank8_b_level</th>\n",
       "      <th>primary_cleaner.state.floatbank8_c_air</th>\n",
       "      <th>...</th>\n",
       "      <th>secondary_cleaner.state.floatbank4_a_air</th>\n",
       "      <th>secondary_cleaner.state.floatbank4_a_level</th>\n",
       "      <th>secondary_cleaner.state.floatbank4_b_air</th>\n",
       "      <th>secondary_cleaner.state.floatbank4_b_level</th>\n",
       "      <th>secondary_cleaner.state.floatbank5_a_air</th>\n",
       "      <th>secondary_cleaner.state.floatbank5_a_level</th>\n",
       "      <th>secondary_cleaner.state.floatbank5_b_air</th>\n",
       "      <th>secondary_cleaner.state.floatbank5_b_level</th>\n",
       "      <th>secondary_cleaner.state.floatbank6_a_air</th>\n",
       "      <th>secondary_cleaner.state.floatbank6_a_level</th>\n",
       "    </tr>\n",
       "  </thead>\n",
       "  <tbody>\n",
       "    <tr>\n",
       "      <th>0</th>\n",
       "      <td>2016-09-01 00:59:59</td>\n",
       "      <td>210.800909</td>\n",
       "      <td>14.993118</td>\n",
       "      <td>8.080000</td>\n",
       "      <td>1.005021</td>\n",
       "      <td>1398.981301</td>\n",
       "      <td>-500.225577</td>\n",
       "      <td>1399.144926</td>\n",
       "      <td>-499.919735</td>\n",
       "      <td>1400.102998</td>\n",
       "      <td>...</td>\n",
       "      <td>12.023554</td>\n",
       "      <td>-497.795834</td>\n",
       "      <td>8.016656</td>\n",
       "      <td>-501.289139</td>\n",
       "      <td>7.946562</td>\n",
       "      <td>-432.317850</td>\n",
       "      <td>4.872511</td>\n",
       "      <td>-500.037437</td>\n",
       "      <td>26.705889</td>\n",
       "      <td>-499.709414</td>\n",
       "    </tr>\n",
       "    <tr>\n",
       "      <th>1</th>\n",
       "      <td>2016-09-01 01:59:59</td>\n",
       "      <td>215.392455</td>\n",
       "      <td>14.987471</td>\n",
       "      <td>8.080000</td>\n",
       "      <td>0.990469</td>\n",
       "      <td>1398.777912</td>\n",
       "      <td>-500.057435</td>\n",
       "      <td>1398.055362</td>\n",
       "      <td>-499.778182</td>\n",
       "      <td>1396.151033</td>\n",
       "      <td>...</td>\n",
       "      <td>12.058140</td>\n",
       "      <td>-498.695773</td>\n",
       "      <td>8.130979</td>\n",
       "      <td>-499.634209</td>\n",
       "      <td>7.958270</td>\n",
       "      <td>-525.839648</td>\n",
       "      <td>4.878850</td>\n",
       "      <td>-500.162375</td>\n",
       "      <td>25.019940</td>\n",
       "      <td>-499.819438</td>\n",
       "    </tr>\n",
       "    <tr>\n",
       "      <th>2</th>\n",
       "      <td>2016-09-01 02:59:59</td>\n",
       "      <td>215.259946</td>\n",
       "      <td>12.884934</td>\n",
       "      <td>7.786667</td>\n",
       "      <td>0.996043</td>\n",
       "      <td>1398.493666</td>\n",
       "      <td>-500.868360</td>\n",
       "      <td>1398.860436</td>\n",
       "      <td>-499.764529</td>\n",
       "      <td>1398.075709</td>\n",
       "      <td>...</td>\n",
       "      <td>11.962366</td>\n",
       "      <td>-498.767484</td>\n",
       "      <td>8.096893</td>\n",
       "      <td>-500.827423</td>\n",
       "      <td>8.071056</td>\n",
       "      <td>-500.801673</td>\n",
       "      <td>4.905125</td>\n",
       "      <td>-499.828510</td>\n",
       "      <td>24.994862</td>\n",
       "      <td>-500.622559</td>\n",
       "    </tr>\n",
       "    <tr>\n",
       "      <th>3</th>\n",
       "      <td>2016-09-01 03:59:59</td>\n",
       "      <td>215.336236</td>\n",
       "      <td>12.006805</td>\n",
       "      <td>7.640000</td>\n",
       "      <td>0.863514</td>\n",
       "      <td>1399.618111</td>\n",
       "      <td>-498.863574</td>\n",
       "      <td>1397.440120</td>\n",
       "      <td>-499.211024</td>\n",
       "      <td>1400.129303</td>\n",
       "      <td>...</td>\n",
       "      <td>12.033091</td>\n",
       "      <td>-498.350935</td>\n",
       "      <td>8.074946</td>\n",
       "      <td>-499.474407</td>\n",
       "      <td>7.897085</td>\n",
       "      <td>-500.868509</td>\n",
       "      <td>4.931400</td>\n",
       "      <td>-499.963623</td>\n",
       "      <td>24.948919</td>\n",
       "      <td>-498.709987</td>\n",
       "    </tr>\n",
       "    <tr>\n",
       "      <th>4</th>\n",
       "      <td>2016-09-01 04:59:59</td>\n",
       "      <td>199.099327</td>\n",
       "      <td>10.682530</td>\n",
       "      <td>7.530000</td>\n",
       "      <td>0.805575</td>\n",
       "      <td>1401.268123</td>\n",
       "      <td>-500.808305</td>\n",
       "      <td>1398.128818</td>\n",
       "      <td>-499.504543</td>\n",
       "      <td>1402.172226</td>\n",
       "      <td>...</td>\n",
       "      <td>12.025367</td>\n",
       "      <td>-500.786497</td>\n",
       "      <td>8.054678</td>\n",
       "      <td>-500.397500</td>\n",
       "      <td>8.107890</td>\n",
       "      <td>-509.526725</td>\n",
       "      <td>4.957674</td>\n",
       "      <td>-500.360026</td>\n",
       "      <td>25.003331</td>\n",
       "      <td>-500.856333</td>\n",
       "    </tr>\n",
       "  </tbody>\n",
       "</table>\n",
       "<p>5 rows × 53 columns</p>\n",
       "</div>"
      ],
      "text/plain": [
       "                  date  primary_cleaner.input.sulfate  \\\n",
       "0  2016-09-01 00:59:59                     210.800909   \n",
       "1  2016-09-01 01:59:59                     215.392455   \n",
       "2  2016-09-01 02:59:59                     215.259946   \n",
       "3  2016-09-01 03:59:59                     215.336236   \n",
       "4  2016-09-01 04:59:59                     199.099327   \n",
       "\n",
       "   primary_cleaner.input.depressant  primary_cleaner.input.feed_size  \\\n",
       "0                         14.993118                         8.080000   \n",
       "1                         14.987471                         8.080000   \n",
       "2                         12.884934                         7.786667   \n",
       "3                         12.006805                         7.640000   \n",
       "4                         10.682530                         7.530000   \n",
       "\n",
       "   primary_cleaner.input.xanthate  primary_cleaner.state.floatbank8_a_air  \\\n",
       "0                        1.005021                             1398.981301   \n",
       "1                        0.990469                             1398.777912   \n",
       "2                        0.996043                             1398.493666   \n",
       "3                        0.863514                             1399.618111   \n",
       "4                        0.805575                             1401.268123   \n",
       "\n",
       "   primary_cleaner.state.floatbank8_a_level  \\\n",
       "0                               -500.225577   \n",
       "1                               -500.057435   \n",
       "2                               -500.868360   \n",
       "3                               -498.863574   \n",
       "4                               -500.808305   \n",
       "\n",
       "   primary_cleaner.state.floatbank8_b_air  \\\n",
       "0                             1399.144926   \n",
       "1                             1398.055362   \n",
       "2                             1398.860436   \n",
       "3                             1397.440120   \n",
       "4                             1398.128818   \n",
       "\n",
       "   primary_cleaner.state.floatbank8_b_level  \\\n",
       "0                               -499.919735   \n",
       "1                               -499.778182   \n",
       "2                               -499.764529   \n",
       "3                               -499.211024   \n",
       "4                               -499.504543   \n",
       "\n",
       "   primary_cleaner.state.floatbank8_c_air  ...  \\\n",
       "0                             1400.102998  ...   \n",
       "1                             1396.151033  ...   \n",
       "2                             1398.075709  ...   \n",
       "3                             1400.129303  ...   \n",
       "4                             1402.172226  ...   \n",
       "\n",
       "   secondary_cleaner.state.floatbank4_a_air  \\\n",
       "0                                 12.023554   \n",
       "1                                 12.058140   \n",
       "2                                 11.962366   \n",
       "3                                 12.033091   \n",
       "4                                 12.025367   \n",
       "\n",
       "   secondary_cleaner.state.floatbank4_a_level  \\\n",
       "0                                 -497.795834   \n",
       "1                                 -498.695773   \n",
       "2                                 -498.767484   \n",
       "3                                 -498.350935   \n",
       "4                                 -500.786497   \n",
       "\n",
       "   secondary_cleaner.state.floatbank4_b_air  \\\n",
       "0                                  8.016656   \n",
       "1                                  8.130979   \n",
       "2                                  8.096893   \n",
       "3                                  8.074946   \n",
       "4                                  8.054678   \n",
       "\n",
       "   secondary_cleaner.state.floatbank4_b_level  \\\n",
       "0                                 -501.289139   \n",
       "1                                 -499.634209   \n",
       "2                                 -500.827423   \n",
       "3                                 -499.474407   \n",
       "4                                 -500.397500   \n",
       "\n",
       "   secondary_cleaner.state.floatbank5_a_air  \\\n",
       "0                                  7.946562   \n",
       "1                                  7.958270   \n",
       "2                                  8.071056   \n",
       "3                                  7.897085   \n",
       "4                                  8.107890   \n",
       "\n",
       "   secondary_cleaner.state.floatbank5_a_level  \\\n",
       "0                                 -432.317850   \n",
       "1                                 -525.839648   \n",
       "2                                 -500.801673   \n",
       "3                                 -500.868509   \n",
       "4                                 -509.526725   \n",
       "\n",
       "   secondary_cleaner.state.floatbank5_b_air  \\\n",
       "0                                  4.872511   \n",
       "1                                  4.878850   \n",
       "2                                  4.905125   \n",
       "3                                  4.931400   \n",
       "4                                  4.957674   \n",
       "\n",
       "   secondary_cleaner.state.floatbank5_b_level  \\\n",
       "0                                 -500.037437   \n",
       "1                                 -500.162375   \n",
       "2                                 -499.828510   \n",
       "3                                 -499.963623   \n",
       "4                                 -500.360026   \n",
       "\n",
       "   secondary_cleaner.state.floatbank6_a_air  \\\n",
       "0                                 26.705889   \n",
       "1                                 25.019940   \n",
       "2                                 24.994862   \n",
       "3                                 24.948919   \n",
       "4                                 25.003331   \n",
       "\n",
       "   secondary_cleaner.state.floatbank6_a_level  \n",
       "0                                 -499.709414  \n",
       "1                                 -499.819438  \n",
       "2                                 -500.622559  \n",
       "3                                 -498.709987  \n",
       "4                                 -500.856333  \n",
       "\n",
       "[5 rows x 53 columns]"
      ]
     },
     "execution_count": 593,
     "metadata": {},
     "output_type": "execute_result"
    }
   ],
   "source": [
    "test = pd.read_csv('/datasets/gold_recovery_test_new.csv')\n",
    "test.head()"
   ]
  },
  {
   "cell_type": "code",
   "execution_count": 594,
   "metadata": {},
   "outputs": [
    {
     "name": "stdout",
     "output_type": "stream",
     "text": [
      "<class 'pandas.core.frame.DataFrame'>\n",
      "RangeIndex: 5290 entries, 0 to 5289\n",
      "Data columns (total 53 columns):\n",
      " #   Column                                      Non-Null Count  Dtype  \n",
      "---  ------                                      --------------  -----  \n",
      " 0   date                                        5290 non-null   object \n",
      " 1   primary_cleaner.input.sulfate               5286 non-null   float64\n",
      " 2   primary_cleaner.input.depressant            5285 non-null   float64\n",
      " 3   primary_cleaner.input.feed_size             5290 non-null   float64\n",
      " 4   primary_cleaner.input.xanthate              5286 non-null   float64\n",
      " 5   primary_cleaner.state.floatbank8_a_air      5290 non-null   float64\n",
      " 6   primary_cleaner.state.floatbank8_a_level    5290 non-null   float64\n",
      " 7   primary_cleaner.state.floatbank8_b_air      5290 non-null   float64\n",
      " 8   primary_cleaner.state.floatbank8_b_level    5290 non-null   float64\n",
      " 9   primary_cleaner.state.floatbank8_c_air      5290 non-null   float64\n",
      " 10  primary_cleaner.state.floatbank8_c_level    5290 non-null   float64\n",
      " 11  primary_cleaner.state.floatbank8_d_air      5290 non-null   float64\n",
      " 12  primary_cleaner.state.floatbank8_d_level    5290 non-null   float64\n",
      " 13  rougher.input.feed_ag                       5290 non-null   float64\n",
      " 14  rougher.input.feed_pb                       5290 non-null   float64\n",
      " 15  rougher.input.feed_rate                     5287 non-null   float64\n",
      " 16  rougher.input.feed_size                     5289 non-null   float64\n",
      " 17  rougher.input.feed_sol                      5269 non-null   float64\n",
      " 18  rougher.input.feed_au                       5290 non-null   float64\n",
      " 19  rougher.input.floatbank10_sulfate           5285 non-null   float64\n",
      " 20  rougher.input.floatbank10_xanthate          5290 non-null   float64\n",
      " 21  rougher.input.floatbank11_sulfate           5282 non-null   float64\n",
      " 22  rougher.input.floatbank11_xanthate          5265 non-null   float64\n",
      " 23  rougher.state.floatbank10_a_air             5290 non-null   float64\n",
      " 24  rougher.state.floatbank10_a_level           5290 non-null   float64\n",
      " 25  rougher.state.floatbank10_b_air             5290 non-null   float64\n",
      " 26  rougher.state.floatbank10_b_level           5290 non-null   float64\n",
      " 27  rougher.state.floatbank10_c_air             5290 non-null   float64\n",
      " 28  rougher.state.floatbank10_c_level           5290 non-null   float64\n",
      " 29  rougher.state.floatbank10_d_air             5290 non-null   float64\n",
      " 30  rougher.state.floatbank10_d_level           5290 non-null   float64\n",
      " 31  rougher.state.floatbank10_e_air             5290 non-null   float64\n",
      " 32  rougher.state.floatbank10_e_level           5290 non-null   float64\n",
      " 33  rougher.state.floatbank10_f_air             5290 non-null   float64\n",
      " 34  rougher.state.floatbank10_f_level           5290 non-null   float64\n",
      " 35  secondary_cleaner.state.floatbank2_a_air    5287 non-null   float64\n",
      " 36  secondary_cleaner.state.floatbank2_a_level  5290 non-null   float64\n",
      " 37  secondary_cleaner.state.floatbank2_b_air    5288 non-null   float64\n",
      " 38  secondary_cleaner.state.floatbank2_b_level  5290 non-null   float64\n",
      " 39  secondary_cleaner.state.floatbank3_a_air    5281 non-null   float64\n",
      " 40  secondary_cleaner.state.floatbank3_a_level  5290 non-null   float64\n",
      " 41  secondary_cleaner.state.floatbank3_b_air    5290 non-null   float64\n",
      " 42  secondary_cleaner.state.floatbank3_b_level  5290 non-null   float64\n",
      " 43  secondary_cleaner.state.floatbank4_a_air    5290 non-null   float64\n",
      " 44  secondary_cleaner.state.floatbank4_a_level  5290 non-null   float64\n",
      " 45  secondary_cleaner.state.floatbank4_b_air    5290 non-null   float64\n",
      " 46  secondary_cleaner.state.floatbank4_b_level  5290 non-null   float64\n",
      " 47  secondary_cleaner.state.floatbank5_a_air    5290 non-null   float64\n",
      " 48  secondary_cleaner.state.floatbank5_a_level  5290 non-null   float64\n",
      " 49  secondary_cleaner.state.floatbank5_b_air    5290 non-null   float64\n",
      " 50  secondary_cleaner.state.floatbank5_b_level  5290 non-null   float64\n",
      " 51  secondary_cleaner.state.floatbank6_a_air    5290 non-null   float64\n",
      " 52  secondary_cleaner.state.floatbank6_a_level  5290 non-null   float64\n",
      "dtypes: float64(52), object(1)\n",
      "memory usage: 2.1+ MB\n"
     ]
    }
   ],
   "source": [
    "test.info()"
   ]
  },
  {
   "cell_type": "markdown",
   "metadata": {},
   "source": [
    "Загрузка и первичное ознакомление с тестовой выборкой. Рекомендуемое соотношение между тестовой и \n",
    "обучающей выборкой в 3:1 соблюдено. По сравнению с обучающей выборкой отсутствуют следующие группы данных:\n",
    "- содержание золота и других полезных компонентов в концентрате, прошедшем все стадии технологического процесса\n",
    "- коэффициент извлечения\n",
    "- содержание золота и других полезных элементов в хвостах\n",
    "- аналогичные перечисленным выше показатели после флотации, первичной и вторичной очистки\n",
    "\n",
    "Формат данных подходящий за исключением колонки Date, которую также имеет смысл перевести в формат даты"
   ]
  },
  {
   "cell_type": "code",
   "execution_count": 595,
   "metadata": {},
   "outputs": [],
   "source": [
    "test['date'] = pd.to_datetime(test['date'], format='%Y-%m-%d %H:%M:%S')"
   ]
  },
  {
   "cell_type": "markdown",
   "metadata": {},
   "source": [
    "Изменен формат даты"
   ]
  },
  {
   "cell_type": "code",
   "execution_count": 596,
   "metadata": {},
   "outputs": [
    {
     "data": {
      "text/html": [
       "<div>\n",
       "<style scoped>\n",
       "    .dataframe tbody tr th:only-of-type {\n",
       "        vertical-align: middle;\n",
       "    }\n",
       "\n",
       "    .dataframe tbody tr th {\n",
       "        vertical-align: top;\n",
       "    }\n",
       "\n",
       "    .dataframe thead th {\n",
       "        text-align: right;\n",
       "    }\n",
       "</style>\n",
       "<table border=\"1\" class=\"dataframe\">\n",
       "  <thead>\n",
       "    <tr style=\"text-align: right;\">\n",
       "      <th></th>\n",
       "      <th>date</th>\n",
       "      <th>final.output.concentrate_ag</th>\n",
       "      <th>final.output.concentrate_pb</th>\n",
       "      <th>final.output.concentrate_sol</th>\n",
       "      <th>final.output.concentrate_au</th>\n",
       "      <th>final.output.recovery</th>\n",
       "      <th>final.output.tail_ag</th>\n",
       "      <th>final.output.tail_pb</th>\n",
       "      <th>final.output.tail_sol</th>\n",
       "      <th>final.output.tail_au</th>\n",
       "      <th>...</th>\n",
       "      <th>secondary_cleaner.state.floatbank4_a_air</th>\n",
       "      <th>secondary_cleaner.state.floatbank4_a_level</th>\n",
       "      <th>secondary_cleaner.state.floatbank4_b_air</th>\n",
       "      <th>secondary_cleaner.state.floatbank4_b_level</th>\n",
       "      <th>secondary_cleaner.state.floatbank5_a_air</th>\n",
       "      <th>secondary_cleaner.state.floatbank5_a_level</th>\n",
       "      <th>secondary_cleaner.state.floatbank5_b_air</th>\n",
       "      <th>secondary_cleaner.state.floatbank5_b_level</th>\n",
       "      <th>secondary_cleaner.state.floatbank6_a_air</th>\n",
       "      <th>secondary_cleaner.state.floatbank6_a_level</th>\n",
       "    </tr>\n",
       "  </thead>\n",
       "  <tbody>\n",
       "    <tr>\n",
       "      <th>0</th>\n",
       "      <td>2016-01-15 00:00:00</td>\n",
       "      <td>6.055403</td>\n",
       "      <td>9.889648</td>\n",
       "      <td>5.507324</td>\n",
       "      <td>42.192020</td>\n",
       "      <td>70.541216</td>\n",
       "      <td>10.411962</td>\n",
       "      <td>0.895447</td>\n",
       "      <td>16.904297</td>\n",
       "      <td>2.143149</td>\n",
       "      <td>...</td>\n",
       "      <td>14.016835</td>\n",
       "      <td>-502.488007</td>\n",
       "      <td>12.099931</td>\n",
       "      <td>-504.715942</td>\n",
       "      <td>9.925633</td>\n",
       "      <td>-498.310211</td>\n",
       "      <td>8.079666</td>\n",
       "      <td>-500.470978</td>\n",
       "      <td>14.151341</td>\n",
       "      <td>-605.841980</td>\n",
       "    </tr>\n",
       "    <tr>\n",
       "      <th>1</th>\n",
       "      <td>2016-01-15 01:00:00</td>\n",
       "      <td>6.029369</td>\n",
       "      <td>9.968944</td>\n",
       "      <td>5.257781</td>\n",
       "      <td>42.701629</td>\n",
       "      <td>69.266198</td>\n",
       "      <td>10.462676</td>\n",
       "      <td>0.927452</td>\n",
       "      <td>16.634514</td>\n",
       "      <td>2.224930</td>\n",
       "      <td>...</td>\n",
       "      <td>13.992281</td>\n",
       "      <td>-505.503262</td>\n",
       "      <td>11.950531</td>\n",
       "      <td>-501.331529</td>\n",
       "      <td>10.039245</td>\n",
       "      <td>-500.169983</td>\n",
       "      <td>7.984757</td>\n",
       "      <td>-500.582168</td>\n",
       "      <td>13.998353</td>\n",
       "      <td>-599.787184</td>\n",
       "    </tr>\n",
       "    <tr>\n",
       "      <th>2</th>\n",
       "      <td>2016-01-15 02:00:00</td>\n",
       "      <td>6.055926</td>\n",
       "      <td>10.213995</td>\n",
       "      <td>5.383759</td>\n",
       "      <td>42.657501</td>\n",
       "      <td>68.116445</td>\n",
       "      <td>10.507046</td>\n",
       "      <td>0.953716</td>\n",
       "      <td>16.208849</td>\n",
       "      <td>2.257889</td>\n",
       "      <td>...</td>\n",
       "      <td>14.015015</td>\n",
       "      <td>-502.520901</td>\n",
       "      <td>11.912783</td>\n",
       "      <td>-501.133383</td>\n",
       "      <td>10.070913</td>\n",
       "      <td>-500.129135</td>\n",
       "      <td>8.013877</td>\n",
       "      <td>-500.517572</td>\n",
       "      <td>14.028663</td>\n",
       "      <td>-601.427363</td>\n",
       "    </tr>\n",
       "    <tr>\n",
       "      <th>3</th>\n",
       "      <td>2016-01-15 03:00:00</td>\n",
       "      <td>6.047977</td>\n",
       "      <td>9.977019</td>\n",
       "      <td>4.858634</td>\n",
       "      <td>42.689819</td>\n",
       "      <td>68.347543</td>\n",
       "      <td>10.422762</td>\n",
       "      <td>0.883763</td>\n",
       "      <td>16.532835</td>\n",
       "      <td>2.146849</td>\n",
       "      <td>...</td>\n",
       "      <td>14.036510</td>\n",
       "      <td>-500.857308</td>\n",
       "      <td>11.999550</td>\n",
       "      <td>-501.193686</td>\n",
       "      <td>9.970366</td>\n",
       "      <td>-499.201640</td>\n",
       "      <td>7.977324</td>\n",
       "      <td>-500.255908</td>\n",
       "      <td>14.005551</td>\n",
       "      <td>-599.996129</td>\n",
       "    </tr>\n",
       "    <tr>\n",
       "      <th>4</th>\n",
       "      <td>2016-01-15 04:00:00</td>\n",
       "      <td>6.148599</td>\n",
       "      <td>10.142511</td>\n",
       "      <td>4.939416</td>\n",
       "      <td>42.774141</td>\n",
       "      <td>66.927016</td>\n",
       "      <td>10.360302</td>\n",
       "      <td>0.792826</td>\n",
       "      <td>16.525686</td>\n",
       "      <td>2.055292</td>\n",
       "      <td>...</td>\n",
       "      <td>14.027298</td>\n",
       "      <td>-499.838632</td>\n",
       "      <td>11.953070</td>\n",
       "      <td>-501.053894</td>\n",
       "      <td>9.925709</td>\n",
       "      <td>-501.686727</td>\n",
       "      <td>7.894242</td>\n",
       "      <td>-500.356035</td>\n",
       "      <td>13.996647</td>\n",
       "      <td>-601.496691</td>\n",
       "    </tr>\n",
       "  </tbody>\n",
       "</table>\n",
       "<p>5 rows × 87 columns</p>\n",
       "</div>"
      ],
      "text/plain": [
       "                  date  final.output.concentrate_ag  \\\n",
       "0  2016-01-15 00:00:00                     6.055403   \n",
       "1  2016-01-15 01:00:00                     6.029369   \n",
       "2  2016-01-15 02:00:00                     6.055926   \n",
       "3  2016-01-15 03:00:00                     6.047977   \n",
       "4  2016-01-15 04:00:00                     6.148599   \n",
       "\n",
       "   final.output.concentrate_pb  final.output.concentrate_sol  \\\n",
       "0                     9.889648                      5.507324   \n",
       "1                     9.968944                      5.257781   \n",
       "2                    10.213995                      5.383759   \n",
       "3                     9.977019                      4.858634   \n",
       "4                    10.142511                      4.939416   \n",
       "\n",
       "   final.output.concentrate_au  final.output.recovery  final.output.tail_ag  \\\n",
       "0                    42.192020              70.541216             10.411962   \n",
       "1                    42.701629              69.266198             10.462676   \n",
       "2                    42.657501              68.116445             10.507046   \n",
       "3                    42.689819              68.347543             10.422762   \n",
       "4                    42.774141              66.927016             10.360302   \n",
       "\n",
       "   final.output.tail_pb  final.output.tail_sol  final.output.tail_au  ...  \\\n",
       "0              0.895447              16.904297              2.143149  ...   \n",
       "1              0.927452              16.634514              2.224930  ...   \n",
       "2              0.953716              16.208849              2.257889  ...   \n",
       "3              0.883763              16.532835              2.146849  ...   \n",
       "4              0.792826              16.525686              2.055292  ...   \n",
       "\n",
       "   secondary_cleaner.state.floatbank4_a_air  \\\n",
       "0                                 14.016835   \n",
       "1                                 13.992281   \n",
       "2                                 14.015015   \n",
       "3                                 14.036510   \n",
       "4                                 14.027298   \n",
       "\n",
       "   secondary_cleaner.state.floatbank4_a_level  \\\n",
       "0                                 -502.488007   \n",
       "1                                 -505.503262   \n",
       "2                                 -502.520901   \n",
       "3                                 -500.857308   \n",
       "4                                 -499.838632   \n",
       "\n",
       "   secondary_cleaner.state.floatbank4_b_air  \\\n",
       "0                                 12.099931   \n",
       "1                                 11.950531   \n",
       "2                                 11.912783   \n",
       "3                                 11.999550   \n",
       "4                                 11.953070   \n",
       "\n",
       "   secondary_cleaner.state.floatbank4_b_level  \\\n",
       "0                                 -504.715942   \n",
       "1                                 -501.331529   \n",
       "2                                 -501.133383   \n",
       "3                                 -501.193686   \n",
       "4                                 -501.053894   \n",
       "\n",
       "   secondary_cleaner.state.floatbank5_a_air  \\\n",
       "0                                  9.925633   \n",
       "1                                 10.039245   \n",
       "2                                 10.070913   \n",
       "3                                  9.970366   \n",
       "4                                  9.925709   \n",
       "\n",
       "   secondary_cleaner.state.floatbank5_a_level  \\\n",
       "0                                 -498.310211   \n",
       "1                                 -500.169983   \n",
       "2                                 -500.129135   \n",
       "3                                 -499.201640   \n",
       "4                                 -501.686727   \n",
       "\n",
       "   secondary_cleaner.state.floatbank5_b_air  \\\n",
       "0                                  8.079666   \n",
       "1                                  7.984757   \n",
       "2                                  8.013877   \n",
       "3                                  7.977324   \n",
       "4                                  7.894242   \n",
       "\n",
       "   secondary_cleaner.state.floatbank5_b_level  \\\n",
       "0                                 -500.470978   \n",
       "1                                 -500.582168   \n",
       "2                                 -500.517572   \n",
       "3                                 -500.255908   \n",
       "4                                 -500.356035   \n",
       "\n",
       "   secondary_cleaner.state.floatbank6_a_air  \\\n",
       "0                                 14.151341   \n",
       "1                                 13.998353   \n",
       "2                                 14.028663   \n",
       "3                                 14.005551   \n",
       "4                                 13.996647   \n",
       "\n",
       "   secondary_cleaner.state.floatbank6_a_level  \n",
       "0                                 -605.841980  \n",
       "1                                 -599.787184  \n",
       "2                                 -601.427363  \n",
       "3                                 -599.996129  \n",
       "4                                 -601.496691  \n",
       "\n",
       "[5 rows x 87 columns]"
      ]
     },
     "execution_count": 596,
     "metadata": {},
     "output_type": "execute_result"
    }
   ],
   "source": [
    "full = pd.read_csv('/datasets/gold_recovery_full_new.csv')\n",
    "full.head()"
   ]
  },
  {
   "cell_type": "code",
   "execution_count": 597,
   "metadata": {},
   "outputs": [
    {
     "name": "stdout",
     "output_type": "stream",
     "text": [
      "<class 'pandas.core.frame.DataFrame'>\n",
      "RangeIndex: 19439 entries, 0 to 19438\n",
      "Data columns (total 87 columns):\n",
      " #   Column                                              Non-Null Count  Dtype  \n",
      "---  ------                                              --------------  -----  \n",
      " 0   date                                                19439 non-null  object \n",
      " 1   final.output.concentrate_ag                         19438 non-null  float64\n",
      " 2   final.output.concentrate_pb                         19438 non-null  float64\n",
      " 3   final.output.concentrate_sol                        19228 non-null  float64\n",
      " 4   final.output.concentrate_au                         19439 non-null  float64\n",
      " 5   final.output.recovery                               19439 non-null  float64\n",
      " 6   final.output.tail_ag                                19438 non-null  float64\n",
      " 7   final.output.tail_pb                                19338 non-null  float64\n",
      " 8   final.output.tail_sol                               19433 non-null  float64\n",
      " 9   final.output.tail_au                                19439 non-null  float64\n",
      " 10  primary_cleaner.input.sulfate                       19415 non-null  float64\n",
      " 11  primary_cleaner.input.depressant                    19402 non-null  float64\n",
      " 12  primary_cleaner.input.feed_size                     19439 non-null  float64\n",
      " 13  primary_cleaner.input.xanthate                      19335 non-null  float64\n",
      " 14  primary_cleaner.output.concentrate_ag               19439 non-null  float64\n",
      " 15  primary_cleaner.output.concentrate_pb               19323 non-null  float64\n",
      " 16  primary_cleaner.output.concentrate_sol              19069 non-null  float64\n",
      " 17  primary_cleaner.output.concentrate_au               19439 non-null  float64\n",
      " 18  primary_cleaner.output.tail_ag                      19435 non-null  float64\n",
      " 19  primary_cleaner.output.tail_pb                      19418 non-null  float64\n",
      " 20  primary_cleaner.output.tail_sol                     19377 non-null  float64\n",
      " 21  primary_cleaner.output.tail_au                      19439 non-null  float64\n",
      " 22  primary_cleaner.state.floatbank8_a_air              19435 non-null  float64\n",
      " 23  primary_cleaner.state.floatbank8_a_level            19438 non-null  float64\n",
      " 24  primary_cleaner.state.floatbank8_b_air              19435 non-null  float64\n",
      " 25  primary_cleaner.state.floatbank8_b_level            19438 non-null  float64\n",
      " 26  primary_cleaner.state.floatbank8_c_air              19437 non-null  float64\n",
      " 27  primary_cleaner.state.floatbank8_c_level            19438 non-null  float64\n",
      " 28  primary_cleaner.state.floatbank8_d_air              19436 non-null  float64\n",
      " 29  primary_cleaner.state.floatbank8_d_level            19438 non-null  float64\n",
      " 30  rougher.calculation.sulfate_to_au_concentrate       19437 non-null  float64\n",
      " 31  rougher.calculation.floatbank10_sulfate_to_au_feed  19437 non-null  float64\n",
      " 32  rougher.calculation.floatbank11_sulfate_to_au_feed  19437 non-null  float64\n",
      " 33  rougher.calculation.au_pb_ratio                     19439 non-null  float64\n",
      " 34  rougher.input.feed_ag                               19439 non-null  float64\n",
      " 35  rougher.input.feed_pb                               19339 non-null  float64\n",
      " 36  rougher.input.feed_rate                             19428 non-null  float64\n",
      " 37  rougher.input.feed_size                             19294 non-null  float64\n",
      " 38  rougher.input.feed_sol                              19340 non-null  float64\n",
      " 39  rougher.input.feed_au                               19439 non-null  float64\n",
      " 40  rougher.input.floatbank10_sulfate                   19405 non-null  float64\n",
      " 41  rougher.input.floatbank10_xanthate                  19431 non-null  float64\n",
      " 42  rougher.input.floatbank11_sulfate                   19395 non-null  float64\n",
      " 43  rougher.input.floatbank11_xanthate                  18986 non-null  float64\n",
      " 44  rougher.output.concentrate_ag                       19439 non-null  float64\n",
      " 45  rougher.output.concentrate_pb                       19439 non-null  float64\n",
      " 46  rougher.output.concentrate_sol                      19416 non-null  float64\n",
      " 47  rougher.output.concentrate_au                       19439 non-null  float64\n",
      " 48  rougher.output.recovery                             19439 non-null  float64\n",
      " 49  rougher.output.tail_ag                              19438 non-null  float64\n",
      " 50  rougher.output.tail_pb                              19439 non-null  float64\n",
      " 51  rougher.output.tail_sol                             19439 non-null  float64\n",
      " 52  rougher.output.tail_au                              19439 non-null  float64\n",
      " 53  rougher.state.floatbank10_a_air                     19438 non-null  float64\n",
      " 54  rougher.state.floatbank10_a_level                   19438 non-null  float64\n",
      " 55  rougher.state.floatbank10_b_air                     19438 non-null  float64\n",
      " 56  rougher.state.floatbank10_b_level                   19438 non-null  float64\n",
      " 57  rougher.state.floatbank10_c_air                     19438 non-null  float64\n",
      " 58  rougher.state.floatbank10_c_level                   19438 non-null  float64\n",
      " 59  rougher.state.floatbank10_d_air                     19439 non-null  float64\n",
      " 60  rougher.state.floatbank10_d_level                   19439 non-null  float64\n",
      " 61  rougher.state.floatbank10_e_air                     19003 non-null  float64\n",
      " 62  rougher.state.floatbank10_e_level                   19439 non-null  float64\n",
      " 63  rougher.state.floatbank10_f_air                     19439 non-null  float64\n",
      " 64  rougher.state.floatbank10_f_level                   19439 non-null  float64\n",
      " 65  secondary_cleaner.output.tail_ag                    19437 non-null  float64\n",
      " 66  secondary_cleaner.output.tail_pb                    19427 non-null  float64\n",
      " 67  secondary_cleaner.output.tail_sol                   17691 non-null  float64\n",
      " 68  secondary_cleaner.output.tail_au                    19439 non-null  float64\n",
      " 69  secondary_cleaner.state.floatbank2_a_air            19219 non-null  float64\n",
      " 70  secondary_cleaner.state.floatbank2_a_level          19438 non-null  float64\n",
      " 71  secondary_cleaner.state.floatbank2_b_air            19416 non-null  float64\n",
      " 72  secondary_cleaner.state.floatbank2_b_level          19438 non-null  float64\n",
      " 73  secondary_cleaner.state.floatbank3_a_air            19426 non-null  float64\n",
      " 74  secondary_cleaner.state.floatbank3_a_level          19438 non-null  float64\n",
      " 75  secondary_cleaner.state.floatbank3_b_air            19438 non-null  float64\n",
      " 76  secondary_cleaner.state.floatbank3_b_level          19438 non-null  float64\n",
      " 77  secondary_cleaner.state.floatbank4_a_air            19433 non-null  float64\n",
      " 78  secondary_cleaner.state.floatbank4_a_level          19438 non-null  float64\n",
      " 79  secondary_cleaner.state.floatbank4_b_air            19438 non-null  float64\n",
      " 80  secondary_cleaner.state.floatbank4_b_level          19438 non-null  float64\n",
      " 81  secondary_cleaner.state.floatbank5_a_air            19438 non-null  float64\n",
      " 82  secondary_cleaner.state.floatbank5_a_level          19438 non-null  float64\n",
      " 83  secondary_cleaner.state.floatbank5_b_air            19438 non-null  float64\n",
      " 84  secondary_cleaner.state.floatbank5_b_level          19438 non-null  float64\n",
      " 85  secondary_cleaner.state.floatbank6_a_air            19437 non-null  float64\n",
      " 86  secondary_cleaner.state.floatbank6_a_level          19438 non-null  float64\n",
      "dtypes: float64(86), object(1)\n",
      "memory usage: 12.9+ MB\n"
     ]
    }
   ],
   "source": [
    "full.info()"
   ]
  },
  {
   "cell_type": "markdown",
   "metadata": {},
   "source": [
    "Загрузка и первичное ознакомление с полной выборкой. Аналогично имеет смысл изменить формат Date\n"
   ]
  },
  {
   "cell_type": "code",
   "execution_count": 598,
   "metadata": {},
   "outputs": [],
   "source": [
    "full['date'] = pd.to_datetime(full['date'], format='%Y-%m-%d %H:%M:%S')"
   ]
  },
  {
   "cell_type": "markdown",
   "metadata": {},
   "source": [
    "Формат изменен. Следующим шагом будет рассчитана эффективность обогащения в соответствии с условием 1.2 задачи"
   ]
  },
  {
   "cell_type": "code",
   "execution_count": 599,
   "metadata": {},
   "outputs": [],
   "source": [
    "train['rougher.output.recovery_calc'] = train['rougher.output.concentrate_au'] * (train['rougher.input.feed_au'] - train['rougher.output.tail_au']) / train['rougher.input.feed_au'] / (train['rougher.output.concentrate_au'] - train['rougher.output.tail_au']) * 100"
   ]
  },
  {
   "cell_type": "markdown",
   "metadata": {},
   "source": [
    "Рассчитана эффективность обогащения"
   ]
  },
  {
   "cell_type": "code",
   "execution_count": 600,
   "metadata": {},
   "outputs": [
    {
     "data": {
      "text/plain": [
       "1.0748911125799084e-14"
      ]
     },
     "execution_count": 600,
     "metadata": {},
     "output_type": "execute_result"
    }
   ],
   "source": [
    "mean_absolute_error(train['rougher.output.recovery'], train['rougher.output.recovery_calc'])"
   ]
  },
  {
   "cell_type": "markdown",
   "metadata": {},
   "source": [
    "В соответствии с условиями задачи рассчитана средняя абсолютная ошибка. Она находится в пределах  округления. Соответственно, расчет произведен правильно"
   ]
  },
  {
   "cell_type": "markdown",
   "metadata": {},
   "source": [
    "## Анализ данных\n",
    "Рассмотрим как меняется концентрация основных металлов на каждой стадии технологического процесса"
   ]
  },
  {
   "cell_type": "code",
   "execution_count": 601,
   "metadata": {},
   "outputs": [
    {
     "data": {
      "text/plain": [
       "8.266097326589103"
      ]
     },
     "execution_count": 601,
     "metadata": {},
     "output_type": "execute_result"
    }
   ],
   "source": [
    "full['rougher.input.feed_au'].mean() "
   ]
  },
  {
   "cell_type": "markdown",
   "metadata": {},
   "source": [
    "Концентрация золота в исходной руде"
   ]
  },
  {
   "cell_type": "code",
   "execution_count": 602,
   "metadata": {},
   "outputs": [
    {
     "data": {
      "text/plain": [
       "19.772000139486316"
      ]
     },
     "execution_count": 602,
     "metadata": {},
     "output_type": "execute_result"
    }
   ],
   "source": [
    "full['rougher.output.concentrate_au'].mean()"
   ]
  },
  {
   "cell_type": "markdown",
   "metadata": {},
   "source": [
    "Концентрация золота в руде после флотации"
   ]
  },
  {
   "cell_type": "code",
   "execution_count": 603,
   "metadata": {},
   "outputs": [
    {
     "data": {
      "text/plain": [
       "32.1194004078765"
      ]
     },
     "execution_count": 603,
     "metadata": {},
     "output_type": "execute_result"
    }
   ],
   "source": [
    "full['primary_cleaner.output.concentrate_au'].mean() "
   ]
  },
  {
   "cell_type": "markdown",
   "metadata": {},
   "source": [
    "Концентрация золота в руде после первой стадии очистки"
   ]
  },
  {
   "cell_type": "code",
   "execution_count": 604,
   "metadata": {},
   "outputs": [
    {
     "data": {
      "text/plain": [
       "44.0765129419528"
      ]
     },
     "execution_count": 604,
     "metadata": {},
     "output_type": "execute_result"
    }
   ],
   "source": [
    "full['final.output.concentrate_au'].mean()"
   ]
  },
  {
   "cell_type": "markdown",
   "metadata": {},
   "source": [
    "Финальная концентрация золота в руде. В целом процесс можно охарактеризовать как процесс с убывающей эффективностью. Флотация увеличивает концентрация золота в 2,4 раза. Первая стадия очистки - в 1,6 раза. Вторая - в 1,4 раза. \n",
    "\n",
    "Повторим аналогичные операции с серебром и свинцом"
   ]
  },
  {
   "cell_type": "code",
   "execution_count": 605,
   "metadata": {},
   "outputs": [
    {
     "data": {
      "text/plain": [
       "8.794927425814688"
      ]
     },
     "execution_count": 605,
     "metadata": {},
     "output_type": "execute_result"
    }
   ],
   "source": [
    "full['rougher.input.feed_ag'].mean() "
   ]
  },
  {
   "cell_type": "markdown",
   "metadata": {},
   "source": [
    "Концентрация серебра в исходной руде"
   ]
  },
  {
   "cell_type": "code",
   "execution_count": 606,
   "metadata": {},
   "outputs": [
    {
     "data": {
      "text/plain": [
       "11.994759359873429"
      ]
     },
     "execution_count": 606,
     "metadata": {},
     "output_type": "execute_result"
    }
   ],
   "source": [
    "full['rougher.output.concentrate_ag'].mean()"
   ]
  },
  {
   "cell_type": "markdown",
   "metadata": {},
   "source": [
    "Концентрация серебра в руде после флотации"
   ]
  },
  {
   "cell_type": "code",
   "execution_count": 607,
   "metadata": {},
   "outputs": [
    {
     "data": {
      "text/plain": [
       "8.44240807771906"
      ]
     },
     "execution_count": 607,
     "metadata": {},
     "output_type": "execute_result"
    }
   ],
   "source": [
    "full['primary_cleaner.output.concentrate_ag'].mean() "
   ]
  },
  {
   "cell_type": "markdown",
   "metadata": {},
   "source": [
    "Концентрация серебра в руде после первой стадии очистки"
   ]
  },
  {
   "cell_type": "code",
   "execution_count": 608,
   "metadata": {},
   "outputs": [
    {
     "data": {
      "text/plain": [
       "5.168470373676801"
      ]
     },
     "execution_count": 608,
     "metadata": {},
     "output_type": "execute_result"
    }
   ],
   "source": [
    "full['final.output.concentrate_ag'].mean()"
   ]
  },
  {
   "cell_type": "markdown",
   "metadata": {},
   "source": [
    "Концентрация серебра в руде после второй стадии очистки\n",
    "\n",
    "На протяжении технологического процесса содержание серебра в руде движется разнонаправленно и в конечном итоге\n",
    "уменьшается. По всей видимости, это связано с тем что наиболее ценным продуктом является золото и технологический \n",
    "процесс заточен на его максимальное извлечение.Другие металлы извлекаются по остаточному принципу.\n",
    "\n",
    "Далее свинец"
   ]
  },
  {
   "cell_type": "code",
   "execution_count": 609,
   "metadata": {},
   "outputs": [
    {
     "data": {
      "text/plain": [
       "3.598084975395463"
      ]
     },
     "execution_count": 609,
     "metadata": {},
     "output_type": "execute_result"
    }
   ],
   "source": [
    " full['rougher.input.feed_pb'].mean()"
   ]
  },
  {
   "cell_type": "markdown",
   "metadata": {},
   "source": [
    "Концентрация свинца в исходной руде"
   ]
  },
  {
   "cell_type": "code",
   "execution_count": 610,
   "metadata": {},
   "outputs": [
    {
     "data": {
      "text/plain": [
       "7.606272313195003"
      ]
     },
     "execution_count": 610,
     "metadata": {},
     "output_type": "execute_result"
    }
   ],
   "source": [
    "full['rougher.output.concentrate_pb'].mean()"
   ]
  },
  {
   "cell_type": "markdown",
   "metadata": {},
   "source": [
    "Концентрация свинца в руде после флотации"
   ]
  },
  {
   "cell_type": "code",
   "execution_count": 611,
   "metadata": {},
   "outputs": [
    {
     "data": {
      "text/plain": [
       "9.829529774200518"
      ]
     },
     "execution_count": 611,
     "metadata": {},
     "output_type": "execute_result"
    }
   ],
   "source": [
    "full['primary_cleaner.output.concentrate_pb'].mean() "
   ]
  },
  {
   "cell_type": "markdown",
   "metadata": {},
   "source": [
    "Концентрация свинца в руде после первой стадии очистки"
   ]
  },
  {
   "cell_type": "code",
   "execution_count": 612,
   "metadata": {},
   "outputs": [
    {
     "data": {
      "text/plain": [
       "5.168470373676801"
      ]
     },
     "execution_count": 612,
     "metadata": {},
     "output_type": "execute_result"
    }
   ],
   "source": [
    "full['final.output.concentrate_ag'].mean()"
   ]
  },
  {
   "cell_type": "markdown",
   "metadata": {},
   "source": [
    "Окончательная концентрация свинца в руде. Аналогично серебру на протяжении технологического процесса содержание \n",
    "серебра в руде меняется разнонаправленно и в конечном итоге уменьшается. Наиболее вероятная причина аналогична серебру:\n",
    "металл извлекается по остаточному принципу.\n",
    "\n",
    "На следующем этапе по условиям задачи необходимо сравнить распределение размеров гранул сырья на обучающей \n",
    "и тестовой выборках. Это можно сделать путем сравнения матожиданий и дисперсий"
   ]
  },
  {
   "cell_type": "code",
   "execution_count": 613,
   "metadata": {},
   "outputs": [
    {
     "name": "stdout",
     "output_type": "stream",
     "text": [
      "7.322309906901314\n",
      "0.3770458141328873\n"
     ]
    }
   ],
   "source": [
    "mean_train = train['primary_cleaner.input.feed_size'].mean()\n",
    "variance_train = np.var(train['primary_cleaner.input.feed_size'])\n",
    "print(mean_train)\n",
    "print(variance_train)"
   ]
  },
  {
   "cell_type": "markdown",
   "metadata": {},
   "source": [
    "Матожидание и дисперсия обучающей выборки"
   ]
  },
  {
   "cell_type": "code",
   "execution_count": 614,
   "metadata": {},
   "outputs": [
    {
     "name": "stdout",
     "output_type": "stream",
     "text": [
      "7.266339191270906\n",
      "0.3722965577722183\n"
     ]
    }
   ],
   "source": [
    "mean_test = test['primary_cleaner.input.feed_size'].mean()\n",
    "variance_test = np.var(test['primary_cleaner.input.feed_size'])\n",
    "print(mean_test)\n",
    "print(variance_test)"
   ]
  },
  {
   "cell_type": "code",
   "execution_count": 615,
   "metadata": {},
   "outputs": [
    {
     "data": {
      "text/plain": [
       "<AxesSubplot:ylabel='Frequency'>"
      ]
     },
     "execution_count": 615,
     "metadata": {},
     "output_type": "execute_result"
    },
    {
     "data": {
      "image/png": "[encoded data removed]",
      "text/plain": [
       "<Figure size 432x288 with 1 Axes>"
      ]
     },
     "metadata": {
      "needs_background": "light"
     },
     "output_type": "display_data"
    }
   ],
   "source": [
    "ax = train.plot(kind='hist', y='primary_cleaner.input.feed_size', bins=100, label='train')\n",
    "test.plot(kind='hist', y='primary_cleaner.input.feed_size', bins=100, ax=ax, label='test')"
   ]
  },
  {
   "cell_type": "markdown",
   "metadata": {},
   "source": [
    "Графическое представление результатов сравнения. В целом распределение близко к нормальному"
   ]
  },
  {
   "cell_type": "markdown",
   "metadata": {},
   "source": [
    "Матожидание и дисперсия тестовой выборки. Матожидание отличается менее чем на 1%, а дисперсия чуть более чем на 1%. Различия являются несущественными"
   ]
  },
  {
   "cell_type": "markdown",
   "metadata": {},
   "source": [
    "На следующем этапе необходимо исследовать суммарную концентрацию веществ на всех стадиях технологического \n",
    "процесса"
   ]
  },
  {
   "cell_type": "code",
   "execution_count": 616,
   "metadata": {},
   "outputs": [
    {
     "name": "stdout",
     "output_type": "stream",
     "text": [
      "20.65910972779925\n"
     ]
    }
   ],
   "source": [
    "rougher_input = full['rougher.input.feed_au'].mean() + full['rougher.input.feed_ag'].mean() + full['rougher.input.feed_pb'].mean() \n",
    "print(rougher_input)"
   ]
  },
  {
   "cell_type": "markdown",
   "metadata": {},
   "source": [
    "Суммарная концентрация извлекаемых металлов в исходной руде"
   ]
  },
  {
   "cell_type": "code",
   "execution_count": 617,
   "metadata": {},
   "outputs": [
    {
     "data": {
      "image/png": "[encoded data removed]",
      "text/plain": [
       "<Figure size 432x288 with 1 Axes>"
      ]
     },
     "metadata": {
      "needs_background": "light"
     },
     "output_type": "display_data"
    }
   ],
   "source": [
    "full['rougher_input_total'] = full['rougher.input.feed_au'] + full['rougher.input.feed_ag'] + full['rougher.input.feed_pb'] \n",
    "ax = full.plot(kind='hist', y='rougher_input_total', bins=100)"
   ]
  },
  {
   "cell_type": "markdown",
   "metadata": {},
   "source": [
    "Графическое представление распределения. Распределение выглядит как правая половина от нормального с высокой дисперсией. По всей вероятности это связано с тем что добывается только та руда где концентрациея полезных металлов находится не ниже заранее заданного значения"
   ]
  },
  {
   "cell_type": "code",
   "execution_count": 618,
   "metadata": {},
   "outputs": [
    {
     "name": "stdout",
     "output_type": "stream",
     "text": [
      "39.37303181255474\n"
     ]
    }
   ],
   "source": [
    "rougher_output = full['rougher.output.concentrate_au'].mean() + full['rougher.output.concentrate_ag'].mean() +full['rougher.output.concentrate_pb'].mean()\n",
    "print(rougher_output)"
   ]
  },
  {
   "cell_type": "markdown",
   "metadata": {},
   "source": [
    "Суммарная концентрация извлекаемых металлов в черновом концентрате"
   ]
  },
  {
   "cell_type": "code",
   "execution_count": 619,
   "metadata": {},
   "outputs": [
    {
     "data": {
      "image/png": "[encoded data removed]",
      "text/plain": [
       "<Figure size 432x288 with 1 Axes>"
      ]
     },
     "metadata": {
      "needs_background": "light"
     },
     "output_type": "display_data"
    }
   ],
   "source": [
    "full['rougher_output_total'] = full['rougher.output.concentrate_au'] + full['rougher.output.concentrate_ag'] +full['rougher.output.concentrate_pb']\n",
    "ax = full.plot(kind='hist', y='rougher_output_total', bins=100)"
   ]
  },
  {
   "cell_type": "markdown",
   "metadata": {},
   "source": [
    "Графическое представление распределения концентраций в черновом концентрате. Концентрация повышается. В целом распределение выглядит как нормальное, но при этом часть руды содержит околонулевые концентрации полезных элементов. Другими словами, часть хвостов в хвосты не попадает"
   ]
  },
  {
   "cell_type": "code",
   "execution_count": 620,
   "metadata": {},
   "outputs": [
    {
     "name": "stdout",
     "output_type": "stream",
     "text": [
      "50.39133825979607\n"
     ]
    }
   ],
   "source": [
    "primary_output = full['primary_cleaner.output.concentrate_au'].mean() + full['primary_cleaner.output.concentrate_ag'].mean() + full['primary_cleaner.output.concentrate_pb'].mean()\n",
    "print(primary_output)"
   ]
  },
  {
   "cell_type": "markdown",
   "metadata": {},
   "source": [
    "Суммарная концентрация извлекаемых металлов после первой стадии очистки"
   ]
  },
  {
   "cell_type": "code",
   "execution_count": 621,
   "metadata": {},
   "outputs": [
    {
     "data": {
      "image/png": "[encoded data removed]",
      "text/plain": [
       "<Figure size 432x288 with 1 Axes>"
      ]
     },
     "metadata": {
      "needs_background": "light"
     },
     "output_type": "display_data"
    }
   ],
   "source": [
    "full['primary_output_total'] = full['primary_cleaner.output.concentrate_au'] + full['primary_cleaner.output.concentrate_ag'] + full['primary_cleaner.output.concentrate_pb']\n",
    "ax = full.plot(kind='hist', y='primary_output_total', bins=100)"
   ]
  },
  {
   "cell_type": "markdown",
   "metadata": {},
   "source": [
    "Графическое представление распределения концентраций после первой стадии очистки. Концентрация повышается, распределение остается таким же как и для чернового концентрата"
   ]
  },
  {
   "cell_type": "code",
   "execution_count": 622,
   "metadata": {},
   "outputs": [
    {
     "name": "stdout",
     "output_type": "stream",
     "text": [
      "59.22387822681132\n"
     ]
    }
   ],
   "source": [
    "final_output = full['final.output.concentrate_au'].mean() + full['final.output.concentrate_ag'].mean() + full['final.output.concentrate_pb'].mean()\n",
    "print(final_output)"
   ]
  },
  {
   "cell_type": "markdown",
   "metadata": {},
   "source": [
    "Суммарное содержание извлекаемых металлов в финальном концентрате"
   ]
  },
  {
   "cell_type": "code",
   "execution_count": 623,
   "metadata": {},
   "outputs": [
    {
     "data": {
      "image/png": "[encoded data removed]",
      "text/plain": [
       "<Figure size 432x288 with 1 Axes>"
      ]
     },
     "metadata": {
      "needs_background": "light"
     },
     "output_type": "display_data"
    }
   ],
   "source": [
    "full['final_output_total'] = full['final.output.concentrate_au'] + full['final.output.concentrate_ag'] + full['final.output.concentrate_pb']\n",
    "ax = full.plot(kind='hist', y='final_output_total', bins=100)"
   ]
  },
  {
   "cell_type": "markdown",
   "metadata": {},
   "source": [
    "Графическое представление распределения концентраций после первой стадии очистки. Комментарии такие же как и для чернового концентрата, часть хвостов остается в финальном концентрате\n",
    "\n",
    "Можно отметить что каждая последующая стадия ведет к росту содержания металлов в руде, но в относительном \n",
    "выражении каждый последующия этап проигрывает предыдущему. До этапа флотации включительно растет\n",
    "концентрация всех металлов, на этапе первичной очистки золота и свинца. И, наконец, последний передел ведет к\n",
    "росту концентрации только главного извлекаемого металла - золота"
   ]
  },
  {
   "cell_type": "markdown",
   "metadata": {},
   "source": [
    "## Модель"
   ]
  },
  {
   "cell_type": "code",
   "execution_count": 624,
   "metadata": {},
   "outputs": [],
   "source": [
    "def smape(A, F):\n",
    "    return 100/len(A) * np.sum(2 * np.abs(F - A) / (np.abs(A) + np.abs(F)))"
   ]
  },
  {
   "cell_type": "markdown",
   "metadata": {},
   "source": [
    "Функция для вычисления sMAPE"
   ]
  },
  {
   "cell_type": "markdown",
   "metadata": {},
   "source": [
    "Для подготовки тестовой выборки датафрейм test будет дополнен отсутствующими целевыми признаками из датафрейма full"
   ]
  },
  {
   "cell_type": "code",
   "execution_count": 625,
   "metadata": {},
   "outputs": [
    {
     "data": {
      "text/plain": [
       "(19439, 91)"
      ]
     },
     "execution_count": 625,
     "metadata": {},
     "output_type": "execute_result"
    }
   ],
   "source": [
    "full.shape"
   ]
  },
  {
   "cell_type": "code",
   "execution_count": 626,
   "metadata": {},
   "outputs": [],
   "source": [
    "full_target = full.drop(['final.output.concentrate_ag', 'final.output.concentrate_pb', 'final.output.concentrate_sol', 'final.output.concentrate_au', 'final.output.tail_ag', 'final.output.tail_pb', 'final.output.tail_sol', 'final.output.tail_au', 'primary_cleaner.input.sulfate', 'primary_cleaner.input.depressant', 'primary_cleaner.input.feed_size', 'primary_cleaner.input.xanthate', 'primary_cleaner.output.concentrate_ag', 'primary_cleaner.output.concentrate_pb', 'primary_cleaner.output.concentrate_sol', 'primary_cleaner.output.concentrate_au', 'primary_cleaner.output.tail_ag', 'primary_cleaner.output.tail_pb', 'primary_cleaner.output.tail_sol', 'primary_cleaner.output.tail_au', 'primary_cleaner.state.floatbank8_a_air', 'primary_cleaner.state.floatbank8_a_level', 'primary_cleaner.state.floatbank8_b_air', 'primary_cleaner.state.floatbank8_b_level', 'primary_cleaner.state.floatbank8_c_air', 'primary_cleaner.state.floatbank8_c_level', 'primary_cleaner.state.floatbank8_d_air', 'primary_cleaner.state.floatbank8_d_level', 'rougher.calculation.sulfate_to_au_concentrate', 'rougher.calculation.floatbank10_sulfate_to_au_feed', 'rougher.calculation.floatbank11_sulfate_to_au_feed', 'rougher.calculation.au_pb_ratio', 'rougher.input.feed_ag', 'rougher.input.feed_pb', 'rougher.input.feed_rate', 'rougher.input.feed_size', 'rougher.input.feed_sol', 'rougher.input.feed_au', 'rougher.input.floatbank10_sulfate', 'rougher.input.floatbank10_xanthate', 'rougher.input.floatbank11_sulfate', 'rougher.input.floatbank11_xanthate', 'rougher.output.concentrate_ag', 'rougher.output.concentrate_pb', 'rougher.output.concentrate_sol', 'rougher.output.concentrate_au', 'rougher.output.tail_ag', 'rougher.output.tail_pb', 'rougher.output.tail_sol', 'rougher.output.tail_au', 'rougher.state.floatbank10_a_air', 'rougher.state.floatbank10_a_level', 'rougher.state.floatbank10_b_air', 'rougher.state.floatbank10_b_level', 'rougher.state.floatbank10_c_air', 'rougher.state.floatbank10_c_level', 'rougher.state.floatbank10_d_air', 'rougher.state.floatbank10_d_level', 'rougher.state.floatbank10_e_air', 'rougher.state.floatbank10_e_level', 'rougher.state.floatbank10_f_air', 'rougher.state.floatbank10_f_level', 'secondary_cleaner.output.tail_ag', 'secondary_cleaner.output.tail_pb', 'secondary_cleaner.output.tail_sol', 'secondary_cleaner.output.tail_au', 'secondary_cleaner.state.floatbank2_a_air', 'secondary_cleaner.state.floatbank2_a_level', 'secondary_cleaner.state.floatbank2_b_air', 'secondary_cleaner.state.floatbank2_b_level', 'secondary_cleaner.state.floatbank3_a_air', 'secondary_cleaner.state.floatbank3_a_level', 'secondary_cleaner.state.floatbank3_b_air', 'secondary_cleaner.state.floatbank3_b_level', 'secondary_cleaner.state.floatbank4_a_air', 'secondary_cleaner.state.floatbank4_a_level', 'secondary_cleaner.state.floatbank4_b_air', 'secondary_cleaner.state.floatbank4_b_level', 'secondary_cleaner.state.floatbank5_a_air', 'secondary_cleaner.state.floatbank5_a_level', 'secondary_cleaner.state.floatbank5_b_air', 'secondary_cleaner.state.floatbank5_b_level', 'secondary_cleaner.state.floatbank6_a_air', 'secondary_cleaner.state.floatbank6_a_level', 'rougher_input_total', 'rougher_output_total', 'primary_output_total', 'final_output_total'], axis=1)"
   ]
  },
  {
   "cell_type": "code",
   "execution_count": 627,
   "metadata": {},
   "outputs": [
    {
     "data": {
      "text/plain": [
       "(19439, 3)"
      ]
     },
     "execution_count": 627,
     "metadata": {},
     "output_type": "execute_result"
    }
   ],
   "source": [
    "full_target.shape"
   ]
  },
  {
   "cell_type": "code",
   "execution_count": 628,
   "metadata": {},
   "outputs": [
    {
     "data": {
      "text/html": [
       "<div>\n",
       "<style scoped>\n",
       "    .dataframe tbody tr th:only-of-type {\n",
       "        vertical-align: middle;\n",
       "    }\n",
       "\n",
       "    .dataframe tbody tr th {\n",
       "        vertical-align: top;\n",
       "    }\n",
       "\n",
       "    .dataframe thead th {\n",
       "        text-align: right;\n",
       "    }\n",
       "</style>\n",
       "<table border=\"1\" class=\"dataframe\">\n",
       "  <thead>\n",
       "    <tr style=\"text-align: right;\">\n",
       "      <th></th>\n",
       "      <th>date</th>\n",
       "      <th>final.output.recovery</th>\n",
       "      <th>rougher.output.recovery</th>\n",
       "    </tr>\n",
       "  </thead>\n",
       "  <tbody>\n",
       "    <tr>\n",
       "      <th>0</th>\n",
       "      <td>2016-01-15 00:00:00</td>\n",
       "      <td>70.541216</td>\n",
       "      <td>87.107763</td>\n",
       "    </tr>\n",
       "    <tr>\n",
       "      <th>1</th>\n",
       "      <td>2016-01-15 01:00:00</td>\n",
       "      <td>69.266198</td>\n",
       "      <td>86.843261</td>\n",
       "    </tr>\n",
       "    <tr>\n",
       "      <th>2</th>\n",
       "      <td>2016-01-15 02:00:00</td>\n",
       "      <td>68.116445</td>\n",
       "      <td>86.842308</td>\n",
       "    </tr>\n",
       "    <tr>\n",
       "      <th>3</th>\n",
       "      <td>2016-01-15 03:00:00</td>\n",
       "      <td>68.347543</td>\n",
       "      <td>87.226430</td>\n",
       "    </tr>\n",
       "    <tr>\n",
       "      <th>4</th>\n",
       "      <td>2016-01-15 04:00:00</td>\n",
       "      <td>66.927016</td>\n",
       "      <td>86.688794</td>\n",
       "    </tr>\n",
       "  </tbody>\n",
       "</table>\n",
       "</div>"
      ],
      "text/plain": [
       "                 date  final.output.recovery  rougher.output.recovery\n",
       "0 2016-01-15 00:00:00              70.541216                87.107763\n",
       "1 2016-01-15 01:00:00              69.266198                86.843261\n",
       "2 2016-01-15 02:00:00              68.116445                86.842308\n",
       "3 2016-01-15 03:00:00              68.347543                87.226430\n",
       "4 2016-01-15 04:00:00              66.927016                86.688794"
      ]
     },
     "execution_count": 628,
     "metadata": {},
     "output_type": "execute_result"
    }
   ],
   "source": [
    "full_target.head()"
   ]
  },
  {
   "cell_type": "markdown",
   "metadata": {},
   "source": [
    "Из датафрейма full выделены колонки с целевыми признаками и колонка date по которой будет производится слияние"
   ]
  },
  {
   "cell_type": "code",
   "execution_count": 629,
   "metadata": {},
   "outputs": [
    {
     "data": {
      "text/plain": [
       "(5290, 53)"
      ]
     },
     "execution_count": 629,
     "metadata": {},
     "output_type": "execute_result"
    }
   ],
   "source": [
    "test.shape"
   ]
  },
  {
   "cell_type": "code",
   "execution_count": 630,
   "metadata": {},
   "outputs": [],
   "source": [
    "test = test.merge(full_target, on='date', how='left')"
   ]
  },
  {
   "cell_type": "code",
   "execution_count": 631,
   "metadata": {},
   "outputs": [
    {
     "data": {
      "text/plain": [
       "(5290, 55)"
      ]
     },
     "execution_count": 631,
     "metadata": {},
     "output_type": "execute_result"
    }
   ],
   "source": [
    "test.shape"
   ]
  },
  {
   "cell_type": "markdown",
   "metadata": {},
   "source": [
    "test дополнена целевыми признаками"
   ]
  },
  {
   "cell_type": "code",
   "execution_count": 632,
   "metadata": {},
   "outputs": [
    {
     "data": {
      "text/plain": [
       "(5229, 55)"
      ]
     },
     "execution_count": 632,
     "metadata": {},
     "output_type": "execute_result"
    }
   ],
   "source": [
    "test = test.dropna()\n",
    "test.shape"
   ]
  },
  {
   "cell_type": "markdown",
   "metadata": {},
   "source": [
    "Удалены строки с пропущенными значениями"
   ]
  },
  {
   "cell_type": "code",
   "execution_count": 633,
   "metadata": {},
   "outputs": [
    {
     "data": {
      "text/plain": [
       "(5229, 53)"
      ]
     },
     "execution_count": 633,
     "metadata": {},
     "output_type": "execute_result"
    }
   ],
   "source": [
    "features_rougher_test = test.drop(['rougher.output.recovery', 'date'], axis=1)\n",
    "features_rougher_test.shape"
   ]
  },
  {
   "cell_type": "code",
   "execution_count": 634,
   "metadata": {},
   "outputs": [
    {
     "data": {
      "text/plain": [
       "(5229,)"
      ]
     },
     "execution_count": 634,
     "metadata": {},
     "output_type": "execute_result"
    }
   ],
   "source": [
    "target_rougher_test = test['rougher.output.recovery']\n",
    "target_rougher_test.shape"
   ]
  },
  {
   "cell_type": "markdown",
   "metadata": {},
   "source": [
    "Из тестовой выборки выделены признаки/целевой признак для чернового концентрата. date является неинформативной колонкой"
   ]
  },
  {
   "cell_type": "code",
   "execution_count": 635,
   "metadata": {},
   "outputs": [],
   "source": [
    "features_final_test = test.drop(['final.output.recovery', 'date'], axis=1)\n",
    "target_final_test = test['final.output.recovery']"
   ]
  },
  {
   "cell_type": "markdown",
   "metadata": {},
   "source": [
    "Из тестовой выборки выделены признаки/целевой признак для финального концентрата. date является неинформативной колонкой"
   ]
  },
  {
   "cell_type": "markdown",
   "metadata": {},
   "source": [
    "Следующий шаг - подготовка обучающей выборки"
   ]
  },
  {
   "cell_type": "code",
   "execution_count": 636,
   "metadata": {},
   "outputs": [
    {
     "data": {
      "text/plain": [
       "(11017, 88)"
      ]
     },
     "execution_count": 636,
     "metadata": {},
     "output_type": "execute_result"
    }
   ],
   "source": [
    "train = train.dropna()\n",
    "train.shape"
   ]
  },
  {
   "cell_type": "markdown",
   "metadata": {},
   "source": [
    "Удалены строки с пропущеными значениями"
   ]
  },
  {
   "cell_type": "code",
   "execution_count": 637,
   "metadata": {},
   "outputs": [
    {
     "data": {
      "text/plain": [
       "(11017, 55)"
      ]
     },
     "execution_count": 637,
     "metadata": {},
     "output_type": "execute_result"
    }
   ],
   "source": [
    "train = train.drop(['final.output.concentrate_ag', 'final.output.concentrate_pb', 'final.output.concentrate_sol', 'final.output.concentrate_au', 'final.output.tail_ag', 'final.output.tail_pb', 'final.output.tail_sol', 'final.output.tail_au', 'primary_cleaner.output.concentrate_ag', 'primary_cleaner.output.concentrate_pb', 'primary_cleaner.output.concentrate_sol', 'primary_cleaner.output.concentrate_au', 'primary_cleaner.output.tail_ag', 'primary_cleaner.output.tail_pb', 'primary_cleaner.output.tail_sol', 'primary_cleaner.output.tail_au', 'rougher.calculation.sulfate_to_au_concentrate', 'rougher.calculation.floatbank10_sulfate_to_au_feed', 'rougher.calculation.floatbank11_sulfate_to_au_feed', 'rougher.calculation.au_pb_ratio', 'rougher.output.concentrate_ag', 'rougher.output.concentrate_pb', 'rougher.output.concentrate_sol', 'rougher.output.concentrate_au', 'rougher.output.recovery_calc', 'rougher.output.tail_ag', 'rougher.output.tail_pb', 'rougher.output.tail_sol', 'rougher.output.tail_au', 'secondary_cleaner.output.tail_ag', 'secondary_cleaner.output.tail_pb', 'secondary_cleaner.output.tail_sol', 'secondary_cleaner.output.tail_au'], axis=1)\n",
    "train.shape"
   ]
  },
  {
   "cell_type": "markdown",
   "metadata": {},
   "source": [
    "Удалены колонки, отсутствующие в тестовой выборке"
   ]
  },
  {
   "cell_type": "code",
   "execution_count": 638,
   "metadata": {},
   "outputs": [
    {
     "data": {
      "text/plain": [
       "(11017, 53)"
      ]
     },
     "execution_count": 638,
     "metadata": {},
     "output_type": "execute_result"
    }
   ],
   "source": [
    "features_rougher_train = train.drop(['rougher.output.recovery', 'date'], axis=1)\n",
    "features_rougher_train.shape"
   ]
  },
  {
   "cell_type": "code",
   "execution_count": 639,
   "metadata": {},
   "outputs": [
    {
     "data": {
      "text/plain": [
       "(11017,)"
      ]
     },
     "execution_count": 639,
     "metadata": {},
     "output_type": "execute_result"
    }
   ],
   "source": [
    "target_rougher_train = train['rougher.output.recovery']\n",
    "target_rougher_train.shape"
   ]
  },
  {
   "cell_type": "markdown",
   "metadata": {},
   "source": [
    "Из обучающей выборки выделены признаки/целевой признак для чернового концентрата. date является неинформативной колонкой"
   ]
  },
  {
   "cell_type": "code",
   "execution_count": 640,
   "metadata": {},
   "outputs": [],
   "source": [
    "features_final_train = train.drop(['final.output.recovery', 'date'], axis=1)\n",
    "target_final_train = train['final.output.recovery']"
   ]
  },
  {
   "cell_type": "markdown",
   "metadata": {},
   "source": [
    "Из обучающей выборки выделены признаки/целевой признак для финального концентрата. date является неинформативной колонкой"
   ]
  },
  {
   "cell_type": "code",
   "execution_count": 641,
   "metadata": {},
   "outputs": [
    {
     "name": "stdout",
     "output_type": "stream",
     "text": [
      "Средняя оценка качества модели чернового концентрата деревом решений: 19.248937790835956 при глубине дерева 10\n"
     ]
    }
   ],
   "source": [
    "best_model = None\n",
    "best_result_final = 50\n",
    "best_depth = 0\n",
    "for depth in range(1, 11):\n",
    "    model = DecisionTreeRegressor(random_state=12345, max_depth=depth)  \n",
    "    smape_scorer = make_scorer(smape, greater_is_better=False)\n",
    "    score = cross_val_score(model, features_rougher_train, target_rougher_train, scoring=smape_scorer, cv=5).mean()\n",
    "    if score < best_result_final:\n",
    "        best_model = model\n",
    "        best_result_final = score\n",
    "        best_depth = depth\n",
    "print('Средняя оценка качества модели чернового концентрата деревом решений:', abs(best_result_final), 'при глубине дерева', best_depth)"
   ]
  },
  {
   "cell_type": "code",
   "execution_count": 642,
   "metadata": {},
   "outputs": [
    {
     "name": "stdout",
     "output_type": "stream",
     "text": [
      "Средняя оценка качества модели финального концентрата деревом решений: 13.106459426415649 при глубине дерева 10\n"
     ]
    }
   ],
   "source": [
    "best_model = None\n",
    "best_result_final = 50\n",
    "best_depth = 0\n",
    "for depth in range(1, 11):\n",
    "    model = DecisionTreeRegressor(random_state=12345, max_depth=depth)  \n",
    "    smape_scorer = make_scorer(smape, greater_is_better=False)\n",
    "    score = cross_val_score(model, features_final_train, target_final_train, scoring=smape_scorer, cv=5).mean()\n",
    "    if score < best_result_final:\n",
    "        best_model = model\n",
    "        best_result_final = score\n",
    "        best_depth = depth\n",
    "print('Средняя оценка качества модели финального концентрата деревом решений:', abs(best_result_final), 'при глубине дерева', best_depth)"
   ]
  },
  {
   "cell_type": "markdown",
   "metadata": {},
   "source": [
    "Проведена кросс-валидация модели дерева решений\n",
    "\n",
    "Следующим шагом построим модели на основе случайного леса и линейной регрессии и проведем их кросс-валидацию"
   ]
  },
  {
   "cell_type": "code",
   "execution_count": 643,
   "metadata": {},
   "outputs": [
    {
     "name": "stdout",
     "output_type": "stream",
     "text": [
      "Средняя оценка качества модели чернового концентрата случайным лесом: 10.211335608762525\n"
     ]
    }
   ],
   "source": [
    "model = RandomForestRegressor(random_state=12345, n_estimators=5, max_depth=5)\n",
    "smape_scorer = make_scorer(smape, greater_is_better=False)\n",
    "score = cross_val_score(model, features_rougher_train, target_rougher_train, scoring=smape_scorer, cv=5).mean()\n",
    "print('Средняя оценка качества модели чернового концентрата случайным лесом:', abs(score))"
   ]
  },
  {
   "cell_type": "code",
   "execution_count": 644,
   "metadata": {},
   "outputs": [
    {
     "name": "stdout",
     "output_type": "stream",
     "text": [
      "Средняя оценка качества модели финального концентрата случайным лесом: 8.431373455022973\n"
     ]
    }
   ],
   "source": [
    "model = RandomForestRegressor(random_state=12345, n_estimators=5, max_depth=5)\n",
    "smape_scorer = make_scorer(smape, greater_is_better=False)\n",
    "score = cross_val_score(model, features_final_train, target_final_train, scoring=smape_scorer, cv=5).mean()\n",
    "print('Средняя оценка качества модели финального концентрата случайным лесом:', abs(score))"
   ]
  },
  {
   "cell_type": "markdown",
   "metadata": {},
   "source": [
    "Проведена кросс-валидация модели случайного леса\n",
    "\n",
    "Далее линейная регрессия"
   ]
  },
  {
   "cell_type": "code",
   "execution_count": 645,
   "metadata": {},
   "outputs": [
    {
     "name": "stdout",
     "output_type": "stream",
     "text": [
      "Средняя оценка качества модели чернового концентрата линейной регрессией: 11.39672272237882\n"
     ]
    }
   ],
   "source": [
    "model = LinearRegression()\n",
    "smape_scorer = make_scorer(smape, greater_is_better=False)\n",
    "score = cross_val_score(model, features_rougher_train, target_rougher_train, scoring=smape_scorer, cv=5).mean()\n",
    "print('Средняя оценка качества модели чернового концентрата линейной регрессией:', abs(score))"
   ]
  },
  {
   "cell_type": "code",
   "execution_count": 646,
   "metadata": {},
   "outputs": [
    {
     "name": "stdout",
     "output_type": "stream",
     "text": [
      "Средняя оценка качества модели финального концентрата: 9.56261076119887\n"
     ]
    }
   ],
   "source": [
    "model = LinearRegression()\n",
    "smape_scorer = make_scorer(smape, greater_is_better=False)\n",
    "score = cross_val_score(model, features_final_train, target_final_train, scoring=smape_scorer, cv=5).mean()\n",
    "print('Средняя оценка качества модели финального концентрата:', abs(score))"
   ]
  },
  {
   "cell_type": "markdown",
   "metadata": {},
   "source": [
    "Проведена кросс-валидация модели линейной регрессии\n",
    "\n",
    "Наилучший результат дает случайный лес. Применим модель к тестовой выборке"
   ]
  },
  {
   "cell_type": "code",
   "execution_count": 647,
   "metadata": {},
   "outputs": [
    {
     "name": "stdout",
     "output_type": "stream",
     "text": [
      "sMAPE лучшей модели чернового концентрата: 19.605496073688442\n"
     ]
    }
   ],
   "source": [
    "model = RandomForestRegressor(random_state=12345, n_estimators=5, max_depth=5)\n",
    "model.fit(features_rougher_train, target_rougher_train)\n",
    "predictions_rougher_test = model.predict(features_rougher_test)\n",
    "smape_rougher_forest = smape(target_rougher_test, predictions_rougher_test)\n",
    "print('sMAPE лучшей модели чернового концентрата:', smape_rougher_forest)"
   ]
  },
  {
   "cell_type": "code",
   "execution_count": 648,
   "metadata": {},
   "outputs": [
    {
     "name": "stdout",
     "output_type": "stream",
     "text": [
      "sMAPE лучшей модели чернового концентрата: 10.648372391329923\n"
     ]
    }
   ],
   "source": [
    "model = RandomForestRegressor(random_state=12345, n_estimators=5, max_depth=5)\n",
    "model.fit(features_final_train, target_final_train)\n",
    "predictions_final_test = model.predict(features_final_test)\n",
    "smape_final_forest = smape(target_final_test, predictions_final_test)\n",
    "print('sMAPE лучшей модели чернового концентрата:', smape_final_forest)"
   ]
  },
  {
   "cell_type": "code",
   "execution_count": 649,
   "metadata": {},
   "outputs": [
    {
     "name": "stdout",
     "output_type": "stream",
     "text": [
      "Общая sMAPE процесса: 12.887653311919554\n"
     ]
    }
   ],
   "source": [
    "print('Общая sMAPE процесса:', smape_rougher_forest*.25 + smape_final_forest*.75)"
   ]
  },
  {
   "cell_type": "markdown",
   "metadata": {},
   "source": [
    "Рассчитана sMAPE лучшей модели"
   ]
  },
  {
   "cell_type": "markdown",
   "metadata": {},
   "source": [
    "Сравним с dummy моделью"
   ]
  },
  {
   "cell_type": "code",
   "execution_count": 650,
   "metadata": {},
   "outputs": [
    {
     "name": "stdout",
     "output_type": "stream",
     "text": [
      "sMAPE dummy модели чернового концентрата: 19.62993352879496\n"
     ]
    }
   ],
   "source": [
    "smape_rougher_dummy = smape(target_rougher_test, predictions_rougher_test.mean())\n",
    "print('sMAPE dummy модели чернового концентрата:', smape_rougher_dummy)"
   ]
  },
  {
   "cell_type": "code",
   "execution_count": 651,
   "metadata": {},
   "outputs": [
    {
     "name": "stdout",
     "output_type": "stream",
     "text": [
      "sMAPE dummy модели финального концентрата: 10.148786074679371\n"
     ]
    }
   ],
   "source": [
    "smape_final_dummy = smape(target_final_test, predictions_final_test.mean())\n",
    "print('sMAPE dummy модели финального концентрата:', smape_final_dummy)"
   ]
  },
  {
   "cell_type": "code",
   "execution_count": 652,
   "metadata": {},
   "outputs": [
    {
     "name": "stdout",
     "output_type": "stream",
     "text": [
      "sMAPE dummy модели: 12.519072938208268\n"
     ]
    }
   ],
   "source": [
    "print('sMAPE dummy модели:', smape_rougher_dummy*.25 + smape_final_dummy*.75)"
   ]
  },
  {
   "cell_type": "markdown",
   "metadata": {},
   "source": [
    "В целом модель показывает близкие с dummy результаты"
   ]
  },
  {
   "cell_type": "markdown",
   "metadata": {},
   "source": [
    "По условиям задачи требовалось:\n",
    "- проанализировать процесс получения золота из руды на разных стадиях технологического процесса \n",
    "- оценить в динамике концентрацию металлов \n",
    "- сравнить различные модели для предсказания его концентрации, проверить их кросс-валидацией и выбрать наилучшую\n",
    "\n",
    "Решение включало стандартный набор операций:\n",
    "- предварительную подготовку данных\n",
    "- расчет и визуализацию арифметических показателей\n",
    "- применение и сравнение различных моделей прогнозирования\n",
    "\n",
    "Основные выводы:\n",
    "- концентрация основного извлекаемого металла, золота возрастает на всех стадиях технологического процесса с уменьшающейся эффективностью. Общая концентрация возрастает с 8.2 до 44.0\n",
    "- концентрации серебра и свинца меняются произвольно\n",
    "- часть хвостов отделить не получается\n",
    "- наилучшей моделью предсказания эффективности обогащения является линейная регрессия \n"
   ]
  }
 ],
 "metadata": {
  "ExecuteTimeLog": [
   {
    "duration": 1085,
    "start_time": "2022-07-15T10:59:50.373Z"
   },
   {
    "duration": 99,
    "start_time": "2022-07-15T11:00:46.547Z"
   },
   {
    "duration": 21,
    "start_time": "2022-07-15T11:00:56.791Z"
   },
   {
    "duration": 12,
    "start_time": "2022-07-15T11:02:16.849Z"
   },
   {
    "duration": 1269,
    "start_time": "2022-07-15T11:14:44.710Z"
   },
   {
    "duration": 312,
    "start_time": "2022-07-15T11:15:24.806Z"
   },
   {
    "duration": 19,
    "start_time": "2022-07-15T11:41:50.154Z"
   },
   {
    "duration": 15,
    "start_time": "2022-07-15T11:42:17.189Z"
   },
   {
    "duration": 3,
    "start_time": "2022-07-15T11:43:27.812Z"
   },
   {
    "duration": 323,
    "start_time": "2022-07-15T11:43:27.882Z"
   },
   {
    "duration": 19,
    "start_time": "2022-07-15T11:43:28.207Z"
   },
   {
    "duration": 189,
    "start_time": "2022-07-15T12:07:48.529Z"
   },
   {
    "duration": 13,
    "start_time": "2022-07-15T12:08:10.618Z"
   },
   {
    "duration": 45,
    "start_time": "2022-08-02T14:02:15.348Z"
   },
   {
    "duration": 1122,
    "start_time": "2022-08-02T14:02:21.288Z"
   },
   {
    "duration": 867,
    "start_time": "2022-08-02T14:02:22.412Z"
   },
   {
    "duration": 16,
    "start_time": "2022-08-02T14:02:23.281Z"
   },
   {
    "duration": 367,
    "start_time": "2022-08-02T14:02:23.299Z"
   },
   {
    "duration": 11,
    "start_time": "2022-08-02T14:02:23.667Z"
   },
   {
    "duration": 1618,
    "start_time": "2022-08-02T14:02:23.679Z"
   },
   {
    "duration": 16,
    "start_time": "2022-08-02T14:06:56.753Z"
   },
   {
    "duration": 48,
    "start_time": "2022-08-03T05:09:58.578Z"
   },
   {
    "duration": 1536,
    "start_time": "2022-08-03T05:10:03.452Z"
   },
   {
    "duration": 896,
    "start_time": "2022-08-03T05:10:04.990Z"
   },
   {
    "duration": 19,
    "start_time": "2022-08-03T05:10:05.888Z"
   },
   {
    "duration": 418,
    "start_time": "2022-08-03T05:10:05.909Z"
   },
   {
    "duration": 13,
    "start_time": "2022-08-03T05:10:06.330Z"
   },
   {
    "duration": 1759,
    "start_time": "2022-08-03T05:10:06.344Z"
   },
   {
    "duration": 24,
    "start_time": "2022-08-03T05:10:08.106Z"
   },
   {
    "duration": 3,
    "start_time": "2022-08-03T05:10:08.132Z"
   },
   {
    "duration": 3,
    "start_time": "2022-08-03T05:14:17.549Z"
   },
   {
    "duration": 3,
    "start_time": "2022-08-03T05:14:25.133Z"
   },
   {
    "duration": 317,
    "start_time": "2022-08-03T05:14:25.139Z"
   },
   {
    "duration": 16,
    "start_time": "2022-08-03T05:14:25.458Z"
   },
   {
    "duration": 101,
    "start_time": "2022-08-03T05:14:25.476Z"
   },
   {
    "duration": 11,
    "start_time": "2022-08-03T05:14:25.579Z"
   },
   {
    "duration": 408,
    "start_time": "2022-08-03T05:14:25.602Z"
   },
   {
    "duration": 22,
    "start_time": "2022-08-03T05:14:26.013Z"
   },
   {
    "duration": 4,
    "start_time": "2022-08-03T05:14:26.037Z"
   },
   {
    "duration": 5,
    "start_time": "2022-08-03T05:16:58.552Z"
   },
   {
    "duration": 66,
    "start_time": "2022-08-03T05:17:20.641Z"
   },
   {
    "duration": 3,
    "start_time": "2022-08-03T05:17:20.859Z"
   },
   {
    "duration": 280,
    "start_time": "2022-08-03T05:17:20.866Z"
   },
   {
    "duration": 15,
    "start_time": "2022-08-03T05:17:21.147Z"
   },
   {
    "duration": 96,
    "start_time": "2022-08-03T05:17:21.163Z"
   },
   {
    "duration": 11,
    "start_time": "2022-08-03T05:17:21.260Z"
   },
   {
    "duration": 357,
    "start_time": "2022-08-03T05:17:21.273Z"
   },
   {
    "duration": 24,
    "start_time": "2022-08-03T05:17:21.631Z"
   },
   {
    "duration": 48,
    "start_time": "2022-08-03T05:17:21.658Z"
   },
   {
    "duration": 3,
    "start_time": "2022-08-03T05:17:31.244Z"
   },
   {
    "duration": 307,
    "start_time": "2022-08-03T05:17:31.252Z"
   },
   {
    "duration": 18,
    "start_time": "2022-08-03T05:17:31.561Z"
   },
   {
    "duration": 101,
    "start_time": "2022-08-03T05:17:31.581Z"
   },
   {
    "duration": 18,
    "start_time": "2022-08-03T05:17:31.683Z"
   },
   {
    "duration": 353,
    "start_time": "2022-08-03T05:17:31.704Z"
   },
   {
    "duration": 18,
    "start_time": "2022-08-03T05:17:32.059Z"
   },
   {
    "duration": 65,
    "start_time": "2022-08-03T05:17:32.078Z"
   },
   {
    "duration": 5,
    "start_time": "2022-08-03T05:17:41.235Z"
   },
   {
    "duration": 4,
    "start_time": "2022-08-03T05:21:52.033Z"
   },
   {
    "duration": 16,
    "start_time": "2022-08-03T05:22:05.574Z"
   },
   {
    "duration": 4,
    "start_time": "2022-08-03T05:22:12.256Z"
   },
   {
    "duration": 276,
    "start_time": "2022-08-03T05:22:12.274Z"
   },
   {
    "duration": 16,
    "start_time": "2022-08-03T05:22:12.552Z"
   },
   {
    "duration": 121,
    "start_time": "2022-08-03T05:22:12.570Z"
   },
   {
    "duration": 12,
    "start_time": "2022-08-03T05:22:12.693Z"
   },
   {
    "duration": 362,
    "start_time": "2022-08-03T05:22:12.707Z"
   },
   {
    "duration": 30,
    "start_time": "2022-08-03T05:22:13.070Z"
   },
   {
    "duration": 16,
    "start_time": "2022-08-03T05:22:13.101Z"
   },
   {
    "duration": 38,
    "start_time": "2022-08-03T05:22:13.118Z"
   },
   {
    "duration": 3,
    "start_time": "2022-08-03T05:26:16.041Z"
   },
   {
    "duration": 3,
    "start_time": "2022-08-03T05:26:20.952Z"
   },
   {
    "duration": 272,
    "start_time": "2022-08-03T05:26:20.965Z"
   },
   {
    "duration": 15,
    "start_time": "2022-08-03T05:26:21.238Z"
   },
   {
    "duration": 86,
    "start_time": "2022-08-03T05:26:21.255Z"
   },
   {
    "duration": 11,
    "start_time": "2022-08-03T05:26:21.343Z"
   },
   {
    "duration": 362,
    "start_time": "2022-08-03T05:26:21.356Z"
   },
   {
    "duration": 17,
    "start_time": "2022-08-03T05:26:21.720Z"
   },
   {
    "duration": 4,
    "start_time": "2022-08-03T05:26:21.738Z"
   },
   {
    "duration": 0,
    "start_time": "2022-08-03T05:26:21.743Z"
   },
   {
    "duration": 5,
    "start_time": "2022-08-03T05:26:39.341Z"
   },
   {
    "duration": 14,
    "start_time": "2022-08-03T05:26:42.145Z"
   },
   {
    "duration": 3,
    "start_time": "2022-08-03T05:28:47.851Z"
   },
   {
    "duration": 272,
    "start_time": "2022-08-03T05:28:47.862Z"
   },
   {
    "duration": 17,
    "start_time": "2022-08-03T05:28:48.136Z"
   },
   {
    "duration": 89,
    "start_time": "2022-08-03T05:28:48.155Z"
   },
   {
    "duration": 77,
    "start_time": "2022-08-03T05:28:48.245Z"
   },
   {
    "duration": 327,
    "start_time": "2022-08-03T05:28:48.325Z"
   },
   {
    "duration": 19,
    "start_time": "2022-08-03T05:28:48.654Z"
   },
   {
    "duration": 5,
    "start_time": "2022-08-03T05:28:48.674Z"
   },
   {
    "duration": 29,
    "start_time": "2022-08-03T05:28:48.681Z"
   },
   {
    "duration": 5,
    "start_time": "2022-08-03T05:29:05.665Z"
   },
   {
    "duration": 4,
    "start_time": "2022-08-03T05:29:26.341Z"
   },
   {
    "duration": 5,
    "start_time": "2022-08-03T05:30:32.361Z"
   },
   {
    "duration": 3,
    "start_time": "2022-08-03T05:30:36.057Z"
   },
   {
    "duration": 260,
    "start_time": "2022-08-03T05:30:36.064Z"
   },
   {
    "duration": 15,
    "start_time": "2022-08-03T05:30:36.326Z"
   },
   {
    "duration": 84,
    "start_time": "2022-08-03T05:30:36.342Z"
   },
   {
    "duration": 11,
    "start_time": "2022-08-03T05:30:36.427Z"
   },
   {
    "duration": 327,
    "start_time": "2022-08-03T05:30:36.440Z"
   },
   {
    "duration": 16,
    "start_time": "2022-08-03T05:30:36.768Z"
   },
   {
    "duration": 15,
    "start_time": "2022-08-03T05:30:36.785Z"
   },
   {
    "duration": 4,
    "start_time": "2022-08-03T05:30:36.801Z"
   },
   {
    "duration": 9,
    "start_time": "2022-08-03T05:30:36.807Z"
   },
   {
    "duration": 3,
    "start_time": "2022-08-03T05:38:06.775Z"
   },
   {
    "duration": 46,
    "start_time": "2022-08-03T05:39:56.846Z"
   },
   {
    "duration": 4,
    "start_time": "2022-08-03T05:41:16.361Z"
   },
   {
    "duration": 6,
    "start_time": "2022-08-03T05:41:30.891Z"
   },
   {
    "duration": 57,
    "start_time": "2022-08-03T06:23:15.639Z"
   },
   {
    "duration": 5,
    "start_time": "2022-08-03T06:23:34.453Z"
   },
   {
    "duration": 4,
    "start_time": "2022-08-03T06:32:56.428Z"
   },
   {
    "duration": 3,
    "start_time": "2022-08-03T06:33:10.781Z"
   },
   {
    "duration": 291,
    "start_time": "2022-08-03T06:33:10.824Z"
   },
   {
    "duration": 14,
    "start_time": "2022-08-03T06:33:11.117Z"
   },
   {
    "duration": 19,
    "start_time": "2022-08-03T06:33:11.133Z"
   },
   {
    "duration": 95,
    "start_time": "2022-08-03T06:33:11.154Z"
   },
   {
    "duration": 11,
    "start_time": "2022-08-03T06:33:11.251Z"
   },
   {
    "duration": 387,
    "start_time": "2022-08-03T06:33:11.264Z"
   },
   {
    "duration": 17,
    "start_time": "2022-08-03T06:33:11.653Z"
   },
   {
    "duration": 6,
    "start_time": "2022-08-03T06:33:11.671Z"
   },
   {
    "duration": 8,
    "start_time": "2022-08-03T06:33:11.678Z"
   },
   {
    "duration": 5,
    "start_time": "2022-08-03T06:33:11.688Z"
   },
   {
    "duration": 5,
    "start_time": "2022-08-03T06:41:15.996Z"
   },
   {
    "duration": 19,
    "start_time": "2022-08-03T06:41:38.435Z"
   },
   {
    "duration": 4,
    "start_time": "2022-08-03T06:41:53.381Z"
   },
   {
    "duration": 278,
    "start_time": "2022-08-03T06:41:53.428Z"
   },
   {
    "duration": 14,
    "start_time": "2022-08-03T06:41:53.708Z"
   },
   {
    "duration": 5,
    "start_time": "2022-08-03T06:41:53.724Z"
   },
   {
    "duration": 22,
    "start_time": "2022-08-03T06:41:53.730Z"
   },
   {
    "duration": 108,
    "start_time": "2022-08-03T06:41:53.754Z"
   },
   {
    "duration": 12,
    "start_time": "2022-08-03T06:41:53.864Z"
   },
   {
    "duration": 352,
    "start_time": "2022-08-03T06:41:53.878Z"
   },
   {
    "duration": 15,
    "start_time": "2022-08-03T06:41:54.231Z"
   },
   {
    "duration": 4,
    "start_time": "2022-08-03T06:41:54.248Z"
   },
   {
    "duration": 6,
    "start_time": "2022-08-03T06:41:54.253Z"
   },
   {
    "duration": 5,
    "start_time": "2022-08-03T06:41:54.260Z"
   },
   {
    "duration": 10,
    "start_time": "2022-08-03T06:43:29.630Z"
   },
   {
    "duration": 15,
    "start_time": "2022-08-03T06:47:03.581Z"
   },
   {
    "duration": 7,
    "start_time": "2022-08-03T06:47:10.126Z"
   },
   {
    "duration": 22,
    "start_time": "2022-08-03T06:54:24.136Z"
   },
   {
    "duration": 9,
    "start_time": "2022-08-03T06:54:30.125Z"
   },
   {
    "duration": 3,
    "start_time": "2022-08-03T06:55:36.514Z"
   },
   {
    "duration": 263,
    "start_time": "2022-08-03T06:55:36.519Z"
   },
   {
    "duration": 21,
    "start_time": "2022-08-03T06:55:36.784Z"
   },
   {
    "duration": 6,
    "start_time": "2022-08-03T06:55:36.807Z"
   },
   {
    "duration": 89,
    "start_time": "2022-08-03T06:55:36.815Z"
   },
   {
    "duration": 10,
    "start_time": "2022-08-03T06:55:36.906Z"
   },
   {
    "duration": 4,
    "start_time": "2022-08-03T06:55:36.918Z"
   },
   {
    "duration": 334,
    "start_time": "2022-08-03T06:55:36.923Z"
   },
   {
    "duration": 15,
    "start_time": "2022-08-03T06:55:37.259Z"
   },
   {
    "duration": 6,
    "start_time": "2022-08-03T06:55:37.275Z"
   },
   {
    "duration": 20,
    "start_time": "2022-08-03T06:55:37.283Z"
   },
   {
    "duration": 6,
    "start_time": "2022-08-03T06:55:37.305Z"
   },
   {
    "duration": 4,
    "start_time": "2022-08-03T06:55:37.312Z"
   },
   {
    "duration": 5,
    "start_time": "2022-08-03T10:05:10.734Z"
   },
   {
    "duration": 3,
    "start_time": "2022-08-03T10:05:17.761Z"
   },
   {
    "duration": 300,
    "start_time": "2022-08-03T10:05:17.771Z"
   },
   {
    "duration": 15,
    "start_time": "2022-08-03T10:05:18.073Z"
   },
   {
    "duration": 6,
    "start_time": "2022-08-03T10:05:18.099Z"
   },
   {
    "duration": 107,
    "start_time": "2022-08-03T10:05:18.107Z"
   },
   {
    "duration": 14,
    "start_time": "2022-08-03T10:05:18.216Z"
   },
   {
    "duration": 5,
    "start_time": "2022-08-03T10:05:18.232Z"
   },
   {
    "duration": 357,
    "start_time": "2022-08-03T10:05:18.239Z"
   },
   {
    "duration": 17,
    "start_time": "2022-08-03T10:05:18.599Z"
   },
   {
    "duration": 6,
    "start_time": "2022-08-03T10:05:18.618Z"
   },
   {
    "duration": 7,
    "start_time": "2022-08-03T10:05:18.625Z"
   },
   {
    "duration": 6,
    "start_time": "2022-08-03T10:05:18.634Z"
   },
   {
    "duration": 9,
    "start_time": "2022-08-03T10:05:18.641Z"
   },
   {
    "duration": 3,
    "start_time": "2022-08-03T10:08:17.169Z"
   },
   {
    "duration": 280,
    "start_time": "2022-08-03T10:08:17.187Z"
   },
   {
    "duration": 16,
    "start_time": "2022-08-03T10:08:17.469Z"
   },
   {
    "duration": 6,
    "start_time": "2022-08-03T10:08:17.500Z"
   },
   {
    "duration": 94,
    "start_time": "2022-08-03T10:08:17.509Z"
   },
   {
    "duration": 11,
    "start_time": "2022-08-03T10:08:17.606Z"
   },
   {
    "duration": 11,
    "start_time": "2022-08-03T10:08:17.618Z"
   },
   {
    "duration": 358,
    "start_time": "2022-08-03T10:08:17.630Z"
   },
   {
    "duration": 25,
    "start_time": "2022-08-03T10:08:17.989Z"
   },
   {
    "duration": 7,
    "start_time": "2022-08-03T10:08:18.016Z"
   },
   {
    "duration": 10,
    "start_time": "2022-08-03T10:08:18.025Z"
   },
   {
    "duration": 8,
    "start_time": "2022-08-03T10:08:18.037Z"
   },
   {
    "duration": 21,
    "start_time": "2022-08-03T10:08:18.046Z"
   },
   {
    "duration": 6,
    "start_time": "2022-08-03T10:08:18.069Z"
   },
   {
    "duration": 5,
    "start_time": "2022-08-03T10:14:16.829Z"
   },
   {
    "duration": 4,
    "start_time": "2022-08-03T10:16:48.867Z"
   },
   {
    "duration": 4,
    "start_time": "2022-08-03T10:17:41.529Z"
   },
   {
    "duration": 280,
    "start_time": "2022-08-03T10:17:41.560Z"
   },
   {
    "duration": 15,
    "start_time": "2022-08-03T10:17:41.842Z"
   },
   {
    "duration": 12,
    "start_time": "2022-08-03T10:17:41.858Z"
   },
   {
    "duration": 114,
    "start_time": "2022-08-03T10:17:41.871Z"
   },
   {
    "duration": 12,
    "start_time": "2022-08-03T10:17:41.988Z"
   },
   {
    "duration": 21,
    "start_time": "2022-08-03T10:17:42.002Z"
   },
   {
    "duration": 370,
    "start_time": "2022-08-03T10:17:42.024Z"
   },
   {
    "duration": 18,
    "start_time": "2022-08-03T10:17:42.396Z"
   },
   {
    "duration": 7,
    "start_time": "2022-08-03T10:17:42.415Z"
   },
   {
    "duration": 29,
    "start_time": "2022-08-03T10:17:42.424Z"
   },
   {
    "duration": 22,
    "start_time": "2022-08-03T10:17:42.455Z"
   },
   {
    "duration": 18,
    "start_time": "2022-08-03T10:17:42.479Z"
   },
   {
    "duration": 21,
    "start_time": "2022-08-03T10:17:42.499Z"
   },
   {
    "duration": 22,
    "start_time": "2022-08-03T10:17:42.523Z"
   },
   {
    "duration": 5,
    "start_time": "2022-08-03T10:22:30.536Z"
   },
   {
    "duration": 5,
    "start_time": "2022-08-03T10:27:29.759Z"
   },
   {
    "duration": 3,
    "start_time": "2022-08-03T11:13:51.228Z"
   },
   {
    "duration": 286,
    "start_time": "2022-08-03T11:13:51.236Z"
   },
   {
    "duration": 19,
    "start_time": "2022-08-03T11:13:51.524Z"
   },
   {
    "duration": 17,
    "start_time": "2022-08-03T11:13:51.545Z"
   },
   {
    "duration": 114,
    "start_time": "2022-08-03T11:13:51.564Z"
   },
   {
    "duration": 21,
    "start_time": "2022-08-03T11:13:51.680Z"
   },
   {
    "duration": 14,
    "start_time": "2022-08-03T11:13:51.703Z"
   },
   {
    "duration": 367,
    "start_time": "2022-08-03T11:13:51.719Z"
   },
   {
    "duration": 20,
    "start_time": "2022-08-03T11:13:52.088Z"
   },
   {
    "duration": 10,
    "start_time": "2022-08-03T11:13:52.110Z"
   },
   {
    "duration": 14,
    "start_time": "2022-08-03T11:13:52.122Z"
   },
   {
    "duration": 10,
    "start_time": "2022-08-03T11:13:52.138Z"
   },
   {
    "duration": 5,
    "start_time": "2022-08-03T11:13:52.150Z"
   },
   {
    "duration": 12,
    "start_time": "2022-08-03T11:13:52.157Z"
   },
   {
    "duration": 6,
    "start_time": "2022-08-03T11:13:52.172Z"
   },
   {
    "duration": 23,
    "start_time": "2022-08-03T11:13:52.180Z"
   },
   {
    "duration": 6,
    "start_time": "2022-08-03T11:27:03.887Z"
   },
   {
    "duration": 4,
    "start_time": "2022-08-03T12:04:39.681Z"
   },
   {
    "duration": 288,
    "start_time": "2022-08-03T12:05:05.722Z"
   },
   {
    "duration": 5,
    "start_time": "2022-08-03T12:09:22.570Z"
   },
   {
    "duration": 4,
    "start_time": "2022-08-03T14:04:01.279Z"
   },
   {
    "duration": 4,
    "start_time": "2022-08-03T14:07:06.709Z"
   },
   {
    "duration": 4,
    "start_time": "2022-08-03T14:07:14.344Z"
   },
   {
    "duration": 3,
    "start_time": "2022-08-03T14:07:24.046Z"
   },
   {
    "duration": 271,
    "start_time": "2022-08-03T14:07:24.051Z"
   },
   {
    "duration": 15,
    "start_time": "2022-08-03T14:07:24.323Z"
   },
   {
    "duration": 6,
    "start_time": "2022-08-03T14:07:24.339Z"
   },
   {
    "duration": 96,
    "start_time": "2022-08-03T14:07:24.346Z"
   },
   {
    "duration": 11,
    "start_time": "2022-08-03T14:07:24.443Z"
   },
   {
    "duration": 9,
    "start_time": "2022-08-03T14:07:24.456Z"
   },
   {
    "duration": 356,
    "start_time": "2022-08-03T14:07:24.467Z"
   },
   {
    "duration": 17,
    "start_time": "2022-08-03T14:07:24.825Z"
   },
   {
    "duration": 6,
    "start_time": "2022-08-03T14:07:24.844Z"
   },
   {
    "duration": 10,
    "start_time": "2022-08-03T14:07:24.851Z"
   },
   {
    "duration": 6,
    "start_time": "2022-08-03T14:07:24.862Z"
   },
   {
    "duration": 8,
    "start_time": "2022-08-03T14:07:24.870Z"
   },
   {
    "duration": 23,
    "start_time": "2022-08-03T14:07:24.879Z"
   },
   {
    "duration": 4,
    "start_time": "2022-08-03T14:07:24.903Z"
   },
   {
    "duration": 11,
    "start_time": "2022-08-03T14:07:24.908Z"
   },
   {
    "duration": 9,
    "start_time": "2022-08-03T14:07:24.921Z"
   },
   {
    "duration": 10,
    "start_time": "2022-08-03T14:07:24.932Z"
   },
   {
    "duration": 12,
    "start_time": "2022-08-03T14:07:24.943Z"
   },
   {
    "duration": 6,
    "start_time": "2022-08-03T14:07:24.956Z"
   },
   {
    "duration": 4,
    "start_time": "2022-08-03T14:14:20.750Z"
   },
   {
    "duration": 5,
    "start_time": "2022-08-03T14:14:28.175Z"
   },
   {
    "duration": 4,
    "start_time": "2022-08-03T14:15:21.979Z"
   },
   {
    "duration": 4,
    "start_time": "2022-08-03T14:16:49.153Z"
   },
   {
    "duration": 5,
    "start_time": "2022-08-03T14:16:58.545Z"
   },
   {
    "duration": 5,
    "start_time": "2022-08-03T14:17:05.759Z"
   },
   {
    "duration": 4,
    "start_time": "2022-08-03T15:08:36.728Z"
   },
   {
    "duration": 5,
    "start_time": "2022-08-03T15:11:30.455Z"
   },
   {
    "duration": 3,
    "start_time": "2022-08-03T15:15:45.635Z"
   },
   {
    "duration": 276,
    "start_time": "2022-08-03T15:15:45.654Z"
   },
   {
    "duration": 15,
    "start_time": "2022-08-03T15:15:45.932Z"
   },
   {
    "duration": 5,
    "start_time": "2022-08-03T15:15:45.948Z"
   },
   {
    "duration": 90,
    "start_time": "2022-08-03T15:15:45.955Z"
   },
   {
    "duration": 11,
    "start_time": "2022-08-03T15:15:46.047Z"
   },
   {
    "duration": 13,
    "start_time": "2022-08-03T15:15:46.059Z"
   },
   {
    "duration": 335,
    "start_time": "2022-08-03T15:15:46.073Z"
   },
   {
    "duration": 16,
    "start_time": "2022-08-03T15:15:46.410Z"
   },
   {
    "duration": 6,
    "start_time": "2022-08-03T15:15:46.427Z"
   },
   {
    "duration": 14,
    "start_time": "2022-08-03T15:15:46.435Z"
   },
   {
    "duration": 9,
    "start_time": "2022-08-03T15:15:46.451Z"
   },
   {
    "duration": 9,
    "start_time": "2022-08-03T15:15:46.461Z"
   },
   {
    "duration": 10,
    "start_time": "2022-08-03T15:15:46.471Z"
   },
   {
    "duration": 6,
    "start_time": "2022-08-03T15:15:46.484Z"
   },
   {
    "duration": 9,
    "start_time": "2022-08-03T15:15:46.492Z"
   },
   {
    "duration": 11,
    "start_time": "2022-08-03T15:15:46.502Z"
   },
   {
    "duration": 11,
    "start_time": "2022-08-03T15:15:46.514Z"
   },
   {
    "duration": 11,
    "start_time": "2022-08-03T15:15:46.526Z"
   },
   {
    "duration": 6,
    "start_time": "2022-08-03T15:15:46.538Z"
   },
   {
    "duration": 9,
    "start_time": "2022-08-03T15:15:46.545Z"
   },
   {
    "duration": 10,
    "start_time": "2022-08-03T15:15:46.555Z"
   },
   {
    "duration": 6,
    "start_time": "2022-08-03T15:15:46.567Z"
   },
   {
    "duration": 7,
    "start_time": "2022-08-03T15:15:46.574Z"
   },
   {
    "duration": 4,
    "start_time": "2022-08-03T15:37:53.735Z"
   },
   {
    "duration": 4,
    "start_time": "2022-08-03T15:37:57.943Z"
   },
   {
    "duration": 285,
    "start_time": "2022-08-03T15:37:57.957Z"
   },
   {
    "duration": 15,
    "start_time": "2022-08-03T15:37:58.244Z"
   },
   {
    "duration": 7,
    "start_time": "2022-08-03T15:37:58.261Z"
   },
   {
    "duration": 91,
    "start_time": "2022-08-03T15:37:58.269Z"
   },
   {
    "duration": 12,
    "start_time": "2022-08-03T15:37:58.363Z"
   },
   {
    "duration": 5,
    "start_time": "2022-08-03T15:37:58.377Z"
   },
   {
    "duration": 373,
    "start_time": "2022-08-03T15:37:58.383Z"
   },
   {
    "duration": 20,
    "start_time": "2022-08-03T15:37:58.757Z"
   },
   {
    "duration": 22,
    "start_time": "2022-08-03T15:37:58.779Z"
   },
   {
    "duration": 11,
    "start_time": "2022-08-03T15:37:58.803Z"
   },
   {
    "duration": 7,
    "start_time": "2022-08-03T15:37:58.815Z"
   },
   {
    "duration": 11,
    "start_time": "2022-08-03T15:37:58.824Z"
   },
   {
    "duration": 6,
    "start_time": "2022-08-03T15:37:58.836Z"
   },
   {
    "duration": 5,
    "start_time": "2022-08-03T15:37:58.844Z"
   },
   {
    "duration": 15,
    "start_time": "2022-08-03T15:37:58.850Z"
   },
   {
    "duration": 15,
    "start_time": "2022-08-03T15:37:58.867Z"
   },
   {
    "duration": 9,
    "start_time": "2022-08-03T15:37:58.883Z"
   },
   {
    "duration": 9,
    "start_time": "2022-08-03T15:37:58.893Z"
   },
   {
    "duration": 5,
    "start_time": "2022-08-03T15:37:58.903Z"
   },
   {
    "duration": 6,
    "start_time": "2022-08-03T15:37:58.910Z"
   },
   {
    "duration": 4,
    "start_time": "2022-08-03T15:37:58.917Z"
   },
   {
    "duration": 6,
    "start_time": "2022-08-03T15:37:58.922Z"
   },
   {
    "duration": 5,
    "start_time": "2022-08-03T15:37:58.929Z"
   },
   {
    "duration": 4,
    "start_time": "2022-08-03T15:37:58.935Z"
   },
   {
    "duration": 8,
    "start_time": "2022-08-03T15:38:23.888Z"
   },
   {
    "duration": 4,
    "start_time": "2022-08-03T15:38:29.836Z"
   },
   {
    "duration": 4,
    "start_time": "2022-08-03T15:39:03.145Z"
   },
   {
    "duration": 274,
    "start_time": "2022-08-03T15:39:03.161Z"
   },
   {
    "duration": 15,
    "start_time": "2022-08-03T15:39:03.437Z"
   },
   {
    "duration": 11,
    "start_time": "2022-08-03T15:39:03.454Z"
   },
   {
    "duration": 91,
    "start_time": "2022-08-03T15:39:03.466Z"
   },
   {
    "duration": 12,
    "start_time": "2022-08-03T15:39:03.559Z"
   },
   {
    "duration": 6,
    "start_time": "2022-08-03T15:39:03.573Z"
   },
   {
    "duration": 356,
    "start_time": "2022-08-03T15:39:03.581Z"
   },
   {
    "duration": 18,
    "start_time": "2022-08-03T15:39:03.938Z"
   },
   {
    "duration": 7,
    "start_time": "2022-08-03T15:39:03.958Z"
   },
   {
    "duration": 15,
    "start_time": "2022-08-03T15:39:03.967Z"
   },
   {
    "duration": 18,
    "start_time": "2022-08-03T15:39:03.984Z"
   },
   {
    "duration": 12,
    "start_time": "2022-08-03T15:39:04.003Z"
   },
   {
    "duration": 12,
    "start_time": "2022-08-03T15:39:04.016Z"
   },
   {
    "duration": 9,
    "start_time": "2022-08-03T15:39:04.030Z"
   },
   {
    "duration": 8,
    "start_time": "2022-08-03T15:39:04.041Z"
   },
   {
    "duration": 15,
    "start_time": "2022-08-03T15:39:04.050Z"
   },
   {
    "duration": 16,
    "start_time": "2022-08-03T15:39:04.066Z"
   },
   {
    "duration": 11,
    "start_time": "2022-08-03T15:39:04.083Z"
   },
   {
    "duration": 6,
    "start_time": "2022-08-03T15:39:04.095Z"
   },
   {
    "duration": 9,
    "start_time": "2022-08-03T15:39:04.103Z"
   },
   {
    "duration": 9,
    "start_time": "2022-08-03T15:39:04.113Z"
   },
   {
    "duration": 14,
    "start_time": "2022-08-03T15:39:04.123Z"
   },
   {
    "duration": 6,
    "start_time": "2022-08-03T15:39:04.139Z"
   },
   {
    "duration": 11,
    "start_time": "2022-08-03T15:39:04.146Z"
   },
   {
    "duration": 5,
    "start_time": "2022-08-03T15:39:51.884Z"
   },
   {
    "duration": 6,
    "start_time": "2022-08-03T15:40:17.040Z"
   },
   {
    "duration": 4,
    "start_time": "2022-08-03T15:40:23.035Z"
   },
   {
    "duration": 72,
    "start_time": "2022-08-03T16:12:41.100Z"
   },
   {
    "duration": 3,
    "start_time": "2022-08-03T16:12:48.914Z"
   },
   {
    "duration": 4,
    "start_time": "2022-08-03T16:13:04.123Z"
   },
   {
    "duration": 4,
    "start_time": "2022-08-03T16:16:56.593Z"
   },
   {
    "duration": 5,
    "start_time": "2022-08-03T16:23:46.293Z"
   },
   {
    "duration": 4,
    "start_time": "2022-08-03T16:24:44.293Z"
   },
   {
    "duration": 64,
    "start_time": "2022-08-03T16:32:24.000Z"
   },
   {
    "duration": 4,
    "start_time": "2022-08-03T16:33:15.565Z"
   },
   {
    "duration": 276,
    "start_time": "2022-08-03T16:33:15.576Z"
   },
   {
    "duration": 16,
    "start_time": "2022-08-03T16:33:15.854Z"
   },
   {
    "duration": 6,
    "start_time": "2022-08-03T16:33:15.872Z"
   },
   {
    "duration": 112,
    "start_time": "2022-08-03T16:33:15.880Z"
   },
   {
    "duration": 13,
    "start_time": "2022-08-03T16:33:15.994Z"
   },
   {
    "duration": 5,
    "start_time": "2022-08-03T16:33:16.009Z"
   },
   {
    "duration": 361,
    "start_time": "2022-08-03T16:33:16.016Z"
   },
   {
    "duration": 24,
    "start_time": "2022-08-03T16:33:16.379Z"
   },
   {
    "duration": 7,
    "start_time": "2022-08-03T16:33:16.405Z"
   },
   {
    "duration": 7,
    "start_time": "2022-08-03T16:33:16.414Z"
   },
   {
    "duration": 5,
    "start_time": "2022-08-03T16:33:16.423Z"
   },
   {
    "duration": 4,
    "start_time": "2022-08-03T16:33:16.430Z"
   },
   {
    "duration": 10,
    "start_time": "2022-08-03T16:33:16.436Z"
   },
   {
    "duration": 4,
    "start_time": "2022-08-03T16:33:16.449Z"
   },
   {
    "duration": 6,
    "start_time": "2022-08-03T16:33:16.455Z"
   },
   {
    "duration": 39,
    "start_time": "2022-08-03T16:33:16.463Z"
   },
   {
    "duration": 9,
    "start_time": "2022-08-03T16:33:16.504Z"
   },
   {
    "duration": 9,
    "start_time": "2022-08-03T16:33:16.514Z"
   },
   {
    "duration": 15,
    "start_time": "2022-08-03T16:33:16.525Z"
   },
   {
    "duration": 10,
    "start_time": "2022-08-03T16:33:16.542Z"
   },
   {
    "duration": 7,
    "start_time": "2022-08-03T16:33:16.553Z"
   },
   {
    "duration": 7,
    "start_time": "2022-08-03T16:33:16.561Z"
   },
   {
    "duration": 11,
    "start_time": "2022-08-03T16:33:16.569Z"
   },
   {
    "duration": 9,
    "start_time": "2022-08-03T16:33:16.581Z"
   },
   {
    "duration": 19,
    "start_time": "2022-08-03T16:33:16.592Z"
   },
   {
    "duration": 3,
    "start_time": "2022-08-03T19:12:55.864Z"
   },
   {
    "duration": 4,
    "start_time": "2022-08-03T19:13:20.777Z"
   },
   {
    "duration": 5,
    "start_time": "2022-08-03T19:14:10.456Z"
   },
   {
    "duration": 4,
    "start_time": "2022-08-03T19:14:38.952Z"
   },
   {
    "duration": 5,
    "start_time": "2022-08-03T19:21:49.765Z"
   },
   {
    "duration": 4,
    "start_time": "2022-08-03T19:24:48.852Z"
   },
   {
    "duration": 4,
    "start_time": "2022-08-03T19:25:15.466Z"
   },
   {
    "duration": 4,
    "start_time": "2022-08-03T19:27:45.433Z"
   },
   {
    "duration": 5,
    "start_time": "2022-08-03T19:28:06.156Z"
   },
   {
    "duration": 4,
    "start_time": "2022-08-03T19:28:14.236Z"
   },
   {
    "duration": 3,
    "start_time": "2022-08-03T19:28:40.360Z"
   },
   {
    "duration": 298,
    "start_time": "2022-08-03T19:28:40.387Z"
   },
   {
    "duration": 17,
    "start_time": "2022-08-03T19:28:40.686Z"
   },
   {
    "duration": 6,
    "start_time": "2022-08-03T19:28:40.704Z"
   },
   {
    "duration": 93,
    "start_time": "2022-08-03T19:28:40.711Z"
   },
   {
    "duration": 11,
    "start_time": "2022-08-03T19:28:40.806Z"
   },
   {
    "duration": 4,
    "start_time": "2022-08-03T19:28:40.819Z"
   },
   {
    "duration": 339,
    "start_time": "2022-08-03T19:28:40.825Z"
   },
   {
    "duration": 15,
    "start_time": "2022-08-03T19:28:41.166Z"
   },
   {
    "duration": 17,
    "start_time": "2022-08-03T19:28:41.182Z"
   },
   {
    "duration": 13,
    "start_time": "2022-08-03T19:28:41.201Z"
   },
   {
    "duration": 52,
    "start_time": "2022-08-03T19:28:41.215Z"
   },
   {
    "duration": 29,
    "start_time": "2022-08-03T19:28:41.268Z"
   },
   {
    "duration": 26,
    "start_time": "2022-08-03T19:28:41.299Z"
   },
   {
    "duration": 20,
    "start_time": "2022-08-03T19:28:41.328Z"
   },
   {
    "duration": 30,
    "start_time": "2022-08-03T19:28:41.350Z"
   },
   {
    "duration": 23,
    "start_time": "2022-08-03T19:28:41.382Z"
   },
   {
    "duration": 34,
    "start_time": "2022-08-03T19:28:41.406Z"
   },
   {
    "duration": 27,
    "start_time": "2022-08-03T19:28:41.443Z"
   },
   {
    "duration": 21,
    "start_time": "2022-08-03T19:28:41.472Z"
   },
   {
    "duration": 19,
    "start_time": "2022-08-03T19:28:41.495Z"
   },
   {
    "duration": 10,
    "start_time": "2022-08-03T19:28:41.517Z"
   },
   {
    "duration": 16,
    "start_time": "2022-08-03T19:28:41.528Z"
   },
   {
    "duration": 26,
    "start_time": "2022-08-03T19:28:41.546Z"
   },
   {
    "duration": 15,
    "start_time": "2022-08-03T19:28:41.574Z"
   },
   {
    "duration": 50,
    "start_time": "2022-08-03T19:28:41.591Z"
   },
   {
    "duration": 24,
    "start_time": "2022-08-03T19:28:41.642Z"
   },
   {
    "duration": 23,
    "start_time": "2022-08-03T19:28:41.667Z"
   },
   {
    "duration": 28,
    "start_time": "2022-08-03T19:28:41.691Z"
   },
   {
    "duration": 23,
    "start_time": "2022-08-03T19:28:41.720Z"
   },
   {
    "duration": 4,
    "start_time": "2022-08-03T19:34:02.752Z"
   },
   {
    "duration": 301,
    "start_time": "2022-08-03T19:34:02.760Z"
   },
   {
    "duration": 17,
    "start_time": "2022-08-03T19:34:03.064Z"
   },
   {
    "duration": 19,
    "start_time": "2022-08-03T19:34:03.083Z"
   },
   {
    "duration": 110,
    "start_time": "2022-08-03T19:34:03.104Z"
   },
   {
    "duration": 12,
    "start_time": "2022-08-03T19:34:03.216Z"
   },
   {
    "duration": 7,
    "start_time": "2022-08-03T19:34:03.229Z"
   },
   {
    "duration": 341,
    "start_time": "2022-08-03T19:34:03.238Z"
   },
   {
    "duration": 20,
    "start_time": "2022-08-03T19:34:03.580Z"
   },
   {
    "duration": 6,
    "start_time": "2022-08-03T19:34:03.601Z"
   },
   {
    "duration": 8,
    "start_time": "2022-08-03T19:34:03.609Z"
   },
   {
    "duration": 8,
    "start_time": "2022-08-03T19:34:03.618Z"
   },
   {
    "duration": 8,
    "start_time": "2022-08-03T19:34:03.628Z"
   },
   {
    "duration": 8,
    "start_time": "2022-08-03T19:34:03.637Z"
   },
   {
    "duration": 6,
    "start_time": "2022-08-03T19:34:03.647Z"
   },
   {
    "duration": 7,
    "start_time": "2022-08-03T19:34:03.654Z"
   },
   {
    "duration": 7,
    "start_time": "2022-08-03T19:34:03.662Z"
   },
   {
    "duration": 8,
    "start_time": "2022-08-03T19:34:03.670Z"
   },
   {
    "duration": 21,
    "start_time": "2022-08-03T19:34:03.679Z"
   },
   {
    "duration": 4,
    "start_time": "2022-08-03T19:34:03.701Z"
   },
   {
    "duration": 11,
    "start_time": "2022-08-03T19:34:03.706Z"
   },
   {
    "duration": 8,
    "start_time": "2022-08-03T19:34:03.718Z"
   },
   {
    "duration": 5,
    "start_time": "2022-08-03T19:34:03.727Z"
   },
   {
    "duration": 9,
    "start_time": "2022-08-03T19:34:03.734Z"
   },
   {
    "duration": 5,
    "start_time": "2022-08-03T19:34:03.745Z"
   },
   {
    "duration": 6,
    "start_time": "2022-08-03T19:34:03.751Z"
   },
   {
    "duration": 7,
    "start_time": "2022-08-03T19:34:03.759Z"
   },
   {
    "duration": 7,
    "start_time": "2022-08-03T19:34:03.767Z"
   },
   {
    "duration": 4,
    "start_time": "2022-08-03T19:34:03.776Z"
   },
   {
    "duration": 19,
    "start_time": "2022-08-03T19:34:03.781Z"
   },
   {
    "duration": 3,
    "start_time": "2022-08-03T19:54:56.176Z"
   },
   {
    "duration": 73,
    "start_time": "2022-08-05T06:53:38.090Z"
   },
   {
    "duration": 1030,
    "start_time": "2022-08-05T06:53:47.826Z"
   },
   {
    "duration": 1144,
    "start_time": "2022-08-05T06:53:48.858Z"
   },
   {
    "duration": 21,
    "start_time": "2022-08-05T06:53:50.004Z"
   },
   {
    "duration": 8,
    "start_time": "2022-08-05T06:53:50.028Z"
   },
   {
    "duration": 172,
    "start_time": "2022-08-05T06:53:50.038Z"
   },
   {
    "duration": 15,
    "start_time": "2022-08-05T06:53:50.211Z"
   },
   {
    "duration": 5,
    "start_time": "2022-08-05T06:53:50.228Z"
   },
   {
    "duration": 549,
    "start_time": "2022-08-05T06:53:50.235Z"
   },
   {
    "duration": 22,
    "start_time": "2022-08-05T06:53:50.786Z"
   },
   {
    "duration": 7,
    "start_time": "2022-08-05T06:53:50.811Z"
   },
   {
    "duration": 8,
    "start_time": "2022-08-05T06:53:50.819Z"
   },
   {
    "duration": 6,
    "start_time": "2022-08-05T06:53:50.828Z"
   },
   {
    "duration": 20,
    "start_time": "2022-08-05T06:53:50.836Z"
   },
   {
    "duration": 10,
    "start_time": "2022-08-05T06:53:50.857Z"
   },
   {
    "duration": 7,
    "start_time": "2022-08-05T06:53:50.869Z"
   },
   {
    "duration": 5,
    "start_time": "2022-08-05T06:53:50.878Z"
   },
   {
    "duration": 10,
    "start_time": "2022-08-05T06:53:50.884Z"
   },
   {
    "duration": 6,
    "start_time": "2022-08-05T06:53:50.896Z"
   },
   {
    "duration": 8,
    "start_time": "2022-08-05T06:53:50.903Z"
   },
   {
    "duration": 5,
    "start_time": "2022-08-05T06:53:50.913Z"
   },
   {
    "duration": 4,
    "start_time": "2022-08-05T06:53:50.955Z"
   },
   {
    "duration": 5,
    "start_time": "2022-08-05T06:53:50.961Z"
   },
   {
    "duration": 7,
    "start_time": "2022-08-05T06:53:50.967Z"
   },
   {
    "duration": 10,
    "start_time": "2022-08-05T06:53:50.975Z"
   },
   {
    "duration": 11,
    "start_time": "2022-08-05T06:53:50.986Z"
   },
   {
    "duration": 8,
    "start_time": "2022-08-05T06:53:50.999Z"
   },
   {
    "duration": 13,
    "start_time": "2022-08-05T06:53:51.009Z"
   },
   {
    "duration": 7,
    "start_time": "2022-08-05T06:53:51.055Z"
   },
   {
    "duration": 10,
    "start_time": "2022-08-05T06:53:51.064Z"
   },
   {
    "duration": 8,
    "start_time": "2022-08-05T06:53:51.076Z"
   },
   {
    "duration": 4,
    "start_time": "2022-08-05T06:53:51.086Z"
   },
   {
    "duration": 113,
    "start_time": "2022-08-05T06:53:51.092Z"
   },
   {
    "duration": 17,
    "start_time": "2022-08-05T06:54:15.808Z"
   },
   {
    "duration": 8,
    "start_time": "2022-08-05T06:55:32.013Z"
   },
   {
    "duration": 6,
    "start_time": "2022-08-05T07:00:48.493Z"
   },
   {
    "duration": 3,
    "start_time": "2022-08-05T07:02:07.351Z"
   },
   {
    "duration": 108,
    "start_time": "2022-08-05T07:06:48.387Z"
   },
   {
    "duration": 3,
    "start_time": "2022-08-05T07:06:53.843Z"
   },
   {
    "duration": 300,
    "start_time": "2022-08-05T07:06:53.885Z"
   },
   {
    "duration": 18,
    "start_time": "2022-08-05T07:06:54.187Z"
   },
   {
    "duration": 8,
    "start_time": "2022-08-05T07:06:54.207Z"
   },
   {
    "duration": 109,
    "start_time": "2022-08-05T07:06:54.217Z"
   },
   {
    "duration": 12,
    "start_time": "2022-08-05T07:06:54.328Z"
   },
   {
    "duration": 29,
    "start_time": "2022-08-05T07:06:54.341Z"
   },
   {
    "duration": 378,
    "start_time": "2022-08-05T07:06:54.372Z"
   },
   {
    "duration": 23,
    "start_time": "2022-08-05T07:06:54.752Z"
   },
   {
    "duration": 45,
    "start_time": "2022-08-05T07:06:54.779Z"
   },
   {
    "duration": 20,
    "start_time": "2022-08-05T07:06:54.826Z"
   },
   {
    "duration": 60,
    "start_time": "2022-08-05T07:06:54.847Z"
   },
   {
    "duration": 20,
    "start_time": "2022-08-05T07:06:54.909Z"
   },
   {
    "duration": 69,
    "start_time": "2022-08-05T07:06:54.931Z"
   },
   {
    "duration": 33,
    "start_time": "2022-08-05T07:06:55.003Z"
   },
   {
    "duration": 23,
    "start_time": "2022-08-05T07:06:55.037Z"
   },
   {
    "duration": 45,
    "start_time": "2022-08-05T07:06:55.061Z"
   },
   {
    "duration": 28,
    "start_time": "2022-08-05T07:06:55.107Z"
   },
   {
    "duration": 41,
    "start_time": "2022-08-05T07:06:55.136Z"
   },
   {
    "duration": 40,
    "start_time": "2022-08-05T07:06:55.179Z"
   },
   {
    "duration": 26,
    "start_time": "2022-08-05T07:06:55.220Z"
   },
   {
    "duration": 55,
    "start_time": "2022-08-05T07:06:55.247Z"
   },
   {
    "duration": 28,
    "start_time": "2022-08-05T07:06:55.303Z"
   },
   {
    "duration": 54,
    "start_time": "2022-08-05T07:06:55.332Z"
   },
   {
    "duration": 24,
    "start_time": "2022-08-05T07:06:55.388Z"
   },
   {
    "duration": 29,
    "start_time": "2022-08-05T07:06:55.414Z"
   },
   {
    "duration": 15,
    "start_time": "2022-08-05T07:06:55.445Z"
   },
   {
    "duration": 39,
    "start_time": "2022-08-05T07:06:55.463Z"
   },
   {
    "duration": 19,
    "start_time": "2022-08-05T07:06:55.503Z"
   },
   {
    "duration": 19,
    "start_time": "2022-08-05T07:06:55.524Z"
   },
   {
    "duration": 59,
    "start_time": "2022-08-05T07:06:55.544Z"
   },
   {
    "duration": 37,
    "start_time": "2022-08-05T07:06:55.605Z"
   },
   {
    "duration": 0,
    "start_time": "2022-08-05T07:06:55.643Z"
   },
   {
    "duration": 10,
    "start_time": "2022-08-05T07:09:53.776Z"
   },
   {
    "duration": 45,
    "start_time": "2022-08-05T08:00:35.657Z"
   },
   {
    "duration": 6,
    "start_time": "2022-08-05T08:00:46.970Z"
   },
   {
    "duration": 4,
    "start_time": "2022-08-05T08:01:32.467Z"
   },
   {
    "duration": 292,
    "start_time": "2022-08-05T08:01:32.473Z"
   },
   {
    "duration": 20,
    "start_time": "2022-08-05T08:01:32.767Z"
   },
   {
    "duration": 6,
    "start_time": "2022-08-05T08:01:32.789Z"
   },
   {
    "duration": 107,
    "start_time": "2022-08-05T08:01:32.797Z"
   },
   {
    "duration": 11,
    "start_time": "2022-08-05T08:01:32.906Z"
   },
   {
    "duration": 11,
    "start_time": "2022-08-05T08:01:32.918Z"
   },
   {
    "duration": 377,
    "start_time": "2022-08-05T08:01:32.930Z"
   },
   {
    "duration": 16,
    "start_time": "2022-08-05T08:01:33.308Z"
   },
   {
    "duration": 24,
    "start_time": "2022-08-05T08:01:33.325Z"
   },
   {
    "duration": 28,
    "start_time": "2022-08-05T08:01:33.350Z"
   },
   {
    "duration": 35,
    "start_time": "2022-08-05T08:01:33.380Z"
   },
   {
    "duration": 20,
    "start_time": "2022-08-05T08:01:33.417Z"
   },
   {
    "duration": 35,
    "start_time": "2022-08-05T08:01:33.441Z"
   },
   {
    "duration": 20,
    "start_time": "2022-08-05T08:01:33.478Z"
   },
   {
    "duration": 9,
    "start_time": "2022-08-05T08:01:33.500Z"
   },
   {
    "duration": 16,
    "start_time": "2022-08-05T08:01:33.510Z"
   },
   {
    "duration": 19,
    "start_time": "2022-08-05T08:01:33.528Z"
   },
   {
    "duration": 28,
    "start_time": "2022-08-05T08:01:33.550Z"
   },
   {
    "duration": 17,
    "start_time": "2022-08-05T08:01:33.582Z"
   },
   {
    "duration": 18,
    "start_time": "2022-08-05T08:01:33.601Z"
   },
   {
    "duration": 16,
    "start_time": "2022-08-05T08:01:33.620Z"
   },
   {
    "duration": 14,
    "start_time": "2022-08-05T08:01:33.638Z"
   },
   {
    "duration": 27,
    "start_time": "2022-08-05T08:01:33.654Z"
   },
   {
    "duration": 10,
    "start_time": "2022-08-05T08:01:33.683Z"
   },
   {
    "duration": 17,
    "start_time": "2022-08-05T08:01:33.694Z"
   },
   {
    "duration": 14,
    "start_time": "2022-08-05T08:01:33.712Z"
   },
   {
    "duration": 26,
    "start_time": "2022-08-05T08:01:33.728Z"
   },
   {
    "duration": 24,
    "start_time": "2022-08-05T08:01:33.756Z"
   },
   {
    "duration": 17,
    "start_time": "2022-08-05T08:01:33.782Z"
   },
   {
    "duration": 28,
    "start_time": "2022-08-05T08:01:33.801Z"
   },
   {
    "duration": 38,
    "start_time": "2022-08-05T08:01:33.831Z"
   },
   {
    "duration": 63,
    "start_time": "2022-08-05T08:01:33.870Z"
   },
   {
    "duration": 4,
    "start_time": "2022-08-05T08:01:33.935Z"
   },
   {
    "duration": 51,
    "start_time": "2022-08-05T08:01:33.941Z"
   },
   {
    "duration": 10,
    "start_time": "2022-08-05T08:02:27.520Z"
   },
   {
    "duration": 39,
    "start_time": "2022-08-05T08:02:39.096Z"
   },
   {
    "duration": 5,
    "start_time": "2022-08-05T08:02:44.117Z"
   },
   {
    "duration": 71,
    "start_time": "2022-08-05T08:03:18.845Z"
   },
   {
    "duration": 4,
    "start_time": "2022-08-05T08:03:22.372Z"
   },
   {
    "duration": 5,
    "start_time": "2022-08-05T08:07:05.999Z"
   },
   {
    "duration": 295,
    "start_time": "2022-08-05T08:07:06.031Z"
   },
   {
    "duration": 14,
    "start_time": "2022-08-05T08:07:06.328Z"
   },
   {
    "duration": 13,
    "start_time": "2022-08-05T08:07:06.357Z"
   },
   {
    "duration": 97,
    "start_time": "2022-08-05T08:07:06.371Z"
   },
   {
    "duration": 14,
    "start_time": "2022-08-05T08:07:06.470Z"
   },
   {
    "duration": 4,
    "start_time": "2022-08-05T08:07:06.485Z"
   },
   {
    "duration": 385,
    "start_time": "2022-08-05T08:07:06.491Z"
   },
   {
    "duration": 15,
    "start_time": "2022-08-05T08:07:06.877Z"
   },
   {
    "duration": 6,
    "start_time": "2022-08-05T08:07:06.894Z"
   },
   {
    "duration": 6,
    "start_time": "2022-08-05T08:07:06.902Z"
   },
   {
    "duration": 51,
    "start_time": "2022-08-05T08:07:06.909Z"
   },
   {
    "duration": 9,
    "start_time": "2022-08-05T08:07:06.961Z"
   },
   {
    "duration": 10,
    "start_time": "2022-08-05T08:07:06.973Z"
   },
   {
    "duration": 4,
    "start_time": "2022-08-05T08:07:06.988Z"
   },
   {
    "duration": 6,
    "start_time": "2022-08-05T08:07:06.993Z"
   },
   {
    "duration": 10,
    "start_time": "2022-08-05T08:07:07.001Z"
   },
   {
    "duration": 7,
    "start_time": "2022-08-05T08:07:07.013Z"
   },
   {
    "duration": 38,
    "start_time": "2022-08-05T08:07:07.021Z"
   },
   {
    "duration": 11,
    "start_time": "2022-08-05T08:07:07.068Z"
   },
   {
    "duration": 7,
    "start_time": "2022-08-05T08:07:07.080Z"
   },
   {
    "duration": 6,
    "start_time": "2022-08-05T08:07:07.088Z"
   },
   {
    "duration": 6,
    "start_time": "2022-08-05T08:07:07.095Z"
   },
   {
    "duration": 4,
    "start_time": "2022-08-05T08:07:07.103Z"
   },
   {
    "duration": 4,
    "start_time": "2022-08-05T08:07:07.108Z"
   },
   {
    "duration": 42,
    "start_time": "2022-08-05T08:07:07.114Z"
   },
   {
    "duration": 5,
    "start_time": "2022-08-05T08:07:07.167Z"
   },
   {
    "duration": 5,
    "start_time": "2022-08-05T08:07:07.173Z"
   },
   {
    "duration": 5,
    "start_time": "2022-08-05T08:07:07.180Z"
   },
   {
    "duration": 7,
    "start_time": "2022-08-05T08:07:07.186Z"
   },
   {
    "duration": 5,
    "start_time": "2022-08-05T08:07:07.194Z"
   },
   {
    "duration": 18,
    "start_time": "2022-08-05T08:07:07.200Z"
   },
   {
    "duration": 90,
    "start_time": "2022-08-05T08:07:07.219Z"
   },
   {
    "duration": 4,
    "start_time": "2022-08-05T08:07:07.311Z"
   },
   {
    "duration": 44,
    "start_time": "2022-08-05T08:09:20.298Z"
   },
   {
    "duration": 3,
    "start_time": "2022-08-05T08:09:24.570Z"
   },
   {
    "duration": 10,
    "start_time": "2022-08-05T08:10:46.417Z"
   },
   {
    "duration": 3,
    "start_time": "2022-08-05T08:10:57.190Z"
   },
   {
    "duration": 324,
    "start_time": "2022-08-05T08:10:57.207Z"
   },
   {
    "duration": 29,
    "start_time": "2022-08-05T08:10:57.534Z"
   },
   {
    "duration": 10,
    "start_time": "2022-08-05T08:10:57.565Z"
   },
   {
    "duration": 100,
    "start_time": "2022-08-05T08:10:57.577Z"
   },
   {
    "duration": 65,
    "start_time": "2022-08-05T08:10:57.679Z"
   },
   {
    "duration": 19,
    "start_time": "2022-08-05T08:10:57.746Z"
   },
   {
    "duration": 346,
    "start_time": "2022-08-05T08:10:57.770Z"
   },
   {
    "duration": 15,
    "start_time": "2022-08-05T08:10:58.117Z"
   },
   {
    "duration": 6,
    "start_time": "2022-08-05T08:10:58.134Z"
   },
   {
    "duration": 10,
    "start_time": "2022-08-05T08:10:58.158Z"
   },
   {
    "duration": 10,
    "start_time": "2022-08-05T08:10:58.169Z"
   },
   {
    "duration": 6,
    "start_time": "2022-08-05T08:10:58.181Z"
   },
   {
    "duration": 7,
    "start_time": "2022-08-05T08:10:58.188Z"
   },
   {
    "duration": 6,
    "start_time": "2022-08-05T08:10:58.197Z"
   },
   {
    "duration": 8,
    "start_time": "2022-08-05T08:10:58.204Z"
   },
   {
    "duration": 7,
    "start_time": "2022-08-05T08:10:58.213Z"
   },
   {
    "duration": 37,
    "start_time": "2022-08-05T08:10:58.221Z"
   },
   {
    "duration": 8,
    "start_time": "2022-08-05T08:10:58.259Z"
   },
   {
    "duration": 9,
    "start_time": "2022-08-05T08:10:58.273Z"
   },
   {
    "duration": 6,
    "start_time": "2022-08-05T08:10:58.283Z"
   },
   {
    "duration": 4,
    "start_time": "2022-08-05T08:10:58.290Z"
   },
   {
    "duration": 5,
    "start_time": "2022-08-05T08:10:58.296Z"
   },
   {
    "duration": 5,
    "start_time": "2022-08-05T08:10:58.302Z"
   },
   {
    "duration": 5,
    "start_time": "2022-08-05T08:10:58.309Z"
   },
   {
    "duration": 41,
    "start_time": "2022-08-05T08:10:58.315Z"
   },
   {
    "duration": 5,
    "start_time": "2022-08-05T08:10:58.358Z"
   },
   {
    "duration": 10,
    "start_time": "2022-08-05T08:10:58.368Z"
   },
   {
    "duration": 5,
    "start_time": "2022-08-05T08:10:58.379Z"
   },
   {
    "duration": 6,
    "start_time": "2022-08-05T08:10:58.386Z"
   },
   {
    "duration": 6,
    "start_time": "2022-08-05T08:10:58.393Z"
   },
   {
    "duration": 15,
    "start_time": "2022-08-05T08:10:58.400Z"
   },
   {
    "duration": 52,
    "start_time": "2022-08-05T08:10:58.417Z"
   },
   {
    "duration": 4,
    "start_time": "2022-08-05T08:10:58.471Z"
   },
   {
    "duration": 16,
    "start_time": "2022-08-05T08:11:52.614Z"
   },
   {
    "duration": 4,
    "start_time": "2022-08-05T08:11:59.320Z"
   },
   {
    "duration": 285,
    "start_time": "2022-08-05T08:11:59.332Z"
   },
   {
    "duration": 14,
    "start_time": "2022-08-05T08:11:59.619Z"
   },
   {
    "duration": 5,
    "start_time": "2022-08-05T08:11:59.634Z"
   },
   {
    "duration": 97,
    "start_time": "2022-08-05T08:11:59.640Z"
   },
   {
    "duration": 23,
    "start_time": "2022-08-05T08:11:59.739Z"
   },
   {
    "duration": 8,
    "start_time": "2022-08-05T08:11:59.763Z"
   },
   {
    "duration": 359,
    "start_time": "2022-08-05T08:11:59.773Z"
   },
   {
    "duration": 22,
    "start_time": "2022-08-05T08:12:00.134Z"
   },
   {
    "duration": 8,
    "start_time": "2022-08-05T08:12:00.170Z"
   },
   {
    "duration": 15,
    "start_time": "2022-08-05T08:12:00.180Z"
   },
   {
    "duration": 14,
    "start_time": "2022-08-05T08:12:00.198Z"
   },
   {
    "duration": 9,
    "start_time": "2022-08-05T08:12:00.214Z"
   },
   {
    "duration": 7,
    "start_time": "2022-08-05T08:12:00.224Z"
   },
   {
    "duration": 9,
    "start_time": "2022-08-05T08:12:00.234Z"
   },
   {
    "duration": 27,
    "start_time": "2022-08-05T08:12:00.245Z"
   },
   {
    "duration": 5,
    "start_time": "2022-08-05T08:12:00.273Z"
   },
   {
    "duration": 13,
    "start_time": "2022-08-05T08:12:00.280Z"
   },
   {
    "duration": 18,
    "start_time": "2022-08-05T08:12:00.295Z"
   },
   {
    "duration": 7,
    "start_time": "2022-08-05T08:12:00.314Z"
   },
   {
    "duration": 11,
    "start_time": "2022-08-05T08:12:00.322Z"
   },
   {
    "duration": 17,
    "start_time": "2022-08-05T08:12:00.335Z"
   },
   {
    "duration": 20,
    "start_time": "2022-08-05T08:12:00.354Z"
   },
   {
    "duration": 12,
    "start_time": "2022-08-05T08:12:00.376Z"
   },
   {
    "duration": 8,
    "start_time": "2022-08-05T08:12:00.390Z"
   },
   {
    "duration": 18,
    "start_time": "2022-08-05T08:12:00.400Z"
   },
   {
    "duration": 15,
    "start_time": "2022-08-05T08:12:00.420Z"
   },
   {
    "duration": 15,
    "start_time": "2022-08-05T08:12:00.438Z"
   },
   {
    "duration": 28,
    "start_time": "2022-08-05T08:12:00.455Z"
   },
   {
    "duration": 7,
    "start_time": "2022-08-05T08:12:00.485Z"
   },
   {
    "duration": 10,
    "start_time": "2022-08-05T08:12:00.495Z"
   },
   {
    "duration": 22,
    "start_time": "2022-08-05T08:12:00.507Z"
   },
   {
    "duration": 15,
    "start_time": "2022-08-05T08:12:00.532Z"
   },
   {
    "duration": 9,
    "start_time": "2022-08-05T08:12:00.549Z"
   },
   {
    "duration": 37,
    "start_time": "2022-08-05T08:12:08.231Z"
   },
   {
    "duration": 3,
    "start_time": "2022-08-05T08:12:11.692Z"
   },
   {
    "duration": 275,
    "start_time": "2022-08-05T08:12:11.708Z"
   },
   {
    "duration": 16,
    "start_time": "2022-08-05T08:12:11.985Z"
   },
   {
    "duration": 6,
    "start_time": "2022-08-05T08:12:12.002Z"
   },
   {
    "duration": 92,
    "start_time": "2022-08-05T08:12:12.009Z"
   },
   {
    "duration": 10,
    "start_time": "2022-08-05T08:12:12.103Z"
   },
   {
    "duration": 8,
    "start_time": "2022-08-05T08:12:12.115Z"
   },
   {
    "duration": 341,
    "start_time": "2022-08-05T08:12:12.125Z"
   },
   {
    "duration": 19,
    "start_time": "2022-08-05T08:12:12.469Z"
   },
   {
    "duration": 9,
    "start_time": "2022-08-05T08:12:12.490Z"
   },
   {
    "duration": 8,
    "start_time": "2022-08-05T08:12:12.500Z"
   },
   {
    "duration": 5,
    "start_time": "2022-08-05T08:12:12.509Z"
   },
   {
    "duration": 5,
    "start_time": "2022-08-05T08:12:12.516Z"
   },
   {
    "duration": 25,
    "start_time": "2022-08-05T08:12:12.555Z"
   },
   {
    "duration": 5,
    "start_time": "2022-08-05T08:12:12.582Z"
   },
   {
    "duration": 7,
    "start_time": "2022-08-05T08:12:12.589Z"
   },
   {
    "duration": 10,
    "start_time": "2022-08-05T08:12:12.598Z"
   },
   {
    "duration": 6,
    "start_time": "2022-08-05T08:12:12.610Z"
   },
   {
    "duration": 13,
    "start_time": "2022-08-05T08:12:12.618Z"
   },
   {
    "duration": 4,
    "start_time": "2022-08-05T08:12:12.635Z"
   },
   {
    "duration": 20,
    "start_time": "2022-08-05T08:12:12.641Z"
   },
   {
    "duration": 20,
    "start_time": "2022-08-05T08:12:12.662Z"
   },
   {
    "duration": 6,
    "start_time": "2022-08-05T08:12:12.684Z"
   },
   {
    "duration": 13,
    "start_time": "2022-08-05T08:12:12.692Z"
   },
   {
    "duration": 6,
    "start_time": "2022-08-05T08:12:12.706Z"
   },
   {
    "duration": 5,
    "start_time": "2022-08-05T08:12:12.714Z"
   },
   {
    "duration": 5,
    "start_time": "2022-08-05T08:12:12.721Z"
   },
   {
    "duration": 29,
    "start_time": "2022-08-05T08:12:12.727Z"
   },
   {
    "duration": 19,
    "start_time": "2022-08-05T08:12:12.757Z"
   },
   {
    "duration": 6,
    "start_time": "2022-08-05T08:12:12.778Z"
   },
   {
    "duration": 3,
    "start_time": "2022-08-05T08:12:12.786Z"
   },
   {
    "duration": 15,
    "start_time": "2022-08-05T08:12:12.791Z"
   },
   {
    "duration": 18,
    "start_time": "2022-08-05T08:12:12.807Z"
   },
   {
    "duration": 4,
    "start_time": "2022-08-05T08:12:12.826Z"
   },
   {
    "duration": 80,
    "start_time": "2022-08-05T08:13:09.492Z"
   },
   {
    "duration": 4,
    "start_time": "2022-08-05T08:13:11.424Z"
   },
   {
    "duration": 3,
    "start_time": "2022-08-05T08:13:15.182Z"
   },
   {
    "duration": 281,
    "start_time": "2022-08-05T08:13:15.194Z"
   },
   {
    "duration": 16,
    "start_time": "2022-08-05T08:13:15.477Z"
   },
   {
    "duration": 6,
    "start_time": "2022-08-05T08:13:15.495Z"
   },
   {
    "duration": 101,
    "start_time": "2022-08-05T08:13:15.502Z"
   },
   {
    "duration": 13,
    "start_time": "2022-08-05T08:13:15.605Z"
   },
   {
    "duration": 8,
    "start_time": "2022-08-05T08:13:15.621Z"
   },
   {
    "duration": 347,
    "start_time": "2022-08-05T08:13:15.655Z"
   },
   {
    "duration": 16,
    "start_time": "2022-08-05T08:13:16.004Z"
   },
   {
    "duration": 7,
    "start_time": "2022-08-05T08:13:16.022Z"
   },
   {
    "duration": 38,
    "start_time": "2022-08-05T08:13:16.031Z"
   },
   {
    "duration": 12,
    "start_time": "2022-08-05T08:13:16.071Z"
   },
   {
    "duration": 8,
    "start_time": "2022-08-05T08:13:16.085Z"
   },
   {
    "duration": 8,
    "start_time": "2022-08-05T08:13:16.094Z"
   },
   {
    "duration": 7,
    "start_time": "2022-08-05T08:13:16.105Z"
   },
   {
    "duration": 6,
    "start_time": "2022-08-05T08:13:16.114Z"
   },
   {
    "duration": 8,
    "start_time": "2022-08-05T08:13:16.122Z"
   },
   {
    "duration": 30,
    "start_time": "2022-08-05T08:13:16.132Z"
   },
   {
    "duration": 19,
    "start_time": "2022-08-05T08:13:16.165Z"
   },
   {
    "duration": 7,
    "start_time": "2022-08-05T08:13:16.185Z"
   },
   {
    "duration": 6,
    "start_time": "2022-08-05T08:13:16.193Z"
   },
   {
    "duration": 6,
    "start_time": "2022-08-05T08:13:16.200Z"
   },
   {
    "duration": 6,
    "start_time": "2022-08-05T08:13:16.207Z"
   },
   {
    "duration": 6,
    "start_time": "2022-08-05T08:13:16.214Z"
   },
   {
    "duration": 14,
    "start_time": "2022-08-05T08:13:16.257Z"
   },
   {
    "duration": 11,
    "start_time": "2022-08-05T08:13:16.272Z"
   },
   {
    "duration": 12,
    "start_time": "2022-08-05T08:13:16.285Z"
   },
   {
    "duration": 7,
    "start_time": "2022-08-05T08:13:16.299Z"
   },
   {
    "duration": 10,
    "start_time": "2022-08-05T08:13:16.307Z"
   },
   {
    "duration": 6,
    "start_time": "2022-08-05T08:13:16.318Z"
   },
   {
    "duration": 30,
    "start_time": "2022-08-05T08:13:16.326Z"
   },
   {
    "duration": 26,
    "start_time": "2022-08-05T08:13:16.364Z"
   },
   {
    "duration": 10,
    "start_time": "2022-08-05T08:13:16.392Z"
   },
   {
    "duration": 5,
    "start_time": "2022-08-05T08:13:16.404Z"
   },
   {
    "duration": 18,
    "start_time": "2022-08-05T08:13:26.500Z"
   },
   {
    "duration": 4,
    "start_time": "2022-08-05T08:13:29.376Z"
   },
   {
    "duration": 252,
    "start_time": "2022-08-05T08:13:29.392Z"
   },
   {
    "duration": 28,
    "start_time": "2022-08-05T08:13:29.646Z"
   },
   {
    "duration": 18,
    "start_time": "2022-08-05T08:13:29.676Z"
   },
   {
    "duration": 86,
    "start_time": "2022-08-05T08:13:29.696Z"
   },
   {
    "duration": 12,
    "start_time": "2022-08-05T08:13:29.784Z"
   },
   {
    "duration": 4,
    "start_time": "2022-08-05T08:13:29.797Z"
   },
   {
    "duration": 335,
    "start_time": "2022-08-05T08:13:29.803Z"
   },
   {
    "duration": 29,
    "start_time": "2022-08-05T08:13:30.140Z"
   },
   {
    "duration": 8,
    "start_time": "2022-08-05T08:13:30.176Z"
   },
   {
    "duration": 12,
    "start_time": "2022-08-05T08:13:30.185Z"
   },
   {
    "duration": 16,
    "start_time": "2022-08-05T08:13:30.198Z"
   },
   {
    "duration": 9,
    "start_time": "2022-08-05T08:13:30.215Z"
   },
   {
    "duration": 30,
    "start_time": "2022-08-05T08:13:30.226Z"
   },
   {
    "duration": 11,
    "start_time": "2022-08-05T08:13:30.264Z"
   },
   {
    "duration": 17,
    "start_time": "2022-08-05T08:13:30.277Z"
   },
   {
    "duration": 7,
    "start_time": "2022-08-05T08:13:30.296Z"
   },
   {
    "duration": 7,
    "start_time": "2022-08-05T08:13:30.305Z"
   },
   {
    "duration": 9,
    "start_time": "2022-08-05T08:13:30.314Z"
   },
   {
    "duration": 10,
    "start_time": "2022-08-05T08:13:30.325Z"
   },
   {
    "duration": 18,
    "start_time": "2022-08-05T08:13:30.337Z"
   },
   {
    "duration": 6,
    "start_time": "2022-08-05T08:13:30.357Z"
   },
   {
    "duration": 26,
    "start_time": "2022-08-05T08:13:30.365Z"
   },
   {
    "duration": 6,
    "start_time": "2022-08-05T08:13:30.392Z"
   },
   {
    "duration": 14,
    "start_time": "2022-08-05T08:13:30.400Z"
   },
   {
    "duration": 32,
    "start_time": "2022-08-05T08:13:30.416Z"
   },
   {
    "duration": 32,
    "start_time": "2022-08-05T08:13:30.451Z"
   },
   {
    "duration": 9,
    "start_time": "2022-08-05T08:13:30.485Z"
   },
   {
    "duration": 17,
    "start_time": "2022-08-05T08:13:30.496Z"
   },
   {
    "duration": 8,
    "start_time": "2022-08-05T08:13:30.515Z"
   },
   {
    "duration": 4,
    "start_time": "2022-08-05T08:13:30.525Z"
   },
   {
    "duration": 14,
    "start_time": "2022-08-05T08:13:30.531Z"
   },
   {
    "duration": 12,
    "start_time": "2022-08-05T08:13:30.547Z"
   },
   {
    "duration": 24,
    "start_time": "2022-08-05T08:13:30.561Z"
   },
   {
    "duration": 39,
    "start_time": "2022-08-05T08:13:42.945Z"
   },
   {
    "duration": 5,
    "start_time": "2022-08-05T08:13:45.680Z"
   },
   {
    "duration": 301,
    "start_time": "2022-08-05T08:13:45.734Z"
   },
   {
    "duration": 29,
    "start_time": "2022-08-05T08:13:46.036Z"
   },
   {
    "duration": 9,
    "start_time": "2022-08-05T08:13:46.068Z"
   },
   {
    "duration": 84,
    "start_time": "2022-08-05T08:13:46.079Z"
   },
   {
    "duration": 15,
    "start_time": "2022-08-05T08:13:46.165Z"
   },
   {
    "duration": 7,
    "start_time": "2022-08-05T08:13:46.181Z"
   },
   {
    "duration": 340,
    "start_time": "2022-08-05T08:13:46.189Z"
   },
   {
    "duration": 33,
    "start_time": "2022-08-05T08:13:46.532Z"
   },
   {
    "duration": 10,
    "start_time": "2022-08-05T08:13:46.566Z"
   },
   {
    "duration": 14,
    "start_time": "2022-08-05T08:13:46.586Z"
   },
   {
    "duration": 12,
    "start_time": "2022-08-05T08:13:46.602Z"
   },
   {
    "duration": 14,
    "start_time": "2022-08-05T08:13:46.616Z"
   },
   {
    "duration": 5,
    "start_time": "2022-08-05T08:13:46.632Z"
   },
   {
    "duration": 41,
    "start_time": "2022-08-05T08:13:46.659Z"
   },
   {
    "duration": 11,
    "start_time": "2022-08-05T08:13:46.702Z"
   },
   {
    "duration": 10,
    "start_time": "2022-08-05T08:13:46.715Z"
   },
   {
    "duration": 22,
    "start_time": "2022-08-05T08:13:46.726Z"
   },
   {
    "duration": 83,
    "start_time": "2022-08-05T08:13:46.751Z"
   },
   {
    "duration": 92,
    "start_time": "2022-08-05T08:13:46.836Z"
   },
   {
    "duration": 63,
    "start_time": "2022-08-05T08:13:46.932Z"
   },
   {
    "duration": 47,
    "start_time": "2022-08-05T08:13:46.998Z"
   },
   {
    "duration": 40,
    "start_time": "2022-08-05T08:13:47.048Z"
   },
   {
    "duration": 26,
    "start_time": "2022-08-05T08:13:47.090Z"
   },
   {
    "duration": 10,
    "start_time": "2022-08-05T08:13:47.118Z"
   },
   {
    "duration": 6,
    "start_time": "2022-08-05T08:13:47.130Z"
   },
   {
    "duration": 68,
    "start_time": "2022-08-05T08:13:47.139Z"
   },
   {
    "duration": 42,
    "start_time": "2022-08-05T08:13:47.210Z"
   },
   {
    "duration": 33,
    "start_time": "2022-08-05T08:13:47.254Z"
   },
   {
    "duration": 28,
    "start_time": "2022-08-05T08:13:47.290Z"
   },
   {
    "duration": 8,
    "start_time": "2022-08-05T08:13:47.321Z"
   },
   {
    "duration": 19,
    "start_time": "2022-08-05T08:13:47.331Z"
   },
   {
    "duration": 52,
    "start_time": "2022-08-05T08:13:47.353Z"
   },
   {
    "duration": 20,
    "start_time": "2022-08-05T08:13:47.408Z"
   },
   {
    "duration": 36,
    "start_time": "2022-08-05T08:14:03.275Z"
   },
   {
    "duration": 4,
    "start_time": "2022-08-05T08:14:06.004Z"
   },
   {
    "duration": 271,
    "start_time": "2022-08-05T08:14:06.026Z"
   },
   {
    "duration": 16,
    "start_time": "2022-08-05T08:14:06.299Z"
   },
   {
    "duration": 6,
    "start_time": "2022-08-05T08:14:06.316Z"
   },
   {
    "duration": 102,
    "start_time": "2022-08-05T08:14:06.325Z"
   },
   {
    "duration": 13,
    "start_time": "2022-08-05T08:14:06.429Z"
   },
   {
    "duration": 16,
    "start_time": "2022-08-05T08:14:06.444Z"
   },
   {
    "duration": 354,
    "start_time": "2022-08-05T08:14:06.462Z"
   },
   {
    "duration": 28,
    "start_time": "2022-08-05T08:14:06.818Z"
   },
   {
    "duration": 12,
    "start_time": "2022-08-05T08:14:06.855Z"
   },
   {
    "duration": 10,
    "start_time": "2022-08-05T08:14:06.871Z"
   },
   {
    "duration": 10,
    "start_time": "2022-08-05T08:14:06.883Z"
   },
   {
    "duration": 5,
    "start_time": "2022-08-05T08:14:06.895Z"
   },
   {
    "duration": 10,
    "start_time": "2022-08-05T08:14:06.902Z"
   },
   {
    "duration": 5,
    "start_time": "2022-08-05T08:14:06.916Z"
   },
   {
    "duration": 5,
    "start_time": "2022-08-05T08:14:06.922Z"
   },
   {
    "duration": 12,
    "start_time": "2022-08-05T08:14:06.955Z"
   },
   {
    "duration": 31,
    "start_time": "2022-08-05T08:14:06.969Z"
   },
   {
    "duration": 21,
    "start_time": "2022-08-05T08:14:07.002Z"
   },
   {
    "duration": 5,
    "start_time": "2022-08-05T08:14:07.025Z"
   },
   {
    "duration": 5,
    "start_time": "2022-08-05T08:14:07.033Z"
   },
   {
    "duration": 20,
    "start_time": "2022-08-05T08:14:07.040Z"
   },
   {
    "duration": 30,
    "start_time": "2022-08-05T08:14:07.061Z"
   },
   {
    "duration": 6,
    "start_time": "2022-08-05T08:14:07.093Z"
   },
   {
    "duration": 11,
    "start_time": "2022-08-05T08:14:07.100Z"
   },
   {
    "duration": 8,
    "start_time": "2022-08-05T08:14:07.113Z"
   },
   {
    "duration": 4,
    "start_time": "2022-08-05T08:14:07.123Z"
   },
   {
    "duration": 35,
    "start_time": "2022-08-05T08:14:07.128Z"
   },
   {
    "duration": 20,
    "start_time": "2022-08-05T08:14:07.167Z"
   },
   {
    "duration": 6,
    "start_time": "2022-08-05T08:14:07.189Z"
   },
   {
    "duration": 5,
    "start_time": "2022-08-05T08:14:07.197Z"
   },
   {
    "duration": 12,
    "start_time": "2022-08-05T08:14:07.204Z"
   },
   {
    "duration": 63,
    "start_time": "2022-08-05T08:14:07.218Z"
   },
   {
    "duration": 7,
    "start_time": "2022-08-05T08:14:07.292Z"
   },
   {
    "duration": 44,
    "start_time": "2022-08-05T08:14:21.837Z"
   },
   {
    "duration": 4,
    "start_time": "2022-08-05T08:14:24.697Z"
   },
   {
    "duration": 264,
    "start_time": "2022-08-05T08:14:24.712Z"
   },
   {
    "duration": 19,
    "start_time": "2022-08-05T08:14:24.978Z"
   },
   {
    "duration": 19,
    "start_time": "2022-08-05T08:14:24.999Z"
   },
   {
    "duration": 122,
    "start_time": "2022-08-05T08:14:25.020Z"
   },
   {
    "duration": 27,
    "start_time": "2022-08-05T08:14:25.145Z"
   },
   {
    "duration": 25,
    "start_time": "2022-08-05T08:14:25.174Z"
   },
   {
    "duration": 341,
    "start_time": "2022-08-05T08:14:25.201Z"
   },
   {
    "duration": 31,
    "start_time": "2022-08-05T08:14:25.544Z"
   },
   {
    "duration": 8,
    "start_time": "2022-08-05T08:14:25.577Z"
   },
   {
    "duration": 24,
    "start_time": "2022-08-05T08:14:25.587Z"
   },
   {
    "duration": 30,
    "start_time": "2022-08-05T08:14:25.613Z"
   },
   {
    "duration": 48,
    "start_time": "2022-08-05T08:14:25.645Z"
   },
   {
    "duration": 20,
    "start_time": "2022-08-05T08:14:25.694Z"
   },
   {
    "duration": 18,
    "start_time": "2022-08-05T08:14:25.717Z"
   },
   {
    "duration": 38,
    "start_time": "2022-08-05T08:14:25.736Z"
   },
   {
    "duration": 25,
    "start_time": "2022-08-05T08:14:25.776Z"
   },
   {
    "duration": 11,
    "start_time": "2022-08-05T08:14:25.803Z"
   },
   {
    "duration": 28,
    "start_time": "2022-08-05T08:14:25.815Z"
   },
   {
    "duration": 41,
    "start_time": "2022-08-05T08:14:25.845Z"
   },
   {
    "duration": 25,
    "start_time": "2022-08-05T08:14:25.888Z"
   },
   {
    "duration": 19,
    "start_time": "2022-08-05T08:14:25.914Z"
   },
   {
    "duration": 17,
    "start_time": "2022-08-05T08:14:25.935Z"
   },
   {
    "duration": 30,
    "start_time": "2022-08-05T08:14:25.954Z"
   },
   {
    "duration": 22,
    "start_time": "2022-08-05T08:14:25.985Z"
   },
   {
    "duration": 26,
    "start_time": "2022-08-05T08:14:26.009Z"
   },
   {
    "duration": 20,
    "start_time": "2022-08-05T08:14:26.036Z"
   },
   {
    "duration": 22,
    "start_time": "2022-08-05T08:14:26.063Z"
   },
   {
    "duration": 10,
    "start_time": "2022-08-05T08:14:26.087Z"
   },
   {
    "duration": 27,
    "start_time": "2022-08-05T08:14:26.099Z"
   },
   {
    "duration": 18,
    "start_time": "2022-08-05T08:14:26.128Z"
   },
   {
    "duration": 36,
    "start_time": "2022-08-05T08:14:26.148Z"
   },
   {
    "duration": 33,
    "start_time": "2022-08-05T08:14:26.186Z"
   },
   {
    "duration": 19,
    "start_time": "2022-08-05T08:14:26.221Z"
   },
   {
    "duration": 17,
    "start_time": "2022-08-05T08:14:59.009Z"
   },
   {
    "duration": 4,
    "start_time": "2022-08-05T08:15:01.709Z"
   },
   {
    "duration": 260,
    "start_time": "2022-08-05T08:15:01.738Z"
   },
   {
    "duration": 16,
    "start_time": "2022-08-05T08:15:02.000Z"
   },
   {
    "duration": 7,
    "start_time": "2022-08-05T08:15:02.018Z"
   },
   {
    "duration": 148,
    "start_time": "2022-08-05T08:15:02.027Z"
   },
   {
    "duration": 17,
    "start_time": "2022-08-05T08:15:02.179Z"
   },
   {
    "duration": 6,
    "start_time": "2022-08-05T08:15:02.197Z"
   },
   {
    "duration": 332,
    "start_time": "2022-08-05T08:15:02.205Z"
   },
   {
    "duration": 36,
    "start_time": "2022-08-05T08:15:02.538Z"
   },
   {
    "duration": 10,
    "start_time": "2022-08-05T08:15:02.576Z"
   },
   {
    "duration": 18,
    "start_time": "2022-08-05T08:15:02.588Z"
   },
   {
    "duration": 8,
    "start_time": "2022-08-05T08:15:02.608Z"
   },
   {
    "duration": 18,
    "start_time": "2022-08-05T08:15:02.618Z"
   },
   {
    "duration": 45,
    "start_time": "2022-08-05T08:15:02.637Z"
   },
   {
    "duration": 14,
    "start_time": "2022-08-05T08:15:02.684Z"
   },
   {
    "duration": 7,
    "start_time": "2022-08-05T08:15:02.700Z"
   },
   {
    "duration": 7,
    "start_time": "2022-08-05T08:15:02.708Z"
   },
   {
    "duration": 8,
    "start_time": "2022-08-05T08:15:02.717Z"
   },
   {
    "duration": 16,
    "start_time": "2022-08-05T08:15:02.726Z"
   },
   {
    "duration": 29,
    "start_time": "2022-08-05T08:15:02.743Z"
   },
   {
    "duration": 8,
    "start_time": "2022-08-05T08:15:02.774Z"
   },
   {
    "duration": 5,
    "start_time": "2022-08-05T08:15:02.784Z"
   },
   {
    "duration": 5,
    "start_time": "2022-08-05T08:15:02.791Z"
   },
   {
    "duration": 10,
    "start_time": "2022-08-05T08:15:02.798Z"
   },
   {
    "duration": 5,
    "start_time": "2022-08-05T08:15:02.810Z"
   },
   {
    "duration": 7,
    "start_time": "2022-08-05T08:15:02.817Z"
   },
   {
    "duration": 6,
    "start_time": "2022-08-05T08:15:02.825Z"
   },
   {
    "duration": 24,
    "start_time": "2022-08-05T08:15:02.855Z"
   },
   {
    "duration": 8,
    "start_time": "2022-08-05T08:15:02.882Z"
   },
   {
    "duration": 16,
    "start_time": "2022-08-05T08:15:02.892Z"
   },
   {
    "duration": 4,
    "start_time": "2022-08-05T08:15:02.910Z"
   },
   {
    "duration": 25,
    "start_time": "2022-08-05T08:15:02.916Z"
   },
   {
    "duration": 34,
    "start_time": "2022-08-05T08:15:02.943Z"
   },
   {
    "duration": 5,
    "start_time": "2022-08-05T08:15:02.979Z"
   },
   {
    "duration": 24,
    "start_time": "2022-08-05T08:15:39.946Z"
   },
   {
    "duration": 18,
    "start_time": "2022-08-05T08:17:09.946Z"
   },
   {
    "duration": 4,
    "start_time": "2022-08-05T08:17:17.495Z"
   },
   {
    "duration": 396,
    "start_time": "2022-08-05T08:17:17.509Z"
   },
   {
    "duration": 21,
    "start_time": "2022-08-05T08:17:17.922Z"
   },
   {
    "duration": 14,
    "start_time": "2022-08-05T08:17:17.945Z"
   },
   {
    "duration": 109,
    "start_time": "2022-08-05T08:17:17.961Z"
   },
   {
    "duration": 12,
    "start_time": "2022-08-05T08:17:18.076Z"
   },
   {
    "duration": 8,
    "start_time": "2022-08-05T08:17:18.089Z"
   },
   {
    "duration": 337,
    "start_time": "2022-08-05T08:17:18.099Z"
   },
   {
    "duration": 34,
    "start_time": "2022-08-05T08:17:18.437Z"
   },
   {
    "duration": 7,
    "start_time": "2022-08-05T08:17:18.472Z"
   },
   {
    "duration": 7,
    "start_time": "2022-08-05T08:17:18.480Z"
   },
   {
    "duration": 7,
    "start_time": "2022-08-05T08:17:18.489Z"
   },
   {
    "duration": 6,
    "start_time": "2022-08-05T08:17:18.498Z"
   },
   {
    "duration": 9,
    "start_time": "2022-08-05T08:17:18.506Z"
   },
   {
    "duration": 48,
    "start_time": "2022-08-05T08:17:18.519Z"
   },
   {
    "duration": 6,
    "start_time": "2022-08-05T08:17:18.569Z"
   },
   {
    "duration": 5,
    "start_time": "2022-08-05T08:17:18.577Z"
   },
   {
    "duration": 15,
    "start_time": "2022-08-05T08:17:18.584Z"
   },
   {
    "duration": 10,
    "start_time": "2022-08-05T08:17:18.600Z"
   },
   {
    "duration": 9,
    "start_time": "2022-08-05T08:17:18.611Z"
   },
   {
    "duration": 7,
    "start_time": "2022-08-05T08:17:18.621Z"
   },
   {
    "duration": 43,
    "start_time": "2022-08-05T08:17:18.630Z"
   },
   {
    "duration": 7,
    "start_time": "2022-08-05T08:17:18.676Z"
   },
   {
    "duration": 8,
    "start_time": "2022-08-05T08:17:18.685Z"
   },
   {
    "duration": 6,
    "start_time": "2022-08-05T08:17:18.694Z"
   },
   {
    "duration": 7,
    "start_time": "2022-08-05T08:17:18.702Z"
   },
   {
    "duration": 6,
    "start_time": "2022-08-05T08:17:18.710Z"
   },
   {
    "duration": 6,
    "start_time": "2022-08-05T08:17:18.718Z"
   },
   {
    "duration": 35,
    "start_time": "2022-08-05T08:17:18.725Z"
   },
   {
    "duration": 5,
    "start_time": "2022-08-05T08:17:18.761Z"
   },
   {
    "duration": 9,
    "start_time": "2022-08-05T08:17:18.767Z"
   },
   {
    "duration": 14,
    "start_time": "2022-08-05T08:17:18.777Z"
   },
   {
    "duration": 12,
    "start_time": "2022-08-05T08:17:18.792Z"
   },
   {
    "duration": 9,
    "start_time": "2022-08-05T08:17:18.806Z"
   },
   {
    "duration": 0,
    "start_time": "2022-08-05T08:17:18.816Z"
   },
   {
    "duration": 0,
    "start_time": "2022-08-05T08:17:18.818Z"
   },
   {
    "duration": 16,
    "start_time": "2022-08-05T08:17:48.206Z"
   },
   {
    "duration": 4,
    "start_time": "2022-08-05T08:18:08.746Z"
   },
   {
    "duration": 279,
    "start_time": "2022-08-05T08:18:08.772Z"
   },
   {
    "duration": 18,
    "start_time": "2022-08-05T08:18:09.055Z"
   },
   {
    "duration": 16,
    "start_time": "2022-08-05T08:18:09.075Z"
   },
   {
    "duration": 88,
    "start_time": "2022-08-05T08:18:09.093Z"
   },
   {
    "duration": 12,
    "start_time": "2022-08-05T08:18:09.183Z"
   },
   {
    "duration": 4,
    "start_time": "2022-08-05T08:18:09.197Z"
   },
   {
    "duration": 364,
    "start_time": "2022-08-05T08:18:09.202Z"
   },
   {
    "duration": 31,
    "start_time": "2022-08-05T08:18:09.570Z"
   },
   {
    "duration": 18,
    "start_time": "2022-08-05T08:18:09.604Z"
   },
   {
    "duration": 15,
    "start_time": "2022-08-05T08:18:09.623Z"
   },
   {
    "duration": 8,
    "start_time": "2022-08-05T08:18:09.640Z"
   },
   {
    "duration": 20,
    "start_time": "2022-08-05T08:18:09.660Z"
   },
   {
    "duration": 11,
    "start_time": "2022-08-05T08:18:09.682Z"
   },
   {
    "duration": 8,
    "start_time": "2022-08-05T08:18:09.696Z"
   },
   {
    "duration": 7,
    "start_time": "2022-08-05T08:18:09.706Z"
   },
   {
    "duration": 14,
    "start_time": "2022-08-05T08:18:09.714Z"
   },
   {
    "duration": 16,
    "start_time": "2022-08-05T08:18:09.730Z"
   },
   {
    "duration": 21,
    "start_time": "2022-08-05T08:18:09.755Z"
   },
   {
    "duration": 14,
    "start_time": "2022-08-05T08:18:09.778Z"
   },
   {
    "duration": 5,
    "start_time": "2022-08-05T08:18:09.794Z"
   },
   {
    "duration": 9,
    "start_time": "2022-08-05T08:18:09.801Z"
   },
   {
    "duration": 9,
    "start_time": "2022-08-05T08:18:09.812Z"
   },
   {
    "duration": 6,
    "start_time": "2022-08-05T08:18:09.822Z"
   },
   {
    "duration": 30,
    "start_time": "2022-08-05T08:18:09.830Z"
   },
   {
    "duration": 9,
    "start_time": "2022-08-05T08:18:09.861Z"
   },
   {
    "duration": 10,
    "start_time": "2022-08-05T08:18:09.873Z"
   },
   {
    "duration": 5,
    "start_time": "2022-08-05T08:18:09.885Z"
   },
   {
    "duration": 6,
    "start_time": "2022-08-05T08:18:09.891Z"
   },
   {
    "duration": 6,
    "start_time": "2022-08-05T08:18:09.898Z"
   },
   {
    "duration": 4,
    "start_time": "2022-08-05T08:18:09.906Z"
   },
   {
    "duration": 52,
    "start_time": "2022-08-05T08:18:09.911Z"
   },
   {
    "duration": 12,
    "start_time": "2022-08-05T08:18:09.965Z"
   },
   {
    "duration": 0,
    "start_time": "2022-08-05T08:18:09.978Z"
   },
   {
    "duration": 0,
    "start_time": "2022-08-05T08:18:09.980Z"
   },
   {
    "duration": 17,
    "start_time": "2022-08-05T08:21:48.019Z"
   },
   {
    "duration": 3,
    "start_time": "2022-08-05T08:22:03.502Z"
   },
   {
    "duration": 269,
    "start_time": "2022-08-05T08:22:03.507Z"
   },
   {
    "duration": 42,
    "start_time": "2022-08-05T08:22:03.777Z"
   },
   {
    "duration": 6,
    "start_time": "2022-08-05T08:22:03.821Z"
   },
   {
    "duration": 101,
    "start_time": "2022-08-05T08:22:03.829Z"
   },
   {
    "duration": 36,
    "start_time": "2022-08-05T08:22:03.932Z"
   },
   {
    "duration": 6,
    "start_time": "2022-08-05T08:22:03.973Z"
   },
   {
    "duration": 322,
    "start_time": "2022-08-05T08:22:03.981Z"
   },
   {
    "duration": 16,
    "start_time": "2022-08-05T08:22:04.304Z"
   },
   {
    "duration": 7,
    "start_time": "2022-08-05T08:22:04.323Z"
   },
   {
    "duration": 30,
    "start_time": "2022-08-05T08:22:04.332Z"
   },
   {
    "duration": 18,
    "start_time": "2022-08-05T08:22:04.364Z"
   },
   {
    "duration": 8,
    "start_time": "2022-08-05T08:22:04.384Z"
   },
   {
    "duration": 13,
    "start_time": "2022-08-05T08:22:04.393Z"
   },
   {
    "duration": 9,
    "start_time": "2022-08-05T08:22:04.407Z"
   },
   {
    "duration": 8,
    "start_time": "2022-08-05T08:22:04.417Z"
   },
   {
    "duration": 33,
    "start_time": "2022-08-05T08:22:04.426Z"
   },
   {
    "duration": 15,
    "start_time": "2022-08-05T08:22:04.464Z"
   },
   {
    "duration": 5,
    "start_time": "2022-08-05T08:22:04.480Z"
   },
   {
    "duration": 5,
    "start_time": "2022-08-05T08:22:04.487Z"
   },
   {
    "duration": 8,
    "start_time": "2022-08-05T08:22:04.494Z"
   },
   {
    "duration": 5,
    "start_time": "2022-08-05T08:22:04.504Z"
   },
   {
    "duration": 9,
    "start_time": "2022-08-05T08:22:04.511Z"
   },
   {
    "duration": 39,
    "start_time": "2022-08-05T08:22:04.522Z"
   },
   {
    "duration": 12,
    "start_time": "2022-08-05T08:22:04.563Z"
   },
   {
    "duration": 7,
    "start_time": "2022-08-05T08:22:04.579Z"
   },
   {
    "duration": 7,
    "start_time": "2022-08-05T08:22:04.588Z"
   },
   {
    "duration": 8,
    "start_time": "2022-08-05T08:22:04.601Z"
   },
   {
    "duration": 6,
    "start_time": "2022-08-05T08:22:04.611Z"
   },
   {
    "duration": 9,
    "start_time": "2022-08-05T08:22:04.662Z"
   },
   {
    "duration": 4,
    "start_time": "2022-08-05T08:22:04.689Z"
   },
   {
    "duration": 22,
    "start_time": "2022-08-05T08:22:04.695Z"
   },
   {
    "duration": 17,
    "start_time": "2022-08-05T08:22:04.720Z"
   },
   {
    "duration": 4,
    "start_time": "2022-08-05T08:22:04.739Z"
   },
   {
    "duration": 73,
    "start_time": "2022-08-05T08:22:04.745Z"
   },
   {
    "duration": 8,
    "start_time": "2022-08-05T10:38:13.583Z"
   },
   {
    "duration": 3,
    "start_time": "2022-08-05T10:40:48.504Z"
   },
   {
    "duration": 258,
    "start_time": "2022-08-05T10:40:48.521Z"
   },
   {
    "duration": 16,
    "start_time": "2022-08-05T10:40:48.781Z"
   },
   {
    "duration": 6,
    "start_time": "2022-08-05T10:40:48.798Z"
   },
   {
    "duration": 103,
    "start_time": "2022-08-05T10:40:48.805Z"
   },
   {
    "duration": 13,
    "start_time": "2022-08-05T10:40:48.911Z"
   },
   {
    "duration": 41,
    "start_time": "2022-08-05T10:40:48.926Z"
   },
   {
    "duration": 332,
    "start_time": "2022-08-05T10:40:48.969Z"
   },
   {
    "duration": 16,
    "start_time": "2022-08-05T10:40:49.303Z"
   },
   {
    "duration": 7,
    "start_time": "2022-08-05T10:40:49.321Z"
   },
   {
    "duration": 27,
    "start_time": "2022-08-05T10:40:49.330Z"
   },
   {
    "duration": 8,
    "start_time": "2022-08-05T10:40:49.359Z"
   },
   {
    "duration": 9,
    "start_time": "2022-08-05T10:40:49.369Z"
   },
   {
    "duration": 13,
    "start_time": "2022-08-05T10:40:49.379Z"
   },
   {
    "duration": 11,
    "start_time": "2022-08-05T10:40:49.394Z"
   },
   {
    "duration": 11,
    "start_time": "2022-08-05T10:40:49.407Z"
   },
   {
    "duration": 7,
    "start_time": "2022-08-05T10:40:49.419Z"
   },
   {
    "duration": 34,
    "start_time": "2022-08-05T10:40:49.428Z"
   },
   {
    "duration": 15,
    "start_time": "2022-08-05T10:40:49.464Z"
   },
   {
    "duration": 5,
    "start_time": "2022-08-05T10:40:49.482Z"
   },
   {
    "duration": 6,
    "start_time": "2022-08-05T10:40:49.490Z"
   },
   {
    "duration": 6,
    "start_time": "2022-08-05T10:40:49.497Z"
   },
   {
    "duration": 6,
    "start_time": "2022-08-05T10:40:49.504Z"
   },
   {
    "duration": 43,
    "start_time": "2022-08-05T10:40:49.512Z"
   },
   {
    "duration": 4,
    "start_time": "2022-08-05T10:40:49.557Z"
   },
   {
    "duration": 6,
    "start_time": "2022-08-05T10:40:49.563Z"
   },
   {
    "duration": 5,
    "start_time": "2022-08-05T10:40:49.570Z"
   },
   {
    "duration": 4,
    "start_time": "2022-08-05T10:40:49.577Z"
   },
   {
    "duration": 8,
    "start_time": "2022-08-05T10:40:49.582Z"
   },
   {
    "duration": 13,
    "start_time": "2022-08-05T10:40:49.591Z"
   },
   {
    "duration": 11,
    "start_time": "2022-08-05T10:40:49.605Z"
   },
   {
    "duration": 41,
    "start_time": "2022-08-05T10:40:49.618Z"
   },
   {
    "duration": 15,
    "start_time": "2022-08-05T10:40:49.661Z"
   },
   {
    "duration": 5,
    "start_time": "2022-08-05T10:40:49.677Z"
   },
   {
    "duration": 4,
    "start_time": "2022-08-05T10:41:21.267Z"
   },
   {
    "duration": 4,
    "start_time": "2022-08-05T10:41:41.869Z"
   },
   {
    "duration": 19,
    "start_time": "2022-08-05T10:47:04.141Z"
   },
   {
    "duration": 3,
    "start_time": "2022-08-05T10:47:10.889Z"
   },
   {
    "duration": 262,
    "start_time": "2022-08-05T10:47:10.894Z"
   },
   {
    "duration": 14,
    "start_time": "2022-08-05T10:47:11.157Z"
   },
   {
    "duration": 10,
    "start_time": "2022-08-05T10:47:11.174Z"
   },
   {
    "duration": 110,
    "start_time": "2022-08-05T10:47:11.185Z"
   },
   {
    "duration": 12,
    "start_time": "2022-08-05T10:47:11.297Z"
   },
   {
    "duration": 21,
    "start_time": "2022-08-05T10:47:11.311Z"
   },
   {
    "duration": 316,
    "start_time": "2022-08-05T10:47:11.333Z"
   },
   {
    "duration": 18,
    "start_time": "2022-08-05T10:47:11.651Z"
   },
   {
    "duration": 13,
    "start_time": "2022-08-05T10:47:11.672Z"
   },
   {
    "duration": 28,
    "start_time": "2022-08-05T10:47:11.686Z"
   },
   {
    "duration": 25,
    "start_time": "2022-08-05T10:47:11.716Z"
   },
   {
    "duration": 17,
    "start_time": "2022-08-05T10:47:11.742Z"
   },
   {
    "duration": 27,
    "start_time": "2022-08-05T10:47:11.760Z"
   },
   {
    "duration": 12,
    "start_time": "2022-08-05T10:47:11.788Z"
   },
   {
    "duration": 19,
    "start_time": "2022-08-05T10:47:11.801Z"
   },
   {
    "duration": 21,
    "start_time": "2022-08-05T10:47:11.822Z"
   },
   {
    "duration": 18,
    "start_time": "2022-08-05T10:47:11.844Z"
   },
   {
    "duration": 34,
    "start_time": "2022-08-05T10:47:11.863Z"
   },
   {
    "duration": 6,
    "start_time": "2022-08-05T10:47:11.899Z"
   },
   {
    "duration": 18,
    "start_time": "2022-08-05T10:47:11.907Z"
   },
   {
    "duration": 26,
    "start_time": "2022-08-05T10:47:11.927Z"
   },
   {
    "duration": 16,
    "start_time": "2022-08-05T10:47:11.955Z"
   },
   {
    "duration": 24,
    "start_time": "2022-08-05T10:47:11.973Z"
   },
   {
    "duration": 21,
    "start_time": "2022-08-05T10:47:11.999Z"
   },
   {
    "duration": 8,
    "start_time": "2022-08-05T10:47:12.022Z"
   },
   {
    "duration": 19,
    "start_time": "2022-08-05T10:47:12.032Z"
   },
   {
    "duration": 21,
    "start_time": "2022-08-05T10:47:12.054Z"
   },
   {
    "duration": 24,
    "start_time": "2022-08-05T10:47:12.076Z"
   },
   {
    "duration": 35,
    "start_time": "2022-08-05T10:47:12.102Z"
   },
   {
    "duration": 16,
    "start_time": "2022-08-05T10:47:12.139Z"
   },
   {
    "duration": 36,
    "start_time": "2022-08-05T10:47:12.157Z"
   },
   {
    "duration": 33,
    "start_time": "2022-08-05T10:47:12.195Z"
   },
   {
    "duration": 27,
    "start_time": "2022-08-05T10:47:12.230Z"
   },
   {
    "duration": 16,
    "start_time": "2022-08-05T10:48:26.233Z"
   },
   {
    "duration": 3,
    "start_time": "2022-08-05T10:48:29.655Z"
   },
   {
    "duration": 243,
    "start_time": "2022-08-05T10:48:29.669Z"
   },
   {
    "duration": 14,
    "start_time": "2022-08-05T10:48:29.914Z"
   },
   {
    "duration": 5,
    "start_time": "2022-08-05T10:48:29.930Z"
   },
   {
    "duration": 93,
    "start_time": "2022-08-05T10:48:29.937Z"
   },
   {
    "duration": 11,
    "start_time": "2022-08-05T10:48:30.033Z"
   },
   {
    "duration": 11,
    "start_time": "2022-08-05T10:48:30.046Z"
   },
   {
    "duration": 302,
    "start_time": "2022-08-05T10:48:30.058Z"
   },
   {
    "duration": 17,
    "start_time": "2022-08-05T10:48:30.362Z"
   },
   {
    "duration": 8,
    "start_time": "2022-08-05T10:48:30.381Z"
   },
   {
    "duration": 14,
    "start_time": "2022-08-05T10:48:30.390Z"
   },
   {
    "duration": 14,
    "start_time": "2022-08-05T10:48:30.405Z"
   },
   {
    "duration": 11,
    "start_time": "2022-08-05T10:48:30.421Z"
   },
   {
    "duration": 22,
    "start_time": "2022-08-05T10:48:30.434Z"
   },
   {
    "duration": 21,
    "start_time": "2022-08-05T10:48:30.458Z"
   },
   {
    "duration": 11,
    "start_time": "2022-08-05T10:48:30.480Z"
   },
   {
    "duration": 10,
    "start_time": "2022-08-05T10:48:30.493Z"
   },
   {
    "duration": 20,
    "start_time": "2022-08-05T10:48:30.504Z"
   },
   {
    "duration": 14,
    "start_time": "2022-08-05T10:48:30.526Z"
   },
   {
    "duration": 14,
    "start_time": "2022-08-05T10:48:30.541Z"
   },
   {
    "duration": 11,
    "start_time": "2022-08-05T10:48:30.557Z"
   },
   {
    "duration": 18,
    "start_time": "2022-08-05T10:48:30.570Z"
   },
   {
    "duration": 11,
    "start_time": "2022-08-05T10:48:30.590Z"
   },
   {
    "duration": 15,
    "start_time": "2022-08-05T10:48:30.603Z"
   },
   {
    "duration": 11,
    "start_time": "2022-08-05T10:48:30.620Z"
   },
   {
    "duration": 9,
    "start_time": "2022-08-05T10:48:30.633Z"
   },
   {
    "duration": 11,
    "start_time": "2022-08-05T10:48:30.644Z"
   },
   {
    "duration": 13,
    "start_time": "2022-08-05T10:48:30.657Z"
   },
   {
    "duration": 16,
    "start_time": "2022-08-05T10:48:30.672Z"
   },
   {
    "duration": 14,
    "start_time": "2022-08-05T10:48:30.690Z"
   },
   {
    "duration": 14,
    "start_time": "2022-08-05T10:48:30.706Z"
   },
   {
    "duration": 21,
    "start_time": "2022-08-05T10:48:30.721Z"
   },
   {
    "duration": 27,
    "start_time": "2022-08-05T10:48:30.744Z"
   },
   {
    "duration": 22,
    "start_time": "2022-08-05T10:48:30.773Z"
   },
   {
    "duration": 2,
    "start_time": "2022-08-05T10:51:23.302Z"
   },
   {
    "duration": 3,
    "start_time": "2022-08-05T10:51:29.114Z"
   },
   {
    "duration": 258,
    "start_time": "2022-08-05T10:51:29.146Z"
   },
   {
    "duration": 17,
    "start_time": "2022-08-05T10:51:29.406Z"
   },
   {
    "duration": 7,
    "start_time": "2022-08-05T10:51:29.425Z"
   },
   {
    "duration": 87,
    "start_time": "2022-08-05T10:51:29.433Z"
   },
   {
    "duration": 12,
    "start_time": "2022-08-05T10:51:29.522Z"
   },
   {
    "duration": 20,
    "start_time": "2022-08-05T10:51:29.535Z"
   },
   {
    "duration": 310,
    "start_time": "2022-08-05T10:51:29.556Z"
   },
   {
    "duration": 17,
    "start_time": "2022-08-05T10:51:29.868Z"
   },
   {
    "duration": 7,
    "start_time": "2022-08-05T10:51:29.886Z"
   },
   {
    "duration": 10,
    "start_time": "2022-08-05T10:51:29.895Z"
   },
   {
    "duration": 7,
    "start_time": "2022-08-05T10:51:29.906Z"
   },
   {
    "duration": 7,
    "start_time": "2022-08-05T10:51:29.915Z"
   },
   {
    "duration": 34,
    "start_time": "2022-08-05T10:51:29.923Z"
   },
   {
    "duration": 5,
    "start_time": "2022-08-05T10:51:29.960Z"
   },
   {
    "duration": 5,
    "start_time": "2022-08-05T10:51:29.966Z"
   },
   {
    "duration": 5,
    "start_time": "2022-08-05T10:51:29.973Z"
   },
   {
    "duration": 4,
    "start_time": "2022-08-05T10:51:29.980Z"
   },
   {
    "duration": 8,
    "start_time": "2022-08-05T10:51:29.985Z"
   },
   {
    "duration": 7,
    "start_time": "2022-08-05T10:51:29.995Z"
   },
   {
    "duration": 18,
    "start_time": "2022-08-05T10:51:30.003Z"
   },
   {
    "duration": 35,
    "start_time": "2022-08-05T10:51:30.022Z"
   },
   {
    "duration": 11,
    "start_time": "2022-08-05T10:51:30.059Z"
   },
   {
    "duration": 6,
    "start_time": "2022-08-05T10:51:30.071Z"
   },
   {
    "duration": 10,
    "start_time": "2022-08-05T10:51:30.079Z"
   },
   {
    "duration": 10,
    "start_time": "2022-08-05T10:51:30.090Z"
   },
   {
    "duration": 15,
    "start_time": "2022-08-05T10:51:30.102Z"
   },
   {
    "duration": 14,
    "start_time": "2022-08-05T10:51:30.118Z"
   },
   {
    "duration": 9,
    "start_time": "2022-08-05T10:51:30.133Z"
   },
   {
    "duration": 16,
    "start_time": "2022-08-05T10:51:30.143Z"
   },
   {
    "duration": 14,
    "start_time": "2022-08-05T10:51:30.161Z"
   },
   {
    "duration": 10,
    "start_time": "2022-08-05T10:51:30.176Z"
   },
   {
    "duration": 28,
    "start_time": "2022-08-05T10:51:30.187Z"
   },
   {
    "duration": 0,
    "start_time": "2022-08-05T10:51:30.217Z"
   },
   {
    "duration": 0,
    "start_time": "2022-08-05T10:51:30.218Z"
   },
   {
    "duration": 8,
    "start_time": "2022-08-05T10:52:36.849Z"
   },
   {
    "duration": 4,
    "start_time": "2022-08-05T10:52:55.079Z"
   },
   {
    "duration": 243,
    "start_time": "2022-08-05T10:52:55.101Z"
   },
   {
    "duration": 18,
    "start_time": "2022-08-05T10:52:55.346Z"
   },
   {
    "duration": 6,
    "start_time": "2022-08-05T10:52:55.365Z"
   },
   {
    "duration": 93,
    "start_time": "2022-08-05T10:52:55.372Z"
   },
   {
    "duration": 12,
    "start_time": "2022-08-05T10:52:55.467Z"
   },
   {
    "duration": 41,
    "start_time": "2022-08-05T10:52:55.480Z"
   },
   {
    "duration": 333,
    "start_time": "2022-08-05T10:52:55.523Z"
   },
   {
    "duration": 15,
    "start_time": "2022-08-05T10:52:55.858Z"
   },
   {
    "duration": 7,
    "start_time": "2022-08-05T10:52:55.875Z"
   },
   {
    "duration": 9,
    "start_time": "2022-08-05T10:52:55.884Z"
   },
   {
    "duration": 7,
    "start_time": "2022-08-05T10:52:55.894Z"
   },
   {
    "duration": 11,
    "start_time": "2022-08-05T10:52:55.902Z"
   },
   {
    "duration": 6,
    "start_time": "2022-08-05T10:52:55.914Z"
   },
   {
    "duration": 6,
    "start_time": "2022-08-05T10:52:55.923Z"
   },
   {
    "duration": 24,
    "start_time": "2022-08-05T10:52:55.930Z"
   },
   {
    "duration": 10,
    "start_time": "2022-08-05T10:52:55.956Z"
   },
   {
    "duration": 10,
    "start_time": "2022-08-05T10:52:55.968Z"
   },
   {
    "duration": 17,
    "start_time": "2022-08-05T10:52:55.980Z"
   },
   {
    "duration": 6,
    "start_time": "2022-08-05T10:52:55.999Z"
   },
   {
    "duration": 9,
    "start_time": "2022-08-05T10:52:56.007Z"
   },
   {
    "duration": 13,
    "start_time": "2022-08-05T10:52:56.017Z"
   },
   {
    "duration": 23,
    "start_time": "2022-08-05T10:52:56.031Z"
   },
   {
    "duration": 11,
    "start_time": "2022-08-05T10:52:56.056Z"
   },
   {
    "duration": 13,
    "start_time": "2022-08-05T10:52:56.068Z"
   },
   {
    "duration": 9,
    "start_time": "2022-08-05T10:52:56.082Z"
   },
   {
    "duration": 14,
    "start_time": "2022-08-05T10:52:56.092Z"
   },
   {
    "duration": 16,
    "start_time": "2022-08-05T10:52:56.108Z"
   },
   {
    "duration": 28,
    "start_time": "2022-08-05T10:52:56.127Z"
   },
   {
    "duration": 5,
    "start_time": "2022-08-05T10:52:56.158Z"
   },
   {
    "duration": 9,
    "start_time": "2022-08-05T10:52:56.165Z"
   },
   {
    "duration": 5,
    "start_time": "2022-08-05T10:52:56.176Z"
   },
   {
    "duration": 15,
    "start_time": "2022-08-05T10:52:56.182Z"
   },
   {
    "duration": 1,
    "start_time": "2022-08-05T10:52:56.198Z"
   },
   {
    "duration": 0,
    "start_time": "2022-08-05T10:52:56.200Z"
   },
   {
    "duration": 0,
    "start_time": "2022-08-05T10:52:56.201Z"
   },
   {
    "duration": 8,
    "start_time": "2022-08-05T10:53:10.337Z"
   },
   {
    "duration": 3,
    "start_time": "2022-08-05T10:54:51.401Z"
   },
   {
    "duration": 268,
    "start_time": "2022-08-05T10:54:51.417Z"
   },
   {
    "duration": 15,
    "start_time": "2022-08-05T10:54:51.688Z"
   },
   {
    "duration": 6,
    "start_time": "2022-08-05T10:54:51.704Z"
   },
   {
    "duration": 95,
    "start_time": "2022-08-05T10:54:51.712Z"
   },
   {
    "duration": 11,
    "start_time": "2022-08-05T10:54:51.809Z"
   },
   {
    "duration": 4,
    "start_time": "2022-08-05T10:54:51.822Z"
   },
   {
    "duration": 370,
    "start_time": "2022-08-05T10:54:51.828Z"
   },
   {
    "duration": 16,
    "start_time": "2022-08-05T10:54:52.199Z"
   },
   {
    "duration": 7,
    "start_time": "2022-08-05T10:54:52.216Z"
   },
   {
    "duration": 6,
    "start_time": "2022-08-05T10:54:52.224Z"
   },
   {
    "duration": 29,
    "start_time": "2022-08-05T10:54:52.231Z"
   },
   {
    "duration": 4,
    "start_time": "2022-08-05T10:54:52.261Z"
   },
   {
    "duration": 9,
    "start_time": "2022-08-05T10:54:52.267Z"
   },
   {
    "duration": 4,
    "start_time": "2022-08-05T10:54:52.278Z"
   },
   {
    "duration": 6,
    "start_time": "2022-08-05T10:54:52.284Z"
   },
   {
    "duration": 8,
    "start_time": "2022-08-05T10:54:52.291Z"
   },
   {
    "duration": 9,
    "start_time": "2022-08-05T10:54:52.300Z"
   },
   {
    "duration": 48,
    "start_time": "2022-08-05T10:54:52.310Z"
   },
   {
    "duration": 12,
    "start_time": "2022-08-05T10:54:52.359Z"
   },
   {
    "duration": 8,
    "start_time": "2022-08-05T10:54:52.372Z"
   },
   {
    "duration": 7,
    "start_time": "2022-08-05T10:54:52.382Z"
   },
   {
    "duration": 6,
    "start_time": "2022-08-05T10:54:52.391Z"
   },
   {
    "duration": 8,
    "start_time": "2022-08-05T10:54:52.399Z"
   },
   {
    "duration": 4,
    "start_time": "2022-08-05T10:54:52.409Z"
   },
   {
    "duration": 5,
    "start_time": "2022-08-05T10:54:52.414Z"
   },
   {
    "duration": 6,
    "start_time": "2022-08-05T10:54:52.454Z"
   },
   {
    "duration": 5,
    "start_time": "2022-08-05T10:54:52.461Z"
   },
   {
    "duration": 4,
    "start_time": "2022-08-05T10:54:52.467Z"
   },
   {
    "duration": 4,
    "start_time": "2022-08-05T10:54:52.473Z"
   },
   {
    "duration": 3,
    "start_time": "2022-08-05T10:54:52.479Z"
   },
   {
    "duration": 20,
    "start_time": "2022-08-05T10:54:52.484Z"
   },
   {
    "duration": 53,
    "start_time": "2022-08-05T10:54:52.506Z"
   },
   {
    "duration": 6,
    "start_time": "2022-08-05T10:54:52.561Z"
   },
   {
    "duration": 22,
    "start_time": "2022-08-05T10:54:52.569Z"
   },
   {
    "duration": 18,
    "start_time": "2022-08-05T10:54:52.592Z"
   },
   {
    "duration": 3,
    "start_time": "2022-08-05T10:55:21.174Z"
   },
   {
    "duration": 5,
    "start_time": "2022-08-05T10:55:40.332Z"
   },
   {
    "duration": 267,
    "start_time": "2022-08-05T10:55:40.352Z"
   },
   {
    "duration": 13,
    "start_time": "2022-08-05T10:55:40.621Z"
   },
   {
    "duration": 20,
    "start_time": "2022-08-05T10:55:40.636Z"
   },
   {
    "duration": 77,
    "start_time": "2022-08-05T10:55:40.657Z"
   },
   {
    "duration": 19,
    "start_time": "2022-08-05T10:55:40.736Z"
   },
   {
    "duration": 4,
    "start_time": "2022-08-05T10:55:40.760Z"
   },
   {
    "duration": 342,
    "start_time": "2022-08-05T10:55:40.766Z"
   },
   {
    "duration": 16,
    "start_time": "2022-08-05T10:55:41.110Z"
   },
   {
    "duration": 6,
    "start_time": "2022-08-05T10:55:41.128Z"
   },
   {
    "duration": 23,
    "start_time": "2022-08-05T10:55:41.135Z"
   },
   {
    "duration": 8,
    "start_time": "2022-08-05T10:55:41.160Z"
   },
   {
    "duration": 11,
    "start_time": "2022-08-05T10:55:41.169Z"
   },
   {
    "duration": 5,
    "start_time": "2022-08-05T10:55:41.181Z"
   },
   {
    "duration": 5,
    "start_time": "2022-08-05T10:55:41.189Z"
   },
   {
    "duration": 6,
    "start_time": "2022-08-05T10:55:41.195Z"
   },
   {
    "duration": 5,
    "start_time": "2022-08-05T10:55:41.202Z"
   },
   {
    "duration": 15,
    "start_time": "2022-08-05T10:55:41.209Z"
   },
   {
    "duration": 5,
    "start_time": "2022-08-05T10:55:41.254Z"
   },
   {
    "duration": 7,
    "start_time": "2022-08-05T10:55:41.260Z"
   },
   {
    "duration": 4,
    "start_time": "2022-08-05T10:55:41.269Z"
   },
   {
    "duration": 10,
    "start_time": "2022-08-05T10:55:41.275Z"
   },
   {
    "duration": 5,
    "start_time": "2022-08-05T10:55:41.286Z"
   },
   {
    "duration": 5,
    "start_time": "2022-08-05T10:55:41.293Z"
   },
   {
    "duration": 5,
    "start_time": "2022-08-05T10:55:41.300Z"
   },
   {
    "duration": 51,
    "start_time": "2022-08-05T10:55:41.306Z"
   },
   {
    "duration": 4,
    "start_time": "2022-08-05T10:55:41.358Z"
   },
   {
    "duration": 7,
    "start_time": "2022-08-05T10:55:41.364Z"
   },
   {
    "duration": 6,
    "start_time": "2022-08-05T10:55:41.372Z"
   },
   {
    "duration": 6,
    "start_time": "2022-08-05T10:55:41.380Z"
   },
   {
    "duration": 4,
    "start_time": "2022-08-05T10:55:41.388Z"
   },
   {
    "duration": 6,
    "start_time": "2022-08-05T10:55:41.393Z"
   },
   {
    "duration": 57,
    "start_time": "2022-08-05T10:55:41.400Z"
   },
   {
    "duration": 0,
    "start_time": "2022-08-05T10:55:41.459Z"
   },
   {
    "duration": 0,
    "start_time": "2022-08-05T10:55:41.460Z"
   },
   {
    "duration": 0,
    "start_time": "2022-08-05T10:55:41.461Z"
   },
   {
    "duration": 8,
    "start_time": "2022-08-05T10:55:50.482Z"
   },
   {
    "duration": 18,
    "start_time": "2022-08-05T10:56:02.918Z"
   },
   {
    "duration": 3,
    "start_time": "2022-08-05T10:57:11.188Z"
   },
   {
    "duration": 264,
    "start_time": "2022-08-05T10:57:11.216Z"
   },
   {
    "duration": 14,
    "start_time": "2022-08-05T10:57:11.482Z"
   },
   {
    "duration": 6,
    "start_time": "2022-08-05T10:57:11.498Z"
   },
   {
    "duration": 98,
    "start_time": "2022-08-05T10:57:11.505Z"
   },
   {
    "duration": 13,
    "start_time": "2022-08-05T10:57:11.605Z"
   },
   {
    "duration": 5,
    "start_time": "2022-08-05T10:57:11.619Z"
   },
   {
    "duration": 339,
    "start_time": "2022-08-05T10:57:11.626Z"
   },
   {
    "duration": 18,
    "start_time": "2022-08-05T10:57:11.967Z"
   },
   {
    "duration": 47,
    "start_time": "2022-08-05T10:57:11.987Z"
   },
   {
    "duration": 15,
    "start_time": "2022-08-05T10:57:12.035Z"
   },
   {
    "duration": 14,
    "start_time": "2022-08-05T10:57:12.051Z"
   },
   {
    "duration": 6,
    "start_time": "2022-08-05T10:57:12.067Z"
   },
   {
    "duration": 9,
    "start_time": "2022-08-05T10:57:12.075Z"
   },
   {
    "duration": 9,
    "start_time": "2022-08-05T10:57:12.088Z"
   },
   {
    "duration": 7,
    "start_time": "2022-08-05T10:57:12.099Z"
   },
   {
    "duration": 11,
    "start_time": "2022-08-05T10:57:12.108Z"
   },
   {
    "duration": 10,
    "start_time": "2022-08-05T10:57:12.120Z"
   },
   {
    "duration": 25,
    "start_time": "2022-08-05T10:57:12.132Z"
   },
   {
    "duration": 4,
    "start_time": "2022-08-05T10:57:12.160Z"
   },
   {
    "duration": 7,
    "start_time": "2022-08-05T10:57:12.166Z"
   },
   {
    "duration": 5,
    "start_time": "2022-08-05T10:57:12.174Z"
   },
   {
    "duration": 5,
    "start_time": "2022-08-05T10:57:12.181Z"
   },
   {
    "duration": 4,
    "start_time": "2022-08-05T10:57:12.188Z"
   },
   {
    "duration": 7,
    "start_time": "2022-08-05T10:57:12.194Z"
   },
   {
    "duration": 55,
    "start_time": "2022-08-05T10:57:12.203Z"
   },
   {
    "duration": 8,
    "start_time": "2022-08-05T10:57:12.259Z"
   },
   {
    "duration": 11,
    "start_time": "2022-08-05T10:57:12.269Z"
   },
   {
    "duration": 5,
    "start_time": "2022-08-05T10:57:12.281Z"
   },
   {
    "duration": 12,
    "start_time": "2022-08-05T10:57:12.288Z"
   },
   {
    "duration": 6,
    "start_time": "2022-08-05T10:57:12.302Z"
   },
   {
    "duration": 4,
    "start_time": "2022-08-05T10:57:12.309Z"
   },
   {
    "duration": 22,
    "start_time": "2022-08-05T10:57:12.315Z"
   },
   {
    "duration": 0,
    "start_time": "2022-08-05T10:57:12.338Z"
   },
   {
    "duration": 4,
    "start_time": "2022-08-05T10:57:22.776Z"
   },
   {
    "duration": 256,
    "start_time": "2022-08-05T10:57:22.781Z"
   },
   {
    "duration": 23,
    "start_time": "2022-08-05T10:57:23.039Z"
   },
   {
    "duration": 6,
    "start_time": "2022-08-05T10:57:23.065Z"
   },
   {
    "duration": 86,
    "start_time": "2022-08-05T10:57:23.072Z"
   },
   {
    "duration": 12,
    "start_time": "2022-08-05T10:57:23.160Z"
   },
   {
    "duration": 8,
    "start_time": "2022-08-05T10:57:23.174Z"
   },
   {
    "duration": 319,
    "start_time": "2022-08-05T10:57:23.183Z"
   },
   {
    "duration": 16,
    "start_time": "2022-08-05T10:57:23.503Z"
   },
   {
    "duration": 6,
    "start_time": "2022-08-05T10:57:23.522Z"
   },
   {
    "duration": 30,
    "start_time": "2022-08-05T10:57:23.530Z"
   },
   {
    "duration": 7,
    "start_time": "2022-08-05T10:57:23.561Z"
   },
   {
    "duration": 6,
    "start_time": "2022-08-05T10:57:23.570Z"
   },
   {
    "duration": 10,
    "start_time": "2022-08-05T10:57:23.577Z"
   },
   {
    "duration": 5,
    "start_time": "2022-08-05T10:57:23.589Z"
   },
   {
    "duration": 6,
    "start_time": "2022-08-05T10:57:23.596Z"
   },
   {
    "duration": 11,
    "start_time": "2022-08-05T10:57:23.604Z"
   },
   {
    "duration": 37,
    "start_time": "2022-08-05T10:57:23.618Z"
   },
   {
    "duration": 4,
    "start_time": "2022-08-05T10:57:23.657Z"
   },
   {
    "duration": 8,
    "start_time": "2022-08-05T10:57:23.662Z"
   },
   {
    "duration": 6,
    "start_time": "2022-08-05T10:57:23.672Z"
   },
   {
    "duration": 5,
    "start_time": "2022-08-05T10:57:23.679Z"
   },
   {
    "duration": 19,
    "start_time": "2022-08-05T10:57:23.685Z"
   },
   {
    "duration": 5,
    "start_time": "2022-08-05T10:57:23.706Z"
   },
   {
    "duration": 5,
    "start_time": "2022-08-05T10:57:23.713Z"
   },
   {
    "duration": 37,
    "start_time": "2022-08-05T10:57:23.720Z"
   },
   {
    "duration": 4,
    "start_time": "2022-08-05T10:57:23.759Z"
   },
   {
    "duration": 4,
    "start_time": "2022-08-05T10:57:23.766Z"
   },
   {
    "duration": 8,
    "start_time": "2022-08-05T10:57:23.771Z"
   },
   {
    "duration": 7,
    "start_time": "2022-08-05T10:57:23.780Z"
   },
   {
    "duration": 5,
    "start_time": "2022-08-05T10:57:23.788Z"
   },
   {
    "duration": 11,
    "start_time": "2022-08-05T10:57:23.795Z"
   },
   {
    "duration": 51,
    "start_time": "2022-08-05T10:57:23.808Z"
   },
   {
    "duration": 8,
    "start_time": "2022-08-05T10:58:42.210Z"
   },
   {
    "duration": 4,
    "start_time": "2022-08-05T10:58:49.580Z"
   },
   {
    "duration": 260,
    "start_time": "2022-08-05T10:58:49.606Z"
   },
   {
    "duration": 16,
    "start_time": "2022-08-05T10:58:49.867Z"
   },
   {
    "duration": 6,
    "start_time": "2022-08-05T10:58:49.884Z"
   },
   {
    "duration": 99,
    "start_time": "2022-08-05T10:58:49.892Z"
   },
   {
    "duration": 13,
    "start_time": "2022-08-05T10:58:49.993Z"
   },
   {
    "duration": 7,
    "start_time": "2022-08-05T10:58:50.007Z"
   },
   {
    "duration": 321,
    "start_time": "2022-08-05T10:58:50.015Z"
   },
   {
    "duration": 22,
    "start_time": "2022-08-05T10:58:50.338Z"
   },
   {
    "duration": 7,
    "start_time": "2022-08-05T10:58:50.361Z"
   },
   {
    "duration": 8,
    "start_time": "2022-08-05T10:58:50.369Z"
   },
   {
    "duration": 5,
    "start_time": "2022-08-05T10:58:50.379Z"
   },
   {
    "duration": 10,
    "start_time": "2022-08-05T10:58:50.386Z"
   },
   {
    "duration": 14,
    "start_time": "2022-08-05T10:58:50.398Z"
   },
   {
    "duration": 9,
    "start_time": "2022-08-05T10:58:50.415Z"
   },
   {
    "duration": 30,
    "start_time": "2022-08-05T10:58:50.426Z"
   },
   {
    "duration": 4,
    "start_time": "2022-08-05T10:58:50.457Z"
   },
   {
    "duration": 7,
    "start_time": "2022-08-05T10:58:50.462Z"
   },
   {
    "duration": 6,
    "start_time": "2022-08-05T10:58:50.470Z"
   },
   {
    "duration": 6,
    "start_time": "2022-08-05T10:58:50.477Z"
   },
   {
    "duration": 5,
    "start_time": "2022-08-05T10:58:50.485Z"
   },
   {
    "duration": 8,
    "start_time": "2022-08-05T10:58:50.492Z"
   },
   {
    "duration": 6,
    "start_time": "2022-08-05T10:58:50.502Z"
   },
   {
    "duration": 49,
    "start_time": "2022-08-05T10:58:50.509Z"
   },
   {
    "duration": 7,
    "start_time": "2022-08-05T10:58:50.560Z"
   },
   {
    "duration": 6,
    "start_time": "2022-08-05T10:58:50.570Z"
   },
   {
    "duration": 11,
    "start_time": "2022-08-05T10:58:50.578Z"
   },
   {
    "duration": 5,
    "start_time": "2022-08-05T10:58:50.591Z"
   },
   {
    "duration": 5,
    "start_time": "2022-08-05T10:58:50.598Z"
   },
   {
    "duration": 5,
    "start_time": "2022-08-05T10:58:50.605Z"
   },
   {
    "duration": 43,
    "start_time": "2022-08-05T10:58:50.612Z"
   },
   {
    "duration": 12,
    "start_time": "2022-08-05T10:58:50.657Z"
   },
   {
    "duration": 15,
    "start_time": "2022-08-05T10:58:50.671Z"
   },
   {
    "duration": 7,
    "start_time": "2022-08-05T10:58:50.688Z"
   },
   {
    "duration": 4,
    "start_time": "2022-08-05T10:58:57.020Z"
   },
   {
    "duration": 4,
    "start_time": "2022-08-05T10:59:09.954Z"
   },
   {
    "duration": 3,
    "start_time": "2022-08-05T10:59:39.099Z"
   },
   {
    "duration": 3,
    "start_time": "2022-08-05T11:10:25.620Z"
   },
   {
    "duration": 238,
    "start_time": "2022-08-05T11:10:25.633Z"
   },
   {
    "duration": 14,
    "start_time": "2022-08-05T11:10:25.872Z"
   },
   {
    "duration": 6,
    "start_time": "2022-08-05T11:10:25.887Z"
   },
   {
    "duration": 84,
    "start_time": "2022-08-05T11:10:25.894Z"
   },
   {
    "duration": 11,
    "start_time": "2022-08-05T11:10:25.980Z"
   },
   {
    "duration": 4,
    "start_time": "2022-08-05T11:10:25.992Z"
   },
   {
    "duration": 333,
    "start_time": "2022-08-05T11:10:25.997Z"
   },
   {
    "duration": 15,
    "start_time": "2022-08-05T11:10:26.332Z"
   },
   {
    "duration": 14,
    "start_time": "2022-08-05T11:10:26.355Z"
   },
   {
    "duration": 12,
    "start_time": "2022-08-05T11:10:26.370Z"
   },
   {
    "duration": 24,
    "start_time": "2022-08-05T11:10:26.384Z"
   },
   {
    "duration": 11,
    "start_time": "2022-08-05T11:10:26.409Z"
   },
   {
    "duration": 15,
    "start_time": "2022-08-05T11:10:26.421Z"
   },
   {
    "duration": 18,
    "start_time": "2022-08-05T11:10:26.438Z"
   },
   {
    "duration": 9,
    "start_time": "2022-08-05T11:10:26.458Z"
   },
   {
    "duration": 43,
    "start_time": "2022-08-05T11:10:26.468Z"
   },
   {
    "duration": 12,
    "start_time": "2022-08-05T11:10:26.512Z"
   },
   {
    "duration": 17,
    "start_time": "2022-08-05T11:10:26.525Z"
   },
   {
    "duration": 15,
    "start_time": "2022-08-05T11:10:26.543Z"
   },
   {
    "duration": 15,
    "start_time": "2022-08-05T11:10:26.560Z"
   },
   {
    "duration": 16,
    "start_time": "2022-08-05T11:10:26.576Z"
   },
   {
    "duration": 20,
    "start_time": "2022-08-05T11:10:26.593Z"
   },
   {
    "duration": 17,
    "start_time": "2022-08-05T11:10:26.614Z"
   },
   {
    "duration": 14,
    "start_time": "2022-08-05T11:10:26.632Z"
   },
   {
    "duration": 17,
    "start_time": "2022-08-05T11:10:26.648Z"
   },
   {
    "duration": 12,
    "start_time": "2022-08-05T11:10:26.666Z"
   },
   {
    "duration": 19,
    "start_time": "2022-08-05T11:10:26.679Z"
   },
   {
    "duration": 24,
    "start_time": "2022-08-05T11:10:26.699Z"
   },
   {
    "duration": 10,
    "start_time": "2022-08-05T11:10:26.724Z"
   },
   {
    "duration": 16,
    "start_time": "2022-08-05T11:10:26.736Z"
   },
   {
    "duration": 24,
    "start_time": "2022-08-05T11:10:26.754Z"
   },
   {
    "duration": 32,
    "start_time": "2022-08-05T11:10:26.780Z"
   },
   {
    "duration": 9,
    "start_time": "2022-08-05T11:10:26.814Z"
   },
   {
    "duration": 3,
    "start_time": "2022-08-05T11:10:40.842Z"
   },
   {
    "duration": 258,
    "start_time": "2022-08-05T11:10:40.847Z"
   },
   {
    "duration": 13,
    "start_time": "2022-08-05T11:10:41.107Z"
   },
   {
    "duration": 5,
    "start_time": "2022-08-05T11:10:41.122Z"
   },
   {
    "duration": 98,
    "start_time": "2022-08-05T11:10:41.128Z"
   },
   {
    "duration": 11,
    "start_time": "2022-08-05T11:10:41.228Z"
   },
   {
    "duration": 4,
    "start_time": "2022-08-05T11:10:41.241Z"
   },
   {
    "duration": 315,
    "start_time": "2022-08-05T11:10:41.246Z"
   },
   {
    "duration": 16,
    "start_time": "2022-08-05T11:10:41.562Z"
   },
   {
    "duration": 6,
    "start_time": "2022-08-05T11:10:41.581Z"
   },
   {
    "duration": 8,
    "start_time": "2022-08-05T11:10:41.589Z"
   },
   {
    "duration": 5,
    "start_time": "2022-08-05T11:10:41.599Z"
   },
   {
    "duration": 6,
    "start_time": "2022-08-05T11:10:41.605Z"
   },
   {
    "duration": 9,
    "start_time": "2022-08-05T11:10:41.612Z"
   },
   {
    "duration": 34,
    "start_time": "2022-08-05T11:10:41.623Z"
   },
   {
    "duration": 7,
    "start_time": "2022-08-05T11:10:41.659Z"
   },
   {
    "duration": 7,
    "start_time": "2022-08-05T11:10:41.667Z"
   },
   {
    "duration": 7,
    "start_time": "2022-08-05T11:10:41.675Z"
   },
   {
    "duration": 8,
    "start_time": "2022-08-05T11:10:41.683Z"
   },
   {
    "duration": 5,
    "start_time": "2022-08-05T11:10:41.693Z"
   },
   {
    "duration": 8,
    "start_time": "2022-08-05T11:10:41.700Z"
   },
   {
    "duration": 5,
    "start_time": "2022-08-05T11:10:41.709Z"
   },
   {
    "duration": 6,
    "start_time": "2022-08-05T11:10:41.715Z"
   },
   {
    "duration": 5,
    "start_time": "2022-08-05T11:10:41.754Z"
   },
   {
    "duration": 6,
    "start_time": "2022-08-05T11:10:41.760Z"
   },
   {
    "duration": 19,
    "start_time": "2022-08-05T11:10:41.768Z"
   },
   {
    "duration": 6,
    "start_time": "2022-08-05T11:10:41.789Z"
   },
   {
    "duration": 6,
    "start_time": "2022-08-05T11:10:41.798Z"
   },
   {
    "duration": 6,
    "start_time": "2022-08-05T11:10:41.805Z"
   },
   {
    "duration": 5,
    "start_time": "2022-08-05T11:10:41.813Z"
   },
   {
    "duration": 5,
    "start_time": "2022-08-05T11:10:41.820Z"
   },
   {
    "duration": 13,
    "start_time": "2022-08-05T11:10:41.856Z"
   },
   {
    "duration": 14,
    "start_time": "2022-08-05T11:10:41.871Z"
   },
   {
    "duration": 18,
    "start_time": "2022-08-05T11:10:41.887Z"
   },
   {
    "duration": 4,
    "start_time": "2022-08-05T11:12:03.478Z"
   },
   {
    "duration": 5,
    "start_time": "2022-08-05T11:22:03.992Z"
   },
   {
    "duration": 6,
    "start_time": "2022-08-05T11:22:16.395Z"
   },
   {
    "duration": 13,
    "start_time": "2022-08-05T11:22:53.597Z"
   },
   {
    "duration": 14,
    "start_time": "2022-08-05T11:22:57.850Z"
   },
   {
    "duration": 5,
    "start_time": "2022-08-05T11:23:07.787Z"
   },
   {
    "duration": 3,
    "start_time": "2022-08-05T11:23:22.248Z"
   },
   {
    "duration": 273,
    "start_time": "2022-08-05T11:23:22.261Z"
   },
   {
    "duration": 22,
    "start_time": "2022-08-05T11:23:22.536Z"
   },
   {
    "duration": 5,
    "start_time": "2022-08-05T11:23:22.560Z"
   },
   {
    "duration": 99,
    "start_time": "2022-08-05T11:23:22.566Z"
   },
   {
    "duration": 12,
    "start_time": "2022-08-05T11:23:22.668Z"
   },
   {
    "duration": 6,
    "start_time": "2022-08-05T11:23:22.682Z"
   },
   {
    "duration": 343,
    "start_time": "2022-08-05T11:23:22.690Z"
   },
   {
    "duration": 28,
    "start_time": "2022-08-05T11:23:23.035Z"
   },
   {
    "duration": 8,
    "start_time": "2022-08-05T11:23:23.065Z"
   },
   {
    "duration": 7,
    "start_time": "2022-08-05T11:23:23.075Z"
   },
   {
    "duration": 5,
    "start_time": "2022-08-05T11:23:23.084Z"
   },
   {
    "duration": 10,
    "start_time": "2022-08-05T11:23:23.090Z"
   },
   {
    "duration": 7,
    "start_time": "2022-08-05T11:23:23.101Z"
   },
   {
    "duration": 5,
    "start_time": "2022-08-05T11:23:23.111Z"
   },
   {
    "duration": 38,
    "start_time": "2022-08-05T11:23:23.117Z"
   },
   {
    "duration": 5,
    "start_time": "2022-08-05T11:23:23.157Z"
   },
   {
    "duration": 5,
    "start_time": "2022-08-05T11:23:23.164Z"
   },
   {
    "duration": 5,
    "start_time": "2022-08-05T11:23:23.171Z"
   },
   {
    "duration": 9,
    "start_time": "2022-08-05T11:23:23.178Z"
   },
   {
    "duration": 4,
    "start_time": "2022-08-05T11:23:23.189Z"
   },
   {
    "duration": 4,
    "start_time": "2022-08-05T11:23:23.195Z"
   },
   {
    "duration": 6,
    "start_time": "2022-08-05T11:23:23.201Z"
   },
   {
    "duration": 48,
    "start_time": "2022-08-05T11:23:23.208Z"
   },
   {
    "duration": 6,
    "start_time": "2022-08-05T11:23:23.258Z"
   },
   {
    "duration": 10,
    "start_time": "2022-08-05T11:23:23.266Z"
   },
   {
    "duration": 6,
    "start_time": "2022-08-05T11:23:23.277Z"
   },
   {
    "duration": 5,
    "start_time": "2022-08-05T11:23:23.284Z"
   },
   {
    "duration": 8,
    "start_time": "2022-08-05T11:23:23.290Z"
   },
   {
    "duration": 7,
    "start_time": "2022-08-05T11:23:23.299Z"
   },
   {
    "duration": 9,
    "start_time": "2022-08-05T11:23:23.307Z"
   },
   {
    "duration": 39,
    "start_time": "2022-08-05T11:23:23.318Z"
   },
   {
    "duration": 4,
    "start_time": "2022-08-05T11:23:23.359Z"
   },
   {
    "duration": 6,
    "start_time": "2022-08-05T11:23:23.364Z"
   },
   {
    "duration": 9,
    "start_time": "2022-08-05T11:23:23.372Z"
   },
   {
    "duration": 13,
    "start_time": "2022-08-05T11:23:23.382Z"
   },
   {
    "duration": 4,
    "start_time": "2022-08-05T11:23:56.538Z"
   },
   {
    "duration": 282,
    "start_time": "2022-08-05T11:23:56.549Z"
   },
   {
    "duration": 38,
    "start_time": "2022-08-05T11:23:56.833Z"
   },
   {
    "duration": 9,
    "start_time": "2022-08-05T11:23:56.873Z"
   },
   {
    "duration": 96,
    "start_time": "2022-08-05T11:23:56.884Z"
   },
   {
    "duration": 12,
    "start_time": "2022-08-05T11:23:56.982Z"
   },
   {
    "duration": 6,
    "start_time": "2022-08-05T11:23:56.995Z"
   },
   {
    "duration": 359,
    "start_time": "2022-08-05T11:23:57.003Z"
   },
   {
    "duration": 24,
    "start_time": "2022-08-05T11:23:57.364Z"
   },
   {
    "duration": 31,
    "start_time": "2022-08-05T11:23:57.391Z"
   },
   {
    "duration": 8,
    "start_time": "2022-08-05T11:23:57.424Z"
   },
   {
    "duration": 11,
    "start_time": "2022-08-05T11:23:57.433Z"
   },
   {
    "duration": 26,
    "start_time": "2022-08-05T11:23:57.445Z"
   },
   {
    "duration": 17,
    "start_time": "2022-08-05T11:23:57.472Z"
   },
   {
    "duration": 10,
    "start_time": "2022-08-05T11:23:57.492Z"
   },
   {
    "duration": 8,
    "start_time": "2022-08-05T11:23:57.504Z"
   },
   {
    "duration": 9,
    "start_time": "2022-08-05T11:23:57.514Z"
   },
   {
    "duration": 14,
    "start_time": "2022-08-05T11:23:57.525Z"
   },
   {
    "duration": 37,
    "start_time": "2022-08-05T11:23:57.541Z"
   },
   {
    "duration": 16,
    "start_time": "2022-08-05T11:23:57.579Z"
   },
   {
    "duration": 10,
    "start_time": "2022-08-05T11:23:57.597Z"
   },
   {
    "duration": 10,
    "start_time": "2022-08-05T11:23:57.609Z"
   },
   {
    "duration": 11,
    "start_time": "2022-08-05T11:23:57.620Z"
   },
   {
    "duration": 9,
    "start_time": "2022-08-05T11:23:57.632Z"
   },
   {
    "duration": 5,
    "start_time": "2022-08-05T11:23:57.642Z"
   },
   {
    "duration": 6,
    "start_time": "2022-08-05T11:23:57.649Z"
   },
   {
    "duration": 6,
    "start_time": "2022-08-05T11:23:57.656Z"
   },
   {
    "duration": 7,
    "start_time": "2022-08-05T11:23:57.664Z"
   },
   {
    "duration": 13,
    "start_time": "2022-08-05T11:23:57.672Z"
   },
   {
    "duration": 8,
    "start_time": "2022-08-05T11:23:57.687Z"
   },
   {
    "duration": 8,
    "start_time": "2022-08-05T11:23:57.696Z"
   },
   {
    "duration": 13,
    "start_time": "2022-08-05T11:23:57.705Z"
   },
   {
    "duration": 4,
    "start_time": "2022-08-05T11:23:57.719Z"
   },
   {
    "duration": 8,
    "start_time": "2022-08-05T11:23:57.724Z"
   },
   {
    "duration": 8,
    "start_time": "2022-08-05T11:23:57.755Z"
   },
   {
    "duration": 16,
    "start_time": "2022-08-05T11:23:57.765Z"
   },
   {
    "duration": 460,
    "start_time": "2022-08-05T11:23:57.783Z"
   },
   {
    "duration": 3,
    "start_time": "2022-08-05T11:26:24.778Z"
   },
   {
    "duration": 263,
    "start_time": "2022-08-05T11:26:24.803Z"
   },
   {
    "duration": 15,
    "start_time": "2022-08-05T11:26:25.068Z"
   },
   {
    "duration": 6,
    "start_time": "2022-08-05T11:26:25.084Z"
   },
   {
    "duration": 86,
    "start_time": "2022-08-05T11:26:25.091Z"
   },
   {
    "duration": 12,
    "start_time": "2022-08-05T11:26:25.179Z"
   },
   {
    "duration": 9,
    "start_time": "2022-08-05T11:26:25.192Z"
   },
   {
    "duration": 328,
    "start_time": "2022-08-05T11:26:25.203Z"
   },
   {
    "duration": 24,
    "start_time": "2022-08-05T11:26:25.532Z"
   },
   {
    "duration": 6,
    "start_time": "2022-08-05T11:26:25.558Z"
   },
   {
    "duration": 7,
    "start_time": "2022-08-05T11:26:25.565Z"
   },
   {
    "duration": 6,
    "start_time": "2022-08-05T11:26:25.573Z"
   },
   {
    "duration": 5,
    "start_time": "2022-08-05T11:26:25.581Z"
   },
   {
    "duration": 10,
    "start_time": "2022-08-05T11:26:25.588Z"
   },
   {
    "duration": 6,
    "start_time": "2022-08-05T11:26:25.600Z"
   },
   {
    "duration": 5,
    "start_time": "2022-08-05T11:26:25.607Z"
   },
   {
    "duration": 5,
    "start_time": "2022-08-05T11:26:25.614Z"
   },
   {
    "duration": 5,
    "start_time": "2022-08-05T11:26:25.655Z"
   },
   {
    "duration": 5,
    "start_time": "2022-08-05T11:26:25.662Z"
   },
   {
    "duration": 5,
    "start_time": "2022-08-05T11:26:25.669Z"
   },
   {
    "duration": 6,
    "start_time": "2022-08-05T11:26:25.675Z"
   },
   {
    "duration": 9,
    "start_time": "2022-08-05T11:26:25.683Z"
   },
   {
    "duration": 7,
    "start_time": "2022-08-05T11:26:25.693Z"
   },
   {
    "duration": 7,
    "start_time": "2022-08-05T11:26:25.701Z"
   },
   {
    "duration": 48,
    "start_time": "2022-08-05T11:26:25.710Z"
   },
   {
    "duration": 6,
    "start_time": "2022-08-05T11:26:25.760Z"
   },
   {
    "duration": 6,
    "start_time": "2022-08-05T11:26:25.767Z"
   },
   {
    "duration": 9,
    "start_time": "2022-08-05T11:26:25.775Z"
   },
   {
    "duration": 5,
    "start_time": "2022-08-05T11:26:25.785Z"
   },
   {
    "duration": 5,
    "start_time": "2022-08-05T11:26:25.791Z"
   },
   {
    "duration": 10,
    "start_time": "2022-08-05T11:26:25.797Z"
   },
   {
    "duration": 48,
    "start_time": "2022-08-05T11:26:25.809Z"
   },
   {
    "duration": 4,
    "start_time": "2022-08-05T11:26:25.858Z"
   },
   {
    "duration": 10,
    "start_time": "2022-08-05T11:26:25.864Z"
   },
   {
    "duration": 14,
    "start_time": "2022-08-05T11:26:25.876Z"
   },
   {
    "duration": 15,
    "start_time": "2022-08-05T11:26:25.892Z"
   },
   {
    "duration": 460,
    "start_time": "2022-08-05T11:26:25.909Z"
   },
   {
    "duration": 3,
    "start_time": "2022-08-05T11:30:53.673Z"
   },
   {
    "duration": 247,
    "start_time": "2022-08-05T11:30:53.692Z"
   },
   {
    "duration": 22,
    "start_time": "2022-08-05T11:30:53.941Z"
   },
   {
    "duration": 6,
    "start_time": "2022-08-05T11:30:53.965Z"
   },
   {
    "duration": 77,
    "start_time": "2022-08-05T11:30:53.972Z"
   },
   {
    "duration": 12,
    "start_time": "2022-08-05T11:30:54.055Z"
   },
   {
    "duration": 4,
    "start_time": "2022-08-05T11:30:54.068Z"
   },
   {
    "duration": 303,
    "start_time": "2022-08-05T11:30:54.073Z"
   },
   {
    "duration": 16,
    "start_time": "2022-08-05T11:30:54.378Z"
   },
   {
    "duration": 6,
    "start_time": "2022-08-05T11:30:54.396Z"
   },
   {
    "duration": 6,
    "start_time": "2022-08-05T11:30:54.404Z"
   },
   {
    "duration": 5,
    "start_time": "2022-08-05T11:30:54.412Z"
   },
   {
    "duration": 7,
    "start_time": "2022-08-05T11:30:54.418Z"
   },
   {
    "duration": 3,
    "start_time": "2022-08-05T11:30:54.456Z"
   },
   {
    "duration": 9,
    "start_time": "2022-08-05T11:30:54.462Z"
   },
   {
    "duration": 5,
    "start_time": "2022-08-05T11:30:54.472Z"
   },
   {
    "duration": 5,
    "start_time": "2022-08-05T11:30:54.478Z"
   },
   {
    "duration": 4,
    "start_time": "2022-08-05T11:30:54.485Z"
   },
   {
    "duration": 6,
    "start_time": "2022-08-05T11:30:54.491Z"
   },
   {
    "duration": 6,
    "start_time": "2022-08-05T11:30:54.499Z"
   },
   {
    "duration": 50,
    "start_time": "2022-08-05T11:30:54.507Z"
   },
   {
    "duration": 7,
    "start_time": "2022-08-05T11:30:54.559Z"
   },
   {
    "duration": 7,
    "start_time": "2022-08-05T11:30:54.568Z"
   },
   {
    "duration": 4,
    "start_time": "2022-08-05T11:30:54.577Z"
   },
   {
    "duration": 5,
    "start_time": "2022-08-05T11:30:54.583Z"
   },
   {
    "duration": 4,
    "start_time": "2022-08-05T11:30:54.590Z"
   },
   {
    "duration": 4,
    "start_time": "2022-08-05T11:30:54.596Z"
   },
   {
    "duration": 54,
    "start_time": "2022-08-05T11:30:54.601Z"
   },
   {
    "duration": 4,
    "start_time": "2022-08-05T11:30:54.657Z"
   },
   {
    "duration": 5,
    "start_time": "2022-08-05T11:30:54.662Z"
   },
   {
    "duration": 5,
    "start_time": "2022-08-05T11:30:54.669Z"
   },
   {
    "duration": 14,
    "start_time": "2022-08-05T11:30:54.675Z"
   },
   {
    "duration": 3,
    "start_time": "2022-08-05T11:30:54.690Z"
   },
   {
    "duration": 10,
    "start_time": "2022-08-05T11:30:54.694Z"
   },
   {
    "duration": 14,
    "start_time": "2022-08-05T11:30:54.705Z"
   },
   {
    "duration": 41,
    "start_time": "2022-08-05T11:30:54.721Z"
   },
   {
    "duration": 785,
    "start_time": "2022-08-05T11:30:54.763Z"
   },
   {
    "duration": 416,
    "start_time": "2022-08-05T11:33:08.059Z"
   },
   {
    "duration": 3,
    "start_time": "2022-08-05T11:33:12.093Z"
   },
   {
    "duration": 258,
    "start_time": "2022-08-05T11:33:12.101Z"
   },
   {
    "duration": 15,
    "start_time": "2022-08-05T11:33:12.361Z"
   },
   {
    "duration": 6,
    "start_time": "2022-08-05T11:33:12.377Z"
   },
   {
    "duration": 98,
    "start_time": "2022-08-05T11:33:12.385Z"
   },
   {
    "duration": 12,
    "start_time": "2022-08-05T11:33:12.485Z"
   },
   {
    "duration": 4,
    "start_time": "2022-08-05T11:33:12.499Z"
   },
   {
    "duration": 323,
    "start_time": "2022-08-05T11:33:12.505Z"
   },
   {
    "duration": 16,
    "start_time": "2022-08-05T11:33:12.829Z"
   },
   {
    "duration": 7,
    "start_time": "2022-08-05T11:33:12.855Z"
   },
   {
    "duration": 7,
    "start_time": "2022-08-05T11:33:12.863Z"
   },
   {
    "duration": 5,
    "start_time": "2022-08-05T11:33:12.871Z"
   },
   {
    "duration": 5,
    "start_time": "2022-08-05T11:33:12.877Z"
   },
   {
    "duration": 5,
    "start_time": "2022-08-05T11:33:12.883Z"
   },
   {
    "duration": 6,
    "start_time": "2022-08-05T11:33:12.890Z"
   },
   {
    "duration": 6,
    "start_time": "2022-08-05T11:33:12.898Z"
   },
   {
    "duration": 5,
    "start_time": "2022-08-05T11:33:12.906Z"
   },
   {
    "duration": 43,
    "start_time": "2022-08-05T11:33:12.913Z"
   },
   {
    "duration": 7,
    "start_time": "2022-08-05T11:33:12.957Z"
   },
   {
    "duration": 5,
    "start_time": "2022-08-05T11:33:12.966Z"
   },
   {
    "duration": 6,
    "start_time": "2022-08-05T11:33:12.973Z"
   },
   {
    "duration": 6,
    "start_time": "2022-08-05T11:33:12.981Z"
   },
   {
    "duration": 8,
    "start_time": "2022-08-05T11:33:12.989Z"
   },
   {
    "duration": 7,
    "start_time": "2022-08-05T11:33:12.999Z"
   },
   {
    "duration": 50,
    "start_time": "2022-08-05T11:33:13.007Z"
   },
   {
    "duration": 5,
    "start_time": "2022-08-05T11:33:13.058Z"
   },
   {
    "duration": 5,
    "start_time": "2022-08-05T11:33:13.064Z"
   },
   {
    "duration": 6,
    "start_time": "2022-08-05T11:33:13.070Z"
   },
   {
    "duration": 6,
    "start_time": "2022-08-05T11:33:13.077Z"
   },
   {
    "duration": 6,
    "start_time": "2022-08-05T11:33:13.084Z"
   },
   {
    "duration": 5,
    "start_time": "2022-08-05T11:33:13.092Z"
   },
   {
    "duration": 13,
    "start_time": "2022-08-05T11:33:13.098Z"
   },
   {
    "duration": 42,
    "start_time": "2022-08-05T11:33:13.113Z"
   },
   {
    "duration": 3,
    "start_time": "2022-08-05T11:33:13.157Z"
   },
   {
    "duration": 10,
    "start_time": "2022-08-05T11:33:13.161Z"
   },
   {
    "duration": 13,
    "start_time": "2022-08-05T11:33:13.173Z"
   },
   {
    "duration": 442,
    "start_time": "2022-08-05T11:33:13.187Z"
   },
   {
    "duration": 342,
    "start_time": "2022-08-05T11:34:54.135Z"
   },
   {
    "duration": 4,
    "start_time": "2022-08-05T11:35:13.956Z"
   },
   {
    "duration": 286,
    "start_time": "2022-08-05T11:35:13.981Z"
   },
   {
    "duration": 16,
    "start_time": "2022-08-05T11:35:14.269Z"
   },
   {
    "duration": 6,
    "start_time": "2022-08-05T11:35:14.287Z"
   },
   {
    "duration": 98,
    "start_time": "2022-08-05T11:35:14.295Z"
   },
   {
    "duration": 12,
    "start_time": "2022-08-05T11:35:14.395Z"
   },
   {
    "duration": 7,
    "start_time": "2022-08-05T11:35:14.409Z"
   },
   {
    "duration": 330,
    "start_time": "2022-08-05T11:35:14.418Z"
   },
   {
    "duration": 21,
    "start_time": "2022-08-05T11:35:14.749Z"
   },
   {
    "duration": 7,
    "start_time": "2022-08-05T11:35:14.772Z"
   },
   {
    "duration": 11,
    "start_time": "2022-08-05T11:35:14.781Z"
   },
   {
    "duration": 7,
    "start_time": "2022-08-05T11:35:14.794Z"
   },
   {
    "duration": 9,
    "start_time": "2022-08-05T11:35:14.803Z"
   },
   {
    "duration": 8,
    "start_time": "2022-08-05T11:35:14.813Z"
   },
   {
    "duration": 5,
    "start_time": "2022-08-05T11:35:14.855Z"
   },
   {
    "duration": 8,
    "start_time": "2022-08-05T11:35:14.861Z"
   },
   {
    "duration": 7,
    "start_time": "2022-08-05T11:35:14.870Z"
   },
   {
    "duration": 14,
    "start_time": "2022-08-05T11:35:14.879Z"
   },
   {
    "duration": 6,
    "start_time": "2022-08-05T11:35:14.895Z"
   },
   {
    "duration": 7,
    "start_time": "2022-08-05T11:35:14.903Z"
   },
   {
    "duration": 7,
    "start_time": "2022-08-05T11:35:14.911Z"
   },
   {
    "duration": 38,
    "start_time": "2022-08-05T11:35:14.920Z"
   },
   {
    "duration": 7,
    "start_time": "2022-08-05T11:35:14.960Z"
   },
   {
    "duration": 5,
    "start_time": "2022-08-05T11:35:14.968Z"
   },
   {
    "duration": 7,
    "start_time": "2022-08-05T11:35:14.975Z"
   },
   {
    "duration": 9,
    "start_time": "2022-08-05T11:35:14.983Z"
   },
   {
    "duration": 6,
    "start_time": "2022-08-05T11:35:14.994Z"
   },
   {
    "duration": 23,
    "start_time": "2022-08-05T11:35:15.001Z"
   },
   {
    "duration": 30,
    "start_time": "2022-08-05T11:35:15.025Z"
   },
   {
    "duration": 4,
    "start_time": "2022-08-05T11:35:15.057Z"
   },
   {
    "duration": 6,
    "start_time": "2022-08-05T11:35:15.063Z"
   },
   {
    "duration": 16,
    "start_time": "2022-08-05T11:35:15.070Z"
   },
   {
    "duration": 4,
    "start_time": "2022-08-05T11:35:15.087Z"
   },
   {
    "duration": 6,
    "start_time": "2022-08-05T11:35:15.092Z"
   },
   {
    "duration": 12,
    "start_time": "2022-08-05T11:35:15.099Z"
   },
   {
    "duration": 50,
    "start_time": "2022-08-05T11:35:15.112Z"
   },
   {
    "duration": 437,
    "start_time": "2022-08-05T11:35:15.164Z"
   },
   {
    "duration": 2362,
    "start_time": "2022-08-05T11:35:15.603Z"
   },
   {
    "duration": 5,
    "start_time": "2022-08-05T12:01:37.978Z"
   },
   {
    "duration": 251,
    "start_time": "2022-08-05T12:01:37.997Z"
   },
   {
    "duration": 18,
    "start_time": "2022-08-05T12:01:38.250Z"
   },
   {
    "duration": 5,
    "start_time": "2022-08-05T12:01:38.269Z"
   },
   {
    "duration": 95,
    "start_time": "2022-08-05T12:01:38.276Z"
   },
   {
    "duration": 12,
    "start_time": "2022-08-05T12:01:38.373Z"
   },
   {
    "duration": 4,
    "start_time": "2022-08-05T12:01:38.387Z"
   },
   {
    "duration": 314,
    "start_time": "2022-08-05T12:01:38.393Z"
   },
   {
    "duration": 16,
    "start_time": "2022-08-05T12:01:38.708Z"
   },
   {
    "duration": 6,
    "start_time": "2022-08-05T12:01:38.726Z"
   },
   {
    "duration": 5,
    "start_time": "2022-08-05T12:01:38.755Z"
   },
   {
    "duration": 15,
    "start_time": "2022-08-05T12:01:38.761Z"
   },
   {
    "duration": 8,
    "start_time": "2022-08-05T12:01:38.777Z"
   },
   {
    "duration": 8,
    "start_time": "2022-08-05T12:01:38.786Z"
   },
   {
    "duration": 8,
    "start_time": "2022-08-05T12:01:38.798Z"
   },
   {
    "duration": 8,
    "start_time": "2022-08-05T12:01:38.807Z"
   },
   {
    "duration": 5,
    "start_time": "2022-08-05T12:01:38.817Z"
   },
   {
    "duration": 31,
    "start_time": "2022-08-05T12:01:38.824Z"
   },
   {
    "duration": 4,
    "start_time": "2022-08-05T12:01:38.857Z"
   },
   {
    "duration": 6,
    "start_time": "2022-08-05T12:01:38.863Z"
   },
   {
    "duration": 5,
    "start_time": "2022-08-05T12:01:38.870Z"
   },
   {
    "duration": 5,
    "start_time": "2022-08-05T12:01:38.877Z"
   },
   {
    "duration": 8,
    "start_time": "2022-08-05T12:01:38.884Z"
   },
   {
    "duration": 5,
    "start_time": "2022-08-05T12:01:38.893Z"
   },
   {
    "duration": 6,
    "start_time": "2022-08-05T12:01:38.900Z"
   },
   {
    "duration": 9,
    "start_time": "2022-08-05T12:01:38.908Z"
   },
   {
    "duration": 5,
    "start_time": "2022-08-05T12:01:38.954Z"
   },
   {
    "duration": 5,
    "start_time": "2022-08-05T12:01:38.960Z"
   },
   {
    "duration": 5,
    "start_time": "2022-08-05T12:01:38.966Z"
   },
   {
    "duration": 5,
    "start_time": "2022-08-05T12:01:38.973Z"
   },
   {
    "duration": 7,
    "start_time": "2022-08-05T12:01:38.979Z"
   },
   {
    "duration": 25,
    "start_time": "2022-08-05T12:01:38.987Z"
   },
   {
    "duration": 8,
    "start_time": "2022-08-05T12:01:39.014Z"
   },
   {
    "duration": 4,
    "start_time": "2022-08-05T12:01:39.054Z"
   },
   {
    "duration": 11,
    "start_time": "2022-08-05T12:01:39.060Z"
   },
   {
    "duration": 18,
    "start_time": "2022-08-05T12:01:39.073Z"
   },
   {
    "duration": 442,
    "start_time": "2022-08-05T12:01:39.093Z"
   },
   {
    "duration": 1240,
    "start_time": "2022-08-05T12:01:39.537Z"
   },
   {
    "duration": 3,
    "start_time": "2022-08-05T12:03:21.876Z"
   },
   {
    "duration": 235,
    "start_time": "2022-08-05T12:03:21.893Z"
   },
   {
    "duration": 28,
    "start_time": "2022-08-05T12:03:22.130Z"
   },
   {
    "duration": 6,
    "start_time": "2022-08-05T12:03:22.159Z"
   },
   {
    "duration": 84,
    "start_time": "2022-08-05T12:03:22.166Z"
   },
   {
    "duration": 13,
    "start_time": "2022-08-05T12:03:22.254Z"
   },
   {
    "duration": 5,
    "start_time": "2022-08-05T12:03:22.269Z"
   },
   {
    "duration": 333,
    "start_time": "2022-08-05T12:03:22.276Z"
   },
   {
    "duration": 17,
    "start_time": "2022-08-05T12:03:22.610Z"
   },
   {
    "duration": 26,
    "start_time": "2022-08-05T12:03:22.629Z"
   },
   {
    "duration": 7,
    "start_time": "2022-08-05T12:03:22.657Z"
   },
   {
    "duration": 7,
    "start_time": "2022-08-05T12:03:22.666Z"
   },
   {
    "duration": 9,
    "start_time": "2022-08-05T12:03:22.674Z"
   },
   {
    "duration": 10,
    "start_time": "2022-08-05T12:03:22.684Z"
   },
   {
    "duration": 6,
    "start_time": "2022-08-05T12:03:22.697Z"
   },
   {
    "duration": 6,
    "start_time": "2022-08-05T12:03:22.705Z"
   },
   {
    "duration": 43,
    "start_time": "2022-08-05T12:03:22.712Z"
   },
   {
    "duration": 5,
    "start_time": "2022-08-05T12:03:22.757Z"
   },
   {
    "duration": 5,
    "start_time": "2022-08-05T12:03:22.763Z"
   },
   {
    "duration": 6,
    "start_time": "2022-08-05T12:03:22.769Z"
   },
   {
    "duration": 5,
    "start_time": "2022-08-05T12:03:22.776Z"
   },
   {
    "duration": 5,
    "start_time": "2022-08-05T12:03:22.782Z"
   },
   {
    "duration": 6,
    "start_time": "2022-08-05T12:03:22.788Z"
   },
   {
    "duration": 5,
    "start_time": "2022-08-05T12:03:22.795Z"
   },
   {
    "duration": 58,
    "start_time": "2022-08-05T12:03:22.801Z"
   },
   {
    "duration": 11,
    "start_time": "2022-08-05T12:03:22.861Z"
   },
   {
    "duration": 5,
    "start_time": "2022-08-05T12:03:22.874Z"
   },
   {
    "duration": 6,
    "start_time": "2022-08-05T12:03:22.881Z"
   },
   {
    "duration": 6,
    "start_time": "2022-08-05T12:03:22.888Z"
   },
   {
    "duration": 6,
    "start_time": "2022-08-05T12:03:22.895Z"
   },
   {
    "duration": 4,
    "start_time": "2022-08-05T12:03:22.903Z"
   },
   {
    "duration": 16,
    "start_time": "2022-08-05T12:03:22.955Z"
   },
   {
    "duration": 10,
    "start_time": "2022-08-05T12:03:22.973Z"
   },
   {
    "duration": 11,
    "start_time": "2022-08-05T12:03:22.985Z"
   },
   {
    "duration": 17,
    "start_time": "2022-08-05T12:03:22.997Z"
   },
   {
    "duration": 15,
    "start_time": "2022-08-05T12:03:23.016Z"
   },
   {
    "duration": 437,
    "start_time": "2022-08-05T12:03:23.032Z"
   },
   {
    "duration": 1393,
    "start_time": "2022-08-05T12:03:23.470Z"
   },
   {
    "duration": 3,
    "start_time": "2022-08-05T12:08:21.795Z"
   },
   {
    "duration": 265,
    "start_time": "2022-08-05T12:08:21.812Z"
   },
   {
    "duration": 15,
    "start_time": "2022-08-05T12:08:22.079Z"
   },
   {
    "duration": 6,
    "start_time": "2022-08-05T12:08:22.096Z"
   },
   {
    "duration": 90,
    "start_time": "2022-08-05T12:08:22.104Z"
   },
   {
    "duration": 13,
    "start_time": "2022-08-05T12:08:22.196Z"
   },
   {
    "duration": 10,
    "start_time": "2022-08-05T12:08:22.211Z"
   },
   {
    "duration": 334,
    "start_time": "2022-08-05T12:08:22.223Z"
   },
   {
    "duration": 17,
    "start_time": "2022-08-05T12:08:22.559Z"
   },
   {
    "duration": 7,
    "start_time": "2022-08-05T12:08:22.577Z"
   },
   {
    "duration": 12,
    "start_time": "2022-08-05T12:08:22.586Z"
   },
   {
    "duration": 14,
    "start_time": "2022-08-05T12:08:22.600Z"
   },
   {
    "duration": 16,
    "start_time": "2022-08-05T12:08:22.616Z"
   },
   {
    "duration": 22,
    "start_time": "2022-08-05T12:08:22.633Z"
   },
   {
    "duration": 4,
    "start_time": "2022-08-05T12:08:22.658Z"
   },
   {
    "duration": 9,
    "start_time": "2022-08-05T12:08:22.664Z"
   },
   {
    "duration": 7,
    "start_time": "2022-08-05T12:08:22.675Z"
   },
   {
    "duration": 9,
    "start_time": "2022-08-05T12:08:22.684Z"
   },
   {
    "duration": 7,
    "start_time": "2022-08-05T12:08:22.695Z"
   },
   {
    "duration": 7,
    "start_time": "2022-08-05T12:08:22.704Z"
   },
   {
    "duration": 42,
    "start_time": "2022-08-05T12:08:22.713Z"
   },
   {
    "duration": 6,
    "start_time": "2022-08-05T12:08:22.756Z"
   },
   {
    "duration": 10,
    "start_time": "2022-08-05T12:08:22.763Z"
   },
   {
    "duration": 10,
    "start_time": "2022-08-05T12:08:22.774Z"
   },
   {
    "duration": 6,
    "start_time": "2022-08-05T12:08:22.786Z"
   },
   {
    "duration": 8,
    "start_time": "2022-08-05T12:08:22.793Z"
   },
   {
    "duration": 5,
    "start_time": "2022-08-05T12:08:22.803Z"
   },
   {
    "duration": 7,
    "start_time": "2022-08-05T12:08:22.809Z"
   },
   {
    "duration": 5,
    "start_time": "2022-08-05T12:08:22.817Z"
   },
   {
    "duration": 36,
    "start_time": "2022-08-05T12:08:22.823Z"
   },
   {
    "duration": 6,
    "start_time": "2022-08-05T12:08:22.860Z"
   },
   {
    "duration": 15,
    "start_time": "2022-08-05T12:08:22.868Z"
   },
   {
    "duration": 3,
    "start_time": "2022-08-05T12:08:22.885Z"
   },
   {
    "duration": 6,
    "start_time": "2022-08-05T12:08:22.890Z"
   },
   {
    "duration": 11,
    "start_time": "2022-08-05T12:08:22.898Z"
   },
   {
    "duration": 21,
    "start_time": "2022-08-05T12:08:22.910Z"
   },
   {
    "duration": 456,
    "start_time": "2022-08-05T12:08:22.932Z"
   },
   {
    "duration": 6,
    "start_time": "2022-08-05T12:08:23.390Z"
   },
   {
    "duration": 3,
    "start_time": "2022-08-05T12:09:00.595Z"
   },
   {
    "duration": 264,
    "start_time": "2022-08-05T12:09:00.612Z"
   },
   {
    "duration": 15,
    "start_time": "2022-08-05T12:09:00.878Z"
   },
   {
    "duration": 7,
    "start_time": "2022-08-05T12:09:00.895Z"
   },
   {
    "duration": 102,
    "start_time": "2022-08-05T12:09:00.904Z"
   },
   {
    "duration": 14,
    "start_time": "2022-08-05T12:09:01.009Z"
   },
   {
    "duration": 17,
    "start_time": "2022-08-05T12:09:01.024Z"
   },
   {
    "duration": 327,
    "start_time": "2022-08-05T12:09:01.042Z"
   },
   {
    "duration": 16,
    "start_time": "2022-08-05T12:09:01.370Z"
   },
   {
    "duration": 10,
    "start_time": "2022-08-05T12:09:01.388Z"
   },
   {
    "duration": 22,
    "start_time": "2022-08-05T12:09:01.399Z"
   },
   {
    "duration": 31,
    "start_time": "2022-08-05T12:09:01.423Z"
   },
   {
    "duration": 28,
    "start_time": "2022-08-05T12:09:01.456Z"
   },
   {
    "duration": 17,
    "start_time": "2022-08-05T12:09:01.486Z"
   },
   {
    "duration": 12,
    "start_time": "2022-08-05T12:09:01.506Z"
   },
   {
    "duration": 20,
    "start_time": "2022-08-05T12:09:01.519Z"
   },
   {
    "duration": 27,
    "start_time": "2022-08-05T12:09:01.541Z"
   },
   {
    "duration": 46,
    "start_time": "2022-08-05T12:09:01.570Z"
   },
   {
    "duration": 13,
    "start_time": "2022-08-05T12:09:01.618Z"
   },
   {
    "duration": 13,
    "start_time": "2022-08-05T12:09:01.633Z"
   },
   {
    "duration": 10,
    "start_time": "2022-08-05T12:09:01.648Z"
   },
   {
    "duration": 7,
    "start_time": "2022-08-05T12:09:01.660Z"
   },
   {
    "duration": 6,
    "start_time": "2022-08-05T12:09:01.669Z"
   },
   {
    "duration": 5,
    "start_time": "2022-08-05T12:09:01.677Z"
   },
   {
    "duration": 7,
    "start_time": "2022-08-05T12:09:01.683Z"
   },
   {
    "duration": 8,
    "start_time": "2022-08-05T12:09:01.692Z"
   },
   {
    "duration": 11,
    "start_time": "2022-08-05T12:09:01.701Z"
   },
   {
    "duration": 5,
    "start_time": "2022-08-05T12:09:01.713Z"
   },
   {
    "duration": 7,
    "start_time": "2022-08-05T12:09:01.719Z"
   },
   {
    "duration": 5,
    "start_time": "2022-08-05T12:09:01.754Z"
   },
   {
    "duration": 16,
    "start_time": "2022-08-05T12:09:01.760Z"
   },
   {
    "duration": 14,
    "start_time": "2022-08-05T12:09:01.777Z"
   },
   {
    "duration": 3,
    "start_time": "2022-08-05T12:09:01.792Z"
   },
   {
    "duration": 5,
    "start_time": "2022-08-05T12:09:01.797Z"
   },
   {
    "duration": 26,
    "start_time": "2022-08-05T12:09:01.803Z"
   },
   {
    "duration": 32,
    "start_time": "2022-08-05T12:09:01.830Z"
   },
   {
    "duration": 435,
    "start_time": "2022-08-05T12:09:01.863Z"
   },
   {
    "duration": 6,
    "start_time": "2022-08-05T12:09:02.299Z"
   },
   {
    "duration": 3,
    "start_time": "2022-08-05T12:09:52.144Z"
   },
   {
    "duration": 276,
    "start_time": "2022-08-05T12:09:52.162Z"
   },
   {
    "duration": 26,
    "start_time": "2022-08-05T12:09:52.440Z"
   },
   {
    "duration": 6,
    "start_time": "2022-08-05T12:09:52.468Z"
   },
   {
    "duration": 95,
    "start_time": "2022-08-05T12:09:52.475Z"
   },
   {
    "duration": 12,
    "start_time": "2022-08-05T12:09:52.572Z"
   },
   {
    "duration": 20,
    "start_time": "2022-08-05T12:09:52.586Z"
   },
   {
    "duration": 337,
    "start_time": "2022-08-05T12:09:52.608Z"
   },
   {
    "duration": 17,
    "start_time": "2022-08-05T12:09:52.946Z"
   },
   {
    "duration": 8,
    "start_time": "2022-08-05T12:09:52.965Z"
   },
   {
    "duration": 14,
    "start_time": "2022-08-05T12:09:52.974Z"
   },
   {
    "duration": 9,
    "start_time": "2022-08-05T12:09:52.990Z"
   },
   {
    "duration": 13,
    "start_time": "2022-08-05T12:09:53.001Z"
   },
   {
    "duration": 15,
    "start_time": "2022-08-05T12:09:53.016Z"
   },
   {
    "duration": 23,
    "start_time": "2022-08-05T12:09:53.034Z"
   },
   {
    "duration": 8,
    "start_time": "2022-08-05T12:09:53.058Z"
   },
   {
    "duration": 7,
    "start_time": "2022-08-05T12:09:53.067Z"
   },
   {
    "duration": 5,
    "start_time": "2022-08-05T12:09:53.076Z"
   },
   {
    "duration": 7,
    "start_time": "2022-08-05T12:09:53.083Z"
   },
   {
    "duration": 7,
    "start_time": "2022-08-05T12:09:53.091Z"
   },
   {
    "duration": 6,
    "start_time": "2022-08-05T12:09:53.099Z"
   },
   {
    "duration": 8,
    "start_time": "2022-08-05T12:09:53.106Z"
   },
   {
    "duration": 6,
    "start_time": "2022-08-05T12:09:53.154Z"
   },
   {
    "duration": 6,
    "start_time": "2022-08-05T12:09:53.161Z"
   },
   {
    "duration": 8,
    "start_time": "2022-08-05T12:09:53.169Z"
   },
   {
    "duration": 12,
    "start_time": "2022-08-05T12:09:53.178Z"
   },
   {
    "duration": 6,
    "start_time": "2022-08-05T12:09:53.192Z"
   },
   {
    "duration": 7,
    "start_time": "2022-08-05T12:09:53.200Z"
   },
   {
    "duration": 6,
    "start_time": "2022-08-05T12:09:53.209Z"
   },
   {
    "duration": 38,
    "start_time": "2022-08-05T12:09:53.217Z"
   },
   {
    "duration": 5,
    "start_time": "2022-08-05T12:09:53.257Z"
   },
   {
    "duration": 17,
    "start_time": "2022-08-05T12:09:53.263Z"
   },
   {
    "duration": 4,
    "start_time": "2022-08-05T12:09:53.282Z"
   },
   {
    "duration": 5,
    "start_time": "2022-08-05T12:09:53.288Z"
   },
   {
    "duration": 12,
    "start_time": "2022-08-05T12:09:53.294Z"
   },
   {
    "duration": 16,
    "start_time": "2022-08-05T12:09:53.307Z"
   },
   {
    "duration": 453,
    "start_time": "2022-08-05T12:09:53.324Z"
   },
   {
    "duration": 5,
    "start_time": "2022-08-05T12:09:53.779Z"
   },
   {
    "duration": 71,
    "start_time": "2022-08-05T12:10:34.670Z"
   },
   {
    "duration": 430,
    "start_time": "2022-08-05T12:10:46.118Z"
   },
   {
    "duration": 4,
    "start_time": "2022-08-05T12:19:34.426Z"
   },
   {
    "duration": 245,
    "start_time": "2022-08-05T12:19:34.435Z"
   },
   {
    "duration": 16,
    "start_time": "2022-08-05T12:19:34.682Z"
   },
   {
    "duration": 7,
    "start_time": "2022-08-05T12:19:34.699Z"
   },
   {
    "duration": 93,
    "start_time": "2022-08-05T12:19:34.707Z"
   },
   {
    "duration": 11,
    "start_time": "2022-08-05T12:19:34.802Z"
   },
   {
    "duration": 10,
    "start_time": "2022-08-05T12:19:34.814Z"
   },
   {
    "duration": 308,
    "start_time": "2022-08-05T12:19:34.825Z"
   },
   {
    "duration": 25,
    "start_time": "2022-08-05T12:19:35.135Z"
   },
   {
    "duration": 7,
    "start_time": "2022-08-05T12:19:35.162Z"
   },
   {
    "duration": 6,
    "start_time": "2022-08-05T12:19:35.171Z"
   },
   {
    "duration": 6,
    "start_time": "2022-08-05T12:19:35.179Z"
   },
   {
    "duration": 5,
    "start_time": "2022-08-05T12:19:35.186Z"
   },
   {
    "duration": 5,
    "start_time": "2022-08-05T12:19:35.192Z"
   },
   {
    "duration": 7,
    "start_time": "2022-08-05T12:19:35.200Z"
   },
   {
    "duration": 48,
    "start_time": "2022-08-05T12:19:35.208Z"
   },
   {
    "duration": 4,
    "start_time": "2022-08-05T12:19:35.257Z"
   },
   {
    "duration": 6,
    "start_time": "2022-08-05T12:19:35.263Z"
   },
   {
    "duration": 7,
    "start_time": "2022-08-05T12:19:35.270Z"
   },
   {
    "duration": 5,
    "start_time": "2022-08-05T12:19:35.279Z"
   },
   {
    "duration": 6,
    "start_time": "2022-08-05T12:19:35.286Z"
   },
   {
    "duration": 7,
    "start_time": "2022-08-05T12:19:35.294Z"
   },
   {
    "duration": 6,
    "start_time": "2022-08-05T12:19:35.303Z"
   },
   {
    "duration": 45,
    "start_time": "2022-08-05T12:19:35.311Z"
   },
   {
    "duration": 5,
    "start_time": "2022-08-05T12:19:35.357Z"
   },
   {
    "duration": 20,
    "start_time": "2022-08-05T12:19:35.363Z"
   },
   {
    "duration": 7,
    "start_time": "2022-08-05T12:19:35.384Z"
   },
   {
    "duration": 29,
    "start_time": "2022-08-05T12:19:35.392Z"
   },
   {
    "duration": 6,
    "start_time": "2022-08-05T12:19:35.422Z"
   },
   {
    "duration": 13,
    "start_time": "2022-08-05T12:19:35.430Z"
   },
   {
    "duration": 27,
    "start_time": "2022-08-05T12:19:35.445Z"
   },
   {
    "duration": 31,
    "start_time": "2022-08-05T12:19:35.473Z"
   },
   {
    "duration": 11,
    "start_time": "2022-08-05T12:19:35.506Z"
   },
   {
    "duration": 24,
    "start_time": "2022-08-05T12:19:35.518Z"
   },
   {
    "duration": 22,
    "start_time": "2022-08-05T12:19:35.543Z"
   },
   {
    "duration": 28,
    "start_time": "2022-08-05T12:19:35.566Z"
   },
   {
    "duration": 425,
    "start_time": "2022-08-05T12:19:35.596Z"
   },
   {
    "duration": 432,
    "start_time": "2022-08-05T12:19:36.022Z"
   },
   {
    "duration": 3,
    "start_time": "2022-08-05T12:20:31.460Z"
   },
   {
    "duration": 243,
    "start_time": "2022-08-05T12:20:31.477Z"
   },
   {
    "duration": 15,
    "start_time": "2022-08-05T12:20:31.722Z"
   },
   {
    "duration": 5,
    "start_time": "2022-08-05T12:20:31.738Z"
   },
   {
    "duration": 79,
    "start_time": "2022-08-05T12:20:31.755Z"
   },
   {
    "duration": 19,
    "start_time": "2022-08-05T12:20:31.836Z"
   },
   {
    "duration": 5,
    "start_time": "2022-08-05T12:20:31.856Z"
   },
   {
    "duration": 302,
    "start_time": "2022-08-05T12:20:31.862Z"
   },
   {
    "duration": 15,
    "start_time": "2022-08-05T12:20:32.166Z"
   },
   {
    "duration": 6,
    "start_time": "2022-08-05T12:20:32.183Z"
   },
   {
    "duration": 8,
    "start_time": "2022-08-05T12:20:32.190Z"
   },
   {
    "duration": 6,
    "start_time": "2022-08-05T12:20:32.199Z"
   },
   {
    "duration": 7,
    "start_time": "2022-08-05T12:20:32.206Z"
   },
   {
    "duration": 5,
    "start_time": "2022-08-05T12:20:32.214Z"
   },
   {
    "duration": 36,
    "start_time": "2022-08-05T12:20:32.221Z"
   },
   {
    "duration": 4,
    "start_time": "2022-08-05T12:20:32.258Z"
   },
   {
    "duration": 7,
    "start_time": "2022-08-05T12:20:32.263Z"
   },
   {
    "duration": 6,
    "start_time": "2022-08-05T12:20:32.271Z"
   },
   {
    "duration": 6,
    "start_time": "2022-08-05T12:20:32.278Z"
   },
   {
    "duration": 6,
    "start_time": "2022-08-05T12:20:32.285Z"
   },
   {
    "duration": 5,
    "start_time": "2022-08-05T12:20:32.292Z"
   },
   {
    "duration": 9,
    "start_time": "2022-08-05T12:20:32.298Z"
   },
   {
    "duration": 8,
    "start_time": "2022-08-05T12:20:32.308Z"
   },
   {
    "duration": 39,
    "start_time": "2022-08-05T12:20:32.317Z"
   },
   {
    "duration": 4,
    "start_time": "2022-08-05T12:20:32.358Z"
   },
   {
    "duration": 7,
    "start_time": "2022-08-05T12:20:32.363Z"
   },
   {
    "duration": 6,
    "start_time": "2022-08-05T12:20:32.371Z"
   },
   {
    "duration": 4,
    "start_time": "2022-08-05T12:20:32.378Z"
   },
   {
    "duration": 5,
    "start_time": "2022-08-05T12:20:32.384Z"
   },
   {
    "duration": 5,
    "start_time": "2022-08-05T12:20:32.391Z"
   },
   {
    "duration": 5,
    "start_time": "2022-08-05T12:20:32.397Z"
   },
   {
    "duration": 57,
    "start_time": "2022-08-05T12:20:32.403Z"
   },
   {
    "duration": 4,
    "start_time": "2022-08-05T12:20:32.461Z"
   },
   {
    "duration": 7,
    "start_time": "2022-08-05T12:20:32.466Z"
   },
   {
    "duration": 10,
    "start_time": "2022-08-05T12:20:32.474Z"
   },
   {
    "duration": 17,
    "start_time": "2022-08-05T12:20:32.485Z"
   },
   {
    "duration": 435,
    "start_time": "2022-08-05T12:20:32.504Z"
   },
   {
    "duration": 446,
    "start_time": "2022-08-05T12:20:32.940Z"
   },
   {
    "duration": 422,
    "start_time": "2022-08-05T12:20:53.795Z"
   },
   {
    "duration": 4,
    "start_time": "2022-08-05T12:20:59.982Z"
   },
   {
    "duration": 244,
    "start_time": "2022-08-05T12:21:00.003Z"
   },
   {
    "duration": 17,
    "start_time": "2022-08-05T12:21:00.249Z"
   },
   {
    "duration": 6,
    "start_time": "2022-08-05T12:21:00.268Z"
   },
   {
    "duration": 86,
    "start_time": "2022-08-05T12:21:00.276Z"
   },
   {
    "duration": 11,
    "start_time": "2022-08-05T12:21:00.365Z"
   },
   {
    "duration": 7,
    "start_time": "2022-08-05T12:21:00.377Z"
   },
   {
    "duration": 308,
    "start_time": "2022-08-05T12:21:00.385Z"
   },
   {
    "duration": 15,
    "start_time": "2022-08-05T12:21:00.695Z"
   },
   {
    "duration": 7,
    "start_time": "2022-08-05T12:21:00.711Z"
   },
   {
    "duration": 9,
    "start_time": "2022-08-05T12:21:00.720Z"
   },
   {
    "duration": 26,
    "start_time": "2022-08-05T12:21:00.730Z"
   },
   {
    "duration": 12,
    "start_time": "2022-08-05T12:21:00.758Z"
   },
   {
    "duration": 9,
    "start_time": "2022-08-05T12:21:00.772Z"
   },
   {
    "duration": 13,
    "start_time": "2022-08-05T12:21:00.783Z"
   },
   {
    "duration": 21,
    "start_time": "2022-08-05T12:21:00.797Z"
   },
   {
    "duration": 13,
    "start_time": "2022-08-05T12:21:00.820Z"
   },
   {
    "duration": 11,
    "start_time": "2022-08-05T12:21:00.835Z"
   },
   {
    "duration": 11,
    "start_time": "2022-08-05T12:21:00.848Z"
   },
   {
    "duration": 12,
    "start_time": "2022-08-05T12:21:00.861Z"
   },
   {
    "duration": 17,
    "start_time": "2022-08-05T12:21:00.875Z"
   },
   {
    "duration": 12,
    "start_time": "2022-08-05T12:21:00.893Z"
   },
   {
    "duration": 7,
    "start_time": "2022-08-05T12:21:00.907Z"
   },
   {
    "duration": 9,
    "start_time": "2022-08-05T12:21:00.915Z"
   },
   {
    "duration": 6,
    "start_time": "2022-08-05T12:21:00.925Z"
   },
   {
    "duration": 7,
    "start_time": "2022-08-05T12:21:00.932Z"
   },
   {
    "duration": 14,
    "start_time": "2022-08-05T12:21:00.941Z"
   },
   {
    "duration": 4,
    "start_time": "2022-08-05T12:21:00.956Z"
   },
   {
    "duration": 11,
    "start_time": "2022-08-05T12:21:00.962Z"
   },
   {
    "duration": 12,
    "start_time": "2022-08-05T12:21:00.975Z"
   },
   {
    "duration": 13,
    "start_time": "2022-08-05T12:21:00.988Z"
   },
   {
    "duration": 19,
    "start_time": "2022-08-05T12:21:01.003Z"
   },
   {
    "duration": 3,
    "start_time": "2022-08-05T12:21:01.024Z"
   },
   {
    "duration": 6,
    "start_time": "2022-08-05T12:21:01.029Z"
   },
   {
    "duration": 22,
    "start_time": "2022-08-05T12:21:01.036Z"
   },
   {
    "duration": 14,
    "start_time": "2022-08-05T12:21:01.059Z"
   },
   {
    "duration": 431,
    "start_time": "2022-08-05T12:21:01.075Z"
   },
   {
    "duration": 445,
    "start_time": "2022-08-05T12:21:01.507Z"
   },
   {
    "duration": 440,
    "start_time": "2022-08-05T12:21:19.562Z"
   },
   {
    "duration": 438,
    "start_time": "2022-08-05T12:25:09.156Z"
   },
   {
    "duration": 438,
    "start_time": "2022-08-05T12:25:26.311Z"
   },
   {
    "duration": 3,
    "start_time": "2022-08-05T12:25:32.254Z"
   },
   {
    "duration": 246,
    "start_time": "2022-08-05T12:25:32.269Z"
   },
   {
    "duration": 14,
    "start_time": "2022-08-05T12:25:32.517Z"
   },
   {
    "duration": 6,
    "start_time": "2022-08-05T12:25:32.532Z"
   },
   {
    "duration": 92,
    "start_time": "2022-08-05T12:25:32.539Z"
   },
   {
    "duration": 11,
    "start_time": "2022-08-05T12:25:32.633Z"
   },
   {
    "duration": 10,
    "start_time": "2022-08-05T12:25:32.646Z"
   },
   {
    "duration": 297,
    "start_time": "2022-08-05T12:25:32.658Z"
   },
   {
    "duration": 15,
    "start_time": "2022-08-05T12:25:32.956Z"
   },
   {
    "duration": 6,
    "start_time": "2022-08-05T12:25:32.972Z"
   },
   {
    "duration": 11,
    "start_time": "2022-08-05T12:25:32.980Z"
   },
   {
    "duration": 7,
    "start_time": "2022-08-05T12:25:32.992Z"
   },
   {
    "duration": 9,
    "start_time": "2022-08-05T12:25:33.001Z"
   },
   {
    "duration": 7,
    "start_time": "2022-08-05T12:25:33.012Z"
   },
   {
    "duration": 5,
    "start_time": "2022-08-05T12:25:33.055Z"
   },
   {
    "duration": 5,
    "start_time": "2022-08-05T12:25:33.061Z"
   },
   {
    "duration": 4,
    "start_time": "2022-08-05T12:25:33.068Z"
   },
   {
    "duration": 6,
    "start_time": "2022-08-05T12:25:33.073Z"
   },
   {
    "duration": 9,
    "start_time": "2022-08-05T12:25:33.080Z"
   },
   {
    "duration": 6,
    "start_time": "2022-08-05T12:25:33.090Z"
   },
   {
    "duration": 4,
    "start_time": "2022-08-05T12:25:33.098Z"
   },
   {
    "duration": 4,
    "start_time": "2022-08-05T12:25:33.103Z"
   },
   {
    "duration": 6,
    "start_time": "2022-08-05T12:25:33.109Z"
   },
   {
    "duration": 42,
    "start_time": "2022-08-05T12:25:33.116Z"
   },
   {
    "duration": 6,
    "start_time": "2022-08-05T12:25:33.159Z"
   },
   {
    "duration": 7,
    "start_time": "2022-08-05T12:25:33.166Z"
   },
   {
    "duration": 6,
    "start_time": "2022-08-05T12:25:33.174Z"
   },
   {
    "duration": 5,
    "start_time": "2022-08-05T12:25:33.181Z"
   },
   {
    "duration": 9,
    "start_time": "2022-08-05T12:25:33.188Z"
   },
   {
    "duration": 6,
    "start_time": "2022-08-05T12:25:33.198Z"
   },
   {
    "duration": 5,
    "start_time": "2022-08-05T12:25:33.205Z"
   },
   {
    "duration": 50,
    "start_time": "2022-08-05T12:25:33.212Z"
   },
   {
    "duration": 3,
    "start_time": "2022-08-05T12:25:33.264Z"
   },
   {
    "duration": 5,
    "start_time": "2022-08-05T12:25:33.269Z"
   },
   {
    "duration": 10,
    "start_time": "2022-08-05T12:25:33.275Z"
   },
   {
    "duration": 11,
    "start_time": "2022-08-05T12:25:33.287Z"
   },
   {
    "duration": 447,
    "start_time": "2022-08-05T12:25:33.299Z"
   },
   {
    "duration": 453,
    "start_time": "2022-08-05T12:25:33.748Z"
   },
   {
    "duration": 442,
    "start_time": "2022-08-05T12:27:23.549Z"
   },
   {
    "duration": 3,
    "start_time": "2022-08-05T12:27:31.815Z"
   },
   {
    "duration": 253,
    "start_time": "2022-08-05T12:27:31.829Z"
   },
   {
    "duration": 14,
    "start_time": "2022-08-05T12:27:32.085Z"
   },
   {
    "duration": 5,
    "start_time": "2022-08-05T12:27:32.101Z"
   },
   {
    "duration": 85,
    "start_time": "2022-08-05T12:27:32.108Z"
   },
   {
    "duration": 11,
    "start_time": "2022-08-05T12:27:32.195Z"
   },
   {
    "duration": 17,
    "start_time": "2022-08-05T12:27:32.207Z"
   },
   {
    "duration": 317,
    "start_time": "2022-08-05T12:27:32.225Z"
   },
   {
    "duration": 22,
    "start_time": "2022-08-05T12:27:32.544Z"
   },
   {
    "duration": 7,
    "start_time": "2022-08-05T12:27:32.567Z"
   },
   {
    "duration": 11,
    "start_time": "2022-08-05T12:27:32.575Z"
   },
   {
    "duration": 7,
    "start_time": "2022-08-05T12:27:32.587Z"
   },
   {
    "duration": 17,
    "start_time": "2022-08-05T12:27:32.595Z"
   },
   {
    "duration": 8,
    "start_time": "2022-08-05T12:27:32.613Z"
   },
   {
    "duration": 6,
    "start_time": "2022-08-05T12:27:32.624Z"
   },
   {
    "duration": 25,
    "start_time": "2022-08-05T12:27:32.631Z"
   },
   {
    "duration": 7,
    "start_time": "2022-08-05T12:27:32.658Z"
   },
   {
    "duration": 7,
    "start_time": "2022-08-05T12:27:32.667Z"
   },
   {
    "duration": 9,
    "start_time": "2022-08-05T12:27:32.676Z"
   },
   {
    "duration": 9,
    "start_time": "2022-08-05T12:27:32.686Z"
   },
   {
    "duration": 8,
    "start_time": "2022-08-05T12:27:32.696Z"
   },
   {
    "duration": 6,
    "start_time": "2022-08-05T12:27:32.705Z"
   },
   {
    "duration": 6,
    "start_time": "2022-08-05T12:27:32.713Z"
   },
   {
    "duration": 37,
    "start_time": "2022-08-05T12:27:32.720Z"
   },
   {
    "duration": 6,
    "start_time": "2022-08-05T12:27:32.759Z"
   },
   {
    "duration": 7,
    "start_time": "2022-08-05T12:27:32.766Z"
   },
   {
    "duration": 7,
    "start_time": "2022-08-05T12:27:32.775Z"
   },
   {
    "duration": 7,
    "start_time": "2022-08-05T12:27:32.784Z"
   },
   {
    "duration": 5,
    "start_time": "2022-08-05T12:27:32.792Z"
   },
   {
    "duration": 6,
    "start_time": "2022-08-05T12:27:32.798Z"
   },
   {
    "duration": 12,
    "start_time": "2022-08-05T12:27:32.805Z"
   },
   {
    "duration": 45,
    "start_time": "2022-08-05T12:27:32.818Z"
   },
   {
    "duration": 4,
    "start_time": "2022-08-05T12:27:32.865Z"
   },
   {
    "duration": 4,
    "start_time": "2022-08-05T12:27:32.870Z"
   },
   {
    "duration": 8,
    "start_time": "2022-08-05T12:27:32.875Z"
   },
   {
    "duration": 13,
    "start_time": "2022-08-05T12:27:32.885Z"
   },
   {
    "duration": 456,
    "start_time": "2022-08-05T12:27:32.899Z"
   },
   {
    "duration": 448,
    "start_time": "2022-08-05T12:27:33.357Z"
   },
   {
    "duration": 3,
    "start_time": "2022-08-05T12:30:33.946Z"
   },
   {
    "duration": 4,
    "start_time": "2022-08-05T12:30:39.333Z"
   },
   {
    "duration": 247,
    "start_time": "2022-08-05T12:30:39.351Z"
   },
   {
    "duration": 15,
    "start_time": "2022-08-05T12:30:39.601Z"
   },
   {
    "duration": 6,
    "start_time": "2022-08-05T12:30:39.618Z"
   },
   {
    "duration": 89,
    "start_time": "2022-08-05T12:30:39.625Z"
   },
   {
    "duration": 11,
    "start_time": "2022-08-05T12:30:39.716Z"
   },
   {
    "duration": 4,
    "start_time": "2022-08-05T12:30:39.729Z"
   },
   {
    "duration": 316,
    "start_time": "2022-08-05T12:30:39.735Z"
   },
   {
    "duration": 15,
    "start_time": "2022-08-05T12:30:40.055Z"
   },
   {
    "duration": 6,
    "start_time": "2022-08-05T12:30:40.072Z"
   },
   {
    "duration": 14,
    "start_time": "2022-08-05T12:30:40.080Z"
   },
   {
    "duration": 17,
    "start_time": "2022-08-05T12:30:40.095Z"
   },
   {
    "duration": 18,
    "start_time": "2022-08-05T12:30:40.113Z"
   },
   {
    "duration": 10,
    "start_time": "2022-08-05T12:30:40.133Z"
   },
   {
    "duration": 10,
    "start_time": "2022-08-05T12:30:40.146Z"
   },
   {
    "duration": 20,
    "start_time": "2022-08-05T12:30:40.158Z"
   },
   {
    "duration": 13,
    "start_time": "2022-08-05T12:30:40.180Z"
   },
   {
    "duration": 13,
    "start_time": "2022-08-05T12:30:40.195Z"
   },
   {
    "duration": 28,
    "start_time": "2022-08-05T12:30:40.210Z"
   },
   {
    "duration": 9,
    "start_time": "2022-08-05T12:30:40.240Z"
   },
   {
    "duration": 19,
    "start_time": "2022-08-05T12:30:40.251Z"
   },
   {
    "duration": 17,
    "start_time": "2022-08-05T12:30:40.272Z"
   },
   {
    "duration": 12,
    "start_time": "2022-08-05T12:30:40.291Z"
   },
   {
    "duration": 23,
    "start_time": "2022-08-05T12:30:40.305Z"
   },
   {
    "duration": 17,
    "start_time": "2022-08-05T12:30:40.330Z"
   },
   {
    "duration": 16,
    "start_time": "2022-08-05T12:30:40.349Z"
   },
   {
    "duration": 11,
    "start_time": "2022-08-05T12:30:40.366Z"
   },
   {
    "duration": 11,
    "start_time": "2022-08-05T12:30:40.379Z"
   },
   {
    "duration": 18,
    "start_time": "2022-08-05T12:30:40.392Z"
   },
   {
    "duration": 23,
    "start_time": "2022-08-05T12:30:40.412Z"
   },
   {
    "duration": 13,
    "start_time": "2022-08-05T12:30:40.436Z"
   },
   {
    "duration": 15,
    "start_time": "2022-08-05T12:30:40.451Z"
   },
   {
    "duration": 21,
    "start_time": "2022-08-05T12:30:40.467Z"
   },
   {
    "duration": 8,
    "start_time": "2022-08-05T12:30:40.490Z"
   },
   {
    "duration": 20,
    "start_time": "2022-08-05T12:30:40.499Z"
   },
   {
    "duration": 23,
    "start_time": "2022-08-05T12:30:40.521Z"
   },
   {
    "duration": 443,
    "start_time": "2022-08-05T12:30:40.545Z"
   },
   {
    "duration": 454,
    "start_time": "2022-08-05T12:30:40.989Z"
   },
   {
    "duration": 3,
    "start_time": "2022-08-05T12:30:41.444Z"
   },
   {
    "duration": 12,
    "start_time": "2022-08-05T12:54:57.966Z"
   },
   {
    "duration": 7,
    "start_time": "2022-08-05T12:55:09.456Z"
   },
   {
    "duration": 465,
    "start_time": "2022-08-05T12:55:09.473Z"
   },
   {
    "duration": 18,
    "start_time": "2022-08-05T12:55:09.940Z"
   },
   {
    "duration": 8,
    "start_time": "2022-08-05T12:55:09.960Z"
   },
   {
    "duration": 103,
    "start_time": "2022-08-05T12:55:09.970Z"
   },
   {
    "duration": 11,
    "start_time": "2022-08-05T12:55:10.077Z"
   },
   {
    "duration": 4,
    "start_time": "2022-08-05T12:55:10.090Z"
   },
   {
    "duration": 350,
    "start_time": "2022-08-05T12:55:10.095Z"
   },
   {
    "duration": 29,
    "start_time": "2022-08-05T12:55:10.447Z"
   },
   {
    "duration": 7,
    "start_time": "2022-08-05T12:55:10.478Z"
   },
   {
    "duration": 9,
    "start_time": "2022-08-05T12:55:10.486Z"
   },
   {
    "duration": 9,
    "start_time": "2022-08-05T12:55:10.497Z"
   },
   {
    "duration": 20,
    "start_time": "2022-08-05T12:55:10.507Z"
   },
   {
    "duration": 29,
    "start_time": "2022-08-05T12:55:10.529Z"
   },
   {
    "duration": 16,
    "start_time": "2022-08-05T12:55:10.562Z"
   },
   {
    "duration": 7,
    "start_time": "2022-08-05T12:55:10.580Z"
   },
   {
    "duration": 6,
    "start_time": "2022-08-05T12:55:10.589Z"
   },
   {
    "duration": 7,
    "start_time": "2022-08-05T12:55:10.597Z"
   },
   {
    "duration": 5,
    "start_time": "2022-08-05T12:55:10.607Z"
   },
   {
    "duration": 6,
    "start_time": "2022-08-05T12:55:10.613Z"
   },
   {
    "duration": 38,
    "start_time": "2022-08-05T12:55:10.620Z"
   },
   {
    "duration": 5,
    "start_time": "2022-08-05T12:55:10.661Z"
   },
   {
    "duration": 20,
    "start_time": "2022-08-05T12:55:10.668Z"
   },
   {
    "duration": 5,
    "start_time": "2022-08-05T12:55:10.689Z"
   },
   {
    "duration": 5,
    "start_time": "2022-08-05T12:55:10.696Z"
   },
   {
    "duration": 5,
    "start_time": "2022-08-05T12:55:10.703Z"
   },
   {
    "duration": 6,
    "start_time": "2022-08-05T12:55:10.709Z"
   },
   {
    "duration": 6,
    "start_time": "2022-08-05T12:55:10.716Z"
   },
   {
    "duration": 46,
    "start_time": "2022-08-05T12:55:10.723Z"
   },
   {
    "duration": 14,
    "start_time": "2022-08-05T12:55:10.771Z"
   },
   {
    "duration": 6,
    "start_time": "2022-08-05T12:55:10.787Z"
   },
   {
    "duration": 15,
    "start_time": "2022-08-05T12:55:10.794Z"
   },
   {
    "duration": 3,
    "start_time": "2022-08-05T12:55:10.811Z"
   },
   {
    "duration": 10,
    "start_time": "2022-08-05T12:55:10.816Z"
   },
   {
    "duration": 32,
    "start_time": "2022-08-05T12:55:10.827Z"
   },
   {
    "duration": 22,
    "start_time": "2022-08-05T12:55:10.862Z"
   },
   {
    "duration": 486,
    "start_time": "2022-08-05T12:55:10.886Z"
   },
   {
    "duration": 502,
    "start_time": "2022-08-05T12:55:11.373Z"
   },
   {
    "duration": 4,
    "start_time": "2022-08-05T12:55:11.877Z"
   },
   {
    "duration": 2720,
    "start_time": "2022-08-05T12:55:11.884Z"
   },
   {
    "duration": 112,
    "start_time": "2022-08-05T12:56:18.533Z"
   },
   {
    "duration": 4,
    "start_time": "2022-08-05T12:56:27.137Z"
   },
   {
    "duration": 288,
    "start_time": "2022-08-05T12:56:27.152Z"
   },
   {
    "duration": 38,
    "start_time": "2022-08-05T12:56:27.442Z"
   },
   {
    "duration": 15,
    "start_time": "2022-08-05T12:56:27.482Z"
   },
   {
    "duration": 141,
    "start_time": "2022-08-05T12:56:27.502Z"
   },
   {
    "duration": 20,
    "start_time": "2022-08-05T12:56:27.646Z"
   },
   {
    "duration": 24,
    "start_time": "2022-08-05T12:56:27.668Z"
   },
   {
    "duration": 363,
    "start_time": "2022-08-05T12:56:27.694Z"
   },
   {
    "duration": 22,
    "start_time": "2022-08-05T12:56:28.068Z"
   },
   {
    "duration": 10,
    "start_time": "2022-08-05T12:56:28.092Z"
   },
   {
    "duration": 8,
    "start_time": "2022-08-05T12:56:28.104Z"
   },
   {
    "duration": 6,
    "start_time": "2022-08-05T12:56:28.114Z"
   },
   {
    "duration": 35,
    "start_time": "2022-08-05T12:56:28.121Z"
   },
   {
    "duration": 8,
    "start_time": "2022-08-05T12:56:28.158Z"
   },
   {
    "duration": 14,
    "start_time": "2022-08-05T12:56:28.171Z"
   },
   {
    "duration": 10,
    "start_time": "2022-08-05T12:56:28.188Z"
   },
   {
    "duration": 11,
    "start_time": "2022-08-05T12:56:28.200Z"
   },
   {
    "duration": 9,
    "start_time": "2022-08-05T12:56:28.212Z"
   },
   {
    "duration": 35,
    "start_time": "2022-08-05T12:56:28.223Z"
   },
   {
    "duration": 9,
    "start_time": "2022-08-05T12:56:28.261Z"
   },
   {
    "duration": 16,
    "start_time": "2022-08-05T12:56:28.272Z"
   },
   {
    "duration": 7,
    "start_time": "2022-08-05T12:56:28.290Z"
   },
   {
    "duration": 6,
    "start_time": "2022-08-05T12:56:28.299Z"
   },
   {
    "duration": 6,
    "start_time": "2022-08-05T12:56:28.307Z"
   },
   {
    "duration": 44,
    "start_time": "2022-08-05T12:56:28.315Z"
   },
   {
    "duration": 16,
    "start_time": "2022-08-05T12:56:28.360Z"
   },
   {
    "duration": 5,
    "start_time": "2022-08-05T12:56:28.380Z"
   },
   {
    "duration": 5,
    "start_time": "2022-08-05T12:56:28.387Z"
   },
   {
    "duration": 5,
    "start_time": "2022-08-05T12:56:28.394Z"
   },
   {
    "duration": 6,
    "start_time": "2022-08-05T12:56:28.401Z"
   },
   {
    "duration": 48,
    "start_time": "2022-08-05T12:56:28.408Z"
   },
   {
    "duration": 15,
    "start_time": "2022-08-05T12:56:28.457Z"
   },
   {
    "duration": 5,
    "start_time": "2022-08-05T12:56:28.476Z"
   },
   {
    "duration": 6,
    "start_time": "2022-08-05T12:56:28.483Z"
   },
   {
    "duration": 10,
    "start_time": "2022-08-05T12:56:28.490Z"
   },
   {
    "duration": 12,
    "start_time": "2022-08-05T12:56:28.502Z"
   },
   {
    "duration": 483,
    "start_time": "2022-08-05T12:56:28.558Z"
   },
   {
    "duration": 503,
    "start_time": "2022-08-05T12:56:29.042Z"
   },
   {
    "duration": 9,
    "start_time": "2022-08-05T12:56:29.546Z"
   },
   {
    "duration": 2590,
    "start_time": "2022-08-05T12:56:29.558Z"
   },
   {
    "duration": 1289,
    "start_time": "2022-08-05T15:28:15.378Z"
   },
   {
    "duration": 4,
    "start_time": "2022-08-05T15:29:15.714Z"
   },
   {
    "duration": 256,
    "start_time": "2022-08-05T15:29:15.731Z"
   },
   {
    "duration": 15,
    "start_time": "2022-08-05T15:29:15.989Z"
   },
   {
    "duration": 6,
    "start_time": "2022-08-05T15:29:16.005Z"
   },
   {
    "duration": 90,
    "start_time": "2022-08-05T15:29:16.013Z"
   },
   {
    "duration": 12,
    "start_time": "2022-08-05T15:29:16.105Z"
   },
   {
    "duration": 7,
    "start_time": "2022-08-05T15:29:16.119Z"
   },
   {
    "duration": 370,
    "start_time": "2022-08-05T15:29:16.127Z"
   },
   {
    "duration": 17,
    "start_time": "2022-08-05T15:29:16.499Z"
   },
   {
    "duration": 6,
    "start_time": "2022-08-05T15:29:16.518Z"
   },
   {
    "duration": 7,
    "start_time": "2022-08-05T15:29:16.526Z"
   },
   {
    "duration": 7,
    "start_time": "2022-08-05T15:29:16.535Z"
   },
   {
    "duration": 5,
    "start_time": "2022-08-05T15:29:16.555Z"
   },
   {
    "duration": 6,
    "start_time": "2022-08-05T15:29:16.562Z"
   },
   {
    "duration": 5,
    "start_time": "2022-08-05T15:29:16.571Z"
   },
   {
    "duration": 8,
    "start_time": "2022-08-05T15:29:16.578Z"
   },
   {
    "duration": 8,
    "start_time": "2022-08-05T15:29:16.587Z"
   },
   {
    "duration": 5,
    "start_time": "2022-08-05T15:29:16.597Z"
   },
   {
    "duration": 5,
    "start_time": "2022-08-05T15:29:16.603Z"
   },
   {
    "duration": 46,
    "start_time": "2022-08-05T15:29:16.609Z"
   },
   {
    "duration": 4,
    "start_time": "2022-08-05T15:29:16.657Z"
   },
   {
    "duration": 10,
    "start_time": "2022-08-05T15:29:16.662Z"
   },
   {
    "duration": 8,
    "start_time": "2022-08-05T15:29:16.673Z"
   },
   {
    "duration": 9,
    "start_time": "2022-08-05T15:29:16.683Z"
   },
   {
    "duration": 23,
    "start_time": "2022-08-05T15:29:16.693Z"
   },
   {
    "duration": 5,
    "start_time": "2022-08-05T15:29:16.717Z"
   },
   {
    "duration": 5,
    "start_time": "2022-08-05T15:29:16.723Z"
   },
   {
    "duration": 25,
    "start_time": "2022-08-05T15:29:16.730Z"
   },
   {
    "duration": 16,
    "start_time": "2022-08-05T15:29:16.757Z"
   },
   {
    "duration": 12,
    "start_time": "2022-08-05T15:29:16.775Z"
   },
   {
    "duration": 8,
    "start_time": "2022-08-05T15:29:16.789Z"
   },
   {
    "duration": 17,
    "start_time": "2022-08-05T15:29:16.799Z"
   },
   {
    "duration": 3,
    "start_time": "2022-08-05T15:29:16.818Z"
   },
   {
    "duration": 6,
    "start_time": "2022-08-05T15:29:16.822Z"
   },
   {
    "duration": 28,
    "start_time": "2022-08-05T15:29:16.830Z"
   },
   {
    "duration": 11,
    "start_time": "2022-08-05T15:29:16.859Z"
   },
   {
    "duration": 469,
    "start_time": "2022-08-05T15:29:16.872Z"
   },
   {
    "duration": 513,
    "start_time": "2022-08-05T15:29:17.344Z"
   },
   {
    "duration": 2,
    "start_time": "2022-08-05T15:29:17.859Z"
   },
   {
    "duration": 2346,
    "start_time": "2022-08-05T15:29:17.863Z"
   },
   {
    "duration": 1289,
    "start_time": "2022-08-05T15:29:20.210Z"
   },
   {
    "duration": 1304,
    "start_time": "2022-08-05T15:31:45.171Z"
   },
   {
    "duration": 48,
    "start_time": "2022-08-05T19:51:11.211Z"
   },
   {
    "duration": 1067,
    "start_time": "2022-08-05T19:51:22.950Z"
   },
   {
    "duration": 1521,
    "start_time": "2022-08-05T19:51:24.019Z"
   },
   {
    "duration": 16,
    "start_time": "2022-08-05T19:51:25.542Z"
   },
   {
    "duration": 6,
    "start_time": "2022-08-05T19:51:25.561Z"
   },
   {
    "duration": 186,
    "start_time": "2022-08-05T19:51:25.569Z"
   },
   {
    "duration": 12,
    "start_time": "2022-08-05T19:51:25.757Z"
   },
   {
    "duration": 6,
    "start_time": "2022-08-05T19:51:25.771Z"
   },
   {
    "duration": 582,
    "start_time": "2022-08-05T19:51:25.779Z"
   },
   {
    "duration": 18,
    "start_time": "2022-08-05T19:51:26.363Z"
   },
   {
    "duration": 7,
    "start_time": "2022-08-05T19:51:26.384Z"
   },
   {
    "duration": 7,
    "start_time": "2022-08-05T19:51:26.393Z"
   },
   {
    "duration": 5,
    "start_time": "2022-08-05T19:51:26.402Z"
   },
   {
    "duration": 7,
    "start_time": "2022-08-05T19:51:26.409Z"
   },
   {
    "duration": 5,
    "start_time": "2022-08-05T19:51:26.417Z"
   },
   {
    "duration": 7,
    "start_time": "2022-08-05T19:51:26.424Z"
   },
   {
    "duration": 5,
    "start_time": "2022-08-05T19:51:26.432Z"
   },
   {
    "duration": 4,
    "start_time": "2022-08-05T19:51:26.439Z"
   },
   {
    "duration": 7,
    "start_time": "2022-08-05T19:51:26.444Z"
   },
   {
    "duration": 41,
    "start_time": "2022-08-05T19:51:26.452Z"
   },
   {
    "duration": 4,
    "start_time": "2022-08-05T19:51:26.495Z"
   },
   {
    "duration": 8,
    "start_time": "2022-08-05T19:51:26.501Z"
   },
   {
    "duration": 7,
    "start_time": "2022-08-05T19:51:26.510Z"
   },
   {
    "duration": 7,
    "start_time": "2022-08-05T19:51:26.518Z"
   },
   {
    "duration": 6,
    "start_time": "2022-08-05T19:51:26.526Z"
   },
   {
    "duration": 7,
    "start_time": "2022-08-05T19:51:26.533Z"
   },
   {
    "duration": 9,
    "start_time": "2022-08-05T19:51:26.541Z"
   },
   {
    "duration": 5,
    "start_time": "2022-08-05T19:51:26.551Z"
   },
   {
    "duration": 5,
    "start_time": "2022-08-05T19:51:26.591Z"
   },
   {
    "duration": 7,
    "start_time": "2022-08-05T19:51:26.597Z"
   },
   {
    "duration": 7,
    "start_time": "2022-08-05T19:51:26.606Z"
   },
   {
    "duration": 5,
    "start_time": "2022-08-05T19:51:26.614Z"
   },
   {
    "duration": 17,
    "start_time": "2022-08-05T19:51:26.621Z"
   },
   {
    "duration": 4,
    "start_time": "2022-08-05T19:51:26.640Z"
   },
   {
    "duration": 4,
    "start_time": "2022-08-05T19:51:26.646Z"
   },
   {
    "duration": 48,
    "start_time": "2022-08-05T19:51:26.652Z"
   },
   {
    "duration": 16,
    "start_time": "2022-08-05T19:51:26.702Z"
   },
   {
    "duration": 493,
    "start_time": "2022-08-05T19:51:26.719Z"
   },
   {
    "duration": 519,
    "start_time": "2022-08-05T19:51:27.214Z"
   },
   {
    "duration": 4,
    "start_time": "2022-08-05T19:51:27.735Z"
   },
   {
    "duration": 2697,
    "start_time": "2022-08-05T19:51:27.740Z"
   },
   {
    "duration": 1523,
    "start_time": "2022-08-05T19:51:30.439Z"
   },
   {
    "duration": 1508,
    "start_time": "2022-08-05T19:51:31.964Z"
   },
   {
    "duration": 3,
    "start_time": "2022-08-05T19:51:33.473Z"
   },
   {
    "duration": 4,
    "start_time": "2022-08-05T19:52:54.246Z"
   },
   {
    "duration": 323,
    "start_time": "2022-08-05T19:52:54.270Z"
   },
   {
    "duration": 19,
    "start_time": "2022-08-05T19:52:54.595Z"
   },
   {
    "duration": 10,
    "start_time": "2022-08-05T19:52:54.616Z"
   },
   {
    "duration": 130,
    "start_time": "2022-08-05T19:52:54.628Z"
   },
   {
    "duration": 16,
    "start_time": "2022-08-05T19:52:54.761Z"
   },
   {
    "duration": 8,
    "start_time": "2022-08-05T19:52:54.792Z"
   },
   {
    "duration": 387,
    "start_time": "2022-08-05T19:52:54.802Z"
   },
   {
    "duration": 19,
    "start_time": "2022-08-05T19:52:55.190Z"
   },
   {
    "duration": 7,
    "start_time": "2022-08-05T19:52:55.211Z"
   },
   {
    "duration": 8,
    "start_time": "2022-08-05T19:52:55.219Z"
   },
   {
    "duration": 7,
    "start_time": "2022-08-05T19:52:55.228Z"
   },
   {
    "duration": 7,
    "start_time": "2022-08-05T19:52:55.237Z"
   },
   {
    "duration": 4,
    "start_time": "2022-08-05T19:52:55.246Z"
   },
   {
    "duration": 8,
    "start_time": "2022-08-05T19:52:55.253Z"
   },
   {
    "duration": 4,
    "start_time": "2022-08-05T19:52:55.292Z"
   },
   {
    "duration": 6,
    "start_time": "2022-08-05T19:52:55.298Z"
   },
   {
    "duration": 7,
    "start_time": "2022-08-05T19:52:55.305Z"
   },
   {
    "duration": 7,
    "start_time": "2022-08-05T19:52:55.314Z"
   },
   {
    "duration": 8,
    "start_time": "2022-08-05T19:52:55.322Z"
   },
   {
    "duration": 5,
    "start_time": "2022-08-05T19:52:55.331Z"
   },
   {
    "duration": 5,
    "start_time": "2022-08-05T19:52:55.338Z"
   },
   {
    "duration": 8,
    "start_time": "2022-08-05T19:52:55.344Z"
   },
   {
    "duration": 40,
    "start_time": "2022-08-05T19:52:55.354Z"
   },
   {
    "duration": 7,
    "start_time": "2022-08-05T19:52:55.395Z"
   },
   {
    "duration": 10,
    "start_time": "2022-08-05T19:52:55.404Z"
   },
   {
    "duration": 7,
    "start_time": "2022-08-05T19:52:55.416Z"
   },
   {
    "duration": 5,
    "start_time": "2022-08-05T19:52:55.424Z"
   },
   {
    "duration": 5,
    "start_time": "2022-08-05T19:52:55.430Z"
   },
   {
    "duration": 5,
    "start_time": "2022-08-05T19:52:55.437Z"
   },
   {
    "duration": 6,
    "start_time": "2022-08-05T19:52:55.443Z"
   },
   {
    "duration": 50,
    "start_time": "2022-08-05T19:52:55.451Z"
   },
   {
    "duration": 4,
    "start_time": "2022-08-05T19:52:55.503Z"
   },
   {
    "duration": 6,
    "start_time": "2022-08-05T19:52:55.509Z"
   },
   {
    "duration": 17,
    "start_time": "2022-08-05T19:52:55.517Z"
   },
   {
    "duration": 15,
    "start_time": "2022-08-05T19:52:55.536Z"
   },
   {
    "duration": 506,
    "start_time": "2022-08-05T19:52:55.552Z"
   },
   {
    "duration": 505,
    "start_time": "2022-08-05T19:52:56.060Z"
   },
   {
    "duration": 4,
    "start_time": "2022-08-05T19:52:56.567Z"
   },
   {
    "duration": 2629,
    "start_time": "2022-08-05T19:52:56.573Z"
   },
   {
    "duration": 1511,
    "start_time": "2022-08-05T19:52:59.203Z"
   },
   {
    "duration": 1585,
    "start_time": "2022-08-05T19:53:00.717Z"
   },
   {
    "duration": 4,
    "start_time": "2022-08-05T19:53:02.303Z"
   },
   {
    "duration": 7966,
    "start_time": "2022-08-05T19:53:02.309Z"
   },
   {
    "duration": 79,
    "start_time": "2022-08-05T19:53:44.871Z"
   },
   {
    "duration": 79,
    "start_time": "2022-08-05T19:57:13.629Z"
   },
   {
    "duration": 471,
    "start_time": "2022-08-05T19:57:25.326Z"
   },
   {
    "duration": 380,
    "start_time": "2022-08-05T19:59:17.918Z"
   },
   {
    "duration": 3,
    "start_time": "2022-08-05T20:01:08.416Z"
   },
   {
    "duration": 2332,
    "start_time": "2022-08-05T20:02:01.563Z"
   },
   {
    "duration": 4,
    "start_time": "2022-08-05T20:02:14.590Z"
   },
   {
    "duration": 306,
    "start_time": "2022-08-05T20:02:14.615Z"
   },
   {
    "duration": 15,
    "start_time": "2022-08-05T20:02:14.924Z"
   },
   {
    "duration": 6,
    "start_time": "2022-08-05T20:02:14.941Z"
   },
   {
    "duration": 98,
    "start_time": "2022-08-05T20:02:14.949Z"
   },
   {
    "duration": 13,
    "start_time": "2022-08-05T20:02:15.050Z"
   },
   {
    "duration": 9,
    "start_time": "2022-08-05T20:02:15.064Z"
   },
   {
    "duration": 384,
    "start_time": "2022-08-05T20:02:15.075Z"
   },
   {
    "duration": 30,
    "start_time": "2022-08-05T20:02:15.461Z"
   },
   {
    "duration": 6,
    "start_time": "2022-08-05T20:02:15.494Z"
   },
   {
    "duration": 9,
    "start_time": "2022-08-05T20:02:15.502Z"
   },
   {
    "duration": 8,
    "start_time": "2022-08-05T20:02:15.512Z"
   },
   {
    "duration": 5,
    "start_time": "2022-08-05T20:02:15.523Z"
   },
   {
    "duration": 6,
    "start_time": "2022-08-05T20:02:15.530Z"
   },
   {
    "duration": 6,
    "start_time": "2022-08-05T20:02:15.540Z"
   },
   {
    "duration": 6,
    "start_time": "2022-08-05T20:02:15.548Z"
   },
   {
    "duration": 39,
    "start_time": "2022-08-05T20:02:15.555Z"
   },
   {
    "duration": 5,
    "start_time": "2022-08-05T20:02:15.596Z"
   },
   {
    "duration": 7,
    "start_time": "2022-08-05T20:02:15.603Z"
   },
   {
    "duration": 6,
    "start_time": "2022-08-05T20:02:15.612Z"
   },
   {
    "duration": 5,
    "start_time": "2022-08-05T20:02:15.621Z"
   },
   {
    "duration": 5,
    "start_time": "2022-08-05T20:02:15.628Z"
   },
   {
    "duration": 9,
    "start_time": "2022-08-05T20:02:15.635Z"
   },
   {
    "duration": 8,
    "start_time": "2022-08-05T20:02:15.645Z"
   },
   {
    "duration": 7,
    "start_time": "2022-08-05T20:02:15.692Z"
   },
   {
    "duration": 10,
    "start_time": "2022-08-05T20:02:15.701Z"
   },
   {
    "duration": 11,
    "start_time": "2022-08-05T20:02:15.712Z"
   },
   {
    "duration": 7,
    "start_time": "2022-08-05T20:02:15.725Z"
   },
   {
    "duration": 7,
    "start_time": "2022-08-05T20:02:15.733Z"
   },
   {
    "duration": 8,
    "start_time": "2022-08-05T20:02:15.742Z"
   },
   {
    "duration": 4,
    "start_time": "2022-08-05T20:02:15.753Z"
   },
   {
    "duration": 44,
    "start_time": "2022-08-05T20:02:15.759Z"
   },
   {
    "duration": 3,
    "start_time": "2022-08-05T20:02:15.805Z"
   },
   {
    "duration": 5,
    "start_time": "2022-08-05T20:02:15.811Z"
   },
   {
    "duration": 13,
    "start_time": "2022-08-05T20:02:15.817Z"
   },
   {
    "duration": 16,
    "start_time": "2022-08-05T20:02:15.833Z"
   },
   {
    "duration": 521,
    "start_time": "2022-08-05T20:02:15.851Z"
   },
   {
    "duration": 533,
    "start_time": "2022-08-05T20:02:16.374Z"
   },
   {
    "duration": 3,
    "start_time": "2022-08-05T20:02:16.909Z"
   },
   {
    "duration": 2775,
    "start_time": "2022-08-05T20:02:16.914Z"
   },
   {
    "duration": 1482,
    "start_time": "2022-08-05T20:02:19.691Z"
   },
   {
    "duration": 1586,
    "start_time": "2022-08-05T20:02:21.176Z"
   },
   {
    "duration": 3,
    "start_time": "2022-08-05T20:02:22.764Z"
   },
   {
    "duration": 8161,
    "start_time": "2022-08-05T20:02:22.769Z"
   },
   {
    "duration": 372,
    "start_time": "2022-08-05T20:02:30.931Z"
   },
   {
    "duration": 610,
    "start_time": "2022-08-05T20:02:31.305Z"
   },
   {
    "duration": 77,
    "start_time": "2022-08-05T20:02:31.919Z"
   },
   {
    "duration": 2297,
    "start_time": "2022-08-05T20:02:31.998Z"
   },
   {
    "duration": 5,
    "start_time": "2022-08-05T20:07:18.249Z"
   },
   {
    "duration": 351,
    "start_time": "2022-08-05T20:07:18.275Z"
   },
   {
    "duration": 18,
    "start_time": "2022-08-05T20:07:18.628Z"
   },
   {
    "duration": 7,
    "start_time": "2022-08-05T20:07:18.648Z"
   },
   {
    "duration": 111,
    "start_time": "2022-08-05T20:07:18.657Z"
   },
   {
    "duration": 22,
    "start_time": "2022-08-05T20:07:18.770Z"
   },
   {
    "duration": 7,
    "start_time": "2022-08-05T20:07:18.793Z"
   },
   {
    "duration": 400,
    "start_time": "2022-08-05T20:07:18.803Z"
   },
   {
    "duration": 20,
    "start_time": "2022-08-05T20:07:19.205Z"
   },
   {
    "duration": 7,
    "start_time": "2022-08-05T20:07:19.227Z"
   },
   {
    "duration": 7,
    "start_time": "2022-08-05T20:07:19.236Z"
   },
   {
    "duration": 5,
    "start_time": "2022-08-05T20:07:19.245Z"
   },
   {
    "duration": 8,
    "start_time": "2022-08-05T20:07:19.252Z"
   },
   {
    "duration": 39,
    "start_time": "2022-08-05T20:07:19.261Z"
   },
   {
    "duration": 17,
    "start_time": "2022-08-05T20:07:19.304Z"
   },
   {
    "duration": 5,
    "start_time": "2022-08-05T20:07:19.323Z"
   },
   {
    "duration": 7,
    "start_time": "2022-08-05T20:07:19.330Z"
   },
   {
    "duration": 8,
    "start_time": "2022-08-05T20:07:19.339Z"
   },
   {
    "duration": 6,
    "start_time": "2022-08-05T20:07:19.348Z"
   },
   {
    "duration": 7,
    "start_time": "2022-08-05T20:07:19.355Z"
   },
   {
    "duration": 31,
    "start_time": "2022-08-05T20:07:19.364Z"
   },
   {
    "duration": 15,
    "start_time": "2022-08-05T20:07:19.399Z"
   },
   {
    "duration": 11,
    "start_time": "2022-08-05T20:07:19.416Z"
   },
   {
    "duration": 8,
    "start_time": "2022-08-05T20:07:19.429Z"
   },
   {
    "duration": 17,
    "start_time": "2022-08-05T20:07:19.440Z"
   },
   {
    "duration": 7,
    "start_time": "2022-08-05T20:07:19.459Z"
   },
   {
    "duration": 6,
    "start_time": "2022-08-05T20:07:19.467Z"
   },
   {
    "duration": 20,
    "start_time": "2022-08-05T20:07:19.475Z"
   },
   {
    "duration": 19,
    "start_time": "2022-08-05T20:07:19.499Z"
   },
   {
    "duration": 6,
    "start_time": "2022-08-05T20:07:19.519Z"
   },
   {
    "duration": 8,
    "start_time": "2022-08-05T20:07:19.526Z"
   },
   {
    "duration": 13,
    "start_time": "2022-08-05T20:07:19.537Z"
   },
   {
    "duration": 5,
    "start_time": "2022-08-05T20:07:19.552Z"
   },
   {
    "duration": 5,
    "start_time": "2022-08-05T20:07:19.559Z"
   },
   {
    "duration": 34,
    "start_time": "2022-08-05T20:07:19.566Z"
   },
   {
    "duration": 24,
    "start_time": "2022-08-05T20:07:19.603Z"
   },
   {
    "duration": 536,
    "start_time": "2022-08-05T20:07:19.628Z"
   },
   {
    "duration": 544,
    "start_time": "2022-08-05T20:07:20.166Z"
   },
   {
    "duration": 4,
    "start_time": "2022-08-05T20:07:20.712Z"
   },
   {
    "duration": 2817,
    "start_time": "2022-08-05T20:07:20.717Z"
   },
   {
    "duration": 1627,
    "start_time": "2022-08-05T20:07:23.536Z"
   },
   {
    "duration": 1588,
    "start_time": "2022-08-05T20:07:25.167Z"
   },
   {
    "duration": 4,
    "start_time": "2022-08-05T20:07:26.757Z"
   },
   {
    "duration": 8495,
    "start_time": "2022-08-05T20:07:26.763Z"
   },
   {
    "duration": 341,
    "start_time": "2022-08-05T20:07:35.260Z"
   },
   {
    "duration": 403,
    "start_time": "2022-08-05T20:07:35.603Z"
   },
   {
    "duration": 80,
    "start_time": "2022-08-05T20:07:36.013Z"
   },
   {
    "duration": 2198,
    "start_time": "2022-08-05T20:07:36.096Z"
   },
   {
    "duration": 135,
    "start_time": "2022-08-05T20:07:38.297Z"
   },
   {
    "duration": 11,
    "start_time": "2022-08-05T20:15:57.753Z"
   },
   {
    "duration": 4,
    "start_time": "2022-08-05T20:16:21.621Z"
   },
   {
    "duration": 8,
    "start_time": "2022-08-05T20:17:44.276Z"
   },
   {
    "duration": 4,
    "start_time": "2022-08-05T20:17:57.865Z"
   },
   {
    "duration": 4,
    "start_time": "2022-08-05T20:18:09.267Z"
   },
   {
    "duration": 3,
    "start_time": "2022-08-05T20:18:25.646Z"
   },
   {
    "duration": 4,
    "start_time": "2022-08-05T20:19:04.516Z"
   },
   {
    "duration": 5,
    "start_time": "2022-08-05T20:20:29.342Z"
   },
   {
    "duration": 303,
    "start_time": "2022-08-05T20:20:29.356Z"
   },
   {
    "duration": 16,
    "start_time": "2022-08-05T20:20:29.661Z"
   },
   {
    "duration": 15,
    "start_time": "2022-08-05T20:20:29.692Z"
   },
   {
    "duration": 96,
    "start_time": "2022-08-05T20:20:29.709Z"
   },
   {
    "duration": 14,
    "start_time": "2022-08-05T20:20:29.808Z"
   },
   {
    "duration": 9,
    "start_time": "2022-08-05T20:20:29.823Z"
   },
   {
    "duration": 386,
    "start_time": "2022-08-05T20:20:29.833Z"
   },
   {
    "duration": 17,
    "start_time": "2022-08-05T20:20:30.220Z"
   },
   {
    "duration": 7,
    "start_time": "2022-08-05T20:20:30.239Z"
   },
   {
    "duration": 9,
    "start_time": "2022-08-05T20:20:30.247Z"
   },
   {
    "duration": 13,
    "start_time": "2022-08-05T20:20:30.258Z"
   },
   {
    "duration": 9,
    "start_time": "2022-08-05T20:20:30.273Z"
   },
   {
    "duration": 29,
    "start_time": "2022-08-05T20:20:30.283Z"
   },
   {
    "duration": 13,
    "start_time": "2022-08-05T20:20:30.316Z"
   },
   {
    "duration": 13,
    "start_time": "2022-08-05T20:20:30.331Z"
   },
   {
    "duration": 7,
    "start_time": "2022-08-05T20:20:30.346Z"
   },
   {
    "duration": 14,
    "start_time": "2022-08-05T20:20:30.355Z"
   },
   {
    "duration": 8,
    "start_time": "2022-08-05T20:20:30.371Z"
   },
   {
    "duration": 15,
    "start_time": "2022-08-05T20:20:30.380Z"
   },
   {
    "duration": 35,
    "start_time": "2022-08-05T20:20:30.396Z"
   },
   {
    "duration": 25,
    "start_time": "2022-08-05T20:20:30.433Z"
   },
   {
    "duration": 10,
    "start_time": "2022-08-05T20:20:30.460Z"
   },
   {
    "duration": 16,
    "start_time": "2022-08-05T20:20:30.471Z"
   },
   {
    "duration": 10,
    "start_time": "2022-08-05T20:20:30.489Z"
   },
   {
    "duration": 28,
    "start_time": "2022-08-05T20:20:30.501Z"
   },
   {
    "duration": 21,
    "start_time": "2022-08-05T20:20:30.530Z"
   },
   {
    "duration": 21,
    "start_time": "2022-08-05T20:20:30.553Z"
   },
   {
    "duration": 44,
    "start_time": "2022-08-05T20:20:30.576Z"
   },
   {
    "duration": 29,
    "start_time": "2022-08-05T20:20:30.622Z"
   },
   {
    "duration": 19,
    "start_time": "2022-08-05T20:20:30.652Z"
   },
   {
    "duration": 28,
    "start_time": "2022-08-05T20:20:30.673Z"
   },
   {
    "duration": 14,
    "start_time": "2022-08-05T20:20:30.707Z"
   },
   {
    "duration": 13,
    "start_time": "2022-08-05T20:20:30.723Z"
   },
   {
    "duration": 49,
    "start_time": "2022-08-05T20:20:30.738Z"
   },
   {
    "duration": 37,
    "start_time": "2022-08-05T20:20:30.789Z"
   },
   {
    "duration": 26,
    "start_time": "2022-08-05T20:20:30.828Z"
   },
   {
    "duration": 13,
    "start_time": "2022-08-05T20:20:30.855Z"
   },
   {
    "duration": 18,
    "start_time": "2022-08-05T20:20:30.870Z"
   },
   {
    "duration": 55,
    "start_time": "2022-08-05T20:20:30.890Z"
   },
   {
    "duration": 416,
    "start_time": "2022-08-05T20:20:30.946Z"
   },
   {
    "duration": 551,
    "start_time": "2022-08-05T20:20:31.366Z"
   },
   {
    "duration": 5,
    "start_time": "2022-08-05T20:20:31.919Z"
   },
   {
    "duration": 2928,
    "start_time": "2022-08-05T20:20:31.926Z"
   },
   {
    "duration": 1627,
    "start_time": "2022-08-05T20:20:34.856Z"
   },
   {
    "duration": 1624,
    "start_time": "2022-08-05T20:20:36.484Z"
   },
   {
    "duration": 4,
    "start_time": "2022-08-05T20:20:38.110Z"
   },
   {
    "duration": 8374,
    "start_time": "2022-08-05T20:20:38.116Z"
   },
   {
    "duration": 420,
    "start_time": "2022-08-05T20:20:46.491Z"
   },
   {
    "duration": 686,
    "start_time": "2022-08-05T20:20:46.917Z"
   },
   {
    "duration": 5,
    "start_time": "2022-08-05T20:20:47.605Z"
   },
   {
    "duration": 3792,
    "start_time": "2022-08-05T20:20:47.612Z"
   },
   {
    "duration": 444,
    "start_time": "2022-08-05T20:25:07.072Z"
   },
   {
    "duration": 1284,
    "start_time": "2022-08-05T20:25:43.865Z"
   },
   {
    "duration": 1290,
    "start_time": "2022-08-05T20:26:03.126Z"
   },
   {
    "duration": 331,
    "start_time": "2022-08-05T20:26:25.162Z"
   },
   {
    "duration": 676,
    "start_time": "2022-08-05T20:26:41.915Z"
   },
   {
    "duration": 3,
    "start_time": "2022-08-05T20:26:50.464Z"
   },
   {
    "duration": 320,
    "start_time": "2022-08-05T20:26:50.478Z"
   },
   {
    "duration": 22,
    "start_time": "2022-08-05T20:26:50.803Z"
   },
   {
    "duration": 15,
    "start_time": "2022-08-05T20:26:50.827Z"
   },
   {
    "duration": 123,
    "start_time": "2022-08-05T20:26:50.844Z"
   },
   {
    "duration": 18,
    "start_time": "2022-08-05T20:26:50.970Z"
   },
   {
    "duration": 13,
    "start_time": "2022-08-05T20:26:50.990Z"
   },
   {
    "duration": 418,
    "start_time": "2022-08-05T20:26:51.007Z"
   },
   {
    "duration": 26,
    "start_time": "2022-08-05T20:26:51.427Z"
   },
   {
    "duration": 10,
    "start_time": "2022-08-05T20:26:51.456Z"
   },
   {
    "duration": 26,
    "start_time": "2022-08-05T20:26:51.468Z"
   },
   {
    "duration": 9,
    "start_time": "2022-08-05T20:26:51.499Z"
   },
   {
    "duration": 24,
    "start_time": "2022-08-05T20:26:51.509Z"
   },
   {
    "duration": 6,
    "start_time": "2022-08-05T20:26:51.535Z"
   },
   {
    "duration": 8,
    "start_time": "2022-08-05T20:26:51.544Z"
   },
   {
    "duration": 7,
    "start_time": "2022-08-05T20:26:51.553Z"
   },
   {
    "duration": 7,
    "start_time": "2022-08-05T20:26:51.562Z"
   },
   {
    "duration": 7,
    "start_time": "2022-08-05T20:26:51.570Z"
   },
   {
    "duration": 25,
    "start_time": "2022-08-05T20:26:51.579Z"
   },
   {
    "duration": 21,
    "start_time": "2022-08-05T20:26:51.608Z"
   },
   {
    "duration": 6,
    "start_time": "2022-08-05T20:26:51.631Z"
   },
   {
    "duration": 6,
    "start_time": "2022-08-05T20:26:51.638Z"
   },
   {
    "duration": 6,
    "start_time": "2022-08-05T20:26:51.645Z"
   },
   {
    "duration": 4,
    "start_time": "2022-08-05T20:26:51.652Z"
   },
   {
    "duration": 5,
    "start_time": "2022-08-05T20:26:51.658Z"
   },
   {
    "duration": 10,
    "start_time": "2022-08-05T20:26:51.664Z"
   },
   {
    "duration": 25,
    "start_time": "2022-08-05T20:26:51.676Z"
   },
   {
    "duration": 26,
    "start_time": "2022-08-05T20:26:51.703Z"
   },
   {
    "duration": 8,
    "start_time": "2022-08-05T20:26:51.731Z"
   },
   {
    "duration": 6,
    "start_time": "2022-08-05T20:26:51.741Z"
   },
   {
    "duration": 6,
    "start_time": "2022-08-05T20:26:51.749Z"
   },
   {
    "duration": 18,
    "start_time": "2022-08-05T20:26:51.756Z"
   },
   {
    "duration": 3,
    "start_time": "2022-08-05T20:26:51.776Z"
   },
   {
    "duration": 6,
    "start_time": "2022-08-05T20:26:51.781Z"
   },
   {
    "duration": 41,
    "start_time": "2022-08-05T20:26:51.798Z"
   },
   {
    "duration": 23,
    "start_time": "2022-08-05T20:26:51.841Z"
   },
   {
    "duration": 5,
    "start_time": "2022-08-05T20:26:51.866Z"
   },
   {
    "duration": 12,
    "start_time": "2022-08-05T20:26:51.873Z"
   },
   {
    "duration": 18,
    "start_time": "2022-08-05T20:26:51.887Z"
   },
   {
    "duration": 39,
    "start_time": "2022-08-05T20:26:51.907Z"
   },
   {
    "duration": 496,
    "start_time": "2022-08-05T20:26:51.948Z"
   },
   {
    "duration": 456,
    "start_time": "2022-08-05T20:26:52.448Z"
   },
   {
    "duration": 8,
    "start_time": "2022-08-05T20:26:52.910Z"
   },
   {
    "duration": 2856,
    "start_time": "2022-08-05T20:26:52.920Z"
   },
   {
    "duration": 1268,
    "start_time": "2022-08-05T20:26:55.777Z"
   },
   {
    "duration": 1314,
    "start_time": "2022-08-05T20:26:57.047Z"
   },
   {
    "duration": 3,
    "start_time": "2022-08-05T20:26:58.363Z"
   },
   {
    "duration": 8957,
    "start_time": "2022-08-05T20:26:58.368Z"
   },
   {
    "duration": 1380,
    "start_time": "2022-08-05T20:27:07.326Z"
   },
   {
    "duration": 1795,
    "start_time": "2022-08-05T20:27:08.711Z"
   },
   {
    "duration": 19,
    "start_time": "2022-08-05T20:27:10.507Z"
   },
   {
    "duration": 7428,
    "start_time": "2022-08-05T20:27:10.591Z"
   },
   {
    "duration": 1253,
    "start_time": "2022-08-05T20:29:51.344Z"
   },
   {
    "duration": 5,
    "start_time": "2022-08-05T20:30:13.467Z"
   },
   {
    "duration": 356,
    "start_time": "2022-08-05T20:30:13.487Z"
   },
   {
    "duration": 18,
    "start_time": "2022-08-05T20:30:13.845Z"
   },
   {
    "duration": 7,
    "start_time": "2022-08-05T20:30:13.864Z"
   },
   {
    "duration": 182,
    "start_time": "2022-08-05T20:30:13.873Z"
   },
   {
    "duration": 13,
    "start_time": "2022-08-05T20:30:14.058Z"
   },
   {
    "duration": 5,
    "start_time": "2022-08-05T20:30:14.073Z"
   },
   {
    "duration": 527,
    "start_time": "2022-08-05T20:30:14.079Z"
   },
   {
    "duration": 38,
    "start_time": "2022-08-05T20:30:14.607Z"
   },
   {
    "duration": 72,
    "start_time": "2022-08-05T20:30:14.647Z"
   },
   {
    "duration": 21,
    "start_time": "2022-08-05T20:30:14.721Z"
   },
   {
    "duration": 13,
    "start_time": "2022-08-05T20:30:14.744Z"
   },
   {
    "duration": 6,
    "start_time": "2022-08-05T20:30:14.759Z"
   },
   {
    "duration": 7,
    "start_time": "2022-08-05T20:30:14.766Z"
   },
   {
    "duration": 6,
    "start_time": "2022-08-05T20:30:14.776Z"
   },
   {
    "duration": 18,
    "start_time": "2022-08-05T20:30:14.784Z"
   },
   {
    "duration": 43,
    "start_time": "2022-08-05T20:30:14.803Z"
   },
   {
    "duration": 8,
    "start_time": "2022-08-05T20:30:14.848Z"
   },
   {
    "duration": 7,
    "start_time": "2022-08-05T20:30:14.859Z"
   },
   {
    "duration": 7,
    "start_time": "2022-08-05T20:30:14.867Z"
   },
   {
    "duration": 8,
    "start_time": "2022-08-05T20:30:14.876Z"
   },
   {
    "duration": 11,
    "start_time": "2022-08-05T20:30:14.886Z"
   },
   {
    "duration": 54,
    "start_time": "2022-08-05T20:30:14.899Z"
   },
   {
    "duration": 7,
    "start_time": "2022-08-05T20:30:14.954Z"
   },
   {
    "duration": 6,
    "start_time": "2022-08-05T20:30:14.963Z"
   },
   {
    "duration": 25,
    "start_time": "2022-08-05T20:30:14.970Z"
   },
   {
    "duration": 47,
    "start_time": "2022-08-05T20:30:14.997Z"
   },
   {
    "duration": 10,
    "start_time": "2022-08-05T20:30:15.046Z"
   },
   {
    "duration": 7,
    "start_time": "2022-08-05T20:30:15.058Z"
   },
   {
    "duration": 12,
    "start_time": "2022-08-05T20:30:15.067Z"
   },
   {
    "duration": 8,
    "start_time": "2022-08-05T20:30:15.080Z"
   },
   {
    "duration": 54,
    "start_time": "2022-08-05T20:30:15.090Z"
   },
   {
    "duration": 4,
    "start_time": "2022-08-05T20:30:15.147Z"
   },
   {
    "duration": 6,
    "start_time": "2022-08-05T20:30:15.153Z"
   },
   {
    "duration": 14,
    "start_time": "2022-08-05T20:30:15.161Z"
   },
   {
    "duration": 12,
    "start_time": "2022-08-05T20:30:15.177Z"
   },
   {
    "duration": 4,
    "start_time": "2022-08-05T20:30:15.196Z"
   },
   {
    "duration": 49,
    "start_time": "2022-08-05T20:30:15.201Z"
   },
   {
    "duration": 5,
    "start_time": "2022-08-05T20:30:15.252Z"
   },
   {
    "duration": 4,
    "start_time": "2022-08-05T20:30:15.259Z"
   },
   {
    "duration": 456,
    "start_time": "2022-08-05T20:30:15.264Z"
   },
   {
    "duration": 482,
    "start_time": "2022-08-05T20:30:15.732Z"
   },
   {
    "duration": 9,
    "start_time": "2022-08-05T20:30:16.218Z"
   },
   {
    "duration": 2975,
    "start_time": "2022-08-05T20:30:16.233Z"
   },
   {
    "duration": 1329,
    "start_time": "2022-08-05T20:30:19.214Z"
   },
   {
    "duration": 1329,
    "start_time": "2022-08-05T20:30:20.544Z"
   },
   {
    "duration": 4,
    "start_time": "2022-08-05T20:30:21.875Z"
   },
   {
    "duration": 9223,
    "start_time": "2022-08-05T20:30:21.881Z"
   },
   {
    "duration": 1995,
    "start_time": "2022-08-05T20:30:31.106Z"
   },
   {
    "duration": 1198,
    "start_time": "2022-08-05T20:30:33.108Z"
   },
   {
    "duration": 7,
    "start_time": "2022-08-05T20:30:34.314Z"
   },
   {
    "duration": 11072,
    "start_time": "2022-08-05T20:30:34.323Z"
   },
   {
    "duration": 964,
    "start_time": "2022-08-05T20:30:45.405Z"
   },
   {
    "duration": 1347,
    "start_time": "2022-08-05T20:31:36.590Z"
   },
   {
    "duration": 4,
    "start_time": "2022-08-05T20:33:51.247Z"
   },
   {
    "duration": 348,
    "start_time": "2022-08-05T20:33:51.259Z"
   },
   {
    "duration": 22,
    "start_time": "2022-08-05T20:33:51.617Z"
   },
   {
    "duration": 16,
    "start_time": "2022-08-05T20:33:51.646Z"
   },
   {
    "duration": 122,
    "start_time": "2022-08-05T20:33:51.663Z"
   },
   {
    "duration": 38,
    "start_time": "2022-08-05T20:33:51.788Z"
   },
   {
    "duration": 37,
    "start_time": "2022-08-05T20:33:51.831Z"
   },
   {
    "duration": 540,
    "start_time": "2022-08-05T20:33:51.875Z"
   },
   {
    "duration": 40,
    "start_time": "2022-08-05T20:33:52.417Z"
   },
   {
    "duration": 22,
    "start_time": "2022-08-05T20:33:52.463Z"
   },
   {
    "duration": 100,
    "start_time": "2022-08-05T20:33:52.487Z"
   },
   {
    "duration": 82,
    "start_time": "2022-08-05T20:33:52.589Z"
   },
   {
    "duration": 97,
    "start_time": "2022-08-05T20:33:52.672Z"
   },
   {
    "duration": 76,
    "start_time": "2022-08-05T20:33:52.771Z"
   },
   {
    "duration": 25,
    "start_time": "2022-08-05T20:33:52.851Z"
   },
   {
    "duration": 71,
    "start_time": "2022-08-05T20:33:52.878Z"
   },
   {
    "duration": 24,
    "start_time": "2022-08-05T20:33:52.951Z"
   },
   {
    "duration": 88,
    "start_time": "2022-08-05T20:33:52.977Z"
   },
   {
    "duration": 79,
    "start_time": "2022-08-05T20:33:53.069Z"
   },
   {
    "duration": 49,
    "start_time": "2022-08-05T20:33:53.150Z"
   },
   {
    "duration": 79,
    "start_time": "2022-08-05T20:33:53.202Z"
   },
   {
    "duration": 51,
    "start_time": "2022-08-05T20:33:53.284Z"
   },
   {
    "duration": 34,
    "start_time": "2022-08-05T20:33:53.337Z"
   },
   {
    "duration": 15,
    "start_time": "2022-08-05T20:33:53.373Z"
   },
   {
    "duration": 83,
    "start_time": "2022-08-05T20:33:53.390Z"
   },
   {
    "duration": 7,
    "start_time": "2022-08-05T20:33:53.475Z"
   },
   {
    "duration": 46,
    "start_time": "2022-08-05T20:33:53.484Z"
   },
   {
    "duration": 34,
    "start_time": "2022-08-05T20:33:53.538Z"
   },
   {
    "duration": 9,
    "start_time": "2022-08-05T20:33:53.574Z"
   },
   {
    "duration": 9,
    "start_time": "2022-08-05T20:33:53.586Z"
   },
   {
    "duration": 59,
    "start_time": "2022-08-05T20:33:53.596Z"
   },
   {
    "duration": 27,
    "start_time": "2022-08-05T20:33:53.656Z"
   },
   {
    "duration": 4,
    "start_time": "2022-08-05T20:33:53.685Z"
   },
   {
    "duration": 82,
    "start_time": "2022-08-05T20:33:53.690Z"
   },
   {
    "duration": 35,
    "start_time": "2022-08-05T20:33:53.774Z"
   },
   {
    "duration": 57,
    "start_time": "2022-08-05T20:33:53.811Z"
   },
   {
    "duration": 5,
    "start_time": "2022-08-05T20:33:53.871Z"
   },
   {
    "duration": 15,
    "start_time": "2022-08-05T20:33:53.878Z"
   },
   {
    "duration": 43,
    "start_time": "2022-08-05T20:33:53.898Z"
   },
   {
    "duration": 11,
    "start_time": "2022-08-05T20:33:53.943Z"
   },
   {
    "duration": 465,
    "start_time": "2022-08-05T20:33:53.955Z"
   },
   {
    "duration": 463,
    "start_time": "2022-08-05T20:33:54.424Z"
   },
   {
    "duration": 10,
    "start_time": "2022-08-05T20:33:54.889Z"
   },
   {
    "duration": 3186,
    "start_time": "2022-08-05T20:33:54.901Z"
   },
   {
    "duration": 1352,
    "start_time": "2022-08-05T20:33:58.088Z"
   },
   {
    "duration": 1417,
    "start_time": "2022-08-05T20:33:59.443Z"
   },
   {
    "duration": 4,
    "start_time": "2022-08-05T20:34:00.863Z"
   },
   {
    "duration": 9542,
    "start_time": "2022-08-05T20:34:00.869Z"
   },
   {
    "duration": 2684,
    "start_time": "2022-08-05T20:34:10.413Z"
   },
   {
    "duration": 2625,
    "start_time": "2022-08-05T20:34:13.103Z"
   },
   {
    "duration": 12,
    "start_time": "2022-08-05T20:34:15.730Z"
   },
   {
    "duration": 11281,
    "start_time": "2022-08-05T20:34:15.746Z"
   },
   {
    "duration": 1504,
    "start_time": "2022-08-05T20:34:27.029Z"
   },
   {
    "duration": 54,
    "start_time": "2022-08-08T06:49:53.920Z"
   },
   {
    "duration": 1392,
    "start_time": "2022-08-08T06:50:02.991Z"
   },
   {
    "duration": 1393,
    "start_time": "2022-08-08T06:50:04.385Z"
   },
   {
    "duration": 34,
    "start_time": "2022-08-08T06:50:05.780Z"
   },
   {
    "duration": 16,
    "start_time": "2022-08-08T06:50:05.816Z"
   },
   {
    "duration": 248,
    "start_time": "2022-08-08T06:50:05.835Z"
   },
   {
    "duration": 24,
    "start_time": "2022-08-08T06:50:06.086Z"
   },
   {
    "duration": 21,
    "start_time": "2022-08-08T06:50:06.118Z"
   },
   {
    "duration": 825,
    "start_time": "2022-08-08T06:50:06.141Z"
   },
   {
    "duration": 35,
    "start_time": "2022-08-08T06:50:06.968Z"
   },
   {
    "duration": 12,
    "start_time": "2022-08-08T06:50:07.009Z"
   },
   {
    "duration": 20,
    "start_time": "2022-08-08T06:50:07.023Z"
   },
   {
    "duration": 9,
    "start_time": "2022-08-08T06:50:07.045Z"
   },
   {
    "duration": 18,
    "start_time": "2022-08-08T06:50:07.056Z"
   },
   {
    "duration": 21,
    "start_time": "2022-08-08T06:50:07.076Z"
   },
   {
    "duration": 21,
    "start_time": "2022-08-08T06:50:07.099Z"
   },
   {
    "duration": 8,
    "start_time": "2022-08-08T06:50:07.122Z"
   },
   {
    "duration": 11,
    "start_time": "2022-08-08T06:50:07.132Z"
   },
   {
    "duration": 10,
    "start_time": "2022-08-08T06:50:07.146Z"
   },
   {
    "duration": 39,
    "start_time": "2022-08-08T06:50:07.158Z"
   },
   {
    "duration": 6,
    "start_time": "2022-08-08T06:50:07.206Z"
   },
   {
    "duration": 5,
    "start_time": "2022-08-08T06:50:07.214Z"
   },
   {
    "duration": 12,
    "start_time": "2022-08-08T06:50:07.221Z"
   },
   {
    "duration": 10,
    "start_time": "2022-08-08T06:50:07.234Z"
   },
   {
    "duration": 9,
    "start_time": "2022-08-08T06:50:07.246Z"
   },
   {
    "duration": 46,
    "start_time": "2022-08-08T06:50:07.256Z"
   },
   {
    "duration": 130,
    "start_time": "2022-08-08T06:50:07.305Z"
   },
   {
    "duration": 762,
    "start_time": "2022-08-08T06:50:07.437Z"
   },
   {
    "duration": 5,
    "start_time": "2022-08-08T06:50:08.204Z"
   },
   {
    "duration": 12,
    "start_time": "2022-08-08T06:50:08.210Z"
   },
   {
    "duration": 6,
    "start_time": "2022-08-08T06:50:08.224Z"
   },
   {
    "duration": 5,
    "start_time": "2022-08-08T06:50:08.232Z"
   },
   {
    "duration": 7,
    "start_time": "2022-08-08T06:50:08.239Z"
   },
   {
    "duration": 65,
    "start_time": "2022-08-08T06:50:08.247Z"
   },
   {
    "duration": 31,
    "start_time": "2022-08-08T06:50:08.315Z"
   },
   {
    "duration": 17,
    "start_time": "2022-08-08T06:50:08.348Z"
   },
   {
    "duration": 20,
    "start_time": "2022-08-08T06:50:08.368Z"
   },
   {
    "duration": 34,
    "start_time": "2022-08-08T06:50:08.393Z"
   },
   {
    "duration": 6,
    "start_time": "2022-08-08T06:50:08.429Z"
   },
   {
    "duration": 20,
    "start_time": "2022-08-08T06:50:08.437Z"
   },
   {
    "duration": 4,
    "start_time": "2022-08-08T06:50:08.459Z"
   },
   {
    "duration": 7,
    "start_time": "2022-08-08T06:50:08.465Z"
   },
   {
    "duration": 495,
    "start_time": "2022-08-08T06:50:08.474Z"
   },
   {
    "duration": 522,
    "start_time": "2022-08-08T06:50:08.972Z"
   },
   {
    "duration": 8,
    "start_time": "2022-08-08T06:50:09.498Z"
   },
   {
    "duration": 3318,
    "start_time": "2022-08-08T06:50:09.515Z"
   },
   {
    "duration": 1420,
    "start_time": "2022-08-08T06:50:12.835Z"
   },
   {
    "duration": 1432,
    "start_time": "2022-08-08T06:50:14.257Z"
   },
   {
    "duration": 11,
    "start_time": "2022-08-08T06:50:15.691Z"
   },
   {
    "duration": 9518,
    "start_time": "2022-08-08T06:50:15.707Z"
   },
   {
    "duration": 1781,
    "start_time": "2022-08-08T06:50:25.226Z"
   },
   {
    "duration": 892,
    "start_time": "2022-08-08T06:50:27.010Z"
   },
   {
    "duration": 89,
    "start_time": "2022-08-08T06:50:27.907Z"
   },
   {
    "duration": 7899,
    "start_time": "2022-08-08T06:50:27.999Z"
   },
   {
    "duration": 696,
    "start_time": "2022-08-08T06:50:35.901Z"
   },
   {
    "duration": 434,
    "start_time": "2022-08-08T06:53:12.023Z"
   },
   {
    "duration": 872,
    "start_time": "2022-08-08T06:56:24.146Z"
   },
   {
    "duration": 5593,
    "start_time": "2022-08-08T06:57:26.746Z"
   },
   {
    "duration": 605,
    "start_time": "2022-08-08T06:57:42.174Z"
   },
   {
    "duration": 751,
    "start_time": "2022-08-08T07:06:07.463Z"
   },
   {
    "duration": 547,
    "start_time": "2022-08-08T07:06:42.590Z"
   },
   {
    "duration": 652,
    "start_time": "2022-08-08T07:07:14.533Z"
   },
   {
    "duration": 81,
    "start_time": "2022-08-08T07:07:49.633Z"
   },
   {
    "duration": 325,
    "start_time": "2022-08-08T07:33:41.355Z"
   },
   {
    "duration": 481,
    "start_time": "2022-08-08T07:42:53.179Z"
   },
   {
    "duration": 557,
    "start_time": "2022-08-08T07:45:26.484Z"
   },
   {
    "duration": 333,
    "start_time": "2022-08-08T08:01:20.487Z"
   },
   {
    "duration": 362,
    "start_time": "2022-08-08T08:11:07.636Z"
   },
   {
    "duration": 368,
    "start_time": "2022-08-08T10:33:52.784Z"
   },
   {
    "duration": 351,
    "start_time": "2022-08-08T10:34:35.639Z"
   },
   {
    "duration": 4,
    "start_time": "2022-08-08T10:35:12.427Z"
   },
   {
    "duration": 1701,
    "start_time": "2022-08-08T10:35:12.446Z"
   },
   {
    "duration": 20,
    "start_time": "2022-08-08T10:35:14.150Z"
   },
   {
    "duration": 7,
    "start_time": "2022-08-08T10:35:14.172Z"
   },
   {
    "duration": 242,
    "start_time": "2022-08-08T10:35:14.181Z"
   },
   {
    "duration": 14,
    "start_time": "2022-08-08T10:35:14.425Z"
   },
   {
    "duration": 13,
    "start_time": "2022-08-08T10:35:14.441Z"
   },
   {
    "duration": 761,
    "start_time": "2022-08-08T10:35:14.455Z"
   },
   {
    "duration": 21,
    "start_time": "2022-08-08T10:35:15.218Z"
   },
   {
    "duration": 22,
    "start_time": "2022-08-08T10:35:15.242Z"
   },
   {
    "duration": 18,
    "start_time": "2022-08-08T10:35:15.266Z"
   },
   {
    "duration": 49,
    "start_time": "2022-08-08T10:35:15.293Z"
   },
   {
    "duration": 27,
    "start_time": "2022-08-08T10:35:15.344Z"
   },
   {
    "duration": 11,
    "start_time": "2022-08-08T10:35:15.373Z"
   },
   {
    "duration": 41,
    "start_time": "2022-08-08T10:35:15.388Z"
   },
   {
    "duration": 8,
    "start_time": "2022-08-08T10:35:15.431Z"
   },
   {
    "duration": 7,
    "start_time": "2022-08-08T10:35:15.442Z"
   },
   {
    "duration": 5,
    "start_time": "2022-08-08T10:35:15.451Z"
   },
   {
    "duration": 10,
    "start_time": "2022-08-08T10:35:15.458Z"
   },
   {
    "duration": 13,
    "start_time": "2022-08-08T10:35:15.470Z"
   },
   {
    "duration": 8,
    "start_time": "2022-08-08T10:35:15.494Z"
   },
   {
    "duration": 30,
    "start_time": "2022-08-08T10:35:15.504Z"
   },
   {
    "duration": 11,
    "start_time": "2022-08-08T10:35:15.535Z"
   },
   {
    "duration": 12,
    "start_time": "2022-08-08T10:35:15.549Z"
   },
   {
    "duration": 12,
    "start_time": "2022-08-08T10:35:15.563Z"
   },
   {
    "duration": 20,
    "start_time": "2022-08-08T10:35:15.577Z"
   },
   {
    "duration": 570,
    "start_time": "2022-08-08T10:35:15.599Z"
   },
   {
    "duration": 5,
    "start_time": "2022-08-08T10:35:16.171Z"
   },
   {
    "duration": 653,
    "start_time": "2022-08-08T10:35:16.178Z"
   },
   {
    "duration": 6,
    "start_time": "2022-08-08T10:35:16.833Z"
   },
   {
    "duration": 376,
    "start_time": "2022-08-08T10:35:16.840Z"
   },
   {
    "duration": 10,
    "start_time": "2022-08-08T10:35:17.217Z"
   },
   {
    "duration": 360,
    "start_time": "2022-08-08T10:35:17.229Z"
   },
   {
    "duration": 8,
    "start_time": "2022-08-08T10:35:17.591Z"
   },
   {
    "duration": 423,
    "start_time": "2022-08-08T10:35:17.602Z"
   },
   {
    "duration": 9,
    "start_time": "2022-08-08T10:35:18.031Z"
   },
   {
    "duration": 32,
    "start_time": "2022-08-08T10:35:18.042Z"
   },
   {
    "duration": 32,
    "start_time": "2022-08-08T10:35:18.076Z"
   },
   {
    "duration": 42,
    "start_time": "2022-08-08T10:35:18.110Z"
   },
   {
    "duration": 25,
    "start_time": "2022-08-08T10:35:18.154Z"
   },
   {
    "duration": 54,
    "start_time": "2022-08-08T10:35:18.180Z"
   },
   {
    "duration": 6,
    "start_time": "2022-08-08T10:35:18.238Z"
   },
   {
    "duration": 13,
    "start_time": "2022-08-08T10:35:18.247Z"
   },
   {
    "duration": 5,
    "start_time": "2022-08-08T10:35:18.262Z"
   },
   {
    "duration": 10,
    "start_time": "2022-08-08T10:35:18.269Z"
   },
   {
    "duration": 502,
    "start_time": "2022-08-08T10:35:18.281Z"
   },
   {
    "duration": 543,
    "start_time": "2022-08-08T10:35:18.786Z"
   },
   {
    "duration": 5,
    "start_time": "2022-08-08T10:35:19.332Z"
   },
   {
    "duration": 3492,
    "start_time": "2022-08-08T10:35:19.340Z"
   },
   {
    "duration": 1515,
    "start_time": "2022-08-08T10:35:22.834Z"
   },
   {
    "duration": 1551,
    "start_time": "2022-08-08T10:35:24.351Z"
   },
   {
    "duration": 5,
    "start_time": "2022-08-08T10:35:25.906Z"
   },
   {
    "duration": 10282,
    "start_time": "2022-08-08T10:35:25.916Z"
   },
   {
    "duration": 2794,
    "start_time": "2022-08-08T10:35:36.204Z"
   },
   {
    "duration": 2395,
    "start_time": "2022-08-08T10:35:39.003Z"
   },
   {
    "duration": 5,
    "start_time": "2022-08-08T10:35:41.400Z"
   },
   {
    "duration": 7600,
    "start_time": "2022-08-08T10:35:41.407Z"
   },
   {
    "duration": 1118,
    "start_time": "2022-08-08T10:35:49.013Z"
   },
   {
    "duration": 346,
    "start_time": "2022-08-08T10:37:53.245Z"
   },
   {
    "duration": 4,
    "start_time": "2022-08-08T10:38:13.840Z"
   },
   {
    "duration": 404,
    "start_time": "2022-08-08T10:38:13.862Z"
   },
   {
    "duration": 41,
    "start_time": "2022-08-08T10:38:14.268Z"
   },
   {
    "duration": 10,
    "start_time": "2022-08-08T10:38:14.311Z"
   },
   {
    "duration": 121,
    "start_time": "2022-08-08T10:38:14.323Z"
   },
   {
    "duration": 15,
    "start_time": "2022-08-08T10:38:14.447Z"
   },
   {
    "duration": 5,
    "start_time": "2022-08-08T10:38:14.464Z"
   },
   {
    "duration": 442,
    "start_time": "2022-08-08T10:38:14.497Z"
   },
   {
    "duration": 22,
    "start_time": "2022-08-08T10:38:14.942Z"
   },
   {
    "duration": 38,
    "start_time": "2022-08-08T10:38:14.966Z"
   },
   {
    "duration": 34,
    "start_time": "2022-08-08T10:38:15.005Z"
   },
   {
    "duration": 17,
    "start_time": "2022-08-08T10:38:15.040Z"
   },
   {
    "duration": 37,
    "start_time": "2022-08-08T10:38:15.059Z"
   },
   {
    "duration": 32,
    "start_time": "2022-08-08T10:38:15.098Z"
   },
   {
    "duration": 29,
    "start_time": "2022-08-08T10:38:15.134Z"
   },
   {
    "duration": 12,
    "start_time": "2022-08-08T10:38:15.165Z"
   },
   {
    "duration": 18,
    "start_time": "2022-08-08T10:38:15.179Z"
   },
   {
    "duration": 40,
    "start_time": "2022-08-08T10:38:15.198Z"
   },
   {
    "duration": 10,
    "start_time": "2022-08-08T10:38:15.240Z"
   },
   {
    "duration": 17,
    "start_time": "2022-08-08T10:38:15.252Z"
   },
   {
    "duration": 9,
    "start_time": "2022-08-08T10:38:15.272Z"
   },
   {
    "duration": 48,
    "start_time": "2022-08-08T10:38:15.283Z"
   },
   {
    "duration": 17,
    "start_time": "2022-08-08T10:38:15.333Z"
   },
   {
    "duration": 8,
    "start_time": "2022-08-08T10:38:15.352Z"
   },
   {
    "duration": 76,
    "start_time": "2022-08-08T10:38:15.363Z"
   },
   {
    "duration": 11,
    "start_time": "2022-08-08T10:38:15.441Z"
   },
   {
    "duration": 565,
    "start_time": "2022-08-08T10:38:15.453Z"
   },
   {
    "duration": 13,
    "start_time": "2022-08-08T10:38:16.021Z"
   },
   {
    "duration": 360,
    "start_time": "2022-08-08T10:38:16.036Z"
   },
   {
    "duration": 8,
    "start_time": "2022-08-08T10:38:16.398Z"
   },
   {
    "duration": 358,
    "start_time": "2022-08-08T10:38:16.408Z"
   },
   {
    "duration": 6,
    "start_time": "2022-08-08T10:38:16.768Z"
   },
   {
    "duration": 665,
    "start_time": "2022-08-08T10:38:16.775Z"
   },
   {
    "duration": 5,
    "start_time": "2022-08-08T10:38:17.442Z"
   },
   {
    "duration": 377,
    "start_time": "2022-08-08T10:38:17.449Z"
   },
   {
    "duration": 5,
    "start_time": "2022-08-08T10:38:17.827Z"
   },
   {
    "duration": 37,
    "start_time": "2022-08-08T10:38:17.834Z"
   },
   {
    "duration": 59,
    "start_time": "2022-08-08T10:38:17.873Z"
   },
   {
    "duration": 11,
    "start_time": "2022-08-08T10:38:17.934Z"
   },
   {
    "duration": 19,
    "start_time": "2022-08-08T10:38:17.946Z"
   },
   {
    "duration": 32,
    "start_time": "2022-08-08T10:38:17.967Z"
   },
   {
    "duration": 18,
    "start_time": "2022-08-08T10:38:18.008Z"
   },
   {
    "duration": 17,
    "start_time": "2022-08-08T10:38:18.028Z"
   },
   {
    "duration": 13,
    "start_time": "2022-08-08T10:38:18.048Z"
   },
   {
    "duration": 25,
    "start_time": "2022-08-08T10:38:18.064Z"
   },
   {
    "duration": 508,
    "start_time": "2022-08-08T10:38:18.091Z"
   },
   {
    "duration": 520,
    "start_time": "2022-08-08T10:38:18.600Z"
   },
   {
    "duration": 4,
    "start_time": "2022-08-08T10:38:19.126Z"
   },
   {
    "duration": 3500,
    "start_time": "2022-08-08T10:38:19.132Z"
   },
   {
    "duration": 1601,
    "start_time": "2022-08-08T10:38:22.635Z"
   },
   {
    "duration": 1601,
    "start_time": "2022-08-08T10:38:24.238Z"
   },
   {
    "duration": 4,
    "start_time": "2022-08-08T10:38:25.841Z"
   },
   {
    "duration": 10443,
    "start_time": "2022-08-08T10:38:25.847Z"
   },
   {
    "duration": 1326,
    "start_time": "2022-08-08T10:38:36.291Z"
   },
   {
    "duration": 2107,
    "start_time": "2022-08-08T10:38:37.620Z"
   },
   {
    "duration": 5,
    "start_time": "2022-08-08T10:38:39.730Z"
   },
   {
    "duration": 11056,
    "start_time": "2022-08-08T10:38:39.737Z"
   },
   {
    "duration": 409,
    "start_time": "2022-08-08T10:38:50.798Z"
   },
   {
    "duration": 2107,
    "start_time": "2022-08-08T10:41:25.047Z"
   },
   {
    "duration": 5,
    "start_time": "2022-08-08T10:41:32.368Z"
   },
   {
    "duration": 375,
    "start_time": "2022-08-08T10:41:32.388Z"
   },
   {
    "duration": 42,
    "start_time": "2022-08-08T10:41:32.765Z"
   },
   {
    "duration": 12,
    "start_time": "2022-08-08T10:41:32.815Z"
   },
   {
    "duration": 114,
    "start_time": "2022-08-08T10:41:32.829Z"
   },
   {
    "duration": 15,
    "start_time": "2022-08-08T10:41:32.946Z"
   },
   {
    "duration": 8,
    "start_time": "2022-08-08T10:41:32.963Z"
   },
   {
    "duration": 469,
    "start_time": "2022-08-08T10:41:33.000Z"
   },
   {
    "duration": 39,
    "start_time": "2022-08-08T10:41:33.471Z"
   },
   {
    "duration": 19,
    "start_time": "2022-08-08T10:41:33.512Z"
   },
   {
    "duration": 14,
    "start_time": "2022-08-08T10:41:33.533Z"
   },
   {
    "duration": 12,
    "start_time": "2022-08-08T10:41:33.549Z"
   },
   {
    "duration": 24,
    "start_time": "2022-08-08T10:41:33.563Z"
   },
   {
    "duration": 39,
    "start_time": "2022-08-08T10:41:33.589Z"
   },
   {
    "duration": 10,
    "start_time": "2022-08-08T10:41:33.632Z"
   },
   {
    "duration": 11,
    "start_time": "2022-08-08T10:41:33.643Z"
   },
   {
    "duration": 12,
    "start_time": "2022-08-08T10:41:33.656Z"
   },
   {
    "duration": 7,
    "start_time": "2022-08-08T10:41:33.670Z"
   },
   {
    "duration": 26,
    "start_time": "2022-08-08T10:41:33.679Z"
   },
   {
    "duration": 24,
    "start_time": "2022-08-08T10:41:33.707Z"
   },
   {
    "duration": 13,
    "start_time": "2022-08-08T10:41:33.733Z"
   },
   {
    "duration": 8,
    "start_time": "2022-08-08T10:41:33.748Z"
   },
   {
    "duration": 10,
    "start_time": "2022-08-08T10:41:33.758Z"
   },
   {
    "duration": 5,
    "start_time": "2022-08-08T10:41:33.769Z"
   },
   {
    "duration": 13,
    "start_time": "2022-08-08T10:41:33.792Z"
   },
   {
    "duration": 33,
    "start_time": "2022-08-08T10:41:33.807Z"
   },
   {
    "duration": 564,
    "start_time": "2022-08-08T10:41:33.842Z"
   },
   {
    "duration": 13,
    "start_time": "2022-08-08T10:41:34.408Z"
   },
   {
    "duration": 361,
    "start_time": "2022-08-08T10:41:34.426Z"
   },
   {
    "duration": 10,
    "start_time": "2022-08-08T10:41:34.790Z"
   },
   {
    "duration": 380,
    "start_time": "2022-08-08T10:41:34.803Z"
   },
   {
    "duration": 20,
    "start_time": "2022-08-08T10:41:35.185Z"
   },
   {
    "duration": 376,
    "start_time": "2022-08-08T10:41:35.214Z"
   },
   {
    "duration": 11,
    "start_time": "2022-08-08T10:41:35.600Z"
   },
   {
    "duration": 1831,
    "start_time": "2022-08-08T10:41:35.617Z"
   },
   {
    "duration": 0,
    "start_time": "2022-08-08T10:41:37.451Z"
   },
   {
    "duration": 0,
    "start_time": "2022-08-08T10:41:37.452Z"
   },
   {
    "duration": 0,
    "start_time": "2022-08-08T10:41:37.452Z"
   },
   {
    "duration": 0,
    "start_time": "2022-08-08T10:41:37.453Z"
   },
   {
    "duration": 0,
    "start_time": "2022-08-08T10:41:37.455Z"
   },
   {
    "duration": 0,
    "start_time": "2022-08-08T10:41:37.456Z"
   },
   {
    "duration": 0,
    "start_time": "2022-08-08T10:41:37.457Z"
   },
   {
    "duration": 0,
    "start_time": "2022-08-08T10:41:37.458Z"
   },
   {
    "duration": 0,
    "start_time": "2022-08-08T10:41:37.459Z"
   },
   {
    "duration": 0,
    "start_time": "2022-08-08T10:41:37.460Z"
   },
   {
    "duration": 0,
    "start_time": "2022-08-08T10:41:37.461Z"
   },
   {
    "duration": 0,
    "start_time": "2022-08-08T10:41:37.462Z"
   },
   {
    "duration": 0,
    "start_time": "2022-08-08T10:41:37.463Z"
   },
   {
    "duration": 0,
    "start_time": "2022-08-08T10:41:37.465Z"
   },
   {
    "duration": 0,
    "start_time": "2022-08-08T10:41:37.466Z"
   },
   {
    "duration": 0,
    "start_time": "2022-08-08T10:41:37.467Z"
   },
   {
    "duration": 0,
    "start_time": "2022-08-08T10:41:37.468Z"
   },
   {
    "duration": 0,
    "start_time": "2022-08-08T10:41:37.469Z"
   },
   {
    "duration": 0,
    "start_time": "2022-08-08T10:41:37.471Z"
   },
   {
    "duration": 0,
    "start_time": "2022-08-08T10:41:37.472Z"
   },
   {
    "duration": 0,
    "start_time": "2022-08-08T10:41:37.473Z"
   },
   {
    "duration": 0,
    "start_time": "2022-08-08T10:41:37.474Z"
   },
   {
    "duration": 0,
    "start_time": "2022-08-08T10:41:37.475Z"
   },
   {
    "duration": 372,
    "start_time": "2022-08-08T10:42:14.945Z"
   },
   {
    "duration": 5,
    "start_time": "2022-08-08T15:00:29.073Z"
   },
   {
    "duration": 5,
    "start_time": "2022-08-08T15:00:31.484Z"
   },
   {
    "duration": 4,
    "start_time": "2022-08-08T15:02:45.064Z"
   },
   {
    "duration": 19,
    "start_time": "2022-08-08T15:06:43.941Z"
   },
   {
    "duration": 12,
    "start_time": "2022-08-08T15:06:43.962Z"
   },
   {
    "duration": 22,
    "start_time": "2022-08-08T15:06:43.976Z"
   },
   {
    "duration": 4,
    "start_time": "2022-08-08T15:06:44.000Z"
   },
   {
    "duration": 24,
    "start_time": "2022-08-08T15:06:44.007Z"
   },
   {
    "duration": 22,
    "start_time": "2022-08-08T15:06:44.033Z"
   },
   {
    "duration": 15,
    "start_time": "2022-08-08T15:06:44.056Z"
   },
   {
    "duration": 79,
    "start_time": "2022-08-08T15:06:44.073Z"
   },
   {
    "duration": 0,
    "start_time": "2022-08-08T15:06:44.155Z"
   },
   {
    "duration": 0,
    "start_time": "2022-08-08T15:06:44.156Z"
   },
   {
    "duration": 1,
    "start_time": "2022-08-08T15:06:44.156Z"
   },
   {
    "duration": 0,
    "start_time": "2022-08-08T15:06:44.158Z"
   },
   {
    "duration": 0,
    "start_time": "2022-08-08T15:06:44.159Z"
   },
   {
    "duration": 0,
    "start_time": "2022-08-08T15:06:44.160Z"
   },
   {
    "duration": 0,
    "start_time": "2022-08-08T15:06:44.162Z"
   },
   {
    "duration": 0,
    "start_time": "2022-08-08T15:06:44.163Z"
   },
   {
    "duration": 0,
    "start_time": "2022-08-08T15:06:44.165Z"
   },
   {
    "duration": 0,
    "start_time": "2022-08-08T15:06:44.167Z"
   },
   {
    "duration": 0,
    "start_time": "2022-08-08T15:06:44.169Z"
   },
   {
    "duration": 0,
    "start_time": "2022-08-08T15:06:44.171Z"
   },
   {
    "duration": 4,
    "start_time": "2022-08-08T15:07:22.947Z"
   },
   {
    "duration": 335,
    "start_time": "2022-08-08T15:07:22.967Z"
   },
   {
    "duration": 18,
    "start_time": "2022-08-08T15:07:23.304Z"
   },
   {
    "duration": 27,
    "start_time": "2022-08-08T15:07:23.323Z"
   },
   {
    "duration": 116,
    "start_time": "2022-08-08T15:07:23.352Z"
   },
   {
    "duration": 29,
    "start_time": "2022-08-08T15:07:23.470Z"
   },
   {
    "duration": 6,
    "start_time": "2022-08-08T15:07:23.500Z"
   },
   {
    "duration": 390,
    "start_time": "2022-08-08T15:07:23.507Z"
   },
   {
    "duration": 19,
    "start_time": "2022-08-08T15:07:23.899Z"
   },
   {
    "duration": 12,
    "start_time": "2022-08-08T15:07:23.920Z"
   },
   {
    "duration": 8,
    "start_time": "2022-08-08T15:07:23.934Z"
   },
   {
    "duration": 7,
    "start_time": "2022-08-08T15:07:23.944Z"
   },
   {
    "duration": 6,
    "start_time": "2022-08-08T15:07:23.953Z"
   },
   {
    "duration": 6,
    "start_time": "2022-08-08T15:07:23.997Z"
   },
   {
    "duration": 9,
    "start_time": "2022-08-08T15:07:24.007Z"
   },
   {
    "duration": 13,
    "start_time": "2022-08-08T15:07:24.017Z"
   },
   {
    "duration": 9,
    "start_time": "2022-08-08T15:07:24.032Z"
   },
   {
    "duration": 8,
    "start_time": "2022-08-08T15:07:24.043Z"
   },
   {
    "duration": 32,
    "start_time": "2022-08-08T15:07:24.053Z"
   },
   {
    "duration": 17,
    "start_time": "2022-08-08T15:07:24.087Z"
   },
   {
    "duration": 19,
    "start_time": "2022-08-08T15:07:24.106Z"
   },
   {
    "duration": 9,
    "start_time": "2022-08-08T15:07:24.128Z"
   },
   {
    "duration": 6,
    "start_time": "2022-08-08T15:07:24.140Z"
   },
   {
    "duration": 7,
    "start_time": "2022-08-08T15:07:24.148Z"
   },
   {
    "duration": 6,
    "start_time": "2022-08-08T15:07:24.157Z"
   },
   {
    "duration": 6,
    "start_time": "2022-08-08T15:07:24.165Z"
   },
   {
    "duration": 742,
    "start_time": "2022-08-08T15:07:24.173Z"
   },
   {
    "duration": 5,
    "start_time": "2022-08-08T15:07:24.917Z"
   },
   {
    "duration": 323,
    "start_time": "2022-08-08T15:07:24.924Z"
   },
   {
    "duration": 6,
    "start_time": "2022-08-08T15:07:25.249Z"
   },
   {
    "duration": 337,
    "start_time": "2022-08-08T15:07:25.256Z"
   },
   {
    "duration": 7,
    "start_time": "2022-08-08T15:07:25.594Z"
   },
   {
    "duration": 352,
    "start_time": "2022-08-08T15:07:25.603Z"
   },
   {
    "duration": 7,
    "start_time": "2022-08-08T15:07:25.957Z"
   },
   {
    "duration": 328,
    "start_time": "2022-08-08T15:07:25.965Z"
   },
   {
    "duration": 4,
    "start_time": "2022-08-08T15:07:26.296Z"
   },
   {
    "duration": 37,
    "start_time": "2022-08-08T15:07:26.302Z"
   },
   {
    "duration": 8,
    "start_time": "2022-08-08T15:07:26.341Z"
   },
   {
    "duration": 5,
    "start_time": "2022-08-08T15:07:26.351Z"
   },
   {
    "duration": 10,
    "start_time": "2022-08-08T15:07:26.358Z"
   },
   {
    "duration": 17,
    "start_time": "2022-08-08T15:07:26.370Z"
   },
   {
    "duration": 30,
    "start_time": "2022-08-08T15:07:26.393Z"
   },
   {
    "duration": 4,
    "start_time": "2022-08-08T15:07:26.425Z"
   },
   {
    "duration": 28,
    "start_time": "2022-08-08T15:07:26.431Z"
   },
   {
    "duration": 5,
    "start_time": "2022-08-08T15:07:26.461Z"
   },
   {
    "duration": 14,
    "start_time": "2022-08-08T15:07:26.468Z"
   },
   {
    "duration": 461,
    "start_time": "2022-08-08T15:07:26.484Z"
   },
   {
    "duration": 474,
    "start_time": "2022-08-08T15:07:26.947Z"
   },
   {
    "duration": 3,
    "start_time": "2022-08-08T15:07:27.423Z"
   },
   {
    "duration": 3102,
    "start_time": "2022-08-08T15:07:27.428Z"
   },
   {
    "duration": 1432,
    "start_time": "2022-08-08T15:07:30.533Z"
   },
   {
    "duration": 1433,
    "start_time": "2022-08-08T15:07:31.968Z"
   },
   {
    "duration": 3,
    "start_time": "2022-08-08T15:07:33.403Z"
   },
   {
    "duration": 9715,
    "start_time": "2022-08-08T15:07:33.409Z"
   },
   {
    "duration": 375,
    "start_time": "2022-08-08T15:07:43.126Z"
   },
   {
    "duration": 491,
    "start_time": "2022-08-08T15:07:43.504Z"
   },
   {
    "duration": 4,
    "start_time": "2022-08-08T15:07:43.997Z"
   },
   {
    "duration": 2701,
    "start_time": "2022-08-08T15:07:44.004Z"
   },
   {
    "duration": 404,
    "start_time": "2022-08-08T15:07:46.791Z"
   },
   {
    "duration": 7,
    "start_time": "2022-08-08T15:10:41.747Z"
   },
   {
    "duration": 4,
    "start_time": "2022-08-08T15:10:44.624Z"
   },
   {
    "duration": 8,
    "start_time": "2022-08-08T15:11:38.419Z"
   },
   {
    "duration": 5,
    "start_time": "2022-08-08T15:11:41.749Z"
   },
   {
    "duration": 7,
    "start_time": "2022-08-08T15:13:00.635Z"
   },
   {
    "duration": 5,
    "start_time": "2022-08-08T15:13:02.189Z"
   },
   {
    "duration": 8,
    "start_time": "2022-08-08T15:24:47.422Z"
   },
   {
    "duration": 5,
    "start_time": "2022-08-08T15:24:55.696Z"
   },
   {
    "duration": 7,
    "start_time": "2022-08-08T15:27:56.826Z"
   },
   {
    "duration": 4,
    "start_time": "2022-08-08T15:27:59.018Z"
   },
   {
    "duration": 8,
    "start_time": "2022-08-08T15:35:09.391Z"
   },
   {
    "duration": 4,
    "start_time": "2022-08-08T15:35:10.506Z"
   },
   {
    "duration": 7,
    "start_time": "2022-08-08T15:41:10.963Z"
   },
   {
    "duration": 4,
    "start_time": "2022-08-08T15:41:12.255Z"
   },
   {
    "duration": 6,
    "start_time": "2022-08-08T15:42:43.919Z"
   },
   {
    "duration": 6,
    "start_time": "2022-08-08T15:42:46.862Z"
   },
   {
    "duration": 7,
    "start_time": "2022-08-08T15:44:44.428Z"
   },
   {
    "duration": 4,
    "start_time": "2022-08-08T15:44:45.359Z"
   },
   {
    "duration": 7,
    "start_time": "2022-08-08T15:46:00.930Z"
   },
   {
    "duration": 5,
    "start_time": "2022-08-08T15:46:01.802Z"
   },
   {
    "duration": 7,
    "start_time": "2022-08-08T15:47:39.723Z"
   },
   {
    "duration": 4,
    "start_time": "2022-08-08T15:47:41.554Z"
   },
   {
    "duration": 8,
    "start_time": "2022-08-08T15:48:26.940Z"
   },
   {
    "duration": 8,
    "start_time": "2022-08-08T15:48:58.180Z"
   },
   {
    "duration": 5,
    "start_time": "2022-08-08T15:48:59.015Z"
   },
   {
    "duration": 8,
    "start_time": "2022-08-08T15:50:21.876Z"
   },
   {
    "duration": 8,
    "start_time": "2022-08-08T15:50:58.290Z"
   },
   {
    "duration": 5,
    "start_time": "2022-08-08T15:50:59.635Z"
   },
   {
    "duration": 7,
    "start_time": "2022-08-08T16:04:08.892Z"
   },
   {
    "duration": 4,
    "start_time": "2022-08-08T16:04:09.576Z"
   },
   {
    "duration": 7,
    "start_time": "2022-08-08T16:05:18.024Z"
   },
   {
    "duration": 5,
    "start_time": "2022-08-08T16:05:19.127Z"
   },
   {
    "duration": 7,
    "start_time": "2022-08-08T16:05:59.345Z"
   },
   {
    "duration": 4,
    "start_time": "2022-08-08T16:06:00.079Z"
   },
   {
    "duration": 7,
    "start_time": "2022-08-08T16:06:33.523Z"
   },
   {
    "duration": 8,
    "start_time": "2022-08-08T16:07:31.123Z"
   },
   {
    "duration": 4,
    "start_time": "2022-08-08T16:07:33.273Z"
   },
   {
    "duration": 7,
    "start_time": "2022-08-08T16:08:11.260Z"
   },
   {
    "duration": 5,
    "start_time": "2022-08-08T16:08:12.656Z"
   },
   {
    "duration": 8,
    "start_time": "2022-08-08T17:15:29.713Z"
   },
   {
    "duration": 5,
    "start_time": "2022-08-08T17:15:30.470Z"
   },
   {
    "duration": 16,
    "start_time": "2022-08-08T17:16:06.616Z"
   },
   {
    "duration": 4,
    "start_time": "2022-08-08T17:16:08.766Z"
   },
   {
    "duration": 6,
    "start_time": "2022-08-08T17:17:46.144Z"
   },
   {
    "duration": 5,
    "start_time": "2022-08-08T17:17:47.959Z"
   },
   {
    "duration": 7,
    "start_time": "2022-08-08T17:19:14.408Z"
   },
   {
    "duration": 5,
    "start_time": "2022-08-08T17:19:15.083Z"
   },
   {
    "duration": 8,
    "start_time": "2022-08-08T17:19:42.613Z"
   },
   {
    "duration": 5,
    "start_time": "2022-08-08T17:19:43.232Z"
   },
   {
    "duration": 7,
    "start_time": "2022-08-08T17:20:30.298Z"
   },
   {
    "duration": 5,
    "start_time": "2022-08-08T17:20:31.563Z"
   },
   {
    "duration": 7,
    "start_time": "2022-08-08T17:20:58.033Z"
   },
   {
    "duration": 5,
    "start_time": "2022-08-08T17:20:58.697Z"
   },
   {
    "duration": 8,
    "start_time": "2022-08-08T17:21:21.380Z"
   },
   {
    "duration": 7,
    "start_time": "2022-08-08T17:21:21.981Z"
   },
   {
    "duration": 8,
    "start_time": "2022-08-08T17:21:47.314Z"
   },
   {
    "duration": 4,
    "start_time": "2022-08-08T17:21:48.085Z"
   },
   {
    "duration": 7,
    "start_time": "2022-08-08T17:22:25.529Z"
   },
   {
    "duration": 5,
    "start_time": "2022-08-08T17:22:26.428Z"
   },
   {
    "duration": 7,
    "start_time": "2022-08-08T17:23:08.420Z"
   },
   {
    "duration": 5,
    "start_time": "2022-08-08T17:23:09.698Z"
   },
   {
    "duration": 9,
    "start_time": "2022-08-08T17:23:43.312Z"
   },
   {
    "duration": 4,
    "start_time": "2022-08-08T17:23:44.112Z"
   },
   {
    "duration": 7,
    "start_time": "2022-08-08T17:24:29.288Z"
   },
   {
    "duration": 4,
    "start_time": "2022-08-08T17:24:29.959Z"
   },
   {
    "duration": 7,
    "start_time": "2022-08-08T17:26:25.659Z"
   },
   {
    "duration": 4,
    "start_time": "2022-08-08T17:26:26.381Z"
   },
   {
    "duration": 6,
    "start_time": "2022-08-08T17:27:15.404Z"
   },
   {
    "duration": 5,
    "start_time": "2022-08-08T17:27:16.441Z"
   },
   {
    "duration": 7,
    "start_time": "2022-08-08T17:28:00.336Z"
   },
   {
    "duration": 4,
    "start_time": "2022-08-08T17:28:00.806Z"
   },
   {
    "duration": 7,
    "start_time": "2022-08-08T17:28:30.964Z"
   },
   {
    "duration": 5,
    "start_time": "2022-08-08T17:28:31.418Z"
   },
   {
    "duration": 7,
    "start_time": "2022-08-08T17:28:56.310Z"
   },
   {
    "duration": 5,
    "start_time": "2022-08-08T17:28:57.034Z"
   },
   {
    "duration": 4,
    "start_time": "2022-08-08T17:29:31.919Z"
   },
   {
    "duration": 345,
    "start_time": "2022-08-08T17:29:31.940Z"
   },
   {
    "duration": 20,
    "start_time": "2022-08-08T17:29:32.302Z"
   },
   {
    "duration": 8,
    "start_time": "2022-08-08T17:29:32.323Z"
   },
   {
    "duration": 99,
    "start_time": "2022-08-08T17:29:32.333Z"
   },
   {
    "duration": 16,
    "start_time": "2022-08-08T17:29:32.435Z"
   },
   {
    "duration": 5,
    "start_time": "2022-08-08T17:29:32.453Z"
   },
   {
    "duration": 366,
    "start_time": "2022-08-08T17:29:32.460Z"
   },
   {
    "duration": 18,
    "start_time": "2022-08-08T17:29:32.828Z"
   },
   {
    "duration": 8,
    "start_time": "2022-08-08T17:29:32.848Z"
   },
   {
    "duration": 8,
    "start_time": "2022-08-08T17:29:32.857Z"
   },
   {
    "duration": 28,
    "start_time": "2022-08-08T17:29:32.866Z"
   },
   {
    "duration": 5,
    "start_time": "2022-08-08T17:29:32.896Z"
   },
   {
    "duration": 34,
    "start_time": "2022-08-08T17:29:32.902Z"
   },
   {
    "duration": 18,
    "start_time": "2022-08-08T17:29:32.939Z"
   },
   {
    "duration": 15,
    "start_time": "2022-08-08T17:29:32.959Z"
   },
   {
    "duration": 12,
    "start_time": "2022-08-08T17:29:32.976Z"
   },
   {
    "duration": 18,
    "start_time": "2022-08-08T17:29:32.989Z"
   },
   {
    "duration": 19,
    "start_time": "2022-08-08T17:29:33.009Z"
   },
   {
    "duration": 8,
    "start_time": "2022-08-08T17:29:33.030Z"
   },
   {
    "duration": 17,
    "start_time": "2022-08-08T17:29:33.040Z"
   },
   {
    "duration": 9,
    "start_time": "2022-08-08T17:29:33.059Z"
   },
   {
    "duration": 6,
    "start_time": "2022-08-08T17:29:33.070Z"
   },
   {
    "duration": 6,
    "start_time": "2022-08-08T17:29:33.078Z"
   },
   {
    "duration": 8,
    "start_time": "2022-08-08T17:29:33.085Z"
   },
   {
    "duration": 11,
    "start_time": "2022-08-08T17:29:33.095Z"
   },
   {
    "duration": 507,
    "start_time": "2022-08-08T17:29:33.108Z"
   },
   {
    "duration": 5,
    "start_time": "2022-08-08T17:29:33.617Z"
   },
   {
    "duration": 327,
    "start_time": "2022-08-08T17:29:33.623Z"
   },
   {
    "duration": 6,
    "start_time": "2022-08-08T17:29:33.953Z"
   },
   {
    "duration": 606,
    "start_time": "2022-08-08T17:29:33.961Z"
   },
   {
    "duration": 6,
    "start_time": "2022-08-08T17:29:34.570Z"
   },
   {
    "duration": 340,
    "start_time": "2022-08-08T17:29:34.578Z"
   },
   {
    "duration": 5,
    "start_time": "2022-08-08T17:29:34.920Z"
   },
   {
    "duration": 350,
    "start_time": "2022-08-08T17:29:34.927Z"
   },
   {
    "duration": 4,
    "start_time": "2022-08-08T17:29:35.279Z"
   },
   {
    "duration": 25,
    "start_time": "2022-08-08T17:29:35.284Z"
   },
   {
    "duration": 8,
    "start_time": "2022-08-08T17:29:35.311Z"
   },
   {
    "duration": 7,
    "start_time": "2022-08-08T17:29:35.321Z"
   },
   {
    "duration": 10,
    "start_time": "2022-08-08T17:29:35.333Z"
   },
   {
    "duration": 12,
    "start_time": "2022-08-08T17:29:35.346Z"
   },
   {
    "duration": 32,
    "start_time": "2022-08-08T17:29:35.364Z"
   },
   {
    "duration": 5,
    "start_time": "2022-08-08T17:29:35.399Z"
   },
   {
    "duration": 9,
    "start_time": "2022-08-08T17:29:35.406Z"
   },
   {
    "duration": 8,
    "start_time": "2022-08-08T17:29:35.417Z"
   },
   {
    "duration": 10,
    "start_time": "2022-08-08T17:29:35.427Z"
   },
   {
    "duration": 301,
    "start_time": "2022-08-08T17:29:35.439Z"
   },
   {
    "duration": 485,
    "start_time": "2022-08-08T17:29:35.742Z"
   },
   {
    "duration": 4,
    "start_time": "2022-08-08T17:29:36.229Z"
   },
   {
    "duration": 3141,
    "start_time": "2022-08-08T17:29:36.234Z"
   },
   {
    "duration": 1429,
    "start_time": "2022-08-08T17:29:39.377Z"
   },
   {
    "duration": 1447,
    "start_time": "2022-08-08T17:29:40.808Z"
   },
   {
    "duration": 4,
    "start_time": "2022-08-08T17:29:42.257Z"
   },
   {
    "duration": 9373,
    "start_time": "2022-08-08T17:29:42.263Z"
   },
   {
    "duration": 3260,
    "start_time": "2022-08-08T17:29:51.638Z"
   },
   {
    "duration": 400,
    "start_time": "2022-08-08T17:29:54.902Z"
   },
   {
    "duration": 4,
    "start_time": "2022-08-08T17:29:55.393Z"
   },
   {
    "duration": 2798,
    "start_time": "2022-08-08T17:29:55.399Z"
   },
   {
    "duration": 491,
    "start_time": "2022-08-08T17:29:58.201Z"
   },
   {
    "duration": 269,
    "start_time": "2022-08-08T17:34:29.037Z"
   },
   {
    "duration": 5,
    "start_time": "2022-08-08T17:35:25.058Z"
   },
   {
    "duration": 325,
    "start_time": "2022-08-08T17:35:25.078Z"
   },
   {
    "duration": 21,
    "start_time": "2022-08-08T17:35:25.406Z"
   },
   {
    "duration": 10,
    "start_time": "2022-08-08T17:35:25.430Z"
   },
   {
    "duration": 116,
    "start_time": "2022-08-08T17:35:25.442Z"
   },
   {
    "duration": 14,
    "start_time": "2022-08-08T17:35:25.560Z"
   },
   {
    "duration": 19,
    "start_time": "2022-08-08T17:35:25.576Z"
   },
   {
    "duration": 376,
    "start_time": "2022-08-08T17:35:25.597Z"
   },
   {
    "duration": 26,
    "start_time": "2022-08-08T17:35:25.975Z"
   },
   {
    "duration": 11,
    "start_time": "2022-08-08T17:35:26.003Z"
   },
   {
    "duration": 12,
    "start_time": "2022-08-08T17:35:26.016Z"
   },
   {
    "duration": 10,
    "start_time": "2022-08-08T17:35:26.030Z"
   },
   {
    "duration": 14,
    "start_time": "2022-08-08T17:35:26.041Z"
   },
   {
    "duration": 8,
    "start_time": "2022-08-08T17:35:26.057Z"
   },
   {
    "duration": 27,
    "start_time": "2022-08-08T17:35:26.068Z"
   },
   {
    "duration": 6,
    "start_time": "2022-08-08T17:35:26.097Z"
   },
   {
    "duration": 6,
    "start_time": "2022-08-08T17:35:26.105Z"
   },
   {
    "duration": 7,
    "start_time": "2022-08-08T17:35:26.113Z"
   },
   {
    "duration": 5,
    "start_time": "2022-08-08T17:35:26.122Z"
   },
   {
    "duration": 8,
    "start_time": "2022-08-08T17:35:26.128Z"
   },
   {
    "duration": 8,
    "start_time": "2022-08-08T17:35:26.138Z"
   },
   {
    "duration": 47,
    "start_time": "2022-08-08T17:35:26.148Z"
   },
   {
    "duration": 5,
    "start_time": "2022-08-08T17:35:26.197Z"
   },
   {
    "duration": 7,
    "start_time": "2022-08-08T17:35:26.204Z"
   },
   {
    "duration": 7,
    "start_time": "2022-08-08T17:35:26.213Z"
   },
   {
    "duration": 8,
    "start_time": "2022-08-08T17:35:26.222Z"
   },
   {
    "duration": 512,
    "start_time": "2022-08-08T17:35:26.231Z"
   },
   {
    "duration": 5,
    "start_time": "2022-08-08T17:35:26.744Z"
   },
   {
    "duration": 333,
    "start_time": "2022-08-08T17:35:26.751Z"
   },
   {
    "duration": 9,
    "start_time": "2022-08-08T17:35:27.086Z"
   },
   {
    "duration": 379,
    "start_time": "2022-08-08T17:35:27.096Z"
   },
   {
    "duration": 16,
    "start_time": "2022-08-08T17:35:27.477Z"
   },
   {
    "duration": 330,
    "start_time": "2022-08-08T17:35:27.495Z"
   },
   {
    "duration": 6,
    "start_time": "2022-08-08T17:35:27.827Z"
   },
   {
    "duration": 338,
    "start_time": "2022-08-08T17:35:27.834Z"
   },
   {
    "duration": 5,
    "start_time": "2022-08-08T17:35:28.173Z"
   },
   {
    "duration": 26,
    "start_time": "2022-08-08T17:35:28.192Z"
   },
   {
    "duration": 4,
    "start_time": "2022-08-08T17:35:28.219Z"
   },
   {
    "duration": 6,
    "start_time": "2022-08-08T17:35:28.225Z"
   },
   {
    "duration": 11,
    "start_time": "2022-08-08T17:35:28.232Z"
   },
   {
    "duration": 8,
    "start_time": "2022-08-08T17:35:28.244Z"
   },
   {
    "duration": 36,
    "start_time": "2022-08-08T17:35:28.257Z"
   },
   {
    "duration": 5,
    "start_time": "2022-08-08T17:35:28.294Z"
   },
   {
    "duration": 9,
    "start_time": "2022-08-08T17:35:28.300Z"
   },
   {
    "duration": 8,
    "start_time": "2022-08-08T17:35:28.310Z"
   },
   {
    "duration": 7,
    "start_time": "2022-08-08T17:35:28.319Z"
   },
   {
    "duration": 284,
    "start_time": "2022-08-08T17:35:28.327Z"
   },
   {
    "duration": 277,
    "start_time": "2022-08-08T17:35:28.613Z"
   },
   {
    "duration": 4,
    "start_time": "2022-08-08T17:35:28.892Z"
   },
   {
    "duration": 1753,
    "start_time": "2022-08-08T17:35:28.897Z"
   },
   {
    "duration": 1431,
    "start_time": "2022-08-08T17:35:30.652Z"
   },
   {
    "duration": 1373,
    "start_time": "2022-08-08T17:35:32.085Z"
   },
   {
    "duration": 5,
    "start_time": "2022-08-08T17:35:33.460Z"
   },
   {
    "duration": 9575,
    "start_time": "2022-08-08T17:35:33.466Z"
   },
   {
    "duration": 352,
    "start_time": "2022-08-08T17:35:43.043Z"
   },
   {
    "duration": 494,
    "start_time": "2022-08-08T17:35:43.398Z"
   },
   {
    "duration": 7,
    "start_time": "2022-08-08T17:35:43.895Z"
   },
   {
    "duration": 2691,
    "start_time": "2022-08-08T17:35:43.904Z"
   },
   {
    "duration": 697,
    "start_time": "2022-08-08T17:35:46.599Z"
   },
   {
    "duration": 827,
    "start_time": "2022-08-08T17:43:42.748Z"
   },
   {
    "duration": 790,
    "start_time": "2022-08-08T17:44:38.312Z"
   },
   {
    "duration": 3,
    "start_time": "2022-08-08T17:44:42.570Z"
   },
   {
    "duration": 5397,
    "start_time": "2022-08-08T17:44:46.184Z"
   },
   {
    "duration": 6,
    "start_time": "2022-08-08T17:45:37.953Z"
   },
   {
    "duration": 293,
    "start_time": "2022-08-08T17:45:37.973Z"
   },
   {
    "duration": 27,
    "start_time": "2022-08-08T17:45:38.268Z"
   },
   {
    "duration": 7,
    "start_time": "2022-08-08T17:45:38.297Z"
   },
   {
    "duration": 96,
    "start_time": "2022-08-08T17:45:38.306Z"
   },
   {
    "duration": 14,
    "start_time": "2022-08-08T17:45:38.405Z"
   },
   {
    "duration": 5,
    "start_time": "2022-08-08T17:45:38.421Z"
   },
   {
    "duration": 397,
    "start_time": "2022-08-08T17:45:38.428Z"
   },
   {
    "duration": 19,
    "start_time": "2022-08-08T17:45:38.828Z"
   },
   {
    "duration": 8,
    "start_time": "2022-08-08T17:45:38.848Z"
   },
   {
    "duration": 9,
    "start_time": "2022-08-08T17:45:38.858Z"
   },
   {
    "duration": 28,
    "start_time": "2022-08-08T17:45:38.869Z"
   },
   {
    "duration": 13,
    "start_time": "2022-08-08T17:45:38.899Z"
   },
   {
    "duration": 6,
    "start_time": "2022-08-08T17:45:38.913Z"
   },
   {
    "duration": 8,
    "start_time": "2022-08-08T17:45:38.923Z"
   },
   {
    "duration": 8,
    "start_time": "2022-08-08T17:45:38.932Z"
   },
   {
    "duration": 18,
    "start_time": "2022-08-08T17:45:38.942Z"
   },
   {
    "duration": 9,
    "start_time": "2022-08-08T17:45:38.962Z"
   },
   {
    "duration": 11,
    "start_time": "2022-08-08T17:45:38.992Z"
   },
   {
    "duration": 16,
    "start_time": "2022-08-08T17:45:39.005Z"
   },
   {
    "duration": 9,
    "start_time": "2022-08-08T17:45:39.023Z"
   },
   {
    "duration": 7,
    "start_time": "2022-08-08T17:45:39.034Z"
   },
   {
    "duration": 9,
    "start_time": "2022-08-08T17:45:39.043Z"
   },
   {
    "duration": 12,
    "start_time": "2022-08-08T17:45:39.054Z"
   },
   {
    "duration": 7,
    "start_time": "2022-08-08T17:45:39.068Z"
   },
   {
    "duration": 25,
    "start_time": "2022-08-08T17:45:39.076Z"
   },
   {
    "duration": 801,
    "start_time": "2022-08-08T17:45:39.102Z"
   },
   {
    "duration": 4,
    "start_time": "2022-08-08T17:45:39.905Z"
   },
   {
    "duration": 365,
    "start_time": "2022-08-08T17:45:39.911Z"
   },
   {
    "duration": 14,
    "start_time": "2022-08-08T17:45:40.278Z"
   },
   {
    "duration": 389,
    "start_time": "2022-08-08T17:45:40.294Z"
   },
   {
    "duration": 10,
    "start_time": "2022-08-08T17:45:40.685Z"
   },
   {
    "duration": 351,
    "start_time": "2022-08-08T17:45:40.697Z"
   },
   {
    "duration": 7,
    "start_time": "2022-08-08T17:45:41.051Z"
   },
   {
    "duration": 333,
    "start_time": "2022-08-08T17:45:41.062Z"
   },
   {
    "duration": 5,
    "start_time": "2022-08-08T17:45:41.396Z"
   },
   {
    "duration": 26,
    "start_time": "2022-08-08T17:45:41.402Z"
   },
   {
    "duration": 9,
    "start_time": "2022-08-08T17:45:41.430Z"
   },
   {
    "duration": 6,
    "start_time": "2022-08-08T17:45:41.441Z"
   },
   {
    "duration": 16,
    "start_time": "2022-08-08T17:45:41.449Z"
   },
   {
    "duration": 27,
    "start_time": "2022-08-08T17:45:41.467Z"
   },
   {
    "duration": 15,
    "start_time": "2022-08-08T17:45:41.499Z"
   },
   {
    "duration": 9,
    "start_time": "2022-08-08T17:45:41.516Z"
   },
   {
    "duration": 12,
    "start_time": "2022-08-08T17:45:41.528Z"
   },
   {
    "duration": 18,
    "start_time": "2022-08-08T17:45:41.542Z"
   },
   {
    "duration": 8,
    "start_time": "2022-08-08T17:45:41.562Z"
   },
   {
    "duration": 310,
    "start_time": "2022-08-08T17:45:41.572Z"
   },
   {
    "duration": 335,
    "start_time": "2022-08-08T17:45:41.884Z"
   },
   {
    "duration": 4,
    "start_time": "2022-08-08T17:45:42.220Z"
   },
   {
    "duration": 1793,
    "start_time": "2022-08-08T17:45:42.226Z"
   },
   {
    "duration": 828,
    "start_time": "2022-08-08T17:45:44.020Z"
   },
   {
    "duration": 813,
    "start_time": "2022-08-08T17:45:44.850Z"
   },
   {
    "duration": 3,
    "start_time": "2022-08-08T17:45:45.665Z"
   },
   {
    "duration": 5314,
    "start_time": "2022-08-08T17:45:45.670Z"
   },
   {
    "duration": 410,
    "start_time": "2022-08-08T17:45:50.986Z"
   },
   {
    "duration": 409,
    "start_time": "2022-08-08T17:45:51.398Z"
   },
   {
    "duration": 5,
    "start_time": "2022-08-08T17:45:51.893Z"
   },
   {
    "duration": 2400,
    "start_time": "2022-08-08T17:45:51.901Z"
   },
   {
    "duration": 209,
    "start_time": "2022-08-08T17:45:54.393Z"
   },
   {
    "duration": 198,
    "start_time": "2022-08-08T17:48:03.699Z"
   },
   {
    "duration": 128,
    "start_time": "2022-08-08T17:48:48.071Z"
   },
   {
    "duration": 4,
    "start_time": "2022-08-08T17:49:32.527Z"
   },
   {
    "duration": 334,
    "start_time": "2022-08-08T17:49:32.568Z"
   },
   {
    "duration": 18,
    "start_time": "2022-08-08T17:49:32.904Z"
   },
   {
    "duration": 8,
    "start_time": "2022-08-08T17:49:32.924Z"
   },
   {
    "duration": 107,
    "start_time": "2022-08-08T17:49:32.933Z"
   },
   {
    "duration": 13,
    "start_time": "2022-08-08T17:49:33.043Z"
   },
   {
    "duration": 12,
    "start_time": "2022-08-08T17:49:33.058Z"
   },
   {
    "duration": 397,
    "start_time": "2022-08-08T17:49:33.072Z"
   },
   {
    "duration": 28,
    "start_time": "2022-08-08T17:49:33.471Z"
   },
   {
    "duration": 8,
    "start_time": "2022-08-08T17:49:33.501Z"
   },
   {
    "duration": 9,
    "start_time": "2022-08-08T17:49:33.511Z"
   },
   {
    "duration": 8,
    "start_time": "2022-08-08T17:49:33.522Z"
   },
   {
    "duration": 10,
    "start_time": "2022-08-08T17:49:33.532Z"
   },
   {
    "duration": 7,
    "start_time": "2022-08-08T17:49:33.544Z"
   },
   {
    "duration": 6,
    "start_time": "2022-08-08T17:49:33.554Z"
   },
   {
    "duration": 33,
    "start_time": "2022-08-08T17:49:33.561Z"
   },
   {
    "duration": 6,
    "start_time": "2022-08-08T17:49:33.596Z"
   },
   {
    "duration": 5,
    "start_time": "2022-08-08T17:49:33.604Z"
   },
   {
    "duration": 6,
    "start_time": "2022-08-08T17:49:33.611Z"
   },
   {
    "duration": 6,
    "start_time": "2022-08-08T17:49:33.619Z"
   },
   {
    "duration": 9,
    "start_time": "2022-08-08T17:49:33.627Z"
   },
   {
    "duration": 6,
    "start_time": "2022-08-08T17:49:33.638Z"
   },
   {
    "duration": 6,
    "start_time": "2022-08-08T17:49:33.645Z"
   },
   {
    "duration": 6,
    "start_time": "2022-08-08T17:49:33.691Z"
   },
   {
    "duration": 6,
    "start_time": "2022-08-08T17:49:33.699Z"
   },
   {
    "duration": 9,
    "start_time": "2022-08-08T17:49:33.707Z"
   },
   {
    "duration": 531,
    "start_time": "2022-08-08T17:49:33.718Z"
   },
   {
    "duration": 5,
    "start_time": "2022-08-08T17:49:34.251Z"
   },
   {
    "duration": 316,
    "start_time": "2022-08-08T17:49:34.258Z"
   },
   {
    "duration": 6,
    "start_time": "2022-08-08T17:49:34.576Z"
   },
   {
    "duration": 308,
    "start_time": "2022-08-08T17:49:34.592Z"
   },
   {
    "duration": 6,
    "start_time": "2022-08-08T17:49:34.902Z"
   },
   {
    "duration": 645,
    "start_time": "2022-08-08T17:49:34.909Z"
   },
   {
    "duration": 5,
    "start_time": "2022-08-08T17:49:35.556Z"
   },
   {
    "duration": 326,
    "start_time": "2022-08-08T17:49:35.563Z"
   },
   {
    "duration": 4,
    "start_time": "2022-08-08T17:49:35.892Z"
   },
   {
    "duration": 24,
    "start_time": "2022-08-08T17:49:35.898Z"
   },
   {
    "duration": 5,
    "start_time": "2022-08-08T17:49:35.923Z"
   },
   {
    "duration": 5,
    "start_time": "2022-08-08T17:49:35.930Z"
   },
   {
    "duration": 9,
    "start_time": "2022-08-08T17:49:35.937Z"
   },
   {
    "duration": 12,
    "start_time": "2022-08-08T17:49:35.948Z"
   },
   {
    "duration": 14,
    "start_time": "2022-08-08T17:49:35.991Z"
   },
   {
    "duration": 27,
    "start_time": "2022-08-08T17:49:36.007Z"
   },
   {
    "duration": 15,
    "start_time": "2022-08-08T17:49:36.036Z"
   },
   {
    "duration": 27,
    "start_time": "2022-08-08T17:49:36.053Z"
   },
   {
    "duration": 17,
    "start_time": "2022-08-08T17:49:36.081Z"
   },
   {
    "duration": 279,
    "start_time": "2022-08-08T17:49:36.099Z"
   },
   {
    "duration": 283,
    "start_time": "2022-08-08T17:49:36.380Z"
   },
   {
    "duration": 3,
    "start_time": "2022-08-08T17:49:36.665Z"
   },
   {
    "duration": 1803,
    "start_time": "2022-08-08T17:49:36.670Z"
   },
   {
    "duration": 832,
    "start_time": "2022-08-08T17:49:38.475Z"
   },
   {
    "duration": 871,
    "start_time": "2022-08-08T17:49:39.309Z"
   },
   {
    "duration": 4,
    "start_time": "2022-08-08T17:49:40.182Z"
   },
   {
    "duration": 5457,
    "start_time": "2022-08-08T17:49:40.192Z"
   },
   {
    "duration": 242,
    "start_time": "2022-08-08T17:49:45.651Z"
   },
   {
    "duration": 397,
    "start_time": "2022-08-08T17:49:45.896Z"
   },
   {
    "duration": 6,
    "start_time": "2022-08-08T17:49:46.296Z"
   },
   {
    "duration": 1790,
    "start_time": "2022-08-08T17:49:46.305Z"
   },
   {
    "duration": 297,
    "start_time": "2022-08-08T17:49:48.098Z"
   },
   {
    "duration": 51,
    "start_time": "2022-08-09T13:32:51.678Z"
   },
   {
    "duration": 978,
    "start_time": "2022-08-09T13:33:26.889Z"
   },
   {
    "duration": 801,
    "start_time": "2022-08-09T13:33:27.869Z"
   },
   {
    "duration": 15,
    "start_time": "2022-08-09T13:33:28.672Z"
   },
   {
    "duration": 5,
    "start_time": "2022-08-09T13:33:28.688Z"
   },
   {
    "duration": 759,
    "start_time": "2022-08-09T13:33:28.694Z"
   },
   {
    "duration": 11,
    "start_time": "2022-08-09T13:33:29.454Z"
   },
   {
    "duration": 4,
    "start_time": "2022-08-09T13:33:29.466Z"
   },
   {
    "duration": 1720,
    "start_time": "2022-08-09T13:33:29.471Z"
   },
   {
    "duration": 16,
    "start_time": "2022-08-09T13:33:31.193Z"
   },
   {
    "duration": 24,
    "start_time": "2022-08-09T13:33:31.212Z"
   },
   {
    "duration": 47,
    "start_time": "2022-08-09T13:33:31.237Z"
   },
   {
    "duration": 16,
    "start_time": "2022-08-09T13:33:31.285Z"
   },
   {
    "duration": 38,
    "start_time": "2022-08-09T13:33:31.302Z"
   },
   {
    "duration": 15,
    "start_time": "2022-08-09T13:33:31.342Z"
   },
   {
    "duration": 14,
    "start_time": "2022-08-09T13:33:31.358Z"
   },
   {
    "duration": 11,
    "start_time": "2022-08-09T13:33:31.373Z"
   },
   {
    "duration": 8,
    "start_time": "2022-08-09T13:33:31.385Z"
   },
   {
    "duration": 8,
    "start_time": "2022-08-09T13:33:31.395Z"
   },
   {
    "duration": 21,
    "start_time": "2022-08-09T13:33:31.404Z"
   },
   {
    "duration": 14,
    "start_time": "2022-08-09T13:33:31.427Z"
   },
   {
    "duration": 32,
    "start_time": "2022-08-09T13:33:31.442Z"
   },
   {
    "duration": 9,
    "start_time": "2022-08-09T13:33:31.475Z"
   },
   {
    "duration": 8,
    "start_time": "2022-08-09T13:33:31.485Z"
   },
   {
    "duration": 23,
    "start_time": "2022-08-09T13:33:31.494Z"
   },
   {
    "duration": 9,
    "start_time": "2022-08-09T13:33:31.518Z"
   },
   {
    "duration": 20,
    "start_time": "2022-08-09T13:33:31.528Z"
   },
   {
    "duration": 807,
    "start_time": "2022-08-09T13:33:31.550Z"
   },
   {
    "duration": 4,
    "start_time": "2022-08-09T13:33:32.360Z"
   },
   {
    "duration": 318,
    "start_time": "2022-08-09T13:33:32.365Z"
   },
   {
    "duration": 4,
    "start_time": "2022-08-09T13:33:32.684Z"
   },
   {
    "duration": 260,
    "start_time": "2022-08-09T13:33:32.689Z"
   },
   {
    "duration": 5,
    "start_time": "2022-08-09T13:33:32.950Z"
   },
   {
    "duration": 265,
    "start_time": "2022-08-09T13:33:32.956Z"
   },
   {
    "duration": 5,
    "start_time": "2022-08-09T13:33:33.222Z"
   },
   {
    "duration": 257,
    "start_time": "2022-08-09T13:33:33.238Z"
   },
   {
    "duration": 4,
    "start_time": "2022-08-09T13:33:33.497Z"
   },
   {
    "duration": 37,
    "start_time": "2022-08-09T13:33:33.502Z"
   },
   {
    "duration": 3,
    "start_time": "2022-08-09T13:33:33.541Z"
   },
   {
    "duration": 4,
    "start_time": "2022-08-09T13:33:33.546Z"
   },
   {
    "duration": 9,
    "start_time": "2022-08-09T13:33:33.552Z"
   },
   {
    "duration": 11,
    "start_time": "2022-08-09T13:33:33.562Z"
   },
   {
    "duration": 14,
    "start_time": "2022-08-09T13:33:33.574Z"
   },
   {
    "duration": 5,
    "start_time": "2022-08-09T13:33:33.589Z"
   },
   {
    "duration": 9,
    "start_time": "2022-08-09T13:33:33.595Z"
   },
   {
    "duration": 5,
    "start_time": "2022-08-09T13:33:33.605Z"
   },
   {
    "duration": 8,
    "start_time": "2022-08-09T13:33:33.611Z"
   },
   {
    "duration": 239,
    "start_time": "2022-08-09T13:33:33.620Z"
   },
   {
    "duration": 238,
    "start_time": "2022-08-09T13:33:33.861Z"
   },
   {
    "duration": 3,
    "start_time": "2022-08-09T13:33:34.100Z"
   },
   {
    "duration": 1492,
    "start_time": "2022-08-09T13:33:34.105Z"
   },
   {
    "duration": 686,
    "start_time": "2022-08-09T13:33:35.598Z"
   },
   {
    "duration": 661,
    "start_time": "2022-08-09T13:33:36.285Z"
   },
   {
    "duration": 2,
    "start_time": "2022-08-09T13:33:36.948Z"
   },
   {
    "duration": 4452,
    "start_time": "2022-08-09T13:33:36.951Z"
   },
   {
    "duration": 235,
    "start_time": "2022-08-09T13:33:41.404Z"
   },
   {
    "duration": 203,
    "start_time": "2022-08-09T13:33:41.641Z"
   },
   {
    "duration": 93,
    "start_time": "2022-08-09T13:33:41.846Z"
   },
   {
    "duration": 1302,
    "start_time": "2022-08-09T13:33:41.941Z"
   },
   {
    "duration": 297,
    "start_time": "2022-08-09T13:33:43.244Z"
   },
   {
    "duration": 1550,
    "start_time": "2022-08-09T13:36:16.926Z"
   },
   {
    "duration": 3,
    "start_time": "2022-08-09T13:36:43.183Z"
   },
   {
    "duration": 342,
    "start_time": "2022-08-09T13:36:43.197Z"
   },
   {
    "duration": 15,
    "start_time": "2022-08-09T13:36:43.541Z"
   },
   {
    "duration": 5,
    "start_time": "2022-08-09T13:36:43.558Z"
   },
   {
    "duration": 93,
    "start_time": "2022-08-09T13:36:43.564Z"
   },
   {
    "duration": 12,
    "start_time": "2022-08-09T13:36:43.659Z"
   },
   {
    "duration": 4,
    "start_time": "2022-08-09T13:36:43.673Z"
   },
   {
    "duration": 366,
    "start_time": "2022-08-09T13:36:43.679Z"
   },
   {
    "duration": 15,
    "start_time": "2022-08-09T13:36:44.047Z"
   },
   {
    "duration": 7,
    "start_time": "2022-08-09T13:36:44.064Z"
   },
   {
    "duration": 9,
    "start_time": "2022-08-09T13:36:44.073Z"
   },
   {
    "duration": 7,
    "start_time": "2022-08-09T13:36:44.084Z"
   },
   {
    "duration": 6,
    "start_time": "2022-08-09T13:36:44.093Z"
   },
   {
    "duration": 37,
    "start_time": "2022-08-09T13:36:44.102Z"
   },
   {
    "duration": 6,
    "start_time": "2022-08-09T13:36:44.144Z"
   },
   {
    "duration": 7,
    "start_time": "2022-08-09T13:36:44.152Z"
   },
   {
    "duration": 5,
    "start_time": "2022-08-09T13:36:44.161Z"
   },
   {
    "duration": 8,
    "start_time": "2022-08-09T13:36:44.168Z"
   },
   {
    "duration": 7,
    "start_time": "2022-08-09T13:36:44.177Z"
   },
   {
    "duration": 6,
    "start_time": "2022-08-09T13:36:44.185Z"
   },
   {
    "duration": 5,
    "start_time": "2022-08-09T13:36:44.193Z"
   },
   {
    "duration": 43,
    "start_time": "2022-08-09T13:36:44.199Z"
   },
   {
    "duration": 7,
    "start_time": "2022-08-09T13:36:44.243Z"
   },
   {
    "duration": 9,
    "start_time": "2022-08-09T13:36:44.252Z"
   },
   {
    "duration": 8,
    "start_time": "2022-08-09T13:36:44.263Z"
   },
   {
    "duration": 10,
    "start_time": "2022-08-09T13:36:44.273Z"
   },
   {
    "duration": 541,
    "start_time": "2022-08-09T13:36:44.285Z"
   },
   {
    "duration": 4,
    "start_time": "2022-08-09T13:36:44.827Z"
   },
   {
    "duration": 278,
    "start_time": "2022-08-09T13:36:44.844Z"
   },
   {
    "duration": 4,
    "start_time": "2022-08-09T13:36:45.124Z"
   },
   {
    "duration": 275,
    "start_time": "2022-08-09T13:36:45.129Z"
   },
   {
    "duration": 4,
    "start_time": "2022-08-09T13:36:45.406Z"
   },
   {
    "duration": 281,
    "start_time": "2022-08-09T13:36:45.412Z"
   },
   {
    "duration": 5,
    "start_time": "2022-08-09T13:36:45.694Z"
   },
   {
    "duration": 284,
    "start_time": "2022-08-09T13:36:45.700Z"
   },
   {
    "duration": 3,
    "start_time": "2022-08-09T13:36:45.985Z"
   },
   {
    "duration": 27,
    "start_time": "2022-08-09T13:36:45.990Z"
   },
   {
    "duration": 3,
    "start_time": "2022-08-09T13:36:46.018Z"
   },
   {
    "duration": 9,
    "start_time": "2022-08-09T13:36:46.022Z"
   },
   {
    "duration": 18,
    "start_time": "2022-08-09T13:36:46.039Z"
   },
   {
    "duration": 9,
    "start_time": "2022-08-09T13:36:46.058Z"
   },
   {
    "duration": 12,
    "start_time": "2022-08-09T13:36:46.071Z"
   },
   {
    "duration": 4,
    "start_time": "2022-08-09T13:36:46.084Z"
   },
   {
    "duration": 8,
    "start_time": "2022-08-09T13:36:46.089Z"
   },
   {
    "duration": 14,
    "start_time": "2022-08-09T13:36:46.099Z"
   },
   {
    "duration": 7,
    "start_time": "2022-08-09T13:36:46.115Z"
   },
   {
    "duration": 255,
    "start_time": "2022-08-09T13:36:46.124Z"
   },
   {
    "duration": 246,
    "start_time": "2022-08-09T13:36:46.381Z"
   },
   {
    "duration": 3,
    "start_time": "2022-08-09T13:36:46.629Z"
   },
   {
    "duration": 1565,
    "start_time": "2022-08-09T13:36:46.638Z"
   },
   {
    "duration": 734,
    "start_time": "2022-08-09T13:36:48.205Z"
   },
   {
    "duration": 731,
    "start_time": "2022-08-09T13:36:48.941Z"
   },
   {
    "duration": 3,
    "start_time": "2022-08-09T13:36:49.674Z"
   },
   {
    "duration": 4778,
    "start_time": "2022-08-09T13:36:49.678Z"
   },
   {
    "duration": 101,
    "start_time": "2022-08-09T13:36:54.457Z"
   },
   {
    "duration": 498,
    "start_time": "2022-08-09T13:36:54.559Z"
   },
   {
    "duration": 3,
    "start_time": "2022-08-09T13:36:55.060Z"
   },
   {
    "duration": 1679,
    "start_time": "2022-08-09T13:36:55.065Z"
   },
   {
    "duration": 291,
    "start_time": "2022-08-09T13:36:56.750Z"
   },
   {
    "duration": 767,
    "start_time": "2022-08-09T13:37:26.556Z"
   },
   {
    "duration": 801,
    "start_time": "2022-08-09T13:38:48.654Z"
   },
   {
    "duration": 806,
    "start_time": "2022-08-09T13:42:39.807Z"
   },
   {
    "duration": 861,
    "start_time": "2022-08-09T13:43:48.909Z"
   },
   {
    "duration": 4,
    "start_time": "2022-08-09T13:43:53.998Z"
   },
   {
    "duration": 305,
    "start_time": "2022-08-09T13:43:54.017Z"
   },
   {
    "duration": 34,
    "start_time": "2022-08-09T13:43:54.323Z"
   },
   {
    "duration": 9,
    "start_time": "2022-08-09T13:43:54.358Z"
   },
   {
    "duration": 102,
    "start_time": "2022-08-09T13:43:54.369Z"
   },
   {
    "duration": 17,
    "start_time": "2022-08-09T13:43:54.474Z"
   },
   {
    "duration": 5,
    "start_time": "2022-08-09T13:43:54.492Z"
   },
   {
    "duration": 377,
    "start_time": "2022-08-09T13:43:54.498Z"
   },
   {
    "duration": 15,
    "start_time": "2022-08-09T13:43:54.876Z"
   },
   {
    "duration": 6,
    "start_time": "2022-08-09T13:43:54.893Z"
   },
   {
    "duration": 7,
    "start_time": "2022-08-09T13:43:54.900Z"
   },
   {
    "duration": 6,
    "start_time": "2022-08-09T13:43:54.909Z"
   },
   {
    "duration": 42,
    "start_time": "2022-08-09T13:43:54.917Z"
   },
   {
    "duration": 9,
    "start_time": "2022-08-09T13:43:54.961Z"
   },
   {
    "duration": 5,
    "start_time": "2022-08-09T13:43:54.974Z"
   },
   {
    "duration": 6,
    "start_time": "2022-08-09T13:43:54.980Z"
   },
   {
    "duration": 8,
    "start_time": "2022-08-09T13:43:54.987Z"
   },
   {
    "duration": 6,
    "start_time": "2022-08-09T13:43:54.996Z"
   },
   {
    "duration": 8,
    "start_time": "2022-08-09T13:43:55.004Z"
   },
   {
    "duration": 10,
    "start_time": "2022-08-09T13:43:55.013Z"
   },
   {
    "duration": 15,
    "start_time": "2022-08-09T13:43:55.024Z"
   },
   {
    "duration": 23,
    "start_time": "2022-08-09T13:43:55.041Z"
   },
   {
    "duration": 20,
    "start_time": "2022-08-09T13:43:55.066Z"
   },
   {
    "duration": 10,
    "start_time": "2022-08-09T13:43:55.088Z"
   },
   {
    "duration": 10,
    "start_time": "2022-08-09T13:43:55.100Z"
   },
   {
    "duration": 12,
    "start_time": "2022-08-09T13:43:55.111Z"
   },
   {
    "duration": 575,
    "start_time": "2022-08-09T13:43:55.125Z"
   },
   {
    "duration": 5,
    "start_time": "2022-08-09T13:43:55.702Z"
   },
   {
    "duration": 291,
    "start_time": "2022-08-09T13:43:55.709Z"
   },
   {
    "duration": 5,
    "start_time": "2022-08-09T13:43:56.002Z"
   },
   {
    "duration": 359,
    "start_time": "2022-08-09T13:43:56.009Z"
   },
   {
    "duration": 5,
    "start_time": "2022-08-09T13:43:56.370Z"
   },
   {
    "duration": 303,
    "start_time": "2022-08-09T13:43:56.376Z"
   },
   {
    "duration": 5,
    "start_time": "2022-08-09T13:43:56.681Z"
   },
   {
    "duration": 312,
    "start_time": "2022-08-09T13:43:56.687Z"
   },
   {
    "duration": 4,
    "start_time": "2022-08-09T13:43:57.001Z"
   },
   {
    "duration": 40,
    "start_time": "2022-08-09T13:43:57.006Z"
   },
   {
    "duration": 13,
    "start_time": "2022-08-09T13:43:57.057Z"
   },
   {
    "duration": 17,
    "start_time": "2022-08-09T13:43:57.072Z"
   },
   {
    "duration": 30,
    "start_time": "2022-08-09T13:43:57.091Z"
   },
   {
    "duration": 40,
    "start_time": "2022-08-09T13:43:57.123Z"
   },
   {
    "duration": 25,
    "start_time": "2022-08-09T13:43:57.167Z"
   },
   {
    "duration": 19,
    "start_time": "2022-08-09T13:43:57.194Z"
   },
   {
    "duration": 44,
    "start_time": "2022-08-09T13:43:57.215Z"
   },
   {
    "duration": 28,
    "start_time": "2022-08-09T13:43:57.261Z"
   },
   {
    "duration": 25,
    "start_time": "2022-08-09T13:43:57.292Z"
   },
   {
    "duration": 294,
    "start_time": "2022-08-09T13:43:57.318Z"
   },
   {
    "duration": 269,
    "start_time": "2022-08-09T13:43:57.613Z"
   },
   {
    "duration": 3,
    "start_time": "2022-08-09T13:43:57.883Z"
   },
   {
    "duration": 822,
    "start_time": "2022-08-09T13:43:57.887Z"
   },
   {
    "duration": 807,
    "start_time": "2022-08-09T13:43:58.711Z"
   },
   {
    "duration": 753,
    "start_time": "2022-08-09T13:43:59.520Z"
   },
   {
    "duration": 3,
    "start_time": "2022-08-09T13:44:00.275Z"
   },
   {
    "duration": 782,
    "start_time": "2022-08-09T13:44:00.280Z"
   },
   {
    "duration": 1200,
    "start_time": "2022-08-09T13:44:01.063Z"
   },
   {
    "duration": 382,
    "start_time": "2022-08-09T13:44:02.267Z"
   },
   {
    "duration": 4,
    "start_time": "2022-08-09T13:44:02.651Z"
   },
   {
    "duration": 1902,
    "start_time": "2022-08-09T13:44:02.656Z"
   },
   {
    "duration": 374,
    "start_time": "2022-08-09T13:44:04.569Z"
   },
   {
    "duration": 835,
    "start_time": "2022-08-09T13:47:22.893Z"
   },
   {
    "duration": 808,
    "start_time": "2022-08-09T13:48:07.619Z"
   },
   {
    "duration": 839,
    "start_time": "2022-08-09T14:05:55.759Z"
   },
   {
    "duration": 855,
    "start_time": "2022-08-09T14:06:13.463Z"
   },
   {
    "duration": 759,
    "start_time": "2022-08-09T14:22:57.008Z"
   },
   {
    "duration": 2261,
    "start_time": "2022-08-09T14:23:26.777Z"
   },
   {
    "duration": 2304,
    "start_time": "2022-08-09T14:23:57.490Z"
   },
   {
    "duration": 2274,
    "start_time": "2022-08-09T14:26:51.876Z"
   },
   {
    "duration": 2294,
    "start_time": "2022-08-09T14:26:58.678Z"
   },
   {
    "duration": 2227,
    "start_time": "2022-08-09T14:27:00.974Z"
   },
   {
    "duration": 2294,
    "start_time": "2022-08-09T14:27:22.994Z"
   },
   {
    "duration": 3,
    "start_time": "2022-08-09T14:33:14.413Z"
   },
   {
    "duration": 325,
    "start_time": "2022-08-09T14:33:14.419Z"
   },
   {
    "duration": 17,
    "start_time": "2022-08-09T14:33:14.747Z"
   },
   {
    "duration": 5,
    "start_time": "2022-08-09T14:33:14.766Z"
   },
   {
    "duration": 99,
    "start_time": "2022-08-09T14:33:14.773Z"
   },
   {
    "duration": 12,
    "start_time": "2022-08-09T14:33:14.875Z"
   },
   {
    "duration": 8,
    "start_time": "2022-08-09T14:33:14.888Z"
   },
   {
    "duration": 370,
    "start_time": "2022-08-09T14:33:14.897Z"
   },
   {
    "duration": 17,
    "start_time": "2022-08-09T14:33:15.269Z"
   },
   {
    "duration": 7,
    "start_time": "2022-08-09T14:33:15.287Z"
   },
   {
    "duration": 8,
    "start_time": "2022-08-09T14:33:15.295Z"
   },
   {
    "duration": 5,
    "start_time": "2022-08-09T14:33:15.304Z"
   },
   {
    "duration": 9,
    "start_time": "2022-08-09T14:33:15.311Z"
   },
   {
    "duration": 7,
    "start_time": "2022-08-09T14:33:15.342Z"
   },
   {
    "duration": 9,
    "start_time": "2022-08-09T14:33:15.354Z"
   },
   {
    "duration": 7,
    "start_time": "2022-08-09T14:33:15.364Z"
   },
   {
    "duration": 5,
    "start_time": "2022-08-09T14:33:15.373Z"
   },
   {
    "duration": 5,
    "start_time": "2022-08-09T14:33:15.380Z"
   },
   {
    "duration": 16,
    "start_time": "2022-08-09T14:33:15.386Z"
   },
   {
    "duration": 7,
    "start_time": "2022-08-09T14:33:15.403Z"
   },
   {
    "duration": 7,
    "start_time": "2022-08-09T14:33:15.411Z"
   },
   {
    "duration": 4,
    "start_time": "2022-08-09T14:33:15.419Z"
   },
   {
    "duration": 15,
    "start_time": "2022-08-09T14:33:15.425Z"
   },
   {
    "duration": 12,
    "start_time": "2022-08-09T14:33:15.441Z"
   },
   {
    "duration": 9,
    "start_time": "2022-08-09T14:33:15.454Z"
   },
   {
    "duration": 13,
    "start_time": "2022-08-09T14:33:15.465Z"
   },
   {
    "duration": 526,
    "start_time": "2022-08-09T14:33:15.479Z"
   },
   {
    "duration": 4,
    "start_time": "2022-08-09T14:33:16.007Z"
   },
   {
    "duration": 309,
    "start_time": "2022-08-09T14:33:16.012Z"
   },
   {
    "duration": 5,
    "start_time": "2022-08-09T14:33:16.322Z"
   },
   {
    "duration": 299,
    "start_time": "2022-08-09T14:33:16.328Z"
   },
   {
    "duration": 11,
    "start_time": "2022-08-09T14:33:16.628Z"
   },
   {
    "duration": 270,
    "start_time": "2022-08-09T14:33:16.654Z"
   },
   {
    "duration": 4,
    "start_time": "2022-08-09T14:33:16.926Z"
   },
   {
    "duration": 275,
    "start_time": "2022-08-09T14:33:16.938Z"
   },
   {
    "duration": 3,
    "start_time": "2022-08-09T14:33:17.215Z"
   },
   {
    "duration": 35,
    "start_time": "2022-08-09T14:33:17.219Z"
   },
   {
    "duration": 4,
    "start_time": "2022-08-09T14:33:17.256Z"
   },
   {
    "duration": 4,
    "start_time": "2022-08-09T14:33:17.262Z"
   },
   {
    "duration": 13,
    "start_time": "2022-08-09T14:33:17.268Z"
   },
   {
    "duration": 8,
    "start_time": "2022-08-09T14:33:17.282Z"
   },
   {
    "duration": 9,
    "start_time": "2022-08-09T14:33:17.293Z"
   },
   {
    "duration": 3,
    "start_time": "2022-08-09T14:33:17.304Z"
   },
   {
    "duration": 7,
    "start_time": "2022-08-09T14:33:17.309Z"
   },
   {
    "duration": 34,
    "start_time": "2022-08-09T14:33:17.318Z"
   },
   {
    "duration": 3,
    "start_time": "2022-08-09T14:33:17.354Z"
   },
   {
    "duration": 243,
    "start_time": "2022-08-09T14:33:17.358Z"
   },
   {
    "duration": 254,
    "start_time": "2022-08-09T14:33:17.603Z"
   },
   {
    "duration": 3,
    "start_time": "2022-08-09T14:33:17.859Z"
   },
   {
    "duration": 896,
    "start_time": "2022-08-09T14:33:17.863Z"
   },
   {
    "duration": 826,
    "start_time": "2022-08-09T14:33:18.761Z"
   },
   {
    "duration": 725,
    "start_time": "2022-08-09T14:33:19.589Z"
   },
   {
    "duration": 711,
    "start_time": "2022-08-09T14:33:20.315Z"
   },
   {
    "duration": 4,
    "start_time": "2022-08-09T14:33:21.027Z"
   },
   {
    "duration": 2341,
    "start_time": "2022-08-09T14:33:21.041Z"
   },
   {
    "duration": 2294,
    "start_time": "2022-08-09T14:33:23.383Z"
   },
   {
    "duration": 365,
    "start_time": "2022-08-09T14:33:25.679Z"
   },
   {
    "duration": 495,
    "start_time": "2022-08-09T14:33:26.046Z"
   },
   {
    "duration": 14,
    "start_time": "2022-08-09T14:33:26.545Z"
   },
   {
    "duration": 1999,
    "start_time": "2022-08-09T14:33:26.560Z"
   },
   {
    "duration": 194,
    "start_time": "2022-08-09T14:33:28.561Z"
   },
   {
    "duration": 2321,
    "start_time": "2022-08-09T14:35:46.052Z"
   },
   {
    "duration": 961,
    "start_time": "2022-08-09T14:36:17.380Z"
   },
   {
    "duration": 787,
    "start_time": "2022-08-09T14:38:16.464Z"
   },
   {
    "duration": 970,
    "start_time": "2022-08-09T14:38:22.077Z"
   },
   {
    "duration": 1216,
    "start_time": "2022-08-09T14:38:23.051Z"
   },
   {
    "duration": 3,
    "start_time": "2022-08-09T14:38:29.593Z"
   },
   {
    "duration": 293,
    "start_time": "2022-08-09T14:38:29.613Z"
   },
   {
    "duration": 15,
    "start_time": "2022-08-09T14:38:29.908Z"
   },
   {
    "duration": 13,
    "start_time": "2022-08-09T14:38:29.941Z"
   },
   {
    "duration": 101,
    "start_time": "2022-08-09T14:38:29.955Z"
   },
   {
    "duration": 12,
    "start_time": "2022-08-09T14:38:30.058Z"
   },
   {
    "duration": 5,
    "start_time": "2022-08-09T14:38:30.072Z"
   },
   {
    "duration": 374,
    "start_time": "2022-08-09T14:38:30.078Z"
   },
   {
    "duration": 17,
    "start_time": "2022-08-09T14:38:30.457Z"
   },
   {
    "duration": 10,
    "start_time": "2022-08-09T14:38:30.475Z"
   },
   {
    "duration": 9,
    "start_time": "2022-08-09T14:38:30.487Z"
   },
   {
    "duration": 14,
    "start_time": "2022-08-09T14:38:30.498Z"
   },
   {
    "duration": 16,
    "start_time": "2022-08-09T14:38:30.513Z"
   },
   {
    "duration": 30,
    "start_time": "2022-08-09T14:38:30.530Z"
   },
   {
    "duration": 21,
    "start_time": "2022-08-09T14:38:30.563Z"
   },
   {
    "duration": 25,
    "start_time": "2022-08-09T14:38:30.585Z"
   },
   {
    "duration": 10,
    "start_time": "2022-08-09T14:38:30.611Z"
   },
   {
    "duration": 37,
    "start_time": "2022-08-09T14:38:30.622Z"
   },
   {
    "duration": 13,
    "start_time": "2022-08-09T14:38:30.660Z"
   },
   {
    "duration": 20,
    "start_time": "2022-08-09T14:38:30.675Z"
   },
   {
    "duration": 15,
    "start_time": "2022-08-09T14:38:30.697Z"
   },
   {
    "duration": 18,
    "start_time": "2022-08-09T14:38:30.714Z"
   },
   {
    "duration": 29,
    "start_time": "2022-08-09T14:38:30.734Z"
   },
   {
    "duration": 16,
    "start_time": "2022-08-09T14:38:30.765Z"
   },
   {
    "duration": 10,
    "start_time": "2022-08-09T14:38:30.782Z"
   },
   {
    "duration": 10,
    "start_time": "2022-08-09T14:38:30.794Z"
   },
   {
    "duration": 422,
    "start_time": "2022-08-09T14:38:30.805Z"
   },
   {
    "duration": 18,
    "start_time": "2022-08-09T14:38:31.229Z"
   },
   {
    "duration": 308,
    "start_time": "2022-08-09T14:38:31.248Z"
   },
   {
    "duration": 5,
    "start_time": "2022-08-09T14:38:31.557Z"
   },
   {
    "duration": 268,
    "start_time": "2022-08-09T14:38:31.564Z"
   },
   {
    "duration": 17,
    "start_time": "2022-08-09T14:38:31.833Z"
   },
   {
    "duration": 265,
    "start_time": "2022-08-09T14:38:31.853Z"
   },
   {
    "duration": 18,
    "start_time": "2022-08-09T14:38:32.120Z"
   },
   {
    "duration": 378,
    "start_time": "2022-08-09T14:38:32.143Z"
   },
   {
    "duration": 6,
    "start_time": "2022-08-09T14:38:32.523Z"
   },
   {
    "duration": 24,
    "start_time": "2022-08-09T14:38:32.538Z"
   },
   {
    "duration": 4,
    "start_time": "2022-08-09T14:38:32.564Z"
   },
   {
    "duration": 7,
    "start_time": "2022-08-09T14:38:32.569Z"
   },
   {
    "duration": 10,
    "start_time": "2022-08-09T14:38:32.577Z"
   },
   {
    "duration": 7,
    "start_time": "2022-08-09T14:38:32.589Z"
   },
   {
    "duration": 8,
    "start_time": "2022-08-09T14:38:32.599Z"
   },
   {
    "duration": 5,
    "start_time": "2022-08-09T14:38:32.609Z"
   },
   {
    "duration": 29,
    "start_time": "2022-08-09T14:38:32.615Z"
   },
   {
    "duration": 20,
    "start_time": "2022-08-09T14:38:32.646Z"
   },
   {
    "duration": 9,
    "start_time": "2022-08-09T14:38:32.667Z"
   },
   {
    "duration": 231,
    "start_time": "2022-08-09T14:38:32.677Z"
   },
   {
    "duration": 245,
    "start_time": "2022-08-09T14:38:32.909Z"
   },
   {
    "duration": 3,
    "start_time": "2022-08-09T14:38:33.155Z"
   },
   {
    "duration": 833,
    "start_time": "2022-08-09T14:38:33.160Z"
   },
   {
    "duration": 951,
    "start_time": "2022-08-09T14:38:33.994Z"
   },
   {
    "duration": 719,
    "start_time": "2022-08-09T14:38:34.956Z"
   },
   {
    "duration": 700,
    "start_time": "2022-08-09T14:38:35.679Z"
   },
   {
    "duration": 3,
    "start_time": "2022-08-09T14:38:36.380Z"
   },
   {
    "duration": 2356,
    "start_time": "2022-08-09T14:38:36.385Z"
   },
   {
    "duration": 2345,
    "start_time": "2022-08-09T14:38:38.750Z"
   },
   {
    "duration": 347,
    "start_time": "2022-08-09T14:38:41.096Z"
   },
   {
    "duration": 602,
    "start_time": "2022-08-09T14:38:41.445Z"
   },
   {
    "duration": 92,
    "start_time": "2022-08-09T14:38:42.051Z"
   },
   {
    "duration": 1508,
    "start_time": "2022-08-09T14:38:42.145Z"
   },
   {
    "duration": 1495,
    "start_time": "2022-08-09T14:38:43.664Z"
   },
   {
    "duration": 208,
    "start_time": "2022-08-09T14:38:45.243Z"
   },
   {
    "duration": 81,
    "start_time": "2022-08-09T14:40:10.335Z"
   },
   {
    "duration": 49,
    "start_time": "2022-08-09T18:26:07.154Z"
   },
   {
    "duration": 95,
    "start_time": "2022-08-09T18:26:26.535Z"
   },
   {
    "duration": 3,
    "start_time": "2022-08-09T18:26:43.648Z"
   },
   {
    "duration": 293,
    "start_time": "2022-08-09T18:26:43.665Z"
   },
   {
    "duration": 14,
    "start_time": "2022-08-09T18:26:43.960Z"
   },
   {
    "duration": 5,
    "start_time": "2022-08-09T18:26:43.976Z"
   },
   {
    "duration": 87,
    "start_time": "2022-08-09T18:26:43.983Z"
   },
   {
    "duration": 11,
    "start_time": "2022-08-09T18:26:44.072Z"
   },
   {
    "duration": 6,
    "start_time": "2022-08-09T18:26:44.085Z"
   },
   {
    "duration": 350,
    "start_time": "2022-08-09T18:26:44.092Z"
   },
   {
    "duration": 16,
    "start_time": "2022-08-09T18:26:44.443Z"
   },
   {
    "duration": 7,
    "start_time": "2022-08-09T18:26:44.460Z"
   },
   {
    "duration": 9,
    "start_time": "2022-08-09T18:26:44.468Z"
   },
   {
    "duration": 6,
    "start_time": "2022-08-09T18:26:44.478Z"
   },
   {
    "duration": 5,
    "start_time": "2022-08-09T18:26:44.485Z"
   },
   {
    "duration": 5,
    "start_time": "2022-08-09T18:26:44.492Z"
   },
   {
    "duration": 6,
    "start_time": "2022-08-09T18:26:44.499Z"
   },
   {
    "duration": 8,
    "start_time": "2022-08-09T18:26:44.506Z"
   },
   {
    "duration": 4,
    "start_time": "2022-08-09T18:26:44.538Z"
   },
   {
    "duration": 5,
    "start_time": "2022-08-09T18:26:44.543Z"
   },
   {
    "duration": 6,
    "start_time": "2022-08-09T18:26:44.550Z"
   },
   {
    "duration": 6,
    "start_time": "2022-08-09T18:26:44.557Z"
   },
   {
    "duration": 6,
    "start_time": "2022-08-09T18:26:44.565Z"
   },
   {
    "duration": 6,
    "start_time": "2022-08-09T18:26:44.572Z"
   },
   {
    "duration": 5,
    "start_time": "2022-08-09T18:26:44.579Z"
   },
   {
    "duration": 5,
    "start_time": "2022-08-09T18:26:44.585Z"
   },
   {
    "duration": 8,
    "start_time": "2022-08-09T18:26:44.592Z"
   },
   {
    "duration": 13,
    "start_time": "2022-08-09T18:26:44.601Z"
   },
   {
    "duration": 431,
    "start_time": "2022-08-09T18:26:44.615Z"
   },
   {
    "duration": 4,
    "start_time": "2022-08-09T18:26:45.047Z"
   },
   {
    "duration": 256,
    "start_time": "2022-08-09T18:26:45.052Z"
   },
   {
    "duration": 4,
    "start_time": "2022-08-09T18:26:45.310Z"
   },
   {
    "duration": 246,
    "start_time": "2022-08-09T18:26:45.315Z"
   },
   {
    "duration": 4,
    "start_time": "2022-08-09T18:26:45.562Z"
   },
   {
    "duration": 258,
    "start_time": "2022-08-09T18:26:45.567Z"
   },
   {
    "duration": 4,
    "start_time": "2022-08-09T18:26:45.826Z"
   },
   {
    "duration": 397,
    "start_time": "2022-08-09T18:26:45.831Z"
   },
   {
    "duration": 9,
    "start_time": "2022-08-09T18:26:46.230Z"
   },
   {
    "duration": 18,
    "start_time": "2022-08-09T18:26:46.240Z"
   },
   {
    "duration": 4,
    "start_time": "2022-08-09T18:26:46.259Z"
   },
   {
    "duration": 7,
    "start_time": "2022-08-09T18:26:46.265Z"
   },
   {
    "duration": 7,
    "start_time": "2022-08-09T18:26:46.273Z"
   },
   {
    "duration": 6,
    "start_time": "2022-08-09T18:26:46.282Z"
   },
   {
    "duration": 7,
    "start_time": "2022-08-09T18:26:46.292Z"
   },
   {
    "duration": 3,
    "start_time": "2022-08-09T18:26:46.301Z"
   },
   {
    "duration": 32,
    "start_time": "2022-08-09T18:26:46.306Z"
   },
   {
    "duration": 4,
    "start_time": "2022-08-09T18:26:46.340Z"
   },
   {
    "duration": 4,
    "start_time": "2022-08-09T18:26:46.346Z"
   },
   {
    "duration": 507,
    "start_time": "2022-08-09T18:26:46.352Z"
   },
   {
    "duration": 224,
    "start_time": "2022-08-09T18:26:46.861Z"
   },
   {
    "duration": 257,
    "start_time": "2022-08-09T18:26:47.087Z"
   },
   {
    "duration": 3,
    "start_time": "2022-08-09T18:26:47.346Z"
   },
   {
    "duration": 789,
    "start_time": "2022-08-09T18:26:47.351Z"
   },
   {
    "duration": 746,
    "start_time": "2022-08-09T18:26:48.142Z"
   },
   {
    "duration": 771,
    "start_time": "2022-08-09T18:26:48.890Z"
   },
   {
    "duration": 672,
    "start_time": "2022-08-09T18:26:49.663Z"
   },
   {
    "duration": 2,
    "start_time": "2022-08-09T18:26:50.338Z"
   },
   {
    "duration": 2210,
    "start_time": "2022-08-09T18:26:50.341Z"
   },
   {
    "duration": 2311,
    "start_time": "2022-08-09T18:26:52.552Z"
   },
   {
    "duration": 277,
    "start_time": "2022-08-09T18:26:54.865Z"
   },
   {
    "duration": 297,
    "start_time": "2022-08-09T18:26:55.144Z"
   },
   {
    "duration": 4,
    "start_time": "2022-08-09T18:26:55.443Z"
   },
   {
    "duration": 905,
    "start_time": "2022-08-09T18:26:55.448Z"
   },
   {
    "duration": 802,
    "start_time": "2022-08-09T18:26:56.439Z"
   },
   {
    "duration": 302,
    "start_time": "2022-08-09T18:26:57.242Z"
   },
   {
    "duration": 40,
    "start_time": "2022-08-09T18:27:25.272Z"
   },
   {
    "duration": 3,
    "start_time": "2022-08-09T18:27:31.799Z"
   },
   {
    "duration": 259,
    "start_time": "2022-08-09T18:27:31.816Z"
   },
   {
    "duration": 14,
    "start_time": "2022-08-09T18:27:32.077Z"
   },
   {
    "duration": 5,
    "start_time": "2022-08-09T18:27:32.093Z"
   },
   {
    "duration": 89,
    "start_time": "2022-08-09T18:27:32.100Z"
   },
   {
    "duration": 10,
    "start_time": "2022-08-09T18:27:32.191Z"
   },
   {
    "duration": 4,
    "start_time": "2022-08-09T18:27:32.203Z"
   },
   {
    "duration": 324,
    "start_time": "2022-08-09T18:27:32.208Z"
   },
   {
    "duration": 18,
    "start_time": "2022-08-09T18:27:32.533Z"
   },
   {
    "duration": 9,
    "start_time": "2022-08-09T18:27:32.552Z"
   },
   {
    "duration": 27,
    "start_time": "2022-08-09T18:27:32.562Z"
   },
   {
    "duration": 29,
    "start_time": "2022-08-09T18:27:32.590Z"
   },
   {
    "duration": 16,
    "start_time": "2022-08-09T18:27:32.620Z"
   },
   {
    "duration": 30,
    "start_time": "2022-08-09T18:27:32.637Z"
   },
   {
    "duration": 19,
    "start_time": "2022-08-09T18:27:32.670Z"
   },
   {
    "duration": 8,
    "start_time": "2022-08-09T18:27:32.690Z"
   },
   {
    "duration": 30,
    "start_time": "2022-08-09T18:27:32.700Z"
   },
   {
    "duration": 26,
    "start_time": "2022-08-09T18:27:32.731Z"
   },
   {
    "duration": 18,
    "start_time": "2022-08-09T18:27:32.759Z"
   },
   {
    "duration": 19,
    "start_time": "2022-08-09T18:27:32.779Z"
   },
   {
    "duration": 11,
    "start_time": "2022-08-09T18:27:32.799Z"
   },
   {
    "duration": 19,
    "start_time": "2022-08-09T18:27:32.811Z"
   },
   {
    "duration": 33,
    "start_time": "2022-08-09T18:27:32.831Z"
   },
   {
    "duration": 17,
    "start_time": "2022-08-09T18:27:32.865Z"
   },
   {
    "duration": 20,
    "start_time": "2022-08-09T18:27:32.884Z"
   },
   {
    "duration": 16,
    "start_time": "2022-08-09T18:27:32.906Z"
   },
   {
    "duration": 440,
    "start_time": "2022-08-09T18:27:32.923Z"
   },
   {
    "duration": 4,
    "start_time": "2022-08-09T18:27:33.365Z"
   },
   {
    "duration": 277,
    "start_time": "2022-08-09T18:27:33.370Z"
   },
   {
    "duration": 5,
    "start_time": "2022-08-09T18:27:33.650Z"
   },
   {
    "duration": 271,
    "start_time": "2022-08-09T18:27:33.656Z"
   },
   {
    "duration": 15,
    "start_time": "2022-08-09T18:27:33.928Z"
   },
   {
    "duration": 410,
    "start_time": "2022-08-09T18:27:33.944Z"
   },
   {
    "duration": 5,
    "start_time": "2022-08-09T18:27:34.356Z"
   },
   {
    "duration": 279,
    "start_time": "2022-08-09T18:27:34.363Z"
   },
   {
    "duration": 9,
    "start_time": "2022-08-09T18:27:34.644Z"
   },
   {
    "duration": 26,
    "start_time": "2022-08-09T18:27:34.655Z"
   },
   {
    "duration": 4,
    "start_time": "2022-08-09T18:27:34.682Z"
   },
   {
    "duration": 5,
    "start_time": "2022-08-09T18:27:34.687Z"
   },
   {
    "duration": 7,
    "start_time": "2022-08-09T18:27:34.694Z"
   },
   {
    "duration": 9,
    "start_time": "2022-08-09T18:27:34.702Z"
   },
   {
    "duration": 7,
    "start_time": "2022-08-09T18:27:34.715Z"
   },
   {
    "duration": 4,
    "start_time": "2022-08-09T18:27:34.723Z"
   },
   {
    "duration": 24,
    "start_time": "2022-08-09T18:27:34.728Z"
   },
   {
    "duration": 9,
    "start_time": "2022-08-09T18:27:34.753Z"
   },
   {
    "duration": 7,
    "start_time": "2022-08-09T18:27:34.763Z"
   },
   {
    "duration": 2418,
    "start_time": "2022-08-09T18:27:34.771Z"
   },
   {
    "duration": 235,
    "start_time": "2022-08-09T18:27:37.190Z"
   },
   {
    "duration": 245,
    "start_time": "2022-08-09T18:27:37.427Z"
   },
   {
    "duration": 3,
    "start_time": "2022-08-09T18:27:37.674Z"
   },
   {
    "duration": 773,
    "start_time": "2022-08-09T18:27:37.678Z"
   },
   {
    "duration": 803,
    "start_time": "2022-08-09T18:27:38.452Z"
   },
   {
    "duration": 693,
    "start_time": "2022-08-09T18:27:39.257Z"
   },
   {
    "duration": 679,
    "start_time": "2022-08-09T18:27:39.951Z"
   },
   {
    "duration": 10,
    "start_time": "2022-08-09T18:27:40.632Z"
   },
   {
    "duration": 2370,
    "start_time": "2022-08-09T18:27:40.647Z"
   },
   {
    "duration": 2234,
    "start_time": "2022-08-09T18:27:43.019Z"
   },
   {
    "duration": 97,
    "start_time": "2022-08-09T18:27:45.254Z"
   },
   {
    "duration": 288,
    "start_time": "2022-08-09T18:27:45.352Z"
   },
   {
    "duration": 114,
    "start_time": "2022-08-09T18:27:45.644Z"
   },
   {
    "duration": 987,
    "start_time": "2022-08-09T18:27:45.759Z"
   },
   {
    "duration": 991,
    "start_time": "2022-08-09T18:27:46.748Z"
   },
   {
    "duration": 402,
    "start_time": "2022-08-09T18:27:47.744Z"
   },
   {
    "duration": 43,
    "start_time": "2022-08-09T18:32:27.232Z"
   },
   {
    "duration": 3,
    "start_time": "2022-08-09T18:32:32.327Z"
   },
   {
    "duration": 294,
    "start_time": "2022-08-09T18:32:32.349Z"
   },
   {
    "duration": 15,
    "start_time": "2022-08-09T18:32:32.645Z"
   },
   {
    "duration": 5,
    "start_time": "2022-08-09T18:32:32.662Z"
   },
   {
    "duration": 87,
    "start_time": "2022-08-09T18:32:32.668Z"
   },
   {
    "duration": 12,
    "start_time": "2022-08-09T18:32:32.757Z"
   },
   {
    "duration": 4,
    "start_time": "2022-08-09T18:32:32.771Z"
   },
   {
    "duration": 357,
    "start_time": "2022-08-09T18:32:32.777Z"
   },
   {
    "duration": 23,
    "start_time": "2022-08-09T18:32:33.135Z"
   },
   {
    "duration": 18,
    "start_time": "2022-08-09T18:32:33.159Z"
   },
   {
    "duration": 7,
    "start_time": "2022-08-09T18:32:33.179Z"
   },
   {
    "duration": 17,
    "start_time": "2022-08-09T18:32:33.188Z"
   },
   {
    "duration": 8,
    "start_time": "2022-08-09T18:32:33.206Z"
   },
   {
    "duration": 7,
    "start_time": "2022-08-09T18:32:33.215Z"
   },
   {
    "duration": 7,
    "start_time": "2022-08-09T18:32:33.224Z"
   },
   {
    "duration": 20,
    "start_time": "2022-08-09T18:32:33.233Z"
   },
   {
    "duration": 7,
    "start_time": "2022-08-09T18:32:33.254Z"
   },
   {
    "duration": 13,
    "start_time": "2022-08-09T18:32:33.262Z"
   },
   {
    "duration": 9,
    "start_time": "2022-08-09T18:32:33.277Z"
   },
   {
    "duration": 8,
    "start_time": "2022-08-09T18:32:33.287Z"
   },
   {
    "duration": 6,
    "start_time": "2022-08-09T18:32:33.296Z"
   },
   {
    "duration": 5,
    "start_time": "2022-08-09T18:32:33.304Z"
   },
   {
    "duration": 9,
    "start_time": "2022-08-09T18:32:33.310Z"
   },
   {
    "duration": 6,
    "start_time": "2022-08-09T18:32:33.320Z"
   },
   {
    "duration": 7,
    "start_time": "2022-08-09T18:32:33.327Z"
   },
   {
    "duration": 17,
    "start_time": "2022-08-09T18:32:33.335Z"
   },
   {
    "duration": 402,
    "start_time": "2022-08-09T18:32:33.353Z"
   },
   {
    "duration": 4,
    "start_time": "2022-08-09T18:32:33.757Z"
   },
   {
    "duration": 263,
    "start_time": "2022-08-09T18:32:33.762Z"
   },
   {
    "duration": 5,
    "start_time": "2022-08-09T18:32:34.026Z"
   },
   {
    "duration": 289,
    "start_time": "2022-08-09T18:32:34.050Z"
   },
   {
    "duration": 6,
    "start_time": "2022-08-09T18:32:34.349Z"
   },
   {
    "duration": 408,
    "start_time": "2022-08-09T18:32:34.357Z"
   },
   {
    "duration": 4,
    "start_time": "2022-08-09T18:32:34.766Z"
   },
   {
    "duration": 288,
    "start_time": "2022-08-09T18:32:34.772Z"
   },
   {
    "duration": 3,
    "start_time": "2022-08-09T18:32:35.062Z"
   },
   {
    "duration": 38,
    "start_time": "2022-08-09T18:32:35.066Z"
   },
   {
    "duration": 3,
    "start_time": "2022-08-09T18:32:35.105Z"
   },
   {
    "duration": 9,
    "start_time": "2022-08-09T18:32:35.110Z"
   },
   {
    "duration": 16,
    "start_time": "2022-08-09T18:32:35.120Z"
   },
   {
    "duration": 19,
    "start_time": "2022-08-09T18:32:35.143Z"
   },
   {
    "duration": 12,
    "start_time": "2022-08-09T18:32:35.166Z"
   },
   {
    "duration": 4,
    "start_time": "2022-08-09T18:32:35.179Z"
   },
   {
    "duration": 8,
    "start_time": "2022-08-09T18:32:35.184Z"
   },
   {
    "duration": 5,
    "start_time": "2022-08-09T18:32:35.193Z"
   },
   {
    "duration": 7,
    "start_time": "2022-08-09T18:32:35.199Z"
   },
   {
    "duration": 29389,
    "start_time": "2022-08-09T18:32:35.207Z"
   },
   {
    "duration": 237,
    "start_time": "2022-08-09T18:33:04.598Z"
   },
   {
    "duration": 240,
    "start_time": "2022-08-09T18:33:04.836Z"
   },
   {
    "duration": 3,
    "start_time": "2022-08-09T18:33:05.078Z"
   },
   {
    "duration": 791,
    "start_time": "2022-08-09T18:33:05.082Z"
   },
   {
    "duration": 801,
    "start_time": "2022-08-09T18:33:05.875Z"
   },
   {
    "duration": 719,
    "start_time": "2022-08-09T18:33:06.677Z"
   },
   {
    "duration": 752,
    "start_time": "2022-08-09T18:33:07.397Z"
   },
   {
    "duration": 3,
    "start_time": "2022-08-09T18:33:08.151Z"
   },
   {
    "duration": 2424,
    "start_time": "2022-08-09T18:33:08.156Z"
   },
   {
    "duration": 2312,
    "start_time": "2022-08-09T18:33:10.582Z"
   },
   {
    "duration": 246,
    "start_time": "2022-08-09T18:33:12.896Z"
   },
   {
    "duration": 295,
    "start_time": "2022-08-09T18:33:13.150Z"
   },
   {
    "duration": 6,
    "start_time": "2022-08-09T18:33:13.449Z"
   },
   {
    "duration": 1186,
    "start_time": "2022-08-09T18:33:13.459Z"
   },
   {
    "duration": 992,
    "start_time": "2022-08-09T18:33:14.650Z"
   },
   {
    "duration": 403,
    "start_time": "2022-08-09T18:33:15.646Z"
   },
   {
    "duration": 40,
    "start_time": "2022-08-09T18:34:27.549Z"
   },
   {
    "duration": 4,
    "start_time": "2022-08-09T18:34:31.013Z"
   },
   {
    "duration": 337,
    "start_time": "2022-08-09T18:34:31.031Z"
   },
   {
    "duration": 15,
    "start_time": "2022-08-09T18:34:31.369Z"
   },
   {
    "duration": 8,
    "start_time": "2022-08-09T18:34:31.386Z"
   },
   {
    "duration": 132,
    "start_time": "2022-08-09T18:34:31.395Z"
   },
   {
    "duration": 19,
    "start_time": "2022-08-09T18:34:31.529Z"
   },
   {
    "duration": 711,
    "start_time": "2022-08-09T18:34:31.550Z"
   },
   {
    "duration": 428,
    "start_time": "2022-08-09T18:34:32.263Z"
   },
   {
    "duration": 18,
    "start_time": "2022-08-09T18:34:32.692Z"
   },
   {
    "duration": 9,
    "start_time": "2022-08-09T18:34:32.711Z"
   },
   {
    "duration": 57,
    "start_time": "2022-08-09T18:34:32.721Z"
   },
   {
    "duration": 44,
    "start_time": "2022-08-09T18:34:32.780Z"
   },
   {
    "duration": 37,
    "start_time": "2022-08-09T18:34:32.825Z"
   },
   {
    "duration": 23,
    "start_time": "2022-08-09T18:34:32.864Z"
   },
   {
    "duration": 41,
    "start_time": "2022-08-09T18:34:32.890Z"
   },
   {
    "duration": 27,
    "start_time": "2022-08-09T18:34:32.933Z"
   },
   {
    "duration": 24,
    "start_time": "2022-08-09T18:34:32.961Z"
   },
   {
    "duration": 24,
    "start_time": "2022-08-09T18:34:32.987Z"
   },
   {
    "duration": 23,
    "start_time": "2022-08-09T18:34:33.013Z"
   },
   {
    "duration": 27,
    "start_time": "2022-08-09T18:34:33.047Z"
   },
   {
    "duration": 18,
    "start_time": "2022-08-09T18:34:33.076Z"
   },
   {
    "duration": 18,
    "start_time": "2022-08-09T18:34:33.095Z"
   },
   {
    "duration": 25,
    "start_time": "2022-08-09T18:34:33.114Z"
   },
   {
    "duration": 16,
    "start_time": "2022-08-09T18:34:33.148Z"
   },
   {
    "duration": 30,
    "start_time": "2022-08-09T18:34:33.165Z"
   },
   {
    "duration": 29,
    "start_time": "2022-08-09T18:34:33.196Z"
   },
   {
    "duration": 441,
    "start_time": "2022-08-09T18:34:33.226Z"
   },
   {
    "duration": 5,
    "start_time": "2022-08-09T18:34:33.668Z"
   },
   {
    "duration": 299,
    "start_time": "2022-08-09T18:34:33.674Z"
   },
   {
    "duration": 5,
    "start_time": "2022-08-09T18:34:33.974Z"
   },
   {
    "duration": 300,
    "start_time": "2022-08-09T18:34:33.980Z"
   },
   {
    "duration": 5,
    "start_time": "2022-08-09T18:34:34.281Z"
   },
   {
    "duration": 293,
    "start_time": "2022-08-09T18:34:34.288Z"
   },
   {
    "duration": 4,
    "start_time": "2022-08-09T18:34:34.582Z"
   },
   {
    "duration": 580,
    "start_time": "2022-08-09T18:34:34.587Z"
   },
   {
    "duration": 3,
    "start_time": "2022-08-09T18:34:35.169Z"
   },
   {
    "duration": 23,
    "start_time": "2022-08-09T18:34:35.174Z"
   },
   {
    "duration": 4,
    "start_time": "2022-08-09T18:34:35.198Z"
   },
   {
    "duration": 5,
    "start_time": "2022-08-09T18:34:35.204Z"
   },
   {
    "duration": 39,
    "start_time": "2022-08-09T18:34:35.210Z"
   },
   {
    "duration": 11,
    "start_time": "2022-08-09T18:34:35.251Z"
   },
   {
    "duration": 11,
    "start_time": "2022-08-09T18:34:35.265Z"
   },
   {
    "duration": 4,
    "start_time": "2022-08-09T18:34:35.278Z"
   },
   {
    "duration": 8,
    "start_time": "2022-08-09T18:34:35.284Z"
   },
   {
    "duration": 4,
    "start_time": "2022-08-09T18:34:35.294Z"
   },
   {
    "duration": 6,
    "start_time": "2022-08-09T18:34:35.300Z"
   },
   {
    "duration": 8250,
    "start_time": "2022-08-09T18:34:35.307Z"
   },
   {
    "duration": 244,
    "start_time": "2022-08-09T18:34:43.558Z"
   },
   {
    "duration": 247,
    "start_time": "2022-08-09T18:34:43.804Z"
   },
   {
    "duration": 3,
    "start_time": "2022-08-09T18:34:44.053Z"
   },
   {
    "duration": 797,
    "start_time": "2022-08-09T18:34:44.057Z"
   },
   {
    "duration": 772,
    "start_time": "2022-08-09T18:34:44.856Z"
   },
   {
    "duration": 722,
    "start_time": "2022-08-09T18:34:45.630Z"
   },
   {
    "duration": 675,
    "start_time": "2022-08-09T18:34:46.354Z"
   },
   {
    "duration": 10,
    "start_time": "2022-08-09T18:34:47.030Z"
   },
   {
    "duration": 2321,
    "start_time": "2022-08-09T18:34:47.041Z"
   },
   {
    "duration": 2251,
    "start_time": "2022-08-09T18:34:49.364Z"
   },
   {
    "duration": 529,
    "start_time": "2022-08-09T18:34:51.617Z"
   },
   {
    "duration": 306,
    "start_time": "2022-08-09T18:34:52.149Z"
   },
   {
    "duration": 12,
    "start_time": "2022-08-09T18:34:52.549Z"
   },
   {
    "duration": 884,
    "start_time": "2022-08-09T18:34:52.564Z"
   },
   {
    "duration": 1292,
    "start_time": "2022-08-09T18:34:53.455Z"
   },
   {
    "duration": 299,
    "start_time": "2022-08-09T18:34:54.753Z"
   },
   {
    "duration": 7888,
    "start_time": "2022-08-09T18:37:53.515Z"
   },
   {
    "duration": 4,
    "start_time": "2022-08-09T18:38:28.248Z"
   },
   {
    "duration": 311,
    "start_time": "2022-08-09T18:38:28.267Z"
   },
   {
    "duration": 16,
    "start_time": "2022-08-09T18:38:28.580Z"
   },
   {
    "duration": 7,
    "start_time": "2022-08-09T18:38:28.598Z"
   },
   {
    "duration": 89,
    "start_time": "2022-08-09T18:38:28.606Z"
   },
   {
    "duration": 11,
    "start_time": "2022-08-09T18:38:28.697Z"
   },
   {
    "duration": 4,
    "start_time": "2022-08-09T18:38:28.709Z"
   },
   {
    "duration": 362,
    "start_time": "2022-08-09T18:38:28.714Z"
   },
   {
    "duration": 17,
    "start_time": "2022-08-09T18:38:29.077Z"
   },
   {
    "duration": 7,
    "start_time": "2022-08-09T18:38:29.096Z"
   },
   {
    "duration": 19,
    "start_time": "2022-08-09T18:38:29.105Z"
   },
   {
    "duration": 17,
    "start_time": "2022-08-09T18:38:29.125Z"
   },
   {
    "duration": 25,
    "start_time": "2022-08-09T18:38:29.143Z"
   },
   {
    "duration": 25,
    "start_time": "2022-08-09T18:38:29.170Z"
   },
   {
    "duration": 4,
    "start_time": "2022-08-09T18:38:29.198Z"
   },
   {
    "duration": 9,
    "start_time": "2022-08-09T18:38:29.204Z"
   },
   {
    "duration": 9,
    "start_time": "2022-08-09T18:38:29.214Z"
   },
   {
    "duration": 6,
    "start_time": "2022-08-09T18:38:29.224Z"
   },
   {
    "duration": 5,
    "start_time": "2022-08-09T18:38:29.231Z"
   },
   {
    "duration": 18,
    "start_time": "2022-08-09T18:38:29.238Z"
   },
   {
    "duration": 7,
    "start_time": "2022-08-09T18:38:29.257Z"
   },
   {
    "duration": 6,
    "start_time": "2022-08-09T18:38:29.265Z"
   },
   {
    "duration": 7,
    "start_time": "2022-08-09T18:38:29.272Z"
   },
   {
    "duration": 6,
    "start_time": "2022-08-09T18:38:29.280Z"
   },
   {
    "duration": 7,
    "start_time": "2022-08-09T18:38:29.287Z"
   },
   {
    "duration": 6,
    "start_time": "2022-08-09T18:38:29.295Z"
   },
   {
    "duration": 422,
    "start_time": "2022-08-09T18:38:29.303Z"
   },
   {
    "duration": 4,
    "start_time": "2022-08-09T18:38:29.726Z"
   },
   {
    "duration": 256,
    "start_time": "2022-08-09T18:38:29.737Z"
   },
   {
    "duration": 5,
    "start_time": "2022-08-09T18:38:29.994Z"
   },
   {
    "duration": 273,
    "start_time": "2022-08-09T18:38:30.000Z"
   },
   {
    "duration": 4,
    "start_time": "2022-08-09T18:38:30.274Z"
   },
   {
    "duration": 313,
    "start_time": "2022-08-09T18:38:30.279Z"
   },
   {
    "duration": 5,
    "start_time": "2022-08-09T18:38:30.593Z"
   },
   {
    "duration": 452,
    "start_time": "2022-08-09T18:38:30.599Z"
   },
   {
    "duration": 8,
    "start_time": "2022-08-09T18:38:31.053Z"
   },
   {
    "duration": 38,
    "start_time": "2022-08-09T18:38:31.063Z"
   },
   {
    "duration": 4,
    "start_time": "2022-08-09T18:38:31.103Z"
   },
   {
    "duration": 12,
    "start_time": "2022-08-09T18:38:31.108Z"
   },
   {
    "duration": 24,
    "start_time": "2022-08-09T18:38:31.121Z"
   },
   {
    "duration": 21,
    "start_time": "2022-08-09T18:38:31.146Z"
   },
   {
    "duration": 12,
    "start_time": "2022-08-09T18:38:31.170Z"
   },
   {
    "duration": 22,
    "start_time": "2022-08-09T18:38:31.183Z"
   },
   {
    "duration": 22,
    "start_time": "2022-08-09T18:38:31.206Z"
   },
   {
    "duration": 24,
    "start_time": "2022-08-09T18:38:31.229Z"
   },
   {
    "duration": 28,
    "start_time": "2022-08-09T18:38:31.254Z"
   },
   {
    "duration": 8329,
    "start_time": "2022-08-09T18:38:31.283Z"
   },
   {
    "duration": 8038,
    "start_time": "2022-08-09T18:38:39.614Z"
   },
   {
    "duration": 3,
    "start_time": "2022-08-09T18:38:47.657Z"
   },
   {
    "duration": 771,
    "start_time": "2022-08-09T18:38:47.661Z"
   },
   {
    "duration": 795,
    "start_time": "2022-08-09T18:38:48.433Z"
   },
   {
    "duration": 729,
    "start_time": "2022-08-09T18:38:49.230Z"
   },
   {
    "duration": 682,
    "start_time": "2022-08-09T18:38:49.961Z"
   },
   {
    "duration": 3,
    "start_time": "2022-08-09T18:38:50.653Z"
   },
   {
    "duration": 2284,
    "start_time": "2022-08-09T18:38:50.658Z"
   },
   {
    "duration": 2260,
    "start_time": "2022-08-09T18:38:52.949Z"
   },
   {
    "duration": 432,
    "start_time": "2022-08-09T18:38:55.211Z"
   },
   {
    "duration": 497,
    "start_time": "2022-08-09T18:38:55.646Z"
   },
   {
    "duration": 9,
    "start_time": "2022-08-09T18:38:56.150Z"
   },
   {
    "duration": 1386,
    "start_time": "2022-08-09T18:38:56.161Z"
   },
   {
    "duration": 1098,
    "start_time": "2022-08-09T18:38:57.549Z"
   },
   {
    "duration": 296,
    "start_time": "2022-08-09T18:38:58.656Z"
   },
   {
    "duration": 3,
    "start_time": "2022-08-09T18:39:22.257Z"
   },
   {
    "duration": 39,
    "start_time": "2022-08-09T18:40:59.750Z"
   },
   {
    "duration": 3,
    "start_time": "2022-08-09T18:41:03.721Z"
   },
   {
    "duration": 269,
    "start_time": "2022-08-09T18:41:03.750Z"
   },
   {
    "duration": 30,
    "start_time": "2022-08-09T18:41:04.021Z"
   },
   {
    "duration": 6,
    "start_time": "2022-08-09T18:41:04.053Z"
   },
   {
    "duration": 93,
    "start_time": "2022-08-09T18:41:04.060Z"
   },
   {
    "duration": 11,
    "start_time": "2022-08-09T18:41:04.155Z"
   },
   {
    "duration": 9,
    "start_time": "2022-08-09T18:41:04.168Z"
   },
   {
    "duration": 352,
    "start_time": "2022-08-09T18:41:04.178Z"
   },
   {
    "duration": 21,
    "start_time": "2022-08-09T18:41:04.531Z"
   },
   {
    "duration": 7,
    "start_time": "2022-08-09T18:41:04.554Z"
   },
   {
    "duration": 9,
    "start_time": "2022-08-09T18:41:04.562Z"
   },
   {
    "duration": 8,
    "start_time": "2022-08-09T18:41:04.573Z"
   },
   {
    "duration": 7,
    "start_time": "2022-08-09T18:41:04.582Z"
   },
   {
    "duration": 8,
    "start_time": "2022-08-09T18:41:04.590Z"
   },
   {
    "duration": 7,
    "start_time": "2022-08-09T18:41:04.600Z"
   },
   {
    "duration": 5,
    "start_time": "2022-08-09T18:41:04.608Z"
   },
   {
    "duration": 7,
    "start_time": "2022-08-09T18:41:04.614Z"
   },
   {
    "duration": 25,
    "start_time": "2022-08-09T18:41:04.622Z"
   },
   {
    "duration": 3,
    "start_time": "2022-08-09T18:41:04.649Z"
   },
   {
    "duration": 8,
    "start_time": "2022-08-09T18:41:04.654Z"
   },
   {
    "duration": 8,
    "start_time": "2022-08-09T18:41:04.663Z"
   },
   {
    "duration": 6,
    "start_time": "2022-08-09T18:41:04.673Z"
   },
   {
    "duration": 6,
    "start_time": "2022-08-09T18:41:04.680Z"
   },
   {
    "duration": 6,
    "start_time": "2022-08-09T18:41:04.688Z"
   },
   {
    "duration": 8,
    "start_time": "2022-08-09T18:41:04.695Z"
   },
   {
    "duration": 5,
    "start_time": "2022-08-09T18:41:04.704Z"
   },
   {
    "duration": 481,
    "start_time": "2022-08-09T18:41:04.710Z"
   },
   {
    "duration": 4,
    "start_time": "2022-08-09T18:41:05.193Z"
   },
   {
    "duration": 319,
    "start_time": "2022-08-09T18:41:05.199Z"
   },
   {
    "duration": 5,
    "start_time": "2022-08-09T18:41:05.519Z"
   },
   {
    "duration": 332,
    "start_time": "2022-08-09T18:41:05.525Z"
   },
   {
    "duration": 4,
    "start_time": "2022-08-09T18:41:05.859Z"
   },
   {
    "duration": 299,
    "start_time": "2022-08-09T18:41:05.865Z"
   },
   {
    "duration": 5,
    "start_time": "2022-08-09T18:41:06.166Z"
   },
   {
    "duration": 289,
    "start_time": "2022-08-09T18:41:06.173Z"
   },
   {
    "duration": 4,
    "start_time": "2022-08-09T18:41:06.463Z"
   },
   {
    "duration": 38,
    "start_time": "2022-08-09T18:41:06.468Z"
   },
   {
    "duration": 4,
    "start_time": "2022-08-09T18:41:06.507Z"
   },
   {
    "duration": 5,
    "start_time": "2022-08-09T18:41:06.512Z"
   },
   {
    "duration": 26,
    "start_time": "2022-08-09T18:41:06.518Z"
   },
   {
    "duration": 15,
    "start_time": "2022-08-09T18:41:06.547Z"
   },
   {
    "duration": 7,
    "start_time": "2022-08-09T18:41:06.566Z"
   },
   {
    "duration": 3,
    "start_time": "2022-08-09T18:41:06.575Z"
   },
   {
    "duration": 10,
    "start_time": "2022-08-09T18:41:06.579Z"
   },
   {
    "duration": 4,
    "start_time": "2022-08-09T18:41:06.590Z"
   },
   {
    "duration": 7,
    "start_time": "2022-08-09T18:41:06.595Z"
   },
   {
    "duration": 8050,
    "start_time": "2022-08-09T18:41:06.603Z"
   },
   {
    "duration": 7768,
    "start_time": "2022-08-09T18:41:14.655Z"
   },
   {
    "duration": 3,
    "start_time": "2022-08-09T18:41:22.425Z"
   },
   {
    "duration": 761,
    "start_time": "2022-08-09T18:41:22.429Z"
   },
   {
    "duration": 759,
    "start_time": "2022-08-09T18:41:23.192Z"
   },
   {
    "duration": 709,
    "start_time": "2022-08-09T18:41:23.953Z"
   },
   {
    "duration": 676,
    "start_time": "2022-08-09T18:41:24.663Z"
   },
   {
    "duration": 3,
    "start_time": "2022-08-09T18:41:25.349Z"
   },
   {
    "duration": 2266,
    "start_time": "2022-08-09T18:41:25.353Z"
   },
   {
    "duration": 2255,
    "start_time": "2022-08-09T18:41:27.621Z"
   },
   {
    "duration": 167,
    "start_time": "2022-08-09T18:41:29.877Z"
   },
   {
    "duration": 292,
    "start_time": "2022-08-09T18:41:30.047Z"
   },
   {
    "duration": 6,
    "start_time": "2022-08-09T18:41:30.341Z"
   },
   {
    "duration": 807,
    "start_time": "2022-08-09T18:41:30.349Z"
   },
   {
    "duration": 991,
    "start_time": "2022-08-09T18:41:31.160Z"
   },
   {
    "duration": 284,
    "start_time": "2022-08-09T18:41:32.158Z"
   },
   {
    "duration": 9,
    "start_time": "2022-08-09T18:42:40.319Z"
   },
   {
    "duration": 4,
    "start_time": "2022-08-09T18:42:48.253Z"
   },
   {
    "duration": 282,
    "start_time": "2022-08-09T18:42:48.271Z"
   },
   {
    "duration": 15,
    "start_time": "2022-08-09T18:42:48.555Z"
   },
   {
    "duration": 5,
    "start_time": "2022-08-09T18:42:48.571Z"
   },
   {
    "duration": 86,
    "start_time": "2022-08-09T18:42:48.578Z"
   },
   {
    "duration": 11,
    "start_time": "2022-08-09T18:42:48.666Z"
   },
   {
    "duration": 5,
    "start_time": "2022-08-09T18:42:48.678Z"
   },
   {
    "duration": 383,
    "start_time": "2022-08-09T18:42:48.684Z"
   },
   {
    "duration": 17,
    "start_time": "2022-08-09T18:42:49.070Z"
   },
   {
    "duration": 8,
    "start_time": "2022-08-09T18:42:49.089Z"
   },
   {
    "duration": 11,
    "start_time": "2022-08-09T18:42:49.099Z"
   },
   {
    "duration": 10,
    "start_time": "2022-08-09T18:42:49.111Z"
   },
   {
    "duration": 22,
    "start_time": "2022-08-09T18:42:49.122Z"
   },
   {
    "duration": 19,
    "start_time": "2022-08-09T18:42:49.145Z"
   },
   {
    "duration": 15,
    "start_time": "2022-08-09T18:42:49.167Z"
   },
   {
    "duration": 6,
    "start_time": "2022-08-09T18:42:49.184Z"
   },
   {
    "duration": 8,
    "start_time": "2022-08-09T18:42:49.191Z"
   },
   {
    "duration": 6,
    "start_time": "2022-08-09T18:42:49.200Z"
   },
   {
    "duration": 6,
    "start_time": "2022-08-09T18:42:49.207Z"
   },
   {
    "duration": 4,
    "start_time": "2022-08-09T18:42:49.215Z"
   },
   {
    "duration": 5,
    "start_time": "2022-08-09T18:42:49.221Z"
   },
   {
    "duration": 23,
    "start_time": "2022-08-09T18:42:49.227Z"
   },
   {
    "duration": 5,
    "start_time": "2022-08-09T18:42:49.251Z"
   },
   {
    "duration": 5,
    "start_time": "2022-08-09T18:42:49.257Z"
   },
   {
    "duration": 5,
    "start_time": "2022-08-09T18:42:49.264Z"
   },
   {
    "duration": 10,
    "start_time": "2022-08-09T18:42:49.270Z"
   },
   {
    "duration": 572,
    "start_time": "2022-08-09T18:42:49.282Z"
   },
   {
    "duration": 3,
    "start_time": "2022-08-09T18:42:49.856Z"
   },
   {
    "duration": 256,
    "start_time": "2022-08-09T18:42:49.861Z"
   },
   {
    "duration": 4,
    "start_time": "2022-08-09T18:42:50.119Z"
   },
   {
    "duration": 257,
    "start_time": "2022-08-09T18:42:50.124Z"
   },
   {
    "duration": 4,
    "start_time": "2022-08-09T18:42:50.382Z"
   },
   {
    "duration": 267,
    "start_time": "2022-08-09T18:42:50.388Z"
   },
   {
    "duration": 5,
    "start_time": "2022-08-09T18:42:50.656Z"
   },
   {
    "duration": 259,
    "start_time": "2022-08-09T18:42:50.662Z"
   },
   {
    "duration": 4,
    "start_time": "2022-08-09T18:42:50.922Z"
   },
   {
    "duration": 40,
    "start_time": "2022-08-09T18:42:50.927Z"
   },
   {
    "duration": 4,
    "start_time": "2022-08-09T18:42:50.968Z"
   },
   {
    "duration": 6,
    "start_time": "2022-08-09T18:42:50.974Z"
   },
   {
    "duration": 8,
    "start_time": "2022-08-09T18:42:50.982Z"
   },
   {
    "duration": 11,
    "start_time": "2022-08-09T18:42:50.991Z"
   },
   {
    "duration": 9,
    "start_time": "2022-08-09T18:42:51.006Z"
   },
   {
    "duration": 3,
    "start_time": "2022-08-09T18:42:51.017Z"
   },
   {
    "duration": 6,
    "start_time": "2022-08-09T18:42:51.021Z"
   },
   {
    "duration": 10,
    "start_time": "2022-08-09T18:42:51.028Z"
   },
   {
    "duration": 9,
    "start_time": "2022-08-09T18:42:51.042Z"
   },
   {
    "duration": 7842,
    "start_time": "2022-08-09T18:42:51.053Z"
   },
   {
    "duration": 7890,
    "start_time": "2022-08-09T18:42:58.898Z"
   },
   {
    "duration": 3,
    "start_time": "2022-08-09T18:43:06.790Z"
   },
   {
    "duration": 805,
    "start_time": "2022-08-09T18:43:06.794Z"
   },
   {
    "duration": 772,
    "start_time": "2022-08-09T18:43:07.601Z"
   },
   {
    "duration": 741,
    "start_time": "2022-08-09T18:43:08.374Z"
   },
   {
    "duration": 696,
    "start_time": "2022-08-09T18:43:09.117Z"
   },
   {
    "duration": 4,
    "start_time": "2022-08-09T18:43:09.814Z"
   },
   {
    "duration": 2298,
    "start_time": "2022-08-09T18:43:09.819Z"
   },
   {
    "duration": 2234,
    "start_time": "2022-08-09T18:43:12.119Z"
   },
   {
    "duration": 195,
    "start_time": "2022-08-09T18:43:14.354Z"
   },
   {
    "duration": 292,
    "start_time": "2022-08-09T18:43:14.551Z"
   },
   {
    "duration": 9,
    "start_time": "2022-08-09T18:43:14.848Z"
   },
   {
    "duration": 1084,
    "start_time": "2022-08-09T18:43:14.860Z"
   },
   {
    "duration": 908,
    "start_time": "2022-08-09T18:43:15.945Z"
   },
   {
    "duration": 397,
    "start_time": "2022-08-09T18:43:16.855Z"
   },
   {
    "duration": 3,
    "start_time": "2022-08-09T19:13:22.260Z"
   },
   {
    "duration": 310,
    "start_time": "2022-08-09T19:13:22.275Z"
   },
   {
    "duration": 14,
    "start_time": "2022-08-09T19:13:22.587Z"
   },
   {
    "duration": 5,
    "start_time": "2022-08-09T19:13:22.603Z"
   },
   {
    "duration": 101,
    "start_time": "2022-08-09T19:13:22.609Z"
   },
   {
    "duration": 12,
    "start_time": "2022-08-09T19:13:22.712Z"
   },
   {
    "duration": 15,
    "start_time": "2022-08-09T19:13:22.725Z"
   },
   {
    "duration": 374,
    "start_time": "2022-08-09T19:13:22.742Z"
   },
   {
    "duration": 26,
    "start_time": "2022-08-09T19:13:23.117Z"
   },
   {
    "duration": 10,
    "start_time": "2022-08-09T19:13:23.144Z"
   },
   {
    "duration": 8,
    "start_time": "2022-08-09T19:13:23.155Z"
   },
   {
    "duration": 8,
    "start_time": "2022-08-09T19:13:23.164Z"
   },
   {
    "duration": 4,
    "start_time": "2022-08-09T19:13:23.174Z"
   },
   {
    "duration": 5,
    "start_time": "2022-08-09T19:13:23.180Z"
   },
   {
    "duration": 4,
    "start_time": "2022-08-09T19:13:23.188Z"
   },
   {
    "duration": 6,
    "start_time": "2022-08-09T19:13:23.194Z"
   },
   {
    "duration": 10,
    "start_time": "2022-08-09T19:13:23.202Z"
   },
   {
    "duration": 30,
    "start_time": "2022-08-09T19:13:23.213Z"
   },
   {
    "duration": 4,
    "start_time": "2022-08-09T19:13:23.245Z"
   },
   {
    "duration": 16,
    "start_time": "2022-08-09T19:13:23.253Z"
   },
   {
    "duration": 6,
    "start_time": "2022-08-09T19:13:23.270Z"
   },
   {
    "duration": 7,
    "start_time": "2022-08-09T19:13:23.278Z"
   },
   {
    "duration": 8,
    "start_time": "2022-08-09T19:13:23.286Z"
   },
   {
    "duration": 7,
    "start_time": "2022-08-09T19:13:23.296Z"
   },
   {
    "duration": 5,
    "start_time": "2022-08-09T19:13:23.304Z"
   },
   {
    "duration": 6,
    "start_time": "2022-08-09T19:13:23.310Z"
   },
   {
    "duration": 612,
    "start_time": "2022-08-09T19:13:23.318Z"
   },
   {
    "duration": 8,
    "start_time": "2022-08-09T19:13:23.932Z"
   },
   {
    "duration": 280,
    "start_time": "2022-08-09T19:13:23.941Z"
   },
   {
    "duration": 4,
    "start_time": "2022-08-09T19:13:24.223Z"
   },
   {
    "duration": 285,
    "start_time": "2022-08-09T19:13:24.229Z"
   },
   {
    "duration": 5,
    "start_time": "2022-08-09T19:13:24.515Z"
   },
   {
    "duration": 263,
    "start_time": "2022-08-09T19:13:24.521Z"
   },
   {
    "duration": 4,
    "start_time": "2022-08-09T19:13:24.786Z"
   },
   {
    "duration": 271,
    "start_time": "2022-08-09T19:13:24.792Z"
   },
   {
    "duration": 3,
    "start_time": "2022-08-09T19:13:25.065Z"
   },
   {
    "duration": 33,
    "start_time": "2022-08-09T19:13:25.070Z"
   },
   {
    "duration": 5,
    "start_time": "2022-08-09T19:13:25.104Z"
   },
   {
    "duration": 9,
    "start_time": "2022-08-09T19:13:25.110Z"
   },
   {
    "duration": 10,
    "start_time": "2022-08-09T19:13:25.121Z"
   },
   {
    "duration": 18,
    "start_time": "2022-08-09T19:13:25.133Z"
   },
   {
    "duration": 9,
    "start_time": "2022-08-09T19:13:25.154Z"
   },
   {
    "duration": 3,
    "start_time": "2022-08-09T19:13:25.165Z"
   },
   {
    "duration": 7,
    "start_time": "2022-08-09T19:13:25.169Z"
   },
   {
    "duration": 4,
    "start_time": "2022-08-09T19:13:25.177Z"
   },
   {
    "duration": 6,
    "start_time": "2022-08-09T19:13:25.182Z"
   },
   {
    "duration": 7999,
    "start_time": "2022-08-09T19:13:25.189Z"
   },
   {
    "duration": 7875,
    "start_time": "2022-08-09T19:13:33.190Z"
   },
   {
    "duration": 3,
    "start_time": "2022-08-09T19:13:41.067Z"
   },
   {
    "duration": 879,
    "start_time": "2022-08-09T19:13:41.071Z"
   },
   {
    "duration": 802,
    "start_time": "2022-08-09T19:13:41.951Z"
   },
   {
    "duration": 702,
    "start_time": "2022-08-09T19:13:42.755Z"
   },
   {
    "duration": 675,
    "start_time": "2022-08-09T19:13:43.459Z"
   },
   {
    "duration": 12,
    "start_time": "2022-08-09T19:13:44.139Z"
   },
   {
    "duration": 2271,
    "start_time": "2022-08-09T19:13:44.153Z"
   },
   {
    "duration": 2242,
    "start_time": "2022-08-09T19:13:46.426Z"
   },
   {
    "duration": 89,
    "start_time": "2022-08-09T19:13:48.669Z"
   },
   {
    "duration": 428,
    "start_time": "2022-08-09T19:13:48.838Z"
   },
   {
    "duration": 75,
    "start_time": "2022-08-09T19:13:49.270Z"
   },
   {
    "duration": 893,
    "start_time": "2022-08-09T19:13:49.351Z"
   },
   {
    "duration": 1107,
    "start_time": "2022-08-09T19:13:50.249Z"
   },
   {
    "duration": 601,
    "start_time": "2022-08-09T19:13:51.437Z"
   },
   {
    "duration": 47,
    "start_time": "2022-08-10T12:55:31.392Z"
   },
   {
    "duration": 5,
    "start_time": "2022-08-10T12:56:44.819Z"
   },
   {
    "duration": 1153,
    "start_time": "2022-08-10T12:56:51.477Z"
   },
   {
    "duration": 836,
    "start_time": "2022-08-10T12:56:52.632Z"
   },
   {
    "duration": 18,
    "start_time": "2022-08-10T12:56:53.470Z"
   },
   {
    "duration": 7,
    "start_time": "2022-08-10T12:56:53.490Z"
   },
   {
    "duration": 441,
    "start_time": "2022-08-10T12:56:53.498Z"
   },
   {
    "duration": 12,
    "start_time": "2022-08-10T12:56:53.941Z"
   },
   {
    "duration": 5,
    "start_time": "2022-08-10T12:56:53.955Z"
   },
   {
    "duration": 1950,
    "start_time": "2022-08-10T12:56:53.961Z"
   },
   {
    "duration": 21,
    "start_time": "2022-08-10T12:56:55.913Z"
   },
   {
    "duration": 12,
    "start_time": "2022-08-10T12:56:55.941Z"
   },
   {
    "duration": 16,
    "start_time": "2022-08-10T12:56:55.956Z"
   },
   {
    "duration": 16,
    "start_time": "2022-08-10T12:56:55.974Z"
   },
   {
    "duration": 7,
    "start_time": "2022-08-10T12:56:55.992Z"
   },
   {
    "duration": 5,
    "start_time": "2022-08-10T12:56:56.009Z"
   },
   {
    "duration": 11,
    "start_time": "2022-08-10T12:56:56.015Z"
   },
   {
    "duration": 8,
    "start_time": "2022-08-10T12:56:56.028Z"
   },
   {
    "duration": 13,
    "start_time": "2022-08-10T12:56:56.038Z"
   },
   {
    "duration": 13,
    "start_time": "2022-08-10T12:56:56.053Z"
   },
   {
    "duration": 15,
    "start_time": "2022-08-10T12:56:56.068Z"
   },
   {
    "duration": 9,
    "start_time": "2022-08-10T12:56:56.086Z"
   },
   {
    "duration": 6,
    "start_time": "2022-08-10T12:56:56.109Z"
   },
   {
    "duration": 9,
    "start_time": "2022-08-10T12:56:56.116Z"
   },
   {
    "duration": 6,
    "start_time": "2022-08-10T12:56:56.127Z"
   },
   {
    "duration": 6,
    "start_time": "2022-08-10T12:56:56.135Z"
   },
   {
    "duration": 10,
    "start_time": "2022-08-10T12:56:56.143Z"
   },
   {
    "duration": 11,
    "start_time": "2022-08-10T12:56:56.155Z"
   },
   {
    "duration": 863,
    "start_time": "2022-08-10T12:56:56.167Z"
   },
   {
    "duration": 6,
    "start_time": "2022-08-10T12:56:57.034Z"
   },
   {
    "duration": 488,
    "start_time": "2022-08-10T12:56:57.041Z"
   },
   {
    "duration": 6,
    "start_time": "2022-08-10T12:56:57.531Z"
   },
   {
    "duration": 342,
    "start_time": "2022-08-10T12:56:57.539Z"
   },
   {
    "duration": 6,
    "start_time": "2022-08-10T12:56:57.883Z"
   },
   {
    "duration": 321,
    "start_time": "2022-08-10T12:56:57.891Z"
   },
   {
    "duration": 8,
    "start_time": "2022-08-10T12:56:58.214Z"
   },
   {
    "duration": 313,
    "start_time": "2022-08-10T12:56:58.224Z"
   },
   {
    "duration": 4,
    "start_time": "2022-08-10T12:56:58.539Z"
   },
   {
    "duration": 44,
    "start_time": "2022-08-10T12:56:58.544Z"
   },
   {
    "duration": 4,
    "start_time": "2022-08-10T12:56:58.590Z"
   },
   {
    "duration": 8,
    "start_time": "2022-08-10T12:56:58.595Z"
   },
   {
    "duration": 16,
    "start_time": "2022-08-10T12:56:58.605Z"
   },
   {
    "duration": 19,
    "start_time": "2022-08-10T12:56:58.622Z"
   },
   {
    "duration": 4,
    "start_time": "2022-08-10T12:56:58.642Z"
   },
   {
    "duration": 12,
    "start_time": "2022-08-10T12:56:58.647Z"
   },
   {
    "duration": 12,
    "start_time": "2022-08-10T12:56:58.660Z"
   },
   {
    "duration": 13,
    "start_time": "2022-08-10T12:56:58.674Z"
   },
   {
    "duration": 4,
    "start_time": "2022-08-10T12:56:58.689Z"
   },
   {
    "duration": 15,
    "start_time": "2022-08-10T12:56:58.695Z"
   },
   {
    "duration": 10,
    "start_time": "2022-08-10T12:56:58.711Z"
   },
   {
    "duration": 8,
    "start_time": "2022-08-10T12:56:58.723Z"
   },
   {
    "duration": 8303,
    "start_time": "2022-08-10T12:56:58.733Z"
   },
   {
    "duration": 8031,
    "start_time": "2022-08-10T12:57:07.038Z"
   },
   {
    "duration": 3,
    "start_time": "2022-08-10T12:57:15.071Z"
   },
   {
    "duration": 780,
    "start_time": "2022-08-10T12:57:15.075Z"
   },
   {
    "duration": 774,
    "start_time": "2022-08-10T12:57:15.857Z"
   },
   {
    "duration": 720,
    "start_time": "2022-08-10T12:57:16.633Z"
   },
   {
    "duration": 710,
    "start_time": "2022-08-10T12:57:17.355Z"
   },
   {
    "duration": 3,
    "start_time": "2022-08-10T12:57:18.066Z"
   },
   {
    "duration": 2268,
    "start_time": "2022-08-10T12:57:18.070Z"
   },
   {
    "duration": 2217,
    "start_time": "2022-08-10T12:57:20.339Z"
   },
   {
    "duration": 255,
    "start_time": "2022-08-10T12:57:22.558Z"
   },
   {
    "duration": 392,
    "start_time": "2022-08-10T12:57:22.816Z"
   },
   {
    "duration": 100,
    "start_time": "2022-08-10T12:57:23.211Z"
   },
   {
    "duration": 801,
    "start_time": "2022-08-10T12:57:23.312Z"
   },
   {
    "duration": 796,
    "start_time": "2022-08-10T12:57:24.115Z"
   },
   {
    "duration": 297,
    "start_time": "2022-08-10T12:57:24.913Z"
   },
   {
    "duration": 4,
    "start_time": "2022-08-10T12:59:55.863Z"
   },
   {
    "duration": 4,
    "start_time": "2022-08-10T13:00:03.305Z"
   },
   {
    "duration": 309,
    "start_time": "2022-08-10T13:00:03.331Z"
   },
   {
    "duration": 16,
    "start_time": "2022-08-10T13:00:03.642Z"
   },
   {
    "duration": 30,
    "start_time": "2022-08-10T13:00:03.659Z"
   },
   {
    "duration": 98,
    "start_time": "2022-08-10T13:00:03.690Z"
   },
   {
    "duration": 11,
    "start_time": "2022-08-10T13:00:03.790Z"
   },
   {
    "duration": 7,
    "start_time": "2022-08-10T13:00:03.808Z"
   },
   {
    "duration": 380,
    "start_time": "2022-08-10T13:00:03.816Z"
   },
   {
    "duration": 25,
    "start_time": "2022-08-10T13:00:04.198Z"
   },
   {
    "duration": 8,
    "start_time": "2022-08-10T13:00:04.224Z"
   },
   {
    "duration": 10,
    "start_time": "2022-08-10T13:00:04.233Z"
   },
   {
    "duration": 15,
    "start_time": "2022-08-10T13:00:04.245Z"
   },
   {
    "duration": 12,
    "start_time": "2022-08-10T13:00:04.262Z"
   },
   {
    "duration": 15,
    "start_time": "2022-08-10T13:00:04.275Z"
   },
   {
    "duration": 9,
    "start_time": "2022-08-10T13:00:04.293Z"
   },
   {
    "duration": 14,
    "start_time": "2022-08-10T13:00:04.303Z"
   },
   {
    "duration": 22,
    "start_time": "2022-08-10T13:00:04.318Z"
   },
   {
    "duration": 12,
    "start_time": "2022-08-10T13:00:04.341Z"
   },
   {
    "duration": 25,
    "start_time": "2022-08-10T13:00:04.354Z"
   },
   {
    "duration": 15,
    "start_time": "2022-08-10T13:00:04.381Z"
   },
   {
    "duration": 12,
    "start_time": "2022-08-10T13:00:04.398Z"
   },
   {
    "duration": 10,
    "start_time": "2022-08-10T13:00:04.412Z"
   },
   {
    "duration": 8,
    "start_time": "2022-08-10T13:00:04.424Z"
   },
   {
    "duration": 26,
    "start_time": "2022-08-10T13:00:04.433Z"
   },
   {
    "duration": 12,
    "start_time": "2022-08-10T13:00:04.460Z"
   },
   {
    "duration": 15,
    "start_time": "2022-08-10T13:00:04.473Z"
   },
   {
    "duration": 525,
    "start_time": "2022-08-10T13:00:04.490Z"
   },
   {
    "duration": 4,
    "start_time": "2022-08-10T13:00:05.017Z"
   },
   {
    "duration": 297,
    "start_time": "2022-08-10T13:00:05.023Z"
   },
   {
    "duration": 5,
    "start_time": "2022-08-10T13:00:05.323Z"
   },
   {
    "duration": 296,
    "start_time": "2022-08-10T13:00:05.330Z"
   },
   {
    "duration": 5,
    "start_time": "2022-08-10T13:00:05.628Z"
   },
   {
    "duration": 302,
    "start_time": "2022-08-10T13:00:05.634Z"
   },
   {
    "duration": 6,
    "start_time": "2022-08-10T13:00:05.937Z"
   },
   {
    "duration": 317,
    "start_time": "2022-08-10T13:00:05.944Z"
   },
   {
    "duration": 3,
    "start_time": "2022-08-10T13:00:06.262Z"
   },
   {
    "duration": 9,
    "start_time": "2022-08-10T13:00:06.267Z"
   },
   {
    "duration": 34,
    "start_time": "2022-08-10T13:00:06.277Z"
   },
   {
    "duration": 4,
    "start_time": "2022-08-10T13:00:06.312Z"
   },
   {
    "duration": 12,
    "start_time": "2022-08-10T13:00:06.318Z"
   },
   {
    "duration": 21,
    "start_time": "2022-08-10T13:00:06.332Z"
   },
   {
    "duration": 9,
    "start_time": "2022-08-10T13:00:06.357Z"
   },
   {
    "duration": 4,
    "start_time": "2022-08-10T13:00:06.367Z"
   },
   {
    "duration": 10,
    "start_time": "2022-08-10T13:00:06.372Z"
   },
   {
    "duration": 8,
    "start_time": "2022-08-10T13:00:06.383Z"
   },
   {
    "duration": 12,
    "start_time": "2022-08-10T13:00:06.392Z"
   },
   {
    "duration": 7962,
    "start_time": "2022-08-10T13:00:06.405Z"
   },
   {
    "duration": 7888,
    "start_time": "2022-08-10T13:00:14.369Z"
   },
   {
    "duration": 4,
    "start_time": "2022-08-10T13:00:22.258Z"
   },
   {
    "duration": 775,
    "start_time": "2022-08-10T13:00:22.263Z"
   },
   {
    "duration": 768,
    "start_time": "2022-08-10T13:00:23.041Z"
   },
   {
    "duration": 718,
    "start_time": "2022-08-10T13:00:23.810Z"
   },
   {
    "duration": 684,
    "start_time": "2022-08-10T13:00:24.532Z"
   },
   {
    "duration": 3,
    "start_time": "2022-08-10T13:00:25.218Z"
   },
   {
    "duration": 2399,
    "start_time": "2022-08-10T13:00:25.223Z"
   },
   {
    "duration": 2222,
    "start_time": "2022-08-10T13:00:27.624Z"
   },
   {
    "duration": 165,
    "start_time": "2022-08-10T13:00:29.848Z"
   },
   {
    "duration": 302,
    "start_time": "2022-08-10T13:00:30.014Z"
   },
   {
    "duration": 91,
    "start_time": "2022-08-10T13:00:30.319Z"
   },
   {
    "duration": 700,
    "start_time": "2022-08-10T13:00:30.411Z"
   },
   {
    "duration": 897,
    "start_time": "2022-08-10T13:00:31.113Z"
   },
   {
    "duration": 202,
    "start_time": "2022-08-10T13:00:32.012Z"
   },
   {
    "duration": 4,
    "start_time": "2022-08-10T14:59:14.802Z"
   },
   {
    "duration": 4,
    "start_time": "2022-08-10T15:00:02.347Z"
   },
   {
    "duration": 40,
    "start_time": "2022-08-10T15:12:36.096Z"
   },
   {
    "duration": 4,
    "start_time": "2022-08-10T15:12:51.325Z"
   },
   {
    "duration": 4,
    "start_time": "2022-08-10T15:13:20.955Z"
   },
   {
    "duration": 285,
    "start_time": "2022-08-10T15:13:20.973Z"
   },
   {
    "duration": 15,
    "start_time": "2022-08-10T15:13:21.259Z"
   },
   {
    "duration": 6,
    "start_time": "2022-08-10T15:13:21.276Z"
   },
   {
    "duration": 91,
    "start_time": "2022-08-10T15:13:21.283Z"
   },
   {
    "duration": 11,
    "start_time": "2022-08-10T15:13:21.376Z"
   },
   {
    "duration": 4,
    "start_time": "2022-08-10T15:13:21.388Z"
   },
   {
    "duration": 392,
    "start_time": "2022-08-10T15:13:21.394Z"
   },
   {
    "duration": 24,
    "start_time": "2022-08-10T15:13:21.788Z"
   },
   {
    "duration": 7,
    "start_time": "2022-08-10T15:13:21.813Z"
   },
   {
    "duration": 7,
    "start_time": "2022-08-10T15:13:21.822Z"
   },
   {
    "duration": 6,
    "start_time": "2022-08-10T15:13:21.831Z"
   },
   {
    "duration": 6,
    "start_time": "2022-08-10T15:13:21.838Z"
   },
   {
    "duration": 7,
    "start_time": "2022-08-10T15:13:21.845Z"
   },
   {
    "duration": 4,
    "start_time": "2022-08-10T15:13:21.855Z"
   },
   {
    "duration": 15,
    "start_time": "2022-08-10T15:13:21.860Z"
   },
   {
    "duration": 23,
    "start_time": "2022-08-10T15:13:21.876Z"
   },
   {
    "duration": 9,
    "start_time": "2022-08-10T15:13:21.901Z"
   },
   {
    "duration": 6,
    "start_time": "2022-08-10T15:13:21.911Z"
   },
   {
    "duration": 6,
    "start_time": "2022-08-10T15:13:21.918Z"
   },
   {
    "duration": 6,
    "start_time": "2022-08-10T15:13:21.926Z"
   },
   {
    "duration": 6,
    "start_time": "2022-08-10T15:13:21.933Z"
   },
   {
    "duration": 7,
    "start_time": "2022-08-10T15:13:21.941Z"
   },
   {
    "duration": 7,
    "start_time": "2022-08-10T15:13:21.950Z"
   },
   {
    "duration": 5,
    "start_time": "2022-08-10T15:13:21.958Z"
   },
   {
    "duration": 5,
    "start_time": "2022-08-10T15:13:21.965Z"
   },
   {
    "duration": 544,
    "start_time": "2022-08-10T15:13:21.971Z"
   },
   {
    "duration": 4,
    "start_time": "2022-08-10T15:13:22.516Z"
   },
   {
    "duration": 268,
    "start_time": "2022-08-10T15:13:22.522Z"
   },
   {
    "duration": 6,
    "start_time": "2022-08-10T15:13:22.792Z"
   },
   {
    "duration": 254,
    "start_time": "2022-08-10T15:13:22.810Z"
   },
   {
    "duration": 5,
    "start_time": "2022-08-10T15:13:23.066Z"
   },
   {
    "duration": 268,
    "start_time": "2022-08-10T15:13:23.073Z"
   },
   {
    "duration": 5,
    "start_time": "2022-08-10T15:13:23.343Z"
   },
   {
    "duration": 265,
    "start_time": "2022-08-10T15:13:23.349Z"
   },
   {
    "duration": 3,
    "start_time": "2022-08-10T15:13:23.616Z"
   },
   {
    "duration": 12,
    "start_time": "2022-08-10T15:13:23.621Z"
   },
   {
    "duration": 6,
    "start_time": "2022-08-10T15:13:23.634Z"
   },
   {
    "duration": 68,
    "start_time": "2022-08-10T15:13:23.641Z"
   },
   {
    "duration": 3,
    "start_time": "2022-08-10T15:13:23.711Z"
   },
   {
    "duration": 39,
    "start_time": "2022-08-10T15:13:23.716Z"
   },
   {
    "duration": 3,
    "start_time": "2022-08-10T15:13:23.759Z"
   },
   {
    "duration": 11,
    "start_time": "2022-08-10T15:13:23.764Z"
   },
   {
    "duration": 9,
    "start_time": "2022-08-10T15:13:23.777Z"
   },
   {
    "duration": 9,
    "start_time": "2022-08-10T15:13:23.787Z"
   },
   {
    "duration": 12,
    "start_time": "2022-08-10T15:13:23.798Z"
   },
   {
    "duration": 25,
    "start_time": "2022-08-10T15:13:23.812Z"
   },
   {
    "duration": 7,
    "start_time": "2022-08-10T15:13:23.839Z"
   },
   {
    "duration": 12,
    "start_time": "2022-08-10T15:13:23.847Z"
   },
   {
    "duration": 7936,
    "start_time": "2022-08-10T15:13:23.861Z"
   },
   {
    "duration": 7811,
    "start_time": "2022-08-10T15:13:31.799Z"
   },
   {
    "duration": 3,
    "start_time": "2022-08-10T15:13:39.611Z"
   },
   {
    "duration": 786,
    "start_time": "2022-08-10T15:13:39.616Z"
   },
   {
    "duration": 766,
    "start_time": "2022-08-10T15:13:40.403Z"
   },
   {
    "duration": 696,
    "start_time": "2022-08-10T15:13:41.170Z"
   },
   {
    "duration": 673,
    "start_time": "2022-08-10T15:13:41.868Z"
   },
   {
    "duration": 3,
    "start_time": "2022-08-10T15:13:42.543Z"
   },
   {
    "duration": 2295,
    "start_time": "2022-08-10T15:13:42.547Z"
   },
   {
    "duration": 2254,
    "start_time": "2022-08-10T15:13:44.843Z"
   },
   {
    "duration": 114,
    "start_time": "2022-08-10T15:13:47.099Z"
   },
   {
    "duration": 301,
    "start_time": "2022-08-10T15:13:47.215Z"
   },
   {
    "duration": 97,
    "start_time": "2022-08-10T15:13:47.518Z"
   },
   {
    "duration": 894,
    "start_time": "2022-08-10T15:13:47.616Z"
   },
   {
    "duration": 797,
    "start_time": "2022-08-10T15:13:48.513Z"
   },
   {
    "duration": 302,
    "start_time": "2022-08-10T15:13:49.312Z"
   },
   {
    "duration": 39,
    "start_time": "2022-08-10T15:13:54.701Z"
   },
   {
    "duration": 4,
    "start_time": "2022-08-10T15:13:57.764Z"
   },
   {
    "duration": 42,
    "start_time": "2022-08-10T15:14:09.222Z"
   },
   {
    "duration": 4,
    "start_time": "2022-08-10T15:14:10.816Z"
   },
   {
    "duration": 3,
    "start_time": "2022-08-10T15:14:15.806Z"
   },
   {
    "duration": 318,
    "start_time": "2022-08-10T15:14:15.829Z"
   },
   {
    "duration": 15,
    "start_time": "2022-08-10T15:14:16.148Z"
   },
   {
    "duration": 6,
    "start_time": "2022-08-10T15:14:16.165Z"
   },
   {
    "duration": 103,
    "start_time": "2022-08-10T15:14:16.172Z"
   },
   {
    "duration": 12,
    "start_time": "2022-08-10T15:14:16.277Z"
   },
   {
    "duration": 20,
    "start_time": "2022-08-10T15:14:16.290Z"
   },
   {
    "duration": 354,
    "start_time": "2022-08-10T15:14:16.311Z"
   },
   {
    "duration": 16,
    "start_time": "2022-08-10T15:14:16.666Z"
   },
   {
    "duration": 6,
    "start_time": "2022-08-10T15:14:16.683Z"
   },
   {
    "duration": 21,
    "start_time": "2022-08-10T15:14:16.690Z"
   },
   {
    "duration": 6,
    "start_time": "2022-08-10T15:14:16.713Z"
   },
   {
    "duration": 5,
    "start_time": "2022-08-10T15:14:16.721Z"
   },
   {
    "duration": 7,
    "start_time": "2022-08-10T15:14:16.727Z"
   },
   {
    "duration": 6,
    "start_time": "2022-08-10T15:14:16.736Z"
   },
   {
    "duration": 8,
    "start_time": "2022-08-10T15:14:16.743Z"
   },
   {
    "duration": 6,
    "start_time": "2022-08-10T15:14:16.752Z"
   },
   {
    "duration": 5,
    "start_time": "2022-08-10T15:14:16.760Z"
   },
   {
    "duration": 6,
    "start_time": "2022-08-10T15:14:16.766Z"
   },
   {
    "duration": 9,
    "start_time": "2022-08-10T15:14:16.773Z"
   },
   {
    "duration": 27,
    "start_time": "2022-08-10T15:14:16.783Z"
   },
   {
    "duration": 5,
    "start_time": "2022-08-10T15:14:16.811Z"
   },
   {
    "duration": 9,
    "start_time": "2022-08-10T15:14:16.818Z"
   },
   {
    "duration": 5,
    "start_time": "2022-08-10T15:14:16.828Z"
   },
   {
    "duration": 5,
    "start_time": "2022-08-10T15:14:16.835Z"
   },
   {
    "duration": 9,
    "start_time": "2022-08-10T15:14:16.842Z"
   },
   {
    "duration": 610,
    "start_time": "2022-08-10T15:14:16.852Z"
   },
   {
    "duration": 5,
    "start_time": "2022-08-10T15:14:17.464Z"
   },
   {
    "duration": 285,
    "start_time": "2022-08-10T15:14:17.470Z"
   },
   {
    "duration": 4,
    "start_time": "2022-08-10T15:14:17.757Z"
   },
   {
    "duration": 265,
    "start_time": "2022-08-10T15:14:17.763Z"
   },
   {
    "duration": 4,
    "start_time": "2022-08-10T15:14:18.030Z"
   },
   {
    "duration": 277,
    "start_time": "2022-08-10T15:14:18.035Z"
   },
   {
    "duration": 5,
    "start_time": "2022-08-10T15:14:18.313Z"
   },
   {
    "duration": 278,
    "start_time": "2022-08-10T15:14:18.319Z"
   },
   {
    "duration": 3,
    "start_time": "2022-08-10T15:14:18.599Z"
   },
   {
    "duration": 3,
    "start_time": "2022-08-10T15:14:18.608Z"
   },
   {
    "duration": 7,
    "start_time": "2022-08-10T15:14:18.612Z"
   },
   {
    "duration": 53,
    "start_time": "2022-08-10T15:14:18.621Z"
   },
   {
    "duration": 4,
    "start_time": "2022-08-10T15:14:18.677Z"
   },
   {
    "duration": 43,
    "start_time": "2022-08-10T15:14:18.683Z"
   },
   {
    "duration": 4,
    "start_time": "2022-08-10T15:14:18.731Z"
   },
   {
    "duration": 13,
    "start_time": "2022-08-10T15:14:18.736Z"
   },
   {
    "duration": 9,
    "start_time": "2022-08-10T15:14:18.750Z"
   },
   {
    "duration": 10,
    "start_time": "2022-08-10T15:14:18.761Z"
   },
   {
    "duration": 4,
    "start_time": "2022-08-10T15:14:18.772Z"
   },
   {
    "duration": 34,
    "start_time": "2022-08-10T15:14:18.778Z"
   },
   {
    "duration": 4,
    "start_time": "2022-08-10T15:14:18.813Z"
   },
   {
    "duration": 6,
    "start_time": "2022-08-10T15:14:18.818Z"
   },
   {
    "duration": 7869,
    "start_time": "2022-08-10T15:14:18.826Z"
   },
   {
    "duration": 7942,
    "start_time": "2022-08-10T15:14:26.697Z"
   },
   {
    "duration": 3,
    "start_time": "2022-08-10T15:14:34.641Z"
   },
   {
    "duration": 767,
    "start_time": "2022-08-10T15:14:34.645Z"
   },
   {
    "duration": 764,
    "start_time": "2022-08-10T15:14:35.413Z"
   },
   {
    "duration": 704,
    "start_time": "2022-08-10T15:14:36.179Z"
   },
   {
    "duration": 714,
    "start_time": "2022-08-10T15:14:36.885Z"
   },
   {
    "duration": 9,
    "start_time": "2022-08-10T15:14:37.601Z"
   },
   {
    "duration": 2316,
    "start_time": "2022-08-10T15:14:37.611Z"
   },
   {
    "duration": 2229,
    "start_time": "2022-08-10T15:14:39.929Z"
   },
   {
    "duration": 255,
    "start_time": "2022-08-10T15:14:42.159Z"
   },
   {
    "duration": 393,
    "start_time": "2022-08-10T15:14:42.417Z"
   },
   {
    "duration": 3,
    "start_time": "2022-08-10T15:14:42.812Z"
   },
   {
    "duration": 696,
    "start_time": "2022-08-10T15:14:42.817Z"
   },
   {
    "duration": 795,
    "start_time": "2022-08-10T15:14:43.515Z"
   },
   {
    "duration": 301,
    "start_time": "2022-08-10T15:14:44.312Z"
   },
   {
    "duration": 43,
    "start_time": "2022-08-10T15:18:25.712Z"
   },
   {
    "duration": 4,
    "start_time": "2022-08-10T15:18:27.477Z"
   },
   {
    "duration": 4,
    "start_time": "2022-08-10T15:18:36.478Z"
   },
   {
    "duration": 292,
    "start_time": "2022-08-10T15:18:36.488Z"
   },
   {
    "duration": 35,
    "start_time": "2022-08-10T15:18:36.783Z"
   },
   {
    "duration": 6,
    "start_time": "2022-08-10T15:18:36.820Z"
   },
   {
    "duration": 90,
    "start_time": "2022-08-10T15:18:36.828Z"
   },
   {
    "duration": 13,
    "start_time": "2022-08-10T15:18:36.921Z"
   },
   {
    "duration": 4,
    "start_time": "2022-08-10T15:18:36.935Z"
   },
   {
    "duration": 361,
    "start_time": "2022-08-10T15:18:36.941Z"
   },
   {
    "duration": 21,
    "start_time": "2022-08-10T15:18:37.308Z"
   },
   {
    "duration": 9,
    "start_time": "2022-08-10T15:18:37.332Z"
   },
   {
    "duration": 10,
    "start_time": "2022-08-10T15:18:37.343Z"
   },
   {
    "duration": 10,
    "start_time": "2022-08-10T15:18:37.355Z"
   },
   {
    "duration": 15,
    "start_time": "2022-08-10T15:18:37.367Z"
   },
   {
    "duration": 26,
    "start_time": "2022-08-10T15:18:37.384Z"
   },
   {
    "duration": 5,
    "start_time": "2022-08-10T15:18:37.414Z"
   },
   {
    "duration": 13,
    "start_time": "2022-08-10T15:18:37.421Z"
   },
   {
    "duration": 7,
    "start_time": "2022-08-10T15:18:37.436Z"
   },
   {
    "duration": 8,
    "start_time": "2022-08-10T15:18:37.444Z"
   },
   {
    "duration": 6,
    "start_time": "2022-08-10T15:18:37.453Z"
   },
   {
    "duration": 8,
    "start_time": "2022-08-10T15:18:37.461Z"
   },
   {
    "duration": 7,
    "start_time": "2022-08-10T15:18:37.471Z"
   },
   {
    "duration": 5,
    "start_time": "2022-08-10T15:18:37.480Z"
   },
   {
    "duration": 25,
    "start_time": "2022-08-10T15:18:37.486Z"
   },
   {
    "duration": 9,
    "start_time": "2022-08-10T15:18:37.512Z"
   },
   {
    "duration": 5,
    "start_time": "2022-08-10T15:18:37.522Z"
   },
   {
    "duration": 6,
    "start_time": "2022-08-10T15:18:37.528Z"
   },
   {
    "duration": 431,
    "start_time": "2022-08-10T15:18:37.535Z"
   },
   {
    "duration": 5,
    "start_time": "2022-08-10T15:18:37.968Z"
   },
   {
    "duration": 270,
    "start_time": "2022-08-10T15:18:37.974Z"
   },
   {
    "duration": 6,
    "start_time": "2022-08-10T15:18:38.246Z"
   },
   {
    "duration": 286,
    "start_time": "2022-08-10T15:18:38.253Z"
   },
   {
    "duration": 5,
    "start_time": "2022-08-10T15:18:38.541Z"
   },
   {
    "duration": 294,
    "start_time": "2022-08-10T15:18:38.547Z"
   },
   {
    "duration": 5,
    "start_time": "2022-08-10T15:18:38.842Z"
   },
   {
    "duration": 397,
    "start_time": "2022-08-10T15:18:38.848Z"
   },
   {
    "duration": 3,
    "start_time": "2022-08-10T15:18:39.246Z"
   },
   {
    "duration": 57,
    "start_time": "2022-08-10T15:18:39.251Z"
   },
   {
    "duration": 7,
    "start_time": "2022-08-10T15:18:39.309Z"
   },
   {
    "duration": 60,
    "start_time": "2022-08-10T15:18:39.317Z"
   },
   {
    "duration": 3,
    "start_time": "2022-08-10T15:18:39.379Z"
   },
   {
    "duration": 31,
    "start_time": "2022-08-10T15:18:39.383Z"
   },
   {
    "duration": 4,
    "start_time": "2022-08-10T15:18:39.418Z"
   },
   {
    "duration": 13,
    "start_time": "2022-08-10T15:18:39.423Z"
   },
   {
    "duration": 14,
    "start_time": "2022-08-10T15:18:39.437Z"
   },
   {
    "duration": 12,
    "start_time": "2022-08-10T15:18:39.452Z"
   },
   {
    "duration": 4,
    "start_time": "2022-08-10T15:18:39.466Z"
   },
   {
    "duration": 10,
    "start_time": "2022-08-10T15:18:39.471Z"
   },
   {
    "duration": 4,
    "start_time": "2022-08-10T15:18:39.483Z"
   },
   {
    "duration": 21,
    "start_time": "2022-08-10T15:18:39.488Z"
   },
   {
    "duration": 7960,
    "start_time": "2022-08-10T15:18:39.511Z"
   },
   {
    "duration": 7932,
    "start_time": "2022-08-10T15:18:47.472Z"
   },
   {
    "duration": 3,
    "start_time": "2022-08-10T15:18:55.408Z"
   },
   {
    "duration": 786,
    "start_time": "2022-08-10T15:18:55.412Z"
   },
   {
    "duration": 751,
    "start_time": "2022-08-10T15:18:56.199Z"
   },
   {
    "duration": 755,
    "start_time": "2022-08-10T15:18:56.952Z"
   },
   {
    "duration": 684,
    "start_time": "2022-08-10T15:18:57.710Z"
   },
   {
    "duration": 14,
    "start_time": "2022-08-10T15:18:58.396Z"
   },
   {
    "duration": 2311,
    "start_time": "2022-08-10T15:18:58.411Z"
   },
   {
    "duration": 2293,
    "start_time": "2022-08-10T15:19:00.723Z"
   },
   {
    "duration": 296,
    "start_time": "2022-08-10T15:19:03.017Z"
   },
   {
    "duration": 400,
    "start_time": "2022-08-10T15:19:03.316Z"
   },
   {
    "duration": 90,
    "start_time": "2022-08-10T15:19:03.718Z"
   },
   {
    "duration": 1000,
    "start_time": "2022-08-10T15:19:03.811Z"
   },
   {
    "duration": 1097,
    "start_time": "2022-08-10T15:19:04.813Z"
   },
   {
    "duration": 402,
    "start_time": "2022-08-10T15:19:05.912Z"
   },
   {
    "duration": 20,
    "start_time": "2022-08-10T15:19:12.043Z"
   },
   {
    "duration": 3,
    "start_time": "2022-08-10T15:19:12.959Z"
   },
   {
    "duration": 29,
    "start_time": "2022-08-10T15:20:50.725Z"
   },
   {
    "duration": 4,
    "start_time": "2022-08-10T15:20:51.350Z"
   },
   {
    "duration": 29,
    "start_time": "2022-08-10T15:21:02.149Z"
   },
   {
    "duration": 4,
    "start_time": "2022-08-10T15:21:02.677Z"
   },
   {
    "duration": 5,
    "start_time": "2022-08-10T15:21:07.483Z"
   },
   {
    "duration": 284,
    "start_time": "2022-08-10T15:21:07.505Z"
   },
   {
    "duration": 15,
    "start_time": "2022-08-10T15:21:07.808Z"
   },
   {
    "duration": 5,
    "start_time": "2022-08-10T15:21:07.825Z"
   },
   {
    "duration": 83,
    "start_time": "2022-08-10T15:21:07.831Z"
   },
   {
    "duration": 12,
    "start_time": "2022-08-10T15:21:07.916Z"
   },
   {
    "duration": 4,
    "start_time": "2022-08-10T15:21:07.929Z"
   },
   {
    "duration": 307,
    "start_time": "2022-08-10T15:21:07.935Z"
   },
   {
    "duration": 16,
    "start_time": "2022-08-10T15:21:08.244Z"
   },
   {
    "duration": 6,
    "start_time": "2022-08-10T15:21:08.261Z"
   },
   {
    "duration": 11,
    "start_time": "2022-08-10T15:21:08.269Z"
   },
   {
    "duration": 5,
    "start_time": "2022-08-10T15:21:08.281Z"
   },
   {
    "duration": 23,
    "start_time": "2022-08-10T15:21:08.288Z"
   },
   {
    "duration": 5,
    "start_time": "2022-08-10T15:21:08.312Z"
   },
   {
    "duration": 8,
    "start_time": "2022-08-10T15:21:08.320Z"
   },
   {
    "duration": 6,
    "start_time": "2022-08-10T15:21:08.329Z"
   },
   {
    "duration": 7,
    "start_time": "2022-08-10T15:21:08.336Z"
   },
   {
    "duration": 9,
    "start_time": "2022-08-10T15:21:08.344Z"
   },
   {
    "duration": 7,
    "start_time": "2022-08-10T15:21:08.354Z"
   },
   {
    "duration": 6,
    "start_time": "2022-08-10T15:21:08.362Z"
   },
   {
    "duration": 5,
    "start_time": "2022-08-10T15:21:08.370Z"
   },
   {
    "duration": 9,
    "start_time": "2022-08-10T15:21:08.376Z"
   },
   {
    "duration": 5,
    "start_time": "2022-08-10T15:21:08.408Z"
   },
   {
    "duration": 7,
    "start_time": "2022-08-10T15:21:08.415Z"
   },
   {
    "duration": 6,
    "start_time": "2022-08-10T15:21:08.423Z"
   },
   {
    "duration": 9,
    "start_time": "2022-08-10T15:21:08.430Z"
   },
   {
    "duration": 430,
    "start_time": "2022-08-10T15:21:08.441Z"
   },
   {
    "duration": 5,
    "start_time": "2022-08-10T15:21:08.873Z"
   },
   {
    "duration": 269,
    "start_time": "2022-08-10T15:21:08.879Z"
   },
   {
    "duration": 5,
    "start_time": "2022-08-10T15:21:09.150Z"
   },
   {
    "duration": 267,
    "start_time": "2022-08-10T15:21:09.157Z"
   },
   {
    "duration": 4,
    "start_time": "2022-08-10T15:21:09.426Z"
   },
   {
    "duration": 282,
    "start_time": "2022-08-10T15:21:09.432Z"
   },
   {
    "duration": 5,
    "start_time": "2022-08-10T15:21:09.716Z"
   },
   {
    "duration": 418,
    "start_time": "2022-08-10T15:21:09.722Z"
   },
   {
    "duration": 3,
    "start_time": "2022-08-10T15:21:10.142Z"
   },
   {
    "duration": 17,
    "start_time": "2022-08-10T15:21:10.147Z"
   },
   {
    "duration": 11,
    "start_time": "2022-08-10T15:21:10.166Z"
   },
   {
    "duration": 25,
    "start_time": "2022-08-10T15:21:10.179Z"
   },
   {
    "duration": 4,
    "start_time": "2022-08-10T15:21:10.206Z"
   },
   {
    "duration": 25,
    "start_time": "2022-08-10T15:21:10.211Z"
   },
   {
    "duration": 4,
    "start_time": "2022-08-10T15:21:10.242Z"
   },
   {
    "duration": 9,
    "start_time": "2022-08-10T15:21:10.247Z"
   },
   {
    "duration": 15,
    "start_time": "2022-08-10T15:21:10.258Z"
   },
   {
    "duration": 10,
    "start_time": "2022-08-10T15:21:10.275Z"
   },
   {
    "duration": 4,
    "start_time": "2022-08-10T15:21:10.287Z"
   },
   {
    "duration": 20,
    "start_time": "2022-08-10T15:21:10.293Z"
   },
   {
    "duration": 7,
    "start_time": "2022-08-10T15:21:10.314Z"
   },
   {
    "duration": 7,
    "start_time": "2022-08-10T15:21:10.323Z"
   },
   {
    "duration": 8079,
    "start_time": "2022-08-10T15:21:10.332Z"
   },
   {
    "duration": 7879,
    "start_time": "2022-08-10T15:21:18.413Z"
   },
   {
    "duration": 3,
    "start_time": "2022-08-10T15:21:26.293Z"
   },
   {
    "duration": 770,
    "start_time": "2022-08-10T15:21:26.298Z"
   },
   {
    "duration": 794,
    "start_time": "2022-08-10T15:21:27.069Z"
   },
   {
    "duration": 703,
    "start_time": "2022-08-10T15:21:27.864Z"
   },
   {
    "duration": 673,
    "start_time": "2022-08-10T15:21:28.569Z"
   },
   {
    "duration": 3,
    "start_time": "2022-08-10T15:21:29.244Z"
   },
   {
    "duration": 2268,
    "start_time": "2022-08-10T15:21:29.248Z"
   },
   {
    "duration": 2259,
    "start_time": "2022-08-10T15:21:31.518Z"
   },
   {
    "duration": 232,
    "start_time": "2022-08-10T15:21:33.778Z"
   },
   {
    "duration": 107,
    "start_time": "2022-08-10T15:21:34.012Z"
   },
   {
    "duration": 3,
    "start_time": "2022-08-10T15:21:34.210Z"
   },
   {
    "duration": 595,
    "start_time": "2022-08-10T15:21:34.215Z"
   },
   {
    "duration": 708,
    "start_time": "2022-08-10T15:21:34.812Z"
   },
   {
    "duration": 388,
    "start_time": "2022-08-10T15:21:35.522Z"
   },
   {
    "duration": 16,
    "start_time": "2022-08-10T15:23:33.202Z"
   },
   {
    "duration": 4,
    "start_time": "2022-08-10T15:23:33.682Z"
   },
   {
    "duration": 4,
    "start_time": "2022-08-10T15:23:38.420Z"
   },
   {
    "duration": 254,
    "start_time": "2022-08-10T15:23:38.438Z"
   },
   {
    "duration": 16,
    "start_time": "2022-08-10T15:23:38.709Z"
   },
   {
    "duration": 6,
    "start_time": "2022-08-10T15:23:38.726Z"
   },
   {
    "duration": 87,
    "start_time": "2022-08-10T15:23:38.733Z"
   },
   {
    "duration": 12,
    "start_time": "2022-08-10T15:23:38.822Z"
   },
   {
    "duration": 4,
    "start_time": "2022-08-10T15:23:38.835Z"
   },
   {
    "duration": 317,
    "start_time": "2022-08-10T15:23:38.841Z"
   },
   {
    "duration": 17,
    "start_time": "2022-08-10T15:23:39.160Z"
   },
   {
    "duration": 8,
    "start_time": "2022-08-10T15:23:39.178Z"
   },
   {
    "duration": 26,
    "start_time": "2022-08-10T15:23:39.187Z"
   },
   {
    "duration": 6,
    "start_time": "2022-08-10T15:23:39.215Z"
   },
   {
    "duration": 5,
    "start_time": "2022-08-10T15:23:39.223Z"
   },
   {
    "duration": 7,
    "start_time": "2022-08-10T15:23:39.230Z"
   },
   {
    "duration": 10,
    "start_time": "2022-08-10T15:23:39.240Z"
   },
   {
    "duration": 6,
    "start_time": "2022-08-10T15:23:39.251Z"
   },
   {
    "duration": 13,
    "start_time": "2022-08-10T15:23:39.259Z"
   },
   {
    "duration": 9,
    "start_time": "2022-08-10T15:23:39.273Z"
   },
   {
    "duration": 7,
    "start_time": "2022-08-10T15:23:39.284Z"
   },
   {
    "duration": 7,
    "start_time": "2022-08-10T15:23:39.308Z"
   },
   {
    "duration": 6,
    "start_time": "2022-08-10T15:23:39.316Z"
   },
   {
    "duration": 8,
    "start_time": "2022-08-10T15:23:39.323Z"
   },
   {
    "duration": 8,
    "start_time": "2022-08-10T15:23:39.333Z"
   },
   {
    "duration": 6,
    "start_time": "2022-08-10T15:23:39.343Z"
   },
   {
    "duration": 9,
    "start_time": "2022-08-10T15:23:39.350Z"
   },
   {
    "duration": 6,
    "start_time": "2022-08-10T15:23:39.361Z"
   },
   {
    "duration": 459,
    "start_time": "2022-08-10T15:23:39.368Z"
   },
   {
    "duration": 5,
    "start_time": "2022-08-10T15:23:39.829Z"
   },
   {
    "duration": 274,
    "start_time": "2022-08-10T15:23:39.835Z"
   },
   {
    "duration": 5,
    "start_time": "2022-08-10T15:23:40.111Z"
   },
   {
    "duration": 287,
    "start_time": "2022-08-10T15:23:40.117Z"
   },
   {
    "duration": 5,
    "start_time": "2022-08-10T15:23:40.408Z"
   },
   {
    "duration": 420,
    "start_time": "2022-08-10T15:23:40.414Z"
   },
   {
    "duration": 5,
    "start_time": "2022-08-10T15:23:40.836Z"
   },
   {
    "duration": 278,
    "start_time": "2022-08-10T15:23:40.842Z"
   },
   {
    "duration": 3,
    "start_time": "2022-08-10T15:23:41.122Z"
   },
   {
    "duration": 16,
    "start_time": "2022-08-10T15:23:41.127Z"
   },
   {
    "duration": 15,
    "start_time": "2022-08-10T15:23:41.144Z"
   },
   {
    "duration": 33,
    "start_time": "2022-08-10T15:23:41.160Z"
   },
   {
    "duration": 4,
    "start_time": "2022-08-10T15:23:41.194Z"
   },
   {
    "duration": 21,
    "start_time": "2022-08-10T15:23:41.199Z"
   },
   {
    "duration": 4,
    "start_time": "2022-08-10T15:23:41.224Z"
   },
   {
    "duration": 9,
    "start_time": "2022-08-10T15:23:41.230Z"
   },
   {
    "duration": 13,
    "start_time": "2022-08-10T15:23:41.240Z"
   },
   {
    "duration": 15,
    "start_time": "2022-08-10T15:23:41.255Z"
   },
   {
    "duration": 4,
    "start_time": "2022-08-10T15:23:41.271Z"
   },
   {
    "duration": 7,
    "start_time": "2022-08-10T15:23:41.276Z"
   },
   {
    "duration": 8,
    "start_time": "2022-08-10T15:23:41.285Z"
   },
   {
    "duration": 15,
    "start_time": "2022-08-10T15:23:41.295Z"
   },
   {
    "duration": 7949,
    "start_time": "2022-08-10T15:23:41.311Z"
   },
   {
    "duration": 7785,
    "start_time": "2022-08-10T15:23:49.261Z"
   },
   {
    "duration": 3,
    "start_time": "2022-08-10T15:23:57.047Z"
   },
   {
    "duration": 810,
    "start_time": "2022-08-10T15:23:57.051Z"
   },
   {
    "duration": 748,
    "start_time": "2022-08-10T15:23:57.862Z"
   },
   {
    "duration": 687,
    "start_time": "2022-08-10T15:23:58.612Z"
   },
   {
    "duration": 699,
    "start_time": "2022-08-10T15:23:59.300Z"
   },
   {
    "duration": 8,
    "start_time": "2022-08-10T15:24:00.000Z"
   },
   {
    "duration": 2330,
    "start_time": "2022-08-10T15:24:00.010Z"
   },
   {
    "duration": 2294,
    "start_time": "2022-08-10T15:24:02.341Z"
   },
   {
    "duration": 80,
    "start_time": "2022-08-10T15:24:04.636Z"
   },
   {
    "duration": 296,
    "start_time": "2022-08-10T15:24:04.718Z"
   },
   {
    "duration": 4,
    "start_time": "2022-08-10T15:24:05.016Z"
   },
   {
    "duration": 701,
    "start_time": "2022-08-10T15:24:05.111Z"
   },
   {
    "duration": 898,
    "start_time": "2022-08-10T15:24:05.815Z"
   },
   {
    "duration": 302,
    "start_time": "2022-08-10T15:24:06.715Z"
   },
   {
    "duration": 4,
    "start_time": "2022-08-10T15:26:01.030Z"
   },
   {
    "duration": 292,
    "start_time": "2022-08-10T15:26:01.050Z"
   },
   {
    "duration": 15,
    "start_time": "2022-08-10T15:26:01.344Z"
   },
   {
    "duration": 24,
    "start_time": "2022-08-10T15:26:01.361Z"
   },
   {
    "duration": 109,
    "start_time": "2022-08-10T15:26:01.387Z"
   },
   {
    "duration": 13,
    "start_time": "2022-08-10T15:26:01.499Z"
   },
   {
    "duration": 9,
    "start_time": "2022-08-10T15:26:01.514Z"
   },
   {
    "duration": 348,
    "start_time": "2022-08-10T15:26:01.524Z"
   },
   {
    "duration": 16,
    "start_time": "2022-08-10T15:26:01.874Z"
   },
   {
    "duration": 19,
    "start_time": "2022-08-10T15:26:01.892Z"
   },
   {
    "duration": 17,
    "start_time": "2022-08-10T15:26:01.913Z"
   },
   {
    "duration": 10,
    "start_time": "2022-08-10T15:26:01.932Z"
   },
   {
    "duration": 11,
    "start_time": "2022-08-10T15:26:01.944Z"
   },
   {
    "duration": 7,
    "start_time": "2022-08-10T15:26:01.957Z"
   },
   {
    "duration": 10,
    "start_time": "2022-08-10T15:26:01.967Z"
   },
   {
    "duration": 13,
    "start_time": "2022-08-10T15:26:01.979Z"
   },
   {
    "duration": 15,
    "start_time": "2022-08-10T15:26:01.994Z"
   },
   {
    "duration": 10,
    "start_time": "2022-08-10T15:26:02.011Z"
   },
   {
    "duration": 12,
    "start_time": "2022-08-10T15:26:02.022Z"
   },
   {
    "duration": 30,
    "start_time": "2022-08-10T15:26:02.036Z"
   },
   {
    "duration": 20,
    "start_time": "2022-08-10T15:26:02.067Z"
   },
   {
    "duration": 13,
    "start_time": "2022-08-10T15:26:02.089Z"
   },
   {
    "duration": 12,
    "start_time": "2022-08-10T15:26:02.104Z"
   },
   {
    "duration": 11,
    "start_time": "2022-08-10T15:26:02.118Z"
   },
   {
    "duration": 23,
    "start_time": "2022-08-10T15:26:02.130Z"
   },
   {
    "duration": 8,
    "start_time": "2022-08-10T15:26:02.155Z"
   },
   {
    "duration": 414,
    "start_time": "2022-08-10T15:26:02.164Z"
   },
   {
    "duration": 5,
    "start_time": "2022-08-10T15:26:02.580Z"
   },
   {
    "duration": 301,
    "start_time": "2022-08-10T15:26:02.586Z"
   },
   {
    "duration": 5,
    "start_time": "2022-08-10T15:26:02.888Z"
   },
   {
    "duration": 291,
    "start_time": "2022-08-10T15:26:02.894Z"
   },
   {
    "duration": 4,
    "start_time": "2022-08-10T15:26:03.187Z"
   },
   {
    "duration": 434,
    "start_time": "2022-08-10T15:26:03.193Z"
   },
   {
    "duration": 5,
    "start_time": "2022-08-10T15:26:03.629Z"
   },
   {
    "duration": 280,
    "start_time": "2022-08-10T15:26:03.635Z"
   },
   {
    "duration": 3,
    "start_time": "2022-08-10T15:26:03.917Z"
   },
   {
    "duration": 12,
    "start_time": "2022-08-10T15:26:03.921Z"
   },
   {
    "duration": 13,
    "start_time": "2022-08-10T15:26:03.934Z"
   },
   {
    "duration": 31,
    "start_time": "2022-08-10T15:26:03.949Z"
   },
   {
    "duration": 4,
    "start_time": "2022-08-10T15:26:03.981Z"
   },
   {
    "duration": 36,
    "start_time": "2022-08-10T15:26:03.986Z"
   },
   {
    "duration": 4,
    "start_time": "2022-08-10T15:26:04.025Z"
   },
   {
    "duration": 15,
    "start_time": "2022-08-10T15:26:04.031Z"
   },
   {
    "duration": 33,
    "start_time": "2022-08-10T15:26:04.047Z"
   },
   {
    "duration": 31,
    "start_time": "2022-08-10T15:26:04.082Z"
   },
   {
    "duration": 22,
    "start_time": "2022-08-10T15:26:04.115Z"
   },
   {
    "duration": 35,
    "start_time": "2022-08-10T15:26:04.139Z"
   },
   {
    "duration": 21,
    "start_time": "2022-08-10T15:26:04.176Z"
   },
   {
    "duration": 26,
    "start_time": "2022-08-10T15:26:04.199Z"
   },
   {
    "duration": 8037,
    "start_time": "2022-08-10T15:26:04.226Z"
   },
   {
    "duration": 7964,
    "start_time": "2022-08-10T15:26:12.265Z"
   },
   {
    "duration": 3,
    "start_time": "2022-08-10T15:26:20.230Z"
   },
   {
    "duration": 796,
    "start_time": "2022-08-10T15:26:20.234Z"
   },
   {
    "duration": 756,
    "start_time": "2022-08-10T15:26:21.031Z"
   },
   {
    "duration": 698,
    "start_time": "2022-08-10T15:26:21.789Z"
   },
   {
    "duration": 685,
    "start_time": "2022-08-10T15:26:22.489Z"
   },
   {
    "duration": 3,
    "start_time": "2022-08-10T15:26:23.176Z"
   },
   {
    "duration": 2308,
    "start_time": "2022-08-10T15:26:23.180Z"
   },
   {
    "duration": 2315,
    "start_time": "2022-08-10T15:26:25.490Z"
   },
   {
    "duration": 205,
    "start_time": "2022-08-10T15:26:27.806Z"
   },
   {
    "duration": 201,
    "start_time": "2022-08-10T15:26:28.013Z"
   },
   {
    "duration": 93,
    "start_time": "2022-08-10T15:26:28.217Z"
   },
   {
    "duration": 797,
    "start_time": "2022-08-10T15:26:28.313Z"
   },
   {
    "duration": 901,
    "start_time": "2022-08-10T15:26:29.112Z"
   },
   {
    "duration": 301,
    "start_time": "2022-08-10T15:26:30.015Z"
   },
   {
    "duration": 30,
    "start_time": "2022-08-10T15:28:37.207Z"
   },
   {
    "duration": 4,
    "start_time": "2022-08-10T15:28:38.319Z"
   },
   {
    "duration": 5,
    "start_time": "2022-08-10T15:28:47.260Z"
   },
   {
    "duration": 343,
    "start_time": "2022-08-10T15:28:47.267Z"
   },
   {
    "duration": 16,
    "start_time": "2022-08-10T15:28:47.611Z"
   },
   {
    "duration": 6,
    "start_time": "2022-08-10T15:28:47.628Z"
   },
   {
    "duration": 188,
    "start_time": "2022-08-10T15:28:47.635Z"
   },
   {
    "duration": 12,
    "start_time": "2022-08-10T15:28:47.824Z"
   },
   {
    "duration": 4,
    "start_time": "2022-08-10T15:28:47.838Z"
   },
   {
    "duration": 382,
    "start_time": "2022-08-10T15:28:47.843Z"
   },
   {
    "duration": 17,
    "start_time": "2022-08-10T15:28:48.226Z"
   },
   {
    "duration": 7,
    "start_time": "2022-08-10T15:28:48.245Z"
   },
   {
    "duration": 8,
    "start_time": "2022-08-10T15:28:48.253Z"
   },
   {
    "duration": 6,
    "start_time": "2022-08-10T15:28:48.262Z"
   },
   {
    "duration": 4,
    "start_time": "2022-08-10T15:28:48.270Z"
   },
   {
    "duration": 7,
    "start_time": "2022-08-10T15:28:48.276Z"
   },
   {
    "duration": 26,
    "start_time": "2022-08-10T15:28:48.285Z"
   },
   {
    "duration": 6,
    "start_time": "2022-08-10T15:28:48.313Z"
   },
   {
    "duration": 9,
    "start_time": "2022-08-10T15:28:48.320Z"
   },
   {
    "duration": 7,
    "start_time": "2022-08-10T15:28:48.330Z"
   },
   {
    "duration": 5,
    "start_time": "2022-08-10T15:28:48.338Z"
   },
   {
    "duration": 8,
    "start_time": "2022-08-10T15:28:48.344Z"
   },
   {
    "duration": 3,
    "start_time": "2022-08-10T15:28:48.356Z"
   },
   {
    "duration": 7,
    "start_time": "2022-08-10T15:28:48.361Z"
   },
   {
    "duration": 6,
    "start_time": "2022-08-10T15:28:48.369Z"
   },
   {
    "duration": 33,
    "start_time": "2022-08-10T15:28:48.377Z"
   },
   {
    "duration": 12,
    "start_time": "2022-08-10T15:28:48.412Z"
   },
   {
    "duration": 6,
    "start_time": "2022-08-10T15:28:48.426Z"
   },
   {
    "duration": 418,
    "start_time": "2022-08-10T15:28:48.433Z"
   },
   {
    "duration": 5,
    "start_time": "2022-08-10T15:28:48.852Z"
   },
   {
    "duration": 259,
    "start_time": "2022-08-10T15:28:48.858Z"
   },
   {
    "duration": 4,
    "start_time": "2022-08-10T15:28:49.118Z"
   },
   {
    "duration": 262,
    "start_time": "2022-08-10T15:28:49.123Z"
   },
   {
    "duration": 4,
    "start_time": "2022-08-10T15:28:49.387Z"
   },
   {
    "duration": 286,
    "start_time": "2022-08-10T15:28:49.393Z"
   },
   {
    "duration": 5,
    "start_time": "2022-08-10T15:28:49.681Z"
   },
   {
    "duration": 451,
    "start_time": "2022-08-10T15:28:49.688Z"
   },
   {
    "duration": 3,
    "start_time": "2022-08-10T15:28:50.141Z"
   },
   {
    "duration": 7,
    "start_time": "2022-08-10T15:28:50.145Z"
   },
   {
    "duration": 11,
    "start_time": "2022-08-10T15:28:50.153Z"
   },
   {
    "duration": 29,
    "start_time": "2022-08-10T15:28:50.166Z"
   },
   {
    "duration": 12,
    "start_time": "2022-08-10T15:28:50.197Z"
   },
   {
    "duration": 25,
    "start_time": "2022-08-10T15:28:50.211Z"
   },
   {
    "duration": 4,
    "start_time": "2022-08-10T15:28:50.237Z"
   },
   {
    "duration": 8,
    "start_time": "2022-08-10T15:28:50.242Z"
   },
   {
    "duration": 9,
    "start_time": "2022-08-10T15:28:50.251Z"
   },
   {
    "duration": 14,
    "start_time": "2022-08-10T15:28:50.261Z"
   },
   {
    "duration": 3,
    "start_time": "2022-08-10T15:28:50.276Z"
   },
   {
    "duration": 7,
    "start_time": "2022-08-10T15:28:50.281Z"
   },
   {
    "duration": 20,
    "start_time": "2022-08-10T15:28:50.289Z"
   },
   {
    "duration": 4,
    "start_time": "2022-08-10T15:28:50.310Z"
   },
   {
    "duration": 7924,
    "start_time": "2022-08-10T15:28:50.315Z"
   },
   {
    "duration": 7861,
    "start_time": "2022-08-10T15:28:58.240Z"
   },
   {
    "duration": 6,
    "start_time": "2022-08-10T15:29:06.103Z"
   },
   {
    "duration": 779,
    "start_time": "2022-08-10T15:29:06.111Z"
   },
   {
    "duration": 807,
    "start_time": "2022-08-10T15:29:06.893Z"
   },
   {
    "duration": 700,
    "start_time": "2022-08-10T15:29:07.702Z"
   },
   {
    "duration": 685,
    "start_time": "2022-08-10T15:29:08.403Z"
   },
   {
    "duration": 3,
    "start_time": "2022-08-10T15:29:09.089Z"
   },
   {
    "duration": 2293,
    "start_time": "2022-08-10T15:29:09.093Z"
   },
   {
    "duration": 2227,
    "start_time": "2022-08-10T15:29:11.388Z"
   },
   {
    "duration": 193,
    "start_time": "2022-08-10T15:29:13.617Z"
   },
   {
    "duration": 200,
    "start_time": "2022-08-10T15:29:13.813Z"
   },
   {
    "duration": 94,
    "start_time": "2022-08-10T15:29:14.015Z"
   },
   {
    "duration": 806,
    "start_time": "2022-08-10T15:29:14.111Z"
   },
   {
    "duration": 1000,
    "start_time": "2022-08-10T15:29:15.010Z"
   },
   {
    "duration": 301,
    "start_time": "2022-08-10T15:29:16.012Z"
   },
   {
    "duration": 46,
    "start_time": "2022-08-10T20:36:08.919Z"
   },
   {
    "duration": 6,
    "start_time": "2022-08-10T20:36:28.562Z"
   },
   {
    "duration": 1128,
    "start_time": "2022-08-10T20:36:35.165Z"
   },
   {
    "duration": 945,
    "start_time": "2022-08-10T20:36:36.295Z"
   },
   {
    "duration": 20,
    "start_time": "2022-08-10T20:36:37.242Z"
   },
   {
    "duration": 15,
    "start_time": "2022-08-10T20:36:37.265Z"
   },
   {
    "duration": 437,
    "start_time": "2022-08-10T20:36:37.282Z"
   },
   {
    "duration": 12,
    "start_time": "2022-08-10T20:36:37.720Z"
   },
   {
    "duration": 4,
    "start_time": "2022-08-10T20:36:37.733Z"
   },
   {
    "duration": 1928,
    "start_time": "2022-08-10T20:36:37.739Z"
   },
   {
    "duration": 16,
    "start_time": "2022-08-10T20:36:39.669Z"
   },
   {
    "duration": 7,
    "start_time": "2022-08-10T20:36:39.687Z"
   },
   {
    "duration": 8,
    "start_time": "2022-08-10T20:36:39.696Z"
   },
   {
    "duration": 15,
    "start_time": "2022-08-10T20:36:39.705Z"
   },
   {
    "duration": 10,
    "start_time": "2022-08-10T20:36:39.721Z"
   },
   {
    "duration": 9,
    "start_time": "2022-08-10T20:36:39.732Z"
   },
   {
    "duration": 6,
    "start_time": "2022-08-10T20:36:39.742Z"
   },
   {
    "duration": 6,
    "start_time": "2022-08-10T20:36:39.749Z"
   },
   {
    "duration": 12,
    "start_time": "2022-08-10T20:36:39.756Z"
   },
   {
    "duration": 11,
    "start_time": "2022-08-10T20:36:39.769Z"
   },
   {
    "duration": 7,
    "start_time": "2022-08-10T20:36:39.782Z"
   },
   {
    "duration": 19,
    "start_time": "2022-08-10T20:36:39.791Z"
   },
   {
    "duration": 8,
    "start_time": "2022-08-10T20:36:39.811Z"
   },
   {
    "duration": 9,
    "start_time": "2022-08-10T20:36:39.820Z"
   },
   {
    "duration": 24,
    "start_time": "2022-08-10T20:36:39.831Z"
   },
   {
    "duration": 6,
    "start_time": "2022-08-10T20:36:39.857Z"
   },
   {
    "duration": 5,
    "start_time": "2022-08-10T20:36:39.865Z"
   },
   {
    "duration": 7,
    "start_time": "2022-08-10T20:36:39.871Z"
   },
   {
    "duration": 870,
    "start_time": "2022-08-10T20:36:39.879Z"
   },
   {
    "duration": 4,
    "start_time": "2022-08-10T20:36:40.753Z"
   },
   {
    "duration": 368,
    "start_time": "2022-08-10T20:36:40.759Z"
   },
   {
    "duration": 5,
    "start_time": "2022-08-10T20:36:41.129Z"
   },
   {
    "duration": 283,
    "start_time": "2022-08-10T20:36:41.135Z"
   },
   {
    "duration": 6,
    "start_time": "2022-08-10T20:36:41.419Z"
   },
   {
    "duration": 290,
    "start_time": "2022-08-10T20:36:41.426Z"
   },
   {
    "duration": 5,
    "start_time": "2022-08-10T20:36:41.717Z"
   },
   {
    "duration": 280,
    "start_time": "2022-08-10T20:36:41.724Z"
   },
   {
    "duration": 4,
    "start_time": "2022-08-10T20:36:42.006Z"
   },
   {
    "duration": 8,
    "start_time": "2022-08-10T20:36:42.011Z"
   },
   {
    "duration": 991,
    "start_time": "2022-08-10T20:36:42.021Z"
   },
   {
    "duration": 0,
    "start_time": "2022-08-10T20:36:43.014Z"
   },
   {
    "duration": 0,
    "start_time": "2022-08-10T20:36:43.015Z"
   },
   {
    "duration": 0,
    "start_time": "2022-08-10T20:36:43.017Z"
   },
   {
    "duration": 0,
    "start_time": "2022-08-10T20:36:43.018Z"
   },
   {
    "duration": 0,
    "start_time": "2022-08-10T20:36:43.019Z"
   },
   {
    "duration": 0,
    "start_time": "2022-08-10T20:36:43.021Z"
   },
   {
    "duration": 0,
    "start_time": "2022-08-10T20:36:43.022Z"
   },
   {
    "duration": 0,
    "start_time": "2022-08-10T20:36:43.023Z"
   },
   {
    "duration": 0,
    "start_time": "2022-08-10T20:36:43.024Z"
   },
   {
    "duration": 0,
    "start_time": "2022-08-10T20:36:43.025Z"
   },
   {
    "duration": 0,
    "start_time": "2022-08-10T20:36:43.026Z"
   },
   {
    "duration": 0,
    "start_time": "2022-08-10T20:36:43.027Z"
   },
   {
    "duration": 0,
    "start_time": "2022-08-10T20:36:43.029Z"
   },
   {
    "duration": 0,
    "start_time": "2022-08-10T20:36:43.030Z"
   },
   {
    "duration": 0,
    "start_time": "2022-08-10T20:36:43.031Z"
   },
   {
    "duration": 0,
    "start_time": "2022-08-10T20:36:43.032Z"
   },
   {
    "duration": 0,
    "start_time": "2022-08-10T20:36:43.033Z"
   },
   {
    "duration": 0,
    "start_time": "2022-08-10T20:36:43.034Z"
   },
   {
    "duration": 0,
    "start_time": "2022-08-10T20:36:43.036Z"
   },
   {
    "duration": 0,
    "start_time": "2022-08-10T20:36:43.037Z"
   },
   {
    "duration": 0,
    "start_time": "2022-08-10T20:36:43.038Z"
   },
   {
    "duration": 0,
    "start_time": "2022-08-10T20:36:43.040Z"
   },
   {
    "duration": 0,
    "start_time": "2022-08-10T20:36:43.041Z"
   },
   {
    "duration": 0,
    "start_time": "2022-08-10T20:36:43.042Z"
   },
   {
    "duration": 0,
    "start_time": "2022-08-10T20:36:43.043Z"
   },
   {
    "duration": 0,
    "start_time": "2022-08-10T20:36:43.045Z"
   },
   {
    "duration": 0,
    "start_time": "2022-08-10T20:36:43.046Z"
   },
   {
    "duration": 0,
    "start_time": "2022-08-10T20:36:43.047Z"
   },
   {
    "duration": 0,
    "start_time": "2022-08-10T20:36:43.048Z"
   },
   {
    "duration": 4,
    "start_time": "2022-08-10T20:38:53.727Z"
   },
   {
    "duration": 4,
    "start_time": "2022-08-10T20:38:55.767Z"
   },
   {
    "duration": 2737,
    "start_time": "2022-08-10T20:40:29.257Z"
   },
   {
    "duration": 0,
    "start_time": "2022-08-10T20:40:31.996Z"
   },
   {
    "duration": 2,
    "start_time": "2022-08-10T20:41:18.009Z"
   },
   {
    "duration": 4,
    "start_time": "2022-08-10T20:41:21.814Z"
   },
   {
    "duration": 49,
    "start_time": "2022-08-10T20:41:59.725Z"
   },
   {
    "duration": 11,
    "start_time": "2022-08-10T20:42:08.323Z"
   },
   {
    "duration": 3,
    "start_time": "2022-08-10T20:42:21.268Z"
   },
   {
    "duration": 289,
    "start_time": "2022-08-10T20:42:21.287Z"
   },
   {
    "duration": 16,
    "start_time": "2022-08-10T20:42:21.578Z"
   },
   {
    "duration": 6,
    "start_time": "2022-08-10T20:42:21.610Z"
   },
   {
    "duration": 89,
    "start_time": "2022-08-10T20:42:21.617Z"
   },
   {
    "duration": 11,
    "start_time": "2022-08-10T20:42:21.708Z"
   },
   {
    "duration": 10,
    "start_time": "2022-08-10T20:42:21.721Z"
   },
   {
    "duration": 330,
    "start_time": "2022-08-10T20:42:21.732Z"
   },
   {
    "duration": 16,
    "start_time": "2022-08-10T20:42:22.064Z"
   },
   {
    "duration": 7,
    "start_time": "2022-08-10T20:42:22.081Z"
   },
   {
    "duration": 22,
    "start_time": "2022-08-10T20:42:22.090Z"
   },
   {
    "duration": 14,
    "start_time": "2022-08-10T20:42:22.113Z"
   },
   {
    "duration": 7,
    "start_time": "2022-08-10T20:42:22.129Z"
   },
   {
    "duration": 9,
    "start_time": "2022-08-10T20:42:22.137Z"
   },
   {
    "duration": 6,
    "start_time": "2022-08-10T20:42:22.148Z"
   },
   {
    "duration": 11,
    "start_time": "2022-08-10T20:42:22.155Z"
   },
   {
    "duration": 7,
    "start_time": "2022-08-10T20:42:22.167Z"
   },
   {
    "duration": 7,
    "start_time": "2022-08-10T20:42:22.175Z"
   },
   {
    "duration": 6,
    "start_time": "2022-08-10T20:42:22.184Z"
   },
   {
    "duration": 18,
    "start_time": "2022-08-10T20:42:22.192Z"
   },
   {
    "duration": 4,
    "start_time": "2022-08-10T20:42:22.212Z"
   },
   {
    "duration": 21,
    "start_time": "2022-08-10T20:42:22.218Z"
   },
   {
    "duration": 20,
    "start_time": "2022-08-10T20:42:22.240Z"
   },
   {
    "duration": 9,
    "start_time": "2022-08-10T20:42:22.261Z"
   },
   {
    "duration": 12,
    "start_time": "2022-08-10T20:42:22.272Z"
   },
   {
    "duration": 20,
    "start_time": "2022-08-10T20:42:22.286Z"
   },
   {
    "duration": 542,
    "start_time": "2022-08-10T20:42:22.307Z"
   },
   {
    "duration": 5,
    "start_time": "2022-08-10T20:42:22.850Z"
   },
   {
    "duration": 271,
    "start_time": "2022-08-10T20:42:22.856Z"
   },
   {
    "duration": 4,
    "start_time": "2022-08-10T20:42:23.129Z"
   },
   {
    "duration": 270,
    "start_time": "2022-08-10T20:42:23.134Z"
   },
   {
    "duration": 6,
    "start_time": "2022-08-10T20:42:23.409Z"
   },
   {
    "duration": 280,
    "start_time": "2022-08-10T20:42:23.416Z"
   },
   {
    "duration": 11,
    "start_time": "2022-08-10T20:42:23.698Z"
   },
   {
    "duration": 266,
    "start_time": "2022-08-10T20:42:23.711Z"
   },
   {
    "duration": 3,
    "start_time": "2022-08-10T20:42:23.978Z"
   },
   {
    "duration": 7,
    "start_time": "2022-08-10T20:42:23.983Z"
   },
   {
    "duration": 25,
    "start_time": "2022-08-10T20:42:23.991Z"
   },
   {
    "duration": 0,
    "start_time": "2022-08-10T20:42:24.018Z"
   },
   {
    "duration": 0,
    "start_time": "2022-08-10T20:42:24.019Z"
   },
   {
    "duration": 0,
    "start_time": "2022-08-10T20:42:24.020Z"
   },
   {
    "duration": 0,
    "start_time": "2022-08-10T20:42:24.021Z"
   },
   {
    "duration": 0,
    "start_time": "2022-08-10T20:42:24.022Z"
   },
   {
    "duration": 0,
    "start_time": "2022-08-10T20:42:24.023Z"
   },
   {
    "duration": 0,
    "start_time": "2022-08-10T20:42:24.025Z"
   },
   {
    "duration": 0,
    "start_time": "2022-08-10T20:42:24.026Z"
   },
   {
    "duration": 0,
    "start_time": "2022-08-10T20:42:24.027Z"
   },
   {
    "duration": 0,
    "start_time": "2022-08-10T20:42:24.028Z"
   },
   {
    "duration": 0,
    "start_time": "2022-08-10T20:42:24.029Z"
   },
   {
    "duration": 0,
    "start_time": "2022-08-10T20:42:24.030Z"
   },
   {
    "duration": 0,
    "start_time": "2022-08-10T20:42:24.031Z"
   },
   {
    "duration": 0,
    "start_time": "2022-08-10T20:42:24.032Z"
   },
   {
    "duration": 0,
    "start_time": "2022-08-10T20:42:24.032Z"
   },
   {
    "duration": 0,
    "start_time": "2022-08-10T20:42:24.033Z"
   },
   {
    "duration": 0,
    "start_time": "2022-08-10T20:42:24.034Z"
   },
   {
    "duration": 0,
    "start_time": "2022-08-10T20:42:24.035Z"
   },
   {
    "duration": 0,
    "start_time": "2022-08-10T20:42:24.036Z"
   },
   {
    "duration": 0,
    "start_time": "2022-08-10T20:42:24.037Z"
   },
   {
    "duration": 0,
    "start_time": "2022-08-10T20:42:24.038Z"
   },
   {
    "duration": 0,
    "start_time": "2022-08-10T20:42:24.038Z"
   },
   {
    "duration": 0,
    "start_time": "2022-08-10T20:42:24.039Z"
   },
   {
    "duration": 0,
    "start_time": "2022-08-10T20:42:24.040Z"
   },
   {
    "duration": 0,
    "start_time": "2022-08-10T20:42:24.041Z"
   },
   {
    "duration": 0,
    "start_time": "2022-08-10T20:42:24.042Z"
   },
   {
    "duration": 0,
    "start_time": "2022-08-10T20:42:24.043Z"
   },
   {
    "duration": 0,
    "start_time": "2022-08-10T20:42:24.044Z"
   },
   {
    "duration": 0,
    "start_time": "2022-08-10T20:42:24.045Z"
   },
   {
    "duration": 3,
    "start_time": "2022-08-10T20:42:59.890Z"
   },
   {
    "duration": 4,
    "start_time": "2022-08-10T20:43:01.133Z"
   },
   {
    "duration": 9,
    "start_time": "2022-08-10T20:43:32.367Z"
   },
   {
    "duration": 4,
    "start_time": "2022-08-10T20:43:39.086Z"
   },
   {
    "duration": 276,
    "start_time": "2022-08-10T20:43:39.138Z"
   },
   {
    "duration": 15,
    "start_time": "2022-08-10T20:43:39.416Z"
   },
   {
    "duration": 6,
    "start_time": "2022-08-10T20:43:39.433Z"
   },
   {
    "duration": 94,
    "start_time": "2022-08-10T20:43:39.440Z"
   },
   {
    "duration": 12,
    "start_time": "2022-08-10T20:43:39.536Z"
   },
   {
    "duration": 5,
    "start_time": "2022-08-10T20:43:39.549Z"
   },
   {
    "duration": 327,
    "start_time": "2022-08-10T20:43:39.555Z"
   },
   {
    "duration": 26,
    "start_time": "2022-08-10T20:43:39.884Z"
   },
   {
    "duration": 8,
    "start_time": "2022-08-10T20:43:39.911Z"
   },
   {
    "duration": 11,
    "start_time": "2022-08-10T20:43:39.920Z"
   },
   {
    "duration": 6,
    "start_time": "2022-08-10T20:43:39.933Z"
   },
   {
    "duration": 5,
    "start_time": "2022-08-10T20:43:39.940Z"
   },
   {
    "duration": 5,
    "start_time": "2022-08-10T20:43:39.946Z"
   },
   {
    "duration": 5,
    "start_time": "2022-08-10T20:43:39.955Z"
   },
   {
    "duration": 6,
    "start_time": "2022-08-10T20:43:39.961Z"
   },
   {
    "duration": 5,
    "start_time": "2022-08-10T20:43:39.969Z"
   },
   {
    "duration": 38,
    "start_time": "2022-08-10T20:43:39.975Z"
   },
   {
    "duration": 7,
    "start_time": "2022-08-10T20:43:40.015Z"
   },
   {
    "duration": 13,
    "start_time": "2022-08-10T20:43:40.024Z"
   },
   {
    "duration": 12,
    "start_time": "2022-08-10T20:43:40.039Z"
   },
   {
    "duration": 22,
    "start_time": "2022-08-10T20:43:40.053Z"
   },
   {
    "duration": 17,
    "start_time": "2022-08-10T20:43:40.076Z"
   },
   {
    "duration": 19,
    "start_time": "2022-08-10T20:43:40.095Z"
   },
   {
    "duration": 22,
    "start_time": "2022-08-10T20:43:40.116Z"
   },
   {
    "duration": 26,
    "start_time": "2022-08-10T20:43:40.140Z"
   },
   {
    "duration": 543,
    "start_time": "2022-08-10T20:43:40.168Z"
   },
   {
    "duration": 4,
    "start_time": "2022-08-10T20:43:40.712Z"
   },
   {
    "duration": 260,
    "start_time": "2022-08-10T20:43:40.718Z"
   },
   {
    "duration": 4,
    "start_time": "2022-08-10T20:43:40.980Z"
   },
   {
    "duration": 278,
    "start_time": "2022-08-10T20:43:40.985Z"
   },
   {
    "duration": 4,
    "start_time": "2022-08-10T20:43:41.265Z"
   },
   {
    "duration": 281,
    "start_time": "2022-08-10T20:43:41.271Z"
   },
   {
    "duration": 5,
    "start_time": "2022-08-10T20:43:41.554Z"
   },
   {
    "duration": 285,
    "start_time": "2022-08-10T20:43:41.560Z"
   },
   {
    "duration": 3,
    "start_time": "2022-08-10T20:43:41.847Z"
   },
   {
    "duration": 7,
    "start_time": "2022-08-10T20:43:41.852Z"
   },
   {
    "duration": 11,
    "start_time": "2022-08-10T20:43:41.861Z"
   },
   {
    "duration": 6,
    "start_time": "2022-08-10T20:43:41.874Z"
   },
   {
    "duration": 28,
    "start_time": "2022-08-10T20:43:41.882Z"
   },
   {
    "duration": 37,
    "start_time": "2022-08-10T20:43:41.911Z"
   },
   {
    "duration": 3,
    "start_time": "2022-08-10T20:43:41.952Z"
   },
   {
    "duration": 30,
    "start_time": "2022-08-10T20:43:41.957Z"
   },
   {
    "duration": 3,
    "start_time": "2022-08-10T20:43:41.988Z"
   },
   {
    "duration": 20,
    "start_time": "2022-08-10T20:43:41.993Z"
   },
   {
    "duration": 11,
    "start_time": "2022-08-10T20:43:42.014Z"
   },
   {
    "duration": 10,
    "start_time": "2022-08-10T20:43:42.026Z"
   },
   {
    "duration": 3,
    "start_time": "2022-08-10T20:43:42.038Z"
   },
   {
    "duration": 7,
    "start_time": "2022-08-10T20:43:42.043Z"
   },
   {
    "duration": 5,
    "start_time": "2022-08-10T20:43:42.051Z"
   },
   {
    "duration": 7,
    "start_time": "2022-08-10T20:43:42.057Z"
   },
   {
    "duration": 8918,
    "start_time": "2022-08-10T20:43:42.066Z"
   },
   {
    "duration": 7861,
    "start_time": "2022-08-10T20:43:50.986Z"
   },
   {
    "duration": 3,
    "start_time": "2022-08-10T20:43:58.849Z"
   },
   {
    "duration": 787,
    "start_time": "2022-08-10T20:43:58.853Z"
   },
   {
    "duration": 769,
    "start_time": "2022-08-10T20:43:59.641Z"
   },
   {
    "duration": 702,
    "start_time": "2022-08-10T20:44:00.412Z"
   },
   {
    "duration": 726,
    "start_time": "2022-08-10T20:44:01.115Z"
   },
   {
    "duration": 3,
    "start_time": "2022-08-10T20:44:01.843Z"
   },
   {
    "duration": 2307,
    "start_time": "2022-08-10T20:44:01.847Z"
   },
   {
    "duration": 2263,
    "start_time": "2022-08-10T20:44:04.156Z"
   },
   {
    "duration": 188,
    "start_time": "2022-08-10T20:44:06.421Z"
   },
   {
    "duration": 201,
    "start_time": "2022-08-10T20:44:06.611Z"
   },
   {
    "duration": 96,
    "start_time": "2022-08-10T20:44:06.814Z"
   },
   {
    "duration": 704,
    "start_time": "2022-08-10T20:44:06.911Z"
   },
   {
    "duration": 994,
    "start_time": "2022-08-10T20:44:07.618Z"
   },
   {
    "duration": 295,
    "start_time": "2022-08-10T20:44:08.614Z"
   },
   {
    "duration": 14,
    "start_time": "2022-08-10T20:44:08.915Z"
   },
   {
    "duration": 3,
    "start_time": "2022-08-10T20:44:09.010Z"
   },
   {
    "duration": 5,
    "start_time": "2022-08-10T20:44:13.708Z"
   },
   {
    "duration": 4,
    "start_time": "2022-08-10T20:45:41.744Z"
   },
   {
    "duration": 318,
    "start_time": "2022-08-10T20:45:41.770Z"
   },
   {
    "duration": 32,
    "start_time": "2022-08-10T20:45:42.090Z"
   },
   {
    "duration": 7,
    "start_time": "2022-08-10T20:45:42.124Z"
   },
   {
    "duration": 107,
    "start_time": "2022-08-10T20:45:42.133Z"
   },
   {
    "duration": 13,
    "start_time": "2022-08-10T20:45:42.242Z"
   },
   {
    "duration": 5,
    "start_time": "2022-08-10T20:45:42.257Z"
   },
   {
    "duration": 362,
    "start_time": "2022-08-10T20:45:42.264Z"
   },
   {
    "duration": 18,
    "start_time": "2022-08-10T20:45:42.627Z"
   },
   {
    "duration": 7,
    "start_time": "2022-08-10T20:45:42.647Z"
   },
   {
    "duration": 11,
    "start_time": "2022-08-10T20:45:42.655Z"
   },
   {
    "duration": 6,
    "start_time": "2022-08-10T20:45:42.667Z"
   },
   {
    "duration": 5,
    "start_time": "2022-08-10T20:45:42.675Z"
   },
   {
    "duration": 30,
    "start_time": "2022-08-10T20:45:42.682Z"
   },
   {
    "duration": 8,
    "start_time": "2022-08-10T20:45:42.715Z"
   },
   {
    "duration": 9,
    "start_time": "2022-08-10T20:45:42.724Z"
   },
   {
    "duration": 6,
    "start_time": "2022-08-10T20:45:42.735Z"
   },
   {
    "duration": 6,
    "start_time": "2022-08-10T20:45:42.743Z"
   },
   {
    "duration": 7,
    "start_time": "2022-08-10T20:45:42.751Z"
   },
   {
    "duration": 7,
    "start_time": "2022-08-10T20:45:42.759Z"
   },
   {
    "duration": 9,
    "start_time": "2022-08-10T20:45:42.767Z"
   },
   {
    "duration": 32,
    "start_time": "2022-08-10T20:45:42.777Z"
   },
   {
    "duration": 4,
    "start_time": "2022-08-10T20:45:42.811Z"
   },
   {
    "duration": 6,
    "start_time": "2022-08-10T20:45:42.817Z"
   },
   {
    "duration": 5,
    "start_time": "2022-08-10T20:45:42.824Z"
   },
   {
    "duration": 7,
    "start_time": "2022-08-10T20:45:42.830Z"
   },
   {
    "duration": 564,
    "start_time": "2022-08-10T20:45:42.838Z"
   },
   {
    "duration": 8,
    "start_time": "2022-08-10T20:45:43.404Z"
   },
   {
    "duration": 280,
    "start_time": "2022-08-10T20:45:43.413Z"
   },
   {
    "duration": 14,
    "start_time": "2022-08-10T20:45:43.695Z"
   },
   {
    "duration": 283,
    "start_time": "2022-08-10T20:45:43.711Z"
   },
   {
    "duration": 5,
    "start_time": "2022-08-10T20:45:43.996Z"
   },
   {
    "duration": 281,
    "start_time": "2022-08-10T20:45:44.008Z"
   },
   {
    "duration": 5,
    "start_time": "2022-08-10T20:45:44.291Z"
   },
   {
    "duration": 280,
    "start_time": "2022-08-10T20:45:44.297Z"
   },
   {
    "duration": 3,
    "start_time": "2022-08-10T20:45:44.578Z"
   },
   {
    "duration": 7,
    "start_time": "2022-08-10T20:45:44.583Z"
   },
   {
    "duration": 18,
    "start_time": "2022-08-10T20:45:44.591Z"
   },
   {
    "duration": 4,
    "start_time": "2022-08-10T20:45:44.610Z"
   },
   {
    "duration": 9,
    "start_time": "2022-08-10T20:45:44.615Z"
   },
   {
    "duration": 40,
    "start_time": "2022-08-10T20:45:44.625Z"
   },
   {
    "duration": 4,
    "start_time": "2022-08-10T20:45:44.670Z"
   },
   {
    "duration": 43,
    "start_time": "2022-08-10T20:45:44.676Z"
   },
   {
    "duration": 5,
    "start_time": "2022-08-10T20:45:44.720Z"
   },
   {
    "duration": 8,
    "start_time": "2022-08-10T20:45:44.727Z"
   },
   {
    "duration": 9,
    "start_time": "2022-08-10T20:45:44.737Z"
   },
   {
    "duration": 14,
    "start_time": "2022-08-10T20:45:44.747Z"
   },
   {
    "duration": 3,
    "start_time": "2022-08-10T20:45:44.762Z"
   },
   {
    "duration": 7,
    "start_time": "2022-08-10T20:45:44.767Z"
   },
   {
    "duration": 5,
    "start_time": "2022-08-10T20:45:44.775Z"
   },
   {
    "duration": 28,
    "start_time": "2022-08-10T20:45:44.782Z"
   },
   {
    "duration": 8670,
    "start_time": "2022-08-10T20:45:44.811Z"
   },
   {
    "duration": 7865,
    "start_time": "2022-08-10T20:45:53.483Z"
   },
   {
    "duration": 3,
    "start_time": "2022-08-10T20:46:01.350Z"
   },
   {
    "duration": 872,
    "start_time": "2022-08-10T20:46:01.355Z"
   },
   {
    "duration": 765,
    "start_time": "2022-08-10T20:46:02.229Z"
   },
   {
    "duration": 696,
    "start_time": "2022-08-10T20:46:02.995Z"
   },
   {
    "duration": 677,
    "start_time": "2022-08-10T20:46:03.693Z"
   },
   {
    "duration": 3,
    "start_time": "2022-08-10T20:46:04.372Z"
   },
   {
    "duration": 2350,
    "start_time": "2022-08-10T20:46:04.376Z"
   },
   {
    "duration": 2269,
    "start_time": "2022-08-10T20:46:06.727Z"
   },
   {
    "duration": 215,
    "start_time": "2022-08-10T20:46:08.997Z"
   },
   {
    "duration": 308,
    "start_time": "2022-08-10T20:46:09.214Z"
   },
   {
    "duration": 5,
    "start_time": "2022-08-10T20:46:09.609Z"
   },
   {
    "duration": 795,
    "start_time": "2022-08-10T20:46:09.615Z"
   },
   {
    "duration": 801,
    "start_time": "2022-08-10T20:46:10.411Z"
   },
   {
    "duration": 204,
    "start_time": "2022-08-10T20:46:11.214Z"
   },
   {
    "duration": 9,
    "start_time": "2022-08-10T20:47:54.714Z"
   },
   {
    "duration": 9,
    "start_time": "2022-08-10T20:48:31.036Z"
   },
   {
    "duration": 3,
    "start_time": "2022-08-10T20:48:39.095Z"
   },
   {
    "duration": 302,
    "start_time": "2022-08-10T20:48:39.117Z"
   },
   {
    "duration": 15,
    "start_time": "2022-08-10T20:48:39.421Z"
   },
   {
    "duration": 6,
    "start_time": "2022-08-10T20:48:39.438Z"
   },
   {
    "duration": 102,
    "start_time": "2022-08-10T20:48:39.446Z"
   },
   {
    "duration": 12,
    "start_time": "2022-08-10T20:48:39.551Z"
   },
   {
    "duration": 4,
    "start_time": "2022-08-10T20:48:39.565Z"
   },
   {
    "duration": 348,
    "start_time": "2022-08-10T20:48:39.571Z"
   },
   {
    "duration": 16,
    "start_time": "2022-08-10T20:48:39.920Z"
   },
   {
    "duration": 7,
    "start_time": "2022-08-10T20:48:39.938Z"
   },
   {
    "duration": 8,
    "start_time": "2022-08-10T20:48:39.946Z"
   },
   {
    "duration": 7,
    "start_time": "2022-08-10T20:48:39.956Z"
   },
   {
    "duration": 5,
    "start_time": "2022-08-10T20:48:39.965Z"
   },
   {
    "duration": 6,
    "start_time": "2022-08-10T20:48:39.972Z"
   },
   {
    "duration": 31,
    "start_time": "2022-08-10T20:48:39.981Z"
   },
   {
    "duration": 5,
    "start_time": "2022-08-10T20:48:40.014Z"
   },
   {
    "duration": 13,
    "start_time": "2022-08-10T20:48:40.021Z"
   },
   {
    "duration": 8,
    "start_time": "2022-08-10T20:48:40.036Z"
   },
   {
    "duration": 7,
    "start_time": "2022-08-10T20:48:40.046Z"
   },
   {
    "duration": 7,
    "start_time": "2022-08-10T20:48:40.054Z"
   },
   {
    "duration": 5,
    "start_time": "2022-08-10T20:48:40.062Z"
   },
   {
    "duration": 7,
    "start_time": "2022-08-10T20:48:40.069Z"
   },
   {
    "duration": 33,
    "start_time": "2022-08-10T20:48:40.077Z"
   },
   {
    "duration": 7,
    "start_time": "2022-08-10T20:48:40.111Z"
   },
   {
    "duration": 7,
    "start_time": "2022-08-10T20:48:40.119Z"
   },
   {
    "duration": 5,
    "start_time": "2022-08-10T20:48:40.127Z"
   },
   {
    "duration": 451,
    "start_time": "2022-08-10T20:48:40.133Z"
   },
   {
    "duration": 5,
    "start_time": "2022-08-10T20:48:40.585Z"
   },
   {
    "duration": 268,
    "start_time": "2022-08-10T20:48:40.592Z"
   },
   {
    "duration": 5,
    "start_time": "2022-08-10T20:48:40.862Z"
   },
   {
    "duration": 268,
    "start_time": "2022-08-10T20:48:40.868Z"
   },
   {
    "duration": 5,
    "start_time": "2022-08-10T20:48:41.137Z"
   },
   {
    "duration": 282,
    "start_time": "2022-08-10T20:48:41.144Z"
   },
   {
    "duration": 5,
    "start_time": "2022-08-10T20:48:41.428Z"
   },
   {
    "duration": 400,
    "start_time": "2022-08-10T20:48:41.434Z"
   },
   {
    "duration": 3,
    "start_time": "2022-08-10T20:48:41.835Z"
   },
   {
    "duration": 8,
    "start_time": "2022-08-10T20:48:41.839Z"
   },
   {
    "duration": 11,
    "start_time": "2022-08-10T20:48:41.849Z"
   },
   {
    "duration": 0,
    "start_time": "2022-08-10T20:48:41.862Z"
   },
   {
    "duration": 0,
    "start_time": "2022-08-10T20:48:41.863Z"
   },
   {
    "duration": 0,
    "start_time": "2022-08-10T20:48:41.864Z"
   },
   {
    "duration": 0,
    "start_time": "2022-08-10T20:48:41.865Z"
   },
   {
    "duration": 0,
    "start_time": "2022-08-10T20:48:41.866Z"
   },
   {
    "duration": 0,
    "start_time": "2022-08-10T20:48:41.867Z"
   },
   {
    "duration": 0,
    "start_time": "2022-08-10T20:48:41.868Z"
   },
   {
    "duration": 0,
    "start_time": "2022-08-10T20:48:41.869Z"
   },
   {
    "duration": 0,
    "start_time": "2022-08-10T20:48:41.871Z"
   },
   {
    "duration": 0,
    "start_time": "2022-08-10T20:48:41.871Z"
   },
   {
    "duration": 0,
    "start_time": "2022-08-10T20:48:41.872Z"
   },
   {
    "duration": 0,
    "start_time": "2022-08-10T20:48:41.873Z"
   },
   {
    "duration": 0,
    "start_time": "2022-08-10T20:48:41.909Z"
   },
   {
    "duration": 0,
    "start_time": "2022-08-10T20:48:41.910Z"
   },
   {
    "duration": 0,
    "start_time": "2022-08-10T20:48:41.911Z"
   },
   {
    "duration": 0,
    "start_time": "2022-08-10T20:48:41.912Z"
   },
   {
    "duration": 0,
    "start_time": "2022-08-10T20:48:41.913Z"
   },
   {
    "duration": 0,
    "start_time": "2022-08-10T20:48:41.914Z"
   },
   {
    "duration": 0,
    "start_time": "2022-08-10T20:48:41.915Z"
   },
   {
    "duration": 0,
    "start_time": "2022-08-10T20:48:41.916Z"
   },
   {
    "duration": 0,
    "start_time": "2022-08-10T20:48:41.917Z"
   },
   {
    "duration": 0,
    "start_time": "2022-08-10T20:48:41.918Z"
   },
   {
    "duration": 0,
    "start_time": "2022-08-10T20:48:41.919Z"
   },
   {
    "duration": 0,
    "start_time": "2022-08-10T20:48:41.920Z"
   },
   {
    "duration": 0,
    "start_time": "2022-08-10T20:48:41.920Z"
   },
   {
    "duration": 0,
    "start_time": "2022-08-10T20:48:41.922Z"
   },
   {
    "duration": 0,
    "start_time": "2022-08-10T20:48:41.923Z"
   },
   {
    "duration": 0,
    "start_time": "2022-08-10T20:48:41.924Z"
   },
   {
    "duration": 0,
    "start_time": "2022-08-10T20:48:41.925Z"
   },
   {
    "duration": 0,
    "start_time": "2022-08-10T20:48:41.925Z"
   },
   {
    "duration": 10,
    "start_time": "2022-08-10T20:48:57.579Z"
   },
   {
    "duration": 5,
    "start_time": "2022-08-10T20:49:07.359Z"
   },
   {
    "duration": 288,
    "start_time": "2022-08-10T20:49:07.384Z"
   },
   {
    "duration": 35,
    "start_time": "2022-08-10T20:49:07.674Z"
   },
   {
    "duration": 7,
    "start_time": "2022-08-10T20:49:07.711Z"
   },
   {
    "duration": 90,
    "start_time": "2022-08-10T20:49:07.720Z"
   },
   {
    "duration": 12,
    "start_time": "2022-08-10T20:49:07.811Z"
   },
   {
    "duration": 7,
    "start_time": "2022-08-10T20:49:07.824Z"
   },
   {
    "duration": 372,
    "start_time": "2022-08-10T20:49:07.833Z"
   },
   {
    "duration": 16,
    "start_time": "2022-08-10T20:49:08.209Z"
   },
   {
    "duration": 7,
    "start_time": "2022-08-10T20:49:08.226Z"
   },
   {
    "duration": 7,
    "start_time": "2022-08-10T20:49:08.235Z"
   },
   {
    "duration": 13,
    "start_time": "2022-08-10T20:49:08.243Z"
   },
   {
    "duration": 5,
    "start_time": "2022-08-10T20:49:08.258Z"
   },
   {
    "duration": 9,
    "start_time": "2022-08-10T20:49:08.264Z"
   },
   {
    "duration": 7,
    "start_time": "2022-08-10T20:49:08.276Z"
   },
   {
    "duration": 28,
    "start_time": "2022-08-10T20:49:08.284Z"
   },
   {
    "duration": 7,
    "start_time": "2022-08-10T20:49:08.314Z"
   },
   {
    "duration": 10,
    "start_time": "2022-08-10T20:49:08.322Z"
   },
   {
    "duration": 8,
    "start_time": "2022-08-10T20:49:08.334Z"
   },
   {
    "duration": 8,
    "start_time": "2022-08-10T20:49:08.343Z"
   },
   {
    "duration": 6,
    "start_time": "2022-08-10T20:49:08.352Z"
   },
   {
    "duration": 6,
    "start_time": "2022-08-10T20:49:08.360Z"
   },
   {
    "duration": 7,
    "start_time": "2022-08-10T20:49:08.367Z"
   },
   {
    "duration": 5,
    "start_time": "2022-08-10T20:49:08.375Z"
   },
   {
    "duration": 29,
    "start_time": "2022-08-10T20:49:08.381Z"
   },
   {
    "duration": 4,
    "start_time": "2022-08-10T20:49:08.412Z"
   },
   {
    "duration": 434,
    "start_time": "2022-08-10T20:49:08.417Z"
   },
   {
    "duration": 5,
    "start_time": "2022-08-10T20:49:08.853Z"
   },
   {
    "duration": 270,
    "start_time": "2022-08-10T20:49:08.860Z"
   },
   {
    "duration": 5,
    "start_time": "2022-08-10T20:49:09.131Z"
   },
   {
    "duration": 271,
    "start_time": "2022-08-10T20:49:09.138Z"
   },
   {
    "duration": 4,
    "start_time": "2022-08-10T20:49:09.411Z"
   },
   {
    "duration": 289,
    "start_time": "2022-08-10T20:49:09.417Z"
   },
   {
    "duration": 5,
    "start_time": "2022-08-10T20:49:09.709Z"
   },
   {
    "duration": 427,
    "start_time": "2022-08-10T20:49:09.716Z"
   },
   {
    "duration": 4,
    "start_time": "2022-08-10T20:49:10.145Z"
   },
   {
    "duration": 9,
    "start_time": "2022-08-10T20:49:10.151Z"
   },
   {
    "duration": 14,
    "start_time": "2022-08-10T20:49:10.161Z"
   },
   {
    "duration": 0,
    "start_time": "2022-08-10T20:49:10.182Z"
   },
   {
    "duration": 0,
    "start_time": "2022-08-10T20:49:10.183Z"
   },
   {
    "duration": 0,
    "start_time": "2022-08-10T20:49:10.184Z"
   },
   {
    "duration": 0,
    "start_time": "2022-08-10T20:49:10.186Z"
   },
   {
    "duration": 0,
    "start_time": "2022-08-10T20:49:10.187Z"
   },
   {
    "duration": 0,
    "start_time": "2022-08-10T20:49:10.188Z"
   },
   {
    "duration": 0,
    "start_time": "2022-08-10T20:49:10.209Z"
   },
   {
    "duration": 0,
    "start_time": "2022-08-10T20:49:10.211Z"
   },
   {
    "duration": 0,
    "start_time": "2022-08-10T20:49:10.212Z"
   },
   {
    "duration": 0,
    "start_time": "2022-08-10T20:49:10.213Z"
   },
   {
    "duration": 0,
    "start_time": "2022-08-10T20:49:10.214Z"
   },
   {
    "duration": 0,
    "start_time": "2022-08-10T20:49:10.215Z"
   },
   {
    "duration": 0,
    "start_time": "2022-08-10T20:49:10.217Z"
   },
   {
    "duration": 0,
    "start_time": "2022-08-10T20:49:10.218Z"
   },
   {
    "duration": 0,
    "start_time": "2022-08-10T20:49:10.219Z"
   },
   {
    "duration": 0,
    "start_time": "2022-08-10T20:49:10.220Z"
   },
   {
    "duration": 0,
    "start_time": "2022-08-10T20:49:10.221Z"
   },
   {
    "duration": 0,
    "start_time": "2022-08-10T20:49:10.223Z"
   },
   {
    "duration": 0,
    "start_time": "2022-08-10T20:49:10.224Z"
   },
   {
    "duration": 0,
    "start_time": "2022-08-10T20:49:10.225Z"
   },
   {
    "duration": 0,
    "start_time": "2022-08-10T20:49:10.227Z"
   },
   {
    "duration": 0,
    "start_time": "2022-08-10T20:49:10.228Z"
   },
   {
    "duration": 0,
    "start_time": "2022-08-10T20:49:10.229Z"
   },
   {
    "duration": 0,
    "start_time": "2022-08-10T20:49:10.230Z"
   },
   {
    "duration": 0,
    "start_time": "2022-08-10T20:49:10.231Z"
   },
   {
    "duration": 0,
    "start_time": "2022-08-10T20:49:10.232Z"
   },
   {
    "duration": 0,
    "start_time": "2022-08-10T20:49:10.233Z"
   },
   {
    "duration": 0,
    "start_time": "2022-08-10T20:49:10.235Z"
   },
   {
    "duration": 0,
    "start_time": "2022-08-10T20:49:10.236Z"
   },
   {
    "duration": 0,
    "start_time": "2022-08-10T20:49:10.237Z"
   },
   {
    "duration": 2,
    "start_time": "2022-08-10T20:59:34.250Z"
   },
   {
    "duration": 4,
    "start_time": "2022-08-10T20:59:37.136Z"
   },
   {
    "duration": 6,
    "start_time": "2022-08-10T21:00:19.525Z"
   },
   {
    "duration": 1057,
    "start_time": "2022-08-10T21:09:53.519Z"
   },
   {
    "duration": 4,
    "start_time": "2022-08-10T21:17:19.797Z"
   },
   {
    "duration": 17,
    "start_time": "2022-08-10T21:17:49.222Z"
   },
   {
    "duration": 3,
    "start_time": "2022-08-10T21:17:49.845Z"
   },
   {
    "duration": 9,
    "start_time": "2022-08-10T21:20:28.647Z"
   },
   {
    "duration": 3,
    "start_time": "2022-08-10T21:20:29.033Z"
   },
   {
    "duration": 7,
    "start_time": "2022-08-10T21:21:17.507Z"
   },
   {
    "duration": 4,
    "start_time": "2022-08-10T21:21:17.952Z"
   },
   {
    "duration": 7,
    "start_time": "2022-08-10T21:21:52.729Z"
   },
   {
    "duration": 3,
    "start_time": "2022-08-10T21:21:53.153Z"
   },
   {
    "duration": 7,
    "start_time": "2022-08-10T21:22:17.647Z"
   },
   {
    "duration": 3,
    "start_time": "2022-08-10T21:22:17.919Z"
   },
   {
    "duration": 7,
    "start_time": "2022-08-10T21:22:40.713Z"
   },
   {
    "duration": 5,
    "start_time": "2022-08-10T21:22:41.043Z"
   },
   {
    "duration": 7,
    "start_time": "2022-08-10T21:23:01.666Z"
   },
   {
    "duration": 3,
    "start_time": "2022-08-10T21:23:02.178Z"
   },
   {
    "duration": 7,
    "start_time": "2022-08-10T21:23:28.818Z"
   },
   {
    "duration": 4,
    "start_time": "2022-08-10T21:23:29.210Z"
   },
   {
    "duration": 7,
    "start_time": "2022-08-10T21:23:54.772Z"
   },
   {
    "duration": 4,
    "start_time": "2022-08-10T21:23:55.070Z"
   },
   {
    "duration": 7,
    "start_time": "2022-08-10T21:24:36.419Z"
   },
   {
    "duration": 3,
    "start_time": "2022-08-10T21:24:36.861Z"
   },
   {
    "duration": 7,
    "start_time": "2022-08-10T21:25:00.824Z"
   },
   {
    "duration": 4,
    "start_time": "2022-08-10T21:25:01.248Z"
   },
   {
    "duration": 7,
    "start_time": "2022-08-10T21:25:40.892Z"
   },
   {
    "duration": 4,
    "start_time": "2022-08-10T21:25:41.298Z"
   },
   {
    "duration": 6,
    "start_time": "2022-08-10T21:26:02.823Z"
   },
   {
    "duration": 4,
    "start_time": "2022-08-10T21:26:03.150Z"
   },
   {
    "duration": 7,
    "start_time": "2022-08-10T21:26:26.165Z"
   },
   {
    "duration": 4,
    "start_time": "2022-08-10T21:26:26.532Z"
   },
   {
    "duration": 8,
    "start_time": "2022-08-10T21:26:41.973Z"
   },
   {
    "duration": 4,
    "start_time": "2022-08-10T21:26:42.263Z"
   },
   {
    "duration": 7,
    "start_time": "2022-08-10T21:27:02.814Z"
   },
   {
    "duration": 4,
    "start_time": "2022-08-10T21:27:03.092Z"
   },
   {
    "duration": 7,
    "start_time": "2022-08-10T21:27:21.034Z"
   },
   {
    "duration": 4,
    "start_time": "2022-08-10T21:27:21.344Z"
   },
   {
    "duration": 7,
    "start_time": "2022-08-10T21:27:40.664Z"
   },
   {
    "duration": 4,
    "start_time": "2022-08-10T21:27:41.070Z"
   },
   {
    "duration": 7,
    "start_time": "2022-08-10T21:28:01.527Z"
   },
   {
    "duration": 4,
    "start_time": "2022-08-10T21:28:01.825Z"
   },
   {
    "duration": 7,
    "start_time": "2022-08-10T21:28:20.874Z"
   },
   {
    "duration": 4,
    "start_time": "2022-08-10T21:28:21.269Z"
   },
   {
    "duration": 8,
    "start_time": "2022-08-10T21:28:46.824Z"
   },
   {
    "duration": 3,
    "start_time": "2022-08-10T21:28:47.146Z"
   },
   {
    "duration": 7,
    "start_time": "2022-08-10T21:29:16.417Z"
   },
   {
    "duration": 4,
    "start_time": "2022-08-10T21:29:16.730Z"
   },
   {
    "duration": 6,
    "start_time": "2022-08-10T21:31:24.106Z"
   },
   {
    "duration": 3,
    "start_time": "2022-08-10T21:31:24.529Z"
   },
   {
    "duration": 9,
    "start_time": "2022-08-10T21:31:59.962Z"
   },
   {
    "duration": 4,
    "start_time": "2022-08-10T21:32:00.431Z"
   },
   {
    "duration": 6,
    "start_time": "2022-08-10T21:32:35.112Z"
   },
   {
    "duration": 4,
    "start_time": "2022-08-10T21:32:35.457Z"
   },
   {
    "duration": 8,
    "start_time": "2022-08-10T21:32:55.461Z"
   },
   {
    "duration": 4,
    "start_time": "2022-08-10T21:32:55.840Z"
   },
   {
    "duration": 7,
    "start_time": "2022-08-10T21:33:39.343Z"
   },
   {
    "duration": 4,
    "start_time": "2022-08-10T21:33:39.701Z"
   },
   {
    "duration": 6,
    "start_time": "2022-08-10T21:33:57.801Z"
   },
   {
    "duration": 3,
    "start_time": "2022-08-10T21:33:58.182Z"
   },
   {
    "duration": 7,
    "start_time": "2022-08-10T21:34:26.274Z"
   },
   {
    "duration": 4,
    "start_time": "2022-08-10T21:34:26.796Z"
   },
   {
    "duration": 10,
    "start_time": "2022-08-10T21:34:51.838Z"
   },
   {
    "duration": 4,
    "start_time": "2022-08-10T21:34:52.294Z"
   },
   {
    "duration": 7,
    "start_time": "2022-08-10T21:35:19.689Z"
   },
   {
    "duration": 3,
    "start_time": "2022-08-10T21:35:20.055Z"
   },
   {
    "duration": 7,
    "start_time": "2022-08-10T21:35:39.371Z"
   },
   {
    "duration": 3,
    "start_time": "2022-08-10T21:35:39.730Z"
   },
   {
    "duration": 7,
    "start_time": "2022-08-10T21:36:12.880Z"
   },
   {
    "duration": 4,
    "start_time": "2022-08-10T21:36:13.378Z"
   },
   {
    "duration": 6,
    "start_time": "2022-08-10T21:36:37.479Z"
   },
   {
    "duration": 5,
    "start_time": "2022-08-10T21:36:37.757Z"
   },
   {
    "duration": 7,
    "start_time": "2022-08-10T21:37:00.495Z"
   },
   {
    "duration": 4,
    "start_time": "2022-08-10T21:37:00.779Z"
   },
   {
    "duration": 7,
    "start_time": "2022-08-10T21:37:25.342Z"
   },
   {
    "duration": 4,
    "start_time": "2022-08-10T21:37:25.658Z"
   },
   {
    "duration": 7,
    "start_time": "2022-08-10T21:37:45.590Z"
   },
   {
    "duration": 3,
    "start_time": "2022-08-10T21:37:46.570Z"
   },
   {
    "duration": 6,
    "start_time": "2022-08-10T21:38:04.579Z"
   },
   {
    "duration": 4,
    "start_time": "2022-08-10T21:38:04.900Z"
   },
   {
    "duration": 7,
    "start_time": "2022-08-10T21:38:24.981Z"
   },
   {
    "duration": 4,
    "start_time": "2022-08-10T21:38:25.287Z"
   },
   {
    "duration": 7,
    "start_time": "2022-08-10T21:38:51.981Z"
   },
   {
    "duration": 3,
    "start_time": "2022-08-10T21:38:52.233Z"
   },
   {
    "duration": 7,
    "start_time": "2022-08-10T21:39:17.977Z"
   },
   {
    "duration": 4,
    "start_time": "2022-08-10T21:39:18.295Z"
   },
   {
    "duration": 7,
    "start_time": "2022-08-10T21:39:43.738Z"
   },
   {
    "duration": 3,
    "start_time": "2022-08-10T21:39:44.093Z"
   },
   {
    "duration": 7,
    "start_time": "2022-08-10T21:40:24.119Z"
   },
   {
    "duration": 3,
    "start_time": "2022-08-10T21:40:24.464Z"
   },
   {
    "duration": 7,
    "start_time": "2022-08-10T21:40:46.853Z"
   },
   {
    "duration": 5,
    "start_time": "2022-08-10T21:40:47.114Z"
   },
   {
    "duration": 7,
    "start_time": "2022-08-10T21:41:05.750Z"
   },
   {
    "duration": 4,
    "start_time": "2022-08-10T21:41:06.072Z"
   },
   {
    "duration": 7,
    "start_time": "2022-08-10T21:41:37.336Z"
   },
   {
    "duration": 4,
    "start_time": "2022-08-10T21:41:37.620Z"
   },
   {
    "duration": 6,
    "start_time": "2022-08-10T21:42:17.580Z"
   },
   {
    "duration": 4,
    "start_time": "2022-08-10T21:42:17.861Z"
   },
   {
    "duration": 7,
    "start_time": "2022-08-10T21:42:34.693Z"
   },
   {
    "duration": 3,
    "start_time": "2022-08-10T21:42:35.006Z"
   },
   {
    "duration": 7,
    "start_time": "2022-08-10T21:42:50.468Z"
   },
   {
    "duration": 4,
    "start_time": "2022-08-10T21:42:50.727Z"
   },
   {
    "duration": 6,
    "start_time": "2022-08-10T21:43:08.085Z"
   },
   {
    "duration": 3,
    "start_time": "2022-08-10T21:43:08.317Z"
   },
   {
    "duration": 7,
    "start_time": "2022-08-10T21:44:06.025Z"
   },
   {
    "duration": 4,
    "start_time": "2022-08-10T21:44:06.337Z"
   },
   {
    "duration": 6,
    "start_time": "2022-08-10T21:44:27.626Z"
   },
   {
    "duration": 3,
    "start_time": "2022-08-10T21:44:27.884Z"
   },
   {
    "duration": 7,
    "start_time": "2022-08-10T21:44:50.978Z"
   },
   {
    "duration": 4,
    "start_time": "2022-08-10T21:44:51.270Z"
   },
   {
    "duration": 7,
    "start_time": "2022-08-10T21:45:05.910Z"
   },
   {
    "duration": 4,
    "start_time": "2022-08-10T21:45:06.210Z"
   },
   {
    "duration": 6,
    "start_time": "2022-08-10T21:45:24.123Z"
   },
   {
    "duration": 4,
    "start_time": "2022-08-10T21:45:24.390Z"
   },
   {
    "duration": 9,
    "start_time": "2022-08-10T21:45:45.934Z"
   },
   {
    "duration": 4,
    "start_time": "2022-08-10T21:45:46.191Z"
   },
   {
    "duration": 7,
    "start_time": "2022-08-10T21:46:02.820Z"
   },
   {
    "duration": 3,
    "start_time": "2022-08-10T21:46:03.030Z"
   },
   {
    "duration": 6,
    "start_time": "2022-08-10T21:46:39.585Z"
   },
   {
    "duration": 3,
    "start_time": "2022-08-10T21:46:39.887Z"
   },
   {
    "duration": 6,
    "start_time": "2022-08-10T21:47:21.765Z"
   },
   {
    "duration": 4,
    "start_time": "2022-08-10T21:47:22.000Z"
   },
   {
    "duration": 7,
    "start_time": "2022-08-10T21:47:43.040Z"
   },
   {
    "duration": 4,
    "start_time": "2022-08-10T21:47:43.396Z"
   },
   {
    "duration": 6,
    "start_time": "2022-08-10T21:48:08.869Z"
   },
   {
    "duration": 4,
    "start_time": "2022-08-10T21:48:09.260Z"
   },
   {
    "duration": 6,
    "start_time": "2022-08-10T21:48:38.358Z"
   },
   {
    "duration": 4,
    "start_time": "2022-08-10T21:48:38.566Z"
   },
   {
    "duration": 7,
    "start_time": "2022-08-10T21:48:49.864Z"
   },
   {
    "duration": 3,
    "start_time": "2022-08-10T21:48:50.125Z"
   },
   {
    "duration": 7,
    "start_time": "2022-08-10T21:49:06.157Z"
   },
   {
    "duration": 4,
    "start_time": "2022-08-10T21:49:06.413Z"
   },
   {
    "duration": 7,
    "start_time": "2022-08-10T21:49:34.021Z"
   },
   {
    "duration": 3,
    "start_time": "2022-08-10T21:49:34.288Z"
   },
   {
    "duration": 7,
    "start_time": "2022-08-10T21:49:56.252Z"
   },
   {
    "duration": 4,
    "start_time": "2022-08-10T21:49:56.532Z"
   },
   {
    "duration": 6,
    "start_time": "2022-08-10T21:50:19.185Z"
   },
   {
    "duration": 12,
    "start_time": "2022-08-10T21:50:19.193Z"
   },
   {
    "duration": 4,
    "start_time": "2022-08-10T21:50:26.506Z"
   },
   {
    "duration": 6,
    "start_time": "2022-08-10T21:50:57.343Z"
   },
   {
    "duration": 4,
    "start_time": "2022-08-10T21:50:57.757Z"
   },
   {
    "duration": 7,
    "start_time": "2022-08-10T21:51:18.785Z"
   },
   {
    "duration": 3,
    "start_time": "2022-08-10T21:51:19.108Z"
   },
   {
    "duration": 7,
    "start_time": "2022-08-10T21:51:44.912Z"
   },
   {
    "duration": 4,
    "start_time": "2022-08-10T21:51:45.202Z"
   },
   {
    "duration": 6,
    "start_time": "2022-08-10T21:52:05.467Z"
   },
   {
    "duration": 3,
    "start_time": "2022-08-10T21:52:05.721Z"
   },
   {
    "duration": 7,
    "start_time": "2022-08-10T21:52:28.036Z"
   },
   {
    "duration": 4,
    "start_time": "2022-08-10T21:52:28.353Z"
   },
   {
    "duration": 7,
    "start_time": "2022-08-10T21:52:49.111Z"
   },
   {
    "duration": 3,
    "start_time": "2022-08-10T21:52:49.518Z"
   },
   {
    "duration": 6,
    "start_time": "2022-08-10T21:53:16.128Z"
   },
   {
    "duration": 4,
    "start_time": "2022-08-10T21:53:16.394Z"
   },
   {
    "duration": 7,
    "start_time": "2022-08-10T21:53:35.096Z"
   },
   {
    "duration": 3,
    "start_time": "2022-08-10T21:53:35.581Z"
   },
   {
    "duration": 7,
    "start_time": "2022-08-10T21:53:55.012Z"
   },
   {
    "duration": 3,
    "start_time": "2022-08-10T21:53:55.351Z"
   },
   {
    "duration": 7,
    "start_time": "2022-08-10T21:54:12.878Z"
   },
   {
    "duration": 4,
    "start_time": "2022-08-10T21:54:13.317Z"
   },
   {
    "duration": 6,
    "start_time": "2022-08-10T21:54:32.926Z"
   },
   {
    "duration": 5,
    "start_time": "2022-08-10T21:54:33.168Z"
   },
   {
    "duration": 6,
    "start_time": "2022-08-10T21:54:54.525Z"
   },
   {
    "duration": 4,
    "start_time": "2022-08-10T21:54:54.918Z"
   },
   {
    "duration": 6,
    "start_time": "2022-08-10T21:55:13.727Z"
   },
   {
    "duration": 4,
    "start_time": "2022-08-10T21:55:14.006Z"
   },
   {
    "duration": 6,
    "start_time": "2022-08-10T21:55:34.209Z"
   },
   {
    "duration": 4,
    "start_time": "2022-08-10T21:55:34.455Z"
   },
   {
    "duration": 19,
    "start_time": "2022-08-10T21:55:52.471Z"
   },
   {
    "duration": 6,
    "start_time": "2022-08-10T21:55:58.897Z"
   },
   {
    "duration": 4,
    "start_time": "2022-08-10T21:56:00.121Z"
   },
   {
    "duration": 6,
    "start_time": "2022-08-10T21:58:09.280Z"
   },
   {
    "duration": 4,
    "start_time": "2022-08-10T21:58:09.601Z"
   },
   {
    "duration": 6,
    "start_time": "2022-08-10T21:58:25.682Z"
   },
   {
    "duration": 4,
    "start_time": "2022-08-10T21:58:26.072Z"
   },
   {
    "duration": 7,
    "start_time": "2022-08-10T21:58:44.998Z"
   },
   {
    "duration": 4,
    "start_time": "2022-08-10T21:58:45.826Z"
   },
   {
    "duration": 11,
    "start_time": "2022-08-10T21:59:09.495Z"
   },
   {
    "duration": 6,
    "start_time": "2022-08-10T21:59:55.712Z"
   },
   {
    "duration": 3,
    "start_time": "2022-08-10T21:59:56.094Z"
   },
   {
    "duration": 9,
    "start_time": "2022-08-10T21:59:57.730Z"
   },
   {
    "duration": 6,
    "start_time": "2022-08-10T22:00:25.853Z"
   },
   {
    "duration": 3,
    "start_time": "2022-08-10T22:00:26.319Z"
   },
   {
    "duration": 9,
    "start_time": "2022-08-10T22:00:27.724Z"
   },
   {
    "duration": 6,
    "start_time": "2022-08-10T22:01:04.963Z"
   },
   {
    "duration": 4,
    "start_time": "2022-08-10T22:01:05.674Z"
   },
   {
    "duration": 9,
    "start_time": "2022-08-10T22:01:06.704Z"
   },
   {
    "duration": 5,
    "start_time": "2022-08-10T22:01:26.013Z"
   },
   {
    "duration": 295,
    "start_time": "2022-08-10T22:01:26.033Z"
   },
   {
    "duration": 15,
    "start_time": "2022-08-10T22:01:26.330Z"
   },
   {
    "duration": 6,
    "start_time": "2022-08-10T22:01:26.347Z"
   },
   {
    "duration": 99,
    "start_time": "2022-08-10T22:01:26.354Z"
   },
   {
    "duration": 11,
    "start_time": "2022-08-10T22:01:26.455Z"
   },
   {
    "duration": 4,
    "start_time": "2022-08-10T22:01:26.468Z"
   },
   {
    "duration": 354,
    "start_time": "2022-08-10T22:01:26.473Z"
   },
   {
    "duration": 17,
    "start_time": "2022-08-10T22:01:26.829Z"
   },
   {
    "duration": 7,
    "start_time": "2022-08-10T22:01:26.848Z"
   },
   {
    "duration": 12,
    "start_time": "2022-08-10T22:01:26.856Z"
   },
   {
    "duration": 7,
    "start_time": "2022-08-10T22:01:26.869Z"
   },
   {
    "duration": 5,
    "start_time": "2022-08-10T22:01:26.878Z"
   },
   {
    "duration": 28,
    "start_time": "2022-08-10T22:01:26.884Z"
   },
   {
    "duration": 5,
    "start_time": "2022-08-10T22:01:26.914Z"
   },
   {
    "duration": 6,
    "start_time": "2022-08-10T22:01:26.920Z"
   },
   {
    "duration": 6,
    "start_time": "2022-08-10T22:01:26.927Z"
   },
   {
    "duration": 8,
    "start_time": "2022-08-10T22:01:26.934Z"
   },
   {
    "duration": 6,
    "start_time": "2022-08-10T22:01:26.943Z"
   },
   {
    "duration": 6,
    "start_time": "2022-08-10T22:01:26.951Z"
   },
   {
    "duration": 5,
    "start_time": "2022-08-10T22:01:26.959Z"
   },
   {
    "duration": 6,
    "start_time": "2022-08-10T22:01:26.966Z"
   },
   {
    "duration": 7,
    "start_time": "2022-08-10T22:01:26.973Z"
   },
   {
    "duration": 4,
    "start_time": "2022-08-10T22:01:27.009Z"
   },
   {
    "duration": 7,
    "start_time": "2022-08-10T22:01:27.015Z"
   },
   {
    "duration": 8,
    "start_time": "2022-08-10T22:01:27.023Z"
   },
   {
    "duration": 479,
    "start_time": "2022-08-10T22:01:27.032Z"
   },
   {
    "duration": 4,
    "start_time": "2022-08-10T22:01:27.513Z"
   },
   {
    "duration": 280,
    "start_time": "2022-08-10T22:01:27.518Z"
   },
   {
    "duration": 10,
    "start_time": "2022-08-10T22:01:27.799Z"
   },
   {
    "duration": 281,
    "start_time": "2022-08-10T22:01:27.810Z"
   },
   {
    "duration": 5,
    "start_time": "2022-08-10T22:01:28.093Z"
   },
   {
    "duration": 432,
    "start_time": "2022-08-10T22:01:28.099Z"
   },
   {
    "duration": 4,
    "start_time": "2022-08-10T22:01:28.533Z"
   },
   {
    "duration": 283,
    "start_time": "2022-08-10T22:01:28.539Z"
   },
   {
    "duration": 3,
    "start_time": "2022-08-10T22:01:28.823Z"
   },
   {
    "duration": 29,
    "start_time": "2022-08-10T22:01:28.827Z"
   },
   {
    "duration": 34,
    "start_time": "2022-08-10T22:01:28.857Z"
   },
   {
    "duration": 12,
    "start_time": "2022-08-10T22:01:28.893Z"
   },
   {
    "duration": 12,
    "start_time": "2022-08-10T22:01:28.907Z"
   },
   {
    "duration": 8,
    "start_time": "2022-08-10T22:01:28.921Z"
   },
   {
    "duration": 25,
    "start_time": "2022-08-10T22:01:28.932Z"
   },
   {
    "duration": 3,
    "start_time": "2022-08-10T22:01:28.959Z"
   },
   {
    "duration": 16,
    "start_time": "2022-08-10T22:01:28.963Z"
   },
   {
    "duration": 4,
    "start_time": "2022-08-10T22:01:28.980Z"
   },
   {
    "duration": 8,
    "start_time": "2022-08-10T22:01:29.008Z"
   },
   {
    "duration": 13,
    "start_time": "2022-08-10T22:01:29.018Z"
   },
   {
    "duration": 13,
    "start_time": "2022-08-10T22:01:29.033Z"
   },
   {
    "duration": 6,
    "start_time": "2022-08-10T22:01:29.048Z"
   },
   {
    "duration": 7,
    "start_time": "2022-08-10T22:01:29.056Z"
   },
   {
    "duration": 5,
    "start_time": "2022-08-10T22:01:29.065Z"
   },
   {
    "duration": 12,
    "start_time": "2022-08-10T22:01:29.072Z"
   },
   {
    "duration": 8556,
    "start_time": "2022-08-10T22:01:29.086Z"
   },
   {
    "duration": 7593,
    "start_time": "2022-08-10T22:01:37.643Z"
   },
   {
    "duration": 3,
    "start_time": "2022-08-10T22:01:45.238Z"
   },
   {
    "duration": 792,
    "start_time": "2022-08-10T22:01:45.242Z"
   },
   {
    "duration": 762,
    "start_time": "2022-08-10T22:01:46.036Z"
   },
   {
    "duration": 723,
    "start_time": "2022-08-10T22:01:46.800Z"
   },
   {
    "duration": 678,
    "start_time": "2022-08-10T22:01:47.525Z"
   },
   {
    "duration": 3,
    "start_time": "2022-08-10T22:01:48.208Z"
   },
   {
    "duration": 2243,
    "start_time": "2022-08-10T22:01:48.213Z"
   },
   {
    "duration": 2199,
    "start_time": "2022-08-10T22:01:50.457Z"
   },
   {
    "duration": 252,
    "start_time": "2022-08-10T22:01:52.657Z"
   },
   {
    "duration": 199,
    "start_time": "2022-08-10T22:01:52.911Z"
   },
   {
    "duration": 12,
    "start_time": "2022-08-10T22:01:53.112Z"
   },
   {
    "duration": 786,
    "start_time": "2022-08-10T22:01:53.126Z"
   },
   {
    "duration": 697,
    "start_time": "2022-08-10T22:01:53.913Z"
   },
   {
    "duration": 398,
    "start_time": "2022-08-10T22:01:54.612Z"
   },
   {
    "duration": 19,
    "start_time": "2022-08-10T22:01:56.291Z"
   },
   {
    "duration": 13,
    "start_time": "2022-08-10T22:02:49.147Z"
   },
   {
    "duration": 3,
    "start_time": "2022-08-10T22:02:49.761Z"
   },
   {
    "duration": 3,
    "start_time": "2022-08-10T22:02:54.459Z"
   },
   {
    "duration": 334,
    "start_time": "2022-08-10T22:02:54.477Z"
   },
   {
    "duration": 19,
    "start_time": "2022-08-10T22:02:54.813Z"
   },
   {
    "duration": 6,
    "start_time": "2022-08-10T22:02:54.834Z"
   },
   {
    "duration": 88,
    "start_time": "2022-08-10T22:02:54.841Z"
   },
   {
    "duration": 13,
    "start_time": "2022-08-10T22:02:54.931Z"
   },
   {
    "duration": 5,
    "start_time": "2022-08-10T22:02:54.946Z"
   },
   {
    "duration": 338,
    "start_time": "2022-08-10T22:02:54.953Z"
   },
   {
    "duration": 27,
    "start_time": "2022-08-10T22:02:55.292Z"
   },
   {
    "duration": 7,
    "start_time": "2022-08-10T22:02:55.321Z"
   },
   {
    "duration": 10,
    "start_time": "2022-08-10T22:02:55.329Z"
   },
   {
    "duration": 8,
    "start_time": "2022-08-10T22:02:55.340Z"
   },
   {
    "duration": 10,
    "start_time": "2022-08-10T22:02:55.349Z"
   },
   {
    "duration": 7,
    "start_time": "2022-08-10T22:02:55.360Z"
   },
   {
    "duration": 4,
    "start_time": "2022-08-10T22:02:55.370Z"
   },
   {
    "duration": 7,
    "start_time": "2022-08-10T22:02:55.375Z"
   },
   {
    "duration": 27,
    "start_time": "2022-08-10T22:02:55.383Z"
   },
   {
    "duration": 6,
    "start_time": "2022-08-10T22:02:55.412Z"
   },
   {
    "duration": 6,
    "start_time": "2022-08-10T22:02:55.420Z"
   },
   {
    "duration": 6,
    "start_time": "2022-08-10T22:02:55.427Z"
   },
   {
    "duration": 6,
    "start_time": "2022-08-10T22:02:55.434Z"
   },
   {
    "duration": 5,
    "start_time": "2022-08-10T22:02:55.441Z"
   },
   {
    "duration": 7,
    "start_time": "2022-08-10T22:02:55.447Z"
   },
   {
    "duration": 7,
    "start_time": "2022-08-10T22:02:55.455Z"
   },
   {
    "duration": 9,
    "start_time": "2022-08-10T22:02:55.463Z"
   },
   {
    "duration": 37,
    "start_time": "2022-08-10T22:02:55.473Z"
   },
   {
    "duration": 432,
    "start_time": "2022-08-10T22:02:55.512Z"
   },
   {
    "duration": 6,
    "start_time": "2022-08-10T22:02:55.946Z"
   },
   {
    "duration": 300,
    "start_time": "2022-08-10T22:02:55.953Z"
   },
   {
    "duration": 5,
    "start_time": "2022-08-10T22:02:56.254Z"
   },
   {
    "duration": 279,
    "start_time": "2022-08-10T22:02:56.261Z"
   },
   {
    "duration": 5,
    "start_time": "2022-08-10T22:02:56.542Z"
   },
   {
    "duration": 428,
    "start_time": "2022-08-10T22:02:56.548Z"
   },
   {
    "duration": 4,
    "start_time": "2022-08-10T22:02:56.978Z"
   },
   {
    "duration": 333,
    "start_time": "2022-08-10T22:02:56.983Z"
   },
   {
    "duration": 3,
    "start_time": "2022-08-10T22:02:57.318Z"
   },
   {
    "duration": 7,
    "start_time": "2022-08-10T22:02:57.322Z"
   },
   {
    "duration": 17,
    "start_time": "2022-08-10T22:02:57.330Z"
   },
   {
    "duration": 7,
    "start_time": "2022-08-10T22:02:57.348Z"
   },
   {
    "duration": 12,
    "start_time": "2022-08-10T22:02:57.356Z"
   },
   {
    "duration": 9,
    "start_time": "2022-08-10T22:02:57.369Z"
   },
   {
    "duration": 32,
    "start_time": "2022-08-10T22:02:57.385Z"
   },
   {
    "duration": 4,
    "start_time": "2022-08-10T22:02:57.419Z"
   },
   {
    "duration": 16,
    "start_time": "2022-08-10T22:02:57.425Z"
   },
   {
    "duration": 6,
    "start_time": "2022-08-10T22:02:57.443Z"
   },
   {
    "duration": 11,
    "start_time": "2022-08-10T22:02:57.450Z"
   },
   {
    "duration": 7,
    "start_time": "2022-08-10T22:02:57.463Z"
   },
   {
    "duration": 16,
    "start_time": "2022-08-10T22:02:57.472Z"
   },
   {
    "duration": 20,
    "start_time": "2022-08-10T22:02:57.489Z"
   },
   {
    "duration": 6,
    "start_time": "2022-08-10T22:02:57.511Z"
   },
   {
    "duration": 10,
    "start_time": "2022-08-10T22:02:57.519Z"
   },
   {
    "duration": 5,
    "start_time": "2022-08-10T22:02:57.531Z"
   },
   {
    "duration": 8891,
    "start_time": "2022-08-10T22:02:57.538Z"
   },
   {
    "duration": 7973,
    "start_time": "2022-08-10T22:03:06.430Z"
   },
   {
    "duration": 7,
    "start_time": "2022-08-10T22:03:14.404Z"
   },
   {
    "duration": 799,
    "start_time": "2022-08-10T22:03:14.412Z"
   },
   {
    "duration": 789,
    "start_time": "2022-08-10T22:03:15.213Z"
   },
   {
    "duration": 726,
    "start_time": "2022-08-10T22:03:16.004Z"
   },
   {
    "duration": 691,
    "start_time": "2022-08-10T22:03:16.732Z"
   },
   {
    "duration": 3,
    "start_time": "2022-08-10T22:03:17.424Z"
   },
   {
    "duration": 2281,
    "start_time": "2022-08-10T22:03:17.428Z"
   },
   {
    "duration": 2220,
    "start_time": "2022-08-10T22:03:19.710Z"
   },
   {
    "duration": 177,
    "start_time": "2022-08-10T22:03:21.932Z"
   },
   {
    "duration": 304,
    "start_time": "2022-08-10T22:03:22.112Z"
   },
   {
    "duration": 92,
    "start_time": "2022-08-10T22:03:22.420Z"
   },
   {
    "duration": 897,
    "start_time": "2022-08-10T22:03:22.514Z"
   },
   {
    "duration": 994,
    "start_time": "2022-08-10T22:03:23.414Z"
   },
   {
    "duration": 304,
    "start_time": "2022-08-10T22:03:24.410Z"
   },
   {
    "duration": 7,
    "start_time": "2022-08-10T22:05:31.778Z"
   },
   {
    "duration": 5,
    "start_time": "2022-08-10T22:05:33.758Z"
   },
   {
    "duration": 10,
    "start_time": "2022-08-10T22:05:45.373Z"
   },
   {
    "duration": 4,
    "start_time": "2022-08-10T22:05:45.925Z"
   },
   {
    "duration": 4,
    "start_time": "2022-08-10T22:05:49.605Z"
   },
   {
    "duration": 292,
    "start_time": "2022-08-10T22:05:49.626Z"
   },
   {
    "duration": 15,
    "start_time": "2022-08-10T22:05:49.920Z"
   },
   {
    "duration": 6,
    "start_time": "2022-08-10T22:05:49.936Z"
   },
   {
    "duration": 105,
    "start_time": "2022-08-10T22:05:49.943Z"
   },
   {
    "duration": 12,
    "start_time": "2022-08-10T22:05:50.050Z"
   },
   {
    "duration": 4,
    "start_time": "2022-08-10T22:05:50.063Z"
   },
   {
    "duration": 356,
    "start_time": "2022-08-10T22:05:50.069Z"
   },
   {
    "duration": 17,
    "start_time": "2022-08-10T22:05:50.426Z"
   },
   {
    "duration": 8,
    "start_time": "2022-08-10T22:05:50.444Z"
   },
   {
    "duration": 7,
    "start_time": "2022-08-10T22:05:50.453Z"
   },
   {
    "duration": 8,
    "start_time": "2022-08-10T22:05:50.461Z"
   },
   {
    "duration": 5,
    "start_time": "2022-08-10T22:05:50.471Z"
   },
   {
    "duration": 6,
    "start_time": "2022-08-10T22:05:50.477Z"
   },
   {
    "duration": 5,
    "start_time": "2022-08-10T22:05:50.508Z"
   },
   {
    "duration": 6,
    "start_time": "2022-08-10T22:05:50.514Z"
   },
   {
    "duration": 7,
    "start_time": "2022-08-10T22:05:50.522Z"
   },
   {
    "duration": 8,
    "start_time": "2022-08-10T22:05:50.530Z"
   },
   {
    "duration": 6,
    "start_time": "2022-08-10T22:05:50.540Z"
   },
   {
    "duration": 15,
    "start_time": "2022-08-10T22:05:50.547Z"
   },
   {
    "duration": 16,
    "start_time": "2022-08-10T22:05:50.564Z"
   },
   {
    "duration": 11,
    "start_time": "2022-08-10T22:05:50.582Z"
   },
   {
    "duration": 10,
    "start_time": "2022-08-10T22:05:50.594Z"
   },
   {
    "duration": 8,
    "start_time": "2022-08-10T22:05:50.605Z"
   },
   {
    "duration": 8,
    "start_time": "2022-08-10T22:05:50.615Z"
   },
   {
    "duration": 11,
    "start_time": "2022-08-10T22:05:50.625Z"
   },
   {
    "duration": 399,
    "start_time": "2022-08-10T22:05:50.637Z"
   },
   {
    "duration": 5,
    "start_time": "2022-08-10T22:05:51.037Z"
   },
   {
    "duration": 261,
    "start_time": "2022-08-10T22:05:51.043Z"
   },
   {
    "duration": 5,
    "start_time": "2022-08-10T22:05:51.309Z"
   },
   {
    "duration": 265,
    "start_time": "2022-08-10T22:05:51.316Z"
   },
   {
    "duration": 5,
    "start_time": "2022-08-10T22:05:51.583Z"
   },
   {
    "duration": 276,
    "start_time": "2022-08-10T22:05:51.590Z"
   },
   {
    "duration": 5,
    "start_time": "2022-08-10T22:05:51.868Z"
   },
   {
    "duration": 458,
    "start_time": "2022-08-10T22:05:51.875Z"
   },
   {
    "duration": 3,
    "start_time": "2022-08-10T22:05:52.335Z"
   },
   {
    "duration": 7,
    "start_time": "2022-08-10T22:05:52.340Z"
   },
   {
    "duration": 14,
    "start_time": "2022-08-10T22:05:52.348Z"
   },
   {
    "duration": 4,
    "start_time": "2022-08-10T22:05:52.363Z"
   },
   {
    "duration": 15,
    "start_time": "2022-08-10T22:05:52.368Z"
   },
   {
    "duration": 25,
    "start_time": "2022-08-10T22:05:52.384Z"
   },
   {
    "duration": 7,
    "start_time": "2022-08-10T22:05:52.413Z"
   },
   {
    "duration": 4,
    "start_time": "2022-08-10T22:05:52.422Z"
   },
   {
    "duration": 14,
    "start_time": "2022-08-10T22:05:52.427Z"
   },
   {
    "duration": 3,
    "start_time": "2022-08-10T22:05:52.443Z"
   },
   {
    "duration": 10,
    "start_time": "2022-08-10T22:05:52.447Z"
   },
   {
    "duration": 9,
    "start_time": "2022-08-10T22:05:52.458Z"
   },
   {
    "duration": 9,
    "start_time": "2022-08-10T22:05:52.468Z"
   },
   {
    "duration": 31,
    "start_time": "2022-08-10T22:05:52.479Z"
   },
   {
    "duration": 8,
    "start_time": "2022-08-10T22:05:52.511Z"
   },
   {
    "duration": 4,
    "start_time": "2022-08-10T22:05:52.520Z"
   },
   {
    "duration": 6,
    "start_time": "2022-08-10T22:05:52.525Z"
   },
   {
    "duration": 64,
    "start_time": "2022-08-10T22:05:52.533Z"
   },
   {
    "duration": 0,
    "start_time": "2022-08-10T22:05:52.599Z"
   },
   {
    "duration": 0,
    "start_time": "2022-08-10T22:05:52.600Z"
   },
   {
    "duration": 0,
    "start_time": "2022-08-10T22:05:52.602Z"
   },
   {
    "duration": 0,
    "start_time": "2022-08-10T22:05:52.603Z"
   },
   {
    "duration": 0,
    "start_time": "2022-08-10T22:05:52.604Z"
   },
   {
    "duration": 0,
    "start_time": "2022-08-10T22:05:52.605Z"
   },
   {
    "duration": 0,
    "start_time": "2022-08-10T22:05:52.606Z"
   },
   {
    "duration": 0,
    "start_time": "2022-08-10T22:05:52.607Z"
   },
   {
    "duration": 0,
    "start_time": "2022-08-10T22:05:52.609Z"
   },
   {
    "duration": 0,
    "start_time": "2022-08-10T22:05:52.610Z"
   },
   {
    "duration": 0,
    "start_time": "2022-08-10T22:05:52.611Z"
   },
   {
    "duration": 0,
    "start_time": "2022-08-10T22:05:52.612Z"
   },
   {
    "duration": 0,
    "start_time": "2022-08-10T22:05:52.614Z"
   },
   {
    "duration": 0,
    "start_time": "2022-08-10T22:05:52.615Z"
   },
   {
    "duration": 0,
    "start_time": "2022-08-10T22:05:52.616Z"
   },
   {
    "duration": 13,
    "start_time": "2022-08-10T22:18:07.752Z"
   },
   {
    "duration": 14,
    "start_time": "2022-08-10T22:19:04.276Z"
   },
   {
    "duration": 59,
    "start_time": "2022-08-10T22:20:19.714Z"
   },
   {
    "duration": 8,
    "start_time": "2022-08-10T22:20:41.685Z"
   },
   {
    "duration": 3,
    "start_time": "2022-08-10T22:20:43.588Z"
   },
   {
    "duration": 8,
    "start_time": "2022-08-10T22:31:04.307Z"
   },
   {
    "duration": 4,
    "start_time": "2022-08-10T22:31:05.389Z"
   },
   {
    "duration": 6,
    "start_time": "2022-08-10T22:50:01.304Z"
   },
   {
    "duration": 5,
    "start_time": "2022-08-10T22:50:24.339Z"
   },
   {
    "duration": 4,
    "start_time": "2022-08-10T22:50:45.849Z"
   },
   {
    "duration": 4,
    "start_time": "2022-08-10T22:50:57.266Z"
   },
   {
    "duration": 15,
    "start_time": "2022-08-10T22:54:48.939Z"
   },
   {
    "duration": 4,
    "start_time": "2022-08-10T22:55:14.033Z"
   },
   {
    "duration": 4,
    "start_time": "2022-08-10T22:56:09.242Z"
   },
   {
    "duration": 301,
    "start_time": "2022-08-10T22:56:09.272Z"
   },
   {
    "duration": 15,
    "start_time": "2022-08-10T22:56:09.574Z"
   },
   {
    "duration": 5,
    "start_time": "2022-08-10T22:56:09.591Z"
   },
   {
    "duration": 93,
    "start_time": "2022-08-10T22:56:09.610Z"
   },
   {
    "duration": 13,
    "start_time": "2022-08-10T22:56:09.706Z"
   },
   {
    "duration": 5,
    "start_time": "2022-08-10T22:56:09.720Z"
   },
   {
    "duration": 355,
    "start_time": "2022-08-10T22:56:09.727Z"
   },
   {
    "duration": 30,
    "start_time": "2022-08-10T22:56:10.084Z"
   },
   {
    "duration": 8,
    "start_time": "2022-08-10T22:56:10.115Z"
   },
   {
    "duration": 7,
    "start_time": "2022-08-10T22:56:10.124Z"
   },
   {
    "duration": 5,
    "start_time": "2022-08-10T22:56:10.133Z"
   },
   {
    "duration": 6,
    "start_time": "2022-08-10T22:56:10.139Z"
   },
   {
    "duration": 6,
    "start_time": "2022-08-10T22:56:10.147Z"
   },
   {
    "duration": 5,
    "start_time": "2022-08-10T22:56:10.155Z"
   },
   {
    "duration": 8,
    "start_time": "2022-08-10T22:56:10.161Z"
   },
   {
    "duration": 13,
    "start_time": "2022-08-10T22:56:10.170Z"
   },
   {
    "duration": 25,
    "start_time": "2022-08-10T22:56:10.185Z"
   },
   {
    "duration": 8,
    "start_time": "2022-08-10T22:56:10.212Z"
   },
   {
    "duration": 6,
    "start_time": "2022-08-10T22:56:10.221Z"
   },
   {
    "duration": 6,
    "start_time": "2022-08-10T22:56:10.229Z"
   },
   {
    "duration": 8,
    "start_time": "2022-08-10T22:56:10.237Z"
   },
   {
    "duration": 8,
    "start_time": "2022-08-10T22:56:10.247Z"
   },
   {
    "duration": 8,
    "start_time": "2022-08-10T22:56:10.256Z"
   },
   {
    "duration": 7,
    "start_time": "2022-08-10T22:56:10.266Z"
   },
   {
    "duration": 36,
    "start_time": "2022-08-10T22:56:10.274Z"
   },
   {
    "duration": 418,
    "start_time": "2022-08-10T22:56:10.312Z"
   },
   {
    "duration": 4,
    "start_time": "2022-08-10T22:56:10.731Z"
   },
   {
    "duration": 268,
    "start_time": "2022-08-10T22:56:10.737Z"
   },
   {
    "duration": 5,
    "start_time": "2022-08-10T22:56:11.008Z"
   },
   {
    "duration": 259,
    "start_time": "2022-08-10T22:56:11.014Z"
   },
   {
    "duration": 5,
    "start_time": "2022-08-10T22:56:11.274Z"
   },
   {
    "duration": 267,
    "start_time": "2022-08-10T22:56:11.281Z"
   },
   {
    "duration": 5,
    "start_time": "2022-08-10T22:56:11.550Z"
   },
   {
    "duration": 436,
    "start_time": "2022-08-10T22:56:11.556Z"
   },
   {
    "duration": 2,
    "start_time": "2022-08-10T22:56:11.994Z"
   },
   {
    "duration": 13,
    "start_time": "2022-08-10T22:56:11.998Z"
   },
   {
    "duration": 14,
    "start_time": "2022-08-10T22:56:12.012Z"
   },
   {
    "duration": 3,
    "start_time": "2022-08-10T22:56:12.027Z"
   },
   {
    "duration": 8,
    "start_time": "2022-08-10T22:56:12.032Z"
   },
   {
    "duration": 4,
    "start_time": "2022-08-10T22:56:12.044Z"
   },
   {
    "duration": 11,
    "start_time": "2022-08-10T22:56:12.049Z"
   },
   {
    "duration": 3,
    "start_time": "2022-08-10T22:56:12.061Z"
   },
   {
    "duration": 9,
    "start_time": "2022-08-10T22:56:12.065Z"
   },
   {
    "duration": 34,
    "start_time": "2022-08-10T22:56:12.076Z"
   },
   {
    "duration": 9,
    "start_time": "2022-08-10T22:56:12.111Z"
   },
   {
    "duration": 9,
    "start_time": "2022-08-10T22:56:12.121Z"
   },
   {
    "duration": 17,
    "start_time": "2022-08-10T22:56:12.132Z"
   },
   {
    "duration": 3,
    "start_time": "2022-08-10T22:56:12.151Z"
   },
   {
    "duration": 10,
    "start_time": "2022-08-10T22:56:12.155Z"
   },
   {
    "duration": 9,
    "start_time": "2022-08-10T22:56:12.166Z"
   },
   {
    "duration": 13,
    "start_time": "2022-08-10T22:56:12.177Z"
   },
   {
    "duration": 4,
    "start_time": "2022-08-10T22:56:12.209Z"
   },
   {
    "duration": 9,
    "start_time": "2022-08-10T22:56:12.215Z"
   },
   {
    "duration": 4,
    "start_time": "2022-08-10T22:56:12.226Z"
   },
   {
    "duration": 9,
    "start_time": "2022-08-10T22:56:12.232Z"
   },
   {
    "duration": 86,
    "start_time": "2022-08-10T22:56:12.243Z"
   },
   {
    "duration": 0,
    "start_time": "2022-08-10T22:56:12.331Z"
   },
   {
    "duration": 0,
    "start_time": "2022-08-10T22:56:12.332Z"
   },
   {
    "duration": 0,
    "start_time": "2022-08-10T22:56:12.333Z"
   },
   {
    "duration": 0,
    "start_time": "2022-08-10T22:56:12.334Z"
   },
   {
    "duration": 0,
    "start_time": "2022-08-10T22:56:12.335Z"
   },
   {
    "duration": 0,
    "start_time": "2022-08-10T22:56:12.336Z"
   },
   {
    "duration": 0,
    "start_time": "2022-08-10T22:56:12.336Z"
   },
   {
    "duration": 0,
    "start_time": "2022-08-10T22:56:12.337Z"
   },
   {
    "duration": 0,
    "start_time": "2022-08-10T22:56:12.338Z"
   },
   {
    "duration": 0,
    "start_time": "2022-08-10T22:56:12.339Z"
   },
   {
    "duration": 0,
    "start_time": "2022-08-10T22:56:12.340Z"
   },
   {
    "duration": 0,
    "start_time": "2022-08-10T22:56:12.341Z"
   },
   {
    "duration": 0,
    "start_time": "2022-08-10T22:56:12.342Z"
   },
   {
    "duration": 0,
    "start_time": "2022-08-10T22:56:12.343Z"
   },
   {
    "duration": 0,
    "start_time": "2022-08-10T22:56:12.344Z"
   },
   {
    "duration": 16,
    "start_time": "2022-08-10T22:58:53.150Z"
   },
   {
    "duration": 3,
    "start_time": "2022-08-10T22:59:19.837Z"
   },
   {
    "duration": 297,
    "start_time": "2022-08-10T22:59:19.858Z"
   },
   {
    "duration": 18,
    "start_time": "2022-08-10T22:59:20.157Z"
   },
   {
    "duration": 32,
    "start_time": "2022-08-10T22:59:20.177Z"
   },
   {
    "duration": 95,
    "start_time": "2022-08-10T22:59:20.211Z"
   },
   {
    "duration": 13,
    "start_time": "2022-08-10T22:59:20.309Z"
   },
   {
    "duration": 5,
    "start_time": "2022-08-10T22:59:20.324Z"
   },
   {
    "duration": 375,
    "start_time": "2022-08-10T22:59:20.331Z"
   },
   {
    "duration": 16,
    "start_time": "2022-08-10T22:59:20.708Z"
   },
   {
    "duration": 6,
    "start_time": "2022-08-10T22:59:20.726Z"
   },
   {
    "duration": 8,
    "start_time": "2022-08-10T22:59:20.734Z"
   },
   {
    "duration": 7,
    "start_time": "2022-08-10T22:59:20.744Z"
   },
   {
    "duration": 5,
    "start_time": "2022-08-10T22:59:20.753Z"
   },
   {
    "duration": 5,
    "start_time": "2022-08-10T22:59:20.759Z"
   },
   {
    "duration": 6,
    "start_time": "2022-08-10T22:59:20.767Z"
   },
   {
    "duration": 36,
    "start_time": "2022-08-10T22:59:20.775Z"
   },
   {
    "duration": 4,
    "start_time": "2022-08-10T22:59:20.812Z"
   },
   {
    "duration": 8,
    "start_time": "2022-08-10T22:59:20.817Z"
   },
   {
    "duration": 9,
    "start_time": "2022-08-10T22:59:20.826Z"
   },
   {
    "duration": 7,
    "start_time": "2022-08-10T22:59:20.837Z"
   },
   {
    "duration": 6,
    "start_time": "2022-08-10T22:59:20.845Z"
   },
   {
    "duration": 5,
    "start_time": "2022-08-10T22:59:20.853Z"
   },
   {
    "duration": 5,
    "start_time": "2022-08-10T22:59:20.860Z"
   },
   {
    "duration": 5,
    "start_time": "2022-08-10T22:59:20.867Z"
   },
   {
    "duration": 8,
    "start_time": "2022-08-10T22:59:20.873Z"
   },
   {
    "duration": 27,
    "start_time": "2022-08-10T22:59:20.883Z"
   },
   {
    "duration": 405,
    "start_time": "2022-08-10T22:59:20.911Z"
   },
   {
    "duration": 4,
    "start_time": "2022-08-10T22:59:21.318Z"
   },
   {
    "duration": 267,
    "start_time": "2022-08-10T22:59:21.323Z"
   },
   {
    "duration": 5,
    "start_time": "2022-08-10T22:59:21.592Z"
   },
   {
    "duration": 268,
    "start_time": "2022-08-10T22:59:21.599Z"
   },
   {
    "duration": 4,
    "start_time": "2022-08-10T22:59:21.869Z"
   },
   {
    "duration": 275,
    "start_time": "2022-08-10T22:59:21.875Z"
   },
   {
    "duration": 5,
    "start_time": "2022-08-10T22:59:22.151Z"
   },
   {
    "duration": 274,
    "start_time": "2022-08-10T22:59:22.157Z"
   },
   {
    "duration": 2,
    "start_time": "2022-08-10T22:59:22.433Z"
   },
   {
    "duration": 7,
    "start_time": "2022-08-10T22:59:22.437Z"
   },
   {
    "duration": 22,
    "start_time": "2022-08-10T22:59:22.445Z"
   },
   {
    "duration": 4,
    "start_time": "2022-08-10T22:59:22.468Z"
   },
   {
    "duration": 10,
    "start_time": "2022-08-10T22:59:22.473Z"
   },
   {
    "duration": 25,
    "start_time": "2022-08-10T22:59:22.485Z"
   },
   {
    "duration": 8,
    "start_time": "2022-08-10T22:59:22.515Z"
   },
   {
    "duration": 4,
    "start_time": "2022-08-10T22:59:22.525Z"
   },
   {
    "duration": 9,
    "start_time": "2022-08-10T22:59:22.530Z"
   },
   {
    "duration": 3,
    "start_time": "2022-08-10T22:59:22.541Z"
   },
   {
    "duration": 8,
    "start_time": "2022-08-10T22:59:22.546Z"
   },
   {
    "duration": 6,
    "start_time": "2022-08-10T22:59:22.555Z"
   },
   {
    "duration": 49,
    "start_time": "2022-08-10T22:59:22.563Z"
   },
   {
    "duration": 4,
    "start_time": "2022-08-10T22:59:22.613Z"
   },
   {
    "duration": 15,
    "start_time": "2022-08-10T22:59:22.619Z"
   },
   {
    "duration": 0,
    "start_time": "2022-08-10T22:59:22.636Z"
   },
   {
    "duration": 0,
    "start_time": "2022-08-10T22:59:22.637Z"
   },
   {
    "duration": 0,
    "start_time": "2022-08-10T22:59:22.639Z"
   },
   {
    "duration": 0,
    "start_time": "2022-08-10T22:59:22.640Z"
   },
   {
    "duration": 0,
    "start_time": "2022-08-10T22:59:22.641Z"
   },
   {
    "duration": 0,
    "start_time": "2022-08-10T22:59:22.643Z"
   },
   {
    "duration": 0,
    "start_time": "2022-08-10T22:59:22.644Z"
   },
   {
    "duration": 0,
    "start_time": "2022-08-10T22:59:22.646Z"
   },
   {
    "duration": 0,
    "start_time": "2022-08-10T22:59:22.647Z"
   },
   {
    "duration": 0,
    "start_time": "2022-08-10T22:59:22.648Z"
   },
   {
    "duration": 0,
    "start_time": "2022-08-10T22:59:22.649Z"
   },
   {
    "duration": 0,
    "start_time": "2022-08-10T22:59:22.651Z"
   },
   {
    "duration": 0,
    "start_time": "2022-08-10T22:59:22.652Z"
   },
   {
    "duration": 0,
    "start_time": "2022-08-10T22:59:22.653Z"
   },
   {
    "duration": 0,
    "start_time": "2022-08-10T22:59:22.654Z"
   },
   {
    "duration": 0,
    "start_time": "2022-08-10T22:59:22.656Z"
   },
   {
    "duration": 0,
    "start_time": "2022-08-10T22:59:22.657Z"
   },
   {
    "duration": 0,
    "start_time": "2022-08-10T22:59:22.659Z"
   },
   {
    "duration": 0,
    "start_time": "2022-08-10T22:59:22.708Z"
   },
   {
    "duration": 0,
    "start_time": "2022-08-10T22:59:22.710Z"
   },
   {
    "duration": 0,
    "start_time": "2022-08-10T22:59:22.711Z"
   },
   {
    "duration": 0,
    "start_time": "2022-08-10T22:59:22.713Z"
   },
   {
    "duration": 11,
    "start_time": "2022-08-10T23:00:55.473Z"
   },
   {
    "duration": 5,
    "start_time": "2022-08-10T23:03:14.431Z"
   },
   {
    "duration": 3,
    "start_time": "2022-08-10T23:03:15.667Z"
   },
   {
    "duration": 7,
    "start_time": "2022-08-10T23:04:16.510Z"
   },
   {
    "duration": 12,
    "start_time": "2022-08-10T23:05:21.982Z"
   },
   {
    "duration": 4,
    "start_time": "2022-08-10T23:05:43.124Z"
   },
   {
    "duration": 299,
    "start_time": "2022-08-10T23:05:43.144Z"
   },
   {
    "duration": 15,
    "start_time": "2022-08-10T23:05:43.445Z"
   },
   {
    "duration": 6,
    "start_time": "2022-08-10T23:05:43.461Z"
   },
   {
    "duration": 96,
    "start_time": "2022-08-10T23:05:43.468Z"
   },
   {
    "duration": 12,
    "start_time": "2022-08-10T23:05:43.566Z"
   },
   {
    "duration": 7,
    "start_time": "2022-08-10T23:05:43.580Z"
   },
   {
    "duration": 369,
    "start_time": "2022-08-10T23:05:43.588Z"
   },
   {
    "duration": 17,
    "start_time": "2022-08-10T23:05:43.958Z"
   },
   {
    "duration": 7,
    "start_time": "2022-08-10T23:05:43.977Z"
   },
   {
    "duration": 26,
    "start_time": "2022-08-10T23:05:43.985Z"
   },
   {
    "duration": 5,
    "start_time": "2022-08-10T23:05:44.012Z"
   },
   {
    "duration": 5,
    "start_time": "2022-08-10T23:05:44.019Z"
   },
   {
    "duration": 9,
    "start_time": "2022-08-10T23:05:44.025Z"
   },
   {
    "duration": 5,
    "start_time": "2022-08-10T23:05:44.037Z"
   },
   {
    "duration": 9,
    "start_time": "2022-08-10T23:05:44.043Z"
   },
   {
    "duration": 10,
    "start_time": "2022-08-10T23:05:44.053Z"
   },
   {
    "duration": 8,
    "start_time": "2022-08-10T23:05:44.064Z"
   },
   {
    "duration": 8,
    "start_time": "2022-08-10T23:05:44.073Z"
   },
   {
    "duration": 7,
    "start_time": "2022-08-10T23:05:44.082Z"
   },
   {
    "duration": 19,
    "start_time": "2022-08-10T23:05:44.091Z"
   },
   {
    "duration": 7,
    "start_time": "2022-08-10T23:05:44.111Z"
   },
   {
    "duration": 5,
    "start_time": "2022-08-10T23:05:44.120Z"
   },
   {
    "duration": 8,
    "start_time": "2022-08-10T23:05:44.128Z"
   },
   {
    "duration": 6,
    "start_time": "2022-08-10T23:05:44.138Z"
   },
   {
    "duration": 6,
    "start_time": "2022-08-10T23:05:44.145Z"
   },
   {
    "duration": 610,
    "start_time": "2022-08-10T23:05:44.153Z"
   },
   {
    "duration": 5,
    "start_time": "2022-08-10T23:05:44.764Z"
   },
   {
    "duration": 264,
    "start_time": "2022-08-10T23:05:44.770Z"
   },
   {
    "duration": 5,
    "start_time": "2022-08-10T23:05:45.035Z"
   },
   {
    "duration": 259,
    "start_time": "2022-08-10T23:05:45.042Z"
   },
   {
    "duration": 9,
    "start_time": "2022-08-10T23:05:45.303Z"
   },
   {
    "duration": 261,
    "start_time": "2022-08-10T23:05:45.314Z"
   },
   {
    "duration": 5,
    "start_time": "2022-08-10T23:05:45.577Z"
   },
   {
    "duration": 284,
    "start_time": "2022-08-10T23:05:45.583Z"
   },
   {
    "duration": 3,
    "start_time": "2022-08-10T23:05:45.869Z"
   },
   {
    "duration": 9,
    "start_time": "2022-08-10T23:05:45.873Z"
   },
   {
    "duration": 31,
    "start_time": "2022-08-10T23:05:45.883Z"
   },
   {
    "duration": 4,
    "start_time": "2022-08-10T23:05:45.916Z"
   },
   {
    "duration": 11,
    "start_time": "2022-08-10T23:05:45.922Z"
   },
   {
    "duration": 6,
    "start_time": "2022-08-10T23:05:45.935Z"
   },
   {
    "duration": 22,
    "start_time": "2022-08-10T23:05:45.945Z"
   },
   {
    "duration": 7,
    "start_time": "2022-08-10T23:05:45.969Z"
   },
   {
    "duration": 21,
    "start_time": "2022-08-10T23:05:45.978Z"
   },
   {
    "duration": 9,
    "start_time": "2022-08-10T23:05:46.001Z"
   },
   {
    "duration": 12,
    "start_time": "2022-08-10T23:05:46.012Z"
   },
   {
    "duration": 27,
    "start_time": "2022-08-10T23:05:46.026Z"
   },
   {
    "duration": 8,
    "start_time": "2022-08-10T23:05:46.055Z"
   },
   {
    "duration": 17,
    "start_time": "2022-08-10T23:05:46.064Z"
   },
   {
    "duration": 0,
    "start_time": "2022-08-10T23:05:46.082Z"
   },
   {
    "duration": 0,
    "start_time": "2022-08-10T23:05:46.084Z"
   },
   {
    "duration": 0,
    "start_time": "2022-08-10T23:05:46.085Z"
   },
   {
    "duration": 0,
    "start_time": "2022-08-10T23:05:46.086Z"
   },
   {
    "duration": 0,
    "start_time": "2022-08-10T23:05:46.087Z"
   },
   {
    "duration": 0,
    "start_time": "2022-08-10T23:05:46.088Z"
   },
   {
    "duration": 0,
    "start_time": "2022-08-10T23:05:46.089Z"
   },
   {
    "duration": 0,
    "start_time": "2022-08-10T23:05:46.109Z"
   },
   {
    "duration": 1,
    "start_time": "2022-08-10T23:05:46.110Z"
   },
   {
    "duration": 0,
    "start_time": "2022-08-10T23:05:46.112Z"
   },
   {
    "duration": 0,
    "start_time": "2022-08-10T23:05:46.113Z"
   },
   {
    "duration": 0,
    "start_time": "2022-08-10T23:05:46.114Z"
   },
   {
    "duration": 0,
    "start_time": "2022-08-10T23:05:46.115Z"
   },
   {
    "duration": 0,
    "start_time": "2022-08-10T23:05:46.116Z"
   },
   {
    "duration": 0,
    "start_time": "2022-08-10T23:05:46.117Z"
   },
   {
    "duration": 0,
    "start_time": "2022-08-10T23:05:46.118Z"
   },
   {
    "duration": 0,
    "start_time": "2022-08-10T23:05:46.119Z"
   },
   {
    "duration": 0,
    "start_time": "2022-08-10T23:05:46.120Z"
   },
   {
    "duration": 0,
    "start_time": "2022-08-10T23:05:46.121Z"
   },
   {
    "duration": 0,
    "start_time": "2022-08-10T23:05:46.122Z"
   },
   {
    "duration": 0,
    "start_time": "2022-08-10T23:05:46.123Z"
   },
   {
    "duration": 0,
    "start_time": "2022-08-10T23:05:46.124Z"
   },
   {
    "duration": 11,
    "start_time": "2022-08-10T23:06:59.155Z"
   },
   {
    "duration": 13,
    "start_time": "2022-08-10T23:07:40.841Z"
   },
   {
    "duration": 15,
    "start_time": "2022-08-10T23:11:15.417Z"
   },
   {
    "duration": 4,
    "start_time": "2022-08-10T23:11:25.164Z"
   },
   {
    "duration": 280,
    "start_time": "2022-08-10T23:11:25.186Z"
   },
   {
    "duration": 15,
    "start_time": "2022-08-10T23:11:25.468Z"
   },
   {
    "duration": 35,
    "start_time": "2022-08-10T23:11:25.485Z"
   },
   {
    "duration": 102,
    "start_time": "2022-08-10T23:11:25.521Z"
   },
   {
    "duration": 13,
    "start_time": "2022-08-10T23:11:25.624Z"
   },
   {
    "duration": 5,
    "start_time": "2022-08-10T23:11:25.639Z"
   },
   {
    "duration": 378,
    "start_time": "2022-08-10T23:11:25.645Z"
   },
   {
    "duration": 16,
    "start_time": "2022-08-10T23:11:26.025Z"
   },
   {
    "duration": 8,
    "start_time": "2022-08-10T23:11:26.043Z"
   },
   {
    "duration": 20,
    "start_time": "2022-08-10T23:11:26.052Z"
   },
   {
    "duration": 14,
    "start_time": "2022-08-10T23:11:26.074Z"
   },
   {
    "duration": 7,
    "start_time": "2022-08-10T23:11:26.090Z"
   },
   {
    "duration": 18,
    "start_time": "2022-08-10T23:11:26.098Z"
   },
   {
    "duration": 9,
    "start_time": "2022-08-10T23:11:26.122Z"
   },
   {
    "duration": 11,
    "start_time": "2022-08-10T23:11:26.132Z"
   },
   {
    "duration": 8,
    "start_time": "2022-08-10T23:11:26.144Z"
   },
   {
    "duration": 7,
    "start_time": "2022-08-10T23:11:26.153Z"
   },
   {
    "duration": 9,
    "start_time": "2022-08-10T23:11:26.161Z"
   },
   {
    "duration": 8,
    "start_time": "2022-08-10T23:11:26.171Z"
   },
   {
    "duration": 9,
    "start_time": "2022-08-10T23:11:26.181Z"
   },
   {
    "duration": 6,
    "start_time": "2022-08-10T23:11:26.191Z"
   },
   {
    "duration": 10,
    "start_time": "2022-08-10T23:11:26.198Z"
   },
   {
    "duration": 24,
    "start_time": "2022-08-10T23:11:26.209Z"
   },
   {
    "duration": 7,
    "start_time": "2022-08-10T23:11:26.234Z"
   },
   {
    "duration": 6,
    "start_time": "2022-08-10T23:11:26.242Z"
   },
   {
    "duration": 647,
    "start_time": "2022-08-10T23:11:26.249Z"
   },
   {
    "duration": 5,
    "start_time": "2022-08-10T23:11:26.897Z"
   },
   {
    "duration": 337,
    "start_time": "2022-08-10T23:11:26.911Z"
   },
   {
    "duration": 5,
    "start_time": "2022-08-10T23:11:27.250Z"
   },
   {
    "duration": 316,
    "start_time": "2022-08-10T23:11:27.256Z"
   },
   {
    "duration": 6,
    "start_time": "2022-08-10T23:11:27.573Z"
   },
   {
    "duration": 307,
    "start_time": "2022-08-10T23:11:27.581Z"
   },
   {
    "duration": 4,
    "start_time": "2022-08-10T23:11:27.890Z"
   },
   {
    "duration": 287,
    "start_time": "2022-08-10T23:11:27.896Z"
   },
   {
    "duration": 3,
    "start_time": "2022-08-10T23:11:28.185Z"
   },
   {
    "duration": 21,
    "start_time": "2022-08-10T23:11:28.189Z"
   },
   {
    "duration": 20,
    "start_time": "2022-08-10T23:11:28.221Z"
   },
   {
    "duration": 10,
    "start_time": "2022-08-10T23:11:28.243Z"
   },
   {
    "duration": 22,
    "start_time": "2022-08-10T23:11:28.254Z"
   },
   {
    "duration": 10,
    "start_time": "2022-08-10T23:11:28.278Z"
   },
   {
    "duration": 40,
    "start_time": "2022-08-10T23:11:28.291Z"
   },
   {
    "duration": 7,
    "start_time": "2022-08-10T23:11:28.333Z"
   },
   {
    "duration": 26,
    "start_time": "2022-08-10T23:11:28.341Z"
   },
   {
    "duration": 10,
    "start_time": "2022-08-10T23:11:28.368Z"
   },
   {
    "duration": 21,
    "start_time": "2022-08-10T23:11:28.379Z"
   },
   {
    "duration": 21,
    "start_time": "2022-08-10T23:11:28.402Z"
   },
   {
    "duration": 17,
    "start_time": "2022-08-10T23:11:28.425Z"
   },
   {
    "duration": 7,
    "start_time": "2022-08-10T23:11:28.443Z"
   },
   {
    "duration": 17,
    "start_time": "2022-08-10T23:11:28.452Z"
   },
   {
    "duration": 5,
    "start_time": "2022-08-10T23:11:28.470Z"
   },
   {
    "duration": 6,
    "start_time": "2022-08-10T23:11:28.476Z"
   },
   {
    "duration": 30,
    "start_time": "2022-08-10T23:11:28.484Z"
   },
   {
    "duration": 4,
    "start_time": "2022-08-10T23:11:28.515Z"
   },
   {
    "duration": 8,
    "start_time": "2022-08-10T23:11:28.521Z"
   },
   {
    "duration": 4,
    "start_time": "2022-08-10T23:11:28.530Z"
   },
   {
    "duration": 8,
    "start_time": "2022-08-10T23:11:28.535Z"
   },
   {
    "duration": 64,
    "start_time": "2022-08-10T23:11:28.544Z"
   },
   {
    "duration": 0,
    "start_time": "2022-08-10T23:11:28.621Z"
   },
   {
    "duration": 0,
    "start_time": "2022-08-10T23:11:28.623Z"
   },
   {
    "duration": 0,
    "start_time": "2022-08-10T23:11:28.624Z"
   },
   {
    "duration": 0,
    "start_time": "2022-08-10T23:11:28.625Z"
   },
   {
    "duration": 0,
    "start_time": "2022-08-10T23:11:28.626Z"
   },
   {
    "duration": 0,
    "start_time": "2022-08-10T23:11:28.627Z"
   },
   {
    "duration": 0,
    "start_time": "2022-08-10T23:11:28.628Z"
   },
   {
    "duration": 0,
    "start_time": "2022-08-10T23:11:28.629Z"
   },
   {
    "duration": 0,
    "start_time": "2022-08-10T23:11:28.630Z"
   },
   {
    "duration": 0,
    "start_time": "2022-08-10T23:11:28.631Z"
   },
   {
    "duration": 0,
    "start_time": "2022-08-10T23:11:28.632Z"
   },
   {
    "duration": 0,
    "start_time": "2022-08-10T23:11:28.633Z"
   },
   {
    "duration": 0,
    "start_time": "2022-08-10T23:11:28.634Z"
   },
   {
    "duration": 0,
    "start_time": "2022-08-10T23:11:28.635Z"
   },
   {
    "duration": 0,
    "start_time": "2022-08-10T23:11:28.636Z"
   },
   {
    "duration": 9,
    "start_time": "2022-08-10T23:12:39.892Z"
   },
   {
    "duration": 4,
    "start_time": "2022-08-10T23:13:42.708Z"
   },
   {
    "duration": 4,
    "start_time": "2022-08-10T23:14:05.458Z"
   },
   {
    "duration": 47,
    "start_time": "2022-08-12T11:40:43.815Z"
   },
   {
    "duration": 1094,
    "start_time": "2022-08-12T11:41:07.734Z"
   },
   {
    "duration": 1010,
    "start_time": "2022-08-12T11:41:08.830Z"
   },
   {
    "duration": 17,
    "start_time": "2022-08-12T11:41:09.841Z"
   },
   {
    "duration": 6,
    "start_time": "2022-08-12T11:41:09.859Z"
   },
   {
    "duration": 539,
    "start_time": "2022-08-12T11:41:09.867Z"
   },
   {
    "duration": 14,
    "start_time": "2022-08-12T11:41:10.409Z"
   },
   {
    "duration": 12,
    "start_time": "2022-08-12T11:41:10.424Z"
   },
   {
    "duration": 2158,
    "start_time": "2022-08-12T11:41:10.437Z"
   },
   {
    "duration": 20,
    "start_time": "2022-08-12T11:41:12.597Z"
   },
   {
    "duration": 11,
    "start_time": "2022-08-12T11:41:12.619Z"
   },
   {
    "duration": 20,
    "start_time": "2022-08-12T11:41:12.631Z"
   },
   {
    "duration": 6,
    "start_time": "2022-08-12T11:41:12.652Z"
   },
   {
    "duration": 7,
    "start_time": "2022-08-12T11:41:12.660Z"
   },
   {
    "duration": 11,
    "start_time": "2022-08-12T11:41:12.668Z"
   },
   {
    "duration": 11,
    "start_time": "2022-08-12T11:41:12.680Z"
   },
   {
    "duration": 29,
    "start_time": "2022-08-12T11:41:12.692Z"
   },
   {
    "duration": 14,
    "start_time": "2022-08-12T11:41:12.722Z"
   },
   {
    "duration": 14,
    "start_time": "2022-08-12T11:41:12.738Z"
   },
   {
    "duration": 14,
    "start_time": "2022-08-12T11:41:12.753Z"
   },
   {
    "duration": 8,
    "start_time": "2022-08-12T11:41:12.769Z"
   },
   {
    "duration": 23,
    "start_time": "2022-08-12T11:41:12.778Z"
   },
   {
    "duration": 11,
    "start_time": "2022-08-12T11:41:12.809Z"
   },
   {
    "duration": 6,
    "start_time": "2022-08-12T11:41:12.821Z"
   },
   {
    "duration": 13,
    "start_time": "2022-08-12T11:41:12.828Z"
   },
   {
    "duration": 9,
    "start_time": "2022-08-12T11:41:12.843Z"
   },
   {
    "duration": 8,
    "start_time": "2022-08-12T11:41:12.853Z"
   },
   {
    "duration": 904,
    "start_time": "2022-08-12T11:41:12.862Z"
   },
   {
    "duration": 5,
    "start_time": "2022-08-12T11:41:13.770Z"
   },
   {
    "duration": 402,
    "start_time": "2022-08-12T11:41:13.776Z"
   },
   {
    "duration": 17,
    "start_time": "2022-08-12T11:41:14.180Z"
   },
   {
    "duration": 316,
    "start_time": "2022-08-12T11:41:14.205Z"
   },
   {
    "duration": 5,
    "start_time": "2022-08-12T11:41:14.523Z"
   },
   {
    "duration": 318,
    "start_time": "2022-08-12T11:41:14.530Z"
   },
   {
    "duration": 5,
    "start_time": "2022-08-12T11:41:14.850Z"
   },
   {
    "duration": 309,
    "start_time": "2022-08-12T11:41:14.856Z"
   },
   {
    "duration": 3,
    "start_time": "2022-08-12T11:41:15.166Z"
   },
   {
    "duration": 9,
    "start_time": "2022-08-12T11:41:15.170Z"
   },
   {
    "duration": 26,
    "start_time": "2022-08-12T11:41:15.188Z"
   },
   {
    "duration": 9,
    "start_time": "2022-08-12T11:41:15.216Z"
   },
   {
    "duration": 10,
    "start_time": "2022-08-12T11:41:15.226Z"
   },
   {
    "duration": 6,
    "start_time": "2022-08-12T11:41:15.238Z"
   },
   {
    "duration": 13,
    "start_time": "2022-08-12T11:41:15.245Z"
   },
   {
    "duration": 10,
    "start_time": "2022-08-12T11:41:15.259Z"
   },
   {
    "duration": 18,
    "start_time": "2022-08-12T11:41:15.271Z"
   },
   {
    "duration": 31,
    "start_time": "2022-08-12T11:41:15.290Z"
   },
   {
    "duration": 10,
    "start_time": "2022-08-12T11:41:15.322Z"
   },
   {
    "duration": 19,
    "start_time": "2022-08-12T11:41:15.333Z"
   },
   {
    "duration": 10,
    "start_time": "2022-08-12T11:41:15.353Z"
   },
   {
    "duration": 11,
    "start_time": "2022-08-12T11:41:15.365Z"
   },
   {
    "duration": 6,
    "start_time": "2022-08-12T11:41:15.378Z"
   },
   {
    "duration": 96,
    "start_time": "2022-08-12T11:41:15.386Z"
   },
   {
    "duration": 0,
    "start_time": "2022-08-12T11:41:15.483Z"
   },
   {
    "duration": 0,
    "start_time": "2022-08-12T11:41:15.485Z"
   },
   {
    "duration": 0,
    "start_time": "2022-08-12T11:41:15.486Z"
   },
   {
    "duration": 0,
    "start_time": "2022-08-12T11:41:15.488Z"
   },
   {
    "duration": 0,
    "start_time": "2022-08-12T11:41:15.488Z"
   },
   {
    "duration": 0,
    "start_time": "2022-08-12T11:41:15.489Z"
   },
   {
    "duration": 0,
    "start_time": "2022-08-12T11:41:15.490Z"
   },
   {
    "duration": 0,
    "start_time": "2022-08-12T11:41:15.491Z"
   },
   {
    "duration": 0,
    "start_time": "2022-08-12T11:41:15.492Z"
   },
   {
    "duration": 0,
    "start_time": "2022-08-12T11:41:15.494Z"
   },
   {
    "duration": 0,
    "start_time": "2022-08-12T11:41:15.495Z"
   },
   {
    "duration": 0,
    "start_time": "2022-08-12T11:41:15.495Z"
   },
   {
    "duration": 0,
    "start_time": "2022-08-12T11:41:15.498Z"
   },
   {
    "duration": 0,
    "start_time": "2022-08-12T11:41:15.499Z"
   },
   {
    "duration": 0,
    "start_time": "2022-08-12T11:41:15.500Z"
   },
   {
    "duration": 0,
    "start_time": "2022-08-12T11:41:15.501Z"
   },
   {
    "duration": 0,
    "start_time": "2022-08-12T11:41:15.502Z"
   },
   {
    "duration": 0,
    "start_time": "2022-08-12T11:41:15.502Z"
   },
   {
    "duration": 0,
    "start_time": "2022-08-12T11:41:15.503Z"
   },
   {
    "duration": 0,
    "start_time": "2022-08-12T11:41:15.504Z"
   },
   {
    "duration": 0,
    "start_time": "2022-08-12T11:41:15.505Z"
   },
   {
    "duration": 4,
    "start_time": "2022-08-12T11:42:38.431Z"
   },
   {
    "duration": 4,
    "start_time": "2022-08-12T11:49:17.454Z"
   },
   {
    "duration": 4,
    "start_time": "2022-08-12T11:49:52.710Z"
   },
   {
    "duration": 9,
    "start_time": "2022-08-12T12:14:16.616Z"
   },
   {
    "duration": 5,
    "start_time": "2022-08-12T12:16:46.248Z"
   },
   {
    "duration": 6,
    "start_time": "2022-08-12T12:18:26.161Z"
   },
   {
    "duration": 4,
    "start_time": "2022-08-12T12:18:33.031Z"
   },
   {
    "duration": 342,
    "start_time": "2022-08-12T12:18:33.057Z"
   },
   {
    "duration": 16,
    "start_time": "2022-08-12T12:18:33.400Z"
   },
   {
    "duration": 11,
    "start_time": "2022-08-12T12:18:33.417Z"
   },
   {
    "duration": 106,
    "start_time": "2022-08-12T12:18:33.429Z"
   },
   {
    "duration": 11,
    "start_time": "2022-08-12T12:18:33.537Z"
   },
   {
    "duration": 5,
    "start_time": "2022-08-12T12:18:33.549Z"
   },
   {
    "duration": 377,
    "start_time": "2022-08-12T12:18:33.555Z"
   },
   {
    "duration": 17,
    "start_time": "2022-08-12T12:18:33.934Z"
   },
   {
    "duration": 7,
    "start_time": "2022-08-12T12:18:33.953Z"
   },
   {
    "duration": 31,
    "start_time": "2022-08-12T12:18:33.962Z"
   },
   {
    "duration": 13,
    "start_time": "2022-08-12T12:18:33.994Z"
   },
   {
    "duration": 21,
    "start_time": "2022-08-12T12:18:34.009Z"
   },
   {
    "duration": 9,
    "start_time": "2022-08-12T12:18:34.031Z"
   },
   {
    "duration": 8,
    "start_time": "2022-08-12T12:18:34.043Z"
   },
   {
    "duration": 7,
    "start_time": "2022-08-12T12:18:34.052Z"
   },
   {
    "duration": 12,
    "start_time": "2022-08-12T12:18:34.061Z"
   },
   {
    "duration": 13,
    "start_time": "2022-08-12T12:18:34.075Z"
   },
   {
    "duration": 8,
    "start_time": "2022-08-12T12:18:34.098Z"
   },
   {
    "duration": 7,
    "start_time": "2022-08-12T12:18:34.107Z"
   },
   {
    "duration": 8,
    "start_time": "2022-08-12T12:18:34.116Z"
   },
   {
    "duration": 6,
    "start_time": "2022-08-12T12:18:34.125Z"
   },
   {
    "duration": 6,
    "start_time": "2022-08-12T12:18:34.133Z"
   },
   {
    "duration": 6,
    "start_time": "2022-08-12T12:18:34.141Z"
   },
   {
    "duration": 6,
    "start_time": "2022-08-12T12:18:34.149Z"
   },
   {
    "duration": 8,
    "start_time": "2022-08-12T12:18:34.156Z"
   },
   {
    "duration": 556,
    "start_time": "2022-08-12T12:18:34.166Z"
   },
   {
    "duration": 4,
    "start_time": "2022-08-12T12:18:34.724Z"
   },
   {
    "duration": 284,
    "start_time": "2022-08-12T12:18:34.729Z"
   },
   {
    "duration": 6,
    "start_time": "2022-08-12T12:18:35.014Z"
   },
   {
    "duration": 290,
    "start_time": "2022-08-12T12:18:35.021Z"
   },
   {
    "duration": 6,
    "start_time": "2022-08-12T12:18:35.312Z"
   },
   {
    "duration": 303,
    "start_time": "2022-08-12T12:18:35.320Z"
   },
   {
    "duration": 6,
    "start_time": "2022-08-12T12:18:35.625Z"
   },
   {
    "duration": 307,
    "start_time": "2022-08-12T12:18:35.633Z"
   },
   {
    "duration": 3,
    "start_time": "2022-08-12T12:18:35.942Z"
   },
   {
    "duration": 22,
    "start_time": "2022-08-12T12:18:35.947Z"
   },
   {
    "duration": 30,
    "start_time": "2022-08-12T12:18:35.971Z"
   },
   {
    "duration": 17,
    "start_time": "2022-08-12T12:18:36.003Z"
   },
   {
    "duration": 12,
    "start_time": "2022-08-12T12:18:36.022Z"
   },
   {
    "duration": 14,
    "start_time": "2022-08-12T12:18:36.036Z"
   },
   {
    "duration": 9,
    "start_time": "2022-08-12T12:18:36.054Z"
   },
   {
    "duration": 6,
    "start_time": "2022-08-12T12:18:36.064Z"
   },
   {
    "duration": 11,
    "start_time": "2022-08-12T12:18:36.071Z"
   },
   {
    "duration": 8,
    "start_time": "2022-08-12T12:18:36.083Z"
   },
   {
    "duration": 24,
    "start_time": "2022-08-12T12:18:36.093Z"
   },
   {
    "duration": 10,
    "start_time": "2022-08-12T12:18:36.119Z"
   },
   {
    "duration": 18,
    "start_time": "2022-08-12T12:18:36.130Z"
   },
   {
    "duration": 8,
    "start_time": "2022-08-12T12:18:36.150Z"
   },
   {
    "duration": 8,
    "start_time": "2022-08-12T12:18:36.159Z"
   },
   {
    "duration": 6,
    "start_time": "2022-08-12T12:18:36.169Z"
   },
   {
    "duration": 8,
    "start_time": "2022-08-12T12:18:36.176Z"
   },
   {
    "duration": 29,
    "start_time": "2022-08-12T12:18:36.186Z"
   },
   {
    "duration": 0,
    "start_time": "2022-08-12T12:18:36.217Z"
   },
   {
    "duration": 0,
    "start_time": "2022-08-12T12:18:36.218Z"
   },
   {
    "duration": 0,
    "start_time": "2022-08-12T12:18:36.222Z"
   },
   {
    "duration": 0,
    "start_time": "2022-08-12T12:18:36.223Z"
   },
   {
    "duration": 0,
    "start_time": "2022-08-12T12:18:36.224Z"
   },
   {
    "duration": 0,
    "start_time": "2022-08-12T12:18:36.225Z"
   },
   {
    "duration": 0,
    "start_time": "2022-08-12T12:18:36.228Z"
   },
   {
    "duration": 0,
    "start_time": "2022-08-12T12:18:36.230Z"
   },
   {
    "duration": 0,
    "start_time": "2022-08-12T12:18:36.231Z"
   },
   {
    "duration": 0,
    "start_time": "2022-08-12T12:18:36.233Z"
   },
   {
    "duration": 0,
    "start_time": "2022-08-12T12:18:36.235Z"
   },
   {
    "duration": 0,
    "start_time": "2022-08-12T12:18:36.236Z"
   },
   {
    "duration": 0,
    "start_time": "2022-08-12T12:18:36.238Z"
   },
   {
    "duration": 0,
    "start_time": "2022-08-12T12:18:36.239Z"
   },
   {
    "duration": 0,
    "start_time": "2022-08-12T12:18:36.240Z"
   },
   {
    "duration": 0,
    "start_time": "2022-08-12T12:18:36.242Z"
   },
   {
    "duration": 0,
    "start_time": "2022-08-12T12:18:36.243Z"
   },
   {
    "duration": 0,
    "start_time": "2022-08-12T12:18:36.245Z"
   },
   {
    "duration": 0,
    "start_time": "2022-08-12T12:18:36.246Z"
   },
   {
    "duration": 0,
    "start_time": "2022-08-12T12:18:36.248Z"
   },
   {
    "duration": 0,
    "start_time": "2022-08-12T12:18:36.249Z"
   },
   {
    "duration": 71,
    "start_time": "2022-08-12T12:19:47.384Z"
   },
   {
    "duration": 10171,
    "start_time": "2022-08-12T12:48:19.501Z"
   },
   {
    "duration": 3,
    "start_time": "2022-08-12T12:49:14.639Z"
   },
   {
    "duration": 314,
    "start_time": "2022-08-12T12:49:14.665Z"
   },
   {
    "duration": 31,
    "start_time": "2022-08-12T12:49:14.981Z"
   },
   {
    "duration": 20,
    "start_time": "2022-08-12T12:49:15.013Z"
   },
   {
    "duration": 102,
    "start_time": "2022-08-12T12:49:15.034Z"
   },
   {
    "duration": 11,
    "start_time": "2022-08-12T12:49:15.139Z"
   },
   {
    "duration": 5,
    "start_time": "2022-08-12T12:49:15.151Z"
   },
   {
    "duration": 362,
    "start_time": "2022-08-12T12:49:15.157Z"
   },
   {
    "duration": 17,
    "start_time": "2022-08-12T12:49:15.521Z"
   },
   {
    "duration": 7,
    "start_time": "2022-08-12T12:49:15.539Z"
   },
   {
    "duration": 8,
    "start_time": "2022-08-12T12:49:15.548Z"
   },
   {
    "duration": 5,
    "start_time": "2022-08-12T12:49:15.557Z"
   },
   {
    "duration": 37,
    "start_time": "2022-08-12T12:49:15.563Z"
   },
   {
    "duration": 9,
    "start_time": "2022-08-12T12:49:15.602Z"
   },
   {
    "duration": 6,
    "start_time": "2022-08-12T12:49:15.614Z"
   },
   {
    "duration": 6,
    "start_time": "2022-08-12T12:49:15.621Z"
   },
   {
    "duration": 6,
    "start_time": "2022-08-12T12:49:15.629Z"
   },
   {
    "duration": 6,
    "start_time": "2022-08-12T12:49:15.636Z"
   },
   {
    "duration": 8,
    "start_time": "2022-08-12T12:49:15.643Z"
   },
   {
    "duration": 5,
    "start_time": "2022-08-12T12:49:15.653Z"
   },
   {
    "duration": 6,
    "start_time": "2022-08-12T12:49:15.660Z"
   },
   {
    "duration": 8,
    "start_time": "2022-08-12T12:49:15.687Z"
   },
   {
    "duration": 10,
    "start_time": "2022-08-12T12:49:15.702Z"
   },
   {
    "duration": 6,
    "start_time": "2022-08-12T12:49:15.713Z"
   },
   {
    "duration": 8,
    "start_time": "2022-08-12T12:49:15.720Z"
   },
   {
    "duration": 4,
    "start_time": "2022-08-12T12:49:15.730Z"
   },
   {
    "duration": 607,
    "start_time": "2022-08-12T12:49:15.736Z"
   },
   {
    "duration": 6,
    "start_time": "2022-08-12T12:49:16.346Z"
   },
   {
    "duration": 350,
    "start_time": "2022-08-12T12:49:16.353Z"
   },
   {
    "duration": 5,
    "start_time": "2022-08-12T12:49:16.705Z"
   },
   {
    "duration": 299,
    "start_time": "2022-08-12T12:49:16.712Z"
   },
   {
    "duration": 5,
    "start_time": "2022-08-12T12:49:17.013Z"
   },
   {
    "duration": 308,
    "start_time": "2022-08-12T12:49:17.019Z"
   },
   {
    "duration": 5,
    "start_time": "2022-08-12T12:49:17.329Z"
   },
   {
    "duration": 292,
    "start_time": "2022-08-12T12:49:17.335Z"
   },
   {
    "duration": 3,
    "start_time": "2022-08-12T12:49:17.629Z"
   },
   {
    "duration": 8,
    "start_time": "2022-08-12T12:49:17.634Z"
   },
   {
    "duration": 14,
    "start_time": "2022-08-12T12:49:17.645Z"
   },
   {
    "duration": 3,
    "start_time": "2022-08-12T12:49:17.661Z"
   },
   {
    "duration": 10,
    "start_time": "2022-08-12T12:49:17.698Z"
   },
   {
    "duration": 8,
    "start_time": "2022-08-12T12:49:17.709Z"
   },
   {
    "duration": 10,
    "start_time": "2022-08-12T12:49:17.721Z"
   },
   {
    "duration": 3,
    "start_time": "2022-08-12T12:49:17.733Z"
   },
   {
    "duration": 10,
    "start_time": "2022-08-12T12:49:17.738Z"
   },
   {
    "duration": 5,
    "start_time": "2022-08-12T12:49:17.750Z"
   },
   {
    "duration": 7,
    "start_time": "2022-08-12T12:49:17.757Z"
   },
   {
    "duration": 23,
    "start_time": "2022-08-12T12:49:17.766Z"
   },
   {
    "duration": 20,
    "start_time": "2022-08-12T12:49:17.790Z"
   },
   {
    "duration": 7,
    "start_time": "2022-08-12T12:49:17.812Z"
   },
   {
    "duration": 19,
    "start_time": "2022-08-12T12:49:17.820Z"
   },
   {
    "duration": 18,
    "start_time": "2022-08-12T12:49:17.840Z"
   },
   {
    "duration": 7,
    "start_time": "2022-08-12T12:49:17.859Z"
   },
   {
    "duration": 11,
    "start_time": "2022-08-12T12:49:17.867Z"
   },
   {
    "duration": 0,
    "start_time": "2022-08-12T12:49:17.879Z"
   },
   {
    "duration": 0,
    "start_time": "2022-08-12T12:49:17.881Z"
   },
   {
    "duration": 0,
    "start_time": "2022-08-12T12:49:17.882Z"
   },
   {
    "duration": 0,
    "start_time": "2022-08-12T12:49:17.886Z"
   },
   {
    "duration": 0,
    "start_time": "2022-08-12T12:49:17.887Z"
   },
   {
    "duration": 0,
    "start_time": "2022-08-12T12:49:17.888Z"
   },
   {
    "duration": 0,
    "start_time": "2022-08-12T12:49:17.889Z"
   },
   {
    "duration": 0,
    "start_time": "2022-08-12T12:49:17.890Z"
   },
   {
    "duration": 0,
    "start_time": "2022-08-12T12:49:17.891Z"
   },
   {
    "duration": 0,
    "start_time": "2022-08-12T12:49:17.892Z"
   },
   {
    "duration": 0,
    "start_time": "2022-08-12T12:49:17.893Z"
   },
   {
    "duration": 0,
    "start_time": "2022-08-12T12:49:17.894Z"
   },
   {
    "duration": 0,
    "start_time": "2022-08-12T12:49:17.894Z"
   },
   {
    "duration": 0,
    "start_time": "2022-08-12T12:49:17.895Z"
   },
   {
    "duration": 0,
    "start_time": "2022-08-12T12:49:17.895Z"
   },
   {
    "duration": 0,
    "start_time": "2022-08-12T12:49:17.896Z"
   },
   {
    "duration": 0,
    "start_time": "2022-08-12T12:49:17.897Z"
   },
   {
    "duration": 0,
    "start_time": "2022-08-12T12:49:17.897Z"
   },
   {
    "duration": 0,
    "start_time": "2022-08-12T12:49:17.898Z"
   },
   {
    "duration": 0,
    "start_time": "2022-08-12T12:49:17.898Z"
   },
   {
    "duration": 0,
    "start_time": "2022-08-12T12:49:17.900Z"
   },
   {
    "duration": 9808,
    "start_time": "2022-08-12T12:50:54.538Z"
   },
   {
    "duration": 34,
    "start_time": "2022-08-12T12:55:31.508Z"
   },
   {
    "duration": 9607,
    "start_time": "2022-08-12T12:57:59.940Z"
   },
   {
    "duration": 3,
    "start_time": "2022-08-12T12:59:39.466Z"
   },
   {
    "duration": 815,
    "start_time": "2022-08-12T13:07:39.947Z"
   },
   {
    "duration": 797,
    "start_time": "2022-08-12T13:09:53.322Z"
   },
   {
    "duration": 3,
    "start_time": "2022-08-12T13:10:55.103Z"
   },
   {
    "duration": 298,
    "start_time": "2022-08-12T13:10:55.122Z"
   },
   {
    "duration": 14,
    "start_time": "2022-08-12T13:10:55.422Z"
   },
   {
    "duration": 5,
    "start_time": "2022-08-12T13:10:55.437Z"
   },
   {
    "duration": 101,
    "start_time": "2022-08-12T13:10:55.444Z"
   },
   {
    "duration": 12,
    "start_time": "2022-08-12T13:10:55.547Z"
   },
   {
    "duration": 4,
    "start_time": "2022-08-12T13:10:55.561Z"
   },
   {
    "duration": 386,
    "start_time": "2022-08-12T13:10:55.567Z"
   },
   {
    "duration": 19,
    "start_time": "2022-08-12T13:10:55.955Z"
   },
   {
    "duration": 16,
    "start_time": "2022-08-12T13:10:55.976Z"
   },
   {
    "duration": 9,
    "start_time": "2022-08-12T13:10:55.994Z"
   },
   {
    "duration": 28,
    "start_time": "2022-08-12T13:10:56.004Z"
   },
   {
    "duration": 29,
    "start_time": "2022-08-12T13:10:56.036Z"
   },
   {
    "duration": 10,
    "start_time": "2022-08-12T13:10:56.066Z"
   },
   {
    "duration": 7,
    "start_time": "2022-08-12T13:10:56.079Z"
   },
   {
    "duration": 6,
    "start_time": "2022-08-12T13:10:56.088Z"
   },
   {
    "duration": 7,
    "start_time": "2022-08-12T13:10:56.096Z"
   },
   {
    "duration": 6,
    "start_time": "2022-08-12T13:10:56.105Z"
   },
   {
    "duration": 5,
    "start_time": "2022-08-12T13:10:56.113Z"
   },
   {
    "duration": 6,
    "start_time": "2022-08-12T13:10:56.120Z"
   },
   {
    "duration": 5,
    "start_time": "2022-08-12T13:10:56.128Z"
   },
   {
    "duration": 14,
    "start_time": "2022-08-12T13:10:56.134Z"
   },
   {
    "duration": 8,
    "start_time": "2022-08-12T13:10:56.150Z"
   },
   {
    "duration": 5,
    "start_time": "2022-08-12T13:10:56.160Z"
   },
   {
    "duration": 6,
    "start_time": "2022-08-12T13:10:56.187Z"
   },
   {
    "duration": 13,
    "start_time": "2022-08-12T13:10:56.194Z"
   },
   {
    "duration": 609,
    "start_time": "2022-08-12T13:10:56.208Z"
   },
   {
    "duration": 5,
    "start_time": "2022-08-12T13:10:56.819Z"
   },
   {
    "duration": 283,
    "start_time": "2022-08-12T13:10:56.825Z"
   },
   {
    "duration": 5,
    "start_time": "2022-08-12T13:10:57.110Z"
   },
   {
    "duration": 295,
    "start_time": "2022-08-12T13:10:57.117Z"
   },
   {
    "duration": 5,
    "start_time": "2022-08-12T13:10:57.414Z"
   },
   {
    "duration": 289,
    "start_time": "2022-08-12T13:10:57.421Z"
   },
   {
    "duration": 5,
    "start_time": "2022-08-12T13:10:57.712Z"
   },
   {
    "duration": 269,
    "start_time": "2022-08-12T13:10:57.719Z"
   },
   {
    "duration": 3,
    "start_time": "2022-08-12T13:10:57.990Z"
   },
   {
    "duration": 9,
    "start_time": "2022-08-12T13:10:57.995Z"
   },
   {
    "duration": 17,
    "start_time": "2022-08-12T13:10:58.005Z"
   },
   {
    "duration": 4,
    "start_time": "2022-08-12T13:10:58.024Z"
   },
   {
    "duration": 12,
    "start_time": "2022-08-12T13:10:58.029Z"
   },
   {
    "duration": 7,
    "start_time": "2022-08-12T13:10:58.043Z"
   },
   {
    "duration": 34,
    "start_time": "2022-08-12T13:10:58.054Z"
   },
   {
    "duration": 4,
    "start_time": "2022-08-12T13:10:58.089Z"
   },
   {
    "duration": 11,
    "start_time": "2022-08-12T13:10:58.095Z"
   },
   {
    "duration": 6,
    "start_time": "2022-08-12T13:10:58.107Z"
   },
   {
    "duration": 6,
    "start_time": "2022-08-12T13:10:58.115Z"
   },
   {
    "duration": 10,
    "start_time": "2022-08-12T13:10:58.122Z"
   },
   {
    "duration": 16,
    "start_time": "2022-08-12T13:10:58.134Z"
   },
   {
    "duration": 36,
    "start_time": "2022-08-12T13:10:58.152Z"
   },
   {
    "duration": 8,
    "start_time": "2022-08-12T13:10:58.190Z"
   },
   {
    "duration": 12,
    "start_time": "2022-08-12T13:10:58.199Z"
   },
   {
    "duration": 11,
    "start_time": "2022-08-12T13:10:58.213Z"
   },
   {
    "duration": 9704,
    "start_time": "2022-08-12T13:10:58.226Z"
   },
   {
    "duration": 9513,
    "start_time": "2022-08-12T13:11:07.932Z"
   },
   {
    "duration": 3,
    "start_time": "2022-08-12T13:11:17.447Z"
   },
   {
    "duration": 39,
    "start_time": "2022-08-12T13:11:17.452Z"
   },
   {
    "duration": 26,
    "start_time": "2022-08-12T13:11:17.492Z"
   },
   {
    "duration": 821,
    "start_time": "2022-08-12T13:11:17.519Z"
   },
   {
    "duration": 786,
    "start_time": "2022-08-12T13:11:18.341Z"
   },
   {
    "duration": 29,
    "start_time": "2022-08-12T13:11:19.129Z"
   },
   {
    "duration": 0,
    "start_time": "2022-08-12T13:11:19.159Z"
   },
   {
    "duration": 0,
    "start_time": "2022-08-12T13:11:19.160Z"
   },
   {
    "duration": 0,
    "start_time": "2022-08-12T13:11:19.162Z"
   },
   {
    "duration": 0,
    "start_time": "2022-08-12T13:11:19.162Z"
   },
   {
    "duration": 0,
    "start_time": "2022-08-12T13:11:19.164Z"
   },
   {
    "duration": 0,
    "start_time": "2022-08-12T13:11:19.165Z"
   },
   {
    "duration": 0,
    "start_time": "2022-08-12T13:11:19.165Z"
   },
   {
    "duration": 0,
    "start_time": "2022-08-12T13:11:19.166Z"
   },
   {
    "duration": 0,
    "start_time": "2022-08-12T13:11:19.167Z"
   },
   {
    "duration": 3,
    "start_time": "2022-08-12T13:11:39.530Z"
   },
   {
    "duration": 130,
    "start_time": "2022-08-12T13:17:26.958Z"
   },
   {
    "duration": 3,
    "start_time": "2022-08-12T13:17:51.569Z"
   },
   {
    "duration": 309,
    "start_time": "2022-08-12T13:17:51.590Z"
   },
   {
    "duration": 17,
    "start_time": "2022-08-12T13:17:51.901Z"
   },
   {
    "duration": 5,
    "start_time": "2022-08-12T13:17:51.920Z"
   },
   {
    "duration": 99,
    "start_time": "2022-08-12T13:17:51.926Z"
   },
   {
    "duration": 16,
    "start_time": "2022-08-12T13:17:52.028Z"
   },
   {
    "duration": 5,
    "start_time": "2022-08-12T13:17:52.046Z"
   },
   {
    "duration": 366,
    "start_time": "2022-08-12T13:17:52.053Z"
   },
   {
    "duration": 16,
    "start_time": "2022-08-12T13:17:52.420Z"
   },
   {
    "duration": 7,
    "start_time": "2022-08-12T13:17:52.438Z"
   },
   {
    "duration": 17,
    "start_time": "2022-08-12T13:17:52.446Z"
   },
   {
    "duration": 8,
    "start_time": "2022-08-12T13:17:52.464Z"
   },
   {
    "duration": 13,
    "start_time": "2022-08-12T13:17:52.474Z"
   },
   {
    "duration": 7,
    "start_time": "2022-08-12T13:17:52.489Z"
   },
   {
    "duration": 8,
    "start_time": "2022-08-12T13:17:52.499Z"
   },
   {
    "duration": 6,
    "start_time": "2022-08-12T13:17:52.508Z"
   },
   {
    "duration": 6,
    "start_time": "2022-08-12T13:17:52.515Z"
   },
   {
    "duration": 6,
    "start_time": "2022-08-12T13:17:52.523Z"
   },
   {
    "duration": 5,
    "start_time": "2022-08-12T13:17:52.531Z"
   },
   {
    "duration": 6,
    "start_time": "2022-08-12T13:17:52.537Z"
   },
   {
    "duration": 18,
    "start_time": "2022-08-12T13:17:52.545Z"
   },
   {
    "duration": 15,
    "start_time": "2022-08-12T13:17:52.564Z"
   },
   {
    "duration": 17,
    "start_time": "2022-08-12T13:17:52.580Z"
   },
   {
    "duration": 7,
    "start_time": "2022-08-12T13:17:52.599Z"
   },
   {
    "duration": 11,
    "start_time": "2022-08-12T13:17:52.608Z"
   },
   {
    "duration": 6,
    "start_time": "2022-08-12T13:17:52.620Z"
   },
   {
    "duration": 416,
    "start_time": "2022-08-12T13:17:52.627Z"
   },
   {
    "duration": 4,
    "start_time": "2022-08-12T13:17:53.045Z"
   },
   {
    "duration": 267,
    "start_time": "2022-08-12T13:17:53.051Z"
   },
   {
    "duration": 4,
    "start_time": "2022-08-12T13:17:53.319Z"
   },
   {
    "duration": 262,
    "start_time": "2022-08-12T13:17:53.325Z"
   },
   {
    "duration": 4,
    "start_time": "2022-08-12T13:17:53.589Z"
   },
   {
    "duration": 278,
    "start_time": "2022-08-12T13:17:53.595Z"
   },
   {
    "duration": 12,
    "start_time": "2022-08-12T13:17:53.875Z"
   },
   {
    "duration": 393,
    "start_time": "2022-08-12T13:17:53.888Z"
   },
   {
    "duration": 4,
    "start_time": "2022-08-12T13:17:54.283Z"
   },
   {
    "duration": 11,
    "start_time": "2022-08-12T13:17:54.289Z"
   },
   {
    "duration": 17,
    "start_time": "2022-08-12T13:17:54.302Z"
   },
   {
    "duration": 3,
    "start_time": "2022-08-12T13:17:54.321Z"
   },
   {
    "duration": 9,
    "start_time": "2022-08-12T13:17:54.326Z"
   },
   {
    "duration": 5,
    "start_time": "2022-08-12T13:17:54.336Z"
   },
   {
    "duration": 8,
    "start_time": "2022-08-12T13:17:54.345Z"
   },
   {
    "duration": 5,
    "start_time": "2022-08-12T13:17:54.354Z"
   },
   {
    "duration": 9,
    "start_time": "2022-08-12T13:17:54.386Z"
   },
   {
    "duration": 6,
    "start_time": "2022-08-12T13:17:54.396Z"
   },
   {
    "duration": 7,
    "start_time": "2022-08-12T13:17:54.404Z"
   },
   {
    "duration": 10,
    "start_time": "2022-08-12T13:17:54.412Z"
   },
   {
    "duration": 18,
    "start_time": "2022-08-12T13:17:54.424Z"
   },
   {
    "duration": 7,
    "start_time": "2022-08-12T13:17:54.444Z"
   },
   {
    "duration": 8,
    "start_time": "2022-08-12T13:17:54.452Z"
   },
   {
    "duration": 26,
    "start_time": "2022-08-12T13:17:54.461Z"
   },
   {
    "duration": 4,
    "start_time": "2022-08-12T13:17:54.489Z"
   },
   {
    "duration": 9468,
    "start_time": "2022-08-12T13:17:54.494Z"
   },
   {
    "duration": 9573,
    "start_time": "2022-08-12T13:18:03.965Z"
   },
   {
    "duration": 4,
    "start_time": "2022-08-12T13:18:13.539Z"
   },
   {
    "duration": 32,
    "start_time": "2022-08-12T13:18:13.544Z"
   },
   {
    "duration": 30,
    "start_time": "2022-08-12T13:18:13.586Z"
   },
   {
    "duration": 857,
    "start_time": "2022-08-12T13:18:13.617Z"
   },
   {
    "duration": 840,
    "start_time": "2022-08-12T13:18:14.475Z"
   },
   {
    "duration": 3,
    "start_time": "2022-08-12T13:18:15.316Z"
   },
   {
    "duration": 29,
    "start_time": "2022-08-12T13:18:15.321Z"
   },
   {
    "duration": 44,
    "start_time": "2022-08-12T13:18:15.351Z"
   },
   {
    "duration": 95,
    "start_time": "2022-08-12T13:18:15.397Z"
   },
   {
    "duration": 201,
    "start_time": "2022-08-12T13:18:15.493Z"
   },
   {
    "duration": 0,
    "start_time": "2022-08-12T13:18:15.696Z"
   },
   {
    "duration": 0,
    "start_time": "2022-08-12T13:18:15.697Z"
   },
   {
    "duration": 0,
    "start_time": "2022-08-12T13:18:15.699Z"
   },
   {
    "duration": 0,
    "start_time": "2022-08-12T13:18:15.701Z"
   },
   {
    "duration": 0,
    "start_time": "2022-08-12T13:18:15.702Z"
   },
   {
    "duration": 122,
    "start_time": "2022-08-12T13:19:58.668Z"
   },
   {
    "duration": 31,
    "start_time": "2022-08-12T13:20:42.915Z"
   },
   {
    "duration": 8,
    "start_time": "2022-08-12T17:38:22.715Z"
   },
   {
    "duration": 3,
    "start_time": "2022-08-12T17:38:29.570Z"
   },
   {
    "duration": 321,
    "start_time": "2022-08-12T17:38:29.590Z"
   },
   {
    "duration": 17,
    "start_time": "2022-08-12T17:38:29.913Z"
   },
   {
    "duration": 7,
    "start_time": "2022-08-12T17:38:29.932Z"
   },
   {
    "duration": 108,
    "start_time": "2022-08-12T17:38:29.941Z"
   },
   {
    "duration": 12,
    "start_time": "2022-08-12T17:38:30.052Z"
   },
   {
    "duration": 21,
    "start_time": "2022-08-12T17:38:30.066Z"
   },
   {
    "duration": 354,
    "start_time": "2022-08-12T17:38:30.089Z"
   },
   {
    "duration": 16,
    "start_time": "2022-08-12T17:38:30.445Z"
   },
   {
    "duration": 7,
    "start_time": "2022-08-12T17:38:30.463Z"
   },
   {
    "duration": 25,
    "start_time": "2022-08-12T17:38:30.471Z"
   },
   {
    "duration": 24,
    "start_time": "2022-08-12T17:38:30.498Z"
   },
   {
    "duration": 8,
    "start_time": "2022-08-12T17:38:30.523Z"
   },
   {
    "duration": 12,
    "start_time": "2022-08-12T17:38:30.533Z"
   },
   {
    "duration": 25,
    "start_time": "2022-08-12T17:38:30.548Z"
   },
   {
    "duration": 8,
    "start_time": "2022-08-12T17:38:30.575Z"
   },
   {
    "duration": 26,
    "start_time": "2022-08-12T17:38:30.585Z"
   },
   {
    "duration": 17,
    "start_time": "2022-08-12T17:38:30.612Z"
   },
   {
    "duration": 17,
    "start_time": "2022-08-12T17:38:30.631Z"
   },
   {
    "duration": 21,
    "start_time": "2022-08-12T17:38:30.649Z"
   },
   {
    "duration": 15,
    "start_time": "2022-08-12T17:38:30.672Z"
   },
   {
    "duration": 18,
    "start_time": "2022-08-12T17:38:30.689Z"
   },
   {
    "duration": 13,
    "start_time": "2022-08-12T17:38:30.708Z"
   },
   {
    "duration": 10,
    "start_time": "2022-08-12T17:38:30.722Z"
   },
   {
    "duration": 17,
    "start_time": "2022-08-12T17:38:30.734Z"
   },
   {
    "duration": 14,
    "start_time": "2022-08-12T17:38:30.753Z"
   },
   {
    "duration": 421,
    "start_time": "2022-08-12T17:38:30.769Z"
   },
   {
    "duration": 4,
    "start_time": "2022-08-12T17:38:31.191Z"
   },
   {
    "duration": 262,
    "start_time": "2022-08-12T17:38:31.197Z"
   },
   {
    "duration": 5,
    "start_time": "2022-08-12T17:38:31.460Z"
   },
   {
    "duration": 276,
    "start_time": "2022-08-12T17:38:31.466Z"
   },
   {
    "duration": 4,
    "start_time": "2022-08-12T17:38:31.744Z"
   },
   {
    "duration": 288,
    "start_time": "2022-08-12T17:38:31.750Z"
   },
   {
    "duration": 5,
    "start_time": "2022-08-12T17:38:32.039Z"
   },
   {
    "duration": 389,
    "start_time": "2022-08-12T17:38:32.045Z"
   },
   {
    "duration": 3,
    "start_time": "2022-08-12T17:38:32.435Z"
   },
   {
    "duration": 11,
    "start_time": "2022-08-12T17:38:32.440Z"
   },
   {
    "duration": 13,
    "start_time": "2022-08-12T17:38:32.453Z"
   },
   {
    "duration": 4,
    "start_time": "2022-08-12T17:38:32.467Z"
   },
   {
    "duration": 19,
    "start_time": "2022-08-12T17:38:32.472Z"
   },
   {
    "duration": 6,
    "start_time": "2022-08-12T17:38:32.492Z"
   },
   {
    "duration": 8,
    "start_time": "2022-08-12T17:38:32.502Z"
   },
   {
    "duration": 3,
    "start_time": "2022-08-12T17:38:32.512Z"
   },
   {
    "duration": 9,
    "start_time": "2022-08-12T17:38:32.517Z"
   },
   {
    "duration": 6,
    "start_time": "2022-08-12T17:38:32.527Z"
   },
   {
    "duration": 7,
    "start_time": "2022-08-12T17:38:32.534Z"
   },
   {
    "duration": 7,
    "start_time": "2022-08-12T17:38:32.542Z"
   },
   {
    "duration": 47,
    "start_time": "2022-08-12T17:38:32.550Z"
   },
   {
    "duration": 7,
    "start_time": "2022-08-12T17:38:32.599Z"
   },
   {
    "duration": 10,
    "start_time": "2022-08-12T17:38:32.608Z"
   },
   {
    "duration": 5,
    "start_time": "2022-08-12T17:38:32.620Z"
   },
   {
    "duration": 6,
    "start_time": "2022-08-12T17:38:32.626Z"
   },
   {
    "duration": 9280,
    "start_time": "2022-08-12T17:38:32.633Z"
   },
   {
    "duration": 9106,
    "start_time": "2022-08-12T17:38:41.914Z"
   },
   {
    "duration": 3,
    "start_time": "2022-08-12T17:38:51.021Z"
   },
   {
    "duration": 2893,
    "start_time": "2022-08-12T17:38:51.026Z"
   },
   {
    "duration": 29,
    "start_time": "2022-08-12T17:38:53.920Z"
   },
   {
    "duration": 39,
    "start_time": "2022-08-12T17:38:53.950Z"
   },
   {
    "duration": 796,
    "start_time": "2022-08-12T17:38:53.991Z"
   },
   {
    "duration": 766,
    "start_time": "2022-08-12T17:38:54.788Z"
   },
   {
    "duration": 3,
    "start_time": "2022-08-12T17:38:55.555Z"
   },
   {
    "duration": 34,
    "start_time": "2022-08-12T17:38:55.559Z"
   },
   {
    "duration": 25,
    "start_time": "2022-08-12T17:38:55.594Z"
   },
   {
    "duration": 170,
    "start_time": "2022-08-12T17:38:55.621Z"
   },
   {
    "duration": 398,
    "start_time": "2022-08-12T17:38:55.793Z"
   },
   {
    "duration": 98,
    "start_time": "2022-08-12T17:38:56.194Z"
   },
   {
    "duration": 0,
    "start_time": "2022-08-12T17:38:56.294Z"
   },
   {
    "duration": 0,
    "start_time": "2022-08-12T17:38:56.296Z"
   },
   {
    "duration": 0,
    "start_time": "2022-08-12T17:38:56.297Z"
   },
   {
    "duration": 1225,
    "start_time": "2022-08-12T17:39:05.067Z"
   },
   {
    "duration": 1081,
    "start_time": "2022-08-12T17:39:29.111Z"
   },
   {
    "duration": 1595,
    "start_time": "2022-08-12T17:43:17.595Z"
   },
   {
    "duration": 982,
    "start_time": "2022-08-12T17:47:35.911Z"
   },
   {
    "duration": 4,
    "start_time": "2022-08-12T17:50:59.852Z"
   },
   {
    "duration": 284,
    "start_time": "2022-08-12T17:50:59.872Z"
   },
   {
    "duration": 29,
    "start_time": "2022-08-12T17:51:00.158Z"
   },
   {
    "duration": 6,
    "start_time": "2022-08-12T17:51:00.189Z"
   },
   {
    "duration": 95,
    "start_time": "2022-08-12T17:51:00.197Z"
   },
   {
    "duration": 12,
    "start_time": "2022-08-12T17:51:00.294Z"
   },
   {
    "duration": 8,
    "start_time": "2022-08-12T17:51:00.307Z"
   },
   {
    "duration": 367,
    "start_time": "2022-08-12T17:51:00.316Z"
   },
   {
    "duration": 16,
    "start_time": "2022-08-12T17:51:00.684Z"
   },
   {
    "duration": 13,
    "start_time": "2022-08-12T17:51:00.702Z"
   },
   {
    "duration": 14,
    "start_time": "2022-08-12T17:51:00.716Z"
   },
   {
    "duration": 11,
    "start_time": "2022-08-12T17:51:00.732Z"
   },
   {
    "duration": 24,
    "start_time": "2022-08-12T17:51:00.745Z"
   },
   {
    "duration": 16,
    "start_time": "2022-08-12T17:51:00.770Z"
   },
   {
    "duration": 6,
    "start_time": "2022-08-12T17:51:00.790Z"
   },
   {
    "duration": 8,
    "start_time": "2022-08-12T17:51:00.797Z"
   },
   {
    "duration": 9,
    "start_time": "2022-08-12T17:51:00.807Z"
   },
   {
    "duration": 31,
    "start_time": "2022-08-12T17:51:00.817Z"
   },
   {
    "duration": 11,
    "start_time": "2022-08-12T17:51:00.850Z"
   },
   {
    "duration": 14,
    "start_time": "2022-08-12T17:51:00.862Z"
   },
   {
    "duration": 18,
    "start_time": "2022-08-12T17:51:00.878Z"
   },
   {
    "duration": 21,
    "start_time": "2022-08-12T17:51:00.898Z"
   },
   {
    "duration": 29,
    "start_time": "2022-08-12T17:51:00.920Z"
   },
   {
    "duration": 42,
    "start_time": "2022-08-12T17:51:00.951Z"
   },
   {
    "duration": 20,
    "start_time": "2022-08-12T17:51:00.994Z"
   },
   {
    "duration": 24,
    "start_time": "2022-08-12T17:51:01.016Z"
   },
   {
    "duration": 466,
    "start_time": "2022-08-12T17:51:01.042Z"
   },
   {
    "duration": 5,
    "start_time": "2022-08-12T17:51:01.511Z"
   },
   {
    "duration": 327,
    "start_time": "2022-08-12T17:51:01.518Z"
   },
   {
    "duration": 5,
    "start_time": "2022-08-12T17:51:01.846Z"
   },
   {
    "duration": 299,
    "start_time": "2022-08-12T17:51:01.852Z"
   },
   {
    "duration": 5,
    "start_time": "2022-08-12T17:51:02.152Z"
   },
   {
    "duration": 412,
    "start_time": "2022-08-12T17:51:02.159Z"
   },
   {
    "duration": 4,
    "start_time": "2022-08-12T17:51:02.572Z"
   },
   {
    "duration": 275,
    "start_time": "2022-08-12T17:51:02.587Z"
   },
   {
    "duration": 3,
    "start_time": "2022-08-12T17:51:02.864Z"
   },
   {
    "duration": 9,
    "start_time": "2022-08-12T17:51:02.868Z"
   },
   {
    "duration": 24,
    "start_time": "2022-08-12T17:51:02.879Z"
   },
   {
    "duration": 3,
    "start_time": "2022-08-12T17:51:02.905Z"
   },
   {
    "duration": 10,
    "start_time": "2022-08-12T17:51:02.909Z"
   },
   {
    "duration": 7,
    "start_time": "2022-08-12T17:51:02.920Z"
   },
   {
    "duration": 9,
    "start_time": "2022-08-12T17:51:02.931Z"
   },
   {
    "duration": 8,
    "start_time": "2022-08-12T17:51:02.941Z"
   },
   {
    "duration": 10,
    "start_time": "2022-08-12T17:51:02.951Z"
   },
   {
    "duration": 24,
    "start_time": "2022-08-12T17:51:02.963Z"
   },
   {
    "duration": 6,
    "start_time": "2022-08-12T17:51:02.989Z"
   },
   {
    "duration": 10,
    "start_time": "2022-08-12T17:51:02.997Z"
   },
   {
    "duration": 21,
    "start_time": "2022-08-12T17:51:03.009Z"
   },
   {
    "duration": 8,
    "start_time": "2022-08-12T17:51:03.032Z"
   },
   {
    "duration": 28,
    "start_time": "2022-08-12T17:51:03.041Z"
   },
   {
    "duration": 9,
    "start_time": "2022-08-12T17:51:03.071Z"
   },
   {
    "duration": 7,
    "start_time": "2022-08-12T17:51:03.082Z"
   },
   {
    "duration": 9555,
    "start_time": "2022-08-12T17:51:03.091Z"
   },
   {
    "duration": 9358,
    "start_time": "2022-08-12T17:51:12.647Z"
   },
   {
    "duration": 2,
    "start_time": "2022-08-12T17:51:22.007Z"
   },
   {
    "duration": 2930,
    "start_time": "2022-08-12T17:51:22.011Z"
   },
   {
    "duration": 2899,
    "start_time": "2022-08-12T17:51:24.943Z"
   },
   {
    "duration": 26,
    "start_time": "2022-08-12T17:51:27.843Z"
   },
   {
    "duration": 37,
    "start_time": "2022-08-12T17:51:27.870Z"
   },
   {
    "duration": 817,
    "start_time": "2022-08-12T17:51:27.908Z"
   },
   {
    "duration": 788,
    "start_time": "2022-08-12T17:51:28.727Z"
   },
   {
    "duration": 3,
    "start_time": "2022-08-12T17:51:29.517Z"
   },
   {
    "duration": 37,
    "start_time": "2022-08-12T17:51:29.521Z"
   },
   {
    "duration": 33,
    "start_time": "2022-08-12T17:51:29.560Z"
   },
   {
    "duration": 96,
    "start_time": "2022-08-12T17:51:29.595Z"
   },
   {
    "duration": 298,
    "start_time": "2022-08-12T17:51:29.693Z"
   },
   {
    "duration": 99,
    "start_time": "2022-08-12T17:51:29.994Z"
   },
   {
    "duration": 0,
    "start_time": "2022-08-12T17:51:30.095Z"
   },
   {
    "duration": 0,
    "start_time": "2022-08-12T17:51:30.096Z"
   },
   {
    "duration": 0,
    "start_time": "2022-08-12T17:51:30.097Z"
   },
   {
    "duration": 1151,
    "start_time": "2022-08-12T18:04:30.639Z"
   },
   {
    "duration": 1072,
    "start_time": "2022-08-12T18:07:06.716Z"
   },
   {
    "duration": 121,
    "start_time": "2022-08-12T18:09:45.765Z"
   },
   {
    "duration": 257,
    "start_time": "2022-08-12T18:10:16.330Z"
   },
   {
    "duration": 4,
    "start_time": "2022-08-12T18:10:25.975Z"
   },
   {
    "duration": 326,
    "start_time": "2022-08-12T18:10:25.989Z"
   },
   {
    "duration": 19,
    "start_time": "2022-08-12T18:10:26.317Z"
   },
   {
    "duration": 8,
    "start_time": "2022-08-12T18:10:26.338Z"
   },
   {
    "duration": 101,
    "start_time": "2022-08-12T18:10:26.348Z"
   },
   {
    "duration": 12,
    "start_time": "2022-08-12T18:10:26.451Z"
   },
   {
    "duration": 7,
    "start_time": "2022-08-12T18:10:26.465Z"
   },
   {
    "duration": 367,
    "start_time": "2022-08-12T18:10:26.473Z"
   },
   {
    "duration": 15,
    "start_time": "2022-08-12T18:10:26.842Z"
   },
   {
    "duration": 6,
    "start_time": "2022-08-12T18:10:26.859Z"
   },
   {
    "duration": 24,
    "start_time": "2022-08-12T18:10:26.867Z"
   },
   {
    "duration": 5,
    "start_time": "2022-08-12T18:10:26.893Z"
   },
   {
    "duration": 5,
    "start_time": "2022-08-12T18:10:26.900Z"
   },
   {
    "duration": 6,
    "start_time": "2022-08-12T18:10:26.906Z"
   },
   {
    "duration": 5,
    "start_time": "2022-08-12T18:10:26.915Z"
   },
   {
    "duration": 8,
    "start_time": "2022-08-12T18:10:26.922Z"
   },
   {
    "duration": 7,
    "start_time": "2022-08-12T18:10:26.931Z"
   },
   {
    "duration": 10,
    "start_time": "2022-08-12T18:10:26.939Z"
   },
   {
    "duration": 38,
    "start_time": "2022-08-12T18:10:26.951Z"
   },
   {
    "duration": 8,
    "start_time": "2022-08-12T18:10:26.991Z"
   },
   {
    "duration": 9,
    "start_time": "2022-08-12T18:10:27.001Z"
   },
   {
    "duration": 15,
    "start_time": "2022-08-12T18:10:27.011Z"
   },
   {
    "duration": 12,
    "start_time": "2022-08-12T18:10:27.027Z"
   },
   {
    "duration": 15,
    "start_time": "2022-08-12T18:10:27.041Z"
   },
   {
    "duration": 6,
    "start_time": "2022-08-12T18:10:27.058Z"
   },
   {
    "duration": 6,
    "start_time": "2022-08-12T18:10:27.066Z"
   },
   {
    "duration": 421,
    "start_time": "2022-08-12T18:10:27.074Z"
   },
   {
    "duration": 4,
    "start_time": "2022-08-12T18:10:27.497Z"
   },
   {
    "duration": 283,
    "start_time": "2022-08-12T18:10:27.502Z"
   },
   {
    "duration": 4,
    "start_time": "2022-08-12T18:10:27.787Z"
   },
   {
    "duration": 296,
    "start_time": "2022-08-12T18:10:27.792Z"
   },
   {
    "duration": 5,
    "start_time": "2022-08-12T18:10:28.090Z"
   },
   {
    "duration": 440,
    "start_time": "2022-08-12T18:10:28.096Z"
   },
   {
    "duration": 4,
    "start_time": "2022-08-12T18:10:28.538Z"
   },
   {
    "duration": 353,
    "start_time": "2022-08-12T18:10:28.544Z"
   },
   {
    "duration": 3,
    "start_time": "2022-08-12T18:10:28.898Z"
   },
   {
    "duration": 8,
    "start_time": "2022-08-12T18:10:28.902Z"
   },
   {
    "duration": 18,
    "start_time": "2022-08-12T18:10:28.912Z"
   },
   {
    "duration": 3,
    "start_time": "2022-08-12T18:10:28.932Z"
   },
   {
    "duration": 11,
    "start_time": "2022-08-12T18:10:28.937Z"
   },
   {
    "duration": 6,
    "start_time": "2022-08-12T18:10:28.949Z"
   },
   {
    "duration": 8,
    "start_time": "2022-08-12T18:10:28.959Z"
   },
   {
    "duration": 4,
    "start_time": "2022-08-12T18:10:28.969Z"
   },
   {
    "duration": 15,
    "start_time": "2022-08-12T18:10:28.974Z"
   },
   {
    "duration": 17,
    "start_time": "2022-08-12T18:10:28.991Z"
   },
   {
    "duration": 5,
    "start_time": "2022-08-12T18:10:29.010Z"
   },
   {
    "duration": 9,
    "start_time": "2022-08-12T18:10:29.017Z"
   },
   {
    "duration": 17,
    "start_time": "2022-08-12T18:10:29.028Z"
   },
   {
    "duration": 7,
    "start_time": "2022-08-12T18:10:29.047Z"
   },
   {
    "duration": 9,
    "start_time": "2022-08-12T18:10:29.055Z"
   },
   {
    "duration": 6,
    "start_time": "2022-08-12T18:10:29.066Z"
   },
   {
    "duration": 13,
    "start_time": "2022-08-12T18:10:29.073Z"
   },
   {
    "duration": 9417,
    "start_time": "2022-08-12T18:10:29.087Z"
   },
   {
    "duration": 9123,
    "start_time": "2022-08-12T18:10:38.506Z"
   },
   {
    "duration": 3,
    "start_time": "2022-08-12T18:10:47.631Z"
   },
   {
    "duration": 2889,
    "start_time": "2022-08-12T18:10:47.636Z"
   },
   {
    "duration": 2857,
    "start_time": "2022-08-12T18:10:50.527Z"
   },
   {
    "duration": 800,
    "start_time": "2022-08-12T18:10:53.387Z"
   },
   {
    "duration": 773,
    "start_time": "2022-08-12T18:10:54.188Z"
   },
   {
    "duration": 3,
    "start_time": "2022-08-12T18:10:54.962Z"
   },
   {
    "duration": 3207,
    "start_time": "2022-08-12T18:10:54.966Z"
   },
   {
    "duration": 3106,
    "start_time": "2022-08-12T18:10:58.174Z"
   },
   {
    "duration": 206,
    "start_time": "2022-08-12T18:11:01.282Z"
   },
   {
    "duration": 203,
    "start_time": "2022-08-12T18:11:01.491Z"
   },
   {
    "duration": 93,
    "start_time": "2022-08-12T18:11:01.696Z"
   },
   {
    "duration": 118,
    "start_time": "2022-08-12T18:11:01.792Z"
   },
   {
    "duration": 28,
    "start_time": "2022-08-12T18:11:01.912Z"
   },
   {
    "duration": 51,
    "start_time": "2022-08-12T18:11:01.941Z"
   },
   {
    "duration": 1272,
    "start_time": "2022-08-12T18:16:59.518Z"
   },
   {
    "duration": 1060,
    "start_time": "2022-08-12T18:17:33.931Z"
   },
   {
    "duration": 3,
    "start_time": "2022-08-12T18:19:29.359Z"
   },
   {
    "duration": 319,
    "start_time": "2022-08-12T18:19:29.378Z"
   },
   {
    "duration": 15,
    "start_time": "2022-08-12T18:19:29.699Z"
   },
   {
    "duration": 6,
    "start_time": "2022-08-12T18:19:29.716Z"
   },
   {
    "duration": 103,
    "start_time": "2022-08-12T18:19:29.723Z"
   },
   {
    "duration": 11,
    "start_time": "2022-08-12T18:19:29.828Z"
   },
   {
    "duration": 7,
    "start_time": "2022-08-12T18:19:29.840Z"
   },
   {
    "duration": 380,
    "start_time": "2022-08-12T18:19:29.848Z"
   },
   {
    "duration": 17,
    "start_time": "2022-08-12T18:19:30.229Z"
   },
   {
    "duration": 7,
    "start_time": "2022-08-12T18:19:30.247Z"
   },
   {
    "duration": 36,
    "start_time": "2022-08-12T18:19:30.255Z"
   },
   {
    "duration": 25,
    "start_time": "2022-08-12T18:19:30.292Z"
   },
   {
    "duration": 17,
    "start_time": "2022-08-12T18:19:30.319Z"
   },
   {
    "duration": 19,
    "start_time": "2022-08-12T18:19:30.338Z"
   },
   {
    "duration": 16,
    "start_time": "2022-08-12T18:19:30.359Z"
   },
   {
    "duration": 11,
    "start_time": "2022-08-12T18:19:30.376Z"
   },
   {
    "duration": 28,
    "start_time": "2022-08-12T18:19:30.388Z"
   },
   {
    "duration": 11,
    "start_time": "2022-08-12T18:19:30.418Z"
   },
   {
    "duration": 16,
    "start_time": "2022-08-12T18:19:30.431Z"
   },
   {
    "duration": 22,
    "start_time": "2022-08-12T18:19:30.449Z"
   },
   {
    "duration": 21,
    "start_time": "2022-08-12T18:19:30.473Z"
   },
   {
    "duration": 33,
    "start_time": "2022-08-12T18:19:30.496Z"
   },
   {
    "duration": 27,
    "start_time": "2022-08-12T18:19:30.530Z"
   },
   {
    "duration": 21,
    "start_time": "2022-08-12T18:19:30.558Z"
   },
   {
    "duration": 11,
    "start_time": "2022-08-12T18:19:30.580Z"
   },
   {
    "duration": 8,
    "start_time": "2022-08-12T18:19:30.593Z"
   },
   {
    "duration": 404,
    "start_time": "2022-08-12T18:19:30.603Z"
   },
   {
    "duration": 4,
    "start_time": "2022-08-12T18:19:31.008Z"
   },
   {
    "duration": 272,
    "start_time": "2022-08-12T18:19:31.014Z"
   },
   {
    "duration": 4,
    "start_time": "2022-08-12T18:19:31.288Z"
   },
   {
    "duration": 264,
    "start_time": "2022-08-12T18:19:31.294Z"
   },
   {
    "duration": 5,
    "start_time": "2022-08-12T18:19:31.559Z"
   },
   {
    "duration": 279,
    "start_time": "2022-08-12T18:19:31.565Z"
   },
   {
    "duration": 4,
    "start_time": "2022-08-12T18:19:31.846Z"
   },
   {
    "duration": 426,
    "start_time": "2022-08-12T18:19:31.851Z"
   },
   {
    "duration": 2,
    "start_time": "2022-08-12T18:19:32.279Z"
   },
   {
    "duration": 5,
    "start_time": "2022-08-12T18:19:32.287Z"
   },
   {
    "duration": 17,
    "start_time": "2022-08-12T18:19:32.293Z"
   },
   {
    "duration": 3,
    "start_time": "2022-08-12T18:19:32.311Z"
   },
   {
    "duration": 10,
    "start_time": "2022-08-12T18:19:32.315Z"
   },
   {
    "duration": 5,
    "start_time": "2022-08-12T18:19:32.327Z"
   },
   {
    "duration": 9,
    "start_time": "2022-08-12T18:19:32.336Z"
   },
   {
    "duration": 3,
    "start_time": "2022-08-12T18:19:32.347Z"
   },
   {
    "duration": 36,
    "start_time": "2022-08-12T18:19:32.351Z"
   },
   {
    "duration": 6,
    "start_time": "2022-08-12T18:19:32.389Z"
   },
   {
    "duration": 6,
    "start_time": "2022-08-12T18:19:32.396Z"
   },
   {
    "duration": 5,
    "start_time": "2022-08-12T18:19:32.403Z"
   },
   {
    "duration": 17,
    "start_time": "2022-08-12T18:19:32.410Z"
   },
   {
    "duration": 6,
    "start_time": "2022-08-12T18:19:32.429Z"
   },
   {
    "duration": 12,
    "start_time": "2022-08-12T18:19:32.436Z"
   },
   {
    "duration": 7,
    "start_time": "2022-08-12T18:19:32.449Z"
   },
   {
    "duration": 30,
    "start_time": "2022-08-12T18:19:32.457Z"
   },
   {
    "duration": 9198,
    "start_time": "2022-08-12T18:19:32.488Z"
   },
   {
    "duration": 9076,
    "start_time": "2022-08-12T18:19:41.688Z"
   },
   {
    "duration": 3,
    "start_time": "2022-08-12T18:19:50.766Z"
   },
   {
    "duration": 2886,
    "start_time": "2022-08-12T18:19:50.770Z"
   },
   {
    "duration": 2855,
    "start_time": "2022-08-12T18:19:53.658Z"
   },
   {
    "duration": 798,
    "start_time": "2022-08-12T18:19:56.514Z"
   },
   {
    "duration": 786,
    "start_time": "2022-08-12T18:19:57.314Z"
   },
   {
    "duration": 3,
    "start_time": "2022-08-12T18:19:58.102Z"
   },
   {
    "duration": 3158,
    "start_time": "2022-08-12T18:19:58.107Z"
   },
   {
    "duration": 3155,
    "start_time": "2022-08-12T18:20:01.267Z"
   },
   {
    "duration": 262,
    "start_time": "2022-08-12T18:20:04.424Z"
   },
   {
    "duration": 300,
    "start_time": "2022-08-12T18:20:04.688Z"
   },
   {
    "duration": 3,
    "start_time": "2022-08-12T18:20:04.990Z"
   },
   {
    "duration": 1300,
    "start_time": "2022-08-12T18:20:04.994Z"
   },
   {
    "duration": 1307,
    "start_time": "2022-08-12T18:20:06.386Z"
   },
   {
    "duration": 116,
    "start_time": "2022-08-12T18:20:07.695Z"
   },
   {
    "duration": 23,
    "start_time": "2022-08-12T18:20:07.813Z"
   },
   {
    "duration": 28,
    "start_time": "2022-08-12T18:20:07.887Z"
   },
   {
    "duration": 49,
    "start_time": "2022-08-12T18:22:31.247Z"
   },
   {
    "duration": 1160,
    "start_time": "2022-08-13T07:32:11.014Z"
   },
   {
    "duration": 4,
    "start_time": "2022-08-13T07:32:16.914Z"
   },
   {
    "duration": 794,
    "start_time": "2022-08-13T07:32:16.936Z"
   },
   {
    "duration": 16,
    "start_time": "2022-08-13T07:32:17.731Z"
   },
   {
    "duration": 6,
    "start_time": "2022-08-13T07:32:17.748Z"
   },
   {
    "duration": 397,
    "start_time": "2022-08-13T07:32:17.755Z"
   },
   {
    "duration": 12,
    "start_time": "2022-08-13T07:32:18.155Z"
   },
   {
    "duration": 5,
    "start_time": "2022-08-13T07:32:18.168Z"
   },
   {
    "duration": 1803,
    "start_time": "2022-08-13T07:32:18.174Z"
   },
   {
    "duration": 16,
    "start_time": "2022-08-13T07:32:19.978Z"
   },
   {
    "duration": 7,
    "start_time": "2022-08-13T07:32:19.995Z"
   },
   {
    "duration": 10,
    "start_time": "2022-08-13T07:32:20.003Z"
   },
   {
    "duration": 5,
    "start_time": "2022-08-13T07:32:20.015Z"
   },
   {
    "duration": 6,
    "start_time": "2022-08-13T07:32:20.021Z"
   },
   {
    "duration": 6,
    "start_time": "2022-08-13T07:32:20.029Z"
   },
   {
    "duration": 10,
    "start_time": "2022-08-13T07:32:20.037Z"
   },
   {
    "duration": 9,
    "start_time": "2022-08-13T07:32:20.048Z"
   },
   {
    "duration": 7,
    "start_time": "2022-08-13T07:32:20.058Z"
   },
   {
    "duration": 5,
    "start_time": "2022-08-13T07:32:20.067Z"
   },
   {
    "duration": 6,
    "start_time": "2022-08-13T07:32:20.074Z"
   },
   {
    "duration": 6,
    "start_time": "2022-08-13T07:32:20.081Z"
   },
   {
    "duration": 24,
    "start_time": "2022-08-13T07:32:20.088Z"
   },
   {
    "duration": 6,
    "start_time": "2022-08-13T07:32:20.113Z"
   },
   {
    "duration": 5,
    "start_time": "2022-08-13T07:32:20.120Z"
   },
   {
    "duration": 4,
    "start_time": "2022-08-13T07:32:20.126Z"
   },
   {
    "duration": 4,
    "start_time": "2022-08-13T07:32:20.131Z"
   },
   {
    "duration": 4,
    "start_time": "2022-08-13T07:32:20.136Z"
   },
   {
    "duration": 787,
    "start_time": "2022-08-13T07:32:20.142Z"
   },
   {
    "duration": 4,
    "start_time": "2022-08-13T07:32:20.931Z"
   },
   {
    "duration": 329,
    "start_time": "2022-08-13T07:32:20.936Z"
   },
   {
    "duration": 5,
    "start_time": "2022-08-13T07:32:21.266Z"
   },
   {
    "duration": 270,
    "start_time": "2022-08-13T07:32:21.272Z"
   },
   {
    "duration": 4,
    "start_time": "2022-08-13T07:32:21.543Z"
   },
   {
    "duration": 264,
    "start_time": "2022-08-13T07:32:21.548Z"
   },
   {
    "duration": 5,
    "start_time": "2022-08-13T07:32:21.813Z"
   },
   {
    "duration": 266,
    "start_time": "2022-08-13T07:32:21.820Z"
   },
   {
    "duration": 3,
    "start_time": "2022-08-13T07:32:22.088Z"
   },
   {
    "duration": 7,
    "start_time": "2022-08-13T07:32:22.092Z"
   },
   {
    "duration": 23,
    "start_time": "2022-08-13T07:32:22.101Z"
   },
   {
    "duration": 3,
    "start_time": "2022-08-13T07:32:22.126Z"
   },
   {
    "duration": 10,
    "start_time": "2022-08-13T07:32:22.131Z"
   },
   {
    "duration": 9,
    "start_time": "2022-08-13T07:32:22.142Z"
   },
   {
    "duration": 11,
    "start_time": "2022-08-13T07:32:22.155Z"
   },
   {
    "duration": 13,
    "start_time": "2022-08-13T07:32:22.168Z"
   },
   {
    "duration": 11,
    "start_time": "2022-08-13T07:32:22.182Z"
   },
   {
    "duration": 20,
    "start_time": "2022-08-13T07:32:22.194Z"
   },
   {
    "duration": 9,
    "start_time": "2022-08-13T07:32:22.216Z"
   },
   {
    "duration": 6,
    "start_time": "2022-08-13T07:32:22.227Z"
   },
   {
    "duration": 18,
    "start_time": "2022-08-13T07:32:22.235Z"
   },
   {
    "duration": 8,
    "start_time": "2022-08-13T07:32:22.255Z"
   },
   {
    "duration": 7,
    "start_time": "2022-08-13T07:32:22.265Z"
   },
   {
    "duration": 15,
    "start_time": "2022-08-13T07:32:22.274Z"
   },
   {
    "duration": 21,
    "start_time": "2022-08-13T07:32:22.290Z"
   },
   {
    "duration": 10906,
    "start_time": "2022-08-13T07:32:22.312Z"
   },
   {
    "duration": 10569,
    "start_time": "2022-08-13T07:32:33.219Z"
   },
   {
    "duration": 113,
    "start_time": "2022-08-13T07:32:43.790Z"
   },
   {
    "duration": 0,
    "start_time": "2022-08-13T07:32:43.905Z"
   },
   {
    "duration": 0,
    "start_time": "2022-08-13T07:32:43.906Z"
   },
   {
    "duration": 0,
    "start_time": "2022-08-13T07:32:43.906Z"
   },
   {
    "duration": 0,
    "start_time": "2022-08-13T07:32:43.910Z"
   },
   {
    "duration": 0,
    "start_time": "2022-08-13T07:32:43.911Z"
   },
   {
    "duration": 0,
    "start_time": "2022-08-13T07:32:43.912Z"
   },
   {
    "duration": 0,
    "start_time": "2022-08-13T07:32:43.913Z"
   },
   {
    "duration": 0,
    "start_time": "2022-08-13T07:32:43.914Z"
   },
   {
    "duration": 0,
    "start_time": "2022-08-13T07:32:43.915Z"
   },
   {
    "duration": 0,
    "start_time": "2022-08-13T07:32:43.916Z"
   },
   {
    "duration": 0,
    "start_time": "2022-08-13T07:32:43.917Z"
   },
   {
    "duration": 0,
    "start_time": "2022-08-13T07:32:43.918Z"
   },
   {
    "duration": 0,
    "start_time": "2022-08-13T07:32:43.919Z"
   },
   {
    "duration": 5,
    "start_time": "2022-08-13T07:35:29.357Z"
   },
   {
    "duration": 5,
    "start_time": "2022-08-13T07:37:56.429Z"
   },
   {
    "duration": 7,
    "start_time": "2022-08-13T07:38:12.825Z"
   },
   {
    "duration": 10574,
    "start_time": "2022-08-13T07:40:33.121Z"
   },
   {
    "duration": 3,
    "start_time": "2022-08-13T07:40:48.019Z"
   },
   {
    "duration": 3,
    "start_time": "2022-08-13T07:40:56.701Z"
   },
   {
    "duration": 287,
    "start_time": "2022-08-13T07:40:56.735Z"
   },
   {
    "duration": 16,
    "start_time": "2022-08-13T07:40:57.024Z"
   },
   {
    "duration": 5,
    "start_time": "2022-08-13T07:40:57.042Z"
   },
   {
    "duration": 91,
    "start_time": "2022-08-13T07:40:57.049Z"
   },
   {
    "duration": 11,
    "start_time": "2022-08-13T07:40:57.142Z"
   },
   {
    "duration": 4,
    "start_time": "2022-08-13T07:40:57.155Z"
   },
   {
    "duration": 335,
    "start_time": "2022-08-13T07:40:57.161Z"
   },
   {
    "duration": 25,
    "start_time": "2022-08-13T07:40:57.498Z"
   },
   {
    "duration": 7,
    "start_time": "2022-08-13T07:40:57.525Z"
   },
   {
    "duration": 8,
    "start_time": "2022-08-13T07:40:57.533Z"
   },
   {
    "duration": 4,
    "start_time": "2022-08-13T07:40:57.543Z"
   },
   {
    "duration": 6,
    "start_time": "2022-08-13T07:40:57.549Z"
   },
   {
    "duration": 8,
    "start_time": "2022-08-13T07:40:57.556Z"
   },
   {
    "duration": 8,
    "start_time": "2022-08-13T07:40:57.566Z"
   },
   {
    "duration": 5,
    "start_time": "2022-08-13T07:40:57.575Z"
   },
   {
    "duration": 30,
    "start_time": "2022-08-13T07:40:57.581Z"
   },
   {
    "duration": 4,
    "start_time": "2022-08-13T07:40:57.612Z"
   },
   {
    "duration": 5,
    "start_time": "2022-08-13T07:40:57.617Z"
   },
   {
    "duration": 8,
    "start_time": "2022-08-13T07:40:57.623Z"
   },
   {
    "duration": 8,
    "start_time": "2022-08-13T07:40:57.632Z"
   },
   {
    "duration": 4,
    "start_time": "2022-08-13T07:40:57.641Z"
   },
   {
    "duration": 4,
    "start_time": "2022-08-13T07:40:57.647Z"
   },
   {
    "duration": 6,
    "start_time": "2022-08-13T07:40:57.652Z"
   },
   {
    "duration": 5,
    "start_time": "2022-08-13T07:40:57.659Z"
   },
   {
    "duration": 4,
    "start_time": "2022-08-13T07:40:57.666Z"
   },
   {
    "duration": 497,
    "start_time": "2022-08-13T07:40:57.672Z"
   },
   {
    "duration": 4,
    "start_time": "2022-08-13T07:40:58.170Z"
   },
   {
    "duration": 256,
    "start_time": "2022-08-13T07:40:58.176Z"
   },
   {
    "duration": 4,
    "start_time": "2022-08-13T07:40:58.433Z"
   },
   {
    "duration": 258,
    "start_time": "2022-08-13T07:40:58.439Z"
   },
   {
    "duration": 4,
    "start_time": "2022-08-13T07:40:58.699Z"
   },
   {
    "duration": 260,
    "start_time": "2022-08-13T07:40:58.704Z"
   },
   {
    "duration": 4,
    "start_time": "2022-08-13T07:40:58.966Z"
   },
   {
    "duration": 268,
    "start_time": "2022-08-13T07:40:58.971Z"
   },
   {
    "duration": 3,
    "start_time": "2022-08-13T07:40:59.241Z"
   },
   {
    "duration": 5,
    "start_time": "2022-08-13T07:40:59.246Z"
   },
   {
    "duration": 15,
    "start_time": "2022-08-13T07:40:59.252Z"
   },
   {
    "duration": 4,
    "start_time": "2022-08-13T07:40:59.268Z"
   },
   {
    "duration": 12,
    "start_time": "2022-08-13T07:40:59.273Z"
   },
   {
    "duration": 25,
    "start_time": "2022-08-13T07:40:59.286Z"
   },
   {
    "duration": 9,
    "start_time": "2022-08-13T07:40:59.315Z"
   },
   {
    "duration": 3,
    "start_time": "2022-08-13T07:40:59.325Z"
   },
   {
    "duration": 10,
    "start_time": "2022-08-13T07:40:59.330Z"
   },
   {
    "duration": 5,
    "start_time": "2022-08-13T07:40:59.341Z"
   },
   {
    "duration": 9,
    "start_time": "2022-08-13T07:40:59.347Z"
   },
   {
    "duration": 7,
    "start_time": "2022-08-13T07:40:59.357Z"
   },
   {
    "duration": 18,
    "start_time": "2022-08-13T07:40:59.366Z"
   },
   {
    "duration": 29,
    "start_time": "2022-08-13T07:40:59.385Z"
   },
   {
    "duration": 9,
    "start_time": "2022-08-13T07:40:59.416Z"
   },
   {
    "duration": 10,
    "start_time": "2022-08-13T07:40:59.426Z"
   },
   {
    "duration": 21,
    "start_time": "2022-08-13T07:40:59.437Z"
   },
   {
    "duration": 10820,
    "start_time": "2022-08-13T07:40:59.460Z"
   },
   {
    "duration": 10577,
    "start_time": "2022-08-13T07:41:10.281Z"
   },
   {
    "duration": 2,
    "start_time": "2022-08-13T07:41:20.860Z"
   },
   {
    "duration": 3390,
    "start_time": "2022-08-13T07:41:20.864Z"
   },
   {
    "duration": 3270,
    "start_time": "2022-08-13T07:41:24.256Z"
   },
   {
    "duration": 929,
    "start_time": "2022-08-13T07:41:27.528Z"
   },
   {
    "duration": 915,
    "start_time": "2022-08-13T07:41:28.459Z"
   },
   {
    "duration": 3,
    "start_time": "2022-08-13T07:41:29.376Z"
   },
   {
    "duration": 3685,
    "start_time": "2022-08-13T07:41:29.381Z"
   },
   {
    "duration": 3561,
    "start_time": "2022-08-13T07:41:33.067Z"
   },
   {
    "duration": 182,
    "start_time": "2022-08-13T07:41:36.630Z"
   },
   {
    "duration": 203,
    "start_time": "2022-08-13T07:41:36.813Z"
   },
   {
    "duration": 94,
    "start_time": "2022-08-13T07:41:37.017Z"
   },
   {
    "duration": 1203,
    "start_time": "2022-08-13T07:41:37.113Z"
   },
   {
    "duration": 1297,
    "start_time": "2022-08-13T07:41:38.317Z"
   },
   {
    "duration": 95,
    "start_time": "2022-08-13T07:41:39.616Z"
   },
   {
    "duration": 117,
    "start_time": "2022-08-13T07:41:39.714Z"
   },
   {
    "duration": 1648,
    "start_time": "2022-08-13T07:47:27.130Z"
   },
   {
    "duration": 1676,
    "start_time": "2022-08-13T07:48:53.603Z"
   },
   {
    "duration": 1701,
    "start_time": "2022-08-13T07:48:58.751Z"
   },
   {
    "duration": 1692,
    "start_time": "2022-08-13T07:49:36.117Z"
   },
   {
    "duration": 6,
    "start_time": "2022-08-13T07:55:19.985Z"
   },
   {
    "duration": 3,
    "start_time": "2022-08-13T07:55:30.974Z"
   },
   {
    "duration": 274,
    "start_time": "2022-08-13T07:55:30.995Z"
   },
   {
    "duration": 16,
    "start_time": "2022-08-13T07:55:31.271Z"
   },
   {
    "duration": 23,
    "start_time": "2022-08-13T07:55:31.289Z"
   },
   {
    "duration": 98,
    "start_time": "2022-08-13T07:55:31.313Z"
   },
   {
    "duration": 13,
    "start_time": "2022-08-13T07:55:31.414Z"
   },
   {
    "duration": 5,
    "start_time": "2022-08-13T07:55:31.428Z"
   },
   {
    "duration": 330,
    "start_time": "2022-08-13T07:55:31.434Z"
   },
   {
    "duration": 18,
    "start_time": "2022-08-13T07:55:31.765Z"
   },
   {
    "duration": 7,
    "start_time": "2022-08-13T07:55:31.785Z"
   },
   {
    "duration": 21,
    "start_time": "2022-08-13T07:55:31.793Z"
   },
   {
    "duration": 6,
    "start_time": "2022-08-13T07:55:31.815Z"
   },
   {
    "duration": 6,
    "start_time": "2022-08-13T07:55:31.823Z"
   },
   {
    "duration": 5,
    "start_time": "2022-08-13T07:55:31.830Z"
   },
   {
    "duration": 4,
    "start_time": "2022-08-13T07:55:31.838Z"
   },
   {
    "duration": 5,
    "start_time": "2022-08-13T07:55:31.844Z"
   },
   {
    "duration": 5,
    "start_time": "2022-08-13T07:55:31.850Z"
   },
   {
    "duration": 8,
    "start_time": "2022-08-13T07:55:31.856Z"
   },
   {
    "duration": 4,
    "start_time": "2022-08-13T07:55:31.866Z"
   },
   {
    "duration": 6,
    "start_time": "2022-08-13T07:55:31.871Z"
   },
   {
    "duration": 36,
    "start_time": "2022-08-13T07:55:31.878Z"
   },
   {
    "duration": 9,
    "start_time": "2022-08-13T07:55:31.916Z"
   },
   {
    "duration": 9,
    "start_time": "2022-08-13T07:55:31.926Z"
   },
   {
    "duration": 7,
    "start_time": "2022-08-13T07:55:31.936Z"
   },
   {
    "duration": 6,
    "start_time": "2022-08-13T07:55:31.944Z"
   },
   {
    "duration": 6,
    "start_time": "2022-08-13T07:55:31.952Z"
   },
   {
    "duration": 513,
    "start_time": "2022-08-13T07:55:31.960Z"
   },
   {
    "duration": 4,
    "start_time": "2022-08-13T07:55:32.475Z"
   },
   {
    "duration": 346,
    "start_time": "2022-08-13T07:55:32.481Z"
   },
   {
    "duration": 6,
    "start_time": "2022-08-13T07:55:32.829Z"
   },
   {
    "duration": 279,
    "start_time": "2022-08-13T07:55:32.836Z"
   },
   {
    "duration": 4,
    "start_time": "2022-08-13T07:55:33.117Z"
   },
   {
    "duration": 259,
    "start_time": "2022-08-13T07:55:33.122Z"
   },
   {
    "duration": 5,
    "start_time": "2022-08-13T07:55:33.383Z"
   },
   {
    "duration": 266,
    "start_time": "2022-08-13T07:55:33.390Z"
   },
   {
    "duration": 3,
    "start_time": "2022-08-13T07:55:33.658Z"
   },
   {
    "duration": 7,
    "start_time": "2022-08-13T07:55:33.662Z"
   },
   {
    "duration": 15,
    "start_time": "2022-08-13T07:55:33.671Z"
   },
   {
    "duration": 3,
    "start_time": "2022-08-13T07:55:33.688Z"
   },
   {
    "duration": 27,
    "start_time": "2022-08-13T07:55:33.693Z"
   },
   {
    "duration": 5,
    "start_time": "2022-08-13T07:55:33.722Z"
   },
   {
    "duration": 9,
    "start_time": "2022-08-13T07:55:33.731Z"
   },
   {
    "duration": 6,
    "start_time": "2022-08-13T07:55:33.741Z"
   },
   {
    "duration": 13,
    "start_time": "2022-08-13T07:55:33.748Z"
   },
   {
    "duration": 4,
    "start_time": "2022-08-13T07:55:33.763Z"
   },
   {
    "duration": 5,
    "start_time": "2022-08-13T07:55:33.769Z"
   },
   {
    "duration": 6,
    "start_time": "2022-08-13T07:55:33.775Z"
   },
   {
    "duration": 36,
    "start_time": "2022-08-13T07:55:33.782Z"
   },
   {
    "duration": 6,
    "start_time": "2022-08-13T07:55:33.820Z"
   },
   {
    "duration": 9,
    "start_time": "2022-08-13T07:55:33.827Z"
   },
   {
    "duration": 5,
    "start_time": "2022-08-13T07:55:33.838Z"
   },
   {
    "duration": 8,
    "start_time": "2022-08-13T07:55:33.844Z"
   },
   {
    "duration": 10631,
    "start_time": "2022-08-13T07:55:33.853Z"
   },
   {
    "duration": 10534,
    "start_time": "2022-08-13T07:55:44.486Z"
   },
   {
    "duration": 3,
    "start_time": "2022-08-13T07:55:55.022Z"
   },
   {
    "duration": 3339,
    "start_time": "2022-08-13T07:55:55.026Z"
   },
   {
    "duration": 3331,
    "start_time": "2022-08-13T07:55:58.366Z"
   },
   {
    "duration": 1198,
    "start_time": "2022-08-13T07:56:01.698Z"
   },
   {
    "duration": 918,
    "start_time": "2022-08-13T07:56:02.897Z"
   },
   {
    "duration": 2,
    "start_time": "2022-08-13T07:56:03.817Z"
   },
   {
    "duration": 3648,
    "start_time": "2022-08-13T07:56:03.821Z"
   },
   {
    "duration": 3545,
    "start_time": "2022-08-13T07:56:07.470Z"
   },
   {
    "duration": 100,
    "start_time": "2022-08-13T07:56:11.016Z"
   },
   {
    "duration": 202,
    "start_time": "2022-08-13T07:56:11.210Z"
   },
   {
    "duration": 3,
    "start_time": "2022-08-13T07:56:11.414Z"
   },
   {
    "duration": 1001,
    "start_time": "2022-08-13T07:56:11.419Z"
   },
   {
    "duration": 1502,
    "start_time": "2022-08-13T07:56:12.511Z"
   },
   {
    "duration": 1825,
    "start_time": "2022-08-13T07:56:14.015Z"
   },
   {
    "duration": 1642,
    "start_time": "2022-08-13T07:56:15.841Z"
   },
   {
    "duration": 5,
    "start_time": "2022-08-13T07:56:17.485Z"
   },
   {
    "duration": 38,
    "start_time": "2022-08-13T07:56:17.491Z"
   },
   {
    "duration": 33,
    "start_time": "2022-08-13T07:56:17.531Z"
   },
   {
    "duration": 7,
    "start_time": "2022-08-13T07:57:54.800Z"
   },
   {
    "duration": 54,
    "start_time": "2022-08-13T07:59:16.010Z"
   },
   {
    "duration": 4,
    "start_time": "2022-08-13T08:00:20.185Z"
   },
   {
    "duration": 273,
    "start_time": "2022-08-13T08:00:20.210Z"
   },
   {
    "duration": 34,
    "start_time": "2022-08-13T08:00:20.484Z"
   },
   {
    "duration": 6,
    "start_time": "2022-08-13T08:00:20.520Z"
   },
   {
    "duration": 85,
    "start_time": "2022-08-13T08:00:20.527Z"
   },
   {
    "duration": 13,
    "start_time": "2022-08-13T08:00:20.614Z"
   },
   {
    "duration": 4,
    "start_time": "2022-08-13T08:00:20.628Z"
   },
   {
    "duration": 329,
    "start_time": "2022-08-13T08:00:20.634Z"
   },
   {
    "duration": 16,
    "start_time": "2022-08-13T08:00:20.965Z"
   },
   {
    "duration": 7,
    "start_time": "2022-08-13T08:00:20.982Z"
   },
   {
    "duration": 8,
    "start_time": "2022-08-13T08:00:20.990Z"
   },
   {
    "duration": 18,
    "start_time": "2022-08-13T08:00:20.999Z"
   },
   {
    "duration": 6,
    "start_time": "2022-08-13T08:00:21.019Z"
   },
   {
    "duration": 11,
    "start_time": "2022-08-13T08:00:21.026Z"
   },
   {
    "duration": 5,
    "start_time": "2022-08-13T08:00:21.041Z"
   },
   {
    "duration": 9,
    "start_time": "2022-08-13T08:00:21.047Z"
   },
   {
    "duration": 6,
    "start_time": "2022-08-13T08:00:21.058Z"
   },
   {
    "duration": 18,
    "start_time": "2022-08-13T08:00:21.066Z"
   },
   {
    "duration": 12,
    "start_time": "2022-08-13T08:00:21.085Z"
   },
   {
    "duration": 12,
    "start_time": "2022-08-13T08:00:21.099Z"
   },
   {
    "duration": 9,
    "start_time": "2022-08-13T08:00:21.113Z"
   },
   {
    "duration": 6,
    "start_time": "2022-08-13T08:00:21.123Z"
   },
   {
    "duration": 15,
    "start_time": "2022-08-13T08:00:21.130Z"
   },
   {
    "duration": 8,
    "start_time": "2022-08-13T08:00:21.146Z"
   },
   {
    "duration": 13,
    "start_time": "2022-08-13T08:00:21.156Z"
   },
   {
    "duration": 8,
    "start_time": "2022-08-13T08:00:21.170Z"
   },
   {
    "duration": 492,
    "start_time": "2022-08-13T08:00:21.179Z"
   },
   {
    "duration": 5,
    "start_time": "2022-08-13T08:00:21.672Z"
   },
   {
    "duration": 274,
    "start_time": "2022-08-13T08:00:21.678Z"
   },
   {
    "duration": 5,
    "start_time": "2022-08-13T08:00:21.954Z"
   },
   {
    "duration": 278,
    "start_time": "2022-08-13T08:00:21.960Z"
   },
   {
    "duration": 5,
    "start_time": "2022-08-13T08:00:22.241Z"
   },
   {
    "duration": 285,
    "start_time": "2022-08-13T08:00:22.247Z"
   },
   {
    "duration": 5,
    "start_time": "2022-08-13T08:00:22.534Z"
   },
   {
    "duration": 326,
    "start_time": "2022-08-13T08:00:22.542Z"
   },
   {
    "duration": 3,
    "start_time": "2022-08-13T08:00:22.870Z"
   },
   {
    "duration": 17,
    "start_time": "2022-08-13T08:00:22.874Z"
   },
   {
    "duration": 18,
    "start_time": "2022-08-13T08:00:22.893Z"
   },
   {
    "duration": 4,
    "start_time": "2022-08-13T08:00:22.912Z"
   },
   {
    "duration": 11,
    "start_time": "2022-08-13T08:00:22.917Z"
   },
   {
    "duration": 6,
    "start_time": "2022-08-13T08:00:22.929Z"
   },
   {
    "duration": 7,
    "start_time": "2022-08-13T08:00:22.939Z"
   },
   {
    "duration": 4,
    "start_time": "2022-08-13T08:00:22.948Z"
   },
   {
    "duration": 8,
    "start_time": "2022-08-13T08:00:22.954Z"
   },
   {
    "duration": 5,
    "start_time": "2022-08-13T08:00:22.964Z"
   },
   {
    "duration": 7,
    "start_time": "2022-08-13T08:00:22.970Z"
   },
   {
    "duration": 4,
    "start_time": "2022-08-13T08:00:23.011Z"
   },
   {
    "duration": 15,
    "start_time": "2022-08-13T08:00:23.017Z"
   },
   {
    "duration": 112,
    "start_time": "2022-08-13T08:00:23.033Z"
   },
   {
    "duration": 13,
    "start_time": "2022-08-13T08:00:23.147Z"
   },
   {
    "duration": 6,
    "start_time": "2022-08-13T08:00:23.161Z"
   },
   {
    "duration": 6,
    "start_time": "2022-08-13T08:00:23.169Z"
   },
   {
    "duration": 10896,
    "start_time": "2022-08-13T08:00:23.176Z"
   },
   {
    "duration": 10574,
    "start_time": "2022-08-13T08:00:34.074Z"
   },
   {
    "duration": 3,
    "start_time": "2022-08-13T08:00:44.649Z"
   },
   {
    "duration": 3332,
    "start_time": "2022-08-13T08:00:44.653Z"
   },
   {
    "duration": 3251,
    "start_time": "2022-08-13T08:00:47.986Z"
   },
   {
    "duration": 943,
    "start_time": "2022-08-13T08:00:51.238Z"
   },
   {
    "duration": 956,
    "start_time": "2022-08-13T08:00:52.182Z"
   },
   {
    "duration": 3,
    "start_time": "2022-08-13T08:00:53.139Z"
   },
   {
    "duration": 3602,
    "start_time": "2022-08-13T08:00:53.143Z"
   },
   {
    "duration": 3580,
    "start_time": "2022-08-13T08:00:56.746Z"
   },
   {
    "duration": 184,
    "start_time": "2022-08-13T08:01:00.328Z"
   },
   {
    "duration": 300,
    "start_time": "2022-08-13T08:01:00.514Z"
   },
   {
    "duration": 4,
    "start_time": "2022-08-13T08:01:00.817Z"
   },
   {
    "duration": 1095,
    "start_time": "2022-08-13T08:01:00.822Z"
   },
   {
    "duration": 1294,
    "start_time": "2022-08-13T08:01:01.919Z"
   },
   {
    "duration": 1699,
    "start_time": "2022-08-13T08:01:03.214Z"
   },
   {
    "duration": 1675,
    "start_time": "2022-08-13T08:01:04.915Z"
   },
   {
    "duration": 6,
    "start_time": "2022-08-13T08:01:06.591Z"
   },
   {
    "duration": 16,
    "start_time": "2022-08-13T08:01:06.598Z"
   },
   {
    "duration": 46,
    "start_time": "2022-08-13T14:53:49.970Z"
   },
   {
    "duration": 7,
    "start_time": "2022-08-13T14:54:26.099Z"
   },
   {
    "duration": 1186,
    "start_time": "2022-08-13T14:54:34.415Z"
   },
   {
    "duration": 968,
    "start_time": "2022-08-13T14:54:35.603Z"
   },
   {
    "duration": 18,
    "start_time": "2022-08-13T14:54:36.573Z"
   },
   {
    "duration": 8,
    "start_time": "2022-08-13T14:54:36.593Z"
   },
   {
    "duration": 421,
    "start_time": "2022-08-13T14:54:36.603Z"
   },
   {
    "duration": 12,
    "start_time": "2022-08-13T14:54:37.026Z"
   },
   {
    "duration": 4,
    "start_time": "2022-08-13T14:54:37.040Z"
   },
   {
    "duration": 1987,
    "start_time": "2022-08-13T14:54:37.045Z"
   },
   {
    "duration": 16,
    "start_time": "2022-08-13T14:54:39.034Z"
   },
   {
    "duration": 6,
    "start_time": "2022-08-13T14:54:39.052Z"
   },
   {
    "duration": 8,
    "start_time": "2022-08-13T14:54:39.060Z"
   },
   {
    "duration": 5,
    "start_time": "2022-08-13T14:54:39.070Z"
   },
   {
    "duration": 7,
    "start_time": "2022-08-13T14:54:39.076Z"
   },
   {
    "duration": 4,
    "start_time": "2022-08-13T14:54:39.087Z"
   },
   {
    "duration": 5,
    "start_time": "2022-08-13T14:54:39.092Z"
   },
   {
    "duration": 4,
    "start_time": "2022-08-13T14:54:39.099Z"
   },
   {
    "duration": 7,
    "start_time": "2022-08-13T14:54:39.105Z"
   },
   {
    "duration": 5,
    "start_time": "2022-08-13T14:54:39.114Z"
   },
   {
    "duration": 7,
    "start_time": "2022-08-13T14:54:39.121Z"
   },
   {
    "duration": 13,
    "start_time": "2022-08-13T14:54:39.130Z"
   },
   {
    "duration": 5,
    "start_time": "2022-08-13T14:54:39.144Z"
   },
   {
    "duration": 6,
    "start_time": "2022-08-13T14:54:39.150Z"
   },
   {
    "duration": 32,
    "start_time": "2022-08-13T14:54:39.157Z"
   },
   {
    "duration": 6,
    "start_time": "2022-08-13T14:54:39.191Z"
   },
   {
    "duration": 5,
    "start_time": "2022-08-13T14:54:39.199Z"
   },
   {
    "duration": 6,
    "start_time": "2022-08-13T14:54:39.206Z"
   },
   {
    "duration": 891,
    "start_time": "2022-08-13T14:54:39.213Z"
   },
   {
    "duration": 5,
    "start_time": "2022-08-13T14:54:40.108Z"
   },
   {
    "duration": 420,
    "start_time": "2022-08-13T14:54:40.114Z"
   },
   {
    "duration": 4,
    "start_time": "2022-08-13T14:54:40.535Z"
   },
   {
    "duration": 312,
    "start_time": "2022-08-13T14:54:40.541Z"
   },
   {
    "duration": 4,
    "start_time": "2022-08-13T14:54:40.855Z"
   },
   {
    "duration": 330,
    "start_time": "2022-08-13T14:54:40.860Z"
   },
   {
    "duration": 6,
    "start_time": "2022-08-13T14:54:41.191Z"
   },
   {
    "duration": 291,
    "start_time": "2022-08-13T14:54:41.199Z"
   },
   {
    "duration": 3,
    "start_time": "2022-08-13T14:54:41.492Z"
   },
   {
    "duration": 8,
    "start_time": "2022-08-13T14:54:41.497Z"
   },
   {
    "duration": 22,
    "start_time": "2022-08-13T14:54:41.506Z"
   },
   {
    "duration": 4,
    "start_time": "2022-08-13T14:54:41.529Z"
   },
   {
    "duration": 13,
    "start_time": "2022-08-13T14:54:41.534Z"
   },
   {
    "duration": 8,
    "start_time": "2022-08-13T14:54:41.548Z"
   },
   {
    "duration": 36,
    "start_time": "2022-08-13T14:54:41.557Z"
   },
   {
    "duration": 4,
    "start_time": "2022-08-13T14:54:41.594Z"
   },
   {
    "duration": 11,
    "start_time": "2022-08-13T14:54:41.599Z"
   },
   {
    "duration": 6,
    "start_time": "2022-08-13T14:54:41.611Z"
   },
   {
    "duration": 7,
    "start_time": "2022-08-13T14:54:41.618Z"
   },
   {
    "duration": 6,
    "start_time": "2022-08-13T14:54:41.626Z"
   },
   {
    "duration": 54,
    "start_time": "2022-08-13T14:54:41.634Z"
   },
   {
    "duration": 10,
    "start_time": "2022-08-13T14:54:41.690Z"
   },
   {
    "duration": 16,
    "start_time": "2022-08-13T14:54:41.701Z"
   },
   {
    "duration": 16,
    "start_time": "2022-08-13T14:54:41.719Z"
   },
   {
    "duration": 8,
    "start_time": "2022-08-13T14:54:41.736Z"
   },
   {
    "duration": 9680,
    "start_time": "2022-08-13T14:54:41.745Z"
   },
   {
    "duration": 9885,
    "start_time": "2022-08-13T14:54:51.426Z"
   },
   {
    "duration": 3,
    "start_time": "2022-08-13T14:55:01.312Z"
   },
   {
    "duration": 3210,
    "start_time": "2022-08-13T14:55:01.316Z"
   },
   {
    "duration": 3145,
    "start_time": "2022-08-13T14:55:04.527Z"
   },
   {
    "duration": 851,
    "start_time": "2022-08-13T14:55:07.674Z"
   },
   {
    "duration": 827,
    "start_time": "2022-08-13T14:55:08.527Z"
   },
   {
    "duration": 4,
    "start_time": "2022-08-13T14:55:09.356Z"
   },
   {
    "duration": 3403,
    "start_time": "2022-08-13T14:55:09.362Z"
   },
   {
    "duration": 3350,
    "start_time": "2022-08-13T14:55:12.766Z"
   },
   {
    "duration": 278,
    "start_time": "2022-08-13T14:55:16.117Z"
   },
   {
    "duration": 295,
    "start_time": "2022-08-13T14:55:16.397Z"
   },
   {
    "duration": 96,
    "start_time": "2022-08-13T14:55:16.695Z"
   },
   {
    "duration": 1705,
    "start_time": "2022-08-13T14:55:16.793Z"
   },
   {
    "duration": 1801,
    "start_time": "2022-08-13T14:55:18.501Z"
   },
   {
    "duration": 1695,
    "start_time": "2022-08-13T14:55:20.304Z"
   },
   {
    "duration": 1534,
    "start_time": "2022-08-13T14:55:22.001Z"
   },
   {
    "duration": 7,
    "start_time": "2022-08-13T14:55:23.538Z"
   },
   {
    "duration": 12,
    "start_time": "2022-08-13T14:55:23.547Z"
   },
   {
    "duration": 1873,
    "start_time": "2022-08-13T14:56:26.418Z"
   },
   {
    "duration": 3232,
    "start_time": "2022-08-13T15:05:23.668Z"
   },
   {
    "duration": 3171,
    "start_time": "2022-08-13T15:05:30.564Z"
   },
   {
    "duration": 3152,
    "start_time": "2022-08-13T15:05:36.283Z"
   },
   {
    "duration": 1313,
    "start_time": "2022-08-13T15:14:42.679Z"
   },
   {
    "duration": 1236,
    "start_time": "2022-08-13T15:14:55.263Z"
   },
   {
    "duration": 3369,
    "start_time": "2022-08-13T15:15:18.862Z"
   },
   {
    "duration": 3375,
    "start_time": "2022-08-13T15:15:37.370Z"
   },
   {
    "duration": 1096,
    "start_time": "2022-08-13T15:18:11.569Z"
   },
   {
    "duration": 1068,
    "start_time": "2022-08-13T15:18:28.973Z"
   },
   {
    "duration": 1120,
    "start_time": "2022-08-13T15:20:10.717Z"
   },
   {
    "duration": 1133,
    "start_time": "2022-08-13T15:20:33.799Z"
   },
   {
    "duration": 1033,
    "start_time": "2022-08-13T15:20:41.797Z"
   },
   {
    "duration": 3372,
    "start_time": "2022-08-13T15:21:10.324Z"
   },
   {
    "duration": 3423,
    "start_time": "2022-08-13T15:21:24.170Z"
   },
   {
    "duration": 3598,
    "start_time": "2022-08-13T15:22:57.360Z"
   },
   {
    "duration": 9573,
    "start_time": "2022-08-13T15:35:02.223Z"
   },
   {
    "duration": 830,
    "start_time": "2022-08-13T15:35:33.074Z"
   },
   {
    "duration": 3436,
    "start_time": "2022-08-13T15:37:42.582Z"
   },
   {
    "duration": 3555,
    "start_time": "2022-08-13T15:38:07.269Z"
   },
   {
    "duration": 11595,
    "start_time": "2022-08-13T15:38:25.208Z"
   },
   {
    "duration": 37114,
    "start_time": "2022-08-13T15:39:25.599Z"
   },
   {
    "duration": 38232,
    "start_time": "2022-08-13T15:45:36.581Z"
   },
   {
    "duration": 11418,
    "start_time": "2022-08-13T15:46:32.813Z"
   },
   {
    "duration": 11899,
    "start_time": "2022-08-13T15:48:13.461Z"
   },
   {
    "duration": 11521,
    "start_time": "2022-08-13T15:49:21.908Z"
   },
   {
    "duration": 3,
    "start_time": "2022-08-13T15:49:48.733Z"
   },
   {
    "duration": 322,
    "start_time": "2022-08-13T15:49:48.754Z"
   },
   {
    "duration": 24,
    "start_time": "2022-08-13T15:49:49.078Z"
   },
   {
    "duration": 7,
    "start_time": "2022-08-13T15:49:49.104Z"
   },
   {
    "duration": 101,
    "start_time": "2022-08-13T15:49:49.113Z"
   },
   {
    "duration": 11,
    "start_time": "2022-08-13T15:49:49.217Z"
   },
   {
    "duration": 4,
    "start_time": "2022-08-13T15:49:49.230Z"
   },
   {
    "duration": 372,
    "start_time": "2022-08-13T15:49:49.235Z"
   },
   {
    "duration": 16,
    "start_time": "2022-08-13T15:49:49.610Z"
   },
   {
    "duration": 12,
    "start_time": "2022-08-13T15:49:49.628Z"
   },
   {
    "duration": 9,
    "start_time": "2022-08-13T15:49:49.642Z"
   },
   {
    "duration": 9,
    "start_time": "2022-08-13T15:49:49.652Z"
   },
   {
    "duration": 45,
    "start_time": "2022-08-13T15:49:49.663Z"
   },
   {
    "duration": 9,
    "start_time": "2022-08-13T15:49:49.711Z"
   },
   {
    "duration": 6,
    "start_time": "2022-08-13T15:49:49.723Z"
   },
   {
    "duration": 6,
    "start_time": "2022-08-13T15:49:49.731Z"
   },
   {
    "duration": 5,
    "start_time": "2022-08-13T15:49:49.739Z"
   },
   {
    "duration": 6,
    "start_time": "2022-08-13T15:49:49.746Z"
   },
   {
    "duration": 7,
    "start_time": "2022-08-13T15:49:49.753Z"
   },
   {
    "duration": 7,
    "start_time": "2022-08-13T15:49:49.761Z"
   },
   {
    "duration": 5,
    "start_time": "2022-08-13T15:49:49.770Z"
   },
   {
    "duration": 13,
    "start_time": "2022-08-13T15:49:49.776Z"
   },
   {
    "duration": 29,
    "start_time": "2022-08-13T15:49:49.791Z"
   },
   {
    "duration": 12,
    "start_time": "2022-08-13T15:49:49.822Z"
   },
   {
    "duration": 4,
    "start_time": "2022-08-13T15:49:49.836Z"
   },
   {
    "duration": 8,
    "start_time": "2022-08-13T15:49:49.842Z"
   },
   {
    "duration": 628,
    "start_time": "2022-08-13T15:49:49.851Z"
   },
   {
    "duration": 9,
    "start_time": "2022-08-13T15:49:50.480Z"
   },
   {
    "duration": 335,
    "start_time": "2022-08-13T15:49:50.492Z"
   },
   {
    "duration": 5,
    "start_time": "2022-08-13T15:49:50.828Z"
   },
   {
    "duration": 323,
    "start_time": "2022-08-13T15:49:50.835Z"
   },
   {
    "duration": 5,
    "start_time": "2022-08-13T15:49:51.160Z"
   },
   {
    "duration": 324,
    "start_time": "2022-08-13T15:49:51.166Z"
   },
   {
    "duration": 6,
    "start_time": "2022-08-13T15:49:51.492Z"
   },
   {
    "duration": 326,
    "start_time": "2022-08-13T15:49:51.500Z"
   },
   {
    "duration": 4,
    "start_time": "2022-08-13T15:49:51.827Z"
   },
   {
    "duration": 8,
    "start_time": "2022-08-13T15:49:51.832Z"
   },
   {
    "duration": 16,
    "start_time": "2022-08-13T15:49:51.842Z"
   },
   {
    "duration": 3,
    "start_time": "2022-08-13T15:49:51.860Z"
   },
   {
    "duration": 33,
    "start_time": "2022-08-13T15:49:51.865Z"
   },
   {
    "duration": 20,
    "start_time": "2022-08-13T15:49:51.901Z"
   },
   {
    "duration": 12,
    "start_time": "2022-08-13T15:49:51.924Z"
   },
   {
    "duration": 4,
    "start_time": "2022-08-13T15:49:51.937Z"
   },
   {
    "duration": 11,
    "start_time": "2022-08-13T15:49:51.942Z"
   },
   {
    "duration": 8,
    "start_time": "2022-08-13T15:49:51.954Z"
   },
   {
    "duration": 6,
    "start_time": "2022-08-13T15:49:51.964Z"
   },
   {
    "duration": 23,
    "start_time": "2022-08-13T15:49:51.971Z"
   },
   {
    "duration": 23,
    "start_time": "2022-08-13T15:49:51.997Z"
   },
   {
    "duration": 12,
    "start_time": "2022-08-13T15:49:52.022Z"
   },
   {
    "duration": 19,
    "start_time": "2022-08-13T15:49:52.036Z"
   },
   {
    "duration": 11,
    "start_time": "2022-08-13T15:49:52.057Z"
   },
   {
    "duration": 20,
    "start_time": "2022-08-13T15:49:52.070Z"
   },
   {
    "duration": 12311,
    "start_time": "2022-08-13T15:49:52.093Z"
   },
   {
    "duration": 12423,
    "start_time": "2022-08-13T15:50:04.407Z"
   },
   {
    "duration": 1103,
    "start_time": "2022-08-13T15:50:16.831Z"
   },
   {
    "duration": 3729,
    "start_time": "2022-08-13T15:50:17.936Z"
   },
   {
    "duration": 3501,
    "start_time": "2022-08-13T15:50:21.667Z"
   },
   {
    "duration": 3150,
    "start_time": "2022-08-13T15:50:25.169Z"
   },
   {
    "duration": 2572,
    "start_time": "2022-08-13T15:50:28.321Z"
   },
   {
    "duration": 1700,
    "start_time": "2022-08-13T15:50:30.904Z"
   },
   {
    "duration": 1641,
    "start_time": "2022-08-13T15:50:32.608Z"
   },
   {
    "duration": 6,
    "start_time": "2022-08-13T15:50:34.251Z"
   },
   {
    "duration": 7,
    "start_time": "2022-08-13T15:50:34.259Z"
   },
   {
    "duration": 1627,
    "start_time": "2022-08-13T15:56:19.843Z"
   },
   {
    "duration": 183,
    "start_time": "2022-08-13T15:56:30.668Z"
   },
   {
    "duration": 1677,
    "start_time": "2022-08-13T15:56:35.157Z"
   },
   {
    "duration": 72,
    "start_time": "2022-08-13T18:08:19.235Z"
   },
   {
    "duration": 20,
    "start_time": "2022-08-13T18:13:16.947Z"
   },
   {
    "duration": 5,
    "start_time": "2022-08-13T18:13:32.005Z"
   },
   {
    "duration": 887,
    "start_time": "2022-08-13T18:24:09.088Z"
   },
   {
    "duration": 846,
    "start_time": "2022-08-13T18:25:11.486Z"
   },
   {
    "duration": 804,
    "start_time": "2022-08-13T18:26:33.899Z"
   },
   {
    "duration": 833,
    "start_time": "2022-08-13T18:26:54.768Z"
   },
   {
    "duration": 817,
    "start_time": "2022-08-13T18:27:12.499Z"
   },
   {
    "duration": 865,
    "start_time": "2022-08-13T18:28:05.899Z"
   },
   {
    "duration": 5,
    "start_time": "2022-08-13T18:29:53.486Z"
   },
   {
    "duration": 4,
    "start_time": "2022-08-13T18:30:43.521Z"
   },
   {
    "duration": 295,
    "start_time": "2022-08-13T18:30:43.530Z"
   },
   {
    "duration": 14,
    "start_time": "2022-08-13T18:30:43.827Z"
   },
   {
    "duration": 6,
    "start_time": "2022-08-13T18:30:43.843Z"
   },
   {
    "duration": 111,
    "start_time": "2022-08-13T18:30:43.850Z"
   },
   {
    "duration": 11,
    "start_time": "2022-08-13T18:30:43.963Z"
   },
   {
    "duration": 17,
    "start_time": "2022-08-13T18:30:43.987Z"
   },
   {
    "duration": 355,
    "start_time": "2022-08-13T18:30:44.006Z"
   },
   {
    "duration": 30,
    "start_time": "2022-08-13T18:30:44.363Z"
   },
   {
    "duration": 7,
    "start_time": "2022-08-13T18:30:44.399Z"
   },
   {
    "duration": 7,
    "start_time": "2022-08-13T18:30:44.408Z"
   },
   {
    "duration": 5,
    "start_time": "2022-08-13T18:30:44.417Z"
   },
   {
    "duration": 5,
    "start_time": "2022-08-13T18:30:44.424Z"
   },
   {
    "duration": 6,
    "start_time": "2022-08-13T18:30:44.430Z"
   },
   {
    "duration": 5,
    "start_time": "2022-08-13T18:30:44.439Z"
   },
   {
    "duration": 9,
    "start_time": "2022-08-13T18:30:44.446Z"
   },
   {
    "duration": 7,
    "start_time": "2022-08-13T18:30:44.456Z"
   },
   {
    "duration": 37,
    "start_time": "2022-08-13T18:30:44.464Z"
   },
   {
    "duration": 6,
    "start_time": "2022-08-13T18:30:44.502Z"
   },
   {
    "duration": 7,
    "start_time": "2022-08-13T18:30:44.510Z"
   },
   {
    "duration": 5,
    "start_time": "2022-08-13T18:30:44.519Z"
   },
   {
    "duration": 6,
    "start_time": "2022-08-13T18:30:44.526Z"
   },
   {
    "duration": 6,
    "start_time": "2022-08-13T18:30:44.533Z"
   },
   {
    "duration": 6,
    "start_time": "2022-08-13T18:30:44.540Z"
   },
   {
    "duration": 8,
    "start_time": "2022-08-13T18:30:44.548Z"
   },
   {
    "duration": 36,
    "start_time": "2022-08-13T18:30:44.557Z"
   },
   {
    "duration": 561,
    "start_time": "2022-08-13T18:30:44.594Z"
   },
   {
    "duration": 4,
    "start_time": "2022-08-13T18:30:45.157Z"
   },
   {
    "duration": 296,
    "start_time": "2022-08-13T18:30:45.162Z"
   },
   {
    "duration": 5,
    "start_time": "2022-08-13T18:30:45.459Z"
   },
   {
    "duration": 307,
    "start_time": "2022-08-13T18:30:45.466Z"
   },
   {
    "duration": 5,
    "start_time": "2022-08-13T18:30:45.775Z"
   },
   {
    "duration": 299,
    "start_time": "2022-08-13T18:30:45.798Z"
   },
   {
    "duration": 6,
    "start_time": "2022-08-13T18:30:46.099Z"
   },
   {
    "duration": 338,
    "start_time": "2022-08-13T18:30:46.106Z"
   },
   {
    "duration": 4,
    "start_time": "2022-08-13T18:30:46.446Z"
   },
   {
    "duration": 10,
    "start_time": "2022-08-13T18:30:46.452Z"
   },
   {
    "duration": 40,
    "start_time": "2022-08-13T18:30:46.464Z"
   },
   {
    "duration": 5,
    "start_time": "2022-08-13T18:30:46.506Z"
   },
   {
    "duration": 12,
    "start_time": "2022-08-13T18:30:46.513Z"
   },
   {
    "duration": 17,
    "start_time": "2022-08-13T18:30:46.527Z"
   },
   {
    "duration": 11,
    "start_time": "2022-08-13T18:30:46.551Z"
   },
   {
    "duration": 8,
    "start_time": "2022-08-13T18:30:46.564Z"
   },
   {
    "duration": 22,
    "start_time": "2022-08-13T18:30:46.574Z"
   },
   {
    "duration": 7,
    "start_time": "2022-08-13T18:30:46.599Z"
   },
   {
    "duration": 7,
    "start_time": "2022-08-13T18:30:46.608Z"
   },
   {
    "duration": 8,
    "start_time": "2022-08-13T18:30:46.617Z"
   },
   {
    "duration": 20,
    "start_time": "2022-08-13T18:30:46.627Z"
   },
   {
    "duration": 8,
    "start_time": "2022-08-13T18:30:46.650Z"
   },
   {
    "duration": 8,
    "start_time": "2022-08-13T18:30:46.660Z"
   },
   {
    "duration": 30,
    "start_time": "2022-08-13T18:30:46.670Z"
   },
   {
    "duration": 6,
    "start_time": "2022-08-13T18:30:46.702Z"
   },
   {
    "duration": 11887,
    "start_time": "2022-08-13T18:30:46.710Z"
   },
   {
    "duration": 11517,
    "start_time": "2022-08-13T18:30:58.600Z"
   },
   {
    "duration": 3357,
    "start_time": "2022-08-13T18:31:10.118Z"
   },
   {
    "duration": 3282,
    "start_time": "2022-08-13T18:31:13.477Z"
   },
   {
    "duration": 1937,
    "start_time": "2022-08-13T18:31:16.760Z"
   },
   {
    "duration": 1808,
    "start_time": "2022-08-13T18:31:18.698Z"
   },
   {
    "duration": 938,
    "start_time": "2022-08-13T18:31:20.508Z"
   },
   {
    "duration": 822,
    "start_time": "2022-08-13T18:31:21.447Z"
   },
   {
    "duration": 3,
    "start_time": "2022-08-13T18:31:22.271Z"
   },
   {
    "duration": 1510,
    "start_time": "2022-08-13T18:31:22.275Z"
   },
   {
    "duration": 1493,
    "start_time": "2022-08-13T18:31:23.786Z"
   },
   {
    "duration": 12,
    "start_time": "2022-08-13T18:31:25.281Z"
   },
   {
    "duration": 14,
    "start_time": "2022-08-13T18:31:25.302Z"
   },
   {
    "duration": 0,
    "start_time": "2022-08-13T18:31:25.318Z"
   },
   {
    "duration": 3,
    "start_time": "2022-08-13T19:38:27.717Z"
   },
   {
    "duration": 737,
    "start_time": "2022-08-13T19:39:49.742Z"
   },
   {
    "duration": 4,
    "start_time": "2022-08-13T19:40:08.059Z"
   },
   {
    "duration": 300,
    "start_time": "2022-08-13T19:40:08.070Z"
   },
   {
    "duration": 19,
    "start_time": "2022-08-13T19:40:08.386Z"
   },
   {
    "duration": 6,
    "start_time": "2022-08-13T19:40:08.407Z"
   },
   {
    "duration": 104,
    "start_time": "2022-08-13T19:40:08.415Z"
   },
   {
    "duration": 15,
    "start_time": "2022-08-13T19:40:08.521Z"
   },
   {
    "duration": 5,
    "start_time": "2022-08-13T19:40:08.537Z"
   },
   {
    "duration": 360,
    "start_time": "2022-08-13T19:40:08.544Z"
   },
   {
    "duration": 16,
    "start_time": "2022-08-13T19:40:08.905Z"
   },
   {
    "duration": 7,
    "start_time": "2022-08-13T19:40:08.923Z"
   },
   {
    "duration": 9,
    "start_time": "2022-08-13T19:40:08.933Z"
   },
   {
    "duration": 11,
    "start_time": "2022-08-13T19:40:08.944Z"
   },
   {
    "duration": 6,
    "start_time": "2022-08-13T19:40:08.957Z"
   },
   {
    "duration": 29,
    "start_time": "2022-08-13T19:40:08.964Z"
   },
   {
    "duration": 7,
    "start_time": "2022-08-13T19:40:08.995Z"
   },
   {
    "duration": 7,
    "start_time": "2022-08-13T19:40:09.003Z"
   },
   {
    "duration": 7,
    "start_time": "2022-08-13T19:40:09.012Z"
   },
   {
    "duration": 8,
    "start_time": "2022-08-13T19:40:09.021Z"
   },
   {
    "duration": 8,
    "start_time": "2022-08-13T19:40:09.031Z"
   },
   {
    "duration": 5,
    "start_time": "2022-08-13T19:40:09.041Z"
   },
   {
    "duration": 4,
    "start_time": "2022-08-13T19:40:09.048Z"
   },
   {
    "duration": 4,
    "start_time": "2022-08-13T19:40:09.054Z"
   },
   {
    "duration": 5,
    "start_time": "2022-08-13T19:40:09.087Z"
   },
   {
    "duration": 6,
    "start_time": "2022-08-13T19:40:09.093Z"
   },
   {
    "duration": 6,
    "start_time": "2022-08-13T19:40:09.100Z"
   },
   {
    "duration": 5,
    "start_time": "2022-08-13T19:40:09.108Z"
   },
   {
    "duration": 584,
    "start_time": "2022-08-13T19:40:09.114Z"
   },
   {
    "duration": 5,
    "start_time": "2022-08-13T19:40:09.700Z"
   },
   {
    "duration": 300,
    "start_time": "2022-08-13T19:40:09.709Z"
   },
   {
    "duration": 5,
    "start_time": "2022-08-13T19:40:10.011Z"
   },
   {
    "duration": 312,
    "start_time": "2022-08-13T19:40:10.018Z"
   },
   {
    "duration": 6,
    "start_time": "2022-08-13T19:40:10.332Z"
   },
   {
    "duration": 327,
    "start_time": "2022-08-13T19:40:10.340Z"
   },
   {
    "duration": 6,
    "start_time": "2022-08-13T19:40:10.669Z"
   },
   {
    "duration": 290,
    "start_time": "2022-08-13T19:40:10.686Z"
   },
   {
    "duration": 3,
    "start_time": "2022-08-13T19:40:10.977Z"
   },
   {
    "duration": 4,
    "start_time": "2022-08-13T19:40:10.986Z"
   },
   {
    "duration": 14,
    "start_time": "2022-08-13T19:40:10.991Z"
   },
   {
    "duration": 4,
    "start_time": "2022-08-13T19:40:11.006Z"
   },
   {
    "duration": 12,
    "start_time": "2022-08-13T19:40:11.011Z"
   },
   {
    "duration": 5,
    "start_time": "2022-08-13T19:40:11.024Z"
   },
   {
    "duration": 8,
    "start_time": "2022-08-13T19:40:11.031Z"
   },
   {
    "duration": 7,
    "start_time": "2022-08-13T19:40:11.041Z"
   },
   {
    "duration": 158,
    "start_time": "2022-08-13T19:40:11.050Z"
   },
   {
    "duration": 5,
    "start_time": "2022-08-13T19:40:11.210Z"
   },
   {
    "duration": 7,
    "start_time": "2022-08-13T19:40:11.216Z"
   },
   {
    "duration": 6,
    "start_time": "2022-08-13T19:40:11.224Z"
   },
   {
    "duration": 21,
    "start_time": "2022-08-13T19:40:11.232Z"
   },
   {
    "duration": 7,
    "start_time": "2022-08-13T19:40:11.255Z"
   },
   {
    "duration": 26,
    "start_time": "2022-08-13T19:40:11.264Z"
   },
   {
    "duration": 5,
    "start_time": "2022-08-13T19:40:11.292Z"
   },
   {
    "duration": 7,
    "start_time": "2022-08-13T19:40:11.299Z"
   },
   {
    "duration": 11778,
    "start_time": "2022-08-13T19:40:11.308Z"
   },
   {
    "duration": 10936,
    "start_time": "2022-08-13T19:40:23.088Z"
   },
   {
    "duration": 3190,
    "start_time": "2022-08-13T19:40:34.026Z"
   },
   {
    "duration": 3095,
    "start_time": "2022-08-13T19:40:37.218Z"
   },
   {
    "duration": 1173,
    "start_time": "2022-08-13T19:40:40.315Z"
   },
   {
    "duration": 1400,
    "start_time": "2022-08-13T19:40:41.491Z"
   },
   {
    "duration": 978,
    "start_time": "2022-08-13T19:40:42.893Z"
   },
   {
    "duration": 811,
    "start_time": "2022-08-13T19:40:43.872Z"
   },
   {
    "duration": 4,
    "start_time": "2022-08-13T19:40:44.685Z"
   },
   {
    "duration": 8,
    "start_time": "2022-08-13T19:40:44.690Z"
   },
   {
    "duration": 640,
    "start_time": "2022-08-13T19:40:44.700Z"
   },
   {
    "duration": 0,
    "start_time": "2022-08-13T19:40:45.341Z"
   },
   {
    "duration": 0,
    "start_time": "2022-08-13T19:40:45.343Z"
   },
   {
    "duration": 570,
    "start_time": "2022-08-13T19:40:51.704Z"
   },
   {
    "duration": 4,
    "start_time": "2022-08-13T19:41:37.710Z"
   },
   {
    "duration": 285,
    "start_time": "2022-08-13T19:41:37.717Z"
   },
   {
    "duration": 15,
    "start_time": "2022-08-13T19:41:38.005Z"
   },
   {
    "duration": 7,
    "start_time": "2022-08-13T19:41:38.021Z"
   },
   {
    "duration": 96,
    "start_time": "2022-08-13T19:41:38.030Z"
   },
   {
    "duration": 11,
    "start_time": "2022-08-13T19:41:38.128Z"
   },
   {
    "duration": 4,
    "start_time": "2022-08-13T19:41:38.141Z"
   },
   {
    "duration": 324,
    "start_time": "2022-08-13T19:41:38.146Z"
   },
   {
    "duration": 21,
    "start_time": "2022-08-13T19:41:38.472Z"
   },
   {
    "duration": 7,
    "start_time": "2022-08-13T19:41:38.494Z"
   },
   {
    "duration": 8,
    "start_time": "2022-08-13T19:41:38.502Z"
   },
   {
    "duration": 7,
    "start_time": "2022-08-13T19:41:38.512Z"
   },
   {
    "duration": 7,
    "start_time": "2022-08-13T19:41:38.520Z"
   },
   {
    "duration": 6,
    "start_time": "2022-08-13T19:41:38.528Z"
   },
   {
    "duration": 4,
    "start_time": "2022-08-13T19:41:38.538Z"
   },
   {
    "duration": 5,
    "start_time": "2022-08-13T19:41:38.543Z"
   },
   {
    "duration": 6,
    "start_time": "2022-08-13T19:41:38.549Z"
   },
   {
    "duration": 32,
    "start_time": "2022-08-13T19:41:38.556Z"
   },
   {
    "duration": 3,
    "start_time": "2022-08-13T19:41:38.590Z"
   },
   {
    "duration": 7,
    "start_time": "2022-08-13T19:41:38.595Z"
   },
   {
    "duration": 7,
    "start_time": "2022-08-13T19:41:38.603Z"
   },
   {
    "duration": 6,
    "start_time": "2022-08-13T19:41:38.611Z"
   },
   {
    "duration": 6,
    "start_time": "2022-08-13T19:41:38.618Z"
   },
   {
    "duration": 5,
    "start_time": "2022-08-13T19:41:38.625Z"
   },
   {
    "duration": 15,
    "start_time": "2022-08-13T19:41:38.632Z"
   },
   {
    "duration": 8,
    "start_time": "2022-08-13T19:41:38.648Z"
   },
   {
    "duration": 434,
    "start_time": "2022-08-13T19:41:38.658Z"
   },
   {
    "duration": 5,
    "start_time": "2022-08-13T19:41:39.093Z"
   },
   {
    "duration": 274,
    "start_time": "2022-08-13T19:41:39.099Z"
   },
   {
    "duration": 4,
    "start_time": "2022-08-13T19:41:39.375Z"
   },
   {
    "duration": 265,
    "start_time": "2022-08-13T19:41:39.387Z"
   },
   {
    "duration": 5,
    "start_time": "2022-08-13T19:41:39.654Z"
   },
   {
    "duration": 278,
    "start_time": "2022-08-13T19:41:39.660Z"
   },
   {
    "duration": 5,
    "start_time": "2022-08-13T19:41:39.940Z"
   },
   {
    "duration": 435,
    "start_time": "2022-08-13T19:41:39.946Z"
   },
   {
    "duration": 4,
    "start_time": "2022-08-13T19:41:40.386Z"
   },
   {
    "duration": 8,
    "start_time": "2022-08-13T19:41:40.392Z"
   },
   {
    "duration": 15,
    "start_time": "2022-08-13T19:41:40.402Z"
   },
   {
    "duration": 5,
    "start_time": "2022-08-13T19:41:40.419Z"
   },
   {
    "duration": 13,
    "start_time": "2022-08-13T19:41:40.425Z"
   },
   {
    "duration": 8,
    "start_time": "2022-08-13T19:41:40.440Z"
   },
   {
    "duration": 9,
    "start_time": "2022-08-13T19:41:40.452Z"
   },
   {
    "duration": 4,
    "start_time": "2022-08-13T19:41:40.486Z"
   },
   {
    "duration": 11,
    "start_time": "2022-08-13T19:41:40.491Z"
   },
   {
    "duration": 5,
    "start_time": "2022-08-13T19:41:40.503Z"
   },
   {
    "duration": 12,
    "start_time": "2022-08-13T19:41:40.509Z"
   },
   {
    "duration": 9,
    "start_time": "2022-08-13T19:41:40.522Z"
   },
   {
    "duration": 21,
    "start_time": "2022-08-13T19:41:40.532Z"
   },
   {
    "duration": 8,
    "start_time": "2022-08-13T19:41:40.554Z"
   },
   {
    "duration": 26,
    "start_time": "2022-08-13T19:41:40.564Z"
   },
   {
    "duration": 5,
    "start_time": "2022-08-13T19:41:40.592Z"
   },
   {
    "duration": 6,
    "start_time": "2022-08-13T19:41:40.599Z"
   },
   {
    "duration": 11071,
    "start_time": "2022-08-13T19:41:40.606Z"
   },
   {
    "duration": 10950,
    "start_time": "2022-08-13T19:41:51.679Z"
   },
   {
    "duration": 3269,
    "start_time": "2022-08-13T19:42:02.631Z"
   },
   {
    "duration": 3254,
    "start_time": "2022-08-13T19:42:05.902Z"
   },
   {
    "duration": 1133,
    "start_time": "2022-08-13T19:42:09.158Z"
   },
   {
    "duration": 1300,
    "start_time": "2022-08-13T19:42:10.293Z"
   },
   {
    "duration": 1007,
    "start_time": "2022-08-13T19:42:11.595Z"
   },
   {
    "duration": 813,
    "start_time": "2022-08-13T19:42:12.604Z"
   },
   {
    "duration": 4,
    "start_time": "2022-08-13T19:42:13.419Z"
   },
   {
    "duration": 34,
    "start_time": "2022-08-13T19:42:13.424Z"
   },
   {
    "duration": 655,
    "start_time": "2022-08-13T19:42:13.460Z"
   },
   {
    "duration": 0,
    "start_time": "2022-08-13T19:42:14.117Z"
   },
   {
    "duration": 0,
    "start_time": "2022-08-13T19:42:14.118Z"
   },
   {
    "duration": 554,
    "start_time": "2022-08-13T19:42:54.900Z"
   },
   {
    "duration": 6,
    "start_time": "2022-08-13T19:44:05.714Z"
   },
   {
    "duration": 6,
    "start_time": "2022-08-13T19:44:35.476Z"
   },
   {
    "duration": 4,
    "start_time": "2022-08-13T19:44:59.175Z"
   },
   {
    "duration": 286,
    "start_time": "2022-08-13T19:44:59.183Z"
   },
   {
    "duration": 29,
    "start_time": "2022-08-13T19:44:59.471Z"
   },
   {
    "duration": 7,
    "start_time": "2022-08-13T19:44:59.501Z"
   },
   {
    "duration": 87,
    "start_time": "2022-08-13T19:44:59.509Z"
   },
   {
    "duration": 11,
    "start_time": "2022-08-13T19:44:59.599Z"
   },
   {
    "duration": 5,
    "start_time": "2022-08-13T19:44:59.611Z"
   },
   {
    "duration": 354,
    "start_time": "2022-08-13T19:44:59.617Z"
   },
   {
    "duration": 22,
    "start_time": "2022-08-13T19:44:59.972Z"
   },
   {
    "duration": 7,
    "start_time": "2022-08-13T19:44:59.996Z"
   },
   {
    "duration": 20,
    "start_time": "2022-08-13T19:45:00.005Z"
   },
   {
    "duration": 12,
    "start_time": "2022-08-13T19:45:00.027Z"
   },
   {
    "duration": 11,
    "start_time": "2022-08-13T19:45:00.041Z"
   },
   {
    "duration": 20,
    "start_time": "2022-08-13T19:45:00.054Z"
   },
   {
    "duration": 18,
    "start_time": "2022-08-13T19:45:00.077Z"
   },
   {
    "duration": 29,
    "start_time": "2022-08-13T19:45:00.096Z"
   },
   {
    "duration": 23,
    "start_time": "2022-08-13T19:45:00.126Z"
   },
   {
    "duration": 12,
    "start_time": "2022-08-13T19:45:00.151Z"
   },
   {
    "duration": 29,
    "start_time": "2022-08-13T19:45:00.164Z"
   },
   {
    "duration": 14,
    "start_time": "2022-08-13T19:45:00.195Z"
   },
   {
    "duration": 24,
    "start_time": "2022-08-13T19:45:00.211Z"
   },
   {
    "duration": 9,
    "start_time": "2022-08-13T19:45:00.237Z"
   },
   {
    "duration": 26,
    "start_time": "2022-08-13T19:45:00.247Z"
   },
   {
    "duration": 23,
    "start_time": "2022-08-13T19:45:00.274Z"
   },
   {
    "duration": 16,
    "start_time": "2022-08-13T19:45:00.298Z"
   },
   {
    "duration": 10,
    "start_time": "2022-08-13T19:45:00.316Z"
   },
   {
    "duration": 461,
    "start_time": "2022-08-13T19:45:00.328Z"
   },
   {
    "duration": 5,
    "start_time": "2022-08-13T19:45:00.790Z"
   },
   {
    "duration": 299,
    "start_time": "2022-08-13T19:45:00.797Z"
   },
   {
    "duration": 5,
    "start_time": "2022-08-13T19:45:01.098Z"
   },
   {
    "duration": 300,
    "start_time": "2022-08-13T19:45:01.104Z"
   },
   {
    "duration": 6,
    "start_time": "2022-08-13T19:45:01.405Z"
   },
   {
    "duration": 328,
    "start_time": "2022-08-13T19:45:01.412Z"
   },
   {
    "duration": 5,
    "start_time": "2022-08-13T19:45:01.742Z"
   },
   {
    "duration": 483,
    "start_time": "2022-08-13T19:45:01.748Z"
   },
   {
    "duration": 3,
    "start_time": "2022-08-13T19:45:02.233Z"
   },
   {
    "duration": 12,
    "start_time": "2022-08-13T19:45:02.237Z"
   },
   {
    "duration": 14,
    "start_time": "2022-08-13T19:45:02.250Z"
   },
   {
    "duration": 4,
    "start_time": "2022-08-13T19:45:02.266Z"
   },
   {
    "duration": 20,
    "start_time": "2022-08-13T19:45:02.272Z"
   },
   {
    "duration": 10,
    "start_time": "2022-08-13T19:45:02.293Z"
   },
   {
    "duration": 15,
    "start_time": "2022-08-13T19:45:02.306Z"
   },
   {
    "duration": 22,
    "start_time": "2022-08-13T19:45:02.322Z"
   },
   {
    "duration": 17,
    "start_time": "2022-08-13T19:45:02.346Z"
   },
   {
    "duration": 9,
    "start_time": "2022-08-13T19:45:02.365Z"
   },
   {
    "duration": 9,
    "start_time": "2022-08-13T19:45:02.376Z"
   },
   {
    "duration": 22,
    "start_time": "2022-08-13T19:45:02.386Z"
   },
   {
    "duration": 27,
    "start_time": "2022-08-13T19:45:02.410Z"
   },
   {
    "duration": 7,
    "start_time": "2022-08-13T19:45:02.439Z"
   },
   {
    "duration": 8,
    "start_time": "2022-08-13T19:45:02.448Z"
   },
   {
    "duration": 20,
    "start_time": "2022-08-13T19:45:02.458Z"
   },
   {
    "duration": 17,
    "start_time": "2022-08-13T19:45:02.479Z"
   },
   {
    "duration": 11618,
    "start_time": "2022-08-13T19:45:02.498Z"
   },
   {
    "duration": 11373,
    "start_time": "2022-08-13T19:45:14.118Z"
   },
   {
    "duration": 3268,
    "start_time": "2022-08-13T19:45:25.492Z"
   },
   {
    "duration": 3176,
    "start_time": "2022-08-13T19:45:28.761Z"
   },
   {
    "duration": 1249,
    "start_time": "2022-08-13T19:45:31.939Z"
   },
   {
    "duration": 1297,
    "start_time": "2022-08-13T19:45:33.190Z"
   },
   {
    "duration": 873,
    "start_time": "2022-08-13T19:45:34.489Z"
   },
   {
    "duration": 822,
    "start_time": "2022-08-13T19:45:35.363Z"
   },
   {
    "duration": 4,
    "start_time": "2022-08-13T19:45:36.187Z"
   },
   {
    "duration": 37,
    "start_time": "2022-08-13T19:45:36.193Z"
   },
   {
    "duration": 15,
    "start_time": "2022-08-13T19:45:36.232Z"
   },
   {
    "duration": 18,
    "start_time": "2022-08-13T19:45:36.249Z"
   },
   {
    "duration": 0,
    "start_time": "2022-08-13T19:45:36.269Z"
   },
   {
    "duration": 6,
    "start_time": "2022-08-13T19:46:48.336Z"
   },
   {
    "duration": 4,
    "start_time": "2022-08-13T19:47:32.966Z"
   },
   {
    "duration": 6,
    "start_time": "2022-08-13T19:47:54.190Z"
   },
   {
    "duration": 5,
    "start_time": "2022-08-13T19:48:03.187Z"
   },
   {
    "duration": 5,
    "start_time": "2022-08-13T19:49:16.114Z"
   },
   {
    "duration": 8,
    "start_time": "2022-08-13T19:50:06.217Z"
   },
   {
    "duration": 6,
    "start_time": "2022-08-13T19:50:11.489Z"
   },
   {
    "duration": 5,
    "start_time": "2022-08-13T19:50:20.871Z"
   },
   {
    "duration": 6,
    "start_time": "2022-08-13T19:51:14.620Z"
   },
   {
    "duration": 6,
    "start_time": "2022-08-13T19:52:06.823Z"
   },
   {
    "duration": 6,
    "start_time": "2022-08-13T19:52:57.809Z"
   },
   {
    "duration": 6,
    "start_time": "2022-08-13T19:54:11.986Z"
   },
   {
    "duration": 6,
    "start_time": "2022-08-13T19:54:21.857Z"
   },
   {
    "duration": 3,
    "start_time": "2022-08-13T19:54:27.115Z"
   },
   {
    "duration": 4,
    "start_time": "2022-08-13T19:54:37.005Z"
   },
   {
    "duration": 5,
    "start_time": "2022-08-13T19:54:54.594Z"
   },
   {
    "duration": 316,
    "start_time": "2022-08-13T19:54:54.603Z"
   },
   {
    "duration": 20,
    "start_time": "2022-08-13T19:54:54.922Z"
   },
   {
    "duration": 9,
    "start_time": "2022-08-13T19:54:54.944Z"
   },
   {
    "duration": 102,
    "start_time": "2022-08-13T19:54:54.955Z"
   },
   {
    "duration": 12,
    "start_time": "2022-08-13T19:54:55.059Z"
   },
   {
    "duration": 15,
    "start_time": "2022-08-13T19:54:55.072Z"
   },
   {
    "duration": 359,
    "start_time": "2022-08-13T19:54:55.089Z"
   },
   {
    "duration": 15,
    "start_time": "2022-08-13T19:54:55.450Z"
   },
   {
    "duration": 6,
    "start_time": "2022-08-13T19:54:55.467Z"
   },
   {
    "duration": 5,
    "start_time": "2022-08-13T19:54:55.487Z"
   },
   {
    "duration": 11,
    "start_time": "2022-08-13T19:54:55.493Z"
   },
   {
    "duration": 4,
    "start_time": "2022-08-13T19:54:55.506Z"
   },
   {
    "duration": 6,
    "start_time": "2022-08-13T19:54:55.512Z"
   },
   {
    "duration": 8,
    "start_time": "2022-08-13T19:54:55.521Z"
   },
   {
    "duration": 5,
    "start_time": "2022-08-13T19:54:55.530Z"
   },
   {
    "duration": 5,
    "start_time": "2022-08-13T19:54:55.537Z"
   },
   {
    "duration": 6,
    "start_time": "2022-08-13T19:54:55.543Z"
   },
   {
    "duration": 38,
    "start_time": "2022-08-13T19:54:55.550Z"
   },
   {
    "duration": 8,
    "start_time": "2022-08-13T19:54:55.590Z"
   },
   {
    "duration": 10,
    "start_time": "2022-08-13T19:54:55.599Z"
   },
   {
    "duration": 7,
    "start_time": "2022-08-13T19:54:55.610Z"
   },
   {
    "duration": 5,
    "start_time": "2022-08-13T19:54:55.618Z"
   },
   {
    "duration": 5,
    "start_time": "2022-08-13T19:54:55.625Z"
   },
   {
    "duration": 7,
    "start_time": "2022-08-13T19:54:55.632Z"
   },
   {
    "duration": 5,
    "start_time": "2022-08-13T19:54:55.641Z"
   },
   {
    "duration": 469,
    "start_time": "2022-08-13T19:54:55.648Z"
   },
   {
    "duration": 5,
    "start_time": "2022-08-13T19:54:56.119Z"
   },
   {
    "duration": 370,
    "start_time": "2022-08-13T19:54:56.126Z"
   },
   {
    "duration": 4,
    "start_time": "2022-08-13T19:54:56.498Z"
   },
   {
    "duration": 298,
    "start_time": "2022-08-13T19:54:56.504Z"
   },
   {
    "duration": 4,
    "start_time": "2022-08-13T19:54:56.804Z"
   },
   {
    "duration": 429,
    "start_time": "2022-08-13T19:54:56.810Z"
   },
   {
    "duration": 5,
    "start_time": "2022-08-13T19:54:57.241Z"
   },
   {
    "duration": 290,
    "start_time": "2022-08-13T19:54:57.248Z"
   },
   {
    "duration": 4,
    "start_time": "2022-08-13T19:54:57.540Z"
   },
   {
    "duration": 6,
    "start_time": "2022-08-13T19:54:57.546Z"
   },
   {
    "duration": 21,
    "start_time": "2022-08-13T19:54:57.554Z"
   },
   {
    "duration": 12,
    "start_time": "2022-08-13T19:54:57.577Z"
   },
   {
    "duration": 13,
    "start_time": "2022-08-13T19:54:57.591Z"
   },
   {
    "duration": 9,
    "start_time": "2022-08-13T19:54:57.606Z"
   },
   {
    "duration": 15,
    "start_time": "2022-08-13T19:54:57.619Z"
   },
   {
    "duration": 26,
    "start_time": "2022-08-13T19:54:57.635Z"
   },
   {
    "duration": 12,
    "start_time": "2022-08-13T19:54:57.663Z"
   },
   {
    "duration": 11,
    "start_time": "2022-08-13T19:54:57.676Z"
   },
   {
    "duration": 5,
    "start_time": "2022-08-13T19:54:57.689Z"
   },
   {
    "duration": 8,
    "start_time": "2022-08-13T19:54:57.696Z"
   },
   {
    "duration": 23,
    "start_time": "2022-08-13T19:54:57.705Z"
   },
   {
    "duration": 7,
    "start_time": "2022-08-13T19:54:57.729Z"
   },
   {
    "duration": 13,
    "start_time": "2022-08-13T19:54:57.738Z"
   },
   {
    "duration": 8,
    "start_time": "2022-08-13T19:54:57.752Z"
   },
   {
    "duration": 9,
    "start_time": "2022-08-13T19:54:57.761Z"
   },
   {
    "duration": 11533,
    "start_time": "2022-08-13T19:54:57.771Z"
   },
   {
    "duration": 11351,
    "start_time": "2022-08-13T19:55:09.306Z"
   },
   {
    "duration": 3179,
    "start_time": "2022-08-13T19:55:20.659Z"
   },
   {
    "duration": 3152,
    "start_time": "2022-08-13T19:55:23.840Z"
   },
   {
    "duration": 1195,
    "start_time": "2022-08-13T19:55:26.994Z"
   },
   {
    "duration": 1196,
    "start_time": "2022-08-13T19:55:28.191Z"
   },
   {
    "duration": 913,
    "start_time": "2022-08-13T19:55:29.389Z"
   },
   {
    "duration": 824,
    "start_time": "2022-08-13T19:55:30.303Z"
   },
   {
    "duration": 3,
    "start_time": "2022-08-13T19:55:31.129Z"
   },
   {
    "duration": 8,
    "start_time": "2022-08-13T19:55:31.133Z"
   },
   {
    "duration": 11,
    "start_time": "2022-08-13T19:55:31.143Z"
   },
   {
    "duration": 10,
    "start_time": "2022-08-13T19:55:31.156Z"
   },
   {
    "duration": 12,
    "start_time": "2022-08-13T19:55:31.168Z"
   },
   {
    "duration": 6,
    "start_time": "2022-08-13T19:55:52.284Z"
   },
   {
    "duration": 6,
    "start_time": "2022-08-13T19:55:54.099Z"
   },
   {
    "duration": 4,
    "start_time": "2022-08-13T19:55:55.201Z"
   },
   {
    "duration": 811,
    "start_time": "2022-08-13T19:58:28.143Z"
   },
   {
    "duration": 774,
    "start_time": "2022-08-13T19:58:48.922Z"
   },
   {
    "duration": 3,
    "start_time": "2022-08-13T19:58:51.225Z"
   },
   {
    "duration": 6,
    "start_time": "2022-08-13T19:59:22.098Z"
   },
   {
    "duration": 6,
    "start_time": "2022-08-13T19:59:52.413Z"
   },
   {
    "duration": 3,
    "start_time": "2022-08-13T20:00:25.888Z"
   },
   {
    "duration": 301,
    "start_time": "2022-08-13T20:00:25.896Z"
   },
   {
    "duration": 19,
    "start_time": "2022-08-13T20:00:26.200Z"
   },
   {
    "duration": 7,
    "start_time": "2022-08-13T20:00:26.221Z"
   },
   {
    "duration": 122,
    "start_time": "2022-08-13T20:00:26.231Z"
   },
   {
    "duration": 15,
    "start_time": "2022-08-13T20:00:26.355Z"
   },
   {
    "duration": 16,
    "start_time": "2022-08-13T20:00:26.372Z"
   },
   {
    "duration": 371,
    "start_time": "2022-08-13T20:00:26.391Z"
   },
   {
    "duration": 17,
    "start_time": "2022-08-13T20:00:26.763Z"
   },
   {
    "duration": 7,
    "start_time": "2022-08-13T20:00:26.787Z"
   },
   {
    "duration": 7,
    "start_time": "2022-08-13T20:00:26.796Z"
   },
   {
    "duration": 5,
    "start_time": "2022-08-13T20:00:26.804Z"
   },
   {
    "duration": 4,
    "start_time": "2022-08-13T20:00:26.810Z"
   },
   {
    "duration": 4,
    "start_time": "2022-08-13T20:00:26.816Z"
   },
   {
    "duration": 5,
    "start_time": "2022-08-13T20:00:26.822Z"
   },
   {
    "duration": 5,
    "start_time": "2022-08-13T20:00:26.828Z"
   },
   {
    "duration": 4,
    "start_time": "2022-08-13T20:00:26.835Z"
   },
   {
    "duration": 7,
    "start_time": "2022-08-13T20:00:26.840Z"
   },
   {
    "duration": 5,
    "start_time": "2022-08-13T20:00:26.886Z"
   },
   {
    "duration": 6,
    "start_time": "2022-08-13T20:00:26.893Z"
   },
   {
    "duration": 5,
    "start_time": "2022-08-13T20:00:26.900Z"
   },
   {
    "duration": 6,
    "start_time": "2022-08-13T20:00:26.906Z"
   },
   {
    "duration": 6,
    "start_time": "2022-08-13T20:00:26.913Z"
   },
   {
    "duration": 5,
    "start_time": "2022-08-13T20:00:26.920Z"
   },
   {
    "duration": 5,
    "start_time": "2022-08-13T20:00:26.926Z"
   },
   {
    "duration": 5,
    "start_time": "2022-08-13T20:00:26.933Z"
   },
   {
    "duration": 474,
    "start_time": "2022-08-13T20:00:26.939Z"
   },
   {
    "duration": 4,
    "start_time": "2022-08-13T20:00:27.415Z"
   },
   {
    "duration": 308,
    "start_time": "2022-08-13T20:00:27.423Z"
   },
   {
    "duration": 5,
    "start_time": "2022-08-13T20:00:27.733Z"
   },
   {
    "duration": 288,
    "start_time": "2022-08-13T20:00:27.739Z"
   },
   {
    "duration": 6,
    "start_time": "2022-08-13T20:00:28.029Z"
   },
   {
    "duration": 463,
    "start_time": "2022-08-13T20:00:28.037Z"
   },
   {
    "duration": 5,
    "start_time": "2022-08-13T20:00:28.501Z"
   },
   {
    "duration": 307,
    "start_time": "2022-08-13T20:00:28.508Z"
   },
   {
    "duration": 3,
    "start_time": "2022-08-13T20:00:28.817Z"
   },
   {
    "duration": 8,
    "start_time": "2022-08-13T20:00:28.821Z"
   },
   {
    "duration": 14,
    "start_time": "2022-08-13T20:00:28.830Z"
   },
   {
    "duration": 3,
    "start_time": "2022-08-13T20:00:28.846Z"
   },
   {
    "duration": 9,
    "start_time": "2022-08-13T20:00:28.851Z"
   },
   {
    "duration": 26,
    "start_time": "2022-08-13T20:00:28.861Z"
   },
   {
    "duration": 7,
    "start_time": "2022-08-13T20:00:28.889Z"
   },
   {
    "duration": 3,
    "start_time": "2022-08-13T20:00:28.898Z"
   },
   {
    "duration": 11,
    "start_time": "2022-08-13T20:00:28.902Z"
   },
   {
    "duration": 5,
    "start_time": "2022-08-13T20:00:28.914Z"
   },
   {
    "duration": 7,
    "start_time": "2022-08-13T20:00:28.920Z"
   },
   {
    "duration": 6,
    "start_time": "2022-08-13T20:00:28.928Z"
   },
   {
    "duration": 18,
    "start_time": "2022-08-13T20:00:28.936Z"
   },
   {
    "duration": 37,
    "start_time": "2022-08-13T20:00:28.955Z"
   },
   {
    "duration": 9,
    "start_time": "2022-08-13T20:00:28.993Z"
   },
   {
    "duration": 5,
    "start_time": "2022-08-13T20:00:29.004Z"
   },
   {
    "duration": 9,
    "start_time": "2022-08-13T20:00:29.011Z"
   },
   {
    "duration": 11428,
    "start_time": "2022-08-13T20:00:29.021Z"
   },
   {
    "duration": 10904,
    "start_time": "2022-08-13T20:00:40.450Z"
   },
   {
    "duration": 3456,
    "start_time": "2022-08-13T20:00:51.356Z"
   },
   {
    "duration": 3316,
    "start_time": "2022-08-13T20:00:54.814Z"
   },
   {
    "duration": 1558,
    "start_time": "2022-08-13T20:00:58.132Z"
   },
   {
    "duration": 1799,
    "start_time": "2022-08-13T20:00:59.692Z"
   },
   {
    "duration": 1033,
    "start_time": "2022-08-13T20:01:01.495Z"
   },
   {
    "duration": 833,
    "start_time": "2022-08-13T20:01:02.529Z"
   },
   {
    "duration": 2,
    "start_time": "2022-08-13T20:01:03.364Z"
   },
   {
    "duration": 19,
    "start_time": "2022-08-13T20:01:03.368Z"
   },
   {
    "duration": 5,
    "start_time": "2022-08-13T20:01:03.388Z"
   },
   {
    "duration": 6,
    "start_time": "2022-08-13T20:01:03.394Z"
   },
   {
    "duration": 4,
    "start_time": "2022-08-13T20:08:58.305Z"
   },
   {
    "duration": 324,
    "start_time": "2022-08-13T20:08:58.313Z"
   },
   {
    "duration": 15,
    "start_time": "2022-08-13T20:08:58.638Z"
   },
   {
    "duration": 7,
    "start_time": "2022-08-13T20:08:58.654Z"
   },
   {
    "duration": 89,
    "start_time": "2022-08-13T20:08:58.662Z"
   },
   {
    "duration": 12,
    "start_time": "2022-08-13T20:08:58.753Z"
   },
   {
    "duration": 5,
    "start_time": "2022-08-13T20:08:58.766Z"
   },
   {
    "duration": 341,
    "start_time": "2022-08-13T20:08:58.772Z"
   },
   {
    "duration": 16,
    "start_time": "2022-08-13T20:08:59.114Z"
   },
   {
    "duration": 6,
    "start_time": "2022-08-13T20:08:59.132Z"
   },
   {
    "duration": 11,
    "start_time": "2022-08-13T20:08:59.139Z"
   },
   {
    "duration": 7,
    "start_time": "2022-08-13T20:08:59.151Z"
   },
   {
    "duration": 10,
    "start_time": "2022-08-13T20:08:59.159Z"
   },
   {
    "duration": 17,
    "start_time": "2022-08-13T20:08:59.170Z"
   },
   {
    "duration": 4,
    "start_time": "2022-08-13T20:08:59.190Z"
   },
   {
    "duration": 13,
    "start_time": "2022-08-13T20:08:59.195Z"
   },
   {
    "duration": 7,
    "start_time": "2022-08-13T20:08:59.209Z"
   },
   {
    "duration": 5,
    "start_time": "2022-08-13T20:08:59.218Z"
   },
   {
    "duration": 8,
    "start_time": "2022-08-13T20:08:59.225Z"
   },
   {
    "duration": 5,
    "start_time": "2022-08-13T20:08:59.234Z"
   },
   {
    "duration": 7,
    "start_time": "2022-08-13T20:08:59.240Z"
   },
   {
    "duration": 6,
    "start_time": "2022-08-13T20:08:59.248Z"
   },
   {
    "duration": 6,
    "start_time": "2022-08-13T20:08:59.255Z"
   },
   {
    "duration": 24,
    "start_time": "2022-08-13T20:08:59.263Z"
   },
   {
    "duration": 4,
    "start_time": "2022-08-13T20:08:59.289Z"
   },
   {
    "duration": 8,
    "start_time": "2022-08-13T20:08:59.295Z"
   },
   {
    "duration": 455,
    "start_time": "2022-08-13T20:08:59.305Z"
   },
   {
    "duration": 5,
    "start_time": "2022-08-13T20:08:59.762Z"
   },
   {
    "duration": 307,
    "start_time": "2022-08-13T20:08:59.769Z"
   },
   {
    "duration": 10,
    "start_time": "2022-08-13T20:09:00.077Z"
   },
   {
    "duration": 291,
    "start_time": "2022-08-13T20:09:00.089Z"
   },
   {
    "duration": 7,
    "start_time": "2022-08-13T20:09:00.382Z"
   },
   {
    "duration": 293,
    "start_time": "2022-08-13T20:09:00.391Z"
   },
   {
    "duration": 6,
    "start_time": "2022-08-13T20:09:00.685Z"
   },
   {
    "duration": 479,
    "start_time": "2022-08-13T20:09:00.693Z"
   },
   {
    "duration": 3,
    "start_time": "2022-08-13T20:09:01.174Z"
   },
   {
    "duration": 23,
    "start_time": "2022-08-13T20:09:01.178Z"
   },
   {
    "duration": 40,
    "start_time": "2022-08-13T20:09:01.203Z"
   },
   {
    "duration": 5,
    "start_time": "2022-08-13T20:09:01.244Z"
   },
   {
    "duration": 12,
    "start_time": "2022-08-13T20:09:01.251Z"
   },
   {
    "duration": 9,
    "start_time": "2022-08-13T20:09:01.265Z"
   },
   {
    "duration": 10,
    "start_time": "2022-08-13T20:09:01.278Z"
   },
   {
    "duration": 20,
    "start_time": "2022-08-13T20:09:01.289Z"
   },
   {
    "duration": 16,
    "start_time": "2022-08-13T20:09:01.311Z"
   },
   {
    "duration": 12,
    "start_time": "2022-08-13T20:09:01.328Z"
   },
   {
    "duration": 9,
    "start_time": "2022-08-13T20:09:01.342Z"
   },
   {
    "duration": 25,
    "start_time": "2022-08-13T20:09:01.352Z"
   },
   {
    "duration": 25,
    "start_time": "2022-08-13T20:09:01.379Z"
   },
   {
    "duration": 24,
    "start_time": "2022-08-13T20:09:01.406Z"
   },
   {
    "duration": 19,
    "start_time": "2022-08-13T20:09:01.431Z"
   },
   {
    "duration": 26,
    "start_time": "2022-08-13T20:09:01.452Z"
   },
   {
    "duration": 18,
    "start_time": "2022-08-13T20:09:01.480Z"
   },
   {
    "duration": 11466,
    "start_time": "2022-08-13T20:09:01.500Z"
   },
   {
    "duration": 11111,
    "start_time": "2022-08-13T20:09:12.968Z"
   },
   {
    "duration": 3156,
    "start_time": "2022-08-13T20:09:24.081Z"
   },
   {
    "duration": 3109,
    "start_time": "2022-08-13T20:09:27.238Z"
   },
   {
    "duration": 1440,
    "start_time": "2022-08-13T20:09:30.349Z"
   },
   {
    "duration": 1095,
    "start_time": "2022-08-13T20:09:31.791Z"
   },
   {
    "duration": 879,
    "start_time": "2022-08-13T20:09:32.889Z"
   },
   {
    "duration": 783,
    "start_time": "2022-08-13T20:09:33.769Z"
   },
   {
    "duration": 4,
    "start_time": "2022-08-13T20:09:34.553Z"
   },
   {
    "duration": 6,
    "start_time": "2022-08-13T20:09:34.558Z"
   },
   {
    "duration": 9,
    "start_time": "2022-08-13T20:09:34.566Z"
   },
   {
    "duration": 14,
    "start_time": "2022-08-13T20:09:34.577Z"
   }
  ],
  "kernelspec": {
   "display_name": "Python 3 (ipykernel)",
   "language": "python",
   "name": "python3"
  },
  "language_info": {
   "codemirror_mode": {
    "name": "ipython",
    "version": 3
   },
   "file_extension": ".py",
   "mimetype": "text/x-python",
   "name": "python",
   "nbconvert_exporter": "python",
   "pygments_lexer": "ipython3",
   "version": "3.9.5"
  },
  "toc": {
   "base_numbering": 1,
   "nav_menu": {},
   "number_sections": true,
   "sideBar": true,
   "skip_h1_title": true,
   "title_cell": "Содержание",
   "title_sidebar": "Contents",
   "toc_cell": true,
   "toc_position": {
    "height": "calc(100% - 180px)",
    "left": "10px",
    "top": "150px",
    "width": "273.797px"
   },
   "toc_section_display": true,
   "toc_window_display": true
  }
 },
 "nbformat": 4,
 "nbformat_minor": 2
}
