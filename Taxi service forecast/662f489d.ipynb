{
 "cells": [
  {
   "cell_type": "markdown",
   "metadata": {
    "toc": true
   },
   "source": [
    "<h1>Содержание<span class=\"tocSkip\"></span></h1>\n",
    "<div class=\"toc\"><ul class=\"toc-item\"><li><span><a href=\"#Подготовка\" data-toc-modified-id=\"Подготовка-1\"><span class=\"toc-item-num\">1&nbsp;&nbsp;</span>Подготовка</a></span><ul class=\"toc-item\"><li><span><a href=\"#Загрузка-данных-и-библиотек\" data-toc-modified-id=\"Загрузка-данных-и-библиотек-1.1\"><span class=\"toc-item-num\">1.1&nbsp;&nbsp;</span>Загрузка данных и библиотек</a></span></li><li><span><a href=\"#Предварительная-обработка-данных\" data-toc-modified-id=\"Предварительная-обработка-данных-1.2\"><span class=\"toc-item-num\">1.2&nbsp;&nbsp;</span>Предварительная обработка данных</a></span></li></ul></li><li><span><a href=\"#Анализ\" data-toc-modified-id=\"Анализ-2\"><span class=\"toc-item-num\">2&nbsp;&nbsp;</span>Анализ</a></span><ul class=\"toc-item\"><li><span><a href=\"#Ресемплирование-и-создание-признаков\" data-toc-modified-id=\"Ресемплирование-и-создание-признаков-2.1\"><span class=\"toc-item-num\">2.1&nbsp;&nbsp;</span>Ресемплирование и создание признаков</a></span></li><li><span><a href=\"#Создание-выборок\" data-toc-modified-id=\"Создание-выборок-2.2\"><span class=\"toc-item-num\">2.2&nbsp;&nbsp;</span>Создание выборок</a></span></li></ul></li><li><span><a href=\"#Обучение\" data-toc-modified-id=\"Обучение-3\"><span class=\"toc-item-num\">3&nbsp;&nbsp;</span>Обучение</a></span><ul class=\"toc-item\"><li><span><a href=\"#Линейная-регрессия\" data-toc-modified-id=\"Линейная-регрессия-3.1\"><span class=\"toc-item-num\">3.1&nbsp;&nbsp;</span>Линейная регрессия</a></span></li><li><span><a href=\"#Дерево-решений\" data-toc-modified-id=\"Дерево-решений-3.2\"><span class=\"toc-item-num\">3.2&nbsp;&nbsp;</span>Дерево решений</a></span></li><li><span><a href=\"#Выбор-наилучшей-модели\" data-toc-modified-id=\"Выбор-наилучшей-модели-3.3\"><span class=\"toc-item-num\">3.3&nbsp;&nbsp;</span>Выбор наилучшей модели</a></span></li></ul></li><li><span><a href=\"#Тестирование\" data-toc-modified-id=\"Тестирование-4\"><span class=\"toc-item-num\">4&nbsp;&nbsp;</span>Тестирование</a></span></li><li><span><a href=\"#Чек-лист-проверки\" data-toc-modified-id=\"Чек-лист-проверки-5\"><span class=\"toc-item-num\">5&nbsp;&nbsp;</span>Чек-лист проверки</a></span></li></ul></div>"
   ]
  },
  {
   "cell_type": "markdown",
   "metadata": {},
   "source": [
    "#  Прогнозирование заказов такси"
   ]
  },
  {
   "cell_type": "markdown",
   "metadata": {},
   "source": [
    "Компания «Чётенькое такси» собрала исторические данные о заказах такси в аэропортах. Чтобы привлекать больше водителей в период пиковой нагрузки, нужно спрогнозировать количество заказов такси на следующий час. Постройте модель для такого предсказания.\n",
    "\n",
    "Значение метрики *RMSE* на тестовой выборке должно быть не больше 48.\n",
    "\n",
    "Вам нужно:\n",
    "\n",
    "1. Загрузить данные и выполнить их ресемплирование по одному часу.\n",
    "2. Проанализировать данные.\n",
    "3. Обучить разные модели с различными гиперпараметрами. Сделать тестовую выборку размером 10% от исходных данных.\n",
    "4. Проверить данные на тестовой выборке и сделать выводы.\n",
    "\n",
    "\n",
    "Данные лежат в файле `taxi.csv`. Количество заказов находится в столбце `num_orders` (от англ. *number of orders*, «число заказов»)."
   ]
  },
  {
   "cell_type": "markdown",
   "metadata": {},
   "source": [
    "## Подготовка"
   ]
  },
  {
   "cell_type": "markdown",
   "metadata": {},
   "source": [
    "В рамках данного задания необходимо построить модель для прогнозирования количества заказов такси в разное время суток. Для повышения точности прогнозирования будет проведена настройка гиперпараметров. Критерием достижения поставленной цели будет являться значение метрики RMSE не более 48. Проект будет разделен на несколько этапов:\n",
    "1. Загрузка и предварительная обработка данных\n",
    "2. Подбор и оптимизация модели на обучающей выборке\n",
    "3. Проверка модели на тестовой выборке\n",
    "4. Выводы"
   ]
  },
  {
   "cell_type": "markdown",
   "metadata": {},
   "source": [
    "### Загрузка данных и библиотек"
   ]
  },
  {
   "cell_type": "markdown",
   "metadata": {},
   "source": [
    "Загрузим библиотеки"
   ]
  },
  {
   "cell_type": "code",
   "execution_count": 477,
   "metadata": {},
   "outputs": [],
   "source": [
    "import pandas as pd\n",
    "import numpy as np\n",
    "from sklearn.model_selection import train_test_split\n",
    "from sklearn.linear_model import LinearRegression\n",
    "from sklearn.tree import DecisionTreeRegressor\n",
    "from sklearn.metrics import mean_squared_error\n",
    "from statsmodels.tsa.seasonal import seasonal_decompose\n",
    "import matplotlib.pyplot as plt"
   ]
  },
  {
   "cell_type": "markdown",
   "metadata": {},
   "source": [
    "Загрузка и первичное ознакомление с данными"
   ]
  },
  {
   "cell_type": "code",
   "execution_count": 478,
   "metadata": {},
   "outputs": [
    {
     "name": "stdout",
     "output_type": "stream",
     "text": [
      "<class 'pandas.core.frame.DataFrame'>\n",
      "DatetimeIndex: 26496 entries, 2018-03-01 00:00:00 to 2018-08-31 23:50:00\n",
      "Data columns (total 1 columns):\n",
      " #   Column      Non-Null Count  Dtype\n",
      "---  ------      --------------  -----\n",
      " 0   num_orders  26496 non-null  int64\n",
      "dtypes: int64(1)\n",
      "memory usage: 414.0 KB\n"
     ]
    }
   ],
   "source": [
    "data = pd.read_csv('/datasets/taxi.csv', index_col=[0], parse_dates=[0])\n",
    "data.info()"
   ]
  },
  {
   "cell_type": "code",
   "execution_count": 479,
   "metadata": {},
   "outputs": [
    {
     "data": {
      "text/html": [
       "<div>\n",
       "<style scoped>\n",
       "    .dataframe tbody tr th:only-of-type {\n",
       "        vertical-align: middle;\n",
       "    }\n",
       "\n",
       "    .dataframe tbody tr th {\n",
       "        vertical-align: top;\n",
       "    }\n",
       "\n",
       "    .dataframe thead th {\n",
       "        text-align: right;\n",
       "    }\n",
       "</style>\n",
       "<table border=\"1\" class=\"dataframe\">\n",
       "  <thead>\n",
       "    <tr style=\"text-align: right;\">\n",
       "      <th></th>\n",
       "      <th>num_orders</th>\n",
       "    </tr>\n",
       "    <tr>\n",
       "      <th>datetime</th>\n",
       "      <th></th>\n",
       "    </tr>\n",
       "  </thead>\n",
       "  <tbody>\n",
       "    <tr>\n",
       "      <th>2018-03-01 00:00:00</th>\n",
       "      <td>9</td>\n",
       "    </tr>\n",
       "    <tr>\n",
       "      <th>2018-03-01 00:10:00</th>\n",
       "      <td>14</td>\n",
       "    </tr>\n",
       "    <tr>\n",
       "      <th>2018-03-01 00:20:00</th>\n",
       "      <td>28</td>\n",
       "    </tr>\n",
       "    <tr>\n",
       "      <th>2018-03-01 00:30:00</th>\n",
       "      <td>20</td>\n",
       "    </tr>\n",
       "    <tr>\n",
       "      <th>2018-03-01 00:40:00</th>\n",
       "      <td>32</td>\n",
       "    </tr>\n",
       "    <tr>\n",
       "      <th>2018-03-01 00:50:00</th>\n",
       "      <td>21</td>\n",
       "    </tr>\n",
       "    <tr>\n",
       "      <th>2018-03-01 01:00:00</th>\n",
       "      <td>7</td>\n",
       "    </tr>\n",
       "    <tr>\n",
       "      <th>2018-03-01 01:10:00</th>\n",
       "      <td>5</td>\n",
       "    </tr>\n",
       "    <tr>\n",
       "      <th>2018-03-01 01:20:00</th>\n",
       "      <td>17</td>\n",
       "    </tr>\n",
       "    <tr>\n",
       "      <th>2018-03-01 01:30:00</th>\n",
       "      <td>12</td>\n",
       "    </tr>\n",
       "  </tbody>\n",
       "</table>\n",
       "</div>"
      ],
      "text/plain": [
       "                     num_orders\n",
       "datetime                       \n",
       "2018-03-01 00:00:00           9\n",
       "2018-03-01 00:10:00          14\n",
       "2018-03-01 00:20:00          28\n",
       "2018-03-01 00:30:00          20\n",
       "2018-03-01 00:40:00          32\n",
       "2018-03-01 00:50:00          21\n",
       "2018-03-01 01:00:00           7\n",
       "2018-03-01 01:10:00           5\n",
       "2018-03-01 01:20:00          17\n",
       "2018-03-01 01:30:00          12"
      ]
     },
     "execution_count": 479,
     "metadata": {},
     "output_type": "execute_result"
    }
   ],
   "source": [
    "data.head(10)"
   ]
  },
  {
   "cell_type": "code",
   "execution_count": 480,
   "metadata": {},
   "outputs": [
    {
     "data": {
      "text/html": [
       "<div>\n",
       "<style scoped>\n",
       "    .dataframe tbody tr th:only-of-type {\n",
       "        vertical-align: middle;\n",
       "    }\n",
       "\n",
       "    .dataframe tbody tr th {\n",
       "        vertical-align: top;\n",
       "    }\n",
       "\n",
       "    .dataframe thead th {\n",
       "        text-align: right;\n",
       "    }\n",
       "</style>\n",
       "<table border=\"1\" class=\"dataframe\">\n",
       "  <thead>\n",
       "    <tr style=\"text-align: right;\">\n",
       "      <th></th>\n",
       "      <th>num_orders</th>\n",
       "    </tr>\n",
       "  </thead>\n",
       "  <tbody>\n",
       "    <tr>\n",
       "      <th>count</th>\n",
       "      <td>26496.000000</td>\n",
       "    </tr>\n",
       "    <tr>\n",
       "      <th>mean</th>\n",
       "      <td>14.070463</td>\n",
       "    </tr>\n",
       "    <tr>\n",
       "      <th>std</th>\n",
       "      <td>9.211330</td>\n",
       "    </tr>\n",
       "    <tr>\n",
       "      <th>min</th>\n",
       "      <td>0.000000</td>\n",
       "    </tr>\n",
       "    <tr>\n",
       "      <th>25%</th>\n",
       "      <td>8.000000</td>\n",
       "    </tr>\n",
       "    <tr>\n",
       "      <th>50%</th>\n",
       "      <td>13.000000</td>\n",
       "    </tr>\n",
       "    <tr>\n",
       "      <th>75%</th>\n",
       "      <td>19.000000</td>\n",
       "    </tr>\n",
       "    <tr>\n",
       "      <th>max</th>\n",
       "      <td>119.000000</td>\n",
       "    </tr>\n",
       "  </tbody>\n",
       "</table>\n",
       "</div>"
      ],
      "text/plain": [
       "         num_orders\n",
       "count  26496.000000\n",
       "mean      14.070463\n",
       "std        9.211330\n",
       "min        0.000000\n",
       "25%        8.000000\n",
       "50%       13.000000\n",
       "75%       19.000000\n",
       "max      119.000000"
      ]
     },
     "execution_count": 480,
     "metadata": {},
     "output_type": "execute_result"
    }
   ],
   "source": [
    "data.describe()"
   ]
  },
  {
   "cell_type": "markdown",
   "metadata": {},
   "source": [
    "Файл содержит порядка 26 тысяч записей разбитых на десятиминутные интервалы. Проведем их предварительную обработку"
   ]
  },
  {
   "cell_type": "markdown",
   "metadata": {},
   "source": [
    "### Предварительная обработка данных"
   ]
  },
  {
   "cell_type": "markdown",
   "metadata": {},
   "source": [
    "Проверим на пропущенные значения"
   ]
  },
  {
   "cell_type": "code",
   "execution_count": 481,
   "metadata": {},
   "outputs": [
    {
     "name": "stdout",
     "output_type": "stream",
     "text": [
      "<class 'pandas.core.frame.DataFrame'>\n",
      "DatetimeIndex: 26496 entries, 2018-03-01 00:00:00 to 2018-08-31 23:50:00\n",
      "Data columns (total 1 columns):\n",
      " #   Column      Non-Null Count  Dtype\n",
      "---  ------      --------------  -----\n",
      " 0   num_orders  26496 non-null  int64\n",
      "dtypes: int64(1)\n",
      "memory usage: 414.0 KB\n"
     ]
    }
   ],
   "source": [
    "data = data.dropna()\n",
    "data.info()"
   ]
  },
  {
   "cell_type": "markdown",
   "metadata": {},
   "source": [
    "Пропущенные значения не обнаружены. Проверим соблюдение хронологического порядка "
   ]
  },
  {
   "cell_type": "code",
   "execution_count": 482,
   "metadata": {},
   "outputs": [
    {
     "data": {
      "text/plain": [
       "True"
      ]
     },
     "execution_count": 482,
     "metadata": {},
     "output_type": "execute_result"
    }
   ],
   "source": [
    "data.index.is_monotonic"
   ]
  },
  {
   "cell_type": "markdown",
   "metadata": {},
   "source": [
    "## Анализ"
   ]
  },
  {
   "cell_type": "markdown",
   "metadata": {},
   "source": [
    "### Ресемплирование и создание признаков"
   ]
  },
  {
   "cell_type": "markdown",
   "metadata": {},
   "source": [
    "Проведем ресемплирование по одному часу"
   ]
  },
  {
   "cell_type": "code",
   "execution_count": 483,
   "metadata": {},
   "outputs": [
    {
     "data": {
      "text/html": [
       "<div>\n",
       "<style scoped>\n",
       "    .dataframe tbody tr th:only-of-type {\n",
       "        vertical-align: middle;\n",
       "    }\n",
       "\n",
       "    .dataframe tbody tr th {\n",
       "        vertical-align: top;\n",
       "    }\n",
       "\n",
       "    .dataframe thead th {\n",
       "        text-align: right;\n",
       "    }\n",
       "</style>\n",
       "<table border=\"1\" class=\"dataframe\">\n",
       "  <thead>\n",
       "    <tr style=\"text-align: right;\">\n",
       "      <th></th>\n",
       "      <th>num_orders</th>\n",
       "    </tr>\n",
       "    <tr>\n",
       "      <th>datetime</th>\n",
       "      <th></th>\n",
       "    </tr>\n",
       "  </thead>\n",
       "  <tbody>\n",
       "    <tr>\n",
       "      <th>2018-03-01 00:00:00</th>\n",
       "      <td>124</td>\n",
       "    </tr>\n",
       "    <tr>\n",
       "      <th>2018-03-01 01:00:00</th>\n",
       "      <td>85</td>\n",
       "    </tr>\n",
       "    <tr>\n",
       "      <th>2018-03-01 02:00:00</th>\n",
       "      <td>71</td>\n",
       "    </tr>\n",
       "    <tr>\n",
       "      <th>2018-03-01 03:00:00</th>\n",
       "      <td>66</td>\n",
       "    </tr>\n",
       "    <tr>\n",
       "      <th>2018-03-01 04:00:00</th>\n",
       "      <td>43</td>\n",
       "    </tr>\n",
       "  </tbody>\n",
       "</table>\n",
       "</div>"
      ],
      "text/plain": [
       "                     num_orders\n",
       "datetime                       \n",
       "2018-03-01 00:00:00         124\n",
       "2018-03-01 01:00:00          85\n",
       "2018-03-01 02:00:00          71\n",
       "2018-03-01 03:00:00          66\n",
       "2018-03-01 04:00:00          43"
      ]
     },
     "execution_count": 483,
     "metadata": {},
     "output_type": "execute_result"
    }
   ],
   "source": [
    "data = data.resample('1H').sum()\n",
    "data.head()"
   ]
  },
  {
   "cell_type": "code",
   "execution_count": 484,
   "metadata": {},
   "outputs": [
    {
     "name": "stdout",
     "output_type": "stream",
     "text": [
      "<class 'pandas.core.frame.DataFrame'>\n",
      "DatetimeIndex: 4416 entries, 2018-03-01 00:00:00 to 2018-08-31 23:00:00\n",
      "Freq: H\n",
      "Data columns (total 1 columns):\n",
      " #   Column      Non-Null Count  Dtype\n",
      "---  ------      --------------  -----\n",
      " 0   num_orders  4416 non-null   int64\n",
      "dtypes: int64(1)\n",
      "memory usage: 69.0 KB\n"
     ]
    }
   ],
   "source": [
    "data.info()"
   ]
  },
  {
   "cell_type": "markdown",
   "metadata": {},
   "source": [
    "Представим данные в графическом виде "
   ]
  },
  {
   "cell_type": "code",
   "execution_count": 485,
   "metadata": {},
   "outputs": [
    {
     "data": {
      "text/plain": [
       "<AxesSubplot:xlabel='day'>"
      ]
     },
     "execution_count": 485,
     "metadata": {},
     "output_type": "execute_result"
    },
    {
     "data": {
      "image/png": "[encoded data removed]",
      "text/plain": [
       "<Figure size 576x288 with 1 Axes>"
      ]
     },
     "metadata": {
      "needs_background": "light"
     },
     "output_type": "display_data"
    }
   ],
   "source": [
    "data['day'] = data.index.day\n",
    "data.plot(kind='bar', x='day', y='num_orders', figsize=(8,4))"
   ]
  },
  {
   "cell_type": "markdown",
   "metadata": {},
   "source": [
    "Визуальный анализ графика позволяет сделать вывод о наличии трендов и сезонности. Проведем декомпозицию данных"
   ]
  },
  {
   "cell_type": "code",
   "execution_count": 486,
   "metadata": {},
   "outputs": [
    {
     "data": {
      "image/png": "[encoded data removed]",
      "text/plain": [
       "<Figure size 576x720 with 3 Axes>"
      ]
     },
     "metadata": {
      "needs_background": "light"
     },
     "output_type": "display_data"
    }
   ],
   "source": [
    "data = data.drop('day', axis=1)\n",
    "decomposed = seasonal_decompose(data)\n",
    "plt.figure(figsize=(8,10))\n",
    "plt.subplot(311)\n",
    "decomposed.trend.plot(ax=plt.gca())\n",
    "plt.title('Trend')\n",
    "plt.subplot(312)\n",
    "decomposed.seasonal.plot(ax=plt.gca())\n",
    "plt.title('Seasonality')\n",
    "plt.subplot(313)\n",
    "decomposed.resid.plot(ax=plt.gca())\n",
    "plt.title('Residuals')\n",
    "plt.tight_layout()"
   ]
  },
  {
   "cell_type": "markdown",
   "metadata": {},
   "source": [
    "В целом можно отметить повышательный тренд. Месячная сезонность не наблюдаема поскольку данные представлены только за 6 месяцев. Остатки распределены случайно. Дополнительно проанализируем данные на наличие внутринедельной и внутрисуточной сезонности"
   ]
  },
  {
   "cell_type": "markdown",
   "metadata": {},
   "source": [
    "Внутринедельная сезонность. Для наглядности ограничим раcсматриваемый период мартом"
   ]
  },
  {
   "cell_type": "code",
   "execution_count": 487,
   "metadata": {},
   "outputs": [
    {
     "data": {
      "text/html": [
       "<div>\n",
       "<style scoped>\n",
       "    .dataframe tbody tr th:only-of-type {\n",
       "        vertical-align: middle;\n",
       "    }\n",
       "\n",
       "    .dataframe tbody tr th {\n",
       "        vertical-align: top;\n",
       "    }\n",
       "\n",
       "    .dataframe thead th {\n",
       "        text-align: right;\n",
       "    }\n",
       "</style>\n",
       "<table border=\"1\" class=\"dataframe\">\n",
       "  <thead>\n",
       "    <tr style=\"text-align: right;\">\n",
       "      <th></th>\n",
       "      <th>num_orders</th>\n",
       "    </tr>\n",
       "    <tr>\n",
       "      <th>datetime</th>\n",
       "      <th></th>\n",
       "    </tr>\n",
       "  </thead>\n",
       "  <tbody>\n",
       "    <tr>\n",
       "      <th>2018-03-01</th>\n",
       "      <td>1364</td>\n",
       "    </tr>\n",
       "    <tr>\n",
       "      <th>2018-03-02</th>\n",
       "      <td>1506</td>\n",
       "    </tr>\n",
       "    <tr>\n",
       "      <th>2018-03-03</th>\n",
       "      <td>1290</td>\n",
       "    </tr>\n",
       "    <tr>\n",
       "      <th>2018-03-04</th>\n",
       "      <td>1141</td>\n",
       "    </tr>\n",
       "    <tr>\n",
       "      <th>2018-03-05</th>\n",
       "      <td>1259</td>\n",
       "    </tr>\n",
       "  </tbody>\n",
       "</table>\n",
       "</div>"
      ],
      "text/plain": [
       "            num_orders\n",
       "datetime              \n",
       "2018-03-01        1364\n",
       "2018-03-02        1506\n",
       "2018-03-03        1290\n",
       "2018-03-04        1141\n",
       "2018-03-05        1259"
      ]
     },
     "execution_count": 487,
     "metadata": {},
     "output_type": "execute_result"
    }
   ],
   "source": [
    "data_by_day = data['2018-03':'2018-03']\n",
    "data_by_day = data_by_day.resample('1D').sum()\n",
    "data_by_day.head()"
   ]
  },
  {
   "cell_type": "code",
   "execution_count": 488,
   "metadata": {},
   "outputs": [
    {
     "data": {
      "image/png": "[encoded data removed]",
      "text/plain": [
       "<Figure size 576x720 with 1 Axes>"
      ]
     },
     "metadata": {
      "needs_background": "light"
     },
     "output_type": "display_data"
    }
   ],
   "source": [
    "decomposed = seasonal_decompose(data_by_day)\n",
    "plt.figure(figsize=(8,10))\n",
    "plt.subplot(312)\n",
    "decomposed.seasonal.plot(ax=plt.gca())\n",
    "plt.title('Seasonality by weekdays')\n",
    "plt.tight_layout()"
   ]
  },
  {
   "cell_type": "markdown",
   "metadata": {},
   "source": [
    "График позволяет сделать вывод о наличии внутринедельной сезонности. Наименьшее количество заказов приходится на вторник, а наибольшее - на четверг. Проанализируем внутрисуточную сезонность. Для наглядности ограничим рассматриваемый период тремя днями"
   ]
  },
  {
   "cell_type": "code",
   "execution_count": 489,
   "metadata": {},
   "outputs": [
    {
     "data": {
      "image/png": "[encoded data removed]",
      "text/plain": [
       "<Figure size 576x720 with 1 Axes>"
      ]
     },
     "metadata": {
      "needs_background": "light"
     },
     "output_type": "display_data"
    }
   ],
   "source": [
    "data_by_hour= data['2018-03-01':'2018-03-03']\n",
    "decomposed = seasonal_decompose(data_by_hour)\n",
    "plt.figure(figsize=(8,10))\n",
    "plt.subplot(312)\n",
    "decomposed.seasonal.plot(ax=plt.gca())\n",
    "plt.title('Seasonality by hours')\n",
    "plt.tight_layout()"
   ]
  },
  {
   "cell_type": "markdown",
   "metadata": {},
   "source": [
    "График позволяет сделать вывод о наличии внутрисуточной сезонность. Минимум спроса приходится на ранние утренние часы, потом резко возрастате к полудню, немного снижается в послеобеденное время, возрастает в вечерние часы до полуночи и далее резко снижается к минимуму раннего утра"
   ]
  },
  {
   "cell_type": "markdown",
   "metadata": {},
   "source": [
    "Данные представлены за период с марта по август 2018 года. Соответственно, в качестве временных признаков можно использовать день недели и час. Создадим через функцию временные признаки, а также отстающие признаки и скользящее среднее"
   ]
  },
  {
   "cell_type": "code",
   "execution_count": 490,
   "metadata": {},
   "outputs": [],
   "source": [
    "def make_features(data, max_lag, rolling_mean_size):\n",
    "    data['weekday'] = data.index.dayofweek\n",
    "    data['hour'] = data.index.hour\n",
    "    for lag in range(1, max_lag+1):\n",
    "        data['lag{}'.format(lag)] = data['num_orders'].shift(lag)\n",
    "    for rolling_mean in range (1, rolling_mean_size+1):    \n",
    "        data['rolling_mean'] = data['num_orders'].shift().rolling(rolling_mean_size).mean() "
   ]
  },
  {
   "cell_type": "markdown",
   "metadata": {},
   "source": [
    "Создадим ячейку для задания гиперпараметров. Изменяя ее значения ниже мы найдем наилменьшее значение RMSE"
   ]
  },
  {
   "cell_type": "code",
   "execution_count": 491,
   "metadata": {},
   "outputs": [],
   "source": [
    "make_features(data, 300, 300)"
   ]
  },
  {
   "cell_type": "markdown",
   "metadata": {},
   "source": [
    "### Создание выборок"
   ]
  },
  {
   "cell_type": "markdown",
   "metadata": {},
   "source": [
    "Разделим выборку на обучающую, валидационную и тестовую. По условиям задачи тестовая должна составлять 10% общей. Валидационную установим в стандартном размере - 20% от общей. Удалим строки со значениями NaN"
   ]
  },
  {
   "cell_type": "code",
   "execution_count": 492,
   "metadata": {},
   "outputs": [],
   "source": [
    "train, test = train_test_split(data, shuffle=False, test_size=0.3)\n",
    "valid, test = train_test_split(test, shuffle=False, test_size=1/3)\n",
    "train = train.dropna()"
   ]
  },
  {
   "cell_type": "markdown",
   "metadata": {},
   "source": [
    "Выделим признаки и целевой признак"
   ]
  },
  {
   "cell_type": "code",
   "execution_count": 493,
   "metadata": {},
   "outputs": [],
   "source": [
    "features_train = train.drop('num_orders', axis=1)\n",
    "target_train = train['num_orders']\n",
    "features_valid = valid.drop('num_orders', axis=1)\n",
    "target_valid = valid['num_orders']\n",
    "features_test = test.drop('num_orders', axis=1)\n",
    "target_test = test['num_orders']"
   ]
  },
  {
   "cell_type": "markdown",
   "metadata": {},
   "source": [
    "## Обучение"
   ]
  },
  {
   "cell_type": "markdown",
   "metadata": {},
   "source": [
    "По условиям задачи необходимо попробовать несколько моделей с разными гиперпараметрами. В нашем случае это будет линейная регрессия и дерево решений с программным подбором оптимальной глубины"
   ]
  },
  {
   "cell_type": "markdown",
   "metadata": {},
   "source": [
    "### Линейная регрессия"
   ]
  },
  {
   "cell_type": "code",
   "execution_count": 494,
   "metadata": {},
   "outputs": [
    {
     "data": {
      "text/plain": [
       "LinearRegression()"
      ]
     },
     "execution_count": 494,
     "metadata": {},
     "output_type": "execute_result"
    }
   ],
   "source": [
    "model = LinearRegression()\n",
    "model.fit(features_train, target_train)"
   ]
  },
  {
   "cell_type": "code",
   "execution_count": 495,
   "metadata": {
    "scrolled": true
   },
   "outputs": [
    {
     "name": "stdout",
     "output_type": "stream",
     "text": [
      "RMSE обучающей выборки: 26.63620815367672\n"
     ]
    }
   ],
   "source": [
    "predictions_lin = model.predict(features_valid)\n",
    "print(\"RMSE обучающей выборки:\", mean_squared_error(target_valid, predictions_lin)**.5)"
   ]
  },
  {
   "cell_type": "markdown",
   "metadata": {},
   "source": [
    "### Дерево решений"
   ]
  },
  {
   "cell_type": "code",
   "execution_count": 496,
   "metadata": {},
   "outputs": [
    {
     "name": "stdout",
     "output_type": "stream",
     "text": [
      "Наименьший RMSE обучающей выборки: 31.806020140289686 при глубине дерева 5\n"
     ]
    }
   ],
   "source": [
    "best_model = None\n",
    "best_result = 10000\n",
    "best_depth = 0\n",
    "for depth in range(1, 11):\n",
    "    model = DecisionTreeRegressor(max_depth=depth)\n",
    "    model.fit(features_train, target_train)\n",
    "    predictions_tree = model.predict(features_valid)\n",
    "    result = mean_squared_error(target_valid, predictions_tree)**.5\n",
    "    if result < best_result:\n",
    "        best_model = model\n",
    "        best_result = result\n",
    "        best_depth = depth\n",
    "print(\"Наименьший RMSE обучающей выборки:\", best_result, 'при глубине дерева', best_depth)"
   ]
  },
  {
   "cell_type": "markdown",
   "metadata": {},
   "source": [
    "### Выбор наилучшей модели"
   ]
  },
  {
   "cell_type": "markdown",
   "metadata": {},
   "source": [
    "Изменяя значение в ячейке в разделе 2.1 подберем параметры обеспечивающие наименьшее значение RMSE. Результаты обобщим в таблице ниже"
   ]
  },
  {
   "cell_type": "code",
   "execution_count": 497,
   "metadata": {},
   "outputs": [
    {
     "name": "stdout",
     "output_type": "stream",
     "text": [
      "   Отст. признак  Скользящее среднее  RMSE, LR  RMSE, DT  Best depth for DT\n",
      "0              1                   1        41        40                  9\n",
      "1              3                   3        41        39                 10\n",
      "2             10                  10        40        37                  8\n",
      "3             30                  30        32        36                  5\n",
      "4            100                 100        28        33                  6\n",
      "5            300                 300        26        31                  5\n"
     ]
    }
   ],
   "source": [
    "headings = ['Отст. признак', 'Скользящее среднее', 'RMSE, LR', 'RMSE, DT', 'Best depth for DT']\n",
    "figures = [[1,1,41,40,9], [3,3,41,39,10], [10,10,40,37,8], [30,30,32,36,5], [100,100,28,33,6], [300,300,26,31,5]]\n",
    "summary = pd.DataFrame(data=figures, columns=headings)\n",
    "print(summary)"
   ]
  },
  {
   "cell_type": "markdown",
   "metadata": {},
   "source": [
    "Наибольшая точность прогнозирования на валидационной выборке достигается при использовании линейной регресси со значениями отстающего признака и скользящего среднего в 300. Проверим полученные результаты на тестовой выборке"
   ]
  },
  {
   "cell_type": "markdown",
   "metadata": {},
   "source": [
    "## Тестирование"
   ]
  },
  {
   "cell_type": "code",
   "execution_count": 498,
   "metadata": {},
   "outputs": [
    {
     "name": "stdout",
     "output_type": "stream",
     "text": [
      "RMSE тестовой выборки: 35.95070647463476\n"
     ]
    }
   ],
   "source": [
    "model = LinearRegression()\n",
    "model.fit(features_train, target_train)\n",
    "predictions = model.predict(features_test)\n",
    "print(\"RMSE тестовой выборки:\", mean_squared_error(target_test, predictions)**.5)"
   ]
  },
  {
   "cell_type": "markdown",
   "metadata": {},
   "source": [
    "На тестовой выборке показатель RMSE с выбранными гиперпараметрами 300,300 составляет 35, то есть на четверть ниже целевого показателя. Модель может быть использована для прогнозирования количества заказов в такси"
   ]
  },
  {
   "cell_type": "markdown",
   "metadata": {},
   "source": [
    "Заключение: целью данной работы являлась разработка модели для прогнозирования заказов такси на ближайший час. Необходимая точность предсказания измерялась показателем RMSE который не мог превышать 48. Для разработки модели была проведена обработка исходных данных, которая включалаа в себя создание дополнительных признаков. В дальнейшем к обработанным данным применялись модели линейной регрессии и дерева решений с перебором гиперпараметров для достижения необходимой точности прогнозирования. Гиперпараметры признанные наилучшими были применены к тестовой выборке. На тестовой выборке показатель RMSE составил 35. Модель линейной регрессии со значениями отстающего признака и скользящего среднего в 300 может быть рекомендована к использованию"
   ]
  }
 ],
 "metadata": {
  "ExecuteTimeLog": [
   {
    "duration": 1216,
    "start_time": "2022-11-03T11:43:51.236Z"
   },
   {
    "duration": 148,
    "start_time": "2022-11-03T11:45:55.970Z"
   },
   {
    "duration": 55,
    "start_time": "2022-11-03T11:46:08.166Z"
   },
   {
    "duration": 114,
    "start_time": "2022-11-03T11:47:23.588Z"
   },
   {
    "duration": 4,
    "start_time": "2022-11-03T11:47:41.536Z"
   },
   {
    "duration": 85,
    "start_time": "2022-11-03T11:47:41.547Z"
   },
   {
    "duration": 11,
    "start_time": "2022-11-03T11:47:41.635Z"
   },
   {
    "duration": 62,
    "start_time": "2022-11-03T11:48:16.813Z"
   },
   {
    "duration": 59,
    "start_time": "2022-11-03T11:48:39.707Z"
   },
   {
    "duration": 22,
    "start_time": "2022-11-03T11:48:59.216Z"
   },
   {
    "duration": 13,
    "start_time": "2022-11-03T11:49:18.302Z"
   },
   {
    "duration": 12,
    "start_time": "2022-11-03T11:50:36.172Z"
   },
   {
    "duration": 3,
    "start_time": "2022-11-03T11:51:24.536Z"
   },
   {
    "duration": 55,
    "start_time": "2022-11-03T11:51:24.558Z"
   },
   {
    "duration": 7,
    "start_time": "2022-11-03T11:51:24.615Z"
   },
   {
    "duration": 22,
    "start_time": "2022-11-03T11:51:24.623Z"
   },
   {
    "duration": 7,
    "start_time": "2022-11-03T11:52:21.362Z"
   },
   {
    "duration": 3,
    "start_time": "2022-11-03T11:59:16.495Z"
   },
   {
    "duration": 12,
    "start_time": "2022-11-03T12:02:07.816Z"
   },
   {
    "duration": 3,
    "start_time": "2022-11-03T12:02:23.718Z"
   },
   {
    "duration": 85,
    "start_time": "2022-11-03T12:02:23.723Z"
   },
   {
    "duration": 7,
    "start_time": "2022-11-03T12:02:23.810Z"
   },
   {
    "duration": 36,
    "start_time": "2022-11-03T12:02:23.819Z"
   },
   {
    "duration": 17,
    "start_time": "2022-11-03T12:02:23.856Z"
   },
   {
    "duration": 12,
    "start_time": "2022-11-03T12:04:11.743Z"
   },
   {
    "duration": 7,
    "start_time": "2022-11-03T12:04:19.923Z"
   },
   {
    "duration": 57,
    "start_time": "2022-11-03T12:04:19.949Z"
   },
   {
    "duration": 8,
    "start_time": "2022-11-03T12:04:20.008Z"
   },
   {
    "duration": 28,
    "start_time": "2022-11-03T12:04:20.017Z"
   },
   {
    "duration": 11,
    "start_time": "2022-11-03T12:04:20.047Z"
   },
   {
    "duration": 11,
    "start_time": "2022-11-03T12:04:41.448Z"
   },
   {
    "duration": 9,
    "start_time": "2022-11-03T12:05:23.995Z"
   },
   {
    "duration": 13,
    "start_time": "2022-11-03T12:05:41.523Z"
   },
   {
    "duration": 13,
    "start_time": "2022-11-03T13:14:47.388Z"
   },
   {
    "duration": 9,
    "start_time": "2022-11-03T13:17:27.321Z"
   },
   {
    "duration": 8,
    "start_time": "2022-11-03T13:17:33.979Z"
   },
   {
    "duration": 3,
    "start_time": "2022-11-03T13:21:10.673Z"
   },
   {
    "duration": 58,
    "start_time": "2022-11-03T13:21:10.699Z"
   },
   {
    "duration": 7,
    "start_time": "2022-11-03T13:21:10.760Z"
   },
   {
    "duration": 33,
    "start_time": "2022-11-03T13:21:10.769Z"
   },
   {
    "duration": 4,
    "start_time": "2022-11-03T13:21:10.804Z"
   },
   {
    "duration": 41,
    "start_time": "2022-11-03T13:21:10.810Z"
   },
   {
    "duration": 7,
    "start_time": "2022-11-03T13:22:45.422Z"
   },
   {
    "duration": 15,
    "start_time": "2022-11-03T13:22:53.104Z"
   },
   {
    "duration": 4,
    "start_time": "2022-11-03T13:22:56.858Z"
   },
   {
    "duration": 54,
    "start_time": "2022-11-03T13:22:56.878Z"
   },
   {
    "duration": 8,
    "start_time": "2022-11-03T13:22:56.934Z"
   },
   {
    "duration": 27,
    "start_time": "2022-11-03T13:22:56.944Z"
   },
   {
    "duration": 25,
    "start_time": "2022-11-03T13:22:56.973Z"
   },
   {
    "duration": 10,
    "start_time": "2022-11-03T13:22:57.000Z"
   },
   {
    "duration": 31,
    "start_time": "2022-11-03T13:22:57.012Z"
   },
   {
    "duration": 16,
    "start_time": "2022-11-03T13:24:06.244Z"
   },
   {
    "duration": 24,
    "start_time": "2022-11-03T13:24:25.953Z"
   },
   {
    "duration": 23,
    "start_time": "2022-11-03T13:24:30.805Z"
   },
   {
    "duration": 4,
    "start_time": "2022-11-03T13:24:33.985Z"
   },
   {
    "duration": 61,
    "start_time": "2022-11-03T13:24:34.009Z"
   },
   {
    "duration": 8,
    "start_time": "2022-11-03T13:24:34.073Z"
   },
   {
    "duration": 25,
    "start_time": "2022-11-03T13:24:34.083Z"
   },
   {
    "duration": 27,
    "start_time": "2022-11-03T13:24:34.110Z"
   },
   {
    "duration": 3,
    "start_time": "2022-11-03T13:24:34.139Z"
   },
   {
    "duration": 38,
    "start_time": "2022-11-03T13:24:34.144Z"
   },
   {
    "duration": 10,
    "start_time": "2022-11-03T13:25:30.786Z"
   },
   {
    "duration": 6,
    "start_time": "2022-11-03T13:32:37.640Z"
   },
   {
    "duration": 13,
    "start_time": "2022-11-03T13:32:45.580Z"
   },
   {
    "duration": 4,
    "start_time": "2022-11-03T13:36:46.102Z"
   },
   {
    "duration": 15,
    "start_time": "2022-11-03T13:58:23.326Z"
   },
   {
    "duration": 83,
    "start_time": "2022-11-03T14:00:28.390Z"
   },
   {
    "duration": 4,
    "start_time": "2022-11-03T14:00:55.655Z"
   },
   {
    "duration": 74,
    "start_time": "2022-11-03T14:00:55.677Z"
   },
   {
    "duration": 7,
    "start_time": "2022-11-03T14:00:55.754Z"
   },
   {
    "duration": 13,
    "start_time": "2022-11-03T14:00:55.763Z"
   },
   {
    "duration": 12,
    "start_time": "2022-11-03T14:00:55.778Z"
   },
   {
    "duration": 33,
    "start_time": "2022-11-03T14:00:55.792Z"
   },
   {
    "duration": 16,
    "start_time": "2022-11-03T14:00:55.827Z"
   },
   {
    "duration": 1226,
    "start_time": "2022-11-03T14:00:55.846Z"
   },
   {
    "duration": 0,
    "start_time": "2022-11-03T14:00:57.074Z"
   },
   {
    "duration": 0,
    "start_time": "2022-11-03T14:00:57.076Z"
   },
   {
    "duration": 5,
    "start_time": "2022-11-03T14:01:29.357Z"
   },
   {
    "duration": 7,
    "start_time": "2022-11-03T14:01:33.408Z"
   },
   {
    "duration": 12,
    "start_time": "2022-11-03T14:01:42.843Z"
   },
   {
    "duration": 11,
    "start_time": "2022-11-03T14:07:27.122Z"
   },
   {
    "duration": 7,
    "start_time": "2022-11-03T14:08:46.038Z"
   },
   {
    "duration": 4,
    "start_time": "2022-11-03T15:53:34.682Z"
   },
   {
    "duration": 3,
    "start_time": "2022-11-03T15:53:46.578Z"
   },
   {
    "duration": 16,
    "start_time": "2022-11-03T15:54:34.223Z"
   },
   {
    "duration": 16,
    "start_time": "2022-11-03T15:56:05.342Z"
   },
   {
    "duration": 9,
    "start_time": "2022-11-03T15:59:56.502Z"
   },
   {
    "duration": 4,
    "start_time": "2022-11-03T16:01:16.881Z"
   },
   {
    "duration": 3,
    "start_time": "2022-11-03T16:02:56.821Z"
   },
   {
    "duration": 5,
    "start_time": "2022-11-03T16:03:28.794Z"
   },
   {
    "duration": 4,
    "start_time": "2022-11-03T16:12:07.921Z"
   },
   {
    "duration": 3,
    "start_time": "2022-11-03T16:12:12.194Z"
   },
   {
    "duration": 58,
    "start_time": "2022-11-03T16:12:12.215Z"
   },
   {
    "duration": 7,
    "start_time": "2022-11-03T16:12:12.275Z"
   },
   {
    "duration": 12,
    "start_time": "2022-11-03T16:12:12.284Z"
   },
   {
    "duration": 6,
    "start_time": "2022-11-03T16:12:12.318Z"
   },
   {
    "duration": 13,
    "start_time": "2022-11-03T16:12:12.328Z"
   },
   {
    "duration": 4,
    "start_time": "2022-11-03T16:12:12.343Z"
   },
   {
    "duration": 72,
    "start_time": "2022-11-03T16:12:12.348Z"
   },
   {
    "duration": 0,
    "start_time": "2022-11-03T16:12:12.422Z"
   },
   {
    "duration": 0,
    "start_time": "2022-11-03T16:12:12.423Z"
   },
   {
    "duration": 0,
    "start_time": "2022-11-03T16:12:12.424Z"
   },
   {
    "duration": 23,
    "start_time": "2022-11-03T16:14:15.924Z"
   },
   {
    "duration": 21,
    "start_time": "2022-11-03T16:14:43.443Z"
   },
   {
    "duration": 24,
    "start_time": "2022-11-03T16:15:23.480Z"
   },
   {
    "duration": 3,
    "start_time": "2022-11-03T16:15:50.803Z"
   },
   {
    "duration": 62,
    "start_time": "2022-11-03T16:15:50.817Z"
   },
   {
    "duration": 8,
    "start_time": "2022-11-03T16:15:50.881Z"
   },
   {
    "duration": 24,
    "start_time": "2022-11-03T16:15:50.891Z"
   },
   {
    "duration": 32,
    "start_time": "2022-11-03T16:15:50.916Z"
   },
   {
    "duration": 27,
    "start_time": "2022-11-03T16:15:50.950Z"
   },
   {
    "duration": 19,
    "start_time": "2022-11-03T16:15:50.978Z"
   },
   {
    "duration": 71,
    "start_time": "2022-11-03T16:15:50.999Z"
   },
   {
    "duration": 0,
    "start_time": "2022-11-03T16:15:51.071Z"
   },
   {
    "duration": 0,
    "start_time": "2022-11-03T16:15:51.072Z"
   },
   {
    "duration": 0,
    "start_time": "2022-11-03T16:15:51.073Z"
   },
   {
    "duration": 0,
    "start_time": "2022-11-03T16:15:51.074Z"
   },
   {
    "duration": 28,
    "start_time": "2022-11-03T16:16:24.663Z"
   },
   {
    "duration": 18,
    "start_time": "2022-11-03T16:16:59.786Z"
   },
   {
    "duration": 4,
    "start_time": "2022-11-03T16:29:53.245Z"
   },
   {
    "duration": 14,
    "start_time": "2022-11-03T16:31:00.516Z"
   },
   {
    "duration": 3,
    "start_time": "2022-11-03T16:31:08.474Z"
   },
   {
    "duration": 66,
    "start_time": "2022-11-03T16:31:08.500Z"
   },
   {
    "duration": 7,
    "start_time": "2022-11-03T16:31:08.568Z"
   },
   {
    "duration": 15,
    "start_time": "2022-11-03T16:31:08.577Z"
   },
   {
    "duration": 6,
    "start_time": "2022-11-03T16:31:08.593Z"
   },
   {
    "duration": 34,
    "start_time": "2022-11-03T16:31:08.601Z"
   },
   {
    "duration": 4,
    "start_time": "2022-11-03T16:31:08.637Z"
   },
   {
    "duration": 13,
    "start_time": "2022-11-03T16:31:08.643Z"
   },
   {
    "duration": 10,
    "start_time": "2022-11-03T16:31:08.657Z"
   },
   {
    "duration": 4,
    "start_time": "2022-11-03T16:31:08.669Z"
   },
   {
    "duration": 17,
    "start_time": "2022-11-03T16:31:08.675Z"
   },
   {
    "duration": 72,
    "start_time": "2022-11-03T16:39:05.810Z"
   },
   {
    "duration": 5,
    "start_time": "2022-11-03T16:39:27.582Z"
   },
   {
    "duration": 5,
    "start_time": "2022-11-03T16:42:28.995Z"
   },
   {
    "duration": 10,
    "start_time": "2022-11-03T16:42:50.443Z"
   },
   {
    "duration": 5,
    "start_time": "2022-11-03T16:57:24.411Z"
   },
   {
    "duration": 13,
    "start_time": "2022-11-03T16:58:57.128Z"
   },
   {
    "duration": 6,
    "start_time": "2022-11-03T16:59:04.077Z"
   },
   {
    "duration": 7,
    "start_time": "2022-11-03T16:59:33.558Z"
   },
   {
    "duration": 3,
    "start_time": "2022-11-03T17:00:47.921Z"
   },
   {
    "duration": 19,
    "start_time": "2022-11-03T17:02:05.888Z"
   },
   {
    "duration": 3,
    "start_time": "2022-11-03T17:02:18.385Z"
   },
   {
    "duration": 57,
    "start_time": "2022-11-03T17:02:18.399Z"
   },
   {
    "duration": 6,
    "start_time": "2022-11-03T17:02:18.458Z"
   },
   {
    "duration": 12,
    "start_time": "2022-11-03T17:02:18.466Z"
   },
   {
    "duration": 7,
    "start_time": "2022-11-03T17:02:18.480Z"
   },
   {
    "duration": 35,
    "start_time": "2022-11-03T17:02:18.489Z"
   },
   {
    "duration": 3,
    "start_time": "2022-11-03T17:02:18.526Z"
   },
   {
    "duration": 13,
    "start_time": "2022-11-03T17:02:18.531Z"
   },
   {
    "duration": 10,
    "start_time": "2022-11-03T17:02:18.546Z"
   },
   {
    "duration": 8,
    "start_time": "2022-11-03T17:02:18.557Z"
   },
   {
    "duration": 11,
    "start_time": "2022-11-03T17:02:18.566Z"
   },
   {
    "duration": 7,
    "start_time": "2022-11-03T17:02:18.579Z"
   },
   {
    "duration": 42,
    "start_time": "2022-11-03T17:02:18.587Z"
   },
   {
    "duration": 22,
    "start_time": "2022-11-03T17:02:18.630Z"
   },
   {
    "duration": 19,
    "start_time": "2022-11-03T17:03:52.143Z"
   },
   {
    "duration": 80,
    "start_time": "2022-11-03T17:06:37.333Z"
   },
   {
    "duration": 3,
    "start_time": "2022-11-03T17:07:17.071Z"
   },
   {
    "duration": 55,
    "start_time": "2022-11-03T17:07:17.085Z"
   },
   {
    "duration": 7,
    "start_time": "2022-11-03T17:07:17.142Z"
   },
   {
    "duration": 18,
    "start_time": "2022-11-03T17:07:17.151Z"
   },
   {
    "duration": 5,
    "start_time": "2022-11-03T17:07:17.171Z"
   },
   {
    "duration": 15,
    "start_time": "2022-11-03T17:07:17.178Z"
   },
   {
    "duration": 4,
    "start_time": "2022-11-03T17:07:17.195Z"
   },
   {
    "duration": 30,
    "start_time": "2022-11-03T17:07:17.200Z"
   },
   {
    "duration": 10,
    "start_time": "2022-11-03T17:07:17.232Z"
   },
   {
    "duration": 76,
    "start_time": "2022-11-03T17:07:17.244Z"
   },
   {
    "duration": 0,
    "start_time": "2022-11-03T17:07:17.322Z"
   },
   {
    "duration": 0,
    "start_time": "2022-11-03T17:07:17.323Z"
   },
   {
    "duration": 0,
    "start_time": "2022-11-03T17:07:17.324Z"
   },
   {
    "duration": 0,
    "start_time": "2022-11-03T17:07:17.326Z"
   },
   {
    "duration": 4,
    "start_time": "2022-11-03T17:07:40.594Z"
   },
   {
    "duration": 3,
    "start_time": "2022-11-03T17:07:46.058Z"
   },
   {
    "duration": 58,
    "start_time": "2022-11-03T17:07:46.070Z"
   },
   {
    "duration": 8,
    "start_time": "2022-11-03T17:07:46.130Z"
   },
   {
    "duration": 12,
    "start_time": "2022-11-03T17:07:46.140Z"
   },
   {
    "duration": 5,
    "start_time": "2022-11-03T17:07:46.154Z"
   },
   {
    "duration": 12,
    "start_time": "2022-11-03T17:07:46.161Z"
   },
   {
    "duration": 4,
    "start_time": "2022-11-03T17:07:46.175Z"
   },
   {
    "duration": 48,
    "start_time": "2022-11-03T17:07:46.180Z"
   },
   {
    "duration": 10,
    "start_time": "2022-11-03T17:07:46.230Z"
   },
   {
    "duration": 5,
    "start_time": "2022-11-03T17:07:46.241Z"
   },
   {
    "duration": 14,
    "start_time": "2022-11-03T17:07:46.247Z"
   },
   {
    "duration": 7,
    "start_time": "2022-11-03T17:07:46.263Z"
   },
   {
    "duration": 5,
    "start_time": "2022-11-03T17:07:46.272Z"
   },
   {
    "duration": 9,
    "start_time": "2022-11-03T17:07:46.278Z"
   },
   {
    "duration": 12,
    "start_time": "2022-11-03T17:08:09.010Z"
   },
   {
    "duration": 9,
    "start_time": "2022-11-03T17:08:49.968Z"
   },
   {
    "duration": 16,
    "start_time": "2022-11-03T17:09:53.037Z"
   },
   {
    "duration": 18,
    "start_time": "2022-11-03T17:10:15.288Z"
   },
   {
    "duration": 4,
    "start_time": "2022-11-03T17:12:22.014Z"
   },
   {
    "duration": 67,
    "start_time": "2022-11-03T17:12:22.043Z"
   },
   {
    "duration": 8,
    "start_time": "2022-11-03T17:12:22.113Z"
   },
   {
    "duration": 15,
    "start_time": "2022-11-03T17:12:22.123Z"
   },
   {
    "duration": 6,
    "start_time": "2022-11-03T17:12:22.139Z"
   },
   {
    "duration": 12,
    "start_time": "2022-11-03T17:12:22.148Z"
   },
   {
    "duration": 3,
    "start_time": "2022-11-03T17:12:22.162Z"
   },
   {
    "duration": 12,
    "start_time": "2022-11-03T17:12:22.167Z"
   },
   {
    "duration": 43,
    "start_time": "2022-11-03T17:12:22.181Z"
   },
   {
    "duration": 6,
    "start_time": "2022-11-03T17:12:22.226Z"
   },
   {
    "duration": 13,
    "start_time": "2022-11-03T17:12:22.233Z"
   },
   {
    "duration": 7,
    "start_time": "2022-11-03T17:12:22.247Z"
   },
   {
    "duration": 6,
    "start_time": "2022-11-03T17:12:22.256Z"
   },
   {
    "duration": 9,
    "start_time": "2022-11-03T17:12:22.264Z"
   },
   {
    "duration": 8,
    "start_time": "2022-11-03T17:13:36.473Z"
   },
   {
    "duration": 7,
    "start_time": "2022-11-03T17:17:36.245Z"
   },
   {
    "duration": 6,
    "start_time": "2022-11-03T17:17:56.043Z"
   },
   {
    "duration": 3,
    "start_time": "2022-11-03T17:18:13.851Z"
   },
   {
    "duration": 67,
    "start_time": "2022-11-03T17:18:13.862Z"
   },
   {
    "duration": 7,
    "start_time": "2022-11-03T17:18:13.932Z"
   },
   {
    "duration": 44,
    "start_time": "2022-11-03T17:18:13.941Z"
   },
   {
    "duration": 12,
    "start_time": "2022-11-03T17:18:13.987Z"
   },
   {
    "duration": 30,
    "start_time": "2022-11-03T17:18:14.001Z"
   },
   {
    "duration": 14,
    "start_time": "2022-11-03T17:18:14.033Z"
   },
   {
    "duration": 23,
    "start_time": "2022-11-03T17:18:14.049Z"
   },
   {
    "duration": 25,
    "start_time": "2022-11-03T17:18:14.074Z"
   },
   {
    "duration": 16,
    "start_time": "2022-11-03T17:18:14.101Z"
   },
   {
    "duration": 23,
    "start_time": "2022-11-03T17:18:14.119Z"
   },
   {
    "duration": 19,
    "start_time": "2022-11-03T17:18:14.144Z"
   },
   {
    "duration": 17,
    "start_time": "2022-11-03T17:18:14.165Z"
   },
   {
    "duration": 24,
    "start_time": "2022-11-03T17:18:14.183Z"
   },
   {
    "duration": 16,
    "start_time": "2022-11-03T17:18:14.210Z"
   },
   {
    "duration": 3,
    "start_time": "2022-11-03T17:19:42.505Z"
   },
   {
    "duration": 56,
    "start_time": "2022-11-03T17:19:42.518Z"
   },
   {
    "duration": 6,
    "start_time": "2022-11-03T17:19:42.576Z"
   },
   {
    "duration": 16,
    "start_time": "2022-11-03T17:19:42.584Z"
   },
   {
    "duration": 6,
    "start_time": "2022-11-03T17:19:42.602Z"
   },
   {
    "duration": 14,
    "start_time": "2022-11-03T17:19:42.610Z"
   },
   {
    "duration": 5,
    "start_time": "2022-11-03T17:19:42.626Z"
   },
   {
    "duration": 12,
    "start_time": "2022-11-03T17:19:42.632Z"
   },
   {
    "duration": 9,
    "start_time": "2022-11-03T17:19:42.646Z"
   },
   {
    "duration": 7,
    "start_time": "2022-11-03T17:19:42.657Z"
   },
   {
    "duration": 14,
    "start_time": "2022-11-03T17:19:42.666Z"
   },
   {
    "duration": 6,
    "start_time": "2022-11-03T17:19:42.682Z"
   },
   {
    "duration": 36,
    "start_time": "2022-11-03T17:19:42.690Z"
   },
   {
    "duration": 9,
    "start_time": "2022-11-03T17:19:42.728Z"
   },
   {
    "duration": 7,
    "start_time": "2022-11-03T17:19:42.741Z"
   },
   {
    "duration": 3,
    "start_time": "2022-11-03T17:20:04.438Z"
   },
   {
    "duration": 57,
    "start_time": "2022-11-03T17:20:04.456Z"
   },
   {
    "duration": 7,
    "start_time": "2022-11-03T17:20:04.515Z"
   },
   {
    "duration": 18,
    "start_time": "2022-11-03T17:20:04.524Z"
   },
   {
    "duration": 5,
    "start_time": "2022-11-03T17:20:04.544Z"
   },
   {
    "duration": 12,
    "start_time": "2022-11-03T17:20:04.552Z"
   },
   {
    "duration": 4,
    "start_time": "2022-11-03T17:20:04.566Z"
   },
   {
    "duration": 16,
    "start_time": "2022-11-03T17:20:04.572Z"
   },
   {
    "duration": 38,
    "start_time": "2022-11-03T17:20:04.589Z"
   },
   {
    "duration": 17,
    "start_time": "2022-11-03T17:20:04.629Z"
   },
   {
    "duration": 17,
    "start_time": "2022-11-03T17:20:04.648Z"
   },
   {
    "duration": 7,
    "start_time": "2022-11-03T17:20:04.667Z"
   },
   {
    "duration": 5,
    "start_time": "2022-11-03T17:20:04.676Z"
   },
   {
    "duration": 9,
    "start_time": "2022-11-03T17:20:04.683Z"
   },
   {
    "duration": 34,
    "start_time": "2022-11-03T17:20:04.694Z"
   },
   {
    "duration": 3,
    "start_time": "2022-11-03T17:20:19.208Z"
   },
   {
    "duration": 57,
    "start_time": "2022-11-03T17:20:19.225Z"
   },
   {
    "duration": 7,
    "start_time": "2022-11-03T17:20:19.284Z"
   },
   {
    "duration": 22,
    "start_time": "2022-11-03T17:20:19.293Z"
   },
   {
    "duration": 14,
    "start_time": "2022-11-03T17:20:19.317Z"
   },
   {
    "duration": 18,
    "start_time": "2022-11-03T17:20:19.333Z"
   },
   {
    "duration": 5,
    "start_time": "2022-11-03T17:20:19.353Z"
   },
   {
    "duration": 28,
    "start_time": "2022-11-03T17:20:19.359Z"
   },
   {
    "duration": 16,
    "start_time": "2022-11-03T17:20:19.389Z"
   },
   {
    "duration": 5,
    "start_time": "2022-11-03T17:20:19.407Z"
   },
   {
    "duration": 23,
    "start_time": "2022-11-03T17:20:19.413Z"
   },
   {
    "duration": 8,
    "start_time": "2022-11-03T17:20:19.438Z"
   },
   {
    "duration": 5,
    "start_time": "2022-11-03T17:20:19.448Z"
   },
   {
    "duration": 10,
    "start_time": "2022-11-03T17:20:19.455Z"
   },
   {
    "duration": 7,
    "start_time": "2022-11-03T17:20:19.523Z"
   },
   {
    "duration": 3,
    "start_time": "2022-11-03T17:20:41.039Z"
   },
   {
    "duration": 58,
    "start_time": "2022-11-03T17:20:41.056Z"
   },
   {
    "duration": 8,
    "start_time": "2022-11-03T17:20:41.116Z"
   },
   {
    "duration": 16,
    "start_time": "2022-11-03T17:20:41.125Z"
   },
   {
    "duration": 5,
    "start_time": "2022-11-03T17:20:41.143Z"
   },
   {
    "duration": 12,
    "start_time": "2022-11-03T17:20:41.150Z"
   },
   {
    "duration": 4,
    "start_time": "2022-11-03T17:20:41.163Z"
   },
   {
    "duration": 11,
    "start_time": "2022-11-03T17:20:41.169Z"
   },
   {
    "duration": 44,
    "start_time": "2022-11-03T17:20:41.182Z"
   },
   {
    "duration": 5,
    "start_time": "2022-11-03T17:20:41.228Z"
   },
   {
    "duration": 15,
    "start_time": "2022-11-03T17:20:41.235Z"
   },
   {
    "duration": 8,
    "start_time": "2022-11-03T17:20:41.251Z"
   },
   {
    "duration": 5,
    "start_time": "2022-11-03T17:20:41.260Z"
   },
   {
    "duration": 11,
    "start_time": "2022-11-03T17:20:41.267Z"
   },
   {
    "duration": 50,
    "start_time": "2022-11-03T17:20:41.281Z"
   },
   {
    "duration": 3,
    "start_time": "2022-11-03T17:20:51.129Z"
   },
   {
    "duration": 76,
    "start_time": "2022-11-03T17:20:51.140Z"
   },
   {
    "duration": 8,
    "start_time": "2022-11-03T17:20:51.218Z"
   },
   {
    "duration": 33,
    "start_time": "2022-11-03T17:20:51.227Z"
   },
   {
    "duration": 16,
    "start_time": "2022-11-03T17:20:51.262Z"
   },
   {
    "duration": 24,
    "start_time": "2022-11-03T17:20:51.281Z"
   },
   {
    "duration": 19,
    "start_time": "2022-11-03T17:20:51.307Z"
   },
   {
    "duration": 13,
    "start_time": "2022-11-03T17:20:51.327Z"
   },
   {
    "duration": 37,
    "start_time": "2022-11-03T17:20:51.341Z"
   },
   {
    "duration": 23,
    "start_time": "2022-11-03T17:20:51.379Z"
   },
   {
    "duration": 51,
    "start_time": "2022-11-03T17:20:51.404Z"
   },
   {
    "duration": 8,
    "start_time": "2022-11-03T17:20:51.457Z"
   },
   {
    "duration": 11,
    "start_time": "2022-11-03T17:20:51.466Z"
   },
   {
    "duration": 29,
    "start_time": "2022-11-03T17:20:51.479Z"
   },
   {
    "duration": 11,
    "start_time": "2022-11-03T17:20:51.525Z"
   },
   {
    "duration": 3,
    "start_time": "2022-11-03T17:20:55.791Z"
   },
   {
    "duration": 76,
    "start_time": "2022-11-03T17:20:55.796Z"
   },
   {
    "duration": 7,
    "start_time": "2022-11-03T17:20:55.873Z"
   },
   {
    "duration": 35,
    "start_time": "2022-11-03T17:20:55.882Z"
   },
   {
    "duration": 14,
    "start_time": "2022-11-03T17:20:55.919Z"
   },
   {
    "duration": 28,
    "start_time": "2022-11-03T17:20:55.935Z"
   },
   {
    "duration": 7,
    "start_time": "2022-11-03T17:20:55.965Z"
   },
   {
    "duration": 31,
    "start_time": "2022-11-03T17:20:55.973Z"
   },
   {
    "duration": 17,
    "start_time": "2022-11-03T17:20:56.006Z"
   },
   {
    "duration": 21,
    "start_time": "2022-11-03T17:20:56.025Z"
   },
   {
    "duration": 51,
    "start_time": "2022-11-03T17:20:56.048Z"
   },
   {
    "duration": 11,
    "start_time": "2022-11-03T17:20:56.100Z"
   },
   {
    "duration": 23,
    "start_time": "2022-11-03T17:20:56.113Z"
   },
   {
    "duration": 14,
    "start_time": "2022-11-03T17:20:56.138Z"
   },
   {
    "duration": 73,
    "start_time": "2022-11-03T17:20:56.154Z"
   },
   {
    "duration": 3,
    "start_time": "2022-11-03T17:21:08.995Z"
   },
   {
    "duration": 63,
    "start_time": "2022-11-03T17:21:09.009Z"
   },
   {
    "duration": 7,
    "start_time": "2022-11-03T17:21:09.073Z"
   },
   {
    "duration": 28,
    "start_time": "2022-11-03T17:21:09.082Z"
   },
   {
    "duration": 6,
    "start_time": "2022-11-03T17:21:09.112Z"
   },
   {
    "duration": 19,
    "start_time": "2022-11-03T17:21:09.121Z"
   },
   {
    "duration": 4,
    "start_time": "2022-11-03T17:21:09.142Z"
   },
   {
    "duration": 18,
    "start_time": "2022-11-03T17:21:09.147Z"
   },
   {
    "duration": 13,
    "start_time": "2022-11-03T17:21:09.166Z"
   },
   {
    "duration": 11,
    "start_time": "2022-11-03T17:21:09.180Z"
   },
   {
    "duration": 32,
    "start_time": "2022-11-03T17:21:09.192Z"
   },
   {
    "duration": 7,
    "start_time": "2022-11-03T17:21:09.226Z"
   },
   {
    "duration": 6,
    "start_time": "2022-11-03T17:21:09.235Z"
   },
   {
    "duration": 11,
    "start_time": "2022-11-03T17:21:09.243Z"
   },
   {
    "duration": 6,
    "start_time": "2022-11-03T17:21:09.258Z"
   },
   {
    "duration": 4,
    "start_time": "2022-11-03T17:21:22.397Z"
   },
   {
    "duration": 55,
    "start_time": "2022-11-03T17:21:22.410Z"
   },
   {
    "duration": 7,
    "start_time": "2022-11-03T17:21:22.467Z"
   },
   {
    "duration": 20,
    "start_time": "2022-11-03T17:21:22.476Z"
   },
   {
    "duration": 8,
    "start_time": "2022-11-03T17:21:22.497Z"
   },
   {
    "duration": 18,
    "start_time": "2022-11-03T17:21:22.507Z"
   },
   {
    "duration": 4,
    "start_time": "2022-11-03T17:21:22.527Z"
   },
   {
    "duration": 12,
    "start_time": "2022-11-03T17:21:22.532Z"
   },
   {
    "duration": 10,
    "start_time": "2022-11-03T17:21:22.546Z"
   },
   {
    "duration": 4,
    "start_time": "2022-11-03T17:21:22.558Z"
   },
   {
    "duration": 12,
    "start_time": "2022-11-03T17:21:22.563Z"
   },
   {
    "duration": 6,
    "start_time": "2022-11-03T17:21:22.577Z"
   },
   {
    "duration": 42,
    "start_time": "2022-11-03T17:21:22.585Z"
   },
   {
    "duration": 22,
    "start_time": "2022-11-03T17:21:22.629Z"
   },
   {
    "duration": 10,
    "start_time": "2022-11-03T17:21:22.653Z"
   },
   {
    "duration": 3,
    "start_time": "2022-11-03T17:21:57.294Z"
   },
   {
    "duration": 77,
    "start_time": "2022-11-03T17:21:57.305Z"
   },
   {
    "duration": 9,
    "start_time": "2022-11-03T17:21:57.384Z"
   },
   {
    "duration": 31,
    "start_time": "2022-11-03T17:21:57.395Z"
   },
   {
    "duration": 7,
    "start_time": "2022-11-03T17:21:57.429Z"
   },
   {
    "duration": 35,
    "start_time": "2022-11-03T17:21:57.439Z"
   },
   {
    "duration": 4,
    "start_time": "2022-11-03T17:21:57.476Z"
   },
   {
    "duration": 25,
    "start_time": "2022-11-03T17:21:57.482Z"
   },
   {
    "duration": 20,
    "start_time": "2022-11-03T17:21:57.509Z"
   },
   {
    "duration": 5,
    "start_time": "2022-11-03T17:21:57.531Z"
   },
   {
    "duration": 49,
    "start_time": "2022-11-03T17:21:57.538Z"
   },
   {
    "duration": 10,
    "start_time": "2022-11-03T17:21:57.589Z"
   },
   {
    "duration": 18,
    "start_time": "2022-11-03T17:21:57.601Z"
   },
   {
    "duration": 27,
    "start_time": "2022-11-03T17:21:57.622Z"
   },
   {
    "duration": 77,
    "start_time": "2022-11-03T17:21:57.652Z"
   },
   {
    "duration": 3,
    "start_time": "2022-11-03T17:22:08.130Z"
   },
   {
    "duration": 55,
    "start_time": "2022-11-03T17:22:08.156Z"
   },
   {
    "duration": 7,
    "start_time": "2022-11-03T17:22:08.213Z"
   },
   {
    "duration": 13,
    "start_time": "2022-11-03T17:22:08.222Z"
   },
   {
    "duration": 5,
    "start_time": "2022-11-03T17:22:08.237Z"
   },
   {
    "duration": 11,
    "start_time": "2022-11-03T17:22:08.244Z"
   },
   {
    "duration": 3,
    "start_time": "2022-11-03T17:22:08.257Z"
   },
   {
    "duration": 10,
    "start_time": "2022-11-03T17:22:08.262Z"
   },
   {
    "duration": 9,
    "start_time": "2022-11-03T17:22:08.274Z"
   },
   {
    "duration": 5,
    "start_time": "2022-11-03T17:22:08.284Z"
   },
   {
    "duration": 34,
    "start_time": "2022-11-03T17:22:08.324Z"
   },
   {
    "duration": 8,
    "start_time": "2022-11-03T17:22:08.359Z"
   },
   {
    "duration": 5,
    "start_time": "2022-11-03T17:22:08.369Z"
   },
   {
    "duration": 50,
    "start_time": "2022-11-03T17:22:08.376Z"
   },
   {
    "duration": 195,
    "start_time": "2022-11-03T17:22:08.429Z"
   },
   {
    "duration": 3,
    "start_time": "2022-11-03T17:22:19.609Z"
   },
   {
    "duration": 55,
    "start_time": "2022-11-03T17:22:19.618Z"
   },
   {
    "duration": 7,
    "start_time": "2022-11-03T17:22:19.675Z"
   },
   {
    "duration": 23,
    "start_time": "2022-11-03T17:22:19.683Z"
   },
   {
    "duration": 4,
    "start_time": "2022-11-03T17:22:19.708Z"
   },
   {
    "duration": 14,
    "start_time": "2022-11-03T17:22:19.714Z"
   },
   {
    "duration": 3,
    "start_time": "2022-11-03T17:22:19.730Z"
   },
   {
    "duration": 11,
    "start_time": "2022-11-03T17:22:19.735Z"
   },
   {
    "duration": 10,
    "start_time": "2022-11-03T17:22:19.747Z"
   },
   {
    "duration": 10,
    "start_time": "2022-11-03T17:22:19.758Z"
   },
   {
    "duration": 173,
    "start_time": "2022-11-03T17:22:19.770Z"
   },
   {
    "duration": 23,
    "start_time": "2022-11-03T17:22:19.945Z"
   },
   {
    "duration": 6,
    "start_time": "2022-11-03T17:22:19.970Z"
   },
   {
    "duration": 647,
    "start_time": "2022-11-03T17:22:19.978Z"
   },
   {
    "duration": 11,
    "start_time": "2022-11-03T17:22:20.627Z"
   },
   {
    "duration": 11,
    "start_time": "2022-11-03T17:43:36.718Z"
   },
   {
    "duration": 3,
    "start_time": "2022-11-03T17:43:42.662Z"
   },
   {
    "duration": 67,
    "start_time": "2022-11-03T17:43:42.676Z"
   },
   {
    "duration": 7,
    "start_time": "2022-11-03T17:43:42.745Z"
   },
   {
    "duration": 21,
    "start_time": "2022-11-03T17:43:42.753Z"
   },
   {
    "duration": 15,
    "start_time": "2022-11-03T17:43:42.776Z"
   },
   {
    "duration": 15,
    "start_time": "2022-11-03T17:43:42.794Z"
   },
   {
    "duration": 16,
    "start_time": "2022-11-03T17:43:42.812Z"
   },
   {
    "duration": 14,
    "start_time": "2022-11-03T17:43:42.830Z"
   },
   {
    "duration": 15,
    "start_time": "2022-11-03T17:43:42.846Z"
   },
   {
    "duration": 8,
    "start_time": "2022-11-03T17:43:42.863Z"
   },
   {
    "duration": 174,
    "start_time": "2022-11-03T17:43:42.873Z"
   },
   {
    "duration": 19,
    "start_time": "2022-11-03T17:43:43.049Z"
   },
   {
    "duration": 7,
    "start_time": "2022-11-03T17:43:43.069Z"
   },
   {
    "duration": 448,
    "start_time": "2022-11-03T17:43:43.078Z"
   },
   {
    "duration": 101,
    "start_time": "2022-11-03T17:43:43.530Z"
   },
   {
    "duration": 190,
    "start_time": "2022-11-03T17:43:43.635Z"
   },
   {
    "duration": 10,
    "start_time": "2022-11-03T17:44:20.968Z"
   },
   {
    "duration": 344,
    "start_time": "2022-11-03T17:45:04.284Z"
   },
   {
    "duration": 3,
    "start_time": "2022-11-03T17:45:15.225Z"
   },
   {
    "duration": 55,
    "start_time": "2022-11-03T17:45:15.244Z"
   },
   {
    "duration": 7,
    "start_time": "2022-11-03T17:45:15.301Z"
   },
   {
    "duration": 20,
    "start_time": "2022-11-03T17:45:15.309Z"
   },
   {
    "duration": 5,
    "start_time": "2022-11-03T17:45:15.331Z"
   },
   {
    "duration": 23,
    "start_time": "2022-11-03T17:45:15.338Z"
   },
   {
    "duration": 4,
    "start_time": "2022-11-03T17:45:15.363Z"
   },
   {
    "duration": 21,
    "start_time": "2022-11-03T17:45:15.368Z"
   },
   {
    "duration": 11,
    "start_time": "2022-11-03T17:45:15.391Z"
   },
   {
    "duration": 5,
    "start_time": "2022-11-03T17:45:15.404Z"
   },
   {
    "duration": 157,
    "start_time": "2022-11-03T17:45:15.424Z"
   },
   {
    "duration": 20,
    "start_time": "2022-11-03T17:45:15.583Z"
   },
   {
    "duration": 19,
    "start_time": "2022-11-03T17:45:15.605Z"
   },
   {
    "duration": 398,
    "start_time": "2022-11-03T17:45:15.626Z"
   },
   {
    "duration": 100,
    "start_time": "2022-11-03T17:45:16.027Z"
   },
   {
    "duration": 500,
    "start_time": "2022-11-03T17:45:16.132Z"
   },
   {
    "duration": 96,
    "start_time": "2022-11-03T17:45:16.635Z"
   },
   {
    "duration": 3,
    "start_time": "2022-11-03T17:46:23.944Z"
   },
   {
    "duration": 57,
    "start_time": "2022-11-03T17:46:23.954Z"
   },
   {
    "duration": 7,
    "start_time": "2022-11-03T17:46:24.013Z"
   },
   {
    "duration": 14,
    "start_time": "2022-11-03T17:46:24.022Z"
   },
   {
    "duration": 7,
    "start_time": "2022-11-03T17:46:24.038Z"
   },
   {
    "duration": 12,
    "start_time": "2022-11-03T17:46:24.048Z"
   },
   {
    "duration": 4,
    "start_time": "2022-11-03T17:46:24.062Z"
   },
   {
    "duration": 15,
    "start_time": "2022-11-03T17:46:24.067Z"
   },
   {
    "duration": 42,
    "start_time": "2022-11-03T17:46:24.083Z"
   },
   {
    "duration": 4,
    "start_time": "2022-11-03T17:46:24.127Z"
   },
   {
    "duration": 161,
    "start_time": "2022-11-03T17:46:24.133Z"
   },
   {
    "duration": 18,
    "start_time": "2022-11-03T17:46:24.296Z"
   },
   {
    "duration": 8,
    "start_time": "2022-11-03T17:46:24.323Z"
   },
   {
    "duration": 8,
    "start_time": "2022-11-03T17:46:24.333Z"
   },
   {
    "duration": 384,
    "start_time": "2022-11-03T17:46:24.344Z"
   },
   {
    "duration": 99,
    "start_time": "2022-11-03T17:46:24.731Z"
   },
   {
    "duration": 896,
    "start_time": "2022-11-03T17:46:24.832Z"
   },
   {
    "duration": 98,
    "start_time": "2022-11-03T17:46:25.731Z"
   },
   {
    "duration": 1119,
    "start_time": "2022-11-03T17:47:13.411Z"
   },
   {
    "duration": 3,
    "start_time": "2022-11-03T17:47:22.511Z"
   },
   {
    "duration": 54,
    "start_time": "2022-11-03T17:47:22.529Z"
   },
   {
    "duration": 7,
    "start_time": "2022-11-03T17:47:22.586Z"
   },
   {
    "duration": 14,
    "start_time": "2022-11-03T17:47:22.595Z"
   },
   {
    "duration": 6,
    "start_time": "2022-11-03T17:47:22.611Z"
   },
   {
    "duration": 13,
    "start_time": "2022-11-03T17:47:22.624Z"
   },
   {
    "duration": 4,
    "start_time": "2022-11-03T17:47:22.639Z"
   },
   {
    "duration": 18,
    "start_time": "2022-11-03T17:47:22.645Z"
   },
   {
    "duration": 26,
    "start_time": "2022-11-03T17:47:22.665Z"
   },
   {
    "duration": 11,
    "start_time": "2022-11-03T17:47:22.693Z"
   },
   {
    "duration": 166,
    "start_time": "2022-11-03T17:47:22.706Z"
   },
   {
    "duration": 19,
    "start_time": "2022-11-03T17:47:22.875Z"
   },
   {
    "duration": 6,
    "start_time": "2022-11-03T17:47:22.896Z"
   },
   {
    "duration": 621,
    "start_time": "2022-11-03T17:47:22.904Z"
   },
   {
    "duration": 16,
    "start_time": "2022-11-03T17:47:23.528Z"
   },
   {
    "duration": 409,
    "start_time": "2022-11-03T17:47:23.625Z"
   },
   {
    "duration": 99,
    "start_time": "2022-11-03T17:47:24.125Z"
   },
   {
    "duration": 29,
    "start_time": "2022-11-03T17:47:53.818Z"
   },
   {
    "duration": 24,
    "start_time": "2022-11-03T17:48:35.976Z"
   },
   {
    "duration": 3,
    "start_time": "2022-11-03T17:49:03.428Z"
   },
   {
    "duration": 53,
    "start_time": "2022-11-03T17:49:03.460Z"
   },
   {
    "duration": 7,
    "start_time": "2022-11-03T17:49:03.515Z"
   },
   {
    "duration": 12,
    "start_time": "2022-11-03T17:49:03.524Z"
   },
   {
    "duration": 5,
    "start_time": "2022-11-03T17:49:03.538Z"
   },
   {
    "duration": 11,
    "start_time": "2022-11-03T17:49:03.545Z"
   },
   {
    "duration": 4,
    "start_time": "2022-11-03T17:49:03.558Z"
   },
   {
    "duration": 15,
    "start_time": "2022-11-03T17:49:03.564Z"
   },
   {
    "duration": 10,
    "start_time": "2022-11-03T17:49:03.581Z"
   },
   {
    "duration": 33,
    "start_time": "2022-11-03T17:49:03.592Z"
   },
   {
    "duration": 160,
    "start_time": "2022-11-03T17:49:03.627Z"
   },
   {
    "duration": 21,
    "start_time": "2022-11-03T17:49:03.789Z"
   },
   {
    "duration": 27,
    "start_time": "2022-11-03T17:49:03.812Z"
   },
   {
    "duration": 6,
    "start_time": "2022-11-03T17:49:03.841Z"
   },
   {
    "duration": 375,
    "start_time": "2022-11-03T17:49:03.849Z"
   },
   {
    "duration": 98,
    "start_time": "2022-11-03T17:49:04.226Z"
   },
   {
    "duration": 501,
    "start_time": "2022-11-03T17:49:04.326Z"
   },
   {
    "duration": 109,
    "start_time": "2022-11-03T17:49:04.831Z"
   },
   {
    "duration": 12,
    "start_time": "2022-11-03T17:49:04.941Z"
   },
   {
    "duration": 22,
    "start_time": "2022-11-03T17:49:44.157Z"
   },
   {
    "duration": 9,
    "start_time": "2022-11-03T17:52:32.866Z"
   },
   {
    "duration": 3,
    "start_time": "2022-11-03T17:52:41.360Z"
   },
   {
    "duration": 59,
    "start_time": "2022-11-03T17:52:41.385Z"
   },
   {
    "duration": 8,
    "start_time": "2022-11-03T17:52:41.446Z"
   },
   {
    "duration": 14,
    "start_time": "2022-11-03T17:52:41.455Z"
   },
   {
    "duration": 6,
    "start_time": "2022-11-03T17:52:41.471Z"
   },
   {
    "duration": 14,
    "start_time": "2022-11-03T17:52:41.480Z"
   },
   {
    "duration": 5,
    "start_time": "2022-11-03T17:52:41.523Z"
   },
   {
    "duration": 13,
    "start_time": "2022-11-03T17:52:41.530Z"
   },
   {
    "duration": 11,
    "start_time": "2022-11-03T17:52:41.545Z"
   },
   {
    "duration": 6,
    "start_time": "2022-11-03T17:52:41.558Z"
   },
   {
    "duration": 190,
    "start_time": "2022-11-03T17:52:41.566Z"
   },
   {
    "duration": 23,
    "start_time": "2022-11-03T17:52:41.758Z"
   },
   {
    "duration": 20,
    "start_time": "2022-11-03T17:52:41.782Z"
   },
   {
    "duration": 25,
    "start_time": "2022-11-03T17:52:41.804Z"
   },
   {
    "duration": 200,
    "start_time": "2022-11-03T17:52:41.832Z"
   },
   {
    "duration": 103,
    "start_time": "2022-11-03T17:52:42.035Z"
   },
   {
    "duration": 10,
    "start_time": "2022-11-03T17:52:42.225Z"
   },
   {
    "duration": 90,
    "start_time": "2022-11-03T17:52:42.237Z"
   },
   {
    "duration": 0,
    "start_time": "2022-11-03T17:52:42.329Z"
   },
   {
    "duration": 9,
    "start_time": "2022-11-03T17:52:56.513Z"
   },
   {
    "duration": 11,
    "start_time": "2022-11-03T17:53:16.986Z"
   },
   {
    "duration": 13,
    "start_time": "2022-11-03T17:54:25.053Z"
   },
   {
    "duration": 4,
    "start_time": "2022-11-03T17:54:46.058Z"
   },
   {
    "duration": 66,
    "start_time": "2022-11-03T17:54:46.080Z"
   },
   {
    "duration": 8,
    "start_time": "2022-11-03T17:54:46.148Z"
   },
   {
    "duration": 14,
    "start_time": "2022-11-03T17:54:46.157Z"
   },
   {
    "duration": 5,
    "start_time": "2022-11-03T17:54:46.172Z"
   },
   {
    "duration": 12,
    "start_time": "2022-11-03T17:54:46.179Z"
   },
   {
    "duration": 34,
    "start_time": "2022-11-03T17:54:46.192Z"
   },
   {
    "duration": 12,
    "start_time": "2022-11-03T17:54:46.227Z"
   },
   {
    "duration": 12,
    "start_time": "2022-11-03T17:54:46.241Z"
   },
   {
    "duration": 4,
    "start_time": "2022-11-03T17:54:46.255Z"
   },
   {
    "duration": 179,
    "start_time": "2022-11-03T17:54:46.261Z"
   },
   {
    "duration": 21,
    "start_time": "2022-11-03T17:54:46.442Z"
   },
   {
    "duration": 16,
    "start_time": "2022-11-03T17:54:46.465Z"
   },
   {
    "duration": 7,
    "start_time": "2022-11-03T17:54:46.483Z"
   },
   {
    "duration": 535,
    "start_time": "2022-11-03T17:54:46.492Z"
   },
   {
    "duration": 103,
    "start_time": "2022-11-03T17:54:47.029Z"
   },
   {
    "duration": 98,
    "start_time": "2022-11-03T17:54:47.136Z"
   },
   {
    "duration": 9,
    "start_time": "2022-11-03T17:54:47.324Z"
   },
   {
    "duration": 0,
    "start_time": "2022-11-03T17:54:47.335Z"
   },
   {
    "duration": 13,
    "start_time": "2022-11-03T17:55:15.674Z"
   },
   {
    "duration": 13,
    "start_time": "2022-11-03T17:55:18.570Z"
   },
   {
    "duration": 3,
    "start_time": "2022-11-03T17:55:27.019Z"
   },
   {
    "duration": 56,
    "start_time": "2022-11-03T17:55:27.035Z"
   },
   {
    "duration": 8,
    "start_time": "2022-11-03T17:55:27.092Z"
   },
   {
    "duration": 18,
    "start_time": "2022-11-03T17:55:27.101Z"
   },
   {
    "duration": 7,
    "start_time": "2022-11-03T17:55:27.121Z"
   },
   {
    "duration": 12,
    "start_time": "2022-11-03T17:55:27.131Z"
   },
   {
    "duration": 5,
    "start_time": "2022-11-03T17:55:27.145Z"
   },
   {
    "duration": 12,
    "start_time": "2022-11-03T17:55:27.151Z"
   },
   {
    "duration": 10,
    "start_time": "2022-11-03T17:55:27.165Z"
   },
   {
    "duration": 5,
    "start_time": "2022-11-03T17:55:27.177Z"
   },
   {
    "duration": 180,
    "start_time": "2022-11-03T17:55:27.183Z"
   },
   {
    "duration": 17,
    "start_time": "2022-11-03T17:55:27.365Z"
   },
   {
    "duration": 7,
    "start_time": "2022-11-03T17:55:27.384Z"
   },
   {
    "duration": 335,
    "start_time": "2022-11-03T17:55:27.393Z"
   },
   {
    "duration": 96,
    "start_time": "2022-11-03T17:55:27.731Z"
   },
   {
    "duration": 94,
    "start_time": "2022-11-03T17:55:27.830Z"
   },
   {
    "duration": 112,
    "start_time": "2022-11-03T17:55:27.927Z"
   },
   {
    "duration": 9,
    "start_time": "2022-11-03T17:55:28.041Z"
   },
   {
    "duration": 3,
    "start_time": "2022-11-03T17:55:57.508Z"
   },
   {
    "duration": 53,
    "start_time": "2022-11-03T17:55:57.529Z"
   },
   {
    "duration": 7,
    "start_time": "2022-11-03T17:55:57.584Z"
   },
   {
    "duration": 16,
    "start_time": "2022-11-03T17:55:57.593Z"
   },
   {
    "duration": 5,
    "start_time": "2022-11-03T17:55:57.610Z"
   },
   {
    "duration": 13,
    "start_time": "2022-11-03T17:55:57.617Z"
   },
   {
    "duration": 4,
    "start_time": "2022-11-03T17:55:57.631Z"
   },
   {
    "duration": 14,
    "start_time": "2022-11-03T17:55:57.637Z"
   },
   {
    "duration": 9,
    "start_time": "2022-11-03T17:55:57.653Z"
   },
   {
    "duration": 4,
    "start_time": "2022-11-03T17:55:57.664Z"
   },
   {
    "duration": 153,
    "start_time": "2022-11-03T17:55:57.670Z"
   },
   {
    "duration": 16,
    "start_time": "2022-11-03T17:55:57.825Z"
   },
   {
    "duration": 7,
    "start_time": "2022-11-03T17:55:57.843Z"
   },
   {
    "duration": 372,
    "start_time": "2022-11-03T17:55:57.852Z"
   },
   {
    "duration": 99,
    "start_time": "2022-11-03T17:55:58.228Z"
   },
   {
    "duration": 94,
    "start_time": "2022-11-03T17:55:58.330Z"
   },
   {
    "duration": 112,
    "start_time": "2022-11-03T17:55:58.428Z"
   },
   {
    "duration": 11,
    "start_time": "2022-11-03T17:55:58.542Z"
   },
   {
    "duration": 4,
    "start_time": "2022-11-03T17:56:20.931Z"
   },
   {
    "duration": 53,
    "start_time": "2022-11-03T17:56:20.953Z"
   },
   {
    "duration": 7,
    "start_time": "2022-11-03T17:56:21.007Z"
   },
   {
    "duration": 13,
    "start_time": "2022-11-03T17:56:21.015Z"
   },
   {
    "duration": 6,
    "start_time": "2022-11-03T17:56:21.030Z"
   },
   {
    "duration": 14,
    "start_time": "2022-11-03T17:56:21.038Z"
   },
   {
    "duration": 4,
    "start_time": "2022-11-03T17:56:21.054Z"
   },
   {
    "duration": 13,
    "start_time": "2022-11-03T17:56:21.060Z"
   },
   {
    "duration": 11,
    "start_time": "2022-11-03T17:56:21.075Z"
   },
   {
    "duration": 36,
    "start_time": "2022-11-03T17:56:21.088Z"
   },
   {
    "duration": 198,
    "start_time": "2022-11-03T17:56:21.127Z"
   },
   {
    "duration": 20,
    "start_time": "2022-11-03T17:56:21.326Z"
   },
   {
    "duration": 7,
    "start_time": "2022-11-03T17:56:21.348Z"
   },
   {
    "duration": 372,
    "start_time": "2022-11-03T17:56:21.356Z"
   },
   {
    "duration": 99,
    "start_time": "2022-11-03T17:56:21.732Z"
   },
   {
    "duration": 96,
    "start_time": "2022-11-03T17:56:21.834Z"
   },
   {
    "duration": 102,
    "start_time": "2022-11-03T17:56:21.932Z"
   },
   {
    "duration": 13,
    "start_time": "2022-11-03T17:56:22.036Z"
   },
   {
    "duration": 3,
    "start_time": "2022-11-03T17:56:39.852Z"
   },
   {
    "duration": 54,
    "start_time": "2022-11-03T17:56:39.912Z"
   },
   {
    "duration": 7,
    "start_time": "2022-11-03T17:56:39.968Z"
   },
   {
    "duration": 13,
    "start_time": "2022-11-03T17:56:39.976Z"
   },
   {
    "duration": 5,
    "start_time": "2022-11-03T17:56:39.991Z"
   },
   {
    "duration": 25,
    "start_time": "2022-11-03T17:56:39.998Z"
   },
   {
    "duration": 4,
    "start_time": "2022-11-03T17:56:40.025Z"
   },
   {
    "duration": 13,
    "start_time": "2022-11-03T17:56:40.031Z"
   },
   {
    "duration": 10,
    "start_time": "2022-11-03T17:56:40.045Z"
   },
   {
    "duration": 8,
    "start_time": "2022-11-03T17:56:40.056Z"
   },
   {
    "duration": 151,
    "start_time": "2022-11-03T17:56:40.066Z"
   },
   {
    "duration": 19,
    "start_time": "2022-11-03T17:56:40.219Z"
   },
   {
    "duration": 7,
    "start_time": "2022-11-03T17:56:40.240Z"
   },
   {
    "duration": 279,
    "start_time": "2022-11-03T17:56:40.249Z"
   },
   {
    "duration": 102,
    "start_time": "2022-11-03T17:56:40.530Z"
   },
   {
    "duration": 93,
    "start_time": "2022-11-03T17:56:40.634Z"
   },
   {
    "duration": 4,
    "start_time": "2022-11-03T17:56:55.779Z"
   },
   {
    "duration": 54,
    "start_time": "2022-11-03T17:56:55.806Z"
   },
   {
    "duration": 7,
    "start_time": "2022-11-03T17:56:55.862Z"
   },
   {
    "duration": 12,
    "start_time": "2022-11-03T17:56:55.870Z"
   },
   {
    "duration": 5,
    "start_time": "2022-11-03T17:56:55.884Z"
   },
   {
    "duration": 14,
    "start_time": "2022-11-03T17:56:55.892Z"
   },
   {
    "duration": 4,
    "start_time": "2022-11-03T17:56:55.924Z"
   },
   {
    "duration": 13,
    "start_time": "2022-11-03T17:56:55.931Z"
   },
   {
    "duration": 12,
    "start_time": "2022-11-03T17:56:55.946Z"
   },
   {
    "duration": 5,
    "start_time": "2022-11-03T17:56:55.960Z"
   },
   {
    "duration": 16,
    "start_time": "2022-11-03T17:56:55.966Z"
   },
   {
    "duration": 41,
    "start_time": "2022-11-03T17:56:55.983Z"
   },
   {
    "duration": 6,
    "start_time": "2022-11-03T17:56:56.025Z"
   },
   {
    "duration": 13,
    "start_time": "2022-11-03T17:56:56.033Z"
   },
   {
    "duration": 12,
    "start_time": "2022-11-03T17:56:56.049Z"
   },
   {
    "duration": 70,
    "start_time": "2022-11-03T17:56:56.063Z"
   },
   {
    "duration": 3,
    "start_time": "2022-11-03T17:57:09.854Z"
   },
   {
    "duration": 54,
    "start_time": "2022-11-03T17:57:09.876Z"
   },
   {
    "duration": 7,
    "start_time": "2022-11-03T17:57:09.932Z"
   },
   {
    "duration": 15,
    "start_time": "2022-11-03T17:57:09.940Z"
   },
   {
    "duration": 5,
    "start_time": "2022-11-03T17:57:09.957Z"
   },
   {
    "duration": 12,
    "start_time": "2022-11-03T17:57:09.963Z"
   },
   {
    "duration": 4,
    "start_time": "2022-11-03T17:57:09.976Z"
   },
   {
    "duration": 45,
    "start_time": "2022-11-03T17:57:09.982Z"
   },
   {
    "duration": 10,
    "start_time": "2022-11-03T17:57:10.029Z"
   },
   {
    "duration": 6,
    "start_time": "2022-11-03T17:57:10.041Z"
   },
   {
    "duration": 25,
    "start_time": "2022-11-03T17:57:10.049Z"
   },
   {
    "duration": 8,
    "start_time": "2022-11-03T17:57:10.075Z"
   },
   {
    "duration": 5,
    "start_time": "2022-11-03T17:57:10.085Z"
   },
   {
    "duration": 36,
    "start_time": "2022-11-03T17:57:10.092Z"
   },
   {
    "duration": 97,
    "start_time": "2022-11-03T17:57:10.131Z"
   },
   {
    "duration": 98,
    "start_time": "2022-11-03T17:57:10.231Z"
   },
   {
    "duration": 3,
    "start_time": "2022-11-03T17:57:19.698Z"
   },
   {
    "duration": 66,
    "start_time": "2022-11-03T17:57:19.717Z"
   },
   {
    "duration": 8,
    "start_time": "2022-11-03T17:57:19.785Z"
   },
   {
    "duration": 18,
    "start_time": "2022-11-03T17:57:19.795Z"
   },
   {
    "duration": 6,
    "start_time": "2022-11-03T17:57:19.815Z"
   },
   {
    "duration": 14,
    "start_time": "2022-11-03T17:57:19.824Z"
   },
   {
    "duration": 4,
    "start_time": "2022-11-03T17:57:19.841Z"
   },
   {
    "duration": 16,
    "start_time": "2022-11-03T17:57:19.847Z"
   },
   {
    "duration": 11,
    "start_time": "2022-11-03T17:57:19.865Z"
   },
   {
    "duration": 4,
    "start_time": "2022-11-03T17:57:19.878Z"
   },
   {
    "duration": 68,
    "start_time": "2022-11-03T17:57:19.884Z"
   },
   {
    "duration": 10,
    "start_time": "2022-11-03T17:57:19.953Z"
   },
   {
    "duration": 8,
    "start_time": "2022-11-03T17:57:19.965Z"
   },
   {
    "duration": 57,
    "start_time": "2022-11-03T17:57:19.975Z"
   },
   {
    "duration": 191,
    "start_time": "2022-11-03T17:57:20.036Z"
   },
   {
    "duration": 95,
    "start_time": "2022-11-03T17:57:20.229Z"
   },
   {
    "duration": 3,
    "start_time": "2022-11-03T17:57:31.259Z"
   },
   {
    "duration": 69,
    "start_time": "2022-11-03T17:57:31.264Z"
   },
   {
    "duration": 7,
    "start_time": "2022-11-03T17:57:31.335Z"
   },
   {
    "duration": 21,
    "start_time": "2022-11-03T17:57:31.344Z"
   },
   {
    "duration": 16,
    "start_time": "2022-11-03T17:57:31.368Z"
   },
   {
    "duration": 19,
    "start_time": "2022-11-03T17:57:31.386Z"
   },
   {
    "duration": 4,
    "start_time": "2022-11-03T17:57:31.408Z"
   },
   {
    "duration": 11,
    "start_time": "2022-11-03T17:57:31.425Z"
   },
   {
    "duration": 10,
    "start_time": "2022-11-03T17:57:31.438Z"
   },
   {
    "duration": 4,
    "start_time": "2022-11-03T17:57:31.450Z"
   },
   {
    "duration": 45,
    "start_time": "2022-11-03T17:57:31.456Z"
   },
   {
    "duration": 29,
    "start_time": "2022-11-03T17:57:31.503Z"
   },
   {
    "duration": 6,
    "start_time": "2022-11-03T17:57:31.533Z"
   },
   {
    "duration": 87,
    "start_time": "2022-11-03T17:57:31.542Z"
   },
   {
    "duration": 98,
    "start_time": "2022-11-03T17:57:31.630Z"
   },
   {
    "duration": 95,
    "start_time": "2022-11-03T17:57:31.731Z"
   },
   {
    "duration": 3,
    "start_time": "2022-11-03T17:58:13.371Z"
   },
   {
    "duration": 59,
    "start_time": "2022-11-03T17:58:13.375Z"
   },
   {
    "duration": 6,
    "start_time": "2022-11-03T17:58:13.436Z"
   },
   {
    "duration": 12,
    "start_time": "2022-11-03T17:58:13.444Z"
   },
   {
    "duration": 4,
    "start_time": "2022-11-03T17:58:13.458Z"
   },
   {
    "duration": 12,
    "start_time": "2022-11-03T17:58:13.464Z"
   },
   {
    "duration": 4,
    "start_time": "2022-11-03T17:58:13.477Z"
   },
   {
    "duration": 11,
    "start_time": "2022-11-03T17:58:13.483Z"
   },
   {
    "duration": 9,
    "start_time": "2022-11-03T17:58:13.525Z"
   },
   {
    "duration": 4,
    "start_time": "2022-11-03T17:58:13.536Z"
   },
   {
    "duration": 24,
    "start_time": "2022-11-03T17:58:13.542Z"
   },
   {
    "duration": 6,
    "start_time": "2022-11-03T17:58:13.568Z"
   },
   {
    "duration": 5,
    "start_time": "2022-11-03T17:58:13.576Z"
   },
   {
    "duration": 43,
    "start_time": "2022-11-03T17:58:13.582Z"
   },
   {
    "duration": 100,
    "start_time": "2022-11-03T17:58:13.627Z"
   },
   {
    "duration": 9,
    "start_time": "2022-11-03T17:58:13.729Z"
   },
   {
    "duration": 3,
    "start_time": "2022-11-03T17:58:22.997Z"
   },
   {
    "duration": 52,
    "start_time": "2022-11-03T17:58:23.015Z"
   },
   {
    "duration": 7,
    "start_time": "2022-11-03T17:58:23.069Z"
   },
   {
    "duration": 14,
    "start_time": "2022-11-03T17:58:23.078Z"
   },
   {
    "duration": 5,
    "start_time": "2022-11-03T17:58:23.093Z"
   },
   {
    "duration": 24,
    "start_time": "2022-11-03T17:58:23.101Z"
   },
   {
    "duration": 4,
    "start_time": "2022-11-03T17:58:23.127Z"
   },
   {
    "duration": 12,
    "start_time": "2022-11-03T17:58:23.133Z"
   },
   {
    "duration": 10,
    "start_time": "2022-11-03T17:58:23.147Z"
   },
   {
    "duration": 5,
    "start_time": "2022-11-03T17:58:23.159Z"
   },
   {
    "duration": 159,
    "start_time": "2022-11-03T17:58:23.166Z"
   },
   {
    "duration": 10,
    "start_time": "2022-11-03T17:58:23.327Z"
   },
   {
    "duration": 5,
    "start_time": "2022-11-03T17:58:23.339Z"
   },
   {
    "duration": 179,
    "start_time": "2022-11-03T17:58:23.346Z"
   },
   {
    "duration": 99,
    "start_time": "2022-11-03T17:58:23.528Z"
   },
   {
    "duration": 97,
    "start_time": "2022-11-03T17:58:23.630Z"
   },
   {
    "duration": 3,
    "start_time": "2022-11-03T17:58:33.747Z"
   },
   {
    "duration": 53,
    "start_time": "2022-11-03T17:58:33.769Z"
   },
   {
    "duration": 9,
    "start_time": "2022-11-03T17:58:33.824Z"
   },
   {
    "duration": 15,
    "start_time": "2022-11-03T17:58:33.834Z"
   },
   {
    "duration": 5,
    "start_time": "2022-11-03T17:58:33.850Z"
   },
   {
    "duration": 12,
    "start_time": "2022-11-03T17:58:33.858Z"
   },
   {
    "duration": 4,
    "start_time": "2022-11-03T17:58:33.872Z"
   },
   {
    "duration": 49,
    "start_time": "2022-11-03T17:58:33.877Z"
   },
   {
    "duration": 9,
    "start_time": "2022-11-03T17:58:33.928Z"
   },
   {
    "duration": 4,
    "start_time": "2022-11-03T17:58:33.939Z"
   },
   {
    "duration": 1400,
    "start_time": "2022-11-03T17:58:33.944Z"
   },
   {
    "duration": 80,
    "start_time": "2022-11-03T17:58:35.346Z"
   },
   {
    "duration": 18,
    "start_time": "2022-11-03T17:58:35.428Z"
   },
   {
    "duration": 6182,
    "start_time": "2022-11-03T17:58:35.448Z"
   },
   {
    "duration": 210,
    "start_time": "2022-11-03T17:58:41.633Z"
   },
   {
    "duration": 103,
    "start_time": "2022-11-03T17:58:41.928Z"
   },
   {
    "duration": 3,
    "start_time": "2022-11-03T17:59:07.268Z"
   },
   {
    "duration": 64,
    "start_time": "2022-11-03T17:59:07.290Z"
   },
   {
    "duration": 7,
    "start_time": "2022-11-03T17:59:07.356Z"
   },
   {
    "duration": 12,
    "start_time": "2022-11-03T17:59:07.364Z"
   },
   {
    "duration": 5,
    "start_time": "2022-11-03T17:59:07.378Z"
   },
   {
    "duration": 39,
    "start_time": "2022-11-03T17:59:07.385Z"
   },
   {
    "duration": 4,
    "start_time": "2022-11-03T17:59:07.426Z"
   },
   {
    "duration": 11,
    "start_time": "2022-11-03T17:59:07.431Z"
   },
   {
    "duration": 9,
    "start_time": "2022-11-03T17:59:07.443Z"
   },
   {
    "duration": 3,
    "start_time": "2022-11-03T17:59:07.454Z"
   },
   {
    "duration": 395,
    "start_time": "2022-11-03T17:59:07.459Z"
   },
   {
    "duration": 20,
    "start_time": "2022-11-03T17:59:07.856Z"
   },
   {
    "duration": 8,
    "start_time": "2022-11-03T17:59:07.878Z"
   },
   {
    "duration": 543,
    "start_time": "2022-11-03T17:59:07.887Z"
   },
   {
    "duration": 99,
    "start_time": "2022-11-03T17:59:08.433Z"
   },
   {
    "duration": 103,
    "start_time": "2022-11-03T17:59:08.534Z"
   },
   {
    "duration": 3,
    "start_time": "2022-11-03T17:59:20.847Z"
   },
   {
    "duration": 55,
    "start_time": "2022-11-03T17:59:20.877Z"
   },
   {
    "duration": 7,
    "start_time": "2022-11-03T17:59:20.935Z"
   },
   {
    "duration": 17,
    "start_time": "2022-11-03T17:59:20.943Z"
   },
   {
    "duration": 5,
    "start_time": "2022-11-03T17:59:20.962Z"
   },
   {
    "duration": 15,
    "start_time": "2022-11-03T17:59:20.969Z"
   },
   {
    "duration": 4,
    "start_time": "2022-11-03T17:59:20.986Z"
   },
   {
    "duration": 39,
    "start_time": "2022-11-03T17:59:20.991Z"
   },
   {
    "duration": 10,
    "start_time": "2022-11-03T17:59:21.032Z"
   },
   {
    "duration": 10,
    "start_time": "2022-11-03T17:59:21.043Z"
   },
   {
    "duration": 264,
    "start_time": "2022-11-03T17:59:21.055Z"
   },
   {
    "duration": 18,
    "start_time": "2022-11-03T17:59:21.321Z"
   },
   {
    "duration": 7,
    "start_time": "2022-11-03T17:59:21.341Z"
   },
   {
    "duration": 278,
    "start_time": "2022-11-03T17:59:21.350Z"
   },
   {
    "duration": 96,
    "start_time": "2022-11-03T17:59:21.632Z"
   },
   {
    "duration": 105,
    "start_time": "2022-11-03T17:59:21.730Z"
   },
   {
    "duration": 3,
    "start_time": "2022-11-03T17:59:38.084Z"
   },
   {
    "duration": 53,
    "start_time": "2022-11-03T17:59:38.102Z"
   },
   {
    "duration": 6,
    "start_time": "2022-11-03T17:59:38.157Z"
   },
   {
    "duration": 13,
    "start_time": "2022-11-03T17:59:38.165Z"
   },
   {
    "duration": 5,
    "start_time": "2022-11-03T17:59:38.179Z"
   },
   {
    "duration": 11,
    "start_time": "2022-11-03T17:59:38.186Z"
   },
   {
    "duration": 4,
    "start_time": "2022-11-03T17:59:38.224Z"
   },
   {
    "duration": 13,
    "start_time": "2022-11-03T17:59:38.229Z"
   },
   {
    "duration": 10,
    "start_time": "2022-11-03T17:59:38.243Z"
   },
   {
    "duration": 5,
    "start_time": "2022-11-03T17:59:38.255Z"
   },
   {
    "duration": 679,
    "start_time": "2022-11-03T17:59:38.262Z"
   },
   {
    "duration": 26,
    "start_time": "2022-11-03T17:59:38.943Z"
   },
   {
    "duration": 10,
    "start_time": "2022-11-03T17:59:38.970Z"
   },
   {
    "duration": 1261,
    "start_time": "2022-11-03T17:59:38.981Z"
   },
   {
    "duration": 100,
    "start_time": "2022-11-03T17:59:40.327Z"
   },
   {
    "duration": 102,
    "start_time": "2022-11-03T17:59:40.429Z"
   },
   {
    "duration": 12,
    "start_time": "2022-11-03T18:08:15.050Z"
   },
   {
    "duration": 6,
    "start_time": "2022-11-03T18:08:34.002Z"
   },
   {
    "duration": 16,
    "start_time": "2022-11-03T18:08:48.479Z"
   },
   {
    "duration": 11,
    "start_time": "2022-11-03T18:09:13.693Z"
   },
   {
    "duration": 10,
    "start_time": "2022-11-03T18:09:19.683Z"
   },
   {
    "duration": 7,
    "start_time": "2022-11-03T18:09:23.429Z"
   },
   {
    "duration": 3,
    "start_time": "2022-11-03T18:09:57.752Z"
   },
   {
    "duration": 55,
    "start_time": "2022-11-03T18:09:57.772Z"
   },
   {
    "duration": 8,
    "start_time": "2022-11-03T18:09:57.830Z"
   },
   {
    "duration": 15,
    "start_time": "2022-11-03T18:09:57.839Z"
   },
   {
    "duration": 5,
    "start_time": "2022-11-03T18:09:57.856Z"
   },
   {
    "duration": 12,
    "start_time": "2022-11-03T18:09:57.863Z"
   },
   {
    "duration": 4,
    "start_time": "2022-11-03T18:09:57.876Z"
   },
   {
    "duration": 46,
    "start_time": "2022-11-03T18:09:57.882Z"
   },
   {
    "duration": 10,
    "start_time": "2022-11-03T18:09:57.930Z"
   },
   {
    "duration": 5,
    "start_time": "2022-11-03T18:09:57.941Z"
   },
   {
    "duration": 7,
    "start_time": "2022-11-03T18:09:57.948Z"
   },
   {
    "duration": 5,
    "start_time": "2022-11-03T18:09:57.957Z"
   },
   {
    "duration": 668,
    "start_time": "2022-11-03T18:09:57.964Z"
   },
   {
    "duration": 87,
    "start_time": "2022-11-03T18:09:58.633Z"
   },
   {
    "duration": 0,
    "start_time": "2022-11-03T18:09:58.722Z"
   },
   {
    "duration": 0,
    "start_time": "2022-11-03T18:09:58.724Z"
   },
   {
    "duration": 0,
    "start_time": "2022-11-03T18:09:58.725Z"
   },
   {
    "duration": 3,
    "start_time": "2022-11-03T18:10:15.282Z"
   },
   {
    "duration": 57,
    "start_time": "2022-11-03T18:10:15.306Z"
   },
   {
    "duration": 8,
    "start_time": "2022-11-03T18:10:15.365Z"
   },
   {
    "duration": 21,
    "start_time": "2022-11-03T18:10:15.374Z"
   },
   {
    "duration": 6,
    "start_time": "2022-11-03T18:10:15.398Z"
   },
   {
    "duration": 34,
    "start_time": "2022-11-03T18:10:15.407Z"
   },
   {
    "duration": 5,
    "start_time": "2022-11-03T18:10:15.442Z"
   },
   {
    "duration": 15,
    "start_time": "2022-11-03T18:10:15.448Z"
   },
   {
    "duration": 10,
    "start_time": "2022-11-03T18:10:15.465Z"
   },
   {
    "duration": 4,
    "start_time": "2022-11-03T18:10:15.477Z"
   },
   {
    "duration": 683,
    "start_time": "2022-11-03T18:10:15.483Z"
   },
   {
    "duration": 26,
    "start_time": "2022-11-03T18:10:16.168Z"
   },
   {
    "duration": 9,
    "start_time": "2022-11-03T18:10:16.196Z"
   },
   {
    "duration": 1408,
    "start_time": "2022-11-03T18:10:16.224Z"
   },
   {
    "duration": 192,
    "start_time": "2022-11-03T18:10:17.636Z"
   },
   {
    "duration": 98,
    "start_time": "2022-11-03T18:10:17.831Z"
   },
   {
    "duration": 103,
    "start_time": "2022-11-03T18:10:17.931Z"
   },
   {
    "duration": 3,
    "start_time": "2022-11-03T18:10:34.282Z"
   },
   {
    "duration": 53,
    "start_time": "2022-11-03T18:10:34.297Z"
   },
   {
    "duration": 7,
    "start_time": "2022-11-03T18:10:34.352Z"
   },
   {
    "duration": 14,
    "start_time": "2022-11-03T18:10:34.361Z"
   },
   {
    "duration": 6,
    "start_time": "2022-11-03T18:10:34.376Z"
   },
   {
    "duration": 12,
    "start_time": "2022-11-03T18:10:34.384Z"
   },
   {
    "duration": 30,
    "start_time": "2022-11-03T18:10:34.397Z"
   },
   {
    "duration": 12,
    "start_time": "2022-11-03T18:10:34.429Z"
   },
   {
    "duration": 11,
    "start_time": "2022-11-03T18:10:34.443Z"
   },
   {
    "duration": 7,
    "start_time": "2022-11-03T18:10:34.455Z"
   },
   {
    "duration": 14,
    "start_time": "2022-11-03T18:10:34.463Z"
   },
   {
    "duration": 7,
    "start_time": "2022-11-03T18:10:34.479Z"
   },
   {
    "duration": 39,
    "start_time": "2022-11-03T18:10:34.488Z"
   },
   {
    "duration": 10,
    "start_time": "2022-11-03T18:10:34.529Z"
   },
   {
    "duration": 8,
    "start_time": "2022-11-03T18:10:34.542Z"
   },
   {
    "duration": 85,
    "start_time": "2022-11-03T18:10:34.552Z"
   },
   {
    "duration": 7,
    "start_time": "2022-11-03T18:10:34.724Z"
   },
   {
    "duration": 7,
    "start_time": "2022-11-03T18:10:59.482Z"
   },
   {
    "duration": 4,
    "start_time": "2022-11-03T18:11:11.409Z"
   },
   {
    "duration": 53,
    "start_time": "2022-11-03T18:11:11.446Z"
   },
   {
    "duration": 8,
    "start_time": "2022-11-03T18:11:11.501Z"
   },
   {
    "duration": 35,
    "start_time": "2022-11-03T18:11:11.510Z"
   },
   {
    "duration": 6,
    "start_time": "2022-11-03T18:11:11.547Z"
   },
   {
    "duration": 32,
    "start_time": "2022-11-03T18:11:11.555Z"
   },
   {
    "duration": 13,
    "start_time": "2022-11-03T18:11:11.589Z"
   },
   {
    "duration": 29,
    "start_time": "2022-11-03T18:11:11.603Z"
   },
   {
    "duration": 13,
    "start_time": "2022-11-03T18:11:11.634Z"
   },
   {
    "duration": 38,
    "start_time": "2022-11-03T18:11:11.649Z"
   },
   {
    "duration": 34,
    "start_time": "2022-11-03T18:11:11.689Z"
   },
   {
    "duration": 13,
    "start_time": "2022-11-03T18:11:11.725Z"
   },
   {
    "duration": 30,
    "start_time": "2022-11-03T18:11:11.740Z"
   },
   {
    "duration": 20,
    "start_time": "2022-11-03T18:11:11.772Z"
   },
   {
    "duration": 30,
    "start_time": "2022-11-03T18:11:11.795Z"
   },
   {
    "duration": 123,
    "start_time": "2022-11-03T18:11:11.828Z"
   },
   {
    "duration": 22,
    "start_time": "2022-11-03T18:11:11.953Z"
   },
   {
    "duration": 7,
    "start_time": "2022-11-03T18:11:25.174Z"
   },
   {
    "duration": 19,
    "start_time": "2022-11-03T18:11:36.672Z"
   },
   {
    "duration": 3,
    "start_time": "2022-11-03T18:11:38.972Z"
   },
   {
    "duration": 56,
    "start_time": "2022-11-03T18:11:38.984Z"
   },
   {
    "duration": 7,
    "start_time": "2022-11-03T18:11:39.042Z"
   },
   {
    "duration": 16,
    "start_time": "2022-11-03T18:11:39.050Z"
   },
   {
    "duration": 4,
    "start_time": "2022-11-03T18:11:39.068Z"
   },
   {
    "duration": 12,
    "start_time": "2022-11-03T18:11:39.074Z"
   },
   {
    "duration": 4,
    "start_time": "2022-11-03T18:11:39.088Z"
   },
   {
    "duration": 13,
    "start_time": "2022-11-03T18:11:39.123Z"
   },
   {
    "duration": 13,
    "start_time": "2022-11-03T18:11:39.138Z"
   },
   {
    "duration": 7,
    "start_time": "2022-11-03T18:11:39.152Z"
   },
   {
    "duration": 21,
    "start_time": "2022-11-03T18:11:39.161Z"
   },
   {
    "duration": 47,
    "start_time": "2022-11-03T18:11:39.184Z"
   },
   {
    "duration": 6,
    "start_time": "2022-11-03T18:11:39.232Z"
   },
   {
    "duration": 12,
    "start_time": "2022-11-03T18:11:39.240Z"
   },
   {
    "duration": 74,
    "start_time": "2022-11-03T18:11:39.257Z"
   },
   {
    "duration": 94,
    "start_time": "2022-11-03T18:11:39.334Z"
   },
   {
    "duration": 6,
    "start_time": "2022-11-03T18:11:39.430Z"
   },
   {
    "duration": 3,
    "start_time": "2022-11-03T18:12:27.037Z"
   },
   {
    "duration": 56,
    "start_time": "2022-11-03T18:12:27.056Z"
   },
   {
    "duration": 7,
    "start_time": "2022-11-03T18:12:27.114Z"
   },
   {
    "duration": 23,
    "start_time": "2022-11-03T18:12:27.123Z"
   },
   {
    "duration": 6,
    "start_time": "2022-11-03T18:12:27.147Z"
   },
   {
    "duration": 13,
    "start_time": "2022-11-03T18:12:27.156Z"
   },
   {
    "duration": 4,
    "start_time": "2022-11-03T18:12:27.171Z"
   },
   {
    "duration": 12,
    "start_time": "2022-11-03T18:12:27.177Z"
   },
   {
    "duration": 38,
    "start_time": "2022-11-03T18:12:27.191Z"
   },
   {
    "duration": 19,
    "start_time": "2022-11-03T18:12:27.230Z"
   },
   {
    "duration": 33,
    "start_time": "2022-11-03T18:12:27.250Z"
   },
   {
    "duration": 9,
    "start_time": "2022-11-03T18:12:27.285Z"
   },
   {
    "duration": 18,
    "start_time": "2022-11-03T18:12:27.296Z"
   },
   {
    "duration": 15,
    "start_time": "2022-11-03T18:12:27.316Z"
   },
   {
    "duration": 190,
    "start_time": "2022-11-03T18:12:27.335Z"
   },
   {
    "duration": 6,
    "start_time": "2022-11-03T18:12:27.527Z"
   },
   {
    "duration": 18,
    "start_time": "2022-11-03T18:12:27.535Z"
   },
   {
    "duration": 3,
    "start_time": "2022-11-03T18:12:39.842Z"
   },
   {
    "duration": 54,
    "start_time": "2022-11-03T18:12:39.860Z"
   },
   {
    "duration": 8,
    "start_time": "2022-11-03T18:12:39.915Z"
   },
   {
    "duration": 26,
    "start_time": "2022-11-03T18:12:39.924Z"
   },
   {
    "duration": 6,
    "start_time": "2022-11-03T18:12:39.951Z"
   },
   {
    "duration": 12,
    "start_time": "2022-11-03T18:12:39.959Z"
   },
   {
    "duration": 3,
    "start_time": "2022-11-03T18:12:39.973Z"
   },
   {
    "duration": 11,
    "start_time": "2022-11-03T18:12:39.978Z"
   },
   {
    "duration": 36,
    "start_time": "2022-11-03T18:12:39.991Z"
   },
   {
    "duration": 12,
    "start_time": "2022-11-03T18:12:40.029Z"
   },
   {
    "duration": 60,
    "start_time": "2022-11-03T18:12:40.043Z"
   },
   {
    "duration": 9,
    "start_time": "2022-11-03T18:12:40.104Z"
   },
   {
    "duration": 4,
    "start_time": "2022-11-03T18:12:40.115Z"
   },
   {
    "duration": 27,
    "start_time": "2022-11-03T18:12:40.121Z"
   },
   {
    "duration": 106,
    "start_time": "2022-11-03T18:12:40.223Z"
   },
   {
    "duration": 93,
    "start_time": "2022-11-03T18:12:40.332Z"
   },
   {
    "duration": 27,
    "start_time": "2022-11-03T18:12:40.427Z"
   },
   {
    "duration": 3,
    "start_time": "2022-11-03T18:13:16.404Z"
   },
   {
    "duration": 55,
    "start_time": "2022-11-03T18:13:16.427Z"
   },
   {
    "duration": 8,
    "start_time": "2022-11-03T18:13:16.483Z"
   },
   {
    "duration": 13,
    "start_time": "2022-11-03T18:13:16.493Z"
   },
   {
    "duration": 6,
    "start_time": "2022-11-03T18:13:16.507Z"
   },
   {
    "duration": 19,
    "start_time": "2022-11-03T18:13:16.515Z"
   },
   {
    "duration": 5,
    "start_time": "2022-11-03T18:13:16.535Z"
   },
   {
    "duration": 12,
    "start_time": "2022-11-03T18:13:16.542Z"
   },
   {
    "duration": 11,
    "start_time": "2022-11-03T18:13:16.556Z"
   },
   {
    "duration": 4,
    "start_time": "2022-11-03T18:13:16.570Z"
   },
   {
    "duration": 172,
    "start_time": "2022-11-03T18:13:16.576Z"
   },
   {
    "duration": 11,
    "start_time": "2022-11-03T18:13:16.750Z"
   },
   {
    "duration": 6,
    "start_time": "2022-11-03T18:13:16.763Z"
   },
   {
    "duration": 257,
    "start_time": "2022-11-03T18:13:16.770Z"
   },
   {
    "duration": 99,
    "start_time": "2022-11-03T18:13:17.033Z"
   },
   {
    "duration": 95,
    "start_time": "2022-11-03T18:13:17.135Z"
   },
   {
    "duration": 95,
    "start_time": "2022-11-03T18:13:17.233Z"
   },
   {
    "duration": 3,
    "start_time": "2022-11-03T18:13:40.459Z"
   },
   {
    "duration": 56,
    "start_time": "2022-11-03T18:13:40.468Z"
   },
   {
    "duration": 8,
    "start_time": "2022-11-03T18:13:40.526Z"
   },
   {
    "duration": 14,
    "start_time": "2022-11-03T18:13:40.536Z"
   },
   {
    "duration": 6,
    "start_time": "2022-11-03T18:13:40.552Z"
   },
   {
    "duration": 16,
    "start_time": "2022-11-03T18:13:40.560Z"
   },
   {
    "duration": 9,
    "start_time": "2022-11-03T18:13:40.577Z"
   },
   {
    "duration": 13,
    "start_time": "2022-11-03T18:13:40.625Z"
   },
   {
    "duration": 11,
    "start_time": "2022-11-03T18:13:40.639Z"
   },
   {
    "duration": 7,
    "start_time": "2022-11-03T18:13:40.652Z"
   },
   {
    "duration": 407,
    "start_time": "2022-11-03T18:13:40.661Z"
   },
   {
    "duration": 18,
    "start_time": "2022-11-03T18:13:41.069Z"
   },
   {
    "duration": 7,
    "start_time": "2022-11-03T18:13:41.089Z"
   },
   {
    "duration": 930,
    "start_time": "2022-11-03T18:13:41.097Z"
   },
   {
    "duration": 15,
    "start_time": "2022-11-03T18:13:42.030Z"
   },
   {
    "duration": 10,
    "start_time": "2022-11-03T18:13:42.125Z"
   },
   {
    "duration": 100,
    "start_time": "2022-11-03T18:13:42.224Z"
   },
   {
    "duration": 8,
    "start_time": "2022-11-03T18:14:47.353Z"
   },
   {
    "duration": 3,
    "start_time": "2022-11-03T18:23:16.182Z"
   },
   {
    "duration": 54,
    "start_time": "2022-11-03T18:23:16.198Z"
   },
   {
    "duration": 7,
    "start_time": "2022-11-03T18:23:16.254Z"
   },
   {
    "duration": 13,
    "start_time": "2022-11-03T18:23:16.263Z"
   },
   {
    "duration": 5,
    "start_time": "2022-11-03T18:23:16.277Z"
   },
   {
    "duration": 41,
    "start_time": "2022-11-03T18:23:16.284Z"
   },
   {
    "duration": 4,
    "start_time": "2022-11-03T18:23:16.327Z"
   },
   {
    "duration": 13,
    "start_time": "2022-11-03T18:23:16.333Z"
   },
   {
    "duration": 9,
    "start_time": "2022-11-03T18:23:16.348Z"
   },
   {
    "duration": 4,
    "start_time": "2022-11-03T18:23:16.359Z"
   },
   {
    "duration": 396,
    "start_time": "2022-11-03T18:23:16.365Z"
   },
   {
    "duration": 19,
    "start_time": "2022-11-03T18:23:16.763Z"
   },
   {
    "duration": 8,
    "start_time": "2022-11-03T18:23:16.784Z"
   },
   {
    "duration": 633,
    "start_time": "2022-11-03T18:23:16.794Z"
   },
   {
    "duration": 13,
    "start_time": "2022-11-03T18:23:17.430Z"
   },
   {
    "duration": 81,
    "start_time": "2022-11-03T18:23:17.445Z"
   },
   {
    "duration": 101,
    "start_time": "2022-11-03T18:23:17.529Z"
   },
   {
    "duration": 51,
    "start_time": "2022-11-04T08:46:54.157Z"
   },
   {
    "duration": 1115,
    "start_time": "2022-11-04T08:47:00.670Z"
   },
   {
    "duration": 131,
    "start_time": "2022-11-04T08:47:01.788Z"
   },
   {
    "duration": 12,
    "start_time": "2022-11-04T08:47:01.921Z"
   },
   {
    "duration": 48,
    "start_time": "2022-11-04T08:47:01.934Z"
   },
   {
    "duration": 11,
    "start_time": "2022-11-04T08:47:01.984Z"
   },
   {
    "duration": 7,
    "start_time": "2022-11-04T08:47:01.996Z"
   },
   {
    "duration": 48,
    "start_time": "2022-11-04T08:47:02.004Z"
   },
   {
    "duration": 46,
    "start_time": "2022-11-04T08:47:02.053Z"
   },
   {
    "duration": 626,
    "start_time": "2022-11-04T08:47:02.101Z"
   },
   {
    "duration": 5,
    "start_time": "2022-11-04T08:47:02.729Z"
   },
   {
    "duration": 324,
    "start_time": "2022-11-04T08:47:02.735Z"
   },
   {
    "duration": 25,
    "start_time": "2022-11-04T08:47:03.061Z"
   },
   {
    "duration": 8,
    "start_time": "2022-11-04T08:47:03.088Z"
   },
   {
    "duration": 510,
    "start_time": "2022-11-04T08:47:03.109Z"
   },
   {
    "duration": 100,
    "start_time": "2022-11-04T08:47:03.709Z"
   },
   {
    "duration": 98,
    "start_time": "2022-11-04T08:47:03.811Z"
   },
   {
    "duration": 19,
    "start_time": "2022-11-04T08:47:03.911Z"
   },
   {
    "duration": 324,
    "start_time": "2022-11-04T08:47:36.297Z"
   },
   {
    "duration": 2,
    "start_time": "2022-11-04T08:47:44.325Z"
   },
   {
    "duration": 57,
    "start_time": "2022-11-04T08:47:44.342Z"
   },
   {
    "duration": 9,
    "start_time": "2022-11-04T08:47:44.401Z"
   },
   {
    "duration": 14,
    "start_time": "2022-11-04T08:47:44.412Z"
   },
   {
    "duration": 13,
    "start_time": "2022-11-04T08:47:44.428Z"
   },
   {
    "duration": 5,
    "start_time": "2022-11-04T08:47:44.444Z"
   },
   {
    "duration": 13,
    "start_time": "2022-11-04T08:47:44.451Z"
   },
   {
    "duration": 16,
    "start_time": "2022-11-04T08:47:44.466Z"
   },
   {
    "duration": 170,
    "start_time": "2022-11-04T08:47:44.512Z"
   },
   {
    "duration": 0,
    "start_time": "2022-11-04T08:47:44.684Z"
   },
   {
    "duration": 0,
    "start_time": "2022-11-04T08:47:44.686Z"
   },
   {
    "duration": 0,
    "start_time": "2022-11-04T08:47:44.687Z"
   },
   {
    "duration": 0,
    "start_time": "2022-11-04T08:47:44.689Z"
   },
   {
    "duration": 0,
    "start_time": "2022-11-04T08:47:44.691Z"
   },
   {
    "duration": 0,
    "start_time": "2022-11-04T08:47:44.709Z"
   },
   {
    "duration": 0,
    "start_time": "2022-11-04T08:47:44.710Z"
   },
   {
    "duration": 0,
    "start_time": "2022-11-04T08:47:44.712Z"
   },
   {
    "duration": 261,
    "start_time": "2022-11-04T08:49:46.141Z"
   },
   {
    "duration": 162,
    "start_time": "2022-11-04T08:50:24.294Z"
   },
   {
    "duration": 41,
    "start_time": "2022-11-04T08:50:54.715Z"
   },
   {
    "duration": 47,
    "start_time": "2022-11-04T08:51:18.670Z"
   },
   {
    "duration": 246,
    "start_time": "2022-11-04T08:51:56.722Z"
   },
   {
    "duration": 351,
    "start_time": "2022-11-04T08:52:04.788Z"
   },
   {
    "duration": 9,
    "start_time": "2022-11-04T08:52:54.189Z"
   },
   {
    "duration": 43,
    "start_time": "2022-11-04T08:53:05.037Z"
   },
   {
    "duration": 433,
    "start_time": "2022-11-04T08:53:38.433Z"
   },
   {
    "duration": 108,
    "start_time": "2022-11-04T08:53:52.084Z"
   },
   {
    "duration": 3,
    "start_time": "2022-11-04T08:54:05.345Z"
   },
   {
    "duration": 60,
    "start_time": "2022-11-04T08:54:05.350Z"
   },
   {
    "duration": 8,
    "start_time": "2022-11-04T08:54:05.412Z"
   },
   {
    "duration": 15,
    "start_time": "2022-11-04T08:54:05.423Z"
   },
   {
    "duration": 12,
    "start_time": "2022-11-04T08:54:05.440Z"
   },
   {
    "duration": 4,
    "start_time": "2022-11-04T08:54:05.454Z"
   },
   {
    "duration": 11,
    "start_time": "2022-11-04T08:54:05.459Z"
   },
   {
    "duration": 37,
    "start_time": "2022-11-04T08:54:05.472Z"
   },
   {
    "duration": 130,
    "start_time": "2022-11-04T08:54:05.511Z"
   },
   {
    "duration": 0,
    "start_time": "2022-11-04T08:54:05.643Z"
   },
   {
    "duration": 0,
    "start_time": "2022-11-04T08:54:05.645Z"
   },
   {
    "duration": 0,
    "start_time": "2022-11-04T08:54:05.646Z"
   },
   {
    "duration": 0,
    "start_time": "2022-11-04T08:54:05.647Z"
   },
   {
    "duration": 0,
    "start_time": "2022-11-04T08:54:05.649Z"
   },
   {
    "duration": 0,
    "start_time": "2022-11-04T08:54:05.650Z"
   },
   {
    "duration": 0,
    "start_time": "2022-11-04T08:54:05.652Z"
   },
   {
    "duration": 0,
    "start_time": "2022-11-04T08:54:05.653Z"
   },
   {
    "duration": 4,
    "start_time": "2022-11-04T08:56:42.828Z"
   },
   {
    "duration": 57,
    "start_time": "2022-11-04T08:56:42.835Z"
   },
   {
    "duration": 6,
    "start_time": "2022-11-04T08:56:42.894Z"
   },
   {
    "duration": 12,
    "start_time": "2022-11-04T08:56:42.902Z"
   },
   {
    "duration": 11,
    "start_time": "2022-11-04T08:56:42.916Z"
   },
   {
    "duration": 4,
    "start_time": "2022-11-04T08:56:42.928Z"
   },
   {
    "duration": 11,
    "start_time": "2022-11-04T08:56:42.934Z"
   },
   {
    "duration": 8,
    "start_time": "2022-11-04T08:56:42.949Z"
   },
   {
    "duration": 70763,
    "start_time": "2022-11-04T08:56:42.959Z"
   },
   {
    "duration": 4,
    "start_time": "2022-11-04T08:57:53.724Z"
   },
   {
    "duration": 334,
    "start_time": "2022-11-04T08:57:53.730Z"
   },
   {
    "duration": 18,
    "start_time": "2022-11-04T08:57:54.066Z"
   },
   {
    "duration": 6,
    "start_time": "2022-11-04T08:57:54.086Z"
   },
   {
    "duration": 420,
    "start_time": "2022-11-04T08:57:54.093Z"
   },
   {
    "duration": 106,
    "start_time": "2022-11-04T08:57:54.515Z"
   },
   {
    "duration": 95,
    "start_time": "2022-11-04T08:57:54.623Z"
   },
   {
    "duration": 94,
    "start_time": "2022-11-04T08:57:54.723Z"
   },
   {
    "duration": 3,
    "start_time": "2022-11-04T08:59:42.744Z"
   },
   {
    "duration": 49,
    "start_time": "2022-11-04T08:59:42.771Z"
   },
   {
    "duration": 6,
    "start_time": "2022-11-04T08:59:42.822Z"
   },
   {
    "duration": 15,
    "start_time": "2022-11-04T08:59:42.830Z"
   },
   {
    "duration": 11,
    "start_time": "2022-11-04T08:59:42.846Z"
   },
   {
    "duration": 4,
    "start_time": "2022-11-04T08:59:42.859Z"
   },
   {
    "duration": 16,
    "start_time": "2022-11-04T08:59:42.864Z"
   },
   {
    "duration": 30,
    "start_time": "2022-11-04T08:59:42.882Z"
   },
   {
    "duration": 70442,
    "start_time": "2022-11-04T08:59:42.913Z"
   },
   {
    "duration": 5,
    "start_time": "2022-11-04T09:00:53.357Z"
   },
   {
    "duration": 353,
    "start_time": "2022-11-04T09:00:53.364Z"
   },
   {
    "duration": 18,
    "start_time": "2022-11-04T09:00:53.719Z"
   },
   {
    "duration": 7,
    "start_time": "2022-11-04T09:00:53.739Z"
   },
   {
    "duration": 469,
    "start_time": "2022-11-04T09:00:53.748Z"
   },
   {
    "duration": 95,
    "start_time": "2022-11-04T09:00:54.220Z"
   },
   {
    "duration": 197,
    "start_time": "2022-11-04T09:00:54.317Z"
   },
   {
    "duration": 16,
    "start_time": "2022-11-04T09:00:54.516Z"
   },
   {
    "duration": 3,
    "start_time": "2022-11-04T09:08:50.506Z"
   },
   {
    "duration": 54,
    "start_time": "2022-11-04T09:08:50.510Z"
   },
   {
    "duration": 6,
    "start_time": "2022-11-04T09:08:50.566Z"
   },
   {
    "duration": 22,
    "start_time": "2022-11-04T09:08:50.573Z"
   },
   {
    "duration": 21,
    "start_time": "2022-11-04T09:08:50.596Z"
   },
   {
    "duration": 3,
    "start_time": "2022-11-04T09:08:50.619Z"
   },
   {
    "duration": 13,
    "start_time": "2022-11-04T09:08:50.624Z"
   },
   {
    "duration": 8,
    "start_time": "2022-11-04T09:08:50.638Z"
   },
   {
    "duration": 161,
    "start_time": "2022-11-04T09:08:50.648Z"
   },
   {
    "duration": 5,
    "start_time": "2022-11-04T09:08:50.810Z"
   },
   {
    "duration": 318,
    "start_time": "2022-11-04T09:08:50.816Z"
   },
   {
    "duration": 16,
    "start_time": "2022-11-04T09:08:51.136Z"
   },
   {
    "duration": 5,
    "start_time": "2022-11-04T09:08:51.154Z"
   },
   {
    "duration": 457,
    "start_time": "2022-11-04T09:08:51.161Z"
   },
   {
    "duration": 11,
    "start_time": "2022-11-04T09:08:51.710Z"
   },
   {
    "duration": 191,
    "start_time": "2022-11-04T09:08:51.723Z"
   },
   {
    "duration": 11,
    "start_time": "2022-11-04T09:08:51.916Z"
   },
   {
    "duration": 2867,
    "start_time": "2022-11-04T09:10:19.319Z"
   },
   {
    "duration": 231,
    "start_time": "2022-11-04T09:10:55.512Z"
   },
   {
    "duration": 120,
    "start_time": "2022-11-04T09:11:36.320Z"
   },
   {
    "duration": 3,
    "start_time": "2022-11-04T09:11:41.049Z"
   },
   {
    "duration": 48,
    "start_time": "2022-11-04T09:11:41.069Z"
   },
   {
    "duration": 6,
    "start_time": "2022-11-04T09:11:41.119Z"
   },
   {
    "duration": 13,
    "start_time": "2022-11-04T09:11:41.128Z"
   },
   {
    "duration": 10,
    "start_time": "2022-11-04T09:11:41.143Z"
   },
   {
    "duration": 6,
    "start_time": "2022-11-04T09:11:41.155Z"
   },
   {
    "duration": 12,
    "start_time": "2022-11-04T09:11:41.163Z"
   },
   {
    "duration": 37,
    "start_time": "2022-11-04T09:11:41.176Z"
   },
   {
    "duration": 138,
    "start_time": "2022-11-04T09:11:41.214Z"
   },
   {
    "duration": 0,
    "start_time": "2022-11-04T09:11:41.353Z"
   },
   {
    "duration": 0,
    "start_time": "2022-11-04T09:11:41.355Z"
   },
   {
    "duration": 0,
    "start_time": "2022-11-04T09:11:41.356Z"
   },
   {
    "duration": 0,
    "start_time": "2022-11-04T09:11:41.357Z"
   },
   {
    "duration": 0,
    "start_time": "2022-11-04T09:11:41.359Z"
   },
   {
    "duration": 0,
    "start_time": "2022-11-04T09:11:41.360Z"
   },
   {
    "duration": 0,
    "start_time": "2022-11-04T09:11:41.361Z"
   },
   {
    "duration": 0,
    "start_time": "2022-11-04T09:11:41.363Z"
   },
   {
    "duration": 0,
    "start_time": "2022-11-04T09:13:19.637Z"
   },
   {
    "duration": 3,
    "start_time": "2022-11-04T09:19:09.896Z"
   },
   {
    "duration": 66,
    "start_time": "2022-11-04T09:19:09.918Z"
   },
   {
    "duration": 7,
    "start_time": "2022-11-04T09:19:09.987Z"
   },
   {
    "duration": 14,
    "start_time": "2022-11-04T09:19:09.995Z"
   },
   {
    "duration": 11,
    "start_time": "2022-11-04T09:19:10.011Z"
   },
   {
    "duration": 4,
    "start_time": "2022-11-04T09:19:10.024Z"
   },
   {
    "duration": 13,
    "start_time": "2022-11-04T09:19:10.029Z"
   },
   {
    "duration": 12,
    "start_time": "2022-11-04T09:19:10.044Z"
   },
   {
    "duration": 800,
    "start_time": "2022-11-04T09:19:10.058Z"
   },
   {
    "duration": 0,
    "start_time": "2022-11-04T09:19:10.860Z"
   },
   {
    "duration": 0,
    "start_time": "2022-11-04T09:19:10.861Z"
   },
   {
    "duration": 0,
    "start_time": "2022-11-04T09:19:10.862Z"
   },
   {
    "duration": 0,
    "start_time": "2022-11-04T09:19:10.863Z"
   },
   {
    "duration": 0,
    "start_time": "2022-11-04T09:19:10.864Z"
   },
   {
    "duration": 0,
    "start_time": "2022-11-04T09:19:10.865Z"
   },
   {
    "duration": 0,
    "start_time": "2022-11-04T09:19:10.866Z"
   },
   {
    "duration": 0,
    "start_time": "2022-11-04T09:19:10.867Z"
   },
   {
    "duration": 8,
    "start_time": "2022-11-04T09:19:33.183Z"
   },
   {
    "duration": 36,
    "start_time": "2022-11-04T09:19:39.687Z"
   },
   {
    "duration": 7,
    "start_time": "2022-11-04T09:20:34.816Z"
   },
   {
    "duration": 37,
    "start_time": "2022-11-04T09:21:21.793Z"
   },
   {
    "duration": 4,
    "start_time": "2022-11-04T09:22:18.587Z"
   },
   {
    "duration": 58,
    "start_time": "2022-11-04T09:22:18.592Z"
   },
   {
    "duration": 6,
    "start_time": "2022-11-04T09:22:18.652Z"
   },
   {
    "duration": 16,
    "start_time": "2022-11-04T09:22:18.660Z"
   },
   {
    "duration": 10,
    "start_time": "2022-11-04T09:22:18.678Z"
   },
   {
    "duration": 5,
    "start_time": "2022-11-04T09:22:18.690Z"
   },
   {
    "duration": 20,
    "start_time": "2022-11-04T09:22:18.697Z"
   },
   {
    "duration": 9,
    "start_time": "2022-11-04T09:22:18.719Z"
   },
   {
    "duration": 43864,
    "start_time": "2022-11-04T09:22:18.731Z"
   },
   {
    "duration": 12,
    "start_time": "2022-11-04T09:23:02.597Z"
   },
   {
    "duration": 334,
    "start_time": "2022-11-04T09:23:02.611Z"
   },
   {
    "duration": 20,
    "start_time": "2022-11-04T09:23:02.946Z"
   },
   {
    "duration": 7,
    "start_time": "2022-11-04T09:23:02.967Z"
   },
   {
    "duration": 541,
    "start_time": "2022-11-04T09:23:02.976Z"
   },
   {
    "duration": 95,
    "start_time": "2022-11-04T09:23:03.519Z"
   },
   {
    "duration": 100,
    "start_time": "2022-11-04T09:23:03.616Z"
   },
   {
    "duration": 95,
    "start_time": "2022-11-04T09:23:03.718Z"
   },
   {
    "duration": 47810,
    "start_time": "2022-11-04T11:13:21.845Z"
   },
   {
    "duration": 8,
    "start_time": "2022-11-04T12:09:29.224Z"
   },
   {
    "duration": 26,
    "start_time": "2022-11-04T12:09:37.380Z"
   },
   {
    "duration": 61,
    "start_time": "2022-11-04T12:09:37.409Z"
   },
   {
    "duration": 8,
    "start_time": "2022-11-04T12:09:37.472Z"
   },
   {
    "duration": 12,
    "start_time": "2022-11-04T12:09:37.483Z"
   },
   {
    "duration": 13,
    "start_time": "2022-11-04T12:09:37.497Z"
   },
   {
    "duration": 11,
    "start_time": "2022-11-04T12:09:37.511Z"
   },
   {
    "duration": 18,
    "start_time": "2022-11-04T12:09:37.526Z"
   },
   {
    "duration": 9,
    "start_time": "2022-11-04T12:09:37.546Z"
   },
   {
    "duration": 44829,
    "start_time": "2022-11-04T12:09:37.556Z"
   },
   {
    "duration": 37,
    "start_time": "2022-11-04T12:10:22.387Z"
   },
   {
    "duration": 0,
    "start_time": "2022-11-04T12:10:22.426Z"
   },
   {
    "duration": 0,
    "start_time": "2022-11-04T12:10:22.427Z"
   },
   {
    "duration": 0,
    "start_time": "2022-11-04T12:10:22.428Z"
   },
   {
    "duration": 0,
    "start_time": "2022-11-04T12:10:22.429Z"
   },
   {
    "duration": 0,
    "start_time": "2022-11-04T12:10:22.431Z"
   },
   {
    "duration": 0,
    "start_time": "2022-11-04T12:10:22.432Z"
   },
   {
    "duration": 0,
    "start_time": "2022-11-04T12:10:22.434Z"
   },
   {
    "duration": 0,
    "start_time": "2022-11-04T12:10:22.435Z"
   },
   {
    "duration": 7,
    "start_time": "2022-11-04T12:13:02.274Z"
   },
   {
    "duration": 16,
    "start_time": "2022-11-04T12:17:14.464Z"
   },
   {
    "duration": 3,
    "start_time": "2022-11-04T12:17:28.964Z"
   },
   {
    "duration": 68,
    "start_time": "2022-11-04T12:17:28.997Z"
   },
   {
    "duration": 7,
    "start_time": "2022-11-04T12:17:29.067Z"
   },
   {
    "duration": 13,
    "start_time": "2022-11-04T12:17:29.075Z"
   },
   {
    "duration": 10,
    "start_time": "2022-11-04T12:17:29.089Z"
   },
   {
    "duration": 4,
    "start_time": "2022-11-04T12:17:29.102Z"
   },
   {
    "duration": 30,
    "start_time": "2022-11-04T12:17:29.108Z"
   },
   {
    "duration": 11,
    "start_time": "2022-11-04T12:17:29.140Z"
   },
   {
    "duration": 4,
    "start_time": "2022-11-04T12:17:29.153Z"
   },
   {
    "duration": 14,
    "start_time": "2022-11-04T12:17:29.159Z"
   },
   {
    "duration": 4,
    "start_time": "2022-11-04T12:17:29.174Z"
   },
   {
    "duration": 349,
    "start_time": "2022-11-04T12:17:29.180Z"
   },
   {
    "duration": 16,
    "start_time": "2022-11-04T12:17:29.530Z"
   },
   {
    "duration": 6,
    "start_time": "2022-11-04T12:17:29.548Z"
   },
   {
    "duration": 1069,
    "start_time": "2022-11-04T12:17:29.556Z"
   },
   {
    "duration": 191,
    "start_time": "2022-11-04T12:17:30.628Z"
   },
   {
    "duration": 108,
    "start_time": "2022-11-04T12:17:30.821Z"
   },
   {
    "duration": 21,
    "start_time": "2022-11-04T12:17:30.931Z"
   },
   {
    "duration": 16,
    "start_time": "2022-11-04T12:19:22.746Z"
   },
   {
    "duration": 13,
    "start_time": "2022-11-04T12:20:14.885Z"
   },
   {
    "duration": 5,
    "start_time": "2022-11-04T12:20:33.810Z"
   },
   {
    "duration": 50,
    "start_time": "2022-11-04T12:20:33.830Z"
   },
   {
    "duration": 6,
    "start_time": "2022-11-04T12:20:33.883Z"
   },
   {
    "duration": 16,
    "start_time": "2022-11-04T12:20:33.890Z"
   },
   {
    "duration": 11,
    "start_time": "2022-11-04T12:20:33.907Z"
   },
   {
    "duration": 12,
    "start_time": "2022-11-04T12:20:33.920Z"
   },
   {
    "duration": 14,
    "start_time": "2022-11-04T12:20:33.933Z"
   },
   {
    "duration": 10,
    "start_time": "2022-11-04T12:20:33.949Z"
   },
   {
    "duration": 5,
    "start_time": "2022-11-04T12:20:33.960Z"
   },
   {
    "duration": 220,
    "start_time": "2022-11-04T12:20:33.966Z"
   },
   {
    "duration": 5,
    "start_time": "2022-11-04T12:20:34.188Z"
   },
   {
    "duration": 350,
    "start_time": "2022-11-04T12:20:34.194Z"
   },
   {
    "duration": 24,
    "start_time": "2022-11-04T12:20:34.546Z"
   },
   {
    "duration": 7,
    "start_time": "2022-11-04T12:20:34.572Z"
   },
   {
    "duration": 2338,
    "start_time": "2022-11-04T12:20:34.582Z"
   },
   {
    "duration": 96,
    "start_time": "2022-11-04T12:20:36.922Z"
   },
   {
    "duration": 104,
    "start_time": "2022-11-04T12:20:37.021Z"
   },
   {
    "duration": 9,
    "start_time": "2022-11-04T12:20:37.127Z"
   },
   {
    "duration": 16,
    "start_time": "2022-11-04T14:11:48.424Z"
   },
   {
    "duration": 3,
    "start_time": "2022-11-04T14:11:52.827Z"
   },
   {
    "duration": 51,
    "start_time": "2022-11-04T14:11:52.843Z"
   },
   {
    "duration": 7,
    "start_time": "2022-11-04T14:11:52.896Z"
   },
   {
    "duration": 37,
    "start_time": "2022-11-04T14:11:52.904Z"
   },
   {
    "duration": 13,
    "start_time": "2022-11-04T14:11:52.944Z"
   },
   {
    "duration": 4,
    "start_time": "2022-11-04T14:11:52.960Z"
   },
   {
    "duration": 22,
    "start_time": "2022-11-04T14:11:52.965Z"
   },
   {
    "duration": 11,
    "start_time": "2022-11-04T14:11:52.989Z"
   },
   {
    "duration": 10,
    "start_time": "2022-11-04T14:11:53.002Z"
   },
   {
    "duration": 296,
    "start_time": "2022-11-04T14:11:53.013Z"
   },
   {
    "duration": 6,
    "start_time": "2022-11-04T14:11:53.310Z"
   },
   {
    "duration": 333,
    "start_time": "2022-11-04T14:11:53.317Z"
   },
   {
    "duration": 17,
    "start_time": "2022-11-04T14:11:53.652Z"
   },
   {
    "duration": 7,
    "start_time": "2022-11-04T14:11:53.671Z"
   },
   {
    "duration": 3653,
    "start_time": "2022-11-04T14:11:53.682Z"
   },
   {
    "duration": 16,
    "start_time": "2022-11-04T14:11:57.416Z"
   },
   {
    "duration": 81,
    "start_time": "2022-11-04T14:11:57.434Z"
   },
   {
    "duration": 109,
    "start_time": "2022-11-04T14:11:57.517Z"
   },
   {
    "duration": 17,
    "start_time": "2022-11-04T14:13:01.283Z"
   },
   {
    "duration": 3,
    "start_time": "2022-11-04T14:13:05.803Z"
   },
   {
    "duration": 62,
    "start_time": "2022-11-04T14:13:05.819Z"
   },
   {
    "duration": 6,
    "start_time": "2022-11-04T14:13:05.883Z"
   },
   {
    "duration": 25,
    "start_time": "2022-11-04T14:13:05.890Z"
   },
   {
    "duration": 12,
    "start_time": "2022-11-04T14:13:05.924Z"
   },
   {
    "duration": 4,
    "start_time": "2022-11-04T14:13:05.937Z"
   },
   {
    "duration": 13,
    "start_time": "2022-11-04T14:13:05.943Z"
   },
   {
    "duration": 182,
    "start_time": "2022-11-04T14:13:05.957Z"
   },
   {
    "duration": 49404,
    "start_time": "2022-11-04T14:13:06.140Z"
   },
   {
    "duration": 391,
    "start_time": "2022-11-04T14:13:55.546Z"
   },
   {
    "duration": 5,
    "start_time": "2022-11-04T14:13:55.938Z"
   },
   {
    "duration": 329,
    "start_time": "2022-11-04T14:13:55.944Z"
   },
   {
    "duration": 17,
    "start_time": "2022-11-04T14:13:56.275Z"
   },
   {
    "duration": 21,
    "start_time": "2022-11-04T14:13:56.294Z"
   },
   {
    "duration": 2101,
    "start_time": "2022-11-04T14:13:56.325Z"
   },
   {
    "duration": 11,
    "start_time": "2022-11-04T14:13:58.429Z"
   },
   {
    "duration": 185,
    "start_time": "2022-11-04T14:13:58.442Z"
   },
   {
    "duration": 12,
    "start_time": "2022-11-04T14:13:58.629Z"
   },
   {
    "duration": 18,
    "start_time": "2022-11-04T14:15:50.149Z"
   },
   {
    "duration": 3,
    "start_time": "2022-11-04T14:16:00.924Z"
   },
   {
    "duration": 53,
    "start_time": "2022-11-04T14:16:00.958Z"
   },
   {
    "duration": 7,
    "start_time": "2022-11-04T14:16:01.021Z"
   },
   {
    "duration": 18,
    "start_time": "2022-11-04T14:16:01.029Z"
   },
   {
    "duration": 12,
    "start_time": "2022-11-04T14:16:01.049Z"
   },
   {
    "duration": 6,
    "start_time": "2022-11-04T14:16:01.063Z"
   },
   {
    "duration": 15,
    "start_time": "2022-11-04T14:16:01.070Z"
   },
   {
    "duration": 37,
    "start_time": "2022-11-04T14:16:01.086Z"
   },
   {
    "duration": 44716,
    "start_time": "2022-11-04T14:16:01.125Z"
   },
   {
    "duration": 585,
    "start_time": "2022-11-04T14:16:45.842Z"
   },
   {
    "duration": 4,
    "start_time": "2022-11-04T14:16:46.429Z"
   },
   {
    "duration": 335,
    "start_time": "2022-11-04T14:16:46.435Z"
   },
   {
    "duration": 18,
    "start_time": "2022-11-04T14:16:46.771Z"
   },
   {
    "duration": 6,
    "start_time": "2022-11-04T14:16:46.791Z"
   },
   {
    "duration": 1712,
    "start_time": "2022-11-04T14:16:46.809Z"
   },
   {
    "duration": 87,
    "start_time": "2022-11-04T14:16:48.524Z"
   },
   {
    "duration": 111,
    "start_time": "2022-11-04T14:16:48.614Z"
   },
   {
    "duration": 12,
    "start_time": "2022-11-04T14:16:48.727Z"
   },
   {
    "duration": 3,
    "start_time": "2022-11-04T14:18:18.222Z"
   },
   {
    "duration": 61,
    "start_time": "2022-11-04T14:18:18.268Z"
   },
   {
    "duration": 6,
    "start_time": "2022-11-04T14:18:18.331Z"
   },
   {
    "duration": 13,
    "start_time": "2022-11-04T14:18:18.338Z"
   },
   {
    "duration": 10,
    "start_time": "2022-11-04T14:18:18.352Z"
   },
   {
    "duration": 4,
    "start_time": "2022-11-04T14:18:18.364Z"
   },
   {
    "duration": 11,
    "start_time": "2022-11-04T14:18:18.369Z"
   },
   {
    "duration": 40,
    "start_time": "2022-11-04T14:18:18.381Z"
   },
   {
    "duration": 49458,
    "start_time": "2022-11-04T14:18:18.422Z"
   },
   {
    "duration": 561,
    "start_time": "2022-11-04T14:19:07.882Z"
   },
   {
    "duration": 4,
    "start_time": "2022-11-04T14:19:08.445Z"
   },
   {
    "duration": 348,
    "start_time": "2022-11-04T14:19:08.451Z"
   },
   {
    "duration": 27,
    "start_time": "2022-11-04T14:19:08.800Z"
   },
   {
    "duration": 6,
    "start_time": "2022-11-04T14:19:08.829Z"
   },
   {
    "duration": 573,
    "start_time": "2022-11-04T14:19:08.838Z"
   },
   {
    "duration": 99,
    "start_time": "2022-11-04T14:19:09.413Z"
   },
   {
    "duration": 96,
    "start_time": "2022-11-04T14:19:09.514Z"
   },
   {
    "duration": 9,
    "start_time": "2022-11-04T14:19:09.612Z"
   },
   {
    "duration": 3,
    "start_time": "2022-11-04T14:19:45.964Z"
   },
   {
    "duration": 60,
    "start_time": "2022-11-04T14:19:45.986Z"
   },
   {
    "duration": 6,
    "start_time": "2022-11-04T14:19:46.048Z"
   },
   {
    "duration": 12,
    "start_time": "2022-11-04T14:19:46.055Z"
   },
   {
    "duration": 11,
    "start_time": "2022-11-04T14:19:46.069Z"
   },
   {
    "duration": 3,
    "start_time": "2022-11-04T14:19:46.083Z"
   },
   {
    "duration": 27,
    "start_time": "2022-11-04T14:19:46.088Z"
   },
   {
    "duration": 10,
    "start_time": "2022-11-04T14:19:46.116Z"
   },
   {
    "duration": 44375,
    "start_time": "2022-11-04T14:19:46.128Z"
   },
   {
    "duration": 755,
    "start_time": "2022-11-04T14:20:30.505Z"
   },
   {
    "duration": 5,
    "start_time": "2022-11-04T14:20:31.262Z"
   },
   {
    "duration": 352,
    "start_time": "2022-11-04T14:20:31.269Z"
   },
   {
    "duration": 18,
    "start_time": "2022-11-04T14:20:31.623Z"
   },
   {
    "duration": 7,
    "start_time": "2022-11-04T14:20:31.643Z"
   },
   {
    "duration": 3168,
    "start_time": "2022-11-04T14:20:31.653Z"
   },
   {
    "duration": 97,
    "start_time": "2022-11-04T14:20:34.822Z"
   },
   {
    "duration": 107,
    "start_time": "2022-11-04T14:20:34.920Z"
   },
   {
    "duration": 106,
    "start_time": "2022-11-04T14:20:35.029Z"
   },
   {
    "duration": 19,
    "start_time": "2022-11-04T14:24:24.963Z"
   },
   {
    "duration": 3,
    "start_time": "2022-11-04T14:24:27.771Z"
   },
   {
    "duration": 58,
    "start_time": "2022-11-04T14:24:27.788Z"
   },
   {
    "duration": 6,
    "start_time": "2022-11-04T14:24:27.848Z"
   },
   {
    "duration": 13,
    "start_time": "2022-11-04T14:24:27.855Z"
   },
   {
    "duration": 10,
    "start_time": "2022-11-04T14:24:27.870Z"
   },
   {
    "duration": 4,
    "start_time": "2022-11-04T14:24:27.882Z"
   },
   {
    "duration": 32,
    "start_time": "2022-11-04T14:24:27.887Z"
   },
   {
    "duration": 10,
    "start_time": "2022-11-04T14:24:27.921Z"
   },
   {
    "duration": 44888,
    "start_time": "2022-11-04T14:24:27.933Z"
   },
   {
    "duration": 854,
    "start_time": "2022-11-04T14:25:12.823Z"
   },
   {
    "duration": 4,
    "start_time": "2022-11-04T14:25:13.679Z"
   },
   {
    "duration": 334,
    "start_time": "2022-11-04T14:25:13.685Z"
   },
   {
    "duration": 20,
    "start_time": "2022-11-04T14:25:14.021Z"
   },
   {
    "duration": 6,
    "start_time": "2022-11-04T14:25:14.043Z"
   },
   {
    "duration": 1373,
    "start_time": "2022-11-04T14:25:14.051Z"
   },
   {
    "duration": 89,
    "start_time": "2022-11-04T14:25:15.426Z"
   },
   {
    "duration": 107,
    "start_time": "2022-11-04T14:25:15.517Z"
   },
   {
    "duration": 106,
    "start_time": "2022-11-04T14:25:15.625Z"
   },
   {
    "duration": 3,
    "start_time": "2022-11-04T14:29:35.801Z"
   },
   {
    "duration": 52,
    "start_time": "2022-11-04T14:29:35.832Z"
   },
   {
    "duration": 6,
    "start_time": "2022-11-04T14:29:35.886Z"
   },
   {
    "duration": 127,
    "start_time": "2022-11-04T14:29:35.894Z"
   },
   {
    "duration": 17,
    "start_time": "2022-11-04T14:29:36.023Z"
   },
   {
    "duration": 4,
    "start_time": "2022-11-04T14:29:36.042Z"
   },
   {
    "duration": 13,
    "start_time": "2022-11-04T14:29:36.047Z"
   },
   {
    "duration": 9,
    "start_time": "2022-11-04T14:29:36.062Z"
   },
   {
    "duration": 49515,
    "start_time": "2022-11-04T14:29:36.072Z"
   },
   {
    "duration": 765,
    "start_time": "2022-11-04T14:30:25.588Z"
   },
   {
    "duration": 4,
    "start_time": "2022-11-04T14:30:26.354Z"
   },
   {
    "duration": 341,
    "start_time": "2022-11-04T14:30:26.359Z"
   },
   {
    "duration": 23,
    "start_time": "2022-11-04T14:30:26.701Z"
   },
   {
    "duration": 6,
    "start_time": "2022-11-04T14:30:26.726Z"
   },
   {
    "duration": 3186,
    "start_time": "2022-11-04T14:30:26.735Z"
   },
   {
    "duration": 10,
    "start_time": "2022-11-04T14:30:29.923Z"
   },
   {
    "duration": 184,
    "start_time": "2022-11-04T14:30:29.935Z"
   },
   {
    "duration": 22,
    "start_time": "2022-11-04T14:30:30.121Z"
   },
   {
    "duration": 8,
    "start_time": "2022-11-04T14:48:02.283Z"
   },
   {
    "duration": 26,
    "start_time": "2022-11-04T14:50:35.404Z"
   },
   {
    "duration": 52,
    "start_time": "2022-11-04T14:50:35.433Z"
   },
   {
    "duration": 6,
    "start_time": "2022-11-04T14:50:35.487Z"
   },
   {
    "duration": 28,
    "start_time": "2022-11-04T14:50:35.496Z"
   },
   {
    "duration": 11,
    "start_time": "2022-11-04T14:50:35.526Z"
   },
   {
    "duration": 3,
    "start_time": "2022-11-04T14:50:35.539Z"
   },
   {
    "duration": 13,
    "start_time": "2022-11-04T14:50:35.544Z"
   },
   {
    "duration": 9,
    "start_time": "2022-11-04T14:50:35.559Z"
   },
   {
    "duration": 44767,
    "start_time": "2022-11-04T14:50:35.569Z"
   },
   {
    "duration": 731,
    "start_time": "2022-11-04T14:51:20.338Z"
   },
   {
    "duration": 4,
    "start_time": "2022-11-04T14:51:21.071Z"
   },
   {
    "duration": 329,
    "start_time": "2022-11-04T14:51:21.077Z"
   },
   {
    "duration": 20,
    "start_time": "2022-11-04T14:51:21.408Z"
   },
   {
    "duration": 6,
    "start_time": "2022-11-04T14:51:21.430Z"
   },
   {
    "duration": 3587,
    "start_time": "2022-11-04T14:51:21.438Z"
   },
   {
    "duration": 91,
    "start_time": "2022-11-04T14:51:25.026Z"
   },
   {
    "duration": 446,
    "start_time": "2022-11-04T14:51:25.119Z"
   },
   {
    "duration": 8,
    "start_time": "2022-11-04T14:51:25.567Z"
   },
   {
    "duration": 10,
    "start_time": "2022-11-04T14:51:25.576Z"
   },
   {
    "duration": 365,
    "start_time": "2022-11-04T15:08:27.304Z"
   },
   {
    "duration": 1060,
    "start_time": "2022-11-04T15:11:19.478Z"
   },
   {
    "duration": 3967,
    "start_time": "2022-11-04T15:11:30.764Z"
   },
   {
    "duration": 4,
    "start_time": "2022-11-04T15:11:48.278Z"
   },
   {
    "duration": 60,
    "start_time": "2022-11-04T15:11:48.302Z"
   },
   {
    "duration": 7,
    "start_time": "2022-11-04T15:11:48.364Z"
   },
   {
    "duration": 16,
    "start_time": "2022-11-04T15:11:48.373Z"
   },
   {
    "duration": 10,
    "start_time": "2022-11-04T15:11:48.390Z"
   },
   {
    "duration": 3,
    "start_time": "2022-11-04T15:11:48.403Z"
   },
   {
    "duration": 32,
    "start_time": "2022-11-04T15:11:48.408Z"
   },
   {
    "duration": 9,
    "start_time": "2022-11-04T15:11:48.441Z"
   },
   {
    "duration": 44773,
    "start_time": "2022-11-04T15:11:48.452Z"
   },
   {
    "duration": 745,
    "start_time": "2022-11-04T15:12:33.226Z"
   },
   {
    "duration": 4,
    "start_time": "2022-11-04T15:12:33.972Z"
   },
   {
    "duration": 341,
    "start_time": "2022-11-04T15:12:33.978Z"
   },
   {
    "duration": 18,
    "start_time": "2022-11-04T15:12:34.321Z"
   },
   {
    "duration": 6,
    "start_time": "2022-11-04T15:12:34.341Z"
   },
   {
    "duration": 3078,
    "start_time": "2022-11-04T15:12:34.350Z"
   },
   {
    "duration": 90,
    "start_time": "2022-11-04T15:12:37.430Z"
   },
   {
    "duration": 450,
    "start_time": "2022-11-04T15:12:37.521Z"
   },
   {
    "duration": 3873,
    "start_time": "2022-11-04T15:12:37.972Z"
   },
   {
    "duration": 7,
    "start_time": "2022-11-04T15:12:41.847Z"
   },
   {
    "duration": 9,
    "start_time": "2022-11-04T15:12:41.856Z"
   },
   {
    "duration": 9,
    "start_time": "2022-11-04T15:26:02.006Z"
   },
   {
    "duration": 78,
    "start_time": "2022-11-04T15:26:02.029Z"
   },
   {
    "duration": 6,
    "start_time": "2022-11-04T15:26:02.110Z"
   },
   {
    "duration": 26,
    "start_time": "2022-11-04T15:26:02.117Z"
   },
   {
    "duration": 16,
    "start_time": "2022-11-04T15:26:02.147Z"
   },
   {
    "duration": 4,
    "start_time": "2022-11-04T15:26:02.165Z"
   },
   {
    "duration": 16,
    "start_time": "2022-11-04T15:26:02.171Z"
   },
   {
    "duration": 33,
    "start_time": "2022-11-04T15:26:02.189Z"
   },
   {
    "duration": 49984,
    "start_time": "2022-11-04T15:26:02.224Z"
   },
   {
    "duration": 728,
    "start_time": "2022-11-04T15:26:52.222Z"
   },
   {
    "duration": 5,
    "start_time": "2022-11-04T15:26:52.951Z"
   },
   {
    "duration": 12,
    "start_time": "2022-11-04T15:26:52.958Z"
   },
   {
    "duration": 7,
    "start_time": "2022-11-04T15:26:52.971Z"
   },
   {
    "duration": 4,
    "start_time": "2022-11-04T15:26:52.980Z"
   },
   {
    "duration": 37,
    "start_time": "2022-11-04T15:26:52.986Z"
   },
   {
    "duration": 14,
    "start_time": "2022-11-04T15:26:53.025Z"
   },
   {
    "duration": 249,
    "start_time": "2022-11-04T15:26:53.041Z"
   },
   {
    "duration": 6,
    "start_time": "2022-11-04T15:26:53.292Z"
   },
   {
    "duration": 21,
    "start_time": "2022-11-04T15:26:53.299Z"
   },
   {
    "duration": 7,
    "start_time": "2022-11-04T15:30:06.886Z"
   },
   {
    "duration": 53,
    "start_time": "2022-11-04T19:55:53.532Z"
   },
   {
    "duration": 1759,
    "start_time": "2022-11-04T19:56:02.638Z"
   },
   {
    "duration": 286,
    "start_time": "2022-11-04T19:56:04.400Z"
   },
   {
    "duration": 11,
    "start_time": "2022-11-04T19:56:04.687Z"
   },
   {
    "duration": 26,
    "start_time": "2022-11-04T19:56:04.701Z"
   },
   {
    "duration": 17,
    "start_time": "2022-11-04T19:56:04.729Z"
   },
   {
    "duration": 26,
    "start_time": "2022-11-04T19:56:04.748Z"
   },
   {
    "duration": 34,
    "start_time": "2022-11-04T19:56:04.776Z"
   },
   {
    "duration": 12,
    "start_time": "2022-11-04T19:56:04.812Z"
   },
   {
    "duration": 57007,
    "start_time": "2022-11-04T19:56:04.826Z"
   },
   {
    "duration": 930,
    "start_time": "2022-11-04T19:57:01.836Z"
   },
   {
    "duration": 5,
    "start_time": "2022-11-04T19:57:02.768Z"
   },
   {
    "duration": 12,
    "start_time": "2022-11-04T19:57:02.775Z"
   },
   {
    "duration": 7,
    "start_time": "2022-11-04T19:57:02.789Z"
   },
   {
    "duration": 6,
    "start_time": "2022-11-04T19:57:02.798Z"
   },
   {
    "duration": 27,
    "start_time": "2022-11-04T19:57:02.806Z"
   },
   {
    "duration": 197,
    "start_time": "2022-11-04T19:57:02.835Z"
   },
   {
    "duration": 153,
    "start_time": "2022-11-04T19:57:03.035Z"
   },
   {
    "duration": 5,
    "start_time": "2022-11-04T19:57:03.190Z"
   },
   {
    "duration": 12,
    "start_time": "2022-11-04T19:57:03.197Z"
   },
   {
    "duration": 82,
    "start_time": "2022-11-04T19:57:53.629Z"
   },
   {
    "duration": 3,
    "start_time": "2022-11-04T19:58:17.194Z"
   },
   {
    "duration": 57,
    "start_time": "2022-11-04T19:58:17.209Z"
   },
   {
    "duration": 9,
    "start_time": "2022-11-04T19:58:17.268Z"
   },
   {
    "duration": 21,
    "start_time": "2022-11-04T19:58:17.279Z"
   },
   {
    "duration": 32,
    "start_time": "2022-11-04T19:58:17.302Z"
   },
   {
    "duration": 5,
    "start_time": "2022-11-04T19:58:17.337Z"
   },
   {
    "duration": 28,
    "start_time": "2022-11-04T19:58:17.343Z"
   },
   {
    "duration": 11,
    "start_time": "2022-11-04T19:58:17.373Z"
   },
   {
    "duration": 6,
    "start_time": "2022-11-04T19:58:17.390Z"
   },
   {
    "duration": 31,
    "start_time": "2022-11-04T19:58:17.401Z"
   },
   {
    "duration": 9,
    "start_time": "2022-11-04T19:58:17.434Z"
   },
   {
    "duration": 5,
    "start_time": "2022-11-04T19:58:17.445Z"
   },
   {
    "duration": 11,
    "start_time": "2022-11-04T19:58:17.452Z"
   },
   {
    "duration": 70,
    "start_time": "2022-11-04T19:58:17.465Z"
   },
   {
    "duration": 157,
    "start_time": "2022-11-04T19:58:17.536Z"
   },
   {
    "duration": 18,
    "start_time": "2022-11-04T19:58:17.695Z"
   },
   {
    "duration": 0,
    "start_time": "2022-11-04T19:58:17.733Z"
   },
   {
    "duration": 7,
    "start_time": "2022-11-04T20:00:35.593Z"
   },
   {
    "duration": 9,
    "start_time": "2022-11-04T20:00:57.794Z"
   },
   {
    "duration": 5,
    "start_time": "2022-11-04T20:02:01.138Z"
   },
   {
    "duration": 90,
    "start_time": "2022-11-04T20:02:01.146Z"
   },
   {
    "duration": 10,
    "start_time": "2022-11-04T20:02:01.239Z"
   },
   {
    "duration": 49,
    "start_time": "2022-11-04T20:02:01.251Z"
   },
   {
    "duration": 76,
    "start_time": "2022-11-04T20:02:01.302Z"
   },
   {
    "duration": 33,
    "start_time": "2022-11-04T20:02:01.380Z"
   },
   {
    "duration": 66,
    "start_time": "2022-11-04T20:02:01.415Z"
   },
   {
    "duration": 24,
    "start_time": "2022-11-04T20:02:01.484Z"
   },
   {
    "duration": 55,
    "start_time": "2022-11-04T20:02:01.510Z"
   },
   {
    "duration": 50,
    "start_time": "2022-11-04T20:02:01.567Z"
   },
   {
    "duration": 34,
    "start_time": "2022-11-04T20:02:01.619Z"
   },
   {
    "duration": 27,
    "start_time": "2022-11-04T20:02:01.655Z"
   },
   {
    "duration": 39,
    "start_time": "2022-11-04T20:02:01.684Z"
   },
   {
    "duration": 46,
    "start_time": "2022-11-04T20:02:01.725Z"
   },
   {
    "duration": 250,
    "start_time": "2022-11-04T20:02:01.775Z"
   },
   {
    "duration": 8,
    "start_time": "2022-11-04T20:02:02.027Z"
   },
   {
    "duration": 45,
    "start_time": "2022-11-04T20:02:02.037Z"
   },
   {
    "duration": 8,
    "start_time": "2022-11-04T20:02:42.521Z"
   },
   {
    "duration": 3,
    "start_time": "2022-11-04T20:03:11.291Z"
   },
   {
    "duration": 56,
    "start_time": "2022-11-04T20:03:11.308Z"
   },
   {
    "duration": 7,
    "start_time": "2022-11-04T20:03:11.367Z"
   },
   {
    "duration": 14,
    "start_time": "2022-11-04T20:03:11.376Z"
   },
   {
    "duration": 36,
    "start_time": "2022-11-04T20:03:11.397Z"
   },
   {
    "duration": 5,
    "start_time": "2022-11-04T20:03:11.436Z"
   },
   {
    "duration": 17,
    "start_time": "2022-11-04T20:03:11.443Z"
   },
   {
    "duration": 11,
    "start_time": "2022-11-04T20:03:11.462Z"
   },
   {
    "duration": 16,
    "start_time": "2022-11-04T20:03:11.475Z"
   },
   {
    "duration": 39,
    "start_time": "2022-11-04T20:03:11.493Z"
   },
   {
    "duration": 7,
    "start_time": "2022-11-04T20:03:11.534Z"
   },
   {
    "duration": 13,
    "start_time": "2022-11-04T20:03:11.543Z"
   },
   {
    "duration": 10,
    "start_time": "2022-11-04T20:03:11.558Z"
   },
   {
    "duration": 78,
    "start_time": "2022-11-04T20:03:11.570Z"
   },
   {
    "duration": 265,
    "start_time": "2022-11-04T20:03:11.650Z"
   },
   {
    "duration": 24,
    "start_time": "2022-11-04T20:03:11.918Z"
   },
   {
    "duration": 13,
    "start_time": "2022-11-04T20:03:11.944Z"
   },
   {
    "duration": 8,
    "start_time": "2022-11-04T20:03:35.606Z"
   },
   {
    "duration": 3,
    "start_time": "2022-11-04T20:03:55.607Z"
   },
   {
    "duration": 59,
    "start_time": "2022-11-04T20:03:55.630Z"
   },
   {
    "duration": 9,
    "start_time": "2022-11-04T20:03:55.690Z"
   },
   {
    "duration": 16,
    "start_time": "2022-11-04T20:03:55.701Z"
   },
   {
    "duration": 14,
    "start_time": "2022-11-04T20:03:55.719Z"
   },
   {
    "duration": 4,
    "start_time": "2022-11-04T20:03:55.736Z"
   },
   {
    "duration": 11,
    "start_time": "2022-11-04T20:03:55.742Z"
   },
   {
    "duration": 12,
    "start_time": "2022-11-04T20:03:55.755Z"
   },
   {
    "duration": 5,
    "start_time": "2022-11-04T20:03:55.768Z"
   },
   {
    "duration": 22,
    "start_time": "2022-11-04T20:03:55.775Z"
   },
   {
    "duration": 39,
    "start_time": "2022-11-04T20:03:55.799Z"
   },
   {
    "duration": 6,
    "start_time": "2022-11-04T20:03:55.841Z"
   },
   {
    "duration": 10,
    "start_time": "2022-11-04T20:03:55.849Z"
   },
   {
    "duration": 71,
    "start_time": "2022-11-04T20:03:55.862Z"
   },
   {
    "duration": 281,
    "start_time": "2022-11-04T20:03:55.936Z"
   },
   {
    "duration": 17,
    "start_time": "2022-11-04T20:03:56.219Z"
   },
   {
    "duration": 8,
    "start_time": "2022-11-04T20:03:56.238Z"
   },
   {
    "duration": 9,
    "start_time": "2022-11-04T20:04:23.427Z"
   },
   {
    "duration": 4,
    "start_time": "2022-11-04T20:04:45.654Z"
   },
   {
    "duration": 59,
    "start_time": "2022-11-04T20:04:45.669Z"
   },
   {
    "duration": 8,
    "start_time": "2022-11-04T20:04:45.730Z"
   },
   {
    "duration": 15,
    "start_time": "2022-11-04T20:04:45.740Z"
   },
   {
    "duration": 11,
    "start_time": "2022-11-04T20:04:45.757Z"
   },
   {
    "duration": 4,
    "start_time": "2022-11-04T20:04:45.772Z"
   },
   {
    "duration": 13,
    "start_time": "2022-11-04T20:04:45.778Z"
   },
   {
    "duration": 42,
    "start_time": "2022-11-04T20:04:45.792Z"
   },
   {
    "duration": 5,
    "start_time": "2022-11-04T20:04:45.835Z"
   },
   {
    "duration": 55,
    "start_time": "2022-11-04T20:04:45.842Z"
   },
   {
    "duration": 13,
    "start_time": "2022-11-04T20:04:45.899Z"
   },
   {
    "duration": 21,
    "start_time": "2022-11-04T20:04:45.914Z"
   },
   {
    "duration": 13,
    "start_time": "2022-11-04T20:04:45.937Z"
   },
   {
    "duration": 181,
    "start_time": "2022-11-04T20:04:45.952Z"
   },
   {
    "duration": 493,
    "start_time": "2022-11-04T20:04:46.136Z"
   },
   {
    "duration": 8,
    "start_time": "2022-11-04T20:04:46.632Z"
   },
   {
    "duration": 9,
    "start_time": "2022-11-04T20:04:46.642Z"
   },
   {
    "duration": 8,
    "start_time": "2022-11-04T20:05:04.855Z"
   },
   {
    "duration": 3,
    "start_time": "2022-11-04T20:05:29.499Z"
   },
   {
    "duration": 57,
    "start_time": "2022-11-04T20:05:29.521Z"
   },
   {
    "duration": 8,
    "start_time": "2022-11-04T20:05:29.580Z"
   },
   {
    "duration": 14,
    "start_time": "2022-11-04T20:05:29.589Z"
   },
   {
    "duration": 12,
    "start_time": "2022-11-04T20:05:29.605Z"
   },
   {
    "duration": 4,
    "start_time": "2022-11-04T20:05:29.632Z"
   },
   {
    "duration": 12,
    "start_time": "2022-11-04T20:05:29.638Z"
   },
   {
    "duration": 10,
    "start_time": "2022-11-04T20:05:29.652Z"
   },
   {
    "duration": 4,
    "start_time": "2022-11-04T20:05:29.664Z"
   },
   {
    "duration": 167,
    "start_time": "2022-11-04T20:05:29.670Z"
   },
   {
    "duration": 20,
    "start_time": "2022-11-04T20:05:29.839Z"
   },
   {
    "duration": 6,
    "start_time": "2022-11-04T20:05:29.861Z"
   },
   {
    "duration": 166,
    "start_time": "2022-11-04T20:05:29.869Z"
   },
   {
    "duration": 98,
    "start_time": "2022-11-04T20:05:30.038Z"
   },
   {
    "duration": 1378,
    "start_time": "2022-11-04T20:05:30.139Z"
   },
   {
    "duration": 13,
    "start_time": "2022-11-04T20:05:31.519Z"
   },
   {
    "duration": 7,
    "start_time": "2022-11-04T20:05:31.534Z"
   },
   {
    "duration": 17,
    "start_time": "2022-11-04T20:05:48.225Z"
   },
   {
    "duration": 4,
    "start_time": "2022-11-04T20:06:13.563Z"
   },
   {
    "duration": 153,
    "start_time": "2022-11-04T20:06:13.580Z"
   },
   {
    "duration": 8,
    "start_time": "2022-11-04T20:06:13.735Z"
   },
   {
    "duration": 18,
    "start_time": "2022-11-04T20:06:13.744Z"
   },
   {
    "duration": 14,
    "start_time": "2022-11-04T20:06:13.764Z"
   },
   {
    "duration": 4,
    "start_time": "2022-11-04T20:06:13.781Z"
   },
   {
    "duration": 15,
    "start_time": "2022-11-04T20:06:13.787Z"
   },
   {
    "duration": 12,
    "start_time": "2022-11-04T20:06:13.833Z"
   },
   {
    "duration": 8,
    "start_time": "2022-11-04T20:06:13.847Z"
   },
   {
    "duration": 411,
    "start_time": "2022-11-04T20:06:13.857Z"
   },
   {
    "duration": 30,
    "start_time": "2022-11-04T20:06:14.269Z"
   },
   {
    "duration": 9,
    "start_time": "2022-11-04T20:06:14.301Z"
   },
   {
    "duration": 725,
    "start_time": "2022-11-04T20:06:14.312Z"
   },
   {
    "duration": 92,
    "start_time": "2022-11-04T20:06:15.039Z"
   },
   {
    "duration": 3546,
    "start_time": "2022-11-04T20:06:15.134Z"
   },
   {
    "duration": 8,
    "start_time": "2022-11-04T20:06:18.682Z"
   },
   {
    "duration": 17,
    "start_time": "2022-11-04T20:06:18.691Z"
   },
   {
    "duration": 7,
    "start_time": "2022-11-04T20:06:36.101Z"
   },
   {
    "duration": 4,
    "start_time": "2022-11-04T20:14:13.485Z"
   },
   {
    "duration": 55,
    "start_time": "2022-11-04T20:14:13.504Z"
   },
   {
    "duration": 9,
    "start_time": "2022-11-04T20:14:13.562Z"
   },
   {
    "duration": 14,
    "start_time": "2022-11-04T20:14:13.573Z"
   },
   {
    "duration": 45,
    "start_time": "2022-11-04T20:14:13.590Z"
   },
   {
    "duration": 3,
    "start_time": "2022-11-04T20:14:13.637Z"
   },
   {
    "duration": 13,
    "start_time": "2022-11-04T20:14:13.642Z"
   },
   {
    "duration": 11,
    "start_time": "2022-11-04T20:14:13.657Z"
   },
   {
    "duration": 4,
    "start_time": "2022-11-04T20:14:13.670Z"
   },
   {
    "duration": 404,
    "start_time": "2022-11-04T20:14:13.676Z"
   },
   {
    "duration": 19,
    "start_time": "2022-11-04T20:14:14.081Z"
   },
   {
    "duration": 8,
    "start_time": "2022-11-04T20:14:14.102Z"
   },
   {
    "duration": 529,
    "start_time": "2022-11-04T20:14:14.112Z"
   },
   {
    "duration": 12,
    "start_time": "2022-11-04T20:14:14.733Z"
   },
   {
    "duration": 3604,
    "start_time": "2022-11-04T20:14:14.831Z"
   },
   {
    "duration": 9,
    "start_time": "2022-11-04T20:14:18.437Z"
   },
   {
    "duration": 8,
    "start_time": "2022-11-04T20:14:18.448Z"
   },
   {
    "duration": 666,
    "start_time": "2022-11-04T20:14:18.458Z"
   },
   {
    "duration": 4,
    "start_time": "2022-11-04T20:15:08.385Z"
   },
   {
    "duration": 55,
    "start_time": "2022-11-04T20:15:08.406Z"
   },
   {
    "duration": 7,
    "start_time": "2022-11-04T20:15:08.463Z"
   },
   {
    "duration": 28,
    "start_time": "2022-11-04T20:15:08.472Z"
   },
   {
    "duration": 22,
    "start_time": "2022-11-04T20:15:08.501Z"
   },
   {
    "duration": 11,
    "start_time": "2022-11-04T20:15:08.525Z"
   },
   {
    "duration": 27,
    "start_time": "2022-11-04T20:15:08.538Z"
   },
   {
    "duration": 29,
    "start_time": "2022-11-04T20:15:08.567Z"
   },
   {
    "duration": 15,
    "start_time": "2022-11-04T20:15:08.598Z"
   },
   {
    "duration": 403,
    "start_time": "2022-11-04T20:15:08.615Z"
   },
   {
    "duration": 21,
    "start_time": "2022-11-04T20:15:09.020Z"
   },
   {
    "duration": 9,
    "start_time": "2022-11-04T20:15:09.043Z"
   },
   {
    "duration": 486,
    "start_time": "2022-11-04T20:15:09.054Z"
   },
   {
    "duration": 101,
    "start_time": "2022-11-04T20:15:09.632Z"
   },
   {
    "duration": 3455,
    "start_time": "2022-11-04T20:15:09.737Z"
   },
   {
    "duration": 8,
    "start_time": "2022-11-04T20:15:13.194Z"
   },
   {
    "duration": 23,
    "start_time": "2022-11-04T20:15:13.204Z"
   },
   {
    "duration": 626,
    "start_time": "2022-11-04T20:15:13.229Z"
   },
   {
    "duration": 4,
    "start_time": "2022-11-04T20:17:19.432Z"
   },
   {
    "duration": 57,
    "start_time": "2022-11-04T20:17:19.473Z"
   },
   {
    "duration": 6,
    "start_time": "2022-11-04T20:17:19.532Z"
   },
   {
    "duration": 18,
    "start_time": "2022-11-04T20:17:19.540Z"
   },
   {
    "duration": 12,
    "start_time": "2022-11-04T20:17:19.560Z"
   },
   {
    "duration": 4,
    "start_time": "2022-11-04T20:17:19.574Z"
   },
   {
    "duration": 12,
    "start_time": "2022-11-04T20:17:19.580Z"
   },
   {
    "duration": 41,
    "start_time": "2022-11-04T20:17:19.594Z"
   },
   {
    "duration": 4,
    "start_time": "2022-11-04T20:17:19.638Z"
   },
   {
    "duration": 427,
    "start_time": "2022-11-04T20:17:19.643Z"
   },
   {
    "duration": 23,
    "start_time": "2022-11-04T20:17:20.072Z"
   },
   {
    "duration": 7,
    "start_time": "2022-11-04T20:17:20.096Z"
   },
   {
    "duration": 531,
    "start_time": "2022-11-04T20:17:20.105Z"
   },
   {
    "duration": 100,
    "start_time": "2022-11-04T20:17:20.638Z"
   },
   {
    "duration": 3592,
    "start_time": "2022-11-04T20:17:20.741Z"
   },
   {
    "duration": 8,
    "start_time": "2022-11-04T20:17:24.336Z"
   },
   {
    "duration": 91,
    "start_time": "2022-11-04T20:17:24.347Z"
   },
   {
    "duration": 0,
    "start_time": "2022-11-04T20:17:24.439Z"
   },
   {
    "duration": 4,
    "start_time": "2022-11-04T20:17:48.194Z"
   },
   {
    "duration": 61,
    "start_time": "2022-11-04T20:17:48.205Z"
   },
   {
    "duration": 10,
    "start_time": "2022-11-04T20:17:48.269Z"
   },
   {
    "duration": 17,
    "start_time": "2022-11-04T20:17:48.281Z"
   },
   {
    "duration": 35,
    "start_time": "2022-11-04T20:17:48.300Z"
   },
   {
    "duration": 4,
    "start_time": "2022-11-04T20:17:48.338Z"
   },
   {
    "duration": 12,
    "start_time": "2022-11-04T20:17:48.343Z"
   },
   {
    "duration": 10,
    "start_time": "2022-11-04T20:17:48.356Z"
   },
   {
    "duration": 4,
    "start_time": "2022-11-04T20:17:48.368Z"
   },
   {
    "duration": 438,
    "start_time": "2022-11-04T20:17:48.373Z"
   },
   {
    "duration": 34,
    "start_time": "2022-11-04T20:17:48.813Z"
   },
   {
    "duration": 8,
    "start_time": "2022-11-04T20:17:48.849Z"
   },
   {
    "duration": 479,
    "start_time": "2022-11-04T20:17:48.859Z"
   },
   {
    "duration": 108,
    "start_time": "2022-11-04T20:17:49.339Z"
   },
   {
    "duration": 3602,
    "start_time": "2022-11-04T20:17:49.450Z"
   },
   {
    "duration": 8,
    "start_time": "2022-11-04T20:17:53.054Z"
   },
   {
    "duration": 478,
    "start_time": "2022-11-04T20:17:53.063Z"
   },
   {
    "duration": 670,
    "start_time": "2022-11-04T20:17:53.633Z"
   },
   {
    "duration": 4,
    "start_time": "2022-11-04T20:18:39.742Z"
   },
   {
    "duration": 52,
    "start_time": "2022-11-04T20:18:39.756Z"
   },
   {
    "duration": 7,
    "start_time": "2022-11-04T20:18:39.810Z"
   },
   {
    "duration": 17,
    "start_time": "2022-11-04T20:18:39.818Z"
   },
   {
    "duration": 12,
    "start_time": "2022-11-04T20:18:39.837Z"
   },
   {
    "duration": 3,
    "start_time": "2022-11-04T20:18:39.853Z"
   },
   {
    "duration": 13,
    "start_time": "2022-11-04T20:18:39.858Z"
   },
   {
    "duration": 12,
    "start_time": "2022-11-04T20:18:39.873Z"
   },
   {
    "duration": 11,
    "start_time": "2022-11-04T20:18:39.887Z"
   },
   {
    "duration": 157,
    "start_time": "2022-11-04T20:18:39.899Z"
   },
   {
    "duration": 12,
    "start_time": "2022-11-04T20:18:40.057Z"
   },
   {
    "duration": 22,
    "start_time": "2022-11-04T20:18:40.071Z"
   },
   {
    "duration": 141,
    "start_time": "2022-11-04T20:18:40.095Z"
   },
   {
    "duration": 98,
    "start_time": "2022-11-04T20:18:40.238Z"
   },
   {
    "duration": 1412,
    "start_time": "2022-11-04T20:18:40.339Z"
   },
   {
    "duration": 8,
    "start_time": "2022-11-04T20:18:41.753Z"
   },
   {
    "duration": 269,
    "start_time": "2022-11-04T20:18:41.763Z"
   },
   {
    "duration": 311,
    "start_time": "2022-11-04T20:18:42.034Z"
   },
   {
    "duration": 3,
    "start_time": "2022-11-04T20:19:24.563Z"
   },
   {
    "duration": 54,
    "start_time": "2022-11-04T20:19:24.577Z"
   },
   {
    "duration": 7,
    "start_time": "2022-11-04T20:19:24.634Z"
   },
   {
    "duration": 28,
    "start_time": "2022-11-04T20:19:24.643Z"
   },
   {
    "duration": 39,
    "start_time": "2022-11-04T20:19:24.673Z"
   },
   {
    "duration": 12,
    "start_time": "2022-11-04T20:19:24.714Z"
   },
   {
    "duration": 18,
    "start_time": "2022-11-04T20:19:24.727Z"
   },
   {
    "duration": 32,
    "start_time": "2022-11-04T20:19:24.747Z"
   },
   {
    "duration": 13,
    "start_time": "2022-11-04T20:19:24.781Z"
   },
   {
    "duration": 51,
    "start_time": "2022-11-04T20:19:24.796Z"
   },
   {
    "duration": 16,
    "start_time": "2022-11-04T20:19:24.849Z"
   },
   {
    "duration": 34,
    "start_time": "2022-11-04T20:19:24.866Z"
   },
   {
    "duration": 29,
    "start_time": "2022-11-04T20:19:24.902Z"
   },
   {
    "duration": 26,
    "start_time": "2022-11-04T20:19:24.933Z"
   },
   {
    "duration": 195,
    "start_time": "2022-11-04T20:19:25.037Z"
   },
   {
    "duration": 8,
    "start_time": "2022-11-04T20:19:25.234Z"
   },
   {
    "duration": 45,
    "start_time": "2022-11-04T20:19:25.243Z"
   },
   {
    "duration": 27,
    "start_time": "2022-11-04T20:19:25.290Z"
   },
   {
    "duration": 4,
    "start_time": "2022-11-04T20:19:50.099Z"
   },
   {
    "duration": 53,
    "start_time": "2022-11-04T20:19:50.120Z"
   },
   {
    "duration": 8,
    "start_time": "2022-11-04T20:19:50.175Z"
   },
   {
    "duration": 43,
    "start_time": "2022-11-04T20:19:50.185Z"
   },
   {
    "duration": 37,
    "start_time": "2022-11-04T20:19:50.230Z"
   },
   {
    "duration": 14,
    "start_time": "2022-11-04T20:19:50.269Z"
   },
   {
    "duration": 26,
    "start_time": "2022-11-04T20:19:50.284Z"
   },
   {
    "duration": 37,
    "start_time": "2022-11-04T20:19:50.312Z"
   },
   {
    "duration": 22,
    "start_time": "2022-11-04T20:19:50.351Z"
   },
   {
    "duration": 1481,
    "start_time": "2022-11-04T20:19:50.374Z"
   },
   {
    "duration": 87,
    "start_time": "2022-11-04T20:19:51.857Z"
   },
   {
    "duration": 17,
    "start_time": "2022-11-04T20:19:51.946Z"
   },
   {
    "duration": 4066,
    "start_time": "2022-11-04T20:19:51.966Z"
   },
   {
    "duration": 111,
    "start_time": "2022-11-04T20:19:56.034Z"
   },
   {
    "duration": 9369,
    "start_time": "2022-11-04T20:19:56.231Z"
   },
   {
    "duration": 8,
    "start_time": "2022-11-04T20:20:05.602Z"
   },
   {
    "duration": 5324,
    "start_time": "2022-11-04T20:20:05.612Z"
   },
   {
    "duration": 1807,
    "start_time": "2022-11-04T20:20:10.939Z"
   },
   {
    "duration": 3,
    "start_time": "2022-11-04T20:23:13.153Z"
   },
   {
    "duration": 70,
    "start_time": "2022-11-04T20:23:13.160Z"
   },
   {
    "duration": 7,
    "start_time": "2022-11-04T20:23:13.232Z"
   },
   {
    "duration": 36,
    "start_time": "2022-11-04T20:23:13.240Z"
   },
   {
    "duration": 23,
    "start_time": "2022-11-04T20:23:13.279Z"
   },
   {
    "duration": 9,
    "start_time": "2022-11-04T20:23:13.304Z"
   },
   {
    "duration": 35,
    "start_time": "2022-11-04T20:23:13.315Z"
   },
   {
    "duration": 23,
    "start_time": "2022-11-04T20:23:13.352Z"
   },
   {
    "duration": 31,
    "start_time": "2022-11-04T20:23:13.377Z"
   },
   {
    "duration": 401,
    "start_time": "2022-11-04T20:23:13.411Z"
   },
   {
    "duration": 23,
    "start_time": "2022-11-04T20:23:13.816Z"
   },
   {
    "duration": 9,
    "start_time": "2022-11-04T20:23:13.841Z"
   },
   {
    "duration": 588,
    "start_time": "2022-11-04T20:23:13.852Z"
   },
   {
    "duration": 104,
    "start_time": "2022-11-04T20:23:14.442Z"
   },
   {
    "duration": 3869,
    "start_time": "2022-11-04T20:23:14.550Z"
   },
   {
    "duration": 11,
    "start_time": "2022-11-04T20:23:18.421Z"
   },
   {
    "duration": 653,
    "start_time": "2022-11-04T20:23:18.434Z"
   },
   {
    "duration": 545,
    "start_time": "2022-11-04T20:23:19.089Z"
   },
   {
    "duration": 4,
    "start_time": "2022-11-04T20:24:55.776Z"
   },
   {
    "duration": 57,
    "start_time": "2022-11-04T20:24:55.785Z"
   },
   {
    "duration": 7,
    "start_time": "2022-11-04T20:24:55.845Z"
   },
   {
    "duration": 19,
    "start_time": "2022-11-04T20:24:55.853Z"
   },
   {
    "duration": 15,
    "start_time": "2022-11-04T20:24:55.875Z"
   },
   {
    "duration": 4,
    "start_time": "2022-11-04T20:24:55.894Z"
   },
   {
    "duration": 38,
    "start_time": "2022-11-04T20:24:55.900Z"
   },
   {
    "duration": 12,
    "start_time": "2022-11-04T20:24:55.940Z"
   },
   {
    "duration": 5,
    "start_time": "2022-11-04T20:24:55.954Z"
   },
   {
    "duration": 403,
    "start_time": "2022-11-04T20:24:55.961Z"
   },
   {
    "duration": 24,
    "start_time": "2022-11-04T20:24:56.366Z"
   },
   {
    "duration": 11,
    "start_time": "2022-11-04T20:24:56.393Z"
   },
   {
    "duration": 429,
    "start_time": "2022-11-04T20:24:56.407Z"
   },
   {
    "duration": 104,
    "start_time": "2022-11-04T20:24:56.838Z"
   },
   {
    "duration": 3254,
    "start_time": "2022-11-04T20:24:56.947Z"
   },
   {
    "duration": 8,
    "start_time": "2022-11-04T20:25:00.202Z"
   },
   {
    "duration": 594,
    "start_time": "2022-11-04T20:25:00.212Z"
   },
   {
    "duration": 628,
    "start_time": "2022-11-04T20:25:00.808Z"
   },
   {
    "duration": 4,
    "start_time": "2022-11-04T20:28:05.164Z"
   },
   {
    "duration": 61,
    "start_time": "2022-11-04T20:28:05.172Z"
   },
   {
    "duration": 8,
    "start_time": "2022-11-04T20:28:05.236Z"
   },
   {
    "duration": 19,
    "start_time": "2022-11-04T20:28:05.245Z"
   },
   {
    "duration": 13,
    "start_time": "2022-11-04T20:28:05.265Z"
   },
   {
    "duration": 5,
    "start_time": "2022-11-04T20:28:05.280Z"
   },
   {
    "duration": 46,
    "start_time": "2022-11-04T20:28:05.287Z"
   },
   {
    "duration": 83,
    "start_time": "2022-11-04T20:28:05.335Z"
   },
   {
    "duration": 34,
    "start_time": "2022-11-04T20:28:05.421Z"
   },
   {
    "duration": 441,
    "start_time": "2022-11-04T20:28:05.457Z"
   },
   {
    "duration": 19,
    "start_time": "2022-11-04T20:28:05.900Z"
   },
   {
    "duration": 9,
    "start_time": "2022-11-04T20:28:05.931Z"
   },
   {
    "duration": 592,
    "start_time": "2022-11-04T20:28:05.942Z"
   },
   {
    "duration": 99,
    "start_time": "2022-11-04T20:28:06.536Z"
   },
   {
    "duration": 3669,
    "start_time": "2022-11-04T20:28:06.640Z"
   },
   {
    "duration": 10,
    "start_time": "2022-11-04T20:28:10.312Z"
   },
   {
    "duration": 613,
    "start_time": "2022-11-04T20:28:10.332Z"
   },
   {
    "duration": 685,
    "start_time": "2022-11-04T20:28:10.947Z"
   },
   {
    "duration": 6,
    "start_time": "2022-11-04T20:33:37.971Z"
   },
   {
    "duration": 77,
    "start_time": "2022-11-04T20:33:37.979Z"
   },
   {
    "duration": 12,
    "start_time": "2022-11-04T20:33:38.059Z"
   },
   {
    "duration": 23,
    "start_time": "2022-11-04T20:33:38.073Z"
   },
   {
    "duration": 36,
    "start_time": "2022-11-04T20:33:38.098Z"
   },
   {
    "duration": 6,
    "start_time": "2022-11-04T20:33:38.136Z"
   },
   {
    "duration": 18,
    "start_time": "2022-11-04T20:33:38.145Z"
   },
   {
    "duration": 17,
    "start_time": "2022-11-04T20:33:38.165Z"
   },
   {
    "duration": 58404,
    "start_time": "2022-11-04T20:33:38.186Z"
   },
   {
    "duration": 868,
    "start_time": "2022-11-04T20:34:36.591Z"
   },
   {
    "duration": 5,
    "start_time": "2022-11-04T20:34:37.461Z"
   },
   {
    "duration": 1177,
    "start_time": "2022-11-04T20:34:37.467Z"
   },
   {
    "duration": 27,
    "start_time": "2022-11-04T20:34:38.647Z"
   },
   {
    "duration": 10,
    "start_time": "2022-11-04T20:34:38.676Z"
   },
   {
    "duration": 654,
    "start_time": "2022-11-04T20:34:38.688Z"
   },
   {
    "duration": 103,
    "start_time": "2022-11-04T20:34:39.432Z"
   },
   {
    "duration": 3700,
    "start_time": "2022-11-04T20:34:39.537Z"
   },
   {
    "duration": 8,
    "start_time": "2022-11-04T20:34:43.239Z"
   },
   {
    "duration": 635,
    "start_time": "2022-11-04T20:34:43.249Z"
   },
   {
    "duration": 548,
    "start_time": "2022-11-04T20:34:43.886Z"
   },
   {
    "duration": 79,
    "start_time": "2022-11-04T20:38:06.608Z"
   },
   {
    "duration": 4,
    "start_time": "2022-11-04T20:40:26.255Z"
   },
   {
    "duration": 67,
    "start_time": "2022-11-04T20:40:26.268Z"
   },
   {
    "duration": 7,
    "start_time": "2022-11-04T20:40:26.338Z"
   },
   {
    "duration": 14,
    "start_time": "2022-11-04T20:40:26.347Z"
   },
   {
    "duration": 13,
    "start_time": "2022-11-04T20:40:26.363Z"
   },
   {
    "duration": 5,
    "start_time": "2022-11-04T20:40:26.379Z"
   },
   {
    "duration": 47,
    "start_time": "2022-11-04T20:40:26.386Z"
   },
   {
    "duration": 10,
    "start_time": "2022-11-04T20:40:26.434Z"
   },
   {
    "duration": 61687,
    "start_time": "2022-11-04T20:40:26.446Z"
   },
   {
    "duration": 1072,
    "start_time": "2022-11-04T20:41:28.135Z"
   },
   {
    "duration": 4,
    "start_time": "2022-11-04T20:41:29.209Z"
   },
   {
    "duration": 1443,
    "start_time": "2022-11-04T20:41:29.215Z"
   },
   {
    "duration": 76,
    "start_time": "2022-11-04T20:41:30.660Z"
   },
   {
    "duration": 13,
    "start_time": "2022-11-04T20:41:30.738Z"
   },
   {
    "duration": 5078,
    "start_time": "2022-11-04T20:41:30.754Z"
   },
   {
    "duration": 117,
    "start_time": "2022-11-04T20:41:35.834Z"
   },
   {
    "duration": 9868,
    "start_time": "2022-11-04T20:41:35.953Z"
   },
   {
    "duration": 12,
    "start_time": "2022-11-04T20:41:45.823Z"
   },
   {
    "duration": 1759,
    "start_time": "2022-11-04T20:41:45.837Z"
   },
   {
    "duration": 8646,
    "start_time": "2022-11-04T20:41:47.598Z"
   },
   {
    "duration": 5,
    "start_time": "2022-11-04T20:42:24.625Z"
   },
   {
    "duration": 75,
    "start_time": "2022-11-04T20:42:24.636Z"
   },
   {
    "duration": 8,
    "start_time": "2022-11-04T20:42:24.713Z"
   },
   {
    "duration": 21,
    "start_time": "2022-11-04T20:42:24.723Z"
   },
   {
    "duration": 18,
    "start_time": "2022-11-04T20:42:24.747Z"
   },
   {
    "duration": 5,
    "start_time": "2022-11-04T20:42:24.767Z"
   },
   {
    "duration": 13,
    "start_time": "2022-11-04T20:42:24.774Z"
   },
   {
    "duration": 43,
    "start_time": "2022-11-04T20:42:24.789Z"
   },
   {
    "duration": 60301,
    "start_time": "2022-11-04T20:42:24.834Z"
   },
   {
    "duration": 910,
    "start_time": "2022-11-04T20:43:25.137Z"
   },
   {
    "duration": 6,
    "start_time": "2022-11-04T20:43:26.049Z"
   },
   {
    "duration": 437,
    "start_time": "2022-11-04T20:43:26.059Z"
   },
   {
    "duration": 21,
    "start_time": "2022-11-04T20:43:26.498Z"
   },
   {
    "duration": 9,
    "start_time": "2022-11-04T20:43:26.531Z"
   },
   {
    "duration": 993,
    "start_time": "2022-11-04T20:43:26.543Z"
   },
   {
    "duration": 106,
    "start_time": "2022-11-04T20:43:27.538Z"
   },
   {
    "duration": 3716,
    "start_time": "2022-11-04T20:43:27.647Z"
   },
   {
    "duration": 13,
    "start_time": "2022-11-04T20:43:31.366Z"
   },
   {
    "duration": 805,
    "start_time": "2022-11-04T20:43:31.382Z"
   },
   {
    "duration": 1071,
    "start_time": "2022-11-04T20:43:32.189Z"
   },
   {
    "duration": 4,
    "start_time": "2022-11-04T20:47:19.425Z"
   },
   {
    "duration": 53,
    "start_time": "2022-11-04T20:47:19.452Z"
   },
   {
    "duration": 8,
    "start_time": "2022-11-04T20:47:19.508Z"
   },
   {
    "duration": 20,
    "start_time": "2022-11-04T20:47:19.519Z"
   },
   {
    "duration": 13,
    "start_time": "2022-11-04T20:47:19.543Z"
   },
   {
    "duration": 4,
    "start_time": "2022-11-04T20:47:19.558Z"
   },
   {
    "duration": 12,
    "start_time": "2022-11-04T20:47:19.563Z"
   },
   {
    "duration": 9,
    "start_time": "2022-11-04T20:47:19.577Z"
   },
   {
    "duration": 61100,
    "start_time": "2022-11-04T20:47:19.589Z"
   },
   {
    "duration": 918,
    "start_time": "2022-11-04T20:48:20.692Z"
   },
   {
    "duration": 5,
    "start_time": "2022-11-04T20:48:21.611Z"
   },
   {
    "duration": 489,
    "start_time": "2022-11-04T20:48:21.618Z"
   },
   {
    "duration": 28,
    "start_time": "2022-11-04T20:48:22.109Z"
   },
   {
    "duration": 10,
    "start_time": "2022-11-04T20:48:22.143Z"
   },
   {
    "duration": 791,
    "start_time": "2022-11-04T20:48:22.155Z"
   },
   {
    "duration": 89,
    "start_time": "2022-11-04T20:48:22.949Z"
   },
   {
    "duration": 3831,
    "start_time": "2022-11-04T20:48:23.042Z"
   },
   {
    "duration": 13,
    "start_time": "2022-11-04T20:48:26.876Z"
   },
   {
    "duration": 658,
    "start_time": "2022-11-04T20:48:26.892Z"
   },
   {
    "duration": 1098,
    "start_time": "2022-11-04T20:48:27.552Z"
   },
   {
    "duration": 47,
    "start_time": "2022-11-05T09:16:46.115Z"
   },
   {
    "duration": 1537,
    "start_time": "2022-11-05T09:16:56.168Z"
   },
   {
    "duration": 150,
    "start_time": "2022-11-05T09:16:57.707Z"
   },
   {
    "duration": 10,
    "start_time": "2022-11-05T09:16:57.859Z"
   },
   {
    "duration": 11,
    "start_time": "2022-11-05T09:16:57.871Z"
   },
   {
    "duration": 11,
    "start_time": "2022-11-05T09:16:57.883Z"
   },
   {
    "duration": 4,
    "start_time": "2022-11-05T09:16:57.896Z"
   },
   {
    "duration": 14,
    "start_time": "2022-11-05T09:16:57.901Z"
   },
   {
    "duration": 8,
    "start_time": "2022-11-05T09:16:57.917Z"
   },
   {
    "duration": 50276,
    "start_time": "2022-11-05T09:16:57.927Z"
   },
   {
    "duration": 767,
    "start_time": "2022-11-05T09:17:48.205Z"
   },
   {
    "duration": 13,
    "start_time": "2022-11-05T09:17:48.975Z"
   },
   {
    "duration": 5,
    "start_time": "2022-11-05T09:17:48.990Z"
   },
   {
    "duration": 419,
    "start_time": "2022-11-05T09:17:48.997Z"
   },
   {
    "duration": 31,
    "start_time": "2022-11-05T09:17:49.418Z"
   },
   {
    "duration": 8,
    "start_time": "2022-11-05T09:17:49.451Z"
   },
   {
    "duration": 630,
    "start_time": "2022-11-05T09:17:49.462Z"
   },
   {
    "duration": 106,
    "start_time": "2022-11-05T09:17:50.094Z"
   },
   {
    "duration": 3193,
    "start_time": "2022-11-05T09:17:50.203Z"
   },
   {
    "duration": 7,
    "start_time": "2022-11-05T09:17:53.397Z"
   },
   {
    "duration": 586,
    "start_time": "2022-11-05T09:17:53.406Z"
   },
   {
    "duration": 601,
    "start_time": "2022-11-05T09:17:53.993Z"
   },
   {
    "duration": 3,
    "start_time": "2022-11-05T09:20:59.262Z"
   },
   {
    "duration": 49,
    "start_time": "2022-11-05T09:20:59.281Z"
   },
   {
    "duration": 6,
    "start_time": "2022-11-05T09:20:59.332Z"
   },
   {
    "duration": 11,
    "start_time": "2022-11-05T09:20:59.340Z"
   },
   {
    "duration": 11,
    "start_time": "2022-11-05T09:20:59.352Z"
   },
   {
    "duration": 14,
    "start_time": "2022-11-05T09:20:59.364Z"
   },
   {
    "duration": 21,
    "start_time": "2022-11-05T09:20:59.379Z"
   },
   {
    "duration": 14,
    "start_time": "2022-11-05T09:20:59.401Z"
   },
   {
    "duration": 11,
    "start_time": "2022-11-05T09:20:59.627Z"
   },
   {
    "duration": 661,
    "start_time": "2022-11-05T09:20:59.640Z"
   },
   {
    "duration": 4,
    "start_time": "2022-11-05T09:21:00.303Z"
   },
   {
    "duration": 406,
    "start_time": "2022-11-05T09:21:00.309Z"
   },
   {
    "duration": 19,
    "start_time": "2022-11-05T09:21:00.716Z"
   },
   {
    "duration": 9,
    "start_time": "2022-11-05T09:21:00.736Z"
   },
   {
    "duration": 354,
    "start_time": "2022-11-05T09:21:00.746Z"
   },
   {
    "duration": 13,
    "start_time": "2022-11-05T09:21:01.192Z"
   },
   {
    "duration": 3203,
    "start_time": "2022-11-05T09:21:01.208Z"
   },
   {
    "duration": 9,
    "start_time": "2022-11-05T09:21:04.413Z"
   },
   {
    "duration": 579,
    "start_time": "2022-11-05T09:21:04.424Z"
   },
   {
    "duration": 492,
    "start_time": "2022-11-05T09:21:05.005Z"
   },
   {
    "duration": 77,
    "start_time": "2022-11-05T09:23:19.784Z"
   },
   {
    "duration": 33,
    "start_time": "2022-11-05T09:28:15.461Z"
   },
   {
    "duration": 33,
    "start_time": "2022-11-05T09:28:36.732Z"
   },
   {
    "duration": 88,
    "start_time": "2022-11-05T09:29:02.768Z"
   },
   {
    "duration": 3,
    "start_time": "2022-11-05T09:29:08.974Z"
   },
   {
    "duration": 51,
    "start_time": "2022-11-05T09:29:08.992Z"
   },
   {
    "duration": 7,
    "start_time": "2022-11-05T09:29:09.046Z"
   },
   {
    "duration": 14,
    "start_time": "2022-11-05T09:29:09.055Z"
   },
   {
    "duration": 11,
    "start_time": "2022-11-05T09:29:09.070Z"
   },
   {
    "duration": 10,
    "start_time": "2022-11-05T09:29:09.083Z"
   },
   {
    "duration": 10,
    "start_time": "2022-11-05T09:29:09.095Z"
   },
   {
    "duration": 11,
    "start_time": "2022-11-05T09:29:09.107Z"
   },
   {
    "duration": 14,
    "start_time": "2022-11-05T09:29:09.120Z"
   },
   {
    "duration": 717,
    "start_time": "2022-11-05T09:29:09.136Z"
   },
   {
    "duration": 3,
    "start_time": "2022-11-05T09:29:09.855Z"
   },
   {
    "duration": 384,
    "start_time": "2022-11-05T09:29:09.860Z"
   },
   {
    "duration": 18,
    "start_time": "2022-11-05T09:29:10.246Z"
   },
   {
    "duration": 8,
    "start_time": "2022-11-05T09:29:10.265Z"
   },
   {
    "duration": 419,
    "start_time": "2022-11-05T09:29:10.275Z"
   },
   {
    "duration": 98,
    "start_time": "2022-11-05T09:29:10.696Z"
   },
   {
    "duration": 3938,
    "start_time": "2022-11-05T09:29:10.796Z"
   },
   {
    "duration": 7,
    "start_time": "2022-11-05T09:29:14.791Z"
   },
   {
    "duration": 855,
    "start_time": "2022-11-05T09:29:14.800Z"
   },
   {
    "duration": 437,
    "start_time": "2022-11-05T09:29:15.658Z"
   },
   {
    "duration": 3,
    "start_time": "2022-11-05T09:30:27.794Z"
   },
   {
    "duration": 51,
    "start_time": "2022-11-05T09:30:27.801Z"
   },
   {
    "duration": 6,
    "start_time": "2022-11-05T09:30:27.854Z"
   },
   {
    "duration": 12,
    "start_time": "2022-11-05T09:30:27.861Z"
   },
   {
    "duration": 11,
    "start_time": "2022-11-05T09:30:27.875Z"
   },
   {
    "duration": 4,
    "start_time": "2022-11-05T09:30:27.891Z"
   },
   {
    "duration": 10,
    "start_time": "2022-11-05T09:30:27.897Z"
   },
   {
    "duration": 9,
    "start_time": "2022-11-05T09:30:27.909Z"
   },
   {
    "duration": 13,
    "start_time": "2022-11-05T09:30:27.920Z"
   },
   {
    "duration": 662,
    "start_time": "2022-11-05T09:30:27.935Z"
   },
   {
    "duration": 3,
    "start_time": "2022-11-05T09:30:28.599Z"
   },
   {
    "duration": 369,
    "start_time": "2022-11-05T09:30:28.604Z"
   },
   {
    "duration": 21,
    "start_time": "2022-11-05T09:30:28.974Z"
   },
   {
    "duration": 7,
    "start_time": "2022-11-05T09:30:28.997Z"
   },
   {
    "duration": 397,
    "start_time": "2022-11-05T09:30:29.006Z"
   },
   {
    "duration": 13,
    "start_time": "2022-11-05T09:30:29.491Z"
   },
   {
    "duration": 4063,
    "start_time": "2022-11-05T09:30:29.505Z"
   },
   {
    "duration": 7,
    "start_time": "2022-11-05T09:30:33.570Z"
   },
   {
    "duration": 586,
    "start_time": "2022-11-05T09:30:33.579Z"
   },
   {
    "duration": 526,
    "start_time": "2022-11-05T09:30:34.167Z"
   },
   {
    "duration": 30,
    "start_time": "2022-11-05T09:32:31.519Z"
   },
   {
    "duration": 20,
    "start_time": "2022-11-05T09:32:34.282Z"
   },
   {
    "duration": 3,
    "start_time": "2022-11-05T09:32:38.870Z"
   },
   {
    "duration": 50,
    "start_time": "2022-11-05T09:32:38.915Z"
   },
   {
    "duration": 7,
    "start_time": "2022-11-05T09:32:38.968Z"
   },
   {
    "duration": 13,
    "start_time": "2022-11-05T09:32:38.976Z"
   },
   {
    "duration": 11,
    "start_time": "2022-11-05T09:32:38.990Z"
   },
   {
    "duration": 4,
    "start_time": "2022-11-05T09:32:39.003Z"
   },
   {
    "duration": 10,
    "start_time": "2022-11-05T09:32:39.008Z"
   },
   {
    "duration": 10,
    "start_time": "2022-11-05T09:32:39.020Z"
   },
   {
    "duration": 12,
    "start_time": "2022-11-05T09:32:39.031Z"
   },
   {
    "duration": 955,
    "start_time": "2022-11-05T09:32:39.045Z"
   },
   {
    "duration": 4,
    "start_time": "2022-11-05T09:32:40.003Z"
   },
   {
    "duration": 395,
    "start_time": "2022-11-05T09:32:40.009Z"
   },
   {
    "duration": 23,
    "start_time": "2022-11-05T09:32:40.406Z"
   },
   {
    "duration": 8,
    "start_time": "2022-11-05T09:32:40.432Z"
   },
   {
    "duration": 751,
    "start_time": "2022-11-05T09:32:40.443Z"
   },
   {
    "duration": 103,
    "start_time": "2022-11-05T09:32:41.197Z"
   },
   {
    "duration": 3272,
    "start_time": "2022-11-05T09:32:41.302Z"
   },
   {
    "duration": 7,
    "start_time": "2022-11-05T09:32:44.576Z"
   },
   {
    "duration": 559,
    "start_time": "2022-11-05T09:32:44.590Z"
   },
   {
    "duration": 542,
    "start_time": "2022-11-05T09:32:45.151Z"
   },
   {
    "duration": 28,
    "start_time": "2022-11-05T09:33:11.048Z"
   },
   {
    "duration": 20,
    "start_time": "2022-11-05T09:33:11.661Z"
   },
   {
    "duration": 3,
    "start_time": "2022-11-05T09:33:14.678Z"
   },
   {
    "duration": 51,
    "start_time": "2022-11-05T09:33:14.698Z"
   },
   {
    "duration": 6,
    "start_time": "2022-11-05T09:33:14.751Z"
   },
   {
    "duration": 16,
    "start_time": "2022-11-05T09:33:14.759Z"
   },
   {
    "duration": 15,
    "start_time": "2022-11-05T09:33:14.776Z"
   },
   {
    "duration": 4,
    "start_time": "2022-11-05T09:33:14.793Z"
   },
   {
    "duration": 13,
    "start_time": "2022-11-05T09:33:14.799Z"
   },
   {
    "duration": 10,
    "start_time": "2022-11-05T09:33:14.814Z"
   },
   {
    "duration": 11,
    "start_time": "2022-11-05T09:33:14.825Z"
   },
   {
    "duration": 694,
    "start_time": "2022-11-05T09:33:14.838Z"
   },
   {
    "duration": 4,
    "start_time": "2022-11-05T09:33:15.533Z"
   },
   {
    "duration": 363,
    "start_time": "2022-11-05T09:33:15.538Z"
   },
   {
    "duration": 18,
    "start_time": "2022-11-05T09:33:15.903Z"
   },
   {
    "duration": 7,
    "start_time": "2022-11-05T09:33:15.923Z"
   },
   {
    "duration": 365,
    "start_time": "2022-11-05T09:33:15.932Z"
   },
   {
    "duration": 100,
    "start_time": "2022-11-05T09:33:16.299Z"
   },
   {
    "duration": 3337,
    "start_time": "2022-11-05T09:33:16.405Z"
   },
   {
    "duration": 7,
    "start_time": "2022-11-05T09:33:19.744Z"
   },
   {
    "duration": 566,
    "start_time": "2022-11-05T09:33:19.752Z"
   },
   {
    "duration": 576,
    "start_time": "2022-11-05T09:33:20.319Z"
   },
   {
    "duration": 15,
    "start_time": "2022-11-05T09:35:37.227Z"
   },
   {
    "duration": 13,
    "start_time": "2022-11-05T09:35:38.805Z"
   },
   {
    "duration": 4,
    "start_time": "2022-11-05T09:35:41.743Z"
   },
   {
    "duration": 50,
    "start_time": "2022-11-05T09:35:41.764Z"
   },
   {
    "duration": 7,
    "start_time": "2022-11-05T09:35:41.816Z"
   },
   {
    "duration": 14,
    "start_time": "2022-11-05T09:35:41.824Z"
   },
   {
    "duration": 11,
    "start_time": "2022-11-05T09:35:41.840Z"
   },
   {
    "duration": 3,
    "start_time": "2022-11-05T09:35:41.853Z"
   },
   {
    "duration": 39,
    "start_time": "2022-11-05T09:35:41.858Z"
   },
   {
    "duration": 10,
    "start_time": "2022-11-05T09:35:41.898Z"
   },
   {
    "duration": 16,
    "start_time": "2022-11-05T09:35:41.909Z"
   },
   {
    "duration": 0,
    "start_time": "2022-11-05T09:35:41.927Z"
   },
   {
    "duration": 0,
    "start_time": "2022-11-05T09:35:41.928Z"
   },
   {
    "duration": 0,
    "start_time": "2022-11-05T09:35:41.930Z"
   },
   {
    "duration": 0,
    "start_time": "2022-11-05T09:35:41.931Z"
   },
   {
    "duration": 0,
    "start_time": "2022-11-05T09:35:41.932Z"
   },
   {
    "duration": 0,
    "start_time": "2022-11-05T09:35:41.934Z"
   },
   {
    "duration": 0,
    "start_time": "2022-11-05T09:35:41.934Z"
   },
   {
    "duration": 0,
    "start_time": "2022-11-05T09:35:41.935Z"
   },
   {
    "duration": 0,
    "start_time": "2022-11-05T09:35:41.936Z"
   },
   {
    "duration": 0,
    "start_time": "2022-11-05T09:35:41.937Z"
   },
   {
    "duration": 0,
    "start_time": "2022-11-05T09:35:41.938Z"
   },
   {
    "duration": 13,
    "start_time": "2022-11-05T09:36:17.519Z"
   },
   {
    "duration": 618,
    "start_time": "2022-11-05T09:36:18.862Z"
   },
   {
    "duration": 4,
    "start_time": "2022-11-05T09:36:38.722Z"
   },
   {
    "duration": 50,
    "start_time": "2022-11-05T09:36:38.748Z"
   },
   {
    "duration": 7,
    "start_time": "2022-11-05T09:36:38.800Z"
   },
   {
    "duration": 11,
    "start_time": "2022-11-05T09:36:38.808Z"
   },
   {
    "duration": 11,
    "start_time": "2022-11-05T09:36:38.821Z"
   },
   {
    "duration": 3,
    "start_time": "2022-11-05T09:36:38.834Z"
   },
   {
    "duration": 10,
    "start_time": "2022-11-05T09:36:38.839Z"
   },
   {
    "duration": 48,
    "start_time": "2022-11-05T09:36:38.851Z"
   },
   {
    "duration": 13,
    "start_time": "2022-11-05T09:36:38.901Z"
   },
   {
    "duration": 0,
    "start_time": "2022-11-05T09:36:38.915Z"
   },
   {
    "duration": 0,
    "start_time": "2022-11-05T09:36:38.916Z"
   },
   {
    "duration": 0,
    "start_time": "2022-11-05T09:36:38.917Z"
   },
   {
    "duration": 0,
    "start_time": "2022-11-05T09:36:38.918Z"
   },
   {
    "duration": 0,
    "start_time": "2022-11-05T09:36:38.919Z"
   },
   {
    "duration": 0,
    "start_time": "2022-11-05T09:36:38.920Z"
   },
   {
    "duration": 0,
    "start_time": "2022-11-05T09:36:38.921Z"
   },
   {
    "duration": 0,
    "start_time": "2022-11-05T09:36:38.922Z"
   },
   {
    "duration": 0,
    "start_time": "2022-11-05T09:36:38.923Z"
   },
   {
    "duration": 0,
    "start_time": "2022-11-05T09:36:38.925Z"
   },
   {
    "duration": 0,
    "start_time": "2022-11-05T09:36:38.925Z"
   },
   {
    "duration": 690,
    "start_time": "2022-11-05T09:37:30.028Z"
   },
   {
    "duration": 4,
    "start_time": "2022-11-05T09:37:50.481Z"
   },
   {
    "duration": 51,
    "start_time": "2022-11-05T09:37:50.504Z"
   },
   {
    "duration": 8,
    "start_time": "2022-11-05T09:37:50.557Z"
   },
   {
    "duration": 13,
    "start_time": "2022-11-05T09:37:50.567Z"
   },
   {
    "duration": 13,
    "start_time": "2022-11-05T09:37:50.581Z"
   },
   {
    "duration": 4,
    "start_time": "2022-11-05T09:37:50.597Z"
   },
   {
    "duration": 10,
    "start_time": "2022-11-05T09:37:50.602Z"
   },
   {
    "duration": 10,
    "start_time": "2022-11-05T09:37:50.614Z"
   },
   {
    "duration": 14,
    "start_time": "2022-11-05T09:37:50.625Z"
   },
   {
    "duration": 654,
    "start_time": "2022-11-05T09:37:50.642Z"
   },
   {
    "duration": 4,
    "start_time": "2022-11-05T09:37:51.298Z"
   },
   {
    "duration": 353,
    "start_time": "2022-11-05T09:37:51.304Z"
   },
   {
    "duration": 19,
    "start_time": "2022-11-05T09:37:51.659Z"
   },
   {
    "duration": 15,
    "start_time": "2022-11-05T09:37:51.680Z"
   },
   {
    "duration": 398,
    "start_time": "2022-11-05T09:37:51.697Z"
   },
   {
    "duration": 103,
    "start_time": "2022-11-05T09:37:52.097Z"
   },
   {
    "duration": 4101,
    "start_time": "2022-11-05T09:37:52.204Z"
   },
   {
    "duration": 8,
    "start_time": "2022-11-05T09:37:56.307Z"
   },
   {
    "duration": 643,
    "start_time": "2022-11-05T09:37:56.317Z"
   },
   {
    "duration": 537,
    "start_time": "2022-11-05T09:37:56.962Z"
   },
   {
    "duration": 557,
    "start_time": "2022-11-05T09:45:10.341Z"
   },
   {
    "duration": 358,
    "start_time": "2022-11-05T09:45:26.566Z"
   },
   {
    "duration": 190,
    "start_time": "2022-11-05T09:45:34.481Z"
   },
   {
    "duration": 294,
    "start_time": "2022-11-05T09:45:44.466Z"
   },
   {
    "duration": 11,
    "start_time": "2022-11-05T11:57:39.019Z"
   },
   {
    "duration": 22,
    "start_time": "2022-11-05T11:57:45.513Z"
   },
   {
    "duration": 288,
    "start_time": "2022-11-05T11:58:23.366Z"
   },
   {
    "duration": 14,
    "start_time": "2022-11-05T11:59:20.377Z"
   },
   {
    "duration": 3,
    "start_time": "2022-11-05T11:59:25.478Z"
   },
   {
    "duration": 50,
    "start_time": "2022-11-05T11:59:25.495Z"
   },
   {
    "duration": 6,
    "start_time": "2022-11-05T11:59:25.546Z"
   },
   {
    "duration": 24,
    "start_time": "2022-11-05T11:59:25.554Z"
   },
   {
    "duration": 12,
    "start_time": "2022-11-05T11:59:25.580Z"
   },
   {
    "duration": 3,
    "start_time": "2022-11-05T11:59:25.594Z"
   },
   {
    "duration": 23,
    "start_time": "2022-11-05T11:59:25.598Z"
   },
   {
    "duration": 10,
    "start_time": "2022-11-05T11:59:25.623Z"
   },
   {
    "duration": 20,
    "start_time": "2022-11-05T11:59:25.635Z"
   },
   {
    "duration": 301,
    "start_time": "2022-11-05T11:59:25.657Z"
   },
   {
    "duration": 704,
    "start_time": "2022-11-05T11:59:25.960Z"
   },
   {
    "duration": 4,
    "start_time": "2022-11-05T11:59:26.692Z"
   },
   {
    "duration": 375,
    "start_time": "2022-11-05T11:59:26.698Z"
   },
   {
    "duration": 21,
    "start_time": "2022-11-05T11:59:27.074Z"
   },
   {
    "duration": 7,
    "start_time": "2022-11-05T11:59:27.098Z"
   },
   {
    "duration": 387,
    "start_time": "2022-11-05T11:59:27.107Z"
   },
   {
    "duration": 100,
    "start_time": "2022-11-05T11:59:27.496Z"
   },
   {
    "duration": 4126,
    "start_time": "2022-11-05T11:59:27.598Z"
   },
   {
    "duration": 7,
    "start_time": "2022-11-05T11:59:31.725Z"
   },
   {
    "duration": 1174,
    "start_time": "2022-11-05T11:59:31.734Z"
   },
   {
    "duration": 583,
    "start_time": "2022-11-05T11:59:32.910Z"
   },
   {
    "duration": 4,
    "start_time": "2022-11-05T12:37:55.791Z"
   },
   {
    "duration": 3,
    "start_time": "2022-11-05T12:38:05.313Z"
   },
   {
    "duration": 14,
    "start_time": "2022-11-05T12:38:23.541Z"
   },
   {
    "duration": 4,
    "start_time": "2022-11-05T12:38:24.575Z"
   },
   {
    "duration": 14,
    "start_time": "2022-11-05T12:39:08.466Z"
   },
   {
    "duration": 14,
    "start_time": "2022-11-05T12:39:21.641Z"
   },
   {
    "duration": 3,
    "start_time": "2022-11-05T12:39:23.463Z"
   },
   {
    "duration": 4,
    "start_time": "2022-11-05T12:39:33.187Z"
   },
   {
    "duration": 4,
    "start_time": "2022-11-05T12:39:41.061Z"
   },
   {
    "duration": 4,
    "start_time": "2022-11-05T12:39:56.593Z"
   },
   {
    "duration": 3,
    "start_time": "2022-11-05T12:40:05.625Z"
   },
   {
    "duration": 49,
    "start_time": "2022-11-05T12:40:05.659Z"
   },
   {
    "duration": 6,
    "start_time": "2022-11-05T12:40:05.710Z"
   },
   {
    "duration": 12,
    "start_time": "2022-11-05T12:40:05.718Z"
   },
   {
    "duration": 11,
    "start_time": "2022-11-05T12:40:05.732Z"
   },
   {
    "duration": 4,
    "start_time": "2022-11-05T12:40:05.745Z"
   },
   {
    "duration": 11,
    "start_time": "2022-11-05T12:40:05.750Z"
   },
   {
    "duration": 38,
    "start_time": "2022-11-05T12:40:05.762Z"
   },
   {
    "duration": 14,
    "start_time": "2022-11-05T12:40:05.801Z"
   },
   {
    "duration": 329,
    "start_time": "2022-11-05T12:40:05.816Z"
   },
   {
    "duration": 275,
    "start_time": "2022-11-05T12:40:06.147Z"
   },
   {
    "duration": 5,
    "start_time": "2022-11-05T12:40:06.424Z"
   },
   {
    "duration": 476,
    "start_time": "2022-11-05T12:40:06.430Z"
   },
   {
    "duration": 21,
    "start_time": "2022-11-05T12:40:06.909Z"
   },
   {
    "duration": 5,
    "start_time": "2022-11-05T12:40:06.931Z"
   },
   {
    "duration": 15,
    "start_time": "2022-11-05T12:40:06.938Z"
   },
   {
    "duration": 740,
    "start_time": "2022-11-05T12:40:06.955Z"
   },
   {
    "duration": 100,
    "start_time": "2022-11-05T12:40:07.700Z"
   },
   {
    "duration": 2479,
    "start_time": "2022-11-05T12:40:07.805Z"
   },
   {
    "duration": 10,
    "start_time": "2022-11-05T12:40:10.286Z"
   },
   {
    "duration": 437,
    "start_time": "2022-11-05T12:40:10.298Z"
   },
   {
    "duration": 363,
    "start_time": "2022-11-05T12:40:10.736Z"
   },
   {
    "duration": 3,
    "start_time": "2022-11-05T12:40:30.282Z"
   },
   {
    "duration": 3,
    "start_time": "2022-11-05T12:40:36.192Z"
   },
   {
    "duration": 4,
    "start_time": "2022-11-05T12:40:48.602Z"
   },
   {
    "duration": 8,
    "start_time": "2022-11-05T12:45:17.026Z"
   },
   {
    "duration": 3,
    "start_time": "2022-11-05T12:45:21.234Z"
   },
   {
    "duration": 50,
    "start_time": "2022-11-05T12:45:21.256Z"
   },
   {
    "duration": 7,
    "start_time": "2022-11-05T12:45:21.308Z"
   },
   {
    "duration": 13,
    "start_time": "2022-11-05T12:45:21.316Z"
   },
   {
    "duration": 12,
    "start_time": "2022-11-05T12:45:21.331Z"
   },
   {
    "duration": 3,
    "start_time": "2022-11-05T12:45:21.345Z"
   },
   {
    "duration": 46,
    "start_time": "2022-11-05T12:45:21.350Z"
   },
   {
    "duration": 9,
    "start_time": "2022-11-05T12:45:21.397Z"
   },
   {
    "duration": 12,
    "start_time": "2022-11-05T12:45:21.407Z"
   },
   {
    "duration": 322,
    "start_time": "2022-11-05T12:45:21.420Z"
   },
   {
    "duration": 273,
    "start_time": "2022-11-05T12:45:21.744Z"
   },
   {
    "duration": 4,
    "start_time": "2022-11-05T12:45:22.018Z"
   },
   {
    "duration": 363,
    "start_time": "2022-11-05T12:45:22.023Z"
   },
   {
    "duration": 19,
    "start_time": "2022-11-05T12:45:22.388Z"
   },
   {
    "duration": 10,
    "start_time": "2022-11-05T12:45:22.410Z"
   },
   {
    "duration": 374,
    "start_time": "2022-11-05T12:45:22.422Z"
   },
   {
    "duration": 194,
    "start_time": "2022-11-05T12:45:22.798Z"
   },
   {
    "duration": 2370,
    "start_time": "2022-11-05T12:45:22.993Z"
   },
   {
    "duration": 7,
    "start_time": "2022-11-05T12:45:25.364Z"
   },
   {
    "duration": 420,
    "start_time": "2022-11-05T12:45:25.373Z"
   },
   {
    "duration": 403,
    "start_time": "2022-11-05T12:45:25.795Z"
   },
   {
    "duration": 4,
    "start_time": "2022-11-05T12:47:17.270Z"
   },
   {
    "duration": 50,
    "start_time": "2022-11-05T12:47:17.290Z"
   },
   {
    "duration": 7,
    "start_time": "2022-11-05T12:47:17.343Z"
   },
   {
    "duration": 14,
    "start_time": "2022-11-05T12:47:17.351Z"
   },
   {
    "duration": 11,
    "start_time": "2022-11-05T12:47:17.366Z"
   },
   {
    "duration": 13,
    "start_time": "2022-11-05T12:47:17.379Z"
   },
   {
    "duration": 11,
    "start_time": "2022-11-05T12:47:17.393Z"
   },
   {
    "duration": 10,
    "start_time": "2022-11-05T12:47:17.405Z"
   },
   {
    "duration": 12,
    "start_time": "2022-11-05T12:47:17.417Z"
   },
   {
    "duration": 323,
    "start_time": "2022-11-05T12:47:17.431Z"
   },
   {
    "duration": 274,
    "start_time": "2022-11-05T12:47:17.755Z"
   },
   {
    "duration": 4,
    "start_time": "2022-11-05T12:47:18.031Z"
   },
   {
    "duration": 377,
    "start_time": "2022-11-05T12:47:18.037Z"
   },
   {
    "duration": 19,
    "start_time": "2022-11-05T12:47:18.416Z"
   },
   {
    "duration": 9,
    "start_time": "2022-11-05T12:47:18.439Z"
   },
   {
    "duration": 443,
    "start_time": "2022-11-05T12:47:18.450Z"
   },
   {
    "duration": 98,
    "start_time": "2022-11-05T12:47:18.895Z"
   },
   {
    "duration": 2603,
    "start_time": "2022-11-05T12:47:18.995Z"
   },
   {
    "duration": 7,
    "start_time": "2022-11-05T12:47:21.600Z"
   },
   {
    "duration": 486,
    "start_time": "2022-11-05T12:47:21.609Z"
   },
   {
    "duration": 496,
    "start_time": "2022-11-05T12:47:22.096Z"
   },
   {
    "duration": 3,
    "start_time": "2022-11-05T12:49:29.401Z"
   },
   {
    "duration": 49,
    "start_time": "2022-11-05T12:49:29.417Z"
   },
   {
    "duration": 6,
    "start_time": "2022-11-05T12:49:29.468Z"
   },
   {
    "duration": 13,
    "start_time": "2022-11-05T12:49:29.476Z"
   },
   {
    "duration": 10,
    "start_time": "2022-11-05T12:49:29.491Z"
   },
   {
    "duration": 4,
    "start_time": "2022-11-05T12:49:29.503Z"
   },
   {
    "duration": 10,
    "start_time": "2022-11-05T12:49:29.508Z"
   },
   {
    "duration": 9,
    "start_time": "2022-11-05T12:49:29.520Z"
   },
   {
    "duration": 10,
    "start_time": "2022-11-05T12:49:29.530Z"
   },
   {
    "duration": 349,
    "start_time": "2022-11-05T12:49:29.542Z"
   },
   {
    "duration": 246,
    "start_time": "2022-11-05T12:49:29.892Z"
   },
   {
    "duration": 4,
    "start_time": "2022-11-05T12:49:30.139Z"
   },
   {
    "duration": 367,
    "start_time": "2022-11-05T12:49:30.144Z"
   },
   {
    "duration": 21,
    "start_time": "2022-11-05T12:49:30.512Z"
   },
   {
    "duration": 23,
    "start_time": "2022-11-05T12:49:30.536Z"
   },
   {
    "duration": 338,
    "start_time": "2022-11-05T12:49:30.560Z"
   },
   {
    "duration": 9,
    "start_time": "2022-11-05T12:49:30.990Z"
   },
   {
    "duration": 2463,
    "start_time": "2022-11-05T12:49:31.001Z"
   },
   {
    "duration": 7,
    "start_time": "2022-11-05T12:49:33.466Z"
   },
   {
    "duration": 433,
    "start_time": "2022-11-05T12:49:33.475Z"
   },
   {
    "duration": 483,
    "start_time": "2022-11-05T12:49:33.910Z"
   },
   {
    "duration": 7,
    "start_time": "2022-11-05T12:50:56.268Z"
   },
   {
    "duration": 4,
    "start_time": "2022-11-05T12:51:09.152Z"
   },
   {
    "duration": 49,
    "start_time": "2022-11-05T12:51:09.177Z"
   },
   {
    "duration": 6,
    "start_time": "2022-11-05T12:51:09.228Z"
   },
   {
    "duration": 15,
    "start_time": "2022-11-05T12:51:09.235Z"
   },
   {
    "duration": 12,
    "start_time": "2022-11-05T12:51:09.252Z"
   },
   {
    "duration": 25,
    "start_time": "2022-11-05T12:51:09.267Z"
   },
   {
    "duration": 13,
    "start_time": "2022-11-05T12:51:09.293Z"
   },
   {
    "duration": 11,
    "start_time": "2022-11-05T12:51:09.307Z"
   },
   {
    "duration": 17,
    "start_time": "2022-11-05T12:51:09.319Z"
   },
   {
    "duration": 337,
    "start_time": "2022-11-05T12:51:09.338Z"
   },
   {
    "duration": 261,
    "start_time": "2022-11-05T12:51:09.677Z"
   },
   {
    "duration": 4,
    "start_time": "2022-11-05T12:51:09.939Z"
   },
   {
    "duration": 363,
    "start_time": "2022-11-05T12:51:09.944Z"
   },
   {
    "duration": 19,
    "start_time": "2022-11-05T12:51:10.308Z"
   },
   {
    "duration": 9,
    "start_time": "2022-11-05T12:51:10.330Z"
   },
   {
    "duration": 352,
    "start_time": "2022-11-05T12:51:10.340Z"
   },
   {
    "duration": 101,
    "start_time": "2022-11-05T12:51:10.694Z"
   },
   {
    "duration": 2465,
    "start_time": "2022-11-05T12:51:10.797Z"
   },
   {
    "duration": 7,
    "start_time": "2022-11-05T12:51:13.264Z"
   },
   {
    "duration": 440,
    "start_time": "2022-11-05T12:51:13.273Z"
   },
   {
    "duration": 480,
    "start_time": "2022-11-05T12:51:13.714Z"
   },
   {
    "duration": 8,
    "start_time": "2022-11-05T12:51:42.144Z"
   },
   {
    "duration": 3,
    "start_time": "2022-11-05T12:52:07.451Z"
   },
   {
    "duration": 50,
    "start_time": "2022-11-05T12:52:07.467Z"
   },
   {
    "duration": 6,
    "start_time": "2022-11-05T12:52:07.519Z"
   },
   {
    "duration": 12,
    "start_time": "2022-11-05T12:52:07.527Z"
   },
   {
    "duration": 11,
    "start_time": "2022-11-05T12:52:07.541Z"
   },
   {
    "duration": 3,
    "start_time": "2022-11-05T12:52:07.554Z"
   },
   {
    "duration": 39,
    "start_time": "2022-11-05T12:52:07.559Z"
   },
   {
    "duration": 10,
    "start_time": "2022-11-05T12:52:07.600Z"
   },
   {
    "duration": 13,
    "start_time": "2022-11-05T12:52:07.612Z"
   },
   {
    "duration": 327,
    "start_time": "2022-11-05T12:52:07.627Z"
   },
   {
    "duration": 266,
    "start_time": "2022-11-05T12:52:07.956Z"
   },
   {
    "duration": 4,
    "start_time": "2022-11-05T12:52:08.224Z"
   },
   {
    "duration": 9,
    "start_time": "2022-11-05T12:52:08.229Z"
   },
   {
    "duration": 7,
    "start_time": "2022-11-05T12:52:08.239Z"
   },
   {
    "duration": 5,
    "start_time": "2022-11-05T12:52:08.249Z"
   },
   {
    "duration": 8,
    "start_time": "2022-11-05T12:52:08.256Z"
   },
   {
    "duration": 7,
    "start_time": "2022-11-05T12:52:08.291Z"
   },
   {
    "duration": 62,
    "start_time": "2022-11-05T12:52:08.300Z"
   },
   {
    "duration": 7,
    "start_time": "2022-11-05T12:52:08.364Z"
   },
   {
    "duration": 28,
    "start_time": "2022-11-05T12:52:08.372Z"
   },
   {
    "duration": 7,
    "start_time": "2022-11-05T12:52:08.402Z"
   },
   {
    "duration": 7,
    "start_time": "2022-11-05T12:52:35.680Z"
   },
   {
    "duration": 3,
    "start_time": "2022-11-05T12:54:15.328Z"
   },
   {
    "duration": 48,
    "start_time": "2022-11-05T12:54:15.354Z"
   },
   {
    "duration": 7,
    "start_time": "2022-11-05T12:54:15.404Z"
   },
   {
    "duration": 13,
    "start_time": "2022-11-05T12:54:15.412Z"
   },
   {
    "duration": 11,
    "start_time": "2022-11-05T12:54:15.426Z"
   },
   {
    "duration": 4,
    "start_time": "2022-11-05T12:54:15.439Z"
   },
   {
    "duration": 47,
    "start_time": "2022-11-05T12:54:15.445Z"
   },
   {
    "duration": 10,
    "start_time": "2022-11-05T12:54:15.494Z"
   },
   {
    "duration": 11,
    "start_time": "2022-11-05T12:54:15.506Z"
   },
   {
    "duration": 339,
    "start_time": "2022-11-05T12:54:15.518Z"
   },
   {
    "duration": 264,
    "start_time": "2022-11-05T12:54:15.859Z"
   },
   {
    "duration": 4,
    "start_time": "2022-11-05T12:54:16.125Z"
   },
   {
    "duration": 11,
    "start_time": "2022-11-05T12:54:16.131Z"
   },
   {
    "duration": 9,
    "start_time": "2022-11-05T12:54:16.143Z"
   },
   {
    "duration": 6,
    "start_time": "2022-11-05T12:54:16.155Z"
   },
   {
    "duration": 40,
    "start_time": "2022-11-05T12:54:16.163Z"
   },
   {
    "duration": 8,
    "start_time": "2022-11-05T12:54:16.205Z"
   },
   {
    "duration": 132,
    "start_time": "2022-11-05T12:54:16.214Z"
   },
   {
    "duration": 51,
    "start_time": "2022-11-05T12:54:16.347Z"
   },
   {
    "duration": 17,
    "start_time": "2022-11-05T12:54:16.400Z"
   },
   {
    "duration": 9,
    "start_time": "2022-11-05T12:54:16.419Z"
   },
   {
    "duration": 9,
    "start_time": "2022-11-05T12:54:38.761Z"
   },
   {
    "duration": 3,
    "start_time": "2022-11-05T12:54:59.855Z"
   },
   {
    "duration": 54,
    "start_time": "2022-11-05T12:54:59.860Z"
   },
   {
    "duration": 7,
    "start_time": "2022-11-05T12:54:59.915Z"
   },
   {
    "duration": 12,
    "start_time": "2022-11-05T12:54:59.924Z"
   },
   {
    "duration": 12,
    "start_time": "2022-11-05T12:54:59.937Z"
   },
   {
    "duration": 4,
    "start_time": "2022-11-05T12:54:59.950Z"
   },
   {
    "duration": 41,
    "start_time": "2022-11-05T12:54:59.955Z"
   },
   {
    "duration": 9,
    "start_time": "2022-11-05T12:54:59.998Z"
   },
   {
    "duration": 20,
    "start_time": "2022-11-05T12:55:00.009Z"
   },
   {
    "duration": 331,
    "start_time": "2022-11-05T12:55:00.032Z"
   },
   {
    "duration": 268,
    "start_time": "2022-11-05T12:55:00.365Z"
   },
   {
    "duration": 4,
    "start_time": "2022-11-05T12:55:00.635Z"
   },
   {
    "duration": 24,
    "start_time": "2022-11-05T12:55:00.640Z"
   },
   {
    "duration": 9,
    "start_time": "2022-11-05T12:55:00.666Z"
   },
   {
    "duration": 20,
    "start_time": "2022-11-05T12:55:00.677Z"
   },
   {
    "duration": 10,
    "start_time": "2022-11-05T12:55:00.698Z"
   },
   {
    "duration": 84,
    "start_time": "2022-11-05T12:55:00.709Z"
   },
   {
    "duration": 239,
    "start_time": "2022-11-05T12:55:00.794Z"
   },
   {
    "duration": 8,
    "start_time": "2022-11-05T12:55:01.035Z"
   },
   {
    "duration": 31,
    "start_time": "2022-11-05T12:55:01.045Z"
   },
   {
    "duration": 12,
    "start_time": "2022-11-05T12:55:01.090Z"
   },
   {
    "duration": 7,
    "start_time": "2022-11-05T12:55:24.743Z"
   },
   {
    "duration": 3,
    "start_time": "2022-11-05T12:55:53.288Z"
   },
   {
    "duration": 49,
    "start_time": "2022-11-05T12:55:53.308Z"
   },
   {
    "duration": 6,
    "start_time": "2022-11-05T12:55:53.360Z"
   },
   {
    "duration": 14,
    "start_time": "2022-11-05T12:55:53.368Z"
   },
   {
    "duration": 10,
    "start_time": "2022-11-05T12:55:53.384Z"
   },
   {
    "duration": 3,
    "start_time": "2022-11-05T12:55:53.396Z"
   },
   {
    "duration": 10,
    "start_time": "2022-11-05T12:55:53.401Z"
   },
   {
    "duration": 9,
    "start_time": "2022-11-05T12:55:53.413Z"
   },
   {
    "duration": 12,
    "start_time": "2022-11-05T12:55:53.424Z"
   },
   {
    "duration": 330,
    "start_time": "2022-11-05T12:55:53.438Z"
   },
   {
    "duration": 266,
    "start_time": "2022-11-05T12:55:53.770Z"
   },
   {
    "duration": 4,
    "start_time": "2022-11-05T12:55:54.039Z"
   },
   {
    "duration": 53,
    "start_time": "2022-11-05T12:55:54.045Z"
   },
   {
    "duration": 10,
    "start_time": "2022-11-05T12:55:54.100Z"
   },
   {
    "duration": 6,
    "start_time": "2022-11-05T12:55:54.112Z"
   },
   {
    "duration": 73,
    "start_time": "2022-11-05T12:55:54.120Z"
   },
   {
    "duration": 99,
    "start_time": "2022-11-05T12:55:54.195Z"
   },
   {
    "duration": 434,
    "start_time": "2022-11-05T12:55:54.296Z"
   },
   {
    "duration": 7,
    "start_time": "2022-11-05T12:55:54.732Z"
   },
   {
    "duration": 69,
    "start_time": "2022-11-05T12:55:54.740Z"
   },
   {
    "duration": 84,
    "start_time": "2022-11-05T12:55:54.811Z"
   },
   {
    "duration": 8,
    "start_time": "2022-11-05T12:56:14.048Z"
   },
   {
    "duration": 3,
    "start_time": "2022-11-05T12:56:39.997Z"
   },
   {
    "duration": 50,
    "start_time": "2022-11-05T12:56:40.017Z"
   },
   {
    "duration": 7,
    "start_time": "2022-11-05T12:56:40.069Z"
   },
   {
    "duration": 13,
    "start_time": "2022-11-05T12:56:40.077Z"
   },
   {
    "duration": 10,
    "start_time": "2022-11-05T12:56:40.092Z"
   },
   {
    "duration": 4,
    "start_time": "2022-11-05T12:56:40.104Z"
   },
   {
    "duration": 12,
    "start_time": "2022-11-05T12:56:40.109Z"
   },
   {
    "duration": 9,
    "start_time": "2022-11-05T12:56:40.122Z"
   },
   {
    "duration": 10,
    "start_time": "2022-11-05T12:56:40.133Z"
   },
   {
    "duration": 334,
    "start_time": "2022-11-05T12:56:40.144Z"
   },
   {
    "duration": 251,
    "start_time": "2022-11-05T12:56:40.480Z"
   },
   {
    "duration": 3,
    "start_time": "2022-11-05T12:56:40.733Z"
   },
   {
    "duration": 131,
    "start_time": "2022-11-05T12:56:40.738Z"
   },
   {
    "duration": 11,
    "start_time": "2022-11-05T12:56:40.871Z"
   },
   {
    "duration": 10,
    "start_time": "2022-11-05T12:56:40.884Z"
   },
   {
    "duration": 97,
    "start_time": "2022-11-05T12:56:40.895Z"
   },
   {
    "duration": 98,
    "start_time": "2022-11-05T12:56:40.994Z"
   },
   {
    "duration": 953,
    "start_time": "2022-11-05T12:56:41.094Z"
   },
   {
    "duration": 8,
    "start_time": "2022-11-05T12:56:42.049Z"
   },
   {
    "duration": 166,
    "start_time": "2022-11-05T12:56:42.059Z"
   },
   {
    "duration": 165,
    "start_time": "2022-11-05T12:56:42.227Z"
   },
   {
    "duration": 3,
    "start_time": "2022-11-05T12:57:01.596Z"
   },
   {
    "duration": 49,
    "start_time": "2022-11-05T12:57:01.617Z"
   },
   {
    "duration": 6,
    "start_time": "2022-11-05T12:57:01.668Z"
   },
   {
    "duration": 14,
    "start_time": "2022-11-05T12:57:01.676Z"
   },
   {
    "duration": 11,
    "start_time": "2022-11-05T12:57:01.691Z"
   },
   {
    "duration": 4,
    "start_time": "2022-11-05T12:57:01.704Z"
   },
   {
    "duration": 14,
    "start_time": "2022-11-05T12:57:01.710Z"
   },
   {
    "duration": 10,
    "start_time": "2022-11-05T12:57:01.725Z"
   },
   {
    "duration": 11,
    "start_time": "2022-11-05T12:57:01.737Z"
   },
   {
    "duration": 326,
    "start_time": "2022-11-05T12:57:01.750Z"
   },
   {
    "duration": 258,
    "start_time": "2022-11-05T12:57:02.077Z"
   },
   {
    "duration": 3,
    "start_time": "2022-11-05T12:57:02.337Z"
   },
   {
    "duration": 139,
    "start_time": "2022-11-05T12:57:02.342Z"
   },
   {
    "duration": 13,
    "start_time": "2022-11-05T12:57:02.483Z"
   },
   {
    "duration": 7,
    "start_time": "2022-11-05T12:57:02.499Z"
   },
   {
    "duration": 87,
    "start_time": "2022-11-05T12:57:02.508Z"
   },
   {
    "duration": 98,
    "start_time": "2022-11-05T12:57:02.596Z"
   },
   {
    "duration": 1012,
    "start_time": "2022-11-05T12:57:02.696Z"
   },
   {
    "duration": 6,
    "start_time": "2022-11-05T12:57:03.710Z"
   },
   {
    "duration": 169,
    "start_time": "2022-11-05T12:57:03.718Z"
   },
   {
    "duration": 104,
    "start_time": "2022-11-05T12:57:03.891Z"
   },
   {
    "duration": 4,
    "start_time": "2022-11-05T12:57:39.190Z"
   },
   {
    "duration": 53,
    "start_time": "2022-11-05T12:57:39.212Z"
   },
   {
    "duration": 7,
    "start_time": "2022-11-05T12:57:39.268Z"
   },
   {
    "duration": 12,
    "start_time": "2022-11-05T12:57:39.277Z"
   },
   {
    "duration": 12,
    "start_time": "2022-11-05T12:57:39.291Z"
   },
   {
    "duration": 3,
    "start_time": "2022-11-05T12:57:39.306Z"
   },
   {
    "duration": 12,
    "start_time": "2022-11-05T12:57:39.310Z"
   },
   {
    "duration": 9,
    "start_time": "2022-11-05T12:57:39.324Z"
   },
   {
    "duration": 11,
    "start_time": "2022-11-05T12:57:39.335Z"
   },
   {
    "duration": 354,
    "start_time": "2022-11-05T12:57:39.348Z"
   },
   {
    "duration": 235,
    "start_time": "2022-11-05T12:57:39.703Z"
   },
   {
    "duration": 3,
    "start_time": "2022-11-05T12:57:39.940Z"
   },
   {
    "duration": 386,
    "start_time": "2022-11-05T12:57:39.945Z"
   },
   {
    "duration": 18,
    "start_time": "2022-11-05T12:57:40.333Z"
   },
   {
    "duration": 8,
    "start_time": "2022-11-05T12:57:40.354Z"
   },
   {
    "duration": 334,
    "start_time": "2022-11-05T12:57:40.364Z"
   },
   {
    "duration": 103,
    "start_time": "2022-11-05T12:57:40.700Z"
   },
   {
    "duration": 2409,
    "start_time": "2022-11-05T12:57:40.892Z"
   },
   {
    "duration": 7,
    "start_time": "2022-11-05T12:57:43.302Z"
   },
   {
    "duration": 441,
    "start_time": "2022-11-05T12:57:43.311Z"
   },
   {
    "duration": 440,
    "start_time": "2022-11-05T12:57:43.754Z"
   },
   {
    "duration": 8,
    "start_time": "2022-11-05T12:58:00.157Z"
   },
   {
    "duration": 3,
    "start_time": "2022-11-05T13:08:07.072Z"
   },
   {
    "duration": 49,
    "start_time": "2022-11-05T13:08:07.101Z"
   },
   {
    "duration": 7,
    "start_time": "2022-11-05T13:08:07.153Z"
   },
   {
    "duration": 23,
    "start_time": "2022-11-05T13:08:07.161Z"
   },
   {
    "duration": 11,
    "start_time": "2022-11-05T13:08:07.186Z"
   },
   {
    "duration": 4,
    "start_time": "2022-11-05T13:08:07.200Z"
   },
   {
    "duration": 14,
    "start_time": "2022-11-05T13:08:07.206Z"
   },
   {
    "duration": 11,
    "start_time": "2022-11-05T13:08:07.222Z"
   },
   {
    "duration": 51329,
    "start_time": "2022-11-05T13:08:07.234Z"
   },
   {
    "duration": 771,
    "start_time": "2022-11-05T13:08:58.564Z"
   },
   {
    "duration": 12,
    "start_time": "2022-11-05T13:08:59.336Z"
   },
   {
    "duration": 326,
    "start_time": "2022-11-05T13:08:59.350Z"
   },
   {
    "duration": 255,
    "start_time": "2022-11-05T13:08:59.678Z"
   },
   {
    "duration": 4,
    "start_time": "2022-11-05T13:08:59.934Z"
   },
   {
    "duration": 377,
    "start_time": "2022-11-05T13:08:59.940Z"
   },
   {
    "duration": 23,
    "start_time": "2022-11-05T13:09:00.319Z"
   },
   {
    "duration": 24,
    "start_time": "2022-11-05T13:09:00.344Z"
   },
   {
    "duration": 326,
    "start_time": "2022-11-05T13:09:00.370Z"
   },
   {
    "duration": 194,
    "start_time": "2022-11-05T13:09:00.698Z"
   },
   {
    "duration": 2399,
    "start_time": "2022-11-05T13:09:00.894Z"
   },
   {
    "duration": 7,
    "start_time": "2022-11-05T13:09:03.295Z"
   },
   {
    "duration": 588,
    "start_time": "2022-11-05T13:09:03.303Z"
   }
  ],
  "kernelspec": {
   "display_name": "Python 3 (ipykernel)",
   "language": "python",
   "name": "python3"
  },
  "language_info": {
   "codemirror_mode": {
    "name": "ipython",
    "version": 3
   },
   "file_extension": ".py",
   "mimetype": "text/x-python",
   "name": "python",
   "nbconvert_exporter": "python",
   "pygments_lexer": "ipython3",
   "version": "3.9.5"
  },
  "toc": {
   "base_numbering": 1,
   "nav_menu": {},
   "number_sections": true,
   "sideBar": true,
   "skip_h1_title": true,
   "title_cell": "Содержание",
   "title_sidebar": "Contents",
   "toc_cell": true,
   "toc_position": {
    "height": "calc(100% - 180px)",
    "left": "10px",
    "top": "150px",
    "width": "255.391px"
   },
   "toc_section_display": true,
   "toc_window_display": true
  }
 },
 "nbformat": 4,
 "nbformat_minor": 2
}
