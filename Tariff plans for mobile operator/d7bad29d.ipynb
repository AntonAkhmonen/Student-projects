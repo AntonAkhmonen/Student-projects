{
 "cells": [
  {
   "cell_type": "markdown",
   "metadata": {},
   "source": [
    "# Рекомендация тарифов"
   ]
  },
  {
   "cell_type": "markdown",
   "metadata": {},
   "source": [
    "В вашем распоряжении данные о поведении клиентов, которые уже перешли на эти тарифы (из проекта курса «Статистический анализ данных»). Нужно построить модель для задачи классификации, которая выберет подходящий тариф. Предобработка данных не понадобится — вы её уже сделали.\n",
    "\n",
    "Постройте модель с максимально большим значением *accuracy*. Чтобы сдать проект успешно, нужно довести долю правильных ответов по крайней мере до 0.75. Проверьте *accuracy* на тестовой выборке самостоятельно."
   ]
  },
  {
   "cell_type": "markdown",
   "metadata": {},
   "source": [
    "Задание будет выполняться в последовательности определенной заголовками"
   ]
  },
  {
   "cell_type": "markdown",
   "metadata": {},
   "source": [
    "## Откройте и изучите файл"
   ]
  },
  {
   "cell_type": "code",
   "execution_count": 18,
   "metadata": {},
   "outputs": [],
   "source": [
    "import pandas as pd\n",
    "from sklearn.tree import DecisionTreeClassifier\n",
    "from sklearn.ensemble import RandomForestClassifier\n",
    "from sklearn.linear_model import LogisticRegression\n",
    "from sklearn.model_selection import train_test_split\n",
    "from sklearn.metrics import mean_squared_error\n",
    "from sklearn.metrics import accuracy_score"
   ]
  },
  {
   "cell_type": "markdown",
   "metadata": {},
   "source": [
    "Импорт библиотек"
   ]
  },
  {
   "cell_type": "code",
   "execution_count": 19,
   "metadata": {},
   "outputs": [
    {
     "data": {
      "text/html": [
       "<div>\n",
       "<style scoped>\n",
       "    .dataframe tbody tr th:only-of-type {\n",
       "        vertical-align: middle;\n",
       "    }\n",
       "\n",
       "    .dataframe tbody tr th {\n",
       "        vertical-align: top;\n",
       "    }\n",
       "\n",
       "    .dataframe thead th {\n",
       "        text-align: right;\n",
       "    }\n",
       "</style>\n",
       "<table border=\"1\" class=\"dataframe\">\n",
       "  <thead>\n",
       "    <tr style=\"text-align: right;\">\n",
       "      <th></th>\n",
       "      <th>calls</th>\n",
       "      <th>minutes</th>\n",
       "      <th>messages</th>\n",
       "      <th>mb_used</th>\n",
       "      <th>is_ultra</th>\n",
       "    </tr>\n",
       "  </thead>\n",
       "  <tbody>\n",
       "    <tr>\n",
       "      <th>0</th>\n",
       "      <td>40.0</td>\n",
       "      <td>311.90</td>\n",
       "      <td>83.0</td>\n",
       "      <td>19915.42</td>\n",
       "      <td>0</td>\n",
       "    </tr>\n",
       "    <tr>\n",
       "      <th>1</th>\n",
       "      <td>85.0</td>\n",
       "      <td>516.75</td>\n",
       "      <td>56.0</td>\n",
       "      <td>22696.96</td>\n",
       "      <td>0</td>\n",
       "    </tr>\n",
       "    <tr>\n",
       "      <th>2</th>\n",
       "      <td>77.0</td>\n",
       "      <td>467.66</td>\n",
       "      <td>86.0</td>\n",
       "      <td>21060.45</td>\n",
       "      <td>0</td>\n",
       "    </tr>\n",
       "    <tr>\n",
       "      <th>3</th>\n",
       "      <td>106.0</td>\n",
       "      <td>745.53</td>\n",
       "      <td>81.0</td>\n",
       "      <td>8437.39</td>\n",
       "      <td>1</td>\n",
       "    </tr>\n",
       "    <tr>\n",
       "      <th>4</th>\n",
       "      <td>66.0</td>\n",
       "      <td>418.74</td>\n",
       "      <td>1.0</td>\n",
       "      <td>14502.75</td>\n",
       "      <td>0</td>\n",
       "    </tr>\n",
       "  </tbody>\n",
       "</table>\n",
       "</div>"
      ],
      "text/plain": [
       "   calls  minutes  messages   mb_used  is_ultra\n",
       "0   40.0   311.90      83.0  19915.42         0\n",
       "1   85.0   516.75      56.0  22696.96         0\n",
       "2   77.0   467.66      86.0  21060.45         0\n",
       "3  106.0   745.53      81.0   8437.39         1\n",
       "4   66.0   418.74       1.0  14502.75         0"
      ]
     },
     "execution_count": 19,
     "metadata": {},
     "output_type": "execute_result"
    }
   ],
   "source": [
    "df = pd.read_csv('/datasets/users_behavior.csv')\n",
    "df.head()"
   ]
  },
  {
   "cell_type": "markdown",
   "metadata": {},
   "source": [
    "В выборке порядка трех тысяч записей. По условиям задачи предобработка данных не требуется"
   ]
  },
  {
   "cell_type": "code",
   "execution_count": 20,
   "metadata": {},
   "outputs": [
    {
     "name": "stdout",
     "output_type": "stream",
     "text": [
      "<class 'pandas.core.frame.DataFrame'>\n",
      "RangeIndex: 3214 entries, 0 to 3213\n",
      "Data columns (total 5 columns):\n",
      " #   Column    Non-Null Count  Dtype  \n",
      "---  ------    --------------  -----  \n",
      " 0   calls     3214 non-null   float64\n",
      " 1   minutes   3214 non-null   float64\n",
      " 2   messages  3214 non-null   float64\n",
      " 3   mb_used   3214 non-null   float64\n",
      " 4   is_ultra  3214 non-null   int64  \n",
      "dtypes: float64(4), int64(1)\n",
      "memory usage: 125.7 KB\n"
     ]
    }
   ],
   "source": [
    "df.info()"
   ]
  },
  {
   "cell_type": "markdown",
   "metadata": {},
   "source": [
    "## Разбейте данные на выборки"
   ]
  },
  {
   "cell_type": "code",
   "execution_count": 21,
   "metadata": {},
   "outputs": [],
   "source": [
    "features = df.drop('is_ultra', axis=1)\n",
    "target = df['is_ultra']"
   ]
  },
  {
   "cell_type": "markdown",
   "metadata": {},
   "source": [
    "Выделены признаки и целевой признак"
   ]
  },
  {
   "cell_type": "code",
   "execution_count": 22,
   "metadata": {},
   "outputs": [
    {
     "data": {
      "text/plain": [
       "(1928, 4)"
      ]
     },
     "execution_count": 22,
     "metadata": {},
     "output_type": "execute_result"
    }
   ],
   "source": [
    "features_train, features_valid, target_train, target_valid = train_test_split(features, target, test_size=0.4, random_state=12345)\n",
    "features_train.shape"
   ]
  },
  {
   "cell_type": "markdown",
   "metadata": {},
   "source": [
    "Создана обучающая выборка в рекомендованном размере - 60% общей"
   ]
  },
  {
   "cell_type": "code",
   "execution_count": 23,
   "metadata": {},
   "outputs": [
    {
     "data": {
      "text/plain": [
       "(1286, 4)"
      ]
     },
     "execution_count": 23,
     "metadata": {},
     "output_type": "execute_result"
    }
   ],
   "source": [
    "features_valid.shape"
   ]
  },
  {
   "cell_type": "code",
   "execution_count": 24,
   "metadata": {},
   "outputs": [
    {
     "data": {
      "text/plain": [
       "(643, 4)"
      ]
     },
     "execution_count": 24,
     "metadata": {},
     "output_type": "execute_result"
    }
   ],
   "source": [
    "features_test, features_valid, target_test, target_valid = train_test_split(features_valid, target_valid, test_size=0.5, random_state=12345)\n",
    "features_valid.shape"
   ]
  },
  {
   "cell_type": "markdown",
   "metadata": {},
   "source": [
    "Создана валидационная выборка в рекомендованном размере - 20% общей"
   ]
  },
  {
   "cell_type": "code",
   "execution_count": 25,
   "metadata": {},
   "outputs": [
    {
     "data": {
      "text/plain": [
       "(643, 4)"
      ]
     },
     "execution_count": 25,
     "metadata": {},
     "output_type": "execute_result"
    }
   ],
   "source": [
    "features_test.shape"
   ]
  },
  {
   "cell_type": "markdown",
   "metadata": {},
   "source": [
    "Создана тестовая выборка в рекомендованном размере - 20% общей"
   ]
  },
  {
   "cell_type": "markdown",
   "metadata": {},
   "source": [
    "## Исследуйте модели"
   ]
  },
  {
   "cell_type": "markdown",
   "metadata": {},
   "source": [
    "На данном этапе будут последовательно применены три модели обучения: дерево решений, случайный лес и логистическая регрессия с перебором параметров там где это применимо. Полученные результаты будут опробованы на валидационной выборке"
   ]
  },
  {
   "cell_type": "code",
   "execution_count": 26,
   "metadata": {},
   "outputs": [
    {
     "name": "stdout",
     "output_type": "stream",
     "text": [
      "Accuracy лучшей модели: 0.7993779160186625\n",
      "Оптимальная глубина дерева: 7\n"
     ]
    }
   ],
   "source": [
    "tree_model = None\n",
    "tree_result = 0\n",
    "for depth in range(1,101):\n",
    "    model = DecisionTreeClassifier(random_state=12345, max_depth=depth)\n",
    "    model.fit(features_train, target_train)\n",
    "    predictions = model.predict(features_valid)\n",
    "    result = accuracy_score(target_valid, predictions)\n",
    "    if result > tree_result:\n",
    "        tree_model = model\n",
    "        tree_result = result\n",
    "        tree_depth = depth\n",
    "print('Accuracy лучшей модели:', tree_result )  \n",
    "print('Оптимальная глубина дерева:', tree_depth)"
   ]
  },
  {
   "cell_type": "markdown",
   "metadata": {},
   "source": [
    "При использовании дерева решений на валидационной выборке наилучшая accuracy в 80% достигается при глубине дерева в 7 узлов. Следующая модель - случайный лес"
   ]
  },
  {
   "cell_type": "code",
   "execution_count": 36,
   "metadata": {},
   "outputs": [
    {
     "name": "stdout",
     "output_type": "stream",
     "text": [
      "Accuracy лучшей модели: 0.7962674961119751\n",
      "Оптимальное количество деревьев: 48\n"
     ]
    }
   ],
   "source": [
    "forest_model = None\n",
    "forest_result = 0\n",
    "for est in range(1,51):\n",
    "    model = RandomForestClassifier(random_state=12345, n_estimators=est)\n",
    "    model.fit(features_train, target_train)\n",
    "    result = model.score(features_valid, target_valid)\n",
    "    if result > forest_result:\n",
    "        forest_model = model\n",
    "        forest_result = result \n",
    "        forest_est = est\n",
    "print('Accuracy лучшей модели:', forest_result )  \n",
    "print('Оптимальное количество деревьев:', forest_est)    "
   ]
  },
  {
   "cell_type": "markdown",
   "metadata": {},
   "source": [
    "Для случайного леса достижимая accuracy также составляет примерно 80% и достигается при 48 деревьях. При этом близкое по качеству решение с accuracy в 78% может быть достигнуто уже при 8 деревьях. Остается логистическая регрессия"
   ]
  },
  {
   "cell_type": "code",
   "execution_count": 28,
   "metadata": {
    "scrolled": true
   },
   "outputs": [
    {
     "name": "stdout",
     "output_type": "stream",
     "text": [
      "Accuracy модели: 0.6842923794712286\n"
     ]
    }
   ],
   "source": [
    "model = LogisticRegression(random_state=12345, solver='lbfgs', max_iter=500000)\n",
    "model.fit(features_train, target_train)\n",
    "log_result = model.score(features_valid, target_valid)\n",
    "print('Accuracy модели:', log_result) "
   ]
  },
  {
   "cell_type": "markdown",
   "metadata": {},
   "source": [
    "Логистическая регрессия дает минимальную точность на валидационной выборке - 68%. Но она достигается уже при 50 итерациях и далее не растет. На валидационной выборке наилучший результат показало дерево решений, с минимальным отрывом от нее идет случайный лес и далее с большим отставанием логистическая регрессия. На следующем шаге лучшая модель - дерево решений будет проверено на тестовой выборке с гиперпараметрами полученными на валидационной выборке"
   ]
  },
  {
   "cell_type": "markdown",
   "metadata": {},
   "source": [
    "## Проверьте модель на тестовой выборке"
   ]
  },
  {
   "cell_type": "code",
   "execution_count": 29,
   "metadata": {},
   "outputs": [
    {
     "name": "stdout",
     "output_type": "stream",
     "text": [
      "Accuracy модели: 0.7822706065318819\n"
     ]
    }
   ],
   "source": [
    "model = DecisionTreeClassifier(random_state=12345, max_depth=7)\n",
    "model.fit(features_train, target_train)\n",
    "tree_test = model.score(features_test, target_test)\n",
    "print('Accuracy модели:', tree_test) "
   ]
  },
  {
   "cell_type": "markdown",
   "metadata": {},
   "source": [
    "Наилучшая модель - дерево решений с 7 деревьями на тестовой выборке показала accuracy в 78% Целевой показатель в 75% достигнут и превышен, соответственно, модель дерева решений с 7 деревьями отвечает поставленному в условии задачи требованию"
   ]
  }
 ],
 "metadata": {
  "ExecuteTimeLog": [
   {
    "duration": 1186,
    "start_time": "2022-05-31T15:36:08.277Z"
   },
   {
    "duration": 112,
    "start_time": "2022-05-31T15:37:32.668Z"
   },
   {
    "duration": 37,
    "start_time": "2022-05-31T15:40:38.462Z"
   },
   {
    "duration": 153,
    "start_time": "2022-05-31T15:59:34.054Z"
   },
   {
    "duration": 14,
    "start_time": "2022-05-31T16:00:05.126Z"
   },
   {
    "duration": 10,
    "start_time": "2022-05-31T16:03:45.627Z"
   },
   {
    "duration": 3,
    "start_time": "2022-05-31T16:04:18.424Z"
   },
   {
    "duration": 41,
    "start_time": "2022-05-31T16:04:18.465Z"
   },
   {
    "duration": 8,
    "start_time": "2022-05-31T16:04:18.508Z"
   },
   {
    "duration": 10,
    "start_time": "2022-05-31T16:05:24.938Z"
   },
   {
    "duration": 7,
    "start_time": "2022-05-31T16:06:14.191Z"
   },
   {
    "duration": 3,
    "start_time": "2022-05-31T16:06:19.752Z"
   },
   {
    "duration": 42,
    "start_time": "2022-05-31T16:06:19.773Z"
   },
   {
    "duration": 13,
    "start_time": "2022-05-31T16:06:19.817Z"
   },
   {
    "duration": 8,
    "start_time": "2022-05-31T16:06:32.652Z"
   },
   {
    "duration": 3,
    "start_time": "2022-05-31T16:06:36.925Z"
   },
   {
    "duration": 35,
    "start_time": "2022-05-31T16:06:36.948Z"
   },
   {
    "duration": 9,
    "start_time": "2022-05-31T16:06:36.986Z"
   },
   {
    "duration": 6,
    "start_time": "2022-05-31T16:07:59.426Z"
   },
   {
    "duration": 6,
    "start_time": "2022-05-31T16:08:02.700Z"
   },
   {
    "duration": 7,
    "start_time": "2022-05-31T16:08:15.914Z"
   },
   {
    "duration": 7,
    "start_time": "2022-05-31T16:08:27.095Z"
   },
   {
    "duration": 2,
    "start_time": "2022-05-31T16:08:29.639Z"
   },
   {
    "duration": 42,
    "start_time": "2022-05-31T16:08:29.643Z"
   },
   {
    "duration": 6,
    "start_time": "2022-05-31T16:08:29.686Z"
   },
   {
    "duration": 6,
    "start_time": "2022-05-31T16:08:29.694Z"
   },
   {
    "duration": 7,
    "start_time": "2022-05-31T16:08:43.463Z"
   },
   {
    "duration": 3,
    "start_time": "2022-05-31T16:08:48.159Z"
   },
   {
    "duration": 36,
    "start_time": "2022-05-31T16:08:48.184Z"
   },
   {
    "duration": 7,
    "start_time": "2022-05-31T16:08:48.222Z"
   },
   {
    "duration": 6,
    "start_time": "2022-05-31T16:08:48.231Z"
   },
   {
    "duration": 7,
    "start_time": "2022-05-31T16:10:20.819Z"
   },
   {
    "duration": 5,
    "start_time": "2022-05-31T16:10:24.570Z"
   },
   {
    "duration": 14,
    "start_time": "2022-05-31T16:10:35.786Z"
   },
   {
    "duration": 7,
    "start_time": "2022-05-31T16:10:38.078Z"
   },
   {
    "duration": 8,
    "start_time": "2022-05-31T16:10:41.577Z"
   },
   {
    "duration": 6,
    "start_time": "2022-05-31T16:10:43.659Z"
   },
   {
    "duration": 39,
    "start_time": "2022-05-31T16:11:38.997Z"
   },
   {
    "duration": 6,
    "start_time": "2022-05-31T16:11:47.473Z"
   },
   {
    "duration": 6,
    "start_time": "2022-05-31T16:12:54.481Z"
   },
   {
    "duration": 6,
    "start_time": "2022-05-31T16:13:04.044Z"
   },
   {
    "duration": 2,
    "start_time": "2022-05-31T16:14:49.175Z"
   },
   {
    "duration": 36,
    "start_time": "2022-05-31T16:14:49.196Z"
   },
   {
    "duration": 6,
    "start_time": "2022-05-31T16:14:49.233Z"
   },
   {
    "duration": 6,
    "start_time": "2022-05-31T16:14:49.240Z"
   },
   {
    "duration": 7,
    "start_time": "2022-05-31T16:14:49.247Z"
   },
   {
    "duration": 7,
    "start_time": "2022-05-31T16:14:59.080Z"
   },
   {
    "duration": 8,
    "start_time": "2022-05-31T16:15:06.044Z"
   },
   {
    "duration": 7,
    "start_time": "2022-05-31T16:15:08.445Z"
   },
   {
    "duration": 6,
    "start_time": "2022-05-31T16:29:11.226Z"
   },
   {
    "duration": 3,
    "start_time": "2022-05-31T16:29:28.264Z"
   },
   {
    "duration": 6,
    "start_time": "2022-05-31T16:29:32.992Z"
   },
   {
    "duration": 5,
    "start_time": "2022-05-31T16:43:58.099Z"
   },
   {
    "duration": 6,
    "start_time": "2022-05-31T16:44:15.502Z"
   },
   {
    "duration": 3,
    "start_time": "2022-05-31T16:44:27.270Z"
   },
   {
    "duration": 36,
    "start_time": "2022-05-31T16:44:27.298Z"
   },
   {
    "duration": 6,
    "start_time": "2022-05-31T16:44:27.335Z"
   },
   {
    "duration": 6,
    "start_time": "2022-05-31T16:44:27.342Z"
   },
   {
    "duration": 8,
    "start_time": "2022-05-31T16:44:27.349Z"
   },
   {
    "duration": 7,
    "start_time": "2022-05-31T16:44:27.359Z"
   },
   {
    "duration": 6,
    "start_time": "2022-05-31T16:44:27.367Z"
   },
   {
    "duration": 7,
    "start_time": "2022-05-31T16:44:33.274Z"
   },
   {
    "duration": 3,
    "start_time": "2022-05-31T16:44:36.394Z"
   },
   {
    "duration": 6,
    "start_time": "2022-05-31T16:44:39.550Z"
   },
   {
    "duration": 3,
    "start_time": "2022-05-31T16:44:58.252Z"
   },
   {
    "duration": 3,
    "start_time": "2022-05-31T16:45:44.776Z"
   },
   {
    "duration": 7,
    "start_time": "2022-05-31T16:45:53.582Z"
   },
   {
    "duration": 5,
    "start_time": "2022-05-31T16:45:55.690Z"
   },
   {
    "duration": 6,
    "start_time": "2022-05-31T16:46:05.848Z"
   },
   {
    "duration": 5,
    "start_time": "2022-05-31T16:46:08.524Z"
   },
   {
    "duration": 7,
    "start_time": "2022-05-31T17:44:17.681Z"
   },
   {
    "duration": 47,
    "start_time": "2022-05-31T17:45:02.660Z"
   },
   {
    "duration": 43,
    "start_time": "2022-05-31T17:45:13.010Z"
   },
   {
    "duration": 4,
    "start_time": "2022-05-31T17:47:56.142Z"
   },
   {
    "duration": 3,
    "start_time": "2022-05-31T17:51:38.791Z"
   },
   {
    "duration": 3,
    "start_time": "2022-05-31T18:03:21.245Z"
   },
   {
    "duration": 6,
    "start_time": "2022-05-31T18:19:33.356Z"
   },
   {
    "duration": 4,
    "start_time": "2022-05-31T18:20:05.967Z"
   },
   {
    "duration": 7,
    "start_time": "2022-05-31T18:23:31.763Z"
   },
   {
    "duration": 4,
    "start_time": "2022-05-31T18:23:41.032Z"
   },
   {
    "duration": 42,
    "start_time": "2022-05-31T18:23:41.056Z"
   },
   {
    "duration": 4,
    "start_time": "2022-05-31T18:23:41.100Z"
   },
   {
    "duration": 8,
    "start_time": "2022-05-31T18:23:41.105Z"
   },
   {
    "duration": 5,
    "start_time": "2022-05-31T18:23:41.114Z"
   },
   {
    "duration": 6,
    "start_time": "2022-05-31T18:23:41.122Z"
   },
   {
    "duration": 9,
    "start_time": "2022-05-31T18:23:41.130Z"
   },
   {
    "duration": 0,
    "start_time": "2022-05-31T18:23:41.141Z"
   },
   {
    "duration": 0,
    "start_time": "2022-05-31T18:23:41.142Z"
   },
   {
    "duration": 6,
    "start_time": "2022-05-31T18:24:29.129Z"
   },
   {
    "duration": 3,
    "start_time": "2022-05-31T18:24:35.259Z"
   },
   {
    "duration": 55,
    "start_time": "2022-05-31T18:24:35.274Z"
   },
   {
    "duration": 4,
    "start_time": "2022-05-31T18:24:35.331Z"
   },
   {
    "duration": 11,
    "start_time": "2022-05-31T18:24:35.336Z"
   },
   {
    "duration": 5,
    "start_time": "2022-05-31T18:24:35.349Z"
   },
   {
    "duration": 7,
    "start_time": "2022-05-31T18:24:35.357Z"
   },
   {
    "duration": 20,
    "start_time": "2022-05-31T18:24:35.366Z"
   },
   {
    "duration": 0,
    "start_time": "2022-05-31T18:24:35.388Z"
   },
   {
    "duration": 0,
    "start_time": "2022-05-31T18:24:35.390Z"
   },
   {
    "duration": 6,
    "start_time": "2022-05-31T18:25:04.062Z"
   },
   {
    "duration": 4,
    "start_time": "2022-05-31T18:25:08.185Z"
   },
   {
    "duration": 37,
    "start_time": "2022-05-31T18:25:08.200Z"
   },
   {
    "duration": 4,
    "start_time": "2022-05-31T18:25:08.240Z"
   },
   {
    "duration": 13,
    "start_time": "2022-05-31T18:25:08.246Z"
   },
   {
    "duration": 5,
    "start_time": "2022-05-31T18:25:08.261Z"
   },
   {
    "duration": 6,
    "start_time": "2022-05-31T18:25:08.280Z"
   },
   {
    "duration": 16,
    "start_time": "2022-05-31T18:25:08.288Z"
   },
   {
    "duration": 1,
    "start_time": "2022-05-31T18:25:08.306Z"
   },
   {
    "duration": 11,
    "start_time": "2022-05-31T18:25:29.276Z"
   },
   {
    "duration": 4,
    "start_time": "2022-05-31T18:25:36.301Z"
   },
   {
    "duration": 5,
    "start_time": "2022-05-31T18:25:38.752Z"
   },
   {
    "duration": 4,
    "start_time": "2022-05-31T18:25:57.563Z"
   },
   {
    "duration": 61,
    "start_time": "2022-05-31T18:25:57.573Z"
   },
   {
    "duration": 4,
    "start_time": "2022-05-31T18:25:57.636Z"
   },
   {
    "duration": 20,
    "start_time": "2022-05-31T18:25:57.643Z"
   },
   {
    "duration": 8,
    "start_time": "2022-05-31T18:25:57.665Z"
   },
   {
    "duration": 6,
    "start_time": "2022-05-31T18:25:57.675Z"
   },
   {
    "duration": 28,
    "start_time": "2022-05-31T18:25:57.683Z"
   },
   {
    "duration": 40,
    "start_time": "2022-05-31T18:25:57.713Z"
   },
   {
    "duration": 8,
    "start_time": "2022-05-31T18:26:39.907Z"
   },
   {
    "duration": 17,
    "start_time": "2022-05-31T18:38:29.752Z"
   },
   {
    "duration": 4,
    "start_time": "2022-05-31T18:39:15.278Z"
   },
   {
    "duration": 3,
    "start_time": "2022-05-31T18:39:21.679Z"
   },
   {
    "duration": 35,
    "start_time": "2022-05-31T18:39:21.695Z"
   },
   {
    "duration": 4,
    "start_time": "2022-05-31T18:39:21.732Z"
   },
   {
    "duration": 8,
    "start_time": "2022-05-31T18:39:21.737Z"
   },
   {
    "duration": 3,
    "start_time": "2022-05-31T18:39:21.747Z"
   },
   {
    "duration": 6,
    "start_time": "2022-05-31T18:39:21.753Z"
   },
   {
    "duration": 20,
    "start_time": "2022-05-31T18:39:21.761Z"
   },
   {
    "duration": 27,
    "start_time": "2022-05-31T18:39:21.782Z"
   },
   {
    "duration": 35,
    "start_time": "2022-05-31T18:41:45.176Z"
   },
   {
    "duration": 29,
    "start_time": "2022-05-31T18:43:28.140Z"
   },
   {
    "duration": 71,
    "start_time": "2022-05-31T18:43:35.472Z"
   },
   {
    "duration": 179,
    "start_time": "2022-05-31T18:43:46.870Z"
   },
   {
    "duration": 517,
    "start_time": "2022-05-31T18:43:50.778Z"
   },
   {
    "duration": 446,
    "start_time": "2022-05-31T18:43:56.363Z"
   },
   {
    "duration": 3,
    "start_time": "2022-05-31T18:49:38.369Z"
   },
   {
    "duration": 448,
    "start_time": "2022-05-31T18:52:50.994Z"
   },
   {
    "duration": 91,
    "start_time": "2022-05-31T19:00:28.037Z"
   },
   {
    "duration": 86,
    "start_time": "2022-05-31T19:00:57.566Z"
   },
   {
    "duration": 293,
    "start_time": "2022-05-31T19:01:04.182Z"
   },
   {
    "duration": 862,
    "start_time": "2022-05-31T19:01:10.753Z"
   },
   {
    "duration": 5018,
    "start_time": "2022-05-31T19:01:18.441Z"
   },
   {
    "duration": 275,
    "start_time": "2022-05-31T19:01:50.573Z"
   },
   {
    "duration": 5533,
    "start_time": "2022-05-31T19:02:03.900Z"
   },
   {
    "duration": 20317,
    "start_time": "2022-05-31T19:02:15.802Z"
   },
   {
    "duration": 1054,
    "start_time": "2022-05-31T19:02:50.734Z"
   },
   {
    "duration": 260,
    "start_time": "2022-05-31T19:07:47.861Z"
   },
   {
    "duration": 951,
    "start_time": "2022-05-31T19:08:10.513Z"
   },
   {
    "duration": 3,
    "start_time": "2022-05-31T19:13:36.358Z"
   },
   {
    "duration": 10,
    "start_time": "2022-05-31T19:17:37.457Z"
   },
   {
    "duration": 32,
    "start_time": "2022-05-31T19:17:45.444Z"
   },
   {
    "duration": 25,
    "start_time": "2022-05-31T19:17:51.223Z"
   },
   {
    "duration": 33,
    "start_time": "2022-05-31T19:17:56.568Z"
   },
   {
    "duration": 25,
    "start_time": "2022-05-31T19:18:00.212Z"
   },
   {
    "duration": 34,
    "start_time": "2022-05-31T19:18:22.867Z"
   },
   {
    "duration": 35,
    "start_time": "2022-05-31T19:18:32.813Z"
   },
   {
    "duration": 14,
    "start_time": "2022-05-31T19:20:04.149Z"
   },
   {
    "duration": 13,
    "start_time": "2022-05-31T19:20:08.597Z"
   },
   {
    "duration": 25,
    "start_time": "2022-05-31T19:20:13.201Z"
   },
   {
    "duration": 31,
    "start_time": "2022-05-31T19:20:21.567Z"
   },
   {
    "duration": 33,
    "start_time": "2022-05-31T19:20:26.914Z"
   },
   {
    "duration": 34,
    "start_time": "2022-05-31T19:20:54.711Z"
   },
   {
    "duration": 27,
    "start_time": "2022-05-31T19:20:59.202Z"
   },
   {
    "duration": 25,
    "start_time": "2022-05-31T19:21:03.101Z"
   },
   {
    "duration": 40,
    "start_time": "2022-05-31T19:21:06.301Z"
   },
   {
    "duration": 36,
    "start_time": "2022-05-31T19:21:09.500Z"
   },
   {
    "duration": 35,
    "start_time": "2022-05-31T19:21:54.896Z"
   },
   {
    "duration": 43,
    "start_time": "2022-05-31T19:22:09.778Z"
   },
   {
    "duration": 12,
    "start_time": "2022-05-31T19:27:14.644Z"
   },
   {
    "duration": 44,
    "start_time": "2022-05-31T19:31:23.834Z"
   },
   {
    "duration": 3,
    "start_time": "2022-05-31T19:32:38.448Z"
   },
   {
    "duration": 53,
    "start_time": "2022-05-31T19:32:38.463Z"
   },
   {
    "duration": 3,
    "start_time": "2022-05-31T19:32:38.518Z"
   },
   {
    "duration": 9,
    "start_time": "2022-05-31T19:32:38.523Z"
   },
   {
    "duration": 5,
    "start_time": "2022-05-31T19:32:38.533Z"
   },
   {
    "duration": 7,
    "start_time": "2022-05-31T19:32:38.540Z"
   },
   {
    "duration": 6,
    "start_time": "2022-05-31T19:32:38.548Z"
   },
   {
    "duration": 943,
    "start_time": "2022-05-31T19:32:38.556Z"
   },
   {
    "duration": 255,
    "start_time": "2022-05-31T19:32:39.501Z"
   },
   {
    "duration": 39,
    "start_time": "2022-05-31T19:32:39.757Z"
   },
   {
    "duration": 13,
    "start_time": "2022-05-31T19:32:39.799Z"
   },
   {
    "duration": 40,
    "start_time": "2022-05-31T19:32:39.814Z"
   },
   {
    "duration": 51,
    "start_time": "2022-05-31T19:32:52.487Z"
   },
   {
    "duration": 4,
    "start_time": "2022-05-31T19:33:41.827Z"
   },
   {
    "duration": 9,
    "start_time": "2022-05-31T19:35:25.481Z"
   },
   {
    "duration": 3,
    "start_time": "2022-05-31T19:35:47.141Z"
   },
   {
    "duration": 35,
    "start_time": "2022-05-31T19:36:31.993Z"
   },
   {
    "duration": 4,
    "start_time": "2022-05-31T19:36:41.015Z"
   },
   {
    "duration": 3,
    "start_time": "2022-05-31T19:36:58.574Z"
   },
   {
    "duration": 44,
    "start_time": "2022-05-31T19:36:58.595Z"
   },
   {
    "duration": 3,
    "start_time": "2022-05-31T19:36:58.641Z"
   },
   {
    "duration": 7,
    "start_time": "2022-05-31T19:36:58.645Z"
   },
   {
    "duration": 4,
    "start_time": "2022-05-31T19:36:58.654Z"
   },
   {
    "duration": 6,
    "start_time": "2022-05-31T19:36:58.660Z"
   },
   {
    "duration": 5,
    "start_time": "2022-05-31T19:36:58.667Z"
   },
   {
    "duration": 964,
    "start_time": "2022-05-31T19:36:58.674Z"
   },
   {
    "duration": 298,
    "start_time": "2022-05-31T19:36:59.640Z"
   },
   {
    "duration": 25,
    "start_time": "2022-05-31T19:36:59.939Z"
   },
   {
    "duration": 27,
    "start_time": "2022-05-31T19:36:59.966Z"
   },
   {
    "duration": 56,
    "start_time": "2022-05-31T19:36:59.995Z"
   },
   {
    "duration": 4,
    "start_time": "2022-05-31T19:37:00.052Z"
   },
   {
    "duration": 44,
    "start_time": "2022-05-31T19:37:11.393Z"
   },
   {
    "duration": 3,
    "start_time": "2022-05-31T19:37:24.327Z"
   },
   {
    "duration": 38,
    "start_time": "2022-05-31T19:39:03.215Z"
   },
   {
    "duration": 34,
    "start_time": "2022-05-31T19:39:11.660Z"
   },
   {
    "duration": 38,
    "start_time": "2022-05-31T19:39:17.251Z"
   },
   {
    "duration": 4,
    "start_time": "2022-05-31T19:40:56.678Z"
   },
   {
    "duration": 42,
    "start_time": "2022-05-31T19:40:56.696Z"
   },
   {
    "duration": 3,
    "start_time": "2022-05-31T19:40:56.739Z"
   },
   {
    "duration": 7,
    "start_time": "2022-05-31T19:40:56.744Z"
   },
   {
    "duration": 4,
    "start_time": "2022-05-31T19:40:56.752Z"
   },
   {
    "duration": 6,
    "start_time": "2022-05-31T19:40:56.757Z"
   },
   {
    "duration": 3,
    "start_time": "2022-05-31T19:40:56.765Z"
   },
   {
    "duration": 976,
    "start_time": "2022-05-31T19:40:56.769Z"
   },
   {
    "duration": 285,
    "start_time": "2022-05-31T19:40:57.746Z"
   },
   {
    "duration": 36,
    "start_time": "2022-05-31T19:40:58.033Z"
   },
   {
    "duration": 24,
    "start_time": "2022-05-31T19:40:58.070Z"
   },
   {
    "duration": 57,
    "start_time": "2022-05-31T19:40:58.095Z"
   },
   {
    "duration": 3,
    "start_time": "2022-05-31T19:40:58.155Z"
   },
   {
    "duration": 44,
    "start_time": "2022-05-31T19:40:58.159Z"
   },
   {
    "duration": 12,
    "start_time": "2022-05-31T19:48:50.952Z"
   },
   {
    "duration": 23,
    "start_time": "2022-05-31T20:02:23.006Z"
   },
   {
    "duration": 880,
    "start_time": "2022-05-31T20:53:27.043Z"
   },
   {
    "duration": 40,
    "start_time": "2022-05-31T20:53:27.926Z"
   },
   {
    "duration": 3,
    "start_time": "2022-05-31T20:53:27.967Z"
   },
   {
    "duration": 16,
    "start_time": "2022-05-31T20:53:27.972Z"
   },
   {
    "duration": 5,
    "start_time": "2022-05-31T20:53:27.990Z"
   },
   {
    "duration": 14,
    "start_time": "2022-05-31T20:53:27.996Z"
   },
   {
    "duration": 4,
    "start_time": "2022-05-31T20:53:28.012Z"
   },
   {
    "duration": 875,
    "start_time": "2022-05-31T20:53:28.017Z"
   },
   {
    "duration": 230,
    "start_time": "2022-05-31T20:53:28.894Z"
   },
   {
    "duration": 20,
    "start_time": "2022-05-31T20:53:29.126Z"
   },
   {
    "duration": 10,
    "start_time": "2022-05-31T20:53:29.148Z"
   },
   {
    "duration": 48,
    "start_time": "2022-05-31T20:53:29.159Z"
   },
   {
    "duration": 4,
    "start_time": "2022-05-31T20:53:29.208Z"
   },
   {
    "duration": 21,
    "start_time": "2022-05-31T20:53:29.214Z"
   },
   {
    "duration": 47,
    "start_time": "2022-06-01T07:15:58.218Z"
   },
   {
    "duration": 1205,
    "start_time": "2022-06-01T07:16:04.433Z"
   },
   {
    "duration": 112,
    "start_time": "2022-06-01T07:16:05.639Z"
   },
   {
    "duration": 11,
    "start_time": "2022-06-01T07:16:05.753Z"
   },
   {
    "duration": 3,
    "start_time": "2022-06-01T07:16:05.767Z"
   },
   {
    "duration": 12,
    "start_time": "2022-06-01T07:16:05.771Z"
   },
   {
    "duration": 3,
    "start_time": "2022-06-01T07:16:05.785Z"
   },
   {
    "duration": 10,
    "start_time": "2022-06-01T07:16:05.790Z"
   },
   {
    "duration": 8,
    "start_time": "2022-06-01T07:16:05.801Z"
   },
   {
    "duration": 957,
    "start_time": "2022-06-01T07:16:05.810Z"
   },
   {
    "duration": 253,
    "start_time": "2022-06-01T07:16:06.769Z"
   },
   {
    "duration": 19,
    "start_time": "2022-06-01T07:16:07.024Z"
   },
   {
    "duration": 10,
    "start_time": "2022-06-01T07:16:07.044Z"
   },
   {
    "duration": 50,
    "start_time": "2022-06-01T07:16:07.055Z"
   },
   {
    "duration": 3,
    "start_time": "2022-06-01T07:16:07.106Z"
   },
   {
    "duration": 24,
    "start_time": "2022-06-01T07:16:07.110Z"
   },
   {
    "duration": 33,
    "start_time": "2022-06-01T07:19:32.003Z"
   },
   {
    "duration": 3,
    "start_time": "2022-06-01T07:20:06.331Z"
   },
   {
    "duration": 34,
    "start_time": "2022-06-01T07:20:06.363Z"
   },
   {
    "duration": 11,
    "start_time": "2022-06-01T07:20:06.399Z"
   },
   {
    "duration": 6,
    "start_time": "2022-06-01T07:20:06.411Z"
   },
   {
    "duration": 11,
    "start_time": "2022-06-01T07:20:06.418Z"
   },
   {
    "duration": 11,
    "start_time": "2022-06-01T07:20:06.431Z"
   },
   {
    "duration": 12,
    "start_time": "2022-06-01T07:20:06.443Z"
   },
   {
    "duration": 4,
    "start_time": "2022-06-01T07:20:06.457Z"
   },
   {
    "duration": 1033,
    "start_time": "2022-06-01T07:20:06.462Z"
   },
   {
    "duration": 225,
    "start_time": "2022-06-01T07:20:07.497Z"
   },
   {
    "duration": 18,
    "start_time": "2022-06-01T07:20:07.724Z"
   },
   {
    "duration": 9,
    "start_time": "2022-06-01T07:20:07.743Z"
   },
   {
    "duration": 46,
    "start_time": "2022-06-01T07:20:07.753Z"
   },
   {
    "duration": 2,
    "start_time": "2022-06-01T07:20:07.801Z"
   },
   {
    "duration": 19,
    "start_time": "2022-06-01T07:20:07.805Z"
   },
   {
    "duration": 30,
    "start_time": "2022-06-01T07:31:25.207Z"
   },
   {
    "duration": 18380,
    "start_time": "2022-06-01T07:33:54.512Z"
   },
   {
    "duration": 4445,
    "start_time": "2022-06-01T07:35:01.418Z"
   }
  ],
  "kernelspec": {
   "display_name": "Python 3 (ipykernel)",
   "language": "python",
   "name": "python3"
  },
  "language_info": {
   "codemirror_mode": {
    "name": "ipython",
    "version": 3
   },
   "file_extension": ".py",
   "mimetype": "text/x-python",
   "name": "python",
   "nbconvert_exporter": "python",
   "pygments_lexer": "ipython3",
   "version": "3.9.5"
  },
  "toc": {
   "base_numbering": 1,
   "nav_menu": {},
   "number_sections": true,
   "sideBar": true,
   "skip_h1_title": true,
   "title_cell": "Table of Contents",
   "title_sidebar": "Contents",
   "toc_cell": false,
   "toc_position": {},
   "toc_section_display": true,
   "toc_window_display": false
  }
 },
 "nbformat": 4,
 "nbformat_minor": 2
}
