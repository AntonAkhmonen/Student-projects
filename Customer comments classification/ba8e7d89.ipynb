{
 "cells": [
  {
   "cell_type": "markdown",
   "metadata": {
    "toc": true
   },
   "source": [
    "<h1>Содержание<span class=\"tocSkip\"></span></h1>\n",
    "<div class=\"toc\"><ul class=\"toc-item\"><li><span><a href=\"#Описание-задачи\" data-toc-modified-id=\"Описание-задачи-1\"><span class=\"toc-item-num\">1&nbsp;&nbsp;</span>Описание задачи</a></span></li><li><span><a href=\"#Подготовка-данных\" data-toc-modified-id=\"Подготовка-данных-2\"><span class=\"toc-item-num\">2&nbsp;&nbsp;</span>Подготовка данных</a></span></li><li><span><a href=\"#Обучение\" data-toc-modified-id=\"Обучение-3\"><span class=\"toc-item-num\">3&nbsp;&nbsp;</span>Обучение</a></span><ul class=\"toc-item\"><li><span><a href=\"#Логистическая-регрессия\" data-toc-modified-id=\"Логистическая-регрессия-3.1\"><span class=\"toc-item-num\">3.1&nbsp;&nbsp;</span>Логистическая регрессия</a></span></li><li><span><a href=\"#Случайный-лес\" data-toc-modified-id=\"Случайный-лес-3.2\"><span class=\"toc-item-num\">3.2&nbsp;&nbsp;</span>Случайный лес</a></span></li></ul></li><li><span><a href=\"#Выводы\" data-toc-modified-id=\"Выводы-4\"><span class=\"toc-item-num\">4&nbsp;&nbsp;</span>Выводы</a></span></li></ul></div>"
   ]
  },
  {
   "cell_type": "markdown",
   "metadata": {},
   "source": [
    "# Проект для «Викишоп»"
   ]
  },
  {
   "cell_type": "markdown",
   "metadata": {},
   "source": [
    "Интернет-магазин «Викишоп» запускает новый сервис. Теперь пользователи могут редактировать и дополнять описания товаров, как в вики-сообществах. То есть клиенты предлагают свои правки и комментируют изменения других. Магазину нужен инструмент, который будет искать токсичные комментарии и отправлять их на модерацию. \n",
    "\n",
    "Обучите модель классифицировать комментарии на позитивные и негативные. В вашем распоряжении набор данных с разметкой о токсичности правок.\n",
    "\n",
    "Постройте модель со значением метрики качества *F1* не меньше 0.75. \n",
    "\n",
    "**Инструкция по выполнению проекта**\n",
    "\n",
    "1. Загрузите и подготовьте данные.\n",
    "2. Обучите разные модели. \n",
    "3. Сделайте выводы.\n",
    "\n",
    "Для выполнения проекта применять *BERT* необязательно, но вы можете попробовать.\n",
    "\n",
    "**Описание данных**\n",
    "\n",
    "Данные находятся в файле `toxic_comments.csv`. Столбец *text* в нём содержит текст комментария, а *toxic* — целевой признак."
   ]
  },
  {
   "cell_type": "markdown",
   "metadata": {},
   "source": [
    "## Описание задачи"
   ]
  },
  {
   "cell_type": "markdown",
   "metadata": {},
   "source": [
    "В данном задании необходимо разработать модель которая позволит выявлять токсичные комментарии комментарии на сайте. Критерием достижения результата является значение метрики F1 не менее 0.75\n",
    "Последовательность выполнения задач будет стандартной:\n",
    "1. Загрузка и подготовка данных\n",
    "2. Обучение моделей\n",
    "3. Сравнение результатов и формулирование выводов"
   ]
  },
  {
   "cell_type": "markdown",
   "metadata": {},
   "source": [
    "## Подготовка данных"
   ]
  },
  {
   "cell_type": "markdown",
   "metadata": {},
   "source": [
    "Загрузим библиотеки"
   ]
  },
  {
   "cell_type": "code",
   "execution_count": 141,
   "metadata": {},
   "outputs": [
    {
     "name": "stderr",
     "output_type": "stream",
     "text": [
      "[nltk_data] Downloading package wordnet to /home/jovyan/nltk_data...\n",
      "[nltk_data]   Package wordnet is already up-to-date!\n"
     ]
    }
   ],
   "source": [
    "import pandas as pd\n",
    "from sklearn.feature_extraction.text import CountVectorizer\n",
    "from sklearn.feature_extraction.text import TfidfVectorizer\n",
    "import nltk \n",
    "from nltk.corpus import stopwords as nltk_stopwords\n",
    "nltk.download('wordnet')\n",
    "from nltk.stem import WordNetLemmatizer\n",
    "lemmatizer = WordNetLemmatizer()\n",
    "import re\n",
    "from sklearn.model_selection import train_test_split\n",
    "from sklearn.linear_model import LogisticRegression\n",
    "from sklearn.tree import DecisionTreeClassifier\n",
    "from sklearn.ensemble import RandomForestClassifier\n",
    "from sklearn.metrics import f1_score\n"
   ]
  },
  {
   "cell_type": "markdown",
   "metadata": {},
   "source": [
    "Загрузим данные"
   ]
  },
  {
   "cell_type": "code",
   "execution_count": 142,
   "metadata": {},
   "outputs": [
    {
     "name": "stdout",
     "output_type": "stream",
     "text": [
      "<class 'pandas.core.frame.DataFrame'>\n",
      "RangeIndex: 159292 entries, 0 to 159291\n",
      "Data columns (total 3 columns):\n",
      " #   Column      Non-Null Count   Dtype \n",
      "---  ------      --------------   ----- \n",
      " 0   Unnamed: 0  159292 non-null  int64 \n",
      " 1   text        159292 non-null  object\n",
      " 2   toxic       159292 non-null  int64 \n",
      "dtypes: int64(2), object(1)\n",
      "memory usage: 3.6+ MB\n"
     ]
    }
   ],
   "source": [
    "data = pd.read_csv('/datasets/toxic_comments.csv')\n",
    "data.info()"
   ]
  },
  {
   "cell_type": "code",
   "execution_count": 143,
   "metadata": {},
   "outputs": [
    {
     "data": {
      "text/html": [
       "<div>\n",
       "<style scoped>\n",
       "    .dataframe tbody tr th:only-of-type {\n",
       "        vertical-align: middle;\n",
       "    }\n",
       "\n",
       "    .dataframe tbody tr th {\n",
       "        vertical-align: top;\n",
       "    }\n",
       "\n",
       "    .dataframe thead th {\n",
       "        text-align: right;\n",
       "    }\n",
       "</style>\n",
       "<table border=\"1\" class=\"dataframe\">\n",
       "  <thead>\n",
       "    <tr style=\"text-align: right;\">\n",
       "      <th></th>\n",
       "      <th>Unnamed: 0</th>\n",
       "      <th>text</th>\n",
       "      <th>toxic</th>\n",
       "    </tr>\n",
       "  </thead>\n",
       "  <tbody>\n",
       "    <tr>\n",
       "      <th>0</th>\n",
       "      <td>0</td>\n",
       "      <td>Explanation\\nWhy the edits made under my usern...</td>\n",
       "      <td>0</td>\n",
       "    </tr>\n",
       "    <tr>\n",
       "      <th>1</th>\n",
       "      <td>1</td>\n",
       "      <td>D'aww! He matches this background colour I'm s...</td>\n",
       "      <td>0</td>\n",
       "    </tr>\n",
       "    <tr>\n",
       "      <th>2</th>\n",
       "      <td>2</td>\n",
       "      <td>Hey man, I'm really not trying to edit war. It...</td>\n",
       "      <td>0</td>\n",
       "    </tr>\n",
       "    <tr>\n",
       "      <th>3</th>\n",
       "      <td>3</td>\n",
       "      <td>\"\\nMore\\nI can't make any real suggestions on ...</td>\n",
       "      <td>0</td>\n",
       "    </tr>\n",
       "    <tr>\n",
       "      <th>4</th>\n",
       "      <td>4</td>\n",
       "      <td>You, sir, are my hero. Any chance you remember...</td>\n",
       "      <td>0</td>\n",
       "    </tr>\n",
       "  </tbody>\n",
       "</table>\n",
       "</div>"
      ],
      "text/plain": [
       "   Unnamed: 0                                               text  toxic\n",
       "0           0  Explanation\\nWhy the edits made under my usern...      0\n",
       "1           1  D'aww! He matches this background colour I'm s...      0\n",
       "2           2  Hey man, I'm really not trying to edit war. It...      0\n",
       "3           3  \"\\nMore\\nI can't make any real suggestions on ...      0\n",
       "4           4  You, sir, are my hero. Any chance you remember...      0"
      ]
     },
     "execution_count": 143,
     "metadata": {},
     "output_type": "execute_result"
    }
   ],
   "source": [
    "data.head()"
   ]
  },
  {
   "cell_type": "markdown",
   "metadata": {},
   "source": [
    "Колонка Unnamed: 0 является неинформативной. Ее можно удалить"
   ]
  },
  {
   "cell_type": "code",
   "execution_count": 144,
   "metadata": {},
   "outputs": [
    {
     "data": {
      "text/html": [
       "<div>\n",
       "<style scoped>\n",
       "    .dataframe tbody tr th:only-of-type {\n",
       "        vertical-align: middle;\n",
       "    }\n",
       "\n",
       "    .dataframe tbody tr th {\n",
       "        vertical-align: top;\n",
       "    }\n",
       "\n",
       "    .dataframe thead th {\n",
       "        text-align: right;\n",
       "    }\n",
       "</style>\n",
       "<table border=\"1\" class=\"dataframe\">\n",
       "  <thead>\n",
       "    <tr style=\"text-align: right;\">\n",
       "      <th></th>\n",
       "      <th>text</th>\n",
       "      <th>toxic</th>\n",
       "    </tr>\n",
       "  </thead>\n",
       "  <tbody>\n",
       "    <tr>\n",
       "      <th>0</th>\n",
       "      <td>Explanation\\nWhy the edits made under my usern...</td>\n",
       "      <td>0</td>\n",
       "    </tr>\n",
       "    <tr>\n",
       "      <th>1</th>\n",
       "      <td>D'aww! He matches this background colour I'm s...</td>\n",
       "      <td>0</td>\n",
       "    </tr>\n",
       "    <tr>\n",
       "      <th>2</th>\n",
       "      <td>Hey man, I'm really not trying to edit war. It...</td>\n",
       "      <td>0</td>\n",
       "    </tr>\n",
       "    <tr>\n",
       "      <th>3</th>\n",
       "      <td>\"\\nMore\\nI can't make any real suggestions on ...</td>\n",
       "      <td>0</td>\n",
       "    </tr>\n",
       "    <tr>\n",
       "      <th>4</th>\n",
       "      <td>You, sir, are my hero. Any chance you remember...</td>\n",
       "      <td>0</td>\n",
       "    </tr>\n",
       "  </tbody>\n",
       "</table>\n",
       "</div>"
      ],
      "text/plain": [
       "                                                text  toxic\n",
       "0  Explanation\\nWhy the edits made under my usern...      0\n",
       "1  D'aww! He matches this background colour I'm s...      0\n",
       "2  Hey man, I'm really not trying to edit war. It...      0\n",
       "3  \"\\nMore\\nI can't make any real suggestions on ...      0\n",
       "4  You, sir, are my hero. Any chance you remember...      0"
      ]
     },
     "execution_count": 144,
     "metadata": {},
     "output_type": "execute_result"
    }
   ],
   "source": [
    "data = data.drop('Unnamed: 0', axis=1)\n",
    "data.head()"
   ]
  },
  {
   "cell_type": "code",
   "execution_count": 145,
   "metadata": {},
   "outputs": [
    {
     "data": {
      "text/html": [
       "<div>\n",
       "<style scoped>\n",
       "    .dataframe tbody tr th:only-of-type {\n",
       "        vertical-align: middle;\n",
       "    }\n",
       "\n",
       "    .dataframe tbody tr th {\n",
       "        vertical-align: top;\n",
       "    }\n",
       "\n",
       "    .dataframe thead th {\n",
       "        text-align: right;\n",
       "    }\n",
       "</style>\n",
       "<table border=\"1\" class=\"dataframe\">\n",
       "  <thead>\n",
       "    <tr style=\"text-align: right;\">\n",
       "      <th></th>\n",
       "      <th>toxic</th>\n",
       "    </tr>\n",
       "  </thead>\n",
       "  <tbody>\n",
       "    <tr>\n",
       "      <th>count</th>\n",
       "      <td>159292.000000</td>\n",
       "    </tr>\n",
       "    <tr>\n",
       "      <th>mean</th>\n",
       "      <td>0.101612</td>\n",
       "    </tr>\n",
       "    <tr>\n",
       "      <th>std</th>\n",
       "      <td>0.302139</td>\n",
       "    </tr>\n",
       "    <tr>\n",
       "      <th>min</th>\n",
       "      <td>0.000000</td>\n",
       "    </tr>\n",
       "    <tr>\n",
       "      <th>25%</th>\n",
       "      <td>0.000000</td>\n",
       "    </tr>\n",
       "    <tr>\n",
       "      <th>50%</th>\n",
       "      <td>0.000000</td>\n",
       "    </tr>\n",
       "    <tr>\n",
       "      <th>75%</th>\n",
       "      <td>0.000000</td>\n",
       "    </tr>\n",
       "    <tr>\n",
       "      <th>max</th>\n",
       "      <td>1.000000</td>\n",
       "    </tr>\n",
       "  </tbody>\n",
       "</table>\n",
       "</div>"
      ],
      "text/plain": [
       "               toxic\n",
       "count  159292.000000\n",
       "mean        0.101612\n",
       "std         0.302139\n",
       "min         0.000000\n",
       "25%         0.000000\n",
       "50%         0.000000\n",
       "75%         0.000000\n",
       "max         1.000000"
      ]
     },
     "execution_count": 145,
     "metadata": {},
     "output_type": "execute_result"
    }
   ],
   "source": [
    "data.describe()"
   ]
  },
  {
   "cell_type": "markdown",
   "metadata": {},
   "source": [
    "В файле порядка 160 тысяч комментариев, 10% из которых являются токсичными. Проведем очистку и лемматизацию предварительно создав соответствующие функции"
   ]
  },
  {
   "cell_type": "code",
   "execution_count": 146,
   "metadata": {},
   "outputs": [],
   "source": [
    "def clear_text(text):\n",
    "    clear_text = re.sub(r'[^a-zA-Z]', ' ', text)\n",
    "    clear_text = ' '.join(clear_text.split())\n",
    "    return clear_text"
   ]
  },
  {
   "cell_type": "code",
   "execution_count": 147,
   "metadata": {},
   "outputs": [
    {
     "data": {
      "text/html": [
       "<div>\n",
       "<style scoped>\n",
       "    .dataframe tbody tr th:only-of-type {\n",
       "        vertical-align: middle;\n",
       "    }\n",
       "\n",
       "    .dataframe tbody tr th {\n",
       "        vertical-align: top;\n",
       "    }\n",
       "\n",
       "    .dataframe thead th {\n",
       "        text-align: right;\n",
       "    }\n",
       "</style>\n",
       "<table border=\"1\" class=\"dataframe\">\n",
       "  <thead>\n",
       "    <tr style=\"text-align: right;\">\n",
       "      <th></th>\n",
       "      <th>text</th>\n",
       "      <th>toxic</th>\n",
       "    </tr>\n",
       "  </thead>\n",
       "  <tbody>\n",
       "    <tr>\n",
       "      <th>0</th>\n",
       "      <td>Explanation Why the edits made under my userna...</td>\n",
       "      <td>0</td>\n",
       "    </tr>\n",
       "    <tr>\n",
       "      <th>1</th>\n",
       "      <td>D aww He matches this background colour I m se...</td>\n",
       "      <td>0</td>\n",
       "    </tr>\n",
       "    <tr>\n",
       "      <th>2</th>\n",
       "      <td>Hey man I m really not trying to edit war It s...</td>\n",
       "      <td>0</td>\n",
       "    </tr>\n",
       "    <tr>\n",
       "      <th>3</th>\n",
       "      <td>More I can t make any real suggestions on impr...</td>\n",
       "      <td>0</td>\n",
       "    </tr>\n",
       "    <tr>\n",
       "      <th>4</th>\n",
       "      <td>You sir are my hero Any chance you remember wh...</td>\n",
       "      <td>0</td>\n",
       "    </tr>\n",
       "  </tbody>\n",
       "</table>\n",
       "</div>"
      ],
      "text/plain": [
       "                                                text  toxic\n",
       "0  Explanation Why the edits made under my userna...      0\n",
       "1  D aww He matches this background colour I m se...      0\n",
       "2  Hey man I m really not trying to edit war It s...      0\n",
       "3  More I can t make any real suggestions on impr...      0\n",
       "4  You sir are my hero Any chance you remember wh...      0"
      ]
     },
     "execution_count": 147,
     "metadata": {},
     "output_type": "execute_result"
    }
   ],
   "source": [
    "data['text'] = data['text'].apply(clear_text)\n",
    "data.head()"
   ]
  },
  {
   "cell_type": "code",
   "execution_count": 148,
   "metadata": {},
   "outputs": [],
   "source": [
    "def lemmatize_words(text):\n",
    "    words = text.split()\n",
    "    words = [lemmatizer.lemmatize(word,pos='v') for word in words]\n",
    "    return ' '.join(words)"
   ]
  },
  {
   "cell_type": "code",
   "execution_count": 149,
   "metadata": {},
   "outputs": [
    {
     "data": {
      "text/html": [
       "<div>\n",
       "<style scoped>\n",
       "    .dataframe tbody tr th:only-of-type {\n",
       "        vertical-align: middle;\n",
       "    }\n",
       "\n",
       "    .dataframe tbody tr th {\n",
       "        vertical-align: top;\n",
       "    }\n",
       "\n",
       "    .dataframe thead th {\n",
       "        text-align: right;\n",
       "    }\n",
       "</style>\n",
       "<table border=\"1\" class=\"dataframe\">\n",
       "  <thead>\n",
       "    <tr style=\"text-align: right;\">\n",
       "      <th></th>\n",
       "      <th>text</th>\n",
       "      <th>toxic</th>\n",
       "      <th>lemm_text</th>\n",
       "    </tr>\n",
       "  </thead>\n",
       "  <tbody>\n",
       "    <tr>\n",
       "      <th>0</th>\n",
       "      <td>Explanation Why the edits made under my userna...</td>\n",
       "      <td>0</td>\n",
       "      <td>Explanation Why the edit make under my usernam...</td>\n",
       "    </tr>\n",
       "    <tr>\n",
       "      <th>1</th>\n",
       "      <td>D aww He matches this background colour I m se...</td>\n",
       "      <td>0</td>\n",
       "      <td>D aww He match this background colour I m seem...</td>\n",
       "    </tr>\n",
       "    <tr>\n",
       "      <th>2</th>\n",
       "      <td>Hey man I m really not trying to edit war It s...</td>\n",
       "      <td>0</td>\n",
       "      <td>Hey man I m really not try to edit war It s ju...</td>\n",
       "    </tr>\n",
       "    <tr>\n",
       "      <th>3</th>\n",
       "      <td>More I can t make any real suggestions on impr...</td>\n",
       "      <td>0</td>\n",
       "      <td>More I can t make any real suggestions on impr...</td>\n",
       "    </tr>\n",
       "    <tr>\n",
       "      <th>4</th>\n",
       "      <td>You sir are my hero Any chance you remember wh...</td>\n",
       "      <td>0</td>\n",
       "      <td>You sir be my hero Any chance you remember wha...</td>\n",
       "    </tr>\n",
       "  </tbody>\n",
       "</table>\n",
       "</div>"
      ],
      "text/plain": [
       "                                                text  toxic  \\\n",
       "0  Explanation Why the edits made under my userna...      0   \n",
       "1  D aww He matches this background colour I m se...      0   \n",
       "2  Hey man I m really not trying to edit war It s...      0   \n",
       "3  More I can t make any real suggestions on impr...      0   \n",
       "4  You sir are my hero Any chance you remember wh...      0   \n",
       "\n",
       "                                           lemm_text  \n",
       "0  Explanation Why the edit make under my usernam...  \n",
       "1  D aww He match this background colour I m seem...  \n",
       "2  Hey man I m really not try to edit war It s ju...  \n",
       "3  More I can t make any real suggestions on impr...  \n",
       "4  You sir be my hero Any chance you remember wha...  "
      ]
     },
     "execution_count": 149,
     "metadata": {},
     "output_type": "execute_result"
    }
   ],
   "source": [
    "data['lemm_text'] = data['text'].apply(lemmatize_words)\n",
    "data.head()"
   ]
  },
  {
   "cell_type": "markdown",
   "metadata": {},
   "source": [
    "Разобьем выборку на обучающую и тестовую в стандартном соотношении 80:20"
   ]
  },
  {
   "cell_type": "code",
   "execution_count": 150,
   "metadata": {},
   "outputs": [
    {
     "data": {
      "text/html": [
       "<div>\n",
       "<style scoped>\n",
       "    .dataframe tbody tr th:only-of-type {\n",
       "        vertical-align: middle;\n",
       "    }\n",
       "\n",
       "    .dataframe tbody tr th {\n",
       "        vertical-align: top;\n",
       "    }\n",
       "\n",
       "    .dataframe thead th {\n",
       "        text-align: right;\n",
       "    }\n",
       "</style>\n",
       "<table border=\"1\" class=\"dataframe\">\n",
       "  <thead>\n",
       "    <tr style=\"text-align: right;\">\n",
       "      <th></th>\n",
       "      <th>toxic</th>\n",
       "    </tr>\n",
       "  </thead>\n",
       "  <tbody>\n",
       "    <tr>\n",
       "      <th>count</th>\n",
       "      <td>159292.000000</td>\n",
       "    </tr>\n",
       "    <tr>\n",
       "      <th>mean</th>\n",
       "      <td>0.101612</td>\n",
       "    </tr>\n",
       "    <tr>\n",
       "      <th>std</th>\n",
       "      <td>0.302139</td>\n",
       "    </tr>\n",
       "    <tr>\n",
       "      <th>min</th>\n",
       "      <td>0.000000</td>\n",
       "    </tr>\n",
       "    <tr>\n",
       "      <th>25%</th>\n",
       "      <td>0.000000</td>\n",
       "    </tr>\n",
       "    <tr>\n",
       "      <th>50%</th>\n",
       "      <td>0.000000</td>\n",
       "    </tr>\n",
       "    <tr>\n",
       "      <th>75%</th>\n",
       "      <td>0.000000</td>\n",
       "    </tr>\n",
       "    <tr>\n",
       "      <th>max</th>\n",
       "      <td>1.000000</td>\n",
       "    </tr>\n",
       "  </tbody>\n",
       "</table>\n",
       "</div>"
      ],
      "text/plain": [
       "               toxic\n",
       "count  159292.000000\n",
       "mean        0.101612\n",
       "std         0.302139\n",
       "min         0.000000\n",
       "25%         0.000000\n",
       "50%         0.000000\n",
       "75%         0.000000\n",
       "max         1.000000"
      ]
     },
     "execution_count": 150,
     "metadata": {},
     "output_type": "execute_result"
    }
   ],
   "source": [
    "data.describe()"
   ]
  },
  {
   "cell_type": "code",
   "execution_count": 151,
   "metadata": {},
   "outputs": [
    {
     "data": {
      "text/plain": [
       "(127433, 3)"
      ]
     },
     "execution_count": 151,
     "metadata": {},
     "output_type": "execute_result"
    }
   ],
   "source": [
    "data_train, data_test = train_test_split(data, test_size=0.2)\n",
    "data_train.shape"
   ]
  },
  {
   "cell_type": "code",
   "execution_count": 152,
   "metadata": {},
   "outputs": [
    {
     "data": {
      "text/plain": [
       "(31859, 3)"
      ]
     },
     "execution_count": 152,
     "metadata": {},
     "output_type": "execute_result"
    }
   ],
   "source": [
    "data_train, data_valid = train_test_split(data_train, test_size=0.25)\n",
    "data_valid.shape"
   ]
  },
  {
   "cell_type": "code",
   "execution_count": 153,
   "metadata": {},
   "outputs": [
    {
     "data": {
      "text/plain": [
       "(95574, 3)"
      ]
     },
     "execution_count": 153,
     "metadata": {},
     "output_type": "execute_result"
    }
   ],
   "source": [
    "data_train.shape"
   ]
  },
  {
   "cell_type": "markdown",
   "metadata": {},
   "source": [
    "Проведем очистку данных от стоп-слов и их векторизацию"
   ]
  },
  {
   "cell_type": "code",
   "execution_count": 154,
   "metadata": {},
   "outputs": [
    {
     "name": "stderr",
     "output_type": "stream",
     "text": [
      "[nltk_data] Downloading package stopwords to /home/jovyan/nltk_data...\n",
      "[nltk_data]   Package stopwords is already up-to-date!\n"
     ]
    }
   ],
   "source": [
    "nltk.download('stopwords')\n",
    "stopwords = set(nltk_stopwords.words('english'))\n",
    "count_tf_idf = TfidfVectorizer(stop_words=stopwords)"
   ]
  },
  {
   "cell_type": "code",
   "execution_count": 155,
   "metadata": {},
   "outputs": [],
   "source": [
    "tf_idf_train = count_tf_idf.fit_transform(data_train['lemm_text'])\n",
    "tf_idf_valid = count_tf_idf.transform(data_valid['lemm_text'])\n",
    "tf_idf_test = count_tf_idf.transform(data_test['lemm_text'])"
   ]
  },
  {
   "cell_type": "code",
   "execution_count": 156,
   "metadata": {},
   "outputs": [
    {
     "data": {
      "text/plain": [
       "(95574, 119372)"
      ]
     },
     "execution_count": 156,
     "metadata": {},
     "output_type": "execute_result"
    }
   ],
   "source": [
    "tf_idf_train.shape"
   ]
  },
  {
   "cell_type": "code",
   "execution_count": 157,
   "metadata": {},
   "outputs": [],
   "source": [
    "features_train = tf_idf_train\n",
    "target_train = data_train['toxic']\n",
    "features_valid = tf_idf_valid\n",
    "target_valid = data_valid['toxic']\n",
    "features_test = tf_idf_test\n",
    "target_test = data_test['toxic']"
   ]
  },
  {
   "cell_type": "markdown",
   "metadata": {},
   "source": [
    "## Обучение"
   ]
  },
  {
   "cell_type": "markdown",
   "metadata": {},
   "source": [
    "По условиям задачи необходимо попробовать несколько моделей. Применим логистическую регрессию и случайный лес с перебором количества деревьев и максимальной глубины"
   ]
  },
  {
   "cell_type": "markdown",
   "metadata": {},
   "source": [
    "### Логистическая регрессия"
   ]
  },
  {
   "cell_type": "code",
   "execution_count": 158,
   "metadata": {},
   "outputs": [
    {
     "name": "stdout",
     "output_type": "stream",
     "text": [
      "Значение метрики f1 0.8700641241984475\n"
     ]
    }
   ],
   "source": [
    "model = LogisticRegression(random_state=12345, C=5, max_iter=1000)\n",
    "model.fit(features_train, target_train)\n",
    "predictions = model.predict(features_train)\n",
    "f1 = f1_score(predictions, target_train)\n",
    "print(\"Значение метрики f1\", f1)"
   ]
  },
  {
   "cell_type": "markdown",
   "metadata": {},
   "source": [
    "Полученное на обучающей выборке значение f1 превышает целевое. Попробуем вторую модель - случайный лес"
   ]
  },
  {
   "cell_type": "markdown",
   "metadata": {},
   "source": [
    "### Случайный лес"
   ]
  },
  {
   "cell_type": "code",
   "execution_count": 159,
   "metadata": {},
   "outputs": [
    {
     "name": "stdout",
     "output_type": "stream",
     "text": [
      "Значение метрики f1 0.06612529002320185 при количестве деревьев 1 и максимальной глубине 9\n"
     ]
    }
   ],
   "source": [
    "best_model = None\n",
    "best_result = 0\n",
    "best_est = 0\n",
    "best_depth = 0\n",
    "for est in range(1, 10):\n",
    "    for depth in range (1, 10):\n",
    "        model = RandomForestClassifier(random_state=12345, n_estimators=est, max_depth=depth)\n",
    "        model.fit(features_train, target_train)\n",
    "        predictions = model.predict(features_valid)\n",
    "        result = f1_score(predictions, target_valid)\n",
    "        if result > best_result:\n",
    "            best_model = model\n",
    "            best_result = result\n",
    "            best_est = est\n",
    "            best_depth = depth\n",
    "print(\"Значение метрики f1\", best_result, 'при количестве деревьев', best_est, 'и максимальной глубине', best_depth)          "
   ]
  },
  {
   "cell_type": "markdown",
   "metadata": {},
   "source": [
    "Полученное значение  f1 в 0.06 значительно ниже целевого. Модель может быть отброшена"
   ]
  },
  {
   "cell_type": "markdown",
   "metadata": {},
   "source": [
    "Проверим лучшее из получившихся решений, логистическую регрессию на тестовой выборке"
   ]
  },
  {
   "cell_type": "code",
   "execution_count": 160,
   "metadata": {},
   "outputs": [
    {
     "name": "stdout",
     "output_type": "stream",
     "text": [
      "Значение метрики f1 0.7662361287975259\n"
     ]
    }
   ],
   "source": [
    "model = LogisticRegression(random_state=12345, C=5, max_iter=1000)\n",
    "model.fit(features_train, target_train)\n",
    "predictions = model.predict(features_test)\n",
    "f1 = f1_score(predictions, target_test)\n",
    "print(\"Значение метрики f1\", f1)"
   ]
  },
  {
   "cell_type": "markdown",
   "metadata": {},
   "source": [
    "Полученное значение метрики f1 находится выше минимального значения в 0.75. Модель может быть рекомендована к использованию"
   ]
  },
  {
   "cell_type": "markdown",
   "metadata": {},
   "source": [
    "## Выводы"
   ]
  },
  {
   "cell_type": "markdown",
   "metadata": {},
   "source": [
    "В рамках поставленной задачи по выбору оптимальной модели для сортировки комментариев было проведено сравнение двух моделей: логистической регрессии и дерева решений с подбором гиперпараметров. Дерево решений при оптимальном сочетании гиперпараметров позволяет достичь показателя f1 в 0.06 что существенно ниже целевого показателя. У логистической регрессии показатель f1 на тестовой выборке составляет 0.76 Это позволяет рекомендовать ее для использования в данной задаче"
   ]
  }
 ],
 "metadata": {
  "ExecuteTimeLog": [
   {
    "duration": 1564,
    "start_time": "2022-11-11T12:14:32.978Z"
   },
   {
    "duration": 32,
    "start_time": "2022-11-11T12:16:40.918Z"
   },
   {
    "duration": 10,
    "start_time": "2022-11-11T12:17:03.451Z"
   },
   {
    "duration": 4,
    "start_time": "2022-11-11T12:17:08.070Z"
   },
   {
    "duration": 4,
    "start_time": "2022-11-11T12:18:02.072Z"
   },
   {
    "duration": 14,
    "start_time": "2022-11-11T12:19:41.210Z"
   },
   {
    "duration": 3524,
    "start_time": "2022-11-11T12:20:52.332Z"
   },
   {
    "duration": 914,
    "start_time": "2022-11-11T12:21:04.370Z"
   },
   {
    "duration": 29,
    "start_time": "2022-11-11T12:23:23.523Z"
   },
   {
    "duration": 265,
    "start_time": "2022-11-11T12:26:09.171Z"
   },
   {
    "duration": 8,
    "start_time": "2022-11-11T12:27:03.181Z"
   },
   {
    "duration": 4,
    "start_time": "2022-11-11T12:57:17.720Z"
   },
   {
    "duration": 824,
    "start_time": "2022-11-11T12:57:17.728Z"
   },
   {
    "duration": 20,
    "start_time": "2022-11-11T12:57:18.554Z"
   },
   {
    "duration": 285,
    "start_time": "2022-11-11T12:57:18.576Z"
   },
   {
    "duration": 9,
    "start_time": "2022-11-11T12:57:18.864Z"
   },
   {
    "duration": 8,
    "start_time": "2022-11-11T12:57:51.713Z"
   },
   {
    "duration": 8,
    "start_time": "2022-11-11T12:58:08.400Z"
   },
   {
    "duration": 2094,
    "start_time": "2022-11-11T13:01:57.749Z"
   },
   {
    "duration": 1438,
    "start_time": "2022-11-11T13:02:44.429Z"
   },
   {
    "duration": 3498,
    "start_time": "2022-11-11T13:02:45.869Z"
   },
   {
    "duration": 28,
    "start_time": "2022-11-11T13:02:49.369Z"
   },
   {
    "duration": 281,
    "start_time": "2022-11-11T13:02:49.399Z"
   },
   {
    "duration": 7,
    "start_time": "2022-11-11T13:02:49.682Z"
   },
   {
    "duration": 2159,
    "start_time": "2022-11-11T13:02:49.691Z"
   },
   {
    "duration": 3,
    "start_time": "2022-11-11T13:03:45.018Z"
   },
   {
    "duration": 878,
    "start_time": "2022-11-11T13:03:45.040Z"
   },
   {
    "duration": 27,
    "start_time": "2022-11-11T13:03:45.920Z"
   },
   {
    "duration": 264,
    "start_time": "2022-11-11T13:03:45.949Z"
   },
   {
    "duration": 7,
    "start_time": "2022-11-11T13:03:46.215Z"
   },
   {
    "duration": 9,
    "start_time": "2022-11-11T14:21:17.986Z"
   },
   {
    "duration": 48,
    "start_time": "2022-11-11T14:28:53.418Z"
   },
   {
    "duration": 1526,
    "start_time": "2022-11-11T14:28:58.442Z"
   },
   {
    "duration": 3583,
    "start_time": "2022-11-11T14:28:59.970Z"
   },
   {
    "duration": 31,
    "start_time": "2022-11-11T14:29:03.555Z"
   },
   {
    "duration": 296,
    "start_time": "2022-11-11T14:29:03.588Z"
   },
   {
    "duration": 8,
    "start_time": "2022-11-11T14:29:03.886Z"
   },
   {
    "duration": 14039,
    "start_time": "2022-11-11T14:29:03.895Z"
   },
   {
    "duration": 76,
    "start_time": "2022-11-11T14:29:17.936Z"
   },
   {
    "duration": 0,
    "start_time": "2022-11-11T14:29:18.014Z"
   },
   {
    "duration": 3,
    "start_time": "2022-11-11T14:29:23.073Z"
   },
   {
    "duration": 837,
    "start_time": "2022-11-11T14:29:23.094Z"
   },
   {
    "duration": 21,
    "start_time": "2022-11-11T14:29:23.938Z"
   },
   {
    "duration": 286,
    "start_time": "2022-11-11T14:29:23.961Z"
   },
   {
    "duration": 7,
    "start_time": "2022-11-11T14:29:24.249Z"
   },
   {
    "duration": 1400,
    "start_time": "2022-11-11T14:29:39.971Z"
   },
   {
    "duration": 3510,
    "start_time": "2022-11-11T14:29:41.375Z"
   },
   {
    "duration": 29,
    "start_time": "2022-11-11T14:29:44.887Z"
   },
   {
    "duration": 281,
    "start_time": "2022-11-11T14:29:44.919Z"
   },
   {
    "duration": 7,
    "start_time": "2022-11-11T14:29:45.202Z"
   },
   {
    "duration": 14170,
    "start_time": "2022-11-11T14:29:45.212Z"
   },
   {
    "duration": 3,
    "start_time": "2022-11-11T14:29:59.384Z"
   },
   {
    "duration": 51,
    "start_time": "2022-11-11T14:32:48.729Z"
   },
   {
    "duration": 1393,
    "start_time": "2022-11-11T14:32:57.139Z"
   },
   {
    "duration": 3579,
    "start_time": "2022-11-11T14:32:58.536Z"
   },
   {
    "duration": 30,
    "start_time": "2022-11-11T14:33:02.117Z"
   },
   {
    "duration": 299,
    "start_time": "2022-11-11T14:33:02.150Z"
   },
   {
    "duration": 7,
    "start_time": "2022-11-11T14:33:02.451Z"
   },
   {
    "duration": 13907,
    "start_time": "2022-11-11T14:33:02.460Z"
   },
   {
    "duration": 1672,
    "start_time": "2022-11-11T14:35:07.413Z"
   },
   {
    "duration": 3508,
    "start_time": "2022-11-11T14:35:09.087Z"
   },
   {
    "duration": 28,
    "start_time": "2022-11-11T14:35:12.597Z"
   },
   {
    "duration": 294,
    "start_time": "2022-11-11T14:35:12.628Z"
   },
   {
    "duration": 18,
    "start_time": "2022-11-11T14:35:12.924Z"
   },
   {
    "duration": 14330,
    "start_time": "2022-11-11T14:35:12.945Z"
   },
   {
    "duration": 9,
    "start_time": "2022-11-11T14:43:51.150Z"
   },
   {
    "duration": 45,
    "start_time": "2022-11-11T14:43:55.114Z"
   },
   {
    "duration": 8,
    "start_time": "2022-11-11T14:44:35.812Z"
   },
   {
    "duration": 1419,
    "start_time": "2022-11-11T14:46:37.971Z"
   },
   {
    "duration": 3510,
    "start_time": "2022-11-11T14:46:39.392Z"
   },
   {
    "duration": 29,
    "start_time": "2022-11-11T14:46:42.904Z"
   },
   {
    "duration": 276,
    "start_time": "2022-11-11T14:46:42.935Z"
   },
   {
    "duration": 7,
    "start_time": "2022-11-11T14:46:43.213Z"
   },
   {
    "duration": 14390,
    "start_time": "2022-11-11T14:46:43.222Z"
   },
   {
    "duration": 1481,
    "start_time": "2022-11-11T14:57:53.106Z"
   },
   {
    "duration": 3523,
    "start_time": "2022-11-11T14:57:54.589Z"
   },
   {
    "duration": 30,
    "start_time": "2022-11-11T14:57:58.114Z"
   },
   {
    "duration": 288,
    "start_time": "2022-11-11T14:57:58.146Z"
   },
   {
    "duration": 7,
    "start_time": "2022-11-11T14:57:58.438Z"
   },
   {
    "duration": 14326,
    "start_time": "2022-11-11T14:57:58.447Z"
   },
   {
    "duration": 1460,
    "start_time": "2022-11-11T15:13:54.570Z"
   },
   {
    "duration": 3510,
    "start_time": "2022-11-11T15:13:56.032Z"
   },
   {
    "duration": 28,
    "start_time": "2022-11-11T15:13:59.544Z"
   },
   {
    "duration": 287,
    "start_time": "2022-11-11T15:13:59.573Z"
   },
   {
    "duration": 8,
    "start_time": "2022-11-11T15:13:59.862Z"
   },
   {
    "duration": 14126,
    "start_time": "2022-11-11T15:13:59.872Z"
   },
   {
    "duration": 1455,
    "start_time": "2022-11-11T15:32:33.583Z"
   },
   {
    "duration": 3474,
    "start_time": "2022-11-11T15:32:35.040Z"
   },
   {
    "duration": 29,
    "start_time": "2022-11-11T15:32:38.516Z"
   },
   {
    "duration": 292,
    "start_time": "2022-11-11T15:32:38.547Z"
   },
   {
    "duration": 9,
    "start_time": "2022-11-11T15:32:38.840Z"
   },
   {
    "duration": 14104,
    "start_time": "2022-11-11T15:32:38.850Z"
   },
   {
    "duration": 1317,
    "start_time": "2022-11-14T06:37:37.084Z"
   },
   {
    "duration": 2492,
    "start_time": "2022-11-14T06:37:38.403Z"
   },
   {
    "duration": 27,
    "start_time": "2022-11-14T06:37:40.897Z"
   },
   {
    "duration": 260,
    "start_time": "2022-11-14T06:37:40.927Z"
   },
   {
    "duration": 7,
    "start_time": "2022-11-14T06:37:41.189Z"
   },
   {
    "duration": 15051,
    "start_time": "2022-11-14T06:37:41.197Z"
   },
   {
    "duration": 1416,
    "start_time": "2022-11-14T06:38:22.962Z"
   },
   {
    "duration": 2590,
    "start_time": "2022-11-14T06:38:24.380Z"
   },
   {
    "duration": 27,
    "start_time": "2022-11-14T06:38:26.972Z"
   },
   {
    "duration": 301,
    "start_time": "2022-11-14T06:38:27.001Z"
   },
   {
    "duration": 6,
    "start_time": "2022-11-14T06:38:27.304Z"
   },
   {
    "duration": 14264,
    "start_time": "2022-11-14T06:38:27.312Z"
   },
   {
    "duration": 13,
    "start_time": "2022-11-14T06:49:57.037Z"
   },
   {
    "duration": 1456,
    "start_time": "2022-11-14T06:50:01.012Z"
   },
   {
    "duration": 2613,
    "start_time": "2022-11-14T06:50:02.470Z"
   },
   {
    "duration": 28,
    "start_time": "2022-11-14T06:50:05.085Z"
   },
   {
    "duration": 284,
    "start_time": "2022-11-14T06:50:05.116Z"
   },
   {
    "duration": 7,
    "start_time": "2022-11-14T06:50:05.402Z"
   },
   {
    "duration": 13299,
    "start_time": "2022-11-14T06:50:05.411Z"
   },
   {
    "duration": 1439,
    "start_time": "2022-11-14T07:24:14.097Z"
   },
   {
    "duration": 2395,
    "start_time": "2022-11-14T07:24:15.538Z"
   },
   {
    "duration": 24,
    "start_time": "2022-11-14T07:24:17.934Z"
   },
   {
    "duration": 234,
    "start_time": "2022-11-14T07:24:17.960Z"
   },
   {
    "duration": 6,
    "start_time": "2022-11-14T07:24:18.195Z"
   },
   {
    "duration": 118,
    "start_time": "2022-11-14T07:24:18.202Z"
   },
   {
    "duration": 0,
    "start_time": "2022-11-14T07:24:18.322Z"
   },
   {
    "duration": 12876,
    "start_time": "2022-11-14T07:25:11.821Z"
   },
   {
    "duration": 4,
    "start_time": "2022-11-14T07:35:14.840Z"
   },
   {
    "duration": 795,
    "start_time": "2022-11-14T07:35:14.857Z"
   },
   {
    "duration": 19,
    "start_time": "2022-11-14T07:35:15.653Z"
   },
   {
    "duration": 229,
    "start_time": "2022-11-14T07:35:15.673Z"
   },
   {
    "duration": 7,
    "start_time": "2022-11-14T07:35:15.904Z"
   },
   {
    "duration": 1324,
    "start_time": "2022-11-14T07:36:49.206Z"
   },
   {
    "duration": 2404,
    "start_time": "2022-11-14T07:36:50.532Z"
   },
   {
    "duration": 28,
    "start_time": "2022-11-14T07:36:52.938Z"
   },
   {
    "duration": 273,
    "start_time": "2022-11-14T07:36:52.968Z"
   },
   {
    "duration": 6,
    "start_time": "2022-11-14T07:36:53.243Z"
   },
   {
    "duration": 12923,
    "start_time": "2022-11-14T07:36:53.251Z"
   },
   {
    "duration": 1777,
    "start_time": "2022-11-14T14:57:28.558Z"
   },
   {
    "duration": 3269,
    "start_time": "2022-11-14T14:57:30.337Z"
   },
   {
    "duration": 28,
    "start_time": "2022-11-14T14:57:33.608Z"
   },
   {
    "duration": 280,
    "start_time": "2022-11-14T14:57:33.639Z"
   },
   {
    "duration": 7,
    "start_time": "2022-11-14T14:57:33.921Z"
   },
   {
    "duration": 13043,
    "start_time": "2022-11-14T14:57:33.930Z"
   },
   {
    "duration": 1802,
    "start_time": "2022-11-14T15:00:52.217Z"
   },
   {
    "duration": 3289,
    "start_time": "2022-11-14T15:00:54.021Z"
   },
   {
    "duration": 29,
    "start_time": "2022-11-14T15:00:57.312Z"
   },
   {
    "duration": 280,
    "start_time": "2022-11-14T15:00:57.343Z"
   },
   {
    "duration": 7,
    "start_time": "2022-11-14T15:00:57.624Z"
   },
   {
    "duration": 13310,
    "start_time": "2022-11-14T15:00:57.633Z"
   },
   {
    "duration": 1650,
    "start_time": "2022-11-14T15:06:40.174Z"
   },
   {
    "duration": 3223,
    "start_time": "2022-11-14T15:06:41.827Z"
   },
   {
    "duration": 28,
    "start_time": "2022-11-14T15:06:45.052Z"
   },
   {
    "duration": 294,
    "start_time": "2022-11-14T15:06:45.083Z"
   },
   {
    "duration": 7,
    "start_time": "2022-11-14T15:06:45.379Z"
   },
   {
    "duration": 13377,
    "start_time": "2022-11-14T15:06:45.388Z"
   },
   {
    "duration": 1963,
    "start_time": "2022-11-14T15:15:33.079Z"
   },
   {
    "duration": 3287,
    "start_time": "2022-11-14T15:15:35.044Z"
   },
   {
    "duration": 28,
    "start_time": "2022-11-14T15:15:38.333Z"
   },
   {
    "duration": 272,
    "start_time": "2022-11-14T15:15:38.363Z"
   },
   {
    "duration": 7,
    "start_time": "2022-11-14T15:15:38.637Z"
   },
   {
    "duration": 13231,
    "start_time": "2022-11-14T15:15:38.646Z"
   },
   {
    "duration": 1376,
    "start_time": "2022-11-15T06:15:41.968Z"
   },
   {
    "duration": 2519,
    "start_time": "2022-11-15T06:15:43.346Z"
   },
   {
    "duration": 25,
    "start_time": "2022-11-15T06:15:45.866Z"
   },
   {
    "duration": 277,
    "start_time": "2022-11-15T06:15:45.893Z"
   },
   {
    "duration": 10,
    "start_time": "2022-11-15T06:15:46.172Z"
   },
   {
    "duration": 13689,
    "start_time": "2022-11-15T06:15:46.184Z"
   },
   {
    "duration": 1274,
    "start_time": "2022-11-15T06:17:27.209Z"
   },
   {
    "duration": 2427,
    "start_time": "2022-11-15T06:17:28.485Z"
   },
   {
    "duration": 28,
    "start_time": "2022-11-15T06:17:30.913Z"
   },
   {
    "duration": 282,
    "start_time": "2022-11-15T06:17:30.943Z"
   },
   {
    "duration": 6,
    "start_time": "2022-11-15T06:17:31.228Z"
   },
   {
    "duration": 13210,
    "start_time": "2022-11-15T06:17:31.235Z"
   },
   {
    "duration": 50,
    "start_time": "2022-11-15T06:57:48.473Z"
   },
   {
    "duration": 1264,
    "start_time": "2022-11-15T06:58:09.683Z"
   },
   {
    "duration": 2386,
    "start_time": "2022-11-15T06:58:10.949Z"
   },
   {
    "duration": 29,
    "start_time": "2022-11-15T06:58:13.337Z"
   },
   {
    "duration": 252,
    "start_time": "2022-11-15T06:58:13.368Z"
   },
   {
    "duration": 8,
    "start_time": "2022-11-15T06:58:13.623Z"
   },
   {
    "duration": 45,
    "start_time": "2022-11-15T06:58:13.633Z"
   },
   {
    "duration": 3,
    "start_time": "2022-11-15T06:58:13.680Z"
   },
   {
    "duration": 1007,
    "start_time": "2022-11-15T07:02:59.571Z"
   },
   {
    "duration": 3,
    "start_time": "2022-11-15T07:03:40.035Z"
   },
   {
    "duration": 799,
    "start_time": "2022-11-15T07:03:40.044Z"
   },
   {
    "duration": 18,
    "start_time": "2022-11-15T07:03:40.845Z"
   },
   {
    "duration": 240,
    "start_time": "2022-11-15T07:03:40.877Z"
   },
   {
    "duration": 7,
    "start_time": "2022-11-15T07:03:41.118Z"
   },
   {
    "duration": 26,
    "start_time": "2022-11-15T07:03:41.127Z"
   },
   {
    "duration": 909,
    "start_time": "2022-11-15T07:03:41.154Z"
   },
   {
    "duration": 0,
    "start_time": "2022-11-15T07:03:42.064Z"
   },
   {
    "duration": 0,
    "start_time": "2022-11-15T07:03:42.066Z"
   },
   {
    "duration": 10,
    "start_time": "2022-11-15T07:06:32.240Z"
   },
   {
    "duration": 17,
    "start_time": "2022-11-15T07:08:06.802Z"
   },
   {
    "duration": 4,
    "start_time": "2022-11-15T07:08:14.416Z"
   },
   {
    "duration": 832,
    "start_time": "2022-11-15T07:08:14.429Z"
   },
   {
    "duration": 20,
    "start_time": "2022-11-15T07:08:15.263Z"
   },
   {
    "duration": 244,
    "start_time": "2022-11-15T07:08:15.285Z"
   },
   {
    "duration": 7,
    "start_time": "2022-11-15T07:08:15.531Z"
   },
   {
    "duration": 15,
    "start_time": "2022-11-15T07:08:15.540Z"
   },
   {
    "duration": 0,
    "start_time": "2022-11-15T07:08:15.557Z"
   },
   {
    "duration": 0,
    "start_time": "2022-11-15T07:08:15.558Z"
   },
   {
    "duration": 0,
    "start_time": "2022-11-15T07:08:15.576Z"
   },
   {
    "duration": 14,
    "start_time": "2022-11-15T07:09:30.468Z"
   },
   {
    "duration": 25,
    "start_time": "2022-11-15T07:10:01.110Z"
   },
   {
    "duration": 4,
    "start_time": "2022-11-15T07:14:33.066Z"
   },
   {
    "duration": 799,
    "start_time": "2022-11-15T07:14:33.090Z"
   },
   {
    "duration": 18,
    "start_time": "2022-11-15T07:14:33.891Z"
   },
   {
    "duration": 239,
    "start_time": "2022-11-15T07:14:33.911Z"
   },
   {
    "duration": 6,
    "start_time": "2022-11-15T07:14:34.151Z"
   },
   {
    "duration": 36,
    "start_time": "2022-11-15T07:14:34.159Z"
   },
   {
    "duration": 755,
    "start_time": "2022-11-15T07:14:34.197Z"
   },
   {
    "duration": 0,
    "start_time": "2022-11-15T07:14:34.954Z"
   },
   {
    "duration": 0,
    "start_time": "2022-11-15T07:14:34.955Z"
   },
   {
    "duration": 46,
    "start_time": "2022-11-15T07:17:00.467Z"
   },
   {
    "duration": 4,
    "start_time": "2022-11-15T07:17:17.879Z"
   },
   {
    "duration": 10,
    "start_time": "2022-11-15T07:17:22.458Z"
   },
   {
    "duration": 4,
    "start_time": "2022-11-15T07:17:32.355Z"
   },
   {
    "duration": 8,
    "start_time": "2022-11-15T07:17:35.708Z"
   },
   {
    "duration": 12,
    "start_time": "2022-11-15T07:18:08.449Z"
   },
   {
    "duration": 12,
    "start_time": "2022-11-15T07:19:27.818Z"
   },
   {
    "duration": 3451,
    "start_time": "2022-11-15T07:22:56.976Z"
   },
   {
    "duration": 4,
    "start_time": "2022-11-15T07:23:10.841Z"
   },
   {
    "duration": 892,
    "start_time": "2022-11-15T07:23:10.857Z"
   },
   {
    "duration": 30,
    "start_time": "2022-11-15T07:23:11.751Z"
   },
   {
    "duration": 227,
    "start_time": "2022-11-15T07:23:11.782Z"
   },
   {
    "duration": 6,
    "start_time": "2022-11-15T07:23:12.011Z"
   },
   {
    "duration": 27,
    "start_time": "2022-11-15T07:23:12.019Z"
   },
   {
    "duration": 48,
    "start_time": "2022-11-15T07:23:36.930Z"
   },
   {
    "duration": 1353,
    "start_time": "2022-11-15T07:23:49.672Z"
   },
   {
    "duration": 2339,
    "start_time": "2022-11-15T07:23:51.027Z"
   },
   {
    "duration": 25,
    "start_time": "2022-11-15T07:23:53.368Z"
   },
   {
    "duration": 223,
    "start_time": "2022-11-15T07:23:53.395Z"
   },
   {
    "duration": 6,
    "start_time": "2022-11-15T07:23:53.619Z"
   },
   {
    "duration": 23,
    "start_time": "2022-11-15T07:23:53.627Z"
   },
   {
    "duration": 1953,
    "start_time": "2022-11-15T07:23:53.652Z"
   },
   {
    "duration": 44,
    "start_time": "2022-11-15T15:44:44.219Z"
   },
   {
    "duration": 1182,
    "start_time": "2022-11-15T15:44:49.556Z"
   },
   {
    "duration": 2227,
    "start_time": "2022-11-15T15:44:50.740Z"
   },
   {
    "duration": 25,
    "start_time": "2022-11-15T15:44:52.968Z"
   },
   {
    "duration": 207,
    "start_time": "2022-11-15T15:44:52.995Z"
   },
   {
    "duration": 6,
    "start_time": "2022-11-15T15:44:53.204Z"
   },
   {
    "duration": 700,
    "start_time": "2022-11-15T15:44:53.212Z"
   },
   {
    "duration": 52,
    "start_time": "2022-11-15T15:44:53.914Z"
   },
   {
    "duration": 1939,
    "start_time": "2022-11-15T15:44:53.967Z"
   },
   {
    "duration": 48,
    "start_time": "2022-11-15T15:45:19.615Z"
   },
   {
    "duration": 5,
    "start_time": "2022-11-15T15:46:05.583Z"
   },
   {
    "duration": 1268,
    "start_time": "2022-11-15T15:46:10.477Z"
   },
   {
    "duration": 2294,
    "start_time": "2022-11-15T15:46:11.747Z"
   },
   {
    "duration": 26,
    "start_time": "2022-11-15T15:46:14.042Z"
   },
   {
    "duration": 231,
    "start_time": "2022-11-15T15:46:14.069Z"
   },
   {
    "duration": 7,
    "start_time": "2022-11-15T15:46:14.301Z"
   },
   {
    "duration": 767,
    "start_time": "2022-11-15T15:46:14.309Z"
   },
   {
    "duration": 52,
    "start_time": "2022-11-15T15:46:15.078Z"
   },
   {
    "duration": 1956,
    "start_time": "2022-11-15T15:46:15.132Z"
   },
   {
    "duration": 49,
    "start_time": "2022-11-15T15:49:22.911Z"
   },
   {
    "duration": 1424,
    "start_time": "2022-11-15T15:49:29.563Z"
   },
   {
    "duration": 2338,
    "start_time": "2022-11-15T15:49:30.988Z"
   },
   {
    "duration": 25,
    "start_time": "2022-11-15T15:49:33.328Z"
   },
   {
    "duration": 277,
    "start_time": "2022-11-15T15:49:33.355Z"
   },
   {
    "duration": 6,
    "start_time": "2022-11-15T15:49:33.634Z"
   },
   {
    "duration": 663,
    "start_time": "2022-11-15T15:49:33.642Z"
   },
   {
    "duration": 52,
    "start_time": "2022-11-15T15:49:34.307Z"
   },
   {
    "duration": 1984,
    "start_time": "2022-11-15T15:49:34.360Z"
   },
   {
    "duration": 1328,
    "start_time": "2022-11-15T15:49:54.171Z"
   },
   {
    "duration": 2273,
    "start_time": "2022-11-15T15:49:55.501Z"
   },
   {
    "duration": 23,
    "start_time": "2022-11-15T15:49:57.776Z"
   },
   {
    "duration": 258,
    "start_time": "2022-11-15T15:49:57.801Z"
   },
   {
    "duration": 7,
    "start_time": "2022-11-15T15:49:58.061Z"
   },
   {
    "duration": 672,
    "start_time": "2022-11-15T15:49:58.069Z"
   },
   {
    "duration": 58,
    "start_time": "2022-11-15T15:49:58.743Z"
   },
   {
    "duration": 1961,
    "start_time": "2022-11-15T15:49:58.803Z"
   },
   {
    "duration": 33,
    "start_time": "2022-11-15T15:50:00.766Z"
   },
   {
    "duration": 8,
    "start_time": "2022-11-15T15:53:35.318Z"
   },
   {
    "duration": 133,
    "start_time": "2022-11-15T15:55:04.030Z"
   },
   {
    "duration": 4,
    "start_time": "2022-11-15T15:55:15.486Z"
   },
   {
    "duration": 827,
    "start_time": "2022-11-15T15:55:15.511Z"
   },
   {
    "duration": 17,
    "start_time": "2022-11-15T15:55:16.340Z"
   },
   {
    "duration": 220,
    "start_time": "2022-11-15T15:55:16.359Z"
   },
   {
    "duration": 6,
    "start_time": "2022-11-15T15:55:16.581Z"
   },
   {
    "duration": 750,
    "start_time": "2022-11-15T15:55:16.597Z"
   },
   {
    "duration": 777,
    "start_time": "2022-11-15T15:55:17.349Z"
   },
   {
    "duration": 0,
    "start_time": "2022-11-15T15:55:18.127Z"
   },
   {
    "duration": 0,
    "start_time": "2022-11-15T15:55:18.128Z"
   },
   {
    "duration": 0,
    "start_time": "2022-11-15T15:55:18.129Z"
   },
   {
    "duration": 52,
    "start_time": "2022-11-15T16:28:45.639Z"
   },
   {
    "duration": 1354,
    "start_time": "2022-11-15T16:28:54.175Z"
   },
   {
    "duration": 2246,
    "start_time": "2022-11-15T16:28:55.531Z"
   },
   {
    "duration": 25,
    "start_time": "2022-11-15T16:28:57.778Z"
   },
   {
    "duration": 238,
    "start_time": "2022-11-15T16:28:57.805Z"
   },
   {
    "duration": 6,
    "start_time": "2022-11-15T16:28:58.045Z"
   },
   {
    "duration": 2015,
    "start_time": "2022-11-15T16:28:58.052Z"
   },
   {
    "duration": 0,
    "start_time": "2022-11-15T16:29:00.069Z"
   },
   {
    "duration": 0,
    "start_time": "2022-11-15T16:29:00.070Z"
   },
   {
    "duration": 0,
    "start_time": "2022-11-15T16:29:00.071Z"
   },
   {
    "duration": 0,
    "start_time": "2022-11-15T16:29:00.072Z"
   },
   {
    "duration": 45,
    "start_time": "2022-11-15T16:29:29.250Z"
   },
   {
    "duration": 1218,
    "start_time": "2022-11-15T16:29:33.537Z"
   },
   {
    "duration": 2298,
    "start_time": "2022-11-15T16:29:34.758Z"
   },
   {
    "duration": 25,
    "start_time": "2022-11-15T16:29:37.058Z"
   },
   {
    "duration": 229,
    "start_time": "2022-11-15T16:29:37.085Z"
   },
   {
    "duration": 6,
    "start_time": "2022-11-15T16:29:37.316Z"
   },
   {
    "duration": 1915,
    "start_time": "2022-11-15T16:29:37.323Z"
   },
   {
    "duration": 835,
    "start_time": "2022-11-15T16:29:39.240Z"
   },
   {
    "duration": 63,
    "start_time": "2022-11-15T16:29:40.077Z"
   },
   {
    "duration": 8,
    "start_time": "2022-11-15T16:30:47.104Z"
   },
   {
    "duration": 42,
    "start_time": "2022-11-15T16:31:47.445Z"
   },
   {
    "duration": 1223,
    "start_time": "2022-11-15T16:31:52.110Z"
   },
   {
    "duration": 2277,
    "start_time": "2022-11-15T16:31:53.335Z"
   },
   {
    "duration": 29,
    "start_time": "2022-11-15T16:31:55.615Z"
   },
   {
    "duration": 244,
    "start_time": "2022-11-15T16:31:55.646Z"
   },
   {
    "duration": 11,
    "start_time": "2022-11-15T16:31:55.891Z"
   },
   {
    "duration": 1876,
    "start_time": "2022-11-15T16:31:55.904Z"
   },
   {
    "duration": 750,
    "start_time": "2022-11-15T16:31:57.782Z"
   },
   {
    "duration": 48,
    "start_time": "2022-11-15T16:31:58.534Z"
   },
   {
    "duration": 14,
    "start_time": "2022-11-15T16:31:58.583Z"
   },
   {
    "duration": 3,
    "start_time": "2022-11-15T16:32:54.954Z"
   },
   {
    "duration": 3,
    "start_time": "2022-11-15T16:41:58.336Z"
   },
   {
    "duration": 3,
    "start_time": "2022-11-15T16:42:48.613Z"
   },
   {
    "duration": 3,
    "start_time": "2022-11-15T16:42:56.338Z"
   },
   {
    "duration": 53,
    "start_time": "2022-11-15T16:43:22.654Z"
   },
   {
    "duration": 4,
    "start_time": "2022-11-15T16:43:30.438Z"
   },
   {
    "duration": 3,
    "start_time": "2022-11-15T16:43:32.877Z"
   },
   {
    "duration": 19,
    "start_time": "2022-11-15T16:43:37.886Z"
   },
   {
    "duration": 805,
    "start_time": "2022-11-15T16:43:37.907Z"
   },
   {
    "duration": 19,
    "start_time": "2022-11-15T16:43:38.714Z"
   },
   {
    "duration": 251,
    "start_time": "2022-11-15T16:43:38.735Z"
   },
   {
    "duration": 10,
    "start_time": "2022-11-15T16:43:38.988Z"
   },
   {
    "duration": 1283,
    "start_time": "2022-11-15T16:44:33.817Z"
   },
   {
    "duration": 2317,
    "start_time": "2022-11-15T16:44:35.101Z"
   },
   {
    "duration": 25,
    "start_time": "2022-11-15T16:44:37.419Z"
   },
   {
    "duration": 260,
    "start_time": "2022-11-15T16:44:37.446Z"
   },
   {
    "duration": 6,
    "start_time": "2022-11-15T16:44:37.707Z"
   },
   {
    "duration": 1936,
    "start_time": "2022-11-15T16:44:37.714Z"
   },
   {
    "duration": 20,
    "start_time": "2022-11-15T16:44:39.652Z"
   },
   {
    "duration": 20,
    "start_time": "2022-11-15T16:44:39.673Z"
   },
   {
    "duration": 767,
    "start_time": "2022-11-15T16:44:39.695Z"
   },
   {
    "duration": 3,
    "start_time": "2022-11-15T16:44:40.465Z"
   },
   {
    "duration": 7,
    "start_time": "2022-11-15T16:44:40.469Z"
   },
   {
    "duration": 59,
    "start_time": "2022-11-15T16:44:40.477Z"
   },
   {
    "duration": 2,
    "start_time": "2022-11-15T16:44:40.538Z"
   },
   {
    "duration": 120,
    "start_time": "2022-11-15T16:49:38.022Z"
   },
   {
    "duration": 3,
    "start_time": "2022-11-15T16:49:45.396Z"
   },
   {
    "duration": 810,
    "start_time": "2022-11-15T16:49:45.411Z"
   },
   {
    "duration": 18,
    "start_time": "2022-11-15T16:49:46.223Z"
   },
   {
    "duration": 231,
    "start_time": "2022-11-15T16:49:46.242Z"
   },
   {
    "duration": 9,
    "start_time": "2022-11-15T16:49:46.474Z"
   },
   {
    "duration": 56,
    "start_time": "2022-11-15T17:06:07.529Z"
   },
   {
    "duration": 1273,
    "start_time": "2022-11-15T17:06:13.429Z"
   },
   {
    "duration": 2305,
    "start_time": "2022-11-15T17:06:14.704Z"
   },
   {
    "duration": 25,
    "start_time": "2022-11-15T17:06:17.010Z"
   },
   {
    "duration": 214,
    "start_time": "2022-11-15T17:06:17.037Z"
   },
   {
    "duration": 6,
    "start_time": "2022-11-15T17:06:17.253Z"
   },
   {
    "duration": 1821,
    "start_time": "2022-11-15T17:06:17.261Z"
   },
   {
    "duration": 13,
    "start_time": "2022-11-15T17:06:19.084Z"
   },
   {
    "duration": 3,
    "start_time": "2022-11-15T17:06:19.099Z"
   },
   {
    "duration": 845,
    "start_time": "2022-11-15T17:06:19.103Z"
   },
   {
    "duration": 4,
    "start_time": "2022-11-15T17:06:19.950Z"
   },
   {
    "duration": 7,
    "start_time": "2022-11-15T17:06:19.956Z"
   },
   {
    "duration": 118,
    "start_time": "2022-11-15T17:06:19.965Z"
   },
   {
    "duration": 0,
    "start_time": "2022-11-15T17:06:20.085Z"
   },
   {
    "duration": 0,
    "start_time": "2022-11-15T17:06:20.086Z"
   },
   {
    "duration": 48,
    "start_time": "2022-11-16T17:03:53.776Z"
   },
   {
    "duration": 1325,
    "start_time": "2022-11-16T17:03:59.041Z"
   },
   {
    "duration": 3425,
    "start_time": "2022-11-16T17:04:00.367Z"
   },
   {
    "duration": 32,
    "start_time": "2022-11-16T17:04:03.794Z"
   },
   {
    "duration": 317,
    "start_time": "2022-11-16T17:04:03.829Z"
   },
   {
    "duration": 8,
    "start_time": "2022-11-16T17:04:04.148Z"
   },
   {
    "duration": 92755,
    "start_time": "2022-11-16T17:04:04.159Z"
   },
   {
    "duration": 2143,
    "start_time": "2022-11-16T17:05:36.916Z"
   },
   {
    "duration": 7,
    "start_time": "2022-11-16T17:05:39.062Z"
   },
   {
    "duration": 3,
    "start_time": "2022-11-16T17:05:39.078Z"
   },
   {
    "duration": 6,
    "start_time": "2022-11-16T17:05:39.083Z"
   },
   {
    "duration": 4,
    "start_time": "2022-11-16T17:05:39.090Z"
   },
   {
    "duration": 11,
    "start_time": "2022-11-16T17:05:39.096Z"
   },
   {
    "duration": 81,
    "start_time": "2022-11-16T17:05:39.108Z"
   },
   {
    "duration": 3,
    "start_time": "2022-11-16T17:05:39.191Z"
   },
   {
    "duration": 7,
    "start_time": "2022-11-16T17:07:52.277Z"
   },
   {
    "duration": 18,
    "start_time": "2022-11-16T17:18:47.957Z"
   },
   {
    "duration": 2098,
    "start_time": "2022-11-16T17:18:47.977Z"
   },
   {
    "duration": 26,
    "start_time": "2022-11-16T17:18:50.077Z"
   },
   {
    "duration": 272,
    "start_time": "2022-11-16T17:18:50.105Z"
   },
   {
    "duration": 21,
    "start_time": "2022-11-16T17:18:50.379Z"
   },
   {
    "duration": 39,
    "start_time": "2022-11-16T17:20:24.619Z"
   },
   {
    "duration": 761,
    "start_time": "2022-11-16T17:20:24.660Z"
   },
   {
    "duration": 19,
    "start_time": "2022-11-16T17:20:25.423Z"
   },
   {
    "duration": 257,
    "start_time": "2022-11-16T17:20:25.443Z"
   },
   {
    "duration": 6,
    "start_time": "2022-11-16T17:20:25.702Z"
   },
   {
    "duration": 1382,
    "start_time": "2022-11-16T17:23:33.648Z"
   },
   {
    "duration": 3400,
    "start_time": "2022-11-16T17:23:35.032Z"
   },
   {
    "duration": 28,
    "start_time": "2022-11-16T17:23:38.434Z"
   },
   {
    "duration": 259,
    "start_time": "2022-11-16T17:23:38.464Z"
   },
   {
    "duration": 6,
    "start_time": "2022-11-16T17:23:38.725Z"
   },
   {
    "duration": 8,
    "start_time": "2022-11-16T17:25:08.352Z"
   },
   {
    "duration": 18,
    "start_time": "2022-11-16T17:25:08.361Z"
   },
   {
    "duration": 100905,
    "start_time": "2022-11-16T17:25:08.383Z"
   },
   {
    "duration": 77,
    "start_time": "2022-11-16T17:28:05.920Z"
   },
   {
    "duration": 248,
    "start_time": "2022-11-16T17:28:14.580Z"
   },
   {
    "duration": 162,
    "start_time": "2022-11-16T17:38:46.312Z"
   },
   {
    "duration": 11,
    "start_time": "2022-11-16T17:39:03.086Z"
   },
   {
    "duration": 30,
    "start_time": "2022-11-16T17:39:08.118Z"
   },
   {
    "duration": 808,
    "start_time": "2022-11-16T17:39:08.150Z"
   },
   {
    "duration": 35,
    "start_time": "2022-11-16T17:39:08.961Z"
   },
   {
    "duration": 282,
    "start_time": "2022-11-16T17:39:09.000Z"
   },
   {
    "duration": 14,
    "start_time": "2022-11-16T17:39:09.284Z"
   },
   {
    "duration": 99379,
    "start_time": "2022-11-16T17:39:09.300Z"
   },
   {
    "duration": 8,
    "start_time": "2022-11-16T17:40:48.681Z"
   },
   {
    "duration": 126,
    "start_time": "2022-11-16T17:40:48.691Z"
   },
   {
    "duration": 5,
    "start_time": "2022-11-16T17:40:48.819Z"
   },
   {
    "duration": 10,
    "start_time": "2022-11-16T17:40:48.826Z"
   },
   {
    "duration": 8,
    "start_time": "2022-11-16T17:40:48.838Z"
   },
   {
    "duration": 1963,
    "start_time": "2022-11-16T17:43:41.924Z"
   },
   {
    "duration": 31,
    "start_time": "2022-11-16T17:43:44.752Z"
   },
   {
    "duration": 1016,
    "start_time": "2022-11-16T17:43:44.784Z"
   },
   {
    "duration": 24,
    "start_time": "2022-11-16T17:43:45.802Z"
   },
   {
    "duration": 331,
    "start_time": "2022-11-16T17:43:45.828Z"
   },
   {
    "duration": 16,
    "start_time": "2022-11-16T17:43:46.162Z"
   },
   {
    "duration": 1902,
    "start_time": "2022-11-16T17:43:46.180Z"
   },
   {
    "duration": 15,
    "start_time": "2022-11-16T17:43:48.084Z"
   },
   {
    "duration": 0,
    "start_time": "2022-11-16T17:43:48.101Z"
   },
   {
    "duration": 0,
    "start_time": "2022-11-16T17:43:48.102Z"
   },
   {
    "duration": 0,
    "start_time": "2022-11-16T17:43:48.103Z"
   },
   {
    "duration": 0,
    "start_time": "2022-11-16T17:43:48.105Z"
   },
   {
    "duration": 0,
    "start_time": "2022-11-16T17:43:48.106Z"
   },
   {
    "duration": 4,
    "start_time": "2022-11-16T17:44:07.882Z"
   },
   {
    "duration": 881,
    "start_time": "2022-11-16T17:44:07.887Z"
   },
   {
    "duration": 23,
    "start_time": "2022-11-16T17:44:08.770Z"
   },
   {
    "duration": 262,
    "start_time": "2022-11-16T17:44:08.795Z"
   },
   {
    "duration": 7,
    "start_time": "2022-11-16T17:44:09.058Z"
   },
   {
    "duration": 93632,
    "start_time": "2022-11-16T17:44:09.067Z"
   },
   {
    "duration": 8,
    "start_time": "2022-11-16T17:45:42.701Z"
   },
   {
    "duration": 132,
    "start_time": "2022-11-16T17:45:42.711Z"
   },
   {
    "duration": 5,
    "start_time": "2022-11-16T17:45:42.844Z"
   },
   {
    "duration": 9,
    "start_time": "2022-11-16T17:45:42.851Z"
   },
   {
    "duration": 7,
    "start_time": "2022-11-16T17:45:42.879Z"
   },
   {
    "duration": 9,
    "start_time": "2022-11-16T17:47:37.729Z"
   },
   {
    "duration": 3,
    "start_time": "2022-11-16T17:47:58.791Z"
   },
   {
    "duration": 4,
    "start_time": "2022-11-16T17:48:36.777Z"
   },
   {
    "duration": 28,
    "start_time": "2022-11-16T17:49:22.569Z"
   },
   {
    "duration": 823,
    "start_time": "2022-11-16T17:49:22.599Z"
   },
   {
    "duration": 23,
    "start_time": "2022-11-16T17:49:23.424Z"
   },
   {
    "duration": 287,
    "start_time": "2022-11-16T17:49:23.449Z"
   },
   {
    "duration": 6,
    "start_time": "2022-11-16T17:49:23.738Z"
   },
   {
    "duration": 94561,
    "start_time": "2022-11-16T17:49:23.745Z"
   },
   {
    "duration": 9,
    "start_time": "2022-11-16T17:50:58.308Z"
   },
   {
    "duration": 119,
    "start_time": "2022-11-16T17:50:58.318Z"
   },
   {
    "duration": 5,
    "start_time": "2022-11-16T17:50:58.438Z"
   },
   {
    "duration": 9,
    "start_time": "2022-11-16T17:50:58.446Z"
   },
   {
    "duration": 21,
    "start_time": "2022-11-16T17:50:58.457Z"
   },
   {
    "duration": 11,
    "start_time": "2022-11-16T17:57:46.173Z"
   },
   {
    "duration": 3,
    "start_time": "2022-11-16T17:57:51.235Z"
   },
   {
    "duration": 4,
    "start_time": "2022-11-16T17:58:11.681Z"
   },
   {
    "duration": 6,
    "start_time": "2022-11-16T17:58:12.797Z"
   },
   {
    "duration": 5,
    "start_time": "2022-11-16T17:58:15.944Z"
   },
   {
    "duration": 3,
    "start_time": "2022-11-16T17:58:17.116Z"
   },
   {
    "duration": 69,
    "start_time": "2022-11-16T17:58:51.126Z"
   },
   {
    "duration": 11,
    "start_time": "2022-11-16T17:59:38.229Z"
   },
   {
    "duration": 742,
    "start_time": "2022-11-16T17:59:38.248Z"
   },
   {
    "duration": 25,
    "start_time": "2022-11-16T17:59:38.993Z"
   },
   {
    "duration": 321,
    "start_time": "2022-11-16T17:59:39.021Z"
   },
   {
    "duration": 10,
    "start_time": "2022-11-16T17:59:39.344Z"
   },
   {
    "duration": 98006,
    "start_time": "2022-11-16T17:59:39.357Z"
   },
   {
    "duration": 15,
    "start_time": "2022-11-16T18:01:17.365Z"
   },
   {
    "duration": 70,
    "start_time": "2022-11-16T18:01:17.382Z"
   },
   {
    "duration": 4,
    "start_time": "2022-11-16T18:01:17.454Z"
   },
   {
    "duration": 23,
    "start_time": "2022-11-16T18:01:17.460Z"
   },
   {
    "duration": 84,
    "start_time": "2022-11-16T18:01:17.485Z"
   },
   {
    "duration": 0,
    "start_time": "2022-11-16T18:01:17.571Z"
   },
   {
    "duration": 3,
    "start_time": "2022-11-16T18:21:58.839Z"
   },
   {
    "duration": 27,
    "start_time": "2022-11-16T18:22:29.427Z"
   },
   {
    "duration": 762,
    "start_time": "2022-11-16T18:22:29.456Z"
   },
   {
    "duration": 17,
    "start_time": "2022-11-16T18:22:30.220Z"
   },
   {
    "duration": 258,
    "start_time": "2022-11-16T18:22:30.239Z"
   },
   {
    "duration": 7,
    "start_time": "2022-11-16T18:22:30.499Z"
   },
   {
    "duration": 86426,
    "start_time": "2022-11-16T18:22:30.507Z"
   },
   {
    "duration": 10,
    "start_time": "2022-11-16T18:23:56.936Z"
   },
   {
    "duration": 123,
    "start_time": "2022-11-16T18:23:56.947Z"
   },
   {
    "duration": 9,
    "start_time": "2022-11-16T18:23:57.072Z"
   },
   {
    "duration": 18,
    "start_time": "2022-11-16T18:23:57.084Z"
   },
   {
    "duration": 5,
    "start_time": "2022-11-16T18:23:57.103Z"
   },
   {
    "duration": 21,
    "start_time": "2022-11-16T18:23:57.109Z"
   },
   {
    "duration": 0,
    "start_time": "2022-11-16T18:23:57.132Z"
   },
   {
    "duration": 17,
    "start_time": "2022-11-16T18:27:08.295Z"
   },
   {
    "duration": 32,
    "start_time": "2022-11-16T18:27:12.896Z"
   },
   {
    "duration": 792,
    "start_time": "2022-11-16T18:27:12.930Z"
   },
   {
    "duration": 24,
    "start_time": "2022-11-16T18:27:13.724Z"
   },
   {
    "duration": 300,
    "start_time": "2022-11-16T18:27:13.750Z"
   },
   {
    "duration": 8,
    "start_time": "2022-11-16T18:27:14.052Z"
   },
   {
    "duration": 91873,
    "start_time": "2022-11-16T18:27:14.062Z"
   },
   {
    "duration": 10,
    "start_time": "2022-11-16T18:28:45.937Z"
   },
   {
    "duration": 147,
    "start_time": "2022-11-16T18:28:45.948Z"
   },
   {
    "duration": 253,
    "start_time": "2022-11-16T18:28:46.097Z"
   },
   {
    "duration": 6,
    "start_time": "2022-11-16T18:28:46.352Z"
   },
   {
    "duration": 16,
    "start_time": "2022-11-16T18:28:46.359Z"
   },
   {
    "duration": 0,
    "start_time": "2022-11-16T18:28:46.377Z"
   },
   {
    "duration": 0,
    "start_time": "2022-11-16T18:28:46.377Z"
   },
   {
    "duration": 28,
    "start_time": "2022-11-16T18:34:05.263Z"
   },
   {
    "duration": 12,
    "start_time": "2022-11-16T18:34:46.503Z"
   },
   {
    "duration": 28,
    "start_time": "2022-11-16T18:34:53.871Z"
   },
   {
    "duration": 826,
    "start_time": "2022-11-16T18:34:53.901Z"
   },
   {
    "duration": 8,
    "start_time": "2022-11-16T18:34:54.728Z"
   },
   {
    "duration": 38,
    "start_time": "2022-11-16T18:34:54.740Z"
   },
   {
    "duration": 20,
    "start_time": "2022-11-16T18:34:54.780Z"
   },
   {
    "duration": 283,
    "start_time": "2022-11-16T18:34:54.802Z"
   },
   {
    "duration": 96113,
    "start_time": "2022-11-16T18:34:55.087Z"
   },
   {
    "duration": 11,
    "start_time": "2022-11-16T18:36:31.202Z"
   },
   {
    "duration": 151,
    "start_time": "2022-11-16T18:36:31.215Z"
   },
   {
    "duration": 5,
    "start_time": "2022-11-16T18:36:31.368Z"
   },
   {
    "duration": 10,
    "start_time": "2022-11-16T18:36:31.374Z"
   },
   {
    "duration": 6,
    "start_time": "2022-11-16T18:36:31.385Z"
   },
   {
    "duration": 17,
    "start_time": "2022-11-16T18:36:31.393Z"
   },
   {
    "duration": 0,
    "start_time": "2022-11-16T18:36:31.412Z"
   },
   {
    "duration": 33,
    "start_time": "2022-11-16T18:42:10.118Z"
   },
   {
    "duration": 793,
    "start_time": "2022-11-16T18:42:10.154Z"
   },
   {
    "duration": 9,
    "start_time": "2022-11-16T18:42:10.949Z"
   },
   {
    "duration": 29,
    "start_time": "2022-11-16T18:42:10.960Z"
   },
   {
    "duration": 24,
    "start_time": "2022-11-16T18:42:10.991Z"
   },
   {
    "duration": 112373,
    "start_time": "2022-11-16T18:42:11.017Z"
   },
   {
    "duration": 9,
    "start_time": "2022-11-16T18:44:03.393Z"
   },
   {
    "duration": 129,
    "start_time": "2022-11-16T18:44:03.404Z"
   },
   {
    "duration": 5,
    "start_time": "2022-11-16T18:44:03.535Z"
   },
   {
    "duration": 11,
    "start_time": "2022-11-16T18:44:03.543Z"
   },
   {
    "duration": 29,
    "start_time": "2022-11-16T18:44:03.556Z"
   },
   {
    "duration": 20,
    "start_time": "2022-11-16T18:44:03.592Z"
   },
   {
    "duration": 0,
    "start_time": "2022-11-16T18:44:03.614Z"
   },
   {
    "duration": 7,
    "start_time": "2022-11-16T18:47:32.296Z"
   },
   {
    "duration": 4,
    "start_time": "2022-11-16T18:47:32.936Z"
   },
   {
    "duration": 28,
    "start_time": "2022-11-16T18:47:36.568Z"
   },
   {
    "duration": 811,
    "start_time": "2022-11-16T18:47:36.599Z"
   },
   {
    "duration": 7,
    "start_time": "2022-11-16T18:47:37.412Z"
   },
   {
    "duration": 31,
    "start_time": "2022-11-16T18:47:37.421Z"
   },
   {
    "duration": 32,
    "start_time": "2022-11-16T18:47:37.454Z"
   },
   {
    "duration": 104347,
    "start_time": "2022-11-16T18:47:37.488Z"
   },
   {
    "duration": 8,
    "start_time": "2022-11-16T18:49:21.837Z"
   },
   {
    "duration": 135,
    "start_time": "2022-11-16T18:49:21.847Z"
   },
   {
    "duration": 5,
    "start_time": "2022-11-16T18:49:21.984Z"
   },
   {
    "duration": 15,
    "start_time": "2022-11-16T18:49:21.991Z"
   },
   {
    "duration": 14,
    "start_time": "2022-11-16T18:49:22.009Z"
   },
   {
    "duration": 19,
    "start_time": "2022-11-16T18:49:22.025Z"
   },
   {
    "duration": 0,
    "start_time": "2022-11-16T18:49:22.046Z"
   },
   {
    "duration": 23,
    "start_time": "2022-11-16T18:52:27.327Z"
   },
   {
    "duration": 778,
    "start_time": "2022-11-16T18:52:27.353Z"
   },
   {
    "duration": 8,
    "start_time": "2022-11-16T18:52:28.132Z"
   },
   {
    "duration": 36,
    "start_time": "2022-11-16T18:52:28.142Z"
   },
   {
    "duration": 16,
    "start_time": "2022-11-16T18:52:28.180Z"
   },
   {
    "duration": 106142,
    "start_time": "2022-11-16T18:52:28.197Z"
   },
   {
    "duration": 9,
    "start_time": "2022-11-16T18:54:14.341Z"
   },
   {
    "duration": 134,
    "start_time": "2022-11-16T18:54:14.352Z"
   },
   {
    "duration": 5,
    "start_time": "2022-11-16T18:54:14.487Z"
   },
   {
    "duration": 16,
    "start_time": "2022-11-16T18:54:14.494Z"
   },
   {
    "duration": 29,
    "start_time": "2022-11-16T18:54:14.512Z"
   },
   {
    "duration": 0,
    "start_time": "2022-11-16T18:54:14.542Z"
   },
   {
    "duration": 0,
    "start_time": "2022-11-16T18:54:14.544Z"
   },
   {
    "duration": 25,
    "start_time": "2022-11-16T18:55:30.336Z"
   },
   {
    "duration": 3,
    "start_time": "2022-11-16T18:55:50.240Z"
   },
   {
    "duration": 21,
    "start_time": "2022-11-16T18:55:55.798Z"
   },
   {
    "duration": 739,
    "start_time": "2022-11-16T18:55:55.821Z"
   },
   {
    "duration": 7,
    "start_time": "2022-11-16T18:55:56.561Z"
   },
   {
    "duration": 16,
    "start_time": "2022-11-16T18:55:56.579Z"
   },
   {
    "duration": 20,
    "start_time": "2022-11-16T18:55:56.596Z"
   },
   {
    "duration": 93862,
    "start_time": "2022-11-16T18:55:56.618Z"
   },
   {
    "duration": 8,
    "start_time": "2022-11-16T18:57:30.482Z"
   },
   {
    "duration": 50,
    "start_time": "2022-11-16T18:57:30.491Z"
   },
   {
    "duration": 79,
    "start_time": "2022-11-16T18:57:30.543Z"
   },
   {
    "duration": 4,
    "start_time": "2022-11-16T18:57:30.625Z"
   },
   {
    "duration": 17,
    "start_time": "2022-11-16T18:57:30.631Z"
   },
   {
    "duration": 32,
    "start_time": "2022-11-16T18:57:30.650Z"
   },
   {
    "duration": 32,
    "start_time": "2022-11-16T18:57:30.684Z"
   },
   {
    "duration": 0,
    "start_time": "2022-11-16T18:57:30.718Z"
   },
   {
    "duration": 4,
    "start_time": "2022-11-16T18:59:17.019Z"
   },
   {
    "duration": 28,
    "start_time": "2022-11-16T19:00:22.064Z"
   },
   {
    "duration": 753,
    "start_time": "2022-11-16T19:00:22.094Z"
   },
   {
    "duration": 10,
    "start_time": "2022-11-16T19:00:22.849Z"
   },
   {
    "duration": 33,
    "start_time": "2022-11-16T19:00:22.861Z"
   },
   {
    "duration": 17,
    "start_time": "2022-11-16T19:00:22.896Z"
   },
   {
    "duration": 95459,
    "start_time": "2022-11-16T19:00:22.915Z"
   },
   {
    "duration": 16,
    "start_time": "2022-11-16T19:01:58.376Z"
   },
   {
    "duration": 95,
    "start_time": "2022-11-16T19:01:58.394Z"
   },
   {
    "duration": 5,
    "start_time": "2022-11-16T19:01:58.490Z"
   },
   {
    "duration": 14,
    "start_time": "2022-11-16T19:01:58.498Z"
   },
   {
    "duration": 9,
    "start_time": "2022-11-16T19:01:58.514Z"
   },
   {
    "duration": 14,
    "start_time": "2022-11-16T19:01:58.524Z"
   },
   {
    "duration": 17,
    "start_time": "2022-11-16T19:01:58.540Z"
   },
   {
    "duration": 0,
    "start_time": "2022-11-16T19:01:58.559Z"
   },
   {
    "duration": 5,
    "start_time": "2022-11-16T19:05:43.003Z"
   },
   {
    "duration": 24,
    "start_time": "2022-11-16T19:05:54.775Z"
   },
   {
    "duration": 797,
    "start_time": "2022-11-16T19:05:54.802Z"
   },
   {
    "duration": 8,
    "start_time": "2022-11-16T19:05:55.601Z"
   },
   {
    "duration": 16,
    "start_time": "2022-11-16T19:05:55.611Z"
   },
   {
    "duration": 23,
    "start_time": "2022-11-16T19:05:55.629Z"
   },
   {
    "duration": 105524,
    "start_time": "2022-11-16T19:05:55.654Z"
   },
   {
    "duration": 10,
    "start_time": "2022-11-16T19:07:41.180Z"
   },
   {
    "duration": 158,
    "start_time": "2022-11-16T19:07:41.192Z"
   },
   {
    "duration": 5,
    "start_time": "2022-11-16T19:07:41.353Z"
   },
   {
    "duration": 36,
    "start_time": "2022-11-16T19:07:41.361Z"
   },
   {
    "duration": 29,
    "start_time": "2022-11-16T19:07:41.399Z"
   },
   {
    "duration": 13,
    "start_time": "2022-11-16T19:07:41.431Z"
   },
   {
    "duration": 25,
    "start_time": "2022-11-16T19:07:41.446Z"
   },
   {
    "duration": 0,
    "start_time": "2022-11-16T19:07:41.474Z"
   },
   {
    "duration": 3,
    "start_time": "2022-11-16T19:08:25.869Z"
   },
   {
    "duration": 31,
    "start_time": "2022-11-16T19:08:39.865Z"
   },
   {
    "duration": 772,
    "start_time": "2022-11-16T19:08:39.899Z"
   },
   {
    "duration": 8,
    "start_time": "2022-11-16T19:08:40.677Z"
   },
   {
    "duration": 31,
    "start_time": "2022-11-16T19:08:40.688Z"
   },
   {
    "duration": 26,
    "start_time": "2022-11-16T19:08:40.721Z"
   },
   {
    "duration": 109422,
    "start_time": "2022-11-16T19:08:40.748Z"
   },
   {
    "duration": 11,
    "start_time": "2022-11-16T19:10:30.172Z"
   },
   {
    "duration": 171,
    "start_time": "2022-11-16T19:10:30.186Z"
   },
   {
    "duration": 5,
    "start_time": "2022-11-16T19:10:30.359Z"
   },
   {
    "duration": 41,
    "start_time": "2022-11-16T19:10:30.367Z"
   },
   {
    "duration": 0,
    "start_time": "2022-11-16T19:10:30.410Z"
   },
   {
    "duration": 0,
    "start_time": "2022-11-16T19:10:30.412Z"
   },
   {
    "duration": 0,
    "start_time": "2022-11-16T19:10:30.414Z"
   },
   {
    "duration": 0,
    "start_time": "2022-11-16T19:10:30.415Z"
   },
   {
    "duration": 28,
    "start_time": "2022-11-16T19:11:34.772Z"
   },
   {
    "duration": 841,
    "start_time": "2022-11-16T19:11:34.803Z"
   },
   {
    "duration": 11,
    "start_time": "2022-11-16T19:11:35.647Z"
   },
   {
    "duration": 28,
    "start_time": "2022-11-16T19:11:35.661Z"
   },
   {
    "duration": 47,
    "start_time": "2022-11-16T19:11:35.692Z"
   },
   {
    "duration": 121206,
    "start_time": "2022-11-16T19:11:35.742Z"
   },
   {
    "duration": 17,
    "start_time": "2022-11-16T19:13:36.951Z"
   },
   {
    "duration": 139,
    "start_time": "2022-11-16T19:13:36.970Z"
   },
   {
    "duration": 4,
    "start_time": "2022-11-16T19:13:37.111Z"
   },
   {
    "duration": 26,
    "start_time": "2022-11-16T19:13:37.117Z"
   },
   {
    "duration": 13,
    "start_time": "2022-11-16T19:13:37.145Z"
   },
   {
    "duration": 25,
    "start_time": "2022-11-16T19:13:37.160Z"
   },
   {
    "duration": 0,
    "start_time": "2022-11-16T19:13:37.187Z"
   },
   {
    "duration": 0,
    "start_time": "2022-11-16T19:13:37.188Z"
   },
   {
    "duration": 26,
    "start_time": "2022-11-16T19:14:23.408Z"
   },
   {
    "duration": 1055,
    "start_time": "2022-11-16T19:14:23.438Z"
   },
   {
    "duration": 9,
    "start_time": "2022-11-16T19:14:24.495Z"
   },
   {
    "duration": 29,
    "start_time": "2022-11-16T19:14:24.507Z"
   },
   {
    "duration": 24,
    "start_time": "2022-11-16T19:14:24.538Z"
   },
   {
    "duration": 120115,
    "start_time": "2022-11-16T19:14:24.564Z"
   },
   {
    "duration": 18,
    "start_time": "2022-11-16T19:16:24.688Z"
   },
   {
    "duration": 235,
    "start_time": "2022-11-16T19:16:24.712Z"
   },
   {
    "duration": 11,
    "start_time": "2022-11-16T19:16:24.953Z"
   },
   {
    "duration": 52,
    "start_time": "2022-11-16T19:16:24.971Z"
   },
   {
    "duration": 25,
    "start_time": "2022-11-16T19:16:25.029Z"
   },
   {
    "duration": 35,
    "start_time": "2022-11-16T19:16:25.058Z"
   },
   {
    "duration": 0,
    "start_time": "2022-11-16T19:16:25.095Z"
   },
   {
    "duration": 12,
    "start_time": "2022-11-16T19:17:53.801Z"
   },
   {
    "duration": 20,
    "start_time": "2022-11-16T19:18:01.297Z"
   },
   {
    "duration": 3719,
    "start_time": "2022-11-16T19:18:01.330Z"
   },
   {
    "duration": 9,
    "start_time": "2022-11-16T19:18:05.051Z"
   },
   {
    "duration": 32,
    "start_time": "2022-11-16T19:18:05.062Z"
   },
   {
    "duration": 29,
    "start_time": "2022-11-16T19:18:05.097Z"
   },
   {
    "duration": 92562,
    "start_time": "2022-11-16T19:18:05.129Z"
   },
   {
    "duration": 8,
    "start_time": "2022-11-16T19:19:37.694Z"
   },
   {
    "duration": 123,
    "start_time": "2022-11-16T19:19:37.704Z"
   },
   {
    "duration": 5,
    "start_time": "2022-11-16T19:19:37.829Z"
   },
   {
    "duration": 6,
    "start_time": "2022-11-16T19:19:37.836Z"
   },
   {
    "duration": 9,
    "start_time": "2022-11-16T19:19:37.844Z"
   },
   {
    "duration": 6,
    "start_time": "2022-11-16T19:19:37.855Z"
   },
   {
    "duration": 34,
    "start_time": "2022-11-16T19:19:37.878Z"
   },
   {
    "duration": 0,
    "start_time": "2022-11-16T19:19:37.913Z"
   },
   {
    "duration": 1358,
    "start_time": "2022-11-18T07:31:25.402Z"
   },
   {
    "duration": 3244,
    "start_time": "2022-11-18T07:31:26.762Z"
   },
   {
    "duration": 14,
    "start_time": "2022-11-18T07:31:30.007Z"
   },
   {
    "duration": 31,
    "start_time": "2022-11-18T07:31:30.024Z"
   },
   {
    "duration": 24,
    "start_time": "2022-11-18T07:31:30.056Z"
   },
   {
    "duration": 93142,
    "start_time": "2022-11-18T07:31:30.081Z"
   },
   {
    "duration": 11,
    "start_time": "2022-11-18T07:33:03.225Z"
   },
   {
    "duration": 68,
    "start_time": "2022-11-18T07:33:03.237Z"
   },
   {
    "duration": 220,
    "start_time": "2022-11-18T07:33:03.307Z"
   },
   {
    "duration": 151,
    "start_time": "2022-11-18T07:33:03.529Z"
   },
   {
    "duration": 0,
    "start_time": "2022-11-18T07:33:03.682Z"
   },
   {
    "duration": 0,
    "start_time": "2022-11-18T07:33:03.684Z"
   },
   {
    "duration": 0,
    "start_time": "2022-11-18T07:33:03.685Z"
   },
   {
    "duration": 0,
    "start_time": "2022-11-18T07:33:03.686Z"
   },
   {
    "duration": 23,
    "start_time": "2022-11-18T07:38:32.209Z"
   },
   {
    "duration": 826,
    "start_time": "2022-11-18T07:38:32.235Z"
   },
   {
    "duration": 7,
    "start_time": "2022-11-18T07:38:33.063Z"
   },
   {
    "duration": 23,
    "start_time": "2022-11-18T07:38:33.073Z"
   },
   {
    "duration": 15,
    "start_time": "2022-11-18T07:38:33.104Z"
   },
   {
    "duration": 82960,
    "start_time": "2022-11-18T07:38:33.121Z"
   },
   {
    "duration": 7,
    "start_time": "2022-11-18T07:39:56.083Z"
   },
   {
    "duration": 148,
    "start_time": "2022-11-18T07:39:56.092Z"
   },
   {
    "duration": 4,
    "start_time": "2022-11-18T07:39:56.242Z"
   },
   {
    "duration": 5969,
    "start_time": "2022-11-18T07:39:56.248Z"
   },
   {
    "duration": 3,
    "start_time": "2022-11-18T07:40:02.219Z"
   },
   {
    "duration": 22,
    "start_time": "2022-11-18T07:40:02.224Z"
   },
   {
    "duration": 46358,
    "start_time": "2022-11-18T07:40:02.248Z"
   },
   {
    "duration": 0,
    "start_time": "2022-11-18T07:40:48.608Z"
   },
   {
    "duration": 24,
    "start_time": "2022-11-18T07:45:10.621Z"
   },
   {
    "duration": 813,
    "start_time": "2022-11-18T07:45:10.646Z"
   },
   {
    "duration": 7,
    "start_time": "2022-11-18T07:45:11.460Z"
   },
   {
    "duration": 59,
    "start_time": "2022-11-18T07:45:11.469Z"
   },
   {
    "duration": 31,
    "start_time": "2022-11-18T07:45:11.530Z"
   },
   {
    "duration": 84576,
    "start_time": "2022-11-18T07:45:11.563Z"
   },
   {
    "duration": 12,
    "start_time": "2022-11-18T07:46:36.141Z"
   },
   {
    "duration": 133,
    "start_time": "2022-11-18T07:46:36.159Z"
   },
   {
    "duration": 40,
    "start_time": "2022-11-18T07:46:36.294Z"
   },
   {
    "duration": 6293,
    "start_time": "2022-11-18T07:46:36.337Z"
   },
   {
    "duration": 4,
    "start_time": "2022-11-18T07:46:42.632Z"
   },
   {
    "duration": 5,
    "start_time": "2022-11-18T07:46:42.638Z"
   },
   {
    "duration": 53581,
    "start_time": "2022-11-18T07:46:42.645Z"
   },
   {
    "duration": 3,
    "start_time": "2022-11-18T07:47:36.228Z"
   },
   {
    "duration": 24,
    "start_time": "2022-11-18T07:48:18.329Z"
   },
   {
    "duration": 833,
    "start_time": "2022-11-18T07:48:18.371Z"
   },
   {
    "duration": 6,
    "start_time": "2022-11-18T07:48:19.206Z"
   },
   {
    "duration": 17,
    "start_time": "2022-11-18T07:48:19.214Z"
   },
   {
    "duration": 15,
    "start_time": "2022-11-18T07:48:19.233Z"
   },
   {
    "duration": 83336,
    "start_time": "2022-11-18T07:48:19.250Z"
   },
   {
    "duration": 7,
    "start_time": "2022-11-18T07:49:42.588Z"
   },
   {
    "duration": 100,
    "start_time": "2022-11-18T07:49:42.605Z"
   },
   {
    "duration": 24,
    "start_time": "2022-11-18T07:49:42.708Z"
   },
   {
    "duration": 6027,
    "start_time": "2022-11-18T07:49:42.734Z"
   },
   {
    "duration": 4,
    "start_time": "2022-11-18T07:49:48.762Z"
   },
   {
    "duration": 11,
    "start_time": "2022-11-18T07:49:48.767Z"
   },
   {
    "duration": 51430,
    "start_time": "2022-11-18T07:49:48.780Z"
   },
   {
    "duration": 3,
    "start_time": "2022-11-18T07:50:40.212Z"
   },
   {
    "duration": 0,
    "start_time": "2022-11-18T08:00:00.827Z"
   },
   {
    "duration": 0,
    "start_time": "2022-11-18T08:00:00.829Z"
   },
   {
    "duration": 0,
    "start_time": "2022-11-18T08:00:00.830Z"
   },
   {
    "duration": 0,
    "start_time": "2022-11-18T08:00:00.832Z"
   },
   {
    "duration": 0,
    "start_time": "2022-11-18T08:00:00.833Z"
   },
   {
    "duration": 0,
    "start_time": "2022-11-18T08:00:00.835Z"
   },
   {
    "duration": 0,
    "start_time": "2022-11-18T08:00:00.836Z"
   },
   {
    "duration": 0,
    "start_time": "2022-11-18T08:00:00.838Z"
   },
   {
    "duration": 0,
    "start_time": "2022-11-18T08:00:00.839Z"
   },
   {
    "duration": 0,
    "start_time": "2022-11-18T08:00:00.840Z"
   },
   {
    "duration": 0,
    "start_time": "2022-11-18T08:00:00.841Z"
   },
   {
    "duration": 0,
    "start_time": "2022-11-18T08:00:00.842Z"
   },
   {
    "duration": 0,
    "start_time": "2022-11-18T08:00:00.843Z"
   },
   {
    "duration": 0,
    "start_time": "2022-11-18T08:00:00.904Z"
   },
   {
    "duration": 24,
    "start_time": "2022-11-18T08:09:03.488Z"
   },
   {
    "duration": 762,
    "start_time": "2022-11-18T08:09:03.513Z"
   },
   {
    "duration": 6,
    "start_time": "2022-11-18T08:09:04.277Z"
   },
   {
    "duration": 45,
    "start_time": "2022-11-18T08:09:04.286Z"
   },
   {
    "duration": 21,
    "start_time": "2022-11-18T08:09:04.333Z"
   },
   {
    "duration": 84255,
    "start_time": "2022-11-18T08:09:04.356Z"
   },
   {
    "duration": 8,
    "start_time": "2022-11-18T08:10:28.613Z"
   },
   {
    "duration": 95,
    "start_time": "2022-11-18T08:10:28.623Z"
   },
   {
    "duration": 23,
    "start_time": "2022-11-18T08:10:28.720Z"
   },
   {
    "duration": 5901,
    "start_time": "2022-11-18T08:10:28.746Z"
   },
   {
    "duration": 5,
    "start_time": "2022-11-18T08:10:34.648Z"
   },
   {
    "duration": 6,
    "start_time": "2022-11-18T08:10:34.654Z"
   },
   {
    "duration": 52050,
    "start_time": "2022-11-18T08:10:34.661Z"
   },
   {
    "duration": 0,
    "start_time": "2022-11-18T08:11:26.712Z"
   },
   {
    "duration": 24,
    "start_time": "2022-11-18T10:05:39.737Z"
   },
   {
    "duration": 823,
    "start_time": "2022-11-18T10:05:39.773Z"
   },
   {
    "duration": 12,
    "start_time": "2022-11-18T10:05:40.597Z"
   },
   {
    "duration": 19,
    "start_time": "2022-11-18T10:05:40.610Z"
   },
   {
    "duration": 18,
    "start_time": "2022-11-18T10:05:40.630Z"
   },
   {
    "duration": 85086,
    "start_time": "2022-11-18T10:05:40.650Z"
   },
   {
    "duration": 8,
    "start_time": "2022-11-18T10:07:05.738Z"
   },
   {
    "duration": 103,
    "start_time": "2022-11-18T10:07:05.747Z"
   },
   {
    "duration": 268,
    "start_time": "2022-11-18T10:07:05.852Z"
   },
   {
    "duration": 6109,
    "start_time": "2022-11-18T10:07:06.122Z"
   },
   {
    "duration": 4,
    "start_time": "2022-11-18T10:07:12.233Z"
   },
   {
    "duration": 21,
    "start_time": "2022-11-18T10:07:12.238Z"
   },
   {
    "duration": 47602,
    "start_time": "2022-11-18T10:07:12.261Z"
   },
   {
    "duration": 3,
    "start_time": "2022-11-18T10:07:59.865Z"
   },
   {
    "duration": 29,
    "start_time": "2022-11-18T10:13:07.518Z"
   },
   {
    "duration": 847,
    "start_time": "2022-11-18T10:13:07.550Z"
   },
   {
    "duration": 12,
    "start_time": "2022-11-18T10:13:08.398Z"
   },
   {
    "duration": 33,
    "start_time": "2022-11-18T10:13:08.413Z"
   },
   {
    "duration": 28,
    "start_time": "2022-11-18T10:13:08.448Z"
   },
   {
    "duration": 87000,
    "start_time": "2022-11-18T10:13:08.478Z"
   },
   {
    "duration": 8,
    "start_time": "2022-11-18T10:14:35.480Z"
   },
   {
    "duration": 114,
    "start_time": "2022-11-18T10:14:35.489Z"
   },
   {
    "duration": 23,
    "start_time": "2022-11-18T10:14:35.605Z"
   },
   {
    "duration": 6062,
    "start_time": "2022-11-18T10:14:35.631Z"
   },
   {
    "duration": 9,
    "start_time": "2022-11-18T10:14:41.695Z"
   },
   {
    "duration": 20,
    "start_time": "2022-11-18T10:14:41.706Z"
   },
   {
    "duration": 43940,
    "start_time": "2022-11-18T10:14:41.728Z"
   },
   {
    "duration": 54,
    "start_time": "2022-11-21T07:18:17.400Z"
   },
   {
    "duration": 1705,
    "start_time": "2022-11-21T07:18:24.045Z"
   },
   {
    "duration": 18,
    "start_time": "2022-11-21T07:18:25.752Z"
   },
   {
    "duration": 3743,
    "start_time": "2022-11-21T07:18:25.772Z"
   },
   {
    "duration": 15,
    "start_time": "2022-11-21T07:18:29.517Z"
   },
   {
    "duration": 14,
    "start_time": "2022-11-21T07:18:29.533Z"
   },
   {
    "duration": 42,
    "start_time": "2022-11-21T07:18:29.549Z"
   },
   {
    "duration": 23,
    "start_time": "2022-11-21T07:21:01.641Z"
   },
   {
    "duration": 931,
    "start_time": "2022-11-21T07:21:01.692Z"
   },
   {
    "duration": 8,
    "start_time": "2022-11-21T07:21:02.625Z"
   },
   {
    "duration": 21,
    "start_time": "2022-11-21T07:21:02.635Z"
   },
   {
    "duration": 33,
    "start_time": "2022-11-21T07:21:02.658Z"
   },
   {
    "duration": 101868,
    "start_time": "2022-11-21T07:21:02.693Z"
   },
   {
    "duration": 30,
    "start_time": "2022-11-21T07:22:44.563Z"
   },
   {
    "duration": 123,
    "start_time": "2022-11-21T07:22:44.595Z"
   },
   {
    "duration": 25,
    "start_time": "2022-11-21T07:22:44.720Z"
   },
   {
    "duration": 7048,
    "start_time": "2022-11-21T07:22:44.746Z"
   },
   {
    "duration": 4,
    "start_time": "2022-11-21T07:22:51.797Z"
   },
   {
    "duration": 4,
    "start_time": "2022-11-21T07:22:51.804Z"
   },
   {
    "duration": 48241,
    "start_time": "2022-11-21T07:22:51.810Z"
   },
   {
    "duration": 4,
    "start_time": "2022-11-21T07:23:40.053Z"
   },
   {
    "duration": 23,
    "start_time": "2022-11-21T07:26:06.009Z"
   },
   {
    "duration": 4,
    "start_time": "2022-11-21T07:26:06.036Z"
   },
   {
    "duration": 912,
    "start_time": "2022-11-21T07:26:06.042Z"
   },
   {
    "duration": 7,
    "start_time": "2022-11-21T07:26:06.956Z"
   },
   {
    "duration": 30,
    "start_time": "2022-11-21T07:26:06.965Z"
   },
   {
    "duration": 17,
    "start_time": "2022-11-21T07:26:06.997Z"
   },
   {
    "duration": 101767,
    "start_time": "2022-11-21T07:26:07.016Z"
   },
   {
    "duration": 13,
    "start_time": "2022-11-21T07:27:48.786Z"
   },
   {
    "duration": 109,
    "start_time": "2022-11-21T07:27:48.801Z"
   },
   {
    "duration": 26,
    "start_time": "2022-11-21T07:27:48.912Z"
   },
   {
    "duration": 7011,
    "start_time": "2022-11-21T07:27:48.940Z"
   },
   {
    "duration": 4,
    "start_time": "2022-11-21T07:27:55.953Z"
   },
   {
    "duration": 9,
    "start_time": "2022-11-21T07:27:55.959Z"
   },
   {
    "duration": 54138,
    "start_time": "2022-11-21T07:27:55.990Z"
   },
   {
    "duration": 27,
    "start_time": "2022-11-21T07:33:00.968Z"
   },
   {
    "duration": 4,
    "start_time": "2022-11-21T07:33:00.997Z"
   },
   {
    "duration": 889,
    "start_time": "2022-11-21T07:33:01.003Z"
   },
   {
    "duration": 10,
    "start_time": "2022-11-21T07:33:01.895Z"
   },
   {
    "duration": 15,
    "start_time": "2022-11-21T07:33:01.907Z"
   },
   {
    "duration": 22,
    "start_time": "2022-11-21T07:33:01.924Z"
   },
   {
    "duration": 95993,
    "start_time": "2022-11-21T07:33:01.949Z"
   },
   {
    "duration": 10,
    "start_time": "2022-11-21T07:34:37.944Z"
   },
   {
    "duration": 122,
    "start_time": "2022-11-21T07:34:37.956Z"
   },
   {
    "duration": 0,
    "start_time": "2022-11-21T07:34:38.081Z"
   },
   {
    "duration": 0,
    "start_time": "2022-11-21T07:34:38.082Z"
   },
   {
    "duration": 0,
    "start_time": "2022-11-21T07:34:38.084Z"
   },
   {
    "duration": 0,
    "start_time": "2022-11-21T07:34:38.085Z"
   },
   {
    "duration": 0,
    "start_time": "2022-11-21T07:34:38.086Z"
   },
   {
    "duration": 0,
    "start_time": "2022-11-21T07:34:38.087Z"
   },
   {
    "duration": 346,
    "start_time": "2022-11-21T07:40:41.661Z"
   },
   {
    "duration": 22,
    "start_time": "2022-11-21T07:40:53.509Z"
   },
   {
    "duration": 4,
    "start_time": "2022-11-21T07:40:53.533Z"
   },
   {
    "duration": 981,
    "start_time": "2022-11-21T07:40:53.539Z"
   },
   {
    "duration": 7,
    "start_time": "2022-11-21T07:40:54.522Z"
   },
   {
    "duration": 18,
    "start_time": "2022-11-21T07:40:54.530Z"
   },
   {
    "duration": 41,
    "start_time": "2022-11-21T07:40:54.550Z"
   },
   {
    "duration": 23,
    "start_time": "2022-11-21T07:54:25.343Z"
   },
   {
    "duration": 4,
    "start_time": "2022-11-21T07:54:25.368Z"
   },
   {
    "duration": 974,
    "start_time": "2022-11-21T07:54:25.373Z"
   },
   {
    "duration": 8,
    "start_time": "2022-11-21T07:54:26.350Z"
   },
   {
    "duration": 31,
    "start_time": "2022-11-21T07:54:26.360Z"
   },
   {
    "duration": 23,
    "start_time": "2022-11-21T07:54:26.393Z"
   },
   {
    "duration": 108763,
    "start_time": "2022-11-21T07:54:26.418Z"
   },
   {
    "duration": 9,
    "start_time": "2022-11-21T07:56:15.183Z"
   },
   {
    "duration": 346,
    "start_time": "2022-11-21T07:56:15.193Z"
   },
   {
    "duration": 0,
    "start_time": "2022-11-21T07:56:15.541Z"
   },
   {
    "duration": 0,
    "start_time": "2022-11-21T07:56:15.543Z"
   },
   {
    "duration": 0,
    "start_time": "2022-11-21T07:56:15.544Z"
   },
   {
    "duration": 0,
    "start_time": "2022-11-21T07:56:15.544Z"
   },
   {
    "duration": 0,
    "start_time": "2022-11-21T07:56:15.546Z"
   },
   {
    "duration": 0,
    "start_time": "2022-11-21T07:56:15.547Z"
   },
   {
    "duration": 0,
    "start_time": "2022-11-21T07:56:15.548Z"
   },
   {
    "duration": 23,
    "start_time": "2022-11-21T07:57:46.401Z"
   },
   {
    "duration": 4,
    "start_time": "2022-11-21T07:57:46.426Z"
   },
   {
    "duration": 920,
    "start_time": "2022-11-21T07:57:46.432Z"
   },
   {
    "duration": 8,
    "start_time": "2022-11-21T07:57:47.355Z"
   },
   {
    "duration": 28,
    "start_time": "2022-11-21T07:57:47.364Z"
   },
   {
    "duration": 17,
    "start_time": "2022-11-21T07:57:47.394Z"
   },
   {
    "duration": 99641,
    "start_time": "2022-11-21T07:57:47.412Z"
   },
   {
    "duration": 9,
    "start_time": "2022-11-21T07:59:27.055Z"
   },
   {
    "duration": 36655,
    "start_time": "2022-11-21T07:59:27.081Z"
   },
   {
    "duration": 139,
    "start_time": "2022-11-21T08:00:03.741Z"
   },
   {
    "duration": 28,
    "start_time": "2022-11-21T08:00:03.882Z"
   },
   {
    "duration": 6930,
    "start_time": "2022-11-21T08:00:03.913Z"
   },
   {
    "duration": 5,
    "start_time": "2022-11-21T08:00:10.845Z"
   },
   {
    "duration": 8,
    "start_time": "2022-11-21T08:00:10.852Z"
   },
   {
    "duration": 55301,
    "start_time": "2022-11-21T08:00:10.863Z"
   },
   {
    "duration": 299,
    "start_time": "2022-11-21T10:01:36.138Z"
   },
   {
    "duration": 5,
    "start_time": "2022-11-21T10:01:36.439Z"
   },
   {
    "duration": 895,
    "start_time": "2022-11-21T10:01:36.446Z"
   },
   {
    "duration": 10,
    "start_time": "2022-11-21T10:01:37.344Z"
   },
   {
    "duration": 29,
    "start_time": "2022-11-21T10:01:37.357Z"
   },
   {
    "duration": 30,
    "start_time": "2022-11-21T10:01:37.388Z"
   },
   {
    "duration": 121942,
    "start_time": "2022-11-21T10:01:37.420Z"
   },
   {
    "duration": 17,
    "start_time": "2022-11-21T10:03:39.364Z"
   },
   {
    "duration": 42946,
    "start_time": "2022-11-21T10:03:39.383Z"
   },
   {
    "duration": 155,
    "start_time": "2022-11-21T10:04:22.332Z"
   },
   {
    "duration": 35,
    "start_time": "2022-11-21T10:04:22.489Z"
   },
   {
    "duration": 25,
    "start_time": "2022-11-21T10:04:22.528Z"
   },
   {
    "duration": 0,
    "start_time": "2022-11-21T10:04:22.556Z"
   },
   {
    "duration": 0,
    "start_time": "2022-11-21T10:04:22.579Z"
   },
   {
    "duration": 0,
    "start_time": "2022-11-21T10:04:22.581Z"
   },
   {
    "duration": 27,
    "start_time": "2022-11-21T10:06:10.479Z"
   },
   {
    "duration": 6,
    "start_time": "2022-11-21T10:06:10.509Z"
   },
   {
    "duration": 943,
    "start_time": "2022-11-21T10:06:10.517Z"
   },
   {
    "duration": 16,
    "start_time": "2022-11-21T10:06:11.463Z"
   },
   {
    "duration": 25,
    "start_time": "2022-11-21T10:06:11.482Z"
   },
   {
    "duration": 26,
    "start_time": "2022-11-21T10:06:11.509Z"
   },
   {
    "duration": 127510,
    "start_time": "2022-11-21T10:06:11.537Z"
   },
   {
    "duration": 11,
    "start_time": "2022-11-21T10:08:19.050Z"
   },
   {
    "duration": 35,
    "start_time": "2022-11-21T10:08:19.063Z"
   },
   {
    "duration": 1773,
    "start_time": "2022-11-21T10:09:28.109Z"
   },
   {
    "duration": 1303,
    "start_time": "2022-11-21T10:09:29.884Z"
   },
   {
    "duration": 3788,
    "start_time": "2022-11-21T10:09:31.188Z"
   },
   {
    "duration": 19,
    "start_time": "2022-11-21T10:09:34.979Z"
   },
   {
    "duration": 24,
    "start_time": "2022-11-21T10:09:35.001Z"
   },
   {
    "duration": 51,
    "start_time": "2022-11-21T10:09:35.028Z"
   },
   {
    "duration": 124869,
    "start_time": "2022-11-21T10:09:35.081Z"
   },
   {
    "duration": 9,
    "start_time": "2022-11-21T10:11:39.952Z"
   },
   {
    "duration": 38267,
    "start_time": "2022-11-21T10:11:39.962Z"
   },
   {
    "duration": 111,
    "start_time": "2022-11-21T10:12:18.232Z"
   },
   {
    "duration": 14,
    "start_time": "2022-11-21T10:12:18.345Z"
   },
   {
    "duration": 202,
    "start_time": "2022-11-21T10:12:18.361Z"
   },
   {
    "duration": 0,
    "start_time": "2022-11-21T10:12:18.565Z"
   },
   {
    "duration": 0,
    "start_time": "2022-11-21T10:12:18.567Z"
   },
   {
    "duration": 0,
    "start_time": "2022-11-21T10:12:18.569Z"
   },
   {
    "duration": 26,
    "start_time": "2022-11-21T10:19:28.069Z"
   },
   {
    "duration": 3,
    "start_time": "2022-11-21T10:19:28.097Z"
   },
   {
    "duration": 907,
    "start_time": "2022-11-21T10:19:28.102Z"
   },
   {
    "duration": 7,
    "start_time": "2022-11-21T10:19:29.012Z"
   },
   {
    "duration": 26,
    "start_time": "2022-11-21T10:19:29.021Z"
   },
   {
    "duration": 33,
    "start_time": "2022-11-21T10:19:29.049Z"
   },
   {
    "duration": 100171,
    "start_time": "2022-11-21T10:19:29.084Z"
   },
   {
    "duration": 9,
    "start_time": "2022-11-21T10:21:09.257Z"
   },
   {
    "duration": 34691,
    "start_time": "2022-11-21T10:21:09.277Z"
   },
   {
    "duration": 17,
    "start_time": "2022-11-21T10:21:43.970Z"
   },
   {
    "duration": 0,
    "start_time": "2022-11-21T10:21:43.989Z"
   },
   {
    "duration": 0,
    "start_time": "2022-11-21T10:21:43.991Z"
   },
   {
    "duration": 0,
    "start_time": "2022-11-21T10:21:43.992Z"
   },
   {
    "duration": 0,
    "start_time": "2022-11-21T10:21:43.993Z"
   },
   {
    "duration": 0,
    "start_time": "2022-11-21T10:21:43.994Z"
   },
   {
    "duration": 0,
    "start_time": "2022-11-21T10:21:43.996Z"
   },
   {
    "duration": 25,
    "start_time": "2022-11-21T10:23:12.899Z"
   },
   {
    "duration": 4,
    "start_time": "2022-11-21T10:23:12.926Z"
   },
   {
    "duration": 909,
    "start_time": "2022-11-21T10:23:12.932Z"
   },
   {
    "duration": 8,
    "start_time": "2022-11-21T10:23:13.843Z"
   },
   {
    "duration": 26,
    "start_time": "2022-11-21T10:23:13.852Z"
   },
   {
    "duration": 18,
    "start_time": "2022-11-21T10:23:13.880Z"
   },
   {
    "duration": 94385,
    "start_time": "2022-11-21T10:23:13.900Z"
   },
   {
    "duration": 8,
    "start_time": "2022-11-21T10:24:48.288Z"
   },
   {
    "duration": 35834,
    "start_time": "2022-11-21T10:24:48.297Z"
   },
   {
    "duration": 31684,
    "start_time": "2022-11-21T10:25:24.135Z"
   },
   {
    "duration": 116,
    "start_time": "2022-11-21T10:25:55.821Z"
   },
   {
    "duration": 5,
    "start_time": "2022-11-21T10:25:55.939Z"
   },
   {
    "duration": 6074,
    "start_time": "2022-11-21T10:25:55.945Z"
   },
   {
    "duration": 4,
    "start_time": "2022-11-21T10:26:02.021Z"
   },
   {
    "duration": 6,
    "start_time": "2022-11-21T10:26:02.027Z"
   },
   {
    "duration": 54916,
    "start_time": "2022-11-21T10:26:02.035Z"
   },
   {
    "duration": 26,
    "start_time": "2022-11-21T10:28:27.673Z"
   },
   {
    "duration": 4,
    "start_time": "2022-11-21T10:28:27.701Z"
   },
   {
    "duration": 868,
    "start_time": "2022-11-21T10:28:27.706Z"
   },
   {
    "duration": 7,
    "start_time": "2022-11-21T10:28:28.577Z"
   },
   {
    "duration": 27,
    "start_time": "2022-11-21T10:28:28.586Z"
   },
   {
    "duration": 36,
    "start_time": "2022-11-21T10:28:28.615Z"
   },
   {
    "duration": 94530,
    "start_time": "2022-11-21T10:28:28.653Z"
   },
   {
    "duration": 9,
    "start_time": "2022-11-21T10:30:03.185Z"
   },
   {
    "duration": 31653,
    "start_time": "2022-11-21T10:30:03.195Z"
   },
   {
    "duration": 123,
    "start_time": "2022-11-21T10:30:34.850Z"
   },
   {
    "duration": 24,
    "start_time": "2022-11-21T10:30:34.978Z"
   },
   {
    "duration": 6181,
    "start_time": "2022-11-21T10:30:35.004Z"
   },
   {
    "duration": 4,
    "start_time": "2022-11-21T10:30:41.186Z"
   },
   {
    "duration": 27,
    "start_time": "2022-11-21T10:30:41.192Z"
   },
   {
    "duration": 55427,
    "start_time": "2022-11-21T10:30:41.221Z"
   },
   {
    "duration": 4,
    "start_time": "2022-11-21T10:47:11.129Z"
   },
   {
    "duration": 4,
    "start_time": "2022-11-21T10:47:14.071Z"
   },
   {
    "duration": 432,
    "start_time": "2022-11-21T10:49:54.709Z"
   },
   {
    "duration": 48,
    "start_time": "2022-11-21T10:50:22.925Z"
   },
   {
    "duration": 6,
    "start_time": "2022-11-21T10:50:23.207Z"
   },
   {
    "duration": 1046,
    "start_time": "2022-11-21T10:50:23.215Z"
   },
   {
    "duration": 9,
    "start_time": "2022-11-21T10:50:24.264Z"
   },
   {
    "duration": 71,
    "start_time": "2022-11-21T10:50:24.285Z"
   },
   {
    "duration": 34,
    "start_time": "2022-11-21T10:50:24.359Z"
   },
   {
    "duration": 8,
    "start_time": "2022-11-21T10:50:24.394Z"
   },
   {
    "duration": 5818,
    "start_time": "2022-11-21T10:50:24.404Z"
   },
   {
    "duration": 3,
    "start_time": "2022-11-21T10:50:30.224Z"
   },
   {
    "duration": 39183,
    "start_time": "2022-11-21T10:50:30.229Z"
   },
   {
    "duration": 60,
    "start_time": "2022-11-21T10:51:09.414Z"
   },
   {
    "duration": 38,
    "start_time": "2022-11-21T10:51:09.476Z"
   },
   {
    "duration": 6971,
    "start_time": "2022-11-21T10:51:09.518Z"
   },
   {
    "duration": 15,
    "start_time": "2022-11-21T10:51:16.498Z"
   },
   {
    "duration": 8,
    "start_time": "2022-11-21T10:51:16.517Z"
   },
   {
    "duration": 56032,
    "start_time": "2022-11-21T10:51:16.527Z"
   },
   {
    "duration": 6,
    "start_time": "2022-11-21T10:53:26.363Z"
   },
   {
    "duration": 5,
    "start_time": "2022-11-21T10:53:26.393Z"
   },
   {
    "duration": 942,
    "start_time": "2022-11-21T10:53:26.400Z"
   },
   {
    "duration": 7,
    "start_time": "2022-11-21T10:53:27.344Z"
   },
   {
    "duration": 36,
    "start_time": "2022-11-21T10:53:27.353Z"
   },
   {
    "duration": 30,
    "start_time": "2022-11-21T10:53:27.392Z"
   },
   {
    "duration": 3,
    "start_time": "2022-11-21T10:53:27.423Z"
   },
   {
    "duration": 5079,
    "start_time": "2022-11-21T10:53:27.428Z"
   },
   {
    "duration": 4,
    "start_time": "2022-11-21T10:53:32.509Z"
   },
   {
    "duration": 35553,
    "start_time": "2022-11-21T10:53:32.515Z"
   },
   {
    "duration": 86,
    "start_time": "2022-11-21T10:54:08.070Z"
   },
   {
    "duration": 38,
    "start_time": "2022-11-21T10:54:08.158Z"
   },
   {
    "duration": 7050,
    "start_time": "2022-11-21T10:54:08.198Z"
   },
   {
    "duration": 5,
    "start_time": "2022-11-21T10:54:15.250Z"
   },
   {
    "duration": 21,
    "start_time": "2022-11-21T10:54:15.258Z"
   },
   {
    "duration": 53058,
    "start_time": "2022-11-21T10:54:15.281Z"
   },
   {
    "duration": 7,
    "start_time": "2022-11-21T10:56:27.488Z"
   },
   {
    "duration": 10,
    "start_time": "2022-11-21T10:56:27.503Z"
   },
   {
    "duration": 932,
    "start_time": "2022-11-21T10:56:27.515Z"
   },
   {
    "duration": 7,
    "start_time": "2022-11-21T10:56:28.449Z"
   },
   {
    "duration": 39,
    "start_time": "2022-11-21T10:56:28.458Z"
   },
   {
    "duration": 15,
    "start_time": "2022-11-21T10:56:28.501Z"
   },
   {
    "duration": 5,
    "start_time": "2022-11-21T10:56:28.518Z"
   },
   {
    "duration": 4917,
    "start_time": "2022-11-21T10:56:28.525Z"
   },
   {
    "duration": 3,
    "start_time": "2022-11-21T10:56:33.444Z"
   },
   {
    "duration": 37499,
    "start_time": "2022-11-21T10:56:33.449Z"
   },
   {
    "duration": 77,
    "start_time": "2022-11-21T10:57:10.950Z"
   },
   {
    "duration": 26,
    "start_time": "2022-11-21T10:57:11.029Z"
   },
   {
    "duration": 6555,
    "start_time": "2022-11-21T10:57:11.057Z"
   },
   {
    "duration": 4,
    "start_time": "2022-11-21T10:57:17.614Z"
   },
   {
    "duration": 9,
    "start_time": "2022-11-21T10:57:17.621Z"
   },
   {
    "duration": 39238,
    "start_time": "2022-11-21T10:57:17.633Z"
   },
   {
    "duration": 246,
    "start_time": "2022-11-21T11:35:57.290Z"
   },
   {
    "duration": 4,
    "start_time": "2022-11-21T11:35:57.538Z"
   },
   {
    "duration": 883,
    "start_time": "2022-11-21T11:35:57.544Z"
   },
   {
    "duration": 7,
    "start_time": "2022-11-21T11:35:58.430Z"
   },
   {
    "duration": 19,
    "start_time": "2022-11-21T11:35:58.439Z"
   },
   {
    "duration": 36,
    "start_time": "2022-11-21T11:35:58.459Z"
   },
   {
    "duration": 4,
    "start_time": "2022-11-21T11:35:58.497Z"
   },
   {
    "duration": 4495,
    "start_time": "2022-11-21T11:35:58.502Z"
   },
   {
    "duration": 3,
    "start_time": "2022-11-21T11:36:02.999Z"
   },
   {
    "duration": 34064,
    "start_time": "2022-11-21T11:36:03.005Z"
   },
   {
    "duration": 71,
    "start_time": "2022-11-21T11:36:37.071Z"
   },
   {
    "duration": 15,
    "start_time": "2022-11-21T11:36:37.144Z"
   },
   {
    "duration": 6082,
    "start_time": "2022-11-21T11:36:37.161Z"
   },
   {
    "duration": 4,
    "start_time": "2022-11-21T11:36:43.245Z"
   },
   {
    "duration": 5,
    "start_time": "2022-11-21T11:36:43.251Z"
   },
   {
    "duration": 39591,
    "start_time": "2022-11-21T11:36:43.258Z"
   },
   {
    "duration": 590,
    "start_time": "2022-11-21T11:37:22.851Z"
   },
   {
    "duration": 5,
    "start_time": "2022-11-21T11:42:40.905Z"
   },
   {
    "duration": 9,
    "start_time": "2022-11-21T11:42:40.918Z"
   },
   {
    "duration": 926,
    "start_time": "2022-11-21T11:42:40.929Z"
   },
   {
    "duration": 7,
    "start_time": "2022-11-21T11:42:41.857Z"
   },
   {
    "duration": 21,
    "start_time": "2022-11-21T11:42:41.879Z"
   },
   {
    "duration": 16,
    "start_time": "2022-11-21T11:42:41.903Z"
   },
   {
    "duration": 3,
    "start_time": "2022-11-21T11:42:41.921Z"
   },
   {
    "duration": 4519,
    "start_time": "2022-11-21T11:42:41.926Z"
   },
   {
    "duration": 3,
    "start_time": "2022-11-21T11:42:46.447Z"
   },
   {
    "duration": 34220,
    "start_time": "2022-11-21T11:42:46.452Z"
   },
   {
    "duration": 69,
    "start_time": "2022-11-21T11:43:20.674Z"
   },
   {
    "duration": 15,
    "start_time": "2022-11-21T11:43:20.745Z"
   },
   {
    "duration": 6126,
    "start_time": "2022-11-21T11:43:20.762Z"
   },
   {
    "duration": 4,
    "start_time": "2022-11-21T11:43:26.891Z"
   },
   {
    "duration": 15,
    "start_time": "2022-11-21T11:43:26.896Z"
   },
   {
    "duration": 46114,
    "start_time": "2022-11-21T11:43:26.913Z"
   },
   {
    "duration": 579,
    "start_time": "2022-11-21T11:44:13.029Z"
   },
   {
    "duration": 5,
    "start_time": "2022-11-21T11:46:04.729Z"
   },
   {
    "duration": 5,
    "start_time": "2022-11-21T11:46:04.743Z"
   },
   {
    "duration": 878,
    "start_time": "2022-11-21T11:46:04.750Z"
   },
   {
    "duration": 8,
    "start_time": "2022-11-21T11:46:05.629Z"
   },
   {
    "duration": 26,
    "start_time": "2022-11-21T11:46:05.639Z"
   },
   {
    "duration": 24,
    "start_time": "2022-11-21T11:46:05.668Z"
   },
   {
    "duration": 3,
    "start_time": "2022-11-21T11:46:05.694Z"
   },
   {
    "duration": 4224,
    "start_time": "2022-11-21T11:46:05.699Z"
   },
   {
    "duration": 3,
    "start_time": "2022-11-21T11:46:09.925Z"
   },
   {
    "duration": 32572,
    "start_time": "2022-11-21T11:46:09.930Z"
   },
   {
    "duration": 64,
    "start_time": "2022-11-21T11:46:42.504Z"
   },
   {
    "duration": 16,
    "start_time": "2022-11-21T11:46:42.577Z"
   },
   {
    "duration": 5985,
    "start_time": "2022-11-21T11:46:42.595Z"
   },
   {
    "duration": 5,
    "start_time": "2022-11-21T11:46:48.583Z"
   },
   {
    "duration": 19,
    "start_time": "2022-11-21T11:46:48.590Z"
   },
   {
    "duration": 44907,
    "start_time": "2022-11-21T11:46:48.612Z"
   },
   {
    "duration": 3179,
    "start_time": "2022-11-21T11:47:33.521Z"
   },
   {
    "duration": 0,
    "start_time": "2022-11-21T11:47:36.702Z"
   },
   {
    "duration": 6,
    "start_time": "2022-11-21T11:51:41.570Z"
   },
   {
    "duration": 47,
    "start_time": "2022-11-21T11:51:41.589Z"
   },
   {
    "duration": 999,
    "start_time": "2022-11-21T11:51:41.638Z"
   },
   {
    "duration": 10,
    "start_time": "2022-11-21T11:51:42.640Z"
   },
   {
    "duration": 54,
    "start_time": "2022-11-21T11:51:42.653Z"
   },
   {
    "duration": 31,
    "start_time": "2022-11-21T11:51:42.710Z"
   },
   {
    "duration": 38,
    "start_time": "2022-11-21T11:51:42.742Z"
   },
   {
    "duration": 4788,
    "start_time": "2022-11-21T11:51:42.788Z"
   },
   {
    "duration": 4,
    "start_time": "2022-11-21T11:51:47.578Z"
   },
   {
    "duration": 35749,
    "start_time": "2022-11-21T11:51:47.583Z"
   },
   {
    "duration": 71,
    "start_time": "2022-11-21T11:52:23.333Z"
   },
   {
    "duration": 14,
    "start_time": "2022-11-21T11:52:23.406Z"
   },
   {
    "duration": 6327,
    "start_time": "2022-11-21T11:52:23.422Z"
   },
   {
    "duration": 4,
    "start_time": "2022-11-21T11:52:29.751Z"
   },
   {
    "duration": 10,
    "start_time": "2022-11-21T11:52:29.757Z"
   },
   {
    "duration": 51433,
    "start_time": "2022-11-21T11:52:29.768Z"
   },
   {
    "duration": 3557,
    "start_time": "2022-11-21T11:53:21.204Z"
   },
   {
    "duration": 0,
    "start_time": "2022-11-21T11:53:24.763Z"
   },
   {
    "duration": 5,
    "start_time": "2022-11-21T11:55:44.905Z"
   },
   {
    "duration": 3,
    "start_time": "2022-11-21T11:55:44.923Z"
   },
   {
    "duration": 1013,
    "start_time": "2022-11-21T11:55:44.929Z"
   },
   {
    "duration": 9,
    "start_time": "2022-11-21T11:55:45.944Z"
   },
   {
    "duration": 19,
    "start_time": "2022-11-21T11:55:45.955Z"
   },
   {
    "duration": 35,
    "start_time": "2022-11-21T11:55:45.977Z"
   },
   {
    "duration": 3,
    "start_time": "2022-11-21T11:55:46.014Z"
   },
   {
    "duration": 4639,
    "start_time": "2022-11-21T11:55:46.019Z"
   },
   {
    "duration": 3,
    "start_time": "2022-11-21T11:55:50.660Z"
   },
   {
    "duration": 1652,
    "start_time": "2022-11-21T11:58:24.805Z"
   },
   {
    "duration": 1343,
    "start_time": "2022-11-21T11:58:26.459Z"
   },
   {
    "duration": 3771,
    "start_time": "2022-11-21T11:58:27.803Z"
   },
   {
    "duration": 18,
    "start_time": "2022-11-21T11:58:31.576Z"
   },
   {
    "duration": 26,
    "start_time": "2022-11-21T11:58:31.597Z"
   },
   {
    "duration": 40,
    "start_time": "2022-11-21T11:58:31.625Z"
   },
   {
    "duration": 8,
    "start_time": "2022-11-21T11:58:31.667Z"
   },
   {
    "duration": 4734,
    "start_time": "2022-11-21T11:58:31.677Z"
   },
   {
    "duration": 3,
    "start_time": "2022-11-21T11:58:36.413Z"
   },
   {
    "duration": 35751,
    "start_time": "2022-11-21T11:58:36.417Z"
   },
   {
    "duration": 69,
    "start_time": "2022-11-21T11:59:12.170Z"
   },
   {
    "duration": 10,
    "start_time": "2022-11-21T11:59:12.241Z"
   },
   {
    "duration": 6365,
    "start_time": "2022-11-21T11:59:12.253Z"
   },
   {
    "duration": 4,
    "start_time": "2022-11-21T11:59:18.621Z"
   },
   {
    "duration": 8,
    "start_time": "2022-11-21T11:59:18.627Z"
   },
   {
    "duration": 31486,
    "start_time": "2022-11-21T11:59:18.636Z"
   },
   {
    "duration": 405,
    "start_time": "2022-11-21T11:59:50.124Z"
   },
   {
    "duration": 5,
    "start_time": "2022-11-21T12:00:33.443Z"
   },
   {
    "duration": 6,
    "start_time": "2022-11-21T12:00:33.450Z"
   },
   {
    "duration": 1046,
    "start_time": "2022-11-21T12:00:33.458Z"
   },
   {
    "duration": 8,
    "start_time": "2022-11-21T12:00:34.506Z"
   },
   {
    "duration": 19,
    "start_time": "2022-11-21T12:00:34.516Z"
   },
   {
    "duration": 20,
    "start_time": "2022-11-21T12:00:34.537Z"
   },
   {
    "duration": 26,
    "start_time": "2022-11-21T12:00:34.558Z"
   },
   {
    "duration": 4780,
    "start_time": "2022-11-21T12:00:34.586Z"
   },
   {
    "duration": 3,
    "start_time": "2022-11-21T12:00:39.367Z"
   },
   {
    "duration": 36578,
    "start_time": "2022-11-21T12:00:39.379Z"
   },
   {
    "duration": 84,
    "start_time": "2022-11-21T12:01:15.959Z"
   },
   {
    "duration": 21,
    "start_time": "2022-11-21T12:01:16.045Z"
   },
   {
    "duration": 6386,
    "start_time": "2022-11-21T12:01:16.080Z"
   },
   {
    "duration": 4,
    "start_time": "2022-11-21T12:01:22.468Z"
   },
   {
    "duration": 20,
    "start_time": "2022-11-21T12:01:22.478Z"
   },
   {
    "duration": 52626,
    "start_time": "2022-11-21T12:01:22.500Z"
   },
   {
    "duration": 495,
    "start_time": "2022-11-21T12:02:15.128Z"
   },
   {
    "duration": 938,
    "start_time": "2022-11-21T12:02:15.625Z"
   },
   {
    "duration": 6,
    "start_time": "2022-11-21T12:03:19.077Z"
   },
   {
    "duration": 29,
    "start_time": "2022-11-21T12:03:19.100Z"
   },
   {
    "duration": 915,
    "start_time": "2022-11-21T12:03:19.132Z"
   },
   {
    "duration": 8,
    "start_time": "2022-11-21T12:03:20.050Z"
   },
   {
    "duration": 47,
    "start_time": "2022-11-21T12:03:20.060Z"
   },
   {
    "duration": 58,
    "start_time": "2022-11-21T12:03:20.109Z"
   },
   {
    "duration": 21,
    "start_time": "2022-11-21T12:03:20.170Z"
   },
   {
    "duration": 4366,
    "start_time": "2022-11-21T12:03:20.193Z"
   },
   {
    "duration": 4,
    "start_time": "2022-11-21T12:03:24.561Z"
   },
   {
    "duration": 35249,
    "start_time": "2022-11-21T12:03:24.567Z"
   },
   {
    "duration": 70,
    "start_time": "2022-11-21T12:03:59.818Z"
   },
   {
    "duration": 17,
    "start_time": "2022-11-21T12:03:59.890Z"
   },
   {
    "duration": 6002,
    "start_time": "2022-11-21T12:03:59.910Z"
   },
   {
    "duration": 5,
    "start_time": "2022-11-21T12:04:05.914Z"
   },
   {
    "duration": 4,
    "start_time": "2022-11-21T12:04:05.922Z"
   },
   {
    "duration": 51897,
    "start_time": "2022-11-21T12:04:05.929Z"
   },
   {
    "duration": 415,
    "start_time": "2022-11-21T12:04:57.828Z"
   },
   {
    "duration": 4339,
    "start_time": "2022-11-21T12:04:58.246Z"
   },
   {
    "duration": 7,
    "start_time": "2022-11-21T12:07:07.759Z"
   },
   {
    "duration": 8,
    "start_time": "2022-11-21T12:07:07.774Z"
   },
   {
    "duration": 902,
    "start_time": "2022-11-21T12:07:07.785Z"
   },
   {
    "duration": 8,
    "start_time": "2022-11-21T12:07:08.689Z"
   },
   {
    "duration": 18,
    "start_time": "2022-11-21T12:07:08.698Z"
   },
   {
    "duration": 20,
    "start_time": "2022-11-21T12:07:08.719Z"
   },
   {
    "duration": 3,
    "start_time": "2022-11-21T12:07:08.741Z"
   },
   {
    "duration": 4453,
    "start_time": "2022-11-21T12:07:08.746Z"
   },
   {
    "duration": 3,
    "start_time": "2022-11-21T12:07:13.202Z"
   },
   {
    "duration": 33595,
    "start_time": "2022-11-21T12:07:13.207Z"
   },
   {
    "duration": 62,
    "start_time": "2022-11-21T12:07:46.804Z"
   },
   {
    "duration": 17,
    "start_time": "2022-11-21T12:07:46.878Z"
   },
   {
    "duration": 5718,
    "start_time": "2022-11-21T12:07:46.897Z"
   },
   {
    "duration": 4,
    "start_time": "2022-11-21T12:07:52.616Z"
   },
   {
    "duration": 4,
    "start_time": "2022-11-21T12:07:52.622Z"
   },
   {
    "duration": 51790,
    "start_time": "2022-11-21T12:07:52.628Z"
   },
   {
    "duration": 377,
    "start_time": "2022-11-21T12:08:44.420Z"
   },
   {
    "duration": 3970,
    "start_time": "2022-11-21T12:08:44.800Z"
   },
   {
    "duration": 6,
    "start_time": "2022-11-21T12:13:09.261Z"
   },
   {
    "duration": 5,
    "start_time": "2022-11-21T12:13:09.292Z"
   },
   {
    "duration": 934,
    "start_time": "2022-11-21T12:13:09.300Z"
   },
   {
    "duration": 8,
    "start_time": "2022-11-21T12:13:10.235Z"
   },
   {
    "duration": 18,
    "start_time": "2022-11-21T12:13:10.245Z"
   },
   {
    "duration": 47,
    "start_time": "2022-11-21T12:13:10.265Z"
   },
   {
    "duration": 4,
    "start_time": "2022-11-21T12:13:10.314Z"
   },
   {
    "duration": 4762,
    "start_time": "2022-11-21T12:13:10.321Z"
   },
   {
    "duration": 9,
    "start_time": "2022-11-21T12:13:15.085Z"
   },
   {
    "duration": 36784,
    "start_time": "2022-11-21T12:13:15.097Z"
   },
   {
    "duration": 66,
    "start_time": "2022-11-21T12:13:51.887Z"
   },
   {
    "duration": 30,
    "start_time": "2022-11-21T12:13:51.955Z"
   },
   {
    "duration": 6665,
    "start_time": "2022-11-21T12:13:51.987Z"
   },
   {
    "duration": 4,
    "start_time": "2022-11-21T12:13:58.654Z"
   },
   {
    "duration": 6,
    "start_time": "2022-11-21T12:13:58.660Z"
   },
   {
    "duration": 50872,
    "start_time": "2022-11-21T12:13:58.677Z"
   },
   {
    "duration": 411,
    "start_time": "2022-11-21T12:14:49.551Z"
   },
   {
    "duration": 4224,
    "start_time": "2022-11-21T12:14:49.964Z"
   },
   {
    "duration": 266,
    "start_time": "2022-11-21T12:17:00.465Z"
   },
   {
    "duration": 6,
    "start_time": "2022-11-21T12:17:27.688Z"
   },
   {
    "duration": 4,
    "start_time": "2022-11-21T12:17:27.719Z"
   },
   {
    "duration": 926,
    "start_time": "2022-11-21T12:17:27.726Z"
   },
   {
    "duration": 8,
    "start_time": "2022-11-21T12:17:28.655Z"
   },
   {
    "duration": 31,
    "start_time": "2022-11-21T12:17:28.664Z"
   },
   {
    "duration": 21,
    "start_time": "2022-11-21T12:17:28.697Z"
   },
   {
    "duration": 4,
    "start_time": "2022-11-21T12:17:28.720Z"
   },
   {
    "duration": 4290,
    "start_time": "2022-11-21T12:17:28.726Z"
   },
   {
    "duration": 4,
    "start_time": "2022-11-21T12:17:33.018Z"
   },
   {
    "duration": 32942,
    "start_time": "2022-11-21T12:17:33.024Z"
   },
   {
    "duration": 66,
    "start_time": "2022-11-21T12:18:05.967Z"
   },
   {
    "duration": 16,
    "start_time": "2022-11-21T12:18:06.035Z"
   },
   {
    "duration": 5699,
    "start_time": "2022-11-21T12:18:06.052Z"
   },
   {
    "duration": 4,
    "start_time": "2022-11-21T12:18:11.753Z"
   },
   {
    "duration": 12,
    "start_time": "2022-11-21T12:18:11.760Z"
   },
   {
    "duration": 53046,
    "start_time": "2022-11-21T12:18:11.774Z"
   },
   {
    "duration": 403,
    "start_time": "2022-11-21T12:19:04.822Z"
   },
   {
    "duration": 30427,
    "start_time": "2022-11-21T12:19:05.227Z"
   },
   {
    "duration": 5,
    "start_time": "2022-11-21T12:28:13.187Z"
   },
   {
    "duration": 882,
    "start_time": "2022-11-21T12:28:13.209Z"
   },
   {
    "duration": 9,
    "start_time": "2022-11-21T12:28:14.094Z"
   },
   {
    "duration": 29,
    "start_time": "2022-11-21T12:28:14.105Z"
   },
   {
    "duration": 44,
    "start_time": "2022-11-21T12:28:14.137Z"
   },
   {
    "duration": 4,
    "start_time": "2022-11-21T12:28:14.185Z"
   },
   {
    "duration": 4195,
    "start_time": "2022-11-21T12:28:14.191Z"
   },
   {
    "duration": 3,
    "start_time": "2022-11-21T12:28:18.388Z"
   },
   {
    "duration": 32178,
    "start_time": "2022-11-21T12:28:18.393Z"
   },
   {
    "duration": 65,
    "start_time": "2022-11-21T12:28:50.573Z"
   },
   {
    "duration": 17,
    "start_time": "2022-11-21T12:28:50.640Z"
   },
   {
    "duration": 5717,
    "start_time": "2022-11-21T12:28:50.659Z"
   },
   {
    "duration": 5,
    "start_time": "2022-11-21T12:28:56.377Z"
   },
   {
    "duration": 16,
    "start_time": "2022-11-21T12:28:56.384Z"
   },
   {
    "duration": 45991,
    "start_time": "2022-11-21T12:28:56.403Z"
   },
   {
    "duration": 30166,
    "start_time": "2022-11-21T12:29:42.396Z"
   },
   {
    "duration": 5,
    "start_time": "2022-11-21T12:31:08.481Z"
   },
   {
    "duration": 869,
    "start_time": "2022-11-21T12:31:08.532Z"
   },
   {
    "duration": 8,
    "start_time": "2022-11-21T12:31:09.403Z"
   },
   {
    "duration": 18,
    "start_time": "2022-11-21T12:31:09.413Z"
   },
   {
    "duration": 21,
    "start_time": "2022-11-21T12:31:09.433Z"
   },
   {
    "duration": 3,
    "start_time": "2022-11-21T12:31:09.457Z"
   },
   {
    "duration": 4206,
    "start_time": "2022-11-21T12:31:09.479Z"
   },
   {
    "duration": 4,
    "start_time": "2022-11-21T12:31:13.686Z"
   },
   {
    "duration": 32968,
    "start_time": "2022-11-21T12:31:13.692Z"
   },
   {
    "duration": 67,
    "start_time": "2022-11-21T12:31:46.662Z"
   },
   {
    "duration": 16,
    "start_time": "2022-11-21T12:31:46.731Z"
   },
   {
    "duration": 5566,
    "start_time": "2022-11-21T12:31:46.748Z"
   },
   {
    "duration": 4,
    "start_time": "2022-11-21T12:31:52.316Z"
   },
   {
    "duration": 14,
    "start_time": "2022-11-21T12:31:52.321Z"
   },
   {
    "duration": 50677,
    "start_time": "2022-11-21T12:31:52.338Z"
   },
   {
    "duration": 29769,
    "start_time": "2022-11-21T12:32:43.017Z"
   },
   {
    "duration": 62,
    "start_time": "2022-11-22T07:27:19.994Z"
   },
   {
    "duration": 1523,
    "start_time": "2022-11-22T07:27:38.703Z"
   },
   {
    "duration": 2392,
    "start_time": "2022-11-22T07:27:40.228Z"
   },
   {
    "duration": 16,
    "start_time": "2022-11-22T07:27:42.623Z"
   },
   {
    "duration": 21,
    "start_time": "2022-11-22T07:27:42.642Z"
   },
   {
    "duration": 45,
    "start_time": "2022-11-22T07:27:42.666Z"
   },
   {
    "duration": 4,
    "start_time": "2022-11-22T07:27:42.714Z"
   },
   {
    "duration": 4107,
    "start_time": "2022-11-22T07:27:42.719Z"
   },
   {
    "duration": 8,
    "start_time": "2022-11-22T07:27:46.829Z"
   },
   {
    "duration": 32351,
    "start_time": "2022-11-22T07:27:46.839Z"
   },
   {
    "duration": 65,
    "start_time": "2022-11-22T07:28:19.193Z"
   },
   {
    "duration": 7,
    "start_time": "2022-11-22T07:28:19.261Z"
   },
   {
    "duration": 5521,
    "start_time": "2022-11-22T07:28:19.271Z"
   },
   {
    "duration": 4,
    "start_time": "2022-11-22T07:28:24.794Z"
   },
   {
    "duration": 7,
    "start_time": "2022-11-22T07:28:24.799Z"
   },
   {
    "duration": 57092,
    "start_time": "2022-11-22T07:28:24.807Z"
   },
   {
    "duration": 29116,
    "start_time": "2022-11-22T07:29:21.936Z"
   },
   {
    "duration": 52320,
    "start_time": "2022-11-22T07:29:51.054Z"
   },
   {
    "duration": 6,
    "start_time": "2022-11-22T07:32:42.520Z"
   },
   {
    "duration": 862,
    "start_time": "2022-11-22T07:32:42.532Z"
   },
   {
    "duration": 7,
    "start_time": "2022-11-22T07:32:43.396Z"
   },
   {
    "duration": 23,
    "start_time": "2022-11-22T07:32:43.405Z"
   },
   {
    "duration": 22,
    "start_time": "2022-11-22T07:32:43.435Z"
   },
   {
    "duration": 15,
    "start_time": "2022-11-22T07:32:43.459Z"
   },
   {
    "duration": 4084,
    "start_time": "2022-11-22T07:32:43.475Z"
   },
   {
    "duration": 3,
    "start_time": "2022-11-22T07:32:47.560Z"
   },
   {
    "duration": 30963,
    "start_time": "2022-11-22T07:32:47.565Z"
   },
   {
    "duration": 61,
    "start_time": "2022-11-22T07:33:18.529Z"
   },
   {
    "duration": 15,
    "start_time": "2022-11-22T07:33:18.592Z"
   },
   {
    "duration": 5358,
    "start_time": "2022-11-22T07:33:18.609Z"
   },
   {
    "duration": 5,
    "start_time": "2022-11-22T07:33:23.968Z"
   },
   {
    "duration": 26,
    "start_time": "2022-11-22T07:33:23.974Z"
   },
   {
    "duration": 51664,
    "start_time": "2022-11-22T07:33:24.003Z"
   },
   {
    "duration": 28438,
    "start_time": "2022-11-22T07:34:15.669Z"
   },
   {
    "duration": 56894,
    "start_time": "2022-11-22T07:34:44.109Z"
   },
   {
    "duration": 35,
    "start_time": "2022-11-22T07:46:09.578Z"
   },
   {
    "duration": 35,
    "start_time": "2022-11-22T07:46:22.778Z"
   },
   {
    "duration": 39,
    "start_time": "2022-11-22T07:46:29.692Z"
   },
   {
    "duration": 34,
    "start_time": "2022-11-22T07:46:30.820Z"
   },
   {
    "duration": 5404,
    "start_time": "2022-11-22T07:47:51.936Z"
   },
   {
    "duration": 4,
    "start_time": "2022-11-22T07:47:57.342Z"
   },
   {
    "duration": 3,
    "start_time": "2022-11-22T07:48:55.915Z"
   },
   {
    "duration": 5,
    "start_time": "2022-11-22T07:49:05.479Z"
   },
   {
    "duration": 765,
    "start_time": "2022-11-22T07:49:05.494Z"
   },
   {
    "duration": 7,
    "start_time": "2022-11-22T07:49:06.261Z"
   },
   {
    "duration": 20,
    "start_time": "2022-11-22T07:49:06.269Z"
   },
   {
    "duration": 21,
    "start_time": "2022-11-22T07:49:06.291Z"
   },
   {
    "duration": 3,
    "start_time": "2022-11-22T07:49:06.314Z"
   },
   {
    "duration": 4145,
    "start_time": "2022-11-22T07:49:06.319Z"
   },
   {
    "duration": 3,
    "start_time": "2022-11-22T07:49:10.465Z"
   },
   {
    "duration": 30985,
    "start_time": "2022-11-22T07:49:10.470Z"
   },
   {
    "duration": 60,
    "start_time": "2022-11-22T07:49:41.457Z"
   },
   {
    "duration": 49,
    "start_time": "2022-11-22T07:49:41.518Z"
   },
   {
    "duration": 9,
    "start_time": "2022-11-22T07:49:41.569Z"
   },
   {
    "duration": 5830,
    "start_time": "2022-11-22T07:49:41.580Z"
   },
   {
    "duration": 4,
    "start_time": "2022-11-22T07:49:47.412Z"
   },
   {
    "duration": 17,
    "start_time": "2022-11-22T07:49:47.418Z"
   },
   {
    "duration": 33118,
    "start_time": "2022-11-22T07:49:47.437Z"
   },
   {
    "duration": 20567,
    "start_time": "2022-11-22T07:50:20.557Z"
   },
   {
    "duration": 33611,
    "start_time": "2022-11-22T07:50:41.126Z"
   },
   {
    "duration": 5,
    "start_time": "2022-11-22T07:53:02.079Z"
   },
   {
    "duration": 852,
    "start_time": "2022-11-22T07:53:02.086Z"
   },
   {
    "duration": 7,
    "start_time": "2022-11-22T07:53:02.939Z"
   },
   {
    "duration": 37,
    "start_time": "2022-11-22T07:53:02.948Z"
   },
   {
    "duration": 27,
    "start_time": "2022-11-22T07:53:02.987Z"
   },
   {
    "duration": 2,
    "start_time": "2022-11-22T07:53:03.016Z"
   },
   {
    "duration": 4035,
    "start_time": "2022-11-22T07:53:03.020Z"
   },
   {
    "duration": 3,
    "start_time": "2022-11-22T07:53:07.057Z"
   },
   {
    "duration": 30611,
    "start_time": "2022-11-22T07:53:07.061Z"
   },
   {
    "duration": 66,
    "start_time": "2022-11-22T07:53:37.674Z"
   },
   {
    "duration": 34,
    "start_time": "2022-11-22T07:53:37.742Z"
   },
   {
    "duration": 9,
    "start_time": "2022-11-22T07:53:37.778Z"
   },
   {
    "duration": 5530,
    "start_time": "2022-11-22T07:53:37.788Z"
   },
   {
    "duration": 4,
    "start_time": "2022-11-22T07:53:43.319Z"
   },
   {
    "duration": 5,
    "start_time": "2022-11-22T07:53:43.335Z"
   },
   {
    "duration": 43312,
    "start_time": "2022-11-22T07:53:43.342Z"
   },
   {
    "duration": 152,
    "start_time": "2022-11-22T07:54:26.656Z"
   },
   {
    "duration": 0,
    "start_time": "2022-11-22T07:54:26.809Z"
   },
   {
    "duration": 4,
    "start_time": "2022-11-22T07:56:51.547Z"
   },
   {
    "duration": 838,
    "start_time": "2022-11-22T07:56:51.575Z"
   },
   {
    "duration": 9,
    "start_time": "2022-11-22T07:56:52.415Z"
   },
   {
    "duration": 27,
    "start_time": "2022-11-22T07:56:52.427Z"
   },
   {
    "duration": 61,
    "start_time": "2022-11-22T07:56:52.458Z"
   },
   {
    "duration": 6,
    "start_time": "2022-11-22T07:56:52.522Z"
   },
   {
    "duration": 4169,
    "start_time": "2022-11-22T07:56:52.530Z"
   },
   {
    "duration": 3,
    "start_time": "2022-11-22T07:56:56.701Z"
   },
   {
    "duration": 30931,
    "start_time": "2022-11-22T07:56:56.707Z"
   },
   {
    "duration": 62,
    "start_time": "2022-11-22T07:57:27.640Z"
   },
   {
    "duration": 52,
    "start_time": "2022-11-22T07:57:27.704Z"
   },
   {
    "duration": 9,
    "start_time": "2022-11-22T07:57:27.757Z"
   },
   {
    "duration": 5437,
    "start_time": "2022-11-22T07:57:27.769Z"
   },
   {
    "duration": 4,
    "start_time": "2022-11-22T07:57:33.208Z"
   },
   {
    "duration": 9,
    "start_time": "2022-11-22T07:57:33.216Z"
   },
   {
    "duration": 39449,
    "start_time": "2022-11-22T07:57:33.226Z"
   },
   {
    "duration": 157,
    "start_time": "2022-11-22T07:58:12.677Z"
   },
   {
    "duration": 0,
    "start_time": "2022-11-22T07:58:12.836Z"
   },
   {
    "duration": 5,
    "start_time": "2022-11-22T07:58:46.637Z"
   },
   {
    "duration": 878,
    "start_time": "2022-11-22T07:58:46.653Z"
   },
   {
    "duration": 10,
    "start_time": "2022-11-22T07:58:47.536Z"
   },
   {
    "duration": 33,
    "start_time": "2022-11-22T07:58:47.548Z"
   },
   {
    "duration": 21,
    "start_time": "2022-11-22T07:58:47.583Z"
   },
   {
    "duration": 3,
    "start_time": "2022-11-22T07:58:47.607Z"
   },
   {
    "duration": 4216,
    "start_time": "2022-11-22T07:58:47.612Z"
   },
   {
    "duration": 6,
    "start_time": "2022-11-22T07:58:51.830Z"
   },
   {
    "duration": 30713,
    "start_time": "2022-11-22T07:58:51.838Z"
   },
   {
    "duration": 95,
    "start_time": "2022-11-22T07:59:22.553Z"
   },
   {
    "duration": 44,
    "start_time": "2022-11-22T07:59:22.650Z"
   },
   {
    "duration": 9,
    "start_time": "2022-11-22T07:59:22.696Z"
   },
   {
    "duration": 5595,
    "start_time": "2022-11-22T07:59:22.706Z"
   },
   {
    "duration": 4,
    "start_time": "2022-11-22T07:59:28.303Z"
   },
   {
    "duration": 9,
    "start_time": "2022-11-22T07:59:28.309Z"
   },
   {
    "duration": 47947,
    "start_time": "2022-11-22T07:59:28.319Z"
   },
   {
    "duration": 21983,
    "start_time": "2022-11-22T08:00:16.268Z"
   },
   {
    "duration": 47883,
    "start_time": "2022-11-22T08:00:38.253Z"
   },
   {
    "duration": 5,
    "start_time": "2022-11-22T08:03:29.968Z"
   },
   {
    "duration": 796,
    "start_time": "2022-11-22T08:03:29.989Z"
   },
   {
    "duration": 8,
    "start_time": "2022-11-22T08:03:30.788Z"
   },
   {
    "duration": 112,
    "start_time": "2022-11-22T08:03:30.798Z"
   },
   {
    "duration": 108,
    "start_time": "2022-11-22T08:03:30.912Z"
   },
   {
    "duration": 43,
    "start_time": "2022-11-22T08:03:31.023Z"
   },
   {
    "duration": 4154,
    "start_time": "2022-11-22T08:03:31.068Z"
   },
   {
    "duration": 12,
    "start_time": "2022-11-22T08:03:35.224Z"
   },
   {
    "duration": 30186,
    "start_time": "2022-11-22T08:03:35.237Z"
   },
   {
    "duration": 63,
    "start_time": "2022-11-22T08:04:05.424Z"
   },
   {
    "duration": 47,
    "start_time": "2022-11-22T08:04:05.489Z"
   },
   {
    "duration": 9,
    "start_time": "2022-11-22T08:04:05.538Z"
   },
   {
    "duration": 3903,
    "start_time": "2022-11-22T08:04:05.549Z"
   },
   {
    "duration": 4,
    "start_time": "2022-11-22T08:04:09.454Z"
   },
   {
    "duration": 21,
    "start_time": "2022-11-22T08:04:09.460Z"
   },
   {
    "duration": 35078,
    "start_time": "2022-11-22T08:04:09.482Z"
   },
   {
    "duration": 125,
    "start_time": "2022-11-22T08:04:44.562Z"
   },
   {
    "duration": 0,
    "start_time": "2022-11-22T08:04:44.688Z"
   },
   {
    "duration": 7,
    "start_time": "2022-11-22T08:06:55.905Z"
   },
   {
    "duration": 832,
    "start_time": "2022-11-22T08:06:55.919Z"
   },
   {
    "duration": 8,
    "start_time": "2022-11-22T08:06:56.753Z"
   },
   {
    "duration": 30,
    "start_time": "2022-11-22T08:06:56.762Z"
   },
   {
    "duration": 19,
    "start_time": "2022-11-22T08:06:56.794Z"
   },
   {
    "duration": 2,
    "start_time": "2022-11-22T08:06:56.815Z"
   },
   {
    "duration": 4013,
    "start_time": "2022-11-22T08:06:56.835Z"
   },
   {
    "duration": 4,
    "start_time": "2022-11-22T08:07:00.851Z"
   },
   {
    "duration": 30365,
    "start_time": "2022-11-22T08:07:00.857Z"
   },
   {
    "duration": 70,
    "start_time": "2022-11-22T08:07:31.225Z"
   },
   {
    "duration": 50,
    "start_time": "2022-11-22T08:07:31.296Z"
   },
   {
    "duration": 23,
    "start_time": "2022-11-22T08:07:31.347Z"
   },
   {
    "duration": 4192,
    "start_time": "2022-11-22T08:07:31.373Z"
   },
   {
    "duration": 3,
    "start_time": "2022-11-22T08:07:35.567Z"
   },
   {
    "duration": 9,
    "start_time": "2022-11-22T08:07:35.573Z"
   },
   {
    "duration": 40574,
    "start_time": "2022-11-22T08:07:35.583Z"
   },
   {
    "duration": 20929,
    "start_time": "2022-11-22T08:08:16.159Z"
   },
   {
    "duration": 40848,
    "start_time": "2022-11-22T08:08:37.090Z"
   },
   {
    "duration": 59,
    "start_time": "2022-11-22T08:12:36.813Z"
   },
   {
    "duration": 42410,
    "start_time": "2022-11-22T08:13:45.331Z"
   },
   {
    "duration": 0,
    "start_time": "2022-11-22T08:14:27.743Z"
   },
   {
    "duration": 5409,
    "start_time": "2022-11-22T08:14:43.656Z"
   },
   {
    "duration": 7,
    "start_time": "2022-11-22T08:14:51.284Z"
   },
   {
    "duration": 835,
    "start_time": "2022-11-22T08:14:51.293Z"
   },
   {
    "duration": 10,
    "start_time": "2022-11-22T08:14:52.130Z"
   },
   {
    "duration": 33,
    "start_time": "2022-11-22T08:14:52.142Z"
   },
   {
    "duration": 27,
    "start_time": "2022-11-22T08:14:52.176Z"
   },
   {
    "duration": 16,
    "start_time": "2022-11-22T08:14:52.205Z"
   },
   {
    "duration": 4135,
    "start_time": "2022-11-22T08:14:52.222Z"
   },
   {
    "duration": 3,
    "start_time": "2022-11-22T08:14:56.359Z"
   },
   {
    "duration": 29566,
    "start_time": "2022-11-22T08:14:56.365Z"
   },
   {
    "duration": 56,
    "start_time": "2022-11-22T08:15:25.934Z"
   },
   {
    "duration": 57,
    "start_time": "2022-11-22T08:15:25.991Z"
   },
   {
    "duration": 9,
    "start_time": "2022-11-22T08:15:26.050Z"
   },
   {
    "duration": 5523,
    "start_time": "2022-11-22T08:15:26.061Z"
   },
   {
    "duration": 4,
    "start_time": "2022-11-22T08:15:31.586Z"
   },
   {
    "duration": 19,
    "start_time": "2022-11-22T08:15:31.591Z"
   },
   {
    "duration": 42144,
    "start_time": "2022-11-22T08:15:31.612Z"
   },
   {
    "duration": 20972,
    "start_time": "2022-11-22T08:16:13.758Z"
   },
   {
    "duration": 41206,
    "start_time": "2022-11-22T08:16:34.734Z"
   },
   {
    "duration": 5,
    "start_time": "2022-11-22T08:18:23.605Z"
   },
   {
    "duration": 779,
    "start_time": "2022-11-22T08:18:23.621Z"
   },
   {
    "duration": 7,
    "start_time": "2022-11-22T08:18:24.402Z"
   },
   {
    "duration": 32,
    "start_time": "2022-11-22T08:18:24.411Z"
   },
   {
    "duration": 24,
    "start_time": "2022-11-22T08:18:24.445Z"
   },
   {
    "duration": 2,
    "start_time": "2022-11-22T08:18:24.471Z"
   },
   {
    "duration": 3955,
    "start_time": "2022-11-22T08:18:24.475Z"
   },
   {
    "duration": 4,
    "start_time": "2022-11-22T08:18:28.432Z"
   },
   {
    "duration": 30127,
    "start_time": "2022-11-22T08:18:28.437Z"
   },
   {
    "duration": 70,
    "start_time": "2022-11-22T08:18:58.566Z"
   },
   {
    "duration": 37,
    "start_time": "2022-11-22T08:18:58.638Z"
   },
   {
    "duration": 8,
    "start_time": "2022-11-22T08:18:58.677Z"
   },
   {
    "duration": 4216,
    "start_time": "2022-11-22T08:18:58.687Z"
   },
   {
    "duration": 5,
    "start_time": "2022-11-22T08:19:02.908Z"
   },
   {
    "duration": 19,
    "start_time": "2022-11-22T08:19:02.916Z"
   },
   {
    "duration": 46747,
    "start_time": "2022-11-22T08:19:02.936Z"
   },
   {
    "duration": 21042,
    "start_time": "2022-11-22T08:19:49.685Z"
   },
   {
    "duration": 46407,
    "start_time": "2022-11-22T08:20:10.729Z"
   },
   {
    "duration": 6,
    "start_time": "2022-11-22T08:22:05.773Z"
   },
   {
    "duration": 784,
    "start_time": "2022-11-22T08:22:05.792Z"
   },
   {
    "duration": 6,
    "start_time": "2022-11-22T08:22:06.578Z"
   },
   {
    "duration": 37,
    "start_time": "2022-11-22T08:22:06.585Z"
   },
   {
    "duration": 32,
    "start_time": "2022-11-22T08:22:06.623Z"
   },
   {
    "duration": 5,
    "start_time": "2022-11-22T08:22:06.658Z"
   },
   {
    "duration": 3817,
    "start_time": "2022-11-22T08:22:06.665Z"
   },
   {
    "duration": 3,
    "start_time": "2022-11-22T08:22:10.484Z"
   },
   {
    "duration": 30222,
    "start_time": "2022-11-22T08:22:10.488Z"
   },
   {
    "duration": 68,
    "start_time": "2022-11-22T08:22:40.712Z"
   },
   {
    "duration": 35,
    "start_time": "2022-11-22T08:22:40.782Z"
   },
   {
    "duration": 27,
    "start_time": "2022-11-22T08:22:40.819Z"
   },
   {
    "duration": 5520,
    "start_time": "2022-11-22T08:22:40.848Z"
   },
   {
    "duration": 4,
    "start_time": "2022-11-22T08:22:46.370Z"
   },
   {
    "duration": 12,
    "start_time": "2022-11-22T08:22:46.377Z"
   },
   {
    "duration": 26,
    "start_time": "2022-11-22T08:22:46.391Z"
   },
   {
    "duration": 0,
    "start_time": "2022-11-22T08:22:46.419Z"
   },
   {
    "duration": 0,
    "start_time": "2022-11-22T08:22:46.420Z"
   },
   {
    "duration": 5,
    "start_time": "2022-11-22T08:27:09.627Z"
   },
   {
    "duration": 727,
    "start_time": "2022-11-22T08:27:09.646Z"
   },
   {
    "duration": 6,
    "start_time": "2022-11-22T08:27:10.375Z"
   },
   {
    "duration": 15,
    "start_time": "2022-11-22T08:27:10.383Z"
   },
   {
    "duration": 19,
    "start_time": "2022-11-22T08:27:10.399Z"
   },
   {
    "duration": 4,
    "start_time": "2022-11-22T08:27:10.434Z"
   },
   {
    "duration": 3872,
    "start_time": "2022-11-22T08:27:10.439Z"
   },
   {
    "duration": 3,
    "start_time": "2022-11-22T08:27:14.312Z"
   },
   {
    "duration": 29653,
    "start_time": "2022-11-22T08:27:14.316Z"
   },
   {
    "duration": 79,
    "start_time": "2022-11-22T08:27:43.971Z"
   },
   {
    "duration": 34,
    "start_time": "2022-11-22T08:27:44.051Z"
   },
   {
    "duration": 168,
    "start_time": "2022-11-22T08:27:44.087Z"
   },
   {
    "duration": 5529,
    "start_time": "2022-11-22T08:27:44.256Z"
   },
   {
    "duration": 4,
    "start_time": "2022-11-22T08:27:49.787Z"
   },
   {
    "duration": 22,
    "start_time": "2022-11-22T08:27:49.795Z"
   },
   {
    "duration": 42046,
    "start_time": "2022-11-22T08:27:49.819Z"
   },
   {
    "duration": 186,
    "start_time": "2022-11-22T08:28:31.867Z"
   },
   {
    "duration": 0,
    "start_time": "2022-11-22T08:28:32.055Z"
   },
   {
    "duration": 27,
    "start_time": "2022-11-22T08:29:49.227Z"
   },
   {
    "duration": 792,
    "start_time": "2022-11-22T08:29:49.257Z"
   },
   {
    "duration": 7,
    "start_time": "2022-11-22T08:29:50.051Z"
   },
   {
    "duration": 25,
    "start_time": "2022-11-22T08:29:50.061Z"
   },
   {
    "duration": 15,
    "start_time": "2022-11-22T08:29:50.088Z"
   },
   {
    "duration": 3,
    "start_time": "2022-11-22T08:29:50.105Z"
   },
   {
    "duration": 4011,
    "start_time": "2022-11-22T08:29:50.109Z"
   },
   {
    "duration": 3,
    "start_time": "2022-11-22T08:29:54.122Z"
   },
   {
    "duration": 30478,
    "start_time": "2022-11-22T08:29:54.127Z"
   },
   {
    "duration": 67,
    "start_time": "2022-11-22T08:30:24.608Z"
   },
   {
    "duration": 42,
    "start_time": "2022-11-22T08:30:24.677Z"
   },
   {
    "duration": 21,
    "start_time": "2022-11-22T08:30:24.721Z"
   },
   {
    "duration": 5785,
    "start_time": "2022-11-22T08:30:24.743Z"
   },
   {
    "duration": 6,
    "start_time": "2022-11-22T08:30:30.530Z"
   },
   {
    "duration": 47,
    "start_time": "2022-11-22T08:30:30.537Z"
   },
   {
    "duration": 43167,
    "start_time": "2022-11-22T08:30:30.586Z"
   },
   {
    "duration": 20950,
    "start_time": "2022-11-22T08:31:13.755Z"
   },
   {
    "duration": 41235,
    "start_time": "2022-11-22T08:31:34.707Z"
   },
   {
    "duration": 47,
    "start_time": "2022-11-23T14:38:26.544Z"
   },
   {
    "duration": 1636,
    "start_time": "2022-11-23T14:38:39.081Z"
   },
   {
    "duration": 3258,
    "start_time": "2022-11-23T14:38:40.719Z"
   },
   {
    "duration": 14,
    "start_time": "2022-11-23T14:38:43.983Z"
   },
   {
    "duration": 15,
    "start_time": "2022-11-23T14:38:43.999Z"
   },
   {
    "duration": 28,
    "start_time": "2022-11-23T14:38:44.015Z"
   },
   {
    "duration": 3,
    "start_time": "2022-11-23T14:38:44.045Z"
   },
   {
    "duration": 3859,
    "start_time": "2022-11-23T14:38:44.050Z"
   },
   {
    "duration": 3,
    "start_time": "2022-11-23T14:38:47.911Z"
   },
   {
    "duration": 29735,
    "start_time": "2022-11-23T14:38:47.916Z"
   },
   {
    "duration": 59,
    "start_time": "2022-11-23T14:39:17.653Z"
   },
   {
    "duration": 32,
    "start_time": "2022-11-23T14:39:17.714Z"
   },
   {
    "duration": 11,
    "start_time": "2022-11-23T14:39:17.747Z"
   },
   {
    "duration": 5108,
    "start_time": "2022-11-23T14:39:17.759Z"
   },
   {
    "duration": 4,
    "start_time": "2022-11-23T14:39:22.868Z"
   },
   {
    "duration": 14,
    "start_time": "2022-11-23T14:39:22.873Z"
   },
   {
    "duration": 39946,
    "start_time": "2022-11-23T14:39:22.888Z"
   },
   {
    "duration": 21243,
    "start_time": "2022-11-23T14:40:02.836Z"
   },
   {
    "duration": 39040,
    "start_time": "2022-11-23T14:40:24.081Z"
   },
   {
    "duration": 4,
    "start_time": "2022-11-23T14:42:39.722Z"
   },
   {
    "duration": 798,
    "start_time": "2022-11-23T14:42:39.741Z"
   },
   {
    "duration": 7,
    "start_time": "2022-11-23T14:42:40.541Z"
   },
   {
    "duration": 16,
    "start_time": "2022-11-23T14:42:40.549Z"
   },
   {
    "duration": 19,
    "start_time": "2022-11-23T14:42:40.567Z"
   },
   {
    "duration": 2,
    "start_time": "2022-11-23T14:42:40.604Z"
   },
   {
    "duration": 3851,
    "start_time": "2022-11-23T14:42:40.608Z"
   },
   {
    "duration": 3,
    "start_time": "2022-11-23T14:42:44.461Z"
   },
   {
    "duration": 29698,
    "start_time": "2022-11-23T14:42:44.465Z"
   },
   {
    "duration": 67,
    "start_time": "2022-11-23T14:43:14.165Z"
   },
   {
    "duration": 33,
    "start_time": "2022-11-23T14:43:14.234Z"
   },
   {
    "duration": 14,
    "start_time": "2022-11-23T14:43:14.268Z"
   },
   {
    "duration": 5175,
    "start_time": "2022-11-23T14:43:14.284Z"
   },
   {
    "duration": 4,
    "start_time": "2022-11-23T14:43:19.460Z"
   },
   {
    "duration": 14,
    "start_time": "2022-11-23T14:43:19.466Z"
   },
   {
    "duration": 37052,
    "start_time": "2022-11-23T14:43:19.482Z"
   },
   {
    "duration": 15340,
    "start_time": "2022-11-23T14:43:56.536Z"
   },
   {
    "duration": 38232,
    "start_time": "2022-11-23T14:44:11.878Z"
   },
   {
    "duration": 5,
    "start_time": "2022-11-23T14:49:15.953Z"
   },
   {
    "duration": 778,
    "start_time": "2022-11-23T14:49:15.965Z"
   },
   {
    "duration": 6,
    "start_time": "2022-11-23T14:49:16.745Z"
   },
   {
    "duration": 16,
    "start_time": "2022-11-23T14:49:16.753Z"
   },
   {
    "duration": 38,
    "start_time": "2022-11-23T14:49:16.770Z"
   },
   {
    "duration": 16,
    "start_time": "2022-11-23T14:49:16.810Z"
   },
   {
    "duration": 3969,
    "start_time": "2022-11-23T14:49:16.827Z"
   },
   {
    "duration": 7,
    "start_time": "2022-11-23T14:49:20.798Z"
   },
   {
    "duration": 29398,
    "start_time": "2022-11-23T14:49:20.807Z"
   },
   {
    "duration": 54,
    "start_time": "2022-11-23T14:49:50.206Z"
   },
   {
    "duration": 45,
    "start_time": "2022-11-23T14:49:50.262Z"
   },
   {
    "duration": 13,
    "start_time": "2022-11-23T14:49:50.308Z"
   },
   {
    "duration": 4982,
    "start_time": "2022-11-23T14:49:50.323Z"
   },
   {
    "duration": 4,
    "start_time": "2022-11-23T14:49:55.307Z"
   },
   {
    "duration": 9,
    "start_time": "2022-11-23T14:49:55.314Z"
   },
   {
    "duration": 38301,
    "start_time": "2022-11-23T14:49:55.324Z"
   },
   {
    "duration": 14550,
    "start_time": "2022-11-23T14:50:33.627Z"
   },
   {
    "duration": 39435,
    "start_time": "2022-11-23T14:50:48.180Z"
   },
   {
    "duration": 5,
    "start_time": "2022-11-23T14:53:56.307Z"
   },
   {
    "duration": 794,
    "start_time": "2022-11-23T14:53:56.322Z"
   },
   {
    "duration": 7,
    "start_time": "2022-11-23T14:53:57.118Z"
   },
   {
    "duration": 18,
    "start_time": "2022-11-23T14:53:57.126Z"
   },
   {
    "duration": 17,
    "start_time": "2022-11-23T14:53:57.145Z"
   },
   {
    "duration": 3,
    "start_time": "2022-11-23T14:53:57.165Z"
   },
   {
    "duration": 3959,
    "start_time": "2022-11-23T14:53:57.169Z"
   },
   {
    "duration": 3,
    "start_time": "2022-11-23T14:54:01.130Z"
   },
   {
    "duration": 29224,
    "start_time": "2022-11-23T14:54:01.134Z"
   },
   {
    "duration": 65,
    "start_time": "2022-11-23T14:54:30.360Z"
   },
   {
    "duration": 32,
    "start_time": "2022-11-23T14:54:30.426Z"
   },
   {
    "duration": 12,
    "start_time": "2022-11-23T14:54:30.460Z"
   },
   {
    "duration": 6198,
    "start_time": "2022-11-23T14:54:30.473Z"
   },
   {
    "duration": 4,
    "start_time": "2022-11-23T14:54:36.673Z"
   },
   {
    "duration": 6,
    "start_time": "2022-11-23T14:54:36.679Z"
   },
   {
    "duration": 34648,
    "start_time": "2022-11-23T14:54:36.687Z"
   },
   {
    "duration": 14833,
    "start_time": "2022-11-23T14:55:11.337Z"
   },
   {
    "duration": 34436,
    "start_time": "2022-11-23T14:55:26.172Z"
   },
   {
    "duration": 12,
    "start_time": "2022-11-23T15:00:58.248Z"
   },
   {
    "duration": 44,
    "start_time": "2022-11-23T15:01:00.580Z"
   },
   {
    "duration": 35,
    "start_time": "2022-11-23T15:01:12.281Z"
   },
   {
    "duration": 31,
    "start_time": "2022-11-23T15:01:13.633Z"
   },
   {
    "duration": 4,
    "start_time": "2022-11-23T15:01:28.745Z"
   },
   {
    "duration": 11533,
    "start_time": "2022-11-23T15:02:56.527Z"
   },
   {
    "duration": 11,
    "start_time": "2022-11-23T15:04:45.824Z"
   },
   {
    "duration": 9,
    "start_time": "2022-11-23T15:05:23.580Z"
   },
   {
    "duration": 5,
    "start_time": "2022-11-23T15:05:26.592Z"
   },
   {
    "duration": 800,
    "start_time": "2022-11-23T15:05:26.598Z"
   },
   {
    "duration": 6,
    "start_time": "2022-11-23T15:05:27.404Z"
   },
   {
    "duration": 17,
    "start_time": "2022-11-23T15:05:27.412Z"
   },
   {
    "duration": 16,
    "start_time": "2022-11-23T15:05:27.430Z"
   },
   {
    "duration": 2,
    "start_time": "2022-11-23T15:05:27.448Z"
   },
   {
    "duration": 3943,
    "start_time": "2022-11-23T15:05:27.452Z"
   },
   {
    "duration": 9,
    "start_time": "2022-11-23T15:05:31.396Z"
   },
   {
    "duration": 29633,
    "start_time": "2022-11-23T15:05:31.406Z"
   },
   {
    "duration": 70,
    "start_time": "2022-11-23T15:06:01.042Z"
   },
   {
    "duration": 34,
    "start_time": "2022-11-23T15:06:01.113Z"
   },
   {
    "duration": 26,
    "start_time": "2022-11-23T15:06:01.149Z"
   },
   {
    "duration": 34,
    "start_time": "2022-11-23T15:06:01.177Z"
   },
   {
    "duration": 11623,
    "start_time": "2022-11-23T15:06:01.212Z"
   },
   {
    "duration": 4,
    "start_time": "2022-11-23T15:06:12.837Z"
   },
   {
    "duration": 19,
    "start_time": "2022-11-23T15:06:12.842Z"
   },
   {
    "duration": 48782,
    "start_time": "2022-11-23T15:06:12.863Z"
   },
   {
    "duration": 14003,
    "start_time": "2022-11-23T15:07:01.647Z"
   },
   {
    "duration": 47754,
    "start_time": "2022-11-23T15:07:15.652Z"
   },
   {
    "duration": 5,
    "start_time": "2022-11-23T15:12:46.613Z"
   },
   {
    "duration": 779,
    "start_time": "2022-11-23T15:12:46.629Z"
   },
   {
    "duration": 7,
    "start_time": "2022-11-23T15:12:47.410Z"
   },
   {
    "duration": 16,
    "start_time": "2022-11-23T15:12:47.419Z"
   },
   {
    "duration": 16,
    "start_time": "2022-11-23T15:12:47.437Z"
   },
   {
    "duration": 2,
    "start_time": "2022-11-23T15:12:47.455Z"
   },
   {
    "duration": 3909,
    "start_time": "2022-11-23T15:12:47.459Z"
   },
   {
    "duration": 4,
    "start_time": "2022-11-23T15:12:51.370Z"
   },
   {
    "duration": 29398,
    "start_time": "2022-11-23T15:12:51.376Z"
   },
   {
    "duration": 67,
    "start_time": "2022-11-23T15:13:20.775Z"
   },
   {
    "duration": 34,
    "start_time": "2022-11-23T15:13:20.844Z"
   },
   {
    "duration": 4,
    "start_time": "2022-11-23T15:13:20.879Z"
   },
   {
    "duration": 34,
    "start_time": "2022-11-23T15:13:20.885Z"
   },
   {
    "duration": 11554,
    "start_time": "2022-11-23T15:13:20.920Z"
   },
   {
    "duration": 4,
    "start_time": "2022-11-23T15:13:32.476Z"
   },
   {
    "duration": 8,
    "start_time": "2022-11-23T15:13:32.481Z"
   },
   {
    "duration": 48656,
    "start_time": "2022-11-23T15:13:32.491Z"
   },
   {
    "duration": 14898,
    "start_time": "2022-11-23T15:14:21.149Z"
   },
   {
    "duration": 47558,
    "start_time": "2022-11-23T15:14:36.048Z"
   },
   {
    "duration": 25325,
    "start_time": "2022-11-23T15:25:28.703Z"
   },
   {
    "duration": 5,
    "start_time": "2022-11-23T15:26:32.108Z"
   },
   {
    "duration": 826,
    "start_time": "2022-11-23T15:26:32.115Z"
   },
   {
    "duration": 6,
    "start_time": "2022-11-23T15:26:32.943Z"
   },
   {
    "duration": 39,
    "start_time": "2022-11-23T15:26:32.950Z"
   },
   {
    "duration": 40,
    "start_time": "2022-11-23T15:26:32.991Z"
   },
   {
    "duration": 21,
    "start_time": "2022-11-23T15:26:33.032Z"
   },
   {
    "duration": 3977,
    "start_time": "2022-11-23T15:26:33.054Z"
   },
   {
    "duration": 3,
    "start_time": "2022-11-23T15:26:37.033Z"
   },
   {
    "duration": 31318,
    "start_time": "2022-11-23T15:26:37.037Z"
   },
   {
    "duration": 78,
    "start_time": "2022-11-23T15:27:08.357Z"
   },
   {
    "duration": 35,
    "start_time": "2022-11-23T15:27:08.437Z"
   },
   {
    "duration": 3,
    "start_time": "2022-11-23T15:27:08.474Z"
   },
   {
    "duration": 42,
    "start_time": "2022-11-23T15:27:08.480Z"
   },
   {
    "duration": 12270,
    "start_time": "2022-11-23T15:27:08.525Z"
   },
   {
    "duration": 14,
    "start_time": "2022-11-23T15:27:20.797Z"
   },
   {
    "duration": 21,
    "start_time": "2022-11-23T15:27:20.813Z"
   },
   {
    "duration": 39312,
    "start_time": "2022-11-23T15:27:20.836Z"
   },
   {
    "duration": 14896,
    "start_time": "2022-11-23T15:28:00.150Z"
   },
   {
    "duration": 52664,
    "start_time": "2022-11-23T15:28:15.048Z"
   },
   {
    "duration": 43,
    "start_time": "2022-11-23T15:30:13.237Z"
   },
   {
    "duration": 26,
    "start_time": "2022-11-23T15:30:19.205Z"
   },
   {
    "duration": 3,
    "start_time": "2022-11-23T15:30:22.247Z"
   },
   {
    "duration": 6,
    "start_time": "2022-11-23T15:30:33.477Z"
   },
   {
    "duration": 818,
    "start_time": "2022-11-23T15:30:33.496Z"
   },
   {
    "duration": 6,
    "start_time": "2022-11-23T15:30:34.317Z"
   },
   {
    "duration": 20,
    "start_time": "2022-11-23T15:30:34.325Z"
   },
   {
    "duration": 19,
    "start_time": "2022-11-23T15:30:34.347Z"
   },
   {
    "duration": 3,
    "start_time": "2022-11-23T15:30:34.369Z"
   },
   {
    "duration": 4012,
    "start_time": "2022-11-23T15:30:34.373Z"
   },
   {
    "duration": 4,
    "start_time": "2022-11-23T15:30:38.387Z"
   },
   {
    "duration": 29950,
    "start_time": "2022-11-23T15:30:38.405Z"
   },
   {
    "duration": 86,
    "start_time": "2022-11-23T15:31:08.357Z"
   },
   {
    "duration": 33,
    "start_time": "2022-11-23T15:31:08.445Z"
   },
   {
    "duration": 4,
    "start_time": "2022-11-23T15:31:08.481Z"
   },
   {
    "duration": 32,
    "start_time": "2022-11-23T15:31:08.487Z"
   },
   {
    "duration": 4151,
    "start_time": "2022-11-23T15:31:08.520Z"
   },
   {
    "duration": 4,
    "start_time": "2022-11-23T15:31:12.673Z"
   },
   {
    "duration": 9,
    "start_time": "2022-11-23T15:31:12.678Z"
   },
   {
    "duration": 20123,
    "start_time": "2022-11-23T15:31:12.688Z"
   },
   {
    "duration": 8245,
    "start_time": "2022-11-23T15:31:32.812Z"
   },
   {
    "duration": 21061,
    "start_time": "2022-11-23T15:31:41.059Z"
   },
   {
    "duration": 5,
    "start_time": "2022-11-23T15:35:06.113Z"
   },
   {
    "duration": 762,
    "start_time": "2022-11-23T15:35:06.134Z"
   },
   {
    "duration": 12,
    "start_time": "2022-11-23T15:35:06.897Z"
   },
   {
    "duration": 19,
    "start_time": "2022-11-23T15:35:06.910Z"
   },
   {
    "duration": 14,
    "start_time": "2022-11-23T15:35:06.931Z"
   },
   {
    "duration": 3,
    "start_time": "2022-11-23T15:35:06.947Z"
   },
   {
    "duration": 3932,
    "start_time": "2022-11-23T15:35:06.951Z"
   },
   {
    "duration": 4,
    "start_time": "2022-11-23T15:35:10.884Z"
   },
   {
    "duration": 29419,
    "start_time": "2022-11-23T15:35:10.889Z"
   },
   {
    "duration": 60,
    "start_time": "2022-11-23T15:35:40.310Z"
   },
   {
    "duration": 39,
    "start_time": "2022-11-23T15:35:40.372Z"
   },
   {
    "duration": 4,
    "start_time": "2022-11-23T15:35:40.413Z"
   },
   {
    "duration": 19,
    "start_time": "2022-11-23T15:35:40.418Z"
   },
   {
    "duration": 3406,
    "start_time": "2022-11-23T15:35:40.439Z"
   },
   {
    "duration": 3,
    "start_time": "2022-11-23T15:35:43.848Z"
   },
   {
    "duration": 10,
    "start_time": "2022-11-23T15:35:43.853Z"
   },
   {
    "duration": 24850,
    "start_time": "2022-11-23T15:35:43.864Z"
   },
   {
    "duration": 6323,
    "start_time": "2022-11-23T15:36:08.715Z"
   },
   {
    "duration": 14,
    "start_time": "2022-11-23T15:36:15.039Z"
   },
   {
    "duration": 5,
    "start_time": "2022-11-23T15:36:52.795Z"
   },
   {
    "duration": 817,
    "start_time": "2022-11-23T15:36:52.819Z"
   },
   {
    "duration": 7,
    "start_time": "2022-11-23T15:36:53.638Z"
   },
   {
    "duration": 24,
    "start_time": "2022-11-23T15:36:53.647Z"
   },
   {
    "duration": 14,
    "start_time": "2022-11-23T15:36:53.673Z"
   },
   {
    "duration": 3,
    "start_time": "2022-11-23T15:36:53.705Z"
   },
   {
    "duration": 3785,
    "start_time": "2022-11-23T15:36:53.709Z"
   },
   {
    "duration": 8,
    "start_time": "2022-11-23T15:36:57.497Z"
   },
   {
    "duration": 29352,
    "start_time": "2022-11-23T15:36:57.507Z"
   },
   {
    "duration": 69,
    "start_time": "2022-11-23T15:37:26.861Z"
   },
   {
    "duration": 14,
    "start_time": "2022-11-23T15:37:26.932Z"
   },
   {
    "duration": 5,
    "start_time": "2022-11-23T15:37:26.947Z"
   },
   {
    "duration": 15,
    "start_time": "2022-11-23T15:37:26.953Z"
   },
   {
    "duration": 3012,
    "start_time": "2022-11-23T15:37:26.969Z"
   },
   {
    "duration": 4,
    "start_time": "2022-11-23T15:37:29.983Z"
   },
   {
    "duration": 17,
    "start_time": "2022-11-23T15:37:29.988Z"
   },
   {
    "duration": 19215,
    "start_time": "2022-11-23T15:37:30.006Z"
   },
   {
    "duration": 4856,
    "start_time": "2022-11-23T15:37:49.224Z"
   },
   {
    "duration": 18029,
    "start_time": "2022-11-23T15:37:54.081Z"
   },
   {
    "duration": 12,
    "start_time": "2022-11-23T15:40:54.913Z"
   },
   {
    "duration": 16,
    "start_time": "2022-11-23T15:40:58.888Z"
   },
   {
    "duration": 36,
    "start_time": "2022-11-23T15:41:15.935Z"
   },
   {
    "duration": 42,
    "start_time": "2022-11-23T15:41:17.401Z"
   },
   {
    "duration": 4,
    "start_time": "2022-11-23T15:41:19.168Z"
   },
   {
    "duration": 219,
    "start_time": "2022-11-23T15:41:34.778Z"
   },
   {
    "duration": 789,
    "start_time": "2022-11-23T15:41:35.001Z"
   },
   {
    "duration": 14,
    "start_time": "2022-11-23T15:41:35.792Z"
   },
   {
    "duration": 33,
    "start_time": "2022-11-23T15:41:35.809Z"
   },
   {
    "duration": 28,
    "start_time": "2022-11-23T15:41:35.844Z"
   },
   {
    "duration": 6,
    "start_time": "2022-11-23T15:41:35.874Z"
   },
   {
    "duration": 3879,
    "start_time": "2022-11-23T15:41:35.882Z"
   },
   {
    "duration": 3,
    "start_time": "2022-11-23T15:41:39.763Z"
   },
   {
    "duration": 29328,
    "start_time": "2022-11-23T15:41:39.768Z"
   },
   {
    "duration": 35,
    "start_time": "2022-11-23T15:42:09.104Z"
   },
   {
    "duration": 40,
    "start_time": "2022-11-23T15:42:09.141Z"
   },
   {
    "duration": 51,
    "start_time": "2022-11-23T15:42:09.183Z"
   },
   {
    "duration": 4,
    "start_time": "2022-11-23T15:42:09.235Z"
   },
   {
    "duration": 15,
    "start_time": "2022-11-23T15:42:09.241Z"
   },
   {
    "duration": 6390,
    "start_time": "2022-11-23T15:42:09.257Z"
   },
   {
    "duration": 3,
    "start_time": "2022-11-23T15:42:15.649Z"
   },
   {
    "duration": 7,
    "start_time": "2022-11-23T15:42:15.654Z"
   },
   {
    "duration": 42171,
    "start_time": "2022-11-23T15:42:15.662Z"
   },
   {
    "duration": 15650,
    "start_time": "2022-11-23T15:42:57.835Z"
   },
   {
    "duration": 42218,
    "start_time": "2022-11-23T15:43:13.487Z"
   },
   {
    "duration": 38,
    "start_time": "2022-11-23T15:46:04.761Z"
   },
   {
    "duration": 6390,
    "start_time": "2022-11-23T15:48:33.326Z"
   },
   {
    "duration": 5,
    "start_time": "2022-11-23T15:49:15.616Z"
   },
   {
    "duration": 854,
    "start_time": "2022-11-23T15:49:15.623Z"
   },
   {
    "duration": 7,
    "start_time": "2022-11-23T15:49:16.479Z"
   },
   {
    "duration": 47,
    "start_time": "2022-11-23T15:49:16.489Z"
   },
   {
    "duration": 47,
    "start_time": "2022-11-23T15:49:16.538Z"
   },
   {
    "duration": 12,
    "start_time": "2022-11-23T15:49:16.587Z"
   },
   {
    "duration": 4018,
    "start_time": "2022-11-23T15:49:16.601Z"
   },
   {
    "duration": 3,
    "start_time": "2022-11-23T15:49:20.621Z"
   },
   {
    "duration": 30112,
    "start_time": "2022-11-23T15:49:20.625Z"
   },
   {
    "duration": 33,
    "start_time": "2022-11-23T15:49:50.740Z"
   },
   {
    "duration": 54,
    "start_time": "2022-11-23T15:49:50.775Z"
   },
   {
    "duration": 35,
    "start_time": "2022-11-23T15:49:50.830Z"
   },
   {
    "duration": 3,
    "start_time": "2022-11-23T15:49:50.866Z"
   },
   {
    "duration": 34,
    "start_time": "2022-11-23T15:49:50.871Z"
   },
   {
    "duration": 6656,
    "start_time": "2022-11-23T15:49:50.907Z"
   },
   {
    "duration": 5,
    "start_time": "2022-11-23T15:49:57.565Z"
   },
   {
    "duration": 14,
    "start_time": "2022-11-23T15:49:57.572Z"
   },
   {
    "duration": 44142,
    "start_time": "2022-11-23T15:49:57.588Z"
   },
   {
    "duration": 15503,
    "start_time": "2022-11-23T15:50:41.732Z"
   },
   {
    "duration": 44271,
    "start_time": "2022-11-23T15:50:57.237Z"
   },
   {
    "duration": 48908,
    "start_time": "2022-11-23T15:51:41.510Z"
   },
   {
    "duration": 5,
    "start_time": "2022-11-23T16:02:09.836Z"
   },
   {
    "duration": 798,
    "start_time": "2022-11-23T16:02:09.843Z"
   },
   {
    "duration": 7,
    "start_time": "2022-11-23T16:02:10.642Z"
   },
   {
    "duration": 15,
    "start_time": "2022-11-23T16:02:10.650Z"
   },
   {
    "duration": 18,
    "start_time": "2022-11-23T16:02:10.666Z"
   },
   {
    "duration": 20,
    "start_time": "2022-11-23T16:02:10.685Z"
   },
   {
    "duration": 3804,
    "start_time": "2022-11-23T16:02:10.707Z"
   },
   {
    "duration": 3,
    "start_time": "2022-11-23T16:02:14.512Z"
   },
   {
    "duration": 29359,
    "start_time": "2022-11-23T16:02:14.517Z"
   },
   {
    "duration": 42,
    "start_time": "2022-11-23T16:02:43.880Z"
   },
   {
    "duration": 43,
    "start_time": "2022-11-23T16:02:43.924Z"
   },
   {
    "duration": 56,
    "start_time": "2022-11-23T16:02:43.969Z"
   },
   {
    "duration": 4,
    "start_time": "2022-11-23T16:02:44.027Z"
   },
   {
    "duration": 21,
    "start_time": "2022-11-23T16:02:44.033Z"
   },
   {
    "duration": 6517,
    "start_time": "2022-11-23T16:02:44.056Z"
   },
   {
    "duration": 4,
    "start_time": "2022-11-23T16:02:50.574Z"
   },
   {
    "duration": 10,
    "start_time": "2022-11-23T16:02:50.580Z"
   },
   {
    "duration": 38348,
    "start_time": "2022-11-23T16:02:50.592Z"
   },
   {
    "duration": 15314,
    "start_time": "2022-11-23T16:03:28.942Z"
   },
   {
    "duration": 35568,
    "start_time": "2022-11-23T16:03:44.258Z"
   },
   {
    "duration": 41689,
    "start_time": "2022-11-23T16:04:19.828Z"
   },
   {
    "duration": 38060,
    "start_time": "2022-11-23T16:11:18.254Z"
   },
   {
    "duration": 1473,
    "start_time": "2022-11-23T17:53:15.854Z"
   },
   {
    "duration": 2405,
    "start_time": "2022-11-23T17:53:17.329Z"
   },
   {
    "duration": 13,
    "start_time": "2022-11-23T17:53:19.736Z"
   },
   {
    "duration": 15,
    "start_time": "2022-11-23T17:53:19.750Z"
   },
   {
    "duration": 19,
    "start_time": "2022-11-23T17:53:19.767Z"
   },
   {
    "duration": 2,
    "start_time": "2022-11-23T17:53:19.788Z"
   },
   {
    "duration": 3868,
    "start_time": "2022-11-23T17:53:19.792Z"
   },
   {
    "duration": 2,
    "start_time": "2022-11-23T17:53:23.662Z"
   },
   {
    "duration": 29522,
    "start_time": "2022-11-23T17:53:23.666Z"
   },
   {
    "duration": 36,
    "start_time": "2022-11-23T17:53:53.190Z"
   },
   {
    "duration": 31,
    "start_time": "2022-11-23T17:53:53.227Z"
   },
   {
    "duration": 30,
    "start_time": "2022-11-23T17:53:53.260Z"
   },
   {
    "duration": 3,
    "start_time": "2022-11-23T17:53:53.292Z"
   },
   {
    "duration": 5,
    "start_time": "2022-11-23T17:53:53.316Z"
   },
   {
    "duration": 6059,
    "start_time": "2022-11-23T17:53:53.322Z"
   },
   {
    "duration": 4,
    "start_time": "2022-11-23T17:53:59.383Z"
   },
   {
    "duration": 6,
    "start_time": "2022-11-23T17:53:59.389Z"
   },
   {
    "duration": 37040,
    "start_time": "2022-11-23T17:53:59.396Z"
   },
   {
    "duration": 14753,
    "start_time": "2022-11-23T17:54:36.437Z"
   },
   {
    "duration": 41632,
    "start_time": "2022-11-23T17:54:51.191Z"
   },
   {
    "duration": 5,
    "start_time": "2022-11-23T17:55:48.617Z"
   },
   {
    "duration": 833,
    "start_time": "2022-11-23T17:55:48.650Z"
   },
   {
    "duration": 8,
    "start_time": "2022-11-23T17:55:49.485Z"
   },
   {
    "duration": 33,
    "start_time": "2022-11-23T17:55:49.495Z"
   },
   {
    "duration": 18,
    "start_time": "2022-11-23T17:55:49.530Z"
   },
   {
    "duration": 3,
    "start_time": "2022-11-23T17:55:49.550Z"
   },
   {
    "duration": 4079,
    "start_time": "2022-11-23T17:55:49.555Z"
   },
   {
    "duration": 4,
    "start_time": "2022-11-23T17:55:53.636Z"
   },
   {
    "duration": 30993,
    "start_time": "2022-11-23T17:55:53.642Z"
   },
   {
    "duration": 33,
    "start_time": "2022-11-23T17:56:24.637Z"
   },
   {
    "duration": 59,
    "start_time": "2022-11-23T17:56:24.672Z"
   },
   {
    "duration": 34,
    "start_time": "2022-11-23T17:56:24.733Z"
   },
   {
    "duration": 4,
    "start_time": "2022-11-23T17:56:24.769Z"
   },
   {
    "duration": 16,
    "start_time": "2022-11-23T17:56:24.775Z"
   },
   {
    "duration": 6559,
    "start_time": "2022-11-23T17:56:24.793Z"
   },
   {
    "duration": 5,
    "start_time": "2022-11-23T17:56:31.353Z"
   },
   {
    "duration": 28,
    "start_time": "2022-11-23T17:56:31.359Z"
   },
   {
    "duration": 30953,
    "start_time": "2022-11-23T17:56:31.389Z"
   },
   {
    "duration": 16189,
    "start_time": "2022-11-23T17:57:02.345Z"
   },
   {
    "duration": 30091,
    "start_time": "2022-11-23T17:57:18.536Z"
   },
   {
    "duration": 4,
    "start_time": "2022-11-23T17:58:29.242Z"
   },
   {
    "duration": 865,
    "start_time": "2022-11-23T17:58:29.255Z"
   },
   {
    "duration": 9,
    "start_time": "2022-11-23T17:58:30.123Z"
   },
   {
    "duration": 34,
    "start_time": "2022-11-23T17:58:30.135Z"
   },
   {
    "duration": 28,
    "start_time": "2022-11-23T17:58:30.171Z"
   },
   {
    "duration": 14,
    "start_time": "2022-11-23T17:58:30.201Z"
   },
   {
    "duration": 4771,
    "start_time": "2022-11-23T17:58:30.217Z"
   },
   {
    "duration": 3,
    "start_time": "2022-11-23T17:58:34.989Z"
   },
   {
    "duration": 30710,
    "start_time": "2022-11-23T17:58:34.993Z"
   },
   {
    "duration": 40,
    "start_time": "2022-11-23T17:59:05.705Z"
   },
   {
    "duration": 38,
    "start_time": "2022-11-23T17:59:05.746Z"
   },
   {
    "duration": 48,
    "start_time": "2022-11-23T17:59:05.785Z"
   },
   {
    "duration": 3,
    "start_time": "2022-11-23T17:59:05.835Z"
   },
   {
    "duration": 17,
    "start_time": "2022-11-23T17:59:05.840Z"
   },
   {
    "duration": 6615,
    "start_time": "2022-11-23T17:59:05.859Z"
   },
   {
    "duration": 5,
    "start_time": "2022-11-23T17:59:12.475Z"
   },
   {
    "duration": 13,
    "start_time": "2022-11-23T17:59:12.482Z"
   },
   {
    "duration": 43463,
    "start_time": "2022-11-23T17:59:12.496Z"
   },
   {
    "duration": 16195,
    "start_time": "2022-11-23T17:59:55.961Z"
   },
   {
    "duration": 47779,
    "start_time": "2022-11-23T18:00:12.159Z"
   },
   {
    "duration": 9,
    "start_time": "2022-11-23T18:01:50.313Z"
   },
   {
    "duration": 833,
    "start_time": "2022-11-23T18:01:50.324Z"
   },
   {
    "duration": 9,
    "start_time": "2022-11-23T18:01:51.159Z"
   },
   {
    "duration": 23,
    "start_time": "2022-11-23T18:01:51.170Z"
   },
   {
    "duration": 38,
    "start_time": "2022-11-23T18:01:51.196Z"
   },
   {
    "duration": 10,
    "start_time": "2022-11-23T18:01:51.236Z"
   },
   {
    "duration": 4461,
    "start_time": "2022-11-23T18:01:51.247Z"
   },
   {
    "duration": 13,
    "start_time": "2022-11-23T18:01:55.709Z"
   },
   {
    "duration": 32649,
    "start_time": "2022-11-23T18:01:55.723Z"
   },
   {
    "duration": 32,
    "start_time": "2022-11-23T18:02:28.374Z"
   },
   {
    "duration": 46,
    "start_time": "2022-11-23T18:02:28.415Z"
   },
   {
    "duration": 33,
    "start_time": "2022-11-23T18:02:28.463Z"
   },
   {
    "duration": 3,
    "start_time": "2022-11-23T18:02:28.497Z"
   },
   {
    "duration": 26,
    "start_time": "2022-11-23T18:02:28.519Z"
   },
   {
    "duration": 6801,
    "start_time": "2022-11-23T18:02:28.547Z"
   },
   {
    "duration": 4,
    "start_time": "2022-11-23T18:02:35.349Z"
   },
   {
    "duration": 31,
    "start_time": "2022-11-23T18:02:35.355Z"
   },
   {
    "duration": 45141,
    "start_time": "2022-11-23T18:02:35.387Z"
   },
   {
    "duration": 13954,
    "start_time": "2022-11-23T18:03:20.530Z"
   },
   {
    "duration": 133,
    "start_time": "2022-11-23T18:03:34.486Z"
   },
   {
    "duration": 6,
    "start_time": "2022-11-23T18:05:12.442Z"
   },
   {
    "duration": 810,
    "start_time": "2022-11-23T18:05:12.455Z"
   },
   {
    "duration": 6,
    "start_time": "2022-11-23T18:05:13.268Z"
   },
   {
    "duration": 20,
    "start_time": "2022-11-23T18:05:13.276Z"
   },
   {
    "duration": 34,
    "start_time": "2022-11-23T18:05:13.298Z"
   },
   {
    "duration": 3,
    "start_time": "2022-11-23T18:05:13.334Z"
   },
   {
    "duration": 4498,
    "start_time": "2022-11-23T18:05:13.338Z"
   },
   {
    "duration": 3,
    "start_time": "2022-11-23T18:05:17.838Z"
   },
   {
    "duration": 32469,
    "start_time": "2022-11-23T18:05:17.842Z"
   },
   {
    "duration": 36,
    "start_time": "2022-11-23T18:05:50.312Z"
   },
   {
    "duration": 37,
    "start_time": "2022-11-23T18:05:50.349Z"
   },
   {
    "duration": 58,
    "start_time": "2022-11-23T18:05:50.388Z"
   },
   {
    "duration": 4,
    "start_time": "2022-11-23T18:05:50.447Z"
   },
   {
    "duration": 16,
    "start_time": "2022-11-23T18:05:50.453Z"
   },
   {
    "duration": 7280,
    "start_time": "2022-11-23T18:05:50.472Z"
   },
   {
    "duration": 4,
    "start_time": "2022-11-23T18:05:57.754Z"
   },
   {
    "duration": 17,
    "start_time": "2022-11-23T18:05:57.760Z"
   },
   {
    "duration": 48478,
    "start_time": "2022-11-23T18:05:57.778Z"
   },
   {
    "duration": 15861,
    "start_time": "2022-11-23T18:06:46.258Z"
   },
   {
    "duration": 40712,
    "start_time": "2022-11-23T18:07:02.127Z"
   },
   {
    "duration": 6,
    "start_time": "2022-11-23T18:08:36.239Z"
   },
   {
    "duration": 802,
    "start_time": "2022-11-23T18:08:36.261Z"
   },
   {
    "duration": 7,
    "start_time": "2022-11-23T18:08:37.065Z"
   },
   {
    "duration": 16,
    "start_time": "2022-11-23T18:08:37.073Z"
   },
   {
    "duration": 35,
    "start_time": "2022-11-23T18:08:37.090Z"
   },
   {
    "duration": 5,
    "start_time": "2022-11-23T18:08:37.127Z"
   },
   {
    "duration": 4128,
    "start_time": "2022-11-23T18:08:37.133Z"
   },
   {
    "duration": 3,
    "start_time": "2022-11-23T18:08:41.263Z"
   },
   {
    "duration": 31110,
    "start_time": "2022-11-23T18:08:41.267Z"
   },
   {
    "duration": 30,
    "start_time": "2022-11-23T18:09:12.379Z"
   },
   {
    "duration": 45,
    "start_time": "2022-11-23T18:09:12.418Z"
   },
   {
    "duration": 37,
    "start_time": "2022-11-23T18:09:12.464Z"
   },
   {
    "duration": 5,
    "start_time": "2022-11-23T18:09:12.515Z"
   },
   {
    "duration": 18,
    "start_time": "2022-11-23T18:09:12.529Z"
   },
   {
    "duration": 6795,
    "start_time": "2022-11-23T18:09:12.550Z"
   },
   {
    "duration": 3,
    "start_time": "2022-11-23T18:09:19.347Z"
   },
   {
    "duration": 5,
    "start_time": "2022-11-23T18:09:19.352Z"
   },
   {
    "duration": 47105,
    "start_time": "2022-11-23T18:09:19.358Z"
   },
   {
    "duration": 15125,
    "start_time": "2022-11-23T18:10:06.465Z"
   },
   {
    "duration": 47234,
    "start_time": "2022-11-23T18:10:21.592Z"
   },
   {
    "duration": 4,
    "start_time": "2022-11-23T18:18:14.879Z"
   },
   {
    "duration": 772,
    "start_time": "2022-11-23T18:18:14.894Z"
   },
   {
    "duration": 7,
    "start_time": "2022-11-23T18:18:15.668Z"
   },
   {
    "duration": 14,
    "start_time": "2022-11-23T18:18:15.677Z"
   },
   {
    "duration": 29,
    "start_time": "2022-11-23T18:18:15.693Z"
   },
   {
    "duration": 8,
    "start_time": "2022-11-23T18:18:15.724Z"
   },
   {
    "duration": 4313,
    "start_time": "2022-11-23T18:18:15.733Z"
   },
   {
    "duration": 4,
    "start_time": "2022-11-23T18:18:20.048Z"
   },
   {
    "duration": 31773,
    "start_time": "2022-11-23T18:18:20.053Z"
   },
   {
    "duration": 32,
    "start_time": "2022-11-23T18:18:51.830Z"
   },
   {
    "duration": 42,
    "start_time": "2022-11-23T18:18:51.865Z"
   },
   {
    "duration": 40,
    "start_time": "2022-11-23T18:18:51.908Z"
   },
   {
    "duration": 5,
    "start_time": "2022-11-23T18:18:51.950Z"
   },
   {
    "duration": 64,
    "start_time": "2022-11-23T18:18:51.957Z"
   },
   {
    "duration": 6875,
    "start_time": "2022-11-23T18:18:52.024Z"
   },
   {
    "duration": 3,
    "start_time": "2022-11-23T18:18:58.901Z"
   },
   {
    "duration": 13,
    "start_time": "2022-11-23T18:18:58.906Z"
   },
   {
    "duration": 44026,
    "start_time": "2022-11-23T18:18:58.920Z"
   },
   {
    "duration": 14547,
    "start_time": "2022-11-23T18:19:42.948Z"
   },
   {
    "duration": 41738,
    "start_time": "2022-11-23T18:19:57.497Z"
   },
   {
    "duration": 5,
    "start_time": "2022-11-23T18:21:34.128Z"
   },
   {
    "duration": 756,
    "start_time": "2022-11-23T18:21:34.154Z"
   },
   {
    "duration": 7,
    "start_time": "2022-11-23T18:21:34.916Z"
   },
   {
    "duration": 22,
    "start_time": "2022-11-23T18:21:34.926Z"
   },
   {
    "duration": 16,
    "start_time": "2022-11-23T18:21:34.950Z"
   },
   {
    "duration": 2,
    "start_time": "2022-11-23T18:21:34.968Z"
   },
   {
    "duration": 4271,
    "start_time": "2022-11-23T18:21:34.972Z"
   },
   {
    "duration": 14,
    "start_time": "2022-11-23T18:21:39.244Z"
   },
   {
    "duration": 31335,
    "start_time": "2022-11-23T18:21:39.260Z"
   },
   {
    "duration": 43,
    "start_time": "2022-11-23T18:22:10.597Z"
   },
   {
    "duration": 37,
    "start_time": "2022-11-23T18:22:10.642Z"
   },
   {
    "duration": 48,
    "start_time": "2022-11-23T18:22:10.680Z"
   },
   {
    "duration": 3,
    "start_time": "2022-11-23T18:22:10.730Z"
   },
   {
    "duration": 23,
    "start_time": "2022-11-23T18:22:10.735Z"
   },
   {
    "duration": 6551,
    "start_time": "2022-11-23T18:22:10.762Z"
   },
   {
    "duration": 14,
    "start_time": "2022-11-23T18:22:17.314Z"
   },
   {
    "duration": 10,
    "start_time": "2022-11-23T18:22:17.329Z"
   },
   {
    "duration": 79797,
    "start_time": "2022-11-23T18:22:17.340Z"
   },
   {
    "duration": 15479,
    "start_time": "2022-11-23T18:23:37.139Z"
   },
   {
    "duration": 77209,
    "start_time": "2022-11-23T18:23:52.627Z"
   }
  ],
  "kernelspec": {
   "display_name": "Python 3 (ipykernel)",
   "language": "python",
   "name": "python3"
  },
  "language_info": {
   "codemirror_mode": {
    "name": "ipython",
    "version": 3
   },
   "file_extension": ".py",
   "mimetype": "text/x-python",
   "name": "python",
   "nbconvert_exporter": "python",
   "pygments_lexer": "ipython3",
   "version": "3.9.5"
  },
  "toc": {
   "base_numbering": 1,
   "nav_menu": {},
   "number_sections": true,
   "sideBar": true,
   "skip_h1_title": true,
   "title_cell": "Содержание",
   "title_sidebar": "Contents",
   "toc_cell": true,
   "toc_position": {
    "height": "calc(100% - 180px)",
    "left": "10px",
    "top": "150px",
    "width": "302.391px"
   },
   "toc_section_display": true,
   "toc_window_display": false
  }
 },
 "nbformat": 4,
 "nbformat_minor": 2
}
