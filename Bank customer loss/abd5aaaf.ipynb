{
 "cells": [
  {
   "cell_type": "markdown",
   "metadata": {
    "toc": true
   },
   "source": [
    "<h1>Содержание<span class=\"tocSkip\"></span></h1>\n",
    "<div class=\"toc\"><ul class=\"toc-item\"><li><span><a href=\"#Подготовка-данных\" data-toc-modified-id=\"Подготовка-данных-1\"><span class=\"toc-item-num\">1&nbsp;&nbsp;</span>Подготовка данных</a></span></li><li><span><a href=\"#Исследование-задачи\" data-toc-modified-id=\"Исследование-задачи-2\"><span class=\"toc-item-num\">2&nbsp;&nbsp;</span>Исследование задачи</a></span></li><li><span><a href=\"#Борьба-с-дисбалансом\" data-toc-modified-id=\"Борьба-с-дисбалансом-3\"><span class=\"toc-item-num\">3&nbsp;&nbsp;</span>Борьба с дисбалансом</a></span></li><li><span><a href=\"#Тестирование-модели\" data-toc-modified-id=\"Тестирование-модели-4\"><span class=\"toc-item-num\">4&nbsp;&nbsp;</span>Тестирование модели</a></span></li><li><span><a href=\"#Чек-лист-готовности-проекта\" data-toc-modified-id=\"Чек-лист-готовности-проекта-5\"><span class=\"toc-item-num\">5&nbsp;&nbsp;</span>Чек-лист готовности проекта</a></span></li></ul></div>"
   ]
  },
  {
   "cell_type": "markdown",
   "metadata": {},
   "source": [
    "# Отток клиентов"
   ]
  },
  {
   "cell_type": "markdown",
   "metadata": {},
   "source": [
    "Из «Бета-Банка» стали уходить клиенты. Каждый месяц. Немного, но заметно. Банковские маркетологи посчитали: сохранять текущих клиентов дешевле, чем привлекать новых.\n",
    "\n",
    "Нужно спрогнозировать, уйдёт клиент из банка в ближайшее время или нет. Вам предоставлены исторические данные о поведении клиентов и расторжении договоров с банком. \n",
    "\n",
    "Постройте модель с предельно большим значением *F1*-меры. Чтобы сдать проект успешно, нужно довести метрику до 0.59. Проверьте *F1*-меру на тестовой выборке самостоятельно.\n",
    "\n",
    "Дополнительно измеряйте *AUC-ROC*, сравнивайте её значение с *F1*-мерой.\n",
    "\n",
    "Источник данных: [https://www.kaggle.com/barelydedicated/bank-customer-churn-modeling](https://www.kaggle.com/barelydedicated/bank-customer-churn-modeling)"
   ]
  },
  {
   "cell_type": "markdown",
   "metadata": {},
   "source": [
    "## Подготовка данных"
   ]
  },
  {
   "cell_type": "code",
   "execution_count": 180,
   "metadata": {},
   "outputs": [],
   "source": [
    "import pandas as pd\n",
    "from sklearn.model_selection import train_test_split\n",
    "from sklearn.linear_model import LogisticRegression\n",
    "from sklearn.tree import DecisionTreeClassifier\n",
    "from sklearn.ensemble import RandomForestClassifier\n",
    "from sklearn.metrics import r2_score\n",
    "from sklearn.metrics import f1_score\n",
    "from sklearn.metrics import roc_auc_score\n",
    "from sklearn.preprocessing import StandardScaler\n",
    "from sklearn.utils import shuffle"
   ]
  },
  {
   "cell_type": "markdown",
   "metadata": {},
   "source": [
    "Импорт библиотек"
   ]
  },
  {
   "cell_type": "code",
   "execution_count": 181,
   "metadata": {},
   "outputs": [
    {
     "data": {
      "text/html": [
       "<div>\n",
       "<style scoped>\n",
       "    .dataframe tbody tr th:only-of-type {\n",
       "        vertical-align: middle;\n",
       "    }\n",
       "\n",
       "    .dataframe tbody tr th {\n",
       "        vertical-align: top;\n",
       "    }\n",
       "\n",
       "    .dataframe thead th {\n",
       "        text-align: right;\n",
       "    }\n",
       "</style>\n",
       "<table border=\"1\" class=\"dataframe\">\n",
       "  <thead>\n",
       "    <tr style=\"text-align: right;\">\n",
       "      <th></th>\n",
       "      <th>RowNumber</th>\n",
       "      <th>CustomerId</th>\n",
       "      <th>Surname</th>\n",
       "      <th>CreditScore</th>\n",
       "      <th>Geography</th>\n",
       "      <th>Gender</th>\n",
       "      <th>Age</th>\n",
       "      <th>Tenure</th>\n",
       "      <th>Balance</th>\n",
       "      <th>NumOfProducts</th>\n",
       "      <th>HasCrCard</th>\n",
       "      <th>IsActiveMember</th>\n",
       "      <th>EstimatedSalary</th>\n",
       "      <th>Exited</th>\n",
       "    </tr>\n",
       "  </thead>\n",
       "  <tbody>\n",
       "    <tr>\n",
       "      <th>0</th>\n",
       "      <td>1</td>\n",
       "      <td>15634602</td>\n",
       "      <td>Hargrave</td>\n",
       "      <td>619</td>\n",
       "      <td>France</td>\n",
       "      <td>Female</td>\n",
       "      <td>42</td>\n",
       "      <td>2.0</td>\n",
       "      <td>0.00</td>\n",
       "      <td>1</td>\n",
       "      <td>1</td>\n",
       "      <td>1</td>\n",
       "      <td>101348.88</td>\n",
       "      <td>1</td>\n",
       "    </tr>\n",
       "    <tr>\n",
       "      <th>1</th>\n",
       "      <td>2</td>\n",
       "      <td>15647311</td>\n",
       "      <td>Hill</td>\n",
       "      <td>608</td>\n",
       "      <td>Spain</td>\n",
       "      <td>Female</td>\n",
       "      <td>41</td>\n",
       "      <td>1.0</td>\n",
       "      <td>83807.86</td>\n",
       "      <td>1</td>\n",
       "      <td>0</td>\n",
       "      <td>1</td>\n",
       "      <td>112542.58</td>\n",
       "      <td>0</td>\n",
       "    </tr>\n",
       "    <tr>\n",
       "      <th>2</th>\n",
       "      <td>3</td>\n",
       "      <td>15619304</td>\n",
       "      <td>Onio</td>\n",
       "      <td>502</td>\n",
       "      <td>France</td>\n",
       "      <td>Female</td>\n",
       "      <td>42</td>\n",
       "      <td>8.0</td>\n",
       "      <td>159660.80</td>\n",
       "      <td>3</td>\n",
       "      <td>1</td>\n",
       "      <td>0</td>\n",
       "      <td>113931.57</td>\n",
       "      <td>1</td>\n",
       "    </tr>\n",
       "    <tr>\n",
       "      <th>3</th>\n",
       "      <td>4</td>\n",
       "      <td>15701354</td>\n",
       "      <td>Boni</td>\n",
       "      <td>699</td>\n",
       "      <td>France</td>\n",
       "      <td>Female</td>\n",
       "      <td>39</td>\n",
       "      <td>1.0</td>\n",
       "      <td>0.00</td>\n",
       "      <td>2</td>\n",
       "      <td>0</td>\n",
       "      <td>0</td>\n",
       "      <td>93826.63</td>\n",
       "      <td>0</td>\n",
       "    </tr>\n",
       "    <tr>\n",
       "      <th>4</th>\n",
       "      <td>5</td>\n",
       "      <td>15737888</td>\n",
       "      <td>Mitchell</td>\n",
       "      <td>850</td>\n",
       "      <td>Spain</td>\n",
       "      <td>Female</td>\n",
       "      <td>43</td>\n",
       "      <td>2.0</td>\n",
       "      <td>125510.82</td>\n",
       "      <td>1</td>\n",
       "      <td>1</td>\n",
       "      <td>1</td>\n",
       "      <td>79084.10</td>\n",
       "      <td>0</td>\n",
       "    </tr>\n",
       "  </tbody>\n",
       "</table>\n",
       "</div>"
      ],
      "text/plain": [
       "   RowNumber  CustomerId   Surname  CreditScore Geography  Gender  Age  \\\n",
       "0          1    15634602  Hargrave          619    France  Female   42   \n",
       "1          2    15647311      Hill          608     Spain  Female   41   \n",
       "2          3    15619304      Onio          502    France  Female   42   \n",
       "3          4    15701354      Boni          699    France  Female   39   \n",
       "4          5    15737888  Mitchell          850     Spain  Female   43   \n",
       "\n",
       "   Tenure    Balance  NumOfProducts  HasCrCard  IsActiveMember  \\\n",
       "0     2.0       0.00              1          1               1   \n",
       "1     1.0   83807.86              1          0               1   \n",
       "2     8.0  159660.80              3          1               0   \n",
       "3     1.0       0.00              2          0               0   \n",
       "4     2.0  125510.82              1          1               1   \n",
       "\n",
       "   EstimatedSalary  Exited  \n",
       "0        101348.88       1  \n",
       "1        112542.58       0  \n",
       "2        113931.57       1  \n",
       "3         93826.63       0  \n",
       "4         79084.10       0  "
      ]
     },
     "execution_count": 181,
     "metadata": {},
     "output_type": "execute_result"
    }
   ],
   "source": [
    "df = pd.read_csv('/datasets/Churn.csv')\n",
    "df.head()"
   ]
  },
  {
   "cell_type": "markdown",
   "metadata": {},
   "source": [
    "Первичное ознакомление с данными"
   ]
  },
  {
   "cell_type": "code",
   "execution_count": 182,
   "metadata": {},
   "outputs": [
    {
     "name": "stdout",
     "output_type": "stream",
     "text": [
      "<class 'pandas.core.frame.DataFrame'>\n",
      "RangeIndex: 10000 entries, 0 to 9999\n",
      "Data columns (total 14 columns):\n",
      " #   Column           Non-Null Count  Dtype  \n",
      "---  ------           --------------  -----  \n",
      " 0   RowNumber        10000 non-null  int64  \n",
      " 1   CustomerId       10000 non-null  int64  \n",
      " 2   Surname          10000 non-null  object \n",
      " 3   CreditScore      10000 non-null  int64  \n",
      " 4   Geography        10000 non-null  object \n",
      " 5   Gender           10000 non-null  object \n",
      " 6   Age              10000 non-null  int64  \n",
      " 7   Tenure           9091 non-null   float64\n",
      " 8   Balance          10000 non-null  float64\n",
      " 9   NumOfProducts    10000 non-null  int64  \n",
      " 10  HasCrCard        10000 non-null  int64  \n",
      " 11  IsActiveMember   10000 non-null  int64  \n",
      " 12  EstimatedSalary  10000 non-null  float64\n",
      " 13  Exited           10000 non-null  int64  \n",
      "dtypes: float64(3), int64(8), object(3)\n",
      "memory usage: 1.1+ MB\n"
     ]
    }
   ],
   "source": [
    "df.info()"
   ]
  },
  {
   "cell_type": "markdown",
   "metadata": {},
   "source": [
    "Первичное ознакомление с данными. В столбце Tenure пропущено 9% данных. Наиболее вероятной причиной является их отсутствие. Пропуски можно заменить средними значениями поскольку значения столбца могут находиться в ограниченном диапазоне значений. Также в признак в столбце Surname является категориальным, его нужно будет превратить в количественный"
   ]
  },
  {
   "cell_type": "code",
   "execution_count": 183,
   "metadata": {},
   "outputs": [
    {
     "name": "stdout",
     "output_type": "stream",
     "text": [
      "<class 'pandas.core.frame.DataFrame'>\n",
      "RangeIndex: 10000 entries, 0 to 9999\n",
      "Data columns (total 14 columns):\n",
      " #   Column           Non-Null Count  Dtype  \n",
      "---  ------           --------------  -----  \n",
      " 0   RowNumber        10000 non-null  int64  \n",
      " 1   CustomerId       10000 non-null  int64  \n",
      " 2   Surname          10000 non-null  object \n",
      " 3   CreditScore      10000 non-null  int64  \n",
      " 4   Geography        10000 non-null  object \n",
      " 5   Gender           10000 non-null  object \n",
      " 6   Age              10000 non-null  int64  \n",
      " 7   Tenure           10000 non-null  float64\n",
      " 8   Balance          10000 non-null  float64\n",
      " 9   NumOfProducts    10000 non-null  int64  \n",
      " 10  HasCrCard        10000 non-null  int64  \n",
      " 11  IsActiveMember   10000 non-null  int64  \n",
      " 12  EstimatedSalary  10000 non-null  float64\n",
      " 13  Exited           10000 non-null  int64  \n",
      "dtypes: float64(3), int64(8), object(3)\n",
      "memory usage: 1.1+ MB\n"
     ]
    }
   ],
   "source": [
    "df['Tenure'] = df['Tenure'].fillna(df['Tenure'].median())\n",
    "df.info()"
   ]
  },
  {
   "cell_type": "markdown",
   "metadata": {},
   "source": [
    "Пропущенные значения заменены средними"
   ]
  },
  {
   "cell_type": "code",
   "execution_count": 184,
   "metadata": {},
   "outputs": [
    {
     "data": {
      "text/plain": [
       "0    0.7963\n",
       "1    0.2037\n",
       "Name: Exited, dtype: float64"
      ]
     },
     "execution_count": 184,
     "metadata": {},
     "output_type": "execute_result"
    }
   ],
   "source": [
    "df['Exited'].value_counts(normalize=len(df['RowNumber']))"
   ]
  },
  {
   "cell_type": "markdown",
   "metadata": {},
   "source": [
    "Имеет место определенный дисбаланс классов. На каждого ушедшего клиента приходится четыре оставшихся"
   ]
  },
  {
   "cell_type": "code",
   "execution_count": 185,
   "metadata": {},
   "outputs": [
    {
     "data": {
      "text/plain": [
       "<AxesSubplot:>"
      ]
     },
     "execution_count": 185,
     "metadata": {},
     "output_type": "execute_result"
    },
    {
     "data": {
      "image/png": "[encoded data removed]",
      "text/plain": [
       "<Figure size 432x288 with 1 Axes>"
      ]
     },
     "metadata": {
      "needs_background": "light"
     },
     "output_type": "display_data"
    }
   ],
   "source": [
    "df['Exited'].value_counts(normalize=len(df['RowNumber'])).plot(kind='bar')"
   ]
  },
  {
   "cell_type": "markdown",
   "metadata": {},
   "source": [
    "## Исследование задачи"
   ]
  },
  {
   "cell_type": "code",
   "execution_count": 186,
   "metadata": {},
   "outputs": [],
   "source": [
    "features = df.drop(['RowNumber', 'Exited', 'Surname', 'CustomerId'], axis=1)\n",
    "target = df['Exited']"
   ]
  },
  {
   "cell_type": "markdown",
   "metadata": {},
   "source": [
    "Выделены признаки и целевой признак"
   ]
  },
  {
   "cell_type": "code",
   "execution_count": 187,
   "metadata": {},
   "outputs": [
    {
     "data": {
      "text/html": [
       "<div>\n",
       "<style scoped>\n",
       "    .dataframe tbody tr th:only-of-type {\n",
       "        vertical-align: middle;\n",
       "    }\n",
       "\n",
       "    .dataframe tbody tr th {\n",
       "        vertical-align: top;\n",
       "    }\n",
       "\n",
       "    .dataframe thead th {\n",
       "        text-align: right;\n",
       "    }\n",
       "</style>\n",
       "<table border=\"1\" class=\"dataframe\">\n",
       "  <thead>\n",
       "    <tr style=\"text-align: right;\">\n",
       "      <th></th>\n",
       "      <th>CreditScore</th>\n",
       "      <th>Geography</th>\n",
       "      <th>Gender</th>\n",
       "      <th>Age</th>\n",
       "      <th>Tenure</th>\n",
       "      <th>Balance</th>\n",
       "      <th>NumOfProducts</th>\n",
       "      <th>HasCrCard</th>\n",
       "      <th>IsActiveMember</th>\n",
       "      <th>EstimatedSalary</th>\n",
       "    </tr>\n",
       "  </thead>\n",
       "  <tbody>\n",
       "    <tr>\n",
       "      <th>0</th>\n",
       "      <td>619</td>\n",
       "      <td>France</td>\n",
       "      <td>Female</td>\n",
       "      <td>42</td>\n",
       "      <td>2.0</td>\n",
       "      <td>0.00</td>\n",
       "      <td>1</td>\n",
       "      <td>1</td>\n",
       "      <td>1</td>\n",
       "      <td>101348.88</td>\n",
       "    </tr>\n",
       "    <tr>\n",
       "      <th>1</th>\n",
       "      <td>608</td>\n",
       "      <td>Spain</td>\n",
       "      <td>Female</td>\n",
       "      <td>41</td>\n",
       "      <td>1.0</td>\n",
       "      <td>83807.86</td>\n",
       "      <td>1</td>\n",
       "      <td>0</td>\n",
       "      <td>1</td>\n",
       "      <td>112542.58</td>\n",
       "    </tr>\n",
       "    <tr>\n",
       "      <th>2</th>\n",
       "      <td>502</td>\n",
       "      <td>France</td>\n",
       "      <td>Female</td>\n",
       "      <td>42</td>\n",
       "      <td>8.0</td>\n",
       "      <td>159660.80</td>\n",
       "      <td>3</td>\n",
       "      <td>1</td>\n",
       "      <td>0</td>\n",
       "      <td>113931.57</td>\n",
       "    </tr>\n",
       "    <tr>\n",
       "      <th>3</th>\n",
       "      <td>699</td>\n",
       "      <td>France</td>\n",
       "      <td>Female</td>\n",
       "      <td>39</td>\n",
       "      <td>1.0</td>\n",
       "      <td>0.00</td>\n",
       "      <td>2</td>\n",
       "      <td>0</td>\n",
       "      <td>0</td>\n",
       "      <td>93826.63</td>\n",
       "    </tr>\n",
       "    <tr>\n",
       "      <th>4</th>\n",
       "      <td>850</td>\n",
       "      <td>Spain</td>\n",
       "      <td>Female</td>\n",
       "      <td>43</td>\n",
       "      <td>2.0</td>\n",
       "      <td>125510.82</td>\n",
       "      <td>1</td>\n",
       "      <td>1</td>\n",
       "      <td>1</td>\n",
       "      <td>79084.10</td>\n",
       "    </tr>\n",
       "  </tbody>\n",
       "</table>\n",
       "</div>"
      ],
      "text/plain": [
       "   CreditScore Geography  Gender  Age  Tenure    Balance  NumOfProducts  \\\n",
       "0          619    France  Female   42     2.0       0.00              1   \n",
       "1          608     Spain  Female   41     1.0   83807.86              1   \n",
       "2          502    France  Female   42     8.0  159660.80              3   \n",
       "3          699    France  Female   39     1.0       0.00              2   \n",
       "4          850     Spain  Female   43     2.0  125510.82              1   \n",
       "\n",
       "   HasCrCard  IsActiveMember  EstimatedSalary  \n",
       "0          1               1        101348.88  \n",
       "1          0               1        112542.58  \n",
       "2          1               0        113931.57  \n",
       "3          0               0         93826.63  \n",
       "4          1               1         79084.10  "
      ]
     },
     "execution_count": 187,
     "metadata": {},
     "output_type": "execute_result"
    }
   ],
   "source": [
    "features.head()"
   ]
  },
  {
   "cell_type": "code",
   "execution_count": 188,
   "metadata": {},
   "outputs": [
    {
     "data": {
      "text/html": [
       "<div>\n",
       "<style scoped>\n",
       "    .dataframe tbody tr th:only-of-type {\n",
       "        vertical-align: middle;\n",
       "    }\n",
       "\n",
       "    .dataframe tbody tr th {\n",
       "        vertical-align: top;\n",
       "    }\n",
       "\n",
       "    .dataframe thead th {\n",
       "        text-align: right;\n",
       "    }\n",
       "</style>\n",
       "<table border=\"1\" class=\"dataframe\">\n",
       "  <thead>\n",
       "    <tr style=\"text-align: right;\">\n",
       "      <th></th>\n",
       "      <th>CreditScore</th>\n",
       "      <th>Age</th>\n",
       "      <th>Tenure</th>\n",
       "      <th>Balance</th>\n",
       "      <th>NumOfProducts</th>\n",
       "      <th>HasCrCard</th>\n",
       "      <th>IsActiveMember</th>\n",
       "      <th>EstimatedSalary</th>\n",
       "      <th>Geography_Germany</th>\n",
       "      <th>Geography_Spain</th>\n",
       "      <th>Gender_Male</th>\n",
       "    </tr>\n",
       "  </thead>\n",
       "  <tbody>\n",
       "    <tr>\n",
       "      <th>0</th>\n",
       "      <td>619</td>\n",
       "      <td>42</td>\n",
       "      <td>2.0</td>\n",
       "      <td>0.00</td>\n",
       "      <td>1</td>\n",
       "      <td>1</td>\n",
       "      <td>1</td>\n",
       "      <td>101348.88</td>\n",
       "      <td>0</td>\n",
       "      <td>0</td>\n",
       "      <td>0</td>\n",
       "    </tr>\n",
       "    <tr>\n",
       "      <th>1</th>\n",
       "      <td>608</td>\n",
       "      <td>41</td>\n",
       "      <td>1.0</td>\n",
       "      <td>83807.86</td>\n",
       "      <td>1</td>\n",
       "      <td>0</td>\n",
       "      <td>1</td>\n",
       "      <td>112542.58</td>\n",
       "      <td>0</td>\n",
       "      <td>1</td>\n",
       "      <td>0</td>\n",
       "    </tr>\n",
       "    <tr>\n",
       "      <th>2</th>\n",
       "      <td>502</td>\n",
       "      <td>42</td>\n",
       "      <td>8.0</td>\n",
       "      <td>159660.80</td>\n",
       "      <td>3</td>\n",
       "      <td>1</td>\n",
       "      <td>0</td>\n",
       "      <td>113931.57</td>\n",
       "      <td>0</td>\n",
       "      <td>0</td>\n",
       "      <td>0</td>\n",
       "    </tr>\n",
       "    <tr>\n",
       "      <th>3</th>\n",
       "      <td>699</td>\n",
       "      <td>39</td>\n",
       "      <td>1.0</td>\n",
       "      <td>0.00</td>\n",
       "      <td>2</td>\n",
       "      <td>0</td>\n",
       "      <td>0</td>\n",
       "      <td>93826.63</td>\n",
       "      <td>0</td>\n",
       "      <td>0</td>\n",
       "      <td>0</td>\n",
       "    </tr>\n",
       "    <tr>\n",
       "      <th>4</th>\n",
       "      <td>850</td>\n",
       "      <td>43</td>\n",
       "      <td>2.0</td>\n",
       "      <td>125510.82</td>\n",
       "      <td>1</td>\n",
       "      <td>1</td>\n",
       "      <td>1</td>\n",
       "      <td>79084.10</td>\n",
       "      <td>0</td>\n",
       "      <td>1</td>\n",
       "      <td>0</td>\n",
       "    </tr>\n",
       "  </tbody>\n",
       "</table>\n",
       "</div>"
      ],
      "text/plain": [
       "   CreditScore  Age  Tenure    Balance  NumOfProducts  HasCrCard  \\\n",
       "0          619   42     2.0       0.00              1          1   \n",
       "1          608   41     1.0   83807.86              1          0   \n",
       "2          502   42     8.0  159660.80              3          1   \n",
       "3          699   39     1.0       0.00              2          0   \n",
       "4          850   43     2.0  125510.82              1          1   \n",
       "\n",
       "   IsActiveMember  EstimatedSalary  Geography_Germany  Geography_Spain  \\\n",
       "0               1        101348.88                  0                0   \n",
       "1               1        112542.58                  0                1   \n",
       "2               0        113931.57                  0                0   \n",
       "3               0         93826.63                  0                0   \n",
       "4               1         79084.10                  0                1   \n",
       "\n",
       "   Gender_Male  \n",
       "0            0  \n",
       "1            0  \n",
       "2            0  \n",
       "3            0  \n",
       "4            0  "
      ]
     },
     "execution_count": 188,
     "metadata": {},
     "output_type": "execute_result"
    }
   ],
   "source": [
    "features = pd.get_dummies(features, drop_first=True)\n",
    "features.head()"
   ]
  },
  {
   "cell_type": "code",
   "execution_count": 189,
   "metadata": {},
   "outputs": [
    {
     "data": {
      "text/plain": [
       "(10000, 11)"
      ]
     },
     "execution_count": 189,
     "metadata": {},
     "output_type": "execute_result"
    }
   ],
   "source": [
    "features.shape"
   ]
  },
  {
   "cell_type": "markdown",
   "metadata": {},
   "source": [
    "Категориальные признаки преобразованы в количественные методом One Hot Encoding"
   ]
  },
  {
   "cell_type": "code",
   "execution_count": 190,
   "metadata": {},
   "outputs": [
    {
     "data": {
      "text/plain": [
       "(6000, 11)"
      ]
     },
     "execution_count": 190,
     "metadata": {},
     "output_type": "execute_result"
    }
   ],
   "source": [
    "features_train, features_valid, target_train, target_valid = train_test_split(features, target, test_size=0.4, random_state=12345)\n",
    "features_train.shape"
   ]
  },
  {
   "cell_type": "markdown",
   "metadata": {},
   "source": [
    "Создана тестовая выборка в рекомендованном размере - 60% общей"
   ]
  },
  {
   "cell_type": "code",
   "execution_count": 191,
   "metadata": {},
   "outputs": [
    {
     "data": {
      "text/plain": [
       "(2000, 11)"
      ]
     },
     "execution_count": 191,
     "metadata": {},
     "output_type": "execute_result"
    }
   ],
   "source": [
    "features_test, features_valid, target_test, target_valid = train_test_split(features_valid, target_valid, test_size=0.5, random_state=12345)\n",
    "features_valid.shape"
   ]
  },
  {
   "cell_type": "markdown",
   "metadata": {},
   "source": [
    "Создана валидационная выборка в рекомендованном размере - 20% общей"
   ]
  },
  {
   "cell_type": "code",
   "execution_count": 192,
   "metadata": {},
   "outputs": [
    {
     "data": {
      "text/plain": [
       "(2000, 11)"
      ]
     },
     "execution_count": 192,
     "metadata": {},
     "output_type": "execute_result"
    }
   ],
   "source": [
    "features_test.shape"
   ]
  },
  {
   "cell_type": "markdown",
   "metadata": {},
   "source": [
    "Создана тестовая выборка в рекомендованном размере - 20% общей"
   ]
  },
  {
   "cell_type": "code",
   "execution_count": 193,
   "metadata": {},
   "outputs": [
    {
     "name": "stdout",
     "output_type": "stream",
     "text": [
      "Максимальный показатель f1 в 0.5359877488514548 достигается при глубине дерева 6\n",
      "Показатель auc roc = 0.6682669460971921\n"
     ]
    }
   ],
   "source": [
    "best_tree = 0\n",
    "best_depth = 0\n",
    "for depth in range(1,51):\n",
    "    model = DecisionTreeClassifier(random_state=12345, max_depth=depth)\n",
    "    model.fit(features_train, target_train)\n",
    "    predictions_valid = model.predict(features_valid)\n",
    "    result = f1_score(target_valid, predictions_valid)\n",
    "    if result > best_tree:\n",
    "        best_tree = result\n",
    "        best_depth = depth\n",
    "print('Максимальный показатель f1 в', best_tree, 'достигается при глубине дерева', best_depth)\n",
    "probabilities_valid = model.predict_proba(features_valid)\n",
    "probabilities_one_valid = probabilities_valid[:,1]\n",
    "print('Показатель auc roc =', roc_auc_score(target_valid, probabilities_one_valid))"
   ]
  },
  {
   "cell_type": "markdown",
   "metadata": {},
   "source": [
    "Максимально достижимый показатель для дерева решений составляет 0.53"
   ]
  },
  {
   "cell_type": "code",
   "execution_count": 194,
   "metadata": {},
   "outputs": [
    {
     "name": "stdout",
     "output_type": "stream",
     "text": [
      "Максимальный показатель f1 в 0.5625 достигается при глубине дерева 89\n",
      "Показатель auc roc = 0.8490228176610886\n"
     ]
    }
   ],
   "source": [
    "best_forest = 0\n",
    "for est in range(1, 91):\n",
    "    model = RandomForestClassifier(random_state=12345, n_estimators=est)\n",
    "    model.fit(features_train, target_train)\n",
    "    predictions_valid = model.predict(features_valid)\n",
    "    result = f1_score(target_valid, predictions_valid)\n",
    "    if result > best_forest:\n",
    "        best_forest = result\n",
    "        best_est = est\n",
    "print('Максимальный показатель f1 в', best_forest, 'достигается при глубине дерева', best_est)\n",
    "probabilities_valid = model.predict_proba(features_valid)\n",
    "probabilities_one_valid = probabilities_valid[:,1]\n",
    "print('Показатель auc roc =', roc_auc_score(target_valid, probabilities_one_valid))"
   ]
  },
  {
   "cell_type": "markdown",
   "metadata": {},
   "source": [
    "Максимально достижимый показатель для случайного леса составляет 0.56 Обучение проводилось в \n",
    "диапазоне (1, 301), который по получении результата был заменен на (1, 91) для ускорения выполнения\n",
    "кода "
   ]
  },
  {
   "cell_type": "code",
   "execution_count": 195,
   "metadata": {},
   "outputs": [
    {
     "name": "stdout",
     "output_type": "stream",
     "text": [
      "Показатель f1 0.13441955193482688\n",
      "Показатель auc roc = 0.6407713721627831\n"
     ]
    }
   ],
   "source": [
    "model = LogisticRegression(random_state=12345, solver='liblinear')\n",
    "model.fit(features_train, target_train)\n",
    "predictions_valid = model.predict(features_valid)\n",
    "regression = f1_score(target_valid, predictions_valid)\n",
    "print('Показатель f1', regression)\n",
    "probabilities_valid = model.predict_proba(features_valid)\n",
    "probabilities_one_valid = probabilities_valid[:,1]\n",
    "print('Показатель auc roc =', roc_auc_score(target_valid, probabilities_one_valid))"
   ]
  },
  {
   "cell_type": "markdown",
   "metadata": {},
   "source": [
    "Логистическая регрессия дает существенно худший результат, f1 составляет всего 0.13 Следующим шагом будут применены различные способы борьбы с дисбалансом классов для достижения целевого показателя f1 в 0.59"
   ]
  },
  {
   "cell_type": "markdown",
   "metadata": {},
   "source": [
    "## Борьба с дисбалансом"
   ]
  },
  {
   "cell_type": "code",
   "execution_count": 196,
   "metadata": {},
   "outputs": [
    {
     "name": "stdout",
     "output_type": "stream",
     "text": [
      "Показатель f1 0.42834394904458606\n",
      "Показатель auc roc = 0.6856646443931755\n"
     ]
    }
   ],
   "source": [
    "model = LogisticRegression(random_state=12345, solver='liblinear', class_weight='balanced')\n",
    "model.fit(features_train, target_train)\n",
    "predictions_valid = model.predict(features_valid)\n",
    "regression_balanced = f1_score(target_valid, predictions_valid)\n",
    "print('Показатель f1', regression_balanced)\n",
    "probabilities_valid = model.predict_proba(features_valid)\n",
    "probabilities_one_valid = probabilities_valid[:,1]\n",
    "print('Показатель auc roc =', roc_auc_score(target_valid, probabilities_one_valid))"
   ]
  },
  {
   "cell_type": "markdown",
   "metadata": {},
   "source": [
    "Для логистической регрессии взвешивание классов привело к существенному росту как f1, так и auc roc. Тем не менее f1 по-прежнему ниже целевого значения"
   ]
  },
  {
   "cell_type": "code",
   "execution_count": 197,
   "metadata": {},
   "outputs": [
    {
     "name": "stdout",
     "output_type": "stream",
     "text": [
      "Максимальный показатель f1 в 0.5382262996941896 достигается при глубине дерева 83\n",
      "Показатель auc roc = 0.8537561968666004\n"
     ]
    }
   ],
   "source": [
    "best_forest_balanced = 0\n",
    "for est in range(1, 91):\n",
    "    model = RandomForestClassifier(random_state=12345, n_estimators=est, class_weight='balanced')\n",
    "    model.fit(features_train, target_train)\n",
    "    predictions_valid = model.predict(features_valid)\n",
    "    result = f1_score(target_valid, predictions_valid)\n",
    "    if result > best_forest_balanced:\n",
    "        best_forest_balanced = result\n",
    "        best_est = est\n",
    "print('Максимальный показатель f1 в', best_forest_balanced, 'достигается при глубине дерева', best_est)\n",
    "probabilities_valid = model.predict_proba(features_valid)\n",
    "probabilities_one_valid = probabilities_valid[:,1]\n",
    "print('Показатель auc roc =', roc_auc_score(target_valid, probabilities_one_valid))"
   ]
  },
  {
   "cell_type": "markdown",
   "metadata": {},
   "source": [
    "Максимально достижимый показатель для случайного леса составляет 0.53 Взвешивание классов привело к \n",
    "уменьшению показателя. Обучение проводилось в диапазоне (1, 501), который по получении результата был \n",
    "заменен на (1, 91) для ускорения выполнения кода. "
   ]
  },
  {
   "cell_type": "code",
   "execution_count": 198,
   "metadata": {},
   "outputs": [
    {
     "name": "stdout",
     "output_type": "stream",
     "text": [
      "Максимальный показатель f1 в 0.5809128630705395 достигается при глубине дерева 5\n",
      "Показатель auc roc = 0.7510377456072892\n"
     ]
    }
   ],
   "source": [
    "best_tree_balanced = 0\n",
    "best_depth_balanced = 0\n",
    "for depth in range(1,11):\n",
    "    model = DecisionTreeClassifier(random_state=12345, max_depth=depth, class_weight='balanced')\n",
    "    model.fit(features_train, target_train)\n",
    "    predictions_valid = model.predict(features_valid)\n",
    "    result = f1_score(target_valid, predictions_valid)\n",
    "    if result > best_tree_balanced:\n",
    "        best_tree_balanced = result\n",
    "        best_depth_balanced = depth\n",
    "print('Максимальный показатель f1 в', best_tree_balanced, 'достигается при глубине дерева', best_depth_balanced)\n",
    "probabilities_valid = model.predict_proba(features_valid)\n",
    "probabilities_one_valid = probabilities_valid[:,1]\n",
    "print('Показатель auc roc =', roc_auc_score(target_valid, probabilities_one_valid))"
   ]
  },
  {
   "cell_type": "markdown",
   "metadata": {},
   "source": []
  },
  {
   "cell_type": "markdown",
   "metadata": {},
   "source": [
    "Обучение проводилось в диапазоне (1, 101), который по получении результата был заменен на (1, 11) для ускорения выполнения кода. Включение взвешивания классов для дерева решений ведет к росту f1 до 0.58. При этом показатель auc roc не меняется. Следующим методом борьбы с дисбалансом классов будет увеличение выборки"
   ]
  },
  {
   "cell_type": "code",
   "execution_count": 199,
   "metadata": {},
   "outputs": [],
   "source": [
    "def upsample (features, target, repeat):\n",
    "    features_zeros = features[target==0]\n",
    "    features_ones = features[target==1]\n",
    "    target_zeros = target[target==0]\n",
    "    target_ones = target[target==1]\n",
    "    features_upsampled = pd.concat([features_zeros] + [features_ones] * repeat)\n",
    "    target_upsampled = pd.concat([target_zeros] + [target_ones] * repeat)\n",
    "    features_upsampled, target_upsampled = shuffle(features_upsampled, target_upsampled, random_state=12345)\n",
    "    return features_upsampled, target_upsampled\n",
    "features_upsampled, target_upsampled = upsample(features_train, target_train, 4)"
   ]
  },
  {
   "cell_type": "code",
   "execution_count": 200,
   "metadata": {},
   "outputs": [
    {
     "name": "stdout",
     "output_type": "stream",
     "text": [
      "Максимальный показатель f1 в 0.5809128630705395 достигается при глубине дерева 5\n",
      "Показатель auc roc = 0.7509635406126184\n"
     ]
    }
   ],
   "source": [
    "best_tree_upsampled = 0\n",
    "best_depth_upsampled = 0\n",
    "for depth in range(1,11):\n",
    "    model = DecisionTreeClassifier(random_state=12345, max_depth=depth, class_weight='balanced')\n",
    "    model.fit(features_upsampled, target_upsampled)\n",
    "    predictions_valid = model.predict(features_valid)\n",
    "    result = f1_score(target_valid, predictions_valid)\n",
    "    if result > best_tree_upsampled:\n",
    "        best_tree_upsampled = result\n",
    "        best_depth_upsampled = depth\n",
    "print('Максимальный показатель f1 в', best_tree_upsampled, 'достигается при глубине дерева', best_depth_upsampled)\n",
    "probabilities_valid = model.predict_proba(features_valid)\n",
    "probabilities_one_valid = probabilities_valid[:,1]\n",
    "print('Показатель auc roc =', roc_auc_score(target_valid, probabilities_one_valid))"
   ]
  },
  {
   "cell_type": "code",
   "execution_count": 201,
   "metadata": {},
   "outputs": [
    {
     "data": {
      "text/plain": [
       "0.0"
      ]
     },
     "metadata": {},
     "output_type": "display_data"
    }
   ],
   "source": [
    "display(best_tree_balanced-best_tree_upsampled)"
   ]
  },
  {
   "cell_type": "markdown",
   "metadata": {},
   "source": [
    "Дерево решений с увеличением выборки меньшего класса в 4 раза (соотношение ~50/50) не меняет показатели f1 и auc roc. Применим аналогичный подход к случайному лесу"
   ]
  },
  {
   "cell_type": "code",
   "execution_count": 202,
   "metadata": {},
   "outputs": [
    {
     "name": "stdout",
     "output_type": "stream",
     "text": [
      "Максимальный показатель f1 в 0.5885416666666666 достигается при глубине дерева 81\n",
      "Показатель auc roc = 0.8471796855207318\n"
     ]
    }
   ],
   "source": [
    "best_forest_upsampled = 0\n",
    "for est in range(1, 101):\n",
    "    model = RandomForestClassifier(random_state=12345, n_estimators=est, class_weight='balanced')\n",
    "    model.fit(features_upsampled, target_upsampled)\n",
    "    predictions_valid = model.predict(features_valid)\n",
    "    result = f1_score(target_valid, predictions_valid)\n",
    "    if result > best_forest_upsampled:\n",
    "        best_forest_upsampled = result\n",
    "        best_est = est\n",
    "print('Максимальный показатель f1 в', best_forest_upsampled, 'достигается при глубине дерева', best_est)\n",
    "probabilities_valid = model.predict_proba(features_valid)\n",
    "probabilities_one_valid = probabilities_valid[:,1]\n",
    "print('Показатель auc roc =', roc_auc_score(target_valid, probabilities_one_valid))"
   ]
  },
  {
   "cell_type": "markdown",
   "metadata": {},
   "source": [
    "Случайный лес со взвешиванием классом и коэффициентом upsampling 4 дает наилучший показатель f1 в 0.588 среди всех использованных вариантов. Эта модель будет применена к тестовой выборке"
   ]
  },
  {
   "cell_type": "markdown",
   "metadata": {},
   "source": [
    "## Тестирование модели"
   ]
  },
  {
   "cell_type": "code",
   "execution_count": 203,
   "metadata": {},
   "outputs": [
    {
     "name": "stdout",
     "output_type": "stream",
     "text": [
      "Максимальный показатель f1 в 0.6025316455696201\n",
      "Показатель auc roc = 0.8279205656942034\n"
     ]
    }
   ],
   "source": [
    "model = RandomForestClassifier(random_state=12345, n_estimators=15, class_weight='balanced')\n",
    "model.fit(features_upsampled, target_upsampled)\n",
    "predictions_test = model.predict(features_test)\n",
    "result = f1_score(target_test, predictions_test)\n",
    "print('Максимальный показатель f1 в', result)\n",
    "probabilities_test = model.predict_proba(features_test)\n",
    "probabilities_one_test = probabilities_test[:,1]\n",
    "print('Показатель auc roc =', roc_auc_score(target_test, probabilities_one_test))"
   ]
  },
  {
   "cell_type": "markdown",
   "metadata": {},
   "source": [
    "Целевой показатель f1 в 0.59 на выбранной модели достигнут и превышен "
   ]
  }
 ],
 "metadata": {
  "ExecuteTimeLog": [
   {
    "duration": 922,
    "start_time": "2022-06-08T11:26:31.372Z"
   },
   {
    "duration": 154,
    "start_time": "2022-06-08T11:28:43.390Z"
   },
   {
    "duration": 42,
    "start_time": "2022-06-08T11:28:56.033Z"
   },
   {
    "duration": 50,
    "start_time": "2022-06-14T12:51:49.707Z"
   },
   {
    "duration": 1050,
    "start_time": "2022-06-14T12:51:55.716Z"
   },
   {
    "duration": 100,
    "start_time": "2022-06-14T12:51:56.768Z"
   },
   {
    "duration": 13,
    "start_time": "2022-06-14T12:51:56.869Z"
   },
   {
    "duration": 47,
    "start_time": "2022-06-14T12:51:56.884Z"
   },
   {
    "duration": 61,
    "start_time": "2022-06-14T13:10:18.311Z"
   },
   {
    "duration": 3,
    "start_time": "2022-06-14T13:10:32.027Z"
   },
   {
    "duration": 56,
    "start_time": "2022-06-14T13:10:32.055Z"
   },
   {
    "duration": 12,
    "start_time": "2022-06-14T13:10:32.113Z"
   },
   {
    "duration": 30,
    "start_time": "2022-06-14T13:10:32.137Z"
   },
   {
    "duration": 4,
    "start_time": "2022-06-14T13:10:53.489Z"
   },
   {
    "duration": 14,
    "start_time": "2022-06-14T13:11:18.775Z"
   },
   {
    "duration": 6,
    "start_time": "2022-06-14T15:08:29.684Z"
   },
   {
    "duration": 49,
    "start_time": "2022-06-14T15:12:15.170Z"
   },
   {
    "duration": 16,
    "start_time": "2022-06-14T15:12:21.240Z"
   },
   {
    "duration": 18,
    "start_time": "2022-06-14T15:12:43.763Z"
   },
   {
    "duration": 7,
    "start_time": "2022-06-14T15:12:50.159Z"
   },
   {
    "duration": 5,
    "start_time": "2022-06-14T15:19:55.040Z"
   },
   {
    "duration": 5,
    "start_time": "2022-06-14T15:21:07.351Z"
   },
   {
    "duration": 6,
    "start_time": "2022-06-14T15:38:37.125Z"
   },
   {
    "duration": 9,
    "start_time": "2022-06-14T15:50:57.272Z"
   },
   {
    "duration": 2,
    "start_time": "2022-06-14T15:51:17.731Z"
   },
   {
    "duration": 12,
    "start_time": "2022-06-14T15:53:14.759Z"
   },
   {
    "duration": 27,
    "start_time": "2022-06-14T15:53:23.262Z"
   },
   {
    "duration": 215,
    "start_time": "2022-06-14T16:49:05.215Z"
   },
   {
    "duration": 84,
    "start_time": "2022-06-14T16:49:18.429Z"
   },
   {
    "duration": 44,
    "start_time": "2022-06-14T16:49:41.178Z"
   },
   {
    "duration": 18,
    "start_time": "2022-06-14T16:51:20.930Z"
   },
   {
    "duration": 3,
    "start_time": "2022-06-14T16:51:24.054Z"
   },
   {
    "duration": 44,
    "start_time": "2022-06-14T16:51:24.073Z"
   },
   {
    "duration": 14,
    "start_time": "2022-06-14T16:51:24.119Z"
   },
   {
    "duration": 13,
    "start_time": "2022-06-14T16:51:24.135Z"
   },
   {
    "duration": 6,
    "start_time": "2022-06-14T16:51:24.191Z"
   },
   {
    "duration": 205,
    "start_time": "2022-06-14T16:51:24.253Z"
   },
   {
    "duration": 37,
    "start_time": "2022-06-14T16:51:24.460Z"
   },
   {
    "duration": 74,
    "start_time": "2022-06-14T16:51:24.499Z"
   },
   {
    "duration": 396,
    "start_time": "2022-06-14T16:51:24.575Z"
   },
   {
    "duration": 441,
    "start_time": "2022-06-14T16:53:10.493Z"
   },
   {
    "duration": 3,
    "start_time": "2022-06-14T16:57:09.847Z"
   },
   {
    "duration": 438,
    "start_time": "2022-06-14T16:58:18.534Z"
   },
   {
    "duration": 463,
    "start_time": "2022-06-14T16:58:24.995Z"
   },
   {
    "duration": 490,
    "start_time": "2022-06-14T16:58:29.893Z"
   },
   {
    "duration": 3,
    "start_time": "2022-06-14T16:58:38.983Z"
   },
   {
    "duration": 45,
    "start_time": "2022-06-14T16:58:39.009Z"
   },
   {
    "duration": 13,
    "start_time": "2022-06-14T16:58:39.056Z"
   },
   {
    "duration": 15,
    "start_time": "2022-06-14T16:58:39.071Z"
   },
   {
    "duration": 5,
    "start_time": "2022-06-14T16:58:39.087Z"
   },
   {
    "duration": 240,
    "start_time": "2022-06-14T16:58:39.094Z"
   },
   {
    "duration": 51,
    "start_time": "2022-06-14T16:58:39.336Z"
   },
   {
    "duration": 66,
    "start_time": "2022-06-14T16:58:39.389Z"
   },
   {
    "duration": 460,
    "start_time": "2022-06-14T16:58:39.456Z"
   },
   {
    "duration": 14,
    "start_time": "2022-06-14T17:00:09.447Z"
   },
   {
    "duration": 3,
    "start_time": "2022-06-14T17:00:19.924Z"
   },
   {
    "duration": 46,
    "start_time": "2022-06-14T17:00:19.946Z"
   },
   {
    "duration": 14,
    "start_time": "2022-06-14T17:00:19.994Z"
   },
   {
    "duration": 23,
    "start_time": "2022-06-14T17:00:20.010Z"
   },
   {
    "duration": 9,
    "start_time": "2022-06-14T17:00:20.035Z"
   },
   {
    "duration": 38,
    "start_time": "2022-06-14T17:00:20.047Z"
   },
   {
    "duration": 35,
    "start_time": "2022-06-14T17:00:20.087Z"
   },
   {
    "duration": 44,
    "start_time": "2022-06-14T17:00:20.123Z"
   },
   {
    "duration": 5,
    "start_time": "2022-06-14T17:03:29.649Z"
   },
   {
    "duration": 3,
    "start_time": "2022-06-14T17:03:58.802Z"
   },
   {
    "duration": 57,
    "start_time": "2022-06-14T17:03:58.817Z"
   },
   {
    "duration": 13,
    "start_time": "2022-06-14T17:03:58.876Z"
   },
   {
    "duration": 34,
    "start_time": "2022-06-14T17:03:58.890Z"
   },
   {
    "duration": 12,
    "start_time": "2022-06-14T17:03:58.926Z"
   },
   {
    "duration": 16,
    "start_time": "2022-06-14T17:03:58.940Z"
   },
   {
    "duration": 31,
    "start_time": "2022-06-14T17:03:58.958Z"
   },
   {
    "duration": 27,
    "start_time": "2022-06-14T17:03:58.991Z"
   },
   {
    "duration": 205,
    "start_time": "2022-06-14T17:04:35.014Z"
   },
   {
    "duration": 62,
    "start_time": "2022-06-14T17:04:43.711Z"
   },
   {
    "duration": 4,
    "start_time": "2022-06-14T17:04:50.149Z"
   },
   {
    "duration": 50,
    "start_time": "2022-06-14T17:04:50.165Z"
   },
   {
    "duration": 12,
    "start_time": "2022-06-14T17:04:50.217Z"
   },
   {
    "duration": 14,
    "start_time": "2022-06-14T17:04:50.231Z"
   },
   {
    "duration": 9,
    "start_time": "2022-06-14T17:04:50.247Z"
   },
   {
    "duration": 6,
    "start_time": "2022-06-14T17:04:50.258Z"
   },
   {
    "duration": 217,
    "start_time": "2022-06-14T17:04:50.266Z"
   },
   {
    "duration": 8,
    "start_time": "2022-06-14T17:04:50.485Z"
   },
   {
    "duration": 26,
    "start_time": "2022-06-14T17:04:50.495Z"
   },
   {
    "duration": 3,
    "start_time": "2022-06-14T17:06:12.745Z"
   },
   {
    "duration": 45,
    "start_time": "2022-06-14T17:06:12.779Z"
   },
   {
    "duration": 12,
    "start_time": "2022-06-14T17:06:12.826Z"
   },
   {
    "duration": 12,
    "start_time": "2022-06-14T17:06:12.839Z"
   },
   {
    "duration": 6,
    "start_time": "2022-06-14T17:06:12.852Z"
   },
   {
    "duration": 7,
    "start_time": "2022-06-14T17:06:12.860Z"
   },
   {
    "duration": 199,
    "start_time": "2022-06-14T17:06:12.868Z"
   },
   {
    "duration": 7,
    "start_time": "2022-06-14T17:06:13.069Z"
   },
   {
    "duration": 20,
    "start_time": "2022-06-14T17:06:13.077Z"
   },
   {
    "duration": 21,
    "start_time": "2022-06-14T17:06:57.268Z"
   },
   {
    "duration": 10,
    "start_time": "2022-06-14T17:08:01.966Z"
   },
   {
    "duration": 12,
    "start_time": "2022-06-14T17:10:22.158Z"
   },
   {
    "duration": 3,
    "start_time": "2022-06-14T17:11:00.855Z"
   },
   {
    "duration": 75,
    "start_time": "2022-06-14T17:11:00.866Z"
   },
   {
    "duration": 11,
    "start_time": "2022-06-14T17:11:00.943Z"
   },
   {
    "duration": 30,
    "start_time": "2022-06-14T17:11:00.955Z"
   },
   {
    "duration": 13,
    "start_time": "2022-06-14T17:11:00.987Z"
   },
   {
    "duration": 33,
    "start_time": "2022-06-14T17:11:01.002Z"
   },
   {
    "duration": 234,
    "start_time": "2022-06-14T17:11:01.037Z"
   },
   {
    "duration": 18,
    "start_time": "2022-06-14T17:11:01.273Z"
   },
   {
    "duration": 25,
    "start_time": "2022-06-14T17:11:01.293Z"
   },
   {
    "duration": 38,
    "start_time": "2022-06-14T17:11:01.319Z"
   },
   {
    "duration": 19,
    "start_time": "2022-06-14T17:11:25.692Z"
   },
   {
    "duration": 11,
    "start_time": "2022-06-14T17:13:31.241Z"
   },
   {
    "duration": 13,
    "start_time": "2022-06-14T17:14:20.903Z"
   },
   {
    "duration": 3,
    "start_time": "2022-06-14T17:14:29.052Z"
   },
   {
    "duration": 48,
    "start_time": "2022-06-14T17:14:29.060Z"
   },
   {
    "duration": 13,
    "start_time": "2022-06-14T17:14:29.109Z"
   },
   {
    "duration": 13,
    "start_time": "2022-06-14T17:14:29.123Z"
   },
   {
    "duration": 17,
    "start_time": "2022-06-14T17:14:29.139Z"
   },
   {
    "duration": 11,
    "start_time": "2022-06-14T17:14:29.158Z"
   },
   {
    "duration": 14,
    "start_time": "2022-06-14T17:14:29.170Z"
   },
   {
    "duration": 226,
    "start_time": "2022-06-14T17:14:29.186Z"
   },
   {
    "duration": 20,
    "start_time": "2022-06-14T17:14:29.414Z"
   },
   {
    "duration": 8,
    "start_time": "2022-06-14T17:14:29.453Z"
   },
   {
    "duration": 21,
    "start_time": "2022-06-14T17:14:29.463Z"
   },
   {
    "duration": 12,
    "start_time": "2022-06-14T17:18:48.792Z"
   },
   {
    "duration": 9,
    "start_time": "2022-06-14T17:18:59.363Z"
   },
   {
    "duration": 5,
    "start_time": "2022-06-14T17:19:34.682Z"
   },
   {
    "duration": 6,
    "start_time": "2022-06-14T17:20:00.242Z"
   },
   {
    "duration": 32,
    "start_time": "2022-06-14T17:20:03.776Z"
   },
   {
    "duration": 8,
    "start_time": "2022-06-14T18:23:15.118Z"
   },
   {
    "duration": 69,
    "start_time": "2022-06-14T18:23:21.157Z"
   },
   {
    "duration": 13,
    "start_time": "2022-06-14T18:23:30.256Z"
   },
   {
    "duration": 5,
    "start_time": "2022-06-14T18:23:53.918Z"
   },
   {
    "duration": 62,
    "start_time": "2022-06-14T18:23:53.925Z"
   },
   {
    "duration": 13,
    "start_time": "2022-06-14T18:23:53.989Z"
   },
   {
    "duration": 13,
    "start_time": "2022-06-14T18:23:54.004Z"
   },
   {
    "duration": 8,
    "start_time": "2022-06-14T18:23:54.018Z"
   },
   {
    "duration": 234,
    "start_time": "2022-06-14T18:23:54.028Z"
   },
   {
    "duration": 13,
    "start_time": "2022-06-14T18:23:54.264Z"
   },
   {
    "duration": 0,
    "start_time": "2022-06-14T18:23:54.280Z"
   },
   {
    "duration": 0,
    "start_time": "2022-06-14T18:23:54.281Z"
   },
   {
    "duration": 0,
    "start_time": "2022-06-14T18:23:54.282Z"
   },
   {
    "duration": 0,
    "start_time": "2022-06-14T18:23:54.284Z"
   },
   {
    "duration": 0,
    "start_time": "2022-06-14T18:23:54.285Z"
   },
   {
    "duration": 16,
    "start_time": "2022-06-14T18:24:09.959Z"
   },
   {
    "duration": 16,
    "start_time": "2022-06-14T18:24:12.931Z"
   },
   {
    "duration": 4,
    "start_time": "2022-06-14T18:24:16.461Z"
   },
   {
    "duration": 44,
    "start_time": "2022-06-14T18:24:16.472Z"
   },
   {
    "duration": 12,
    "start_time": "2022-06-14T18:24:16.519Z"
   },
   {
    "duration": 20,
    "start_time": "2022-06-14T18:24:16.533Z"
   },
   {
    "duration": 6,
    "start_time": "2022-06-14T18:24:16.556Z"
   },
   {
    "duration": 8,
    "start_time": "2022-06-14T18:24:16.564Z"
   },
   {
    "duration": 13,
    "start_time": "2022-06-14T18:24:16.574Z"
   },
   {
    "duration": 14,
    "start_time": "2022-06-14T18:24:16.589Z"
   },
   {
    "duration": 8,
    "start_time": "2022-06-14T18:24:16.605Z"
   },
   {
    "duration": 39,
    "start_time": "2022-06-14T18:24:16.614Z"
   },
   {
    "duration": 33,
    "start_time": "2022-06-14T18:24:16.655Z"
   },
   {
    "duration": 4,
    "start_time": "2022-06-14T18:26:01.388Z"
   },
   {
    "duration": 55,
    "start_time": "2022-06-14T18:26:01.401Z"
   },
   {
    "duration": 13,
    "start_time": "2022-06-14T18:26:01.459Z"
   },
   {
    "duration": 16,
    "start_time": "2022-06-14T18:26:01.474Z"
   },
   {
    "duration": 28,
    "start_time": "2022-06-14T18:26:01.492Z"
   },
   {
    "duration": 26,
    "start_time": "2022-06-14T18:26:01.522Z"
   },
   {
    "duration": 26,
    "start_time": "2022-06-14T18:26:01.550Z"
   },
   {
    "duration": 47,
    "start_time": "2022-06-14T18:26:01.578Z"
   },
   {
    "duration": 10,
    "start_time": "2022-06-14T18:26:01.627Z"
   },
   {
    "duration": 21,
    "start_time": "2022-06-14T18:26:01.639Z"
   },
   {
    "duration": 45,
    "start_time": "2022-06-14T18:26:01.661Z"
   },
   {
    "duration": 16,
    "start_time": "2022-06-14T18:30:22.054Z"
   },
   {
    "duration": 9,
    "start_time": "2022-06-14T18:37:23.155Z"
   },
   {
    "duration": 36,
    "start_time": "2022-06-14T18:39:44.082Z"
   },
   {
    "duration": 4,
    "start_time": "2022-06-14T18:40:05.732Z"
   },
   {
    "duration": 44,
    "start_time": "2022-06-14T18:40:05.748Z"
   },
   {
    "duration": 12,
    "start_time": "2022-06-14T18:40:05.794Z"
   },
   {
    "duration": 13,
    "start_time": "2022-06-14T18:40:05.808Z"
   },
   {
    "duration": 5,
    "start_time": "2022-06-14T18:40:05.823Z"
   },
   {
    "duration": 22,
    "start_time": "2022-06-14T18:40:05.830Z"
   },
   {
    "duration": 18,
    "start_time": "2022-06-14T18:40:05.854Z"
   },
   {
    "duration": 23,
    "start_time": "2022-06-14T18:40:05.874Z"
   },
   {
    "duration": 5,
    "start_time": "2022-06-14T18:40:05.899Z"
   },
   {
    "duration": 19,
    "start_time": "2022-06-14T18:40:05.905Z"
   },
   {
    "duration": 30,
    "start_time": "2022-06-14T18:40:05.926Z"
   },
   {
    "duration": 32,
    "start_time": "2022-06-14T18:40:05.958Z"
   },
   {
    "duration": 39,
    "start_time": "2022-06-14T18:52:55.293Z"
   },
   {
    "duration": 3,
    "start_time": "2022-06-14T18:53:04.709Z"
   },
   {
    "duration": 61,
    "start_time": "2022-06-14T18:53:04.714Z"
   },
   {
    "duration": 11,
    "start_time": "2022-06-14T18:53:04.776Z"
   },
   {
    "duration": 15,
    "start_time": "2022-06-14T18:53:04.789Z"
   },
   {
    "duration": 5,
    "start_time": "2022-06-14T18:53:04.807Z"
   },
   {
    "duration": 17,
    "start_time": "2022-06-14T18:53:04.813Z"
   },
   {
    "duration": 28,
    "start_time": "2022-06-14T18:53:04.832Z"
   },
   {
    "duration": 16,
    "start_time": "2022-06-14T18:53:04.862Z"
   },
   {
    "duration": 7,
    "start_time": "2022-06-14T18:53:04.880Z"
   },
   {
    "duration": 19,
    "start_time": "2022-06-14T18:53:04.889Z"
   },
   {
    "duration": 6,
    "start_time": "2022-06-14T18:53:08.398Z"
   },
   {
    "duration": 33,
    "start_time": "2022-06-14T18:53:08.407Z"
   },
   {
    "duration": 9,
    "start_time": "2022-06-14T18:53:37.148Z"
   },
   {
    "duration": 12,
    "start_time": "2022-06-14T18:53:42.201Z"
   },
   {
    "duration": 1078,
    "start_time": "2022-06-15T07:51:41.564Z"
   },
   {
    "duration": 96,
    "start_time": "2022-06-15T07:51:42.644Z"
   },
   {
    "duration": 13,
    "start_time": "2022-06-15T07:51:42.742Z"
   },
   {
    "duration": 16,
    "start_time": "2022-06-15T07:51:42.757Z"
   },
   {
    "duration": 10,
    "start_time": "2022-06-15T07:51:42.774Z"
   },
   {
    "duration": 10,
    "start_time": "2022-06-15T07:51:42.785Z"
   },
   {
    "duration": 27,
    "start_time": "2022-06-15T07:51:42.796Z"
   },
   {
    "duration": 24,
    "start_time": "2022-06-15T07:51:42.824Z"
   },
   {
    "duration": 12,
    "start_time": "2022-06-15T07:51:42.850Z"
   },
   {
    "duration": 113,
    "start_time": "2022-06-15T07:51:42.864Z"
   },
   {
    "duration": 0,
    "start_time": "2022-06-15T07:51:42.979Z"
   },
   {
    "duration": 0,
    "start_time": "2022-06-15T07:51:42.979Z"
   },
   {
    "duration": 0,
    "start_time": "2022-06-15T07:51:42.980Z"
   },
   {
    "duration": 4,
    "start_time": "2022-06-15T07:53:25.715Z"
   },
   {
    "duration": 52,
    "start_time": "2022-06-15T07:53:25.726Z"
   },
   {
    "duration": 13,
    "start_time": "2022-06-15T07:53:25.780Z"
   },
   {
    "duration": 13,
    "start_time": "2022-06-15T07:53:25.794Z"
   },
   {
    "duration": 5,
    "start_time": "2022-06-15T07:53:25.808Z"
   },
   {
    "duration": 9,
    "start_time": "2022-06-15T07:53:25.815Z"
   },
   {
    "duration": 15,
    "start_time": "2022-06-15T07:53:25.826Z"
   },
   {
    "duration": 43,
    "start_time": "2022-06-15T07:53:25.842Z"
   },
   {
    "duration": 5,
    "start_time": "2022-06-15T07:53:25.886Z"
   },
   {
    "duration": 10,
    "start_time": "2022-06-15T07:53:25.893Z"
   },
   {
    "duration": 68,
    "start_time": "2022-06-15T07:53:25.905Z"
   },
   {
    "duration": 13,
    "start_time": "2022-06-15T07:53:25.974Z"
   },
   {
    "duration": 40,
    "start_time": "2022-06-15T07:53:25.990Z"
   },
   {
    "duration": 16,
    "start_time": "2022-06-15T07:53:38.796Z"
   },
   {
    "duration": 16,
    "start_time": "2022-06-15T07:53:43.342Z"
   },
   {
    "duration": 74,
    "start_time": "2022-06-17T07:24:31.165Z"
   },
   {
    "duration": 1171,
    "start_time": "2022-06-17T07:26:27.847Z"
   },
   {
    "duration": 124,
    "start_time": "2022-06-17T07:26:29.020Z"
   },
   {
    "duration": 12,
    "start_time": "2022-06-17T07:26:29.145Z"
   },
   {
    "duration": 18,
    "start_time": "2022-06-17T07:26:29.161Z"
   },
   {
    "duration": 7,
    "start_time": "2022-06-17T07:26:29.181Z"
   },
   {
    "duration": 7,
    "start_time": "2022-06-17T07:26:29.189Z"
   },
   {
    "duration": 18,
    "start_time": "2022-06-17T07:26:29.198Z"
   },
   {
    "duration": 42,
    "start_time": "2022-06-17T07:26:29.218Z"
   },
   {
    "duration": 6,
    "start_time": "2022-06-17T07:26:29.262Z"
   },
   {
    "duration": 28,
    "start_time": "2022-06-17T07:26:29.273Z"
   },
   {
    "duration": 56,
    "start_time": "2022-06-17T07:26:29.303Z"
   },
   {
    "duration": 16,
    "start_time": "2022-06-17T07:26:29.361Z"
   },
   {
    "duration": 38,
    "start_time": "2022-06-17T07:26:29.383Z"
   },
   {
    "duration": 48,
    "start_time": "2022-06-17T07:27:40.458Z"
   },
   {
    "duration": 34,
    "start_time": "2022-06-17T07:27:50.894Z"
   },
   {
    "duration": 27,
    "start_time": "2022-06-17T07:27:56.325Z"
   },
   {
    "duration": 40,
    "start_time": "2022-06-17T07:33:13.008Z"
   },
   {
    "duration": 22,
    "start_time": "2022-06-17T07:33:16.628Z"
   },
   {
    "duration": 25,
    "start_time": "2022-06-17T07:33:20.111Z"
   },
   {
    "duration": 4,
    "start_time": "2022-06-17T07:33:32.685Z"
   },
   {
    "duration": 66,
    "start_time": "2022-06-17T07:33:32.691Z"
   },
   {
    "duration": 22,
    "start_time": "2022-06-17T07:33:32.766Z"
   },
   {
    "duration": 31,
    "start_time": "2022-06-17T07:33:32.790Z"
   },
   {
    "duration": 15,
    "start_time": "2022-06-17T07:33:32.822Z"
   },
   {
    "duration": 9,
    "start_time": "2022-06-17T07:33:32.838Z"
   },
   {
    "duration": 23,
    "start_time": "2022-06-17T07:33:32.849Z"
   },
   {
    "duration": 27,
    "start_time": "2022-06-17T07:33:32.876Z"
   },
   {
    "duration": 4,
    "start_time": "2022-06-17T07:33:32.905Z"
   },
   {
    "duration": 13,
    "start_time": "2022-06-17T07:33:32.912Z"
   },
   {
    "duration": 60,
    "start_time": "2022-06-17T07:33:32.927Z"
   },
   {
    "duration": 11,
    "start_time": "2022-06-17T07:33:32.989Z"
   },
   {
    "duration": 32,
    "start_time": "2022-06-17T07:33:33.001Z"
   },
   {
    "duration": 6,
    "start_time": "2022-06-17T07:33:50.964Z"
   },
   {
    "duration": 54,
    "start_time": "2022-06-17T07:33:50.985Z"
   },
   {
    "duration": 16,
    "start_time": "2022-06-17T07:33:51.044Z"
   },
   {
    "duration": 39,
    "start_time": "2022-06-17T07:33:51.062Z"
   },
   {
    "duration": 6,
    "start_time": "2022-06-17T07:33:51.103Z"
   },
   {
    "duration": 6,
    "start_time": "2022-06-17T07:33:51.112Z"
   },
   {
    "duration": 18,
    "start_time": "2022-06-17T07:33:51.119Z"
   },
   {
    "duration": 25,
    "start_time": "2022-06-17T07:33:51.139Z"
   },
   {
    "duration": 5,
    "start_time": "2022-06-17T07:33:51.166Z"
   },
   {
    "duration": 13,
    "start_time": "2022-06-17T07:33:51.179Z"
   },
   {
    "duration": 4,
    "start_time": "2022-06-17T07:33:51.194Z"
   },
   {
    "duration": 27,
    "start_time": "2022-06-17T07:33:51.201Z"
   },
   {
    "duration": 30,
    "start_time": "2022-06-17T07:33:51.230Z"
   },
   {
    "duration": 24,
    "start_time": "2022-06-17T07:43:05.557Z"
   },
   {
    "duration": 30,
    "start_time": "2022-06-17T07:43:09.756Z"
   },
   {
    "duration": 5,
    "start_time": "2022-06-17T07:44:18.747Z"
   },
   {
    "duration": 90,
    "start_time": "2022-06-17T07:45:56.066Z"
   },
   {
    "duration": 4,
    "start_time": "2022-06-17T07:46:00.295Z"
   },
   {
    "duration": 60,
    "start_time": "2022-06-17T07:46:00.328Z"
   },
   {
    "duration": 14,
    "start_time": "2022-06-17T07:46:00.390Z"
   },
   {
    "duration": 23,
    "start_time": "2022-06-17T07:46:00.405Z"
   },
   {
    "duration": 8,
    "start_time": "2022-06-17T07:46:00.430Z"
   },
   {
    "duration": 37,
    "start_time": "2022-06-17T07:46:00.440Z"
   },
   {
    "duration": 27,
    "start_time": "2022-06-17T07:46:00.479Z"
   },
   {
    "duration": 31,
    "start_time": "2022-06-17T07:46:00.508Z"
   },
   {
    "duration": 4,
    "start_time": "2022-06-17T07:46:00.540Z"
   },
   {
    "duration": 20,
    "start_time": "2022-06-17T07:46:00.546Z"
   },
   {
    "duration": 32,
    "start_time": "2022-06-17T07:46:00.568Z"
   },
   {
    "duration": 62,
    "start_time": "2022-06-17T07:46:00.601Z"
   },
   {
    "duration": 0,
    "start_time": "2022-06-17T07:46:00.665Z"
   },
   {
    "duration": 28,
    "start_time": "2022-06-17T07:46:31.912Z"
   },
   {
    "duration": 28,
    "start_time": "2022-06-17T07:47:54.904Z"
   },
   {
    "duration": 12,
    "start_time": "2022-06-17T07:48:44.055Z"
   },
   {
    "duration": 62,
    "start_time": "2022-06-17T07:48:44.079Z"
   },
   {
    "duration": 11,
    "start_time": "2022-06-17T07:48:44.143Z"
   },
   {
    "duration": 17,
    "start_time": "2022-06-17T07:48:44.156Z"
   },
   {
    "duration": 8,
    "start_time": "2022-06-17T07:48:44.175Z"
   },
   {
    "duration": 7,
    "start_time": "2022-06-17T07:48:44.185Z"
   },
   {
    "duration": 18,
    "start_time": "2022-06-17T07:48:44.193Z"
   },
   {
    "duration": 20,
    "start_time": "2022-06-17T07:48:44.212Z"
   },
   {
    "duration": 4,
    "start_time": "2022-06-17T07:48:44.233Z"
   },
   {
    "duration": 10,
    "start_time": "2022-06-17T07:48:44.258Z"
   },
   {
    "duration": 20,
    "start_time": "2022-06-17T07:48:44.270Z"
   },
   {
    "duration": 32,
    "start_time": "2022-06-17T07:48:44.291Z"
   },
   {
    "duration": 2,
    "start_time": "2022-06-17T07:48:44.325Z"
   },
   {
    "duration": 33,
    "start_time": "2022-06-17T07:49:38.744Z"
   },
   {
    "duration": 32,
    "start_time": "2022-06-17T07:50:42.365Z"
   },
   {
    "duration": 46,
    "start_time": "2022-06-17T07:51:14.044Z"
   },
   {
    "duration": 25,
    "start_time": "2022-06-17T07:51:18.041Z"
   },
   {
    "duration": 12,
    "start_time": "2022-06-17T07:53:09.384Z"
   },
   {
    "duration": 4,
    "start_time": "2022-06-17T07:54:00.538Z"
   },
   {
    "duration": 67,
    "start_time": "2022-06-17T07:54:00.549Z"
   },
   {
    "duration": 11,
    "start_time": "2022-06-17T07:54:00.618Z"
   },
   {
    "duration": 15,
    "start_time": "2022-06-17T07:54:00.630Z"
   },
   {
    "duration": 6,
    "start_time": "2022-06-17T07:54:00.646Z"
   },
   {
    "duration": 8,
    "start_time": "2022-06-17T07:54:00.654Z"
   },
   {
    "duration": 29,
    "start_time": "2022-06-17T07:54:00.664Z"
   },
   {
    "duration": 28,
    "start_time": "2022-06-17T07:54:00.694Z"
   },
   {
    "duration": 7,
    "start_time": "2022-06-17T07:54:00.723Z"
   },
   {
    "duration": 31,
    "start_time": "2022-06-17T07:54:00.731Z"
   },
   {
    "duration": 3,
    "start_time": "2022-06-17T07:54:00.764Z"
   },
   {
    "duration": 3,
    "start_time": "2022-06-17T07:56:21.761Z"
   },
   {
    "duration": 53,
    "start_time": "2022-06-17T07:56:21.788Z"
   },
   {
    "duration": 13,
    "start_time": "2022-06-17T07:56:21.844Z"
   },
   {
    "duration": 22,
    "start_time": "2022-06-17T07:56:21.859Z"
   },
   {
    "duration": 15,
    "start_time": "2022-06-17T07:56:21.882Z"
   },
   {
    "duration": 29,
    "start_time": "2022-06-17T07:56:21.899Z"
   },
   {
    "duration": 30,
    "start_time": "2022-06-17T07:56:21.930Z"
   },
   {
    "duration": 24,
    "start_time": "2022-06-17T07:56:21.963Z"
   },
   {
    "duration": 23,
    "start_time": "2022-06-17T07:56:21.990Z"
   },
   {
    "duration": 32,
    "start_time": "2022-06-17T07:56:22.016Z"
   },
   {
    "duration": 0,
    "start_time": "2022-06-17T07:56:22.050Z"
   },
   {
    "duration": 4,
    "start_time": "2022-06-17T07:56:37.923Z"
   },
   {
    "duration": 65,
    "start_time": "2022-06-17T07:56:37.929Z"
   },
   {
    "duration": 12,
    "start_time": "2022-06-17T07:56:37.996Z"
   },
   {
    "duration": 15,
    "start_time": "2022-06-17T07:56:38.010Z"
   },
   {
    "duration": 6,
    "start_time": "2022-06-17T07:56:38.026Z"
   },
   {
    "duration": 26,
    "start_time": "2022-06-17T07:56:38.033Z"
   },
   {
    "duration": 11,
    "start_time": "2022-06-17T07:56:38.061Z"
   },
   {
    "duration": 29,
    "start_time": "2022-06-17T07:56:38.075Z"
   },
   {
    "duration": 10,
    "start_time": "2022-06-17T07:56:38.106Z"
   },
   {
    "duration": 57,
    "start_time": "2022-06-17T07:56:38.119Z"
   },
   {
    "duration": 3,
    "start_time": "2022-06-17T07:56:38.178Z"
   },
   {
    "duration": 28,
    "start_time": "2022-06-17T11:20:53.135Z"
   },
   {
    "duration": 24,
    "start_time": "2022-06-17T11:20:59.340Z"
   },
   {
    "duration": 515,
    "start_time": "2022-06-17T11:26:32.453Z"
   },
   {
    "duration": 3,
    "start_time": "2022-06-17T11:27:02.832Z"
   },
   {
    "duration": 514,
    "start_time": "2022-06-17T11:27:17.849Z"
   },
   {
    "duration": 507,
    "start_time": "2022-06-17T11:28:54.702Z"
   },
   {
    "duration": 504,
    "start_time": "2022-06-17T11:29:48.946Z"
   },
   {
    "duration": 549,
    "start_time": "2022-06-17T11:30:12.074Z"
   },
   {
    "duration": 543,
    "start_time": "2022-06-17T11:30:32.783Z"
   },
   {
    "duration": 498,
    "start_time": "2022-06-17T11:31:15.284Z"
   },
   {
    "duration": 3,
    "start_time": "2022-06-17T11:31:36.473Z"
   },
   {
    "duration": 49,
    "start_time": "2022-06-17T11:31:36.482Z"
   },
   {
    "duration": 11,
    "start_time": "2022-06-17T11:31:36.533Z"
   },
   {
    "duration": 14,
    "start_time": "2022-06-17T11:31:36.545Z"
   },
   {
    "duration": 4,
    "start_time": "2022-06-17T11:31:36.561Z"
   },
   {
    "duration": 4,
    "start_time": "2022-06-17T11:31:36.567Z"
   },
   {
    "duration": 12,
    "start_time": "2022-06-17T11:31:36.573Z"
   },
   {
    "duration": 20,
    "start_time": "2022-06-17T11:31:36.587Z"
   },
   {
    "duration": 7,
    "start_time": "2022-06-17T11:31:36.608Z"
   },
   {
    "duration": 46,
    "start_time": "2022-06-17T11:31:36.616Z"
   },
   {
    "duration": 505,
    "start_time": "2022-06-17T11:31:36.664Z"
   },
   {
    "duration": 2,
    "start_time": "2022-06-17T11:31:37.170Z"
   },
   {
    "duration": 526,
    "start_time": "2022-06-17T11:32:05.311Z"
   },
   {
    "duration": 3,
    "start_time": "2022-06-17T11:32:43.815Z"
   },
   {
    "duration": 48,
    "start_time": "2022-06-17T11:32:43.845Z"
   },
   {
    "duration": 16,
    "start_time": "2022-06-17T11:32:43.896Z"
   },
   {
    "duration": 17,
    "start_time": "2022-06-17T11:32:43.914Z"
   },
   {
    "duration": 5,
    "start_time": "2022-06-17T11:32:43.933Z"
   },
   {
    "duration": 21,
    "start_time": "2022-06-17T11:32:43.939Z"
   },
   {
    "duration": 11,
    "start_time": "2022-06-17T11:32:43.961Z"
   },
   {
    "duration": 26,
    "start_time": "2022-06-17T11:32:43.973Z"
   },
   {
    "duration": 6,
    "start_time": "2022-06-17T11:32:44.001Z"
   },
   {
    "duration": 27,
    "start_time": "2022-06-17T11:32:44.008Z"
   },
   {
    "duration": 525,
    "start_time": "2022-06-17T11:32:44.036Z"
   },
   {
    "duration": 2,
    "start_time": "2022-06-17T11:32:44.562Z"
   },
   {
    "duration": 557,
    "start_time": "2022-06-17T11:33:02.791Z"
   },
   {
    "duration": 1710,
    "start_time": "2022-06-17T11:33:17.191Z"
   },
   {
    "duration": 169,
    "start_time": "2022-06-17T11:33:28.504Z"
   },
   {
    "duration": 167,
    "start_time": "2022-06-17T11:47:35.214Z"
   },
   {
    "duration": 3,
    "start_time": "2022-06-17T11:49:46.582Z"
   },
   {
    "duration": 61,
    "start_time": "2022-06-17T11:49:46.588Z"
   },
   {
    "duration": 11,
    "start_time": "2022-06-17T11:49:46.650Z"
   },
   {
    "duration": 11,
    "start_time": "2022-06-17T11:49:46.663Z"
   },
   {
    "duration": 5,
    "start_time": "2022-06-17T11:49:46.676Z"
   },
   {
    "duration": 13,
    "start_time": "2022-06-17T11:49:46.682Z"
   },
   {
    "duration": 13,
    "start_time": "2022-06-17T11:49:46.696Z"
   },
   {
    "duration": 19,
    "start_time": "2022-06-17T11:49:46.711Z"
   },
   {
    "duration": 31,
    "start_time": "2022-06-17T11:49:46.731Z"
   },
   {
    "duration": 25,
    "start_time": "2022-06-17T11:49:46.764Z"
   },
   {
    "duration": 199,
    "start_time": "2022-06-17T11:49:46.791Z"
   },
   {
    "duration": 3,
    "start_time": "2022-06-17T11:49:46.992Z"
   },
   {
    "duration": 4,
    "start_time": "2022-06-17T11:50:23.926Z"
   },
   {
    "duration": 3,
    "start_time": "2022-06-17T11:50:26.892Z"
   },
   {
    "duration": 49,
    "start_time": "2022-06-17T11:50:26.901Z"
   },
   {
    "duration": 11,
    "start_time": "2022-06-17T11:50:26.952Z"
   },
   {
    "duration": 12,
    "start_time": "2022-06-17T11:50:26.965Z"
   },
   {
    "duration": 6,
    "start_time": "2022-06-17T11:50:26.979Z"
   },
   {
    "duration": 7,
    "start_time": "2022-06-17T11:50:26.988Z"
   },
   {
    "duration": 14,
    "start_time": "2022-06-17T11:50:26.996Z"
   },
   {
    "duration": 271,
    "start_time": "2022-06-17T11:50:27.012Z"
   },
   {
    "duration": 118,
    "start_time": "2022-06-17T11:50:27.285Z"
   },
   {
    "duration": 472,
    "start_time": "2022-06-17T11:50:27.406Z"
   },
   {
    "duration": 3763,
    "start_time": "2022-06-17T11:50:27.880Z"
   },
   {
    "duration": 2,
    "start_time": "2022-06-17T11:50:31.645Z"
   },
   {
    "duration": 3,
    "start_time": "2022-06-17T11:50:59.122Z"
   },
   {
    "duration": 44,
    "start_time": "2022-06-17T11:50:59.145Z"
   },
   {
    "duration": 11,
    "start_time": "2022-06-17T11:50:59.190Z"
   },
   {
    "duration": 10,
    "start_time": "2022-06-17T11:50:59.203Z"
   },
   {
    "duration": 5,
    "start_time": "2022-06-17T11:50:59.214Z"
   },
   {
    "duration": 8,
    "start_time": "2022-06-17T11:50:59.220Z"
   },
   {
    "duration": 29,
    "start_time": "2022-06-17T11:50:59.230Z"
   },
   {
    "duration": 18,
    "start_time": "2022-06-17T11:50:59.261Z"
   },
   {
    "duration": 7,
    "start_time": "2022-06-17T11:50:59.280Z"
   },
   {
    "duration": 26,
    "start_time": "2022-06-17T11:50:59.288Z"
   },
   {
    "duration": 200,
    "start_time": "2022-06-17T11:50:59.316Z"
   },
   {
    "duration": 2,
    "start_time": "2022-06-17T11:50:59.518Z"
   },
   {
    "duration": 3,
    "start_time": "2022-06-17T11:51:26.499Z"
   },
   {
    "duration": 45,
    "start_time": "2022-06-17T11:51:26.511Z"
   },
   {
    "duration": 12,
    "start_time": "2022-06-17T11:51:26.558Z"
   },
   {
    "duration": 11,
    "start_time": "2022-06-17T11:51:26.572Z"
   },
   {
    "duration": 5,
    "start_time": "2022-06-17T11:51:26.585Z"
   },
   {
    "duration": 7,
    "start_time": "2022-06-17T11:51:26.591Z"
   },
   {
    "duration": 12,
    "start_time": "2022-06-17T11:51:26.600Z"
   },
   {
    "duration": 60,
    "start_time": "2022-06-17T11:51:26.613Z"
   },
   {
    "duration": 6,
    "start_time": "2022-06-17T11:51:26.674Z"
   },
   {
    "duration": 31,
    "start_time": "2022-06-17T11:51:26.681Z"
   },
   {
    "duration": 224,
    "start_time": "2022-06-17T11:51:26.713Z"
   },
   {
    "duration": 3,
    "start_time": "2022-06-17T11:51:26.938Z"
   },
   {
    "duration": 3,
    "start_time": "2022-06-17T11:51:51.796Z"
   },
   {
    "duration": 61,
    "start_time": "2022-06-17T11:51:51.802Z"
   },
   {
    "duration": 14,
    "start_time": "2022-06-17T11:51:51.865Z"
   },
   {
    "duration": 12,
    "start_time": "2022-06-17T11:51:51.881Z"
   },
   {
    "duration": 5,
    "start_time": "2022-06-17T11:51:51.895Z"
   },
   {
    "duration": 7,
    "start_time": "2022-06-17T11:51:51.901Z"
   },
   {
    "duration": 56,
    "start_time": "2022-06-17T11:51:51.909Z"
   },
   {
    "duration": 18,
    "start_time": "2022-06-17T11:51:51.967Z"
   },
   {
    "duration": 7,
    "start_time": "2022-06-17T11:51:51.987Z"
   },
   {
    "duration": 35,
    "start_time": "2022-06-17T11:51:51.995Z"
   },
   {
    "duration": 271,
    "start_time": "2022-06-17T11:51:52.032Z"
   },
   {
    "duration": 3,
    "start_time": "2022-06-17T11:51:52.305Z"
   },
   {
    "duration": 3,
    "start_time": "2022-06-17T11:52:14.202Z"
   },
   {
    "duration": 54,
    "start_time": "2022-06-17T11:52:14.215Z"
   },
   {
    "duration": 12,
    "start_time": "2022-06-17T11:52:14.271Z"
   },
   {
    "duration": 14,
    "start_time": "2022-06-17T11:52:14.285Z"
   },
   {
    "duration": 10,
    "start_time": "2022-06-17T11:52:14.301Z"
   },
   {
    "duration": 12,
    "start_time": "2022-06-17T11:52:14.313Z"
   },
   {
    "duration": 13,
    "start_time": "2022-06-17T11:52:14.326Z"
   },
   {
    "duration": 16,
    "start_time": "2022-06-17T11:52:14.359Z"
   },
   {
    "duration": 6,
    "start_time": "2022-06-17T11:52:14.377Z"
   },
   {
    "duration": 27,
    "start_time": "2022-06-17T11:52:14.384Z"
   },
   {
    "duration": 185,
    "start_time": "2022-06-17T11:52:14.412Z"
   },
   {
    "duration": 2,
    "start_time": "2022-06-17T11:52:14.599Z"
   },
   {
    "duration": 169,
    "start_time": "2022-06-17T11:56:13.359Z"
   },
   {
    "duration": 169,
    "start_time": "2022-06-17T12:02:18.393Z"
   },
   {
    "duration": 142,
    "start_time": "2022-06-17T12:04:23.460Z"
   },
   {
    "duration": 171,
    "start_time": "2022-06-17T12:05:27.683Z"
   },
   {
    "duration": 25,
    "start_time": "2022-06-17T12:06:25.600Z"
   },
   {
    "duration": 158,
    "start_time": "2022-06-17T12:06:36.270Z"
   },
   {
    "duration": 3,
    "start_time": "2022-06-17T12:06:45.546Z"
   },
   {
    "duration": 55,
    "start_time": "2022-06-17T12:06:45.566Z"
   },
   {
    "duration": 13,
    "start_time": "2022-06-17T12:06:45.624Z"
   },
   {
    "duration": 24,
    "start_time": "2022-06-17T12:06:45.638Z"
   },
   {
    "duration": 15,
    "start_time": "2022-06-17T12:06:45.664Z"
   },
   {
    "duration": 11,
    "start_time": "2022-06-17T12:06:45.682Z"
   },
   {
    "duration": 19,
    "start_time": "2022-06-17T12:06:45.695Z"
   },
   {
    "duration": 27,
    "start_time": "2022-06-17T12:06:45.716Z"
   },
   {
    "duration": 12,
    "start_time": "2022-06-17T12:06:45.745Z"
   },
   {
    "duration": 188,
    "start_time": "2022-06-17T12:06:45.759Z"
   },
   {
    "duration": 151,
    "start_time": "2022-06-17T12:06:45.949Z"
   },
   {
    "duration": 3,
    "start_time": "2022-06-17T12:06:46.101Z"
   },
   {
    "duration": 469,
    "start_time": "2022-06-17T12:07:13.301Z"
   },
   {
    "duration": 9975,
    "start_time": "2022-06-17T12:07:20.614Z"
   },
   {
    "duration": 37060,
    "start_time": "2022-06-17T12:07:53.998Z"
   },
   {
    "duration": 329430,
    "start_time": "2022-06-17T12:09:13.569Z"
   },
   {
    "duration": 30,
    "start_time": "2022-06-17T14:02:51.784Z"
   },
   {
    "duration": 3,
    "start_time": "2022-06-17T14:05:40.623Z"
   },
   {
    "duration": 703,
    "start_time": "2022-06-17T14:11:31.863Z"
   },
   {
    "duration": 640,
    "start_time": "2022-06-17T14:12:03.124Z"
   },
   {
    "duration": 367,
    "start_time": "2022-06-17T14:12:14.900Z"
   },
   {
    "duration": 824,
    "start_time": "2022-06-17T14:12:19.743Z"
   },
   {
    "duration": 1117,
    "start_time": "2022-06-17T14:12:58.649Z"
   },
   {
    "duration": 565,
    "start_time": "2022-06-17T14:14:39.204Z"
   },
   {
    "duration": 689,
    "start_time": "2022-06-17T14:14:50.871Z"
   },
   {
    "duration": 4,
    "start_time": "2022-06-17T14:15:06.872Z"
   },
   {
    "duration": 64,
    "start_time": "2022-06-17T14:15:06.879Z"
   },
   {
    "duration": 12,
    "start_time": "2022-06-17T14:15:06.945Z"
   },
   {
    "duration": 11,
    "start_time": "2022-06-17T14:15:06.959Z"
   },
   {
    "duration": 5,
    "start_time": "2022-06-17T14:15:06.972Z"
   },
   {
    "duration": 12,
    "start_time": "2022-06-17T14:15:06.979Z"
   },
   {
    "duration": 26,
    "start_time": "2022-06-17T14:15:06.992Z"
   },
   {
    "duration": 20,
    "start_time": "2022-06-17T14:15:07.020Z"
   },
   {
    "duration": 17,
    "start_time": "2022-06-17T14:15:07.041Z"
   },
   {
    "duration": 188,
    "start_time": "2022-06-17T14:15:07.060Z"
   },
   {
    "duration": 37296,
    "start_time": "2022-06-17T14:15:07.250Z"
   },
   {
    "duration": 610,
    "start_time": "2022-06-17T14:15:44.548Z"
   },
   {
    "duration": 5,
    "start_time": "2022-06-17T14:15:45.163Z"
   },
   {
    "duration": 798,
    "start_time": "2022-06-17T14:27:02.160Z"
   },
   {
    "duration": 47,
    "start_time": "2022-06-17T14:27:20.349Z"
   },
   {
    "duration": 82,
    "start_time": "2022-06-17T14:28:30.880Z"
   },
   {
    "duration": 1582,
    "start_time": "2022-06-17T14:32:43.020Z"
   },
   {
    "duration": 1689,
    "start_time": "2022-06-17T14:32:52.754Z"
   },
   {
    "duration": 198,
    "start_time": "2022-06-17T14:33:30.907Z"
   },
   {
    "duration": 201,
    "start_time": "2022-06-17T14:35:58.288Z"
   },
   {
    "duration": 1663,
    "start_time": "2022-06-17T14:36:13.253Z"
   },
   {
    "duration": 3,
    "start_time": "2022-06-17T14:38:33.022Z"
   },
   {
    "duration": 50,
    "start_time": "2022-06-17T14:38:33.039Z"
   },
   {
    "duration": 13,
    "start_time": "2022-06-17T14:38:33.092Z"
   },
   {
    "duration": 11,
    "start_time": "2022-06-17T14:38:33.107Z"
   },
   {
    "duration": 5,
    "start_time": "2022-06-17T14:38:33.120Z"
   },
   {
    "duration": 34,
    "start_time": "2022-06-17T14:38:33.127Z"
   },
   {
    "duration": 23,
    "start_time": "2022-06-17T14:38:33.163Z"
   },
   {
    "duration": 24,
    "start_time": "2022-06-17T14:38:33.188Z"
   },
   {
    "duration": 6,
    "start_time": "2022-06-17T14:38:33.214Z"
   },
   {
    "duration": 222,
    "start_time": "2022-06-17T14:38:33.221Z"
   },
   {
    "duration": 24085,
    "start_time": "2022-06-17T14:38:33.445Z"
   },
   {
    "duration": 48,
    "start_time": "2022-06-17T14:38:57.532Z"
   },
   {
    "duration": 80,
    "start_time": "2022-06-17T14:38:57.581Z"
   },
   {
    "duration": 199,
    "start_time": "2022-06-17T14:38:57.663Z"
   },
   {
    "duration": 1754,
    "start_time": "2022-06-17T14:38:57.864Z"
   },
   {
    "duration": 24,
    "start_time": "2022-06-17T14:40:53.163Z"
   },
   {
    "duration": 205,
    "start_time": "2022-06-17T14:50:56.464Z"
   },
   {
    "duration": 5,
    "start_time": "2022-06-17T15:05:04.113Z"
   },
   {
    "duration": 7,
    "start_time": "2022-06-17T15:05:30.552Z"
   },
   {
    "duration": 3,
    "start_time": "2022-06-17T15:06:44.453Z"
   },
   {
    "duration": 8,
    "start_time": "2022-06-17T15:07:45.720Z"
   },
   {
    "duration": 7,
    "start_time": "2022-06-17T15:08:01.016Z"
   },
   {
    "duration": 8,
    "start_time": "2022-06-17T15:08:11.361Z"
   },
   {
    "duration": 4,
    "start_time": "2022-06-17T15:08:18.458Z"
   },
   {
    "duration": 49,
    "start_time": "2022-06-17T15:08:18.479Z"
   },
   {
    "duration": 11,
    "start_time": "2022-06-17T15:08:18.530Z"
   },
   {
    "duration": 13,
    "start_time": "2022-06-17T15:08:18.542Z"
   },
   {
    "duration": 7,
    "start_time": "2022-06-17T15:08:18.556Z"
   },
   {
    "duration": 10,
    "start_time": "2022-06-17T15:08:18.565Z"
   },
   {
    "duration": 19,
    "start_time": "2022-06-17T15:08:18.578Z"
   },
   {
    "duration": 22,
    "start_time": "2022-06-17T15:08:18.599Z"
   },
   {
    "duration": 6,
    "start_time": "2022-06-17T15:08:18.622Z"
   },
   {
    "duration": 30,
    "start_time": "2022-06-17T15:08:18.630Z"
   },
   {
    "duration": 186,
    "start_time": "2022-06-17T15:08:18.662Z"
   },
   {
    "duration": 20642,
    "start_time": "2022-06-17T15:08:18.850Z"
   },
   {
    "duration": 75,
    "start_time": "2022-06-17T15:08:39.494Z"
   },
   {
    "duration": 3,
    "start_time": "2022-06-17T15:08:39.658Z"
   },
   {
    "duration": 102,
    "start_time": "2022-06-17T15:08:39.665Z"
   },
   {
    "duration": 284,
    "start_time": "2022-06-17T15:08:39.770Z"
   },
   {
    "duration": 5,
    "start_time": "2022-06-17T15:09:15.771Z"
   },
   {
    "duration": 1535,
    "start_time": "2022-06-17T15:10:11.044Z"
   },
   {
    "duration": 2895,
    "start_time": "2022-06-17T15:10:55.766Z"
   },
   {
    "duration": 32026,
    "start_time": "2022-06-17T15:11:33.616Z"
   },
   {
    "duration": 268488,
    "start_time": "2022-06-17T15:13:12.505Z"
   },
   {
    "duration": 104,
    "start_time": "2022-06-17T15:19:39.856Z"
   },
   {
    "duration": 47,
    "start_time": "2022-06-17T15:19:56.440Z"
   },
   {
    "duration": 2831,
    "start_time": "2022-06-17T15:20:37.946Z"
   },
   {
    "duration": 202,
    "start_time": "2022-06-17T15:22:11.468Z"
   },
   {
    "duration": 447,
    "start_time": "2022-06-17T15:25:31.956Z"
   },
   {
    "duration": 756942,
    "start_time": "2022-06-17T15:26:08.252Z"
   },
   {
    "duration": 47,
    "start_time": "2022-06-18T06:21:46.625Z"
   },
   {
    "duration": 996,
    "start_time": "2022-06-18T06:21:53.997Z"
   },
   {
    "duration": 91,
    "start_time": "2022-06-18T06:21:54.995Z"
   },
   {
    "duration": 12,
    "start_time": "2022-06-18T06:21:55.087Z"
   },
   {
    "duration": 11,
    "start_time": "2022-06-18T06:21:55.101Z"
   },
   {
    "duration": 5,
    "start_time": "2022-06-18T06:21:55.114Z"
   },
   {
    "duration": 7,
    "start_time": "2022-06-18T06:21:55.120Z"
   },
   {
    "duration": 13,
    "start_time": "2022-06-18T06:21:55.128Z"
   },
   {
    "duration": 19,
    "start_time": "2022-06-18T06:21:55.143Z"
   },
   {
    "duration": 7,
    "start_time": "2022-06-18T06:21:55.164Z"
   },
   {
    "duration": 5,
    "start_time": "2022-06-18T06:21:55.173Z"
   },
   {
    "duration": 4,
    "start_time": "2022-06-18T06:21:55.179Z"
   },
   {
    "duration": 198,
    "start_time": "2022-06-18T06:21:55.184Z"
   },
   {
    "duration": 277223,
    "start_time": "2022-06-18T06:21:55.383Z"
   },
   {
    "duration": 129,
    "start_time": "2022-06-18T06:26:32.607Z"
   },
   {
    "duration": 89,
    "start_time": "2022-06-18T06:26:32.738Z"
   },
   {
    "duration": 98,
    "start_time": "2022-06-18T06:26:32.829Z"
   },
   {
    "duration": 276,
    "start_time": "2022-06-18T06:26:32.929Z"
   },
   {
    "duration": 123653,
    "start_time": "2022-06-18T06:26:33.207Z"
   },
   {
    "duration": 188,
    "start_time": "2022-06-18T06:28:36.862Z"
   },
   {
    "duration": 253,
    "start_time": "2022-06-18T07:47:57.358Z"
   },
   {
    "duration": 3,
    "start_time": "2022-06-18T07:50:21.712Z"
   },
   {
    "duration": 58,
    "start_time": "2022-06-18T07:50:21.729Z"
   },
   {
    "duration": 12,
    "start_time": "2022-06-18T07:50:21.789Z"
   },
   {
    "duration": 13,
    "start_time": "2022-06-18T07:50:21.802Z"
   },
   {
    "duration": 5,
    "start_time": "2022-06-18T07:50:21.817Z"
   },
   {
    "duration": 40,
    "start_time": "2022-06-18T07:50:21.825Z"
   },
   {
    "duration": 16,
    "start_time": "2022-06-18T07:50:21.867Z"
   },
   {
    "duration": 22,
    "start_time": "2022-06-18T07:50:21.885Z"
   },
   {
    "duration": 7,
    "start_time": "2022-06-18T07:50:21.909Z"
   },
   {
    "duration": 6,
    "start_time": "2022-06-18T07:50:21.918Z"
   },
   {
    "duration": 19,
    "start_time": "2022-06-18T07:50:21.926Z"
   },
   {
    "duration": 207,
    "start_time": "2022-06-18T07:50:21.951Z"
   },
   {
    "duration": 295184,
    "start_time": "2022-06-18T07:50:22.163Z"
   },
   {
    "duration": 81,
    "start_time": "2022-06-18T07:55:17.350Z"
   },
   {
    "duration": 3,
    "start_time": "2022-06-18T07:55:17.437Z"
   },
   {
    "duration": 193,
    "start_time": "2022-06-18T07:55:17.442Z"
   },
   {
    "duration": 281,
    "start_time": "2022-06-18T07:55:17.637Z"
   },
   {
    "duration": 131501,
    "start_time": "2022-06-18T07:55:17.920Z"
   },
   {
    "duration": 239,
    "start_time": "2022-06-18T07:57:29.423Z"
   },
   {
    "duration": 281,
    "start_time": "2022-06-18T07:57:29.664Z"
   },
   {
    "duration": 102,
    "start_time": "2022-06-18T08:15:15.567Z"
   },
   {
    "duration": 25,
    "start_time": "2022-06-18T08:16:13.774Z"
   },
   {
    "duration": 22,
    "start_time": "2022-06-18T08:19:25.953Z"
   },
   {
    "duration": 5,
    "start_time": "2022-06-18T08:19:36.327Z"
   },
   {
    "duration": 76,
    "start_time": "2022-06-18T08:19:36.347Z"
   },
   {
    "duration": 21,
    "start_time": "2022-06-18T08:19:36.426Z"
   },
   {
    "duration": 26,
    "start_time": "2022-06-18T08:19:36.449Z"
   },
   {
    "duration": 7,
    "start_time": "2022-06-18T08:19:36.477Z"
   },
   {
    "duration": 11,
    "start_time": "2022-06-18T08:19:36.486Z"
   },
   {
    "duration": 14,
    "start_time": "2022-06-18T08:19:36.499Z"
   },
   {
    "duration": 31,
    "start_time": "2022-06-18T08:19:36.515Z"
   },
   {
    "duration": 10,
    "start_time": "2022-06-18T08:19:36.548Z"
   },
   {
    "duration": 16,
    "start_time": "2022-06-18T08:19:36.560Z"
   },
   {
    "duration": 8,
    "start_time": "2022-06-18T08:19:36.577Z"
   },
   {
    "duration": 181,
    "start_time": "2022-06-18T08:19:36.586Z"
   },
   {
    "duration": 290873,
    "start_time": "2022-06-18T08:19:36.769Z"
   },
   {
    "duration": 98,
    "start_time": "2022-06-18T08:24:27.644Z"
   },
   {
    "duration": 3,
    "start_time": "2022-06-18T08:24:27.745Z"
   },
   {
    "duration": 180,
    "start_time": "2022-06-18T08:24:27.750Z"
   },
   {
    "duration": 290,
    "start_time": "2022-06-18T08:24:27.932Z"
   },
   {
    "duration": 126774,
    "start_time": "2022-06-18T08:24:28.224Z"
   },
   {
    "duration": 372,
    "start_time": "2022-06-18T08:26:34.999Z"
   },
   {
    "duration": 202,
    "start_time": "2022-06-18T08:26:35.373Z"
   },
   {
    "duration": 265,
    "start_time": "2022-06-18T08:26:35.578Z"
   },
   {
    "duration": 308,
    "start_time": "2022-06-18T10:08:26.918Z"
   },
   {
    "duration": 3,
    "start_time": "2022-06-18T10:08:55.032Z"
   },
   {
    "duration": 53,
    "start_time": "2022-06-18T10:08:55.047Z"
   },
   {
    "duration": 15,
    "start_time": "2022-06-18T10:08:55.102Z"
   },
   {
    "duration": 32,
    "start_time": "2022-06-18T10:08:55.119Z"
   },
   {
    "duration": 6,
    "start_time": "2022-06-18T10:08:55.153Z"
   },
   {
    "duration": 9,
    "start_time": "2022-06-18T10:08:55.162Z"
   },
   {
    "duration": 23,
    "start_time": "2022-06-18T10:08:55.172Z"
   },
   {
    "duration": 25,
    "start_time": "2022-06-18T10:08:55.197Z"
   },
   {
    "duration": 15,
    "start_time": "2022-06-18T10:08:55.224Z"
   },
   {
    "duration": 20,
    "start_time": "2022-06-18T10:08:55.241Z"
   },
   {
    "duration": 26,
    "start_time": "2022-06-18T10:08:55.263Z"
   },
   {
    "duration": 278,
    "start_time": "2022-06-18T10:08:55.291Z"
   },
   {
    "duration": 301716,
    "start_time": "2022-06-18T10:08:55.571Z"
   },
   {
    "duration": 44,
    "start_time": "2022-06-18T10:13:57.289Z"
   },
   {
    "duration": 89,
    "start_time": "2022-06-18T10:13:57.338Z"
   },
   {
    "duration": 198,
    "start_time": "2022-06-18T10:13:57.430Z"
   },
   {
    "duration": 278,
    "start_time": "2022-06-18T10:13:57.630Z"
   },
   {
    "duration": 126041,
    "start_time": "2022-06-18T10:13:57.909Z"
   },
   {
    "duration": 267,
    "start_time": "2022-06-18T10:16:03.952Z"
   },
   {
    "duration": 226,
    "start_time": "2022-06-18T10:16:04.221Z"
   },
   {
    "duration": 260,
    "start_time": "2022-06-18T10:16:04.449Z"
   },
   {
    "duration": 323,
    "start_time": "2022-06-18T10:17:09.992Z"
   },
   {
    "duration": 824,
    "start_time": "2022-06-18T10:21:09.587Z"
   },
   {
    "duration": 2386,
    "start_time": "2022-06-18T10:21:20.704Z"
   },
   {
    "duration": 3370,
    "start_time": "2022-06-18T10:21:32.513Z"
   },
   {
    "duration": 4,
    "start_time": "2022-06-18T10:22:45.762Z"
   },
   {
    "duration": 4,
    "start_time": "2022-06-18T10:23:10.002Z"
   },
   {
    "duration": 49,
    "start_time": "2022-06-18T10:23:10.023Z"
   },
   {
    "duration": 12,
    "start_time": "2022-06-18T10:23:10.074Z"
   },
   {
    "duration": 15,
    "start_time": "2022-06-18T10:23:10.087Z"
   },
   {
    "duration": 5,
    "start_time": "2022-06-18T10:23:10.103Z"
   },
   {
    "duration": 18,
    "start_time": "2022-06-18T10:23:10.110Z"
   },
   {
    "duration": 16,
    "start_time": "2022-06-18T10:23:10.130Z"
   },
   {
    "duration": 20,
    "start_time": "2022-06-18T10:23:10.147Z"
   },
   {
    "duration": 8,
    "start_time": "2022-06-18T10:23:10.168Z"
   },
   {
    "duration": 7,
    "start_time": "2022-06-18T10:23:10.177Z"
   },
   {
    "duration": 6,
    "start_time": "2022-06-18T10:23:10.185Z"
   },
   {
    "duration": 203,
    "start_time": "2022-06-18T10:23:10.193Z"
   },
   {
    "duration": 274930,
    "start_time": "2022-06-18T10:23:10.398Z"
   },
   {
    "duration": 32,
    "start_time": "2022-06-18T10:27:45.330Z"
   },
   {
    "duration": 5,
    "start_time": "2022-06-18T10:27:45.436Z"
   },
   {
    "duration": 102,
    "start_time": "2022-06-18T10:27:45.528Z"
   },
   {
    "duration": 272,
    "start_time": "2022-06-18T10:27:45.632Z"
   },
   {
    "duration": 122372,
    "start_time": "2022-06-18T10:27:45.906Z"
   },
   {
    "duration": 2523,
    "start_time": "2022-06-18T10:29:48.280Z"
   },
   {
    "duration": 4,
    "start_time": "2022-06-18T10:29:50.805Z"
   },
   {
    "duration": 212,
    "start_time": "2022-06-18T10:29:50.811Z"
   },
   {
    "duration": 255,
    "start_time": "2022-06-18T10:29:51.027Z"
   },
   {
    "duration": 3,
    "start_time": "2022-06-18T10:44:01.040Z"
   },
   {
    "duration": 59,
    "start_time": "2022-06-18T10:44:01.055Z"
   },
   {
    "duration": 26,
    "start_time": "2022-06-18T10:44:01.117Z"
   },
   {
    "duration": 11,
    "start_time": "2022-06-18T10:44:01.145Z"
   },
   {
    "duration": 12,
    "start_time": "2022-06-18T10:44:01.157Z"
   },
   {
    "duration": 10,
    "start_time": "2022-06-18T10:44:01.170Z"
   },
   {
    "duration": 18,
    "start_time": "2022-06-18T10:44:01.181Z"
   },
   {
    "duration": 34,
    "start_time": "2022-06-18T10:44:01.200Z"
   },
   {
    "duration": 13,
    "start_time": "2022-06-18T10:44:01.235Z"
   },
   {
    "duration": 10,
    "start_time": "2022-06-18T10:44:01.250Z"
   },
   {
    "duration": 4,
    "start_time": "2022-06-18T10:44:01.262Z"
   },
   {
    "duration": 190,
    "start_time": "2022-06-18T10:44:01.268Z"
   },
   {
    "duration": 284020,
    "start_time": "2022-06-18T10:44:01.459Z"
   },
   {
    "duration": 147,
    "start_time": "2022-06-18T10:48:45.481Z"
   },
   {
    "duration": 3,
    "start_time": "2022-06-18T10:48:45.635Z"
   },
   {
    "duration": 110,
    "start_time": "2022-06-18T10:48:45.640Z"
   },
   {
    "duration": 129204,
    "start_time": "2022-06-18T10:48:45.753Z"
   },
   {
    "duration": 197,
    "start_time": "2022-06-18T10:50:54.959Z"
   },
   {
    "duration": 2543,
    "start_time": "2022-06-18T10:50:55.158Z"
   },
   {
    "duration": 3,
    "start_time": "2022-06-18T10:50:57.703Z"
   },
   {
    "duration": 198,
    "start_time": "2022-06-18T10:50:57.708Z"
   },
   {
    "duration": 1082,
    "start_time": "2022-06-18T11:47:28.529Z"
   },
   {
    "duration": 108,
    "start_time": "2022-06-18T11:47:29.612Z"
   },
   {
    "duration": 17,
    "start_time": "2022-06-18T11:47:29.722Z"
   },
   {
    "duration": 13,
    "start_time": "2022-06-18T11:47:29.742Z"
   },
   {
    "duration": 5,
    "start_time": "2022-06-18T11:47:29.757Z"
   },
   {
    "duration": 11,
    "start_time": "2022-06-18T11:47:29.763Z"
   },
   {
    "duration": 14,
    "start_time": "2022-06-18T11:47:29.775Z"
   },
   {
    "duration": 45,
    "start_time": "2022-06-18T11:47:29.790Z"
   },
   {
    "duration": 9,
    "start_time": "2022-06-18T11:47:29.837Z"
   },
   {
    "duration": 6,
    "start_time": "2022-06-18T11:47:29.848Z"
   },
   {
    "duration": 6,
    "start_time": "2022-06-18T11:47:29.855Z"
   },
   {
    "duration": 200,
    "start_time": "2022-06-18T11:47:29.862Z"
   },
   {
    "duration": 282422,
    "start_time": "2022-06-18T11:47:30.063Z"
   },
   {
    "duration": 43,
    "start_time": "2022-06-18T11:52:12.487Z"
   },
   {
    "duration": 207,
    "start_time": "2022-06-18T11:52:12.533Z"
   },
   {
    "duration": 125235,
    "start_time": "2022-06-18T11:52:12.742Z"
   },
   {
    "duration": 187,
    "start_time": "2022-06-18T11:54:17.978Z"
   },
   {
    "duration": 2686,
    "start_time": "2022-06-18T11:54:18.167Z"
   },
   {
    "duration": 4,
    "start_time": "2022-06-18T11:54:20.855Z"
   },
   {
    "duration": 212,
    "start_time": "2022-06-18T11:54:20.860Z"
   },
   {
    "duration": 46,
    "start_time": "2022-06-18T16:48:00.025Z"
   },
   {
    "duration": 1188,
    "start_time": "2022-06-18T16:48:06.933Z"
   },
   {
    "duration": 92,
    "start_time": "2022-06-18T16:48:08.123Z"
   },
   {
    "duration": 12,
    "start_time": "2022-06-18T16:48:10.894Z"
   },
   {
    "duration": 12,
    "start_time": "2022-06-18T16:48:13.838Z"
   },
   {
    "duration": 6,
    "start_time": "2022-06-18T16:48:15.773Z"
   },
   {
    "duration": 47,
    "start_time": "2022-06-18T16:51:29.592Z"
   },
   {
    "duration": 13,
    "start_time": "2022-06-18T16:51:30.321Z"
   },
   {
    "duration": 13,
    "start_time": "2022-06-18T16:51:32.263Z"
   },
   {
    "duration": 5,
    "start_time": "2022-06-18T16:51:34.775Z"
   },
   {
    "duration": 47,
    "start_time": "2022-06-18T16:51:49.720Z"
   },
   {
    "duration": 12,
    "start_time": "2022-06-18T16:51:50.086Z"
   },
   {
    "duration": 5,
    "start_time": "2022-06-18T16:51:51.912Z"
   },
   {
    "duration": 3,
    "start_time": "2022-06-18T17:00:03.203Z"
   },
   {
    "duration": 4,
    "start_time": "2022-06-18T17:00:07.756Z"
   },
   {
    "duration": 4,
    "start_time": "2022-06-18T17:00:11.027Z"
   },
   {
    "duration": 4,
    "start_time": "2022-06-18T17:00:13.315Z"
   },
   {
    "duration": 4,
    "start_time": "2022-06-18T17:00:17.175Z"
   },
   {
    "duration": 4,
    "start_time": "2022-06-18T17:00:20.228Z"
   },
   {
    "duration": 61,
    "start_time": "2022-06-18T17:11:41.347Z"
   },
   {
    "duration": 11,
    "start_time": "2022-06-18T17:11:49.418Z"
   },
   {
    "duration": 1098,
    "start_time": "2022-06-18T17:11:58.084Z"
   },
   {
    "duration": 58,
    "start_time": "2022-06-18T17:11:59.184Z"
   },
   {
    "duration": 14,
    "start_time": "2022-06-18T17:11:59.244Z"
   },
   {
    "duration": 13,
    "start_time": "2022-06-18T17:11:59.260Z"
   },
   {
    "duration": 6,
    "start_time": "2022-06-18T17:11:59.274Z"
   },
   {
    "duration": 5,
    "start_time": "2022-06-18T17:11:59.281Z"
   },
   {
    "duration": 13,
    "start_time": "2022-06-18T17:11:59.288Z"
   },
   {
    "duration": 24,
    "start_time": "2022-06-18T17:11:59.302Z"
   },
   {
    "duration": 7,
    "start_time": "2022-06-18T17:11:59.328Z"
   },
   {
    "duration": 7,
    "start_time": "2022-06-18T17:11:59.365Z"
   },
   {
    "duration": 4,
    "start_time": "2022-06-18T17:11:59.373Z"
   },
   {
    "duration": 186,
    "start_time": "2022-06-18T17:11:59.379Z"
   },
   {
    "duration": 287061,
    "start_time": "2022-06-18T17:11:59.567Z"
   },
   {
    "duration": 44,
    "start_time": "2022-06-18T17:16:46.629Z"
   },
   {
    "duration": 204,
    "start_time": "2022-06-18T17:16:46.764Z"
   },
   {
    "duration": 121783,
    "start_time": "2022-06-18T17:16:46.970Z"
   },
   {
    "duration": 217,
    "start_time": "2022-06-18T17:18:48.755Z"
   },
   {
    "duration": 2622,
    "start_time": "2022-06-18T17:18:48.974Z"
   },
   {
    "duration": 5,
    "start_time": "2022-06-18T17:18:51.598Z"
   },
   {
    "duration": 24,
    "start_time": "2022-06-18T17:18:51.605Z"
   },
   {
    "duration": 232,
    "start_time": "2022-06-18T17:18:51.631Z"
   },
   {
    "duration": 4,
    "start_time": "2022-06-18T17:21:45.595Z"
   },
   {
    "duration": 142,
    "start_time": "2022-06-20T06:50:40.240Z"
   },
   {
    "duration": 42,
    "start_time": "2022-06-20T06:55:34.491Z"
   },
   {
    "duration": 6,
    "start_time": "2022-06-20T06:55:47.991Z"
   },
   {
    "duration": 1104,
    "start_time": "2022-06-20T06:55:53.244Z"
   },
   {
    "duration": 184,
    "start_time": "2022-06-20T06:55:54.351Z"
   },
   {
    "duration": 12,
    "start_time": "2022-06-20T06:55:54.537Z"
   },
   {
    "duration": 16,
    "start_time": "2022-06-20T06:55:54.551Z"
   },
   {
    "duration": 5,
    "start_time": "2022-06-20T06:55:54.568Z"
   },
   {
    "duration": 6,
    "start_time": "2022-06-20T06:55:54.574Z"
   },
   {
    "duration": 54,
    "start_time": "2022-06-20T06:55:54.581Z"
   },
   {
    "duration": 29,
    "start_time": "2022-06-20T06:55:54.640Z"
   },
   {
    "duration": 6,
    "start_time": "2022-06-20T06:55:54.671Z"
   },
   {
    "duration": 11,
    "start_time": "2022-06-20T06:55:54.679Z"
   },
   {
    "duration": 7,
    "start_time": "2022-06-20T06:55:54.691Z"
   },
   {
    "duration": 210,
    "start_time": "2022-06-20T06:55:54.700Z"
   },
   {
    "duration": 269291,
    "start_time": "2022-06-20T06:55:54.911Z"
   },
   {
    "duration": 38,
    "start_time": "2022-06-20T07:00:24.203Z"
   },
   {
    "duration": 199,
    "start_time": "2022-06-20T07:00:24.243Z"
   },
   {
    "duration": 115029,
    "start_time": "2022-06-20T07:00:24.445Z"
   },
   {
    "duration": 164,
    "start_time": "2022-06-20T07:02:19.476Z"
   },
   {
    "duration": 2190,
    "start_time": "2022-06-20T07:02:19.642Z"
   },
   {
    "duration": 4,
    "start_time": "2022-06-20T07:02:21.833Z"
   },
   {
    "duration": 176,
    "start_time": "2022-06-20T07:02:21.838Z"
   },
   {
    "duration": 54,
    "start_time": "2022-06-20T07:05:55.838Z"
   },
   {
    "duration": 6,
    "start_time": "2022-06-20T07:06:03.098Z"
   },
   {
    "duration": 5,
    "start_time": "2022-06-20T07:14:51.967Z"
   },
   {
    "duration": 51,
    "start_time": "2022-06-20T07:14:51.974Z"
   },
   {
    "duration": 13,
    "start_time": "2022-06-20T07:14:52.026Z"
   },
   {
    "duration": 15,
    "start_time": "2022-06-20T07:14:52.040Z"
   },
   {
    "duration": 6,
    "start_time": "2022-06-20T07:14:52.057Z"
   },
   {
    "duration": 114586,
    "start_time": "2022-06-20T07:14:52.065Z"
   },
   {
    "duration": 5,
    "start_time": "2022-06-20T07:16:46.652Z"
   },
   {
    "duration": 23,
    "start_time": "2022-06-20T07:16:46.660Z"
   },
   {
    "duration": 34,
    "start_time": "2022-06-20T07:16:46.685Z"
   },
   {
    "duration": 6,
    "start_time": "2022-06-20T07:16:46.721Z"
   },
   {
    "duration": 11,
    "start_time": "2022-06-20T07:16:46.729Z"
   },
   {
    "duration": 15,
    "start_time": "2022-06-20T07:16:46.742Z"
   },
   {
    "duration": 169,
    "start_time": "2022-06-20T07:16:46.758Z"
   },
   {
    "duration": 254688,
    "start_time": "2022-06-20T07:16:46.929Z"
   },
   {
    "duration": 37,
    "start_time": "2022-06-20T07:21:01.626Z"
   },
   {
    "duration": 126,
    "start_time": "2022-06-20T07:21:01.726Z"
   },
   {
    "duration": 112633,
    "start_time": "2022-06-20T07:21:01.854Z"
   },
   {
    "duration": 171,
    "start_time": "2022-06-20T07:22:54.488Z"
   },
   {
    "duration": 2198,
    "start_time": "2022-06-20T07:22:54.661Z"
   },
   {
    "duration": 3,
    "start_time": "2022-06-20T07:22:56.861Z"
   },
   {
    "duration": 178,
    "start_time": "2022-06-20T07:22:56.866Z"
   },
   {
    "duration": 124843,
    "start_time": "2022-06-20T07:26:53.834Z"
   },
   {
    "duration": 156,
    "start_time": "2022-06-20T07:28:58.678Z"
   },
   {
    "duration": 105,
    "start_time": "2022-06-20T07:31:42.439Z"
   },
   {
    "duration": 14,
    "start_time": "2022-06-20T07:38:49.160Z"
   },
   {
    "duration": 14,
    "start_time": "2022-06-20T07:39:55.557Z"
   },
   {
    "duration": 17,
    "start_time": "2022-06-20T07:40:08.247Z"
   },
   {
    "duration": 4,
    "start_time": "2022-06-20T07:40:17.179Z"
   },
   {
    "duration": 15,
    "start_time": "2022-06-20T07:41:29.421Z"
   },
   {
    "duration": 5,
    "start_time": "2022-06-20T07:41:32.485Z"
   },
   {
    "duration": 23,
    "start_time": "2022-06-20T07:41:43.977Z"
   },
   {
    "duration": 18,
    "start_time": "2022-06-20T07:41:55.713Z"
   },
   {
    "duration": 5,
    "start_time": "2022-06-20T07:42:02.787Z"
   },
   {
    "duration": 159,
    "start_time": "2022-06-20T07:43:55.546Z"
   },
   {
    "duration": 172,
    "start_time": "2022-06-20T07:59:04.186Z"
   },
   {
    "duration": 3,
    "start_time": "2022-06-20T08:14:41.361Z"
   },
   {
    "duration": 53,
    "start_time": "2022-06-20T08:14:41.365Z"
   },
   {
    "duration": 12,
    "start_time": "2022-06-20T08:14:41.420Z"
   },
   {
    "duration": 13,
    "start_time": "2022-06-20T08:14:41.434Z"
   },
   {
    "duration": 7,
    "start_time": "2022-06-20T08:14:41.448Z"
   },
   {
    "duration": 146,
    "start_time": "2022-06-20T08:14:41.457Z"
   },
   {
    "duration": 4,
    "start_time": "2022-06-20T08:14:41.605Z"
   },
   {
    "duration": 22,
    "start_time": "2022-06-20T08:14:41.611Z"
   },
   {
    "duration": 19,
    "start_time": "2022-06-20T08:14:41.635Z"
   },
   {
    "duration": 4,
    "start_time": "2022-06-20T08:14:41.655Z"
   },
   {
    "duration": 11,
    "start_time": "2022-06-20T08:14:41.661Z"
   },
   {
    "duration": 6,
    "start_time": "2022-06-20T08:14:41.673Z"
   },
   {
    "duration": 26,
    "start_time": "2022-06-20T08:14:41.726Z"
   },
   {
    "duration": 185,
    "start_time": "2022-06-20T08:14:41.754Z"
   },
   {
    "duration": 297662,
    "start_time": "2022-06-20T08:14:41.941Z"
   },
   {
    "duration": 45,
    "start_time": "2022-06-20T08:19:39.604Z"
   },
   {
    "duration": 212,
    "start_time": "2022-06-20T08:19:39.726Z"
   },
   {
    "duration": 129456,
    "start_time": "2022-06-20T08:19:39.941Z"
   },
   {
    "duration": 192,
    "start_time": "2022-06-20T08:21:49.400Z"
   },
   {
    "duration": 2234,
    "start_time": "2022-06-20T08:21:49.595Z"
   },
   {
    "duration": 3,
    "start_time": "2022-06-20T08:21:51.831Z"
   },
   {
    "duration": 194,
    "start_time": "2022-06-20T08:21:51.836Z"
   },
   {
    "duration": 1315,
    "start_time": "2022-06-20T11:16:04.117Z"
   },
   {
    "duration": 27298,
    "start_time": "2022-06-20T11:17:57.575Z"
   },
   {
    "duration": 813366,
    "start_time": "2022-06-20T11:23:51.743Z"
   },
   {
    "duration": 2200,
    "start_time": "2022-06-20T11:41:02.194Z"
   },
   {
    "duration": 14,
    "start_time": "2022-06-20T11:46:45.468Z"
   },
   {
    "duration": 14,
    "start_time": "2022-06-20T11:48:58.604Z"
   },
   {
    "duration": 1696,
    "start_time": "2022-06-20T11:49:01.655Z"
   },
   {
    "duration": 79,
    "start_time": "2022-06-20T11:50:30.199Z"
   },
   {
    "duration": 1653,
    "start_time": "2022-06-20T11:50:56.537Z"
   },
   {
    "duration": 3,
    "start_time": "2022-06-20T12:44:02.586Z"
   },
   {
    "duration": 164,
    "start_time": "2022-06-20T12:44:02.591Z"
   },
   {
    "duration": 13,
    "start_time": "2022-06-20T12:44:02.756Z"
   },
   {
    "duration": 22,
    "start_time": "2022-06-20T12:44:02.770Z"
   },
   {
    "duration": 6,
    "start_time": "2022-06-20T12:44:02.795Z"
   },
   {
    "duration": 123,
    "start_time": "2022-06-20T12:44:02.803Z"
   },
   {
    "duration": 4,
    "start_time": "2022-06-20T12:44:02.927Z"
   },
   {
    "duration": 19,
    "start_time": "2022-06-20T12:44:02.933Z"
   },
   {
    "duration": 20,
    "start_time": "2022-06-20T12:44:02.953Z"
   },
   {
    "duration": 3,
    "start_time": "2022-06-20T12:44:02.975Z"
   },
   {
    "duration": 11,
    "start_time": "2022-06-20T12:44:02.980Z"
   },
   {
    "duration": 5,
    "start_time": "2022-06-20T12:44:02.993Z"
   },
   {
    "duration": 4,
    "start_time": "2022-06-20T12:44:03.025Z"
   },
   {
    "duration": 1240,
    "start_time": "2022-06-20T12:44:03.031Z"
   },
   {
    "duration": 25459,
    "start_time": "2022-06-20T12:44:04.273Z"
   },
   {
    "duration": 97,
    "start_time": "2022-06-20T12:44:29.734Z"
   },
   {
    "duration": 218,
    "start_time": "2022-06-20T12:44:29.832Z"
   },
   {
    "duration": 774304,
    "start_time": "2022-06-20T12:44:30.052Z"
   },
   {
    "duration": 185,
    "start_time": "2022-06-20T12:57:24.358Z"
   },
   {
    "duration": 11,
    "start_time": "2022-06-20T12:57:24.544Z"
   },
   {
    "duration": 1627,
    "start_time": "2022-06-20T12:57:24.556Z"
   },
   {
    "duration": 4,
    "start_time": "2022-06-20T12:57:26.185Z"
   },
   {
    "duration": 186,
    "start_time": "2022-06-20T12:57:26.191Z"
   },
   {
    "duration": 51,
    "start_time": "2022-06-20T19:15:31.795Z"
   },
   {
    "duration": 1042,
    "start_time": "2022-06-20T19:15:48.447Z"
   },
   {
    "duration": 92,
    "start_time": "2022-06-20T19:15:49.491Z"
   },
   {
    "duration": 12,
    "start_time": "2022-06-20T19:15:49.585Z"
   },
   {
    "duration": 12,
    "start_time": "2022-06-20T19:15:49.599Z"
   },
   {
    "duration": 14,
    "start_time": "2022-06-20T19:15:49.613Z"
   },
   {
    "duration": 517,
    "start_time": "2022-06-20T19:15:49.628Z"
   },
   {
    "duration": 4,
    "start_time": "2022-06-20T19:15:50.147Z"
   },
   {
    "duration": 18,
    "start_time": "2022-06-20T19:15:50.153Z"
   },
   {
    "duration": 31,
    "start_time": "2022-06-20T19:15:50.173Z"
   },
   {
    "duration": 4,
    "start_time": "2022-06-20T19:15:50.206Z"
   },
   {
    "duration": 11,
    "start_time": "2022-06-20T19:15:50.212Z"
   },
   {
    "duration": 5,
    "start_time": "2022-06-20T19:15:50.225Z"
   },
   {
    "duration": 20,
    "start_time": "2022-06-20T19:15:50.232Z"
   },
   {
    "duration": 1367,
    "start_time": "2022-06-20T19:15:50.254Z"
   },
   {
    "duration": 27783,
    "start_time": "2022-06-20T19:15:51.623Z"
   },
   {
    "duration": 97,
    "start_time": "2022-06-20T19:16:19.408Z"
   },
   {
    "duration": 289,
    "start_time": "2022-06-20T19:16:19.506Z"
   },
   {
    "duration": 28152,
    "start_time": "2022-06-20T19:16:19.802Z"
   },
   {
    "duration": 2785,
    "start_time": "2022-06-20T19:16:47.956Z"
   },
   {
    "duration": 11,
    "start_time": "2022-06-20T19:16:50.743Z"
   },
   {
    "duration": 1718,
    "start_time": "2022-06-20T19:16:50.756Z"
   },
   {
    "duration": 4,
    "start_time": "2022-06-20T19:16:52.476Z"
   },
   {
    "duration": 199,
    "start_time": "2022-06-20T19:16:52.482Z"
   },
   {
    "duration": 246,
    "start_time": "2022-06-20T19:21:24.422Z"
   },
   {
    "duration": 8,
    "start_time": "2022-06-20T19:23:23.219Z"
   },
   {
    "duration": 4,
    "start_time": "2022-06-20T19:24:10.150Z"
   },
   {
    "duration": 80,
    "start_time": "2022-06-20T19:24:10.156Z"
   },
   {
    "duration": 21,
    "start_time": "2022-06-20T19:24:10.238Z"
   },
   {
    "duration": 14,
    "start_time": "2022-06-20T19:24:10.262Z"
   },
   {
    "duration": 24,
    "start_time": "2022-06-20T19:24:10.278Z"
   },
   {
    "duration": 164,
    "start_time": "2022-06-20T19:24:10.305Z"
   },
   {
    "duration": 5,
    "start_time": "2022-06-20T19:24:10.471Z"
   },
   {
    "duration": 15,
    "start_time": "2022-06-20T19:24:10.477Z"
   },
   {
    "duration": 59,
    "start_time": "2022-06-20T19:24:10.497Z"
   },
   {
    "duration": 4,
    "start_time": "2022-06-20T19:24:10.560Z"
   },
   {
    "duration": 11,
    "start_time": "2022-06-20T19:24:10.565Z"
   },
   {
    "duration": 6,
    "start_time": "2022-06-20T19:24:10.578Z"
   },
   {
    "duration": 4,
    "start_time": "2022-06-20T19:24:10.586Z"
   },
   {
    "duration": 1680,
    "start_time": "2022-06-20T19:24:10.597Z"
   },
   {
    "duration": 34347,
    "start_time": "2022-06-20T19:24:12.278Z"
   },
   {
    "duration": 84,
    "start_time": "2022-06-20T19:24:46.627Z"
   },
   {
    "duration": 216,
    "start_time": "2022-06-20T19:24:46.713Z"
   },
   {
    "duration": 35945,
    "start_time": "2022-06-20T19:24:46.934Z"
   },
   {
    "duration": 281,
    "start_time": "2022-06-20T19:25:22.882Z"
   },
   {
    "duration": 13,
    "start_time": "2022-06-20T19:25:23.165Z"
   },
   {
    "duration": 303,
    "start_time": "2022-06-20T19:25:23.180Z"
   },
   {
    "duration": 4,
    "start_time": "2022-06-20T19:25:23.484Z"
   },
   {
    "duration": 275,
    "start_time": "2022-06-20T19:25:23.495Z"
   },
   {
    "duration": 217,
    "start_time": "2022-06-20T19:40:35.762Z"
   },
   {
    "duration": 9,
    "start_time": "2022-06-20T19:41:06.795Z"
   },
   {
    "duration": 54,
    "start_time": "2022-06-20T19:41:06.811Z"
   },
   {
    "duration": 12,
    "start_time": "2022-06-20T19:41:06.867Z"
   },
   {
    "duration": 22,
    "start_time": "2022-06-20T19:41:06.880Z"
   },
   {
    "duration": 9,
    "start_time": "2022-06-20T19:41:06.904Z"
   },
   {
    "duration": 139,
    "start_time": "2022-06-20T19:41:06.916Z"
   },
   {
    "duration": 5,
    "start_time": "2022-06-20T19:41:07.056Z"
   },
   {
    "duration": 17,
    "start_time": "2022-06-20T19:41:07.063Z"
   },
   {
    "duration": 22,
    "start_time": "2022-06-20T19:41:07.094Z"
   },
   {
    "duration": 5,
    "start_time": "2022-06-20T19:41:07.118Z"
   },
   {
    "duration": 9,
    "start_time": "2022-06-20T19:41:07.125Z"
   },
   {
    "duration": 8,
    "start_time": "2022-06-20T19:41:07.136Z"
   },
   {
    "duration": 5,
    "start_time": "2022-06-20T19:41:07.145Z"
   },
   {
    "duration": 1536,
    "start_time": "2022-06-20T19:41:07.151Z"
   },
   {
    "duration": 30473,
    "start_time": "2022-06-20T19:41:08.693Z"
   },
   {
    "duration": 226,
    "start_time": "2022-06-20T19:41:39.168Z"
   },
   {
    "duration": 104,
    "start_time": "2022-06-20T19:41:39.397Z"
   },
   {
    "duration": 30575,
    "start_time": "2022-06-20T19:41:39.503Z"
   },
   {
    "duration": 208,
    "start_time": "2022-06-20T19:42:10.079Z"
   },
   {
    "duration": 18,
    "start_time": "2022-06-20T19:42:10.294Z"
   },
   {
    "duration": 251,
    "start_time": "2022-06-20T19:42:10.315Z"
   },
   {
    "duration": 4,
    "start_time": "2022-06-20T19:42:10.568Z"
   },
   {
    "duration": 52880,
    "start_time": "2022-06-20T19:42:10.574Z"
   },
   {
    "duration": 200,
    "start_time": "2022-06-20T19:43:03.457Z"
   },
   {
    "duration": 14,
    "start_time": "2022-06-20T20:11:41.859Z"
   },
   {
    "duration": 4,
    "start_time": "2022-06-20T20:11:45.275Z"
   },
   {
    "duration": 54,
    "start_time": "2022-06-20T20:11:45.286Z"
   },
   {
    "duration": 11,
    "start_time": "2022-06-20T20:11:45.342Z"
   },
   {
    "duration": 14,
    "start_time": "2022-06-20T20:11:45.355Z"
   },
   {
    "duration": 6,
    "start_time": "2022-06-20T20:11:45.371Z"
   },
   {
    "duration": 142,
    "start_time": "2022-06-20T20:11:45.395Z"
   },
   {
    "duration": 5,
    "start_time": "2022-06-20T20:11:45.539Z"
   },
   {
    "duration": 19,
    "start_time": "2022-06-20T20:11:45.545Z"
   },
   {
    "duration": 34,
    "start_time": "2022-06-20T20:11:45.566Z"
   },
   {
    "duration": 6,
    "start_time": "2022-06-20T20:11:45.608Z"
   },
   {
    "duration": 10,
    "start_time": "2022-06-20T20:11:45.617Z"
   },
   {
    "duration": 6,
    "start_time": "2022-06-20T20:11:45.629Z"
   },
   {
    "duration": 5,
    "start_time": "2022-06-20T20:11:45.637Z"
   },
   {
    "duration": 1529,
    "start_time": "2022-06-20T20:11:45.644Z"
   },
   {
    "duration": 31297,
    "start_time": "2022-06-20T20:11:47.176Z"
   },
   {
    "duration": 134,
    "start_time": "2022-06-20T20:12:18.475Z"
   },
   {
    "duration": 237,
    "start_time": "2022-06-20T20:12:18.696Z"
   },
   {
    "duration": 29029,
    "start_time": "2022-06-20T20:12:18.938Z"
   },
   {
    "duration": 195,
    "start_time": "2022-06-20T20:12:47.969Z"
   },
   {
    "duration": 14,
    "start_time": "2022-06-20T20:12:48.165Z"
   },
   {
    "duration": 322,
    "start_time": "2022-06-20T20:12:48.180Z"
   },
   {
    "duration": 5,
    "start_time": "2022-06-20T20:12:48.503Z"
   },
   {
    "duration": 72263,
    "start_time": "2022-06-20T20:12:48.509Z"
   },
   {
    "duration": 204,
    "start_time": "2022-06-20T20:14:00.773Z"
   },
   {
    "duration": 125,
    "start_time": "2022-06-20T20:36:25.047Z"
   },
   {
    "duration": 134,
    "start_time": "2022-06-20T20:37:08.432Z"
   },
   {
    "duration": 4,
    "start_time": "2022-06-20T20:37:21.257Z"
   },
   {
    "duration": 48,
    "start_time": "2022-06-20T20:37:21.285Z"
   },
   {
    "duration": 12,
    "start_time": "2022-06-20T20:37:21.335Z"
   },
   {
    "duration": 17,
    "start_time": "2022-06-20T20:37:21.349Z"
   },
   {
    "duration": 6,
    "start_time": "2022-06-20T20:37:21.367Z"
   },
   {
    "duration": 135,
    "start_time": "2022-06-20T20:37:21.375Z"
   },
   {
    "duration": 4,
    "start_time": "2022-06-20T20:37:21.512Z"
   },
   {
    "duration": 17,
    "start_time": "2022-06-20T20:37:21.518Z"
   },
   {
    "duration": 29,
    "start_time": "2022-06-20T20:37:21.537Z"
   },
   {
    "duration": 4,
    "start_time": "2022-06-20T20:37:21.567Z"
   },
   {
    "duration": 27,
    "start_time": "2022-06-20T20:37:21.572Z"
   },
   {
    "duration": 9,
    "start_time": "2022-06-20T20:37:21.601Z"
   },
   {
    "duration": 8,
    "start_time": "2022-06-20T20:37:21.612Z"
   },
   {
    "duration": 1397,
    "start_time": "2022-06-20T20:37:21.621Z"
   },
   {
    "duration": 29294,
    "start_time": "2022-06-20T20:37:23.021Z"
   },
   {
    "duration": 83,
    "start_time": "2022-06-20T20:37:52.317Z"
   },
   {
    "duration": 205,
    "start_time": "2022-06-20T20:37:52.402Z"
   },
   {
    "duration": 28617,
    "start_time": "2022-06-20T20:37:52.609Z"
   },
   {
    "duration": 194,
    "start_time": "2022-06-20T20:38:21.228Z"
   },
   {
    "duration": 14,
    "start_time": "2022-06-20T20:38:21.424Z"
   },
   {
    "duration": 320,
    "start_time": "2022-06-20T20:38:21.439Z"
   },
   {
    "duration": 4,
    "start_time": "2022-06-20T20:38:21.761Z"
   },
   {
    "duration": 66829,
    "start_time": "2022-06-20T20:38:21.767Z"
   },
   {
    "duration": 134,
    "start_time": "2022-06-20T20:39:28.598Z"
   },
   {
    "duration": 47,
    "start_time": "2022-06-20T20:39:28.733Z"
   },
   {
    "duration": 13,
    "start_time": "2022-06-20T20:47:24.300Z"
   },
   {
    "duration": 4,
    "start_time": "2022-06-20T20:47:29.882Z"
   },
   {
    "duration": 47,
    "start_time": "2022-06-20T20:47:29.910Z"
   },
   {
    "duration": 12,
    "start_time": "2022-06-20T20:47:29.959Z"
   },
   {
    "duration": 13,
    "start_time": "2022-06-20T20:47:29.973Z"
   },
   {
    "duration": 9,
    "start_time": "2022-06-20T20:47:29.988Z"
   },
   {
    "duration": 157,
    "start_time": "2022-06-20T20:47:30.000Z"
   },
   {
    "duration": 5,
    "start_time": "2022-06-20T20:47:30.160Z"
   },
   {
    "duration": 27,
    "start_time": "2022-06-20T20:47:30.167Z"
   },
   {
    "duration": 29,
    "start_time": "2022-06-20T20:47:30.196Z"
   },
   {
    "duration": 4,
    "start_time": "2022-06-20T20:47:30.228Z"
   },
   {
    "duration": 22,
    "start_time": "2022-06-20T20:47:30.234Z"
   },
   {
    "duration": 13,
    "start_time": "2022-06-20T20:47:30.259Z"
   },
   {
    "duration": 5,
    "start_time": "2022-06-20T20:47:30.274Z"
   },
   {
    "duration": 1377,
    "start_time": "2022-06-20T20:47:30.281Z"
   },
   {
    "duration": 27969,
    "start_time": "2022-06-20T20:47:31.662Z"
   },
   {
    "duration": 69,
    "start_time": "2022-06-20T20:47:59.633Z"
   },
   {
    "duration": 201,
    "start_time": "2022-06-20T20:47:59.794Z"
   },
   {
    "duration": 28077,
    "start_time": "2022-06-20T20:48:00.004Z"
   },
   {
    "duration": 193,
    "start_time": "2022-06-20T20:48:28.083Z"
   },
   {
    "duration": 23,
    "start_time": "2022-06-20T20:48:28.278Z"
   },
   {
    "duration": 241,
    "start_time": "2022-06-20T20:48:28.302Z"
   },
   {
    "duration": 5,
    "start_time": "2022-06-20T20:48:28.545Z"
   },
   {
    "duration": 48126,
    "start_time": "2022-06-20T20:48:28.552Z"
   },
   {
    "duration": 128,
    "start_time": "2022-06-20T20:49:16.680Z"
   },
   {
    "duration": 51,
    "start_time": "2022-06-20T20:49:16.809Z"
   },
   {
    "duration": 164,
    "start_time": "2022-06-20T20:50:59.817Z"
   },
   {
    "duration": 16,
    "start_time": "2022-06-20T20:54:31.127Z"
   },
   {
    "duration": 3,
    "start_time": "2022-06-20T20:54:37.403Z"
   },
   {
    "duration": 47,
    "start_time": "2022-06-20T20:54:37.426Z"
   },
   {
    "duration": 11,
    "start_time": "2022-06-20T20:54:37.475Z"
   },
   {
    "duration": 12,
    "start_time": "2022-06-20T20:54:37.488Z"
   },
   {
    "duration": 5,
    "start_time": "2022-06-20T20:54:37.502Z"
   },
   {
    "duration": 116,
    "start_time": "2022-06-20T20:54:37.510Z"
   },
   {
    "duration": 5,
    "start_time": "2022-06-20T20:54:37.628Z"
   },
   {
    "duration": 13,
    "start_time": "2022-06-20T20:54:37.635Z"
   },
   {
    "duration": 18,
    "start_time": "2022-06-20T20:54:37.650Z"
   },
   {
    "duration": 7,
    "start_time": "2022-06-20T20:54:37.669Z"
   },
   {
    "duration": 22,
    "start_time": "2022-06-20T20:54:37.677Z"
   },
   {
    "duration": 8,
    "start_time": "2022-06-20T20:54:37.701Z"
   },
   {
    "duration": 13,
    "start_time": "2022-06-20T20:54:37.710Z"
   },
   {
    "duration": 1363,
    "start_time": "2022-06-20T20:54:37.724Z"
   },
   {
    "duration": 27582,
    "start_time": "2022-06-20T20:54:39.093Z"
   },
   {
    "duration": 46,
    "start_time": "2022-06-20T20:55:06.677Z"
   },
   {
    "duration": 199,
    "start_time": "2022-06-20T20:55:06.796Z"
   },
   {
    "duration": 27660,
    "start_time": "2022-06-20T20:55:06.998Z"
   },
   {
    "duration": 181,
    "start_time": "2022-06-20T20:55:34.661Z"
   },
   {
    "duration": 14,
    "start_time": "2022-06-20T20:55:34.844Z"
   },
   {
    "duration": 324,
    "start_time": "2022-06-20T20:55:34.860Z"
   },
   {
    "duration": 8,
    "start_time": "2022-06-20T20:55:35.186Z"
   },
   {
    "duration": 65346,
    "start_time": "2022-06-20T20:55:35.196Z"
   },
   {
    "duration": 222,
    "start_time": "2022-06-20T20:56:40.544Z"
   },
   {
    "duration": 13,
    "start_time": "2022-06-20T20:58:23.118Z"
   },
   {
    "duration": 4,
    "start_time": "2022-06-20T20:58:27.166Z"
   },
   {
    "duration": 58,
    "start_time": "2022-06-20T20:58:27.175Z"
   },
   {
    "duration": 13,
    "start_time": "2022-06-20T20:58:27.235Z"
   },
   {
    "duration": 13,
    "start_time": "2022-06-20T20:58:27.250Z"
   },
   {
    "duration": 6,
    "start_time": "2022-06-20T20:58:27.264Z"
   },
   {
    "duration": 149,
    "start_time": "2022-06-20T20:58:27.272Z"
   },
   {
    "duration": 5,
    "start_time": "2022-06-20T20:58:27.422Z"
   },
   {
    "duration": 15,
    "start_time": "2022-06-20T20:58:27.429Z"
   },
   {
    "duration": 18,
    "start_time": "2022-06-20T20:58:27.446Z"
   },
   {
    "duration": 3,
    "start_time": "2022-06-20T20:58:27.466Z"
   },
   {
    "duration": 14,
    "start_time": "2022-06-20T20:58:27.493Z"
   },
   {
    "duration": 11,
    "start_time": "2022-06-20T20:58:27.508Z"
   },
   {
    "duration": 5,
    "start_time": "2022-06-20T20:58:27.521Z"
   },
   {
    "duration": 1491,
    "start_time": "2022-06-20T20:58:27.528Z"
   },
   {
    "duration": 30597,
    "start_time": "2022-06-20T20:58:29.022Z"
   },
   {
    "duration": 83,
    "start_time": "2022-06-20T20:58:59.621Z"
   },
   {
    "duration": 194,
    "start_time": "2022-06-20T20:58:59.707Z"
   },
   {
    "duration": 29206,
    "start_time": "2022-06-20T20:58:59.902Z"
   },
   {
    "duration": 187,
    "start_time": "2022-06-20T20:59:29.110Z"
   },
   {
    "duration": 11,
    "start_time": "2022-06-20T20:59:29.298Z"
   },
   {
    "duration": 270,
    "start_time": "2022-06-20T20:59:29.311Z"
   },
   {
    "duration": 4,
    "start_time": "2022-06-20T20:59:29.582Z"
   },
   {
    "duration": 48106,
    "start_time": "2022-06-20T20:59:29.588Z"
   },
   {
    "duration": 179,
    "start_time": "2022-06-20T21:00:17.696Z"
   }
  ],
  "kernelspec": {
   "display_name": "Python 3 (ipykernel)",
   "language": "python",
   "name": "python3"
  },
  "language_info": {
   "codemirror_mode": {
    "name": "ipython",
    "version": 3
   },
   "file_extension": ".py",
   "mimetype": "text/x-python",
   "name": "python",
   "nbconvert_exporter": "python",
   "pygments_lexer": "ipython3",
   "version": "3.9.5"
  },
  "toc": {
   "base_numbering": 1,
   "nav_menu": {},
   "number_sections": true,
   "sideBar": true,
   "skip_h1_title": true,
   "title_cell": "Содержание",
   "title_sidebar": "Contents",
   "toc_cell": true,
   "toc_position": {},
   "toc_section_display": true,
   "toc_window_display": true
  }
 },
 "nbformat": 4,
 "nbformat_minor": 2
}
